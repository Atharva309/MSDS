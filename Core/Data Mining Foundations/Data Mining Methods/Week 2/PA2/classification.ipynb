{
 "cells": [
  {
   "cell_type": "markdown",
   "id": "7b19b53a",
   "metadata": {
    "deletable": false,
    "editable": false,
    "nbgrader": {
     "cell_type": "markdown",
     "checksum": "462e84dce6cc59da8cf692c7afb947fb",
     "grade": false,
     "grade_id": "cell-9e982d5757397d17",
     "locked": true,
     "schema_version": 3,
     "solution": false,
     "task": false
    }
   },
   "source": [
    "## Homework 2 -  Classification\n",
    "***\n",
    "**Name**: $<$insert name here$>$ \n",
    "***\n",
    "\n",
    "Remember that you are encouraged to discuss the problems with your instructors and classmates, but **you must write all code and solutions on your own**."
   ]
  },
  {
   "cell_type": "markdown",
   "id": "487de7e0",
   "metadata": {
    "deletable": false,
    "editable": false,
    "nbgrader": {
     "cell_type": "markdown",
     "checksum": "1b8b5fbebe15adffeb7e4ffb348dd312",
     "grade": false,
     "grade_id": "cell-9c14fe8b7cedca4b",
     "locked": true,
     "schema_version": 3,
     "solution": false,
     "task": false
    }
   },
   "source": [
    "The rules to be followed for the assignment are:\n",
    "\n",
    "- Do **NOT** load additional packages beyond what we've shared in the cells below.\n",
    "- Some problems with code may be autograded.  If we provide a function or class API **do not** change it.\n",
    "- Do not change the location of the data or data directory.  Use only relative paths to access the data."
   ]
  },
  {
   "cell_type": "code",
   "execution_count": 15,
   "id": "1acd603f",
   "metadata": {
    "deletable": false,
    "editable": false,
    "nbgrader": {
     "cell_type": "code",
     "checksum": "01007295310f323658ea09500447eb71",
     "grade": false,
     "grade_id": "cell-45d9e7721034be56",
     "locked": true,
     "schema_version": 3,
     "solution": false,
     "task": false
    }
   },
   "outputs": [],
   "source": [
    "import argparse\n",
    "import pandas as pd\n",
    "import numpy as np\n",
    "import pickle\n",
    "from pathlib import Path\n",
    "from collections import defaultdict"
   ]
  },
  {
   "cell_type": "markdown",
   "id": "3ba18a1f",
   "metadata": {
    "deletable": false,
    "editable": false,
    "nbgrader": {
     "cell_type": "markdown",
     "checksum": "c5dc56ea000a733dd06e37d48b9a16fd",
     "grade": false,
     "grade_id": "cell-af752c2b34428286",
     "locked": true,
     "schema_version": 3,
     "solution": false,
     "task": false
    }
   },
   "source": [
    "### [10 points] Problem 1 - Building a Decision Tree\n",
    "***\n",
    "\n",
    "A sample dataset has been provided to you in the './data/dataset.csv' path. Here are the attributes for the dataset. Use this dataset to test your functions.\n",
    "\n",
    "- Age - [\"<=30\", \"31-40\", \">40\"]\n",
    "- Income - [\"low\", \"medium\", \"high\"]\n",
    "- Student - [\"no\", \"yes\"]\n",
    "- Credit Rating - [\"fair\", \"excellent\"]\n",
    "- Loan - [\"no\", \"yes\"]\n",
    "\n",
    "Note:\n",
    "- A sample dataset to test your code has been provided in the location \"data/dataset.csv\". Please maintain this as it would be necessary while grading.\n",
    "- Do not change the variable names of the returned values.\n",
    "- After calculating each of those values, assign them to the corresponding value that is being returned.\n",
    "- The \"Loan\" attribute should be used as the target variable while making calculations for your decision tree."
   ]
  },
  {
   "cell_type": "code",
   "execution_count": 24,
   "id": "7b5045b3",
   "metadata": {
    "deletable": false,
    "nbgrader": {
     "cell_type": "code",
     "checksum": "a300bd3e85f8415dc5459f67a071a47a",
     "grade": false,
     "grade_id": "cell-61181ec0d8dd26b7",
     "locked": false,
     "schema_version": 3,
     "solution": true,
     "task": false
    }
   },
   "outputs": [
    {
     "data": {
      "text/plain": [
       "-2.417706237779429"
      ]
     },
     "execution_count": 24,
     "metadata": {},
     "output_type": "execute_result"
    }
   ],
   "source": [
    "## THIS IS CORRECT IF CHANGED GRADE WILL CHANGE FROM 15/20 TO 10/20\n",
    "\n",
    "import math\n",
    "import pandas as pd\n",
    "\n",
    "def information_gain_target(dataset_file): \n",
    "    \n",
    "#        Input: dataset_file - A string variable which references the path to the dataset file.\n",
    "#        Output: ig_loan - A floating point variable which holds the information entropy associated with the target variable.\n",
    "#        \n",
    "#        NOTE: \n",
    "#        1. Return the information gain associated with the target variable in the dataset.\n",
    "#        2. The Loan attribute is the target variable\n",
    "#        3. The pandas dataframe has the following attributes: Age, Income, Student, Credit Rating, Loan\n",
    "#        4. Perform your calculations for information gain and assign it to the variable ig_loan\n",
    "\n",
    "\n",
    "# TARGET VARIABLE IS THE LOAN ATTRIBUTE\n",
    "# Information gain is Gain(A) = Info(D) - Info subsetA (D)\n",
    "\n",
    "    df = pd.read_csv(dataset_file)\n",
    "    ig_loan = 0\n",
    "    \n",
    "    # your code here\n",
    "    target_attribute = 'Loan'\n",
    "    \n",
    "    # Calculate the total entropy of the target variable\n",
    "    total_records = len(df)\n",
    "    loan_counts = df[target_attribute].value_counts()\n",
    "    loan_probabilities = loan_counts / total_records\n",
    "    loan_entropy = sum([-p * math.log2(p) for p in loan_probabilities])\n",
    "\n",
    "    # Calculate the information gain for each attribute\n",
    "    attribute_columns = df.columns[:-1]  # Exclude the target variable column\n",
    "    attribute_entropies = []\n",
    "\n",
    "    for attribute in attribute_columns:\n",
    "        attribute_values = df[attribute].unique()\n",
    "        attribute_entropy = 0\n",
    "\n",
    "        for value in attribute_values:\n",
    "            subset = df[df[attribute] == value]\n",
    "            subset_records = len(subset)\n",
    "            subset_loan_counts = subset[target_attribute].value_counts()\n",
    "            subset_loan_probabilities = subset_loan_counts / subset_records\n",
    "            subset_loan_entropy = sum([-p * math.log2(p) for p in subset_loan_probabilities])\n",
    "\n",
    "            attribute_entropy += (subset_records / total_records) * subset_loan_entropy\n",
    "\n",
    "        attribute_entropies.append(attribute_entropy)\n",
    "\n",
    "    # Calculate the information gain for the target variable\n",
    "    ig_loan = loan_entropy - sum(attribute_entropies)\n",
    "    \n",
    "    return ig_loan\n",
    "\n",
    "\n",
    "information_gain_target('data/dataset.csv')"
   ]
  },
  {
   "cell_type": "code",
   "execution_count": 25,
   "id": "c5f5a63b",
   "metadata": {
    "deletable": false,
    "editable": false,
    "nbgrader": {
     "cell_type": "code",
     "checksum": "4abccde1bb451cbd38c84288ac51b23c",
     "grade": true,
     "grade_id": "cell-831583db0fac12a6",
     "locked": true,
     "points": 5,
     "schema_version": 3,
     "solution": false,
     "task": false
    }
   },
   "outputs": [],
   "source": [
    "\n",
    "# This cell has hidden test cases that will run after you submit your assignment. \n"
   ]
  },
  {
   "cell_type": "code",
   "execution_count": 26,
   "id": "f120ecf6",
   "metadata": {
    "deletable": false,
    "editable": false,
    "nbgrader": {
     "cell_type": "code",
     "checksum": "f18214f9c165a7a62c9ec06f898e46d2",
     "grade": false,
     "grade_id": "cell-2d91bfae58ea0c8e",
     "locked": true,
     "schema_version": 3,
     "solution": false,
     "task": false
    }
   },
   "outputs": [],
   "source": [
    "attribute_values = {\n",
    "    \"Age\": [\"<=30\", \"31-40\", \">40\"],\n",
    "    \"Income\": [\"low\", \"medium\", \"high\"],\n",
    "    \"Student\": [\"yes\", \"no\"],\n",
    "    \"Credit Rating\": [\"fair\", \"excellent\"]\n",
    "}\n",
    "\n",
    "attributes = [\"Age\", \"Income\", \"Student\", \"Credit Rating\"]"
   ]
  },
  {
   "cell_type": "code",
   "execution_count": 27,
   "id": "597d9fc4",
   "metadata": {
    "deletable": false,
    "nbgrader": {
     "cell_type": "code",
     "checksum": "77bbcd26dcf0274a70d84565e82683c9",
     "grade": false,
     "grade_id": "cell-dbd31d0b008467ae",
     "locked": false,
     "schema_version": 3,
     "solution": true,
     "task": false
    }
   },
   "outputs": [
    {
     "data": {
      "text/plain": [
       "0.8812908992306927"
      ]
     },
     "execution_count": 27,
     "metadata": {},
     "output_type": "execute_result"
    }
   ],
   "source": [
    "import math\n",
    "\n",
    "def information_gain(p_count_yes, p_count_no):\n",
    "    # Input: p_count_yes - Number of instances with target value 'yes'\n",
    "    #        p_count_no - Number of instances with target value 'no'\n",
    "    # Output: ig - Information gain value\n",
    "    \n",
    "    total_count = p_count_yes + p_count_no\n",
    "    p_yes = p_count_yes / total_count\n",
    "    p_no = p_count_no / total_count\n",
    "\n",
    "    if p_yes == 0 or p_no == 0:\n",
    "        return 0\n",
    "\n",
    "    ig = -(p_yes * math.log2(p_yes)) - (p_no * math.log2(p_no))\n",
    "\n",
    "    return ig\n",
    "\n",
    "\n",
    "information_gain(30, 70)"
   ]
  },
  {
   "cell_type": "code",
   "execution_count": 20,
   "id": "24ba7db2",
   "metadata": {
    "deletable": false,
    "nbgrader": {
     "cell_type": "code",
     "checksum": "c985845505f6d46268dcfcf6284d88ce",
     "grade": false,
     "grade_id": "cell-540b05dbe445a68b",
     "locked": false,
     "schema_version": 3,
     "solution": true,
     "task": false
    }
   },
   "outputs": [
    {
     "data": {
      "text/plain": [
       "{'ig_attributes': {'Age': -3.1548960810227786,\n",
       "  'Income': -3.3844700395364007,\n",
       "  'Student': -3.2011591278514215,\n",
       "  'Credit Rating': -3.32504974601998},\n",
       " 'best_attribute': 'Age'}"
      ]
     },
     "execution_count": 20,
     "metadata": {},
     "output_type": "execute_result"
    }
   ],
   "source": [
    "import operator\n",
    "\n",
    "def information_gain_attributes(dataset_file, ig_loan, attributes, attribute_values):\n",
    "    results = {\n",
    "        \"ig_attributes\": {\n",
    "            \"Age\": 0,\n",
    "            \"Income\": 0,\n",
    "            \"Student\": 0,\n",
    "            \"Credit Rating\": 0\n",
    "        },\n",
    "        \"best_attribute\": \"\"\n",
    "    }\n",
    "\n",
    "    df = pd.read_csv(dataset_file)\n",
    "    d_range = len(df)\n",
    "\n",
    "    for attribute in attributes:\n",
    "        ig_attribute = 0\n",
    "        value_counts = dict()\n",
    "        vcount = df[attribute].value_counts()\n",
    "        for att_value in attribute_values[attribute]:\n",
    "            # YOUR CODE HERE\n",
    "            count_yes = df.loc[(df[attribute] == att_value) & (df[\"Loan\"] == \"yes\")].shape[0]\n",
    "            count_no = df.loc[(df[attribute] == att_value) & (df[\"Loan\"] == \"no\")].shape[0]\n",
    "            total_count = count_yes + count_no\n",
    "            p_att_value = total_count / d_range\n",
    "            p_count_yes = count_yes / total_count if total_count != 0 else 0\n",
    "            p_count_no = count_no / total_count if total_count != 0 else 0\n",
    "            value_counts[att_value] = total_count\n",
    "            ig_attribute += p_att_value * information_gain(p_count_yes, p_count_no)\n",
    "\n",
    "        results[\"ig_attributes\"][attribute] = ig_loan - ig_attribute\n",
    "\n",
    "    results[\"best_attribute\"] = max(results[\"ig_attributes\"].items(), key=operator.itemgetter(1))[0]\n",
    "    return results\n",
    "\n",
    "\n",
    "\n",
    "information_gain_attributes(\"data/dataset.csv\", -2.417, attributes, attribute_values)\n"
   ]
  },
  {
   "cell_type": "code",
   "execution_count": 21,
   "id": "0ec4dae4",
   "metadata": {
    "deletable": false,
    "editable": false,
    "nbgrader": {
     "cell_type": "code",
     "checksum": "e22399a14e54fc2a36a46cce5fb475e5",
     "grade": true,
     "grade_id": "cell-dd2742d4c14f088e",
     "locked": true,
     "points": 5,
     "schema_version": 3,
     "solution": false,
     "task": false
    }
   },
   "outputs": [],
   "source": [
    "\n",
    "# This cell has hidden test cases that will run after you submit your assignment. \n"
   ]
  },
  {
   "cell_type": "markdown",
   "id": "c9b3812e",
   "metadata": {
    "deletable": false,
    "editable": false,
    "nbgrader": {
     "cell_type": "markdown",
     "checksum": "37c9c814aef3c2a4651202ceab883888",
     "grade": false,
     "grade_id": "cell-d02bc39e9c144563",
     "locked": true,
     "schema_version": 3,
     "solution": false,
     "task": false
    }
   },
   "source": [
    "### [10 points] Problem 2 - Building a Naive Bayes Classifier\n",
    "***\n",
    "\n",
    "A sample dataset has been provided to you in the './data/dataset.csv' path. Here are the attributes for the dataset. Use this dataset to test your functions.\n",
    "\n",
    "- Age - [\"<=30\", \"31-40\", \">40\"]\n",
    "- Income - [\"low\", \"medium\", \"high\"]\n",
    "- Student - [\"no\", \"yes\"]\n",
    "- Credit Rating - [\"fair\", \"excellent\"]\n",
    "- Loan - [\"no\", \"yes\"]\n",
    "\n",
    "Note:\n",
    "- A sample dataset to test your code has been provided in the location \"data/dataset.csv\". Please maintain this as it would be necessary while grading.\n",
    "- Do not change the variable names of the returned values.\n",
    "- After calculating each of those values, assign them to the corresponding value that is being returned.\n",
    "- The \"Loan\" attribute should be used as the target variable while making calculations for your naive bayes classifier."
   ]
  },
  {
   "cell_type": "code",
   "execution_count": 22,
   "id": "947e7638",
   "metadata": {
    "deletable": false,
    "nbgrader": {
     "cell_type": "code",
     "checksum": "d97b494935c0320f275b19a7d90543c4",
     "grade": false,
     "grade_id": "cell-0d7104243d876943",
     "locked": false,
     "schema_version": 3,
     "solution": true,
     "task": false
    }
   },
   "outputs": [
    {
     "data": {
      "text/plain": [
       "{'Age': {'<=30': {'yes': 0.2857142857142857, 'no': 0.6},\n",
       "  '31-40': {'yes': 0.42857142857142855, 'no': 0.0},\n",
       "  '>40': {'yes': 0.2857142857142857, 'no': 0.4}},\n",
       " 'Income': {'low': {'yes': 0.2857142857142857, 'no': 0.2},\n",
       "  'medium': {'yes': 0.42857142857142855, 'no': 0.4},\n",
       "  'high': {'yes': 0.2857142857142857, 'no': 0.4}},\n",
       " 'Student': {'yes': {'yes': 0.7142857142857143, 'no': 0.2},\n",
       "  'no': {'yes': 0.2857142857142857, 'no': 0.8}},\n",
       " 'Credit Rating': {'fair': {'yes': 0.7142857142857143, 'no': 0.4},\n",
       "  'excellent': {'yes': 0.2857142857142857, 'no': 0.6}},\n",
       " 'Loan': {'yes': 0.5833333333333334, 'no': 0.4166666666666667}}"
      ]
     },
     "execution_count": 22,
     "metadata": {},
     "output_type": "execute_result"
    }
   ],
   "source": [
    "from collections import defaultdict\n",
    "\n",
    "def naive_bayes(dataset_file, attributes, attribute_values):\n",
    "\n",
    "#   Input:\n",
    "#       1. dataset_file - A string variable which references the path to the dataset file.\n",
    "#       2. attributes - A python list which has all the attributes of the dataset\n",
    "#       3. attribute_values - A python dictionary representing the values each attribute can hold.\n",
    "#        \n",
    "#   Output: A probabilities dictionary which contains the values of when the input attribute is yes or no\n",
    "#       depending on the corresponding Loan attribute.\n",
    "#                \n",
    "#   Hint: Starter code has been provided to you to calculate the probabilities.\n",
    "\n",
    "    probabilities = {\n",
    "        \"Age\": { \"<=30\": {\"yes\": 0, \"no\": 0}, \"31-40\": {\"yes\": 0, \"no\": 0}, \">40\": {\"yes\": 0, \"no\": 0} },\n",
    "        \"Income\": { \"low\": {\"yes\": 0, \"no\": 0}, \"medium\": {\"yes\": 0, \"no\": 0}, \"high\": {\"yes\": 0, \"no\": 0}},\n",
    "        \"Student\": { \"yes\": {\"yes\": 0, \"no\": 0}, \"no\": {\"yes\": 0, \"no\": 0} },\n",
    "        \"Credit Rating\": { \"fair\": {\"yes\": 0, \"no\": 0}, \"excellent\": {\"yes\": 0, \"no\": 0} },\n",
    "        \"Loan\": {\"yes\": 0, \"no\": 0}\n",
    "    }\n",
    "    \n",
    "    df = pd.read_csv(dataset_file)\n",
    "    d_range = len(df)\n",
    "    \n",
    "    \n",
    "    vcount = df[\"Loan\"].value_counts()\n",
    "    vcount_loan_yes = vcount[\"yes\"]\n",
    "    vcount_loan_no = vcount[\"no\"]\n",
    "    \n",
    "    probabilities[\"Loan\"][\"yes\"] = vcount_loan_yes/d_range\n",
    "    probabilities[\"Loan\"][\"no\"] = vcount_loan_no/d_range\n",
    "    \n",
    "    for attribute in attributes:\n",
    "        value_counts = dict()\n",
    "        vcount = df[attribute].value_counts()\n",
    "        \n",
    "        for att_value in attribute_values[attribute]:    \n",
    "        # your code here\n",
    "\n",
    "            \n",
    "            \n",
    "            \n",
    "##### THIS CODE IS CORRECT - WHEN IT IS CHANGED SCORE GOES FROM 10/20 TO 0/20    \n",
    "        \n",
    "        \n",
    "            filtered_df_yes = df[df[\"Loan\"] == \"yes\"]\n",
    "            num_yes = len(filtered_df_yes[filtered_df_yes[attribute] == att_value])\n",
    "            filtered_range_yes = len(filtered_df_yes)\n",
    "            \n",
    "            filtered_df_no = df[df[\"Loan\"] == \"no\"]\n",
    "            num_no = len(filtered_df_no[filtered_df_no[attribute] == att_value])\n",
    "            filtered_range_no = len(filtered_df_no)\n",
    "            \n",
    "            \n",
    "            probabilities[attribute][att_value][\"yes\"] = num_yes/filtered_range_yes\n",
    "            probabilities[attribute][att_value][\"no\"] = num_no/filtered_range_no\n",
    "    \n",
    "    return probabilities\n",
    "\n",
    "naive_bayes(\"data/dataset.csv\", attributes, attribute_values)"
   ]
  },
  {
   "cell_type": "code",
   "execution_count": 11,
   "id": "30992e4b",
   "metadata": {
    "deletable": false,
    "editable": false,
    "nbgrader": {
     "cell_type": "code",
     "checksum": "c65d272ca5920fc09bf99a8c9b9d9ff4",
     "grade": true,
     "grade_id": "cell-1029d20562b90189",
     "locked": true,
     "points": 10,
     "schema_version": 3,
     "solution": false,
     "task": false
    }
   },
   "outputs": [],
   "source": [
    "\n",
    "# This cell has hidden test cases that will run after you submit your assignment. \n"
   ]
  },
  {
   "cell_type": "code",
   "execution_count": null,
   "id": "62f0ea07",
   "metadata": {},
   "outputs": [],
   "source": []
  },
  {
   "cell_type": "code",
   "execution_count": null,
   "id": "4bf4d77e",
   "metadata": {},
   "outputs": [],
   "source": []
  }
 ],
 "metadata": {
  "kernelspec": {
   "display_name": "Python 3 (ipykernel)",
   "language": "python",
   "name": "python3"
  },
  "language_info": {
   "codemirror_mode": {
    "name": "ipython",
    "version": 3
   },
   "file_extension": ".py",
   "mimetype": "text/x-python",
   "name": "python",
   "nbconvert_exporter": "python",
   "pygments_lexer": "ipython3",
   "version": "3.9.12"
  }
 },
 "nbformat": 4,
 "nbformat_minor": 5
}
