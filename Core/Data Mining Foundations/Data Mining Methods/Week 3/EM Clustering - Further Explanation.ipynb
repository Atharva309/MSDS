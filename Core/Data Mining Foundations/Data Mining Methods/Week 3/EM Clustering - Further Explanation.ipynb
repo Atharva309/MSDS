{
 "cells": [
  {
   "cell_type": "markdown",
   "id": "acd0753a",
   "metadata": {},
   "source": [
    "Let x be the value of a data point, \n",
    "let u and v be the mean and standard deviation of a Gaussian distribution, \n",
    "then the probability of x belonging to the Gaussian distribution is computed as \n",
    "f(x, u, v) = (1 / (v * sqrt(2 * 3.14))) * e^(-1/2 * ((x - u)/v)^2)\n",
    "\n",
    "Given 10 data points: [15, 6, 3, 2, 10, 16, 3, 5, 11, 10]\n",
    "and two initial clusters: [[2, 7], [12, 2]], \n",
    "where [2, 7] are the mean and standard deviation of the first cluster. \n",
    "\n",
    "E-step: compute the probability of each data point belonging to each cluster \n",
    "\n",
    "for each x, for each cluster (u, v), compute f(x, u, v): \n",
    "e.g., x = 15, cluster 1 (u = 2, v = 7), cluster 2 (u = 12, v = 2) \n",
    "probabilities p1 = f(15, 2, 7), p2 = f(15, 12, 2) \n",
    "\n",
    "normalize the probabilities: \n",
    "e.g., p1' = p1 / (p1 + p2), p2' = p2 / (p1 + p2) \n",
    "\n",
    "M-step: update the clusters (i.e., the u and v values) based on the probabilities \n",
    "of x belonging to each cluster \n",
    "\n",
    "u1' = weighted sum of x belonging to the first cluster \n",
    "e.g., 0.3 probability for 15 (x1), 0.5 probability for 6 (x2), ... \n",
    "u1' = (0.3 * 15 + 0.5 * 6 + ...) / (0.3 + 0.5 + ... ) \n",
    "v1' = updated standard deviation \n",
    "v1' = sqrt((0.3 * (15 - u1')^2 + 0.5 * (6 - u1')^2 + ...) / (0.3 + 0.5 + ...)) \n"
   ]
  }
 ],
 "metadata": {
  "kernelspec": {
   "display_name": "Python 3 (ipykernel)",
   "language": "python",
   "name": "python3"
  },
  "language_info": {
   "codemirror_mode": {
    "name": "ipython",
    "version": 3
   },
   "file_extension": ".py",
   "mimetype": "text/x-python",
   "name": "python",
   "nbconvert_exporter": "python",
   "pygments_lexer": "ipython3",
   "version": "3.9.12"
  }
 },
 "nbformat": 4,
 "nbformat_minor": 5
}
