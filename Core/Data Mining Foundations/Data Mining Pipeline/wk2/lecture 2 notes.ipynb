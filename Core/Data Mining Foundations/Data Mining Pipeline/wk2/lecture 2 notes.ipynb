{
 "cells": [
  {
   "cell_type": "markdown",
   "id": "562ee3a7",
   "metadata": {},
   "source": [
    "Given 1000 news articles, Alice and Bob each read 50 articles, and 10 of the articles they read are the same. What's the dissimilarity between Alice and Bob? \n",
    "\n",
    "Answer: (40 + 40) / 90 "
   ]
  },
  {
   "cell_type": "markdown",
   "id": "856c303b",
   "metadata": {},
   "source": [
    "For the online social media case study, think about what types of data you may have, what statistics and visualization may be useful, and how you can measure similarity for different types of attributes."
   ]
  }
 ],
 "metadata": {
  "kernelspec": {
   "display_name": "Python 3 (ipykernel)",
   "language": "python",
   "name": "python3"
  },
  "language_info": {
   "codemirror_mode": {
    "name": "ipython",
    "version": 3
   },
   "file_extension": ".py",
   "mimetype": "text/x-python",
   "name": "python",
   "nbconvert_exporter": "python",
   "pygments_lexer": "ipython3",
   "version": "3.9.12"
  }
 },
 "nbformat": 4,
 "nbformat_minor": 5
}
