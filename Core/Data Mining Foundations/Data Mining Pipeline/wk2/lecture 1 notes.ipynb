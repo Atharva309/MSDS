{
 "cells": [
  {
   "cell_type": "markdown",
   "id": "a346bf64",
   "metadata": {},
   "source": [
    "Can you think of another example of data objects? What attributes can they have? "
   ]
  },
  {
   "cell_type": "markdown",
   "id": "5689db5f",
   "metadata": {},
   "source": [
    "Given a dataset, what statistical information you may be able to ask about the dataset? "
   ]
  },
  {
   "cell_type": "markdown",
   "id": "28026616",
   "metadata": {},
   "source": [
    "Given a dataset with 1000 objects, attribute X has 100 unique values, and attribute Y has 200 unique values. How many points will be shown in the X-Y scatter plot? "
   ]
  }
 ],
 "metadata": {
  "kernelspec": {
   "display_name": "Python 3 (ipykernel)",
   "language": "python",
   "name": "python3"
  },
  "language_info": {
   "codemirror_mode": {
    "name": "ipython",
    "version": 3
   },
   "file_extension": ".py",
   "mimetype": "text/x-python",
   "name": "python",
   "nbconvert_exporter": "python",
   "pygments_lexer": "ipython3",
   "version": "3.9.12"
  }
 },
 "nbformat": 4,
 "nbformat_minor": 5
}
