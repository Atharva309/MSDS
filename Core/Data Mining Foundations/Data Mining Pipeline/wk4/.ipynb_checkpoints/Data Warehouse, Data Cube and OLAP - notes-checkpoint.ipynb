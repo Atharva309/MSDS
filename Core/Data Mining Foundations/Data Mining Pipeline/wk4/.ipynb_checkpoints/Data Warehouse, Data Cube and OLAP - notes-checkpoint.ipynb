{
 "cells": [
  {
   "cell_type": "markdown",
   "id": "1991c2e4",
   "metadata": {},
   "source": [
    "Consider e-commerce applications, what are supported for daily operations vs. decision making? "
   ]
  },
  {
   "cell_type": "markdown",
   "id": "d1e09d82",
   "metadata": {},
   "source": [
    "Consider e-commerce applications, how do OLTP and OLAP vary in terms of types of data, data scale, operations, end users, latency, etc.?"
   ]
  },
  {
   "cell_type": "markdown",
   "id": "e512591b",
   "metadata": {},
   "source": [
    "When choosing the threshold (minimum support), shall we start with a lower value or higher value? "
   ]
  },
  {
   "cell_type": "markdown",
   "id": "811cd307",
   "metadata": {},
   "source": [
    "Consider the problem of choosing the location for a new store in a city, what types of data sources may be leveraged? What other questions may be answered with the data you have? "
   ]
  },
  {
   "cell_type": "code",
   "execution_count": null,
   "id": "27d71134",
   "metadata": {},
   "outputs": [],
   "source": []
  }
 ],
 "metadata": {
  "kernelspec": {
   "display_name": "Python 3 (ipykernel)",
   "language": "python",
   "name": "python3"
  },
  "language_info": {
   "codemirror_mode": {
    "name": "ipython",
    "version": 3
   },
   "file_extension": ".py",
   "mimetype": "text/x-python",
   "name": "python",
   "nbconvert_exporter": "python",
   "pygments_lexer": "ipython3",
   "version": "3.9.12"
  }
 },
 "nbformat": 4,
 "nbformat_minor": 5
}
