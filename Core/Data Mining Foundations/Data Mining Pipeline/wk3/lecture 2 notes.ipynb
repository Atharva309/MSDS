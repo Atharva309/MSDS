{
 "cells": [
  {
   "cell_type": "markdown",
   "id": "b7596da7",
   "metadata": {},
   "source": [
    "Consider the problem of credit card fraud detection (or movie recommendation). Intuitively, what attributes may be useful? And what attributes may not be as useful?"
   ]
  },
  {
   "cell_type": "markdown",
   "id": "ed9205d2",
   "metadata": {},
   "source": [
    "Given individual users' driving data, what sampling methods may be suitable for what scenarios? "
   ]
  }
 ],
 "metadata": {
  "kernelspec": {
   "display_name": "Python 3 (ipykernel)",
   "language": "python",
   "name": "python3"
  },
  "language_info": {
   "codemirror_mode": {
    "name": "ipython",
    "version": 3
   },
   "file_extension": ".py",
   "mimetype": "text/x-python",
   "name": "python",
   "nbconvert_exporter": "python",
   "pygments_lexer": "ipython3",
   "version": "3.9.12"
  }
 },
 "nbformat": 4,
 "nbformat_minor": 5
}
