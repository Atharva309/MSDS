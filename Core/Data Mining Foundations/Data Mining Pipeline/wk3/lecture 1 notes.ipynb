{
 "cells": [
  {
   "cell_type": "markdown",
   "id": "7a18cb85",
   "metadata": {},
   "source": [
    "Can you think of some potential issues related to data quality? "
   ]
  },
  {
   "cell_type": "markdown",
   "id": "2340cf87",
   "metadata": {},
   "source": [
    "What can you do when you have incomplete data? What are some possible approaches? "
   ]
  },
  {
   "cell_type": "markdown",
   "id": "0e855b83",
   "metadata": {},
   "source": [
    "Can you think of an example of data integration? What entities may be considered? What information may be redundant or inconsistent? "
   ]
  },
  {
   "cell_type": "code",
   "execution_count": null,
   "id": "4c4afdfb",
   "metadata": {},
   "outputs": [],
   "source": []
  }
 ],
 "metadata": {
  "kernelspec": {
   "display_name": "Python 3 (ipykernel)",
   "language": "python",
   "name": "python3"
  },
  "language_info": {
   "codemirror_mode": {
    "name": "ipython",
    "version": 3
   },
   "file_extension": ".py",
   "mimetype": "text/x-python",
   "name": "python",
   "nbconvert_exporter": "python",
   "pygments_lexer": "ipython3",
   "version": "3.9.12"
  }
 },
 "nbformat": 4,
 "nbformat_minor": 5
}
