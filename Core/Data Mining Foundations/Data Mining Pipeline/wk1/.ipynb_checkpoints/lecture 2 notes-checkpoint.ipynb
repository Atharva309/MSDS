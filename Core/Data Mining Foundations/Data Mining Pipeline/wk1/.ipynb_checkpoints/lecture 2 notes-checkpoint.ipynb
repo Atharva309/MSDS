{
 "cells": [
  {
   "cell_type": "markdown",
   "id": "a596d2e6",
   "metadata": {},
   "source": [
    "What components do you think should be included in the data mining pipeline?  How should they be connected? "
   ]
  },
  {
   "cell_type": "markdown",
   "id": "30d3b1a1",
   "metadata": {},
   "source": [
    "Can you think of a specific data mining example that you may be interested in or have experience with? Can you describe it based on the data, application, knowledge, and technique views? "
   ]
  },
  {
   "cell_type": "markdown",
   "id": "14b6c138",
   "metadata": {},
   "source": [
    "Can you think of some specific issues that data mining techniques need to address? "
   ]
  },
  {
   "cell_type": "markdown",
   "id": "3ee5723b",
   "metadata": {},
   "source": [
    "Consider the data mining example that you came up earlier, are there specific ethics concerns that should be addressed?"
   ]
  },
  {
   "cell_type": "markdown",
   "id": "017035ce",
   "metadata": {},
   "source": [
    "## Peer-graded Assignment: Data Mining Issues"
   ]
  },
  {
   "cell_type": "markdown",
   "id": "bdf6a344",
   "metadata": {},
   "source": [
    "In this assignment, our goal is to explore some of the key issues that the data mining community is focusing on.  Please go to https://www.kdd.org, check out one recent KDD conference, browse through its program, and briefly summarize one data mining issue that you find to be interesting. Specifically, provide the URL of the corresponding webpage, describe what the data mining issue is about, and discuss whether it is related to specific types of data, application, knowledge, or technique.  "
   ]
  },
  {
   "cell_type": "code",
   "execution_count": null,
   "id": "ad5954e8",
   "metadata": {},
   "outputs": [],
   "source": []
  }
 ],
 "metadata": {
  "kernelspec": {
   "display_name": "Python 3 (ipykernel)",
   "language": "python",
   "name": "python3"
  },
  "language_info": {
   "codemirror_mode": {
    "name": "ipython",
    "version": 3
   },
   "file_extension": ".py",
   "mimetype": "text/x-python",
   "name": "python",
   "nbconvert_exporter": "python",
   "pygments_lexer": "ipython3",
   "version": "3.9.12"
  }
 },
 "nbformat": 4,
 "nbformat_minor": 5
}
