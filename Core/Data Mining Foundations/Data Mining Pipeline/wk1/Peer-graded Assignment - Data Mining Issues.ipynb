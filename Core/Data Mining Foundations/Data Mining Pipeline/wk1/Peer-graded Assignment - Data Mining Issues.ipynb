{
 "cells": [
  {
   "cell_type": "markdown",
   "id": "57e7ac1e",
   "metadata": {},
   "source": [
    "In this assignment, our goal is to explore some of the key issues that the data mining community is focusing on.  Please go to https://www.kdd.org, check out one recent KDD conference, browse through its program, and briefly summarize one data mining issue that you find to be interesting. Specifically, provide the URL of the corresponding webpage, describe what the data mining issue is about, and discuss whether it is related to specific types of data, application, knowledge, or technique.  "
   ]
  }
 ],
 "metadata": {
  "kernelspec": {
   "display_name": "Python 3 (ipykernel)",
   "language": "python",
   "name": "python3"
  },
  "language_info": {
   "codemirror_mode": {
    "name": "ipython",
    "version": 3
   },
   "file_extension": ".py",
   "mimetype": "text/x-python",
   "name": "python",
   "nbconvert_exporter": "python",
   "pygments_lexer": "ipython3",
   "version": "3.8.18"
  }
 },
 "nbformat": 4,
 "nbformat_minor": 5
}
