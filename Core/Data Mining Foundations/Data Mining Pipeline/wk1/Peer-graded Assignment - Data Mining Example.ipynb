{
 "cells": [
  {
   "cell_type": "markdown",
   "id": "5d15dcc2",
   "metadata": {},
   "source": [
    "Briefly describe one data mining problem that you may be interested in. Characterize it using the four views of data mining: data, application, knowledge, and technique.  "
   ]
  }
 ],
 "metadata": {
  "kernelspec": {
   "display_name": "Python 3 (ipykernel)",
   "language": "python",
   "name": "python3"
  },
  "language_info": {
   "codemirror_mode": {
    "name": "ipython",
    "version": 3
   },
   "file_extension": ".py",
   "mimetype": "text/x-python",
   "name": "python",
   "nbconvert_exporter": "python",
   "pygments_lexer": "ipython3",
   "version": "3.9.12"
  }
 },
 "nbformat": 4,
 "nbformat_minor": 5
}
