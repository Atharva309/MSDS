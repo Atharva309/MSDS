{
 "cells": [
  {
   "cell_type": "markdown",
   "id": "1564d6fb",
   "metadata": {},
   "source": [
    "Can you come up with one or two examples for each of the four views of data mining?  "
   ]
  },
  {
   "cell_type": "markdown",
   "id": "578ffa92",
   "metadata": {},
   "source": [
    "Can you think of some data that you have worked with or are interested in? What types of data are they? How do you characterize them using the different Vs?"
   ]
  },
  {
   "cell_type": "markdown",
   "id": "51bb7924",
   "metadata": {},
   "source": [
    "Can you think of one or two application scenarios that you are interested in and may benefit from data mining?"
   ]
  },
  {
   "cell_type": "markdown",
   "id": "ab72ef8d",
   "metadata": {},
   "source": [
    "Given the application(s) and data you have identified earlier, what would be some useful knowledge to discover through data mining?"
   ]
  },
  {
   "cell_type": "markdown",
   "id": "72292e0b",
   "metadata": {},
   "source": [
    "## Peer-graded Assignment: Data Mining Example"
   ]
  },
  {
   "cell_type": "markdown",
   "id": "78ac6453",
   "metadata": {},
   "source": [
    "Briefly describe one data mining problem that you may be interested in. Characterize it using the four views of data mining: data, application, knowledge, and technique.  "
   ]
  },
  {
   "cell_type": "code",
   "execution_count": null,
   "id": "ed8d9daa",
   "metadata": {},
   "outputs": [],
   "source": []
  }
 ],
 "metadata": {
  "kernelspec": {
   "display_name": "Python 3 (ipykernel)",
   "language": "python",
   "name": "python3"
  },
  "language_info": {
   "codemirror_mode": {
    "name": "ipython",
    "version": 3
   },
   "file_extension": ".py",
   "mimetype": "text/x-python",
   "name": "python",
   "nbconvert_exporter": "python",
   "pygments_lexer": "ipython3",
   "version": "3.9.12"
  }
 },
 "nbformat": 4,
 "nbformat_minor": 5
}
