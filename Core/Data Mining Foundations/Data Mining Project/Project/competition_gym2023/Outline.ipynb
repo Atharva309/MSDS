{
 "cells": [
  {
   "cell_type": "markdown",
   "id": "10a81b0c",
   "metadata": {},
   "source": [
    "1. Who are the top 10 best gymnast on each apparatus for usa\n",
    "2. Top gymnast on each apparatus in world\n",
    "3. how usa compares to others\n",
    "4. "
   ]
  },
  {
   "cell_type": "markdown",
   "id": "d8681789",
   "metadata": {},
   "source": [
    "what makes a taem the best?\n",
    "- if tv viewers then team competition is \"the best\"\n",
    "\n"
   ]
  },
  {
   "cell_type": "code",
   "execution_count": null,
   "id": "70a04ce3",
   "metadata": {},
   "outputs": [],
   "source": []
  }
 ],
 "metadata": {
  "kernelspec": {
   "display_name": "Python 3 (ipykernel)",
   "language": "python",
   "name": "python3"
  },
  "language_info": {
   "codemirror_mode": {
    "name": "ipython",
    "version": 3
   },
   "file_extension": ".py",
   "mimetype": "text/x-python",
   "name": "python",
   "nbconvert_exporter": "python",
   "pygments_lexer": "ipython3",
   "version": "3.9.12"
  }
 },
 "nbformat": 4,
 "nbformat_minor": 5
}
