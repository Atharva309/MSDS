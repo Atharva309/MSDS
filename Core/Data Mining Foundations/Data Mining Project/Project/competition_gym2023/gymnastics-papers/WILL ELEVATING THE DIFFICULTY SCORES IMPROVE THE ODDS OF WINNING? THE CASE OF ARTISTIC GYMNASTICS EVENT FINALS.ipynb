{
 "cells": [
  {
   "cell_type": "markdown",
   "id": "88aed190",
   "metadata": {},
   "source": [
    "# WILL ELEVATING THE DIFFICULTY SCORES IMPROVE THE ODDS OF WINNING? THE CASE OF ARTISTIC GYMNASTICS EVENT FINALS\n",
    "\n",
    "Key Findings:\n",
    "\n",
    "- The study found that there were significant differences in D scores between the QR and EF for both male and female gymnasts across all apparatus.\n",
    "- F scores in the EF were notably lower than those in the QR for men's pommel horse (PH), horizontal bar (HB), and women's balance beam (BB) and floor exercise (WFX) events.\n",
    "- Elevating D scores in the EF of PH, HB, and WFX was associated with a significantly improved chance of winning a medal.\n",
    "- The study's findings provide insights into the differences in D scores and the odds of winning a medal in the EF compared to the QR.\n",
    "- The study represents the first of its kind to compare gymnast performance between the QR and EF and offers valuable information for coaches and gymnasts to formulate competition strategies."
   ]
  },
  {
   "cell_type": "code",
   "execution_count": null,
   "id": "6985d487",
   "metadata": {},
   "outputs": [],
   "source": []
  }
 ],
 "metadata": {
  "kernelspec": {
   "display_name": "Python 3 (ipykernel)",
   "language": "python",
   "name": "python3"
  },
  "language_info": {
   "codemirror_mode": {
    "name": "ipython",
    "version": 3
   },
   "file_extension": ".py",
   "mimetype": "text/x-python",
   "name": "python",
   "nbconvert_exporter": "python",
   "pygments_lexer": "ipython3",
   "version": "3.9.12"
  }
 },
 "nbformat": 4,
 "nbformat_minor": 5
}
