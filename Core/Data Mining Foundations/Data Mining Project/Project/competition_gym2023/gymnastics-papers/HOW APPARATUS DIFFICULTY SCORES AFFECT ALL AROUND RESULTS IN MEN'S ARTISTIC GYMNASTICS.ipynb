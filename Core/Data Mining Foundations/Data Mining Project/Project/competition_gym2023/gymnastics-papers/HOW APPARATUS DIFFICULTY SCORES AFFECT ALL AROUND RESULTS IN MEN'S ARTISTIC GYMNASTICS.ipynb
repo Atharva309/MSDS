{
 "cells": [
  {
   "cell_type": "markdown",
   "id": "c1c355ae",
   "metadata": {},
   "source": [
    "# HOW APPARATUS DIFFICULTY SCORES AFFECT ALL AROUND RESULTS IN MEN'S ARTISTIC GYMNASTICS\n",
    "\n",
    "\n",
    "- Maximum Difficulty Scores:\n",
    "\n",
    "    - The maximum difficulty scores for each apparatus differed: Floor exercise=7.9; Pommel Horse=7.6; Rings=7.6; Vault=7.4; Parallel Bars=8.1; High Bar=8.5.\n",
    "\n",
    "- Statistical analyses included Kolmogorov-Smirnov tests, Pearson correlations, pair-wise t-tests, linear regression analysis, and the classification of gymnasts using Euclidian square distances.\n",
    "- Clusters were compared with one-way ANOVA and Tamahne 2 post hoc test.\n",
    "\n",
    "- The study aimed to assess how gymnasts' difficulty scores influenced their performance in all-around gymnastics, particularly in light of changes in the scoring system."
   ]
  },
  {
   "cell_type": "markdown",
   "id": "aca7c18a",
   "metadata": {},
   "source": [
    "- Data Distribution:\n",
    "\n",
    "    - The descriptive statistics and Kolmogorov-Smirnov test were used to assess the distribution of data. It was found that only the vault data D scores were not normally distributed. The score distribution was leptokurtic and skewed to the left.\n",
    "    \n",
    "- Pair-wise t-tests showed significant differences between various pairs of apparatus, with the vault having the highest average D scores and pommel horse the lowest.\n",
    "\n",
    "- Pearson's correlations revealed that correlations between apparatus D scores were all statistically significant and medium to high. The highest correlation with the all-around final score (AAFS) was with parallel bars D score (0.83 – 68.9% of common variance), while the lowest correlation was with the vault D scores (0.61 – 36.3% of common variance).\n",
    "\n",
    "- Cluster analyses identified three groups of gymnasts. The third group had the potential to win medals based on their quality of D scores, while the first and second groups had lower D scores.\n",
    "\n",
    "- D scores alone could predict 84% of the all-around final score, with parallel bars D scores being the best predictors of good all-around results."
   ]
  },
  {
   "cell_type": "code",
   "execution_count": null,
   "id": "3f2553d2",
   "metadata": {},
   "outputs": [],
   "source": []
  }
 ],
 "metadata": {
  "kernelspec": {
   "display_name": "Python 3 (ipykernel)",
   "language": "python",
   "name": "python3"
  },
  "language_info": {
   "codemirror_mode": {
    "name": "ipython",
    "version": 3
   },
   "file_extension": ".py",
   "mimetype": "text/x-python",
   "name": "python",
   "nbconvert_exporter": "python",
   "pygments_lexer": "ipython3",
   "version": "3.9.12"
  }
 },
 "nbformat": 4,
 "nbformat_minor": 5
}
