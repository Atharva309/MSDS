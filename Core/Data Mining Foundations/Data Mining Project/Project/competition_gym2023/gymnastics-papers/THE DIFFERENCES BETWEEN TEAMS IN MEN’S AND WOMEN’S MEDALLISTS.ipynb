{
 "cells": [
  {
   "cell_type": "markdown",
   "id": "63207e40",
   "metadata": {},
   "source": [
    "# THE DIFFERENCES BETWEEN TEAMS IN MEN’S AND WOMEN’S MEDALLISTS AND NON-MEDALLISTS AT THE 1996–2016 OLYMPIC GAMES ARTISTIC GYMNASTICS TOURNAMENT"
   ]
  },
  {
   "cell_type": "markdown",
   "id": "d09f19a8",
   "metadata": {},
   "source": [
    "- The differences between male medallists and non-medallists were primarily related to the age of the competitors, with variations of 2.57 years in 2000 and 3.57 years in 2012.\n",
    "- Compared to other Olympic Games, there was a higher level of homogeneity and smaller age differences among male competitors.\n",
    "- In contrast to men, women did not exhibit similar age-related differences over a 20-year period."
   ]
  },
  {
   "cell_type": "code",
   "execution_count": null,
   "id": "c6fd3850",
   "metadata": {},
   "outputs": [],
   "source": []
  }
 ],
 "metadata": {
  "kernelspec": {
   "display_name": "Python 3 (ipykernel)",
   "language": "python",
   "name": "python3"
  },
  "language_info": {
   "codemirror_mode": {
    "name": "ipython",
    "version": 3
   },
   "file_extension": ".py",
   "mimetype": "text/x-python",
   "name": "python",
   "nbconvert_exporter": "python",
   "pygments_lexer": "ipython3",
   "version": "3.9.12"
  }
 },
 "nbformat": 4,
 "nbformat_minor": 5
}
