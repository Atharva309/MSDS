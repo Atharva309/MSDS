{
 "cells": [
  {
   "cell_type": "markdown",
   "id": "81a55de2",
   "metadata": {},
   "source": [
    "### get scores in all appartus from previous olympics for comparison of current gymnast"
   ]
  },
  {
   "cell_type": "markdown",
   "id": "bafd5c95",
   "metadata": {},
   "source": [
    "### will need to get scores from all countries that have qualified for olympics so far that is \n",
    "\n",
    "### - Mens Team:\n",
    "    - 2022 World Artistic Gymnastics Championships \n",
    "        - Japan\n",
    "        - China\n",
    "        - UK\n",
    "    - 2023 World Artistic Gymnastics Championships \t10-8-2023\n",
    "### - Mens Individual\n",
    "    - 2023 World Artistic Gymnastics Championships 10-8-2023\n",
    "    - 2024 FIG Artistic Gymnastics World Cup series 03-02-2024 \n",
    "    - 2024 Continental Championships 04-01-2024 \n",
    "    - Reserved places (Host nation)\n",
    "    \n",
    "    \n",
    "    \n",
    "### - Womens:\n",
    "    - 2022 World Artistic Gymnastics Championships\n",
    "        - USA\n",
    "        - UK\n",
    "        - Canada\n",
    "    - 2023 World Artistic Gymnastics Championships 10-8-2023\n",
    "    \n",
    "### - Womens Individual\n",
    "    - 2023 World Artistic Gymnastics Championships 10-8-2023\n",
    "    - 2024 FIG Artistic Gymnastics World Cup series 03-02-2024 \n",
    "    - 2024 Continental Championships 04-01-2024 \n",
    "    - Reserved places (Host nation)\n"
   ]
  },
  {
   "cell_type": "code",
   "execution_count": null,
   "id": "87641222",
   "metadata": {},
   "outputs": [],
   "source": [
    "\n"
   ]
  }
 ],
 "metadata": {
  "kernelspec": {
   "display_name": "Python 3 (ipykernel)",
   "language": "python",
   "name": "python3"
  },
  "language_info": {
   "codemirror_mode": {
    "name": "ipython",
    "version": 3
   },
   "file_extension": ".py",
   "mimetype": "text/x-python",
   "name": "python",
   "nbconvert_exporter": "python",
   "pygments_lexer": "ipython3",
   "version": "3.9.12"
  }
 },
 "nbformat": 4,
 "nbformat_minor": 5
}
