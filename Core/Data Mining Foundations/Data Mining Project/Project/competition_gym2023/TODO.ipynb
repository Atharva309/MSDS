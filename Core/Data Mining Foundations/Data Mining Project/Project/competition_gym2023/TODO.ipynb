{
 "cells": [
  {
   "cell_type": "markdown",
   "id": "667e499b-04aa-47c0-a385-f9eb4e30ff97",
   "metadata": {},
   "source": [
    "# Scrape Men's data for 2016 olympics\n",
    "## men's 2015 international events will have to be scrape by each event"
   ]
  },
  {
   "cell_type": "markdown",
   "id": "73756415",
   "metadata": {},
   "source": [
    "Updates are being made to other rep of project, saved to colorado git?"
   ]
  },
  {
   "cell_type": "markdown",
   "id": "293ec681",
   "metadata": {},
   "source": [
    "# Re-do MENS Teams\n",
    "\n",
    "\n",
    "\n",
    "Team All-Around\n",
    "- Finals: 3 athletes compete on each apparatus and every score counts\n",
    "\n",
    "Individual All-Around\n",
    "- 2 athletes per country qualify\n",
    "\n",
    "Individual Apparatus\n",
    "- 2 athletes per country qualify\n"
   ]
  },
  {
   "cell_type": "markdown",
   "id": "3d49dfd5",
   "metadata": {},
   "source": [
    "what machine learning model or algorithm whould be best fitted to find\n",
    "picking a team of 5 people from a large pool, each person needs to compete on 1 - 6 different events. each event needs to be competed on 3 times and no person can compete on teh same event more than once. \n",
    "ChatGPT\n",
    "\n",
    "The task you described, which involves selecting a team of 5 people from a large pool, with each person competing in 1-6 different events, each event needing to be competed in 3 times, and no person being able to compete in the same event more than once, is a complex optimization problem that can be approached using combinatorial optimization techniques. One suitable approach is to use integer programming or combinatorial optimization algorithms. Here are a few suggestions:\n",
    "\n",
    "- Mixed-Integer Linear Programming (MILP): You can formulate the problem as a Mixed-Integer Linear Programming problem, where you define binary decision variables to represent which person competes in which event and at which time. Constraints can be set to ensure that no person competes in the same event more than once, and each event is competed in 3 times. You can use optimization solvers like Gurobi, CPLEX, or PuLP in Python to solve MILP problems.\n",
    "\n",
    "- Genetic Algorithms: Genetic algorithms are heuristic search algorithms inspired by the process of natural selection. You can encode potential team combinations as chromosomes and evolve them over generations, applying selection, crossover, and mutation operations to find a good solution. This approach is more suitable for large and complex problem instances.\n",
    "\n",
    "- Simulated Annealing: Simulated annealing is a probabilistic optimization algorithm that can be used to find good approximate solutions for combinatorial problems. It's especially useful when you need to explore a large solution space.\n",
    "\n",
    "- Constraint Programming: Constraint programming is another technique that can be used to model and solve combinatorial problems. You can define constraints and use a constraint solver, such as Google OR-Tools or MiniZinc, to find a valid solution.\n",
    "\n",
    "- Greedy Heuristics: Depending on the size of your problem and time constraints, you can develop simple greedy algorithms or heuristics to approximate a solution. For example, you can start with a random person-event assignment and iteratively swap assignments while respecting the constraints to improve the quality of the team."
   ]
  },
  {
   "cell_type": "markdown",
   "id": "35592014",
   "metadata": {},
   "source": [
    "# update all data with new csv cleandata-nov"
   ]
  },
  {
   "cell_type": "code",
   "execution_count": 3,
   "id": "9c4bf093",
   "metadata": {},
   "outputs": [],
   "source": [
    "# import sys\n",
    "# sys.executable\n"
   ]
  },
  {
   "cell_type": "code",
   "execution_count": 1,
   "id": "47f41a7d",
   "metadata": {},
   "outputs": [],
   "source": [
    "# /Users/ryantalbot/opt/anaconda3/envs/tf2/bin/python -m pip install PyPDF2\n"
   ]
  },
  {
   "cell_type": "code",
   "execution_count": 2,
   "id": "df512d50",
   "metadata": {},
   "outputs": [],
   "source": [
    "# /Users/ryantalbot/opt/anaconda3/bin/python3 -m pip install PyPDF2\n"
   ]
  },
  {
   "cell_type": "markdown",
   "id": "157c8721",
   "metadata": {},
   "source": [
    "To do: \n",
    "    mens:\n",
    "    \n",
    "\n",
    "\n",
    "2019\n",
    "\n",
    "- https://thegymter.net/2019/08/03/2019-pan-american-games-mens-results/\n",
    "- https://thegymter.net/2019/11/25/2019-cottbus-world-cup-mens-results/\n",
    "- https://thegymter.net/2019/03/22/2019-baku-world-cup-mens-results/\n",
    "\n",
    "\n",
    "2017 \n",
    "- https://thegymter.net/2017/10/11/2017-world-championships-mens-results/\n",
    "\n",
    "2015\n",
    "- https://thegymter.net/2015/03/20/2015-cottbus-world-challenge-cup-results/\n",
    "- https://en.wikipedia.org/wiki/2015_World_Artistic_Gymnastics_Championships#Men's_results\n",
    "\n",
    "2014\n",
    "- https://en.wikipedia.org/wiki/2014_World_Artistic_Gymnastics_Championships#Floor\n",
    "\n",
    "2013\n",
    "- https://en.wikipedia.org/wiki/2013_World_Artistic_Gymnastics_Championships#Floor \n",
    "\n",
    "\n",
    "## finished\n",
    "2018 \n",
    "- https://thegymter.net/2018/11/29/2018-world-championships-mens-results/\n",
    "\n",
    "2020\n",
    "- world cup baku\n",
    "- https://thegymter.net/2019/10/19/2019-world-championships-mens-results/\n",
    "\n",
    "2019\n",
    "- world cup melbourne\n",
    "- https://thegymter.net/2020/02/24/2020-winter-cup-challenge-results/\n",
    "- https://thegymter.net/2020/02/24/2020-melbourne-world-cup-mens-results/\n",
    "- https://thegymter.net/2019/07/11/2019-summer-universiade-mens-results/\n",
    "\n",
    "events from 2015 and before are not documented in gymter for mens results\n"
   ]
  }
 ],
 "metadata": {
  "kernelspec": {
   "display_name": "Python 3 (ipykernel)",
   "language": "python",
   "name": "python3"
  },
  "language_info": {
   "codemirror_mode": {
    "name": "ipython",
    "version": 3
   },
   "file_extension": ".py",
   "mimetype": "text/x-python",
   "name": "python",
   "nbconvert_exporter": "python",
   "pygments_lexer": "ipython3",
   "version": "3.8.18"
  }
 },
 "nbformat": 4,
 "nbformat_minor": 5
}
