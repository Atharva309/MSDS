{
 "cells": [
  {
   "cell_type": "markdown",
   "id": "1e16f3d5",
   "metadata": {},
   "source": [
    "# Womens\n",
    "test train split with test being 2013-2016 and test 2017-2021?\n",
    "change t=year"
   ]
  },
  {
   "cell_type": "markdown",
   "id": "157c8721",
   "metadata": {},
   "source": [
    "To do: \n",
    "    mens:\n",
    "    \n",
    "\n",
    "\n",
    "2019\n",
    "\n",
    "- https://thegymter.net/2019/08/03/2019-pan-american-games-mens-results/\n",
    "- https://thegymter.net/2019/11/25/2019-cottbus-world-cup-mens-results/\n",
    "- https://thegymter.net/2019/03/22/2019-baku-world-cup-mens-results/\n",
    "\n",
    "\n",
    "2017 \n",
    "- https://thegymter.net/2017/10/11/2017-world-championships-mens-results/\n",
    "\n",
    "2015\n",
    "- https://thegymter.net/2015/03/20/2015-cottbus-world-challenge-cup-results/\n",
    "- https://en.wikipedia.org/wiki/2015_World_Artistic_Gymnastics_Championships#Men's_results\n",
    "\n",
    "2014\n",
    "- https://en.wikipedia.org/wiki/2014_World_Artistic_Gymnastics_Championships#Floor\n",
    "\n",
    "2013\n",
    "- https://en.wikipedia.org/wiki/2013_World_Artistic_Gymnastics_Championships#Floor \n",
    "\n",
    "\n",
    "## finished\n",
    "2018 \n",
    "- https://thegymter.net/2018/11/29/2018-world-championships-mens-results/\n",
    "\n",
    "2020\n",
    "- world cup baku\n",
    "- https://thegymter.net/2019/10/19/2019-world-championships-mens-results/\n",
    "\n",
    "2019\n",
    "- world cup melbourne\n",
    "- https://thegymter.net/2020/02/24/2020-winter-cup-challenge-results/\n",
    "- https://thegymter.net/2020/02/24/2020-melbourne-world-cup-mens-results/\n",
    "- https://thegymter.net/2019/07/11/2019-summer-universiade-mens-results/\n",
    "\n",
    "events from 2015 and before are not documented in gymter for mens results\n"
   ]
  },
  {
   "cell_type": "markdown",
   "id": "efe41151",
   "metadata": {},
   "source": [
    "# Finished: Womens Individual Events"
   ]
  },
  {
   "cell_type": "markdown",
   "id": "74a1d0d2",
   "metadata": {},
   "source": [
    "# Todo: womens IAA and Team"
   ]
  },
  {
   "cell_type": "markdown",
   "id": "742919c8",
   "metadata": {},
   "source": [
    "# [X] get scores in all appartus from previous olympics for comparison of current gymnast"
   ]
  },
  {
   "cell_type": "markdown",
   "id": "246fe824",
   "metadata": {},
   "source": [
    "## Explore changing years from a year to the number of years or days away from olympics"
   ]
  },
  {
   "cell_type": "markdown",
   "id": "9549636d",
   "metadata": {},
   "source": [
    "# Combine olympic data with kaggle olympic data in EDA folder"
   ]
  },
  {
   "cell_type": "markdown",
   "id": "506fc1fe",
   "metadata": {},
   "source": [
    "# To Explore:\n",
    "- feature engineering: \n",
    "    - https://feature-engine.trainindata.com/en/1.3.x/index.html\n",
    "    \n",
    "- feature importance:\n",
    "    - https://medium.com/swlh/feature-importance-hows-and-why-s-3678ede1e58f\n",
    "    - https://towardsdatascience.com/understanding-feature-importance-and-how-to-implement-it-in-python-ff0287b20285\n",
    "    - \n"
   ]
  },
  {
   "cell_type": "markdown",
   "id": "c9e8db2e",
   "metadata": {},
   "source": [
    "# EDA \n",
    "- when finalizing eda use kaggle data and scraped data\n",
    "- olympic data and qualifying events data"
   ]
  },
  {
   "cell_type": "markdown",
   "id": "7b1ed4ee",
   "metadata": {},
   "source": [
    "# How to pick team\n",
    "\n",
    "- get list of potential team members \n",
    "- create db of each person number of events per year\n",
    "- ihghest total score on each aparatus \n",
    "- highest e and d score on each apparatus\n",
    "- lowest '' ''  ''''.   ''''\n",
    "- average e, d and total score on each apparatus"
   ]
  },
  {
   "cell_type": "markdown",
   "id": "df5f4a86",
   "metadata": {},
   "source": [
    "# picking teamn\n",
    "\n",
    "First, we examine his career performances to determine his potency as a\n",
    "contender. Second, we consider his recent match scores to analyze his prevailing\n",
    "form: where form of a batsman determines his contribution to the team in recent\n",
    "matches, which in turn re\n",
    "ects his con dence levels.\n",
    "\n",
    "\n",
    "Predicting the Outcome of ODI Cricket\n",
    "Matches: A Team Composition Based Approach"
   ]
  },
  {
   "cell_type": "code",
   "execution_count": null,
   "id": "c8803c54",
   "metadata": {},
   "outputs": [],
   "source": []
  }
 ],
 "metadata": {
  "kernelspec": {
   "display_name": "Python 3 (ipykernel)",
   "language": "python",
   "name": "python3"
  },
  "language_info": {
   "codemirror_mode": {
    "name": "ipython",
    "version": 3
   },
   "file_extension": ".py",
   "mimetype": "text/x-python",
   "name": "python",
   "nbconvert_exporter": "python",
   "pygments_lexer": "ipython3",
   "version": "3.9.12"
  }
 },
 "nbformat": 4,
 "nbformat_minor": 5
}
