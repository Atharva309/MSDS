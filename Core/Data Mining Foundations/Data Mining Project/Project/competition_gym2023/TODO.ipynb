{
 "cells": [
  {
   "cell_type": "markdown",
   "id": "81a55de2",
   "metadata": {},
   "source": [
    "# [X] get scores in all appartus from previous olympics for comparison of current gymnast"
   ]
  },
  {
   "cell_type": "markdown",
   "id": "bafd5c95",
   "metadata": {},
   "source": [
    "# below should be in df from competition\n",
    "### will need to get scores from all countries that have qualified for olympics so far that is \n",
    "\n",
    "### - Mens Team:\n",
    "    - 2022 World Artistic Gymnastics Championships \n",
    "        - Japan\n",
    "        - China\n",
    "        - UK\n",
    "    - 2023 World Artistic Gymnastics Championships \t10-8-2023\n",
    "### - Mens Individual\n",
    "    - 2023 World Artistic Gymnastics Championships 10-8-2023\n",
    "    - 2024 FIG Artistic Gymnastics World Cup series 03-02-2024 \n",
    "    - 2024 Continental Championships 04-01-2024 \n",
    "    - Reserved places (Host nation)\n",
    "    \n",
    "    \n",
    "    \n",
    "### - Womens:\n",
    "    - 2022 World Artistic Gymnastics Championships\n",
    "        - USA\n",
    "        - UK\n",
    "        - Canada\n",
    "    - 2023 World Artistic Gymnastics Championships 10-8-2023\n",
    "    \n",
    "### - Womens Individual\n",
    "    - 2023 World Artistic Gymnastics Championships 10-8-2023\n",
    "    - 2024 FIG Artistic Gymnastics World Cup series 03-02-2024 \n",
    "    - 2024 Continental Championships 04-01-2024 \n",
    "    - Reserved places (Host nation)\n"
   ]
  },
  {
   "cell_type": "markdown",
   "id": "7b1ed4ee",
   "metadata": {},
   "source": [
    "# How to pick team\n",
    "\n",
    "- get list of potential team members \n",
    "- create db of each person number of events per year\n",
    "- ihghest total score on each aparatus \n",
    "- highest e and d score on each apparatus\n",
    "- lowest '' ''  ''''.   ''''\n",
    "- average e, d and total score on each apparatus"
   ]
  },
  {
   "cell_type": "markdown",
   "id": "df5f4a86",
   "metadata": {},
   "source": [
    "# picking teamn\n",
    "\n",
    "First, we examine his career performances to determine his potency as a\n",
    "contender. Second, we consider his recent match scores to analyze his prevailing\n",
    "form: where form of a batsman determines his contribution to the team in recent\n",
    "matches, which in turn re\n",
    "ects his con dence levels.\n",
    "\n",
    "\n",
    "Predicting the Outcome of ODI Cricket\n",
    "Matches: A Team Composition Based Approach"
   ]
  },
  {
   "cell_type": "code",
   "execution_count": null,
   "id": "c8803c54",
   "metadata": {},
   "outputs": [],
   "source": []
  }
 ],
 "metadata": {
  "kernelspec": {
   "display_name": "Python 3 (ipykernel)",
   "language": "python",
   "name": "python3"
  },
  "language_info": {
   "codemirror_mode": {
    "name": "ipython",
    "version": 3
   },
   "file_extension": ".py",
   "mimetype": "text/x-python",
   "name": "python",
   "nbconvert_exporter": "python",
   "pygments_lexer": "ipython3",
   "version": "3.9.12"
  }
 },
 "nbformat": 4,
 "nbformat_minor": 5
}
