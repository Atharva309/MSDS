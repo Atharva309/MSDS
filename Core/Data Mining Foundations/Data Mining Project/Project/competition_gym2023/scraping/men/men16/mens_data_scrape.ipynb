{
 "cells": [
  {
   "cell_type": "markdown",
   "id": "108acf50-bcfd-4148-b869-8433a4ec5d56",
   "metadata": {},
   "source": [
    "gymnternet mens data for 14 and 15:\n",
    "- https://thegymter.net/2015/03/20/2015-cottbus-world-challenge-cup-results"
   ]
  },
  {
   "cell_type": "code",
   "execution_count": null,
   "id": "6192e72e-499a-47fe-ba90-8fe416faa52e",
   "metadata": {},
   "outputs": [],
   "source": []
  }
 ],
 "metadata": {
  "kernelspec": {
   "display_name": "Python 3 (ipykernel)",
   "language": "python",
   "name": "python3"
  },
  "language_info": {
   "codemirror_mode": {
    "name": "ipython",
    "version": 3
   },
   "file_extension": ".py",
   "mimetype": "text/x-python",
   "name": "python",
   "nbconvert_exporter": "python",
   "pygments_lexer": "ipython3",
   "version": "3.8.18"
  }
 },
 "nbformat": 4,
 "nbformat_minor": 5
}
