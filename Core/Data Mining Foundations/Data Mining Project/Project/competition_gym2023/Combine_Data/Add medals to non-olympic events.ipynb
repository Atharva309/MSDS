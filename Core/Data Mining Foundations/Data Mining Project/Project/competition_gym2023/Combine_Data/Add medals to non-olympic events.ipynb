{
 "cells": [
  {
   "cell_type": "markdown",
   "id": "0daad6bb",
   "metadata": {},
   "source": [
    "# change medals to 0 and 1"
   ]
  },
  {
   "cell_type": "markdown",
   "id": "41e0df5f",
   "metadata": {},
   "source": []
  },
  {
   "cell_type": "code",
   "execution_count": 1,
   "id": "9e1756b9",
   "metadata": {},
   "outputs": [],
   "source": [
    "import pandas as pd\n",
    "import numpy as np"
   ]
  },
  {
   "cell_type": "code",
   "execution_count": 2,
   "id": "7306d05d",
   "metadata": {},
   "outputs": [],
   "source": [
    "df = pd.read_csv('fx_w.csv')"
   ]
  },
  {
   "cell_type": "markdown",
   "id": "c31d412d",
   "metadata": {},
   "source": [
    "## 2020 fx medalist\n",
    "1. Jade Carey\n",
    "2. Vanessa Ferrari\n",
    "3. Mai Murakami\n",
    "\n",
    "\n",
    "## 2016 fx medalist\n",
    "1. Simone Biles\n",
    "2. Aly Raisman\n",
    "3. Amy Tinkler\n",
    "\n",
    "\n",
    "## 2012 fx medalist\n",
    "1. Aly Raisman\n",
    "2. Cătălina Ponor\n",
    "3. Aliya Mustafina"
   ]
  },
  {
   "cell_type": "code",
   "execution_count": 3,
   "id": "e9e161d7",
   "metadata": {},
   "outputs": [
    {
     "data": {
      "text/plain": [
       "year\n",
       "2023    647\n",
       "2022    587\n",
       "2019     72\n",
       "2015     69\n",
       "2014     42\n",
       "2013     42\n",
       "2018     16\n",
       "2020      8\n",
       "2011      8\n",
       "2017      8\n",
       "2016      8\n",
       "Name: count, dtype: int64"
      ]
     },
     "execution_count": 3,
     "metadata": {},
     "output_type": "execute_result"
    }
   ],
   "source": [
    "df['year'].value_counts()"
   ]
  },
  {
   "cell_type": "code",
   "execution_count": 4,
   "id": "cb33580e",
   "metadata": {},
   "outputs": [
    {
     "data": {
      "text/html": [
       "<div>\n",
       "<style scoped>\n",
       "    .dataframe tbody tr th:only-of-type {\n",
       "        vertical-align: middle;\n",
       "    }\n",
       "\n",
       "    .dataframe tbody tr th {\n",
       "        vertical-align: top;\n",
       "    }\n",
       "\n",
       "    .dataframe thead th {\n",
       "        text-align: right;\n",
       "    }\n",
       "</style>\n",
       "<table border=\"1\" class=\"dataframe\">\n",
       "  <thead>\n",
       "    <tr style=\"text-align: right;\">\n",
       "      <th></th>\n",
       "      <th>Rank</th>\n",
       "      <th>Name</th>\n",
       "      <th>nation</th>\n",
       "      <th>D Score</th>\n",
       "      <th>E Score</th>\n",
       "      <th>Pen.</th>\n",
       "      <th>Total</th>\n",
       "      <th>year</th>\n",
       "      <th>round</th>\n",
       "    </tr>\n",
       "  </thead>\n",
       "  <tbody>\n",
       "    <tr>\n",
       "      <th>0</th>\n",
       "      <td>109.0</td>\n",
       "      <td>Jana ABDELSALAM</td>\n",
       "      <td>EGY</td>\n",
       "      <td>4.4</td>\n",
       "      <td>7.466</td>\n",
       "      <td>0.1</td>\n",
       "      <td>11.766</td>\n",
       "      <td>2022</td>\n",
       "      <td>qual</td>\n",
       "    </tr>\n",
       "    <tr>\n",
       "      <th>1</th>\n",
       "      <td>22.0</td>\n",
       "      <td>Jana ABDELSALAM</td>\n",
       "      <td>EGY</td>\n",
       "      <td>4.5</td>\n",
       "      <td>7.366</td>\n",
       "      <td>0.0</td>\n",
       "      <td>11.866</td>\n",
       "      <td>2023</td>\n",
       "      <td>qual</td>\n",
       "    </tr>\n",
       "    <tr>\n",
       "      <th>2</th>\n",
       "      <td>39.0</td>\n",
       "      <td>Kumudi Imanya ABEYRATNE</td>\n",
       "      <td>SRI</td>\n",
       "      <td>2.9</td>\n",
       "      <td>4.450</td>\n",
       "      <td>0.0</td>\n",
       "      <td>7.350</td>\n",
       "      <td>2022</td>\n",
       "      <td>qual</td>\n",
       "    </tr>\n",
       "    <tr>\n",
       "      <th>3</th>\n",
       "      <td>74.0</td>\n",
       "      <td>Jana ABOELHASAN</td>\n",
       "      <td>EGY</td>\n",
       "      <td>4.4</td>\n",
       "      <td>7.866</td>\n",
       "      <td>0.0</td>\n",
       "      <td>12.266</td>\n",
       "      <td>2022</td>\n",
       "      <td>qual</td>\n",
       "    </tr>\n",
       "    <tr>\n",
       "      <th>4</th>\n",
       "      <td>16.0</td>\n",
       "      <td>Ondine ACHAMPONG</td>\n",
       "      <td>GBR</td>\n",
       "      <td>5.3</td>\n",
       "      <td>8.033</td>\n",
       "      <td>0.0</td>\n",
       "      <td>13.333</td>\n",
       "      <td>2022</td>\n",
       "      <td>qual</td>\n",
       "    </tr>\n",
       "    <tr>\n",
       "      <th>...</th>\n",
       "      <td>...</td>\n",
       "      <td>...</td>\n",
       "      <td>...</td>\n",
       "      <td>...</td>\n",
       "      <td>...</td>\n",
       "      <td>...</td>\n",
       "      <td>...</td>\n",
       "      <td>...</td>\n",
       "      <td>...</td>\n",
       "    </tr>\n",
       "    <tr>\n",
       "      <th>1502</th>\n",
       "      <td>4.0</td>\n",
       "      <td>Nagi Kajita</td>\n",
       "      <td>JPN</td>\n",
       "      <td>5.7</td>\n",
       "      <td>8.250</td>\n",
       "      <td>0.0</td>\n",
       "      <td>13.950</td>\n",
       "      <td>2016</td>\n",
       "      <td>final</td>\n",
       "    </tr>\n",
       "    <tr>\n",
       "      <th>1503</th>\n",
       "      <td>5.0</td>\n",
       "      <td>Georgia-Rose Brown</td>\n",
       "      <td>AUS</td>\n",
       "      <td>5.3</td>\n",
       "      <td>8.525</td>\n",
       "      <td>0.0</td>\n",
       "      <td>13.825</td>\n",
       "      <td>2016</td>\n",
       "      <td>final</td>\n",
       "    </tr>\n",
       "    <tr>\n",
       "      <th>1504</th>\n",
       "      <td>6.0</td>\n",
       "      <td>Megan Roberts</td>\n",
       "      <td>CAN</td>\n",
       "      <td>5.6</td>\n",
       "      <td>8.150</td>\n",
       "      <td>0.0</td>\n",
       "      <td>13.750</td>\n",
       "      <td>2016</td>\n",
       "      <td>final</td>\n",
       "    </tr>\n",
       "    <tr>\n",
       "      <th>1505</th>\n",
       "      <td>7.0</td>\n",
       "      <td>Emily Little</td>\n",
       "      <td>AUS</td>\n",
       "      <td>5.1</td>\n",
       "      <td>8.100</td>\n",
       "      <td>0.0</td>\n",
       "      <td>13.200</td>\n",
       "      <td>2016</td>\n",
       "      <td>final</td>\n",
       "    </tr>\n",
       "    <tr>\n",
       "      <th>1506</th>\n",
       "      <td>8.0</td>\n",
       "      <td>Courtney McGregor</td>\n",
       "      <td>NZL</td>\n",
       "      <td>5.3</td>\n",
       "      <td>7.825</td>\n",
       "      <td>-0.1</td>\n",
       "      <td>13.025</td>\n",
       "      <td>2016</td>\n",
       "      <td>final</td>\n",
       "    </tr>\n",
       "  </tbody>\n",
       "</table>\n",
       "<p>1507 rows × 9 columns</p>\n",
       "</div>"
      ],
      "text/plain": [
       "       Rank                     Name nation  D Score  E Score  Pen.   Total  \\\n",
       "0     109.0          Jana ABDELSALAM    EGY      4.4    7.466   0.1  11.766   \n",
       "1      22.0          Jana ABDELSALAM    EGY      4.5    7.366   0.0  11.866   \n",
       "2      39.0  Kumudi Imanya ABEYRATNE    SRI      2.9    4.450   0.0   7.350   \n",
       "3      74.0          Jana ABOELHASAN    EGY      4.4    7.866   0.0  12.266   \n",
       "4      16.0         Ondine ACHAMPONG    GBR      5.3    8.033   0.0  13.333   \n",
       "...     ...                      ...    ...      ...      ...   ...     ...   \n",
       "1502    4.0              Nagi Kajita    JPN      5.7    8.250   0.0  13.950   \n",
       "1503    5.0       Georgia-Rose Brown    AUS      5.3    8.525   0.0  13.825   \n",
       "1504    6.0            Megan Roberts    CAN      5.6    8.150   0.0  13.750   \n",
       "1505    7.0             Emily Little    AUS      5.1    8.100   0.0  13.200   \n",
       "1506    8.0        Courtney McGregor    NZL      5.3    7.825  -0.1  13.025   \n",
       "\n",
       "      year  round  \n",
       "0     2022   qual  \n",
       "1     2023   qual  \n",
       "2     2022   qual  \n",
       "3     2022   qual  \n",
       "4     2022   qual  \n",
       "...    ...    ...  \n",
       "1502  2016  final  \n",
       "1503  2016  final  \n",
       "1504  2016  final  \n",
       "1505  2016  final  \n",
       "1506  2016  final  \n",
       "\n",
       "[1507 rows x 9 columns]"
      ]
     },
     "execution_count": 4,
     "metadata": {},
     "output_type": "execute_result"
    }
   ],
   "source": [
    "df"
   ]
  },
  {
   "cell_type": "code",
   "execution_count": 5,
   "id": "aee150c9",
   "metadata": {},
   "outputs": [],
   "source": [
    "df['Name'] = df['Name'].str.lower()"
   ]
  },
  {
   "cell_type": "code",
   "execution_count": 6,
   "id": "0c9b4997",
   "metadata": {},
   "outputs": [
    {
     "data": {
      "text/html": [
       "<div>\n",
       "<style scoped>\n",
       "    .dataframe tbody tr th:only-of-type {\n",
       "        vertical-align: middle;\n",
       "    }\n",
       "\n",
       "    .dataframe tbody tr th {\n",
       "        vertical-align: top;\n",
       "    }\n",
       "\n",
       "    .dataframe thead th {\n",
       "        text-align: right;\n",
       "    }\n",
       "</style>\n",
       "<table border=\"1\" class=\"dataframe\">\n",
       "  <thead>\n",
       "    <tr style=\"text-align: right;\">\n",
       "      <th></th>\n",
       "      <th>Rank</th>\n",
       "      <th>Name</th>\n",
       "      <th>nation</th>\n",
       "      <th>D Score</th>\n",
       "      <th>E Score</th>\n",
       "      <th>Pen.</th>\n",
       "      <th>Total</th>\n",
       "      <th>year</th>\n",
       "      <th>round</th>\n",
       "    </tr>\n",
       "  </thead>\n",
       "  <tbody>\n",
       "    <tr>\n",
       "      <th>0</th>\n",
       "      <td>109.0</td>\n",
       "      <td>jana abdelsalam</td>\n",
       "      <td>EGY</td>\n",
       "      <td>4.4</td>\n",
       "      <td>7.466</td>\n",
       "      <td>0.1</td>\n",
       "      <td>11.766</td>\n",
       "      <td>2022</td>\n",
       "      <td>qual</td>\n",
       "    </tr>\n",
       "    <tr>\n",
       "      <th>1</th>\n",
       "      <td>22.0</td>\n",
       "      <td>jana abdelsalam</td>\n",
       "      <td>EGY</td>\n",
       "      <td>4.5</td>\n",
       "      <td>7.366</td>\n",
       "      <td>0.0</td>\n",
       "      <td>11.866</td>\n",
       "      <td>2023</td>\n",
       "      <td>qual</td>\n",
       "    </tr>\n",
       "    <tr>\n",
       "      <th>2</th>\n",
       "      <td>39.0</td>\n",
       "      <td>kumudi imanya abeyratne</td>\n",
       "      <td>SRI</td>\n",
       "      <td>2.9</td>\n",
       "      <td>4.450</td>\n",
       "      <td>0.0</td>\n",
       "      <td>7.350</td>\n",
       "      <td>2022</td>\n",
       "      <td>qual</td>\n",
       "    </tr>\n",
       "    <tr>\n",
       "      <th>3</th>\n",
       "      <td>74.0</td>\n",
       "      <td>jana aboelhasan</td>\n",
       "      <td>EGY</td>\n",
       "      <td>4.4</td>\n",
       "      <td>7.866</td>\n",
       "      <td>0.0</td>\n",
       "      <td>12.266</td>\n",
       "      <td>2022</td>\n",
       "      <td>qual</td>\n",
       "    </tr>\n",
       "    <tr>\n",
       "      <th>4</th>\n",
       "      <td>16.0</td>\n",
       "      <td>ondine achampong</td>\n",
       "      <td>GBR</td>\n",
       "      <td>5.3</td>\n",
       "      <td>8.033</td>\n",
       "      <td>0.0</td>\n",
       "      <td>13.333</td>\n",
       "      <td>2022</td>\n",
       "      <td>qual</td>\n",
       "    </tr>\n",
       "    <tr>\n",
       "      <th>...</th>\n",
       "      <td>...</td>\n",
       "      <td>...</td>\n",
       "      <td>...</td>\n",
       "      <td>...</td>\n",
       "      <td>...</td>\n",
       "      <td>...</td>\n",
       "      <td>...</td>\n",
       "      <td>...</td>\n",
       "      <td>...</td>\n",
       "    </tr>\n",
       "    <tr>\n",
       "      <th>1502</th>\n",
       "      <td>4.0</td>\n",
       "      <td>nagi kajita</td>\n",
       "      <td>JPN</td>\n",
       "      <td>5.7</td>\n",
       "      <td>8.250</td>\n",
       "      <td>0.0</td>\n",
       "      <td>13.950</td>\n",
       "      <td>2016</td>\n",
       "      <td>final</td>\n",
       "    </tr>\n",
       "    <tr>\n",
       "      <th>1503</th>\n",
       "      <td>5.0</td>\n",
       "      <td>georgia-rose brown</td>\n",
       "      <td>AUS</td>\n",
       "      <td>5.3</td>\n",
       "      <td>8.525</td>\n",
       "      <td>0.0</td>\n",
       "      <td>13.825</td>\n",
       "      <td>2016</td>\n",
       "      <td>final</td>\n",
       "    </tr>\n",
       "    <tr>\n",
       "      <th>1504</th>\n",
       "      <td>6.0</td>\n",
       "      <td>megan roberts</td>\n",
       "      <td>CAN</td>\n",
       "      <td>5.6</td>\n",
       "      <td>8.150</td>\n",
       "      <td>0.0</td>\n",
       "      <td>13.750</td>\n",
       "      <td>2016</td>\n",
       "      <td>final</td>\n",
       "    </tr>\n",
       "    <tr>\n",
       "      <th>1505</th>\n",
       "      <td>7.0</td>\n",
       "      <td>emily little</td>\n",
       "      <td>AUS</td>\n",
       "      <td>5.1</td>\n",
       "      <td>8.100</td>\n",
       "      <td>0.0</td>\n",
       "      <td>13.200</td>\n",
       "      <td>2016</td>\n",
       "      <td>final</td>\n",
       "    </tr>\n",
       "    <tr>\n",
       "      <th>1506</th>\n",
       "      <td>8.0</td>\n",
       "      <td>courtney mcgregor</td>\n",
       "      <td>NZL</td>\n",
       "      <td>5.3</td>\n",
       "      <td>7.825</td>\n",
       "      <td>-0.1</td>\n",
       "      <td>13.025</td>\n",
       "      <td>2016</td>\n",
       "      <td>final</td>\n",
       "    </tr>\n",
       "  </tbody>\n",
       "</table>\n",
       "<p>1507 rows × 9 columns</p>\n",
       "</div>"
      ],
      "text/plain": [
       "       Rank                     Name nation  D Score  E Score  Pen.   Total  \\\n",
       "0     109.0          jana abdelsalam    EGY      4.4    7.466   0.1  11.766   \n",
       "1      22.0          jana abdelsalam    EGY      4.5    7.366   0.0  11.866   \n",
       "2      39.0  kumudi imanya abeyratne    SRI      2.9    4.450   0.0   7.350   \n",
       "3      74.0          jana aboelhasan    EGY      4.4    7.866   0.0  12.266   \n",
       "4      16.0         ondine achampong    GBR      5.3    8.033   0.0  13.333   \n",
       "...     ...                      ...    ...      ...      ...   ...     ...   \n",
       "1502    4.0              nagi kajita    JPN      5.7    8.250   0.0  13.950   \n",
       "1503    5.0       georgia-rose brown    AUS      5.3    8.525   0.0  13.825   \n",
       "1504    6.0            megan roberts    CAN      5.6    8.150   0.0  13.750   \n",
       "1505    7.0             emily little    AUS      5.1    8.100   0.0  13.200   \n",
       "1506    8.0        courtney mcgregor    NZL      5.3    7.825  -0.1  13.025   \n",
       "\n",
       "      year  round  \n",
       "0     2022   qual  \n",
       "1     2023   qual  \n",
       "2     2022   qual  \n",
       "3     2022   qual  \n",
       "4     2022   qual  \n",
       "...    ...    ...  \n",
       "1502  2016  final  \n",
       "1503  2016  final  \n",
       "1504  2016  final  \n",
       "1505  2016  final  \n",
       "1506  2016  final  \n",
       "\n",
       "[1507 rows x 9 columns]"
      ]
     },
     "execution_count": 6,
     "metadata": {},
     "output_type": "execute_result"
    }
   ],
   "source": [
    "df"
   ]
  },
  {
   "cell_type": "code",
   "execution_count": 7,
   "id": "06984ccd",
   "metadata": {},
   "outputs": [
    {
     "data": {
      "text/plain": [
       "year\n",
       "2023    647\n",
       "2022    587\n",
       "2019     72\n",
       "2015     69\n",
       "2014     42\n",
       "2013     42\n",
       "2018     16\n",
       "2020      8\n",
       "2011      8\n",
       "2017      8\n",
       "2016      8\n",
       "Name: count, dtype: int64"
      ]
     },
     "execution_count": 7,
     "metadata": {},
     "output_type": "execute_result"
    }
   ],
   "source": [
    "df['year'].value_counts()"
   ]
  },
  {
   "cell_type": "code",
   "execution_count": 8,
   "id": "fde3e153",
   "metadata": {},
   "outputs": [
    {
     "data": {
      "text/plain": [
       "year\n",
       "2023    647\n",
       "2022    587\n",
       "2019     72\n",
       "2015     69\n",
       "2014     42\n",
       "2013     42\n",
       "2018     16\n",
       "2020      8\n",
       "2011      8\n",
       "2017      8\n",
       "2016      8\n",
       "Name: count, dtype: int64"
      ]
     },
     "execution_count": 8,
     "metadata": {},
     "output_type": "execute_result"
    }
   ],
   "source": [
    "df['year'].value_counts()"
   ]
  },
  {
   "cell_type": "code",
   "execution_count": 9,
   "id": "9a176be7",
   "metadata": {},
   "outputs": [],
   "source": [
    "df12 = df[df['year'].isin([2011])].copy()\n",
    "df16 = df[df['year'].isin([2013, 2014, 2015, 2016])].copy()\n",
    "df20 = df[df['year'].isin([2017, 2018, 2019, 2020])].copy()\n",
    "df24 = df[df['year'].isin([2022, 2023])].copy()"
   ]
  },
  {
   "cell_type": "code",
   "execution_count": 10,
   "id": "b7d41a6c",
   "metadata": {},
   "outputs": [
    {
     "name": "stdout",
     "output_type": "stream",
     "text": [
      "<class 'pandas.core.frame.DataFrame'>\n",
      "Index: 161 entries, 1234 to 1506\n",
      "Data columns (total 9 columns):\n",
      " #   Column   Non-Null Count  Dtype  \n",
      "---  ------   --------------  -----  \n",
      " 0   Rank     160 non-null    float64\n",
      " 1   Name     161 non-null    object \n",
      " 2   nation   161 non-null    object \n",
      " 3   D Score  161 non-null    float64\n",
      " 4   E Score  161 non-null    float64\n",
      " 5   Pen.     161 non-null    float64\n",
      " 6   Total    161 non-null    float64\n",
      " 7   year     161 non-null    int64  \n",
      " 8   round    161 non-null    object \n",
      "dtypes: float64(5), int64(1), object(3)\n",
      "memory usage: 12.6+ KB\n"
     ]
    }
   ],
   "source": [
    "df16.info()"
   ]
  },
  {
   "cell_type": "code",
   "execution_count": 11,
   "id": "c7e1ca26",
   "metadata": {},
   "outputs": [
    {
     "data": {
      "text/html": [
       "<div>\n",
       "<style scoped>\n",
       "    .dataframe tbody tr th:only-of-type {\n",
       "        vertical-align: middle;\n",
       "    }\n",
       "\n",
       "    .dataframe tbody tr th {\n",
       "        vertical-align: top;\n",
       "    }\n",
       "\n",
       "    .dataframe thead th {\n",
       "        text-align: right;\n",
       "    }\n",
       "</style>\n",
       "<table border=\"1\" class=\"dataframe\">\n",
       "  <thead>\n",
       "    <tr style=\"text-align: right;\">\n",
       "      <th></th>\n",
       "      <th>Rank</th>\n",
       "      <th>Name</th>\n",
       "      <th>nation</th>\n",
       "      <th>D Score</th>\n",
       "      <th>E Score</th>\n",
       "      <th>Pen.</th>\n",
       "      <th>Total</th>\n",
       "      <th>year</th>\n",
       "      <th>round</th>\n",
       "    </tr>\n",
       "  </thead>\n",
       "  <tbody>\n",
       "    <tr>\n",
       "      <th>1450</th>\n",
       "      <td>8.0</td>\n",
       "      <td>claudia fragapane</td>\n",
       "      <td>GBR</td>\n",
       "      <td>6.0</td>\n",
       "      <td>7.400</td>\n",
       "      <td>0.3</td>\n",
       "      <td>13.100</td>\n",
       "      <td>2014</td>\n",
       "      <td>final</td>\n",
       "    </tr>\n",
       "    <tr>\n",
       "      <th>1456</th>\n",
       "      <td>6.0</td>\n",
       "      <td>ellie downie</td>\n",
       "      <td>GBR</td>\n",
       "      <td>6.0</td>\n",
       "      <td>8.733</td>\n",
       "      <td>0.0</td>\n",
       "      <td>14.733</td>\n",
       "      <td>2015</td>\n",
       "      <td>final</td>\n",
       "    </tr>\n",
       "    <tr>\n",
       "      <th>1457</th>\n",
       "      <td>7.0</td>\n",
       "      <td>claudia fragapane</td>\n",
       "      <td>GBR</td>\n",
       "      <td>6.2</td>\n",
       "      <td>8.366</td>\n",
       "      <td>-0.1</td>\n",
       "      <td>14.466</td>\n",
       "      <td>2015</td>\n",
       "      <td>final</td>\n",
       "    </tr>\n",
       "    <tr>\n",
       "      <th>1483</th>\n",
       "      <td>1.0</td>\n",
       "      <td>amy tinkler</td>\n",
       "      <td>GBR</td>\n",
       "      <td>5.7</td>\n",
       "      <td>8.750</td>\n",
       "      <td>0.0</td>\n",
       "      <td>14.450</td>\n",
       "      <td>2015</td>\n",
       "      <td>final</td>\n",
       "    </tr>\n",
       "    <tr>\n",
       "      <th>1484</th>\n",
       "      <td>2.0</td>\n",
       "      <td>claudia fragapane</td>\n",
       "      <td>GBR</td>\n",
       "      <td>6.1</td>\n",
       "      <td>8.450</td>\n",
       "      <td>-0.3</td>\n",
       "      <td>14.250</td>\n",
       "      <td>2015</td>\n",
       "      <td>final</td>\n",
       "    </tr>\n",
       "    <tr>\n",
       "      <th>1485</th>\n",
       "      <td>3.0</td>\n",
       "      <td>lisa mason</td>\n",
       "      <td>GBR</td>\n",
       "      <td>5.4</td>\n",
       "      <td>8.800</td>\n",
       "      <td>0.0</td>\n",
       "      <td>14.200</td>\n",
       "      <td>2015</td>\n",
       "      <td>final</td>\n",
       "    </tr>\n",
       "    <tr>\n",
       "      <th>1486</th>\n",
       "      <td>4.0</td>\n",
       "      <td>angel romaeo</td>\n",
       "      <td>GBR</td>\n",
       "      <td>5.0</td>\n",
       "      <td>8.550</td>\n",
       "      <td>0.0</td>\n",
       "      <td>13.550</td>\n",
       "      <td>2015</td>\n",
       "      <td>final</td>\n",
       "    </tr>\n",
       "    <tr>\n",
       "      <th>1487</th>\n",
       "      <td>NaN</td>\n",
       "      <td>kelly simm</td>\n",
       "      <td>GBR</td>\n",
       "      <td>5.6</td>\n",
       "      <td>7.950</td>\n",
       "      <td>0.0</td>\n",
       "      <td>13.550</td>\n",
       "      <td>2015</td>\n",
       "      <td>final</td>\n",
       "    </tr>\n",
       "    <tr>\n",
       "      <th>1488</th>\n",
       "      <td>6.0</td>\n",
       "      <td>raer theaker</td>\n",
       "      <td>GBR</td>\n",
       "      <td>5.2</td>\n",
       "      <td>8.200</td>\n",
       "      <td>0.0</td>\n",
       "      <td>13.400</td>\n",
       "      <td>2015</td>\n",
       "      <td>final</td>\n",
       "    </tr>\n",
       "    <tr>\n",
       "      <th>1489</th>\n",
       "      <td>7.0</td>\n",
       "      <td>jade stedford</td>\n",
       "      <td>GBR</td>\n",
       "      <td>4.6</td>\n",
       "      <td>8.350</td>\n",
       "      <td>0.0</td>\n",
       "      <td>12.950</td>\n",
       "      <td>2015</td>\n",
       "      <td>final</td>\n",
       "    </tr>\n",
       "    <tr>\n",
       "      <th>1490</th>\n",
       "      <td>8.0</td>\n",
       "      <td>rebecca moore</td>\n",
       "      <td>GBR</td>\n",
       "      <td>5.0</td>\n",
       "      <td>8.000</td>\n",
       "      <td>-0.1</td>\n",
       "      <td>12.900</td>\n",
       "      <td>2015</td>\n",
       "      <td>final</td>\n",
       "    </tr>\n",
       "  </tbody>\n",
       "</table>\n",
       "</div>"
      ],
      "text/plain": [
       "      Rank               Name nation  D Score  E Score  Pen.   Total  year  \\\n",
       "1450   8.0  claudia fragapane    GBR      6.0    7.400   0.3  13.100  2014   \n",
       "1456   6.0       ellie downie    GBR      6.0    8.733   0.0  14.733  2015   \n",
       "1457   7.0  claudia fragapane    GBR      6.2    8.366  -0.1  14.466  2015   \n",
       "1483   1.0        amy tinkler    GBR      5.7    8.750   0.0  14.450  2015   \n",
       "1484   2.0  claudia fragapane    GBR      6.1    8.450  -0.3  14.250  2015   \n",
       "1485   3.0         lisa mason    GBR      5.4    8.800   0.0  14.200  2015   \n",
       "1486   4.0       angel romaeo    GBR      5.0    8.550   0.0  13.550  2015   \n",
       "1487   NaN         kelly simm    GBR      5.6    7.950   0.0  13.550  2015   \n",
       "1488   6.0       raer theaker    GBR      5.2    8.200   0.0  13.400  2015   \n",
       "1489   7.0      jade stedford    GBR      4.6    8.350   0.0  12.950  2015   \n",
       "1490   8.0      rebecca moore    GBR      5.0    8.000  -0.1  12.900  2015   \n",
       "\n",
       "      round  \n",
       "1450  final  \n",
       "1456  final  \n",
       "1457  final  \n",
       "1483  final  \n",
       "1484  final  \n",
       "1485  final  \n",
       "1486  final  \n",
       "1487  final  \n",
       "1488  final  \n",
       "1489  final  \n",
       "1490  final  "
      ]
     },
     "execution_count": 11,
     "metadata": {},
     "output_type": "execute_result"
    }
   ],
   "source": [
    "df16[df16['nation']=='GBR']"
   ]
  },
  {
   "cell_type": "code",
   "execution_count": 12,
   "id": "514b9b0c",
   "metadata": {},
   "outputs": [
    {
     "name": "stdout",
     "output_type": "stream",
     "text": [
      "<class 'pandas.core.frame.DataFrame'>\n",
      "Index: 104 entries, 1279 to 1482\n",
      "Data columns (total 9 columns):\n",
      " #   Column   Non-Null Count  Dtype  \n",
      "---  ------   --------------  -----  \n",
      " 0   Rank     103 non-null    float64\n",
      " 1   Name     104 non-null    object \n",
      " 2   nation   80 non-null     object \n",
      " 3   D Score  104 non-null    float64\n",
      " 4   E Score  104 non-null    float64\n",
      " 5   Pen.     104 non-null    float64\n",
      " 6   Total    104 non-null    float64\n",
      " 7   year     104 non-null    int64  \n",
      " 8   round    88 non-null     object \n",
      "dtypes: float64(5), int64(1), object(3)\n",
      "memory usage: 8.1+ KB\n"
     ]
    }
   ],
   "source": [
    "df20.info()"
   ]
  },
  {
   "cell_type": "code",
   "execution_count": 13,
   "id": "0e572429",
   "metadata": {},
   "outputs": [
    {
     "name": "stdout",
     "output_type": "stream",
     "text": [
      "<class 'pandas.core.frame.DataFrame'>\n",
      "Index: 1234 entries, 0 to 1233\n",
      "Data columns (total 9 columns):\n",
      " #   Column   Non-Null Count  Dtype  \n",
      "---  ------   --------------  -----  \n",
      " 0   Rank     1234 non-null   float64\n",
      " 1   Name     1234 non-null   object \n",
      " 2   nation   1234 non-null   object \n",
      " 3   D Score  1234 non-null   float64\n",
      " 4   E Score  1234 non-null   float64\n",
      " 5   Pen.     1234 non-null   float64\n",
      " 6   Total    1234 non-null   float64\n",
      " 7   year     1234 non-null   int64  \n",
      " 8   round    1234 non-null   object \n",
      "dtypes: float64(5), int64(1), object(3)\n",
      "memory usage: 96.4+ KB\n"
     ]
    }
   ],
   "source": [
    "df24.info()"
   ]
  },
  {
   "cell_type": "code",
   "execution_count": 14,
   "id": "90897adf",
   "metadata": {},
   "outputs": [],
   "source": [
    "df = df20.copy()"
   ]
  },
  {
   "cell_type": "code",
   "execution_count": 15,
   "id": "aaaa9a74",
   "metadata": {},
   "outputs": [
    {
     "data": {
      "text/plain": [
       "Index(['Rank', 'Name', 'nation', 'D Score', 'E Score', 'Pen.', 'Total', 'year',\n",
       "       'round'],\n",
       "      dtype='object')"
      ]
     },
     "execution_count": 15,
     "metadata": {},
     "output_type": "execute_result"
    }
   ],
   "source": [
    "df.columns"
   ]
  },
  {
   "cell_type": "code",
   "execution_count": 16,
   "id": "3df90c81",
   "metadata": {},
   "outputs": [],
   "source": [
    "# Define a function to assign medal values based on the \"Name\" column\n",
    "def assign_medal(name):\n",
    "    name_lower = name.lower()\n",
    "    if name_lower == 'jade carey':\n",
    "        return 1\n",
    "    elif name_lower == 'vanessa ferrari':\n",
    "        return 1\n",
    "    elif name_lower == 'mai murakami':\n",
    "        return 1\n",
    "    else:\n",
    "        return 0\n",
    "\n",
    "# Apply the function to create the \"medal\" column\n",
    "df['medal'] = df['Name'].apply(assign_medal)\n"
   ]
  },
  {
   "cell_type": "code",
   "execution_count": 17,
   "id": "3de92015",
   "metadata": {},
   "outputs": [
    {
     "data": {
      "text/html": [
       "<div>\n",
       "<style scoped>\n",
       "    .dataframe tbody tr th:only-of-type {\n",
       "        vertical-align: middle;\n",
       "    }\n",
       "\n",
       "    .dataframe tbody tr th {\n",
       "        vertical-align: top;\n",
       "    }\n",
       "\n",
       "    .dataframe thead th {\n",
       "        text-align: right;\n",
       "    }\n",
       "</style>\n",
       "<table border=\"1\" class=\"dataframe\">\n",
       "  <thead>\n",
       "    <tr style=\"text-align: right;\">\n",
       "      <th></th>\n",
       "      <th>Rank</th>\n",
       "      <th>Name</th>\n",
       "      <th>nation</th>\n",
       "      <th>D Score</th>\n",
       "      <th>E Score</th>\n",
       "      <th>Pen.</th>\n",
       "      <th>Total</th>\n",
       "      <th>year</th>\n",
       "      <th>round</th>\n",
       "      <th>medal</th>\n",
       "    </tr>\n",
       "  </thead>\n",
       "  <tbody>\n",
       "    <tr>\n",
       "      <th>1279</th>\n",
       "      <td>1.0</td>\n",
       "      <td>jade carey</td>\n",
       "      <td>USA</td>\n",
       "      <td>6.2</td>\n",
       "      <td>8.266</td>\n",
       "      <td>0.0</td>\n",
       "      <td>14.466</td>\n",
       "      <td>2019</td>\n",
       "      <td>Final</td>\n",
       "      <td>1</td>\n",
       "    </tr>\n",
       "    <tr>\n",
       "      <th>1280</th>\n",
       "      <td>2.0</td>\n",
       "      <td>lara mori</td>\n",
       "      <td>ITA</td>\n",
       "      <td>5.6</td>\n",
       "      <td>7.833</td>\n",
       "      <td>0.0</td>\n",
       "      <td>13.433</td>\n",
       "      <td>2019</td>\n",
       "      <td>Final</td>\n",
       "      <td>0</td>\n",
       "    </tr>\n",
       "    <tr>\n",
       "      <th>1281</th>\n",
       "      <td>3.0</td>\n",
       "      <td>vanessa ferrari</td>\n",
       "      <td>ITA</td>\n",
       "      <td>5.2</td>\n",
       "      <td>8.100</td>\n",
       "      <td>0.0</td>\n",
       "      <td>13.300</td>\n",
       "      <td>2019</td>\n",
       "      <td>Final</td>\n",
       "      <td>1</td>\n",
       "    </tr>\n",
       "    <tr>\n",
       "      <th>1282</th>\n",
       "      <td>4.0</td>\n",
       "      <td>marta pihan-kulesza</td>\n",
       "      <td>POL</td>\n",
       "      <td>5.4</td>\n",
       "      <td>7.933</td>\n",
       "      <td>-0.1</td>\n",
       "      <td>13.233</td>\n",
       "      <td>2019</td>\n",
       "      <td>Final</td>\n",
       "      <td>0</td>\n",
       "    </tr>\n",
       "    <tr>\n",
       "      <th>1283</th>\n",
       "      <td>5.0</td>\n",
       "      <td>marine boyer</td>\n",
       "      <td>FRA</td>\n",
       "      <td>5.0</td>\n",
       "      <td>8.200</td>\n",
       "      <td>0.0</td>\n",
       "      <td>13.200</td>\n",
       "      <td>2019</td>\n",
       "      <td>Final</td>\n",
       "      <td>0</td>\n",
       "    </tr>\n",
       "    <tr>\n",
       "      <th>...</th>\n",
       "      <td>...</td>\n",
       "      <td>...</td>\n",
       "      <td>...</td>\n",
       "      <td>...</td>\n",
       "      <td>...</td>\n",
       "      <td>...</td>\n",
       "      <td>...</td>\n",
       "      <td>...</td>\n",
       "      <td>...</td>\n",
       "      <td>...</td>\n",
       "    </tr>\n",
       "    <tr>\n",
       "      <th>1478</th>\n",
       "      <td>4.0</td>\n",
       "      <td>flávia saraiva</td>\n",
       "      <td>NaN</td>\n",
       "      <td>5.5</td>\n",
       "      <td>8.466</td>\n",
       "      <td>0.0</td>\n",
       "      <td>13.966</td>\n",
       "      <td>2019</td>\n",
       "      <td>final</td>\n",
       "      <td>0</td>\n",
       "    </tr>\n",
       "    <tr>\n",
       "      <th>1479</th>\n",
       "      <td>5.0</td>\n",
       "      <td>mélanie de jesus dos santos</td>\n",
       "      <td>NaN</td>\n",
       "      <td>5.5</td>\n",
       "      <td>8.433</td>\n",
       "      <td>0.1</td>\n",
       "      <td>13.833</td>\n",
       "      <td>2019</td>\n",
       "      <td>final</td>\n",
       "      <td>0</td>\n",
       "    </tr>\n",
       "    <tr>\n",
       "      <th>1480</th>\n",
       "      <td>6.0</td>\n",
       "      <td>roxana popa</td>\n",
       "      <td>NaN</td>\n",
       "      <td>5.4</td>\n",
       "      <td>8.400</td>\n",
       "      <td>0.0</td>\n",
       "      <td>13.800</td>\n",
       "      <td>2019</td>\n",
       "      <td>final</td>\n",
       "      <td>0</td>\n",
       "    </tr>\n",
       "    <tr>\n",
       "      <th>1481</th>\n",
       "      <td>7.0</td>\n",
       "      <td>brooklyn moors</td>\n",
       "      <td>NaN</td>\n",
       "      <td>5.3</td>\n",
       "      <td>8.400</td>\n",
       "      <td>0.1</td>\n",
       "      <td>13.600</td>\n",
       "      <td>2019</td>\n",
       "      <td>final</td>\n",
       "      <td>0</td>\n",
       "    </tr>\n",
       "    <tr>\n",
       "      <th>1482</th>\n",
       "      <td>8.0</td>\n",
       "      <td>lilia akhaimova</td>\n",
       "      <td>NaN</td>\n",
       "      <td>6.0</td>\n",
       "      <td>7.800</td>\n",
       "      <td>0.3</td>\n",
       "      <td>13.500</td>\n",
       "      <td>2019</td>\n",
       "      <td>final</td>\n",
       "      <td>0</td>\n",
       "    </tr>\n",
       "  </tbody>\n",
       "</table>\n",
       "<p>104 rows × 10 columns</p>\n",
       "</div>"
      ],
      "text/plain": [
       "      Rank                         Name nation  D Score  E Score  Pen.  \\\n",
       "1279   1.0                   jade carey    USA      6.2    8.266   0.0   \n",
       "1280   2.0                    lara mori    ITA      5.6    7.833   0.0   \n",
       "1281   3.0              vanessa ferrari    ITA      5.2    8.100   0.0   \n",
       "1282   4.0          marta pihan-kulesza    POL      5.4    7.933  -0.1   \n",
       "1283   5.0                 marine boyer    FRA      5.0    8.200   0.0   \n",
       "...    ...                          ...    ...      ...      ...   ...   \n",
       "1478   4.0               flávia saraiva    NaN      5.5    8.466   0.0   \n",
       "1479   5.0  mélanie de jesus dos santos    NaN      5.5    8.433   0.1   \n",
       "1480   6.0                  roxana popa    NaN      5.4    8.400   0.0   \n",
       "1481   7.0               brooklyn moors    NaN      5.3    8.400   0.1   \n",
       "1482   8.0              lilia akhaimova    NaN      6.0    7.800   0.3   \n",
       "\n",
       "       Total  year  round  medal  \n",
       "1279  14.466  2019  Final      1  \n",
       "1280  13.433  2019  Final      0  \n",
       "1281  13.300  2019  Final      1  \n",
       "1282  13.233  2019  Final      0  \n",
       "1283  13.200  2019  Final      0  \n",
       "...      ...   ...    ...    ...  \n",
       "1478  13.966  2019  final      0  \n",
       "1479  13.833  2019  final      0  \n",
       "1480  13.800  2019  final      0  \n",
       "1481  13.600  2019  final      0  \n",
       "1482  13.500  2019  final      0  \n",
       "\n",
       "[104 rows x 10 columns]"
      ]
     },
     "execution_count": 17,
     "metadata": {},
     "output_type": "execute_result"
    }
   ],
   "source": [
    "df"
   ]
  },
  {
   "cell_type": "code",
   "execution_count": 18,
   "id": "384acde4",
   "metadata": {},
   "outputs": [
    {
     "data": {
      "text/plain": [
       "medal\n",
       "0    94\n",
       "1    10\n",
       "Name: count, dtype: int64"
      ]
     },
     "execution_count": 18,
     "metadata": {},
     "output_type": "execute_result"
    }
   ],
   "source": [
    "df['medal'].value_counts()"
   ]
  },
  {
   "cell_type": "code",
   "execution_count": 19,
   "id": "f0d4082e",
   "metadata": {
    "scrolled": true
   },
   "outputs": [
    {
     "data": {
      "text/plain": [
       "medal\n",
       "0    94\n",
       "1    10\n",
       "Name: count, dtype: int64"
      ]
     },
     "execution_count": 19,
     "metadata": {},
     "output_type": "execute_result"
    }
   ],
   "source": [
    "df['medal'].value_counts()"
   ]
  },
  {
   "cell_type": "code",
   "execution_count": 20,
   "id": "b272f3ea",
   "metadata": {},
   "outputs": [],
   "source": [
    "# medal\n",
    "# -1    134\n",
    "#  3      3"
   ]
  },
  {
   "cell_type": "code",
   "execution_count": 21,
   "id": "a1a6fcb5",
   "metadata": {},
   "outputs": [],
   "source": [
    "# -1 is 228\n",
    "# 2 is 5\n",
    "# 3 is 6\n",
    "# 1 is 2"
   ]
  },
  {
   "cell_type": "code",
   "execution_count": null,
   "id": "c2d44716",
   "metadata": {},
   "outputs": [],
   "source": []
  },
  {
   "cell_type": "code",
   "execution_count": null,
   "id": "445d7a14",
   "metadata": {},
   "outputs": [],
   "source": []
  },
  {
   "cell_type": "code",
   "execution_count": 22,
   "id": "9da9e837",
   "metadata": {},
   "outputs": [],
   "source": [
    "df20 = df.copy()"
   ]
  },
  {
   "cell_type": "code",
   "execution_count": 23,
   "id": "b56790a3",
   "metadata": {},
   "outputs": [],
   "source": [
    "df = df16.copy()"
   ]
  },
  {
   "cell_type": "code",
   "execution_count": 24,
   "id": "1a60b571",
   "metadata": {},
   "outputs": [],
   "source": [
    "# Define a function to assign medal values based on the \"Name\" column\n",
    "def assign_medal(name):\n",
    "    name_lower = name.lower()\n",
    "    if name_lower == 'simone biles':\n",
    "        return 1\n",
    "    elif name_lower == 'aly raisman':\n",
    "        return 1\n",
    "    elif name_lower == 'amy tinkler':\n",
    "        return 1\n",
    "    else:\n",
    "        return 0\n",
    "\n",
    "# Apply the function to create the \"medal\" column\n",
    "df['medal'] = df['Name'].apply(assign_medal)\n"
   ]
  },
  {
   "cell_type": "code",
   "execution_count": 25,
   "id": "cc591b1c",
   "metadata": {},
   "outputs": [
    {
     "data": {
      "text/plain": [
       "medal\n",
       "0    154\n",
       "1      7\n",
       "Name: count, dtype: int64"
      ]
     },
     "execution_count": 25,
     "metadata": {},
     "output_type": "execute_result"
    }
   ],
   "source": [
    "df['medal'].value_counts()"
   ]
  },
  {
   "cell_type": "code",
   "execution_count": 26,
   "id": "042f1f67",
   "metadata": {
    "scrolled": true
   },
   "outputs": [
    {
     "data": {
      "text/plain": [
       "medal\n",
       "0    154\n",
       "1      7\n",
       "Name: count, dtype: int64"
      ]
     },
     "execution_count": 26,
     "metadata": {},
     "output_type": "execute_result"
    }
   ],
   "source": [
    "df['medal'].value_counts()"
   ]
  },
  {
   "cell_type": "code",
   "execution_count": 27,
   "id": "30eec869",
   "metadata": {},
   "outputs": [],
   "source": [
    "df16=df.copy()"
   ]
  },
  {
   "cell_type": "code",
   "execution_count": 28,
   "id": "09fd1322",
   "metadata": {},
   "outputs": [],
   "source": [
    "df = pd.concat([df20, df16])"
   ]
  },
  {
   "cell_type": "markdown",
   "id": "df565027",
   "metadata": {},
   "source": [
    "---"
   ]
  },
  {
   "cell_type": "markdown",
   "id": "1d56db33",
   "metadata": {},
   "source": [
    "# testing with models - see if there is any accuracy  before separating"
   ]
  },
  {
   "cell_type": "code",
   "execution_count": 29,
   "id": "91b4b755",
   "metadata": {},
   "outputs": [],
   "source": [
    "df['nation'].fillna('none',inplace=True)"
   ]
  },
  {
   "cell_type": "code",
   "execution_count": 30,
   "id": "aca84a2c",
   "metadata": {},
   "outputs": [],
   "source": [
    "df['round'].fillna('none',inplace=True)"
   ]
  },
  {
   "cell_type": "code",
   "execution_count": 31,
   "id": "523c11a6",
   "metadata": {},
   "outputs": [
    {
     "name": "stdout",
     "output_type": "stream",
     "text": [
      "<class 'pandas.core.frame.DataFrame'>\n",
      "Index: 265 entries, 1279 to 1506\n",
      "Data columns (total 10 columns):\n",
      " #   Column   Non-Null Count  Dtype  \n",
      "---  ------   --------------  -----  \n",
      " 0   Rank     263 non-null    float64\n",
      " 1   Name     265 non-null    object \n",
      " 2   nation   265 non-null    object \n",
      " 3   D Score  265 non-null    float64\n",
      " 4   E Score  265 non-null    float64\n",
      " 5   Pen.     265 non-null    float64\n",
      " 6   Total    265 non-null    float64\n",
      " 7   year     265 non-null    int64  \n",
      " 8   round    265 non-null    object \n",
      " 9   medal    265 non-null    int64  \n",
      "dtypes: float64(5), int64(2), object(3)\n",
      "memory usage: 22.8+ KB\n"
     ]
    }
   ],
   "source": [
    "df.info()"
   ]
  },
  {
   "cell_type": "code",
   "execution_count": 32,
   "id": "29322ab7",
   "metadata": {},
   "outputs": [
    {
     "data": {
      "text/plain": [
       "Rank        37\n",
       "Name       179\n",
       "nation      51\n",
       "D Score     32\n",
       "E Score    116\n",
       "Pen.        11\n",
       "Total      157\n",
       "year         8\n",
       "round        5\n",
       "medal        2\n",
       "dtype: int64"
      ]
     },
     "execution_count": 32,
     "metadata": {},
     "output_type": "execute_result"
    }
   ],
   "source": [
    "df.nunique()"
   ]
  },
  {
   "cell_type": "code",
   "execution_count": 33,
   "id": "766c8a63",
   "metadata": {},
   "outputs": [
    {
     "data": {
      "text/plain": [
       "Rank        37\n",
       "Name       179\n",
       "nation      51\n",
       "D Score     32\n",
       "E Score    116\n",
       "Pen.        11\n",
       "Total      157\n",
       "year         8\n",
       "round        5\n",
       "medal        2\n",
       "dtype: int64"
      ]
     },
     "execution_count": 33,
     "metadata": {},
     "output_type": "execute_result"
    }
   ],
   "source": [
    "df.nunique()"
   ]
  },
  {
   "cell_type": "code",
   "execution_count": 34,
   "id": "4198341c",
   "metadata": {},
   "outputs": [],
   "source": [
    "df['Name'] = df['Name'].str.strip()\n",
    "df['nation'] = df['nation'].str.strip()\n",
    "df['round'] = df['round'].str.strip()\n"
   ]
  },
  {
   "cell_type": "code",
   "execution_count": 35,
   "id": "0cbd27d5",
   "metadata": {},
   "outputs": [],
   "source": [
    "df = df.drop(columns=['Pen.'])  # For example, removing the \"Pen.\" column\n"
   ]
  },
  {
   "cell_type": "code",
   "execution_count": 36,
   "id": "d4b08a9f",
   "metadata": {},
   "outputs": [],
   "source": [
    "from sklearn.preprocessing import LabelEncoder\n",
    "\n",
    "# Create a LabelEncoder\n",
    "label_encoder = LabelEncoder()\n",
    "\n",
    "# Apply label encoding to the \"nation\" column\n",
    "df['nation_encoded'] = label_encoder.fit_transform(df['nation'])\n"
   ]
  },
  {
   "cell_type": "code",
   "execution_count": 37,
   "id": "285c5127",
   "metadata": {},
   "outputs": [
    {
     "data": {
      "text/html": [
       "<div>\n",
       "<style scoped>\n",
       "    .dataframe tbody tr th:only-of-type {\n",
       "        vertical-align: middle;\n",
       "    }\n",
       "\n",
       "    .dataframe tbody tr th {\n",
       "        vertical-align: top;\n",
       "    }\n",
       "\n",
       "    .dataframe thead th {\n",
       "        text-align: right;\n",
       "    }\n",
       "</style>\n",
       "<table border=\"1\" class=\"dataframe\">\n",
       "  <thead>\n",
       "    <tr style=\"text-align: right;\">\n",
       "      <th></th>\n",
       "      <th>Rank</th>\n",
       "      <th>Name</th>\n",
       "      <th>nation</th>\n",
       "      <th>D Score</th>\n",
       "      <th>E Score</th>\n",
       "      <th>Total</th>\n",
       "      <th>year</th>\n",
       "      <th>round</th>\n",
       "      <th>medal</th>\n",
       "      <th>nation_encoded</th>\n",
       "    </tr>\n",
       "  </thead>\n",
       "  <tbody>\n",
       "    <tr>\n",
       "      <th>1279</th>\n",
       "      <td>1.0</td>\n",
       "      <td>jade carey</td>\n",
       "      <td>USA</td>\n",
       "      <td>6.2</td>\n",
       "      <td>8.266</td>\n",
       "      <td>14.466</td>\n",
       "      <td>2019</td>\n",
       "      <td>Final</td>\n",
       "      <td>1</td>\n",
       "      <td>45</td>\n",
       "    </tr>\n",
       "    <tr>\n",
       "      <th>1280</th>\n",
       "      <td>2.0</td>\n",
       "      <td>lara mori</td>\n",
       "      <td>ITA</td>\n",
       "      <td>5.6</td>\n",
       "      <td>7.833</td>\n",
       "      <td>13.433</td>\n",
       "      <td>2019</td>\n",
       "      <td>Final</td>\n",
       "      <td>0</td>\n",
       "      <td>22</td>\n",
       "    </tr>\n",
       "    <tr>\n",
       "      <th>1281</th>\n",
       "      <td>3.0</td>\n",
       "      <td>vanessa ferrari</td>\n",
       "      <td>ITA</td>\n",
       "      <td>5.2</td>\n",
       "      <td>8.100</td>\n",
       "      <td>13.300</td>\n",
       "      <td>2019</td>\n",
       "      <td>Final</td>\n",
       "      <td>1</td>\n",
       "      <td>22</td>\n",
       "    </tr>\n",
       "    <tr>\n",
       "      <th>1282</th>\n",
       "      <td>4.0</td>\n",
       "      <td>marta pihan-kulesza</td>\n",
       "      <td>POL</td>\n",
       "      <td>5.4</td>\n",
       "      <td>7.933</td>\n",
       "      <td>13.233</td>\n",
       "      <td>2019</td>\n",
       "      <td>Final</td>\n",
       "      <td>0</td>\n",
       "      <td>30</td>\n",
       "    </tr>\n",
       "    <tr>\n",
       "      <th>1283</th>\n",
       "      <td>5.0</td>\n",
       "      <td>marine boyer</td>\n",
       "      <td>FRA</td>\n",
       "      <td>5.0</td>\n",
       "      <td>8.200</td>\n",
       "      <td>13.200</td>\n",
       "      <td>2019</td>\n",
       "      <td>Final</td>\n",
       "      <td>0</td>\n",
       "      <td>14</td>\n",
       "    </tr>\n",
       "  </tbody>\n",
       "</table>\n",
       "</div>"
      ],
      "text/plain": [
       "      Rank                 Name nation  D Score  E Score   Total  year  round  \\\n",
       "1279   1.0           jade carey    USA      6.2    8.266  14.466  2019  Final   \n",
       "1280   2.0            lara mori    ITA      5.6    7.833  13.433  2019  Final   \n",
       "1281   3.0      vanessa ferrari    ITA      5.2    8.100  13.300  2019  Final   \n",
       "1282   4.0  marta pihan-kulesza    POL      5.4    7.933  13.233  2019  Final   \n",
       "1283   5.0         marine boyer    FRA      5.0    8.200  13.200  2019  Final   \n",
       "\n",
       "      medal  nation_encoded  \n",
       "1279      1              45  \n",
       "1280      0              22  \n",
       "1281      1              22  \n",
       "1282      0              30  \n",
       "1283      0              14  "
      ]
     },
     "execution_count": 37,
     "metadata": {},
     "output_type": "execute_result"
    }
   ],
   "source": [
    "df.head()\n"
   ]
  },
  {
   "cell_type": "code",
   "execution_count": 38,
   "id": "072912c3",
   "metadata": {},
   "outputs": [],
   "source": [
    "from sklearn.preprocessing import LabelEncoder\n",
    "\n",
    "# Create a LabelEncoder\n",
    "label_encoder = LabelEncoder()\n",
    "\n",
    "# Apply label encoding to the \"nation\" column\n",
    "df['Name_encoded'] = label_encoder.fit_transform(df['Name'])\n"
   ]
  },
  {
   "cell_type": "code",
   "execution_count": 39,
   "id": "a6e6f7b1",
   "metadata": {},
   "outputs": [],
   "source": [
    "df = df.drop(columns=['Name','nation'])"
   ]
  },
  {
   "cell_type": "code",
   "execution_count": 40,
   "id": "76e47b59",
   "metadata": {},
   "outputs": [
    {
     "name": "stdout",
     "output_type": "stream",
     "text": [
      "<class 'pandas.core.frame.DataFrame'>\n",
      "Index: 265 entries, 1279 to 1506\n",
      "Data columns (total 9 columns):\n",
      " #   Column          Non-Null Count  Dtype  \n",
      "---  ------          --------------  -----  \n",
      " 0   Rank            263 non-null    float64\n",
      " 1   D Score         265 non-null    float64\n",
      " 2   E Score         265 non-null    float64\n",
      " 3   Total           265 non-null    float64\n",
      " 4   year            265 non-null    int64  \n",
      " 5   round           265 non-null    object \n",
      " 6   medal           265 non-null    int64  \n",
      " 7   nation_encoded  265 non-null    int64  \n",
      " 8   Name_encoded    265 non-null    int64  \n",
      "dtypes: float64(4), int64(4), object(1)\n",
      "memory usage: 20.7+ KB\n"
     ]
    }
   ],
   "source": [
    "df.info()"
   ]
  },
  {
   "cell_type": "code",
   "execution_count": 41,
   "id": "25423c9d",
   "metadata": {},
   "outputs": [],
   "source": [
    "df = df.drop(columns=['round'])"
   ]
  },
  {
   "cell_type": "code",
   "execution_count": 42,
   "id": "6577a4d2",
   "metadata": {},
   "outputs": [],
   "source": [
    "df=df.dropna()"
   ]
  },
  {
   "cell_type": "code",
   "execution_count": 65,
   "id": "1e0fae1e",
   "metadata": {},
   "outputs": [],
   "source": [
    "from sklearn.model_selection import train_test_split\n",
    "\n",
    "# Define features (X) and target (y)\n",
    "X = df[['Rank', 'D Score', 'E Score', 'Total', 'year', 'nation_encoded', 'Name_encoded']]\n",
    "y = df['medal']\n",
    "\n",
    "# Split the data into training and testing sets\n",
    "X_train, X_test, y_train, y_test = train_test_split(X, y, test_size=0.1, random_state=42)\n"
   ]
  },
  {
   "cell_type": "code",
   "execution_count": 66,
   "id": "8611ab54",
   "metadata": {},
   "outputs": [],
   "source": [
    "from sklearn.ensemble import RandomForestClassifier\n",
    "\n",
    "# Create a Random Forest Classifier\n",
    "model = RandomForestClassifier()\n"
   ]
  },
  {
   "cell_type": "code",
   "execution_count": 67,
   "id": "1e7daab1",
   "metadata": {},
   "outputs": [
    {
     "data": {
      "text/html": [
       "<style>#sk-container-id-2 {color: black;}#sk-container-id-2 pre{padding: 0;}#sk-container-id-2 div.sk-toggleable {background-color: white;}#sk-container-id-2 label.sk-toggleable__label {cursor: pointer;display: block;width: 100%;margin-bottom: 0;padding: 0.3em;box-sizing: border-box;text-align: center;}#sk-container-id-2 label.sk-toggleable__label-arrow:before {content: \"▸\";float: left;margin-right: 0.25em;color: #696969;}#sk-container-id-2 label.sk-toggleable__label-arrow:hover:before {color: black;}#sk-container-id-2 div.sk-estimator:hover label.sk-toggleable__label-arrow:before {color: black;}#sk-container-id-2 div.sk-toggleable__content {max-height: 0;max-width: 0;overflow: hidden;text-align: left;background-color: #f0f8ff;}#sk-container-id-2 div.sk-toggleable__content pre {margin: 0.2em;color: black;border-radius: 0.25em;background-color: #f0f8ff;}#sk-container-id-2 input.sk-toggleable__control:checked~div.sk-toggleable__content {max-height: 200px;max-width: 100%;overflow: auto;}#sk-container-id-2 input.sk-toggleable__control:checked~label.sk-toggleable__label-arrow:before {content: \"▾\";}#sk-container-id-2 div.sk-estimator input.sk-toggleable__control:checked~label.sk-toggleable__label {background-color: #d4ebff;}#sk-container-id-2 div.sk-label input.sk-toggleable__control:checked~label.sk-toggleable__label {background-color: #d4ebff;}#sk-container-id-2 input.sk-hidden--visually {border: 0;clip: rect(1px 1px 1px 1px);clip: rect(1px, 1px, 1px, 1px);height: 1px;margin: -1px;overflow: hidden;padding: 0;position: absolute;width: 1px;}#sk-container-id-2 div.sk-estimator {font-family: monospace;background-color: #f0f8ff;border: 1px dotted black;border-radius: 0.25em;box-sizing: border-box;margin-bottom: 0.5em;}#sk-container-id-2 div.sk-estimator:hover {background-color: #d4ebff;}#sk-container-id-2 div.sk-parallel-item::after {content: \"\";width: 100%;border-bottom: 1px solid gray;flex-grow: 1;}#sk-container-id-2 div.sk-label:hover label.sk-toggleable__label {background-color: #d4ebff;}#sk-container-id-2 div.sk-serial::before {content: \"\";position: absolute;border-left: 1px solid gray;box-sizing: border-box;top: 0;bottom: 0;left: 50%;z-index: 0;}#sk-container-id-2 div.sk-serial {display: flex;flex-direction: column;align-items: center;background-color: white;padding-right: 0.2em;padding-left: 0.2em;position: relative;}#sk-container-id-2 div.sk-item {position: relative;z-index: 1;}#sk-container-id-2 div.sk-parallel {display: flex;align-items: stretch;justify-content: center;background-color: white;position: relative;}#sk-container-id-2 div.sk-item::before, #sk-container-id-2 div.sk-parallel-item::before {content: \"\";position: absolute;border-left: 1px solid gray;box-sizing: border-box;top: 0;bottom: 0;left: 50%;z-index: -1;}#sk-container-id-2 div.sk-parallel-item {display: flex;flex-direction: column;z-index: 1;position: relative;background-color: white;}#sk-container-id-2 div.sk-parallel-item:first-child::after {align-self: flex-end;width: 50%;}#sk-container-id-2 div.sk-parallel-item:last-child::after {align-self: flex-start;width: 50%;}#sk-container-id-2 div.sk-parallel-item:only-child::after {width: 0;}#sk-container-id-2 div.sk-dashed-wrapped {border: 1px dashed gray;margin: 0 0.4em 0.5em 0.4em;box-sizing: border-box;padding-bottom: 0.4em;background-color: white;}#sk-container-id-2 div.sk-label label {font-family: monospace;font-weight: bold;display: inline-block;line-height: 1.2em;}#sk-container-id-2 div.sk-label-container {text-align: center;}#sk-container-id-2 div.sk-container {/* jupyter's `normalize.less` sets `[hidden] { display: none; }` but bootstrap.min.css set `[hidden] { display: none !important; }` so we also need the `!important` here to be able to override the default hidden behavior on the sphinx rendered scikit-learn.org. See: https://github.com/scikit-learn/scikit-learn/issues/21755 */display: inline-block !important;position: relative;}#sk-container-id-2 div.sk-text-repr-fallback {display: none;}</style><div id=\"sk-container-id-2\" class=\"sk-top-container\"><div class=\"sk-text-repr-fallback\"><pre>RandomForestClassifier()</pre><b>In a Jupyter environment, please rerun this cell to show the HTML representation or trust the notebook. <br />On GitHub, the HTML representation is unable to render, please try loading this page with nbviewer.org.</b></div><div class=\"sk-container\" hidden><div class=\"sk-item\"><div class=\"sk-estimator sk-toggleable\"><input class=\"sk-toggleable__control sk-hidden--visually\" id=\"sk-estimator-id-2\" type=\"checkbox\" checked><label for=\"sk-estimator-id-2\" class=\"sk-toggleable__label sk-toggleable__label-arrow\">RandomForestClassifier</label><div class=\"sk-toggleable__content\"><pre>RandomForestClassifier()</pre></div></div></div></div></div>"
      ],
      "text/plain": [
       "RandomForestClassifier()"
      ]
     },
     "execution_count": 67,
     "metadata": {},
     "output_type": "execute_result"
    }
   ],
   "source": [
    "model.fit(X_train, y_train)\n"
   ]
  },
  {
   "cell_type": "code",
   "execution_count": 68,
   "id": "d9df956e",
   "metadata": {},
   "outputs": [
    {
     "name": "stdout",
     "output_type": "stream",
     "text": [
      "Accuracy: 0.8518518518518519\n",
      "              precision    recall  f1-score   support\n",
      "\n",
      "           0       0.85      1.00      0.92        23\n",
      "           1       0.00      0.00      0.00         4\n",
      "\n",
      "    accuracy                           0.85        27\n",
      "   macro avg       0.43      0.50      0.46        27\n",
      "weighted avg       0.73      0.85      0.78        27\n",
      "\n"
     ]
    },
    {
     "name": "stderr",
     "output_type": "stream",
     "text": [
      "/Users/ryantalbot/opt/anaconda3/envs/tf2/lib/python3.9/site-packages/sklearn/metrics/_classification.py:1469: UndefinedMetricWarning: Precision and F-score are ill-defined and being set to 0.0 in labels with no predicted samples. Use `zero_division` parameter to control this behavior.\n",
      "  _warn_prf(average, modifier, msg_start, len(result))\n",
      "/Users/ryantalbot/opt/anaconda3/envs/tf2/lib/python3.9/site-packages/sklearn/metrics/_classification.py:1469: UndefinedMetricWarning: Precision and F-score are ill-defined and being set to 0.0 in labels with no predicted samples. Use `zero_division` parameter to control this behavior.\n",
      "  _warn_prf(average, modifier, msg_start, len(result))\n",
      "/Users/ryantalbot/opt/anaconda3/envs/tf2/lib/python3.9/site-packages/sklearn/metrics/_classification.py:1469: UndefinedMetricWarning: Precision and F-score are ill-defined and being set to 0.0 in labels with no predicted samples. Use `zero_division` parameter to control this behavior.\n",
      "  _warn_prf(average, modifier, msg_start, len(result))\n"
     ]
    }
   ],
   "source": [
    "from sklearn.metrics import accuracy_score, classification_report\n",
    "\n",
    "# Predict on the testing set\n",
    "y_pred = model.predict(X_test)\n",
    "\n",
    "# Calculate accuracy\n",
    "accuracy = accuracy_score(y_test, y_pred)\n",
    "\n",
    "# Generate a classification report\n",
    "report = classification_report(y_test, y_pred)\n",
    "\n",
    "print(f'Accuracy: {accuracy}')\n",
    "print(report)\n"
   ]
  },
  {
   "cell_type": "code",
   "execution_count": 69,
   "id": "c470d82e",
   "metadata": {},
   "outputs": [
    {
     "data": {
      "text/plain": [
       "array([0, 0, 0, 0, 0, 0, 0, 0, 0, 0, 0, 0, 0, 0, 0, 0, 0, 0, 0, 0, 0, 0,\n",
       "       0, 0, 0, 0, 0])"
      ]
     },
     "execution_count": 69,
     "metadata": {},
     "output_type": "execute_result"
    }
   ],
   "source": [
    "y_pred"
   ]
  },
  {
   "cell_type": "code",
   "execution_count": 70,
   "id": "c37bfa2c",
   "metadata": {},
   "outputs": [
    {
     "data": {
      "text/plain": [
       "1246    0\n",
       "1251    0\n",
       "1503    0\n",
       "1445    0\n",
       "1413    0\n",
       "1493    1\n",
       "1361    0\n",
       "1435    1\n",
       "1288    0\n",
       "1481    0\n",
       "1303    0\n",
       "1242    0\n",
       "1325    0\n",
       "1442    0\n",
       "1378    0\n",
       "1400    0\n",
       "1459    1\n",
       "1285    0\n",
       "1499    1\n",
       "1414    0\n",
       "1272    0\n",
       "1278    0\n",
       "1298    0\n",
       "1498    0\n",
       "1240    0\n",
       "1267    0\n",
       "1426    0\n",
       "Name: medal, dtype: int64"
      ]
     },
     "execution_count": 70,
     "metadata": {},
     "output_type": "execute_result"
    }
   ],
   "source": [
    "y_test"
   ]
  },
  {
   "cell_type": "code",
   "execution_count": 71,
   "id": "3ad6b9ec",
   "metadata": {},
   "outputs": [
    {
     "name": "stdout",
     "output_type": "stream",
     "text": [
      "Cross-Validation Scores: [0.9245283  0.69811321 0.94339623 0.98076923 0.94230769]\n",
      "Mean Accuracy: 0.90\n",
      "Standard Deviation: 0.10\n"
     ]
    }
   ],
   "source": [
    "from sklearn.model_selection import cross_val_score\n",
    "from sklearn.ensemble import RandomForestClassifier\n",
    "\n",
    "# Define your model\n",
    "model = RandomForestClassifier()\n",
    "\n",
    "# Perform k-fold cross-validation\n",
    "k = 5  # You can choose the number of folds (k) based on your preference\n",
    "scores = cross_val_score(model, X, y, cv=k, scoring='accuracy')\n",
    "\n",
    "# 'X' is your feature matrix, 'y' is your target variable, and 'k' is the number of folds\n",
    "# 'scoring' parameter specifies the evaluation metric (e.g., 'accuracy')\n",
    "\n",
    "# Print the cross-validation scores\n",
    "print(\"Cross-Validation Scores:\", scores)\n",
    "\n",
    "# Calculate and print the mean and standard deviation of the scores\n",
    "mean_score = scores.mean()\n",
    "std_dev = scores.std()\n",
    "print(f\"Mean Accuracy: {mean_score:.2f}\")\n",
    "print(f\"Standard Deviation: {std_dev:.2f}\")\n"
   ]
  },
  {
   "cell_type": "code",
   "execution_count": 72,
   "id": "3e0ce642",
   "metadata": {},
   "outputs": [],
   "source": [
    "from sklearn.preprocessing import MinMaxScaler\n",
    "\n",
    "# Create a MinMaxScaler\n",
    "scaler = MinMaxScaler()\n",
    "\n",
    "# Fit the scaler on your training data and transform it\n",
    "X_train_scaled = scaler.fit_transform(X_train)\n",
    "\n",
    "# Transform your testing data using the same scaler\n",
    "X_test_scaled = scaler.transform(X_test)\n"
   ]
  },
  {
   "cell_type": "code",
   "execution_count": 73,
   "id": "dd05ec50",
   "metadata": {},
   "outputs": [
    {
     "name": "stdout",
     "output_type": "stream",
     "text": [
      "Accuracy: 0.8518518518518519\n",
      "              precision    recall  f1-score   support\n",
      "\n",
      "           0       0.85      1.00      0.92        23\n",
      "           1       0.00      0.00      0.00         4\n",
      "\n",
      "    accuracy                           0.85        27\n",
      "   macro avg       0.43      0.50      0.46        27\n",
      "weighted avg       0.73      0.85      0.78        27\n",
      "\n"
     ]
    },
    {
     "name": "stderr",
     "output_type": "stream",
     "text": [
      "/Users/ryantalbot/opt/anaconda3/envs/tf2/lib/python3.9/site-packages/sklearn/metrics/_classification.py:1469: UndefinedMetricWarning: Precision and F-score are ill-defined and being set to 0.0 in labels with no predicted samples. Use `zero_division` parameter to control this behavior.\n",
      "  _warn_prf(average, modifier, msg_start, len(result))\n",
      "/Users/ryantalbot/opt/anaconda3/envs/tf2/lib/python3.9/site-packages/sklearn/metrics/_classification.py:1469: UndefinedMetricWarning: Precision and F-score are ill-defined and being set to 0.0 in labels with no predicted samples. Use `zero_division` parameter to control this behavior.\n",
      "  _warn_prf(average, modifier, msg_start, len(result))\n",
      "/Users/ryantalbot/opt/anaconda3/envs/tf2/lib/python3.9/site-packages/sklearn/metrics/_classification.py:1469: UndefinedMetricWarning: Precision and F-score are ill-defined and being set to 0.0 in labels with no predicted samples. Use `zero_division` parameter to control this behavior.\n",
      "  _warn_prf(average, modifier, msg_start, len(result))\n"
     ]
    }
   ],
   "source": [
    "from sklearn.ensemble import RandomForestClassifier\n",
    "from sklearn.metrics import accuracy_score, classification_report\n",
    "\n",
    "# Create a Random Forest Classifier (or any other model you want to use)\n",
    "model = RandomForestClassifier()\n",
    "\n",
    "# Train your model on the scaled training data\n",
    "model.fit(X_train_scaled, y_train)\n",
    "\n",
    "# Predict on the scaled testing data\n",
    "y_pred = model.predict(X_test_scaled)\n",
    "\n",
    "# Calculate accuracy on the scaled testing data\n",
    "accuracy = accuracy_score(y_test, y_pred)\n",
    "\n",
    "# Generate a classification report\n",
    "report = classification_report(y_test, y_pred)\n",
    "\n",
    "# Print the results\n",
    "print(f'Accuracy: {accuracy}')\n",
    "print(report)\n"
   ]
  },
  {
   "cell_type": "code",
   "execution_count": 74,
   "id": "e7e9ecb0",
   "metadata": {},
   "outputs": [
    {
     "data": {
      "text/plain": [
       "array([0, 0, 0, 0, 0, 0, 0, 0, 0, 0, 0, 0, 0, 0, 0, 0, 0, 0, 0, 0, 0, 0,\n",
       "       0, 0, 0, 0, 0])"
      ]
     },
     "execution_count": 74,
     "metadata": {},
     "output_type": "execute_result"
    }
   ],
   "source": [
    "y_pred"
   ]
  },
  {
   "cell_type": "code",
   "execution_count": 75,
   "id": "b347fb75",
   "metadata": {},
   "outputs": [
    {
     "data": {
      "text/plain": [
       "1246    0\n",
       "1251    0\n",
       "1503    0\n",
       "1445    0\n",
       "1413    0\n",
       "1493    1\n",
       "1361    0\n",
       "1435    1\n",
       "1288    0\n",
       "1481    0\n",
       "1303    0\n",
       "1242    0\n",
       "1325    0\n",
       "1442    0\n",
       "1378    0\n",
       "1400    0\n",
       "1459    1\n",
       "1285    0\n",
       "1499    1\n",
       "1414    0\n",
       "1272    0\n",
       "1278    0\n",
       "1298    0\n",
       "1498    0\n",
       "1240    0\n",
       "1267    0\n",
       "1426    0\n",
       "Name: medal, dtype: int64"
      ]
     },
     "execution_count": 75,
     "metadata": {},
     "output_type": "execute_result"
    }
   ],
   "source": [
    "y_test"
   ]
  },
  {
   "cell_type": "code",
   "execution_count": 76,
   "id": "6b75d00a",
   "metadata": {},
   "outputs": [
    {
     "name": "stdout",
     "output_type": "stream",
     "text": [
      "Threshold: 0.20\n",
      "Accuracy: 0.93\n",
      "              precision    recall  f1-score   support\n",
      "\n",
      "           0       0.96      0.96      0.96        23\n",
      "           1       0.75      0.75      0.75         4\n",
      "\n",
      "    accuracy                           0.93        27\n",
      "   macro avg       0.85      0.85      0.85        27\n",
      "weighted avg       0.93      0.93      0.93        27\n",
      "\n",
      "\n",
      "Threshold: 0.40\n",
      "Accuracy: 0.85\n",
      "              precision    recall  f1-score   support\n",
      "\n",
      "           0       0.85      1.00      0.92        23\n",
      "           1       0.00      0.00      0.00         4\n",
      "\n",
      "    accuracy                           0.85        27\n",
      "   macro avg       0.43      0.50      0.46        27\n",
      "weighted avg       0.73      0.85      0.78        27\n",
      "\n",
      "\n",
      "Threshold: 0.60\n",
      "Accuracy: 0.85\n",
      "              precision    recall  f1-score   support\n",
      "\n",
      "           0       0.85      1.00      0.92        23\n",
      "           1       0.00      0.00      0.00         4\n",
      "\n",
      "    accuracy                           0.85        27\n",
      "   macro avg       0.43      0.50      0.46        27\n",
      "weighted avg       0.73      0.85      0.78        27\n",
      "\n",
      "\n",
      "Threshold: 0.80\n",
      "Accuracy: 0.85\n",
      "              precision    recall  f1-score   support\n",
      "\n",
      "           0       0.85      1.00      0.92        23\n",
      "           1       0.00      0.00      0.00         4\n",
      "\n",
      "    accuracy                           0.85        27\n",
      "   macro avg       0.43      0.50      0.46        27\n",
      "weighted avg       0.73      0.85      0.78        27\n",
      "\n",
      "\n"
     ]
    },
    {
     "name": "stderr",
     "output_type": "stream",
     "text": [
      "/Users/ryantalbot/opt/anaconda3/envs/tf2/lib/python3.9/site-packages/sklearn/metrics/_classification.py:1469: UndefinedMetricWarning: Precision and F-score are ill-defined and being set to 0.0 in labels with no predicted samples. Use `zero_division` parameter to control this behavior.\n",
      "  _warn_prf(average, modifier, msg_start, len(result))\n",
      "/Users/ryantalbot/opt/anaconda3/envs/tf2/lib/python3.9/site-packages/sklearn/metrics/_classification.py:1469: UndefinedMetricWarning: Precision and F-score are ill-defined and being set to 0.0 in labels with no predicted samples. Use `zero_division` parameter to control this behavior.\n",
      "  _warn_prf(average, modifier, msg_start, len(result))\n",
      "/Users/ryantalbot/opt/anaconda3/envs/tf2/lib/python3.9/site-packages/sklearn/metrics/_classification.py:1469: UndefinedMetricWarning: Precision and F-score are ill-defined and being set to 0.0 in labels with no predicted samples. Use `zero_division` parameter to control this behavior.\n",
      "  _warn_prf(average, modifier, msg_start, len(result))\n",
      "/Users/ryantalbot/opt/anaconda3/envs/tf2/lib/python3.9/site-packages/sklearn/metrics/_classification.py:1469: UndefinedMetricWarning: Precision and F-score are ill-defined and being set to 0.0 in labels with no predicted samples. Use `zero_division` parameter to control this behavior.\n",
      "  _warn_prf(average, modifier, msg_start, len(result))\n",
      "/Users/ryantalbot/opt/anaconda3/envs/tf2/lib/python3.9/site-packages/sklearn/metrics/_classification.py:1469: UndefinedMetricWarning: Precision and F-score are ill-defined and being set to 0.0 in labels with no predicted samples. Use `zero_division` parameter to control this behavior.\n",
      "  _warn_prf(average, modifier, msg_start, len(result))\n",
      "/Users/ryantalbot/opt/anaconda3/envs/tf2/lib/python3.9/site-packages/sklearn/metrics/_classification.py:1469: UndefinedMetricWarning: Precision and F-score are ill-defined and being set to 0.0 in labels with no predicted samples. Use `zero_division` parameter to control this behavior.\n",
      "  _warn_prf(average, modifier, msg_start, len(result))\n",
      "/Users/ryantalbot/opt/anaconda3/envs/tf2/lib/python3.9/site-packages/sklearn/metrics/_classification.py:1469: UndefinedMetricWarning: Precision and F-score are ill-defined and being set to 0.0 in labels with no predicted samples. Use `zero_division` parameter to control this behavior.\n",
      "  _warn_prf(average, modifier, msg_start, len(result))\n",
      "/Users/ryantalbot/opt/anaconda3/envs/tf2/lib/python3.9/site-packages/sklearn/metrics/_classification.py:1469: UndefinedMetricWarning: Precision and F-score are ill-defined and being set to 0.0 in labels with no predicted samples. Use `zero_division` parameter to control this behavior.\n",
      "  _warn_prf(average, modifier, msg_start, len(result))\n",
      "/Users/ryantalbot/opt/anaconda3/envs/tf2/lib/python3.9/site-packages/sklearn/metrics/_classification.py:1469: UndefinedMetricWarning: Precision and F-score are ill-defined and being set to 0.0 in labels with no predicted samples. Use `zero_division` parameter to control this behavior.\n",
      "  _warn_prf(average, modifier, msg_start, len(result))\n"
     ]
    }
   ],
   "source": [
    "from sklearn.metrics import accuracy_score, classification_report\n",
    "\n",
    "# Get the class probabilities for the positive class (class 1)\n",
    "class_probabilities = model.predict_proba(X_test_scaled)[:, 1]\n",
    "\n",
    "# Experiment with different probability thresholds\n",
    "thresholds = [0.2, 0.4, 0.6, 0.8]\n",
    "\n",
    "for threshold in thresholds:\n",
    "    # Apply the custom threshold to classify the data\n",
    "    y_pred_custom = [1 if prob >= threshold else 0 for prob in class_probabilities]\n",
    "\n",
    "    # Calculate accuracy with the custom threshold\n",
    "    accuracy = accuracy_score(y_test, y_pred_custom)\n",
    "\n",
    "    # Generate a classification report\n",
    "    report = classification_report(y_test, y_pred_custom)\n",
    "\n",
    "    print(f\"Threshold: {threshold:.2f}\")\n",
    "    print(f'Accuracy: {accuracy:.2f}')\n",
    "    print(report)\n",
    "    print()\n"
   ]
  },
  {
   "cell_type": "code",
   "execution_count": null,
   "id": "6fe5ba80",
   "metadata": {},
   "outputs": [],
   "source": []
  }
 ],
 "metadata": {
  "kernelspec": {
   "display_name": "Python 3 (ipykernel)",
   "language": "python",
   "name": "python3"
  },
  "language_info": {
   "codemirror_mode": {
    "name": "ipython",
    "version": 3
   },
   "file_extension": ".py",
   "mimetype": "text/x-python",
   "name": "python",
   "nbconvert_exporter": "python",
   "pygments_lexer": "ipython3",
   "version": "3.9.12"
  }
 },
 "nbformat": 4,
 "nbformat_minor": 5
}
