{
 "cells": [
  {
   "cell_type": "markdown",
   "id": "0daad6bb",
   "metadata": {},
   "source": [
    "# change medals to 0 and 1"
   ]
  },
  {
   "cell_type": "code",
   "execution_count": 1,
   "id": "9e1756b9",
   "metadata": {},
   "outputs": [],
   "source": [
    "import pandas as pd\n",
    "import numpy as np"
   ]
  },
  {
   "cell_type": "code",
   "execution_count": 2,
   "id": "7306d05d",
   "metadata": {},
   "outputs": [],
   "source": [
    "df = pd.read_csv('fx_w.csv')"
   ]
  },
  {
   "cell_type": "markdown",
   "id": "c31d412d",
   "metadata": {},
   "source": [
    "## 2020 fx medalist\n",
    "1. Jade Carey\n",
    "2. Vanessa Ferrari\n",
    "3. Mai Murakami\n",
    "\n",
    "\n",
    "## 2016 fx medalist\n",
    "1. Simone Biles\n",
    "2. Aly Raisman\n",
    "3. Amy Tinkler\n",
    "\n",
    "\n",
    "## 2012 fx medalist\n",
    "1. Aly Raisman\n",
    "2. Cătălina Ponor\n",
    "3. Aliya Mustafina"
   ]
  },
  {
   "cell_type": "code",
   "execution_count": 3,
   "id": "cb33580e",
   "metadata": {},
   "outputs": [
    {
     "data": {
      "text/html": [
       "<div>\n",
       "<style scoped>\n",
       "    .dataframe tbody tr th:only-of-type {\n",
       "        vertical-align: middle;\n",
       "    }\n",
       "\n",
       "    .dataframe tbody tr th {\n",
       "        vertical-align: top;\n",
       "    }\n",
       "\n",
       "    .dataframe thead th {\n",
       "        text-align: right;\n",
       "    }\n",
       "</style>\n",
       "<table border=\"1\" class=\"dataframe\">\n",
       "  <thead>\n",
       "    <tr style=\"text-align: right;\">\n",
       "      <th></th>\n",
       "      <th>Rank</th>\n",
       "      <th>Name</th>\n",
       "      <th>nation</th>\n",
       "      <th>D Score</th>\n",
       "      <th>E Score</th>\n",
       "      <th>Pen.</th>\n",
       "      <th>Total</th>\n",
       "      <th>year</th>\n",
       "      <th>round</th>\n",
       "    </tr>\n",
       "  </thead>\n",
       "  <tbody>\n",
       "    <tr>\n",
       "      <th>0</th>\n",
       "      <td>109.0</td>\n",
       "      <td>Jana ABDELSALAM</td>\n",
       "      <td>EGY</td>\n",
       "      <td>4.4</td>\n",
       "      <td>7.466</td>\n",
       "      <td>0.1</td>\n",
       "      <td>11.766</td>\n",
       "      <td>2022</td>\n",
       "      <td>qual</td>\n",
       "    </tr>\n",
       "    <tr>\n",
       "      <th>1</th>\n",
       "      <td>22.0</td>\n",
       "      <td>Jana ABDELSALAM</td>\n",
       "      <td>EGY</td>\n",
       "      <td>4.5</td>\n",
       "      <td>7.366</td>\n",
       "      <td>0.0</td>\n",
       "      <td>11.866</td>\n",
       "      <td>2023</td>\n",
       "      <td>qual</td>\n",
       "    </tr>\n",
       "    <tr>\n",
       "      <th>2</th>\n",
       "      <td>39.0</td>\n",
       "      <td>Kumudi Imanya ABEYRATNE</td>\n",
       "      <td>SRI</td>\n",
       "      <td>2.9</td>\n",
       "      <td>4.450</td>\n",
       "      <td>0.0</td>\n",
       "      <td>7.350</td>\n",
       "      <td>2022</td>\n",
       "      <td>qual</td>\n",
       "    </tr>\n",
       "    <tr>\n",
       "      <th>3</th>\n",
       "      <td>74.0</td>\n",
       "      <td>Jana ABOELHASAN</td>\n",
       "      <td>EGY</td>\n",
       "      <td>4.4</td>\n",
       "      <td>7.866</td>\n",
       "      <td>0.0</td>\n",
       "      <td>12.266</td>\n",
       "      <td>2022</td>\n",
       "      <td>qual</td>\n",
       "    </tr>\n",
       "    <tr>\n",
       "      <th>4</th>\n",
       "      <td>16.0</td>\n",
       "      <td>Ondine ACHAMPONG</td>\n",
       "      <td>GBR</td>\n",
       "      <td>5.3</td>\n",
       "      <td>8.033</td>\n",
       "      <td>0.0</td>\n",
       "      <td>13.333</td>\n",
       "      <td>2022</td>\n",
       "      <td>qual</td>\n",
       "    </tr>\n",
       "    <tr>\n",
       "      <th>...</th>\n",
       "      <td>...</td>\n",
       "      <td>...</td>\n",
       "      <td>...</td>\n",
       "      <td>...</td>\n",
       "      <td>...</td>\n",
       "      <td>...</td>\n",
       "      <td>...</td>\n",
       "      <td>...</td>\n",
       "      <td>...</td>\n",
       "    </tr>\n",
       "    <tr>\n",
       "      <th>1478</th>\n",
       "      <td>4.0</td>\n",
       "      <td>Flávia Saraiva</td>\n",
       "      <td>NaN</td>\n",
       "      <td>5.5</td>\n",
       "      <td>8.466</td>\n",
       "      <td>0.0</td>\n",
       "      <td>13.966</td>\n",
       "      <td>2019</td>\n",
       "      <td>final</td>\n",
       "    </tr>\n",
       "    <tr>\n",
       "      <th>1479</th>\n",
       "      <td>5.0</td>\n",
       "      <td>Mélanie de Jesus dos Santos</td>\n",
       "      <td>NaN</td>\n",
       "      <td>5.5</td>\n",
       "      <td>8.433</td>\n",
       "      <td>0.1</td>\n",
       "      <td>13.833</td>\n",
       "      <td>2019</td>\n",
       "      <td>final</td>\n",
       "    </tr>\n",
       "    <tr>\n",
       "      <th>1480</th>\n",
       "      <td>6.0</td>\n",
       "      <td>Roxana Popa</td>\n",
       "      <td>NaN</td>\n",
       "      <td>5.4</td>\n",
       "      <td>8.400</td>\n",
       "      <td>0.0</td>\n",
       "      <td>13.800</td>\n",
       "      <td>2019</td>\n",
       "      <td>final</td>\n",
       "    </tr>\n",
       "    <tr>\n",
       "      <th>1481</th>\n",
       "      <td>7.0</td>\n",
       "      <td>Brooklyn Moors</td>\n",
       "      <td>NaN</td>\n",
       "      <td>5.3</td>\n",
       "      <td>8.400</td>\n",
       "      <td>0.1</td>\n",
       "      <td>13.600</td>\n",
       "      <td>2019</td>\n",
       "      <td>final</td>\n",
       "    </tr>\n",
       "    <tr>\n",
       "      <th>1482</th>\n",
       "      <td>8.0</td>\n",
       "      <td>Lilia Akhaimova</td>\n",
       "      <td>NaN</td>\n",
       "      <td>6.0</td>\n",
       "      <td>7.800</td>\n",
       "      <td>0.3</td>\n",
       "      <td>13.500</td>\n",
       "      <td>2019</td>\n",
       "      <td>final</td>\n",
       "    </tr>\n",
       "  </tbody>\n",
       "</table>\n",
       "<p>1483 rows × 9 columns</p>\n",
       "</div>"
      ],
      "text/plain": [
       "       Rank                         Name nation  D Score  E Score  Pen.  \\\n",
       "0     109.0              Jana ABDELSALAM    EGY      4.4    7.466   0.1   \n",
       "1      22.0              Jana ABDELSALAM    EGY      4.5    7.366   0.0   \n",
       "2      39.0      Kumudi Imanya ABEYRATNE    SRI      2.9    4.450   0.0   \n",
       "3      74.0              Jana ABOELHASAN    EGY      4.4    7.866   0.0   \n",
       "4      16.0             Ondine ACHAMPONG    GBR      5.3    8.033   0.0   \n",
       "...     ...                          ...    ...      ...      ...   ...   \n",
       "1478    4.0               Flávia Saraiva    NaN      5.5    8.466   0.0   \n",
       "1479    5.0  Mélanie de Jesus dos Santos    NaN      5.5    8.433   0.1   \n",
       "1480    6.0                  Roxana Popa    NaN      5.4    8.400   0.0   \n",
       "1481    7.0               Brooklyn Moors    NaN      5.3    8.400   0.1   \n",
       "1482    8.0              Lilia Akhaimova    NaN      6.0    7.800   0.3   \n",
       "\n",
       "       Total  year  round  \n",
       "0     11.766  2022   qual  \n",
       "1     11.866  2023   qual  \n",
       "2      7.350  2022   qual  \n",
       "3     12.266  2022   qual  \n",
       "4     13.333  2022   qual  \n",
       "...      ...   ...    ...  \n",
       "1478  13.966  2019  final  \n",
       "1479  13.833  2019  final  \n",
       "1480  13.800  2019  final  \n",
       "1481  13.600  2019  final  \n",
       "1482  13.500  2019  final  \n",
       "\n",
       "[1483 rows x 9 columns]"
      ]
     },
     "execution_count": 3,
     "metadata": {},
     "output_type": "execute_result"
    }
   ],
   "source": [
    "df"
   ]
  },
  {
   "cell_type": "code",
   "execution_count": 4,
   "id": "aee150c9",
   "metadata": {},
   "outputs": [],
   "source": [
    "df['Name'] = df['Name'].str.lower()"
   ]
  },
  {
   "cell_type": "code",
   "execution_count": 5,
   "id": "0c9b4997",
   "metadata": {},
   "outputs": [
    {
     "data": {
      "text/html": [
       "<div>\n",
       "<style scoped>\n",
       "    .dataframe tbody tr th:only-of-type {\n",
       "        vertical-align: middle;\n",
       "    }\n",
       "\n",
       "    .dataframe tbody tr th {\n",
       "        vertical-align: top;\n",
       "    }\n",
       "\n",
       "    .dataframe thead th {\n",
       "        text-align: right;\n",
       "    }\n",
       "</style>\n",
       "<table border=\"1\" class=\"dataframe\">\n",
       "  <thead>\n",
       "    <tr style=\"text-align: right;\">\n",
       "      <th></th>\n",
       "      <th>Rank</th>\n",
       "      <th>Name</th>\n",
       "      <th>nation</th>\n",
       "      <th>D Score</th>\n",
       "      <th>E Score</th>\n",
       "      <th>Pen.</th>\n",
       "      <th>Total</th>\n",
       "      <th>year</th>\n",
       "      <th>round</th>\n",
       "    </tr>\n",
       "  </thead>\n",
       "  <tbody>\n",
       "    <tr>\n",
       "      <th>0</th>\n",
       "      <td>109.0</td>\n",
       "      <td>jana abdelsalam</td>\n",
       "      <td>EGY</td>\n",
       "      <td>4.4</td>\n",
       "      <td>7.466</td>\n",
       "      <td>0.1</td>\n",
       "      <td>11.766</td>\n",
       "      <td>2022</td>\n",
       "      <td>qual</td>\n",
       "    </tr>\n",
       "    <tr>\n",
       "      <th>1</th>\n",
       "      <td>22.0</td>\n",
       "      <td>jana abdelsalam</td>\n",
       "      <td>EGY</td>\n",
       "      <td>4.5</td>\n",
       "      <td>7.366</td>\n",
       "      <td>0.0</td>\n",
       "      <td>11.866</td>\n",
       "      <td>2023</td>\n",
       "      <td>qual</td>\n",
       "    </tr>\n",
       "    <tr>\n",
       "      <th>2</th>\n",
       "      <td>39.0</td>\n",
       "      <td>kumudi imanya abeyratne</td>\n",
       "      <td>SRI</td>\n",
       "      <td>2.9</td>\n",
       "      <td>4.450</td>\n",
       "      <td>0.0</td>\n",
       "      <td>7.350</td>\n",
       "      <td>2022</td>\n",
       "      <td>qual</td>\n",
       "    </tr>\n",
       "    <tr>\n",
       "      <th>3</th>\n",
       "      <td>74.0</td>\n",
       "      <td>jana aboelhasan</td>\n",
       "      <td>EGY</td>\n",
       "      <td>4.4</td>\n",
       "      <td>7.866</td>\n",
       "      <td>0.0</td>\n",
       "      <td>12.266</td>\n",
       "      <td>2022</td>\n",
       "      <td>qual</td>\n",
       "    </tr>\n",
       "    <tr>\n",
       "      <th>4</th>\n",
       "      <td>16.0</td>\n",
       "      <td>ondine achampong</td>\n",
       "      <td>GBR</td>\n",
       "      <td>5.3</td>\n",
       "      <td>8.033</td>\n",
       "      <td>0.0</td>\n",
       "      <td>13.333</td>\n",
       "      <td>2022</td>\n",
       "      <td>qual</td>\n",
       "    </tr>\n",
       "    <tr>\n",
       "      <th>...</th>\n",
       "      <td>...</td>\n",
       "      <td>...</td>\n",
       "      <td>...</td>\n",
       "      <td>...</td>\n",
       "      <td>...</td>\n",
       "      <td>...</td>\n",
       "      <td>...</td>\n",
       "      <td>...</td>\n",
       "      <td>...</td>\n",
       "    </tr>\n",
       "    <tr>\n",
       "      <th>1478</th>\n",
       "      <td>4.0</td>\n",
       "      <td>flávia saraiva</td>\n",
       "      <td>NaN</td>\n",
       "      <td>5.5</td>\n",
       "      <td>8.466</td>\n",
       "      <td>0.0</td>\n",
       "      <td>13.966</td>\n",
       "      <td>2019</td>\n",
       "      <td>final</td>\n",
       "    </tr>\n",
       "    <tr>\n",
       "      <th>1479</th>\n",
       "      <td>5.0</td>\n",
       "      <td>mélanie de jesus dos santos</td>\n",
       "      <td>NaN</td>\n",
       "      <td>5.5</td>\n",
       "      <td>8.433</td>\n",
       "      <td>0.1</td>\n",
       "      <td>13.833</td>\n",
       "      <td>2019</td>\n",
       "      <td>final</td>\n",
       "    </tr>\n",
       "    <tr>\n",
       "      <th>1480</th>\n",
       "      <td>6.0</td>\n",
       "      <td>roxana popa</td>\n",
       "      <td>NaN</td>\n",
       "      <td>5.4</td>\n",
       "      <td>8.400</td>\n",
       "      <td>0.0</td>\n",
       "      <td>13.800</td>\n",
       "      <td>2019</td>\n",
       "      <td>final</td>\n",
       "    </tr>\n",
       "    <tr>\n",
       "      <th>1481</th>\n",
       "      <td>7.0</td>\n",
       "      <td>brooklyn moors</td>\n",
       "      <td>NaN</td>\n",
       "      <td>5.3</td>\n",
       "      <td>8.400</td>\n",
       "      <td>0.1</td>\n",
       "      <td>13.600</td>\n",
       "      <td>2019</td>\n",
       "      <td>final</td>\n",
       "    </tr>\n",
       "    <tr>\n",
       "      <th>1482</th>\n",
       "      <td>8.0</td>\n",
       "      <td>lilia akhaimova</td>\n",
       "      <td>NaN</td>\n",
       "      <td>6.0</td>\n",
       "      <td>7.800</td>\n",
       "      <td>0.3</td>\n",
       "      <td>13.500</td>\n",
       "      <td>2019</td>\n",
       "      <td>final</td>\n",
       "    </tr>\n",
       "  </tbody>\n",
       "</table>\n",
       "<p>1483 rows × 9 columns</p>\n",
       "</div>"
      ],
      "text/plain": [
       "       Rank                         Name nation  D Score  E Score  Pen.  \\\n",
       "0     109.0              jana abdelsalam    EGY      4.4    7.466   0.1   \n",
       "1      22.0              jana abdelsalam    EGY      4.5    7.366   0.0   \n",
       "2      39.0      kumudi imanya abeyratne    SRI      2.9    4.450   0.0   \n",
       "3      74.0              jana aboelhasan    EGY      4.4    7.866   0.0   \n",
       "4      16.0             ondine achampong    GBR      5.3    8.033   0.0   \n",
       "...     ...                          ...    ...      ...      ...   ...   \n",
       "1478    4.0               flávia saraiva    NaN      5.5    8.466   0.0   \n",
       "1479    5.0  mélanie de jesus dos santos    NaN      5.5    8.433   0.1   \n",
       "1480    6.0                  roxana popa    NaN      5.4    8.400   0.0   \n",
       "1481    7.0               brooklyn moors    NaN      5.3    8.400   0.1   \n",
       "1482    8.0              lilia akhaimova    NaN      6.0    7.800   0.3   \n",
       "\n",
       "       Total  year  round  \n",
       "0     11.766  2022   qual  \n",
       "1     11.866  2023   qual  \n",
       "2      7.350  2022   qual  \n",
       "3     12.266  2022   qual  \n",
       "4     13.333  2022   qual  \n",
       "...      ...   ...    ...  \n",
       "1478  13.966  2019  final  \n",
       "1479  13.833  2019  final  \n",
       "1480  13.800  2019  final  \n",
       "1481  13.600  2019  final  \n",
       "1482  13.500  2019  final  \n",
       "\n",
       "[1483 rows x 9 columns]"
      ]
     },
     "execution_count": 5,
     "metadata": {},
     "output_type": "execute_result"
    }
   ],
   "source": [
    "df"
   ]
  },
  {
   "cell_type": "code",
   "execution_count": 6,
   "id": "fde3e153",
   "metadata": {},
   "outputs": [
    {
     "data": {
      "text/plain": [
       "year\n",
       "2023    647\n",
       "2022    587\n",
       "2019     72\n",
       "2015     53\n",
       "2014     42\n",
       "2013     42\n",
       "2018     16\n",
       "2020      8\n",
       "2011      8\n",
       "2017      8\n",
       "Name: count, dtype: int64"
      ]
     },
     "execution_count": 6,
     "metadata": {},
     "output_type": "execute_result"
    }
   ],
   "source": [
    "df['year'].value_counts()"
   ]
  },
  {
   "cell_type": "code",
   "execution_count": 7,
   "id": "9a176be7",
   "metadata": {},
   "outputs": [],
   "source": [
    "df12 = df[df['year'].isin([2011])].copy()\n",
    "df16 = df[df['year'].isin([2013, 2014, 2015])].copy()\n",
    "df20 = df[df['year'].isin([2017, 2018, 2019, 2020])].copy()\n",
    "df24 = df[df['year'].isin([2022, 2023])].copy()"
   ]
  },
  {
   "cell_type": "code",
   "execution_count": 8,
   "id": "b7d41a6c",
   "metadata": {},
   "outputs": [
    {
     "name": "stdout",
     "output_type": "stream",
     "text": [
      "<class 'pandas.core.frame.DataFrame'>\n",
      "Index: 137 entries, 1234 to 1458\n",
      "Data columns (total 9 columns):\n",
      " #   Column   Non-Null Count  Dtype  \n",
      "---  ------   --------------  -----  \n",
      " 0   Rank     137 non-null    float64\n",
      " 1   Name     137 non-null    object \n",
      " 2   nation   137 non-null    object \n",
      " 3   D Score  137 non-null    float64\n",
      " 4   E Score  137 non-null    float64\n",
      " 5   Pen.     137 non-null    float64\n",
      " 6   Total    137 non-null    float64\n",
      " 7   year     137 non-null    int64  \n",
      " 8   round    137 non-null    object \n",
      "dtypes: float64(5), int64(1), object(3)\n",
      "memory usage: 10.7+ KB\n"
     ]
    }
   ],
   "source": [
    "df16.info()"
   ]
  },
  {
   "cell_type": "code",
   "execution_count": 9,
   "id": "c7e1ca26",
   "metadata": {},
   "outputs": [
    {
     "data": {
      "text/html": [
       "<div>\n",
       "<style scoped>\n",
       "    .dataframe tbody tr th:only-of-type {\n",
       "        vertical-align: middle;\n",
       "    }\n",
       "\n",
       "    .dataframe tbody tr th {\n",
       "        vertical-align: top;\n",
       "    }\n",
       "\n",
       "    .dataframe thead th {\n",
       "        text-align: right;\n",
       "    }\n",
       "</style>\n",
       "<table border=\"1\" class=\"dataframe\">\n",
       "  <thead>\n",
       "    <tr style=\"text-align: right;\">\n",
       "      <th></th>\n",
       "      <th>Rank</th>\n",
       "      <th>Name</th>\n",
       "      <th>nation</th>\n",
       "      <th>D Score</th>\n",
       "      <th>E Score</th>\n",
       "      <th>Pen.</th>\n",
       "      <th>Total</th>\n",
       "      <th>year</th>\n",
       "      <th>round</th>\n",
       "    </tr>\n",
       "  </thead>\n",
       "  <tbody>\n",
       "    <tr>\n",
       "      <th>1450</th>\n",
       "      <td>8.0</td>\n",
       "      <td>claudia fragapane</td>\n",
       "      <td>GBR</td>\n",
       "      <td>6.0</td>\n",
       "      <td>7.400</td>\n",
       "      <td>0.3</td>\n",
       "      <td>13.100</td>\n",
       "      <td>2014</td>\n",
       "      <td>final</td>\n",
       "    </tr>\n",
       "    <tr>\n",
       "      <th>1456</th>\n",
       "      <td>6.0</td>\n",
       "      <td>ellie downie</td>\n",
       "      <td>GBR</td>\n",
       "      <td>6.0</td>\n",
       "      <td>8.733</td>\n",
       "      <td>0.0</td>\n",
       "      <td>14.733</td>\n",
       "      <td>2015</td>\n",
       "      <td>final</td>\n",
       "    </tr>\n",
       "    <tr>\n",
       "      <th>1457</th>\n",
       "      <td>7.0</td>\n",
       "      <td>claudia fragapane</td>\n",
       "      <td>GBR</td>\n",
       "      <td>6.2</td>\n",
       "      <td>8.366</td>\n",
       "      <td>-0.1</td>\n",
       "      <td>14.466</td>\n",
       "      <td>2015</td>\n",
       "      <td>final</td>\n",
       "    </tr>\n",
       "  </tbody>\n",
       "</table>\n",
       "</div>"
      ],
      "text/plain": [
       "      Rank               Name nation  D Score  E Score  Pen.   Total  year  \\\n",
       "1450   8.0  claudia fragapane    GBR      6.0    7.400   0.3  13.100  2014   \n",
       "1456   6.0       ellie downie    GBR      6.0    8.733   0.0  14.733  2015   \n",
       "1457   7.0  claudia fragapane    GBR      6.2    8.366  -0.1  14.466  2015   \n",
       "\n",
       "      round  \n",
       "1450  final  \n",
       "1456  final  \n",
       "1457  final  "
      ]
     },
     "execution_count": 9,
     "metadata": {},
     "output_type": "execute_result"
    }
   ],
   "source": [
    "df16[df16['nation']=='GBR']"
   ]
  },
  {
   "cell_type": "code",
   "execution_count": 10,
   "id": "514b9b0c",
   "metadata": {},
   "outputs": [
    {
     "name": "stdout",
     "output_type": "stream",
     "text": [
      "<class 'pandas.core.frame.DataFrame'>\n",
      "Index: 104 entries, 1279 to 1482\n",
      "Data columns (total 9 columns):\n",
      " #   Column   Non-Null Count  Dtype  \n",
      "---  ------   --------------  -----  \n",
      " 0   Rank     103 non-null    float64\n",
      " 1   Name     104 non-null    object \n",
      " 2   nation   80 non-null     object \n",
      " 3   D Score  104 non-null    float64\n",
      " 4   E Score  104 non-null    float64\n",
      " 5   Pen.     104 non-null    float64\n",
      " 6   Total    104 non-null    float64\n",
      " 7   year     104 non-null    int64  \n",
      " 8   round    88 non-null     object \n",
      "dtypes: float64(5), int64(1), object(3)\n",
      "memory usage: 8.1+ KB\n"
     ]
    }
   ],
   "source": [
    "df20.info()"
   ]
  },
  {
   "cell_type": "code",
   "execution_count": 11,
   "id": "0e572429",
   "metadata": {},
   "outputs": [
    {
     "name": "stdout",
     "output_type": "stream",
     "text": [
      "<class 'pandas.core.frame.DataFrame'>\n",
      "Index: 1234 entries, 0 to 1233\n",
      "Data columns (total 9 columns):\n",
      " #   Column   Non-Null Count  Dtype  \n",
      "---  ------   --------------  -----  \n",
      " 0   Rank     1234 non-null   float64\n",
      " 1   Name     1234 non-null   object \n",
      " 2   nation   1234 non-null   object \n",
      " 3   D Score  1234 non-null   float64\n",
      " 4   E Score  1234 non-null   float64\n",
      " 5   Pen.     1234 non-null   float64\n",
      " 6   Total    1234 non-null   float64\n",
      " 7   year     1234 non-null   int64  \n",
      " 8   round    1234 non-null   object \n",
      "dtypes: float64(5), int64(1), object(3)\n",
      "memory usage: 96.4+ KB\n"
     ]
    }
   ],
   "source": [
    "df24.info()"
   ]
  },
  {
   "cell_type": "code",
   "execution_count": 12,
   "id": "90897adf",
   "metadata": {},
   "outputs": [],
   "source": [
    "df = df20.copy()"
   ]
  },
  {
   "cell_type": "code",
   "execution_count": 13,
   "id": "aaaa9a74",
   "metadata": {},
   "outputs": [
    {
     "data": {
      "text/plain": [
       "Index(['Rank', 'Name', 'nation', 'D Score', 'E Score', 'Pen.', 'Total', 'year',\n",
       "       'round'],\n",
       "      dtype='object')"
      ]
     },
     "execution_count": 13,
     "metadata": {},
     "output_type": "execute_result"
    }
   ],
   "source": [
    "df.columns"
   ]
  },
  {
   "cell_type": "code",
   "execution_count": 14,
   "id": "3df90c81",
   "metadata": {},
   "outputs": [],
   "source": [
    "# Define a function to assign medal values based on the \"Name\" column\n",
    "def assign_medal(name):\n",
    "    name_lower = name.lower()\n",
    "    if name_lower == 'jade carey':\n",
    "        return 3\n",
    "    elif name_lower == 'vanessa ferrari':\n",
    "        return 2\n",
    "    elif name_lower == 'mai murakami':\n",
    "        return 1\n",
    "    else:\n",
    "        return -1\n",
    "\n",
    "# Apply the function to create the \"medal\" column\n",
    "df['medal'] = df['Name'].apply(assign_medal)\n"
   ]
  },
  {
   "cell_type": "code",
   "execution_count": 15,
   "id": "3de92015",
   "metadata": {},
   "outputs": [
    {
     "data": {
      "text/html": [
       "<div>\n",
       "<style scoped>\n",
       "    .dataframe tbody tr th:only-of-type {\n",
       "        vertical-align: middle;\n",
       "    }\n",
       "\n",
       "    .dataframe tbody tr th {\n",
       "        vertical-align: top;\n",
       "    }\n",
       "\n",
       "    .dataframe thead th {\n",
       "        text-align: right;\n",
       "    }\n",
       "</style>\n",
       "<table border=\"1\" class=\"dataframe\">\n",
       "  <thead>\n",
       "    <tr style=\"text-align: right;\">\n",
       "      <th></th>\n",
       "      <th>Rank</th>\n",
       "      <th>Name</th>\n",
       "      <th>nation</th>\n",
       "      <th>D Score</th>\n",
       "      <th>E Score</th>\n",
       "      <th>Pen.</th>\n",
       "      <th>Total</th>\n",
       "      <th>year</th>\n",
       "      <th>round</th>\n",
       "      <th>medal</th>\n",
       "    </tr>\n",
       "  </thead>\n",
       "  <tbody>\n",
       "    <tr>\n",
       "      <th>1279</th>\n",
       "      <td>1.0</td>\n",
       "      <td>jade carey</td>\n",
       "      <td>USA</td>\n",
       "      <td>6.2</td>\n",
       "      <td>8.266</td>\n",
       "      <td>0.0</td>\n",
       "      <td>14.466</td>\n",
       "      <td>2019</td>\n",
       "      <td>Final</td>\n",
       "      <td>3</td>\n",
       "    </tr>\n",
       "    <tr>\n",
       "      <th>1280</th>\n",
       "      <td>2.0</td>\n",
       "      <td>lara mori</td>\n",
       "      <td>ITA</td>\n",
       "      <td>5.6</td>\n",
       "      <td>7.833</td>\n",
       "      <td>0.0</td>\n",
       "      <td>13.433</td>\n",
       "      <td>2019</td>\n",
       "      <td>Final</td>\n",
       "      <td>-1</td>\n",
       "    </tr>\n",
       "    <tr>\n",
       "      <th>1281</th>\n",
       "      <td>3.0</td>\n",
       "      <td>vanessa ferrari</td>\n",
       "      <td>ITA</td>\n",
       "      <td>5.2</td>\n",
       "      <td>8.100</td>\n",
       "      <td>0.0</td>\n",
       "      <td>13.300</td>\n",
       "      <td>2019</td>\n",
       "      <td>Final</td>\n",
       "      <td>2</td>\n",
       "    </tr>\n",
       "    <tr>\n",
       "      <th>1282</th>\n",
       "      <td>4.0</td>\n",
       "      <td>marta pihan-kulesza</td>\n",
       "      <td>POL</td>\n",
       "      <td>5.4</td>\n",
       "      <td>7.933</td>\n",
       "      <td>-0.1</td>\n",
       "      <td>13.233</td>\n",
       "      <td>2019</td>\n",
       "      <td>Final</td>\n",
       "      <td>-1</td>\n",
       "    </tr>\n",
       "    <tr>\n",
       "      <th>1283</th>\n",
       "      <td>5.0</td>\n",
       "      <td>marine boyer</td>\n",
       "      <td>FRA</td>\n",
       "      <td>5.0</td>\n",
       "      <td>8.200</td>\n",
       "      <td>0.0</td>\n",
       "      <td>13.200</td>\n",
       "      <td>2019</td>\n",
       "      <td>Final</td>\n",
       "      <td>-1</td>\n",
       "    </tr>\n",
       "    <tr>\n",
       "      <th>...</th>\n",
       "      <td>...</td>\n",
       "      <td>...</td>\n",
       "      <td>...</td>\n",
       "      <td>...</td>\n",
       "      <td>...</td>\n",
       "      <td>...</td>\n",
       "      <td>...</td>\n",
       "      <td>...</td>\n",
       "      <td>...</td>\n",
       "      <td>...</td>\n",
       "    </tr>\n",
       "    <tr>\n",
       "      <th>1478</th>\n",
       "      <td>4.0</td>\n",
       "      <td>flávia saraiva</td>\n",
       "      <td>NaN</td>\n",
       "      <td>5.5</td>\n",
       "      <td>8.466</td>\n",
       "      <td>0.0</td>\n",
       "      <td>13.966</td>\n",
       "      <td>2019</td>\n",
       "      <td>final</td>\n",
       "      <td>-1</td>\n",
       "    </tr>\n",
       "    <tr>\n",
       "      <th>1479</th>\n",
       "      <td>5.0</td>\n",
       "      <td>mélanie de jesus dos santos</td>\n",
       "      <td>NaN</td>\n",
       "      <td>5.5</td>\n",
       "      <td>8.433</td>\n",
       "      <td>0.1</td>\n",
       "      <td>13.833</td>\n",
       "      <td>2019</td>\n",
       "      <td>final</td>\n",
       "      <td>-1</td>\n",
       "    </tr>\n",
       "    <tr>\n",
       "      <th>1480</th>\n",
       "      <td>6.0</td>\n",
       "      <td>roxana popa</td>\n",
       "      <td>NaN</td>\n",
       "      <td>5.4</td>\n",
       "      <td>8.400</td>\n",
       "      <td>0.0</td>\n",
       "      <td>13.800</td>\n",
       "      <td>2019</td>\n",
       "      <td>final</td>\n",
       "      <td>-1</td>\n",
       "    </tr>\n",
       "    <tr>\n",
       "      <th>1481</th>\n",
       "      <td>7.0</td>\n",
       "      <td>brooklyn moors</td>\n",
       "      <td>NaN</td>\n",
       "      <td>5.3</td>\n",
       "      <td>8.400</td>\n",
       "      <td>0.1</td>\n",
       "      <td>13.600</td>\n",
       "      <td>2019</td>\n",
       "      <td>final</td>\n",
       "      <td>-1</td>\n",
       "    </tr>\n",
       "    <tr>\n",
       "      <th>1482</th>\n",
       "      <td>8.0</td>\n",
       "      <td>lilia akhaimova</td>\n",
       "      <td>NaN</td>\n",
       "      <td>6.0</td>\n",
       "      <td>7.800</td>\n",
       "      <td>0.3</td>\n",
       "      <td>13.500</td>\n",
       "      <td>2019</td>\n",
       "      <td>final</td>\n",
       "      <td>-1</td>\n",
       "    </tr>\n",
       "  </tbody>\n",
       "</table>\n",
       "<p>104 rows × 10 columns</p>\n",
       "</div>"
      ],
      "text/plain": [
       "      Rank                         Name nation  D Score  E Score  Pen.  \\\n",
       "1279   1.0                   jade carey    USA      6.2    8.266   0.0   \n",
       "1280   2.0                    lara mori    ITA      5.6    7.833   0.0   \n",
       "1281   3.0              vanessa ferrari    ITA      5.2    8.100   0.0   \n",
       "1282   4.0          marta pihan-kulesza    POL      5.4    7.933  -0.1   \n",
       "1283   5.0                 marine boyer    FRA      5.0    8.200   0.0   \n",
       "...    ...                          ...    ...      ...      ...   ...   \n",
       "1478   4.0               flávia saraiva    NaN      5.5    8.466   0.0   \n",
       "1479   5.0  mélanie de jesus dos santos    NaN      5.5    8.433   0.1   \n",
       "1480   6.0                  roxana popa    NaN      5.4    8.400   0.0   \n",
       "1481   7.0               brooklyn moors    NaN      5.3    8.400   0.1   \n",
       "1482   8.0              lilia akhaimova    NaN      6.0    7.800   0.3   \n",
       "\n",
       "       Total  year  round  medal  \n",
       "1279  14.466  2019  Final      3  \n",
       "1280  13.433  2019  Final     -1  \n",
       "1281  13.300  2019  Final      2  \n",
       "1282  13.233  2019  Final     -1  \n",
       "1283  13.200  2019  Final     -1  \n",
       "...      ...   ...    ...    ...  \n",
       "1478  13.966  2019  final     -1  \n",
       "1479  13.833  2019  final     -1  \n",
       "1480  13.800  2019  final     -1  \n",
       "1481  13.600  2019  final     -1  \n",
       "1482  13.500  2019  final     -1  \n",
       "\n",
       "[104 rows x 10 columns]"
      ]
     },
     "execution_count": 15,
     "metadata": {},
     "output_type": "execute_result"
    }
   ],
   "source": [
    "df"
   ]
  },
  {
   "cell_type": "code",
   "execution_count": 16,
   "id": "f0d4082e",
   "metadata": {},
   "outputs": [
    {
     "data": {
      "text/plain": [
       "medal\n",
       "-1    94\n",
       " 2     5\n",
       " 3     3\n",
       " 1     2\n",
       "Name: count, dtype: int64"
      ]
     },
     "execution_count": 16,
     "metadata": {},
     "output_type": "execute_result"
    }
   ],
   "source": [
    "df['medal'].value_counts()"
   ]
  },
  {
   "cell_type": "code",
   "execution_count": null,
   "id": "b272f3ea",
   "metadata": {},
   "outputs": [],
   "source": [
    "medal\n",
    "-1    134\n",
    " 3      3"
   ]
  },
  {
   "cell_type": "code",
   "execution_count": 62,
   "id": "a1a6fcb5",
   "metadata": {},
   "outputs": [
    {
     "data": {
      "text/plain": [
       "228"
      ]
     },
     "execution_count": 62,
     "metadata": {},
     "output_type": "execute_result"
    }
   ],
   "source": [
    "-1 is 228\n",
    "2 is 5\n",
    "3 is 6\n",
    "1 is 2"
   ]
  },
  {
   "cell_type": "code",
   "execution_count": null,
   "id": "c2d44716",
   "metadata": {},
   "outputs": [],
   "source": []
  },
  {
   "cell_type": "code",
   "execution_count": null,
   "id": "445d7a14",
   "metadata": {},
   "outputs": [],
   "source": []
  },
  {
   "cell_type": "code",
   "execution_count": 17,
   "id": "9da9e837",
   "metadata": {},
   "outputs": [],
   "source": [
    "df20 = df.copy()"
   ]
  },
  {
   "cell_type": "code",
   "execution_count": 18,
   "id": "b56790a3",
   "metadata": {},
   "outputs": [],
   "source": [
    "df = df16.copy()"
   ]
  },
  {
   "cell_type": "code",
   "execution_count": 19,
   "id": "1a60b571",
   "metadata": {},
   "outputs": [],
   "source": [
    "# Define a function to assign medal values based on the \"Name\" column\n",
    "def assign_medal(name):\n",
    "    name_lower = name.lower()\n",
    "    if name_lower == 'simone biles':\n",
    "        return 3\n",
    "    elif name_lower == 'aly raisman':\n",
    "        return 2\n",
    "    elif name_lower == 'amy tinkler':\n",
    "        return 1\n",
    "    else:\n",
    "        return -1\n",
    "\n",
    "# Apply the function to create the \"medal\" column\n",
    "df['medal'] = df['Name'].apply(assign_medal)\n"
   ]
  },
  {
   "cell_type": "code",
   "execution_count": 20,
   "id": "042f1f67",
   "metadata": {},
   "outputs": [
    {
     "data": {
      "text/plain": [
       "medal\n",
       "-1    134\n",
       " 3      3\n",
       "Name: count, dtype: int64"
      ]
     },
     "execution_count": 20,
     "metadata": {},
     "output_type": "execute_result"
    }
   ],
   "source": [
    "df['medal'].value_counts()"
   ]
  },
  {
   "cell_type": "code",
   "execution_count": 21,
   "id": "30eec869",
   "metadata": {},
   "outputs": [],
   "source": [
    "df16=df.copy()"
   ]
  },
  {
   "cell_type": "code",
   "execution_count": 22,
   "id": "09fd1322",
   "metadata": {},
   "outputs": [],
   "source": [
    "df = pd.concat([df20, df16])"
   ]
  },
  {
   "cell_type": "markdown",
   "id": "df565027",
   "metadata": {},
   "source": [
    "---"
   ]
  },
  {
   "cell_type": "markdown",
   "id": "1d56db33",
   "metadata": {},
   "source": [
    "# testing with models - see if there is any accuracy  before separating"
   ]
  },
  {
   "cell_type": "code",
   "execution_count": 28,
   "id": "91b4b755",
   "metadata": {},
   "outputs": [],
   "source": [
    "df['nation'].fillna('none',inplace=True)"
   ]
  },
  {
   "cell_type": "code",
   "execution_count": 26,
   "id": "aca84a2c",
   "metadata": {},
   "outputs": [],
   "source": [
    "df['round'].fillna('none',inplace=True)"
   ]
  },
  {
   "cell_type": "code",
   "execution_count": 39,
   "id": "523c11a6",
   "metadata": {},
   "outputs": [
    {
     "name": "stdout",
     "output_type": "stream",
     "text": [
      "<class 'pandas.core.frame.DataFrame'>\n",
      "Index: 241 entries, 1279 to 1458\n",
      "Data columns (total 9 columns):\n",
      " #   Column   Non-Null Count  Dtype  \n",
      "---  ------   --------------  -----  \n",
      " 0   Rank     240 non-null    float64\n",
      " 1   Name     241 non-null    object \n",
      " 2   nation   241 non-null    object \n",
      " 3   D Score  241 non-null    float64\n",
      " 4   E Score  241 non-null    float64\n",
      " 5   Total    241 non-null    float64\n",
      " 6   year     241 non-null    int64  \n",
      " 7   round    241 non-null    object \n",
      " 8   medal    241 non-null    int64  \n",
      "dtypes: float64(4), int64(2), object(3)\n",
      "memory usage: 18.8+ KB\n"
     ]
    }
   ],
   "source": [
    "df.info()"
   ]
  },
  {
   "cell_type": "code",
   "execution_count": 40,
   "id": "766c8a63",
   "metadata": {},
   "outputs": [
    {
     "data": {
      "text/plain": [
       "Rank        37\n",
       "Name       162\n",
       "nation      51\n",
       "D Score     32\n",
       "E Score    108\n",
       "Total      146\n",
       "year         7\n",
       "round        5\n",
       "medal        4\n",
       "dtype: int64"
      ]
     },
     "execution_count": 40,
     "metadata": {},
     "output_type": "execute_result"
    }
   ],
   "source": [
    "df.nunique()"
   ]
  },
  {
   "cell_type": "code",
   "execution_count": 37,
   "id": "4198341c",
   "metadata": {},
   "outputs": [],
   "source": [
    "df['Name'] = df['Name'].str.strip()\n",
    "df['nation'] = df['nation'].str.strip()\n",
    "df['round'] = df['round'].str.strip()\n"
   ]
  },
  {
   "cell_type": "code",
   "execution_count": 38,
   "id": "0cbd27d5",
   "metadata": {},
   "outputs": [],
   "source": [
    "df = df.drop(columns=['Pen.'])  # For example, removing the \"Pen.\" column\n"
   ]
  },
  {
   "cell_type": "code",
   "execution_count": 41,
   "id": "d4b08a9f",
   "metadata": {},
   "outputs": [],
   "source": [
    "from sklearn.preprocessing import LabelEncoder\n",
    "\n",
    "# Create a LabelEncoder\n",
    "label_encoder = LabelEncoder()\n",
    "\n",
    "# Apply label encoding to the \"nation\" column\n",
    "df['nation_encoded'] = label_encoder.fit_transform(df['nation'])\n"
   ]
  },
  {
   "cell_type": "code",
   "execution_count": 45,
   "id": "285c5127",
   "metadata": {},
   "outputs": [
    {
     "data": {
      "text/html": [
       "<div>\n",
       "<style scoped>\n",
       "    .dataframe tbody tr th:only-of-type {\n",
       "        vertical-align: middle;\n",
       "    }\n",
       "\n",
       "    .dataframe tbody tr th {\n",
       "        vertical-align: top;\n",
       "    }\n",
       "\n",
       "    .dataframe thead th {\n",
       "        text-align: right;\n",
       "    }\n",
       "</style>\n",
       "<table border=\"1\" class=\"dataframe\">\n",
       "  <thead>\n",
       "    <tr style=\"text-align: right;\">\n",
       "      <th></th>\n",
       "      <th>Rank</th>\n",
       "      <th>Name</th>\n",
       "      <th>nation</th>\n",
       "      <th>D Score</th>\n",
       "      <th>E Score</th>\n",
       "      <th>Total</th>\n",
       "      <th>year</th>\n",
       "      <th>round</th>\n",
       "      <th>medal</th>\n",
       "      <th>nation_encoded</th>\n",
       "      <th>Name_encoded</th>\n",
       "    </tr>\n",
       "  </thead>\n",
       "  <tbody>\n",
       "    <tr>\n",
       "      <th>1279</th>\n",
       "      <td>1.0</td>\n",
       "      <td>jade carey</td>\n",
       "      <td>USA</td>\n",
       "      <td>6.2</td>\n",
       "      <td>8.266</td>\n",
       "      <td>14.466</td>\n",
       "      <td>2019</td>\n",
       "      <td>Final</td>\n",
       "      <td>3</td>\n",
       "      <td>45</td>\n",
       "      <td>73</td>\n",
       "    </tr>\n",
       "    <tr>\n",
       "      <th>1280</th>\n",
       "      <td>2.0</td>\n",
       "      <td>lara mori</td>\n",
       "      <td>ITA</td>\n",
       "      <td>5.6</td>\n",
       "      <td>7.833</td>\n",
       "      <td>13.433</td>\n",
       "      <td>2019</td>\n",
       "      <td>Final</td>\n",
       "      <td>-1</td>\n",
       "      <td>22</td>\n",
       "      <td>91</td>\n",
       "    </tr>\n",
       "    <tr>\n",
       "      <th>1281</th>\n",
       "      <td>3.0</td>\n",
       "      <td>vanessa ferrari</td>\n",
       "      <td>ITA</td>\n",
       "      <td>5.2</td>\n",
       "      <td>8.100</td>\n",
       "      <td>13.300</td>\n",
       "      <td>2019</td>\n",
       "      <td>Final</td>\n",
       "      <td>2</td>\n",
       "      <td>22</td>\n",
       "      <td>153</td>\n",
       "    </tr>\n",
       "    <tr>\n",
       "      <th>1282</th>\n",
       "      <td>4.0</td>\n",
       "      <td>marta pihan-kulesza</td>\n",
       "      <td>POL</td>\n",
       "      <td>5.4</td>\n",
       "      <td>7.933</td>\n",
       "      <td>13.233</td>\n",
       "      <td>2019</td>\n",
       "      <td>Final</td>\n",
       "      <td>-1</td>\n",
       "      <td>30</td>\n",
       "      <td>113</td>\n",
       "    </tr>\n",
       "    <tr>\n",
       "      <th>1283</th>\n",
       "      <td>5.0</td>\n",
       "      <td>marine boyer</td>\n",
       "      <td>FRA</td>\n",
       "      <td>5.0</td>\n",
       "      <td>8.200</td>\n",
       "      <td>13.200</td>\n",
       "      <td>2019</td>\n",
       "      <td>Final</td>\n",
       "      <td>-1</td>\n",
       "      <td>14</td>\n",
       "      <td>112</td>\n",
       "    </tr>\n",
       "  </tbody>\n",
       "</table>\n",
       "</div>"
      ],
      "text/plain": [
       "      Rank                 Name nation  D Score  E Score   Total  year  round  \\\n",
       "1279   1.0           jade carey    USA      6.2    8.266  14.466  2019  Final   \n",
       "1280   2.0            lara mori    ITA      5.6    7.833  13.433  2019  Final   \n",
       "1281   3.0      vanessa ferrari    ITA      5.2    8.100  13.300  2019  Final   \n",
       "1282   4.0  marta pihan-kulesza    POL      5.4    7.933  13.233  2019  Final   \n",
       "1283   5.0         marine boyer    FRA      5.0    8.200  13.200  2019  Final   \n",
       "\n",
       "      medal  nation_encoded  Name_encoded  \n",
       "1279      3              45            73  \n",
       "1280     -1              22            91  \n",
       "1281      2              22           153  \n",
       "1282     -1              30           113  \n",
       "1283     -1              14           112  "
      ]
     },
     "execution_count": 45,
     "metadata": {},
     "output_type": "execute_result"
    }
   ],
   "source": [
    "df.head()\n"
   ]
  },
  {
   "cell_type": "code",
   "execution_count": 43,
   "id": "072912c3",
   "metadata": {},
   "outputs": [],
   "source": [
    "from sklearn.preprocessing import LabelEncoder\n",
    "\n",
    "# Create a LabelEncoder\n",
    "label_encoder = LabelEncoder()\n",
    "\n",
    "# Apply label encoding to the \"nation\" column\n",
    "df['Name_encoded'] = label_encoder.fit_transform(df['Name'])\n"
   ]
  },
  {
   "cell_type": "code",
   "execution_count": 46,
   "id": "a6e6f7b1",
   "metadata": {},
   "outputs": [],
   "source": [
    "df = df.drop(columns=['Name','nation'])"
   ]
  },
  {
   "cell_type": "code",
   "execution_count": 55,
   "id": "76e47b59",
   "metadata": {},
   "outputs": [
    {
     "name": "stdout",
     "output_type": "stream",
     "text": [
      "<class 'pandas.core.frame.DataFrame'>\n",
      "Index: 240 entries, 1279 to 1458\n",
      "Data columns (total 8 columns):\n",
      " #   Column          Non-Null Count  Dtype  \n",
      "---  ------          --------------  -----  \n",
      " 0   Rank            240 non-null    float64\n",
      " 1   D Score         240 non-null    float64\n",
      " 2   E Score         240 non-null    float64\n",
      " 3   Total           240 non-null    float64\n",
      " 4   year            240 non-null    int64  \n",
      " 5   medal           240 non-null    int64  \n",
      " 6   nation_encoded  240 non-null    int64  \n",
      " 7   Name_encoded    240 non-null    int64  \n",
      "dtypes: float64(4), int64(4)\n",
      "memory usage: 16.9 KB\n"
     ]
    }
   ],
   "source": [
    "df.info()"
   ]
  },
  {
   "cell_type": "code",
   "execution_count": 48,
   "id": "25423c9d",
   "metadata": {},
   "outputs": [],
   "source": [
    "df = df.drop(columns=['round'])"
   ]
  },
  {
   "cell_type": "code",
   "execution_count": 54,
   "id": "6577a4d2",
   "metadata": {},
   "outputs": [],
   "source": [
    "df=df.dropna()"
   ]
  },
  {
   "cell_type": "code",
   "execution_count": 56,
   "id": "1e0fae1e",
   "metadata": {},
   "outputs": [],
   "source": [
    "from sklearn.model_selection import train_test_split\n",
    "\n",
    "# Define features (X) and target (y)\n",
    "X = df[['Rank', 'D Score', 'E Score', 'Total', 'year', 'nation_encoded', 'Name_encoded']]\n",
    "y = df['medal']\n",
    "\n",
    "# Split the data into training and testing sets\n",
    "X_train, X_test, y_train, y_test = train_test_split(X, y, test_size=0.2, random_state=42)\n"
   ]
  },
  {
   "cell_type": "code",
   "execution_count": 57,
   "id": "8611ab54",
   "metadata": {},
   "outputs": [],
   "source": [
    "from sklearn.ensemble import RandomForestClassifier\n",
    "\n",
    "# Create a Random Forest Classifier\n",
    "model = RandomForestClassifier()\n"
   ]
  },
  {
   "cell_type": "code",
   "execution_count": 58,
   "id": "1e7daab1",
   "metadata": {},
   "outputs": [
    {
     "data": {
      "text/html": [
       "<style>#sk-container-id-2 {color: black;background-color: white;}#sk-container-id-2 pre{padding: 0;}#sk-container-id-2 div.sk-toggleable {background-color: white;}#sk-container-id-2 label.sk-toggleable__label {cursor: pointer;display: block;width: 100%;margin-bottom: 0;padding: 0.3em;box-sizing: border-box;text-align: center;}#sk-container-id-2 label.sk-toggleable__label-arrow:before {content: \"▸\";float: left;margin-right: 0.25em;color: #696969;}#sk-container-id-2 label.sk-toggleable__label-arrow:hover:before {color: black;}#sk-container-id-2 div.sk-estimator:hover label.sk-toggleable__label-arrow:before {color: black;}#sk-container-id-2 div.sk-toggleable__content {max-height: 0;max-width: 0;overflow: hidden;text-align: left;background-color: #f0f8ff;}#sk-container-id-2 div.sk-toggleable__content pre {margin: 0.2em;color: black;border-radius: 0.25em;background-color: #f0f8ff;}#sk-container-id-2 input.sk-toggleable__control:checked~div.sk-toggleable__content {max-height: 200px;max-width: 100%;overflow: auto;}#sk-container-id-2 input.sk-toggleable__control:checked~label.sk-toggleable__label-arrow:before {content: \"▾\";}#sk-container-id-2 div.sk-estimator input.sk-toggleable__control:checked~label.sk-toggleable__label {background-color: #d4ebff;}#sk-container-id-2 div.sk-label input.sk-toggleable__control:checked~label.sk-toggleable__label {background-color: #d4ebff;}#sk-container-id-2 input.sk-hidden--visually {border: 0;clip: rect(1px 1px 1px 1px);clip: rect(1px, 1px, 1px, 1px);height: 1px;margin: -1px;overflow: hidden;padding: 0;position: absolute;width: 1px;}#sk-container-id-2 div.sk-estimator {font-family: monospace;background-color: #f0f8ff;border: 1px dotted black;border-radius: 0.25em;box-sizing: border-box;margin-bottom: 0.5em;}#sk-container-id-2 div.sk-estimator:hover {background-color: #d4ebff;}#sk-container-id-2 div.sk-parallel-item::after {content: \"\";width: 100%;border-bottom: 1px solid gray;flex-grow: 1;}#sk-container-id-2 div.sk-label:hover label.sk-toggleable__label {background-color: #d4ebff;}#sk-container-id-2 div.sk-serial::before {content: \"\";position: absolute;border-left: 1px solid gray;box-sizing: border-box;top: 0;bottom: 0;left: 50%;z-index: 0;}#sk-container-id-2 div.sk-serial {display: flex;flex-direction: column;align-items: center;background-color: white;padding-right: 0.2em;padding-left: 0.2em;position: relative;}#sk-container-id-2 div.sk-item {position: relative;z-index: 1;}#sk-container-id-2 div.sk-parallel {display: flex;align-items: stretch;justify-content: center;background-color: white;position: relative;}#sk-container-id-2 div.sk-item::before, #sk-container-id-2 div.sk-parallel-item::before {content: \"\";position: absolute;border-left: 1px solid gray;box-sizing: border-box;top: 0;bottom: 0;left: 50%;z-index: -1;}#sk-container-id-2 div.sk-parallel-item {display: flex;flex-direction: column;z-index: 1;position: relative;background-color: white;}#sk-container-id-2 div.sk-parallel-item:first-child::after {align-self: flex-end;width: 50%;}#sk-container-id-2 div.sk-parallel-item:last-child::after {align-self: flex-start;width: 50%;}#sk-container-id-2 div.sk-parallel-item:only-child::after {width: 0;}#sk-container-id-2 div.sk-dashed-wrapped {border: 1px dashed gray;margin: 0 0.4em 0.5em 0.4em;box-sizing: border-box;padding-bottom: 0.4em;background-color: white;}#sk-container-id-2 div.sk-label label {font-family: monospace;font-weight: bold;display: inline-block;line-height: 1.2em;}#sk-container-id-2 div.sk-label-container {text-align: center;}#sk-container-id-2 div.sk-container {/* jupyter's `normalize.less` sets `[hidden] { display: none; }` but bootstrap.min.css set `[hidden] { display: none !important; }` so we also need the `!important` here to be able to override the default hidden behavior on the sphinx rendered scikit-learn.org. See: https://github.com/scikit-learn/scikit-learn/issues/21755 */display: inline-block !important;position: relative;}#sk-container-id-2 div.sk-text-repr-fallback {display: none;}</style><div id=\"sk-container-id-2\" class=\"sk-top-container\"><div class=\"sk-text-repr-fallback\"><pre>RandomForestClassifier()</pre><b>In a Jupyter environment, please rerun this cell to show the HTML representation or trust the notebook. <br />On GitHub, the HTML representation is unable to render, please try loading this page with nbviewer.org.</b></div><div class=\"sk-container\" hidden><div class=\"sk-item\"><div class=\"sk-estimator sk-toggleable\"><input class=\"sk-toggleable__control sk-hidden--visually\" id=\"sk-estimator-id-2\" type=\"checkbox\" checked><label for=\"sk-estimator-id-2\" class=\"sk-toggleable__label sk-toggleable__label-arrow\">RandomForestClassifier</label><div class=\"sk-toggleable__content\"><pre>RandomForestClassifier()</pre></div></div></div></div></div>"
      ],
      "text/plain": [
       "RandomForestClassifier()"
      ]
     },
     "execution_count": 58,
     "metadata": {},
     "output_type": "execute_result"
    }
   ],
   "source": [
    "model.fit(X_train, y_train)\n"
   ]
  },
  {
   "cell_type": "code",
   "execution_count": 59,
   "id": "7e57ed58",
   "metadata": {},
   "outputs": [
    {
     "name": "stdout",
     "output_type": "stream",
     "text": [
      "Accuracy: 0.9583333333333334\n",
      "              precision    recall  f1-score   support\n",
      "\n",
      "          -1       0.96      1.00      0.98        46\n",
      "           1       0.00      0.00      0.00         1\n",
      "           2       0.00      0.00      0.00         1\n",
      "\n",
      "    accuracy                           0.96        48\n",
      "   macro avg       0.32      0.33      0.33        48\n",
      "weighted avg       0.92      0.96      0.94        48\n",
      "\n"
     ]
    },
    {
     "name": "stderr",
     "output_type": "stream",
     "text": [
      "/Users/ryantalbot/opt/anaconda3/envs/tf2/lib/python3.9/site-packages/sklearn/metrics/_classification.py:1334: UndefinedMetricWarning: Precision and F-score are ill-defined and being set to 0.0 in labels with no predicted samples. Use `zero_division` parameter to control this behavior.\n",
      "  _warn_prf(average, modifier, msg_start, len(result))\n",
      "/Users/ryantalbot/opt/anaconda3/envs/tf2/lib/python3.9/site-packages/sklearn/metrics/_classification.py:1334: UndefinedMetricWarning: Precision and F-score are ill-defined and being set to 0.0 in labels with no predicted samples. Use `zero_division` parameter to control this behavior.\n",
      "  _warn_prf(average, modifier, msg_start, len(result))\n",
      "/Users/ryantalbot/opt/anaconda3/envs/tf2/lib/python3.9/site-packages/sklearn/metrics/_classification.py:1334: UndefinedMetricWarning: Precision and F-score are ill-defined and being set to 0.0 in labels with no predicted samples. Use `zero_division` parameter to control this behavior.\n",
      "  _warn_prf(average, modifier, msg_start, len(result))\n"
     ]
    }
   ],
   "source": [
    "from sklearn.metrics import accuracy_score, classification_report\n",
    "\n",
    "# Predict on the testing set\n",
    "y_pred = model.predict(X_test)\n",
    "\n",
    "# Calculate accuracy\n",
    "accuracy = accuracy_score(y_test, y_pred)\n",
    "\n",
    "# Generate a classification report\n",
    "report = classification_report(y_test, y_pred)\n",
    "\n",
    "print(f'Accuracy: {accuracy}')\n",
    "print(report)\n"
   ]
  },
  {
   "cell_type": "code",
   "execution_count": 60,
   "id": "5546d245",
   "metadata": {},
   "outputs": [
    {
     "data": {
      "text/plain": [
       "array([-1, -1, -1, -1, -1, -1, -1, -1, -1, -1, -1, -1, -1, -1, -1, -1, -1,\n",
       "       -1, -1, -1, -1, -1, -1, -1, -1, -1, -1, -1, -1, -1, -1, -1, -1, -1,\n",
       "       -1, -1, -1, -1, -1, -1, -1, -1, -1, -1, -1, -1, -1, -1])"
      ]
     },
     "execution_count": 60,
     "metadata": {},
     "output_type": "execute_result"
    }
   ],
   "source": []
  },
  {
   "cell_type": "code",
   "execution_count": 61,
   "id": "b79cb3d2",
   "metadata": {},
   "outputs": [
    {
     "data": {
      "text/plain": [
       "1303   -1\n",
       "1285   -1\n",
       "1473   -1\n",
       "1240   -1\n",
       "1235   -1\n",
       "1357   -1\n",
       "1452   -1\n",
       "1466    2\n",
       "1288   -1\n",
       "1274   -1\n",
       "1324   -1\n",
       "1391   -1\n",
       "1245   -1\n",
       "1353   -1\n",
       "1244   -1\n",
       "1449   -1\n",
       "1370   -1\n",
       "1294   -1\n",
       "1337   -1\n",
       "1256   -1\n",
       "1258   -1\n",
       "1298   -1\n",
       "1454   -1\n",
       "1309   -1\n",
       "1361   -1\n",
       "1335   -1\n",
       "1289   -1\n",
       "1386   -1\n",
       "1456   -1\n",
       "1338   -1\n",
       "1476   -1\n",
       "1447   -1\n",
       "1304   -1\n",
       "1367   -1\n",
       "1297   -1\n",
       "1416   -1\n",
       "1377   -1\n",
       "1402   -1\n",
       "1459    1\n",
       "1360   -1\n",
       "1446   -1\n",
       "1243   -1\n",
       "1440   -1\n",
       "1295   -1\n",
       "1341   -1\n",
       "1413   -1\n",
       "1350   -1\n",
       "1317   -1\n",
       "Name: medal, dtype: int64"
      ]
     },
     "execution_count": 61,
     "metadata": {},
     "output_type": "execute_result"
    }
   ],
   "source": [
    "y_test"
   ]
  },
  {
   "cell_type": "code",
   "execution_count": null,
   "id": "4c571b0e",
   "metadata": {},
   "outputs": [],
   "source": []
  }
 ],
 "metadata": {
  "kernelspec": {
   "display_name": "Python 3 (ipykernel)",
   "language": "python",
   "name": "python3"
  },
  "language_info": {
   "codemirror_mode": {
    "name": "ipython",
    "version": 3
   },
   "file_extension": ".py",
   "mimetype": "text/x-python",
   "name": "python",
   "nbconvert_exporter": "python",
   "pygments_lexer": "ipython3",
   "version": "3.9.12"
  }
 },
 "nbformat": 4,
 "nbformat_minor": 5
}
