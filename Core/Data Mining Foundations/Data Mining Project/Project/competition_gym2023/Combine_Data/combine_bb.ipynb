{
 "cells": [
  {
   "cell_type": "code",
   "execution_count": 1,
   "id": "84c83862",
   "metadata": {},
   "outputs": [],
   "source": [
    "import pandas as pd\n",
    "import numpy as np"
   ]
  },
  {
   "cell_type": "code",
   "execution_count": 7,
   "id": "5fef6a05",
   "metadata": {},
   "outputs": [],
   "source": [
    "pac16bb = pd.read_csv('../Cleaning/qual_events/clean_pacific_rim2016bb.csv')\n",
    "bc15bb = pd.read_csv('../Cleaning/qual_events/clean_british_championship2015bb.csv')\n",
    "jesolo15bb = pd.read_csv('../Cleaning/qual_events/clean_jesolo2015bb.csv')\n",
    "wc13cott_bb = pd.read_csv('../Cleaning/qual_events/clean_wc13cott_bb.csv')\n",
    "wc13doha_bb = pd.read_csv('../Cleaning/qual_events/clean_wc14doha_bb.csv')\n",
    "wc19doha_bb = pd.read_csv('../Cleaning/qual_events/clean_worldcup2019doha_bb.csv')\n",
    "eu20_bb = pd.read_csv('../Cleaning/qual_events/euro2020bb.csv')\n",
    "uni19_bb = pd.read_csv('../Cleaning/qual_events/uni2019bb.csv')\n",
    "wc19melb_bb = pd.read_csv('../Cleaning/qual_events/clean_worldcup2019melbourne_bb.csv')\n",
    "wc18jeso_bb = pd.read_csv('../Cleaning/qual_events/clean_worldcup2018jesolo_bb.csv')\n",
    "usopc_bb = pd.read_csv('../Cleaning/USOPC/usopc_women_bb_october.csv')\n",
    "bb_world_championship_w = pd.read_csv('../Cleaning/World_Championships/bb_world_championship_w.csv')\n",
    "# wc15cott_bb = pd.read_csv('../Cleaning/qual_events/clean_worldcup2015cott_bb.csv')\n"
   ]
  },
  {
   "cell_type": "code",
   "execution_count": 9,
   "id": "d96b85b7",
   "metadata": {},
   "outputs": [],
   "source": [
    "eu20_bb.rename(columns={'Gymnast': 'Name', 'Position': 'Rank', 'Penalty': 'Pen.'}, inplace=True)\n",
    "uni19_bb['nation'] = uni19_bb['Athlete'].str.extract(r'\\((.*?)\\)')\n",
    "uni19_bb['Athlete'] = uni19_bb['Athlete'].str.replace(r'\\(.*?\\)', '', regex=True)\n",
    "uni19_bb['year']=2019\n",
    "eu20_bb['year']=2020\n",
    "eu20_bb['nation']='eu'\n",
    "uni19_bb.rename(columns={'Athlete': 'Name', }, inplace=True)\n",
    "uni19_bb['round']='final'\n",
    "eu20_bb['round']='final'\n"
   ]
  },
  {
   "cell_type": "code",
   "execution_count": 10,
   "id": "f62e610c",
   "metadata": {},
   "outputs": [],
   "source": [
    "def rename_columns(dataframe):\n",
    "    # Define the column name mapping\n",
    "    column_name_mapping = {\n",
    "        'Athlete': 'Name',\n",
    "        'Gymnast': 'Name',\n",
    "        'Nation': 'nation',\n",
    "        'D': 'D Score',\n",
    "        'E': 'E Score',\n",
    "        'ND': 'Pen.',\n",
    "        'Score': 'Total',\n",
    "        'Position': 'Rank'\n",
    "        # Add more columns as needed\n",
    "    }\n",
    "\n",
    "    return dataframe.rename(columns=column_name_mapping, inplace=True)\n"
   ]
  },
  {
   "cell_type": "code",
   "execution_count": 12,
   "id": "768208e9",
   "metadata": {},
   "outputs": [],
   "source": [
    "rename_columns(wc19melb_bb)"
   ]
  },
  {
   "cell_type": "code",
   "execution_count": 13,
   "id": "bfade7fe",
   "metadata": {},
   "outputs": [],
   "source": [
    "def reorder_columns(dataframe):\n",
    "    # Define the desired column order\n",
    "    desired_column_order = ['Rank', 'Name', 'nation', 'D Score', 'E Score', 'Pen.', 'Total', 'year', 'round']\n",
    "\n",
    "    return dataframe[desired_column_order]\n"
   ]
  },
  {
   "cell_type": "code",
   "execution_count": 14,
   "id": "617a7501",
   "metadata": {},
   "outputs": [],
   "source": [
    "wc19melb_bb = reorder_columns(wc19melb_bb)"
   ]
  },
  {
   "cell_type": "markdown",
   "id": "eb0d9b74",
   "metadata": {},
   "source": [
    "Functions\n",
    "\n",
    "    rename_columns(wc19melb_ub)\n",
    "\n",
    "    wc19melb_ub = reorder_columns(wc19melb_ub)\n",
    "\n"
   ]
  },
  {
   "cell_type": "code",
   "execution_count": 16,
   "id": "78e3c98d",
   "metadata": {},
   "outputs": [],
   "source": [
    "rename_columns(pac16bb)"
   ]
  },
  {
   "cell_type": "code",
   "execution_count": 17,
   "id": "7e7c9da6",
   "metadata": {},
   "outputs": [],
   "source": [
    "pac16bb = reorder_columns(pac16bb)"
   ]
  },
  {
   "cell_type": "code",
   "execution_count": 19,
   "id": "074f19ff",
   "metadata": {},
   "outputs": [],
   "source": [
    "rename_columns(bc15bb)"
   ]
  },
  {
   "cell_type": "code",
   "execution_count": 20,
   "id": "c1525a6c",
   "metadata": {},
   "outputs": [],
   "source": [
    "bc15bb = reorder_columns(bc15bb)"
   ]
  },
  {
   "cell_type": "code",
   "execution_count": 22,
   "id": "e8f53565",
   "metadata": {},
   "outputs": [],
   "source": [
    "rename_columns(jesolo15bb)"
   ]
  },
  {
   "cell_type": "code",
   "execution_count": 23,
   "id": "cbca5f11",
   "metadata": {},
   "outputs": [],
   "source": [
    "jesolo15bb = reorder_columns(jesolo15bb)"
   ]
  },
  {
   "cell_type": "code",
   "execution_count": 25,
   "id": "48dc2a08",
   "metadata": {},
   "outputs": [],
   "source": [
    "rename_columns(wc13cott_bb)"
   ]
  },
  {
   "cell_type": "code",
   "execution_count": 26,
   "id": "2749a06b",
   "metadata": {},
   "outputs": [],
   "source": [
    "wc13cott_bb = reorder_columns(wc13cott_bb)"
   ]
  },
  {
   "cell_type": "code",
   "execution_count": 28,
   "id": "b16e26bd",
   "metadata": {},
   "outputs": [],
   "source": [
    "rename_columns(wc13doha_bb)"
   ]
  },
  {
   "cell_type": "code",
   "execution_count": 29,
   "id": "368f2e22",
   "metadata": {},
   "outputs": [],
   "source": [
    "wc13doha_bb = reorder_columns(wc13doha_bb)"
   ]
  },
  {
   "cell_type": "code",
   "execution_count": 33,
   "id": "ad35813d",
   "metadata": {},
   "outputs": [],
   "source": [
    "rename_columns(wc19doha_bb)"
   ]
  },
  {
   "cell_type": "code",
   "execution_count": 37,
   "id": "116ed35f",
   "metadata": {},
   "outputs": [],
   "source": [
    "# Create a dictionary to specify the column name changes\n",
    "column_name_mapping = {\n",
    "    'Round': 'round'\n",
    "}\n",
    "\n",
    "# Use the rename method to rename the columns\n",
    "wc19doha_bb.rename(columns=column_name_mapping, inplace=True)"
   ]
  },
  {
   "cell_type": "code",
   "execution_count": 38,
   "id": "53a7bde5",
   "metadata": {},
   "outputs": [],
   "source": [
    "wc19doha_bb = reorder_columns(wc19doha_bb)"
   ]
  },
  {
   "cell_type": "code",
   "execution_count": 39,
   "id": "ed6438b3",
   "metadata": {},
   "outputs": [],
   "source": [
    "rename_columns(eu20_bb)"
   ]
  },
  {
   "cell_type": "code",
   "execution_count": 40,
   "id": "ce790c9a",
   "metadata": {},
   "outputs": [],
   "source": [
    "wc13doha_bb = reorder_columns(eu20_bb)"
   ]
  },
  {
   "cell_type": "code",
   "execution_count": 44,
   "id": "256ee13b",
   "metadata": {},
   "outputs": [],
   "source": [
    "rename_columns(uni19_bb)"
   ]
  },
  {
   "cell_type": "code",
   "execution_count": 45,
   "id": "43460cb8",
   "metadata": {},
   "outputs": [],
   "source": [
    "uni19_bb = reorder_columns(uni19_bb)"
   ]
  },
  {
   "cell_type": "code",
   "execution_count": 47,
   "id": "5c354790",
   "metadata": {},
   "outputs": [],
   "source": [
    "rename_columns(wc18jeso_bb)"
   ]
  },
  {
   "cell_type": "code",
   "execution_count": 49,
   "id": "fb0eda0f",
   "metadata": {},
   "outputs": [],
   "source": [
    "wc18jeso_bb['year']=2018\n",
    "wc18jeso_bb['round']='final'"
   ]
  },
  {
   "cell_type": "code",
   "execution_count": 50,
   "id": "8e520283",
   "metadata": {},
   "outputs": [],
   "source": [
    "wc18jeso_bb = reorder_columns(wc18jeso_bb)"
   ]
  },
  {
   "cell_type": "code",
   "execution_count": 53,
   "id": "eb901913",
   "metadata": {},
   "outputs": [],
   "source": [
    "rename_columns(bb_world_championship_w)"
   ]
  },
  {
   "cell_type": "code",
   "execution_count": 54,
   "id": "50f7f441",
   "metadata": {},
   "outputs": [],
   "source": [
    "bb_world_championship_w = reorder_columns(bb_world_championship_w)"
   ]
  },
  {
   "cell_type": "code",
   "execution_count": null,
   "id": "2f7326e2",
   "metadata": {},
   "outputs": [],
   "source": [
    "bb_world_championship_w"
   ]
  },
  {
   "cell_type": "code",
   "execution_count": 57,
   "id": "f9a9a2f8",
   "metadata": {},
   "outputs": [],
   "source": [
    "usopc_bb=usopc_bb.drop(columns=[\"Gender\", 'Competition', 'Apparatus', ])\n",
    "usopc_bb['year'] = usopc_bb['Date'].str[:4]\n",
    "usopc_bb=usopc_bb.drop(columns=[\"Date\"])"
   ]
  },
  {
   "cell_type": "code",
   "execution_count": 58,
   "id": "533200fd",
   "metadata": {},
   "outputs": [],
   "source": [
    "usopc_bb.rename(columns={'Country': 'nation', 'Round': 'round',\n",
    "                           'E_Score': 'E Score','D_Score': 'D Score', 'Penalty': 'Pen.',\n",
    "                        'Score': 'Total'}, inplace=True)\n",
    "\n",
    "usopc_bb=usopc_bb[['Rank', 'Name', 'nation', 'D Score', 'E Score', 'Pen.', \n",
    "                         'Total','year' , 'round' ]]"
   ]
  },
  {
   "cell_type": "code",
   "execution_count": null,
   "id": "3000f711",
   "metadata": {},
   "outputs": [],
   "source": []
  },
  {
   "cell_type": "code",
   "execution_count": null,
   "id": "3d0b65ae",
   "metadata": {},
   "outputs": [],
   "source": []
  },
  {
   "cell_type": "code",
   "execution_count": 62,
   "id": "a7214605",
   "metadata": {},
   "outputs": [],
   "source": [
    "combined_df = pd.concat([wc19melb_bb, pac16bb,bc15bb,jesolo15bb, wc13cott_bb, wc13doha_bb])"
   ]
  },
  {
   "cell_type": "code",
   "execution_count": null,
   "id": "4144c30c",
   "metadata": {},
   "outputs": [],
   "source": []
  },
  {
   "cell_type": "code",
   "execution_count": 63,
   "id": "a56e5f0d",
   "metadata": {},
   "outputs": [],
   "source": [
    "bb = combined_df.copy()"
   ]
  },
  {
   "cell_type": "code",
   "execution_count": 64,
   "id": "a9fd204f",
   "metadata": {},
   "outputs": [
    {
     "name": "stdout",
     "output_type": "stream",
     "text": [
      "<class 'pandas.core.frame.DataFrame'>\n",
      "Index: 94 entries, 0 to 7\n",
      "Data columns (total 9 columns):\n",
      " #   Column   Non-Null Count  Dtype  \n",
      "---  ------   --------------  -----  \n",
      " 0   Rank     94 non-null     int64  \n",
      " 1   Name     94 non-null     object \n",
      " 2   nation   94 non-null     object \n",
      " 3   D Score  94 non-null     float64\n",
      " 4   E Score  94 non-null     float64\n",
      " 5   Pen.     94 non-null     float64\n",
      " 6   Total    94 non-null     float64\n",
      " 7   year     94 non-null     int64  \n",
      " 8   round    94 non-null     object \n",
      "dtypes: float64(4), int64(2), object(3)\n",
      "memory usage: 7.3+ KB\n"
     ]
    }
   ],
   "source": [
    "bb.info()"
   ]
  },
  {
   "cell_type": "code",
   "execution_count": 65,
   "id": "7bd5c99b",
   "metadata": {},
   "outputs": [],
   "source": [
    "combined_df = pd.concat([bb, wc19doha_bb, eu20_bb, uni19_bb, wc18jeso_bb, \n",
    "                         bb_world_championship_w, usopc_bb])\n",
    "\n"
   ]
  },
  {
   "cell_type": "code",
   "execution_count": 68,
   "id": "ec6476ad",
   "metadata": {},
   "outputs": [],
   "source": [
    "bb = combined_df.copy()"
   ]
  },
  {
   "cell_type": "code",
   "execution_count": 69,
   "id": "35e0ea8f",
   "metadata": {},
   "outputs": [
    {
     "name": "stdout",
     "output_type": "stream",
     "text": [
      "<class 'pandas.core.frame.DataFrame'>\n",
      "Index: 1554 entries, 0 to 1340\n",
      "Data columns (total 9 columns):\n",
      " #   Column   Non-Null Count  Dtype  \n",
      "---  ------   --------------  -----  \n",
      " 0   Rank     1554 non-null   float64\n",
      " 1   Name     1554 non-null   object \n",
      " 2   nation   1515 non-null   object \n",
      " 3   D Score  1554 non-null   float64\n",
      " 4   E Score  1554 non-null   float64\n",
      " 5   Pen.     1546 non-null   float64\n",
      " 6   Total    1554 non-null   float64\n",
      " 7   year     1554 non-null   object \n",
      " 8   round    1554 non-null   object \n",
      "dtypes: float64(5), object(4)\n",
      "memory usage: 121.4+ KB\n"
     ]
    }
   ],
   "source": [
    "bb.info()"
   ]
  },
  {
   "cell_type": "code",
   "execution_count": 70,
   "id": "c8ff9c32",
   "metadata": {},
   "outputs": [],
   "source": [
    "# bb.to_csv('bb_w.csv', index=False)"
   ]
  },
  {
   "cell_type": "code",
   "execution_count": null,
   "id": "2778a4c3",
   "metadata": {},
   "outputs": [],
   "source": []
  }
 ],
 "metadata": {
  "kernelspec": {
   "display_name": "Python 3 (ipykernel)",
   "language": "python",
   "name": "python3"
  },
  "language_info": {
   "codemirror_mode": {
    "name": "ipython",
    "version": 3
   },
   "file_extension": ".py",
   "mimetype": "text/x-python",
   "name": "python",
   "nbconvert_exporter": "python",
   "pygments_lexer": "ipython3",
   "version": "3.9.12"
  }
 },
 "nbformat": 4,
 "nbformat_minor": 5
}
