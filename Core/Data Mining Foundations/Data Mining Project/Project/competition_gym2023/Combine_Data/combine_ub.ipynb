{
 "cells": [
  {
   "cell_type": "code",
   "execution_count": 1,
   "id": "b4c03335",
   "metadata": {},
   "outputs": [],
   "source": [
    "import pandas as pd\n",
    "import numpy as np"
   ]
  },
  {
   "cell_type": "code",
   "execution_count": 2,
   "id": "2a99f3cc",
   "metadata": {},
   "outputs": [],
   "source": [
    "pac16ub = pd.read_csv('../Cleaning/qual_events/clean_pacific_rim2016ub.csv')\n",
    "bc15ub = pd.read_csv('../Cleaning/qual_events/clean_british_championship2015ub.csv')\n",
    "jesolo15ub = pd.read_csv('../Cleaning/qual_events/clean_jesolo2015ub.csv')\n",
    "wc13cott_ub = pd.read_csv('../Cleaning/qual_events/clean_wc13cott_ub.csv')\n",
    "wc13doha_ub = pd.read_csv('../Cleaning/qual_events/clean_wc14doha_ub.csv')\n",
    "wc15cott_ub = pd.read_csv('../Cleaning/qual_events/clean_worldcup2015cott_ub.csv')\n",
    "wc19doha_ub = pd.read_csv('../Cleaning/qual_events/clean_worldcup2019doha_ub.csv')\n",
    "eu20_ub = pd.read_csv('../Cleaning/qual_events/euro2020ub.csv')\n",
    "uni19_ub = pd.read_csv('../Cleaning/qual_events/uni2019ub.csv')\n",
    "wc19melb_ub = pd.read_csv('../Cleaning/qual_events/clean_worldcup2019melbourne_ub.csv')\n",
    "wc18jeso_ub = pd.read_csv('../Cleaning/qual_events/clean_worldcup2018jesolo_ub.csv')\n",
    "ub_world_championship_w = pd.read_csv('../Cleaning/World_Championships/ub_world_championship_w.csv')\n",
    "usopc_ub = pd.read_csv('../Cleaning/USOPC/usopc_women_ub_october.csv')\n"
   ]
  },
  {
   "cell_type": "code",
   "execution_count": 4,
   "id": "3dedf252",
   "metadata": {},
   "outputs": [],
   "source": [
    "eu20_ub.rename(columns={'Gymnast': 'Name', 'Position': 'Rank', 'Penalty': 'Pen.'}, inplace=True)\n",
    "uni19_ub['nation'] = uni19_ub['Athlete'].str.extract(r'\\((.*?)\\)')\n",
    "uni19_ub['Athlete'] = uni19_ub['Athlete'].str.replace(r'\\(.*?\\)', '', regex=True)\n",
    "uni19_ub['year']=2019\n",
    "eu20_ub['year']=2020\n",
    "eu20_ub['nation']='eu'\n",
    "uni19_ub.rename(columns={'Athlete': 'Name', }, inplace=True)\n",
    "uni19_ub['round']='final'\n",
    "eu20_ub['round']='final'\n",
    "\n"
   ]
  },
  {
   "cell_type": "code",
   "execution_count": 5,
   "id": "b937662e",
   "metadata": {},
   "outputs": [],
   "source": [
    "eu20_ub=eu20_ub[['Rank', 'Name', 'nation', 'D Score', 'E Score', 'Pen.', 'Total', 'year']]\n",
    "uni19_ub = uni19_ub[['Rank', 'Name', 'nation', 'D Score', 'E Score', 'Pen.', 'Total', 'year']]\n"
   ]
  },
  {
   "cell_type": "code",
   "execution_count": 6,
   "id": "f459219e",
   "metadata": {},
   "outputs": [],
   "source": [
    "wc19doha_ub.rename(columns={'Athlete': 'Name', \n",
    "                            'Nation': 'nation', 'D': 'D Score',\n",
    "                           'E': 'E Score', 'ND': 'Pen.'}, inplace=True)\n",
    "\n",
    "wc19doha_ub=wc19doha_ub[['Rank', 'Name', 'nation', 'D Score', 'E Score', 'Pen.', \n",
    "                         'Total','year' , 'round' ]]\n",
    "\n",
    "\n"
   ]
  },
  {
   "cell_type": "code",
   "execution_count": 7,
   "id": "32fbf0c2",
   "metadata": {},
   "outputs": [],
   "source": [
    "wc15cott_ub.rename(columns={'Athlete': 'Name', \n",
    "                            'Nation': 'nation', 'D': 'D Score',\n",
    "                           'E': 'E Score', 'ND': 'Pen.'}, inplace=True)\n",
    "wc15cott_ub=wc15cott_ub[['Rank', 'Name', 'nation', 'D Score', 'E Score', 'Pen.', \n",
    "                         'Total','year' , 'round' ]]"
   ]
  },
  {
   "cell_type": "code",
   "execution_count": 8,
   "id": "1f8dcc1f",
   "metadata": {},
   "outputs": [],
   "source": [
    "usopc_ub=usopc_ub.drop(columns=[\"Gender\", 'Competition', 'Apparatus', ])\n",
    "usopc_ub['year'] = usopc_ub['Date'].str[:4]\n",
    "usopc_ub=usopc_ub.drop(columns=[\"Date\"])"
   ]
  },
  {
   "cell_type": "code",
   "execution_count": 9,
   "id": "6d46db4e",
   "metadata": {},
   "outputs": [],
   "source": [
    "usopc_ub.rename(columns={'Country': 'nation', 'Round': 'round',\n",
    "                           'E_Score': 'E Score','D_Score': 'D Score', 'Penalty': 'Pen.',\n",
    "                        'Score': 'Total'}, inplace=True)\n",
    "\n",
    "usopc_ub=usopc_ub[['Rank', 'Name', 'nation', 'D Score', 'E Score', 'Pen.', \n",
    "                         'Total','year' , 'round' ]]"
   ]
  },
  {
   "cell_type": "code",
   "execution_count": 10,
   "id": "b426f217",
   "metadata": {},
   "outputs": [
    {
     "data": {
      "text/html": [
       "<div>\n",
       "<style scoped>\n",
       "    .dataframe tbody tr th:only-of-type {\n",
       "        vertical-align: middle;\n",
       "    }\n",
       "\n",
       "    .dataframe tbody tr th {\n",
       "        vertical-align: top;\n",
       "    }\n",
       "\n",
       "    .dataframe thead th {\n",
       "        text-align: right;\n",
       "    }\n",
       "</style>\n",
       "<table border=\"1\" class=\"dataframe\">\n",
       "  <thead>\n",
       "    <tr style=\"text-align: right;\">\n",
       "      <th></th>\n",
       "      <th>Rank</th>\n",
       "      <th>Name</th>\n",
       "      <th>nation</th>\n",
       "      <th>D Score</th>\n",
       "      <th>E Score</th>\n",
       "      <th>Pen.</th>\n",
       "      <th>Total</th>\n",
       "      <th>year</th>\n",
       "    </tr>\n",
       "  </thead>\n",
       "  <tbody>\n",
       "    <tr>\n",
       "      <th>0</th>\n",
       "      <td>1</td>\n",
       "      <td>Zsófia Kóvacs</td>\n",
       "      <td>eu</td>\n",
       "      <td>5.7</td>\n",
       "      <td>8.15</td>\n",
       "      <td>0.0</td>\n",
       "      <td>13.85</td>\n",
       "      <td>2020</td>\n",
       "    </tr>\n",
       "  </tbody>\n",
       "</table>\n",
       "</div>"
      ],
      "text/plain": [
       "   Rank           Name nation  D Score  E Score  Pen.  Total  year\n",
       "0     1  Zsófia Kóvacs     eu      5.7     8.15   0.0  13.85  2020"
      ]
     },
     "execution_count": 10,
     "metadata": {},
     "output_type": "execute_result"
    }
   ],
   "source": [
    "eu20_ub.head(1)"
   ]
  },
  {
   "cell_type": "code",
   "execution_count": 11,
   "id": "05ba80a8",
   "metadata": {},
   "outputs": [],
   "source": [
    "combined_df = pd.concat([usopc_ub, wc15cott_ub, wc19doha_ub, eu20_ub, uni19_ub], axis=0)"
   ]
  },
  {
   "cell_type": "code",
   "execution_count": 18,
   "id": "00e552c0",
   "metadata": {},
   "outputs": [],
   "source": [
    "ub = combined_df.copy()"
   ]
  },
  {
   "cell_type": "code",
   "execution_count": 13,
   "id": "08d34187",
   "metadata": {},
   "outputs": [],
   "source": [
    "# Create a dictionary to specify the column name changes\n",
    "column_name_mapping = {\n",
    "    'Athlete': 'Name',\n",
    "    'Nation': 'nation',\n",
    "    'D': 'D Score',\n",
    "    'E': 'E Score',\n",
    "    'ND': 'Pen.',\n",
    "    'Score': 'Total'\n",
    "    # Add more columns as needed\n",
    "}\n",
    "\n",
    "# Use the rename method to rename the columns\n",
    "wc13doha_ub.rename(columns=column_name_mapping, inplace=True)"
   ]
  },
  {
   "cell_type": "code",
   "execution_count": 14,
   "id": "02a036b2",
   "metadata": {},
   "outputs": [],
   "source": [
    "# Define the desired column order\n",
    "desired_column_order = ['Rank', 'Name', 'nation', 'D Score', 'E Score', 'Pen.', 'Total', 'year',\n",
    "       'round']\n",
    "\n",
    "# Create a new DataFrame with the columns rearranged\n",
    "wc13doha_ub = wc13doha_ub[desired_column_order]\n"
   ]
  },
  {
   "cell_type": "code",
   "execution_count": 16,
   "id": "0cb7acae",
   "metadata": {},
   "outputs": [],
   "source": [
    "# Create a dictionary to specify the column name changes\n",
    "column_name_mapping = {\n",
    "    'Athlete': 'Name',\n",
    "    'Nation': 'nation',\n",
    "    'D': 'D Score',\n",
    "    'E': 'E Score',\n",
    "    'ND': 'Pen.',\n",
    "    'Score': 'Total'\n",
    "    # Add more columns as needed\n",
    "}\n",
    "\n",
    "# Use the rename method to rename the columns\n",
    "wc13cott_ub.rename(columns=column_name_mapping, inplace=True)\n",
    "\n"
   ]
  },
  {
   "cell_type": "code",
   "execution_count": 17,
   "id": "c19a6b11",
   "metadata": {},
   "outputs": [],
   "source": [
    "# Define the desired column order\n",
    "desired_column_order = ['Rank', 'Name', 'nation', 'D Score', 'E Score', 'Pen.', 'Total', 'year',\n",
    "       'round']\n",
    "\n",
    "# Create a new DataFrame with the columns rearranged\n",
    "wc13cott_ub = wc13cott_ub[desired_column_order]\n"
   ]
  },
  {
   "cell_type": "code",
   "execution_count": 19,
   "id": "06970891",
   "metadata": {},
   "outputs": [],
   "source": [
    "ub = pd.concat([ub, wc13doha_ub,wc13cott_ub])"
   ]
  },
  {
   "cell_type": "code",
   "execution_count": 45,
   "id": "00b52f7c",
   "metadata": {},
   "outputs": [],
   "source": [
    "def rename_columns(dataframe):\n",
    "    # Define the column name mapping\n",
    "    column_name_mapping = {\n",
    "        'Athlete': 'Name',\n",
    "        'Gymnast': 'Name',\n",
    "        'Nation': 'nation',\n",
    "        'D': 'D Score',\n",
    "        'E': 'E Score',\n",
    "        'ND': 'Pen.',\n",
    "        'Score': 'Total',\n",
    "        'Position': 'Rank'\n",
    "        # Add more columns as needed\n",
    "    }\n",
    "\n",
    "    return dataframe.rename(columns=column_name_mapping, inplace=True)\n"
   ]
  },
  {
   "cell_type": "code",
   "execution_count": 23,
   "id": "ebdcdf30",
   "metadata": {},
   "outputs": [],
   "source": [
    "rename_columns(wc19melb_ub)"
   ]
  },
  {
   "cell_type": "code",
   "execution_count": 25,
   "id": "6b75f988",
   "metadata": {},
   "outputs": [],
   "source": [
    "def reorder_columns(dataframe):\n",
    "    # Define the desired column order\n",
    "    desired_column_order = ['Rank', 'Name', 'nation', 'D Score', 'E Score', 'Pen.', 'Total', 'year', 'round']\n",
    "\n",
    "    return dataframe[desired_column_order]\n",
    "\n"
   ]
  },
  {
   "cell_type": "code",
   "execution_count": 26,
   "id": "36dcd835",
   "metadata": {},
   "outputs": [],
   "source": [
    "wc19melb_ub = reorder_columns(wc19melb_ub)"
   ]
  },
  {
   "cell_type": "markdown",
   "id": "f2fe89da",
   "metadata": {},
   "source": [
    "# Functions\n",
    "\n",
    "\n",
    "- rename_columns(wc19melb_ub)\n",
    "\n",
    "- wc19melb_ub = reorder_columns(wc19melb_ub)"
   ]
  },
  {
   "cell_type": "code",
   "execution_count": 28,
   "id": "6c3db304",
   "metadata": {},
   "outputs": [],
   "source": [
    "wc18jeso_ub['year']=2018\n",
    "wc18jeso_ub['round']='final'"
   ]
  },
  {
   "cell_type": "code",
   "execution_count": 30,
   "id": "eca2f6f8",
   "metadata": {},
   "outputs": [
    {
     "data": {
      "text/html": [
       "<div>\n",
       "<style scoped>\n",
       "    .dataframe tbody tr th:only-of-type {\n",
       "        vertical-align: middle;\n",
       "    }\n",
       "\n",
       "    .dataframe tbody tr th {\n",
       "        vertical-align: top;\n",
       "    }\n",
       "\n",
       "    .dataframe thead th {\n",
       "        text-align: right;\n",
       "    }\n",
       "</style>\n",
       "<table border=\"1\" class=\"dataframe\">\n",
       "  <thead>\n",
       "    <tr style=\"text-align: right;\">\n",
       "      <th></th>\n",
       "      <th>Rank</th>\n",
       "      <th>Athlete</th>\n",
       "      <th>Nation</th>\n",
       "      <th>D</th>\n",
       "      <th>E</th>\n",
       "      <th>ND</th>\n",
       "      <th>Total</th>\n",
       "      <th>year</th>\n",
       "      <th>round</th>\n",
       "    </tr>\n",
       "  </thead>\n",
       "  <tbody>\n",
       "    <tr>\n",
       "      <th>0</th>\n",
       "      <td>1</td>\n",
       "      <td>Anastasia Iliankova</td>\n",
       "      <td>RUS</td>\n",
       "      <td>6.1</td>\n",
       "      <td>8.500</td>\n",
       "      <td>0.0</td>\n",
       "      <td>14.600</td>\n",
       "      <td>2018</td>\n",
       "      <td>final</td>\n",
       "    </tr>\n",
       "    <tr>\n",
       "      <th>1</th>\n",
       "      <td>2</td>\n",
       "      <td>Ragan Smith</td>\n",
       "      <td>USA</td>\n",
       "      <td>6.0</td>\n",
       "      <td>8.567</td>\n",
       "      <td>0.0</td>\n",
       "      <td>14.567</td>\n",
       "      <td>2018</td>\n",
       "      <td>final</td>\n",
       "    </tr>\n",
       "    <tr>\n",
       "      <th>2</th>\n",
       "      <td>3</td>\n",
       "      <td>Angelina Melnikova</td>\n",
       "      <td>RUS</td>\n",
       "      <td>5.9</td>\n",
       "      <td>8.433</td>\n",
       "      <td>0.0</td>\n",
       "      <td>14.333</td>\n",
       "      <td>2018</td>\n",
       "      <td>final</td>\n",
       "    </tr>\n",
       "    <tr>\n",
       "      <th>3</th>\n",
       "      <td>4</td>\n",
       "      <td>Alyona Shchennikova</td>\n",
       "      <td>USA</td>\n",
       "      <td>6.0</td>\n",
       "      <td>8.167</td>\n",
       "      <td>0.0</td>\n",
       "      <td>14.167</td>\n",
       "      <td>2018</td>\n",
       "      <td>final</td>\n",
       "    </tr>\n",
       "    <tr>\n",
       "      <th>4</th>\n",
       "      <td>5</td>\n",
       "      <td>Lorette Charpy</td>\n",
       "      <td>FRA</td>\n",
       "      <td>5.5</td>\n",
       "      <td>8.100</td>\n",
       "      <td>0.0</td>\n",
       "      <td>13.600</td>\n",
       "      <td>2018</td>\n",
       "      <td>final</td>\n",
       "    </tr>\n",
       "    <tr>\n",
       "      <th>5</th>\n",
       "      <td>6</td>\n",
       "      <td>Jade Barbosa</td>\n",
       "      <td>BRA</td>\n",
       "      <td>5.5</td>\n",
       "      <td>8.033</td>\n",
       "      <td>0.0</td>\n",
       "      <td>13.533</td>\n",
       "      <td>2018</td>\n",
       "      <td>final</td>\n",
       "    </tr>\n",
       "    <tr>\n",
       "      <th>6</th>\n",
       "      <td>7</td>\n",
       "      <td>Giada Grisetti</td>\n",
       "      <td>ITA</td>\n",
       "      <td>5.7</td>\n",
       "      <td>7.800</td>\n",
       "      <td>0.0</td>\n",
       "      <td>13.500</td>\n",
       "      <td>2018</td>\n",
       "      <td>final</td>\n",
       "    </tr>\n",
       "    <tr>\n",
       "      <th>7</th>\n",
       "      <td>8</td>\n",
       "      <td>Guo Fangting</td>\n",
       "      <td>CHN</td>\n",
       "      <td>4.7</td>\n",
       "      <td>8.033</td>\n",
       "      <td>0.0</td>\n",
       "      <td>12.733</td>\n",
       "      <td>2018</td>\n",
       "      <td>final</td>\n",
       "    </tr>\n",
       "  </tbody>\n",
       "</table>\n",
       "</div>"
      ],
      "text/plain": [
       "   Rank              Athlete Nation    D      E   ND   Total  year  round\n",
       "0     1  Anastasia Iliankova    RUS  6.1  8.500  0.0  14.600  2018  final\n",
       "1     2          Ragan Smith    USA  6.0  8.567  0.0  14.567  2018  final\n",
       "2     3   Angelina Melnikova    RUS  5.9  8.433  0.0  14.333  2018  final\n",
       "3     4  Alyona Shchennikova    USA  6.0  8.167  0.0  14.167  2018  final\n",
       "4     5       Lorette Charpy    FRA  5.5  8.100  0.0  13.600  2018  final\n",
       "5     6         Jade Barbosa    BRA  5.5  8.033  0.0  13.533  2018  final\n",
       "6     7       Giada Grisetti    ITA  5.7  7.800  0.0  13.500  2018  final\n",
       "7     8         Guo Fangting    CHN  4.7  8.033  0.0  12.733  2018  final"
      ]
     },
     "execution_count": 30,
     "metadata": {},
     "output_type": "execute_result"
    }
   ],
   "source": [
    "wc18jeso_ub"
   ]
  },
  {
   "cell_type": "code",
   "execution_count": 31,
   "id": "c90acb8a",
   "metadata": {},
   "outputs": [],
   "source": [
    "rename_columns(wc18jeso_ub)"
   ]
  },
  {
   "cell_type": "code",
   "execution_count": 32,
   "id": "a3e3feb3",
   "metadata": {},
   "outputs": [],
   "source": [
    "wc18jeso_ub = reorder_columns(wc18jeso_ub)"
   ]
  },
  {
   "cell_type": "code",
   "execution_count": 33,
   "id": "d0208ee2",
   "metadata": {},
   "outputs": [],
   "source": [
    "combined_df = pd.concat([ub, wc19melb_ub,wc18jeso_ub])"
   ]
  },
  {
   "cell_type": "code",
   "execution_count": 34,
   "id": "65adc23f",
   "metadata": {},
   "outputs": [],
   "source": [
    "ub = combined_df.copy()"
   ]
  },
  {
   "cell_type": "code",
   "execution_count": null,
   "id": "448e2930",
   "metadata": {},
   "outputs": [],
   "source": []
  },
  {
   "cell_type": "code",
   "execution_count": 48,
   "id": "bd15b2b0",
   "metadata": {},
   "outputs": [],
   "source": [
    "rename_columns(ub_world_championship_w)"
   ]
  },
  {
   "cell_type": "code",
   "execution_count": 50,
   "id": "333aea7e",
   "metadata": {},
   "outputs": [],
   "source": [
    "ub_world_championship_w = reorder_columns(ub_world_championship_w)"
   ]
  },
  {
   "cell_type": "code",
   "execution_count": 51,
   "id": "e670bc01",
   "metadata": {},
   "outputs": [],
   "source": [
    "rename_columns(pac16ub)"
   ]
  },
  {
   "cell_type": "code",
   "execution_count": 52,
   "id": "50297291",
   "metadata": {},
   "outputs": [],
   "source": [
    "pac16ub = reorder_columns(pac16ub)"
   ]
  },
  {
   "cell_type": "code",
   "execution_count": 53,
   "id": "a4b862ef",
   "metadata": {},
   "outputs": [],
   "source": [
    "rename_columns(jesolo15ub)"
   ]
  },
  {
   "cell_type": "code",
   "execution_count": 54,
   "id": "07d546f3",
   "metadata": {},
   "outputs": [],
   "source": [
    "jesolo15ub = reorder_columns(jesolo15ub)"
   ]
  },
  {
   "cell_type": "code",
   "execution_count": 55,
   "id": "7aa356ae",
   "metadata": {},
   "outputs": [],
   "source": [
    "rename_columns(bc15ub)"
   ]
  },
  {
   "cell_type": "code",
   "execution_count": 56,
   "id": "f2633253",
   "metadata": {},
   "outputs": [],
   "source": [
    "bc15ub = reorder_columns(bc15ub)"
   ]
  },
  {
   "cell_type": "code",
   "execution_count": 58,
   "id": "d1d09fa1",
   "metadata": {},
   "outputs": [],
   "source": [
    "combined_df = pd.concat([ub, ub_world_championship_w,pac16ub,jesolo15ub,bc15ub])"
   ]
  },
  {
   "cell_type": "code",
   "execution_count": 60,
   "id": "c4f498eb",
   "metadata": {},
   "outputs": [],
   "source": [
    "ub=combined_df.copy()"
   ]
  },
  {
   "cell_type": "code",
   "execution_count": 61,
   "id": "138b1875",
   "metadata": {},
   "outputs": [
    {
     "name": "stdout",
     "output_type": "stream",
     "text": [
      "<class 'pandas.core.frame.DataFrame'>\n",
      "Index: 1538 entries, 0 to 7\n",
      "Data columns (total 9 columns):\n",
      " #   Column   Non-Null Count  Dtype  \n",
      "---  ------   --------------  -----  \n",
      " 0   Rank     1538 non-null   float64\n",
      " 1   Name     1538 non-null   object \n",
      " 2   nation   1500 non-null   object \n",
      " 3   D Score  1538 non-null   float64\n",
      " 4   E Score  1538 non-null   float64\n",
      " 5   Pen.     1530 non-null   float64\n",
      " 6   Total    1538 non-null   float64\n",
      " 7   year     1538 non-null   object \n",
      " 8   round    1522 non-null   object \n",
      "dtypes: float64(5), object(4)\n",
      "memory usage: 120.2+ KB\n"
     ]
    }
   ],
   "source": [
    "ub.info()"
   ]
  },
  {
   "cell_type": "code",
   "execution_count": 64,
   "id": "fd771dae",
   "metadata": {},
   "outputs": [
    {
     "data": {
      "text/plain": [
       "36"
      ]
     },
     "execution_count": 64,
     "metadata": {},
     "output_type": "execute_result"
    }
   ],
   "source": [
    "ub.duplicated().sum()"
   ]
  },
  {
   "cell_type": "code",
   "execution_count": 66,
   "id": "e52ae764",
   "metadata": {},
   "outputs": [],
   "source": [
    "# Find and display all duplicate rows\n",
    "duplicates =ub[ub.duplicated(keep=False)]\n",
    "\n"
   ]
  },
  {
   "cell_type": "code",
   "execution_count": 69,
   "id": "b87c39e4",
   "metadata": {},
   "outputs": [],
   "source": [
    "ub = ub.drop_duplicates()"
   ]
  },
  {
   "cell_type": "code",
   "execution_count": 70,
   "id": "e580f54a",
   "metadata": {},
   "outputs": [
    {
     "name": "stdout",
     "output_type": "stream",
     "text": [
      "<class 'pandas.core.frame.DataFrame'>\n",
      "Index: 1502 entries, 0 to 7\n",
      "Data columns (total 9 columns):\n",
      " #   Column   Non-Null Count  Dtype  \n",
      "---  ------   --------------  -----  \n",
      " 0   Rank     1502 non-null   float64\n",
      " 1   Name     1502 non-null   object \n",
      " 2   nation   1464 non-null   object \n",
      " 3   D Score  1502 non-null   float64\n",
      " 4   E Score  1502 non-null   float64\n",
      " 5   Pen.     1494 non-null   float64\n",
      " 6   Total    1502 non-null   float64\n",
      " 7   year     1502 non-null   object \n",
      " 8   round    1486 non-null   object \n",
      "dtypes: float64(5), object(4)\n",
      "memory usage: 117.3+ KB\n"
     ]
    }
   ],
   "source": [
    "ub.info()"
   ]
  },
  {
   "cell_type": "code",
   "execution_count": 71,
   "id": "612c5dc1",
   "metadata": {},
   "outputs": [],
   "source": [
    "ub['Pen.'].fillna(0, inplace=True)"
   ]
  },
  {
   "cell_type": "code",
   "execution_count": 72,
   "id": "0342ef9b",
   "metadata": {},
   "outputs": [],
   "source": [
    "ub['round'].fillna('unknown', inplace=True)\n",
    "ub['nation'].fillna('unknown', inplace=True)\n"
   ]
  },
  {
   "cell_type": "code",
   "execution_count": 73,
   "id": "2c21ac09",
   "metadata": {},
   "outputs": [
    {
     "name": "stdout",
     "output_type": "stream",
     "text": [
      "<class 'pandas.core.frame.DataFrame'>\n",
      "Index: 1502 entries, 0 to 7\n",
      "Data columns (total 9 columns):\n",
      " #   Column   Non-Null Count  Dtype  \n",
      "---  ------   --------------  -----  \n",
      " 0   Rank     1502 non-null   float64\n",
      " 1   Name     1502 non-null   object \n",
      " 2   nation   1502 non-null   object \n",
      " 3   D Score  1502 non-null   float64\n",
      " 4   E Score  1502 non-null   float64\n",
      " 5   Pen.     1502 non-null   float64\n",
      " 6   Total    1502 non-null   float64\n",
      " 7   year     1502 non-null   object \n",
      " 8   round    1502 non-null   object \n",
      "dtypes: float64(5), object(4)\n",
      "memory usage: 117.3+ KB\n"
     ]
    }
   ],
   "source": [
    "ub.info()"
   ]
  },
  {
   "cell_type": "code",
   "execution_count": 74,
   "id": "9b8a5991",
   "metadata": {},
   "outputs": [],
   "source": [
    "# ub.to_csv('ub_w.csv', index=False)"
   ]
  },
  {
   "cell_type": "code",
   "execution_count": null,
   "id": "3bba9e1b",
   "metadata": {},
   "outputs": [],
   "source": []
  }
 ],
 "metadata": {
  "kernelspec": {
   "display_name": "Python 3 (ipykernel)",
   "language": "python",
   "name": "python3"
  },
  "language_info": {
   "codemirror_mode": {
    "name": "ipython",
    "version": 3
   },
   "file_extension": ".py",
   "mimetype": "text/x-python",
   "name": "python",
   "nbconvert_exporter": "python",
   "pygments_lexer": "ipython3",
   "version": "3.9.12"
  }
 },
 "nbformat": 4,
 "nbformat_minor": 5
}
