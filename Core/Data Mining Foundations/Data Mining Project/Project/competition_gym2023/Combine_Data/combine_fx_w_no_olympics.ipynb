{
 "cells": [
  {
   "cell_type": "markdown",
   "id": "605b41b5",
   "metadata": {},
   "source": [
    "combined for fx:\n",
    "# uni19_fx\n",
    "# eu20_fx\n",
    "# wc19doha_fx\n",
    "# wc15cott_fx\n",
    "# usopc_fx ="
   ]
  },
  {
   "cell_type": "code",
   "execution_count": 1,
   "id": "8c313e49",
   "metadata": {},
   "outputs": [],
   "source": [
    "import pandas as pd\n",
    "import numpy as np"
   ]
  },
  {
   "cell_type": "code",
   "execution_count": null,
   "id": "563804b3",
   "metadata": {},
   "outputs": [],
   "source": []
  },
  {
   "cell_type": "code",
   "execution_count": 61,
   "id": "998f92ae",
   "metadata": {},
   "outputs": [],
   "source": [
    "wc15cott_fx = pd.read_csv('../Cleaning/qual_events/clean_worldcup2015cott_fx.csv')\n",
    "wc19doha_fx = pd.read_csv('../Cleaning/qual_events/clean_worldcup2019doha_fx.csv')\n",
    "eu20_fx = pd.read_csv('../Cleaning/qual_events/euro2020fx.csv')\n",
    "uni19_fx = pd.read_csv('../Cleaning/qual_events/uni2019fx.csv')\n",
    "\n",
    "\n",
    "\n",
    "# usopc_fx = pd.read_csv('../Cleaning/qual_events/clean_worldcup2015cott_ub.csv')\n",
    "# usopc_fx = pd.read_csv('../Cleaning/qual_events/clean_worldcup2015cott_vt.csv')"
   ]
  },
  {
   "cell_type": "code",
   "execution_count": 62,
   "id": "d28c3b07",
   "metadata": {},
   "outputs": [],
   "source": [
    "# clean_worldcup2015cott_fx.csv\n",
    "# clean_worldcup2015cott_ub.csv\n",
    "# clean_worldcup2015cott_vt.csv\n",
    "\n",
    "# clean_worldcup2019doha_bb.csv\n",
    "# clean_worldcup2019doha_fx.csv\n",
    "# clean_worldcup2019doha_ub.csv\n",
    "# clean_worldcup2019doha_vt.csv\n",
    "\n",
    "# euro2020bb.csv\n",
    "# euro2020fx.csv\n",
    "# euro2020ub.csv\n",
    "# euro2020vt.csv\n",
    "\n",
    "# uni2019bb.csv\n",
    "# uni2019fx.csv\n",
    "# uni2019ub.csv\n",
    "# uni2019vt.csv\n",
    "\n"
   ]
  },
  {
   "cell_type": "code",
   "execution_count": null,
   "id": "c2991c87",
   "metadata": {},
   "outputs": [],
   "source": []
  },
  {
   "cell_type": "code",
   "execution_count": 63,
   "id": "cae4713c",
   "metadata": {},
   "outputs": [],
   "source": [
    "# usopc = pd.read_csv('../Cleaning/USOPC/usopc_women_october.csv')\n",
    "usopc_fx = pd.read_csv('../Cleaning/USOPC/usopc_women_fx_october.csv')\n",
    "usopc_bb = pd.read_csv('../Cleaning/USOPC/usopc_women_bb_october.csv')\n",
    "usopc_ub = pd.read_csv('../Cleaning/USOPC/usopc_women_ub_october.csv')\n",
    "usopc_vt = pd.read_csv('../Cleaning/USOPC/usopc_women_vt_october.csv')\n",
    "\n"
   ]
  },
  {
   "cell_type": "code",
   "execution_count": 66,
   "id": "0a67594f",
   "metadata": {},
   "outputs": [
    {
     "data": {
      "text/html": [
       "<div>\n",
       "<style scoped>\n",
       "    .dataframe tbody tr th:only-of-type {\n",
       "        vertical-align: middle;\n",
       "    }\n",
       "\n",
       "    .dataframe tbody tr th {\n",
       "        vertical-align: top;\n",
       "    }\n",
       "\n",
       "    .dataframe thead th {\n",
       "        text-align: right;\n",
       "    }\n",
       "</style>\n",
       "<table border=\"1\" class=\"dataframe\">\n",
       "  <thead>\n",
       "    <tr style=\"text-align: right;\">\n",
       "      <th></th>\n",
       "      <th>Name</th>\n",
       "      <th>Country</th>\n",
       "      <th>Gender</th>\n",
       "      <th>Date</th>\n",
       "      <th>Competition</th>\n",
       "      <th>Round</th>\n",
       "      <th>Apparatus</th>\n",
       "      <th>Rank</th>\n",
       "      <th>D_Score</th>\n",
       "      <th>E_Score</th>\n",
       "      <th>Penalty</th>\n",
       "      <th>Score</th>\n",
       "    </tr>\n",
       "  </thead>\n",
       "  <tbody>\n",
       "    <tr>\n",
       "      <th>0</th>\n",
       "      <td>Jana ABDELSALAM</td>\n",
       "      <td>EGY</td>\n",
       "      <td>w</td>\n",
       "      <td>2022-11-06</td>\n",
       "      <td>2022 51st FIG Artistic Gymnastics World Champi...</td>\n",
       "      <td>qual</td>\n",
       "      <td>FX</td>\n",
       "      <td>109.0</td>\n",
       "      <td>4.4</td>\n",
       "      <td>7.466</td>\n",
       "      <td>0.1</td>\n",
       "      <td>11.766</td>\n",
       "    </tr>\n",
       "  </tbody>\n",
       "</table>\n",
       "</div>"
      ],
      "text/plain": [
       "              Name Country Gender        Date  \\\n",
       "0  Jana ABDELSALAM     EGY      w  2022-11-06   \n",
       "\n",
       "                                         Competition Round Apparatus   Rank  \\\n",
       "0  2022 51st FIG Artistic Gymnastics World Champi...  qual        FX  109.0   \n",
       "\n",
       "   D_Score  E_Score  Penalty   Score  \n",
       "0      4.4    7.466      0.1  11.766  "
      ]
     },
     "execution_count": 66,
     "metadata": {},
     "output_type": "execute_result"
    }
   ],
   "source": [
    "usopc_fx.head(1)"
   ]
  },
  {
   "cell_type": "code",
   "execution_count": 68,
   "id": "a01fa154",
   "metadata": {},
   "outputs": [
    {
     "data": {
      "text/html": [
       "<div>\n",
       "<style scoped>\n",
       "    .dataframe tbody tr th:only-of-type {\n",
       "        vertical-align: middle;\n",
       "    }\n",
       "\n",
       "    .dataframe tbody tr th {\n",
       "        vertical-align: top;\n",
       "    }\n",
       "\n",
       "    .dataframe thead th {\n",
       "        text-align: right;\n",
       "    }\n",
       "</style>\n",
       "<table border=\"1\" class=\"dataframe\">\n",
       "  <thead>\n",
       "    <tr style=\"text-align: right;\">\n",
       "      <th></th>\n",
       "      <th>Rank</th>\n",
       "      <th>Athlete</th>\n",
       "      <th>D Score</th>\n",
       "      <th>E Score</th>\n",
       "      <th>Pen.</th>\n",
       "      <th>Total</th>\n",
       "    </tr>\n",
       "  </thead>\n",
       "  <tbody>\n",
       "    <tr>\n",
       "      <th>0</th>\n",
       "      <td>1</td>\n",
       "      <td>Carlotta Ferlito(ITA)</td>\n",
       "      <td>5.3</td>\n",
       "      <td>7.9</td>\n",
       "      <td>NaN</td>\n",
       "      <td>13.2</td>\n",
       "    </tr>\n",
       "  </tbody>\n",
       "</table>\n",
       "</div>"
      ],
      "text/plain": [
       "   Rank                Athlete  D Score  E Score  Pen.  Total\n",
       "0     1  Carlotta Ferlito(ITA)      5.3      7.9   NaN   13.2"
      ]
     },
     "execution_count": 68,
     "metadata": {},
     "output_type": "execute_result"
    }
   ],
   "source": [
    "uni19_fx.head(1)\n"
   ]
  },
  {
   "cell_type": "code",
   "execution_count": 70,
   "id": "1ff085f8",
   "metadata": {},
   "outputs": [
    {
     "data": {
      "text/html": [
       "<div>\n",
       "<style scoped>\n",
       "    .dataframe tbody tr th:only-of-type {\n",
       "        vertical-align: middle;\n",
       "    }\n",
       "\n",
       "    .dataframe tbody tr th {\n",
       "        vertical-align: top;\n",
       "    }\n",
       "\n",
       "    .dataframe thead th {\n",
       "        text-align: right;\n",
       "    }\n",
       "</style>\n",
       "<table border=\"1\" class=\"dataframe\">\n",
       "  <thead>\n",
       "    <tr style=\"text-align: right;\">\n",
       "      <th></th>\n",
       "      <th>Position</th>\n",
       "      <th>Gymnast</th>\n",
       "      <th>D Score</th>\n",
       "      <th>E Score</th>\n",
       "      <th>Penalty</th>\n",
       "      <th>Total</th>\n",
       "    </tr>\n",
       "  </thead>\n",
       "  <tbody>\n",
       "    <tr>\n",
       "      <th>0</th>\n",
       "      <td>1</td>\n",
       "      <td>Larisa Iordache</td>\n",
       "      <td>5.6</td>\n",
       "      <td>7.85</td>\n",
       "      <td>0.0</td>\n",
       "      <td>13.45</td>\n",
       "    </tr>\n",
       "  </tbody>\n",
       "</table>\n",
       "</div>"
      ],
      "text/plain": [
       "   Position          Gymnast  D Score  E Score  Penalty  Total\n",
       "0         1  Larisa Iordache      5.6     7.85      0.0  13.45"
      ]
     },
     "execution_count": 70,
     "metadata": {},
     "output_type": "execute_result"
    }
   ],
   "source": [
    "eu20_fx.head(1)\n"
   ]
  },
  {
   "cell_type": "code",
   "execution_count": 71,
   "id": "df304b9d",
   "metadata": {},
   "outputs": [
    {
     "data": {
      "text/html": [
       "<div>\n",
       "<style scoped>\n",
       "    .dataframe tbody tr th:only-of-type {\n",
       "        vertical-align: middle;\n",
       "    }\n",
       "\n",
       "    .dataframe tbody tr th {\n",
       "        vertical-align: top;\n",
       "    }\n",
       "\n",
       "    .dataframe thead th {\n",
       "        text-align: right;\n",
       "    }\n",
       "</style>\n",
       "<table border=\"1\" class=\"dataframe\">\n",
       "  <thead>\n",
       "    <tr style=\"text-align: right;\">\n",
       "      <th></th>\n",
       "      <th>Rank</th>\n",
       "      <th>Athlete</th>\n",
       "      <th>Nation</th>\n",
       "      <th>D</th>\n",
       "      <th>E</th>\n",
       "      <th>ND</th>\n",
       "      <th>Total</th>\n",
       "      <th>round</th>\n",
       "      <th>year</th>\n",
       "      <th>NOC</th>\n",
       "    </tr>\n",
       "  </thead>\n",
       "  <tbody>\n",
       "    <tr>\n",
       "      <th>0</th>\n",
       "      <td>1</td>\n",
       "      <td>Jade Carey</td>\n",
       "      <td>United States</td>\n",
       "      <td>6.2</td>\n",
       "      <td>8.266</td>\n",
       "      <td>0.0</td>\n",
       "      <td>14.466</td>\n",
       "      <td>Final</td>\n",
       "      <td>2019</td>\n",
       "      <td>USA</td>\n",
       "    </tr>\n",
       "  </tbody>\n",
       "</table>\n",
       "</div>"
      ],
      "text/plain": [
       "   Rank     Athlete         Nation    D      E   ND   Total  round  year  NOC\n",
       "0     1  Jade Carey  United States  6.2  8.266  0.0  14.466  Final  2019  USA"
      ]
     },
     "execution_count": 71,
     "metadata": {},
     "output_type": "execute_result"
    }
   ],
   "source": [
    "wc19doha_fx.head(1)\n"
   ]
  },
  {
   "cell_type": "code",
   "execution_count": 72,
   "id": "ce77b242",
   "metadata": {},
   "outputs": [
    {
     "data": {
      "text/html": [
       "<div>\n",
       "<style scoped>\n",
       "    .dataframe tbody tr th:only-of-type {\n",
       "        vertical-align: middle;\n",
       "    }\n",
       "\n",
       "    .dataframe tbody tr th {\n",
       "        vertical-align: top;\n",
       "    }\n",
       "\n",
       "    .dataframe thead th {\n",
       "        text-align: right;\n",
       "    }\n",
       "</style>\n",
       "<table border=\"1\" class=\"dataframe\">\n",
       "  <thead>\n",
       "    <tr style=\"text-align: right;\">\n",
       "      <th></th>\n",
       "      <th>Rank</th>\n",
       "      <th>Athlete</th>\n",
       "      <th>D</th>\n",
       "      <th>E</th>\n",
       "      <th>ND</th>\n",
       "      <th>Total</th>\n",
       "      <th>round</th>\n",
       "      <th>year</th>\n",
       "      <th>Nation</th>\n",
       "    </tr>\n",
       "  </thead>\n",
       "  <tbody>\n",
       "    <tr>\n",
       "      <th>0</th>\n",
       "      <td>1</td>\n",
       "      <td>Marta Pihan-Kulesza</td>\n",
       "      <td>5.8</td>\n",
       "      <td>8.425</td>\n",
       "      <td>0.0</td>\n",
       "      <td>14.225</td>\n",
       "      <td>final</td>\n",
       "      <td>2015</td>\n",
       "      <td>POL</td>\n",
       "    </tr>\n",
       "  </tbody>\n",
       "</table>\n",
       "</div>"
      ],
      "text/plain": [
       "   Rank              Athlete    D      E   ND   Total  round  year Nation\n",
       "0     1  Marta Pihan-Kulesza  5.8  8.425  0.0  14.225  final  2015    POL"
      ]
     },
     "execution_count": 72,
     "metadata": {},
     "output_type": "execute_result"
    }
   ],
   "source": [
    "wc15cott_fx.head(1)"
   ]
  },
  {
   "cell_type": "code",
   "execution_count": 74,
   "id": "a1bbb4ca",
   "metadata": {},
   "outputs": [],
   "source": [
    "uni19_fx['Pen.'].fillna(0, inplace=True)"
   ]
  },
  {
   "cell_type": "code",
   "execution_count": 75,
   "id": "6681bc6f",
   "metadata": {},
   "outputs": [],
   "source": [
    "uni19_fx['nation'] = uni19_fx['Athlete'].str.extract(r'\\((.*?)\\)')"
   ]
  },
  {
   "cell_type": "code",
   "execution_count": 77,
   "id": "653b9130",
   "metadata": {},
   "outputs": [],
   "source": [
    "uni19_fx['Athlete'] = uni19_fx['Athlete'].str.replace(r'\\(.*?\\)', '', regex=True)"
   ]
  },
  {
   "cell_type": "code",
   "execution_count": 80,
   "id": "ede06679",
   "metadata": {},
   "outputs": [],
   "source": [
    "uni19_fx['year']=2019"
   ]
  },
  {
   "cell_type": "code",
   "execution_count": 81,
   "id": "081bacf1",
   "metadata": {},
   "outputs": [],
   "source": [
    "eu20_fx['year']=2020"
   ]
  },
  {
   "cell_type": "code",
   "execution_count": 82,
   "id": "010a3bce",
   "metadata": {},
   "outputs": [
    {
     "data": {
      "text/html": [
       "<div>\n",
       "<style scoped>\n",
       "    .dataframe tbody tr th:only-of-type {\n",
       "        vertical-align: middle;\n",
       "    }\n",
       "\n",
       "    .dataframe tbody tr th {\n",
       "        vertical-align: top;\n",
       "    }\n",
       "\n",
       "    .dataframe thead th {\n",
       "        text-align: right;\n",
       "    }\n",
       "</style>\n",
       "<table border=\"1\" class=\"dataframe\">\n",
       "  <thead>\n",
       "    <tr style=\"text-align: right;\">\n",
       "      <th></th>\n",
       "      <th>Rank</th>\n",
       "      <th>Athlete</th>\n",
       "      <th>D Score</th>\n",
       "      <th>E Score</th>\n",
       "      <th>Pen.</th>\n",
       "      <th>Total</th>\n",
       "      <th>nation</th>\n",
       "      <th>year</th>\n",
       "    </tr>\n",
       "  </thead>\n",
       "  <tbody>\n",
       "    <tr>\n",
       "      <th>0</th>\n",
       "      <td>1</td>\n",
       "      <td>Carlotta Ferlito</td>\n",
       "      <td>5.3</td>\n",
       "      <td>7.90</td>\n",
       "      <td>0.0</td>\n",
       "      <td>13.20</td>\n",
       "      <td>ITA</td>\n",
       "      <td>2019</td>\n",
       "    </tr>\n",
       "    <tr>\n",
       "      <th>1</th>\n",
       "      <td>2</td>\n",
       "      <td>Aiko Sugihara</td>\n",
       "      <td>5.3</td>\n",
       "      <td>7.70</td>\n",
       "      <td>0.0</td>\n",
       "      <td>13.00</td>\n",
       "      <td>JPN</td>\n",
       "      <td>2019</td>\n",
       "    </tr>\n",
       "    <tr>\n",
       "      <th>2</th>\n",
       "      <td>3</td>\n",
       "      <td>Uliana Perebinosova</td>\n",
       "      <td>4.7</td>\n",
       "      <td>8.00</td>\n",
       "      <td>0.0</td>\n",
       "      <td>12.70</td>\n",
       "      <td>RUS</td>\n",
       "      <td>2019</td>\n",
       "    </tr>\n",
       "    <tr>\n",
       "      <th>3</th>\n",
       "      <td>4</td>\n",
       "      <td>Farah Ann Abdul Hadi</td>\n",
       "      <td>4.6</td>\n",
       "      <td>7.95</td>\n",
       "      <td>0.0</td>\n",
       "      <td>12.55</td>\n",
       "      <td>MAS</td>\n",
       "      <td>2019</td>\n",
       "    </tr>\n",
       "    <tr>\n",
       "      <th>4</th>\n",
       "      <td>5</td>\n",
       "      <td>Hitomi Hatakeda</td>\n",
       "      <td>4.7</td>\n",
       "      <td>7.85</td>\n",
       "      <td>0.0</td>\n",
       "      <td>12.55</td>\n",
       "      <td>JPN</td>\n",
       "      <td>2019</td>\n",
       "    </tr>\n",
       "    <tr>\n",
       "      <th>5</th>\n",
       "      <td>6</td>\n",
       "      <td>Lilia Akhaimova</td>\n",
       "      <td>5.5</td>\n",
       "      <td>6.75</td>\n",
       "      <td>0.0</td>\n",
       "      <td>12.25</td>\n",
       "      <td>RUS</td>\n",
       "      <td>2019</td>\n",
       "    </tr>\n",
       "    <tr>\n",
       "      <th>6</th>\n",
       "      <td>7</td>\n",
       "      <td>Jessica Dowling</td>\n",
       "      <td>4.6</td>\n",
       "      <td>7.45</td>\n",
       "      <td>0.1</td>\n",
       "      <td>11.95</td>\n",
       "      <td>CAN</td>\n",
       "      <td>2019</td>\n",
       "    </tr>\n",
       "    <tr>\n",
       "      <th>7</th>\n",
       "      <td>8</td>\n",
       "      <td>Barbora Mokosova</td>\n",
       "      <td>4.7</td>\n",
       "      <td>7.10</td>\n",
       "      <td>0.0</td>\n",
       "      <td>11.80</td>\n",
       "      <td>SVK</td>\n",
       "      <td>2019</td>\n",
       "    </tr>\n",
       "  </tbody>\n",
       "</table>\n",
       "</div>"
      ],
      "text/plain": [
       "   Rank               Athlete  D Score  E Score  Pen.  Total nation  year\n",
       "0     1      Carlotta Ferlito      5.3     7.90   0.0  13.20    ITA  2019\n",
       "1     2         Aiko Sugihara      5.3     7.70   0.0  13.00    JPN  2019\n",
       "2     3   Uliana Perebinosova      4.7     8.00   0.0  12.70    RUS  2019\n",
       "3     4  Farah Ann Abdul Hadi      4.6     7.95   0.0  12.55    MAS  2019\n",
       "4     5       Hitomi Hatakeda      4.7     7.85   0.0  12.55    JPN  2019\n",
       "5     6       Lilia Akhaimova      5.5     6.75   0.0  12.25    RUS  2019\n",
       "6     7       Jessica Dowling      4.6     7.45   0.1  11.95    CAN  2019\n",
       "7     8      Barbora Mokosova      4.7     7.10   0.0  11.80    SVK  2019"
      ]
     },
     "execution_count": 82,
     "metadata": {},
     "output_type": "execute_result"
    }
   ],
   "source": [
    "uni19_fx"
   ]
  },
  {
   "cell_type": "code",
   "execution_count": 84,
   "id": "722ff6d4",
   "metadata": {},
   "outputs": [],
   "source": [
    "eu20_fx['nation']='eu'"
   ]
  },
  {
   "cell_type": "code",
   "execution_count": 85,
   "id": "d3c883a2",
   "metadata": {},
   "outputs": [
    {
     "data": {
      "text/html": [
       "<div>\n",
       "<style scoped>\n",
       "    .dataframe tbody tr th:only-of-type {\n",
       "        vertical-align: middle;\n",
       "    }\n",
       "\n",
       "    .dataframe tbody tr th {\n",
       "        vertical-align: top;\n",
       "    }\n",
       "\n",
       "    .dataframe thead th {\n",
       "        text-align: right;\n",
       "    }\n",
       "</style>\n",
       "<table border=\"1\" class=\"dataframe\">\n",
       "  <thead>\n",
       "    <tr style=\"text-align: right;\">\n",
       "      <th></th>\n",
       "      <th>Position</th>\n",
       "      <th>Gymnast</th>\n",
       "      <th>D Score</th>\n",
       "      <th>E Score</th>\n",
       "      <th>Penalty</th>\n",
       "      <th>Total</th>\n",
       "      <th>year</th>\n",
       "      <th>nation</th>\n",
       "    </tr>\n",
       "  </thead>\n",
       "  <tbody>\n",
       "    <tr>\n",
       "      <th>0</th>\n",
       "      <td>1</td>\n",
       "      <td>Larisa Iordache</td>\n",
       "      <td>5.6</td>\n",
       "      <td>7.85</td>\n",
       "      <td>0.0</td>\n",
       "      <td>13.45</td>\n",
       "      <td>2020</td>\n",
       "      <td>eu</td>\n",
       "    </tr>\n",
       "    <tr>\n",
       "      <th>1</th>\n",
       "      <td>2</td>\n",
       "      <td>Göksu Üçtaş Şanlı</td>\n",
       "      <td>4.8</td>\n",
       "      <td>8.30</td>\n",
       "      <td>0.0</td>\n",
       "      <td>13.10</td>\n",
       "      <td>2020</td>\n",
       "      <td>eu</td>\n",
       "    </tr>\n",
       "    <tr>\n",
       "      <th>2</th>\n",
       "      <td>3</td>\n",
       "      <td>Lihie Raz</td>\n",
       "      <td>4.9</td>\n",
       "      <td>7.85</td>\n",
       "      <td>0.0</td>\n",
       "      <td>12.75</td>\n",
       "      <td>2020</td>\n",
       "      <td>eu</td>\n",
       "    </tr>\n",
       "    <tr>\n",
       "      <th>3</th>\n",
       "      <td>4</td>\n",
       "      <td>Diana Varinska</td>\n",
       "      <td>4.7</td>\n",
       "      <td>7.95</td>\n",
       "      <td>0.0</td>\n",
       "      <td>12.65</td>\n",
       "      <td>2020</td>\n",
       "      <td>eu</td>\n",
       "    </tr>\n",
       "    <tr>\n",
       "      <th>4</th>\n",
       "      <td>5</td>\n",
       "      <td>Antonia Duță</td>\n",
       "      <td>4.9</td>\n",
       "      <td>7.80</td>\n",
       "      <td>0.1</td>\n",
       "      <td>12.60</td>\n",
       "      <td>2020</td>\n",
       "      <td>eu</td>\n",
       "    </tr>\n",
       "    <tr>\n",
       "      <th>5</th>\n",
       "      <td>6</td>\n",
       "      <td>Angelina Radivilova</td>\n",
       "      <td>5.0</td>\n",
       "      <td>7.60</td>\n",
       "      <td>0.0</td>\n",
       "      <td>12.60</td>\n",
       "      <td>2020</td>\n",
       "      <td>eu</td>\n",
       "    </tr>\n",
       "    <tr>\n",
       "      <th>6</th>\n",
       "      <td>7</td>\n",
       "      <td>Zója Székely</td>\n",
       "      <td>4.4</td>\n",
       "      <td>8.10</td>\n",
       "      <td>0.3</td>\n",
       "      <td>12.20</td>\n",
       "      <td>2020</td>\n",
       "      <td>eu</td>\n",
       "    </tr>\n",
       "    <tr>\n",
       "      <th>7</th>\n",
       "      <td>8</td>\n",
       "      <td>Dorina Böczögő</td>\n",
       "      <td>4.9</td>\n",
       "      <td>7.20</td>\n",
       "      <td>0.0</td>\n",
       "      <td>12.10</td>\n",
       "      <td>2020</td>\n",
       "      <td>eu</td>\n",
       "    </tr>\n",
       "  </tbody>\n",
       "</table>\n",
       "</div>"
      ],
      "text/plain": [
       "   Position              Gymnast  D Score  E Score  Penalty  Total  year  \\\n",
       "0         1      Larisa Iordache      5.6     7.85      0.0  13.45  2020   \n",
       "1         2    Göksu Üçtaş Şanlı      4.8     8.30      0.0  13.10  2020   \n",
       "2         3            Lihie Raz      4.9     7.85      0.0  12.75  2020   \n",
       "3         4       Diana Varinska      4.7     7.95      0.0  12.65  2020   \n",
       "4         5         Antonia Duță      4.9     7.80      0.1  12.60  2020   \n",
       "5         6  Angelina Radivilova      5.0     7.60      0.0  12.60  2020   \n",
       "6         7         Zója Székely      4.4     8.10      0.3  12.20  2020   \n",
       "7         8       Dorina Böczögő      4.9     7.20      0.0  12.10  2020   \n",
       "\n",
       "  nation  \n",
       "0     eu  \n",
       "1     eu  \n",
       "2     eu  \n",
       "3     eu  \n",
       "4     eu  \n",
       "5     eu  \n",
       "6     eu  \n",
       "7     eu  "
      ]
     },
     "execution_count": 85,
     "metadata": {},
     "output_type": "execute_result"
    }
   ],
   "source": [
    "eu20_fx"
   ]
  },
  {
   "cell_type": "code",
   "execution_count": 92,
   "id": "4a45fcb3",
   "metadata": {},
   "outputs": [],
   "source": [
    "eu20_fx.rename(columns={'Gymnast': 'Name', 'Position': 'Rank', 'Penalty': 'Pen.'}, inplace=True)"
   ]
  },
  {
   "cell_type": "code",
   "execution_count": 93,
   "id": "dfa2c2d0",
   "metadata": {},
   "outputs": [],
   "source": [
    "uni19_fx.rename(columns={'Athlete': 'Name', }, inplace=True)"
   ]
  },
  {
   "cell_type": "code",
   "execution_count": 103,
   "id": "e74474b5",
   "metadata": {},
   "outputs": [
    {
     "name": "stderr",
     "output_type": "stream",
     "text": [
      "/var/folders/j_/555m2zps099832fjh_m8jjnc0000gn/T/ipykernel_93368/2359976757.py:1: SettingWithCopyWarning: \n",
      "A value is trying to be set on a copy of a slice from a DataFrame.\n",
      "Try using .loc[row_indexer,col_indexer] = value instead\n",
      "\n",
      "See the caveats in the documentation: https://pandas.pydata.org/pandas-docs/stable/user_guide/indexing.html#returning-a-view-versus-a-copy\n",
      "  uni19_fx['round']='final'\n"
     ]
    }
   ],
   "source": [
    "uni19_fx['round']='final'"
   ]
  },
  {
   "cell_type": "code",
   "execution_count": 104,
   "id": "6c8b09f8",
   "metadata": {},
   "outputs": [
    {
     "name": "stderr",
     "output_type": "stream",
     "text": [
      "/var/folders/j_/555m2zps099832fjh_m8jjnc0000gn/T/ipykernel_93368/2772765529.py:1: SettingWithCopyWarning: \n",
      "A value is trying to be set on a copy of a slice from a DataFrame.\n",
      "Try using .loc[row_indexer,col_indexer] = value instead\n",
      "\n",
      "See the caveats in the documentation: https://pandas.pydata.org/pandas-docs/stable/user_guide/indexing.html#returning-a-view-versus-a-copy\n",
      "  eu20_fx['round']='final'\n"
     ]
    }
   ],
   "source": [
    "eu20_fx['round']='final'"
   ]
  },
  {
   "cell_type": "code",
   "execution_count": 105,
   "id": "796a3d49",
   "metadata": {},
   "outputs": [
    {
     "data": {
      "text/plain": [
       "Index(['Rank', 'Name', 'nation', 'D Score', 'E Score', 'Pen.', 'Total', 'year',\n",
       "       'round'],\n",
       "      dtype='object')"
      ]
     },
     "execution_count": 105,
     "metadata": {},
     "output_type": "execute_result"
    }
   ],
   "source": [
    "eu20_fx.columns"
   ]
  },
  {
   "cell_type": "code",
   "execution_count": 98,
   "id": "25e20e7a",
   "metadata": {},
   "outputs": [],
   "source": [
    "eu20_fx=eu20_fx[['Rank', 'Name', 'nation', 'D Score', 'E Score', 'Pen.', 'Total', 'year']]"
   ]
  },
  {
   "cell_type": "code",
   "execution_count": 99,
   "id": "08ab3ef8",
   "metadata": {},
   "outputs": [],
   "source": [
    "uni19_fx = uni19_fx[['Rank', 'Name', 'nation', 'D Score', 'E Score', 'Pen.', 'Total', 'year']]\n"
   ]
  },
  {
   "cell_type": "code",
   "execution_count": 100,
   "id": "e08722eb",
   "metadata": {},
   "outputs": [
    {
     "data": {
      "text/html": [
       "<div>\n",
       "<style scoped>\n",
       "    .dataframe tbody tr th:only-of-type {\n",
       "        vertical-align: middle;\n",
       "    }\n",
       "\n",
       "    .dataframe tbody tr th {\n",
       "        vertical-align: top;\n",
       "    }\n",
       "\n",
       "    .dataframe thead th {\n",
       "        text-align: right;\n",
       "    }\n",
       "</style>\n",
       "<table border=\"1\" class=\"dataframe\">\n",
       "  <thead>\n",
       "    <tr style=\"text-align: right;\">\n",
       "      <th></th>\n",
       "      <th>Rank</th>\n",
       "      <th>Name</th>\n",
       "      <th>nation</th>\n",
       "      <th>D Score</th>\n",
       "      <th>E Score</th>\n",
       "      <th>Pen.</th>\n",
       "      <th>Total</th>\n",
       "      <th>year</th>\n",
       "    </tr>\n",
       "  </thead>\n",
       "  <tbody>\n",
       "    <tr>\n",
       "      <th>0</th>\n",
       "      <td>1</td>\n",
       "      <td>Larisa Iordache</td>\n",
       "      <td>eu</td>\n",
       "      <td>5.6</td>\n",
       "      <td>7.85</td>\n",
       "      <td>0.0</td>\n",
       "      <td>13.45</td>\n",
       "      <td>2020</td>\n",
       "    </tr>\n",
       "    <tr>\n",
       "      <th>1</th>\n",
       "      <td>2</td>\n",
       "      <td>Göksu Üçtaş Şanlı</td>\n",
       "      <td>eu</td>\n",
       "      <td>4.8</td>\n",
       "      <td>8.30</td>\n",
       "      <td>0.0</td>\n",
       "      <td>13.10</td>\n",
       "      <td>2020</td>\n",
       "    </tr>\n",
       "    <tr>\n",
       "      <th>2</th>\n",
       "      <td>3</td>\n",
       "      <td>Lihie Raz</td>\n",
       "      <td>eu</td>\n",
       "      <td>4.9</td>\n",
       "      <td>7.85</td>\n",
       "      <td>0.0</td>\n",
       "      <td>12.75</td>\n",
       "      <td>2020</td>\n",
       "    </tr>\n",
       "    <tr>\n",
       "      <th>3</th>\n",
       "      <td>4</td>\n",
       "      <td>Diana Varinska</td>\n",
       "      <td>eu</td>\n",
       "      <td>4.7</td>\n",
       "      <td>7.95</td>\n",
       "      <td>0.0</td>\n",
       "      <td>12.65</td>\n",
       "      <td>2020</td>\n",
       "    </tr>\n",
       "    <tr>\n",
       "      <th>4</th>\n",
       "      <td>5</td>\n",
       "      <td>Antonia Duță</td>\n",
       "      <td>eu</td>\n",
       "      <td>4.9</td>\n",
       "      <td>7.80</td>\n",
       "      <td>0.1</td>\n",
       "      <td>12.60</td>\n",
       "      <td>2020</td>\n",
       "    </tr>\n",
       "    <tr>\n",
       "      <th>5</th>\n",
       "      <td>6</td>\n",
       "      <td>Angelina Radivilova</td>\n",
       "      <td>eu</td>\n",
       "      <td>5.0</td>\n",
       "      <td>7.60</td>\n",
       "      <td>0.0</td>\n",
       "      <td>12.60</td>\n",
       "      <td>2020</td>\n",
       "    </tr>\n",
       "    <tr>\n",
       "      <th>6</th>\n",
       "      <td>7</td>\n",
       "      <td>Zója Székely</td>\n",
       "      <td>eu</td>\n",
       "      <td>4.4</td>\n",
       "      <td>8.10</td>\n",
       "      <td>0.3</td>\n",
       "      <td>12.20</td>\n",
       "      <td>2020</td>\n",
       "    </tr>\n",
       "    <tr>\n",
       "      <th>7</th>\n",
       "      <td>8</td>\n",
       "      <td>Dorina Böczögő</td>\n",
       "      <td>eu</td>\n",
       "      <td>4.9</td>\n",
       "      <td>7.20</td>\n",
       "      <td>0.0</td>\n",
       "      <td>12.10</td>\n",
       "      <td>2020</td>\n",
       "    </tr>\n",
       "  </tbody>\n",
       "</table>\n",
       "</div>"
      ],
      "text/plain": [
       "   Rank                 Name nation  D Score  E Score  Pen.  Total  year\n",
       "0     1      Larisa Iordache     eu      5.6     7.85   0.0  13.45  2020\n",
       "1     2    Göksu Üçtaş Şanlı     eu      4.8     8.30   0.0  13.10  2020\n",
       "2     3            Lihie Raz     eu      4.9     7.85   0.0  12.75  2020\n",
       "3     4       Diana Varinska     eu      4.7     7.95   0.0  12.65  2020\n",
       "4     5         Antonia Duță     eu      4.9     7.80   0.1  12.60  2020\n",
       "5     6  Angelina Radivilova     eu      5.0     7.60   0.0  12.60  2020\n",
       "6     7         Zója Székely     eu      4.4     8.10   0.3  12.20  2020\n",
       "7     8       Dorina Böczögő     eu      4.9     7.20   0.0  12.10  2020"
      ]
     },
     "execution_count": 100,
     "metadata": {},
     "output_type": "execute_result"
    }
   ],
   "source": []
  },
  {
   "cell_type": "code",
   "execution_count": 107,
   "id": "9b75492e",
   "metadata": {},
   "outputs": [
    {
     "data": {
      "text/html": [
       "<div>\n",
       "<style scoped>\n",
       "    .dataframe tbody tr th:only-of-type {\n",
       "        vertical-align: middle;\n",
       "    }\n",
       "\n",
       "    .dataframe tbody tr th {\n",
       "        vertical-align: top;\n",
       "    }\n",
       "\n",
       "    .dataframe thead th {\n",
       "        text-align: right;\n",
       "    }\n",
       "</style>\n",
       "<table border=\"1\" class=\"dataframe\">\n",
       "  <thead>\n",
       "    <tr style=\"text-align: right;\">\n",
       "      <th></th>\n",
       "      <th>Rank</th>\n",
       "      <th>Athlete</th>\n",
       "      <th>D</th>\n",
       "      <th>E</th>\n",
       "      <th>ND</th>\n",
       "      <th>Total</th>\n",
       "      <th>round</th>\n",
       "      <th>year</th>\n",
       "      <th>NOC</th>\n",
       "    </tr>\n",
       "  </thead>\n",
       "  <tbody>\n",
       "    <tr>\n",
       "      <th>0</th>\n",
       "      <td>1</td>\n",
       "      <td>Jade Carey</td>\n",
       "      <td>6.2</td>\n",
       "      <td>8.266</td>\n",
       "      <td>0.0</td>\n",
       "      <td>14.466</td>\n",
       "      <td>Final</td>\n",
       "      <td>2019</td>\n",
       "      <td>USA</td>\n",
       "    </tr>\n",
       "  </tbody>\n",
       "</table>\n",
       "</div>"
      ],
      "text/plain": [
       "   Rank     Athlete    D      E   ND   Total  round  year  NOC\n",
       "0     1  Jade Carey  6.2  8.266  0.0  14.466  Final  2019  USA"
      ]
     },
     "execution_count": 107,
     "metadata": {},
     "output_type": "execute_result"
    }
   ],
   "source": [
    "wc19doha_fx.head(1)\n"
   ]
  },
  {
   "cell_type": "code",
   "execution_count": 106,
   "id": "68ca39f5",
   "metadata": {},
   "outputs": [],
   "source": [
    "wc19doha_fx=wc19doha_fx.drop(columns=[\"Nation\"])"
   ]
  },
  {
   "cell_type": "code",
   "execution_count": 108,
   "id": "a7abe611",
   "metadata": {},
   "outputs": [],
   "source": [
    "wc19doha_fx.rename(columns={'Athlete': 'Name', \n",
    "                            'NOC': 'nation', 'D': 'D Score',\n",
    "                           'E': 'E Score', 'ND': 'Pen.'}, inplace=True)\n"
   ]
  },
  {
   "cell_type": "code",
   "execution_count": 110,
   "id": "afe1a292",
   "metadata": {},
   "outputs": [
    {
     "data": {
      "text/html": [
       "<div>\n",
       "<style scoped>\n",
       "    .dataframe tbody tr th:only-of-type {\n",
       "        vertical-align: middle;\n",
       "    }\n",
       "\n",
       "    .dataframe tbody tr th {\n",
       "        vertical-align: top;\n",
       "    }\n",
       "\n",
       "    .dataframe thead th {\n",
       "        text-align: right;\n",
       "    }\n",
       "</style>\n",
       "<table border=\"1\" class=\"dataframe\">\n",
       "  <thead>\n",
       "    <tr style=\"text-align: right;\">\n",
       "      <th></th>\n",
       "      <th>Rank</th>\n",
       "      <th>Name</th>\n",
       "      <th>D Score</th>\n",
       "      <th>E Score</th>\n",
       "      <th>Pen.</th>\n",
       "      <th>Total</th>\n",
       "      <th>round</th>\n",
       "      <th>year</th>\n",
       "      <th>nation</th>\n",
       "    </tr>\n",
       "  </thead>\n",
       "  <tbody>\n",
       "    <tr>\n",
       "      <th>0</th>\n",
       "      <td>1</td>\n",
       "      <td>Jade Carey</td>\n",
       "      <td>6.2</td>\n",
       "      <td>8.266</td>\n",
       "      <td>0.0</td>\n",
       "      <td>14.466</td>\n",
       "      <td>Final</td>\n",
       "      <td>2019</td>\n",
       "      <td>USA</td>\n",
       "    </tr>\n",
       "    <tr>\n",
       "      <th>1</th>\n",
       "      <td>2</td>\n",
       "      <td>Lara Mori</td>\n",
       "      <td>5.6</td>\n",
       "      <td>7.833</td>\n",
       "      <td>0.0</td>\n",
       "      <td>13.433</td>\n",
       "      <td>Final</td>\n",
       "      <td>2019</td>\n",
       "      <td>ITA</td>\n",
       "    </tr>\n",
       "    <tr>\n",
       "      <th>2</th>\n",
       "      <td>3</td>\n",
       "      <td>Vanessa Ferrari</td>\n",
       "      <td>5.2</td>\n",
       "      <td>8.100</td>\n",
       "      <td>0.0</td>\n",
       "      <td>13.300</td>\n",
       "      <td>Final</td>\n",
       "      <td>2019</td>\n",
       "      <td>ITA</td>\n",
       "    </tr>\n",
       "    <tr>\n",
       "      <th>3</th>\n",
       "      <td>4</td>\n",
       "      <td>Marta Pihan-Kulesza</td>\n",
       "      <td>5.4</td>\n",
       "      <td>7.933</td>\n",
       "      <td>-0.1</td>\n",
       "      <td>13.233</td>\n",
       "      <td>Final</td>\n",
       "      <td>2019</td>\n",
       "      <td>POL</td>\n",
       "    </tr>\n",
       "    <tr>\n",
       "      <th>4</th>\n",
       "      <td>5</td>\n",
       "      <td>Marine Boyer</td>\n",
       "      <td>5.0</td>\n",
       "      <td>8.200</td>\n",
       "      <td>0.0</td>\n",
       "      <td>13.200</td>\n",
       "      <td>Final</td>\n",
       "      <td>2019</td>\n",
       "      <td>FRA</td>\n",
       "    </tr>\n",
       "  </tbody>\n",
       "</table>\n",
       "</div>"
      ],
      "text/plain": [
       "   Rank                 Name  D Score  E Score  Pen.   Total  round  year  \\\n",
       "0     1           Jade Carey      6.2    8.266   0.0  14.466  Final  2019   \n",
       "1     2            Lara Mori      5.6    7.833   0.0  13.433  Final  2019   \n",
       "2     3      Vanessa Ferrari      5.2    8.100   0.0  13.300  Final  2019   \n",
       "3     4  Marta Pihan-Kulesza      5.4    7.933  -0.1  13.233  Final  2019   \n",
       "4     5         Marine Boyer      5.0    8.200   0.0  13.200  Final  2019   \n",
       "\n",
       "  nation  \n",
       "0    USA  \n",
       "1    ITA  \n",
       "2    ITA  \n",
       "3    POL  \n",
       "4    FRA  "
      ]
     },
     "execution_count": 110,
     "metadata": {},
     "output_type": "execute_result"
    }
   ],
   "source": [
    "wc19doha_fx.head()"
   ]
  },
  {
   "cell_type": "code",
   "execution_count": 111,
   "id": "feb70109",
   "metadata": {},
   "outputs": [
    {
     "data": {
      "text/plain": [
       "Index(['Rank', 'Name', 'D Score', 'E Score', 'Pen.', 'Total', 'round', 'year',\n",
       "       'nation'],\n",
       "      dtype='object')"
      ]
     },
     "execution_count": 111,
     "metadata": {},
     "output_type": "execute_result"
    }
   ],
   "source": [
    "wc19doha_fx.columns"
   ]
  },
  {
   "cell_type": "code",
   "execution_count": 112,
   "id": "9163306c",
   "metadata": {},
   "outputs": [],
   "source": [
    "wc19doha_fx=wc19doha_fx[['Rank', 'Name', 'nation', 'D Score', 'E Score', 'Pen.', \n",
    "                         'Total','year' , 'round' ]]"
   ]
  },
  {
   "cell_type": "code",
   "execution_count": 116,
   "id": "6a80b17d",
   "metadata": {},
   "outputs": [
    {
     "data": {
      "text/html": [
       "<div>\n",
       "<style scoped>\n",
       "    .dataframe tbody tr th:only-of-type {\n",
       "        vertical-align: middle;\n",
       "    }\n",
       "\n",
       "    .dataframe tbody tr th {\n",
       "        vertical-align: top;\n",
       "    }\n",
       "\n",
       "    .dataframe thead th {\n",
       "        text-align: right;\n",
       "    }\n",
       "</style>\n",
       "<table border=\"1\" class=\"dataframe\">\n",
       "  <thead>\n",
       "    <tr style=\"text-align: right;\">\n",
       "      <th></th>\n",
       "      <th>Rank</th>\n",
       "      <th>Name</th>\n",
       "      <th>D Score</th>\n",
       "      <th>E Score</th>\n",
       "      <th>Pen.</th>\n",
       "      <th>Total</th>\n",
       "      <th>round</th>\n",
       "      <th>year</th>\n",
       "      <th>nation</th>\n",
       "    </tr>\n",
       "  </thead>\n",
       "  <tbody>\n",
       "    <tr>\n",
       "      <th>0</th>\n",
       "      <td>1</td>\n",
       "      <td>Marta Pihan-Kulesza</td>\n",
       "      <td>5.8</td>\n",
       "      <td>8.425</td>\n",
       "      <td>0.0</td>\n",
       "      <td>14.225</td>\n",
       "      <td>final</td>\n",
       "      <td>2015</td>\n",
       "      <td>POL</td>\n",
       "    </tr>\n",
       "    <tr>\n",
       "      <th>1</th>\n",
       "      <td>2</td>\n",
       "      <td>Andreea Munteanu</td>\n",
       "      <td>5.5</td>\n",
       "      <td>8.325</td>\n",
       "      <td>0.0</td>\n",
       "      <td>13.825</td>\n",
       "      <td>final</td>\n",
       "      <td>2015</td>\n",
       "      <td>ROU</td>\n",
       "    </tr>\n",
       "    <tr>\n",
       "      <th>2</th>\n",
       "      <td>3</td>\n",
       "      <td>Filipa Martins</td>\n",
       "      <td>5.3</td>\n",
       "      <td>8.175</td>\n",
       "      <td>0.0</td>\n",
       "      <td>13.475</td>\n",
       "      <td>final</td>\n",
       "      <td>2015</td>\n",
       "      <td>POR</td>\n",
       "    </tr>\n",
       "    <tr>\n",
       "      <th>3</th>\n",
       "      <td>4</td>\n",
       "      <td>Ayelen Tarabini</td>\n",
       "      <td>5.3</td>\n",
       "      <td>8.125</td>\n",
       "      <td>-0.1</td>\n",
       "      <td>13.325</td>\n",
       "      <td>final</td>\n",
       "      <td>2015</td>\n",
       "      <td>ARG</td>\n",
       "    </tr>\n",
       "    <tr>\n",
       "      <th>4</th>\n",
       "      <td>5</td>\n",
       "      <td>Lisa Ecker</td>\n",
       "      <td>5.0</td>\n",
       "      <td>7.950</td>\n",
       "      <td>0.0</td>\n",
       "      <td>12.950</td>\n",
       "      <td>final</td>\n",
       "      <td>2015</td>\n",
       "      <td>AUT</td>\n",
       "    </tr>\n",
       "  </tbody>\n",
       "</table>\n",
       "</div>"
      ],
      "text/plain": [
       "   Rank                 Name  D Score  E Score  Pen.   Total  round  year  \\\n",
       "0     1  Marta Pihan-Kulesza      5.8    8.425   0.0  14.225  final  2015   \n",
       "1     2     Andreea Munteanu      5.5    8.325   0.0  13.825  final  2015   \n",
       "2     3       Filipa Martins      5.3    8.175   0.0  13.475  final  2015   \n",
       "3     4      Ayelen Tarabini      5.3    8.125  -0.1  13.325  final  2015   \n",
       "4     5           Lisa Ecker      5.0    7.950   0.0  12.950  final  2015   \n",
       "\n",
       "  nation  \n",
       "0    POL  \n",
       "1    ROU  \n",
       "2    POR  \n",
       "3    ARG  \n",
       "4    AUT  "
      ]
     },
     "execution_count": 116,
     "metadata": {},
     "output_type": "execute_result"
    }
   ],
   "source": [
    "wc15cott_fx.head()"
   ]
  },
  {
   "cell_type": "code",
   "execution_count": 115,
   "id": "db8b9fc4",
   "metadata": {},
   "outputs": [],
   "source": [
    "wc15cott_fx.rename(columns={'Athlete': 'Name', \n",
    "                            'Nation': 'nation', 'D': 'D Score',\n",
    "                           'E': 'E Score', 'ND': 'Pen.'}, inplace=True)\n"
   ]
  },
  {
   "cell_type": "code",
   "execution_count": 117,
   "id": "eeaebf60",
   "metadata": {},
   "outputs": [],
   "source": [
    "wc15cott_fx=wc15cott_fx[['Rank', 'Name', 'nation', 'D Score', 'E Score', 'Pen.', \n",
    "                         'Total','year' , 'round' ]]"
   ]
  },
  {
   "cell_type": "code",
   "execution_count": 127,
   "id": "4c608fcb",
   "metadata": {},
   "outputs": [
    {
     "data": {
      "text/html": [
       "<div>\n",
       "<style scoped>\n",
       "    .dataframe tbody tr th:only-of-type {\n",
       "        vertical-align: middle;\n",
       "    }\n",
       "\n",
       "    .dataframe tbody tr th {\n",
       "        vertical-align: top;\n",
       "    }\n",
       "\n",
       "    .dataframe thead th {\n",
       "        text-align: right;\n",
       "    }\n",
       "</style>\n",
       "<table border=\"1\" class=\"dataframe\">\n",
       "  <thead>\n",
       "    <tr style=\"text-align: right;\">\n",
       "      <th></th>\n",
       "      <th>Name</th>\n",
       "      <th>Country</th>\n",
       "      <th>Round</th>\n",
       "      <th>Rank</th>\n",
       "      <th>D_Score</th>\n",
       "      <th>E_Score</th>\n",
       "      <th>Penalty</th>\n",
       "      <th>Score</th>\n",
       "      <th>year</th>\n",
       "    </tr>\n",
       "  </thead>\n",
       "  <tbody>\n",
       "    <tr>\n",
       "      <th>0</th>\n",
       "      <td>Jana ABDELSALAM</td>\n",
       "      <td>EGY</td>\n",
       "      <td>qual</td>\n",
       "      <td>109.0</td>\n",
       "      <td>4.4</td>\n",
       "      <td>7.466</td>\n",
       "      <td>0.1</td>\n",
       "      <td>11.766</td>\n",
       "      <td>2022</td>\n",
       "    </tr>\n",
       "  </tbody>\n",
       "</table>\n",
       "</div>"
      ],
      "text/plain": [
       "              Name Country Round   Rank  D_Score  E_Score  Penalty   Score  \\\n",
       "0  Jana ABDELSALAM     EGY  qual  109.0      4.4    7.466      0.1  11.766   \n",
       "\n",
       "   year  \n",
       "0  2022  "
      ]
     },
     "execution_count": 127,
     "metadata": {},
     "output_type": "execute_result"
    }
   ],
   "source": [
    "usopc_fx.head(1)"
   ]
  },
  {
   "cell_type": "code",
   "execution_count": 121,
   "id": "24ea46dc",
   "metadata": {},
   "outputs": [],
   "source": [
    "usopc_fx=usopc_fx.drop(columns=[\"Gender\", 'Competition', 'Apparatus', ])"
   ]
  },
  {
   "cell_type": "code",
   "execution_count": 123,
   "id": "19e9ab1c",
   "metadata": {},
   "outputs": [
    {
     "data": {
      "text/plain": [
       "array(['2022-11-06', '2023-03-12', '2022-08-02', '2022-03-27',\n",
       "       '2022-08-14', '2023-03-26', '2023-04-16', '2023-05-28',\n",
       "       '2023-02-26', '2023-08-05', '2023-04-30', '2023-03-04',\n",
       "       '2023-06-28', '2022-02-27', '2022-04-03', '2022-03-20',\n",
       "       '2023-03-19', '2023-06-11', '2022-03-05', '2023-06-04'],\n",
       "      dtype=object)"
      ]
     },
     "execution_count": 123,
     "metadata": {},
     "output_type": "execute_result"
    }
   ],
   "source": [
    "usopc_fx[\"Date\"].unique()"
   ]
  },
  {
   "cell_type": "code",
   "execution_count": 124,
   "id": "436a7786",
   "metadata": {},
   "outputs": [],
   "source": [
    "usopc_fx['year'] = usopc_fx['Date'].str[:4]"
   ]
  },
  {
   "cell_type": "code",
   "execution_count": 126,
   "id": "4beefb16",
   "metadata": {},
   "outputs": [],
   "source": [
    "usopc_fx=usopc_fx.drop(columns=[\"Date\"])"
   ]
  },
  {
   "cell_type": "code",
   "execution_count": 129,
   "id": "8702a0f1",
   "metadata": {},
   "outputs": [
    {
     "data": {
      "text/plain": [
       "Index(['Name', 'Country', 'Round', 'Rank', 'D_Score', 'E_Score', 'Penalty',\n",
       "       'Score', 'year'],\n",
       "      dtype='object')"
      ]
     },
     "execution_count": 129,
     "metadata": {},
     "output_type": "execute_result"
    }
   ],
   "source": [
    "usopc_fx.columns"
   ]
  },
  {
   "cell_type": "code",
   "execution_count": 130,
   "id": "8c264121",
   "metadata": {},
   "outputs": [],
   "source": [
    "usopc_fx.rename(columns={'Country': 'nation', 'Round': 'round',\n",
    "                           'E_Score': 'E Score','D_Score': 'D Score', 'Penalty': 'Pen.',\n",
    "                        'Score': 'Total'}, inplace=True)\n"
   ]
  },
  {
   "cell_type": "code",
   "execution_count": 132,
   "id": "0af72964",
   "metadata": {},
   "outputs": [],
   "source": [
    "usopc_fx=usopc_fx[['Rank', 'Name', 'nation', 'D Score', 'E Score', 'Pen.', \n",
    "                         'Total','year' , 'round' ]]"
   ]
  },
  {
   "cell_type": "code",
   "execution_count": 133,
   "id": "b8003b6e",
   "metadata": {},
   "outputs": [
    {
     "data": {
      "text/html": [
       "<div>\n",
       "<style scoped>\n",
       "    .dataframe tbody tr th:only-of-type {\n",
       "        vertical-align: middle;\n",
       "    }\n",
       "\n",
       "    .dataframe tbody tr th {\n",
       "        vertical-align: top;\n",
       "    }\n",
       "\n",
       "    .dataframe thead th {\n",
       "        text-align: right;\n",
       "    }\n",
       "</style>\n",
       "<table border=\"1\" class=\"dataframe\">\n",
       "  <thead>\n",
       "    <tr style=\"text-align: right;\">\n",
       "      <th></th>\n",
       "      <th>Rank</th>\n",
       "      <th>Name</th>\n",
       "      <th>nation</th>\n",
       "      <th>D Score</th>\n",
       "      <th>E Score</th>\n",
       "      <th>Pen.</th>\n",
       "      <th>Total</th>\n",
       "      <th>year</th>\n",
       "      <th>round</th>\n",
       "    </tr>\n",
       "  </thead>\n",
       "  <tbody>\n",
       "    <tr>\n",
       "      <th>0</th>\n",
       "      <td>109.0</td>\n",
       "      <td>Jana ABDELSALAM</td>\n",
       "      <td>EGY</td>\n",
       "      <td>4.4</td>\n",
       "      <td>7.466</td>\n",
       "      <td>0.1</td>\n",
       "      <td>11.766</td>\n",
       "      <td>2022</td>\n",
       "      <td>qual</td>\n",
       "    </tr>\n",
       "  </tbody>\n",
       "</table>\n",
       "</div>"
      ],
      "text/plain": [
       "    Rank             Name nation  D Score  E Score  Pen.   Total  year round\n",
       "0  109.0  Jana ABDELSALAM    EGY      4.4    7.466   0.1  11.766  2022  qual"
      ]
     },
     "execution_count": 133,
     "metadata": {},
     "output_type": "execute_result"
    }
   ],
   "source": [
    "usopc_fx.head(1)"
   ]
  },
  {
   "cell_type": "code",
   "execution_count": null,
   "id": "d1d8f3b0",
   "metadata": {},
   "outputs": [],
   "source": []
  },
  {
   "cell_type": "code",
   "execution_count": null,
   "id": "9b93d0cd",
   "metadata": {},
   "outputs": [],
   "source": []
  },
  {
   "cell_type": "code",
   "execution_count": 135,
   "id": "4d9a8186",
   "metadata": {},
   "outputs": [
    {
     "name": "stdout",
     "output_type": "stream",
     "text": [
      "<class 'pandas.core.frame.DataFrame'>\n",
      "RangeIndex: 1236 entries, 0 to 1235\n",
      "Data columns (total 9 columns):\n",
      " #   Column   Non-Null Count  Dtype  \n",
      "---  ------   --------------  -----  \n",
      " 0   Rank     1236 non-null   float64\n",
      " 1   Name     1236 non-null   object \n",
      " 2   nation   1220 non-null   object \n",
      " 3   D Score  1236 non-null   float64\n",
      " 4   E Score  1236 non-null   float64\n",
      " 5   Pen.     1236 non-null   float64\n",
      " 6   Total    1236 non-null   float64\n",
      " 7   year     1236 non-null   object \n",
      " 8   round    1236 non-null   object \n",
      "dtypes: float64(5), object(4)\n",
      "memory usage: 87.0+ KB\n"
     ]
    }
   ],
   "source": [
    "# uni19_fx\n",
    "# eu20_fx\n",
    "# wc19doha_fx\n",
    "# wc15cott_fx\n",
    "# usopc_fx ="
   ]
  },
  {
   "cell_type": "code",
   "execution_count": 139,
   "id": "f5ca36d3",
   "metadata": {},
   "outputs": [],
   "source": [
    "combined_df = pd.concat([usopc_fx, wc15cott_fx, wc19doha_fx, eu20_fx, uni19_fx], axis=0)"
   ]
  },
  {
   "cell_type": "code",
   "execution_count": 140,
   "id": "6e9d3338",
   "metadata": {},
   "outputs": [],
   "source": [
    "fx = combined_df.copy()"
   ]
  },
  {
   "cell_type": "code",
   "execution_count": 142,
   "id": "92f7fbf8",
   "metadata": {},
   "outputs": [
    {
     "name": "stdout",
     "output_type": "stream",
     "text": [
      "<class 'pandas.core.frame.DataFrame'>\n",
      "Index: 1335 entries, 0 to 7\n",
      "Data columns (total 9 columns):\n",
      " #   Column   Non-Null Count  Dtype  \n",
      "---  ------   --------------  -----  \n",
      " 0   Rank     1335 non-null   float64\n",
      " 1   Name     1335 non-null   object \n",
      " 2   nation   1319 non-null   object \n",
      " 3   D Score  1335 non-null   float64\n",
      " 4   E Score  1335 non-null   float64\n",
      " 5   Pen.     1335 non-null   float64\n",
      " 6   Total    1335 non-null   float64\n",
      " 7   year     1335 non-null   object \n",
      " 8   round    1335 non-null   object \n",
      "dtypes: float64(5), object(4)\n",
      "memory usage: 104.3+ KB\n"
     ]
    }
   ],
   "source": [
    "fx.info()"
   ]
  },
  {
   "cell_type": "code",
   "execution_count": 143,
   "id": "4bdddf03",
   "metadata": {},
   "outputs": [
    {
     "data": {
      "text/plain": [
       "array(['2022', '2023', 2015, 2019, 2020], dtype=object)"
      ]
     },
     "execution_count": 143,
     "metadata": {},
     "output_type": "execute_result"
    }
   ],
   "source": [
    "fx['year'].unique()"
   ]
  },
  {
   "cell_type": "code",
   "execution_count": 144,
   "id": "29299aeb",
   "metadata": {},
   "outputs": [],
   "source": [
    "fx['year'] = fx['year'].astype(int)"
   ]
  },
  {
   "cell_type": "code",
   "execution_count": 145,
   "id": "aac9be70",
   "metadata": {},
   "outputs": [
    {
     "name": "stdout",
     "output_type": "stream",
     "text": [
      "<class 'pandas.core.frame.DataFrame'>\n",
      "Index: 1335 entries, 0 to 7\n",
      "Data columns (total 9 columns):\n",
      " #   Column   Non-Null Count  Dtype  \n",
      "---  ------   --------------  -----  \n",
      " 0   Rank     1335 non-null   float64\n",
      " 1   Name     1335 non-null   object \n",
      " 2   nation   1319 non-null   object \n",
      " 3   D Score  1335 non-null   float64\n",
      " 4   E Score  1335 non-null   float64\n",
      " 5   Pen.     1335 non-null   float64\n",
      " 6   Total    1335 non-null   float64\n",
      " 7   year     1335 non-null   int64  \n",
      " 8   round    1335 non-null   object \n",
      "dtypes: float64(5), int64(1), object(3)\n",
      "memory usage: 104.3+ KB\n"
     ]
    }
   ],
   "source": [
    "fx.info()"
   ]
  },
  {
   "cell_type": "code",
   "execution_count": null,
   "id": "e3bb2b89",
   "metadata": {},
   "outputs": [],
   "source": []
  }
 ],
 "metadata": {
  "kernelspec": {
   "display_name": "Python 3 (ipykernel)",
   "language": "python",
   "name": "python3"
  },
  "language_info": {
   "codemirror_mode": {
    "name": "ipython",
    "version": 3
   },
   "file_extension": ".py",
   "mimetype": "text/x-python",
   "name": "python",
   "nbconvert_exporter": "python",
   "pygments_lexer": "ipython3",
   "version": "3.9.12"
  }
 },
 "nbformat": 4,
 "nbformat_minor": 5
}
