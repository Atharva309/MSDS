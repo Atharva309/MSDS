{
 "cells": [
  {
   "cell_type": "code",
   "execution_count": 43,
   "id": "a16fa12b",
   "metadata": {},
   "outputs": [],
   "source": [
    "import pandas as pd\n",
    "import numpy as np"
   ]
  },
  {
   "cell_type": "code",
   "execution_count": 44,
   "id": "1542f793",
   "metadata": {},
   "outputs": [],
   "source": [
    "df = pd.read_csv('ub_w.csv')"
   ]
  },
  {
   "cell_type": "markdown",
   "id": "27fc8843",
   "metadata": {},
   "source": [
    "2012\n",
    " \t\n",
    "1. aliya mustafina - Russia \t\n",
    "2. he kexin - China \t\n",
    "3. beth tweddle -  Great Britain\n",
    "\n",
    "2016\n",
    "\n",
    "1. liya mustafina (RUS) \n",
    "2. madison kocian (USA) \t\n",
    "3. sophie scheder (GER)\n",
    "\n",
    "2020\n",
    "\n",
    "1. nina derwael (BEL) \t\n",
    "2. anastasia ilyankova (ROC) \t\n",
    "3. sunisa lee (USA)\n"
   ]
  },
  {
   "cell_type": "code",
   "execution_count": 45,
   "id": "7fa23fa5",
   "metadata": {},
   "outputs": [
    {
     "data": {
      "text/plain": [
       "year\n",
       "2023    644\n",
       "2022    586\n",
       "2019     67\n",
       "2015     65\n",
       "2014     46\n",
       "2013     46\n",
       "2018     16\n",
       "2020      8\n",
       "2011      8\n",
       "2017      8\n",
       "2016      8\n",
       "Name: count, dtype: int64"
      ]
     },
     "execution_count": 45,
     "metadata": {},
     "output_type": "execute_result"
    }
   ],
   "source": [
    "df['year'].value_counts()"
   ]
  },
  {
   "cell_type": "code",
   "execution_count": 46,
   "id": "59c4ce5f",
   "metadata": {},
   "outputs": [],
   "source": [
    "df = pd.read_csv('ub_w.csv')\n",
    "df['Name'] = df['Name'].str.lower()"
   ]
  },
  {
   "cell_type": "code",
   "execution_count": 47,
   "id": "b0706e55",
   "metadata": {},
   "outputs": [],
   "source": [
    "df['Name'] = df['Name'].str.lower()"
   ]
  },
  {
   "cell_type": "code",
   "execution_count": 48,
   "id": "510b93fa",
   "metadata": {},
   "outputs": [],
   "source": [
    "df12 = df[df['year'].isin([2011])].copy()\n",
    "df16 = df[df['year'].isin([2013, 2014, 2015, 2016])].copy()\n",
    "df20 = df[df['year'].isin([2017, 2018, 2019, 2020])].copy()\n",
    "df24 = df[df['year'].isin([2022, 2023])].copy()"
   ]
  },
  {
   "cell_type": "code",
   "execution_count": 49,
   "id": "c1f8beba",
   "metadata": {},
   "outputs": [],
   "source": [
    "# Define a function to assign medal values based on the \"Name\" column\n",
    "def assign_medal(name):\n",
    "    name_lower = name.lower()\n",
    "    if name_lower == 'liya mustafina':\n",
    "        return 1\n",
    "    elif name_lower == 'madison kocian':\n",
    "        return 1\n",
    "    elif name_lower == 'sophie scheder':\n",
    "        return 1\n",
    "    else:\n",
    "        return 0\n",
    "\n",
    "# Apply the function to create the \"medal\" column\n",
    "df16['medal'] = df16['Name'].apply(assign_medal)\n"
   ]
  },
  {
   "cell_type": "code",
   "execution_count": 50,
   "id": "e23924fa",
   "metadata": {},
   "outputs": [
    {
     "data": {
      "text/plain": [
       "medal\n",
       "0    160\n",
       "1      5\n",
       "Name: count, dtype: int64"
      ]
     },
     "execution_count": 50,
     "metadata": {},
     "output_type": "execute_result"
    }
   ],
   "source": [
    "df16['medal'].value_counts()"
   ]
  },
  {
   "cell_type": "code",
   "execution_count": 51,
   "id": "5eef5461",
   "metadata": {},
   "outputs": [],
   "source": [
    "# Define a function to assign medal values based on the \"Name\" column\n",
    "def assign_medal(name):\n",
    "    name_lower = name.lower()\n",
    "    if name_lower == 'nina derwael':\n",
    "        return 1\n",
    "    elif name_lower == 'anastasia ilyankova':\n",
    "        return 1\n",
    "    elif name_lower == 'sunisa lee':\n",
    "        return 1\n",
    "    else:\n",
    "        return 0\n",
    "\n",
    "# Apply the function to create the \"medal\" column\n",
    "df20['medal'] = df20['Name'].apply(assign_medal)\n"
   ]
  },
  {
   "cell_type": "code",
   "execution_count": 52,
   "id": "7445e76f",
   "metadata": {},
   "outputs": [
    {
     "data": {
      "text/plain": [
       "medal\n",
       "0    92\n",
       "1     7\n",
       "Name: count, dtype: int64"
      ]
     },
     "execution_count": 52,
     "metadata": {},
     "output_type": "execute_result"
    }
   ],
   "source": [
    "df20['medal'].value_counts()"
   ]
  },
  {
   "cell_type": "code",
   "execution_count": 53,
   "id": "2bcebce2",
   "metadata": {},
   "outputs": [
    {
     "name": "stdout",
     "output_type": "stream",
     "text": [
      "Liya Mustafina: 0\n",
      "Madison Kocian: 1\n",
      "Sophie Scheder: 4\n"
     ]
    }
   ],
   "source": [
    "# Assuming you have a DataFrame named 'df'\n",
    "name_counts = df16['Name'].value_counts()\n",
    "\n",
    "# Print the counts for each name\n",
    "print(\"Liya Mustafina:\", name_counts.get(\"liya mustafina\", 0))\n",
    "print(\"Madison Kocian:\", name_counts.get(\"madison kocian\", 0))\n",
    "print(\"Sophie Scheder:\", name_counts.get(\"sophie scheder\", 0))"
   ]
  },
  {
   "cell_type": "code",
   "execution_count": 12,
   "id": "7d82d2fb",
   "metadata": {},
   "outputs": [
    {
     "name": "stdout",
     "output_type": "stream",
     "text": [
      "nina derwael: 5\n",
      "anastasia ilyankova: 1\n",
      "sunisa lee: 1\n"
     ]
    }
   ],
   "source": [
    "# Assuming you have a DataFrame named 'df'\n",
    "name_counts = df20['Name'].value_counts()\n",
    "\n",
    "print(\"nina derwael:\", name_counts.get(\"nina derwael\", 0))\n",
    "print(\"anastasia ilyankova:\", name_counts.get(\"anastasia ilyankova\", 0))\n",
    "print(\"sunisa lee:\", name_counts.get(\"sunisa lee\", 0))"
   ]
  },
  {
   "cell_type": "code",
   "execution_count": 13,
   "id": "f0eda1b4",
   "metadata": {},
   "outputs": [],
   "source": [
    "combined_df = pd.concat([df20, df16], axis=0)"
   ]
  },
  {
   "cell_type": "code",
   "execution_count": 14,
   "id": "921bf4ce",
   "metadata": {},
   "outputs": [],
   "source": [
    "df = combined_df.copy()"
   ]
  },
  {
   "cell_type": "code",
   "execution_count": 15,
   "id": "f7cfddf0",
   "metadata": {},
   "outputs": [
    {
     "data": {
      "text/plain": [
       "medal\n",
       "0    252\n",
       "1     12\n",
       "Name: count, dtype: int64"
      ]
     },
     "execution_count": 15,
     "metadata": {},
     "output_type": "execute_result"
    }
   ],
   "source": [
    "df['medal'].value_counts()"
   ]
  },
  {
   "cell_type": "code",
   "execution_count": 16,
   "id": "aacd7c95",
   "metadata": {},
   "outputs": [
    {
     "name": "stdout",
     "output_type": "stream",
     "text": [
      "<class 'pandas.core.frame.DataFrame'>\n",
      "Index: 264 entries, 1271 to 1501\n",
      "Data columns (total 10 columns):\n",
      " #   Column   Non-Null Count  Dtype  \n",
      "---  ------   --------------  -----  \n",
      " 0   Rank     264 non-null    float64\n",
      " 1   Name     264 non-null    object \n",
      " 2   nation   264 non-null    object \n",
      " 3   D Score  264 non-null    float64\n",
      " 4   E Score  264 non-null    float64\n",
      " 5   Pen.     264 non-null    float64\n",
      " 6   Total    264 non-null    float64\n",
      " 7   year     264 non-null    int64  \n",
      " 8   round    264 non-null    object \n",
      " 9   medal    264 non-null    int64  \n",
      "dtypes: float64(5), int64(2), object(3)\n",
      "memory usage: 22.7+ KB\n"
     ]
    }
   ],
   "source": [
    "df.info()"
   ]
  },
  {
   "cell_type": "code",
   "execution_count": 17,
   "id": "59dc64b3",
   "metadata": {},
   "outputs": [],
   "source": [
    "# Columns to encode\n",
    "object_columns = ['Name', 'nation', 'round']\n",
    "\n",
    "# Perform label encoding for 'Name', 'nation', and 'round'\n",
    "for col in object_columns:\n",
    "    df[col] = df[col].astype('category').cat.codes\n",
    "\n",
    "# Perform one-hot encoding for 'round' column\n",
    "df = pd.get_dummies(df, columns=['round'], prefix='round')\n"
   ]
  },
  {
   "cell_type": "code",
   "execution_count": 18,
   "id": "8dd7bd30",
   "metadata": {},
   "outputs": [
    {
     "name": "stdout",
     "output_type": "stream",
     "text": [
      "<class 'pandas.core.frame.DataFrame'>\n",
      "Index: 264 entries, 1271 to 1501\n",
      "Data columns (total 14 columns):\n",
      " #   Column   Non-Null Count  Dtype  \n",
      "---  ------   --------------  -----  \n",
      " 0   Rank     264 non-null    float64\n",
      " 1   Name     264 non-null    int16  \n",
      " 2   nation   264 non-null    int8   \n",
      " 3   D Score  264 non-null    float64\n",
      " 4   E Score  264 non-null    float64\n",
      " 5   Pen.     264 non-null    float64\n",
      " 6   Total    264 non-null    float64\n",
      " 7   year     264 non-null    int64  \n",
      " 8   medal    264 non-null    int64  \n",
      " 9   round_0  264 non-null    bool   \n",
      " 10  round_1  264 non-null    bool   \n",
      " 11  round_2  264 non-null    bool   \n",
      " 12  round_3  264 non-null    bool   \n",
      " 13  round_4  264 non-null    bool   \n",
      "dtypes: bool(5), float64(5), int16(1), int64(2), int8(1)\n",
      "memory usage: 18.6 KB\n"
     ]
    }
   ],
   "source": [
    "df.info()"
   ]
  },
  {
   "cell_type": "code",
   "execution_count": 19,
   "id": "488d7975",
   "metadata": {},
   "outputs": [],
   "source": [
    "import pandas as pd\n",
    "import matplotlib.pyplot as plt\n",
    "import seaborn as sns\n",
    "\n"
   ]
  },
  {
   "cell_type": "code",
   "execution_count": 20,
   "id": "6f0b16f3",
   "metadata": {},
   "outputs": [
    {
     "name": "stdout",
     "output_type": "stream",
     "text": [
      "<class 'pandas.core.frame.DataFrame'>\n",
      "Index: 264 entries, 1271 to 1501\n",
      "Data columns (total 14 columns):\n",
      " #   Column   Non-Null Count  Dtype  \n",
      "---  ------   --------------  -----  \n",
      " 0   Rank     264 non-null    float64\n",
      " 1   Name     264 non-null    int16  \n",
      " 2   nation   264 non-null    int8   \n",
      " 3   D Score  264 non-null    float64\n",
      " 4   E Score  264 non-null    float64\n",
      " 5   Pen.     264 non-null    float64\n",
      " 6   Total    264 non-null    float64\n",
      " 7   year     264 non-null    int64  \n",
      " 8   medal    264 non-null    int64  \n",
      " 9   round_0  264 non-null    bool   \n",
      " 10  round_1  264 non-null    bool   \n",
      " 11  round_2  264 non-null    bool   \n",
      " 12  round_3  264 non-null    bool   \n",
      " 13  round_4  264 non-null    bool   \n",
      "dtypes: bool(5), float64(5), int16(1), int64(2), int8(1)\n",
      "memory usage: 18.6 KB\n"
     ]
    }
   ],
   "source": [
    "# Summary statistics\n",
    "summary = df.describe()\n",
    "\n",
    "# Data types and non-null counts\n",
    "data_info = df.info()\n",
    "\n",
    "# Correlation matrix\n",
    "correlation_matrix = df.corr()\n"
   ]
  },
  {
   "cell_type": "code",
   "execution_count": 21,
   "id": "73a18dbc",
   "metadata": {
    "scrolled": false
   },
   "outputs": [],
   "source": [
    "# # Countplot for the 'medal' column\n",
    "# plt.figure(figsize=(6, 4))\n",
    "# sns.countplot(data=df, x='medal')\n",
    "# plt.title('Distribution of Medals')\n",
    "# plt.show()\n",
    "\n",
    "# # Pairplot for numerical features\n",
    "# sns.pairplot(df[['Rank', 'D Score', 'E Score', 'Pen.', 'Total']])\n",
    "# plt.show()\n"
   ]
  },
  {
   "cell_type": "code",
   "execution_count": 22,
   "id": "342510e5",
   "metadata": {},
   "outputs": [],
   "source": [
    "\n",
    "# # Boxplot for 'Total' scores grouped by 'medal'\n",
    "# plt.figure(figsize=(8, 6))\n",
    "# sns.boxplot(data=df, x='medal', y='Total')\n",
    "# plt.title('Total Scores by Medal')\n",
    "# plt.show()\n",
    "\n"
   ]
  },
  {
   "cell_type": "code",
   "execution_count": 23,
   "id": "2e0d3598",
   "metadata": {},
   "outputs": [],
   "source": [
    "# # Correlation heatmap\n",
    "# plt.figure(figsize=(10, 8))\n",
    "# sns.heatmap(correlation_matrix, annot=True, cmap='coolwarm')\n",
    "# plt.title('Correlation Heatmap')\n",
    "# plt.show()"
   ]
  },
  {
   "cell_type": "code",
   "execution_count": 24,
   "id": "f8c3f838",
   "metadata": {},
   "outputs": [],
   "source": [
    "# # Summary statistics for 'medal'\n",
    "# medal_summary = df['medal'].value_counts()\n",
    "\n",
    "# # Plot the distribution of 'medal' (target variable)\n",
    "# plt.figure(figsize=(6, 4))\n",
    "# sns.countplot(data=df, x='medal')\n",
    "# plt.title('Distribution of Medals')\n",
    "# plt.show()\n",
    "\n",
    "# # EDA for other features in relation to 'medal'\n",
    "# # Boxplot for 'Total' scores grouped by 'medal'\n",
    "# plt.figure(figsize=(8, 6))\n",
    "# sns.boxplot(data=df, x='medal', y='Total')\n",
    "# plt.title('Total Scores by Medal')\n",
    "# plt.show()\n",
    "\n"
   ]
  },
  {
   "cell_type": "code",
   "execution_count": 25,
   "id": "ab7c4606",
   "metadata": {},
   "outputs": [],
   "source": [
    "# # Correlation between 'medal' and other numeric features\n",
    "# correlation_matrix = df.corr()\n",
    "# medal_correlation = correlation_matrix['medal'].sort_values(ascending=False)\n",
    "\n",
    "# # Selecting only positive and negative correlations\n",
    "# positive_correlations = medal_correlation[medal_correlation > 0]\n",
    "# negative_correlations = medal_correlation[medal_correlation < 0]\n",
    "\n",
    "\n"
   ]
  },
  {
   "cell_type": "code",
   "execution_count": 26,
   "id": "866bb4cc",
   "metadata": {},
   "outputs": [],
   "source": [
    "# # Plot positive and negative correlations\n",
    "# plt.figure(figsize=(10, 4))\n",
    "# sns.barplot(x=positive_correlations.index, y=positive_correlations)\n",
    "# plt.title('Positive Correlations with Medal')\n",
    "# plt.show()\n",
    "\n",
    "# plt.figure(figsize=(10, 4))\n",
    "# sns.barplot(x=negative_correlations.index, y=negative_correlations)\n",
    "# plt.title('Negative Correlations with Medal')\n",
    "# plt.show()"
   ]
  },
  {
   "cell_type": "code",
   "execution_count": 28,
   "id": "dfcbccfe",
   "metadata": {},
   "outputs": [],
   "source": [
    "from sklearn.model_selection import train_test_split\n",
    "\n",
    "\n",
    "X = df.drop('medal', axis=1)\n",
    "\n",
    "# Define your target variable\n",
    "y = df['medal']\n",
    "\n",
    "X_train, X_test, y_train, y_test = train_test_split(X, y, test_size=0.10, random_state=42)\n"
   ]
  },
  {
   "cell_type": "code",
   "execution_count": null,
   "id": "a202ccdb",
   "metadata": {
    "scrolled": false
   },
   "outputs": [],
   "source": [
    "# from sklearn.model_selection import train_test_split\n",
    "# from sklearn.metrics import accuracy_score, classification_report\n",
    "# from sklearn.tree import DecisionTreeClassifier\n",
    "# from sklearn.ensemble import RandomForestClassifier\n",
    "# from sklearn.svm import SVC\n",
    "# from sklearn.linear_model import LogisticRegression\n",
    "# from sklearn.neighbors import KNeighborsClassifier\n",
    "\n",
    "# # Assuming you have already split your data into X_train, X_test, y_train, and y_test\n",
    "\n",
    "# # Initialize a dictionary to store model names and their corresponding models\n",
    "# models = {\n",
    "#     'Decision Tree': DecisionTreeClassifier(),\n",
    "#     'Random Forest': RandomForestClassifier(),\n",
    "#     'Support Vector Machine': SVC(),\n",
    "#     'Logistic Regression': LogisticRegression(),\n",
    "#     'K-Nearest Neighbors': KNeighborsClassifier()\n",
    "# }\n",
    "\n",
    "# # Train and evaluate each model\n",
    "# for model_name, model in models.items():\n",
    "#     model.fit(X_train, y_train)  # Train the model\n",
    "#     y_pred = model.predict(X_test)  # Make predictions\n",
    "\n",
    "#     # Evaluate the model\n",
    "#     accuracy = accuracy_score(y_test, y_pred)\n",
    "#     report = classification_report(y_test, y_pred)\n",
    "\n",
    "#     # Print the results\n",
    "#     print(f\"Model: {model_name}\")\n",
    "#     print(f\"Accuracy: {accuracy:.2f}\")\n",
    "#     print(\"Classification Report:\")\n",
    "#     print(report)\n",
    "#     print(\"=\" * 40)\n"
   ]
  },
  {
   "cell_type": "code",
   "execution_count": null,
   "id": "cfa8794a",
   "metadata": {},
   "outputs": [],
   "source": [
    "# from sklearn.metrics import classification_report\n",
    "\n",
    "# # Assuming you have already trained your model and have predictions\n",
    "# y_pred = model.predict(X_test)  # Replace 'model' with the actual model you want to evaluate\n",
    "\n",
    "# # Calculate and print a classification report\n",
    "# report = classification_report(y_test, y_pred)\n",
    "\n",
    "# # Extract the recall (sensitivity) for the positive class\n",
    "# lines = report.split('\\n')\n",
    "# positive_recall = float(lines[6].split()[3])  # Assuming the positive class is labeled as '1'\n",
    "\n",
    "# print(\"Classification Report:\")\n",
    "# print(report)\n",
    "# print(f\"Recall (Sensitivity) for the Positive Class (label '1'): {positive_recall:.2f}\")\n"
   ]
  },
  {
   "cell_type": "code",
   "execution_count": null,
   "id": "141514d8",
   "metadata": {},
   "outputs": [],
   "source": [
    "# from sklearn.metrics import confusion_matrix\n",
    "# import seaborn as sns\n",
    "# import matplotlib.pyplot as plt\n",
    "\n",
    "# # Assuming you have already trained your model and have predictions\n",
    "# y_pred = model.predict(X_test)  # Replace 'model' with the actual model you want to evaluate\n",
    "\n",
    "# # Generate a confusion matrix\n",
    "# conf_matrix = confusion_matrix(y_test, y_pred)\n",
    "\n",
    "# # Create a heatmap to visualize the confusion matrix\n",
    "# plt.figure(figsize=(6, 4))\n",
    "# sns.heatmap(conf_matrix, annot=True, fmt='d', cmap='Blues', cbar=False,\n",
    "#             xticklabels=['Predicted 0', 'Predicted 1'], yticklabels=['Actual 0', 'Actual 1'])\n",
    "# plt.xlabel('Predicted')\n",
    "# plt.ylabel('Actual')\n",
    "# plt.title('Confusion Matrix')\n",
    "# plt.show()\n"
   ]
  },
  {
   "cell_type": "code",
   "execution_count": null,
   "id": "5db2214f",
   "metadata": {
    "scrolled": false
   },
   "outputs": [],
   "source": [
    "# from sklearn.model_selection import train_test_split\n",
    "# from sklearn.metrics import accuracy_score, classification_report, confusion_matrix\n",
    "# from sklearn.tree import DecisionTreeClassifier\n",
    "\n",
    "# # Assuming you have already split your data into X_train, X_test, y_train, and y_test\n",
    "\n",
    "# # Initialize and train a Decision Tree model\n",
    "# model = DecisionTreeClassifier()\n",
    "# model_name = 'Decision Tree'\n",
    "# model.fit(X_train, y_train)  # Train the model\n",
    "\n",
    "# # Make predictions\n",
    "# y_pred = model.predict(X_test)\n",
    "\n",
    "# # Calculate the confusion matrix\n",
    "# conf_matrix = confusion_matrix(y_test, y_pred)\n",
    "\n",
    "# # Evaluate the model\n",
    "# accuracy = accuracy_score(y_test, y_pred)\n",
    "# report = classification_report(y_test, y_pred)\n",
    "\n",
    "# # Print the results including the confusion matrix\n",
    "# print(f\"Model: {model_name}\")\n",
    "# print(f\"Accuracy: {accuracy:.2f}\")\n",
    "# print(\"Confusion Matrix:\")\n",
    "# print(conf_matrix)\n",
    "# print(\"Classification Report:\")\n",
    "# print(report)\n"
   ]
  },
  {
   "cell_type": "code",
   "execution_count": null,
   "id": "d76ce358",
   "metadata": {},
   "outputs": [],
   "source": [
    "# from sklearn.model_selection import train_test_split\n",
    "# from sklearn.linear_model import LogisticRegression\n",
    "# from sklearn.metrics import classification_report, confusion_matrix, accuracy_score\n",
    "\n",
    "# # Assuming you have already split your data into X_train, X_test, y_train, and y_test\n",
    "\n",
    "# # Initialize and train a Logistic Regression model\n",
    "# model = LogisticRegression()\n",
    "\n",
    "# # Define class weights (higher weight for the minority class)\n",
    "# class_weights = {0: 1, 1: 8}  # Adjust the weight for class '1' as needed\n",
    "\n",
    "# model.set_params(class_weight=class_weights)\n",
    "\n",
    "# model.fit(X_train, y_train)  # Train the model\n",
    "\n",
    "# # Make predictions\n",
    "# y_pred_prob = model.predict_proba(X_test)  # Get predicted probabilities\n",
    "# # Adjust the decision threshold (e.g., 0.3 instead of the default 0.5)\n",
    "# threshold = 0.3\n",
    "# y_pred = (y_pred_prob[:, 1] > threshold).astype(int)\n",
    "\n",
    "# # Calculate the confusion matrix\n",
    "# conf_matrix = confusion_matrix(y_test, y_pred)\n",
    "\n",
    "# # Evaluate the model\n",
    "# accuracy = accuracy_score(y_test, y_pred)\n",
    "# report = classification_report(y_test, y_pred)\n",
    "\n",
    "# # Print the results including the confusion matrix\n",
    "# print(f\"Model: Logistic Regression\")\n",
    "# print(f\"Accuracy: {accuracy:.2f}\")\n",
    "# print(\"Confusion Matrix:\")\n",
    "# print(conf_matrix)\n",
    "# print(\"Classification Report:\")\n",
    "# print(report)\n"
   ]
  },
  {
   "cell_type": "code",
   "execution_count": 29,
   "id": "261f41ee",
   "metadata": {},
   "outputs": [
    {
     "name": "stdout",
     "output_type": "stream",
     "text": [
      "Model: Logistic Regression\n",
      "Accuracy: 0.96\n",
      "Confusion Matrix:\n",
      "[[25  0]\n",
      " [ 1  1]]\n",
      "Classification Report:\n",
      "              precision    recall  f1-score   support\n",
      "\n",
      "           0       0.96      1.00      0.98        25\n",
      "           1       1.00      0.50      0.67         2\n",
      "\n",
      "    accuracy                           0.96        27\n",
      "   macro avg       0.98      0.75      0.82        27\n",
      "weighted avg       0.96      0.96      0.96        27\n",
      "\n"
     ]
    },
    {
     "name": "stderr",
     "output_type": "stream",
     "text": [
      "/Users/ryantalbot/opt/anaconda3/envs/tf2/lib/python3.9/site-packages/sklearn/linear_model/_logistic.py:460: ConvergenceWarning: lbfgs failed to converge (status=1):\n",
      "STOP: TOTAL NO. of ITERATIONS REACHED LIMIT.\n",
      "\n",
      "Increase the number of iterations (max_iter) or scale the data as shown in:\n",
      "    https://scikit-learn.org/stable/modules/preprocessing.html\n",
      "Please also refer to the documentation for alternative solver options:\n",
      "    https://scikit-learn.org/stable/modules/linear_model.html#logistic-regression\n",
      "  n_iter_i = _check_optimize_result(\n"
     ]
    }
   ],
   "source": [
    "from sklearn.model_selection import train_test_split\n",
    "from sklearn.linear_model import LogisticRegression\n",
    "from sklearn.metrics import classification_report, confusion_matrix, accuracy_score\n",
    "\n",
    "# Assuming you have already split your data into X_train, X_test, y_train, and y_test\n",
    "\n",
    "# Initialize and train a Logistic Regression model\n",
    "model = LogisticRegression()\n",
    "\n",
    "# Define class weights (higher weight for the minority class)\n",
    "class_weights = {0: 1, 1: 3}  # Adjust the weight for class '1' as needed\n",
    "\n",
    "model.set_params(class_weight=class_weights)\n",
    "\n",
    "model.fit(X_train, y_train)  # Train the model\n",
    "\n",
    "# Make predictions\n",
    "y_pred_prob = model.predict_proba(X_test)  # Get predicted probabilities\n",
    "# Adjust the decision threshold (e.g., 0.3 instead of the default 0.5)\n",
    "threshold = 0.41\n",
    "y_pred = (y_pred_prob[:, 1] > threshold).astype(int)\n",
    "\n",
    "# Calculate the confusion matrix\n",
    "conf_matrix = confusion_matrix(y_test, y_pred)\n",
    "\n",
    "# Evaluate the model\n",
    "accuracy = accuracy_score(y_test, y_pred)\n",
    "report = classification_report(y_test, y_pred)\n",
    "\n",
    "# Print the results including the confusion matrix\n",
    "print(f\"Model: Logistic Regression\")\n",
    "print(f\"Accuracy: {accuracy:.2f}\")\n",
    "print(\"Confusion Matrix:\")\n",
    "print(conf_matrix)\n",
    "print(\"Classification Report:\")\n",
    "print(report)\n"
   ]
  },
  {
   "cell_type": "code",
   "execution_count": 31,
   "id": "e88f3318",
   "metadata": {},
   "outputs": [
    {
     "name": "stdout",
     "output_type": "stream",
     "text": [
      "SGD Classifier Accuracy: 0.93\n",
      "Classification Report (SGD Classifier):\n",
      "               precision    recall  f1-score   support\n",
      "\n",
      "           0       0.93      1.00      0.96        25\n",
      "           1       0.00      0.00      0.00         2\n",
      "\n",
      "    accuracy                           0.93        27\n",
      "   macro avg       0.46      0.50      0.48        27\n",
      "weighted avg       0.86      0.93      0.89        27\n",
      "\n",
      "Confusion Matrix (SGD Classifier):\n",
      " [[25  0]\n",
      " [ 2  0]]\n"
     ]
    },
    {
     "name": "stderr",
     "output_type": "stream",
     "text": [
      "/Users/ryantalbot/opt/anaconda3/envs/tf2/lib/python3.9/site-packages/sklearn/metrics/_classification.py:1469: UndefinedMetricWarning: Precision and F-score are ill-defined and being set to 0.0 in labels with no predicted samples. Use `zero_division` parameter to control this behavior.\n",
      "  _warn_prf(average, modifier, msg_start, len(result))\n",
      "/Users/ryantalbot/opt/anaconda3/envs/tf2/lib/python3.9/site-packages/sklearn/metrics/_classification.py:1469: UndefinedMetricWarning: Precision and F-score are ill-defined and being set to 0.0 in labels with no predicted samples. Use `zero_division` parameter to control this behavior.\n",
      "  _warn_prf(average, modifier, msg_start, len(result))\n",
      "/Users/ryantalbot/opt/anaconda3/envs/tf2/lib/python3.9/site-packages/sklearn/metrics/_classification.py:1469: UndefinedMetricWarning: Precision and F-score are ill-defined and being set to 0.0 in labels with no predicted samples. Use `zero_division` parameter to control this behavior.\n",
      "  _warn_prf(average, modifier, msg_start, len(result))\n"
     ]
    }
   ],
   "source": [
    "from sklearn.linear_model import SGDClassifier\n",
    "from sklearn.metrics import accuracy_score, classification_report, confusion_matrix\n",
    "\n",
    "# Initialize the SGD Classifier with class weights\n",
    "class_weights = {0: 1, 1: 5}  # Adjust the weight for class '1' as needed\n",
    "sgd_classifier = SGDClassifier(class_weight=class_weights, random_state=42)\n",
    "\n",
    "# Train the model on the training data\n",
    "sgd_classifier.fit(X_train, y_train)\n",
    "\n",
    "# Make predictions on the test data\n",
    "y_pred_sgd = sgd_classifier.predict(X_test)\n",
    "\n",
    "# Calculate the accuracy\n",
    "accuracy_sgd = accuracy_score(y_test, y_pred_sgd)\n",
    "print(f\"SGD Classifier Accuracy: {accuracy_sgd:.2f}\")\n",
    "\n",
    "# Generate and print the classification report\n",
    "report_sgd = classification_report(y_test, y_pred_sgd)\n",
    "print(\"Classification Report (SGD Classifier):\\n\", report_sgd)\n",
    "\n",
    "# Generate and print the confusion matrix\n",
    "conf_matrix_sgd = confusion_matrix(y_test, y_pred_sgd)\n",
    "print(\"Confusion Matrix (SGD Classifier):\\n\", conf_matrix_sgd)\n"
   ]
  },
  {
   "cell_type": "code",
   "execution_count": null,
   "id": "1f0ef565",
   "metadata": {},
   "outputs": [],
   "source": []
  },
  {
   "cell_type": "code",
   "execution_count": null,
   "id": "cdddb70c",
   "metadata": {},
   "outputs": [],
   "source": []
  },
  {
   "cell_type": "code",
   "execution_count": null,
   "id": "8a71a144",
   "metadata": {},
   "outputs": [],
   "source": []
  },
  {
   "cell_type": "code",
   "execution_count": null,
   "id": "8b7df68b",
   "metadata": {},
   "outputs": [],
   "source": []
  },
  {
   "cell_type": "markdown",
   "id": "72ea629f",
   "metadata": {},
   "source": [
    "X_train.columns\n",
    "\n",
    "​\n",
    "\n",
    "Index(['Rank', 'Name', 'nation', 'D Score', 'E Score', 'Pen.', 'Total', 'year',\n",
    "       'round_0', 'round_1', 'round_2', 'round_3', 'round_4'],\n",
    "      dtype='object')"
   ]
  },
  {
   "cell_type": "code",
   "execution_count": null,
   "id": "ae82d1f8",
   "metadata": {},
   "outputs": [],
   "source": [
    "adfasdf"
   ]
  },
  {
   "cell_type": "code",
   "execution_count": null,
   "id": "860709af",
   "metadata": {},
   "outputs": [],
   "source": [
    "df = pd.read_csv('ub_w.csv')\n",
    "df['Name'] = df['Name'].str.lower()"
   ]
  },
  {
   "cell_type": "code",
   "execution_count": null,
   "id": "e576579a",
   "metadata": {},
   "outputs": [],
   "source": [
    "df24 = df[df['year'].isin([2022, 2023])].copy()"
   ]
  },
  {
   "cell_type": "code",
   "execution_count": null,
   "id": "22184137",
   "metadata": {},
   "outputs": [],
   "source": [
    "df24"
   ]
  },
  {
   "cell_type": "code",
   "execution_count": null,
   "id": "42f22fd8",
   "metadata": {},
   "outputs": [],
   "source": [
    "df24.info()"
   ]
  },
  {
   "cell_type": "code",
   "execution_count": null,
   "id": "ee7bc857",
   "metadata": {},
   "outputs": [],
   "source": [
    "# Create a dictionary to map the original 'Name' values to their encoded values\n",
    "name_encoding_mapping = {}\n",
    "\n",
    "# Perform label encoding for the 'Name' column\n",
    "df24['Name'] = df24['Name'].astype('category')\n",
    "df24['Name_encoded'] = df24['Name'].cat.codes\n",
    "name_encoding_mapping = dict(enumerate(df24['Name'].cat.categories))\n"
   ]
  },
  {
   "cell_type": "code",
   "execution_count": null,
   "id": "7449fa35",
   "metadata": {},
   "outputs": [],
   "source": [
    "# Create a dictionary to map the original 'nation' values to their encoded values\n",
    "nation_encoding_mapping = {}\n",
    "\n",
    "# Perform label encoding for the 'nation' column\n",
    "df24['nation'] = df24['nation'].astype('category')\n",
    "df24['nation_encoded'] = df24['nation'].cat.codes\n",
    "nation_encoding_mapping = dict(enumerate(df24['nation'].cat.categories))\n"
   ]
  },
  {
   "cell_type": "code",
   "execution_count": null,
   "id": "02028cff",
   "metadata": {},
   "outputs": [],
   "source": [
    "# Create a dictionary to map the original 'round' values to their encoded values\n",
    "round_encoding_mapping = {}\n",
    "\n",
    "# Perform label encoding for the 'round' column\n",
    "df24['round'] = df24['round'].astype('category')\n",
    "df24['round_encoded'] = df24['round'].cat.codes\n",
    "round_encoding_mapping = dict(enumerate(df24['round'].cat.categories))\n"
   ]
  },
  {
   "cell_type": "code",
   "execution_count": null,
   "id": "3d6c5081",
   "metadata": {},
   "outputs": [],
   "source": [
    "df24.columns"
   ]
  },
  {
   "cell_type": "code",
   "execution_count": null,
   "id": "49aee930",
   "metadata": {},
   "outputs": [],
   "source": [
    "df24['Name'] = df24['Name_encoded']\n",
    "df24['nation'] = df24['nation_encoded']\n",
    "\n"
   ]
  },
  {
   "cell_type": "code",
   "execution_count": null,
   "id": "2577cf87",
   "metadata": {},
   "outputs": [],
   "source": [
    "df24=df24.drop(columns=[\"Name_encoded\", \"nation_encoded\"])"
   ]
  },
  {
   "cell_type": "code",
   "execution_count": null,
   "id": "6d68b63c",
   "metadata": {},
   "outputs": [],
   "source": [
    "df24 = pd.get_dummies(df24, columns=['round_encoded'], prefix='round')\n"
   ]
  },
  {
   "cell_type": "code",
   "execution_count": null,
   "id": "74cf934f",
   "metadata": {},
   "outputs": [],
   "source": [
    "df24['round_4']=False"
   ]
  },
  {
   "cell_type": "code",
   "execution_count": null,
   "id": "43c99266",
   "metadata": {},
   "outputs": [],
   "source": [
    "df24=df24.drop(columns=[\"round\"])"
   ]
  },
  {
   "cell_type": "code",
   "execution_count": null,
   "id": "413146dc",
   "metadata": {},
   "outputs": [],
   "source": [
    "X_test=df24.copy()\n",
    "\n",
    "# Make predictions\n",
    "y_pred_prob = model.predict_proba(X_test)  # Get predicted probabilities\n",
    "# Adjust the decision threshold (e.g., 0.3 instead of the default 0.5)\n",
    "threshold = 0.4\n",
    "y_pred = (y_pred_prob[:, 1] > threshold).astype(int)\n",
    "\n",
    "\n",
    "y_pred\n"
   ]
  },
  {
   "cell_type": "code",
   "execution_count": null,
   "id": "549a0632",
   "metadata": {},
   "outputs": [],
   "source": [
    "# Assuming you have the encoded column 'Name_encoded'\n",
    "X_test['Name_original'] = X_test['Name'].map(name_encoding_mapping)\n"
   ]
  },
  {
   "cell_type": "code",
   "execution_count": null,
   "id": "941a175f",
   "metadata": {},
   "outputs": [],
   "source": [
    "\n",
    "new_df = pd.DataFrame({'Name_original': X_test['Name_original'], 'y_pred': y_pred})\n"
   ]
  },
  {
   "cell_type": "code",
   "execution_count": null,
   "id": "1cd19856",
   "metadata": {},
   "outputs": [],
   "source": [
    "new_df"
   ]
  },
  {
   "cell_type": "code",
   "execution_count": null,
   "id": "3cec10b4",
   "metadata": {},
   "outputs": [],
   "source": [
    "filtered_df = new_df[new_df['y_pred'] == 1]\n"
   ]
  },
  {
   "cell_type": "code",
   "execution_count": null,
   "id": "4b1b88d0",
   "metadata": {},
   "outputs": [],
   "source": [
    "filtered_df.info()"
   ]
  },
  {
   "cell_type": "code",
   "execution_count": null,
   "id": "a277e542",
   "metadata": {},
   "outputs": [],
   "source": [
    "filtered_df['Name_original'].unique()"
   ]
  },
  {
   "cell_type": "markdown",
   "id": "7cd69136",
   "metadata": {},
   "source": [
    "302 entries for class weight of 6 and thresold 0.4\n",
    "\n",
    "285 for class 3  and threshold.41"
   ]
  },
  {
   "cell_type": "code",
   "execution_count": 34,
   "id": "7ab040c5",
   "metadata": {},
   "outputs": [
    {
     "data": {
      "text/plain": [
       "Index(['Rank', 'Name', 'nation', 'D Score', 'E Score', 'Pen.', 'Total', 'year',\n",
       "       'medal', 'round_0', 'round_1', 'round_2', 'round_3', 'round_4'],\n",
       "      dtype='object')"
      ]
     },
     "execution_count": 34,
     "metadata": {},
     "output_type": "execute_result"
    }
   ],
   "source": [
    "df.columns"
   ]
  },
  {
   "cell_type": "code",
   "execution_count": 37,
   "id": "4cd50f17",
   "metadata": {},
   "outputs": [
    {
     "ename": "ValueError",
     "evalue": "The truth value of an array with more than one element is ambiguous. Use a.any() or a.all()",
     "output_type": "error",
     "traceback": [
      "\u001b[0;31m---------------------------------------------------------------------------\u001b[0m",
      "\u001b[0;31mValueError\u001b[0m                                Traceback (most recent call last)",
      "\u001b[0;32m/var/folders/j_/555m2zps099832fjh_m8jjnc0000gn/T/ipykernel_13814/1649944812.py\u001b[0m in \u001b[0;36m<cell line: 36>\u001b[0;34m()\u001b[0m\n\u001b[1;32m     44\u001b[0m     \u001b[0mh\u001b[0m \u001b[0;34m=\u001b[0m \u001b[0;36m.02\u001b[0m  \u001b[0;31m# step size in the mesh\u001b[0m\u001b[0;34m\u001b[0m\u001b[0;34m\u001b[0m\u001b[0m\n\u001b[1;32m     45\u001b[0m     xx, yy = np.meshgrid(\n\u001b[0;32m---> 46\u001b[0;31m         \u001b[0mnp\u001b[0m\u001b[0;34m.\u001b[0m\u001b[0marange\u001b[0m\u001b[0;34m(\u001b[0m\u001b[0mx_min\u001b[0m\u001b[0;34m,\u001b[0m \u001b[0mx_max\u001b[0m\u001b[0;34m,\u001b[0m \u001b[0mh\u001b[0m\u001b[0;34m)\u001b[0m\u001b[0;34m,\u001b[0m\u001b[0;34m\u001b[0m\u001b[0;34m\u001b[0m\u001b[0m\n\u001b[0m\u001b[1;32m     47\u001b[0m         \u001b[0mnp\u001b[0m\u001b[0;34m.\u001b[0m\u001b[0marange\u001b[0m\u001b[0;34m(\u001b[0m\u001b[0my_min\u001b[0m\u001b[0;34m,\u001b[0m \u001b[0my_max\u001b[0m\u001b[0;34m,\u001b[0m \u001b[0mh\u001b[0m\u001b[0;34m)\u001b[0m\u001b[0;34m\u001b[0m\u001b[0;34m\u001b[0m\u001b[0m\n\u001b[1;32m     48\u001b[0m     )\n",
      "\u001b[0;31mValueError\u001b[0m: The truth value of an array with more than one element is ambiguous. Use a.any() or a.all()"
     ]
    },
    {
     "data": {
      "image/png": "[encoded data removed]",
      "text/plain": [
       "<Figure size 1080x360 with 1 Axes>"
      ]
     },
     "metadata": {
      "needs_background": "light"
     },
     "output_type": "display_data"
    }
   ],
   "source": [
    "import matplotlib.pyplot as plt\n",
    "import numpy as np\n",
    "from matplotlib.colors import ListedColormap\n",
    "from sklearn.model_selection import train_test_split\n",
    "from sklearn.pipeline import make_pipeline\n",
    "from sklearn.preprocessing import StandardScaler\n",
    "from sklearn.svm import SVC\n",
    "from sklearn.tree import DecisionTreeClassifier\n",
    "\n",
    "# Split your data into training and test sets\n",
    "X_train, X_test, y_train, y_test = train_test_split(\n",
    "    df[['Rank', 'Name', 'nation', 'D Score', 'E Score', 'Pen.', 'Total', 'year']],\n",
    "    df['medal'],  # Replace 'medal' with your actual target column\n",
    "    test_size=0.4,\n",
    "    random_state=42\n",
    ")\n",
    "\n",
    "# Set the x and y axis limits (x_min, x_max, y_min, y_max)\n",
    "# You should define these values based on your data, e.g., using min() and max() functions\n",
    "\n",
    "# Create a list of classifiers you want to compare\n",
    "classifiers = [\n",
    "    (\"SVC\", SVC(kernel=\"linear\", C=0.025, random_state=42)),\n",
    "    (\"Decision Tree\", DecisionTreeClassifier(max_depth=5, random_state=42))\n",
    "]\n",
    "\n",
    "# Create subplots\n",
    "figure = plt.figure(figsize=(15, 5))\n",
    "i = 1\n",
    "\n",
    "# Calculate x_min, x_max, y_min, y_max based on your data\n",
    "x_min, x_max = X_train[['Rank', 'Name']].values.min(axis=0) - 0.5, X_train[['Rank', 'Name']].values.max(axis=0) + 0.5\n",
    "y_min, y_max = X_train[['Rank', 'Name']].values.min(axis=0) - 0.5, X_train[['Rank', 'Name']].values.max(axis=0) + 0.5\n",
    "\n",
    "# Iterate over classifiers\n",
    "for name, clf in classifiers:\n",
    "    ax = plt.subplot(1, len(classifiers) + 1, i)\n",
    "\n",
    "    clf = make_pipeline(StandardScaler(), clf)\n",
    "    clf.fit(X_train, y_train)\n",
    "    score = clf.score(X_test, y_test)\n",
    "\n",
    "    # Define mesh grid for decision boundary visualization\n",
    "    h = .02  # step size in the mesh\n",
    "    xx, yy = np.meshgrid(\n",
    "        np.arange(x_min, x_max, h),\n",
    "        np.arange(y_min, y_max, h)\n",
    "    )\n",
    "\n",
    "    Z = clf.predict(np.c_[xx.ravel(), yy.ravel()])\n",
    "    Z = Z.reshape(xx.shape)\n",
    "    ax.contourf(xx, yy, Z, cmap=plt.cm.RdBu, alpha=0.8)\n",
    "\n",
    "    # Rest of the code...\n",
    "\n",
    "    # Plot the training points\n",
    "    ax.scatter(X_train['Rank'], X_train['Name'], c=y_train, cmap=ListedColormap(['#FF0000', '#0000FF']), edgecolors=\"k\")\n",
    "    # Plot the testing points\n",
    "    ax.scatter(X_test['Rank'], X_test['Name'], c=y_test, cmap=ListedColormap(['#FF0000', '#0000FF']), edgecolors=\"k\", alpha=0.6)\n",
    "\n",
    "    ax.set_xlim(x_min, x_max)\n",
    "    ax.set_ylim(y_min, y_max)\n",
    "    ax.set_xticks(())\n",
    "    ax.set_yticks(())\n",
    "\n",
    "    ax.set_title(name)\n",
    "    ax.text(x_max - 0.3, y_min + 0.3, (\"%.2f\" % score).lstrip(\"0\"), size=15, horizontalalignment=\"right\")\n",
    "\n",
    "    i += 1\n",
    "\n",
    "plt.tight_layout()\n",
    "plt.show()\n"
   ]
  },
  {
   "cell_type": "code",
   "execution_count": 38,
   "id": "91f58c84",
   "metadata": {},
   "outputs": [
    {
     "name": "stderr",
     "output_type": "stream",
     "text": [
      "/Users/ryantalbot/opt/anaconda3/envs/tf2/lib/python3.9/site-packages/sklearn/base.py:465: UserWarning: X does not have valid feature names, but StandardScaler was fitted with feature names\n",
      "  warnings.warn(\n",
      "/Users/ryantalbot/opt/anaconda3/envs/tf2/lib/python3.9/site-packages/sklearn/base.py:465: UserWarning: X does not have valid feature names, but StandardScaler was fitted with feature names\n",
      "  warnings.warn(\n"
     ]
    },
    {
     "data": {
      "image/png": "[encoded data removed]",
      "text/plain": [
       "<Figure size 1080x360 with 2 Axes>"
      ]
     },
     "metadata": {},
     "output_type": "display_data"
    }
   ],
   "source": [
    "import matplotlib.pyplot as plt\n",
    "import numpy as np\n",
    "from matplotlib.colors import ListedColormap\n",
    "from sklearn.model_selection import train_test_split\n",
    "from sklearn.pipeline import make_pipeline\n",
    "from sklearn.preprocessing import StandardScaler\n",
    "from sklearn.svm import SVC\n",
    "from sklearn.tree import DecisionTreeClassifier\n",
    "\n",
    "# Split your data into training and test sets\n",
    "X_train, X_test, y_train, y_test = train_test_split(\n",
    "    df[['Rank', 'Name']],  # Replace with the columns you want to use\n",
    "    df['medal'],  # Replace with your target column\n",
    "    test_size=0.4,\n",
    "    random_state=42\n",
    ")\n",
    "\n",
    "# Define the x and y axis limits\n",
    "x_min, x_max = X_train['Rank'].min() - 0.5, X_train['Rank'].max() + 0.5\n",
    "y_min, y_max = X_train['Name'].min() - 0.5, X_train['Name'].max() + 0.5\n",
    "\n",
    "# Create a list of classifiers you want to compare\n",
    "classifiers = [\n",
    "    (\"SVC\", SVC(kernel=\"linear\", C=0.025, random_state=42)),\n",
    "    (\"Decision Tree\", DecisionTreeClassifier(max_depth=5, random_state=42))\n",
    "]\n",
    "\n",
    "# Create subplots\n",
    "figure = plt.figure(figsize=(15, 5))\n",
    "i = 1\n",
    "\n",
    "# Iterate over classifiers\n",
    "for name, clf in classifiers:\n",
    "    ax = plt.subplot(1, len(classifiers) + 1, i)\n",
    "\n",
    "    clf = make_pipeline(StandardScaler(), clf)\n",
    "    clf.fit(X_train, y_train)\n",
    "    score = clf.score(X_test, y_test)\n",
    "\n",
    "    # Define mesh grid for decision boundary visualization\n",
    "    h = .02  # step size in the mesh\n",
    "    xx, yy = np.meshgrid(\n",
    "        np.arange(x_min, x_max, h),\n",
    "        np.arange(y_min, y_max, h)\n",
    "    )\n",
    "\n",
    "    Z = clf.predict(np.c_[xx.ravel(), yy.ravel()])\n",
    "    Z = Z.reshape(xx.shape)\n",
    "    ax.contourf(xx, yy, Z, cmap=plt.cm.RdBu, alpha=0.8)\n",
    "\n",
    "    # Plot the training points\n",
    "    ax.scatter(X_train['Rank'], X_train['Name'], c=y_train, cmap=ListedColormap(['#FF0000', '#0000FF']), edgecolors=\"k\")\n",
    "\n",
    "    # Plot the testing points\n",
    "    ax.scatter(X_test['Rank'], X_test['Name'], c=y_test, cmap=ListedColormap(['#FF0000', '#0000FF']), edgecolors=\"k\", alpha=0.6)\n",
    "\n",
    "    ax.set_xlim(x_min, x_max)\n",
    "    ax.set_ylim(y_min, y_max)\n",
    "    ax.set_xticks(())\n",
    "    ax.set_yticks(())\n",
    "\n",
    "    ax.set_title(name)\n",
    "    ax.text(x_max - 0.3, y_min + 0.3, (\"%.2f\" % score).lstrip(\"0\"), size=15, horizontalalignment=\"right\")\n",
    "\n",
    "    i += 1\n",
    "\n",
    "plt.tight_layout()\n",
    "plt.show()\n",
    "\n"
   ]
  },
  {
   "cell_type": "code",
   "execution_count": 42,
   "id": "dd8b9e48",
   "metadata": {},
   "outputs": [
    {
     "name": "stderr",
     "output_type": "stream",
     "text": [
      "/Users/ryantalbot/opt/anaconda3/envs/tf2/lib/python3.9/site-packages/sklearn/base.py:465: UserWarning: X does not have valid feature names, but StandardScaler was fitted with feature names\n",
      "  warnings.warn(\n"
     ]
    },
    {
     "ename": "ValueError",
     "evalue": "X has 2 features, but StandardScaler is expecting 8 features as input.",
     "output_type": "error",
     "traceback": [
      "\u001b[0;31m---------------------------------------------------------------------------\u001b[0m",
      "\u001b[0;31mValueError\u001b[0m                                Traceback (most recent call last)",
      "\u001b[0;32m/var/folders/j_/555m2zps099832fjh_m8jjnc0000gn/T/ipykernel_13814/1305845731.py\u001b[0m in \u001b[0;36m<cell line: 38>\u001b[0;34m()\u001b[0m\n\u001b[1;32m     50\u001b[0m     )\n\u001b[1;32m     51\u001b[0m \u001b[0;34m\u001b[0m\u001b[0m\n\u001b[0;32m---> 52\u001b[0;31m     \u001b[0mZ\u001b[0m \u001b[0;34m=\u001b[0m \u001b[0mclf\u001b[0m\u001b[0;34m.\u001b[0m\u001b[0mpredict\u001b[0m\u001b[0;34m(\u001b[0m\u001b[0mnp\u001b[0m\u001b[0;34m.\u001b[0m\u001b[0mc_\u001b[0m\u001b[0;34m[\u001b[0m\u001b[0mxx\u001b[0m\u001b[0;34m.\u001b[0m\u001b[0mravel\u001b[0m\u001b[0;34m(\u001b[0m\u001b[0;34m)\u001b[0m\u001b[0;34m,\u001b[0m \u001b[0myy\u001b[0m\u001b[0;34m.\u001b[0m\u001b[0mravel\u001b[0m\u001b[0;34m(\u001b[0m\u001b[0;34m)\u001b[0m\u001b[0;34m]\u001b[0m\u001b[0;34m)\u001b[0m\u001b[0;34m\u001b[0m\u001b[0;34m\u001b[0m\u001b[0m\n\u001b[0m\u001b[1;32m     53\u001b[0m     \u001b[0mZ\u001b[0m \u001b[0;34m=\u001b[0m \u001b[0mZ\u001b[0m\u001b[0;34m.\u001b[0m\u001b[0mreshape\u001b[0m\u001b[0;34m(\u001b[0m\u001b[0mxx\u001b[0m\u001b[0;34m.\u001b[0m\u001b[0mshape\u001b[0m\u001b[0;34m)\u001b[0m\u001b[0;34m\u001b[0m\u001b[0;34m\u001b[0m\u001b[0m\n\u001b[1;32m     54\u001b[0m     \u001b[0max\u001b[0m\u001b[0;34m.\u001b[0m\u001b[0mcontourf\u001b[0m\u001b[0;34m(\u001b[0m\u001b[0mxx\u001b[0m\u001b[0;34m,\u001b[0m \u001b[0myy\u001b[0m\u001b[0;34m,\u001b[0m \u001b[0mZ\u001b[0m\u001b[0;34m,\u001b[0m \u001b[0mcmap\u001b[0m\u001b[0;34m=\u001b[0m\u001b[0mplt\u001b[0m\u001b[0;34m.\u001b[0m\u001b[0mcm\u001b[0m\u001b[0;34m.\u001b[0m\u001b[0mRdBu\u001b[0m\u001b[0;34m,\u001b[0m \u001b[0malpha\u001b[0m\u001b[0;34m=\u001b[0m\u001b[0;36m0.8\u001b[0m\u001b[0;34m)\u001b[0m\u001b[0;34m\u001b[0m\u001b[0;34m\u001b[0m\u001b[0m\n",
      "\u001b[0;32m~/opt/anaconda3/envs/tf2/lib/python3.9/site-packages/sklearn/pipeline.py\u001b[0m in \u001b[0;36mpredict\u001b[0;34m(self, X, **predict_params)\u001b[0m\n\u001b[1;32m    512\u001b[0m         \u001b[0mXt\u001b[0m \u001b[0;34m=\u001b[0m \u001b[0mX\u001b[0m\u001b[0;34m\u001b[0m\u001b[0;34m\u001b[0m\u001b[0m\n\u001b[1;32m    513\u001b[0m         \u001b[0;32mfor\u001b[0m \u001b[0m_\u001b[0m\u001b[0;34m,\u001b[0m \u001b[0mname\u001b[0m\u001b[0;34m,\u001b[0m \u001b[0mtransform\u001b[0m \u001b[0;32min\u001b[0m \u001b[0mself\u001b[0m\u001b[0;34m.\u001b[0m\u001b[0m_iter\u001b[0m\u001b[0;34m(\u001b[0m\u001b[0mwith_final\u001b[0m\u001b[0;34m=\u001b[0m\u001b[0;32mFalse\u001b[0m\u001b[0;34m)\u001b[0m\u001b[0;34m:\u001b[0m\u001b[0;34m\u001b[0m\u001b[0;34m\u001b[0m\u001b[0m\n\u001b[0;32m--> 514\u001b[0;31m             \u001b[0mXt\u001b[0m \u001b[0;34m=\u001b[0m \u001b[0mtransform\u001b[0m\u001b[0;34m.\u001b[0m\u001b[0mtransform\u001b[0m\u001b[0;34m(\u001b[0m\u001b[0mXt\u001b[0m\u001b[0;34m)\u001b[0m\u001b[0;34m\u001b[0m\u001b[0;34m\u001b[0m\u001b[0m\n\u001b[0m\u001b[1;32m    515\u001b[0m         \u001b[0;32mreturn\u001b[0m \u001b[0mself\u001b[0m\u001b[0;34m.\u001b[0m\u001b[0msteps\u001b[0m\u001b[0;34m[\u001b[0m\u001b[0;34m-\u001b[0m\u001b[0;36m1\u001b[0m\u001b[0;34m]\u001b[0m\u001b[0;34m[\u001b[0m\u001b[0;36m1\u001b[0m\u001b[0;34m]\u001b[0m\u001b[0;34m.\u001b[0m\u001b[0mpredict\u001b[0m\u001b[0;34m(\u001b[0m\u001b[0mXt\u001b[0m\u001b[0;34m,\u001b[0m \u001b[0;34m**\u001b[0m\u001b[0mpredict_params\u001b[0m\u001b[0;34m)\u001b[0m\u001b[0;34m\u001b[0m\u001b[0;34m\u001b[0m\u001b[0m\n\u001b[1;32m    516\u001b[0m \u001b[0;34m\u001b[0m\u001b[0m\n",
      "\u001b[0;32m~/opt/anaconda3/envs/tf2/lib/python3.9/site-packages/sklearn/utils/_set_output.py\u001b[0m in \u001b[0;36mwrapped\u001b[0;34m(self, X, *args, **kwargs)\u001b[0m\n\u001b[1;32m    155\u001b[0m     \u001b[0;34m@\u001b[0m\u001b[0mwraps\u001b[0m\u001b[0;34m(\u001b[0m\u001b[0mf\u001b[0m\u001b[0;34m)\u001b[0m\u001b[0;34m\u001b[0m\u001b[0;34m\u001b[0m\u001b[0m\n\u001b[1;32m    156\u001b[0m     \u001b[0;32mdef\u001b[0m \u001b[0mwrapped\u001b[0m\u001b[0;34m(\u001b[0m\u001b[0mself\u001b[0m\u001b[0;34m,\u001b[0m \u001b[0mX\u001b[0m\u001b[0;34m,\u001b[0m \u001b[0;34m*\u001b[0m\u001b[0margs\u001b[0m\u001b[0;34m,\u001b[0m \u001b[0;34m**\u001b[0m\u001b[0mkwargs\u001b[0m\u001b[0;34m)\u001b[0m\u001b[0;34m:\u001b[0m\u001b[0;34m\u001b[0m\u001b[0;34m\u001b[0m\u001b[0m\n\u001b[0;32m--> 157\u001b[0;31m         \u001b[0mdata_to_wrap\u001b[0m \u001b[0;34m=\u001b[0m \u001b[0mf\u001b[0m\u001b[0;34m(\u001b[0m\u001b[0mself\u001b[0m\u001b[0;34m,\u001b[0m \u001b[0mX\u001b[0m\u001b[0;34m,\u001b[0m \u001b[0;34m*\u001b[0m\u001b[0margs\u001b[0m\u001b[0;34m,\u001b[0m \u001b[0;34m**\u001b[0m\u001b[0mkwargs\u001b[0m\u001b[0;34m)\u001b[0m\u001b[0;34m\u001b[0m\u001b[0;34m\u001b[0m\u001b[0m\n\u001b[0m\u001b[1;32m    158\u001b[0m         \u001b[0;32mif\u001b[0m \u001b[0misinstance\u001b[0m\u001b[0;34m(\u001b[0m\u001b[0mdata_to_wrap\u001b[0m\u001b[0;34m,\u001b[0m \u001b[0mtuple\u001b[0m\u001b[0;34m)\u001b[0m\u001b[0;34m:\u001b[0m\u001b[0;34m\u001b[0m\u001b[0;34m\u001b[0m\u001b[0m\n\u001b[1;32m    159\u001b[0m             \u001b[0;31m# only wrap the first output for cross decomposition\u001b[0m\u001b[0;34m\u001b[0m\u001b[0;34m\u001b[0m\u001b[0m\n",
      "\u001b[0;32m~/opt/anaconda3/envs/tf2/lib/python3.9/site-packages/sklearn/preprocessing/_data.py\u001b[0m in \u001b[0;36mtransform\u001b[0;34m(self, X, copy)\u001b[0m\n\u001b[1;32m   1004\u001b[0m \u001b[0;34m\u001b[0m\u001b[0m\n\u001b[1;32m   1005\u001b[0m         \u001b[0mcopy\u001b[0m \u001b[0;34m=\u001b[0m \u001b[0mcopy\u001b[0m \u001b[0;32mif\u001b[0m \u001b[0mcopy\u001b[0m \u001b[0;32mis\u001b[0m \u001b[0;32mnot\u001b[0m \u001b[0;32mNone\u001b[0m \u001b[0;32melse\u001b[0m \u001b[0mself\u001b[0m\u001b[0;34m.\u001b[0m\u001b[0mcopy\u001b[0m\u001b[0;34m\u001b[0m\u001b[0;34m\u001b[0m\u001b[0m\n\u001b[0;32m-> 1006\u001b[0;31m         X = self._validate_data(\n\u001b[0m\u001b[1;32m   1007\u001b[0m             \u001b[0mX\u001b[0m\u001b[0;34m,\u001b[0m\u001b[0;34m\u001b[0m\u001b[0;34m\u001b[0m\u001b[0m\n\u001b[1;32m   1008\u001b[0m             \u001b[0mreset\u001b[0m\u001b[0;34m=\u001b[0m\u001b[0;32mFalse\u001b[0m\u001b[0;34m,\u001b[0m\u001b[0;34m\u001b[0m\u001b[0;34m\u001b[0m\u001b[0m\n",
      "\u001b[0;32m~/opt/anaconda3/envs/tf2/lib/python3.9/site-packages/sklearn/base.py\u001b[0m in \u001b[0;36m_validate_data\u001b[0;34m(self, X, y, reset, validate_separately, cast_to_ndarray, **check_params)\u001b[0m\n\u001b[1;32m    624\u001b[0m \u001b[0;34m\u001b[0m\u001b[0m\n\u001b[1;32m    625\u001b[0m         \u001b[0;32mif\u001b[0m \u001b[0;32mnot\u001b[0m \u001b[0mno_val_X\u001b[0m \u001b[0;32mand\u001b[0m \u001b[0mcheck_params\u001b[0m\u001b[0;34m.\u001b[0m\u001b[0mget\u001b[0m\u001b[0;34m(\u001b[0m\u001b[0;34m\"ensure_2d\"\u001b[0m\u001b[0;34m,\u001b[0m \u001b[0;32mTrue\u001b[0m\u001b[0;34m)\u001b[0m\u001b[0;34m:\u001b[0m\u001b[0;34m\u001b[0m\u001b[0;34m\u001b[0m\u001b[0m\n\u001b[0;32m--> 626\u001b[0;31m             \u001b[0mself\u001b[0m\u001b[0;34m.\u001b[0m\u001b[0m_check_n_features\u001b[0m\u001b[0;34m(\u001b[0m\u001b[0mX\u001b[0m\u001b[0;34m,\u001b[0m \u001b[0mreset\u001b[0m\u001b[0;34m=\u001b[0m\u001b[0mreset\u001b[0m\u001b[0;34m)\u001b[0m\u001b[0;34m\u001b[0m\u001b[0;34m\u001b[0m\u001b[0m\n\u001b[0m\u001b[1;32m    627\u001b[0m \u001b[0;34m\u001b[0m\u001b[0m\n\u001b[1;32m    628\u001b[0m         \u001b[0;32mreturn\u001b[0m \u001b[0mout\u001b[0m\u001b[0;34m\u001b[0m\u001b[0;34m\u001b[0m\u001b[0m\n",
      "\u001b[0;32m~/opt/anaconda3/envs/tf2/lib/python3.9/site-packages/sklearn/base.py\u001b[0m in \u001b[0;36m_check_n_features\u001b[0;34m(self, X, reset)\u001b[0m\n\u001b[1;32m    413\u001b[0m \u001b[0;34m\u001b[0m\u001b[0m\n\u001b[1;32m    414\u001b[0m         \u001b[0;32mif\u001b[0m \u001b[0mn_features\u001b[0m \u001b[0;34m!=\u001b[0m \u001b[0mself\u001b[0m\u001b[0;34m.\u001b[0m\u001b[0mn_features_in_\u001b[0m\u001b[0;34m:\u001b[0m\u001b[0;34m\u001b[0m\u001b[0;34m\u001b[0m\u001b[0m\n\u001b[0;32m--> 415\u001b[0;31m             raise ValueError(\n\u001b[0m\u001b[1;32m    416\u001b[0m                 \u001b[0;34mf\"X has {n_features} features, but {self.__class__.__name__} \"\u001b[0m\u001b[0;34m\u001b[0m\u001b[0;34m\u001b[0m\u001b[0m\n\u001b[1;32m    417\u001b[0m                 \u001b[0;34mf\"is expecting {self.n_features_in_} features as input.\"\u001b[0m\u001b[0;34m\u001b[0m\u001b[0;34m\u001b[0m\u001b[0m\n",
      "\u001b[0;31mValueError\u001b[0m: X has 2 features, but StandardScaler is expecting 8 features as input."
     ]
    },
    {
     "data": {
      "image/png": "[encoded data removed]",
      "text/plain": [
       "<Figure size 1080x360 with 1 Axes>"
      ]
     },
     "metadata": {
      "needs_background": "light"
     },
     "output_type": "display_data"
    }
   ],
   "source": [
    "import matplotlib.pyplot as plt\n",
    "import numpy as np\n",
    "from matplotlib.colors import ListedColormap\n",
    "from sklearn.decomposition import PCA\n",
    "from sklearn.model_selection import train_test_split\n",
    "from sklearn.pipeline import make_pipeline\n",
    "from sklearn.preprocessing import StandardScaler\n",
    "from sklearn.svm import SVC\n",
    "from sklearn.tree import DecisionTreeClassifier\n",
    "\n",
    "# Split your data into training and test sets\n",
    "X_train, X_test, y_train, y_test = train_test_split(\n",
    "    df[['Rank', 'Name', 'nation', 'D Score', 'E Score', 'Pen.', 'Total', 'year']],\n",
    "    df['medal'],  # Replace 'medal' with your actual target column\n",
    "    test_size=0.4,\n",
    "    random_state=42\n",
    ")\n",
    "\n",
    "# Reduce dimensionality using PCA for visualization\n",
    "pca = PCA(n_components=2)\n",
    "X_train_pca = pca.fit_transform(X_train)\n",
    "\n",
    "# Define the x and y axis limits\n",
    "x_min, x_max = X_train_pca[:, 0].min() - 0.5, X_train_pca[:, 0].max() + 0.5\n",
    "y_min, y_max = X_train_pca[:, 1].min() - 0.5, X_train_pca[:, 1].max() + 0.5\n",
    "\n",
    "# Create a list of classifiers you want to compare\n",
    "classifiers = [\n",
    "    (\"SVC\", SVC(kernel=\"linear\", C=0.025, random_state=42)),\n",
    "    (\"Decision Tree\", DecisionTreeClassifier(max_depth=5, random_state=42))\n",
    "]\n",
    "\n",
    "# Create subplots\n",
    "figure = plt.figure(figsize=(15, 5))\n",
    "i = 1\n",
    "\n",
    "# Iterate over classifiers\n",
    "for name, clf in classifiers:\n",
    "    ax = plt.subplot(1, len(classifiers) + 1, i)\n",
    "\n",
    "    clf = make_pipeline(StandardScaler(), clf)\n",
    "    clf.fit(X_train, y_train)\n",
    "    score = clf.score(X_test, y_test)\n",
    "\n",
    "    # Define mesh grid for decision boundary visualization\n",
    "    h = .02  # step size in the mesh\n",
    "    xx, yy = np.meshgrid(\n",
    "        np.arange(x_min, x_max, h),\n",
    "        np.arange(y_min, y_max, h)\n",
    "    )\n",
    "\n",
    "    Z = clf.predict(np.c_[xx.ravel(), yy.ravel()])\n",
    "    Z = Z.reshape(xx.shape)\n",
    "    ax.contourf(xx, yy, Z, cmap=plt.cm.RdBu, alpha=0.8)\n",
    "\n",
    "    # Plot the training points\n",
    "    ax.scatter(X_train_pca[:, 0], X_train_pca[:, 1], c=y_train, cmap=ListedColormap(['#FF0000', '#0000FF']), edgecolors=\"k\")\n",
    "\n",
    "    # Plot the testing points\n",
    "    X_test_pca = pca.transform(X_test)\n",
    "    ax.scatter(X_test_pca[:, 0], X_test_pca[:, 1], c=y_test, cmap=ListedColormap(['#FF0000', '#0000FF']), edgecolors=\"k\", alpha=0.6)\n",
    "\n",
    "    ax.set_xlim(x_min, x_max)\n",
    "    ax.set_ylim(y_min, y_max)\n",
    "    ax.set_xticks(())\n",
    "    ax.set_yticks(())\n",
    "\n",
    "    ax.set_title(name)\n",
    "    ax.text(x_max - 0.3, y_min + 0.3, (\"%.2f\" % score).lstrip(\"0\"), size=15, horizontalalignment=\"right\")\n",
    "\n",
    "    i += 1\n",
    "\n",
    "plt.tight_layout()\n",
    "plt.show()\n"
   ]
  },
  {
   "cell_type": "code",
   "execution_count": null,
   "id": "6a644266",
   "metadata": {},
   "outputs": [],
   "source": []
  }
 ],
 "metadata": {
  "kernelspec": {
   "display_name": "Python 3 (ipykernel)",
   "language": "python",
   "name": "python3"
  },
  "language_info": {
   "codemirror_mode": {
    "name": "ipython",
    "version": 3
   },
   "file_extension": ".py",
   "mimetype": "text/x-python",
   "name": "python",
   "nbconvert_exporter": "python",
   "pygments_lexer": "ipython3",
   "version": "3.9.12"
  }
 },
 "nbformat": 4,
 "nbformat_minor": 5
}
