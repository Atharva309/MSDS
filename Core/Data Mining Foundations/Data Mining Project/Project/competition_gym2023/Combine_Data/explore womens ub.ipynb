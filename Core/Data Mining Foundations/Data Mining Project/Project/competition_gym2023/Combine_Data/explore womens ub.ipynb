{
 "cells": [
  {
   "cell_type": "markdown",
   "id": "246c90ce",
   "metadata": {},
   "source": [
    "### Total: 17\n",
    "\n",
    "2016\n",
    "- 8\n",
    "\n",
    "2020\n",
    "- 9"
   ]
  },
  {
   "cell_type": "code",
   "execution_count": 21,
   "id": "a16fa12b",
   "metadata": {},
   "outputs": [],
   "source": [
    "import pandas as pd\n",
    "import numpy as np"
   ]
  },
  {
   "cell_type": "code",
   "execution_count": 22,
   "id": "1542f793",
   "metadata": {},
   "outputs": [],
   "source": [
    "df = pd.read_csv('ub_w.csv')"
   ]
  },
  {
   "cell_type": "markdown",
   "id": "27fc8843",
   "metadata": {},
   "source": [
    "## 2016\n",
    "\n",
    "1. liya mustafina (RUS) \n",
    "2. madison kocian (USA) \t\n",
    "3. sophie scheder (GER)\n",
    "\n",
    "## 2020\n",
    "\n",
    "1. nina derwael (BEL) \t\n",
    "2. anastasia ilyankova (ROC)  - 1 comp\t\n",
    "3. sunisa lee (USA) - 1 comp\n"
   ]
  },
  {
   "cell_type": "code",
   "execution_count": 23,
   "id": "7fa23fa5",
   "metadata": {},
   "outputs": [
    {
     "data": {
      "text/plain": [
       "year\n",
       "2023    644\n",
       "2022    586\n",
       "2021    200\n",
       "2019    109\n",
       "2015     65\n",
       "2014     54\n",
       "2013     46\n",
       "2018     16\n",
       "2020      8\n",
       "2011      8\n",
       "2017      8\n",
       "2016      8\n",
       "Name: count, dtype: int64"
      ]
     },
     "execution_count": 23,
     "metadata": {},
     "output_type": "execute_result"
    }
   ],
   "source": [
    "df['year'].value_counts()"
   ]
  },
  {
   "cell_type": "code",
   "execution_count": 24,
   "id": "59c4ce5f",
   "metadata": {},
   "outputs": [],
   "source": [
    "df = pd.read_csv('ub_w.csv')\n",
    "df['Name'] = df['Name'].str.lower()"
   ]
  },
  {
   "cell_type": "code",
   "execution_count": 25,
   "id": "b0706e55",
   "metadata": {},
   "outputs": [],
   "source": [
    "df['Name'] = df['Name'].str.lower()"
   ]
  },
  {
   "cell_type": "code",
   "execution_count": 26,
   "id": "510b93fa",
   "metadata": {},
   "outputs": [],
   "source": [
    "df12 = df[df['year'].isin([2011])].copy()\n",
    "df16 = df[df['year'].isin([2013, 2014, 2015, 2016])].copy()\n",
    "df20 = df[df['year'].isin([2017, 2018, 2019, 2020])].copy()\n",
    "df24 = df[df['year'].isin([2022, 2023])].copy()"
   ]
  },
  {
   "cell_type": "code",
   "execution_count": 27,
   "id": "c1f8beba",
   "metadata": {},
   "outputs": [],
   "source": [
    "# Define a function to assign medal values based on the \"Name\" column\n",
    "def assign_medal(name):\n",
    "    name_lower = name.lower()\n",
    "    if name_lower == 'aliya mustafina':\n",
    "        return 1\n",
    "    elif name_lower == 'madison kocian':\n",
    "        return 1\n",
    "    elif name_lower == 'sophie scheder':\n",
    "        return 1\n",
    "    else:\n",
    "        return 0\n",
    "\n",
    "# Apply the function to create the \"medal\" column\n",
    "df16['medal'] = df16['Name'].apply(assign_medal)\n"
   ]
  },
  {
   "cell_type": "code",
   "execution_count": 28,
   "id": "e23924fa",
   "metadata": {},
   "outputs": [
    {
     "data": {
      "text/plain": [
       "medal\n",
       "0    165\n",
       "1      8\n",
       "Name: count, dtype: int64"
      ]
     },
     "execution_count": 28,
     "metadata": {},
     "output_type": "execute_result"
    }
   ],
   "source": [
    "df16['medal'].value_counts()"
   ]
  },
  {
   "cell_type": "code",
   "execution_count": 29,
   "id": "41a36e0b",
   "metadata": {},
   "outputs": [
    {
     "data": {
      "text/html": [
       "<div>\n",
       "<style scoped>\n",
       "    .dataframe tbody tr th:only-of-type {\n",
       "        vertical-align: middle;\n",
       "    }\n",
       "\n",
       "    .dataframe tbody tr th {\n",
       "        vertical-align: top;\n",
       "    }\n",
       "\n",
       "    .dataframe thead th {\n",
       "        text-align: right;\n",
       "    }\n",
       "</style>\n",
       "<table border=\"1\" class=\"dataframe\">\n",
       "  <thead>\n",
       "    <tr style=\"text-align: right;\">\n",
       "      <th></th>\n",
       "      <th>Rank</th>\n",
       "      <th>Name</th>\n",
       "      <th>nation</th>\n",
       "      <th>D Score</th>\n",
       "      <th>E Score</th>\n",
       "      <th>Pen.</th>\n",
       "      <th>Total</th>\n",
       "      <th>year</th>\n",
       "      <th>round</th>\n",
       "      <th>medal</th>\n",
       "    </tr>\n",
       "  </thead>\n",
       "  <tbody>\n",
       "    <tr>\n",
       "      <th>1432</th>\n",
       "      <td>3.0</td>\n",
       "      <td>aliya mustafina</td>\n",
       "      <td>RUS</td>\n",
       "      <td>6.5</td>\n",
       "      <td>8.533</td>\n",
       "      <td>0.0</td>\n",
       "      <td>15.033</td>\n",
       "      <td>2013</td>\n",
       "      <td>final</td>\n",
       "      <td>1</td>\n",
       "    </tr>\n",
       "    <tr>\n",
       "      <th>1443</th>\n",
       "      <td>6.0</td>\n",
       "      <td>aliya mustafina</td>\n",
       "      <td>RUS</td>\n",
       "      <td>6.3</td>\n",
       "      <td>8.800</td>\n",
       "      <td>0.0</td>\n",
       "      <td>15.100</td>\n",
       "      <td>2014</td>\n",
       "      <td>final</td>\n",
       "      <td>1</td>\n",
       "    </tr>\n",
       "  </tbody>\n",
       "</table>\n",
       "</div>"
      ],
      "text/plain": [
       "      Rank             Name nation  D Score  E Score  Pen.   Total  year  \\\n",
       "1432   3.0  aliya mustafina    RUS      6.5    8.533   0.0  15.033  2013   \n",
       "1443   6.0  aliya mustafina    RUS      6.3    8.800   0.0  15.100  2014   \n",
       "\n",
       "      round  medal  \n",
       "1432  final      1  \n",
       "1443  final      1  "
      ]
     },
     "execution_count": 29,
     "metadata": {},
     "output_type": "execute_result"
    }
   ],
   "source": [
    "df16[df16['Name']== 'aliya mustafina']"
   ]
  },
  {
   "cell_type": "code",
   "execution_count": 30,
   "id": "8333f9f6",
   "metadata": {},
   "outputs": [
    {
     "data": {
      "text/html": [
       "<div>\n",
       "<style scoped>\n",
       "    .dataframe tbody tr th:only-of-type {\n",
       "        vertical-align: middle;\n",
       "    }\n",
       "\n",
       "    .dataframe tbody tr th {\n",
       "        vertical-align: top;\n",
       "    }\n",
       "\n",
       "    .dataframe thead th {\n",
       "        text-align: right;\n",
       "    }\n",
       "</style>\n",
       "<table border=\"1\" class=\"dataframe\">\n",
       "  <thead>\n",
       "    <tr style=\"text-align: right;\">\n",
       "      <th></th>\n",
       "      <th>Rank</th>\n",
       "      <th>Name</th>\n",
       "      <th>nation</th>\n",
       "      <th>D Score</th>\n",
       "      <th>E Score</th>\n",
       "      <th>Pen.</th>\n",
       "      <th>Total</th>\n",
       "      <th>year</th>\n",
       "      <th>round</th>\n",
       "      <th>medal</th>\n",
       "    </tr>\n",
       "  </thead>\n",
       "  <tbody>\n",
       "    <tr>\n",
       "      <th>1449</th>\n",
       "      <td>1.0</td>\n",
       "      <td>madison kocian</td>\n",
       "      <td>USA</td>\n",
       "      <td>6.6</td>\n",
       "      <td>8.766</td>\n",
       "      <td>0.0</td>\n",
       "      <td>15.366</td>\n",
       "      <td>2015</td>\n",
       "      <td>final</td>\n",
       "      <td>1</td>\n",
       "    </tr>\n",
       "    <tr>\n",
       "      <th>1703</th>\n",
       "      <td>2.0</td>\n",
       "      <td>madison kocian</td>\n",
       "      <td>USA</td>\n",
       "      <td>6.3</td>\n",
       "      <td>8.525</td>\n",
       "      <td>0.0</td>\n",
       "      <td>14.825</td>\n",
       "      <td>2014</td>\n",
       "      <td>final</td>\n",
       "      <td>1</td>\n",
       "    </tr>\n",
       "  </tbody>\n",
       "</table>\n",
       "</div>"
      ],
      "text/plain": [
       "      Rank            Name nation  D Score  E Score  Pen.   Total  year  \\\n",
       "1449   1.0  madison kocian    USA      6.6    8.766   0.0  15.366  2015   \n",
       "1703   2.0  madison kocian    USA      6.3    8.525   0.0  14.825  2014   \n",
       "\n",
       "      round  medal  \n",
       "1449  final      1  \n",
       "1703  final      1  "
      ]
     },
     "execution_count": 30,
     "metadata": {},
     "output_type": "execute_result"
    }
   ],
   "source": [
    "df16[df16['Name']== 'madison kocian']"
   ]
  },
  {
   "cell_type": "code",
   "execution_count": 31,
   "id": "b790acf7",
   "metadata": {},
   "outputs": [
    {
     "data": {
      "text/html": [
       "<div>\n",
       "<style scoped>\n",
       "    .dataframe tbody tr th:only-of-type {\n",
       "        vertical-align: middle;\n",
       "    }\n",
       "\n",
       "    .dataframe tbody tr th {\n",
       "        vertical-align: top;\n",
       "    }\n",
       "\n",
       "    .dataframe thead th {\n",
       "        text-align: right;\n",
       "    }\n",
       "</style>\n",
       "<table border=\"1\" class=\"dataframe\">\n",
       "  <thead>\n",
       "    <tr style=\"text-align: right;\">\n",
       "      <th></th>\n",
       "      <th>Rank</th>\n",
       "      <th>Name</th>\n",
       "      <th>nation</th>\n",
       "      <th>D Score</th>\n",
       "      <th>E Score</th>\n",
       "      <th>Pen.</th>\n",
       "      <th>Total</th>\n",
       "      <th>year</th>\n",
       "      <th>round</th>\n",
       "      <th>medal</th>\n",
       "    </tr>\n",
       "  </thead>\n",
       "  <tbody>\n",
       "    <tr>\n",
       "      <th>1363</th>\n",
       "      <td>5.0</td>\n",
       "      <td>sophie scheder</td>\n",
       "      <td>GER</td>\n",
       "      <td>6.2</td>\n",
       "      <td>7.100</td>\n",
       "      <td>0.0</td>\n",
       "      <td>13.300</td>\n",
       "      <td>2013</td>\n",
       "      <td>final</td>\n",
       "      <td>1</td>\n",
       "    </tr>\n",
       "    <tr>\n",
       "      <th>1368</th>\n",
       "      <td>2.0</td>\n",
       "      <td>sophie scheder</td>\n",
       "      <td>GER</td>\n",
       "      <td>6.2</td>\n",
       "      <td>8.100</td>\n",
       "      <td>0.0</td>\n",
       "      <td>14.300</td>\n",
       "      <td>2013</td>\n",
       "      <td>qual</td>\n",
       "      <td>1</td>\n",
       "    </tr>\n",
       "    <tr>\n",
       "      <th>1434</th>\n",
       "      <td>5.0</td>\n",
       "      <td>sophie scheder</td>\n",
       "      <td>GER</td>\n",
       "      <td>6.4</td>\n",
       "      <td>8.283</td>\n",
       "      <td>0.0</td>\n",
       "      <td>14.683</td>\n",
       "      <td>2013</td>\n",
       "      <td>final</td>\n",
       "      <td>1</td>\n",
       "    </tr>\n",
       "    <tr>\n",
       "      <th>1453</th>\n",
       "      <td>8.0</td>\n",
       "      <td>sophie scheder</td>\n",
       "      <td>GER</td>\n",
       "      <td>6.6</td>\n",
       "      <td>8.000</td>\n",
       "      <td>0.0</td>\n",
       "      <td>14.600</td>\n",
       "      <td>2015</td>\n",
       "      <td>final</td>\n",
       "      <td>1</td>\n",
       "    </tr>\n",
       "  </tbody>\n",
       "</table>\n",
       "</div>"
      ],
      "text/plain": [
       "      Rank            Name nation  D Score  E Score  Pen.   Total  year  \\\n",
       "1363   5.0  sophie scheder    GER      6.2    7.100   0.0  13.300  2013   \n",
       "1368   2.0  sophie scheder    GER      6.2    8.100   0.0  14.300  2013   \n",
       "1434   5.0  sophie scheder    GER      6.4    8.283   0.0  14.683  2013   \n",
       "1453   8.0  sophie scheder    GER      6.6    8.000   0.0  14.600  2015   \n",
       "\n",
       "      round  medal  \n",
       "1363  final      1  \n",
       "1368   qual      1  \n",
       "1434  final      1  \n",
       "1453  final      1  "
      ]
     },
     "execution_count": 31,
     "metadata": {},
     "output_type": "execute_result"
    }
   ],
   "source": [
    "df16[df16['Name']== 'sophie scheder']"
   ]
  },
  {
   "cell_type": "code",
   "execution_count": null,
   "id": "78f625eb",
   "metadata": {},
   "outputs": [],
   "source": []
  },
  {
   "cell_type": "code",
   "execution_count": 32,
   "id": "5eef5461",
   "metadata": {},
   "outputs": [],
   "source": [
    "# Define a function to assign medal values based on the \"Name\" column\n",
    "def assign_medal(name):\n",
    "    name_lower = name.lower()\n",
    "    if name_lower == 'nina derwael':\n",
    "        return 1\n",
    "    elif name_lower == 'anastasia ilyankova':\n",
    "        return 1\n",
    "    elif name_lower == 'sunisa lee':\n",
    "        return 1\n",
    "    else:\n",
    "        return 0\n",
    "\n",
    "# Apply the function to create the \"medal\" column\n",
    "df20['medal'] = df20['Name'].apply(assign_medal)\n"
   ]
  },
  {
   "cell_type": "code",
   "execution_count": null,
   "id": "992d053b",
   "metadata": {},
   "outputs": [],
   "source": []
  },
  {
   "cell_type": "code",
   "execution_count": 33,
   "id": "7445e76f",
   "metadata": {},
   "outputs": [
    {
     "data": {
      "text/plain": [
       "medal\n",
       "0    132\n",
       "1      9\n",
       "Name: count, dtype: int64"
      ]
     },
     "execution_count": 33,
     "metadata": {},
     "output_type": "execute_result"
    }
   ],
   "source": [
    "df20['medal'].value_counts()"
   ]
  },
  {
   "cell_type": "code",
   "execution_count": 34,
   "id": "2bcebce2",
   "metadata": {},
   "outputs": [
    {
     "name": "stdout",
     "output_type": "stream",
     "text": [
      "aliya Mustafina: 2\n",
      "Madison Kocian: 2\n",
      "Sophie Scheder: 4\n"
     ]
    }
   ],
   "source": [
    "# Assuming you have a DataFrame named 'df'\n",
    "name_counts = df16['Name'].value_counts()\n",
    "\n",
    "# Print the counts for each name\n",
    "print(\"aliya Mustafina:\", name_counts.get(\"aliya mustafina\", 0))\n",
    "print(\"Madison Kocian:\", name_counts.get(\"madison kocian\", 0))\n",
    "print(\"Sophie Scheder:\", name_counts.get(\"sophie scheder\", 0))"
   ]
  },
  {
   "cell_type": "code",
   "execution_count": 35,
   "id": "7d82d2fb",
   "metadata": {},
   "outputs": [
    {
     "name": "stdout",
     "output_type": "stream",
     "text": [
      "nina derwael: 7\n",
      "anastasia ilyankova: 1\n",
      "sunisa lee: 1\n"
     ]
    }
   ],
   "source": [
    "# Assuming you have a DataFrame named 'df'\n",
    "name_counts = df20['Name'].value_counts()\n",
    "\n",
    "print(\"nina derwael:\", name_counts.get(\"nina derwael\", 0))\n",
    "print(\"anastasia ilyankova:\", name_counts.get(\"anastasia ilyankova\", 0))\n",
    "print(\"sunisa lee:\", name_counts.get(\"sunisa lee\", 0))"
   ]
  },
  {
   "cell_type": "code",
   "execution_count": 36,
   "id": "f0eda1b4",
   "metadata": {},
   "outputs": [],
   "source": [
    "combined_df = pd.concat([df20, df16], axis=0)"
   ]
  },
  {
   "cell_type": "code",
   "execution_count": 37,
   "id": "921bf4ce",
   "metadata": {},
   "outputs": [],
   "source": [
    "df = combined_df.copy()"
   ]
  },
  {
   "cell_type": "code",
   "execution_count": 38,
   "id": "f7cfddf0",
   "metadata": {},
   "outputs": [
    {
     "data": {
      "text/plain": [
       "medal\n",
       "0    297\n",
       "1     17\n",
       "Name: count, dtype: int64"
      ]
     },
     "execution_count": 38,
     "metadata": {},
     "output_type": "execute_result"
    }
   ],
   "source": [
    "df['medal'].value_counts()"
   ]
  },
  {
   "cell_type": "code",
   "execution_count": 39,
   "id": "aacd7c95",
   "metadata": {},
   "outputs": [
    {
     "name": "stdout",
     "output_type": "stream",
     "text": [
      "<class 'pandas.core.frame.DataFrame'>\n",
      "Index: 314 entries, 1271 to 1709\n",
      "Data columns (total 10 columns):\n",
      " #   Column   Non-Null Count  Dtype  \n",
      "---  ------   --------------  -----  \n",
      " 0   Rank     314 non-null    float64\n",
      " 1   Name     314 non-null    object \n",
      " 2   nation   314 non-null    object \n",
      " 3   D Score  314 non-null    float64\n",
      " 4   E Score  314 non-null    float64\n",
      " 5   Pen.     314 non-null    float64\n",
      " 6   Total    314 non-null    float64\n",
      " 7   year     314 non-null    int64  \n",
      " 8   round    314 non-null    object \n",
      " 9   medal    314 non-null    int64  \n",
      "dtypes: float64(5), int64(2), object(3)\n",
      "memory usage: 27.0+ KB\n"
     ]
    }
   ],
   "source": [
    "df.info()"
   ]
  },
  {
   "cell_type": "code",
   "execution_count": null,
   "id": "c8cb7f42",
   "metadata": {},
   "outputs": [],
   "source": []
  },
  {
   "cell_type": "code",
   "execution_count": null,
   "id": "fa5092c4",
   "metadata": {},
   "outputs": [],
   "source": []
  },
  {
   "cell_type": "code",
   "execution_count": null,
   "id": "8ba8065e",
   "metadata": {},
   "outputs": [],
   "source": []
  },
  {
   "cell_type": "code",
   "execution_count": null,
   "id": "72696f7a",
   "metadata": {},
   "outputs": [],
   "source": []
  }
 ],
 "metadata": {
  "kernelspec": {
   "display_name": "Python 3 (ipykernel)",
   "language": "python",
   "name": "python3"
  },
  "language_info": {
   "codemirror_mode": {
    "name": "ipython",
    "version": 3
   },
   "file_extension": ".py",
   "mimetype": "text/x-python",
   "name": "python",
   "nbconvert_exporter": "python",
   "pygments_lexer": "ipython3",
   "version": "3.9.12"
  }
 },
 "nbformat": 4,
 "nbformat_minor": 5
}
