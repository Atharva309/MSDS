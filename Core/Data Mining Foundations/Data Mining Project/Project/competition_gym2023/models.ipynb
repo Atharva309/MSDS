{
 "cells": [
  {
   "cell_type": "markdown",
   "id": "e44aa09f",
   "metadata": {},
   "source": [
    "\n",
    "UCSAS 2024 USOPC Data Challenge\n",
    "\n",
    "For this data challenge, your goal is to <b>identify the group of 5 athletes who will enable the Team USA Olympic Men’s and Women’s Artistic Gymnastics teams to optimize success in Paris 2024.</b> You are tasked with developing an analytics model that can be used to <b>identify and compare the expected medal count in the 8 medal events for men </b>(team all-around, individual all-around, floor exercise, pommel horse, still rings, vault, parallel bars, and high bar) <b>and 6 medal events for the women </b>(team all-around, individual all-around, vault, uneven bars, balance beam, and floor exercise).\n",
    "\n",
    "In total, 192 artistic gymnasts will compete at Paris 2024: <b>96 men and 96 women. Team events will feature 12 teams of 5 athletes each in the men’s and women’s events.</b>* For countries that do not win a full team entry for Paris 2024, a maximum of 3 individuals per country will be able to qualify. Those remaining 36 entries for each gender will be determined by results of the 2023 World Championships, the 2024 World Cup Series, and the 2024 Continental Championships.\n",
    "\n",
    "For each gender, 3 teams qualified at the 2022 World Championships in Liverpool, England. In the men’s competition, teams from China, Japan, and Great Britain qualified. In the women’s competition, teams from the United States, Great Britain, and Canada qualified. For each gender, 9 other countries will qualify teams based on their placements at the 2023 World Championships in Antwerp, Belgium, which will take place from September 30, 2023, and October 8, 2023.\n",
    "\n",
    "*Note that at Tokyo 2020, men’s and women’s teams were composed of 4 athletes. Countries with full teams could also qualify up to 2 additional athletes to compete in Tokyo as individuals. The Team USA men had a 4-person team of Brody Malone, Sam Mikulak, Yul Moldauer, and Shane Wiskus. The USA men had one individual athlete, Alec Yoder, who could compete in the qualifying round at the Olympics to potentially qualify for the individual all-around and the apparatus finals. Similarly, the Team USA women had a 4-person team of Simone Biles, Jordan Chiles, Sunisa Lee, and Grace McCallum. The USA women had two individual athletes, Jade Carey and MyKayla Skinner, who could compete in the qualifying round at the Olympics to potentially qualify for the individual all-around and the apparatus finals.\n",
    "\n",
    "According to recent news, gymnasts from Russia and Belarus will be allowed to take part in sanctioned competitions as “individual neutral athletes” from the start of 2024. Based on that information, Russia and Belarus will not be able to qualify for team artistics gymnastics events in Paris, but they would each be able to qualify up to 3 athletes to compete as individuals, as described above.\n",
    "\n",
    "The problem of choosing a team is complicated by the structure of the Olympic competition. For both the men and women, the athletes first compete in a qualifying round in which their scores are used to determine advancement of teams (i.e,, countries) to the team all-around final and individuals to the individual all-around final and apparatus finals. In qualifying, <b>4 of the 5 athletes on each team compete on each apparatus, so not every athlete will compete in all apparatus.</b> The athletes representing countries who did not qualify a full team may participate on all apparatus in the qualifying round.\n",
    "\n",
    "<b>The top 8 teams in qualifying advance to the team final based on the sum of the top 3 out of 4 scores on each apparatus (“4 up, 3 count”, for a total of 18 scores for men and 12 scores for women). Athletes must compete on all apparatus in qualifying to be eligible for the individual all-around final. The top 24 athletes qualify for the individual all-around final, with a maximum of two gymnasts per country. The top 8 athletes on each apparatus qualify for the final in that apparatus, again with a maximum of 2 gymnasts per country.</b>\n",
    "\n",
    "In the team all-around, individual all-around, and individual apparatus finals, all athletes’ scores from qualifying are thrown out. In the team all-around final, the medalists are determined by the sum of the 3 scores on each apparatus (“3 up, 3 count”, for a total of 18 scores for men and 12 scores for women). An athlete’s scores in the team all-around final have no effect on their scores in the individual all-around final, and in the individual apparatus finals, all previous scores from qualifying, the team all-around final, and the individual all-around final are thrown out.\n",
    "\n",
    "The goal of this data challenge is to put together the best possible men’s and women’s Team USA Olympic Artistic Gymnastics teams, however, the meaning of “best” is left open to the interpretation of the entrant.\n",
    "\n",
    "For example, a few questions that students could consider for their entry include:\n",
    "\n",
    "    How would your recommended team differ if you are trying to maximize total medal count, gold medals, or a weighted medal count (e.g., 3 for gold, 2 for silver, 1 for bronze)? How would your recommended team change if you consider a team all-around medal to be more valuable than the individual all-around medals and/or if you consider the individual all-around medals to be more valuable than the individual apparatus medals? Can Team USA maximize its total medal count by selecting a team of 5 gymnasts who are all-around gymnasts, event specialists (gymnasts who focus on 1 or more apparatus but not all apparatus), or a combination of those? Under what circumstances can Team USA maximize its total medal count by selecting a gymnast who only competes on 1 apparatus (e.g., Stephen Nederoscik, 2021 pommel horse World Champion)?\n",
    "\n",
    "Data\n",
    "\n",
    "Data from major domestic and international gymnastics competitions from the seasons leading up to the 2020 Tokyo and 2024 Paris Olympics will be provided to entrants. Because the Code of Points scoring system is changed each Olympic cycle, data from the years (2017-2021) leading up to the 2020 Olympics, which actually took place in 2021, should be used as a separate data set from the data from competitions in the 2022 and 2023 seasons leading up to the 2024 Olympics.\n",
    "\n",
    "The cleaned data is on GitHub, which is being actively updated. The last update of data will be the 2023 World Artistic Gymnastics Championships in Belgium, which ends in early October, 2023.\n",
    "\n",
    "Entrants can use any additional data that they choose as long as that data is publicly available, but the additional data need to be included in the final submission for reproducibility\n",
    "Submission\n",
    "\n",
    "Students must submit a zip file containing:\n",
    "\n",
    "    A pdf report describing their results (max 3000 words)\n",
    "    A folder with\n",
    "        Documented code files\n",
    "        A README file describing what each file does.\n",
    "\n",
    "Note: Students can include other files including any app code or supporting documents. Any code or apps included need to be self-contained and able to run on reviewers’ computers without modification.\n",
    "Eligibility\n",
    "\n",
    "The UCSAS 2024 Data Challenge is open to students only. You must be enrolled as a high school, undergraduate, or graduate student at some point during the 2023-24 academic year. Participants must register using their school email address and participants must be at least 18 years old.\n",
    "\n",
    "Teams must enter one of the following two tracks:\n",
    "\n",
    "    High School / Undergraduate Track\n",
    "    Graduate Track\n",
    "\n",
    "To be eligible for the High School / Undergraduate ALL members of the team must consist of either high school and/or undergraduate students. Each team can have up to 3 members.\n",
    "Terms of Participation\n",
    "\n",
    "United States Olympic & Paralympic Committee IP (logos, terminology, etc.) may not be used in any manner, without prior written consent of the USOPC. USOPC terminology examples include but are not limited to: Olympic, Paralympic, Olympian, Paralympian, United States Olympic & Paralympic Committee (USOPC), Team USA.\n",
    "\n",
    "UCSAS 2024 Data Challenge participants may not imply or publicize any relationship or association between themselves and the USOPC, Team USA and/or the Olympic and Paralympic Movements, without prior written consent of the USOPC.\n",
    "\n",
    "For subsequent use of the project in personal portfolios and presentations other than those related to the UCSAS 2024 Data Challenge and the U.S. Olympic & Paralympic Data, Analytics & Technology Summit (for the Data Challenge winners), participants may anonymize the work product (for example, replace “USOPC” with “U.S. Sport Organization”). Federal law gives the USOPC extensive rights to control the use of USOPC IP in the United States and allows the USOPC to file a lawsuit against any entity using such IP without consent.\n",
    "\n",
    "Note: The USOPC does not control the trademarks or logos owned by the National Governing Body (NGB) for a specific sport. For instruction on the proper use of those marks, please contact the relevant NGB directly.\n",
    "Prizes\n",
    "\n",
    "Finalists (Six teams: three high school / undergraduate and three graduate) will be invited to present their work at UCSAS 2024 in Storrs, CT. Winning teams (one high school/undergraduate team and one graduate team) will receive some travel support and have their registration fees waived. The winning teams will receive a cash prize (UCONN) and a plaque (UCONN). Additionally, the winning teams will have the opportunity to showcase their work, with all travel, registrations, and expenses paid, at the 2024 U.S. Olympic & Paralympic Data, Analytics & Technology Summit in Colorado Springs, CO, providing them with increased exposure and potential opportunities for future collaborations. The runners-up will receive a certificate of achievement (UCONN) and recognition for their outstanding performance in the Data Challenge.\n",
    "Webinar intro to the Challenge and Data\n",
    "\n",
    "    Introduction workshop led by Elliot Schwartz (USOPC) and Jun Yan (UConn)\n",
    "    Time: 09/14/2023, 7-8 pm ET\n",
    "    Registration: here\n",
    "\n",
    "A repetition webinar may be arranged depending on the demands.\n",
    "Important Dates\n",
    "\n",
    "    Data challenge release: August 4, 2023\n",
    "    Webinar introduction: September 14, 2023; Register the training workshop\n",
    "    Submission deadline: January 15, 2024\n",
    "    Finalists notified: February 15, 2024\n",
    "    UCSAS 2024: April 12-13, 2024\n",
    "\n"
   ]
  },
  {
   "cell_type": "markdown",
   "id": "4d78a0f7",
   "metadata": {},
   "source": [
    "- https://statds.org/events/ucsas2024/challenge.html\n",
    "- https://github.com/ucsas/gym2024data"
   ]
  },
  {
   "cell_type": "code",
   "execution_count": 10,
   "id": "47adaad6",
   "metadata": {},
   "outputs": [],
   "source": [
    "import pandas as pd\n",
    "import numpy as np\n"
   ]
  },
  {
   "cell_type": "code",
   "execution_count": 11,
   "id": "3179aa2a",
   "metadata": {},
   "outputs": [],
   "source": [
    "df = pd.read_csv('cleaned')"
   ]
  },
  {
   "cell_type": "code",
   "execution_count": 12,
   "id": "e7c70292",
   "metadata": {},
   "outputs": [
    {
     "data": {
      "text/html": [
       "<div>\n",
       "<style scoped>\n",
       "    .dataframe tbody tr th:only-of-type {\n",
       "        vertical-align: middle;\n",
       "    }\n",
       "\n",
       "    .dataframe tbody tr th {\n",
       "        vertical-align: top;\n",
       "    }\n",
       "\n",
       "    .dataframe thead th {\n",
       "        text-align: right;\n",
       "    }\n",
       "</style>\n",
       "<table border=\"1\" class=\"dataframe\">\n",
       "  <thead>\n",
       "    <tr style=\"text-align: right;\">\n",
       "      <th></th>\n",
       "      <th>Rank</th>\n",
       "      <th>D_Score</th>\n",
       "      <th>E_Score</th>\n",
       "      <th>Penalty</th>\n",
       "      <th>Score</th>\n",
       "      <th>Gender_code</th>\n",
       "      <th>Round_code</th>\n",
       "      <th>Apparatus_code</th>\n",
       "      <th>Country_code</th>\n",
       "      <th>Name_code</th>\n",
       "      <th>Date_code</th>\n",
       "    </tr>\n",
       "  </thead>\n",
       "  <tbody>\n",
       "    <tr>\n",
       "      <th>0</th>\n",
       "      <td>39.0</td>\n",
       "      <td>4.600</td>\n",
       "      <td>6.700</td>\n",
       "      <td>0.0</td>\n",
       "      <td>11.300</td>\n",
       "      <td>0</td>\n",
       "      <td>5</td>\n",
       "      <td>2</td>\n",
       "      <td>69</td>\n",
       "      <td>419</td>\n",
       "      <td>8</td>\n",
       "    </tr>\n",
       "    <tr>\n",
       "      <th>1</th>\n",
       "      <td>30.0</td>\n",
       "      <td>8.166</td>\n",
       "      <td>5.100</td>\n",
       "      <td>0.0</td>\n",
       "      <td>13.266</td>\n",
       "      <td>0</td>\n",
       "      <td>5</td>\n",
       "      <td>1</td>\n",
       "      <td>33</td>\n",
       "      <td>599</td>\n",
       "      <td>3</td>\n",
       "    </tr>\n",
       "    <tr>\n",
       "      <th>2</th>\n",
       "      <td>95.0</td>\n",
       "      <td>4.400</td>\n",
       "      <td>9.100</td>\n",
       "      <td>0.0</td>\n",
       "      <td>13.500</td>\n",
       "      <td>0</td>\n",
       "      <td>1</td>\n",
       "      <td>8</td>\n",
       "      <td>50</td>\n",
       "      <td>1220</td>\n",
       "      <td>15</td>\n",
       "    </tr>\n",
       "    <tr>\n",
       "      <th>3</th>\n",
       "      <td>112.0</td>\n",
       "      <td>8.366</td>\n",
       "      <td>4.200</td>\n",
       "      <td>0.0</td>\n",
       "      <td>12.566</td>\n",
       "      <td>0</td>\n",
       "      <td>5</td>\n",
       "      <td>3</td>\n",
       "      <td>6</td>\n",
       "      <td>1039</td>\n",
       "      <td>15</td>\n",
       "    </tr>\n",
       "    <tr>\n",
       "      <th>4</th>\n",
       "      <td>9.0</td>\n",
       "      <td>4.400</td>\n",
       "      <td>7.950</td>\n",
       "      <td>0.0</td>\n",
       "      <td>12.350</td>\n",
       "      <td>1</td>\n",
       "      <td>5</td>\n",
       "      <td>7</td>\n",
       "      <td>79</td>\n",
       "      <td>1160</td>\n",
       "      <td>11</td>\n",
       "    </tr>\n",
       "    <tr>\n",
       "      <th>...</th>\n",
       "      <td>...</td>\n",
       "      <td>...</td>\n",
       "      <td>...</td>\n",
       "      <td>...</td>\n",
       "      <td>...</td>\n",
       "      <td>...</td>\n",
       "      <td>...</td>\n",
       "      <td>...</td>\n",
       "      <td>...</td>\n",
       "      <td>...</td>\n",
       "      <td>...</td>\n",
       "    </tr>\n",
       "    <tr>\n",
       "      <th>24779</th>\n",
       "      <td>6.0</td>\n",
       "      <td>5.600</td>\n",
       "      <td>8.100</td>\n",
       "      <td>0.0</td>\n",
       "      <td>13.700</td>\n",
       "      <td>0</td>\n",
       "      <td>5</td>\n",
       "      <td>3</td>\n",
       "      <td>14</td>\n",
       "      <td>23</td>\n",
       "      <td>10</td>\n",
       "    </tr>\n",
       "    <tr>\n",
       "      <th>24780</th>\n",
       "      <td>32.0</td>\n",
       "      <td>5.150</td>\n",
       "      <td>4.700</td>\n",
       "      <td>0.1</td>\n",
       "      <td>9.750</td>\n",
       "      <td>1</td>\n",
       "      <td>5</td>\n",
       "      <td>0</td>\n",
       "      <td>84</td>\n",
       "      <td>904</td>\n",
       "      <td>14</td>\n",
       "    </tr>\n",
       "    <tr>\n",
       "      <th>24781</th>\n",
       "      <td>12.0</td>\n",
       "      <td>4.300</td>\n",
       "      <td>7.700</td>\n",
       "      <td>0.0</td>\n",
       "      <td>12.000</td>\n",
       "      <td>1</td>\n",
       "      <td>5</td>\n",
       "      <td>1</td>\n",
       "      <td>99</td>\n",
       "      <td>1227</td>\n",
       "      <td>11</td>\n",
       "    </tr>\n",
       "    <tr>\n",
       "      <th>24782</th>\n",
       "      <td>1.0</td>\n",
       "      <td>8.166</td>\n",
       "      <td>6.200</td>\n",
       "      <td>0.0</td>\n",
       "      <td>14.366</td>\n",
       "      <td>1</td>\n",
       "      <td>5</td>\n",
       "      <td>7</td>\n",
       "      <td>20</td>\n",
       "      <td>1146</td>\n",
       "      <td>3</td>\n",
       "    </tr>\n",
       "    <tr>\n",
       "      <th>24783</th>\n",
       "      <td>107.0</td>\n",
       "      <td>4.700</td>\n",
       "      <td>6.633</td>\n",
       "      <td>0.0</td>\n",
       "      <td>11.333</td>\n",
       "      <td>0</td>\n",
       "      <td>5</td>\n",
       "      <td>4</td>\n",
       "      <td>43</td>\n",
       "      <td>165</td>\n",
       "      <td>5</td>\n",
       "    </tr>\n",
       "  </tbody>\n",
       "</table>\n",
       "<p>24784 rows × 11 columns</p>\n",
       "</div>"
      ],
      "text/plain": [
       "        Rank  D_Score  E_Score  Penalty   Score  Gender_code  Round_code  \\\n",
       "0       39.0    4.600    6.700      0.0  11.300            0           5   \n",
       "1       30.0    8.166    5.100      0.0  13.266            0           5   \n",
       "2       95.0    4.400    9.100      0.0  13.500            0           1   \n",
       "3      112.0    8.366    4.200      0.0  12.566            0           5   \n",
       "4        9.0    4.400    7.950      0.0  12.350            1           5   \n",
       "...      ...      ...      ...      ...     ...          ...         ...   \n",
       "24779    6.0    5.600    8.100      0.0  13.700            0           5   \n",
       "24780   32.0    5.150    4.700      0.1   9.750            1           5   \n",
       "24781   12.0    4.300    7.700      0.0  12.000            1           5   \n",
       "24782    1.0    8.166    6.200      0.0  14.366            1           5   \n",
       "24783  107.0    4.700    6.633      0.0  11.333            0           5   \n",
       "\n",
       "       Apparatus_code  Country_code  Name_code  Date_code  \n",
       "0                   2            69        419          8  \n",
       "1                   1            33        599          3  \n",
       "2                   8            50       1220         15  \n",
       "3                   3             6       1039         15  \n",
       "4                   7            79       1160         11  \n",
       "...               ...           ...        ...        ...  \n",
       "24779               3            14         23         10  \n",
       "24780               0            84        904         14  \n",
       "24781               1            99       1227         11  \n",
       "24782               7            20       1146          3  \n",
       "24783               4            43        165          5  \n",
       "\n",
       "[24784 rows x 11 columns]"
      ]
     },
     "execution_count": 12,
     "metadata": {},
     "output_type": "execute_result"
    }
   ],
   "source": [
    "df"
   ]
  },
  {
   "cell_type": "code",
   "execution_count": 13,
   "id": "6ef2cc1b",
   "metadata": {},
   "outputs": [],
   "source": [
    "import seaborn as sns\n",
    "import matplotlib.pyplot as plt"
   ]
  },
  {
   "cell_type": "code",
   "execution_count": 14,
   "id": "6828a6de",
   "metadata": {},
   "outputs": [
    {
     "data": {
      "image/png": "[encoded data removed]",
      "text/plain": [
       "<Figure size 432x288 with 2 Axes>"
      ]
     },
     "metadata": {
      "needs_background": "light"
     },
     "output_type": "display_data"
    }
   ],
   "source": [
    "sns.heatmap(df.corr());"
   ]
  },
  {
   "cell_type": "code",
   "execution_count": 16,
   "id": "6e8f5ba2",
   "metadata": {},
   "outputs": [
    {
     "name": "stdout",
     "output_type": "stream",
     "text": [
      "<class 'pandas.core.frame.DataFrame'>\n",
      "RangeIndex: 24784 entries, 0 to 24783\n",
      "Data columns (total 11 columns):\n",
      " #   Column          Non-Null Count  Dtype  \n",
      "---  ------          --------------  -----  \n",
      " 0   Rank            24784 non-null  float64\n",
      " 1   D_Score         24784 non-null  float64\n",
      " 2   E_Score         24784 non-null  float64\n",
      " 3   Penalty         24784 non-null  float64\n",
      " 4   Score           24784 non-null  float64\n",
      " 5   Gender_code     24784 non-null  int64  \n",
      " 6   Round_code      24784 non-null  int64  \n",
      " 7   Apparatus_code  24784 non-null  int64  \n",
      " 8   Country_code    24784 non-null  int64  \n",
      " 9   Name_code       24784 non-null  int64  \n",
      " 10  Date_code       24784 non-null  int64  \n",
      "dtypes: float64(5), int64(6)\n",
      "memory usage: 2.1 MB\n"
     ]
    }
   ],
   "source": [
    "df.info()"
   ]
  },
  {
   "cell_type": "code",
   "execution_count": 17,
   "id": "789da48a",
   "metadata": {},
   "outputs": [
    {
     "data": {
      "text/plain": [
       "19827.2"
      ]
     },
     "execution_count": 17,
     "metadata": {},
     "output_type": "execute_result"
    }
   ],
   "source": [
    "24784*.80"
   ]
  },
  {
   "cell_type": "code",
   "execution_count": 18,
   "id": "c08509e2",
   "metadata": {},
   "outputs": [],
   "source": [
    "train = df.iloc[:19827]\n",
    "test = df.iloc[19827:]"
   ]
  },
  {
   "cell_type": "code",
   "execution_count": 36,
   "id": "4361ee3b",
   "metadata": {},
   "outputs": [],
   "source": [
    "feature_names = df.drop(columns=[\"Score\"])"
   ]
  },
  {
   "cell_type": "code",
   "execution_count": 29,
   "id": "83161b35",
   "metadata": {},
   "outputs": [],
   "source": [
    "X = df.drop(columns=[\"Score\"])\n",
    "y = df[\"Score\"]"
   ]
  },
  {
   "cell_type": "code",
   "execution_count": 30,
   "id": "224943b5",
   "metadata": {},
   "outputs": [],
   "source": [
    "X_train, X_test, y_train, y_test = train_test_split(X, y, test_size=0.25, random_state=42)"
   ]
  },
  {
   "cell_type": "code",
   "execution_count": 31,
   "id": "3f617590",
   "metadata": {},
   "outputs": [
    {
     "data": {
      "text/plain": [
       "13713     9.900\n",
       "16318    12.700\n",
       "18644    13.650\n",
       "1396     12.900\n",
       "5617     11.200\n",
       "          ...  \n",
       "21575    12.933\n",
       "5390     13.800\n",
       "860      10.300\n",
       "15795    12.450\n",
       "23654    12.333\n",
       "Name: Score, Length: 18588, dtype: float64"
      ]
     },
     "execution_count": 31,
     "metadata": {},
     "output_type": "execute_result"
    }
   ],
   "source": [
    "y_train"
   ]
  },
  {
   "cell_type": "code",
   "execution_count": 32,
   "id": "d3810afd",
   "metadata": {},
   "outputs": [
    {
     "data": {
      "text/html": [
       "<div>\n",
       "<style scoped>\n",
       "    .dataframe tbody tr th:only-of-type {\n",
       "        vertical-align: middle;\n",
       "    }\n",
       "\n",
       "    .dataframe tbody tr th {\n",
       "        vertical-align: top;\n",
       "    }\n",
       "\n",
       "    .dataframe thead th {\n",
       "        text-align: right;\n",
       "    }\n",
       "</style>\n",
       "<table border=\"1\" class=\"dataframe\">\n",
       "  <thead>\n",
       "    <tr style=\"text-align: right;\">\n",
       "      <th></th>\n",
       "      <th>Rank</th>\n",
       "      <th>D_Score</th>\n",
       "      <th>E_Score</th>\n",
       "      <th>Penalty</th>\n",
       "      <th>Gender_code</th>\n",
       "      <th>Round_code</th>\n",
       "      <th>Apparatus_code</th>\n",
       "      <th>Country_code</th>\n",
       "      <th>Name_code</th>\n",
       "      <th>Date_code</th>\n",
       "    </tr>\n",
       "  </thead>\n",
       "  <tbody>\n",
       "    <tr>\n",
       "      <th>13713</th>\n",
       "      <td>28.0</td>\n",
       "      <td>3.600</td>\n",
       "      <td>6.300</td>\n",
       "      <td>0.0</td>\n",
       "      <td>1</td>\n",
       "      <td>5</td>\n",
       "      <td>7</td>\n",
       "      <td>98</td>\n",
       "      <td>734</td>\n",
       "      <td>17</td>\n",
       "    </tr>\n",
       "    <tr>\n",
       "      <th>16318</th>\n",
       "      <td>105.0</td>\n",
       "      <td>6.800</td>\n",
       "      <td>5.900</td>\n",
       "      <td>0.0</td>\n",
       "      <td>0</td>\n",
       "      <td>5</td>\n",
       "      <td>3</td>\n",
       "      <td>15</td>\n",
       "      <td>1287</td>\n",
       "      <td>15</td>\n",
       "    </tr>\n",
       "    <tr>\n",
       "      <th>18644</th>\n",
       "      <td>6.0</td>\n",
       "      <td>5.300</td>\n",
       "      <td>8.350</td>\n",
       "      <td>0.0</td>\n",
       "      <td>0</td>\n",
       "      <td>5</td>\n",
       "      <td>6</td>\n",
       "      <td>14</td>\n",
       "      <td>468</td>\n",
       "      <td>9</td>\n",
       "    </tr>\n",
       "    <tr>\n",
       "      <th>1396</th>\n",
       "      <td>13.0</td>\n",
       "      <td>5.200</td>\n",
       "      <td>7.700</td>\n",
       "      <td>0.0</td>\n",
       "      <td>0</td>\n",
       "      <td>0</td>\n",
       "      <td>2</td>\n",
       "      <td>20</td>\n",
       "      <td>183</td>\n",
       "      <td>3</td>\n",
       "    </tr>\n",
       "    <tr>\n",
       "      <th>5617</th>\n",
       "      <td>38.0</td>\n",
       "      <td>4.000</td>\n",
       "      <td>7.200</td>\n",
       "      <td>0.0</td>\n",
       "      <td>0</td>\n",
       "      <td>5</td>\n",
       "      <td>5</td>\n",
       "      <td>85</td>\n",
       "      <td>656</td>\n",
       "      <td>17</td>\n",
       "    </tr>\n",
       "    <tr>\n",
       "      <th>...</th>\n",
       "      <td>...</td>\n",
       "      <td>...</td>\n",
       "      <td>...</td>\n",
       "      <td>...</td>\n",
       "      <td>...</td>\n",
       "      <td>...</td>\n",
       "      <td>...</td>\n",
       "      <td>...</td>\n",
       "      <td>...</td>\n",
       "      <td>...</td>\n",
       "    </tr>\n",
       "    <tr>\n",
       "      <th>21575</th>\n",
       "      <td>95.0</td>\n",
       "      <td>8.333</td>\n",
       "      <td>4.600</td>\n",
       "      <td>0.0</td>\n",
       "      <td>0</td>\n",
       "      <td>5</td>\n",
       "      <td>3</td>\n",
       "      <td>93</td>\n",
       "      <td>232</td>\n",
       "      <td>15</td>\n",
       "    </tr>\n",
       "    <tr>\n",
       "      <th>5390</th>\n",
       "      <td>2.0</td>\n",
       "      <td>5.700</td>\n",
       "      <td>8.400</td>\n",
       "      <td>0.3</td>\n",
       "      <td>0</td>\n",
       "      <td>0</td>\n",
       "      <td>3</td>\n",
       "      <td>24</td>\n",
       "      <td>981</td>\n",
       "      <td>11</td>\n",
       "    </tr>\n",
       "    <tr>\n",
       "      <th>860</th>\n",
       "      <td>137.0</td>\n",
       "      <td>5.900</td>\n",
       "      <td>4.400</td>\n",
       "      <td>0.0</td>\n",
       "      <td>1</td>\n",
       "      <td>5</td>\n",
       "      <td>1</td>\n",
       "      <td>56</td>\n",
       "      <td>674</td>\n",
       "      <td>15</td>\n",
       "    </tr>\n",
       "    <tr>\n",
       "      <th>15795</th>\n",
       "      <td>22.0</td>\n",
       "      <td>4.100</td>\n",
       "      <td>8.350</td>\n",
       "      <td>0.0</td>\n",
       "      <td>0</td>\n",
       "      <td>5</td>\n",
       "      <td>6</td>\n",
       "      <td>14</td>\n",
       "      <td>172</td>\n",
       "      <td>10</td>\n",
       "    </tr>\n",
       "    <tr>\n",
       "      <th>23654</th>\n",
       "      <td>69.0</td>\n",
       "      <td>4.500</td>\n",
       "      <td>7.833</td>\n",
       "      <td>0.0</td>\n",
       "      <td>1</td>\n",
       "      <td>1</td>\n",
       "      <td>1</td>\n",
       "      <td>56</td>\n",
       "      <td>43</td>\n",
       "      <td>15</td>\n",
       "    </tr>\n",
       "  </tbody>\n",
       "</table>\n",
       "<p>18588 rows × 10 columns</p>\n",
       "</div>"
      ],
      "text/plain": [
       "        Rank  D_Score  E_Score  Penalty  Gender_code  Round_code  \\\n",
       "13713   28.0    3.600    6.300      0.0            1           5   \n",
       "16318  105.0    6.800    5.900      0.0            0           5   \n",
       "18644    6.0    5.300    8.350      0.0            0           5   \n",
       "1396    13.0    5.200    7.700      0.0            0           0   \n",
       "5617    38.0    4.000    7.200      0.0            0           5   \n",
       "...      ...      ...      ...      ...          ...         ...   \n",
       "21575   95.0    8.333    4.600      0.0            0           5   \n",
       "5390     2.0    5.700    8.400      0.3            0           0   \n",
       "860    137.0    5.900    4.400      0.0            1           5   \n",
       "15795   22.0    4.100    8.350      0.0            0           5   \n",
       "23654   69.0    4.500    7.833      0.0            1           1   \n",
       "\n",
       "       Apparatus_code  Country_code  Name_code  Date_code  \n",
       "13713               7            98        734         17  \n",
       "16318               3            15       1287         15  \n",
       "18644               6            14        468          9  \n",
       "1396                2            20        183          3  \n",
       "5617                5            85        656         17  \n",
       "...               ...           ...        ...        ...  \n",
       "21575               3            93        232         15  \n",
       "5390                3            24        981         11  \n",
       "860                 1            56        674         15  \n",
       "15795               6            14        172         10  \n",
       "23654               1            56         43         15  \n",
       "\n",
       "[18588 rows x 10 columns]"
      ]
     },
     "execution_count": 32,
     "metadata": {},
     "output_type": "execute_result"
    }
   ],
   "source": [
    "X_train"
   ]
  },
  {
   "cell_type": "code",
   "execution_count": 48,
   "id": "90e97ad7",
   "metadata": {},
   "outputs": [],
   "source": [
    "import numpy as np\n",
    "import pandas as pd\n",
    "from sklearn.datasets import load_boston\n",
    "from sklearn.model_selection import train_test_split\n",
    "from sklearn.ensemble import RandomForestRegressor\n",
    "from sklearn.inspection import permutation_importance\n",
    "from matplotlib import pyplot as plt\n",
    "from sklearn.preprocessing import StandardScaler\n",
    "from sklearn.model_selection import train_test_split\n",
    "from sklearn.linear_model import LogisticRegression\n",
    "from sklearn.linear_model import LogisticRegression\n",
    "from sklearn.preprocessing import StandardScaler\n"
   ]
  },
  {
   "cell_type": "code",
   "execution_count": 49,
   "id": "ae40f1c4",
   "metadata": {},
   "outputs": [
    {
     "name": "stdout",
     "output_type": "stream",
     "text": [
      "        Attribute  Importance\n",
      "1         D_Score    0.589726\n",
      "2         E_Score    0.365175\n",
      "3         Penalty    0.034418\n",
      "0            Rank    0.003711\n",
      "8       Name_code    0.003230\n",
      "6  Apparatus_code    0.001298\n",
      "7    Country_code    0.001254\n",
      "9       Date_code    0.000584\n",
      "4     Gender_code    0.000503\n",
      "5      Round_code    0.000101\n"
     ]
    }
   ],
   "source": [
    "# Train a Random Forest model\n",
    "model = RandomForestRegressor(random_state=42)\n",
    "model.fit(X_train, y_train)\n",
    "\n",
    "# Get feature importances\n",
    "importances = pd.DataFrame(data={\"Attribute\": X_train.columns, \"Importance\": model.feature_importances_})\n",
    "importances = importances.sort_values(by=\"Importance\", ascending=False)\n",
    "\n",
    "print(importances)"
   ]
  },
  {
   "cell_type": "code",
   "execution_count": 50,
   "id": "8972d019",
   "metadata": {},
   "outputs": [],
   "source": [
    "# Feature engineering: Combine D_Score and E_Score\n",
    "df[\"Score_Sum\"] = df[\"D_Score\"] + df[\"E_Score\"]\n"
   ]
  },
  {
   "cell_type": "code",
   "execution_count": 51,
   "id": "e9a095c7",
   "metadata": {},
   "outputs": [
    {
     "data": {
      "image/png": "[encoded data removed]",
      "text/plain": [
       "<Figure size 432x288 with 2 Axes>"
      ]
     },
     "metadata": {
      "needs_background": "light"
     },
     "output_type": "display_data"
    }
   ],
   "source": [
    "sns.heatmap(df.corr());"
   ]
  },
  {
   "cell_type": "code",
   "execution_count": 59,
   "id": "c73191e8",
   "metadata": {},
   "outputs": [
    {
     "name": "stdout",
     "output_type": "stream",
     "text": [
      "Mean Squared Error: 0.02097347154039436\n"
     ]
    }
   ],
   "source": [
    "import pandas as pd\n",
    "from sklearn.model_selection import train_test_split\n",
    "from sklearn.linear_model import LinearRegression\n",
    "from sklearn.metrics import mean_squared_error\n",
    "\n",
    "# Train a linear regression model\n",
    "model = LinearRegression()\n",
    "model.fit(X_train, y_train)\n",
    "\n",
    "# Make predictions on the test set\n",
    "y_pred = model.predict(X_test)\n",
    "\n",
    "# Calculate Mean Squared Error (MSE) as a performance metric\n",
    "mse_lr = mean_squared_error(y_test, y_pred)\n",
    "print(\"Mean Squared Error:\", mse_lr)\n"
   ]
  },
  {
   "cell_type": "code",
   "execution_count": 60,
   "id": "7be8e605",
   "metadata": {},
   "outputs": [
    {
     "name": "stdout",
     "output_type": "stream",
     "text": [
      "Mean Squared Error: 0.007634418985571319\n"
     ]
    }
   ],
   "source": [
    "model = RandomForestRegressor(random_state=42)\n",
    "model.fit(X_train, y_train)\n",
    "\n",
    "# Make predictions on the test set\n",
    "y_pred = model.predict(X_test)\n",
    "\n",
    "# Calculate Mean Squared Error (MSE) as a performance metric\n",
    "mse_rf = mean_squared_error(y_test, y_pred)\n",
    "print(\"Mean Squared Error:\", mse_rf)"
   ]
  },
  {
   "cell_type": "code",
   "execution_count": 55,
   "id": "5afda110",
   "metadata": {},
   "outputs": [],
   "source": [
    "from sklearn.ensemble import GradientBoostingRegressor"
   ]
  },
  {
   "cell_type": "code",
   "execution_count": 61,
   "id": "1e6d4269",
   "metadata": {},
   "outputs": [
    {
     "name": "stdout",
     "output_type": "stream",
     "text": [
      "Mean Squared Error: 0.04078436187728999\n"
     ]
    }
   ],
   "source": [
    "# Train a Gradient Boosting Regressor model\n",
    "model = GradientBoostingRegressor(random_state=42)\n",
    "model.fit(X_train, y_train)\n",
    "\n",
    "# Make predictions on the test set\n",
    "y_pred = model.predict(X_test)\n",
    "\n",
    "# Calculate Mean Squared Error (MSE) as a performance metric\n",
    "mse_gb = mean_squared_error(y_test, y_pred)\n",
    "print(\"Mean Squared Error:\", mse_gb)"
   ]
  },
  {
   "cell_type": "code",
   "execution_count": 57,
   "id": "c5898da1",
   "metadata": {},
   "outputs": [],
   "source": [
    "from xgboost import XGBRegressor"
   ]
  },
  {
   "cell_type": "code",
   "execution_count": 62,
   "id": "80c06c06",
   "metadata": {},
   "outputs": [
    {
     "name": "stdout",
     "output_type": "stream",
     "text": [
      "Mean Squared Error: 0.005711580706077506\n"
     ]
    }
   ],
   "source": [
    "# Train an XGBoost Regressor model\n",
    "model = XGBRegressor(random_state=42)\n",
    "model.fit(X_train, y_train)\n",
    "\n",
    "# Make predictions on the test set\n",
    "y_pred = model.predict(X_test)\n",
    "\n",
    "# Calculate Mean Squared Error (MSE) as a performance metric\n",
    "mse_xg = mean_squared_error(y_test, y_pred)\n",
    "print(\"Mean Squared Error:\", mse_xg)"
   ]
  },
  {
   "cell_type": "code",
   "execution_count": 65,
   "id": "3ea14bb8",
   "metadata": {},
   "outputs": [],
   "source": [
    "from sklearn.svm import SVR"
   ]
  },
  {
   "cell_type": "code",
   "execution_count": 67,
   "id": "1be967f1",
   "metadata": {},
   "outputs": [
    {
     "name": "stdout",
     "output_type": "stream",
     "text": [
      "Mean Squared Error: 2.7360426793135164\n"
     ]
    }
   ],
   "source": [
    "# Train an SVR model\n",
    "model = SVR()\n",
    "model.fit(X_train, y_train)\n",
    "\n",
    "# Make predictions on the test set\n",
    "y_pred = model.predict(X_test)\n",
    "\n",
    "# Calculate Mean Squared Error (MSE) as a performance metric\n",
    "mse_svr = mean_squared_error(y_test, y_pred)\n",
    "print(\"Mean Squared Error:\", mse_svr)"
   ]
  },
  {
   "cell_type": "code",
   "execution_count": 68,
   "id": "6abe2999",
   "metadata": {},
   "outputs": [],
   "source": [
    "from catboost import CatBoostRegressor"
   ]
  },
  {
   "cell_type": "code",
   "execution_count": 69,
   "id": "aac6f413",
   "metadata": {},
   "outputs": [
    {
     "name": "stdout",
     "output_type": "stream",
     "text": [
      "0:\tlearn: 1.6033577\ttotal: 57ms\tremaining: 57s\n",
      "100:\tlearn: 0.1734195\ttotal: 237ms\tremaining: 2.11s\n",
      "200:\tlearn: 0.1175855\ttotal: 411ms\tremaining: 1.63s\n",
      "300:\tlearn: 0.0895297\ttotal: 579ms\tremaining: 1.34s\n",
      "400:\tlearn: 0.0690812\ttotal: 757ms\tremaining: 1.13s\n",
      "500:\tlearn: 0.0528741\ttotal: 926ms\tremaining: 922ms\n",
      "600:\tlearn: 0.0448540\ttotal: 1.11s\tremaining: 739ms\n",
      "700:\tlearn: 0.0392236\ttotal: 1.3s\tremaining: 554ms\n",
      "800:\tlearn: 0.0336822\ttotal: 1.51s\tremaining: 376ms\n",
      "900:\tlearn: 0.0299672\ttotal: 1.7s\tremaining: 187ms\n",
      "999:\tlearn: 0.0268283\ttotal: 1.89s\tremaining: 0us\n",
      "Mean Squared Error: 0.002014910412448249\n"
     ]
    }
   ],
   "source": [
    "# Train a CatBoost Regressor model\n",
    "model = CatBoostRegressor(iterations=1000, depth=6, learning_rate=0.1, loss_function='RMSE', random_seed=42)\n",
    "model.fit(X_train, y_train, verbose=100)\n",
    "\n",
    "# Make predictions on the test set\n",
    "y_pred = model.predict(X_test)\n",
    "\n",
    "# Calculate Mean Squared Error (MSE) as a performance metric\n",
    "mse_cat = mean_squared_error(y_test, y_pred)\n",
    "print(\"Mean Squared Error:\", mse_cat)"
   ]
  },
  {
   "cell_type": "code",
   "execution_count": 70,
   "id": "5596faf2",
   "metadata": {},
   "outputs": [],
   "source": [
    "from sklearn.linear_model import ElasticNet"
   ]
  },
  {
   "cell_type": "code",
   "execution_count": 71,
   "id": "a0fc574f",
   "metadata": {},
   "outputs": [
    {
     "name": "stdout",
     "output_type": "stream",
     "text": [
      "Mean Squared Error: 0.9937664813378019\n"
     ]
    }
   ],
   "source": [
    "# Train an Elastic Net model\n",
    "model = ElasticNet(alpha=1.0, l1_ratio=0.5, random_state=42)\n",
    "model.fit(X_train, y_train)\n",
    "\n",
    "# Make predictions on the test set\n",
    "y_pred = model.predict(X_test)\n",
    "\n",
    "# Calculate Mean Squared Error (MSE) as a performance metric\n",
    "mse_elast = mean_squared_error(y_test, y_pred)\n",
    "print(\"Mean Squared Error:\", mse_elast)\n"
   ]
  },
  {
   "cell_type": "code",
   "execution_count": 78,
   "id": "81732ab2",
   "metadata": {},
   "outputs": [],
   "source": [
    "# from sklearn.preprocessing import StandardScaler\n",
    "# from keras.models import Sequential\n",
    "# from keras.layers import Dense"
   ]
  },
  {
   "cell_type": "code",
   "execution_count": null,
   "id": "9f51558d",
   "metadata": {},
   "outputs": [],
   "source": []
  },
  {
   "cell_type": "code",
   "execution_count": null,
   "id": "ed7bb4b9",
   "metadata": {},
   "outputs": [],
   "source": []
  },
  {
   "cell_type": "code",
   "execution_count": null,
   "id": "aa22b691",
   "metadata": {},
   "outputs": [],
   "source": []
  },
  {
   "cell_type": "code",
   "execution_count": null,
   "id": "cf821d02",
   "metadata": {},
   "outputs": [],
   "source": []
  },
  {
   "cell_type": "code",
   "execution_count": 79,
   "id": "d63c6f53",
   "metadata": {},
   "outputs": [
    {
     "name": "stdout",
     "output_type": "stream",
     "text": [
      "Cat: 0.002014910412448249\n",
      "XG boost: 0.005711580706077506\n",
      "random forest: 0.007634418985571319\n",
      "linear regression: 0.02097347154039436\n",
      "Gradient Boost: 0.04078436187728999\n",
      "Elastic net: 0.9937664813378019\n",
      "SVR: 2.7360426793135164\n",
      "neural network (colab): 0.013480343514764414\n"
     ]
    }
   ],
   "source": [
    "print(\"Cat:\", mse_cat)\n",
    "print(\"XG boost:\", mse_xg)\n",
    "print(\"random forest:\", mse_rf)\n",
    "print(\"linear regression:\", mse_lr)\n",
    "print(\"Gradient Boost:\", mse_gb)\n",
    "print(\"Elastic net:\", mse_elast)\n",
    "print(\"SVR:\", mse_svr)\n",
    "print(\"neural network (colab): 0.013480343514764414\")"
   ]
  },
  {
   "cell_type": "code",
   "execution_count": null,
   "id": "7d4a62a5",
   "metadata": {},
   "outputs": [],
   "source": []
  }
 ],
 "metadata": {
  "kernelspec": {
   "display_name": "Python 3 (ipykernel)",
   "language": "python",
   "name": "python3"
  },
  "language_info": {
   "codemirror_mode": {
    "name": "ipython",
    "version": 3
   },
   "file_extension": ".py",
   "mimetype": "text/x-python",
   "name": "python",
   "nbconvert_exporter": "python",
   "pygments_lexer": "ipython3",
   "version": "3.9.12"
  }
 },
 "nbformat": 4,
 "nbformat_minor": 5
}
