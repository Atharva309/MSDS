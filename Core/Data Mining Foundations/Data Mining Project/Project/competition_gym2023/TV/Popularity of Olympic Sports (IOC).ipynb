{
 "cells": [
  {
   "cell_type": "markdown",
   "id": "7d11f8ed",
   "metadata": {},
   "source": [
    "Popularity of Olympic Sports (IOC)\n",
    "\n",
    "It is very challenging to rank the sports of the world based on popularity. Various methods have been used, such as the number of participants and website traffic. The International Olympic Committee (IOC) has created a ranking of the Summer Olympic Sports in order to determine which sporting International Federations get the greater share of revenue. Their ranking system uses a weighting of television viewing figures, internet traffic, surveys, ticket sales, media coverage, and number of national federations.\n",
    "\n",
    "There are other rankings of popular Olympic Sports, the popular sports webpages on the IOC website, ranking of most widely played Olympic Sport based on the number of National Federations, and the most popular Olympic Sport based on the number of articles published.\n",
    "The IOCs Ranking of Sports\n",
    "\n",
    "The IOC have divided the Summer Olympic sports into six categories based on popularity, using the following criteria: television viewing figures (40%), internet popularity (20%), public surveys (15%), ticket requests (10%), press coverage (10%), and number of national federations (5%). The category of a sport determines the share of Olympic revenue received by that sport's International Federation.\n",
    "Category \tSports\n",
    "A \tathletics, aquatics (artistic swimming, diving, swimming, and water polo), gymnastics\n",
    "B \tbasketball, cycling, football, tennis, volleyball\n",
    "C \tarchery, badminton, boxing, judo, rowing, shooting, table tennis, weightlifting\n",
    "D \tcanoe/kayaking, equestrian, fencing, handball, field hockey, sailing, taekwondo, triathlon, wrestling\n",
    "E \tmodern pentathlon, golf, rugby\n",
    "F \tbaseball/softball, karate, skateboarding, sport climbing, surfing\n",
    "\n",
    "The categories A-E in the above table were used for revenue distribution for the 2016 Rio Olympics. A new category F was added to account for the new sports which were added for the 2020 Tokyo Olympics.\n",
    "Previous Rankings\n",
    "\n",
    "Previously, four categories were used to distribute the revenue from the 2012 London Olympics:\n",
    "\n",
    "    Group A: Athletics\n",
    "    Group B: Aquatics, basketball, cycling, football, gymnastics, tennis, volleyball\n",
    "    Group C: Equestrian, handball, hockey, rowing.\n",
    "    Group D: Archery, badminton, boxing, canoe/kayak, fencing, judo, modern pentathlon, sailing, shooting, table tennis, taekwondo, triathlon, weightlifting, wrestling.\n"
   ]
  },
  {
   "cell_type": "markdown",
   "id": "5de16e1a",
   "metadata": {},
   "source": [
    "https://www.topendsports.com/world/lists/popular-sport/ioc-categories.htm"
   ]
  },
  {
   "cell_type": "code",
   "execution_count": null,
   "id": "b80d9c50",
   "metadata": {},
   "outputs": [],
   "source": []
  }
 ],
 "metadata": {
  "kernelspec": {
   "display_name": "Python 3 (ipykernel)",
   "language": "python",
   "name": "python3"
  },
  "language_info": {
   "codemirror_mode": {
    "name": "ipython",
    "version": 3
   },
   "file_extension": ".py",
   "mimetype": "text/x-python",
   "name": "python",
   "nbconvert_exporter": "python",
   "pygments_lexer": "ipython3",
   "version": "3.9.12"
  }
 },
 "nbformat": 4,
 "nbformat_minor": 5
}
