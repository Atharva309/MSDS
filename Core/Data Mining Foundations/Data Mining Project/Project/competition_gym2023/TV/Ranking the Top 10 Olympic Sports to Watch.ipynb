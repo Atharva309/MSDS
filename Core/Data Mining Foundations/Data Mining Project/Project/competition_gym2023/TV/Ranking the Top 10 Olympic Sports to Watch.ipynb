{
 "cells": [
  {
   "cell_type": "markdown",
   "id": "200a7847",
   "metadata": {},
   "source": [
    "1. Gymnastics\n",
    "\n",
    "Sports fans sometimes believe they could legitimately compete. We play baseball and football in our backyards. We shoot hoops in our driveways. We dabble in Sunday soccer leagues. \n",
    "\n",
    "Most of us cannot pretend we could be competitive gymnasts. \n",
    "\n",
    "Olympic gymnasts are real-life superheroes. They fly through the air with the greatest of ease. They complete feats of strength beyond our capabilities. There is a balance and rhythm to every gymnastics competition. Fans sit and marvel while watching balance beam and pommel horse performances. Floor routines then bring in-arena customers to their feet in excitement and appreciation. \n",
    "\n",
    "It also doesn't hurt that female American gymnasts are often the biggest stars of any Olympics.\n",
    "\n",
    "Mary Lou Retton became became America's sweetheart in the summer of 1984. The \"Magnificent Seven\" made history and won the first ever gold medal for the United States in the team competition in 1996. The \"Fierce Five\" won gold in 2012. Simone Biles, Aly Raisman and Gabby Douglas are all household names, if only for a little while, in 2016.\n",
    "\n",
    "Don't just take our word for it. Ratings, per TV By the Numbers, jumped the second night of the 2016 Summer Olympics when the American female gymnastics team was featured. That broadcast showed events that occurred earlier that day. \n",
    "\n",
    "Gymnastics gives viewers everything they could want from a sporting event. There are phenomenal athletes, compelling stories, pageantry and flips through the air that make for cool highlights. \n",
    "\n",
    "The fact that judges determine who wins and who loses cannot even ruin the beauty of gymnastics. "
   ]
  },
  {
   "cell_type": "markdown",
   "id": "d849eb2a",
   "metadata": {},
   "source": [
    "https://bleacherreport.com/articles/2656664-ranking-the-top-ten-olympic-sports-to-watch"
   ]
  },
  {
   "cell_type": "code",
   "execution_count": null,
   "id": "4cc2d2c2",
   "metadata": {},
   "outputs": [],
   "source": []
  }
 ],
 "metadata": {
  "kernelspec": {
   "display_name": "Python 3 (ipykernel)",
   "language": "python",
   "name": "python3"
  },
  "language_info": {
   "codemirror_mode": {
    "name": "ipython",
    "version": 3
   },
   "file_extension": ".py",
   "mimetype": "text/x-python",
   "name": "python",
   "nbconvert_exporter": "python",
   "pygments_lexer": "ipython3",
   "version": "3.9.12"
  }
 },
 "nbformat": 4,
 "nbformat_minor": 5
}
