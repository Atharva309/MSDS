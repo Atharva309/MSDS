{
 "cells": [
  {
   "cell_type": "markdown",
   "id": "c0f4bf80",
   "metadata": {},
   "source": [
    "The top four sports on the list are the same as the analysis of articles published, though in a different order. This ranking is different from the popularity of Wikipedia sport pages over a longer period, reflecting the apparent temporary popularity of sports such as swimming, athletics and gymnastics at the time of the Olympic Games.\n",
    "\n"
   ]
  },
  {
   "cell_type": "markdown",
   "id": "9b096f56",
   "metadata": {},
   "source": [
    "Here are the results of several studies:\n",
    "\n",
    "- IOC Categories (2020) — The IOC has created a ranking of the Summer Olympic Sports to determine which sports get the greater share of revenue. The top three sports are athletics, aquatics (including artistic swimming, diving, swimming, and water polo) and gymnastics.\n",
    "\n",
    "- Twitter Mentions (2012) - Based on Tweets during the 2012 Olympics, soccer was the most popular: football / fútbol / soccer had over 5 million Tweets. The most discussed athlete of the Games was not surprisingly sprinter Usain Bolt, with nine other Olympians gathering more than 1 million Tweets each. The biggest moments of competition, as measured by Tweets per minute, was the Usain Bolt winning gold in the 200m sprint. See more.\n",
    "\n",
    "- IOC Website Traffic (2004) - Analysis of internet traffic to each sport section of the IOC website in 2004 found aquatics (swimming etc.) the most visited. See more.\n",
    "\n",
    "- Published Articles (2004) - Using data from the Olympic Program Commission about the 2004 Olympic Games, based on newspaper articles. The sport with the most articles published is by a long way Athletics (Track and Field), with swimming second and soccer third. See more.\n",
    "\n",
    "\n",
    "https://www.topendsports.com/world/lists/popular-sport/olympics.htm"
   ]
  },
  {
   "cell_type": "markdown",
   "id": "49e4e001",
   "metadata": {},
   "source": [
    "Below is a list of the most viewed sports pages on Wikipedia, the largest and most visited information website online. I have used a technique inspired by that used by the mostpopularsports.net website, which used the analysis of visitors to a range of sports websites. I have also used a similar method to compare Google search traffic for sport names. See also the comparison of internet traffic to the sports sections of the IOC website.\n",
    "\n",
    "\n",
    "https://www.topendsports.com/world/lists/popular-sport/wiki-sports.htm"
   ]
  },
  {
   "cell_type": "markdown",
   "id": "b527fb14",
   "metadata": {},
   "source": [
    "In the quest to find the world's most popular sports, I have used the power of Google to find the most commonly searched sport names, using Google Trends. Website traffic was similarly used to find the most viewed sports pages on Wikipedia. For Google Trends, the figures are all relative, with each sport term ranked relative to the most popular (in this case football). Football was also the most popular in a similar analysis of the period 2004-2010.\n",
    "\n",
    "https://www.topendsports.com/world/lists/popular-sport/google-trend.htm"
   ]
  },
  {
   "cell_type": "markdown",
   "id": "b3699482",
   "metadata": {},
   "source": [
    "https://en.wikipedia.org/wiki/Olympics_on_United_States_television\n",
    "\n",
    "Olympics on United States television"
   ]
  },
  {
   "cell_type": "code",
   "execution_count": null,
   "id": "a0f636b7",
   "metadata": {},
   "outputs": [],
   "source": []
  }
 ],
 "metadata": {
  "kernelspec": {
   "display_name": "Python 3 (ipykernel)",
   "language": "python",
   "name": "python3"
  },
  "language_info": {
   "codemirror_mode": {
    "name": "ipython",
    "version": 3
   },
   "file_extension": ".py",
   "mimetype": "text/x-python",
   "name": "python",
   "nbconvert_exporter": "python",
   "pygments_lexer": "ipython3",
   "version": "3.9.12"
  }
 },
 "nbformat": 4,
 "nbformat_minor": 5
}
