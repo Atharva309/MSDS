{
 "cells": [
  {
   "cell_type": "code",
   "execution_count": 1,
   "id": "c58d7bbe",
   "metadata": {},
   "outputs": [],
   "source": [
    "import pandas as pd\n",
    "import numpy as np"
   ]
  },
  {
   "cell_type": "code",
   "execution_count": 2,
   "id": "525c6d9a",
   "metadata": {},
   "outputs": [],
   "source": [
    "df = pd.read_csv('men22_23.csv')"
   ]
  },
  {
   "cell_type": "code",
   "execution_count": 3,
   "id": "c02a673d",
   "metadata": {},
   "outputs": [
    {
     "data": {
      "text/plain": [
       "Gender\n",
       "m    8578\n",
       "Name: count, dtype: int64"
      ]
     },
     "execution_count": 3,
     "metadata": {},
     "output_type": "execute_result"
    }
   ],
   "source": [
    "df['Gender'].value_counts()"
   ]
  },
  {
   "cell_type": "code",
   "execution_count": 4,
   "id": "3982fad8",
   "metadata": {},
   "outputs": [],
   "source": [
    "df = df.drop(columns=['Gender', 'Competition', 'Location', 'Total_Score'])"
   ]
  },
  {
   "cell_type": "code",
   "execution_count": 5,
   "id": "d6960497",
   "metadata": {},
   "outputs": [],
   "source": [
    "df['year'] = df['Date'].str[:4]\n"
   ]
  },
  {
   "cell_type": "code",
   "execution_count": 6,
   "id": "0f872b8d",
   "metadata": {},
   "outputs": [],
   "source": [
    "df = df.drop(columns=['Date'])"
   ]
  },
  {
   "cell_type": "code",
   "execution_count": 7,
   "id": "710bf56f",
   "metadata": {},
   "outputs": [
    {
     "data": {
      "text/html": [
       "<div>\n",
       "<style scoped>\n",
       "    .dataframe tbody tr th:only-of-type {\n",
       "        vertical-align: middle;\n",
       "    }\n",
       "\n",
       "    .dataframe tbody tr th {\n",
       "        vertical-align: top;\n",
       "    }\n",
       "\n",
       "    .dataframe thead th {\n",
       "        text-align: right;\n",
       "    }\n",
       "</style>\n",
       "<table border=\"1\" class=\"dataframe\">\n",
       "  <thead>\n",
       "    <tr style=\"text-align: right;\">\n",
       "      <th></th>\n",
       "      <th>Name</th>\n",
       "      <th>Country</th>\n",
       "      <th>Round</th>\n",
       "      <th>Apparatus</th>\n",
       "      <th>Rank</th>\n",
       "      <th>D_Score</th>\n",
       "      <th>E_Score</th>\n",
       "      <th>Penalty</th>\n",
       "      <th>Score</th>\n",
       "      <th>year</th>\n",
       "    </tr>\n",
       "  </thead>\n",
       "  <tbody>\n",
       "    <tr>\n",
       "      <th>0</th>\n",
       "      <td>Fredrik AAS</td>\n",
       "      <td>NOR</td>\n",
       "      <td>qual</td>\n",
       "      <td>HB</td>\n",
       "      <td>39.0</td>\n",
       "      <td>4.6</td>\n",
       "      <td>6.700</td>\n",
       "      <td>0.0</td>\n",
       "      <td>11.300</td>\n",
       "      <td>2023</td>\n",
       "    </tr>\n",
       "    <tr>\n",
       "      <th>1</th>\n",
       "      <td>Fredrik AAS</td>\n",
       "      <td>NOR</td>\n",
       "      <td>qual</td>\n",
       "      <td>PH</td>\n",
       "      <td>44.0</td>\n",
       "      <td>4.4</td>\n",
       "      <td>7.800</td>\n",
       "      <td>0.0</td>\n",
       "      <td>12.200</td>\n",
       "      <td>2023</td>\n",
       "    </tr>\n",
       "    <tr>\n",
       "      <th>2</th>\n",
       "      <td>Fredrik Bjornevik AAS</td>\n",
       "      <td>NOR</td>\n",
       "      <td>qual</td>\n",
       "      <td>FX</td>\n",
       "      <td>54.0</td>\n",
       "      <td>4.0</td>\n",
       "      <td>8.566</td>\n",
       "      <td>0.0</td>\n",
       "      <td>12.566</td>\n",
       "      <td>2023</td>\n",
       "    </tr>\n",
       "    <tr>\n",
       "      <th>3</th>\n",
       "      <td>Fredrik Bjornevik AAS</td>\n",
       "      <td>NOR</td>\n",
       "      <td>qual</td>\n",
       "      <td>HB</td>\n",
       "      <td>44.0</td>\n",
       "      <td>4.6</td>\n",
       "      <td>8.166</td>\n",
       "      <td>0.0</td>\n",
       "      <td>12.766</td>\n",
       "      <td>2023</td>\n",
       "    </tr>\n",
       "    <tr>\n",
       "      <th>4</th>\n",
       "      <td>Fredrik Bjornevik AAS</td>\n",
       "      <td>NOR</td>\n",
       "      <td>qual</td>\n",
       "      <td>PB</td>\n",
       "      <td>54.0</td>\n",
       "      <td>4.4</td>\n",
       "      <td>8.066</td>\n",
       "      <td>0.0</td>\n",
       "      <td>12.466</td>\n",
       "      <td>2023</td>\n",
       "    </tr>\n",
       "  </tbody>\n",
       "</table>\n",
       "</div>"
      ],
      "text/plain": [
       "                    Name Country Round Apparatus  Rank  D_Score  E_Score  \\\n",
       "0            Fredrik AAS     NOR  qual        HB  39.0      4.6    6.700   \n",
       "1            Fredrik AAS     NOR  qual        PH  44.0      4.4    7.800   \n",
       "2  Fredrik Bjornevik AAS     NOR  qual        FX  54.0      4.0    8.566   \n",
       "3  Fredrik Bjornevik AAS     NOR  qual        HB  44.0      4.6    8.166   \n",
       "4  Fredrik Bjornevik AAS     NOR  qual        PB  54.0      4.4    8.066   \n",
       "\n",
       "   Penalty   Score  year  \n",
       "0      0.0  11.300  2023  \n",
       "1      0.0  12.200  2023  \n",
       "2      0.0  12.566  2023  \n",
       "3      0.0  12.766  2023  \n",
       "4      0.0  12.466  2023  "
      ]
     },
     "execution_count": 7,
     "metadata": {},
     "output_type": "execute_result"
    }
   ],
   "source": [
    "df.head()"
   ]
  },
  {
   "cell_type": "code",
   "execution_count": 8,
   "id": "915a2895",
   "metadata": {},
   "outputs": [],
   "source": [
    "df['Name'] = df['Name'].str.lower()\n"
   ]
  },
  {
   "cell_type": "code",
   "execution_count": 9,
   "id": "777a4882",
   "metadata": {},
   "outputs": [],
   "source": [
    "df['Country'].fillna('none', inplace=True)\n",
    "df['year'].fillna(2023, inplace=True)"
   ]
  },
  {
   "cell_type": "code",
   "execution_count": 10,
   "id": "08708f37",
   "metadata": {},
   "outputs": [
    {
     "data": {
      "text/plain": [
       "array(['HB', 'PH', 'FX', 'PB', 'SR', 'VT1', 'VT', 'VT2', 'hb'],\n",
       "      dtype=object)"
      ]
     },
     "execution_count": 10,
     "metadata": {},
     "output_type": "execute_result"
    }
   ],
   "source": [
    "df['Apparatus'].unique()"
   ]
  },
  {
   "cell_type": "code",
   "execution_count": 11,
   "id": "d7c97aff",
   "metadata": {},
   "outputs": [],
   "source": [
    "df['Apparatus'] = df['Apparatus'].str.upper()"
   ]
  },
  {
   "cell_type": "code",
   "execution_count": 12,
   "id": "a31ce7c3",
   "metadata": {},
   "outputs": [],
   "source": [
    "hb = df[df['Apparatus'] == 'HB']\n",
    "ph = df[df['Apparatus'] == 'PH']\n",
    "fx = df[df['Apparatus'] == 'FX']\n",
    "pb = df[df['Apparatus'] == 'PB']\n",
    "sr = df[df['Apparatus'] == 'SR']\n"
   ]
  },
  {
   "cell_type": "code",
   "execution_count": 13,
   "id": "089e0da9",
   "metadata": {},
   "outputs": [
    {
     "name": "stdout",
     "output_type": "stream",
     "text": [
      "<class 'pandas.core.frame.DataFrame'>\n",
      "Index: 1347 entries, 0 to 8575\n",
      "Data columns (total 10 columns):\n",
      " #   Column     Non-Null Count  Dtype  \n",
      "---  ------     --------------  -----  \n",
      " 0   Name       1347 non-null   object \n",
      " 1   Country    1347 non-null   object \n",
      " 2   Round      1347 non-null   object \n",
      " 3   Apparatus  1347 non-null   object \n",
      " 4   Rank       1347 non-null   float64\n",
      " 5   D_Score    1347 non-null   float64\n",
      " 6   E_Score    1347 non-null   float64\n",
      " 7   Penalty    1347 non-null   float64\n",
      " 8   Score      1347 non-null   float64\n",
      " 9   year       1347 non-null   object \n",
      "dtypes: float64(5), object(5)\n",
      "memory usage: 115.8+ KB\n"
     ]
    }
   ],
   "source": [
    "hb.info()"
   ]
  },
  {
   "cell_type": "code",
   "execution_count": 14,
   "id": "e1c4a637",
   "metadata": {},
   "outputs": [],
   "source": [
    "values_to_remove = ['HB', 'PH', 'FX', 'PB', 'SR']\n",
    "\n",
    "# Remove rows where 'Apparatus' is in values_to_remove\n",
    "filtered_df = df[~df['Apparatus'].isin(values_to_remove)]\n"
   ]
  },
  {
   "cell_type": "code",
   "execution_count": 15,
   "id": "72cef13a",
   "metadata": {},
   "outputs": [
    {
     "data": {
      "text/plain": [
       "Apparatus\n",
       "VT1    962\n",
       "VT2    516\n",
       "VT     279\n",
       "Name: count, dtype: int64"
      ]
     },
     "execution_count": 15,
     "metadata": {},
     "output_type": "execute_result"
    }
   ],
   "source": [
    "filtered_df['Apparatus'].value_counts()"
   ]
  },
  {
   "cell_type": "code",
   "execution_count": 16,
   "id": "1eb043d7",
   "metadata": {},
   "outputs": [],
   "source": [
    "vt = filtered_df.copy()"
   ]
  },
  {
   "cell_type": "code",
   "execution_count": 17,
   "id": "ec50b97e",
   "metadata": {},
   "outputs": [],
   "source": [
    "sr = sr.drop(columns=['Apparatus'])\n",
    "pb = pb.drop(columns=['Apparatus'])\n",
    "fx = fx.drop(columns=['Apparatus'])\n",
    "vt = vt.drop(columns=['Apparatus'])\n",
    "ph = ph.drop(columns=['Apparatus'])\n",
    "hb = hb.drop(columns=['Apparatus'])"
   ]
  },
  {
   "cell_type": "code",
   "execution_count": 18,
   "id": "e6ac84b2",
   "metadata": {},
   "outputs": [],
   "source": [
    "sr.rename(columns={'Country': 'nation', 'D_Score': 'D Score',\n",
    "                            'E_Score': 'E Score', 'Penalty': 'Pen.',\n",
    "                           'Score': 'Total', 'Round': 'round'}, inplace=True)\n",
    "\n",
    "sr=sr[['Rank', 'Name', 'nation', 'D Score', 'E Score', 'Pen.', \n",
    "                         'Total','year' , 'round' ]]"
   ]
  },
  {
   "cell_type": "code",
   "execution_count": 19,
   "id": "6a65fd93",
   "metadata": {},
   "outputs": [],
   "source": [
    "pb.rename(columns={'Country': 'nation', 'D_Score': 'D Score',\n",
    "                            'E_Score': 'E Score', 'Penalty': 'Pen.',\n",
    "                           'Score': 'Total', 'Round': 'round'}, inplace=True)\n",
    "\n",
    "pb=pb[['Rank', 'Name', 'nation', 'D Score', 'E Score', 'Pen.', \n",
    "                         'Total','year' , 'round' ]]"
   ]
  },
  {
   "cell_type": "code",
   "execution_count": 20,
   "id": "45944535",
   "metadata": {},
   "outputs": [],
   "source": [
    "fx.rename(columns={'Country': 'nation', 'D_Score': 'D Score',\n",
    "                            'E_Score': 'E Score', 'Penalty': 'Pen.',\n",
    "                           'Score': 'Total', 'Round': 'round'}, inplace=True)\n",
    "\n",
    "fx=fx[['Rank', 'Name', 'nation', 'D Score', 'E Score', 'Pen.', \n",
    "                         'Total','year' , 'round' ]]"
   ]
  },
  {
   "cell_type": "code",
   "execution_count": 21,
   "id": "e70795f2",
   "metadata": {},
   "outputs": [],
   "source": [
    "vt.rename(columns={'Country': 'nation', 'D_Score': 'D Score',\n",
    "                            'E_Score': 'E Score', 'Penalty': 'Pen.',\n",
    "                           'Score': 'Total', 'Round': 'round'}, inplace=True)\n",
    "\n",
    "vt=vt[['Rank', 'Name', 'nation', 'D Score', 'E Score', 'Pen.', \n",
    "                         'Total','year' , 'round' ]]"
   ]
  },
  {
   "cell_type": "code",
   "execution_count": 22,
   "id": "7ce02fc8",
   "metadata": {},
   "outputs": [],
   "source": [
    "ph.rename(columns={'Country': 'nation', 'D_Score': 'D Score',\n",
    "                            'E_Score': 'E Score', 'Penalty': 'Pen.',\n",
    "                           'Score': 'Total', 'Round': 'round'}, inplace=True)\n",
    "\n",
    "ph=ph[['Rank', 'Name', 'nation', 'D Score', 'E Score', 'Pen.', \n",
    "                         'Total','year' , 'round' ]]"
   ]
  },
  {
   "cell_type": "code",
   "execution_count": 23,
   "id": "3200cd5c",
   "metadata": {},
   "outputs": [],
   "source": [
    "hb.rename(columns={'Country': 'nation', 'D_Score': 'D Score',\n",
    "                            'E_Score': 'E Score', 'Penalty': 'Pen.',\n",
    "                           'Score': 'Total', 'Round': 'round'}, inplace=True)\n",
    "\n",
    "hb=hb[['Rank', 'Name', 'nation', 'D Score', 'E Score', 'Pen.', \n",
    "                         'Total','year' , 'round' ]]"
   ]
  },
  {
   "cell_type": "code",
   "execution_count": 24,
   "id": "7bac10c1",
   "metadata": {},
   "outputs": [],
   "source": [
    "from sklearn.preprocessing import LabelEncoder\n",
    "\n",
    "# Assuming df is your DataFrame and 'Name' is the column you want to encode\n",
    "le = LabelEncoder()\n",
    "\n",
    "# Fit and transform the 'Name' column to create integer labels\n",
    "fx['Name_encoded'] = le.fit_transform(fx['Name'])\n",
    "\n"
   ]
  },
  {
   "cell_type": "code",
   "execution_count": 25,
   "id": "00709f25",
   "metadata": {},
   "outputs": [],
   "source": [
    "fxnames = fx[['Name', 'Name_encoded']]"
   ]
  },
  {
   "cell_type": "code",
   "execution_count": 26,
   "id": "07c09c02",
   "metadata": {},
   "outputs": [],
   "source": [
    "fx=fx.drop(columns=[\"Name\"])\n",
    "fx.rename(columns={'Name_encoded': 'Name'}, inplace=True)"
   ]
  },
  {
   "cell_type": "code",
   "execution_count": 27,
   "id": "f81ded84",
   "metadata": {},
   "outputs": [],
   "source": [
    "from sklearn.preprocessing import LabelEncoder\n",
    "\n",
    "# Assuming df is your DataFrame and 'Name' is the column you want to encode\n",
    "le = LabelEncoder()\n",
    "\n",
    "# Fit and transform the 'Name' column to create integer labels\n",
    "fx['nation_encoded'] = le.fit_transform(fx['nation'])\n",
    "\n",
    "# Store the mapping between integers and original objects\n",
    "label_mapping_nation = dict(zip(le.transform(fx['nation']), fx['nation']))\n",
    "\n",
    "# To revert the integers back to objects, use the label_mapping\n",
    "# reverted_names = df['Name_encoded'].map(label_mapping)"
   ]
  },
  {
   "cell_type": "code",
   "execution_count": 28,
   "id": "f4fa11ce",
   "metadata": {},
   "outputs": [],
   "source": [
    "fx=fx.drop(columns=[\"nation\"])\n",
    "fx.rename(columns={'nation_encoded': 'nation'}, inplace=True)"
   ]
  },
  {
   "cell_type": "code",
   "execution_count": 29,
   "id": "7c9461eb",
   "metadata": {},
   "outputs": [],
   "source": [
    "fx_encoded = pd.get_dummies(fx, columns=['round'], prefix='round')"
   ]
  },
  {
   "cell_type": "code",
   "execution_count": 30,
   "id": "56379fd1",
   "metadata": {},
   "outputs": [],
   "source": [
    "fx_encoded['year'] = pd.to_numeric(fx_encoded['year'], errors='coerce').fillna(0).astype(int)\n"
   ]
  },
  {
   "cell_type": "code",
   "execution_count": 31,
   "id": "b7f441de",
   "metadata": {},
   "outputs": [
    {
     "name": "stdout",
     "output_type": "stream",
     "text": [
      "<class 'pandas.core.frame.DataFrame'>\n",
      "Index: 1365 entries, 2 to 8574\n",
      "Data columns (total 12 columns):\n",
      " #   Column           Non-Null Count  Dtype  \n",
      "---  ------           --------------  -----  \n",
      " 0   Rank             1365 non-null   float64\n",
      " 1   D Score          1365 non-null   float64\n",
      " 2   E Score          1365 non-null   float64\n",
      " 3   Pen.             1365 non-null   float64\n",
      " 4   Total            1365 non-null   float64\n",
      " 5   year             1365 non-null   int64  \n",
      " 6   Name             1365 non-null   int64  \n",
      " 7   nation           1365 non-null   int64  \n",
      " 8   round_AAfinal    1365 non-null   bool   \n",
      " 9   round_TeamFinal  1365 non-null   bool   \n",
      " 10  round_final      1365 non-null   bool   \n",
      " 11  round_qual       1365 non-null   bool   \n",
      "dtypes: bool(4), float64(5), int64(3)\n",
      "memory usage: 101.3 KB\n"
     ]
    }
   ],
   "source": [
    "fx_encoded.info()"
   ]
  },
  {
   "cell_type": "code",
   "execution_count": 32,
   "id": "95b1a29c",
   "metadata": {},
   "outputs": [],
   "source": [
    "fx = fx_encoded.copy()"
   ]
  },
  {
   "cell_type": "code",
   "execution_count": 33,
   "id": "e46424f4",
   "metadata": {},
   "outputs": [],
   "source": [
    "# fx.to_csv(\"encoded_m_olympics_fx.csv\", index=False)  \n",
    "# fxnames.to_csv(\"encoded_m_olympics_fxnames.csv\", index=False)  "
   ]
  },
  {
   "cell_type": "code",
   "execution_count": 34,
   "id": "71bd31e5",
   "metadata": {},
   "outputs": [],
   "source": [
    "from sklearn.preprocessing import LabelEncoder\n",
    "\n",
    "# Assuming df is your DataFrame and 'Name' is the column you want to encode\n",
    "le = LabelEncoder()\n",
    "\n",
    "# Fit and transform the 'Name' column to create integer labels\n",
    "hb['Name_encoded'] = le.fit_transform(hb['Name'])\n",
    "\n"
   ]
  },
  {
   "cell_type": "code",
   "execution_count": 36,
   "id": "b8fedae1",
   "metadata": {},
   "outputs": [],
   "source": [
    "hbnames = hb[['Name', 'Name_encoded']]"
   ]
  },
  {
   "cell_type": "code",
   "execution_count": 37,
   "id": "050afbee",
   "metadata": {},
   "outputs": [],
   "source": [
    "hb=hb.drop(columns=[\"Name\"])\n",
    "hb.rename(columns={'Name_encoded': 'Name'}, inplace=True)"
   ]
  },
  {
   "cell_type": "code",
   "execution_count": 38,
   "id": "50f20039",
   "metadata": {},
   "outputs": [],
   "source": [
    "from sklearn.preprocessing import LabelEncoder\n",
    "\n",
    "# Assuming df is your DataFrame and 'Name' is the column you want to encode\n",
    "le = LabelEncoder()\n",
    "\n",
    "# Fit and transform the 'Name' column to create integer labels\n",
    "hb['nation_encoded'] = le.fit_transform(hb['nation'])\n",
    "\n",
    "# Store the mapping between integers and original objects\n",
    "label_mapping_nation = dict(zip(le.transform(hb['nation']), hb['nation']))\n",
    "\n",
    "# To revert the integers back to objects, use the label_mapping\n",
    "# reverted_names = df['Name_encoded'].map(label_mapping)"
   ]
  },
  {
   "cell_type": "code",
   "execution_count": 39,
   "id": "0adc56c9",
   "metadata": {},
   "outputs": [],
   "source": [
    "hb=hb.drop(columns=[\"nation\"])\n",
    "hb.rename(columns={'nation_encoded': 'nation'}, inplace=True)"
   ]
  },
  {
   "cell_type": "code",
   "execution_count": 41,
   "id": "5a4d4646",
   "metadata": {},
   "outputs": [],
   "source": [
    "hb_encoded = pd.get_dummies(hb, columns=['round'], prefix='round')\n",
    "hb_encoded['year'] = pd.to_numeric(hb_encoded['year'], errors='coerce').fillna(0).astype(int)\n"
   ]
  },
  {
   "cell_type": "code",
   "execution_count": 42,
   "id": "4e092640",
   "metadata": {},
   "outputs": [
    {
     "name": "stdout",
     "output_type": "stream",
     "text": [
      "<class 'pandas.core.frame.DataFrame'>\n",
      "Index: 1347 entries, 0 to 8575\n",
      "Data columns (total 12 columns):\n",
      " #   Column           Non-Null Count  Dtype  \n",
      "---  ------           --------------  -----  \n",
      " 0   Rank             1347 non-null   float64\n",
      " 1   D Score          1347 non-null   float64\n",
      " 2   E Score          1347 non-null   float64\n",
      " 3   Pen.             1347 non-null   float64\n",
      " 4   Total            1347 non-null   float64\n",
      " 5   year             1347 non-null   int64  \n",
      " 6   Name             1347 non-null   int64  \n",
      " 7   nation           1347 non-null   int64  \n",
      " 8   round_AAfinal    1347 non-null   bool   \n",
      " 9   round_TeamFinal  1347 non-null   bool   \n",
      " 10  round_final      1347 non-null   bool   \n",
      " 11  round_qual       1347 non-null   bool   \n",
      "dtypes: bool(4), float64(5), int64(3)\n",
      "memory usage: 100.0 KB\n"
     ]
    }
   ],
   "source": [
    "hb_encoded.info()"
   ]
  },
  {
   "cell_type": "code",
   "execution_count": 43,
   "id": "6ea0f22a",
   "metadata": {},
   "outputs": [],
   "source": [
    "hb = hb_encoded.copy()"
   ]
  },
  {
   "cell_type": "code",
   "execution_count": 44,
   "id": "6b0953eb",
   "metadata": {},
   "outputs": [],
   "source": [
    "# hb.to_csv(\"encoded_m_olympics_hb.csv\", index=False)  \n",
    "# hbnames.to_csv(\"encoded_m_olympics_hbnames.csv\", index=False)  "
   ]
  },
  {
   "cell_type": "code",
   "execution_count": 45,
   "id": "460db58e",
   "metadata": {},
   "outputs": [],
   "source": [
    "from sklearn.preprocessing import LabelEncoder\n",
    "\n",
    "# Assuming df is your DataFrame and 'Name' is the column you want to encode\n",
    "le = LabelEncoder()\n",
    "\n",
    "# Fit and transform the 'Name' column to create integer labels\n",
    "pb['Name_encoded'] = le.fit_transform(pb['Name'])\n",
    "\n"
   ]
  },
  {
   "cell_type": "code",
   "execution_count": 46,
   "id": "0414986d",
   "metadata": {},
   "outputs": [],
   "source": [
    "pbnames = pb[['Name', 'Name_encoded']]"
   ]
  },
  {
   "cell_type": "code",
   "execution_count": 47,
   "id": "07892253",
   "metadata": {},
   "outputs": [],
   "source": [
    "pb=pb.drop(columns=[\"Name\"])\n",
    "pb.rename(columns={'Name_encoded': 'Name'}, inplace=True)"
   ]
  },
  {
   "cell_type": "code",
   "execution_count": 48,
   "id": "a13232df",
   "metadata": {},
   "outputs": [],
   "source": [
    "from sklearn.preprocessing import LabelEncoder\n",
    "\n",
    "# Assuming df is your DataFrame and 'Name' is the column you want to encode\n",
    "le = LabelEncoder()\n",
    "\n",
    "# Fit and transform the 'Name' column to create integer labels\n",
    "pb['nation_encoded'] = le.fit_transform(pb['nation'])\n",
    "\n",
    "# Store the mapping between integers and original objects\n",
    "label_mapping_nation = dict(zip(le.transform(pb['nation']), pb['nation']))\n",
    "\n",
    "# To revert the integers back to objects, use the label_mapping\n",
    "# reverted_names = df['Name_encoded'].map(label_mapping)"
   ]
  },
  {
   "cell_type": "code",
   "execution_count": 49,
   "id": "0e1d0cd7",
   "metadata": {},
   "outputs": [],
   "source": [
    "pb=pb.drop(columns=[\"nation\"])\n",
    "pb.rename(columns={'nation_encoded': 'nation'}, inplace=True)"
   ]
  },
  {
   "cell_type": "code",
   "execution_count": 50,
   "id": "60d72115",
   "metadata": {},
   "outputs": [],
   "source": [
    "pb_encoded = pd.get_dummies(pb, columns=['round'], prefix='round')\n",
    "pb_encoded['year'] = pd.to_numeric(pb_encoded['year'], errors='coerce').fillna(0).astype(int)\n"
   ]
  },
  {
   "cell_type": "code",
   "execution_count": 51,
   "id": "98023878",
   "metadata": {},
   "outputs": [
    {
     "name": "stdout",
     "output_type": "stream",
     "text": [
      "<class 'pandas.core.frame.DataFrame'>\n",
      "Index: 1339 entries, 4 to 8577\n",
      "Data columns (total 12 columns):\n",
      " #   Column           Non-Null Count  Dtype  \n",
      "---  ------           --------------  -----  \n",
      " 0   Rank             1339 non-null   float64\n",
      " 1   D Score          1339 non-null   float64\n",
      " 2   E Score          1339 non-null   float64\n",
      " 3   Pen.             1339 non-null   float64\n",
      " 4   Total            1339 non-null   float64\n",
      " 5   year             1339 non-null   int64  \n",
      " 6   Name             1339 non-null   int64  \n",
      " 7   nation           1339 non-null   int64  \n",
      " 8   round_AAfinal    1339 non-null   bool   \n",
      " 9   round_TeamFinal  1339 non-null   bool   \n",
      " 10  round_final      1339 non-null   bool   \n",
      " 11  round_qual       1339 non-null   bool   \n",
      "dtypes: bool(4), float64(5), int64(3)\n",
      "memory usage: 99.4 KB\n"
     ]
    }
   ],
   "source": [
    "pb_encoded.info()"
   ]
  },
  {
   "cell_type": "code",
   "execution_count": 52,
   "id": "5e0848c3",
   "metadata": {},
   "outputs": [],
   "source": [
    "pb = pb_encoded.copy()"
   ]
  },
  {
   "cell_type": "code",
   "execution_count": 53,
   "id": "484ec34c",
   "metadata": {},
   "outputs": [],
   "source": [
    "# pb.to_csv(\"encoded_m_olympics_pb.csv\", index=False)  \n",
    "# pbnames.to_csv(\"encoded_m_olympics_pbnames.csv\", index=False)  "
   ]
  },
  {
   "cell_type": "code",
   "execution_count": null,
   "id": "a694468e",
   "metadata": {},
   "outputs": [],
   "source": []
  }
 ],
 "metadata": {
  "kernelspec": {
   "display_name": "Python 3 (ipykernel)",
   "language": "python",
   "name": "python3"
  },
  "language_info": {
   "codemirror_mode": {
    "name": "ipython",
    "version": 3
   },
   "file_extension": ".py",
   "mimetype": "text/x-python",
   "name": "python",
   "nbconvert_exporter": "python",
   "pygments_lexer": "ipython3",
   "version": "3.9.12"
  }
 },
 "nbformat": 4,
 "nbformat_minor": 5
}
