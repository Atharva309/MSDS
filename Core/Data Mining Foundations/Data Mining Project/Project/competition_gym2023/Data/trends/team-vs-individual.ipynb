{
 "cells": [
  {
   "cell_type": "code",
   "execution_count": 5,
   "id": "b116c4fe",
   "metadata": {},
   "outputs": [],
   "source": [
    "import pandas as pd\n",
    "import numpy as np"
   ]
  },
  {
   "cell_type": "code",
   "execution_count": 6,
   "id": "f282e6d2",
   "metadata": {},
   "outputs": [],
   "source": [
    "df = pd.read_csv(\"team-vs-individual-multiTimeline.csv\")"
   ]
  },
  {
   "cell_type": "code",
   "execution_count": 7,
   "id": "467a2933",
   "metadata": {},
   "outputs": [
    {
     "data": {
      "text/html": [
       "<div>\n",
       "<style scoped>\n",
       "    .dataframe tbody tr th:only-of-type {\n",
       "        vertical-align: middle;\n",
       "    }\n",
       "\n",
       "    .dataframe tbody tr th {\n",
       "        vertical-align: top;\n",
       "    }\n",
       "\n",
       "    .dataframe thead th {\n",
       "        text-align: right;\n",
       "    }\n",
       "</style>\n",
       "<table border=\"1\" class=\"dataframe\">\n",
       "  <thead>\n",
       "    <tr style=\"text-align: right;\">\n",
       "      <th></th>\n",
       "      <th>Month</th>\n",
       "      <th>womens gymnastics: (United States)</th>\n",
       "      <th>Individual all-around: (United States)</th>\n",
       "      <th>gymnastics: (United States)</th>\n",
       "      <th>gymnastics team: (United States)</th>\n",
       "      <th>team final: (United States)</th>\n",
       "    </tr>\n",
       "  </thead>\n",
       "  <tbody>\n",
       "    <tr>\n",
       "      <th>0</th>\n",
       "      <td>2004-01</td>\n",
       "      <td>&lt;1</td>\n",
       "      <td>0</td>\n",
       "      <td>12</td>\n",
       "      <td>&lt;1</td>\n",
       "      <td>&lt;1</td>\n",
       "    </tr>\n",
       "    <tr>\n",
       "      <th>1</th>\n",
       "      <td>2004-02</td>\n",
       "      <td>&lt;1</td>\n",
       "      <td>0</td>\n",
       "      <td>11</td>\n",
       "      <td>&lt;1</td>\n",
       "      <td>&lt;1</td>\n",
       "    </tr>\n",
       "    <tr>\n",
       "      <th>2</th>\n",
       "      <td>2004-03</td>\n",
       "      <td>&lt;1</td>\n",
       "      <td>0</td>\n",
       "      <td>10</td>\n",
       "      <td>&lt;1</td>\n",
       "      <td>&lt;1</td>\n",
       "    </tr>\n",
       "    <tr>\n",
       "      <th>3</th>\n",
       "      <td>2004-04</td>\n",
       "      <td>&lt;1</td>\n",
       "      <td>0</td>\n",
       "      <td>9</td>\n",
       "      <td>&lt;1</td>\n",
       "      <td>0</td>\n",
       "    </tr>\n",
       "    <tr>\n",
       "      <th>4</th>\n",
       "      <td>2004-05</td>\n",
       "      <td>&lt;1</td>\n",
       "      <td>0</td>\n",
       "      <td>9</td>\n",
       "      <td>&lt;1</td>\n",
       "      <td>&lt;1</td>\n",
       "    </tr>\n",
       "    <tr>\n",
       "      <th>...</th>\n",
       "      <td>...</td>\n",
       "      <td>...</td>\n",
       "      <td>...</td>\n",
       "      <td>...</td>\n",
       "      <td>...</td>\n",
       "      <td>...</td>\n",
       "    </tr>\n",
       "    <tr>\n",
       "      <th>232</th>\n",
       "      <td>2023-05</td>\n",
       "      <td>&lt;1</td>\n",
       "      <td>&lt;1</td>\n",
       "      <td>8</td>\n",
       "      <td>&lt;1</td>\n",
       "      <td>&lt;1</td>\n",
       "    </tr>\n",
       "    <tr>\n",
       "      <th>233</th>\n",
       "      <td>2023-06</td>\n",
       "      <td>&lt;1</td>\n",
       "      <td>0</td>\n",
       "      <td>9</td>\n",
       "      <td>&lt;1</td>\n",
       "      <td>&lt;1</td>\n",
       "    </tr>\n",
       "    <tr>\n",
       "      <th>234</th>\n",
       "      <td>2023-07</td>\n",
       "      <td>&lt;1</td>\n",
       "      <td>0</td>\n",
       "      <td>9</td>\n",
       "      <td>&lt;1</td>\n",
       "      <td>&lt;1</td>\n",
       "    </tr>\n",
       "    <tr>\n",
       "      <th>235</th>\n",
       "      <td>2023-08</td>\n",
       "      <td>&lt;1</td>\n",
       "      <td>0</td>\n",
       "      <td>14</td>\n",
       "      <td>&lt;1</td>\n",
       "      <td>&lt;1</td>\n",
       "    </tr>\n",
       "    <tr>\n",
       "      <th>236</th>\n",
       "      <td>2023-09</td>\n",
       "      <td>&lt;1</td>\n",
       "      <td>0</td>\n",
       "      <td>9</td>\n",
       "      <td>&lt;1</td>\n",
       "      <td>&lt;1</td>\n",
       "    </tr>\n",
       "  </tbody>\n",
       "</table>\n",
       "<p>237 rows × 6 columns</p>\n",
       "</div>"
      ],
      "text/plain": [
       "       Month womens gymnastics: (United States)  \\\n",
       "0    2004-01                                 <1   \n",
       "1    2004-02                                 <1   \n",
       "2    2004-03                                 <1   \n",
       "3    2004-04                                 <1   \n",
       "4    2004-05                                 <1   \n",
       "..       ...                                ...   \n",
       "232  2023-05                                 <1   \n",
       "233  2023-06                                 <1   \n",
       "234  2023-07                                 <1   \n",
       "235  2023-08                                 <1   \n",
       "236  2023-09                                 <1   \n",
       "\n",
       "    Individual all-around: (United States)  gymnastics: (United States)  \\\n",
       "0                                        0                           12   \n",
       "1                                        0                           11   \n",
       "2                                        0                           10   \n",
       "3                                        0                            9   \n",
       "4                                        0                            9   \n",
       "..                                     ...                          ...   \n",
       "232                                     <1                            8   \n",
       "233                                      0                            9   \n",
       "234                                      0                            9   \n",
       "235                                      0                           14   \n",
       "236                                      0                            9   \n",
       "\n",
       "    gymnastics team: (United States) team final: (United States)  \n",
       "0                                 <1                          <1  \n",
       "1                                 <1                          <1  \n",
       "2                                 <1                          <1  \n",
       "3                                 <1                           0  \n",
       "4                                 <1                          <1  \n",
       "..                               ...                         ...  \n",
       "232                               <1                          <1  \n",
       "233                               <1                          <1  \n",
       "234                               <1                          <1  \n",
       "235                               <1                          <1  \n",
       "236                               <1                          <1  \n",
       "\n",
       "[237 rows x 6 columns]"
      ]
     },
     "execution_count": 7,
     "metadata": {},
     "output_type": "execute_result"
    }
   ],
   "source": [
    "df"
   ]
  },
  {
   "cell_type": "code",
   "execution_count": 8,
   "id": "323ec918",
   "metadata": {},
   "outputs": [
    {
     "name": "stdout",
     "output_type": "stream",
     "text": [
      "<class 'pandas.core.frame.DataFrame'>\n",
      "RangeIndex: 237 entries, 0 to 236\n",
      "Data columns (total 6 columns):\n",
      " #   Column                                  Non-Null Count  Dtype \n",
      "---  ------                                  --------------  ----- \n",
      " 0   Month                                   237 non-null    object\n",
      " 1   womens gymnastics: (United States)      237 non-null    object\n",
      " 2   Individual all-around: (United States)  237 non-null    object\n",
      " 3   gymnastics: (United States)             237 non-null    int64 \n",
      " 4   gymnastics team: (United States)        237 non-null    object\n",
      " 5   team final: (United States)             237 non-null    object\n",
      "dtypes: int64(1), object(5)\n",
      "memory usage: 11.2+ KB\n"
     ]
    }
   ],
   "source": [
    "df.info()"
   ]
  },
  {
   "cell_type": "code",
   "execution_count": 12,
   "id": "7514bf12",
   "metadata": {},
   "outputs": [
    {
     "name": "stdout",
     "output_type": "stream",
     "text": [
      "       Month  womens gymnastics: (United States)  \\\n",
      "0    2004-01                                   0   \n",
      "1    2004-02                                   0   \n",
      "2    2004-03                                   0   \n",
      "3    2004-04                                   0   \n",
      "4    2004-05                                   0   \n",
      "..       ...                                 ...   \n",
      "232  2023-05                                   0   \n",
      "233  2023-06                                   0   \n",
      "234  2023-07                                   0   \n",
      "235  2023-08                                   0   \n",
      "236  2023-09                                   0   \n",
      "\n",
      "     Individual all-around: (United States)  gymnastics: (United States)  \\\n",
      "0                                         0                           12   \n",
      "1                                         0                           11   \n",
      "2                                         0                           10   \n",
      "3                                         0                            9   \n",
      "4                                         0                            9   \n",
      "..                                      ...                          ...   \n",
      "232                                       0                            8   \n",
      "233                                       0                            9   \n",
      "234                                       0                            9   \n",
      "235                                       0                           14   \n",
      "236                                       0                            9   \n",
      "\n",
      "     gymnastics team: (United States)  team final: (United States)  \n",
      "0                                   0                            0  \n",
      "1                                   0                            0  \n",
      "2                                   0                            0  \n",
      "3                                   0                            0  \n",
      "4                                   0                            0  \n",
      "..                                ...                          ...  \n",
      "232                                 0                            0  \n",
      "233                                 0                            0  \n",
      "234                                 0                            0  \n",
      "235                                 0                            0  \n",
      "236                                 0                            0  \n",
      "\n",
      "[237 rows x 6 columns]\n"
     ]
    }
   ],
   "source": [
    "# Function to replace '<1' with 0 and convert to float\n",
    "def replace_and_convert(x):\n",
    "    if isinstance(x, str):\n",
    "        if x.startswith('<'):\n",
    "            return 0.0\n",
    "        else:\n",
    "            return float(x)\n",
    "    else:\n",
    "        return x\n",
    "\n",
    "# Convert object columns (excluding 'Month') with values less than 1 to integers\n",
    "obj_columns = df.select_dtypes(include=['object']).columns\n",
    "obj_columns = obj_columns[obj_columns != 'Month']  # Exclude 'Month' column\n",
    "\n",
    "for col in obj_columns:\n",
    "    df[col] = df[col].apply(replace_and_convert).astype(int)\n"
   ]
  },
  {
   "cell_type": "code",
   "execution_count": 15,
   "id": "84ed7404",
   "metadata": {},
   "outputs": [
    {
     "name": "stdout",
     "output_type": "stream",
     "text": [
      "<class 'pandas.core.frame.DataFrame'>\n",
      "RangeIndex: 237 entries, 0 to 236\n",
      "Data columns (total 6 columns):\n",
      " #   Column                                  Non-Null Count  Dtype \n",
      "---  ------                                  --------------  ----- \n",
      " 0   Month                                   237 non-null    object\n",
      " 1   womens gymnastics: (United States)      237 non-null    int64 \n",
      " 2   Individual all-around: (United States)  237 non-null    int64 \n",
      " 3   gymnastics: (United States)             237 non-null    int64 \n",
      " 4   gymnastics team: (United States)        237 non-null    int64 \n",
      " 5   team final: (United States)             237 non-null    int64 \n",
      "dtypes: int64(5), object(1)\n",
      "memory usage: 11.2+ KB\n"
     ]
    }
   ],
   "source": [
    "df.info()"
   ]
  },
  {
   "cell_type": "code",
   "execution_count": 16,
   "id": "3fe854d4",
   "metadata": {},
   "outputs": [
    {
     "data": {
      "text/plain": [
       "0      2004-01\n",
       "1      2004-02\n",
       "2      2004-03\n",
       "3      2004-04\n",
       "4      2004-05\n",
       "        ...   \n",
       "232    2023-05\n",
       "233    2023-06\n",
       "234    2023-07\n",
       "235    2023-08\n",
       "236    2023-09\n",
       "Name: Month, Length: 237, dtype: object"
      ]
     },
     "execution_count": 16,
     "metadata": {},
     "output_type": "execute_result"
    }
   ],
   "source": [
    "df[\"Month\"]"
   ]
  },
  {
   "cell_type": "code",
   "execution_count": 17,
   "id": "b1278892",
   "metadata": {},
   "outputs": [],
   "source": [
    "# Split 'Month' column into 'Year' and 'Month' columns\n",
    "df[['Year', 'Month']] = df['Month'].str.split('-', expand=True)\n",
    "\n",
    "# Convert 'Year' and 'Month' columns to integers if needed\n",
    "df['Year'] = df['Year'].astype(int)\n",
    "df['Month'] = df['Month'].astype(int)\n"
   ]
  },
  {
   "cell_type": "code",
   "execution_count": 18,
   "id": "511c22f5",
   "metadata": {},
   "outputs": [
    {
     "data": {
      "text/html": [
       "<div>\n",
       "<style scoped>\n",
       "    .dataframe tbody tr th:only-of-type {\n",
       "        vertical-align: middle;\n",
       "    }\n",
       "\n",
       "    .dataframe tbody tr th {\n",
       "        vertical-align: top;\n",
       "    }\n",
       "\n",
       "    .dataframe thead th {\n",
       "        text-align: right;\n",
       "    }\n",
       "</style>\n",
       "<table border=\"1\" class=\"dataframe\">\n",
       "  <thead>\n",
       "    <tr style=\"text-align: right;\">\n",
       "      <th></th>\n",
       "      <th>Month</th>\n",
       "      <th>womens gymnastics: (United States)</th>\n",
       "      <th>Individual all-around: (United States)</th>\n",
       "      <th>gymnastics: (United States)</th>\n",
       "      <th>gymnastics team: (United States)</th>\n",
       "      <th>team final: (United States)</th>\n",
       "      <th>Year</th>\n",
       "    </tr>\n",
       "  </thead>\n",
       "  <tbody>\n",
       "    <tr>\n",
       "      <th>0</th>\n",
       "      <td>1</td>\n",
       "      <td>0</td>\n",
       "      <td>0</td>\n",
       "      <td>12</td>\n",
       "      <td>0</td>\n",
       "      <td>0</td>\n",
       "      <td>2004</td>\n",
       "    </tr>\n",
       "    <tr>\n",
       "      <th>1</th>\n",
       "      <td>2</td>\n",
       "      <td>0</td>\n",
       "      <td>0</td>\n",
       "      <td>11</td>\n",
       "      <td>0</td>\n",
       "      <td>0</td>\n",
       "      <td>2004</td>\n",
       "    </tr>\n",
       "    <tr>\n",
       "      <th>2</th>\n",
       "      <td>3</td>\n",
       "      <td>0</td>\n",
       "      <td>0</td>\n",
       "      <td>10</td>\n",
       "      <td>0</td>\n",
       "      <td>0</td>\n",
       "      <td>2004</td>\n",
       "    </tr>\n",
       "    <tr>\n",
       "      <th>3</th>\n",
       "      <td>4</td>\n",
       "      <td>0</td>\n",
       "      <td>0</td>\n",
       "      <td>9</td>\n",
       "      <td>0</td>\n",
       "      <td>0</td>\n",
       "      <td>2004</td>\n",
       "    </tr>\n",
       "    <tr>\n",
       "      <th>4</th>\n",
       "      <td>5</td>\n",
       "      <td>0</td>\n",
       "      <td>0</td>\n",
       "      <td>9</td>\n",
       "      <td>0</td>\n",
       "      <td>0</td>\n",
       "      <td>2004</td>\n",
       "    </tr>\n",
       "    <tr>\n",
       "      <th>...</th>\n",
       "      <td>...</td>\n",
       "      <td>...</td>\n",
       "      <td>...</td>\n",
       "      <td>...</td>\n",
       "      <td>...</td>\n",
       "      <td>...</td>\n",
       "      <td>...</td>\n",
       "    </tr>\n",
       "    <tr>\n",
       "      <th>232</th>\n",
       "      <td>5</td>\n",
       "      <td>0</td>\n",
       "      <td>0</td>\n",
       "      <td>8</td>\n",
       "      <td>0</td>\n",
       "      <td>0</td>\n",
       "      <td>2023</td>\n",
       "    </tr>\n",
       "    <tr>\n",
       "      <th>233</th>\n",
       "      <td>6</td>\n",
       "      <td>0</td>\n",
       "      <td>0</td>\n",
       "      <td>9</td>\n",
       "      <td>0</td>\n",
       "      <td>0</td>\n",
       "      <td>2023</td>\n",
       "    </tr>\n",
       "    <tr>\n",
       "      <th>234</th>\n",
       "      <td>7</td>\n",
       "      <td>0</td>\n",
       "      <td>0</td>\n",
       "      <td>9</td>\n",
       "      <td>0</td>\n",
       "      <td>0</td>\n",
       "      <td>2023</td>\n",
       "    </tr>\n",
       "    <tr>\n",
       "      <th>235</th>\n",
       "      <td>8</td>\n",
       "      <td>0</td>\n",
       "      <td>0</td>\n",
       "      <td>14</td>\n",
       "      <td>0</td>\n",
       "      <td>0</td>\n",
       "      <td>2023</td>\n",
       "    </tr>\n",
       "    <tr>\n",
       "      <th>236</th>\n",
       "      <td>9</td>\n",
       "      <td>0</td>\n",
       "      <td>0</td>\n",
       "      <td>9</td>\n",
       "      <td>0</td>\n",
       "      <td>0</td>\n",
       "      <td>2023</td>\n",
       "    </tr>\n",
       "  </tbody>\n",
       "</table>\n",
       "<p>237 rows × 7 columns</p>\n",
       "</div>"
      ],
      "text/plain": [
       "     Month  womens gymnastics: (United States)  \\\n",
       "0        1                                   0   \n",
       "1        2                                   0   \n",
       "2        3                                   0   \n",
       "3        4                                   0   \n",
       "4        5                                   0   \n",
       "..     ...                                 ...   \n",
       "232      5                                   0   \n",
       "233      6                                   0   \n",
       "234      7                                   0   \n",
       "235      8                                   0   \n",
       "236      9                                   0   \n",
       "\n",
       "     Individual all-around: (United States)  gymnastics: (United States)  \\\n",
       "0                                         0                           12   \n",
       "1                                         0                           11   \n",
       "2                                         0                           10   \n",
       "3                                         0                            9   \n",
       "4                                         0                            9   \n",
       "..                                      ...                          ...   \n",
       "232                                       0                            8   \n",
       "233                                       0                            9   \n",
       "234                                       0                            9   \n",
       "235                                       0                           14   \n",
       "236                                       0                            9   \n",
       "\n",
       "     gymnastics team: (United States)  team final: (United States)  Year  \n",
       "0                                   0                            0  2004  \n",
       "1                                   0                            0  2004  \n",
       "2                                   0                            0  2004  \n",
       "3                                   0                            0  2004  \n",
       "4                                   0                            0  2004  \n",
       "..                                ...                          ...   ...  \n",
       "232                                 0                            0  2023  \n",
       "233                                 0                            0  2023  \n",
       "234                                 0                            0  2023  \n",
       "235                                 0                            0  2023  \n",
       "236                                 0                            0  2023  \n",
       "\n",
       "[237 rows x 7 columns]"
      ]
     },
     "execution_count": 18,
     "metadata": {},
     "output_type": "execute_result"
    }
   ],
   "source": [
    "df"
   ]
  },
  {
   "cell_type": "code",
   "execution_count": 19,
   "id": "f27e9d21",
   "metadata": {},
   "outputs": [
    {
     "data": {
      "text/plain": [
       "Index(['Month', 'womens gymnastics: (United States)',\n",
       "       'Individual all-around: (United States)', 'gymnastics: (United States)',\n",
       "       'gymnastics team: (United States)', 'team final: (United States)',\n",
       "       'Year'],\n",
       "      dtype='object')"
      ]
     },
     "execution_count": 19,
     "metadata": {},
     "output_type": "execute_result"
    }
   ],
   "source": [
    "df.columns"
   ]
  },
  {
   "cell_type": "code",
   "execution_count": 20,
   "id": "0c6f78ef",
   "metadata": {},
   "outputs": [],
   "source": [
    "desired_columns = ['Year', 'Month', 'womens gymnastics: (United States)',\n",
    "       'Individual all-around: (United States)', 'gymnastics: (United States)',\n",
    "       'gymnastics team: (United States)', 'team final: (United States)' ]\n",
    "\n",
    "# Create a new DataFrame with the specified column order\n",
    "df_reordered = df[desired_columns]"
   ]
  },
  {
   "cell_type": "code",
   "execution_count": 21,
   "id": "ee71adae",
   "metadata": {},
   "outputs": [
    {
     "data": {
      "text/html": [
       "<div>\n",
       "<style scoped>\n",
       "    .dataframe tbody tr th:only-of-type {\n",
       "        vertical-align: middle;\n",
       "    }\n",
       "\n",
       "    .dataframe tbody tr th {\n",
       "        vertical-align: top;\n",
       "    }\n",
       "\n",
       "    .dataframe thead th {\n",
       "        text-align: right;\n",
       "    }\n",
       "</style>\n",
       "<table border=\"1\" class=\"dataframe\">\n",
       "  <thead>\n",
       "    <tr style=\"text-align: right;\">\n",
       "      <th></th>\n",
       "      <th>Year</th>\n",
       "      <th>Month</th>\n",
       "      <th>womens gymnastics: (United States)</th>\n",
       "      <th>Individual all-around: (United States)</th>\n",
       "      <th>gymnastics: (United States)</th>\n",
       "      <th>gymnastics team: (United States)</th>\n",
       "      <th>team final: (United States)</th>\n",
       "    </tr>\n",
       "  </thead>\n",
       "  <tbody>\n",
       "    <tr>\n",
       "      <th>0</th>\n",
       "      <td>2004</td>\n",
       "      <td>1</td>\n",
       "      <td>0</td>\n",
       "      <td>0</td>\n",
       "      <td>12</td>\n",
       "      <td>0</td>\n",
       "      <td>0</td>\n",
       "    </tr>\n",
       "    <tr>\n",
       "      <th>1</th>\n",
       "      <td>2004</td>\n",
       "      <td>2</td>\n",
       "      <td>0</td>\n",
       "      <td>0</td>\n",
       "      <td>11</td>\n",
       "      <td>0</td>\n",
       "      <td>0</td>\n",
       "    </tr>\n",
       "    <tr>\n",
       "      <th>2</th>\n",
       "      <td>2004</td>\n",
       "      <td>3</td>\n",
       "      <td>0</td>\n",
       "      <td>0</td>\n",
       "      <td>10</td>\n",
       "      <td>0</td>\n",
       "      <td>0</td>\n",
       "    </tr>\n",
       "    <tr>\n",
       "      <th>3</th>\n",
       "      <td>2004</td>\n",
       "      <td>4</td>\n",
       "      <td>0</td>\n",
       "      <td>0</td>\n",
       "      <td>9</td>\n",
       "      <td>0</td>\n",
       "      <td>0</td>\n",
       "    </tr>\n",
       "    <tr>\n",
       "      <th>4</th>\n",
       "      <td>2004</td>\n",
       "      <td>5</td>\n",
       "      <td>0</td>\n",
       "      <td>0</td>\n",
       "      <td>9</td>\n",
       "      <td>0</td>\n",
       "      <td>0</td>\n",
       "    </tr>\n",
       "    <tr>\n",
       "      <th>...</th>\n",
       "      <td>...</td>\n",
       "      <td>...</td>\n",
       "      <td>...</td>\n",
       "      <td>...</td>\n",
       "      <td>...</td>\n",
       "      <td>...</td>\n",
       "      <td>...</td>\n",
       "    </tr>\n",
       "    <tr>\n",
       "      <th>232</th>\n",
       "      <td>2023</td>\n",
       "      <td>5</td>\n",
       "      <td>0</td>\n",
       "      <td>0</td>\n",
       "      <td>8</td>\n",
       "      <td>0</td>\n",
       "      <td>0</td>\n",
       "    </tr>\n",
       "    <tr>\n",
       "      <th>233</th>\n",
       "      <td>2023</td>\n",
       "      <td>6</td>\n",
       "      <td>0</td>\n",
       "      <td>0</td>\n",
       "      <td>9</td>\n",
       "      <td>0</td>\n",
       "      <td>0</td>\n",
       "    </tr>\n",
       "    <tr>\n",
       "      <th>234</th>\n",
       "      <td>2023</td>\n",
       "      <td>7</td>\n",
       "      <td>0</td>\n",
       "      <td>0</td>\n",
       "      <td>9</td>\n",
       "      <td>0</td>\n",
       "      <td>0</td>\n",
       "    </tr>\n",
       "    <tr>\n",
       "      <th>235</th>\n",
       "      <td>2023</td>\n",
       "      <td>8</td>\n",
       "      <td>0</td>\n",
       "      <td>0</td>\n",
       "      <td>14</td>\n",
       "      <td>0</td>\n",
       "      <td>0</td>\n",
       "    </tr>\n",
       "    <tr>\n",
       "      <th>236</th>\n",
       "      <td>2023</td>\n",
       "      <td>9</td>\n",
       "      <td>0</td>\n",
       "      <td>0</td>\n",
       "      <td>9</td>\n",
       "      <td>0</td>\n",
       "      <td>0</td>\n",
       "    </tr>\n",
       "  </tbody>\n",
       "</table>\n",
       "<p>237 rows × 7 columns</p>\n",
       "</div>"
      ],
      "text/plain": [
       "     Year  Month  womens gymnastics: (United States)  \\\n",
       "0    2004      1                                   0   \n",
       "1    2004      2                                   0   \n",
       "2    2004      3                                   0   \n",
       "3    2004      4                                   0   \n",
       "4    2004      5                                   0   \n",
       "..    ...    ...                                 ...   \n",
       "232  2023      5                                   0   \n",
       "233  2023      6                                   0   \n",
       "234  2023      7                                   0   \n",
       "235  2023      8                                   0   \n",
       "236  2023      9                                   0   \n",
       "\n",
       "     Individual all-around: (United States)  gymnastics: (United States)  \\\n",
       "0                                         0                           12   \n",
       "1                                         0                           11   \n",
       "2                                         0                           10   \n",
       "3                                         0                            9   \n",
       "4                                         0                            9   \n",
       "..                                      ...                          ...   \n",
       "232                                       0                            8   \n",
       "233                                       0                            9   \n",
       "234                                       0                            9   \n",
       "235                                       0                           14   \n",
       "236                                       0                            9   \n",
       "\n",
       "     gymnastics team: (United States)  team final: (United States)  \n",
       "0                                   0                            0  \n",
       "1                                   0                            0  \n",
       "2                                   0                            0  \n",
       "3                                   0                            0  \n",
       "4                                   0                            0  \n",
       "..                                ...                          ...  \n",
       "232                                 0                            0  \n",
       "233                                 0                            0  \n",
       "234                                 0                            0  \n",
       "235                                 0                            0  \n",
       "236                                 0                            0  \n",
       "\n",
       "[237 rows x 7 columns]"
      ]
     },
     "execution_count": 21,
     "metadata": {},
     "output_type": "execute_result"
    }
   ],
   "source": [
    "df_reordered"
   ]
  },
  {
   "cell_type": "code",
   "execution_count": 25,
   "id": "cc773421",
   "metadata": {},
   "outputs": [],
   "source": [
    "df = df_reordered"
   ]
  },
  {
   "cell_type": "code",
   "execution_count": 28,
   "id": "3180d929",
   "metadata": {},
   "outputs": [],
   "source": [
    "# Convert 'Month' column to datetime\n",
    "df['Month'] = pd.to_datetime(df['Month'])"
   ]
  },
  {
   "cell_type": "code",
   "execution_count": 29,
   "id": "911d90a8",
   "metadata": {},
   "outputs": [
    {
     "name": "stdout",
     "output_type": "stream",
     "text": [
      "<class 'pandas.core.frame.DataFrame'>\n",
      "RangeIndex: 237 entries, 0 to 236\n",
      "Data columns (total 7 columns):\n",
      " #   Column                                  Non-Null Count  Dtype         \n",
      "---  ------                                  --------------  -----         \n",
      " 0   Year                                    237 non-null    int64         \n",
      " 1   Month                                   237 non-null    datetime64[ns]\n",
      " 2   womens gymnastics: (United States)      237 non-null    int64         \n",
      " 3   Individual all-around: (United States)  237 non-null    int64         \n",
      " 4   gymnastics: (United States)             237 non-null    int64         \n",
      " 5   gymnastics team: (United States)        237 non-null    int64         \n",
      " 6   team final: (United States)             237 non-null    int64         \n",
      "dtypes: datetime64[ns](1), int64(6)\n",
      "memory usage: 13.1 KB\n"
     ]
    }
   ],
   "source": [
    "df.info()"
   ]
  },
  {
   "cell_type": "code",
   "execution_count": 33,
   "id": "77f4178b",
   "metadata": {},
   "outputs": [],
   "source": [
    "import matplotlib.pyplot as plt"
   ]
  },
  {
   "cell_type": "code",
   "execution_count": 37,
   "id": "d217bc34",
   "metadata": {},
   "outputs": [
    {
     "data": {
      "image/png": "[encoded data removed]",
      "text/plain": [
       "<Figure size 720x432 with 1 Axes>"
      ]
     },
     "metadata": {
      "needs_background": "light"
     },
     "output_type": "display_data"
    }
   ],
   "source": [
    "# Convert 'Month' column to a NumPy array\n",
    "x = np.array(df['Month'])\n",
    "y = np.array(df['womens gymnastics: (United States)'])\n",
    "\n",
    "# Get unique years in the DataFrame\n",
    "unique_years = df['Year'].unique()\n",
    "\n",
    "# Create a line plot with different colors for each year\n",
    "plt.figure(figsize=(10, 6))\n",
    "for year in unique_years:\n",
    "    mask = df['Year'] == year\n",
    "    plt.plot(x[mask], y[mask], label=f'Year {year}', marker='o')\n",
    "\n",
    "plt.xlabel('Month')\n",
    "plt.ylabel('Values')\n",
    "plt.title('Line Plot of womens gymnastics: (United States) Over Time')\n",
    "plt.legend()\n",
    "plt.grid(True)\n",
    "\n",
    "# Show the plot\n",
    "plt.show()\n"
   ]
  },
  {
   "cell_type": "code",
   "execution_count": 39,
   "id": "d4e879b3",
   "metadata": {},
   "outputs": [
    {
     "data": {
      "image/png": "[encoded data removed]",
      "text/plain": [
       "<Figure size 720x432 with 1 Axes>"
      ]
     },
     "metadata": {
      "needs_background": "light"
     },
     "output_type": "display_data"
    }
   ],
   "source": [
    "# Filter the DataFrame to include only specific years\n",
    "years_to_plot = [2004, 2008, 2012, 2016, 2021]\n",
    "filtered_df = df[df['Year'].isin(years_to_plot)]\n",
    "\n",
    "# Create a line plot with different colors for each year\n",
    "plt.figure(figsize=(10, 6))\n",
    "for year in years_to_plot:\n",
    "    mask = filtered_df['Year'] == year\n",
    "    x = filtered_df.loc[mask, 'Month'].values  # Convert to NumPy array\n",
    "    y = filtered_df.loc[mask, 'womens gymnastics: (United States)'].values  # Convert to NumPy array\n",
    "    plt.plot(x, y, label=f'Year {year}', marker='o')\n",
    "\n",
    "plt.xlabel('Month')\n",
    "plt.ylabel('Values')\n",
    "plt.title('Line Plot of womens gymnastics: (United States) Over Time (Selected Years)')\n",
    "plt.legend()\n",
    "plt.grid(True)\n",
    "\n",
    "# Show the plot\n",
    "plt.show()\n"
   ]
  },
  {
   "cell_type": "markdown",
   "id": "3cebeafe",
   "metadata": {},
   "source": [
    "## Compare above to:\n",
    "1. total medals won\n",
    "2. total individual medals won\n",
    "3. womens team results\n",
    "4. womens individual results"
   ]
  },
  {
   "cell_type": "code",
   "execution_count": 61,
   "id": "990adc37",
   "metadata": {},
   "outputs": [],
   "source": [
    "women = pd.read_csv('../../kaggle-data/womam_big.csv')"
   ]
  },
  {
   "cell_type": "code",
   "execution_count": 64,
   "id": "02178735",
   "metadata": {},
   "outputs": [],
   "source": [
    "yers = women[women[\"Year\"] > 2002]"
   ]
  },
  {
   "cell_type": "code",
   "execution_count": 65,
   "id": "983474e3",
   "metadata": {},
   "outputs": [
    {
     "data": {
      "text/plain": [
       "Year\n",
       "2004    507\n",
       "2008    435\n",
       "2016    383\n",
       "2012    382\n",
       "Name: count, dtype: int64"
      ]
     },
     "execution_count": 65,
     "metadata": {},
     "output_type": "execute_result"
    }
   ],
   "source": [
    "yers[\"Year\"].value_counts()"
   ]
  },
  {
   "cell_type": "code",
   "execution_count": 45,
   "id": "5bae48b5",
   "metadata": {},
   "outputs": [],
   "source": [
    "start_year = 2004\n",
    "end_year = 2021\n",
    "\n",
    "filtered_years_df = women[(women['Year'] >= start_year) & (women['Year'] <= end_year)]\n",
    "\n"
   ]
  },
  {
   "cell_type": "code",
   "execution_count": 47,
   "id": "64f65945",
   "metadata": {},
   "outputs": [],
   "source": [
    "df = filtered_years_df.copy()"
   ]
  },
  {
   "cell_type": "code",
   "execution_count": 51,
   "id": "0ea998a5",
   "metadata": {},
   "outputs": [],
   "source": [
    "df = df[df[\"NOC\"] == 'USA']"
   ]
  },
  {
   "cell_type": "code",
   "execution_count": 56,
   "id": "49359fc7",
   "metadata": {},
   "outputs": [],
   "source": [
    "df1 = df.dropna(subset=['Medal'])\n"
   ]
  },
  {
   "cell_type": "code",
   "execution_count": 58,
   "id": "df3607a3",
   "metadata": {
    "scrolled": false
   },
   "outputs": [
    {
     "data": {
      "text/plain": [
       "Year\n",
       "2016    13\n",
       "2008    13\n",
       "2004    11\n",
       "2012     9\n",
       "Name: count, dtype: int64"
      ]
     },
     "execution_count": 58,
     "metadata": {},
     "output_type": "execute_result"
    }
   ],
   "source": [
    "df1[\"Year\"].value_counts()"
   ]
  },
  {
   "cell_type": "code",
   "execution_count": 59,
   "id": "e8c8d1fe",
   "metadata": {},
   "outputs": [],
   "source": [
    "data = {'Year': [2016, 2008, 2004, 2012],\n",
    "        'num_medals': [13, 13, 11, 9]}\n",
    "\n",
    "medals = pd.DataFrame(data)"
   ]
  },
  {
   "cell_type": "code",
   "execution_count": 60,
   "id": "c4eb71ac",
   "metadata": {},
   "outputs": [
    {
     "data": {
      "text/html": [
       "<div>\n",
       "<style scoped>\n",
       "    .dataframe tbody tr th:only-of-type {\n",
       "        vertical-align: middle;\n",
       "    }\n",
       "\n",
       "    .dataframe tbody tr th {\n",
       "        vertical-align: top;\n",
       "    }\n",
       "\n",
       "    .dataframe thead th {\n",
       "        text-align: right;\n",
       "    }\n",
       "</style>\n",
       "<table border=\"1\" class=\"dataframe\">\n",
       "  <thead>\n",
       "    <tr style=\"text-align: right;\">\n",
       "      <th></th>\n",
       "      <th>Year</th>\n",
       "      <th>num_medals</th>\n",
       "    </tr>\n",
       "  </thead>\n",
       "  <tbody>\n",
       "    <tr>\n",
       "      <th>0</th>\n",
       "      <td>2016</td>\n",
       "      <td>13</td>\n",
       "    </tr>\n",
       "    <tr>\n",
       "      <th>1</th>\n",
       "      <td>2008</td>\n",
       "      <td>13</td>\n",
       "    </tr>\n",
       "    <tr>\n",
       "      <th>2</th>\n",
       "      <td>2004</td>\n",
       "      <td>11</td>\n",
       "    </tr>\n",
       "    <tr>\n",
       "      <th>3</th>\n",
       "      <td>2012</td>\n",
       "      <td>9</td>\n",
       "    </tr>\n",
       "  </tbody>\n",
       "</table>\n",
       "</div>"
      ],
      "text/plain": [
       "   Year  num_medals\n",
       "0  2016          13\n",
       "1  2008          13\n",
       "2  2004          11\n",
       "3  2012           9"
      ]
     },
     "execution_count": 60,
     "metadata": {},
     "output_type": "execute_result"
    }
   ],
   "source": [
    "medals"
   ]
  },
  {
   "cell_type": "markdown",
   "id": "df69c909",
   "metadata": {},
   "source": [
    "## Need mens data as well"
   ]
  },
  {
   "cell_type": "code",
   "execution_count": null,
   "id": "34731ee8",
   "metadata": {},
   "outputs": [],
   "source": []
  }
 ],
 "metadata": {
  "kernelspec": {
   "display_name": "Python 3 (ipykernel)",
   "language": "python",
   "name": "python3"
  },
  "language_info": {
   "codemirror_mode": {
    "name": "ipython",
    "version": 3
   },
   "file_extension": ".py",
   "mimetype": "text/x-python",
   "name": "python",
   "nbconvert_exporter": "python",
   "pygments_lexer": "ipython3",
   "version": "3.9.12"
  }
 },
 "nbformat": 4,
 "nbformat_minor": 5
}
