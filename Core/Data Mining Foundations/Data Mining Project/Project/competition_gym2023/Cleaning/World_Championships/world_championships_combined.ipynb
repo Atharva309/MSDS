{
 "cells": [
  {
   "cell_type": "code",
   "execution_count": 1,
   "id": "744b9042",
   "metadata": {},
   "outputs": [],
   "source": [
    "import pandas as pd\n",
    "import numpy as np\n",
    "import re"
   ]
  },
  {
   "cell_type": "code",
   "execution_count": 2,
   "id": "e0458956",
   "metadata": {},
   "outputs": [],
   "source": [
    "fx18 = pd.read_csv('../../scraping/wc_18w/wc18w_fx.csv')\n",
    "bb18 = pd.read_csv('../../scraping/wc_18w/wc18w_bb.csv')\n",
    "ub18 = pd.read_csv('../../scraping/wc_18w/wc18w_ub.csv')\n",
    "vt18 = pd.read_csv('../../scraping/wc_18w/wc18w_vt.csv')"
   ]
  },
  {
   "cell_type": "code",
   "execution_count": 4,
   "id": "7c734661",
   "metadata": {},
   "outputs": [],
   "source": [
    "fx19 = pd.read_csv('../../scraping/wc19w/wc19w_fx.csv')\n",
    "bb19 = pd.read_csv('../../scraping/wc19w/wc19w_bb.csv')\n",
    "ub19 = pd.read_csv('../../scraping/wc19w/wc19w_ub.csv')\n",
    "vt19 = pd.read_csv('../../scraping/wc19w/wc19w_vt.csv')"
   ]
  },
  {
   "cell_type": "code",
   "execution_count": 5,
   "id": "c8baa82c",
   "metadata": {},
   "outputs": [],
   "source": [
    "fx17 = pd.read_csv('../../scraping/wc17w/wc17w_fx.csv')\n",
    "bb17 = pd.read_csv('../../scraping/wc17w/wc17w_bb.csv')\n",
    "ub17 = pd.read_csv('../../scraping/wc17w/wc17w_ub.csv')\n",
    "vt17 = pd.read_csv('../../scraping/wc17w/wc17w_vt.csv')\n",
    "\n"
   ]
  },
  {
   "cell_type": "code",
   "execution_count": 6,
   "id": "3553ae37",
   "metadata": {},
   "outputs": [],
   "source": [
    "fx15 = pd.read_csv('../../scraping/wc15w/wc15w_fx.csv')\n",
    "bb15 = pd.read_csv('../../scraping/wc15w/wc15w_bb.csv')\n",
    "ub15 = pd.read_csv('../../scraping/wc15w/wc15w_ub.csv')\n",
    "vt15 = pd.read_csv('../../scraping/wc15w/wc15w_vt.csv')\n",
    "\n"
   ]
  },
  {
   "cell_type": "code",
   "execution_count": 7,
   "id": "496a775f",
   "metadata": {},
   "outputs": [],
   "source": [
    "fx11 = pd.read_csv('../../scraping/wc11w/wc11w_fx.csv')\n",
    "bb11 = pd.read_csv('../../scraping/wc11w/wc11w_bb.csv')\n",
    "ub11 = pd.read_csv('../../scraping/wc11w/wc11w_ub.csv')\n",
    "vt11 = pd.read_csv('../../scraping/wc11w/wc11w_vt.csv')\n",
    "\n"
   ]
  },
  {
   "cell_type": "code",
   "execution_count": 8,
   "id": "9b24c1d6",
   "metadata": {},
   "outputs": [],
   "source": [
    "fx13 = pd.read_csv('../../scraping/wc13w/wc13w_fx.csv')\n",
    "bb13 = pd.read_csv('../../scraping/wc13w/wc13w_bb.csv')\n",
    "ub13 = pd.read_csv('../../scraping/wc13w/wc13w_ub.csv')\n",
    "vt13 = pd.read_csv('../../scraping/wc13w/wc13w_vt.csv')\n",
    "\n"
   ]
  },
  {
   "cell_type": "code",
   "execution_count": 9,
   "id": "bf62e1cf",
   "metadata": {},
   "outputs": [],
   "source": [
    "fx14 = pd.read_csv('../../scraping/wc14w/wc14w_fx.csv')\n",
    "bb14 = pd.read_csv('../../scraping/wc14w/wc14w_bb.csv')\n",
    "ub14 = pd.read_csv('../../scraping/wc14w/wc14w_ub.csv')\n",
    "vt14 = pd.read_csv('../../scraping/wc14w/wc14w_vt.csv')\n",
    "\n"
   ]
  },
  {
   "cell_type": "markdown",
   "id": "00e03e6c",
   "metadata": {},
   "source": [
    "# fx\n",
    "\n"
   ]
  },
  {
   "cell_type": "code",
   "execution_count": 10,
   "id": "a9bee1fa",
   "metadata": {},
   "outputs": [],
   "source": [
    "# 18\n",
    "# 19\n",
    "# 17\n",
    "# 15\n",
    "# 11\n",
    "# 13\n",
    "# 14\n"
   ]
  },
  {
   "cell_type": "code",
   "execution_count": 12,
   "id": "93bfff5f",
   "metadata": {},
   "outputs": [],
   "source": [
    "fx11['year']=2011"
   ]
  },
  {
   "cell_type": "code",
   "execution_count": 14,
   "id": "ac0c5360",
   "metadata": {},
   "outputs": [],
   "source": [
    "fx13['year']=2013"
   ]
  },
  {
   "cell_type": "code",
   "execution_count": 15,
   "id": "030d5612",
   "metadata": {},
   "outputs": [],
   "source": [
    "fx14['year']=2014"
   ]
  },
  {
   "cell_type": "code",
   "execution_count": 16,
   "id": "61ac1a66",
   "metadata": {},
   "outputs": [],
   "source": [
    "fx15['year']=2015"
   ]
  },
  {
   "cell_type": "code",
   "execution_count": 17,
   "id": "63d16a79",
   "metadata": {},
   "outputs": [],
   "source": [
    "fx17['year']=2017"
   ]
  },
  {
   "cell_type": "code",
   "execution_count": 18,
   "id": "aa82b9e4",
   "metadata": {},
   "outputs": [],
   "source": [
    "fx18['year']=2018"
   ]
  },
  {
   "cell_type": "code",
   "execution_count": 19,
   "id": "77b8b363",
   "metadata": {},
   "outputs": [],
   "source": [
    "fx19['year']=2019"
   ]
  },
  {
   "cell_type": "code",
   "execution_count": 29,
   "id": "f7cd7f7f",
   "metadata": {},
   "outputs": [],
   "source": [
    "fx13.rename(columns={'Penalty': 'Pen.'}, inplace=True)"
   ]
  },
  {
   "cell_type": "code",
   "execution_count": 32,
   "id": "a5487cee",
   "metadata": {},
   "outputs": [],
   "source": [
    "fx14.rename(columns={'Penalty': 'Pen.'}, inplace=True)"
   ]
  },
  {
   "cell_type": "code",
   "execution_count": 35,
   "id": "dea498cc",
   "metadata": {},
   "outputs": [],
   "source": [
    "fx15.rename(columns={'Penalty': 'Pen.'}, inplace=True)"
   ]
  },
  {
   "cell_type": "code",
   "execution_count": 38,
   "id": "d7caa374",
   "metadata": {},
   "outputs": [],
   "source": [
    "fx17.rename(columns={'Penalty': 'Pen.'}, inplace=True)"
   ]
  },
  {
   "cell_type": "code",
   "execution_count": 23,
   "id": "f1a63f43",
   "metadata": {},
   "outputs": [],
   "source": [
    "fx19.rename(columns={'Rank': 'Position'}, inplace=True)"
   ]
  },
  {
   "cell_type": "code",
   "execution_count": 24,
   "id": "cfdbe4ca",
   "metadata": {},
   "outputs": [],
   "source": [
    "fx18.rename(columns={'Rank': 'Position'}, inplace=True)"
   ]
  },
  {
   "cell_type": "code",
   "execution_count": 42,
   "id": "50fc50e8",
   "metadata": {},
   "outputs": [],
   "source": [
    "combined_df = pd.concat([fx11, fx13, fx14, fx15,  fx17, fx18, fx19], ignore_index=True)"
   ]
  },
  {
   "cell_type": "code",
   "execution_count": 44,
   "id": "d1706d8c",
   "metadata": {},
   "outputs": [],
   "source": [
    "fx = combined_df.copy()"
   ]
  },
  {
   "cell_type": "code",
   "execution_count": 45,
   "id": "c0a3e77f",
   "metadata": {},
   "outputs": [
    {
     "data": {
      "text/html": [
       "<div>\n",
       "<style scoped>\n",
       "    .dataframe tbody tr th:only-of-type {\n",
       "        vertical-align: middle;\n",
       "    }\n",
       "\n",
       "    .dataframe tbody tr th {\n",
       "        vertical-align: top;\n",
       "    }\n",
       "\n",
       "    .dataframe thead th {\n",
       "        text-align: right;\n",
       "    }\n",
       "</style>\n",
       "<table border=\"1\" class=\"dataframe\">\n",
       "  <thead>\n",
       "    <tr style=\"text-align: right;\">\n",
       "      <th></th>\n",
       "      <th>Position</th>\n",
       "      <th>Gymnast</th>\n",
       "      <th>D Score</th>\n",
       "      <th>E Score</th>\n",
       "      <th>Pen.</th>\n",
       "      <th>Qual Rk</th>\n",
       "      <th>Total</th>\n",
       "      <th>year</th>\n",
       "    </tr>\n",
       "  </thead>\n",
       "  <tbody>\n",
       "    <tr>\n",
       "      <th>0</th>\n",
       "      <td>1</td>\n",
       "      <td>Ksenia Afanasyeva(RUS)</td>\n",
       "      <td>6.1</td>\n",
       "      <td>9.033</td>\n",
       "      <td>NaN</td>\n",
       "      <td>-10.0</td>\n",
       "      <td>15.133</td>\n",
       "      <td>2011</td>\n",
       "    </tr>\n",
       "    <tr>\n",
       "      <th>1</th>\n",
       "      <td>2</td>\n",
       "      <td>Sui Lu(CHN)</td>\n",
       "      <td>6.1</td>\n",
       "      <td>8.966</td>\n",
       "      <td>NaN</td>\n",
       "      <td>-2.0</td>\n",
       "      <td>15.066</td>\n",
       "      <td>2011</td>\n",
       "    </tr>\n",
       "    <tr>\n",
       "      <th>2</th>\n",
       "      <td>3</td>\n",
       "      <td>Aly Raisman(USA)</td>\n",
       "      <td>6.1</td>\n",
       "      <td>8.900</td>\n",
       "      <td>NaN</td>\n",
       "      <td>-1.0</td>\n",
       "      <td>15.000</td>\n",
       "      <td>2011</td>\n",
       "    </tr>\n",
       "    <tr>\n",
       "      <th>3</th>\n",
       "      <td>4</td>\n",
       "      <td>Yao Jinnan(CHN)</td>\n",
       "      <td>6.0</td>\n",
       "      <td>8.866</td>\n",
       "      <td>NaN</td>\n",
       "      <td>-4.0</td>\n",
       "      <td>14.866</td>\n",
       "      <td>2011</td>\n",
       "    </tr>\n",
       "    <tr>\n",
       "      <th>4</th>\n",
       "      <td>5</td>\n",
       "      <td>Lauren Mitchell(AUS)</td>\n",
       "      <td>6.3</td>\n",
       "      <td>8.433</td>\n",
       "      <td>NaN</td>\n",
       "      <td>-9.0</td>\n",
       "      <td>14.733</td>\n",
       "      <td>2011</td>\n",
       "    </tr>\n",
       "  </tbody>\n",
       "</table>\n",
       "</div>"
      ],
      "text/plain": [
       "   Position                 Gymnast  D Score  E Score  Pen.  Qual Rk   Total  \\\n",
       "0         1  Ksenia Afanasyeva(RUS)      6.1    9.033   NaN    -10.0  15.133   \n",
       "1         2             Sui Lu(CHN)      6.1    8.966   NaN     -2.0  15.066   \n",
       "2         3        Aly Raisman(USA)      6.1    8.900   NaN     -1.0  15.000   \n",
       "3         4         Yao Jinnan(CHN)      6.0    8.866   NaN     -4.0  14.866   \n",
       "4         5    Lauren Mitchell(AUS)      6.3    8.433   NaN     -9.0  14.733   \n",
       "\n",
       "   year  \n",
       "0  2011  \n",
       "1  2011  \n",
       "2  2011  \n",
       "3  2011  \n",
       "4  2011  "
      ]
     },
     "execution_count": 45,
     "metadata": {},
     "output_type": "execute_result"
    }
   ],
   "source": [
    "fx.head()"
   ]
  },
  {
   "cell_type": "code",
   "execution_count": 46,
   "id": "d59c50ce",
   "metadata": {},
   "outputs": [],
   "source": [
    "fx = fx.drop(columns=['Qual Rk'])"
   ]
  },
  {
   "cell_type": "code",
   "execution_count": 47,
   "id": "e37f37d0",
   "metadata": {},
   "outputs": [],
   "source": [
    "fx['Pen.'].fillna(0, inplace=True)"
   ]
  },
  {
   "cell_type": "code",
   "execution_count": 48,
   "id": "5b9002d3",
   "metadata": {},
   "outputs": [],
   "source": [
    "# Define a regular expression pattern to extract the text inside parentheses\n",
    "pattern = r'\\(([^)]+)\\)'\n",
    "\n",
    "# Extract the text inside parentheses and create the \"Nation\" column\n",
    "fx['Nation'] = fx['Gymnast'].str.extract(pattern)\n",
    "\n"
   ]
  },
  {
   "cell_type": "code",
   "execution_count": 50,
   "id": "a6156fa4",
   "metadata": {},
   "outputs": [],
   "source": [
    "# Remove the parentheses and text inside them from the \"Gymnast\" column\n",
    "fx['Gymnast'] = fx['Gymnast'].str.replace(pattern, '', regex=True).str.strip()\n"
   ]
  },
  {
   "cell_type": "code",
   "execution_count": 53,
   "id": "ce8a20a6",
   "metadata": {},
   "outputs": [
    {
     "data": {
      "text/html": [
       "<div>\n",
       "<style scoped>\n",
       "    .dataframe tbody tr th:only-of-type {\n",
       "        vertical-align: middle;\n",
       "    }\n",
       "\n",
       "    .dataframe tbody tr th {\n",
       "        vertical-align: top;\n",
       "    }\n",
       "\n",
       "    .dataframe thead th {\n",
       "        text-align: right;\n",
       "    }\n",
       "</style>\n",
       "<table border=\"1\" class=\"dataframe\">\n",
       "  <thead>\n",
       "    <tr style=\"text-align: right;\">\n",
       "      <th></th>\n",
       "      <th>Position</th>\n",
       "      <th>Gymnast</th>\n",
       "      <th>D Score</th>\n",
       "      <th>E Score</th>\n",
       "      <th>Pen.</th>\n",
       "      <th>Total</th>\n",
       "      <th>year</th>\n",
       "      <th>Nation</th>\n",
       "    </tr>\n",
       "  </thead>\n",
       "  <tbody>\n",
       "    <tr>\n",
       "      <th>0</th>\n",
       "      <td>1</td>\n",
       "      <td>Ksenia Afanasyeva</td>\n",
       "      <td>6.1</td>\n",
       "      <td>9.033</td>\n",
       "      <td>0.0</td>\n",
       "      <td>15.133</td>\n",
       "      <td>2011</td>\n",
       "      <td>RUS</td>\n",
       "    </tr>\n",
       "    <tr>\n",
       "      <th>1</th>\n",
       "      <td>2</td>\n",
       "      <td>Sui Lu</td>\n",
       "      <td>6.1</td>\n",
       "      <td>8.966</td>\n",
       "      <td>0.0</td>\n",
       "      <td>15.066</td>\n",
       "      <td>2011</td>\n",
       "      <td>CHN</td>\n",
       "    </tr>\n",
       "    <tr>\n",
       "      <th>2</th>\n",
       "      <td>3</td>\n",
       "      <td>Aly Raisman</td>\n",
       "      <td>6.1</td>\n",
       "      <td>8.900</td>\n",
       "      <td>0.0</td>\n",
       "      <td>15.000</td>\n",
       "      <td>2011</td>\n",
       "      <td>USA</td>\n",
       "    </tr>\n",
       "    <tr>\n",
       "      <th>3</th>\n",
       "      <td>4</td>\n",
       "      <td>Yao Jinnan</td>\n",
       "      <td>6.0</td>\n",
       "      <td>8.866</td>\n",
       "      <td>0.0</td>\n",
       "      <td>14.866</td>\n",
       "      <td>2011</td>\n",
       "      <td>CHN</td>\n",
       "    </tr>\n",
       "    <tr>\n",
       "      <th>4</th>\n",
       "      <td>5</td>\n",
       "      <td>Lauren Mitchell</td>\n",
       "      <td>6.3</td>\n",
       "      <td>8.433</td>\n",
       "      <td>0.0</td>\n",
       "      <td>14.733</td>\n",
       "      <td>2011</td>\n",
       "      <td>AUS</td>\n",
       "    </tr>\n",
       "  </tbody>\n",
       "</table>\n",
       "</div>"
      ],
      "text/plain": [
       "   Position            Gymnast  D Score  E Score  Pen.   Total  year Nation\n",
       "0         1  Ksenia Afanasyeva      6.1    9.033   0.0  15.133  2011    RUS\n",
       "1         2             Sui Lu      6.1    8.966   0.0  15.066  2011    CHN\n",
       "2         3        Aly Raisman      6.1    8.900   0.0  15.000  2011    USA\n",
       "3         4         Yao Jinnan      6.0    8.866   0.0  14.866  2011    CHN\n",
       "4         5    Lauren Mitchell      6.3    8.433   0.0  14.733  2011    AUS"
      ]
     },
     "execution_count": 53,
     "metadata": {},
     "output_type": "execute_result"
    }
   ],
   "source": [
    "fx.head()"
   ]
  },
  {
   "cell_type": "code",
   "execution_count": 55,
   "id": "b2269f1a",
   "metadata": {},
   "outputs": [],
   "source": [
    "fx['round']='final'"
   ]
  },
  {
   "cell_type": "code",
   "execution_count": 56,
   "id": "66cff5ef",
   "metadata": {},
   "outputs": [
    {
     "name": "stdout",
     "output_type": "stream",
     "text": [
      "<class 'pandas.core.frame.DataFrame'>\n",
      "RangeIndex: 56 entries, 0 to 55\n",
      "Data columns (total 9 columns):\n",
      " #   Column    Non-Null Count  Dtype  \n",
      "---  ------    --------------  -----  \n",
      " 0   Position  56 non-null     int64  \n",
      " 1   Gymnast   56 non-null     object \n",
      " 2   D Score   56 non-null     float64\n",
      " 3   E Score   56 non-null     float64\n",
      " 4   Pen.      56 non-null     float64\n",
      " 5   Total     56 non-null     float64\n",
      " 6   year      56 non-null     int64  \n",
      " 7   Nation    32 non-null     object \n",
      " 8   round     56 non-null     object \n",
      "dtypes: float64(4), int64(2), object(3)\n",
      "memory usage: 4.1+ KB\n"
     ]
    }
   ],
   "source": [
    "fx.info()"
   ]
  },
  {
   "cell_type": "code",
   "execution_count": 58,
   "id": "66dcd93f",
   "metadata": {},
   "outputs": [],
   "source": [
    "# # Assuming your DataFrame is named 'df' and you want to export it to a CSV file named 'output.csv'\n",
    "# fx.to_csv('fx_world_championship_w.csv', index=False)\n"
   ]
  },
  {
   "cell_type": "code",
   "execution_count": null,
   "id": "dba5c49d",
   "metadata": {},
   "outputs": [],
   "source": []
  }
 ],
 "metadata": {
  "kernelspec": {
   "display_name": "Python 3 (ipykernel)",
   "language": "python",
   "name": "python3"
  },
  "language_info": {
   "codemirror_mode": {
    "name": "ipython",
    "version": 3
   },
   "file_extension": ".py",
   "mimetype": "text/x-python",
   "name": "python",
   "nbconvert_exporter": "python",
   "pygments_lexer": "ipython3",
   "version": "3.9.12"
  }
 },
 "nbformat": 4,
 "nbformat_minor": 5
}
