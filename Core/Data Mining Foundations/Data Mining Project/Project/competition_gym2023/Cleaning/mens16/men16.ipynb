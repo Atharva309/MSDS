{
 "cells": [
  {
   "cell_type": "code",
   "execution_count": 93,
   "id": "102c936d-9802-4929-a8b7-a7ab51bdd932",
   "metadata": {},
   "outputs": [],
   "source": [
    "import pandas as pd\n",
    "import numpy as np"
   ]
  },
  {
   "cell_type": "code",
   "execution_count": 2,
   "id": "aeee682a-6075-42c1-a4e3-233e89db162c",
   "metadata": {},
   "outputs": [],
   "source": [
    "e14 = pd.read_csv('../../scraping/men/men16/eu14champ/fx.csv')\n",
    "e15 = pd.read_csv('../../scraping/men/men16/eu15champ/fx.csv')\n",
    "w14 = pd.read_csv('../../scraping/men/men16/wrd14champ/fx.csv')\n",
    "w15 = pd.read_csv('../../scraping/men/men16/wrd15champ/fx.csv')\n"
   ]
  },
  {
   "cell_type": "code",
   "execution_count": 5,
   "id": "1b357cfa-5fe8-44ec-8c7b-3821f98b3247",
   "metadata": {},
   "outputs": [],
   "source": [
    "e14['Rank'] = range(1, len(e14) + 1)"
   ]
  },
  {
   "cell_type": "code",
   "execution_count": 6,
   "id": "eb4df160-9438-4b31-bbd8-0032a464b3a1",
   "metadata": {},
   "outputs": [],
   "source": [
    "e15['Rank'] = range(1, len(e15) + 1)"
   ]
  },
  {
   "cell_type": "code",
   "execution_count": 7,
   "id": "3d2854fd-e656-472f-b3d4-c873e90fcac8",
   "metadata": {},
   "outputs": [],
   "source": [
    "w15['Rank'] = range(1, len(w15) + 1)\n"
   ]
  },
  {
   "cell_type": "code",
   "execution_count": 8,
   "id": "9e8881ad-246d-41c8-b795-03de31ae7a9f",
   "metadata": {},
   "outputs": [],
   "source": [
    "w14['Rank'] = range(1, len(w14) + 1)"
   ]
  },
  {
   "cell_type": "code",
   "execution_count": 9,
   "id": "c1702865-8e15-41dd-b786-c6be4af868ca",
   "metadata": {},
   "outputs": [],
   "source": [
    "fx14 = pd.concat([w14, e14], ignore_index=True)"
   ]
  },
  {
   "cell_type": "code",
   "execution_count": 10,
   "id": "78e1325c-8a93-422e-a6fd-d770b49afb1a",
   "metadata": {},
   "outputs": [],
   "source": [
    "fx15 = pd.concat([w15, e15], ignore_index=True)"
   ]
  },
  {
   "cell_type": "code",
   "execution_count": 11,
   "id": "f77878f4-cdc4-47ba-b146-7fcf6cf60e69",
   "metadata": {},
   "outputs": [],
   "source": [
    "fx14['year']=2014"
   ]
  },
  {
   "cell_type": "code",
   "execution_count": 12,
   "id": "ff507a77-9f48-4f2f-b15c-eb555b0ba819",
   "metadata": {},
   "outputs": [],
   "source": [
    "fx15['year']=2015"
   ]
  },
  {
   "cell_type": "code",
   "execution_count": 16,
   "id": "b16b530d-3fd6-4dbe-8f4a-09e49bf66612",
   "metadata": {},
   "outputs": [],
   "source": [
    "fx = pd.concat([fx14, fx15], ignore_index=True)"
   ]
  },
  {
   "cell_type": "code",
   "execution_count": 18,
   "id": "d570b955-3da0-41ac-84ea-b73185e94d47",
   "metadata": {},
   "outputs": [],
   "source": [
    "fx=fx.drop(columns=['Position'])"
   ]
  },
  {
   "cell_type": "code",
   "execution_count": 20,
   "id": "066496df-8e4b-4e8f-bc2b-23d544a3a62c",
   "metadata": {},
   "outputs": [],
   "source": [
    "fx['Penalty'].fillna(0, inplace=True)"
   ]
  },
  {
   "cell_type": "code",
   "execution_count": 24,
   "id": "8d142a40-cbe3-43e2-8633-4bcec6bb46b7",
   "metadata": {},
   "outputs": [],
   "source": [
    "fx['Nation'] = fx['Gymnast'].str.extract(r'\\(([^)]+)\\)')"
   ]
  },
  {
   "cell_type": "code",
   "execution_count": 26,
   "id": "67337024-6829-45da-8d3f-af191de338a7",
   "metadata": {},
   "outputs": [
    {
     "name": "stderr",
     "output_type": "stream",
     "text": [
      "/var/folders/j_/555m2zps099832fjh_m8jjnc0000gn/T/ipykernel_43647/4154438107.py:1: FutureWarning: The default value of regex will change from True to False in a future version.\n",
      "  fx['Gymnast'] = fx['Gymnast'].str.replace(r'\\([^)]*\\)', '')\n"
     ]
    }
   ],
   "source": [
    "fx['Gymnast'] = fx['Gymnast'].str.replace(r'\\([^)]*\\)', '')"
   ]
  },
  {
   "cell_type": "code",
   "execution_count": 28,
   "id": "21c6e109-f816-4480-a753-b4456574088b",
   "metadata": {},
   "outputs": [],
   "source": [
    "e14 = pd.read_csv('../../scraping/men/men16/eu14champ/pb.csv')\n",
    "e15 = pd.read_csv('../../scraping/men/men16/eu15champ/pb.csv')\n",
    "w14 = pd.read_csv('../../scraping/men/men16/wrd14champ/pb.csv')\n",
    "w15 = pd.read_csv('../../scraping/men/men16/wrd15champ/pb.csv')"
   ]
  },
  {
   "cell_type": "code",
   "execution_count": 29,
   "id": "1d73c0a4-a5fc-4f04-8797-cb6897f275f4",
   "metadata": {},
   "outputs": [],
   "source": [
    "e14['Rank'] = range(1, len(e14) + 1)\n",
    "e15['Rank'] = range(1, len(e15) + 1)\n",
    "w15['Rank'] = range(1, len(w15) + 1)\n",
    "w14['Rank'] = range(1, len(w14) + 1)"
   ]
  },
  {
   "cell_type": "code",
   "execution_count": 30,
   "id": "c46f26f5-f54b-4345-8610-7d09efac0dee",
   "metadata": {},
   "outputs": [],
   "source": [
    "pb14 = pd.concat([w14, e14], ignore_index=True)\n",
    "pb15 = pd.concat([w15, e15], ignore_index=True)"
   ]
  },
  {
   "cell_type": "code",
   "execution_count": 31,
   "id": "93eeeb42-686d-446b-a7cf-0b8bec432cb1",
   "metadata": {},
   "outputs": [],
   "source": [
    "pb14['year']=2014\n",
    "pb15['year']=2015"
   ]
  },
  {
   "cell_type": "code",
   "execution_count": 32,
   "id": "c4cb6e56-b9d4-4a7e-9021-45a37cd6af49",
   "metadata": {},
   "outputs": [],
   "source": [
    "pb = pd.concat([pb14, pb15], ignore_index=True)"
   ]
  },
  {
   "cell_type": "code",
   "execution_count": 34,
   "id": "5cb92e1e-76fa-48f1-9d22-8b7598dbff0d",
   "metadata": {},
   "outputs": [],
   "source": [
    "pb=pb.drop(columns=['Position'])\n",
    "pb['Penalty'].fillna(0, inplace=True)"
   ]
  },
  {
   "cell_type": "code",
   "execution_count": 35,
   "id": "33c58795-a61d-4b43-ad31-f8a997a450ac",
   "metadata": {},
   "outputs": [
    {
     "name": "stderr",
     "output_type": "stream",
     "text": [
      "/var/folders/j_/555m2zps099832fjh_m8jjnc0000gn/T/ipykernel_43647/3174740715.py:2: FutureWarning: The default value of regex will change from True to False in a future version.\n",
      "  pb['Gymnast'] = pb['Gymnast'].str.replace(r'\\([^)]*\\)', '')\n"
     ]
    }
   ],
   "source": [
    "pb['Nation'] = pb['Gymnast'].str.extract(r'\\(([^)]+)\\)')\n",
    "pb['Gymnast'] = pb['Gymnast'].str.replace(r'\\([^)]*\\)', '')"
   ]
  },
  {
   "cell_type": "code",
   "execution_count": 37,
   "id": "ccd858a8-218e-4783-a737-198f44df292b",
   "metadata": {},
   "outputs": [],
   "source": [
    "e14 = pd.read_csv('../../scraping/men/men16/eu14champ/ph.csv')\n",
    "e15 = pd.read_csv('../../scraping/men/men16/eu15champ/ph.csv')\n",
    "w14 = pd.read_csv('../../scraping/men/men16/wrd14champ/ph.csv')\n",
    "w15 = pd.read_csv('../../scraping/men/men16/wrd15champ/ph.csv')"
   ]
  },
  {
   "cell_type": "code",
   "execution_count": 38,
   "id": "8bbe0b19-b188-4d64-a212-93c596e1cce8",
   "metadata": {},
   "outputs": [],
   "source": [
    "e14['Rank'] = range(1, len(e14) + 1)\n",
    "e15['Rank'] = range(1, len(e15) + 1)\n",
    "w15['Rank'] = range(1, len(w15) + 1)\n",
    "w14['Rank'] = range(1, len(w14) + 1)"
   ]
  },
  {
   "cell_type": "code",
   "execution_count": 39,
   "id": "b78cafac-6041-4e11-b764-9db1775e8da6",
   "metadata": {},
   "outputs": [],
   "source": [
    "ph14 = pd.concat([w14, e14], ignore_index=True)\n",
    "ph15 = pd.concat([w15, e15], ignore_index=True)"
   ]
  },
  {
   "cell_type": "code",
   "execution_count": 40,
   "id": "e4d2d862-b507-46c6-8ced-c9fbd9b4c073",
   "metadata": {},
   "outputs": [],
   "source": [
    "ph14['year']=2014\n",
    "ph15['year']=2015"
   ]
  },
  {
   "cell_type": "code",
   "execution_count": 41,
   "id": "cf8aab9b-d6f8-4a5c-bef4-040cbcfbc7b8",
   "metadata": {},
   "outputs": [],
   "source": [
    "ph = pd.concat([ph14, ph15], ignore_index=True)"
   ]
  },
  {
   "cell_type": "code",
   "execution_count": 42,
   "id": "d3ec1052-5e08-4373-9540-41ed02bf129b",
   "metadata": {},
   "outputs": [],
   "source": [
    "ph=ph.drop(columns=['Position'])\n",
    "ph['Penalty'].fillna(0, inplace=True)"
   ]
  },
  {
   "cell_type": "code",
   "execution_count": 43,
   "id": "376407eb-993d-400f-8fae-413f56b6fc00",
   "metadata": {},
   "outputs": [
    {
     "name": "stderr",
     "output_type": "stream",
     "text": [
      "/var/folders/j_/555m2zps099832fjh_m8jjnc0000gn/T/ipykernel_43647/741144207.py:2: FutureWarning: The default value of regex will change from True to False in a future version.\n",
      "  ph['Gymnast'] = ph['Gymnast'].str.replace(r'\\([^)]*\\)', '')\n"
     ]
    }
   ],
   "source": [
    "ph['Nation'] = ph['Gymnast'].str.extract(r'\\(([^)]+)\\)')\n",
    "ph['Gymnast'] = ph['Gymnast'].str.replace(r'\\([^)]*\\)', '')"
   ]
  },
  {
   "cell_type": "code",
   "execution_count": 46,
   "id": "e9aed269-ba77-4dab-8424-f06bd3fe412e",
   "metadata": {},
   "outputs": [],
   "source": [
    "e14 = pd.read_csv('../../scraping/men/men16/eu14champ/hb.csv')\n",
    "e15 = pd.read_csv('../../scraping/men/men16/eu15champ/hb.csv')\n",
    "w14 = pd.read_csv('../../scraping/men/men16/wrd14champ/hb.csv')\n",
    "w15 = pd.read_csv('../../scraping/men/men16/wrd15champ/hb.csv')"
   ]
  },
  {
   "cell_type": "code",
   "execution_count": 47,
   "id": "b13e426a-f298-4014-b965-ba5c7df4b716",
   "metadata": {},
   "outputs": [],
   "source": [
    "e14['Rank'] = range(1, len(e14) + 1)\n",
    "e15['Rank'] = range(1, len(e15) + 1)\n",
    "w15['Rank'] = range(1, len(w15) + 1)\n",
    "w14['Rank'] = range(1, len(w14) + 1)"
   ]
  },
  {
   "cell_type": "code",
   "execution_count": 48,
   "id": "eedb5db6-294e-4121-b034-4ae66eef2606",
   "metadata": {},
   "outputs": [],
   "source": [
    "hb14 = pd.concat([w14, e14], ignore_index=True)\n",
    "hb15 = pd.concat([w15, e15], ignore_index=True)"
   ]
  },
  {
   "cell_type": "code",
   "execution_count": 49,
   "id": "7729300c-4dbd-413b-8272-3620024e1332",
   "metadata": {},
   "outputs": [],
   "source": [
    "hb14['year']=2014\n",
    "hb15['year']=2015"
   ]
  },
  {
   "cell_type": "code",
   "execution_count": 50,
   "id": "50aaca69-5112-4b01-99d9-c7379159a160",
   "metadata": {},
   "outputs": [],
   "source": [
    "hb = pd.concat([hb14, hb15], ignore_index=True)"
   ]
  },
  {
   "cell_type": "code",
   "execution_count": 51,
   "id": "73c60c38-9930-4896-8105-44cac763d535",
   "metadata": {},
   "outputs": [],
   "source": [
    "hb=hb.drop(columns=['Position'])\n",
    "hb['Penalty'].fillna(0, inplace=True)"
   ]
  },
  {
   "cell_type": "code",
   "execution_count": 52,
   "id": "2774f054-28a1-4c10-9187-4224ace7adb0",
   "metadata": {},
   "outputs": [
    {
     "name": "stderr",
     "output_type": "stream",
     "text": [
      "/var/folders/j_/555m2zps099832fjh_m8jjnc0000gn/T/ipykernel_43647/1153431066.py:2: FutureWarning: The default value of regex will change from True to False in a future version.\n",
      "  hb['Gymnast'] = hb['Gymnast'].str.replace(r'\\([^)]*\\)', '')\n"
     ]
    }
   ],
   "source": [
    "hb['Nation'] = hb['Gymnast'].str.extract(r'\\(([^)]+)\\)')\n",
    "hb['Gymnast'] = hb['Gymnast'].str.replace(r'\\([^)]*\\)', '')"
   ]
  },
  {
   "cell_type": "code",
   "execution_count": 54,
   "id": "b0627f34-bcfa-41b3-b05a-f0e230ec6778",
   "metadata": {},
   "outputs": [],
   "source": [
    "e14 = pd.read_csv('../../scraping/men/men16/eu14champ/sr.csv')\n",
    "e15 = pd.read_csv('../../scraping/men/men16/eu15champ/sr.csv')\n",
    "w14 = pd.read_csv('../../scraping/men/men16/wrd14champ/sr.csv')\n",
    "w15 = pd.read_csv('../../scraping/men/men16/wrd15champ/sr.csv')"
   ]
  },
  {
   "cell_type": "code",
   "execution_count": 55,
   "id": "c62c2bd6-f6b2-442c-9598-faab9a3e79d4",
   "metadata": {},
   "outputs": [],
   "source": [
    "e14['Rank'] = range(1, len(e14) + 1)\n",
    "e15['Rank'] = range(1, len(e15) + 1)\n",
    "w15['Rank'] = range(1, len(w15) + 1)\n",
    "w14['Rank'] = range(1, len(w14) + 1)"
   ]
  },
  {
   "cell_type": "code",
   "execution_count": 56,
   "id": "95aa2a16-4c6d-4c34-9be2-0fca60f8d770",
   "metadata": {},
   "outputs": [],
   "source": [
    "sr14 = pd.concat([w14, e14], ignore_index=True)\n",
    "sr15 = pd.concat([w15, e15], ignore_index=True)"
   ]
  },
  {
   "cell_type": "code",
   "execution_count": 57,
   "id": "a5a92796-4b21-46e7-acbb-8fe90979d74c",
   "metadata": {},
   "outputs": [],
   "source": [
    "sr14['year']=2014\n",
    "sr15['year']=2015"
   ]
  },
  {
   "cell_type": "code",
   "execution_count": 58,
   "id": "3200d3dc-8e77-4f5d-8023-3690c71acb3d",
   "metadata": {},
   "outputs": [],
   "source": [
    "sr = pd.concat([sr14, sr15], ignore_index=True)"
   ]
  },
  {
   "cell_type": "code",
   "execution_count": 59,
   "id": "d32d736b-3f8f-4c0b-9995-185902b5bead",
   "metadata": {},
   "outputs": [],
   "source": [
    "sr=sr.drop(columns=['Position'])\n",
    "sr['Penalty'].fillna(0, inplace=True)"
   ]
  },
  {
   "cell_type": "code",
   "execution_count": 60,
   "id": "6a9c069b-690a-45b8-93f4-b68b8a09310a",
   "metadata": {},
   "outputs": [
    {
     "name": "stderr",
     "output_type": "stream",
     "text": [
      "/var/folders/j_/555m2zps099832fjh_m8jjnc0000gn/T/ipykernel_43647/1697545130.py:2: FutureWarning: The default value of regex will change from True to False in a future version.\n",
      "  sr['Gymnast'] = sr['Gymnast'].str.replace(r'\\([^)]*\\)', '')\n"
     ]
    }
   ],
   "source": [
    "sr['Nation'] = sr['Gymnast'].str.extract(r'\\(([^)]+)\\)')\n",
    "sr['Gymnast'] = sr['Gymnast'].str.replace(r'\\([^)]*\\)', '')"
   ]
  },
  {
   "cell_type": "code",
   "execution_count": 105,
   "id": "fe6a865c-e3c9-43f2-9199-ec7e6535c7d2",
   "metadata": {},
   "outputs": [],
   "source": [
    "e14 = pd.read_csv('../../scraping/men/men16/eu14champ/fx.csv')\n",
    "e15 = pd.read_csv('../../scraping/men/men16/eu15champ/fx.csv')\n",
    "w14 = pd.read_csv('../../scraping/men/men16/wrd14champ/fx.csv')\n",
    "w15 = pd.read_csv('../../scraping/men/men16/wrd15champ/fx.csv')"
   ]
  },
  {
   "cell_type": "code",
   "execution_count": 106,
   "id": "c68024fe-4ddf-4f19-8866-19784f884e27",
   "metadata": {},
   "outputs": [],
   "source": [
    "e14['Rank'] = range(1, len(e14) + 1)\n",
    "e15['Rank'] = range(1, len(e15) + 1)\n",
    "w15['Rank'] = range(1, len(w15) + 1)\n",
    "w14['Rank'] = range(1, len(w14) + 1)"
   ]
  },
  {
   "cell_type": "code",
   "execution_count": 107,
   "id": "6da972aa-bc73-4fff-9241-241783e48d94",
   "metadata": {},
   "outputs": [],
   "source": [
    "fx14 = pd.concat([w14, e14], ignore_index=True)\n",
    "fx15 = pd.concat([w15, e15], ignore_index=True)"
   ]
  },
  {
   "cell_type": "code",
   "execution_count": 108,
   "id": "16d10113-8773-4971-8ddb-d97618c5e2c0",
   "metadata": {},
   "outputs": [],
   "source": [
    "fx14['year']=2014\n",
    "fx15['year']=2015"
   ]
  },
  {
   "cell_type": "code",
   "execution_count": 109,
   "id": "4d9b1f8a-e96e-4132-bd2f-0f09a69c907a",
   "metadata": {},
   "outputs": [],
   "source": [
    "fx = pd.concat([fx14, fx15], ignore_index=True)"
   ]
  },
  {
   "cell_type": "code",
   "execution_count": 110,
   "id": "90332bac-b054-40d1-ba58-b051e0da5b53",
   "metadata": {},
   "outputs": [],
   "source": [
    "fx=fx.drop(columns=['Position'])\n",
    "fx['Penalty'].fillna(0, inplace=True)"
   ]
  },
  {
   "cell_type": "code",
   "execution_count": 111,
   "id": "509fd1dd-b630-461c-931e-c934fc3d9b8d",
   "metadata": {},
   "outputs": [
    {
     "name": "stderr",
     "output_type": "stream",
     "text": [
      "/var/folders/j_/555m2zps099832fjh_m8jjnc0000gn/T/ipykernel_43647/4188415011.py:2: FutureWarning: The default value of regex will change from True to False in a future version.\n",
      "  fx['Gymnast'] = fx['Gymnast'].str.replace(r'\\([^)]*\\)', '')\n"
     ]
    }
   ],
   "source": [
    "fx['Nation'] = fx['Gymnast'].str.extract(r'\\(([^)]+)\\)')\n",
    "fx['Gymnast'] = fx['Gymnast'].str.replace(r'\\([^)]*\\)', '')"
   ]
  },
  {
   "cell_type": "markdown",
   "id": "1958ba9a-8b88-4f52-8bc2-ea28cb7f9a08",
   "metadata": {},
   "source": [
    "fx:\n",
    "Max Whitlock\n",
    "Diego Hypólito\n",
    "Arthur Mariano\n",
    "\n",
    "ph:\n",
    "Max Whitlock\n",
    "Louis Smith\n",
    "Alexander Naddour\n",
    "\n",
    "sr:\n",
    "Eleftherios Petrounias\n",
    "Arthur Zanetti\n",
    "Denis Ablyazin\n",
    "\n",
    "pb:\n",
    "Oleg Verniaiev\t\n",
    "Danell Leyva\t\n",
    "David Belyavskiy\n",
    "\n",
    "hb:\n",
    "Fabian Hambüchen\n",
    "Danell Leyva\n",
    "Nile Wilson"
   ]
  },
  {
   "cell_type": "code",
   "execution_count": 112,
   "id": "c21883c9-3db2-4427-a9fb-d3dc8fff3af3",
   "metadata": {},
   "outputs": [],
   "source": [
    "medal_names = ['Max Whitlock', 'Diego Hypólito', 'Arthur Mariano']\n",
    "\n",
    "# Use np.where with case-insensitive and stripped comparison\n",
    "fx['Medal'] = np.where(fx['Gymnast'].str.strip().str.lower().isin(map(str.lower, medal_names)), 1, 0)\n"
   ]
  },
  {
   "cell_type": "code",
   "execution_count": 114,
   "id": "18223af3-cbb4-47a9-9527-2620bca55af9",
   "metadata": {},
   "outputs": [],
   "source": [
    "medal_names_ph = ['Max Whitlock', 'Louis Smith', 'Alexander Naddour']\n",
    "\n",
    "# Use np.where with case-insensitive and stripped comparison\n",
    "ph['Medal'] = np.where(ph['Gymnast'].str.strip().str.lower().isin(map(str.lower, medal_names_ph)), 1, 0)\n"
   ]
  },
  {
   "cell_type": "code",
   "execution_count": 116,
   "id": "a6d4b2af-322d-4346-876a-1fe04907754f",
   "metadata": {},
   "outputs": [],
   "source": [
    "medal_names_sr = ['Eleftherios Petrounias', 'Arthur Zanetti', 'Denis Ablyazin']\n",
    "\n",
    "# Use np.where with case-insensitive and stripped comparison\n",
    "sr['Medal'] = np.where(sr['Gymnast'].str.strip().str.lower().isin(map(str.lower, medal_names_sr)), 1, 0)"
   ]
  },
  {
   "cell_type": "code",
   "execution_count": 118,
   "id": "4a943155-b22a-414b-be40-c006472aafe5",
   "metadata": {},
   "outputs": [],
   "source": [
    "medal_names_pb = ['Oleg Verniaiev', 'Danell Leyva', 'David Belyavskiy']\n",
    "\n",
    "# Use np.where with case-insensitive and stripped comparison\n",
    "pb['Medal'] = np.where(pb['Gymnast'].str.strip().str.lower().isin(map(str.lower, medal_names_pb)), 1, 0)\n"
   ]
  },
  {
   "cell_type": "code",
   "execution_count": 120,
   "id": "fe0396e3-4428-4b34-9b27-40f66e89bd1a",
   "metadata": {},
   "outputs": [],
   "source": [
    "medal_names_hb = ['Fabian Hambüchen', 'Danell Leyva', 'Nile Wilson']\n",
    "\n",
    "# Use np.where with case-insensitive and stripped comparison\n",
    "hb['Medal'] = np.where(hb['Gymnast'].str.strip().str.lower().isin(map(str.lower, medal_names_hb)), 1, 0)\n"
   ]
  },
  {
   "cell_type": "code",
   "execution_count": 123,
   "id": "3809440a-345c-4cd9-95bf-f0f0ac3ba04f",
   "metadata": {},
   "outputs": [
    {
     "data": {
      "text/html": [
       "<div>\n",
       "<style scoped>\n",
       "    .dataframe tbody tr th:only-of-type {\n",
       "        vertical-align: middle;\n",
       "    }\n",
       "\n",
       "    .dataframe tbody tr th {\n",
       "        vertical-align: top;\n",
       "    }\n",
       "\n",
       "    .dataframe thead th {\n",
       "        text-align: right;\n",
       "    }\n",
       "</style>\n",
       "<table border=\"1\" class=\"dataframe\">\n",
       "  <thead>\n",
       "    <tr style=\"text-align: right;\">\n",
       "      <th></th>\n",
       "      <th>Gymnast</th>\n",
       "      <th>D Score</th>\n",
       "      <th>E Score</th>\n",
       "      <th>Penalty</th>\n",
       "      <th>Total</th>\n",
       "      <th>Rank</th>\n",
       "      <th>year</th>\n",
       "      <th>Nation</th>\n",
       "      <th>Medal</th>\n",
       "    </tr>\n",
       "  </thead>\n",
       "  <tbody>\n",
       "    <tr>\n",
       "      <th>0</th>\n",
       "      <td>Epke Zonderland</td>\n",
       "      <td>7.7</td>\n",
       "      <td>8.525</td>\n",
       "      <td>0.0</td>\n",
       "      <td>16.225</td>\n",
       "      <td>1</td>\n",
       "      <td>2014</td>\n",
       "      <td>NED</td>\n",
       "      <td>0</td>\n",
       "    </tr>\n",
       "    <tr>\n",
       "      <th>1</th>\n",
       "      <td>Kōhei Uchimura</td>\n",
       "      <td>7.2</td>\n",
       "      <td>8.525</td>\n",
       "      <td>0.0</td>\n",
       "      <td>15.725</td>\n",
       "      <td>2</td>\n",
       "      <td>2014</td>\n",
       "      <td>JPN</td>\n",
       "      <td>0</td>\n",
       "    </tr>\n",
       "    <tr>\n",
       "      <th>2</th>\n",
       "      <td>Marijo Možnik</td>\n",
       "      <td>6.7</td>\n",
       "      <td>8.300</td>\n",
       "      <td>0.0</td>\n",
       "      <td>15.000</td>\n",
       "      <td>3</td>\n",
       "      <td>2014</td>\n",
       "      <td>CRO</td>\n",
       "      <td>0</td>\n",
       "    </tr>\n",
       "    <tr>\n",
       "      <th>3</th>\n",
       "      <td>Nile Wilson</td>\n",
       "      <td>6.2</td>\n",
       "      <td>8.566</td>\n",
       "      <td>0.0</td>\n",
       "      <td>14.766</td>\n",
       "      <td>4</td>\n",
       "      <td>2014</td>\n",
       "      <td>GBR</td>\n",
       "      <td>1</td>\n",
       "    </tr>\n",
       "    <tr>\n",
       "      <th>4</th>\n",
       "      <td>David Belyavskiy</td>\n",
       "      <td>6.4</td>\n",
       "      <td>8.333</td>\n",
       "      <td>0.0</td>\n",
       "      <td>14.733</td>\n",
       "      <td>5</td>\n",
       "      <td>2014</td>\n",
       "      <td>RUS</td>\n",
       "      <td>0</td>\n",
       "    </tr>\n",
       "  </tbody>\n",
       "</table>\n",
       "</div>"
      ],
      "text/plain": [
       "             Gymnast  D Score  E Score  Penalty   Total  Rank  year Nation  \\\n",
       "0   Epke Zonderland       7.7    8.525      0.0  16.225     1  2014    NED   \n",
       "1    Kōhei Uchimura       7.2    8.525      0.0  15.725     2  2014    JPN   \n",
       "2     Marijo Možnik       6.7    8.300      0.0  15.000     3  2014    CRO   \n",
       "3       Nile Wilson       6.2    8.566      0.0  14.766     4  2014    GBR   \n",
       "4  David Belyavskiy       6.4    8.333      0.0  14.733     5  2014    RUS   \n",
       "\n",
       "   Medal  \n",
       "0      0  \n",
       "1      0  \n",
       "2      0  \n",
       "3      1  \n",
       "4      0  "
      ]
     },
     "execution_count": 123,
     "metadata": {},
     "output_type": "execute_result"
    }
   ],
   "source": [
    "hb.head()"
   ]
  },
  {
   "cell_type": "code",
   "execution_count": 129,
   "id": "4a0572a2-ec30-47f7-af2c-3f1d50275e51",
   "metadata": {},
   "outputs": [],
   "source": [
    "hb = hb.rename(columns={'D Score': 'D', 'E Score': 'E', 'Penalty': 'ND', 'Medal': 'medal', 'Gymnast': 'Athlete'})\n",
    "sr = sr.rename(columns={'D Score': 'D', 'E Score': 'E', 'Penalty': 'ND', 'Medal': 'medal', 'Gymnast': 'Athlete'})\n",
    "ph = ph.rename(columns={'D Score': 'D', 'E Score': 'E', 'Penalty': 'ND', 'Medal': 'medal', 'Gymnast': 'Athlete'})\n",
    "pb = pb.rename(columns={'D Score': 'D', 'E Score': 'E', 'Penalty': 'ND', 'Medal': 'medal', 'Gymnast': 'Athlete'})\n",
    "fx = fx.rename(columns={'D Score': 'D', 'E Score': 'E', 'Penalty': 'ND', 'Medal': 'medal', 'Gymnast': 'Athlete'})\n"
   ]
  },
  {
   "cell_type": "code",
   "execution_count": 130,
   "id": "65ffae24-6f17-4ef0-891e-7df93911ff26",
   "metadata": {},
   "outputs": [],
   "source": [
    "hb['round']='final'\n",
    "sr['round']='final'\n",
    "fx['round']='final'\n",
    "pb['round']='final'\n",
    "ph['round']='final'\n"
   ]
  },
  {
   "cell_type": "code",
   "execution_count": 131,
   "id": "920a0397-cfdb-4a9b-bc23-fe97b5f6d28b",
   "metadata": {},
   "outputs": [],
   "source": [
    "hb = hb[['Rank', 'Athlete', 'Nation', 'D', 'E', 'ND', 'Total', 'year', 'round',\n",
    "       'medal']] \n",
    "sr = sr[['Rank', 'Athlete', 'Nation', 'D', 'E', 'ND', 'Total', 'year', 'round',\n",
    "       'medal']] \n",
    "pb = pb[['Rank', 'Athlete', 'Nation', 'D', 'E', 'ND', 'Total', 'year', 'round',\n",
    "       'medal']] \n",
    "ph = ph[['Rank', 'Athlete', 'Nation', 'D', 'E', 'ND', 'Total', 'year', 'round',\n",
    "       'medal']] \n",
    "fx = fx[['Rank', 'Athlete', 'Nation', 'D', 'E', 'ND', 'Total', 'year', 'round',\n",
    "       'medal']] \n"
   ]
  },
  {
   "cell_type": "code",
   "execution_count": 133,
   "id": "268e6567-a3aa-4c51-a0c8-b30d0e97d7bf",
   "metadata": {},
   "outputs": [],
   "source": [
    "# sr.to_csv('sr16.csv', index=False)\n",
    "# hb.to_csv('hb16.csv', index=False)\n",
    "# ph.to_csv('ph16.csv', index=False)\n",
    "# pb.to_csv('pb16.csv', index=False)\n",
    "# fx.to_csv('fx16.csv', index=False)\n"
   ]
  },
  {
   "cell_type": "code",
   "execution_count": null,
   "id": "f6783fb2-ce2f-4b6e-9ac4-ebe35d429b60",
   "metadata": {},
   "outputs": [],
   "source": []
  }
 ],
 "metadata": {
  "kernelspec": {
   "display_name": "Python 3 (ipykernel)",
   "language": "python",
   "name": "python3"
  },
  "language_info": {
   "codemirror_mode": {
    "name": "ipython",
    "version": 3
   },
   "file_extension": ".py",
   "mimetype": "text/x-python",
   "name": "python",
   "nbconvert_exporter": "python",
   "pygments_lexer": "ipython3",
   "version": "3.8.18"
  }
 },
 "nbformat": 4,
 "nbformat_minor": 5
}
