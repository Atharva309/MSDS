{
 "cells": [
  {
   "cell_type": "markdown",
   "id": "287517e7",
   "metadata": {},
   "source": [
    "# To Clean\n",
    "\n",
    "\n"
   ]
  },
  {
   "cell_type": "markdown",
   "id": "4fd150e7",
   "metadata": {},
   "source": [
    "- "
   ]
  },
  {
   "cell_type": "markdown",
   "id": "fc586e5a",
   "metadata": {},
   "source": [
    "# to scrape:\n",
    "- Maria Paseka  vt\n",
    "    - Gymnastics at the 2013 Summer Universiade\n",
    "    \n",
    "    \n"
   ]
  },
  {
   "cell_type": "markdown",
   "id": "7b106bc5",
   "metadata": {},
   "source": [
    " ## Balance Beam = 7 (COMPLETE - includes all medalists)\n",
    " \n",
    " ## Vault = 14\n",
    " \n",
    " ## Uneven Bars = 17\n",
    " \n",
    " ## Floor = 19"
   ]
  },
  {
   "cell_type": "code",
   "execution_count": null,
   "id": "b191e75a",
   "metadata": {},
   "outputs": [],
   "source": []
  }
 ],
 "metadata": {
  "kernelspec": {
   "display_name": "Python 3 (ipykernel)",
   "language": "python",
   "name": "python3"
  },
  "language_info": {
   "codemirror_mode": {
    "name": "ipython",
    "version": 3
   },
   "file_extension": ".py",
   "mimetype": "text/x-python",
   "name": "python",
   "nbconvert_exporter": "python",
   "pygments_lexer": "ipython3",
   "version": "3.9.12"
  }
 },
 "nbformat": 4,
 "nbformat_minor": 5
}
