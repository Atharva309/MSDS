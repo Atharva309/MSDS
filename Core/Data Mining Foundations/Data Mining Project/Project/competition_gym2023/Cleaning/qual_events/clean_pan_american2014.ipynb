{
 "cells": [
  {
   "cell_type": "code",
   "execution_count": 1,
   "id": "c5761ce0",
   "metadata": {},
   "outputs": [],
   "source": [
    "import pandas as pd\n",
    "import numpy as np"
   ]
  },
  {
   "cell_type": "code",
   "execution_count": 2,
   "id": "0e37136d",
   "metadata": {},
   "outputs": [],
   "source": [
    "bb = pd.read_csv('../../scraping/pan_america14/pan_american2014_bb.csv')\n",
    "ub = pd.read_csv('../../scraping/pan_america14/pan_american2014_ub.csv')\n",
    "vt = pd.read_csv('../../scraping/pan_america14/pan_american2014_vt.csv')\n",
    "fx = pd.read_csv('../../scraping/pan_america14/pan_american2014_fx.csv')\n"
   ]
  },
  {
   "cell_type": "code",
   "execution_count": 4,
   "id": "20aca743",
   "metadata": {},
   "outputs": [],
   "source": [
    "bb['round'] = 'final'\n",
    "ub['round'] = 'final'\n",
    "fx['round'] = 'final'\n",
    "vt['round'] = 'final'\n",
    "\n",
    "\n",
    "bb['year'] = 2014\n",
    "ub['year'] = 2014\n",
    "fx['year'] = 2014\n",
    "vt['year'] = 2014"
   ]
  },
  {
   "cell_type": "code",
   "execution_count": 7,
   "id": "50cfd5b2",
   "metadata": {},
   "outputs": [],
   "source": [
    "bb['ND'].fillna(0, inplace=True)\n",
    "ub['ND'].fillna(0, inplace=True)\n",
    "fx['ND'].fillna(0, inplace=True)\n",
    "vt['ND'].fillna(0, inplace=True)\n",
    "vt['ND.1'].fillna(0, inplace=True)"
   ]
  },
  {
   "cell_type": "code",
   "execution_count": 10,
   "id": "fe9a1755",
   "metadata": {},
   "outputs": [
    {
     "data": {
      "text/plain": [
       "array(['Guatemala', 'Venezuela', 'Brazil', 'United States', 'Cuba',\n",
       "       'Argentina'], dtype=object)"
      ]
     },
     "execution_count": 10,
     "metadata": {},
     "output_type": "execute_result"
    }
   ],
   "source": [
    "bb['Nation'].unique()"
   ]
  },
  {
   "cell_type": "code",
   "execution_count": 14,
   "id": "3d6aa60d",
   "metadata": {},
   "outputs": [],
   "source": [
    "country_to_noc = {\n",
    "    'Guatemala': 'GUA',\n",
    "    'Venezuela': 'VEN',\n",
    "    'Brazil': 'BRA',\n",
    "    'United States': 'USA',\n",
    "    'Cuba': 'CUB',\n",
    "    'Argentina': 'ARG'\n",
    "}\n",
    "\n",
    "# Replace values in the 'Nation' column with NOC codes\n",
    "bb['Nation'] = bb['Nation'].replace(country_to_noc)\n"
   ]
  },
  {
   "cell_type": "code",
   "execution_count": 11,
   "id": "54dffce2",
   "metadata": {},
   "outputs": [
    {
     "data": {
      "text/plain": [
       "array(['United States', 'Mexico', 'Brazil', 'Colombia', 'Venezuela'],\n",
       "      dtype=object)"
      ]
     },
     "execution_count": 11,
     "metadata": {},
     "output_type": "execute_result"
    }
   ],
   "source": [
    "ub['Nation'].unique()"
   ]
  },
  {
   "cell_type": "code",
   "execution_count": 15,
   "id": "cd916e7c",
   "metadata": {},
   "outputs": [],
   "source": [
    "country_to_noc = {\n",
    "    'United States': 'USA',\n",
    "    'Mexico': 'MEX',\n",
    "    'Brazil': 'BRA',\n",
    "    'Colombia': 'COL',\n",
    "    'Venezuela': 'VEN'\n",
    "}\n",
    "\n",
    "# Replace values in the 'Nation' column with NOC codes\n",
    "ub['Nation'] = ub['Nation'].replace(country_to_noc)\n"
   ]
  },
  {
   "cell_type": "code",
   "execution_count": 12,
   "id": "0ab7b417",
   "metadata": {},
   "outputs": [
    {
     "data": {
      "text/plain": [
       "array(['United States', 'Venezuela', 'Cuba', 'Brazil', 'Mexico',\n",
       "       'Argentina'], dtype=object)"
      ]
     },
     "execution_count": 12,
     "metadata": {},
     "output_type": "execute_result"
    }
   ],
   "source": [
    "fx['Nation'].unique()"
   ]
  },
  {
   "cell_type": "code",
   "execution_count": 16,
   "id": "248dca04",
   "metadata": {},
   "outputs": [],
   "source": [
    "country_to_noc = {\n",
    "    'United States': 'USA',\n",
    "    'Venezuela': 'VEN',\n",
    "    'Cuba': 'CUB',\n",
    "    'Brazil': 'BRA',\n",
    "    'Mexico': 'MEX',\n",
    "    'Argentina': 'ARG'\n",
    "}\n",
    "\n",
    "# Replace values in the 'Nation' column with NOC codes\n",
    "fx['Nation'] = fx['Nation'].replace(country_to_noc)\n"
   ]
  },
  {
   "cell_type": "code",
   "execution_count": 13,
   "id": "1ddf4262",
   "metadata": {},
   "outputs": [
    {
     "data": {
      "text/plain": [
       "array(['United States', 'Cuba', 'Canada', 'Brazil', 'Puerto Rico',\n",
       "       'Mexico'], dtype=object)"
      ]
     },
     "execution_count": 13,
     "metadata": {},
     "output_type": "execute_result"
    }
   ],
   "source": [
    "vt['Nation'].unique()"
   ]
  },
  {
   "cell_type": "code",
   "execution_count": 17,
   "id": "81eada91",
   "metadata": {},
   "outputs": [],
   "source": [
    "country_to_noc = {\n",
    "    'United States': 'USA',\n",
    "    'Cuba': 'CUB',\n",
    "    'Canada': 'CAN',\n",
    "    'Brazil': 'BRA',\n",
    "    'Puerto Rico': 'PUR',\n",
    "    'Mexico': 'MEX'\n",
    "}\n",
    "\n",
    "# Replace values in the 'Nation' column with NOC codes\n",
    "vt['Nation'] = vt['Nation'].replace(country_to_noc)\n"
   ]
  },
  {
   "cell_type": "code",
   "execution_count": 21,
   "id": "2e6345fc",
   "metadata": {},
   "outputs": [
    {
     "data": {
      "text/html": [
       "<div>\n",
       "<style scoped>\n",
       "    .dataframe tbody tr th:only-of-type {\n",
       "        vertical-align: middle;\n",
       "    }\n",
       "\n",
       "    .dataframe tbody tr th {\n",
       "        vertical-align: top;\n",
       "    }\n",
       "\n",
       "    .dataframe thead th {\n",
       "        text-align: right;\n",
       "    }\n",
       "</style>\n",
       "<table border=\"1\" class=\"dataframe\">\n",
       "  <thead>\n",
       "    <tr style=\"text-align: right;\">\n",
       "      <th></th>\n",
       "      <th>Rank</th>\n",
       "      <th>Athlete</th>\n",
       "      <th>Nation</th>\n",
       "      <th>D</th>\n",
       "      <th>E</th>\n",
       "      <th>ND</th>\n",
       "      <th>Total</th>\n",
       "      <th>round</th>\n",
       "      <th>year</th>\n",
       "    </tr>\n",
       "  </thead>\n",
       "  <tbody>\n",
       "    <tr>\n",
       "      <th>0</th>\n",
       "      <td>1</td>\n",
       "      <td>MyKayla Skinner</td>\n",
       "      <td>USA</td>\n",
       "      <td>6.4</td>\n",
       "      <td>8.350</td>\n",
       "      <td>0.0</td>\n",
       "      <td>14.750</td>\n",
       "      <td>final</td>\n",
       "      <td>2014</td>\n",
       "    </tr>\n",
       "    <tr>\n",
       "      <th>1</th>\n",
       "      <td>2</td>\n",
       "      <td>Jessica Lopez</td>\n",
       "      <td>VEN</td>\n",
       "      <td>5.7</td>\n",
       "      <td>8.775</td>\n",
       "      <td>0.0</td>\n",
       "      <td>14.475</td>\n",
       "      <td>final</td>\n",
       "      <td>2014</td>\n",
       "    </tr>\n",
       "    <tr>\n",
       "      <th>2</th>\n",
       "      <td>3</td>\n",
       "      <td>Yesenia Ferrera</td>\n",
       "      <td>CUB</td>\n",
       "      <td>6.2</td>\n",
       "      <td>8.200</td>\n",
       "      <td>0.0</td>\n",
       "      <td>14.400</td>\n",
       "      <td>final</td>\n",
       "      <td>2014</td>\n",
       "    </tr>\n",
       "    <tr>\n",
       "      <th>3</th>\n",
       "      <td>4</td>\n",
       "      <td>Daniele Hypolito</td>\n",
       "      <td>BRA</td>\n",
       "      <td>5.3</td>\n",
       "      <td>8.700</td>\n",
       "      <td>0.0</td>\n",
       "      <td>14.000</td>\n",
       "      <td>final</td>\n",
       "      <td>2014</td>\n",
       "    </tr>\n",
       "    <tr>\n",
       "      <th>4</th>\n",
       "      <td>5</td>\n",
       "      <td>Isabelle Cruz</td>\n",
       "      <td>BRA</td>\n",
       "      <td>5.3</td>\n",
       "      <td>7.950</td>\n",
       "      <td>0.0</td>\n",
       "      <td>13.250</td>\n",
       "      <td>final</td>\n",
       "      <td>2014</td>\n",
       "    </tr>\n",
       "    <tr>\n",
       "      <th>5</th>\n",
       "      <td>6</td>\n",
       "      <td>Madison Desch</td>\n",
       "      <td>USA</td>\n",
       "      <td>5.6</td>\n",
       "      <td>7.300</td>\n",
       "      <td>0.0</td>\n",
       "      <td>12.900</td>\n",
       "      <td>final</td>\n",
       "      <td>2014</td>\n",
       "    </tr>\n",
       "    <tr>\n",
       "      <th>6</th>\n",
       "      <td>7</td>\n",
       "      <td>Amaranta Torres</td>\n",
       "      <td>MEX</td>\n",
       "      <td>5.0</td>\n",
       "      <td>6.550</td>\n",
       "      <td>0.0</td>\n",
       "      <td>11.550</td>\n",
       "      <td>final</td>\n",
       "      <td>2014</td>\n",
       "    </tr>\n",
       "    <tr>\n",
       "      <th>7</th>\n",
       "      <td>8</td>\n",
       "      <td>Merlina Galera</td>\n",
       "      <td>ARG</td>\n",
       "      <td>5.2</td>\n",
       "      <td>5.500</td>\n",
       "      <td>0.0</td>\n",
       "      <td>10.700</td>\n",
       "      <td>final</td>\n",
       "      <td>2014</td>\n",
       "    </tr>\n",
       "  </tbody>\n",
       "</table>\n",
       "</div>"
      ],
      "text/plain": [
       "   Rank           Athlete Nation    D      E   ND   Total  round  year\n",
       "0     1   MyKayla Skinner    USA  6.4  8.350  0.0  14.750  final  2014\n",
       "1     2     Jessica Lopez    VEN  5.7  8.775  0.0  14.475  final  2014\n",
       "2     3   Yesenia Ferrera    CUB  6.2  8.200  0.0  14.400  final  2014\n",
       "3     4  Daniele Hypolito    BRA  5.3  8.700  0.0  14.000  final  2014\n",
       "4     5     Isabelle Cruz    BRA  5.3  7.950  0.0  13.250  final  2014\n",
       "5     6     Madison Desch    USA  5.6  7.300  0.0  12.900  final  2014\n",
       "6     7   Amaranta Torres    MEX  5.0  6.550  0.0  11.550  final  2014\n",
       "7     8    Merlina Galera    ARG  5.2  5.500  0.0  10.700  final  2014"
      ]
     },
     "execution_count": 21,
     "metadata": {},
     "output_type": "execute_result"
    }
   ],
   "source": [
    "fx"
   ]
  },
  {
   "cell_type": "code",
   "execution_count": 22,
   "id": "8519bdb3",
   "metadata": {},
   "outputs": [],
   "source": [
    "# fx.to_csv('clean_pan_american2014fx.csv', index=False)\n",
    "# vt.to_csv('clean_pan_american2014vt.csv', index=False)\n",
    "# ub.to_csv('clean_pan_american2014ub.csv', index=False)\n",
    "# bb.to_csv('clean_pan_american2014bb.csv', index=False)"
   ]
  },
  {
   "cell_type": "code",
   "execution_count": null,
   "id": "5619c413",
   "metadata": {},
   "outputs": [],
   "source": []
  }
 ],
 "metadata": {
  "kernelspec": {
   "display_name": "Python 3 (ipykernel)",
   "language": "python",
   "name": "python3"
  },
  "language_info": {
   "codemirror_mode": {
    "name": "ipython",
    "version": 3
   },
   "file_extension": ".py",
   "mimetype": "text/x-python",
   "name": "python",
   "nbconvert_exporter": "python",
   "pygments_lexer": "ipython3",
   "version": "3.9.12"
  }
 },
 "nbformat": 4,
 "nbformat_minor": 5
}
