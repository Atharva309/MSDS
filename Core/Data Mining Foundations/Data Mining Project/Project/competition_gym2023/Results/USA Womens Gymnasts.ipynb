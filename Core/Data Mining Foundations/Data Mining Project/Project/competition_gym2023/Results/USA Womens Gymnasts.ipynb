{
 "cells": [
  {
   "cell_type": "markdown",
   "id": "486a4657",
   "metadata": {},
   "source": [
    "# USA Womens Gymnasts Most likely to medal:\n",
    "\n",
    "- Uneven Bars:\n",
    "    - Shilese Jones\n",
    "    - Zoe Miller\n",
    "\n",
    "- Balance Beam:\n",
    "    - skye blakely\n",
    "\n",
    "- Floor:\n",
    "    - kaliya lincoln\n",
    "    \n",
    "- Vault:\n",
    "    - simone biles\n"
   ]
  },
  {
   "cell_type": "code",
   "execution_count": null,
   "id": "feb5266f",
   "metadata": {},
   "outputs": [],
   "source": []
  }
 ],
 "metadata": {
  "kernelspec": {
   "display_name": "Python 3 (ipykernel)",
   "language": "python",
   "name": "python3"
  },
  "language_info": {
   "codemirror_mode": {
    "name": "ipython",
    "version": 3
   },
   "file_extension": ".py",
   "mimetype": "text/x-python",
   "name": "python",
   "nbconvert_exporter": "python",
   "pygments_lexer": "ipython3",
   "version": "3.9.12"
  }
 },
 "nbformat": 4,
 "nbformat_minor": 5
}
