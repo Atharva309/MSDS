{
 "cells": [
  {
   "cell_type": "markdown",
   "id": "082e3a10",
   "metadata": {},
   "source": [
    "# Best USA Womens Gymnastic Team:\n",
    " - Jade Carey - 24 at olympics\n",
    " - Jordan Chiles - 23 at olympics\n",
    " - Leanne Wong  - 20 years old \n",
    " - Shilese Jones - 22 at olympics\n",
    " - Simone Biles - 27 at olympics"
   ]
  },
  {
   "cell_type": "markdown",
   "id": "486a4657",
   "metadata": {},
   "source": [
    "# Best USA Womens Gymnasts:\n",
    "\n",
    "- vt \n",
    "    - simone biles -  March 14, 1997  - 27 at olympics\n",
    "\n",
    "- ub\n",
    "    - Shilese Jones - July 26, 2002 - 22 at olympics\n",
    "    - Zoe Miller - November 11, 2005 - 18 at olympics\n",
    "- fx \n",
    "    - kaliya lincoln - April 23, 2006 - 18 at olympics\n",
    "    \n",
    "- bb\n",
    "    - skye blakely - February 4, 2005 - 19 at olympics\n",
    "\n",
    "- iaa\n",
    "    - jordan chiles - April 15, 2001 - 23 at olympics"
   ]
  },
  {
   "cell_type": "markdown",
   "id": "34702d36",
   "metadata": {},
   "source": [
    "# Best USA Mens Gymnasts:\n",
    "\n",
    "- Asher Hong - antwerp\n",
    "- Yul Moldauer \n",
    "- Fred Richard \n",
    "- Khoi Young \n",
    "- Vitaliy Guimaraes \n",
    "---\n",
    "\n",
    "- Alternate: Colt Walker"
   ]
  },
  {
   "cell_type": "markdown",
   "id": "787d1b7c",
   "metadata": {},
   "source": [
    "# USA Mens Gymnasts Most likely to medal:\n",
    "- Floor\n",
    "    - None\n",
    "    \n",
    "- High Bar\n",
    "    - None\n",
    "- pb\n",
    "    - curran phillips\n",
    "\n",
    "- ph\n",
    "    - model needs work\n",
    "- sr\n",
    "    - None\n",
    "\n",
    "- vt\n",
    "    - None\n",
    "    \n",
    "- iaa\n",
    "    - None"
   ]
  },
  {
   "cell_type": "markdown",
   "id": "e876afad",
   "metadata": {},
   "source": [
    "Women's Senior National Team https://usagym.org/women/team/\n",
    "- Simone Biles\n",
    "- Skye Blakely\n",
    "- Jade Carey\n",
    "- Jordan Chiles\n",
    "- Kayla DiCello\n",
    "- Amelia Disidore\n",
    "- Shilese Jones\n",
    "- Katelyn Jong\n",
    "- Kaliya Lincoln\n",
    "- Eveylynn Lowe\n",
    "- Nola Matthews\n",
    "- Zoe Miller\n",
    "- Joscelyn Roberson\n",
    "- Tiana Sumanasekera\n",
    "- Leanne Wong\n",
    "- Alicia Zhou\n"
   ]
  },
  {
   "cell_type": "markdown",
   "id": "9d97cc88",
   "metadata": {},
   "source": [
    "Men's Senior National Team https://usagym.org/men/team/\n",
    "- Jeremy Bischoff\n",
    "- Cameron Bock\n",
    "- Brandon Briones\n",
    "- Taylor Burkhart\n",
    "- Alex Diab\n",
    "- Dallas Hale\n",
    "- Asher Hong\n",
    "- Paul Juda\n",
    "- Riley Loos\n",
    "- Brody Malone\n",
    "- Yul Moldauer\n",
    "- Stephen Nedoroscik\n",
    "- Vahe Petrosyan\n",
    "- Curran Phillips\n",
    "- Fred Richard\n",
    "- Colt Walker\n",
    "- Donnell Whittenburg\n",
    "- Shane Wiskus\n",
    "- Khoi Young\n"
   ]
  },
  {
   "cell_type": "code",
   "execution_count": null,
   "id": "502b1ef5",
   "metadata": {},
   "outputs": [],
   "source": []
  }
 ],
 "metadata": {
  "kernelspec": {
   "display_name": "Python 3 (ipykernel)",
   "language": "python",
   "name": "python3"
  },
  "language_info": {
   "codemirror_mode": {
    "name": "ipython",
    "version": 3
   },
   "file_extension": ".py",
   "mimetype": "text/x-python",
   "name": "python",
   "nbconvert_exporter": "python",
   "pygments_lexer": "ipython3",
   "version": "3.9.12"
  }
 },
 "nbformat": 4,
 "nbformat_minor": 5
}
