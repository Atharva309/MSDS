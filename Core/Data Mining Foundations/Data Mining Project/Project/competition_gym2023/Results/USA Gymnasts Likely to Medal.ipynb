{
 "cells": [
  {
   "cell_type": "markdown",
   "id": "f4551288",
   "metadata": {},
   "source": [
    "# Best USA Womens Gymnastic Team:\n",
    " - Jade Carey - 24 at olympics\n",
    " - Jordan Chiles - 23 at olympics\n",
    " - Leanne Wong  - 20 years old \n",
    " - Shilese Jones - 22 at olympics\n",
    " - Simone Biles - 27 at olympics"
   ]
  },
  {
   "cell_type": "markdown",
   "id": "486a4657",
   "metadata": {},
   "source": [
    "# USA Womens Gymnasts Most likely to medal:\n",
    "\n",
    "- vt \n",
    "    - simone biles -  March 14, 1997  - 27 at olympics\n",
    "\n",
    "- ub\n",
    "    - Shilese Jones - July 26, 2002 - 22 at olympics\n",
    "    - Zoe Miller - November 11, 2005 - 18 at olympics\n",
    "- fx \n",
    "    - kaliya lincoln - April 23, 2006 - 18 at olympics\n",
    "    \n",
    "- bb\n",
    "    - skye blakely - February 4, 2005 - 19 at olympics\n",
    "\n",
    "- iaa\n",
    "    - jordan chiles - April 15, 2001 - 23 at olympics"
   ]
  },
  {
   "cell_type": "markdown",
   "id": "787d1b7c",
   "metadata": {},
   "source": [
    "# USA Mens Gymnasts Most likely to medal:\n",
    "- Floor\n",
    "    - None\n",
    "    \n",
    "- High Bar\n",
    "    - None\n",
    "- pb\n",
    "    - curran phillips\n",
    "\n",
    "- ph\n",
    "    - model needs work\n",
    "- sr\n",
    "    - None\n",
    "\n",
    "- vt\n",
    "    - None\n",
    "    \n",
    "- iaa\n",
    "    - None"
   ]
  },
  {
   "cell_type": "code",
   "execution_count": null,
   "id": "aca18b37",
   "metadata": {},
   "outputs": [],
   "source": []
  }
 ],
 "metadata": {
  "kernelspec": {
   "display_name": "Python 3 (ipykernel)",
   "language": "python",
   "name": "python3"
  },
  "language_info": {
   "codemirror_mode": {
    "name": "ipython",
    "version": 3
   },
   "file_extension": ".py",
   "mimetype": "text/x-python",
   "name": "python",
   "nbconvert_exporter": "python",
   "pygments_lexer": "ipython3",
   "version": "3.9.12"
  }
 },
 "nbformat": 4,
 "nbformat_minor": 5
}
