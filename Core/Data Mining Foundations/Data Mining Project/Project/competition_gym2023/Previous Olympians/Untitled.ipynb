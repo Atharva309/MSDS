{
 "cells": [
  {
   "cell_type": "code",
   "execution_count": 8,
   "id": "c61bdfff",
   "metadata": {},
   "outputs": [
    {
     "ename": "SyntaxError",
     "evalue": "unexpected EOF while parsing (414213550.py, line 34)",
     "output_type": "error",
     "traceback": [
      "\u001b[0;36m  File \u001b[0;32m\"/var/folders/j_/555m2zps099832fjh_m8jjnc0000gn/T/ipykernel_13011/414213550.py\"\u001b[0;36m, line \u001b[0;32m34\u001b[0m\n\u001b[0;31m    'Alexandra Rose \"Aly\" Raisman']]]\u001b[0m\n\u001b[0m                                     ^\u001b[0m\n\u001b[0;31mSyntaxError\u001b[0m\u001b[0;31m:\u001b[0m unexpected EOF while parsing\n"
     ]
    }
   ],
   "source": [
    "years = \n",
    "\n",
    "[1992,['Wendy Suzanne Bruce (-Martin)',\n",
    "         'Dominique Margaux Dawes (-Thompson)',\n",
    "         'Shannon Lee Miller (-Phillips, -Falconetti)',\n",
    "         'Elizabeth Anne \"Betty\" Okino', \n",
    "         'Kerri Allyson Strug (-Fischer)',\n",
    "         'Kimberley Lyn \"Kim\" Zmeskal (-Burdette)']\n",
    "        \n",
    "[1996, ['Amanda Kathleen Borden (-Cochran)', \n",
    "         'Amy Yuen-Yee Chow (-Ho)',\n",
    "         'Dominique Margaux Dawes (-Thompson)',\n",
    "         'Shannon Lee Miller (-Phillips, -Falconetti)',\n",
    "         'Dominique Helena Moceanu (-Canales)',\n",
    "         'Jaycie Lynn Phelps (-McClure, -Marus)',\n",
    "         'Kerri Allyson Strug (-Fischer)']\\\n",
    "         \n",
    "[2000, ['Amy Yuen-Yee Chow (-Ho)', \n",
    "         'Jamie Annette Dantzscher',\n",
    "         'Dominique Margaux Dawes (-Thompson)', \n",
    "         'Kristen Ann Maloney',\n",
    "         'Mary Elise Ray', \n",
    "         'Tasha Schwikert-Warren']\n",
    "         \n",
    "[2004, (['Mohini Bhardwaj (-Barry)', \n",
    "         'Annia Portuondo Hatch',\n",
    "         'Terin Marie Humphrey', \n",
    "         'Courtney Anne Kupets (-Carter)',\n",
    "         'Courtney Lynn McCool', \n",
    "         'Carly Rae Patterson (-Caldwell)']\n",
    "         \n",
    "[2008,['Shawn Machel Johnson (-East)',\n",
    "         'Anastasiya Valeryevna \"Nastia\" Liukin',\n",
    "         'Chellsie Marie Memmel (-Maier)', \n",
    "         'Samantha Nicole Peszek',\n",
    "         'Alicia Marie Sacramone (-Quinn)', \n",
    "         'Bridget Elizabeth Sloan']]\n",
    "         \n",
    "[2012,['Gabrielle Christina Victoria \"Gabby\" Douglas',\n",
    "         'McKayla Rose Maroney',\n",
    "         'Alexandra Rose \"Aly\" Raisman',\n",
    "         'Kyla Briana Ross', \n",
    "         'Jordyn Marie Wieber']\n",
    "         \n",
    "[2016,['Simone Arianne Biles',\n",
    "         'Gabrielle Christina Victoria \"Gabby\" Douglas',\n",
    "         'Lauren Zoe \"Laurie\" Hernandez', \n",
    "         'Madison Taylor Kocian',\n",
    "         'Alexandra Rose \"Aly\" Raisman']]]"
   ]
  },
  {
   "cell_type": "markdown",
   "id": "d9570baf",
   "metadata": {},
   "source": [
    "olympic trials results by year: https://usagym.org/history/trials/"
   ]
  },
  {
   "cell_type": "code",
   "execution_count": null,
   "id": "ad0ab1e5",
   "metadata": {},
   "outputs": [],
   "source": []
  }
 ],
 "metadata": {
  "kernelspec": {
   "display_name": "Python 3 (ipykernel)",
   "language": "python",
   "name": "python3"
  },
  "language_info": {
   "codemirror_mode": {
    "name": "ipython",
    "version": 3
   },
   "file_extension": ".py",
   "mimetype": "text/x-python",
   "name": "python",
   "nbconvert_exporter": "python",
   "pygments_lexer": "ipython3",
   "version": "3.9.12"
  }
 },
 "nbformat": 4,
 "nbformat_minor": 5
}
