{
 "cells": [
  {
   "cell_type": "markdown",
   "id": "ec70fe38",
   "metadata": {},
   "source": [
    "## Women's Qualified Teams:\n",
    "- USA\n",
    "- UK\n",
    "- Canada\n",
    "\n",
    "\n",
    "\n",
    "## Men's Qualified Teams:\n",
    "- China\n",
    "- Japan\n",
    "- UK"
   ]
  },
  {
   "cell_type": "markdown",
   "id": "a5790a23",
   "metadata": {},
   "source": [
    "Asia:\n",
    " - 2023 Asian Artistic Gymnastics Championships https://en.wikipedia.org/wiki/2023_Asian_Artistic_Gymnastics_Championships\n",
    " \n",
    "- Senior Artistic Gymnastics Asian Championships 2023 - Women's Artistic Gymnastics https://results.scoreexpress.be/#/competition/SGPAGACSWAG23/category/2f1ec5b4ac98f99f4076e6335f0d210a/ranking/QUAL/TEAM"
   ]
  },
  {
   "cell_type": "code",
   "execution_count": null,
   "id": "8876ca5f",
   "metadata": {},
   "outputs": [],
   "source": []
  }
 ],
 "metadata": {
  "kernelspec": {
   "display_name": "Python 3 (ipykernel)",
   "language": "python",
   "name": "python3"
  },
  "language_info": {
   "codemirror_mode": {
    "name": "ipython",
    "version": 3
   },
   "file_extension": ".py",
   "mimetype": "text/x-python",
   "name": "python",
   "nbconvert_exporter": "python",
   "pygments_lexer": "ipython3",
   "version": "3.9.12"
  }
 },
 "nbformat": 4,
 "nbformat_minor": 5
}
