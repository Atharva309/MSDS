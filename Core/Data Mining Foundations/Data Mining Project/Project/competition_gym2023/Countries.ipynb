{
 "cells": [
  {
   "cell_type": "markdown",
   "id": "ec70fe38",
   "metadata": {},
   "source": [
    "## Women's Qualified Teams:\n",
    "- USA\n",
    "- UK\n",
    "- Canada\n",
    "- China\n",
    "- Brazil\n",
    "- Italy\n",
    "- Netherlands\n",
    "- France\n",
    "- Japan\n",
    "- Australia\n",
    "- Romania\n",
    "- South Korea\n",
    "\n",
    "\n",
    "## Men's Qualified Teams:\n",
    "- China\n",
    "- Japan\n",
    "- UK\n",
    "- United States\n",
    "- Canada\n",
    "- Germany\n",
    "- Italy\n",
    "- Switzerland\n",
    "- Spain\n",
    "- Turkey\n",
    "- Netherlands\n",
    "- Ukraine"
   ]
  },
  {
   "cell_type": "markdown",
   "id": "a5790a23",
   "metadata": {},
   "source": []
  },
  {
   "cell_type": "markdown",
   "id": "2e3a0ee0",
   "metadata": {},
   "source": [
    "# List of medals\n",
    "\n",
    "### olympic medals women (number of possible medals a country can win)\n",
    "\n",
    "- All-around, team - 1\n",
    "- All-around, individual - 3\n",
    "- Balance beam - 2\n",
    "- Floor exercise - 2\n",
    "- Uneven bars - 2\n",
    "- Vault - 2\n",
    "\n",
    "- total 12\n",
    "\n",
    "\n",
    "### olympic medals men\n",
    "\n",
    "- All-around, team - 1\n",
    "- All-around, individual - 3\n",
    "- Floor exercise - 2\n",
    "- Horizontal bar - 2\n",
    "- Parallel bars - 2\n",
    "- Pommel horse - 2\n",
    "- Rings - 2\n",
    "- Vault - 2\n",
    "\n",
    "- total 16\n",
    "\n",
    "\n",
    "usa could potentially win 28 medals"
   ]
  },
  {
   "cell_type": "code",
   "execution_count": null,
   "id": "18df3a2a",
   "metadata": {},
   "outputs": [],
   "source": []
  }
 ],
 "metadata": {
  "kernelspec": {
   "display_name": "Python 3 (ipykernel)",
   "language": "python",
   "name": "python3"
  },
  "language_info": {
   "codemirror_mode": {
    "name": "ipython",
    "version": 3
   },
   "file_extension": ".py",
   "mimetype": "text/x-python",
   "name": "python",
   "nbconvert_exporter": "python",
   "pygments_lexer": "ipython3",
   "version": "3.9.12"
  }
 },
 "nbformat": 4,
 "nbformat_minor": 5
}
