{
 "cells": [
  {
   "cell_type": "code",
   "execution_count": 1,
   "id": "af2992cb",
   "metadata": {},
   "outputs": [],
   "source": [
    "import pandas as pd\n",
    "import numpy as np\n",
    "import pulp\n"
   ]
  },
  {
   "cell_type": "markdown",
   "id": "b662989f",
   "metadata": {},
   "source": [
    "# Add kaliya lincoln"
   ]
  },
  {
   "cell_type": "code",
   "execution_count": 2,
   "id": "1a31384f",
   "metadata": {},
   "outputs": [],
   "source": [
    "blakely = pd.read_csv('../Cleaning/Individuals_Results/blakely.csv')\n",
    "biles = pd.read_csv('../Cleaning/Individuals_Results/biles.csv')\n",
    "carey = pd.read_csv('../Cleaning/Individuals_Results/carey.csv')\n",
    "chiles = pd.read_csv('../Cleaning/Individuals_Results/chiles.csv')\n",
    "dicello = pd.read_csv('../Cleaning/Individuals_Results/dicello.csv')\n",
    "jones = pd.read_csv('../Cleaning/Individuals_Results/jones.csv')\n",
    "jong = pd.read_csv('../Cleaning/Individuals_Results/jong.csv')\n",
    "lee = pd.read_csv('../Cleaning/Individuals_Results/lee.csv')\n",
    "matthews = pd.read_csv('../Cleaning/Individuals_Results/matthews.csv')\n",
    "miller = pd.read_csv('../Cleaning/Individuals_Results/miller.csv')\n",
    "roberson = pd.read_csv('../Cleaning/Individuals_Results/roberson.csv')\n",
    "sullivan = pd.read_csv('../Cleaning/Individuals_Results/sullivan.csv')\n",
    "suman = pd.read_csv('../Cleaning/Individuals_Results/suman.csv')\n",
    "wong = pd.read_csv('../Cleaning/Individuals_Results/wong.csv')\n",
    "lincoln = pd.read_csv('../Cleaning/Individuals_Results/lincoln.csv')\n"
   ]
  },
  {
   "cell_type": "code",
   "execution_count": 3,
   "id": "f715afb8",
   "metadata": {},
   "outputs": [
    {
     "data": {
      "text/html": [
       "<div>\n",
       "<style scoped>\n",
       "    .dataframe tbody tr th:only-of-type {\n",
       "        vertical-align: middle;\n",
       "    }\n",
       "\n",
       "    .dataframe tbody tr th {\n",
       "        vertical-align: top;\n",
       "    }\n",
       "\n",
       "    .dataframe thead th {\n",
       "        text-align: right;\n",
       "    }\n",
       "</style>\n",
       "<table border=\"1\" class=\"dataframe\">\n",
       "  <thead>\n",
       "    <tr style=\"text-align: right;\">\n",
       "      <th></th>\n",
       "      <th>Name</th>\n",
       "      <th>Date</th>\n",
       "      <th>Competition</th>\n",
       "      <th>Round</th>\n",
       "      <th>VT</th>\n",
       "      <th>UB</th>\n",
       "      <th>BB</th>\n",
       "      <th>FX</th>\n",
       "      <th>AA</th>\n",
       "    </tr>\n",
       "  </thead>\n",
       "  <tbody>\n",
       "    <tr>\n",
       "      <th>0</th>\n",
       "      <td>Jade Carey</td>\n",
       "      <td>2021-07-23</td>\n",
       "      <td>Olympic Games</td>\n",
       "      <td>EF</td>\n",
       "      <td>12.416</td>\n",
       "      <td>0.0</td>\n",
       "      <td>0.0</td>\n",
       "      <td>14.366</td>\n",
       "      <td>0.0</td>\n",
       "    </tr>\n",
       "  </tbody>\n",
       "</table>\n",
       "</div>"
      ],
      "text/plain": [
       "         Name        Date    Competition Round      VT   UB   BB      FX   AA\n",
       "0  Jade Carey  2021-07-23  Olympic Games    EF  12.416  0.0  0.0  14.366  0.0"
      ]
     },
     "execution_count": 3,
     "metadata": {},
     "output_type": "execute_result"
    }
   ],
   "source": [
    "carey.head(1)"
   ]
  },
  {
   "cell_type": "code",
   "execution_count": 4,
   "id": "99767fce",
   "metadata": {},
   "outputs": [
    {
     "data": {
      "text/html": [
       "<div>\n",
       "<style scoped>\n",
       "    .dataframe tbody tr th:only-of-type {\n",
       "        vertical-align: middle;\n",
       "    }\n",
       "\n",
       "    .dataframe tbody tr th {\n",
       "        vertical-align: top;\n",
       "    }\n",
       "\n",
       "    .dataframe thead th {\n",
       "        text-align: right;\n",
       "    }\n",
       "</style>\n",
       "<table border=\"1\" class=\"dataframe\">\n",
       "  <thead>\n",
       "    <tr style=\"text-align: right;\">\n",
       "      <th></th>\n",
       "      <th>Name</th>\n",
       "      <th>Date</th>\n",
       "      <th>Competition</th>\n",
       "      <th>Round</th>\n",
       "      <th>VT</th>\n",
       "      <th>UB</th>\n",
       "      <th>BB</th>\n",
       "      <th>FX</th>\n",
       "      <th>AA</th>\n",
       "    </tr>\n",
       "  </thead>\n",
       "  <tbody>\n",
       "    <tr>\n",
       "      <th>0</th>\n",
       "      <td>Jordan Chiles</td>\n",
       "      <td>2021-07-23</td>\n",
       "      <td>Olympic Games</td>\n",
       "      <td>TF</td>\n",
       "      <td>14.666</td>\n",
       "      <td>14.166</td>\n",
       "      <td>13.433</td>\n",
       "      <td>11.7</td>\n",
       "      <td>53.965</td>\n",
       "    </tr>\n",
       "  </tbody>\n",
       "</table>\n",
       "</div>"
      ],
      "text/plain": [
       "            Name        Date    Competition Round      VT      UB      BB  \\\n",
       "0  Jordan Chiles  2021-07-23  Olympic Games    TF  14.666  14.166  13.433   \n",
       "\n",
       "     FX      AA  \n",
       "0  11.7  53.965  "
      ]
     },
     "execution_count": 4,
     "metadata": {},
     "output_type": "execute_result"
    }
   ],
   "source": [
    "chiles.head(1)"
   ]
  },
  {
   "cell_type": "code",
   "execution_count": 5,
   "id": "20ad3b54",
   "metadata": {},
   "outputs": [
    {
     "data": {
      "text/html": [
       "<div>\n",
       "<style scoped>\n",
       "    .dataframe tbody tr th:only-of-type {\n",
       "        vertical-align: middle;\n",
       "    }\n",
       "\n",
       "    .dataframe tbody tr th {\n",
       "        vertical-align: top;\n",
       "    }\n",
       "\n",
       "    .dataframe thead th {\n",
       "        text-align: right;\n",
       "    }\n",
       "</style>\n",
       "<table border=\"1\" class=\"dataframe\">\n",
       "  <thead>\n",
       "    <tr style=\"text-align: right;\">\n",
       "      <th></th>\n",
       "      <th>Name</th>\n",
       "      <th>year</th>\n",
       "      <th>Competition</th>\n",
       "      <th>Round</th>\n",
       "      <th>VT</th>\n",
       "      <th>UB</th>\n",
       "      <th>BB</th>\n",
       "      <th>FX</th>\n",
       "      <th>AA</th>\n",
       "    </tr>\n",
       "  </thead>\n",
       "  <tbody>\n",
       "    <tr>\n",
       "      <th>0</th>\n",
       "      <td>Kaliya Lincoln</td>\n",
       "      <td>2023</td>\n",
       "      <td>U.S. Worlds Trials</td>\n",
       "      <td>EF</td>\n",
       "      <td>0.0</td>\n",
       "      <td>12.6</td>\n",
       "      <td>13.1</td>\n",
       "      <td>0.0</td>\n",
       "      <td>0.0</td>\n",
       "    </tr>\n",
       "  </tbody>\n",
       "</table>\n",
       "</div>"
      ],
      "text/plain": [
       "             Name  year         Competition Round   VT    UB    BB   FX   AA\n",
       "0  Kaliya Lincoln  2023  U.S. Worlds Trials    EF  0.0  12.6  13.1  0.0  0.0"
      ]
     },
     "execution_count": 5,
     "metadata": {},
     "output_type": "execute_result"
    }
   ],
   "source": [
    "lincoln.head(1)"
   ]
  },
  {
   "cell_type": "code",
   "execution_count": 6,
   "id": "83de7c26",
   "metadata": {},
   "outputs": [
    {
     "data": {
      "text/html": [
       "<div>\n",
       "<style scoped>\n",
       "    .dataframe tbody tr th:only-of-type {\n",
       "        vertical-align: middle;\n",
       "    }\n",
       "\n",
       "    .dataframe tbody tr th {\n",
       "        vertical-align: top;\n",
       "    }\n",
       "\n",
       "    .dataframe thead th {\n",
       "        text-align: right;\n",
       "    }\n",
       "</style>\n",
       "<table border=\"1\" class=\"dataframe\">\n",
       "  <thead>\n",
       "    <tr style=\"text-align: right;\">\n",
       "      <th></th>\n",
       "      <th>Name</th>\n",
       "      <th>Date</th>\n",
       "      <th>Competition</th>\n",
       "      <th>Round</th>\n",
       "      <th>VT</th>\n",
       "      <th>UB</th>\n",
       "      <th>BB</th>\n",
       "      <th>FX</th>\n",
       "      <th>AA</th>\n",
       "    </tr>\n",
       "  </thead>\n",
       "  <tbody>\n",
       "    <tr>\n",
       "      <th>0</th>\n",
       "      <td>Kayla DiCello</td>\n",
       "      <td>2021-10-18</td>\n",
       "      <td>World Championships</td>\n",
       "      <td>EF</td>\n",
       "      <td>0.0</td>\n",
       "      <td>0.0</td>\n",
       "      <td>11.866</td>\n",
       "      <td>13.633</td>\n",
       "      <td>0.0</td>\n",
       "    </tr>\n",
       "  </tbody>\n",
       "</table>\n",
       "</div>"
      ],
      "text/plain": [
       "            Name        Date          Competition Round   VT   UB      BB  \\\n",
       "0  Kayla DiCello  2021-10-18  World Championships    EF  0.0  0.0  11.866   \n",
       "\n",
       "       FX   AA  \n",
       "0  13.633  0.0  "
      ]
     },
     "execution_count": 6,
     "metadata": {},
     "output_type": "execute_result"
    }
   ],
   "source": [
    "dicello.head(1)"
   ]
  },
  {
   "cell_type": "code",
   "execution_count": 7,
   "id": "e4631c9e",
   "metadata": {},
   "outputs": [
    {
     "data": {
      "text/html": [
       "<div>\n",
       "<style scoped>\n",
       "    .dataframe tbody tr th:only-of-type {\n",
       "        vertical-align: middle;\n",
       "    }\n",
       "\n",
       "    .dataframe tbody tr th {\n",
       "        vertical-align: top;\n",
       "    }\n",
       "\n",
       "    .dataframe thead th {\n",
       "        text-align: right;\n",
       "    }\n",
       "</style>\n",
       "<table border=\"1\" class=\"dataframe\">\n",
       "  <thead>\n",
       "    <tr style=\"text-align: right;\">\n",
       "      <th></th>\n",
       "      <th>Name</th>\n",
       "      <th>Date</th>\n",
       "      <th>Competition</th>\n",
       "      <th>Round</th>\n",
       "      <th>VT</th>\n",
       "      <th>UB</th>\n",
       "      <th>BB</th>\n",
       "      <th>FX</th>\n",
       "      <th>AA</th>\n",
       "    </tr>\n",
       "  </thead>\n",
       "  <tbody>\n",
       "    <tr>\n",
       "      <th>0</th>\n",
       "      <td>Shilese Jones</td>\n",
       "      <td>2021-06-24</td>\n",
       "      <td>U.S. Olympic Trials</td>\n",
       "      <td>AA</td>\n",
       "      <td>14.9</td>\n",
       "      <td>12.9</td>\n",
       "      <td>13.3</td>\n",
       "      <td>13.533</td>\n",
       "      <td>54.633</td>\n",
       "    </tr>\n",
       "  </tbody>\n",
       "</table>\n",
       "</div>"
      ],
      "text/plain": [
       "            Name        Date          Competition Round    VT    UB    BB  \\\n",
       "0  Shilese Jones  2021-06-24  U.S. Olympic Trials    AA  14.9  12.9  13.3   \n",
       "\n",
       "       FX      AA  \n",
       "0  13.533  54.633  "
      ]
     },
     "execution_count": 7,
     "metadata": {},
     "output_type": "execute_result"
    }
   ],
   "source": [
    "jones.head(1)"
   ]
  },
  {
   "cell_type": "code",
   "execution_count": 8,
   "id": "b85b84a2",
   "metadata": {},
   "outputs": [
    {
     "data": {
      "text/html": [
       "<div>\n",
       "<style scoped>\n",
       "    .dataframe tbody tr th:only-of-type {\n",
       "        vertical-align: middle;\n",
       "    }\n",
       "\n",
       "    .dataframe tbody tr th {\n",
       "        vertical-align: top;\n",
       "    }\n",
       "\n",
       "    .dataframe thead th {\n",
       "        text-align: right;\n",
       "    }\n",
       "</style>\n",
       "<table border=\"1\" class=\"dataframe\">\n",
       "  <thead>\n",
       "    <tr style=\"text-align: right;\">\n",
       "      <th></th>\n",
       "      <th>Name</th>\n",
       "      <th>Date</th>\n",
       "      <th>Competition</th>\n",
       "      <th>Round</th>\n",
       "      <th>VT</th>\n",
       "      <th>UB</th>\n",
       "      <th>BB</th>\n",
       "      <th>FX</th>\n",
       "      <th>AA</th>\n",
       "    </tr>\n",
       "  </thead>\n",
       "  <tbody>\n",
       "    <tr>\n",
       "      <th>0</th>\n",
       "      <td>Katelyn Jong</td>\n",
       "      <td>2021-11-25</td>\n",
       "      <td>Junior Pan American Games</td>\n",
       "      <td>EF</td>\n",
       "      <td>13.933</td>\n",
       "      <td>0.0</td>\n",
       "      <td>12.7</td>\n",
       "      <td>13.0</td>\n",
       "      <td>0.0</td>\n",
       "    </tr>\n",
       "  </tbody>\n",
       "</table>\n",
       "</div>"
      ],
      "text/plain": [
       "           Name        Date                Competition Round      VT   UB  \\\n",
       "0  Katelyn Jong  2021-11-25  Junior Pan American Games    EF  13.933  0.0   \n",
       "\n",
       "     BB    FX   AA  \n",
       "0  12.7  13.0  0.0  "
      ]
     },
     "execution_count": 8,
     "metadata": {},
     "output_type": "execute_result"
    }
   ],
   "source": [
    "jong.head(1)"
   ]
  },
  {
   "cell_type": "code",
   "execution_count": 9,
   "id": "fe04f174",
   "metadata": {},
   "outputs": [],
   "source": [
    "biles = biles[biles['AA'] != 0]\n",
    "blakely = blakely[blakely['AA'] != 0]\n",
    "carey = carey[carey['AA'] != 0]\n",
    "chiles = chiles[chiles['AA'] != 0]\n",
    "dicello = dicello[dicello['AA'] != 0]\n",
    "jones = jones[jones['AA'] != 0]\n",
    "jong = jong[jong['AA'] != 0]\n",
    "lee = lee[lee['AA'] != 0]\n",
    "matthews = matthews[matthews['AA'] != 0]\n",
    "miller = miller[miller['AA'] != 0]\n",
    "roberson = roberson[roberson['AA'] != 0]\n",
    "sullivan = sullivan[sullivan['AA'] != 0]\n",
    "suman = suman[suman['AA'] != 0]\n",
    "wong = wong[wong['AA'] != 0]\n",
    "lincoln = lincoln[lincoln['AA'] != 0]"
   ]
  },
  {
   "cell_type": "code",
   "execution_count": 10,
   "id": "e97ed502",
   "metadata": {},
   "outputs": [],
   "source": [
    "biles.rename(columns={'Gymnast': 'Name'}, inplace=True)"
   ]
  },
  {
   "cell_type": "code",
   "execution_count": 12,
   "id": "1edef379",
   "metadata": {},
   "outputs": [],
   "source": [
    "df1 = pd.concat([blakely, biles, carey, chiles, dicello,jones,jong,lee,matthews, miller,\n",
    "                        roberson,sullivan, suman,wong, ], axis=0)"
   ]
  },
  {
   "cell_type": "code",
   "execution_count": 13,
   "id": "68654547",
   "metadata": {},
   "outputs": [],
   "source": [
    "df1 = df1[df1['AA'] != 0]"
   ]
  },
  {
   "cell_type": "code",
   "execution_count": 14,
   "id": "9833f7b5",
   "metadata": {},
   "outputs": [],
   "source": [
    "df1['year'] = df1['Date'].str[:4]"
   ]
  },
  {
   "cell_type": "code",
   "execution_count": 15,
   "id": "0ef6ab08",
   "metadata": {},
   "outputs": [],
   "source": [
    "df1=df1.drop(columns=['Date', 'Competition', 'Round'])"
   ]
  },
  {
   "cell_type": "code",
   "execution_count": 16,
   "id": "8ac29145",
   "metadata": {},
   "outputs": [],
   "source": [
    "lincoln=lincoln.drop(columns=['Competition', 'Round'])"
   ]
  },
  {
   "cell_type": "code",
   "execution_count": 17,
   "id": "8ded6e8d",
   "metadata": {},
   "outputs": [],
   "source": [
    "df = pd.concat([df1, lincoln ], axis=0)"
   ]
  },
  {
   "cell_type": "code",
   "execution_count": 19,
   "id": "5ab8eb94",
   "metadata": {
    "scrolled": true
   },
   "outputs": [
    {
     "name": "stdout",
     "output_type": "stream",
     "text": [
      "<class 'pandas.core.frame.DataFrame'>\n",
      "Index: 225 entries, 0 to 7\n",
      "Data columns (total 7 columns):\n",
      " #   Column  Non-Null Count  Dtype  \n",
      "---  ------  --------------  -----  \n",
      " 0   Name    225 non-null    object \n",
      " 1   VT      225 non-null    object \n",
      " 2   UB      225 non-null    float64\n",
      " 3   BB      225 non-null    float64\n",
      " 4   FX      225 non-null    float64\n",
      " 5   AA      225 non-null    float64\n",
      " 6   year    225 non-null    object \n",
      "dtypes: float64(4), object(3)\n",
      "memory usage: 14.1+ KB\n"
     ]
    }
   ],
   "source": [
    "df.info()"
   ]
  },
  {
   "cell_type": "code",
   "execution_count": 20,
   "id": "d049d67d",
   "metadata": {},
   "outputs": [],
   "source": [
    "\n",
    "df['VT'] = df['VT'].astype(float)"
   ]
  },
  {
   "cell_type": "code",
   "execution_count": 21,
   "id": "4283f70e",
   "metadata": {},
   "outputs": [
    {
     "data": {
      "text/plain": [
       "year\n",
       "2021    89\n",
       "2022    71\n",
       "2023    60\n",
       "2023     5\n",
       "Name: count, dtype: int64"
      ]
     },
     "execution_count": 21,
     "metadata": {},
     "output_type": "execute_result"
    }
   ],
   "source": [
    "df['year'].value_counts()"
   ]
  },
  {
   "cell_type": "code",
   "execution_count": 22,
   "id": "5f92eea7",
   "metadata": {},
   "outputs": [],
   "source": [
    "df['year'] = df['year'].str.strip()"
   ]
  },
  {
   "cell_type": "code",
   "execution_count": 23,
   "id": "aed76660",
   "metadata": {},
   "outputs": [],
   "source": [
    "df['year'].fillna(2022, inplace=True)"
   ]
  },
  {
   "cell_type": "code",
   "execution_count": 24,
   "id": "3ef46042",
   "metadata": {},
   "outputs": [],
   "source": [
    "df['year'] = df['year'].astype(int)"
   ]
  },
  {
   "cell_type": "code",
   "execution_count": 25,
   "id": "b3d754ce",
   "metadata": {},
   "outputs": [
    {
     "ename": "NameError",
     "evalue": "name 'dsfa' is not defined",
     "output_type": "error",
     "traceback": [
      "\u001b[0;31m---------------------------------------------------------------------------\u001b[0m",
      "\u001b[0;31mNameError\u001b[0m                                 Traceback (most recent call last)",
      "\u001b[0;32m/var/folders/j_/555m2zps099832fjh_m8jjnc0000gn/T/ipykernel_43483/3933896798.py\u001b[0m in \u001b[0;36m<cell line: 1>\u001b[0;34m()\u001b[0m\n\u001b[0;32m----> 1\u001b[0;31m \u001b[0mdsfa\u001b[0m\u001b[0;34m\u001b[0m\u001b[0;34m\u001b[0m\u001b[0m\n\u001b[0m",
      "\u001b[0;31mNameError\u001b[0m: name 'dsfa' is not defined"
     ]
    }
   ],
   "source": [
    "dsfa"
   ]
  },
  {
   "cell_type": "code",
   "execution_count": 26,
   "id": "5b0b7168",
   "metadata": {
    "scrolled": true
   },
   "outputs": [
    {
     "name": "stdout",
     "output_type": "stream",
     "text": [
      "<class 'pandas.core.frame.DataFrame'>\n",
      "Index: 225 entries, 0 to 7\n",
      "Data columns (total 7 columns):\n",
      " #   Column  Non-Null Count  Dtype  \n",
      "---  ------  --------------  -----  \n",
      " 0   Name    225 non-null    object \n",
      " 1   VT      225 non-null    float64\n",
      " 2   UB      225 non-null    float64\n",
      " 3   BB      225 non-null    float64\n",
      " 4   FX      225 non-null    float64\n",
      " 5   AA      225 non-null    float64\n",
      " 6   year    225 non-null    int64  \n",
      "dtypes: float64(5), int64(1), object(1)\n",
      "memory usage: 14.1+ KB\n"
     ]
    }
   ],
   "source": [
    "df.info()"
   ]
  },
  {
   "cell_type": "code",
   "execution_count": 27,
   "id": "7075fe01",
   "metadata": {},
   "outputs": [],
   "source": [
    "df=df.drop(columns=['year'])"
   ]
  },
  {
   "cell_type": "code",
   "execution_count": 28,
   "id": "e6633239",
   "metadata": {},
   "outputs": [],
   "source": [
    "grouped_means = df.groupby('Name').mean()"
   ]
  },
  {
   "cell_type": "code",
   "execution_count": 29,
   "id": "fad4a5d2",
   "metadata": {},
   "outputs": [
    {
     "data": {
      "text/html": [
       "<div>\n",
       "<style scoped>\n",
       "    .dataframe tbody tr th:only-of-type {\n",
       "        vertical-align: middle;\n",
       "    }\n",
       "\n",
       "    .dataframe tbody tr th {\n",
       "        vertical-align: top;\n",
       "    }\n",
       "\n",
       "    .dataframe thead th {\n",
       "        text-align: right;\n",
       "    }\n",
       "</style>\n",
       "<table border=\"1\" class=\"dataframe\">\n",
       "  <thead>\n",
       "    <tr style=\"text-align: right;\">\n",
       "      <th></th>\n",
       "      <th>VT</th>\n",
       "      <th>UB</th>\n",
       "      <th>BB</th>\n",
       "      <th>FX</th>\n",
       "      <th>AA</th>\n",
       "    </tr>\n",
       "    <tr>\n",
       "      <th>Name</th>\n",
       "      <th></th>\n",
       "      <th></th>\n",
       "      <th></th>\n",
       "      <th></th>\n",
       "      <th></th>\n",
       "    </tr>\n",
       "  </thead>\n",
       "  <tbody>\n",
       "    <tr>\n",
       "      <th>Ashlee Sullivan</th>\n",
       "      <td>13.477778</td>\n",
       "      <td>12.427778</td>\n",
       "      <td>12.888889</td>\n",
       "      <td>13.077778</td>\n",
       "      <td>51.872222</td>\n",
       "    </tr>\n",
       "    <tr>\n",
       "      <th>Jade Carey</th>\n",
       "      <td>14.615308</td>\n",
       "      <td>13.271692</td>\n",
       "      <td>12.763923</td>\n",
       "      <td>13.687000</td>\n",
       "      <td>54.337923</td>\n",
       "    </tr>\n",
       "    <tr>\n",
       "      <th>Jordan Chiles</th>\n",
       "      <td>14.630062</td>\n",
       "      <td>14.089438</td>\n",
       "      <td>13.383188</td>\n",
       "      <td>13.580125</td>\n",
       "      <td>55.682812</td>\n",
       "    </tr>\n",
       "    <tr>\n",
       "      <th>Joscelyn Roberson</th>\n",
       "      <td>13.892105</td>\n",
       "      <td>11.328947</td>\n",
       "      <td>12.926316</td>\n",
       "      <td>13.118421</td>\n",
       "      <td>51.265789</td>\n",
       "    </tr>\n",
       "    <tr>\n",
       "      <th>Kaliya Lincoln</th>\n",
       "      <td>13.860000</td>\n",
       "      <td>11.990000</td>\n",
       "      <td>12.780000</td>\n",
       "      <td>13.990000</td>\n",
       "      <td>52.620000</td>\n",
       "    </tr>\n",
       "    <tr>\n",
       "      <th>Katelyn Jong</th>\n",
       "      <td>13.950000</td>\n",
       "      <td>13.137500</td>\n",
       "      <td>12.350000</td>\n",
       "      <td>13.105000</td>\n",
       "      <td>52.542500</td>\n",
       "    </tr>\n",
       "    <tr>\n",
       "      <th>Kayla DiCello</th>\n",
       "      <td>14.187500</td>\n",
       "      <td>13.423875</td>\n",
       "      <td>13.018688</td>\n",
       "      <td>13.720813</td>\n",
       "      <td>54.350875</td>\n",
       "    </tr>\n",
       "    <tr>\n",
       "      <th>Leanne Wong</th>\n",
       "      <td>14.353563</td>\n",
       "      <td>13.385312</td>\n",
       "      <td>13.300000</td>\n",
       "      <td>13.596813</td>\n",
       "      <td>54.635688</td>\n",
       "    </tr>\n",
       "    <tr>\n",
       "      <th>Nola Matthews</th>\n",
       "      <td>13.054348</td>\n",
       "      <td>13.202174</td>\n",
       "      <td>12.650000</td>\n",
       "      <td>12.570304</td>\n",
       "      <td>51.476826</td>\n",
       "    </tr>\n",
       "    <tr>\n",
       "      <th>Shilese Jones</th>\n",
       "      <td>14.511067</td>\n",
       "      <td>14.248733</td>\n",
       "      <td>13.026667</td>\n",
       "      <td>13.545533</td>\n",
       "      <td>55.332000</td>\n",
       "    </tr>\n",
       "    <tr>\n",
       "      <th>Simone Biles</th>\n",
       "      <td>15.348200</td>\n",
       "      <td>14.224900</td>\n",
       "      <td>14.544900</td>\n",
       "      <td>14.749900</td>\n",
       "      <td>58.867900</td>\n",
       "    </tr>\n",
       "    <tr>\n",
       "      <th>Skye Blakely</th>\n",
       "      <td>14.119000</td>\n",
       "      <td>13.648786</td>\n",
       "      <td>13.444071</td>\n",
       "      <td>13.213071</td>\n",
       "      <td>54.424929</td>\n",
       "    </tr>\n",
       "    <tr>\n",
       "      <th>Sunisa Lee</th>\n",
       "      <td>14.334583</td>\n",
       "      <td>14.877750</td>\n",
       "      <td>14.109583</td>\n",
       "      <td>13.877667</td>\n",
       "      <td>57.199583</td>\n",
       "    </tr>\n",
       "    <tr>\n",
       "      <th>Tiana Sumanasekera</th>\n",
       "      <td>13.958333</td>\n",
       "      <td>11.318500</td>\n",
       "      <td>13.312222</td>\n",
       "      <td>13.107444</td>\n",
       "      <td>51.698167</td>\n",
       "    </tr>\n",
       "    <tr>\n",
       "      <th>Zoe Miller</th>\n",
       "      <td>13.642105</td>\n",
       "      <td>13.856947</td>\n",
       "      <td>12.322737</td>\n",
       "      <td>12.335053</td>\n",
       "      <td>52.156842</td>\n",
       "    </tr>\n",
       "  </tbody>\n",
       "</table>\n",
       "</div>"
      ],
      "text/plain": [
       "                           VT         UB         BB         FX         AA\n",
       "Name                                                                     \n",
       "Ashlee Sullivan     13.477778  12.427778  12.888889  13.077778  51.872222\n",
       "Jade Carey          14.615308  13.271692  12.763923  13.687000  54.337923\n",
       "Jordan Chiles       14.630062  14.089438  13.383188  13.580125  55.682812\n",
       "Joscelyn Roberson   13.892105  11.328947  12.926316  13.118421  51.265789\n",
       "Kaliya Lincoln      13.860000  11.990000  12.780000  13.990000  52.620000\n",
       "Katelyn Jong        13.950000  13.137500  12.350000  13.105000  52.542500\n",
       "Kayla DiCello       14.187500  13.423875  13.018688  13.720813  54.350875\n",
       "Leanne Wong         14.353563  13.385312  13.300000  13.596813  54.635688\n",
       "Nola Matthews       13.054348  13.202174  12.650000  12.570304  51.476826\n",
       "Shilese Jones       14.511067  14.248733  13.026667  13.545533  55.332000\n",
       "Simone Biles        15.348200  14.224900  14.544900  14.749900  58.867900\n",
       "Skye Blakely        14.119000  13.648786  13.444071  13.213071  54.424929\n",
       "Sunisa Lee          14.334583  14.877750  14.109583  13.877667  57.199583\n",
       "Tiana Sumanasekera  13.958333  11.318500  13.312222  13.107444  51.698167\n",
       "Zoe Miller          13.642105  13.856947  12.322737  12.335053  52.156842"
      ]
     },
     "execution_count": 29,
     "metadata": {},
     "output_type": "execute_result"
    }
   ],
   "source": [
    "grouped_means"
   ]
  },
  {
   "cell_type": "code",
   "execution_count": 30,
   "id": "94bc32fc",
   "metadata": {},
   "outputs": [],
   "source": [
    "# unique_names = df['Name'].unique()\n",
    "\n",
    "# # Create a dictionary of DataFrames, one for each unique 'Name'\n",
    "# dataframes = {}\n",
    "# for name in unique_names:\n",
    "#     dataframes[name] = df[df['Name'] == name]\n"
   ]
  },
  {
   "cell_type": "code",
   "execution_count": 31,
   "id": "9f67f65b",
   "metadata": {},
   "outputs": [],
   "source": [
    "# grouped_dataframes = dict(iter(df.groupby('Name')))"
   ]
  },
  {
   "cell_type": "code",
   "execution_count": 32,
   "id": "723c5964",
   "metadata": {},
   "outputs": [],
   "source": [
    "# # Group the DataFrame by 'Name' and store in a dictionary\n",
    "# grouped_dataframes = dict(iter(df.groupby('Name')))\n",
    "\n",
    "# # Access and use individual DataFrames by their 'Name'\n",
    "# for name, sub_df in grouped_dataframes.items():\n",
    "#     # You can access and manipulate each DataFrame by its name\n",
    "#     print(f\"Data for {name}:\")\n",
    "#     print(sub_df)\n",
    "#     # You can perform other operations on each DataFrame as needed\n",
    "#     # For example, you can save them to separate CSV files:\n",
    "#     sub_df.to_csv(f\"{name}_data.csv\", index=False)\n",
    "#     print()\n"
   ]
  },
  {
   "cell_type": "code",
   "execution_count": 38,
   "id": "79233b08",
   "metadata": {},
   "outputs": [
    {
     "name": "stdout",
     "output_type": "stream",
     "text": [
      "Welcome to the CBC MILP Solver \n",
      "Version: 2.10.3 \n",
      "Build Date: Dec 15 2019 \n",
      "\n",
      "command line - /Users/ryantalbot/opt/anaconda3/envs/tf2/lib/python3.9/site-packages/pulp/solverdir/cbc/osx/64/cbc /var/folders/j_/555m2zps099832fjh_m8jjnc0000gn/T/ad0bc57d071a4190a9af115dff70ccf0-pulp.mps max timeMode elapsed branch printingOptions all solution /var/folders/j_/555m2zps099832fjh_m8jjnc0000gn/T/ad0bc57d071a4190a9af115dff70ccf0-pulp.sol (default strategy 1)\n",
      "At line 2 NAME          MODEL\n",
      "At line 3 ROWS\n",
      "At line 7 COLUMNS\n",
      "At line 83 RHS\n",
      "At line 86 BOUNDS\n",
      "At line 102 ENDATA\n",
      "Problem MODEL has 2 rows, 15 columns and 30 elements\n",
      "Coin0008I MODEL read with 0 errors\n",
      "Option for timeMode changed from cpu to elapsed\n",
      "Continuous objective value is 73.4582 - 0.00 seconds\n",
      "Cgl0004I processed model has 1 rows, 15 columns (15 integer (15 of which binary)) and 15 elements\n",
      "Cbc0038I Initial state - 0 integers unsatisfied sum - 0\n",
      "Cbc0038I Solution found of -73.4582\n",
      "Cbc0038I Before mini branch and bound, 15 integers at bound fixed and 0 continuous\n",
      "Cbc0038I Mini branch and bound did not improve solution (0.00 seconds)\n",
      "Cbc0038I After 0.00 seconds - Feasibility pump exiting with objective of -73.4582 - took 0.00 seconds\n",
      "Cbc0012I Integer solution of -73.4582 found by feasibility pump after 0 iterations and 0 nodes (0.00 seconds)\n",
      "Cbc0001I Search completed - best objective -73.45820000000001, took 0 iterations and 0 nodes (0.00 seconds)\n",
      "Cbc0035I Maximum depth 0, 0 variables fixed on reduced cost\n",
      "Cuts at root node changed objective from -73.4582 to -73.4582\n",
      "Probing was tried 0 times and created 0 cuts of which 0 were active after adding rounds of cuts (0.000 seconds)\n",
      "Gomory was tried 0 times and created 0 cuts of which 0 were active after adding rounds of cuts (0.000 seconds)\n",
      "Knapsack was tried 0 times and created 0 cuts of which 0 were active after adding rounds of cuts (0.000 seconds)\n",
      "Clique was tried 0 times and created 0 cuts of which 0 were active after adding rounds of cuts (0.000 seconds)\n",
      "MixedIntegerRounding2 was tried 0 times and created 0 cuts of which 0 were active after adding rounds of cuts (0.000 seconds)\n",
      "FlowCover was tried 0 times and created 0 cuts of which 0 were active after adding rounds of cuts (0.000 seconds)\n",
      "TwoMirCuts was tried 0 times and created 0 cuts of which 0 were active after adding rounds of cuts (0.000 seconds)\n",
      "ZeroHalf was tried 0 times and created 0 cuts of which 0 were active after adding rounds of cuts (0.000 seconds)\n",
      "\n",
      "Result - Optimal solution found\n",
      "\n",
      "Objective value:                73.45820000\n",
      "Enumerated nodes:               0\n",
      "Total iterations:               0\n",
      "Time (CPU seconds):             0.00\n",
      "Time (Wallclock seconds):       0.00\n",
      "\n",
      "Option for printingOptions changed from normal to all\n",
      "Total time (CPU seconds):       0.00   (Wallclock seconds):       0.00\n",
      "\n",
      "Selected Athletes: ['Jade Carey', 'Jordan Chiles', 'Leanne Wong', 'Shilese Jones', 'Simone Biles']\n"
     ]
    }
   ],
   "source": [
    "# Sample athlete scores (replace with the provided data)\n",
    "athlete_scores = {\n",
    "    'Ashlee Sullivan': {'VT': 13.477778, 'UB': 12.427778, 'BB': 12.888889, 'FX': 13.077778, 'AA': 51.872222},\n",
    "    'Jade Carey': {'VT': 14.615308, 'UB': 13.271692, 'BB': 12.763923, 'FX': 13.687000, 'AA': 54.337923},\n",
    "    'Jordan Chiles': {'VT': 14.630062, 'UB': 14.089438, 'BB': 13.383188, 'FX': 13.580125, 'AA': 55.682812},\n",
    "    'Joscelyn Roberson': {'VT': 13.892105, 'UB': 11.328947, 'BB': 12.926316, 'FX': 13.118421, 'AA': 51.265789},\n",
    "    'Katelyn Jong': {'VT': 13.950000, 'UB': 13.137500, 'BB': 12.350000, 'FX': 13.105000, 'AA': 52.542500},\n",
    "    'Kayla DiCello': {'VT': 14.187500, 'UB': 13.423875, 'BB': 13.018688, 'FX': 13.720813, 'AA': 54.350875},\n",
    "    'Leanne Wong': {'VT': 14.353563, 'UB': 13.385312, 'BB': 13.300000, 'FX': 13.596813, 'AA': 54.635688},\n",
    "    'Nola Matthews': {'VT': 13.054348, 'UB': 13.202174, 'BB': 12.650000, 'FX': 12.570304, 'AA': 51.476826},\n",
    "    'Shilese Jones': {'VT': 14.511067, 'UB': 14.248733, 'BB': 13.026667, 'FX': 13.545533, 'AA': 55.332000},\n",
    "    'Simone Biles': {'VT': 15.348200, 'UB': 14.224900, 'BB': 14.544900, 'FX': 14.749900, 'AA': 58.867900},\n",
    "    'Skye Blakely': {'VT': 14.119000, 'UB': 13.648786, 'BB': 13.444071, 'FX': 13.213071, 'AA': 54.424929},\n",
    "    'Sunisa Lee': {'VT': 14.334583, 'UB': 14.877750, 'BB': 14.109583, 'FX': 13.877667, 'AA': 57.199583},\n",
    "    'Tiana Sumanasekera': {'VT': 13.958333, 'UB': 11.318500, 'BB': 13.312222, 'FX': 13.107444, 'AA': 51.698167},\n",
    "    'Zoe Miller': {'VT': 13.642105, 'UB': 13.856947, 'BB': 12.322737, 'FX': 12.335053, 'AA': 52.156842},\n",
    "    'Kaliya Lincoln': {'VT': 13.860000, 'UB': 11.990000, 'BB': 12.780000, 'FX': 13.990000, 'AA': 52.620000},\n",
    "}\n",
    "\n",
    "\n",
    "# Create a LP problem\n",
    "problem = pulp.LpProblem(\"Athlete_Selection\", pulp.LpMaximize)\n",
    "\n",
    "# Define decision variables for each athlete\n",
    "athletes = list(athlete_scores.keys())\n",
    "athlete_vars = pulp.LpVariable.dicts(\"Select\", athletes, cat=pulp.LpBinary)\n",
    "\n",
    "# Define the objective to maximize total scores in the qualifying round\n",
    "# You should replace 'Apparatus1' with the appropriate apparatus (e.g., 'VT', 'UB', 'BB', 'FX')\n",
    "apparatus_to_maximize = 'VT'  # Change this apparatus as needed\n",
    "problem += pulp.lpSum(athlete_scores[athlete][apparatus_to_maximize] * athlete_vars[athlete] for athlete in athletes)\n",
    "\n",
    "# Constraints\n",
    "problem += pulp.lpSum(athlete_vars[athlete] for athlete in athletes) == 5  # Select 5 athletes\n",
    "problem += pulp.lpSum(athlete_vars[athlete] for athlete in athletes) >= 4  # Select at least 4 athletes\n",
    "\n",
    "# Solve the LP problem\n",
    "problem.solve()\n",
    "\n",
    "# Display the selected athletes\n",
    "selected_athletes = [athlete for athlete in athletes if pulp.value(athlete_vars[athlete]) == 1]\n",
    "print(\"Selected Athletes:\", selected_athletes)"
   ]
  },
  {
   "cell_type": "markdown",
   "id": "70d3a342",
   "metadata": {},
   "source": [
    "<!-- The provided output is the result summary of a Mixed-Integer Linear Programming (MILP) optimization problem solved using the CBC (Coin-or Branch and Cut) solver. Here's a breakdown of the important parts of the output:\n",
    "\n",
    "1. **CBC MILP Solver Information**:\n",
    "   - This section provides information about the version and build date of the CBC MILP solver being used.\n",
    "\n",
    "2. **Command Line**:\n",
    "   - This line shows the command line used to run the CBC solver, specifying various options and the path to the solver executable.\n",
    "\n",
    "3. **Problem Description**:\n",
    "   - The lines starting with \"At line X\" describe the structure of the optimization problem, including rows (constraints), columns (variables), right-hand sides (RHS), bounds, and the end of the problem definition.\n",
    "\n",
    "4. **Problem Statistics**:\n",
    "   - \"Problem MODEL has 2 rows, 14 columns, and 28 elements\" provides information about the size of the optimization problem, including the number of rows (constraints) and columns (variables).\n",
    "\n",
    "5. **Solution Information**:\n",
    "   - \"Continuous objective value\" and \"Integer solution\" sections provide details about the objective value and the status of the solver:\n",
    "     - \"Continuous objective value\" shows the objective value obtained in the continuous relaxation of the problem.\n",
    "     - \"Integer solution\" indicates that an integer solution was found.\n",
    "\n",
    "6. **Branch and Bound Algorithm**:\n",
    "   - This section provides information about the progress of the branch and bound algorithm used to solve the MILP problem:\n",
    "     - \"Cbc0038I Initial state\" indicates the initial state of the solver.\n",
    "     - \"Cbc0038I Solution found\" reports the objective value found.\n",
    "     - \"Cbc0038I Mini branch and bound\" indicates that no improvement was achieved in a mini branch and bound step.\n",
    "     - \"Cbc0035I Maximum depth\" shows information about the depth and variables fixed.\n",
    "     \n",
    "7. **Cut Generation**:\n",
    "   - This section reports the generation of cuts (inequalities) during the optimization process.\n",
    "\n",
    "8. **Result**:\n",
    "   - \"Result - Optimal solution found\" indicates that the solver found an optimal solution to the MILP problem.\n",
    "\n",
    "9. **Objective Value and Solution**:\n",
    "   - \"Objective value\" displays the final objective value obtained by the optimization.\n",
    "   - \"Selected Athletes\" lists the names of the selected athletes as a result of the optimization.\n",
    "\n",
    "10. **Solver Timing Information**:\n",
    "    - This section provides timing information related to the solver's execution.\n",
    "\n",
    "In summary, this output provides detailed information about how the CBC solver solved the MILP problem, including problem statistics, solver progress, and the final optimal solution. The \"Selected Athletes\" section shows the athletes chosen based on the optimization criteria. -->"
   ]
  },
  {
   "cell_type": "code",
   "execution_count": 39,
   "id": "01c07d38",
   "metadata": {},
   "outputs": [
    {
     "data": {
      "text/plain": [
       "['Jade Carey', 'Jordan Chiles', 'Leanne Wong', 'Shilese Jones', 'Simone Biles']"
      ]
     },
     "execution_count": 39,
     "metadata": {},
     "output_type": "execute_result"
    }
   ],
   "source": [
    "selected_athletes"
   ]
  },
  {
   "cell_type": "markdown",
   "id": "76f4521b",
   "metadata": {},
   "source": [
    "---\n",
    "The provided output is the result summary of a Mixed-Integer Linear Programming (MILP) optimization problem solved using the CBC (Coin-or Branch and Cut) solver. Here's a breakdown of the important parts of the output:\n",
    "\n",
    "1. **CBC MILP Solver Information**:\n",
    "   - This section provides information about the version and build date of the CBC MILP solver being used.\n",
    "\n",
    "2. **Command Line**:\n",
    "   - This line shows the command line used to run the CBC solver, specifying various options and the path to the solver executable.\n",
    "\n",
    "3. **Problem Description**:\n",
    "   - The lines starting with \"At line X\" describe the structure of the optimization problem, including rows (constraints), columns (variables), right-hand sides (RHS), bounds, and the end of the problem definition.\n",
    "\n",
    "4. **Problem Statistics**:\n",
    "   - \"Problem MODEL has 2 rows, 14 columns, and 28 elements\" provides information about the size of the optimization problem, including the number of rows (constraints) and columns (variables).\n",
    "\n",
    "5. **Solution Information**:\n",
    "   - \"Continuous objective value\" and \"Integer solution\" sections provide details about the objective value and the status of the solver:\n",
    "     - \"Continuous objective value\" shows the objective value obtained in the continuous relaxation of the problem.\n",
    "     - \"Integer solution\" indicates that an integer solution was found.\n",
    "\n",
    "6. **Branch and Bound Algorithm**:\n",
    "   - This section provides information about the progress of the branch and bound algorithm used to solve the MILP problem:\n",
    "     - \"Cbc0038I Initial state\" indicates the initial state of the solver.\n",
    "     - \"Cbc0038I Solution found\" reports the objective value found.\n",
    "     - \"Cbc0038I Mini branch and bound\" indicates that no improvement was achieved in a mini branch and bound step.\n",
    "     - \"Cbc0035I Maximum depth\" shows information about the depth and variables fixed.\n",
    "     \n",
    "7. **Cut Generation**:\n",
    "   - This section reports the generation of cuts (inequalities) during the optimization process.\n",
    "\n",
    "8. **Result**:\n",
    "   - \"Result - Optimal solution found\" indicates that the solver found an optimal solution to the MILP problem.\n",
    "\n",
    "9. **Objective Value and Solution**:\n",
    "   - \"Objective value\" displays the final objective value obtained by the optimization.\n",
    "   - \"Selected Athletes\" lists the names of the selected athletes as a result of the optimization.\n",
    "\n",
    "10. **Solver Timing Information**:\n",
    "    - This section provides timing information related to the solver's execution.\n",
    "\n",
    "In summary, this output provides detailed information about how the CBC solver solved the MILP problem, including problem statistics, solver progress, and the final optimal solution. The \"Selected Athletes\" section shows the athletes chosen based on the optimization criteria."
   ]
  },
  {
   "cell_type": "markdown",
   "id": "a422d932",
   "metadata": {},
   "source": [
    "The \"Objective value\" in the context of a Linear Programming (LP) or Mixed-Integer Linear Programming (MILP) problem represents the numerical value of the objective function at the optimal solution found by the solver. It's a critical piece of information as it indicates the value of the quantity that you are trying to either maximize or minimize in your optimization problem.\n",
    "\n",
    "In the provided output:\n",
    "\n",
    "    \"Objective value: 73.45820000\" means that the value of the objective function at the optimal solution found by the solver is approximately 73.4582.\n",
    "\n",
    "Here's what this value represents:\n",
    "\n",
    "    If your optimization problem is a maximization problem, this value tells you the maximum achievable value of the objective function under the given constraints. In this case, 73.4582 is the maximum possible value of the objective function.\n",
    "\n",
    "    If your optimization problem is a minimization problem, this value tells you the minimum achievable value of the objective function. In this case, 73.4582 is the minimum possible value of the objective function.\n",
    "\n",
    "In either case, this value is a key metric that helps you understand the quality of the solution. The objective value should align with your problem's goals. For example, if you're trying to maximize profits, a higher objective value is better. If you're trying to minimize costs, a lower objective value is better.\n",
    "\n",
    "In practical terms, this objective value is often associated with the specific units or context of your problem. For example, in a financial optimization problem, it might represent the total profit in dollars. In a scheduling problem, it might represent the total completion time in hours.\n",
    "\n",
    "So, in your context, an \"Objective value\" of 73.4582 indicates the quality of the solution based on the criteria defined in your MILP problem. The specific meaning of this value depends on the details of your optimization problem and what you are trying to achieve."
   ]
  },
  {
   "cell_type": "code",
   "execution_count": null,
   "id": "9b326f93",
   "metadata": {},
   "outputs": [],
   "source": []
  },
  {
   "cell_type": "code",
   "execution_count": null,
   "id": "07e3ea62",
   "metadata": {},
   "outputs": [],
   "source": []
  },
  {
   "cell_type": "code",
   "execution_count": null,
   "id": "e4ba8014",
   "metadata": {},
   "outputs": [],
   "source": []
  },
  {
   "cell_type": "code",
   "execution_count": null,
   "id": "486972de",
   "metadata": {},
   "outputs": [],
   "source": []
  },
  {
   "cell_type": "code",
   "execution_count": null,
   "id": "8209db36",
   "metadata": {},
   "outputs": [],
   "source": []
  },
  {
   "cell_type": "code",
   "execution_count": null,
   "id": "12b52e83",
   "metadata": {},
   "outputs": [],
   "source": []
  },
  {
   "cell_type": "code",
   "execution_count": null,
   "id": "3a9b8cf8",
   "metadata": {},
   "outputs": [],
   "source": []
  },
  {
   "cell_type": "code",
   "execution_count": null,
   "id": "e199b966",
   "metadata": {},
   "outputs": [],
   "source": []
  },
  {
   "cell_type": "code",
   "execution_count": null,
   "id": "66b70c8b",
   "metadata": {},
   "outputs": [],
   "source": []
  },
  {
   "cell_type": "code",
   "execution_count": null,
   "id": "5e4ca2b1",
   "metadata": {},
   "outputs": [],
   "source": []
  },
  {
   "cell_type": "code",
   "execution_count": null,
   "id": "063b4fcd",
   "metadata": {},
   "outputs": [],
   "source": []
  },
  {
   "cell_type": "code",
   "execution_count": null,
   "id": "b1308b90",
   "metadata": {},
   "outputs": [],
   "source": []
  },
  {
   "cell_type": "code",
   "execution_count": null,
   "id": "04b900b7",
   "metadata": {},
   "outputs": [],
   "source": []
  },
  {
   "cell_type": "code",
   "execution_count": null,
   "id": "e0fc141f",
   "metadata": {},
   "outputs": [],
   "source": []
  },
  {
   "cell_type": "code",
   "execution_count": null,
   "id": "d273a383",
   "metadata": {},
   "outputs": [],
   "source": []
  },
  {
   "cell_type": "code",
   "execution_count": null,
   "id": "0d9ec4c2",
   "metadata": {},
   "outputs": [],
   "source": []
  }
 ],
 "metadata": {
  "kernelspec": {
   "display_name": "Python 3 (ipykernel)",
   "language": "python",
   "name": "python3"
  },
  "language_info": {
   "codemirror_mode": {
    "name": "ipython",
    "version": 3
   },
   "file_extension": ".py",
   "mimetype": "text/x-python",
   "name": "python",
   "nbconvert_exporter": "python",
   "pygments_lexer": "ipython3",
   "version": "3.9.12"
  }
 },
 "nbformat": 4,
 "nbformat_minor": 5
}
