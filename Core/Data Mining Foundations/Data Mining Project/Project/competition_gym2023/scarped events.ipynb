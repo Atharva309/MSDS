{
 "cells": [
  {
   "cell_type": "markdown",
   "id": "f478d9c9",
   "metadata": {},
   "source": [
    "## 2012\n",
    "\n",
    "world champ 11\n",
    "\n",
    "\n",
    "\n",
    "## 2016\n",
    "\n",
    "world champ 13\n",
    "\n",
    "world cup 13 cottbuss\n",
    "\n",
    "Pan American Championships 2014\n",
    "\n",
    "world champ 14\n",
    "\n",
    "world cup 14 doha\n",
    "\n",
    "word cup 15 cottbus\n",
    "\n",
    "british championship 15\n",
    "\n",
    "jesolo 15\n",
    "\n",
    "pacific rim 16\n",
    "\n",
    "\n",
    "\n",
    "## 2020\n",
    "\n",
    "world champ 17\n",
    "\n",
    "european championship 18\n",
    "\n",
    "world champ 18\n",
    "\n",
    "worldcup 18 jesolo\n",
    "\n",
    "world cup 19 doha\n",
    "\n",
    "world cup 19 melborne\n",
    "\n",
    "universidad 19\n",
    "\n",
    "world champ 19\n",
    "\n",
    "euro_games2019\n",
    "\n",
    "world cup 20 baku \n",
    "\n",
    "european championship 20\n",
    "\n",
    "euro 21\n",
    "\n",
    "european championship 21\n",
    "\n",
    "pan america 21\n",
    "\n",
    "\n"
   ]
  },
  {
   "cell_type": "code",
   "execution_count": null,
   "id": "42a3f1f4",
   "metadata": {},
   "outputs": [],
   "source": []
  }
 ],
 "metadata": {
  "kernelspec": {
   "display_name": "Python 3 (ipykernel)",
   "language": "python",
   "name": "python3"
  },
  "language_info": {
   "codemirror_mode": {
    "name": "ipython",
    "version": 3
   },
   "file_extension": ".py",
   "mimetype": "text/x-python",
   "name": "python",
   "nbconvert_exporter": "python",
   "pygments_lexer": "ipython3",
   "version": "3.9.12"
  }
 },
 "nbformat": 4,
 "nbformat_minor": 5
}
