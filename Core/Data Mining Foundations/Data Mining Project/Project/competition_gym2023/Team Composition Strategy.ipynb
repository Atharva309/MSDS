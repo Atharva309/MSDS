{
 "cells": [
  {
   "cell_type": "markdown",
   "id": "161b2719",
   "metadata": {},
   "source": [
    "Team Composition Strategy: The selection committee may not necessarily choose the top six all-around gymnasts for the world team because constructing lineups for the team finals requires a balance of strengths across different apparatuses. Some gymnasts excel in specific events and can fill in the weak spots, which is important for achieving high scores in the team final."
   ]
  },
  {
   "cell_type": "markdown",
   "id": "65ca7a7c",
   "metadata": {},
   "source": [
    "men:\n",
    "\n",
    "\n",
    "combinatorial optimization problem\n",
    "\n",
    "\n",
    "pick a team of 5 people from a large group to cpompete on 6 apparatus.\n",
    "Each person will compete on 1-6 apparatus and can not compete on the \n",
    "same apparatus more than once. Each apparatus needs to be competed on \n",
    "a total of 3 times each. we want a team of 5 that will have teh highest \n",
    "total score when adding up all the scores. And i would also like to know which athletes will compete on which apparatus\n"
   ]
  },
  {
   "cell_type": "code",
   "execution_count": null,
   "id": "4a04c81d",
   "metadata": {},
   "outputs": [],
   "source": []
  }
 ],
 "metadata": {
  "kernelspec": {
   "display_name": "Python 3 (ipykernel)",
   "language": "python",
   "name": "python3"
  },
  "language_info": {
   "codemirror_mode": {
    "name": "ipython",
    "version": 3
   },
   "file_extension": ".py",
   "mimetype": "text/x-python",
   "name": "python",
   "nbconvert_exporter": "python",
   "pygments_lexer": "ipython3",
   "version": "3.9.12"
  }
 },
 "nbformat": 4,
 "nbformat_minor": 5
}
