{
 "cells": [
  {
   "cell_type": "markdown",
   "id": "161b2719",
   "metadata": {},
   "source": [
    "Team Composition Strategy: The selection committee may not necessarily choose the top six all-around gymnasts for the world team because constructing lineups for the team finals requires a balance of strengths across different apparatuses. Some gymnasts excel in specific events and can fill in the weak spots, which is important for achieving high scores in the team final.\n",
    "\n"
   ]
  },
  {
   "cell_type": "markdown",
   "id": "65ca7a7c",
   "metadata": {},
   "source": [
    "men:\n",
    "\n",
    "\n",
    "combinatorial optimization problem\n",
    "\n",
    "\n",
    "pick a team of 5 people from a large group to cpompete on 6 apparatus.\n",
    "Each person will compete on 1-6 apparatus and can not compete on the \n",
    "same apparatus more than once. Each apparatus needs to be competed on \n",
    "a total of 3 times each. we want  we want to pick 4 athletes to compete\n",
    "on teh 6 apparatus which a team of 5 that will have the highest total score\n",
    "when adding up all their scores. And i would also like to know which athletes \n",
    "will compete on which apparatus\n"
   ]
  },
  {
   "cell_type": "markdown",
   "id": "76c18306",
   "metadata": {},
   "source": [
    "There are a number of different MIP solvers available, such as Gurobi, CPLEX, and SCIP. These solvers can be used to solve the problem for a given set of input data.\n",
    "\n",
    "Genetic algorithms\n",
    "\n",
    "Simulated annealing\n",
    "\n",
    "Tabu search\n",
    "\n",
    "Constraint satisfaction algorithms\n",
    "\n",
    "Once you have formulated the problem, you can use an integer linear programming solver (such as CPLEX, Gurobi, or open-source solvers like CBC or GLPK) to find the optimal solution."
   ]
  },
  {
   "cell_type": "markdown",
   "id": "bc78055c",
   "metadata": {},
   "source": [
    "### Type of problem:\n",
    "- Combinatorial optimization - assignment problem\n",
    "\n",
    "more specific is\n",
    "\n",
    "- Team composition optimization problem"
   ]
  },
  {
   "cell_type": "markdown",
   "id": "82d962e4",
   "metadata": {},
   "source": [
    "Population-based optimization algorithms (PBOAs):\n",
    "\n",
    "MPA, TSA, WOA, GWO, TLBO, GSA, PSO"
   ]
  },
  {
   "cell_type": "markdown",
   "id": "454034a2",
   "metadata": {},
   "source": [
    "when choosing individual events look into pairwise comparison models, like RankNet or RankBoost. "
   ]
  },
  {
   "cell_type": "markdown",
   "id": "85645441",
   "metadata": {},
   "source": [
    "For training, we used the RankLib Java package in Python script. RankLib is a library of Learning to Rank algorithms. Currently, eight popular algorithms have been implemented:\n",
    "\n",
    "    RankNet [1]\n",
    "    RankBoost [2]\n",
    "    AdaRank [3]\n",
    "    Coordinate Ascent [4]\n",
    "    LambdaMART [5]\n",
    "    MART (Multiple Additive Regression Trees, AKA Gradient boosted regression tree) [6]\n",
    "    ListNet [7]\n",
    "    Random Forests [8]"
   ]
  },
  {
   "cell_type": "markdown",
   "id": "cbd3ddea",
   "metadata": {},
   "source": [
    "https://medium.com/syte-engineering/case-study-using-learning-to-rank-to-improve-item-ranking-with-elasticsearch-and-ranklib-ea47fd5072e6"
   ]
  },
  {
   "cell_type": "code",
   "execution_count": null,
   "id": "a128bc14",
   "metadata": {},
   "outputs": [],
   "source": []
  }
 ],
 "metadata": {
  "kernelspec": {
   "display_name": "Python 3 (ipykernel)",
   "language": "python",
   "name": "python3"
  },
  "language_info": {
   "codemirror_mode": {
    "name": "ipython",
    "version": 3
   },
   "file_extension": ".py",
   "mimetype": "text/x-python",
   "name": "python",
   "nbconvert_exporter": "python",
   "pygments_lexer": "ipython3",
   "version": "3.9.12"
  }
 },
 "nbformat": 4,
 "nbformat_minor": 5
}
