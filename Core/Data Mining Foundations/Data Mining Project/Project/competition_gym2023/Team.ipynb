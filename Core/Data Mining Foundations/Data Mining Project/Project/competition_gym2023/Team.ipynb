{
 "cells": [
  {
   "cell_type": "markdown",
   "id": "30eb3298",
   "metadata": {},
   "source": [
    "To do:\n",
    "- scrape: https://en.wikipedia.org/wiki/Gymnastics_at_the_2020_Summer_Olympics_%E2%80%93_Women%27s_artistic_qualification\n",
    "\n",
    "- Individual Rankings:\n",
    "    - https://www.gymnastics.sport/site/rankings/ranking_wag.php\n",
    "    - https://en.wikipedia-on-ipfs.org/wiki/FIG_World_Rankings"
   ]
  },
  {
   "cell_type": "markdown",
   "id": "9f410260",
   "metadata": {},
   "source": [
    "# Top Women:\n",
    "\n",
    "## Sunisa LEE\n",
    "- UE 15.300\n",
    "- BB 13.833\n",
    "\n",
    "## Jade CAREY\n",
    "- FX 14.366\n",
    "- VT 15.200\n",
    "- VT2 14.300\n",
    "\n",
    "## Mykayla SKINNER\n",
    "- VT1 15.033\n",
    "- VT2 14.800\n",
    "\n",
    "## Joscelyn ROBERSON\n",
    "- FX 13.300\n",
    "- VT1 14.233\n",
    "- VT2 13.933\n",
    "- BB 13.233\n",
    "\n",
    "\n",
    "## Simone BILES\n",
    "- BB 14.0\n",
    "\n",
    "\n",
    "## Zoe MILLER\n",
    "- UB 14.633\n",
    "\n",
    "## Shilese JONES\n",
    "- UB 14.766"
   ]
  },
  {
   "cell_type": "markdown",
   "id": "f39c78a4",
   "metadata": {},
   "source": [
    "# Men\n",
    "\n",
    "## Brody MALONE  \n",
    "- HB 14.800\n",
    "## Curran PHILLIPS  \n",
    "- PB 15.500\n",
    "## Stephen NEDOROSCIK \n",
    "- PH 15.233\n",
    "## Joshua Andrew KARNES \n",
    "- VT 14.733\n",
    "## Asher HONG \n",
    "- VT1 15.450"
   ]
  },
  {
   "cell_type": "code",
   "execution_count": 3,
   "id": "96d2941a",
   "metadata": {},
   "outputs": [],
   "source": [
    "import pandas as pd\n",
    "import numpy as np"
   ]
  },
  {
   "cell_type": "code",
   "execution_count": 8,
   "id": "f92152fc",
   "metadata": {},
   "outputs": [
    {
     "data": {
      "text/html": [
       "<div>\n",
       "<style scoped>\n",
       "    .dataframe tbody tr th:only-of-type {\n",
       "        vertical-align: middle;\n",
       "    }\n",
       "\n",
       "    .dataframe tbody tr th {\n",
       "        vertical-align: top;\n",
       "    }\n",
       "\n",
       "    .dataframe thead th {\n",
       "        text-align: right;\n",
       "    }\n",
       "</style>\n",
       "<table border=\"1\" class=\"dataframe\">\n",
       "  <thead>\n",
       "    <tr style=\"text-align: right;\">\n",
       "      <th></th>\n",
       "      <th>Name</th>\n",
       "      <th>DOB</th>\n",
       "      <th>Height</th>\n",
       "    </tr>\n",
       "  </thead>\n",
       "  <tbody>\n",
       "    <tr>\n",
       "      <th>0</th>\n",
       "      <td>Sunisa LEE</td>\n",
       "      <td>03-09-2003</td>\n",
       "      <td>5.0</td>\n",
       "    </tr>\n",
       "    <tr>\n",
       "      <th>1</th>\n",
       "      <td>Jade CAREY</td>\n",
       "      <td>01-01-2000</td>\n",
       "      <td>5.2</td>\n",
       "    </tr>\n",
       "    <tr>\n",
       "      <th>2</th>\n",
       "      <td>Mykayla SKINNER</td>\n",
       "      <td>01-01-1996</td>\n",
       "      <td>5.1</td>\n",
       "    </tr>\n",
       "    <tr>\n",
       "      <th>3</th>\n",
       "      <td>Joscelyn ROBERSON</td>\n",
       "      <td>01-01-2006</td>\n",
       "      <td>4.8</td>\n",
       "    </tr>\n",
       "    <tr>\n",
       "      <th>4</th>\n",
       "      <td>Simone BILES</td>\n",
       "      <td>03-14-1997</td>\n",
       "      <td>4.8</td>\n",
       "    </tr>\n",
       "    <tr>\n",
       "      <th>5</th>\n",
       "      <td>Zoe MILLER</td>\n",
       "      <td>01-01-2005</td>\n",
       "      <td>5.0</td>\n",
       "    </tr>\n",
       "    <tr>\n",
       "      <th>6</th>\n",
       "      <td>Shilese JONES</td>\n",
       "      <td>01-01-2002</td>\n",
       "      <td>5.3</td>\n",
       "    </tr>\n",
       "  </tbody>\n",
       "</table>\n",
       "</div>"
      ],
      "text/plain": [
       "                Name         DOB  Height\n",
       "0         Sunisa LEE  03-09-2003     5.0\n",
       "1         Jade CAREY  01-01-2000     5.2\n",
       "2    Mykayla SKINNER  01-01-1996     5.1\n",
       "3  Joscelyn ROBERSON  01-01-2006     4.8\n",
       "4       Simone BILES  03-14-1997     4.8\n",
       "5         Zoe MILLER  01-01-2005     5.0\n",
       "6      Shilese JONES  01-01-2002     5.3"
      ]
     },
     "execution_count": 8,
     "metadata": {},
     "output_type": "execute_result"
    }
   ],
   "source": [
    "# Zoe MILLER\" height unknown\n",
    "data = {\n",
    "  \"Name\": [\"Sunisa LEE\", \"Jade CAREY\", \"Mykayla SKINNER\", \"Joscelyn ROBERSON\", \"Simone BILES\", \"Zoe MILLER\", \"Shilese JONES\"],\n",
    "    \"DOB\": [\"03-09-2003\", \"01-01-2000\",  \"01-01-1996\", \"01-01-2006\", \"03-14-1997\", \"01-01-2005\", \"01-01-2002\"],\n",
    "    \"Height\": [5.0, 5.2, 5.1, 4.8, 4.8, 5.0, 5.3]\n",
    "}\n",
    "#load data into a DataFrame object:\n",
    "df = pd.DataFrame(data)\n",
    "df"
   ]
  },
  {
   "cell_type": "markdown",
   "id": "ec4ae421",
   "metadata": {},
   "source": [
    "## Majority of female gymnasts in the modern era in the Olympics are between ages 16 - 22"
   ]
  },
  {
   "cell_type": "code",
   "execution_count": 6,
   "id": "2bca24ae",
   "metadata": {},
   "outputs": [
    {
     "data": {
      "text/html": [
       "<div>\n",
       "<style scoped>\n",
       "    .dataframe tbody tr th:only-of-type {\n",
       "        vertical-align: middle;\n",
       "    }\n",
       "\n",
       "    .dataframe tbody tr th {\n",
       "        vertical-align: top;\n",
       "    }\n",
       "\n",
       "    .dataframe thead th {\n",
       "        text-align: right;\n",
       "    }\n",
       "</style>\n",
       "<table border=\"1\" class=\"dataframe\">\n",
       "  <thead>\n",
       "    <tr style=\"text-align: right;\">\n",
       "      <th></th>\n",
       "      <th>Name</th>\n",
       "    </tr>\n",
       "  </thead>\n",
       "  <tbody>\n",
       "    <tr>\n",
       "      <th>0</th>\n",
       "      <td>Brody MALONE</td>\n",
       "    </tr>\n",
       "    <tr>\n",
       "      <th>1</th>\n",
       "      <td>Curran PHILLIPS</td>\n",
       "    </tr>\n",
       "    <tr>\n",
       "      <th>2</th>\n",
       "      <td>Stephen NEDOROSCIK</td>\n",
       "    </tr>\n",
       "    <tr>\n",
       "      <th>3</th>\n",
       "      <td>Joshua Andrew KARNES</td>\n",
       "    </tr>\n",
       "    <tr>\n",
       "      <th>4</th>\n",
       "      <td>Asher HONG</td>\n",
       "    </tr>\n",
       "  </tbody>\n",
       "</table>\n",
       "</div>"
      ],
      "text/plain": [
       "                   Name\n",
       "0          Brody MALONE\n",
       "1       Curran PHILLIPS\n",
       "2    Stephen NEDOROSCIK\n",
       "3  Joshua Andrew KARNES\n",
       "4            Asher HONG"
      ]
     },
     "execution_count": 6,
     "metadata": {},
     "output_type": "execute_result"
    }
   ],
   "source": [
    "data = {\n",
    "  \"Name\": [\"Brody MALONE\", \"Curran PHILLIPS\", \"Stephen NEDOROSCIK\", \"Joshua Andrew KARNES\", \"Asher HONG\"],\n",
    "    \n",
    "}\n",
    "\n",
    "#load data into a DataFrame object:\n",
    "df1 = pd.DataFrame(data)\n",
    "df1"
   ]
  },
  {
   "cell_type": "code",
   "execution_count": null,
   "id": "b8ecdad6",
   "metadata": {},
   "outputs": [],
   "source": []
  }
 ],
 "metadata": {
  "kernelspec": {
   "display_name": "Python 3 (ipykernel)",
   "language": "python",
   "name": "python3"
  },
  "language_info": {
   "codemirror_mode": {
    "name": "ipython",
    "version": 3
   },
   "file_extension": ".py",
   "mimetype": "text/x-python",
   "name": "python",
   "nbconvert_exporter": "python",
   "pygments_lexer": "ipython3",
   "version": "3.9.12"
  }
 },
 "nbformat": 4,
 "nbformat_minor": 5
}
