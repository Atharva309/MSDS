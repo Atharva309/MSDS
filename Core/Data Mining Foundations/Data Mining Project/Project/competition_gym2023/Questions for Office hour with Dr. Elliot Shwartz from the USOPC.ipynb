{
 "cells": [
  {
   "cell_type": "markdown",
   "id": "f88ddf03",
   "metadata": {},
   "source": []
  },
  {
   "cell_type": "markdown",
   "id": "afbe60ce",
   "metadata": {},
   "source": [
    "Students must submit a zip file containing:\n",
    "- A pdf report describing their results (max 3000 words)\n",
    "- A folder with\n",
    "    - Documented code files\n",
    "    - A README file describing what each file does.\n"
   ]
  },
  {
   "cell_type": "markdown",
   "id": "b32c5fd0",
   "metadata": {},
   "source": [
    "# Questions:\n",
    "- should there be a limit to the folders and files we have? will be penalized if we have a lot"
   ]
  },
  {
   "cell_type": "code",
   "execution_count": null,
   "id": "f64cc68e",
   "metadata": {},
   "outputs": [],
   "source": []
  }
 ],
 "metadata": {
  "kernelspec": {
   "display_name": "Python 3 (ipykernel)",
   "language": "python",
   "name": "python3"
  },
  "language_info": {
   "codemirror_mode": {
    "name": "ipython",
    "version": 3
   },
   "file_extension": ".py",
   "mimetype": "text/x-python",
   "name": "python",
   "nbconvert_exporter": "python",
   "pygments_lexer": "ipython3",
   "version": "3.9.12"
  }
 },
 "nbformat": 4,
 "nbformat_minor": 5
}
