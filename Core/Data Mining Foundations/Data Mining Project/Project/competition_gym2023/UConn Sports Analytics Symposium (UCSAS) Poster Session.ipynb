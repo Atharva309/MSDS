{
 "cells": [
  {
   "cell_type": "markdown",
   "id": "4a000826",
   "metadata": {},
   "source": [
    "\n",
    "UConn Sports Analytics Symposium (UCSAS)\n",
    "Poster Session\n",
    "\n",
    "The virtual poster session is scheduled for 11:00-13:00 on Saturday, Oct. 9, 2021. The poster session also serves as a social networking opportunity. We invite submissions from all, especially students, working on sports analytics.\n",
    "\n",
    "Each poster will be presented in an individual virtual room during the poster session (11:00-13:00) and join a Twitter gallary before the event. Viewers at the event will enter and leave virtual rooms of their choice just like they do a poster in a real poster session. Each virtual room will be assisted by a student volunteer.\n",
    "Submission\n",
    "\n",
    "The submission has been closed.\n",
    "Student Poster Award\n",
    "\n",
    "    Posters submitted by students enter a Student Poster Award competition.\n",
    "    The poster review committee scores the student posters (see criteria below).\n",
    "    The Student Poster Award will be presented at the closing ceremony.\n",
    "\n",
    "Student Poster Evaluation Criteria\n",
    "\n",
    "The evaluation should focus on four key points:\n",
    "\n",
    "    Motivation: a clearly presented answer to “Why do we care?”\n",
    "    Innovation: a clearly presented answer to “Why is this new or different?\n",
    "    Execution: a clearly presented answer to “How well did they succeed?”\n",
    "    Contribution: a clearly presented answer to “What did they leave behind?\n",
    "\n",
    "Each of those four facets is worth 10 “points”, for 40 points total. Scores for each facet are “free form”, but all 4 must be considered independently. Some aspects to consider for each of the above:\n",
    "\n",
    "    Motivation:\n",
    "        Is it clear what problem is being tackled?\n",
    "        Is the problem “important” to the community?\n",
    "        If so, Is it clear from the poster why it’s an important consideration?\n",
    "    Innovation:\n",
    "        Is something novel? (The approach, the results, the problem space, etc.? Not all need to be, but something should be!)\n",
    "        Is how this fits in the broader context of what came before clearly stated?\n",
    "        Are potential limitations presented openly?\n",
    "    Execution:\n",
    "        Is it clear what the result of the work is (regardless of its significance or “success”)?\n",
    "        Does this result improve the state-of-the-art (note: validating prior work or aggregating previous results, etc. certainly qualifies!)\n",
    "        Are the “results” validated somehow, and do you “trust” them?\n",
    "    Contribution:\n",
    "        Is there some artifact “left behind” (source is best, but web apps, etc. qualify)\n",
    "        Could you validate or reproduce this work if you wanted to?\n",
    "        Do you feel the poster and leave-behinds help build and foster further engagement? (i.e. are they good teaching tools, or have other hooks that will persist past the conference?)\n",
    "\n",
    "© 2021 Statistical Data Science Lab at UConn\n"
   ]
  },
  {
   "cell_type": "code",
   "execution_count": null,
   "id": "02d66729",
   "metadata": {},
   "outputs": [],
   "source": []
  }
 ],
 "metadata": {
  "kernelspec": {
   "display_name": "Python 3 (ipykernel)",
   "language": "python",
   "name": "python3"
  },
  "language_info": {
   "codemirror_mode": {
    "name": "ipython",
    "version": 3
   },
   "file_extension": ".py",
   "mimetype": "text/x-python",
   "name": "python",
   "nbconvert_exporter": "python",
   "pygments_lexer": "ipython3",
   "version": "3.9.12"
  }
 },
 "nbformat": 4,
 "nbformat_minor": 5
}
