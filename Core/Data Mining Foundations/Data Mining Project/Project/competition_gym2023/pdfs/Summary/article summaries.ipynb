{
 "cells": [
  {
   "cell_type": "markdown",
   "id": "559358a7",
   "metadata": {},
   "source": [
    "## How To Build The Best Gymnastics Team Around Simone Biles - five-thirtyeight - 2021 games\n",
    "\n",
    "- Selecting the Olympic gymnastics team involves considering various factors, including team placement, medal potential, and the integrity of the selection process.\n",
    "\n",
    "- Simone Biles is a crucial part of the team, virtually guaranteeing a gold medal if she competes.\n",
    "\n",
    "- There's a debate over whether to prioritize all-around gymnasts or specialists in the team selection process.\n",
    "\n",
    "- Sunisa Lee and Jordan Chiles are strong contenders for the team based on their recent performances.\n",
    "\n",
    "- Jade Carey has already earned an Olympic berth through the Apparatus World Cup, and her strengths in floor and vault should be considered in team selection.\n",
    "\n",
    "- The fourth spot on the team should ideally go to an all-arounder who can provide a safety net in case of injury.\n",
    "\n"
   ]
  },
  {
   "cell_type": "markdown",
   "id": "741dde01",
   "metadata": {},
   "source": [
    "## Execution and Difficulty Trends in Elite Gymnastics\n",
    "\n",
    "- Data from three quads (2009-2012, 2013-2016, and 2017-present) for American senior elite female gymnasts was analyzed.\n",
    "\n",
    "- Difficulty scores were found to increase significantly as the quad progresses, especially on balance beam and uneven bars.\n",
    "\n",
    "- Execution scores did not show a clear trend of improvement as the quad progresses, contradicting the belief that execution scores increase.\n",
    "\n",
    "- There was no strong evidence supporting the idea of a trade-off between execution and difficulty scores.\n",
    "\n",
    "- The importance of difficulty scores varied by event, with vaulting difficulty playing a significant role in ranking, while execution scores were more important in other events.\n",
    "\n",
    "- The article suggests that gymnasts should prioritize difficulty on vault and focus on perfecting execution on bars, beam, and floor."
   ]
  },
  {
   "cell_type": "markdown",
   "id": "0bf30357",
   "metadata": {},
   "source": [
    "## Picking a strong U.S. gymnastics team is easy. Whom to leave out is hard. - Washington Post 2023\n",
    "\n",
    "- Simone Biles is the obvious first pick for the team, given her dominant performances in her return to gymnastics.\n",
    "\n",
    "- Shilese Jones, the second-place finisher at nationals and last year's world all-around silver medalist, is a strong candidate due to her high scores on bars and other apparatuses.\n",
    "\n",
    "- Skye Blakely is another contender, excelling on bars and beam, and her performance at the world championships selection event will be crucial.\n",
    "\n",
    "- The article also highlights several other gymnasts in contention, including Joscelyn Roberson, Leanne Wong, Kaliya Lincoln, Zoe Miller, Jade Carey, Sunisa Lee, and Jordan Chiles.\n",
    "\n",
    "- Roberson has shown significant progress, excelling on vault, beam, and floor, with a difficult vault that has been highly scored.\n",
    "\n",
    "- Leanne Wong is a steady all-around performer, making her a desirable option for the team.\n",
    "\n",
    "- Specialized gymnasts like Kaliya Lincoln and Zoe Miller, who excel on specific apparatuses (floor and bars, respectively), could also contribute to the team.\n",
    "\n",
    "- The selection committee will need to consider the strengths and contributions of each gymnast to maximize the team's total score.\n",
    "\n",
    "- While a team gold medal might not come down to mere tenths of a point, gymnasts like Lincoln and Miller offer valuable one-event boosts.\n",
    "\n",
    "- The article suggests that Simone Biles, Shilese Jones, and Skye Blakely are strong contenders, with the rest of the team selection depending on their performances at the selection event."
   ]
  },
  {
   "cell_type": "markdown",
   "id": "bc864db8",
   "metadata": {},
   "source": [
    "## Team USA Gymnastics Qualifies for Paris 2024 with Win at World Championships: 'Just the Beginning' - People\n",
    "\n",
    "- The team that secured this qualification consists of Jade Carey, who previously won gold for floor exercise at the Tokyo Olympics, Tokyo silver medalist Jordan Chiles, 2021 world all-around silver medalist Leanne Wong, Shilese Jones, and Skye Blakely.\n",
    "\n",
    "- In the team final, the U.S. team accumulated a total of 166.564 points, securing a win by a margin of 3.20 points over Great Britain. Canada finished third and earned its first-ever team medal at world championships"
   ]
  },
  {
   "cell_type": "markdown",
   "id": "e574b10d",
   "metadata": {},
   "source": [
    "## IN GYMNASTICS, A NEW OLYMPIC CYCLE MEANS A NEW QUALIFICATION SYSTEM\n",
    "\n",
    "- Historically, five-person teams have been successful for the USA, with the \"Fierce Five\" and \"Final Five\" women's teams winning Olympic gold in 2012 and 2016, respectively.\n",
    "\n",
    "- Four-person teams tend to focus on all-around gymnasts, as they provide flexibility in case a teammate needs to be replaced. This flexibility was crucial in Tokyo when Simone Biles was unable to compete, and all-arounders like Jordan Chiles and Sunisa Lee stepped in.\n",
    "\n",
    "- With five gymnasts on the team, there is more room for apparatus specialists who can contribute big scores on specific events while also competing for individual medals.\n",
    "\n",
    "- The article mentions that the U.S. men tend to choose five strong all-around gymnasts, while a blend of all-arounders and specialists has worked well for the U.S. women in the past.\n",
    "\n",
    "- Gymnasts like McKayla Maroney and Madison Kocian, known for their excellence on specific apparatuses, were part of past Olympic teams and contributed to both team and individual success.\n",
    "\n",
    "- The last true specialist to make the women's Olympic team was Alicia Sacramone in 2008.\n",
    "\n",
    "- The changes in the team size will likely impact how Team USA approaches team selection for the 2024 Olympics, considering the potential for a mix of all-arounders and specialists.\n",
    "\n",
    "- The article's author, Blythe Lawrence, has covered four Olympic Games and provides insights into the evolving gymnastics landscape.\n",
    "\n",
    "- The return to five-person teams is seen as an exciting change that could lead to more dynamic and specialized team compositions in the future."
   ]
  },
  {
   "cell_type": "markdown",
   "id": "00e40686",
   "metadata": {},
   "source": [
    "## Coloring folder\n",
    "\n",
    "- Top Contenders for the Team:\n",
    "\n",
    "    - Simone Biles: Widely regarded as one of the greatest gymnasts of all time.\n",
    "    - Suni Lee: Known for her strong performances and versatility.\n",
    "    - Jordan Chiles: A powerful gymnast showing consistent improvement.\n",
    "    - Grace McCallum and MyKayla Skinner are also mentioned as contenders.\n"
   ]
  },
  {
   "cell_type": "code",
   "execution_count": null,
   "id": "24e7026f",
   "metadata": {},
   "outputs": [],
   "source": []
  }
 ],
 "metadata": {
  "kernelspec": {
   "display_name": "Python 3 (ipykernel)",
   "language": "python",
   "name": "python3"
  },
  "language_info": {
   "codemirror_mode": {
    "name": "ipython",
    "version": 3
   },
   "file_extension": ".py",
   "mimetype": "text/x-python",
   "name": "python",
   "nbconvert_exporter": "python",
   "pygments_lexer": "ipython3",
   "version": "3.9.12"
  }
 },
 "nbformat": 4,
 "nbformat_minor": 5
}
