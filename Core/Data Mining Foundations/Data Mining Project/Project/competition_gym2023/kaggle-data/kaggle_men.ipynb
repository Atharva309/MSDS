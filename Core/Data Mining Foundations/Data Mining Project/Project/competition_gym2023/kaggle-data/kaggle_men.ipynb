{
 "cells": [
  {
   "cell_type": "code",
   "execution_count": 1,
   "id": "490c433e",
   "metadata": {},
   "outputs": [],
   "source": [
    "import numpy as np # linear algebra\n",
    "import pandas as pd # data processing, CSV file I/O (e.g. pd.read_csv)\n",
    "import seaborn as sns\n",
    "import matplotlib as mpl\n",
    "import matplotlib.pyplot as plt\n",
    "import numpy as np"
   ]
  },
  {
   "cell_type": "code",
   "execution_count": 2,
   "id": "cc87ffe7",
   "metadata": {},
   "outputs": [],
   "source": [
    "raw_data = pd.read_csv('athlete_events.csv')\n",
    "noc = pd.read_csv('noc_regions.csv')\n"
   ]
  },
  {
   "cell_type": "code",
   "execution_count": 3,
   "id": "5f7ff984",
   "metadata": {},
   "outputs": [
    {
     "data": {
      "text/html": [
       "<div>\n",
       "<style scoped>\n",
       "    .dataframe tbody tr th:only-of-type {\n",
       "        vertical-align: middle;\n",
       "    }\n",
       "\n",
       "    .dataframe tbody tr th {\n",
       "        vertical-align: top;\n",
       "    }\n",
       "\n",
       "    .dataframe thead th {\n",
       "        text-align: right;\n",
       "    }\n",
       "</style>\n",
       "<table border=\"1\" class=\"dataframe\">\n",
       "  <thead>\n",
       "    <tr style=\"text-align: right;\">\n",
       "      <th></th>\n",
       "      <th>ID</th>\n",
       "      <th>Name</th>\n",
       "      <th>Sex</th>\n",
       "      <th>Age</th>\n",
       "      <th>Height</th>\n",
       "      <th>Weight</th>\n",
       "      <th>Team</th>\n",
       "      <th>NOC</th>\n",
       "      <th>Games</th>\n",
       "      <th>Year</th>\n",
       "      <th>Season</th>\n",
       "      <th>City</th>\n",
       "      <th>Sport</th>\n",
       "      <th>Event</th>\n",
       "      <th>Medal</th>\n",
       "    </tr>\n",
       "  </thead>\n",
       "  <tbody>\n",
       "    <tr>\n",
       "      <th>0</th>\n",
       "      <td>1</td>\n",
       "      <td>A Dijiang</td>\n",
       "      <td>M</td>\n",
       "      <td>24.0</td>\n",
       "      <td>180.0</td>\n",
       "      <td>80.0</td>\n",
       "      <td>China</td>\n",
       "      <td>CHN</td>\n",
       "      <td>1992 Summer</td>\n",
       "      <td>1992</td>\n",
       "      <td>Summer</td>\n",
       "      <td>Barcelona</td>\n",
       "      <td>Basketball</td>\n",
       "      <td>Basketball Men's Basketball</td>\n",
       "      <td>NaN</td>\n",
       "    </tr>\n",
       "    <tr>\n",
       "      <th>1</th>\n",
       "      <td>2</td>\n",
       "      <td>A Lamusi</td>\n",
       "      <td>M</td>\n",
       "      <td>23.0</td>\n",
       "      <td>170.0</td>\n",
       "      <td>60.0</td>\n",
       "      <td>China</td>\n",
       "      <td>CHN</td>\n",
       "      <td>2012 Summer</td>\n",
       "      <td>2012</td>\n",
       "      <td>Summer</td>\n",
       "      <td>London</td>\n",
       "      <td>Judo</td>\n",
       "      <td>Judo Men's Extra-Lightweight</td>\n",
       "      <td>NaN</td>\n",
       "    </tr>\n",
       "    <tr>\n",
       "      <th>2</th>\n",
       "      <td>3</td>\n",
       "      <td>Gunnar Nielsen Aaby</td>\n",
       "      <td>M</td>\n",
       "      <td>24.0</td>\n",
       "      <td>NaN</td>\n",
       "      <td>NaN</td>\n",
       "      <td>Denmark</td>\n",
       "      <td>DEN</td>\n",
       "      <td>1920 Summer</td>\n",
       "      <td>1920</td>\n",
       "      <td>Summer</td>\n",
       "      <td>Antwerpen</td>\n",
       "      <td>Football</td>\n",
       "      <td>Football Men's Football</td>\n",
       "      <td>NaN</td>\n",
       "    </tr>\n",
       "    <tr>\n",
       "      <th>3</th>\n",
       "      <td>4</td>\n",
       "      <td>Edgar Lindenau Aabye</td>\n",
       "      <td>M</td>\n",
       "      <td>34.0</td>\n",
       "      <td>NaN</td>\n",
       "      <td>NaN</td>\n",
       "      <td>Denmark/Sweden</td>\n",
       "      <td>DEN</td>\n",
       "      <td>1900 Summer</td>\n",
       "      <td>1900</td>\n",
       "      <td>Summer</td>\n",
       "      <td>Paris</td>\n",
       "      <td>Tug-Of-War</td>\n",
       "      <td>Tug-Of-War Men's Tug-Of-War</td>\n",
       "      <td>Gold</td>\n",
       "    </tr>\n",
       "    <tr>\n",
       "      <th>4</th>\n",
       "      <td>5</td>\n",
       "      <td>Christine Jacoba Aaftink</td>\n",
       "      <td>F</td>\n",
       "      <td>21.0</td>\n",
       "      <td>185.0</td>\n",
       "      <td>82.0</td>\n",
       "      <td>Netherlands</td>\n",
       "      <td>NED</td>\n",
       "      <td>1988 Winter</td>\n",
       "      <td>1988</td>\n",
       "      <td>Winter</td>\n",
       "      <td>Calgary</td>\n",
       "      <td>Speed Skating</td>\n",
       "      <td>Speed Skating Women's 500 metres</td>\n",
       "      <td>NaN</td>\n",
       "    </tr>\n",
       "    <tr>\n",
       "      <th>...</th>\n",
       "      <td>...</td>\n",
       "      <td>...</td>\n",
       "      <td>...</td>\n",
       "      <td>...</td>\n",
       "      <td>...</td>\n",
       "      <td>...</td>\n",
       "      <td>...</td>\n",
       "      <td>...</td>\n",
       "      <td>...</td>\n",
       "      <td>...</td>\n",
       "      <td>...</td>\n",
       "      <td>...</td>\n",
       "      <td>...</td>\n",
       "      <td>...</td>\n",
       "      <td>...</td>\n",
       "    </tr>\n",
       "    <tr>\n",
       "      <th>271111</th>\n",
       "      <td>135569</td>\n",
       "      <td>Andrzej ya</td>\n",
       "      <td>M</td>\n",
       "      <td>29.0</td>\n",
       "      <td>179.0</td>\n",
       "      <td>89.0</td>\n",
       "      <td>Poland-1</td>\n",
       "      <td>POL</td>\n",
       "      <td>1976 Winter</td>\n",
       "      <td>1976</td>\n",
       "      <td>Winter</td>\n",
       "      <td>Innsbruck</td>\n",
       "      <td>Luge</td>\n",
       "      <td>Luge Mixed (Men)'s Doubles</td>\n",
       "      <td>NaN</td>\n",
       "    </tr>\n",
       "    <tr>\n",
       "      <th>271112</th>\n",
       "      <td>135570</td>\n",
       "      <td>Piotr ya</td>\n",
       "      <td>M</td>\n",
       "      <td>27.0</td>\n",
       "      <td>176.0</td>\n",
       "      <td>59.0</td>\n",
       "      <td>Poland</td>\n",
       "      <td>POL</td>\n",
       "      <td>2014 Winter</td>\n",
       "      <td>2014</td>\n",
       "      <td>Winter</td>\n",
       "      <td>Sochi</td>\n",
       "      <td>Ski Jumping</td>\n",
       "      <td>Ski Jumping Men's Large Hill, Individual</td>\n",
       "      <td>NaN</td>\n",
       "    </tr>\n",
       "    <tr>\n",
       "      <th>271113</th>\n",
       "      <td>135570</td>\n",
       "      <td>Piotr ya</td>\n",
       "      <td>M</td>\n",
       "      <td>27.0</td>\n",
       "      <td>176.0</td>\n",
       "      <td>59.0</td>\n",
       "      <td>Poland</td>\n",
       "      <td>POL</td>\n",
       "      <td>2014 Winter</td>\n",
       "      <td>2014</td>\n",
       "      <td>Winter</td>\n",
       "      <td>Sochi</td>\n",
       "      <td>Ski Jumping</td>\n",
       "      <td>Ski Jumping Men's Large Hill, Team</td>\n",
       "      <td>NaN</td>\n",
       "    </tr>\n",
       "    <tr>\n",
       "      <th>271114</th>\n",
       "      <td>135571</td>\n",
       "      <td>Tomasz Ireneusz ya</td>\n",
       "      <td>M</td>\n",
       "      <td>30.0</td>\n",
       "      <td>185.0</td>\n",
       "      <td>96.0</td>\n",
       "      <td>Poland</td>\n",
       "      <td>POL</td>\n",
       "      <td>1998 Winter</td>\n",
       "      <td>1998</td>\n",
       "      <td>Winter</td>\n",
       "      <td>Nagano</td>\n",
       "      <td>Bobsleigh</td>\n",
       "      <td>Bobsleigh Men's Four</td>\n",
       "      <td>NaN</td>\n",
       "    </tr>\n",
       "    <tr>\n",
       "      <th>271115</th>\n",
       "      <td>135571</td>\n",
       "      <td>Tomasz Ireneusz ya</td>\n",
       "      <td>M</td>\n",
       "      <td>34.0</td>\n",
       "      <td>185.0</td>\n",
       "      <td>96.0</td>\n",
       "      <td>Poland</td>\n",
       "      <td>POL</td>\n",
       "      <td>2002 Winter</td>\n",
       "      <td>2002</td>\n",
       "      <td>Winter</td>\n",
       "      <td>Salt Lake City</td>\n",
       "      <td>Bobsleigh</td>\n",
       "      <td>Bobsleigh Men's Four</td>\n",
       "      <td>NaN</td>\n",
       "    </tr>\n",
       "  </tbody>\n",
       "</table>\n",
       "<p>271116 rows × 15 columns</p>\n",
       "</div>"
      ],
      "text/plain": [
       "            ID                      Name Sex   Age  Height  Weight  \\\n",
       "0            1                 A Dijiang   M  24.0   180.0    80.0   \n",
       "1            2                  A Lamusi   M  23.0   170.0    60.0   \n",
       "2            3       Gunnar Nielsen Aaby   M  24.0     NaN     NaN   \n",
       "3            4      Edgar Lindenau Aabye   M  34.0     NaN     NaN   \n",
       "4            5  Christine Jacoba Aaftink   F  21.0   185.0    82.0   \n",
       "...        ...                       ...  ..   ...     ...     ...   \n",
       "271111  135569                Andrzej ya   M  29.0   179.0    89.0   \n",
       "271112  135570                  Piotr ya   M  27.0   176.0    59.0   \n",
       "271113  135570                  Piotr ya   M  27.0   176.0    59.0   \n",
       "271114  135571        Tomasz Ireneusz ya   M  30.0   185.0    96.0   \n",
       "271115  135571        Tomasz Ireneusz ya   M  34.0   185.0    96.0   \n",
       "\n",
       "                  Team  NOC        Games  Year  Season            City  \\\n",
       "0                China  CHN  1992 Summer  1992  Summer       Barcelona   \n",
       "1                China  CHN  2012 Summer  2012  Summer          London   \n",
       "2              Denmark  DEN  1920 Summer  1920  Summer       Antwerpen   \n",
       "3       Denmark/Sweden  DEN  1900 Summer  1900  Summer           Paris   \n",
       "4          Netherlands  NED  1988 Winter  1988  Winter         Calgary   \n",
       "...                ...  ...          ...   ...     ...             ...   \n",
       "271111        Poland-1  POL  1976 Winter  1976  Winter       Innsbruck   \n",
       "271112          Poland  POL  2014 Winter  2014  Winter           Sochi   \n",
       "271113          Poland  POL  2014 Winter  2014  Winter           Sochi   \n",
       "271114          Poland  POL  1998 Winter  1998  Winter          Nagano   \n",
       "271115          Poland  POL  2002 Winter  2002  Winter  Salt Lake City   \n",
       "\n",
       "                Sport                                     Event Medal  \n",
       "0          Basketball               Basketball Men's Basketball   NaN  \n",
       "1                Judo              Judo Men's Extra-Lightweight   NaN  \n",
       "2            Football                   Football Men's Football   NaN  \n",
       "3          Tug-Of-War               Tug-Of-War Men's Tug-Of-War  Gold  \n",
       "4       Speed Skating          Speed Skating Women's 500 metres   NaN  \n",
       "...               ...                                       ...   ...  \n",
       "271111           Luge                Luge Mixed (Men)'s Doubles   NaN  \n",
       "271112    Ski Jumping  Ski Jumping Men's Large Hill, Individual   NaN  \n",
       "271113    Ski Jumping        Ski Jumping Men's Large Hill, Team   NaN  \n",
       "271114      Bobsleigh                      Bobsleigh Men's Four   NaN  \n",
       "271115      Bobsleigh                      Bobsleigh Men's Four   NaN  \n",
       "\n",
       "[271116 rows x 15 columns]"
      ]
     },
     "execution_count": 3,
     "metadata": {},
     "output_type": "execute_result"
    }
   ],
   "source": [
    "raw_data"
   ]
  },
  {
   "cell_type": "code",
   "execution_count": 4,
   "id": "1bf9daf7",
   "metadata": {},
   "outputs": [],
   "source": [
    "df = raw_data.loc[raw_data['Sport']=='Gymnastics']"
   ]
  },
  {
   "cell_type": "code",
   "execution_count": 5,
   "id": "7530f44c",
   "metadata": {},
   "outputs": [
    {
     "data": {
      "text/html": [
       "<div>\n",
       "<style scoped>\n",
       "    .dataframe tbody tr th:only-of-type {\n",
       "        vertical-align: middle;\n",
       "    }\n",
       "\n",
       "    .dataframe tbody tr th {\n",
       "        vertical-align: top;\n",
       "    }\n",
       "\n",
       "    .dataframe thead th {\n",
       "        text-align: right;\n",
       "    }\n",
       "</style>\n",
       "<table border=\"1\" class=\"dataframe\">\n",
       "  <thead>\n",
       "    <tr style=\"text-align: right;\">\n",
       "      <th></th>\n",
       "      <th>ID</th>\n",
       "      <th>Name</th>\n",
       "      <th>Sex</th>\n",
       "      <th>Age</th>\n",
       "      <th>Height</th>\n",
       "      <th>Weight</th>\n",
       "      <th>Team</th>\n",
       "      <th>NOC</th>\n",
       "      <th>Games</th>\n",
       "      <th>Year</th>\n",
       "      <th>Season</th>\n",
       "      <th>City</th>\n",
       "      <th>Sport</th>\n",
       "      <th>Event</th>\n",
       "      <th>Medal</th>\n",
       "    </tr>\n",
       "  </thead>\n",
       "  <tbody>\n",
       "    <tr>\n",
       "      <th>41</th>\n",
       "      <td>17</td>\n",
       "      <td>Paavo Johannes Aaltonen</td>\n",
       "      <td>M</td>\n",
       "      <td>28.0</td>\n",
       "      <td>175.0</td>\n",
       "      <td>64.0</td>\n",
       "      <td>Finland</td>\n",
       "      <td>FIN</td>\n",
       "      <td>1948 Summer</td>\n",
       "      <td>1948</td>\n",
       "      <td>Summer</td>\n",
       "      <td>London</td>\n",
       "      <td>Gymnastics</td>\n",
       "      <td>Gymnastics Men's Individual All-Around</td>\n",
       "      <td>Bronze</td>\n",
       "    </tr>\n",
       "    <tr>\n",
       "      <th>42</th>\n",
       "      <td>17</td>\n",
       "      <td>Paavo Johannes Aaltonen</td>\n",
       "      <td>M</td>\n",
       "      <td>28.0</td>\n",
       "      <td>175.0</td>\n",
       "      <td>64.0</td>\n",
       "      <td>Finland</td>\n",
       "      <td>FIN</td>\n",
       "      <td>1948 Summer</td>\n",
       "      <td>1948</td>\n",
       "      <td>Summer</td>\n",
       "      <td>London</td>\n",
       "      <td>Gymnastics</td>\n",
       "      <td>Gymnastics Men's Team All-Around</td>\n",
       "      <td>Gold</td>\n",
       "    </tr>\n",
       "    <tr>\n",
       "      <th>43</th>\n",
       "      <td>17</td>\n",
       "      <td>Paavo Johannes Aaltonen</td>\n",
       "      <td>M</td>\n",
       "      <td>28.0</td>\n",
       "      <td>175.0</td>\n",
       "      <td>64.0</td>\n",
       "      <td>Finland</td>\n",
       "      <td>FIN</td>\n",
       "      <td>1948 Summer</td>\n",
       "      <td>1948</td>\n",
       "      <td>Summer</td>\n",
       "      <td>London</td>\n",
       "      <td>Gymnastics</td>\n",
       "      <td>Gymnastics Men's Floor Exercise</td>\n",
       "      <td>NaN</td>\n",
       "    </tr>\n",
       "    <tr>\n",
       "      <th>44</th>\n",
       "      <td>17</td>\n",
       "      <td>Paavo Johannes Aaltonen</td>\n",
       "      <td>M</td>\n",
       "      <td>28.0</td>\n",
       "      <td>175.0</td>\n",
       "      <td>64.0</td>\n",
       "      <td>Finland</td>\n",
       "      <td>FIN</td>\n",
       "      <td>1948 Summer</td>\n",
       "      <td>1948</td>\n",
       "      <td>Summer</td>\n",
       "      <td>London</td>\n",
       "      <td>Gymnastics</td>\n",
       "      <td>Gymnastics Men's Horse Vault</td>\n",
       "      <td>Gold</td>\n",
       "    </tr>\n",
       "    <tr>\n",
       "      <th>45</th>\n",
       "      <td>17</td>\n",
       "      <td>Paavo Johannes Aaltonen</td>\n",
       "      <td>M</td>\n",
       "      <td>28.0</td>\n",
       "      <td>175.0</td>\n",
       "      <td>64.0</td>\n",
       "      <td>Finland</td>\n",
       "      <td>FIN</td>\n",
       "      <td>1948 Summer</td>\n",
       "      <td>1948</td>\n",
       "      <td>Summer</td>\n",
       "      <td>London</td>\n",
       "      <td>Gymnastics</td>\n",
       "      <td>Gymnastics Men's Parallel Bars</td>\n",
       "      <td>NaN</td>\n",
       "    </tr>\n",
       "    <tr>\n",
       "      <th>...</th>\n",
       "      <td>...</td>\n",
       "      <td>...</td>\n",
       "      <td>...</td>\n",
       "      <td>...</td>\n",
       "      <td>...</td>\n",
       "      <td>...</td>\n",
       "      <td>...</td>\n",
       "      <td>...</td>\n",
       "      <td>...</td>\n",
       "      <td>...</td>\n",
       "      <td>...</td>\n",
       "      <td>...</td>\n",
       "      <td>...</td>\n",
       "      <td>...</td>\n",
       "      <td>...</td>\n",
       "    </tr>\n",
       "    <tr>\n",
       "      <th>270670</th>\n",
       "      <td>135363</td>\n",
       "      <td>Angelo Zucca</td>\n",
       "      <td>M</td>\n",
       "      <td>20.0</td>\n",
       "      <td>167.0</td>\n",
       "      <td>63.0</td>\n",
       "      <td>Italy</td>\n",
       "      <td>ITA</td>\n",
       "      <td>1976 Summer</td>\n",
       "      <td>1976</td>\n",
       "      <td>Summer</td>\n",
       "      <td>Montreal</td>\n",
       "      <td>Gymnastics</td>\n",
       "      <td>Gymnastics Men's Pommelled Horse</td>\n",
       "      <td>NaN</td>\n",
       "    </tr>\n",
       "    <tr>\n",
       "      <th>270914</th>\n",
       "      <td>135481</td>\n",
       "      <td>Jules Alexis \"Louis\" Zutter</td>\n",
       "      <td>M</td>\n",
       "      <td>30.0</td>\n",
       "      <td>NaN</td>\n",
       "      <td>NaN</td>\n",
       "      <td>Switzerland</td>\n",
       "      <td>SUI</td>\n",
       "      <td>1896 Summer</td>\n",
       "      <td>1896</td>\n",
       "      <td>Summer</td>\n",
       "      <td>Athina</td>\n",
       "      <td>Gymnastics</td>\n",
       "      <td>Gymnastics Men's Horse Vault</td>\n",
       "      <td>Silver</td>\n",
       "    </tr>\n",
       "    <tr>\n",
       "      <th>270915</th>\n",
       "      <td>135481</td>\n",
       "      <td>Jules Alexis \"Louis\" Zutter</td>\n",
       "      <td>M</td>\n",
       "      <td>30.0</td>\n",
       "      <td>NaN</td>\n",
       "      <td>NaN</td>\n",
       "      <td>Switzerland</td>\n",
       "      <td>SUI</td>\n",
       "      <td>1896 Summer</td>\n",
       "      <td>1896</td>\n",
       "      <td>Summer</td>\n",
       "      <td>Athina</td>\n",
       "      <td>Gymnastics</td>\n",
       "      <td>Gymnastics Men's Parallel Bars</td>\n",
       "      <td>Silver</td>\n",
       "    </tr>\n",
       "    <tr>\n",
       "      <th>270916</th>\n",
       "      <td>135481</td>\n",
       "      <td>Jules Alexis \"Louis\" Zutter</td>\n",
       "      <td>M</td>\n",
       "      <td>30.0</td>\n",
       "      <td>NaN</td>\n",
       "      <td>NaN</td>\n",
       "      <td>Switzerland</td>\n",
       "      <td>SUI</td>\n",
       "      <td>1896 Summer</td>\n",
       "      <td>1896</td>\n",
       "      <td>Summer</td>\n",
       "      <td>Athina</td>\n",
       "      <td>Gymnastics</td>\n",
       "      <td>Gymnastics Men's Horizontal Bar</td>\n",
       "      <td>NaN</td>\n",
       "    </tr>\n",
       "    <tr>\n",
       "      <th>270917</th>\n",
       "      <td>135481</td>\n",
       "      <td>Jules Alexis \"Louis\" Zutter</td>\n",
       "      <td>M</td>\n",
       "      <td>30.0</td>\n",
       "      <td>NaN</td>\n",
       "      <td>NaN</td>\n",
       "      <td>Switzerland</td>\n",
       "      <td>SUI</td>\n",
       "      <td>1896 Summer</td>\n",
       "      <td>1896</td>\n",
       "      <td>Summer</td>\n",
       "      <td>Athina</td>\n",
       "      <td>Gymnastics</td>\n",
       "      <td>Gymnastics Men's Pommelled Horse</td>\n",
       "      <td>Gold</td>\n",
       "    </tr>\n",
       "  </tbody>\n",
       "</table>\n",
       "<p>17578 rows × 15 columns</p>\n",
       "</div>"
      ],
      "text/plain": [
       "            ID                         Name Sex   Age  Height  Weight  \\\n",
       "41          17      Paavo Johannes Aaltonen   M  28.0   175.0    64.0   \n",
       "42          17      Paavo Johannes Aaltonen   M  28.0   175.0    64.0   \n",
       "43          17      Paavo Johannes Aaltonen   M  28.0   175.0    64.0   \n",
       "44          17      Paavo Johannes Aaltonen   M  28.0   175.0    64.0   \n",
       "45          17      Paavo Johannes Aaltonen   M  28.0   175.0    64.0   \n",
       "...        ...                          ...  ..   ...     ...     ...   \n",
       "270670  135363                 Angelo Zucca   M  20.0   167.0    63.0   \n",
       "270914  135481  Jules Alexis \"Louis\" Zutter   M  30.0     NaN     NaN   \n",
       "270915  135481  Jules Alexis \"Louis\" Zutter   M  30.0     NaN     NaN   \n",
       "270916  135481  Jules Alexis \"Louis\" Zutter   M  30.0     NaN     NaN   \n",
       "270917  135481  Jules Alexis \"Louis\" Zutter   M  30.0     NaN     NaN   \n",
       "\n",
       "               Team  NOC        Games  Year  Season      City       Sport  \\\n",
       "41          Finland  FIN  1948 Summer  1948  Summer    London  Gymnastics   \n",
       "42          Finland  FIN  1948 Summer  1948  Summer    London  Gymnastics   \n",
       "43          Finland  FIN  1948 Summer  1948  Summer    London  Gymnastics   \n",
       "44          Finland  FIN  1948 Summer  1948  Summer    London  Gymnastics   \n",
       "45          Finland  FIN  1948 Summer  1948  Summer    London  Gymnastics   \n",
       "...             ...  ...          ...   ...     ...       ...         ...   \n",
       "270670        Italy  ITA  1976 Summer  1976  Summer  Montreal  Gymnastics   \n",
       "270914  Switzerland  SUI  1896 Summer  1896  Summer    Athina  Gymnastics   \n",
       "270915  Switzerland  SUI  1896 Summer  1896  Summer    Athina  Gymnastics   \n",
       "270916  Switzerland  SUI  1896 Summer  1896  Summer    Athina  Gymnastics   \n",
       "270917  Switzerland  SUI  1896 Summer  1896  Summer    Athina  Gymnastics   \n",
       "\n",
       "                                         Event   Medal  \n",
       "41      Gymnastics Men's Individual All-Around  Bronze  \n",
       "42            Gymnastics Men's Team All-Around    Gold  \n",
       "43             Gymnastics Men's Floor Exercise     NaN  \n",
       "44                Gymnastics Men's Horse Vault    Gold  \n",
       "45              Gymnastics Men's Parallel Bars     NaN  \n",
       "...                                        ...     ...  \n",
       "270670        Gymnastics Men's Pommelled Horse     NaN  \n",
       "270914            Gymnastics Men's Horse Vault  Silver  \n",
       "270915          Gymnastics Men's Parallel Bars  Silver  \n",
       "270916         Gymnastics Men's Horizontal Bar     NaN  \n",
       "270917        Gymnastics Men's Pommelled Horse    Gold  \n",
       "\n",
       "[17578 rows x 15 columns]"
      ]
     },
     "execution_count": 5,
     "metadata": {},
     "output_type": "execute_result"
    }
   ],
   "source": [
    "df[df[\"Sex\"]==\"M\"]"
   ]
  },
  {
   "cell_type": "code",
   "execution_count": 6,
   "id": "42f69677",
   "metadata": {},
   "outputs": [],
   "source": [
    "menz = [\"M\"]\n",
    "mens = df.loc[df['Sex'].isin(menz)]"
   ]
  },
  {
   "cell_type": "code",
   "execution_count": 7,
   "id": "1ad2c08f",
   "metadata": {},
   "outputs": [
    {
     "data": {
      "text/plain": [
       "array([1948, 1952, 1920, 2016, 1900, 1960, 2000, 2012, 1936, 1906, 1912,\n",
       "       1968, 1908, 1964, 1988, 1956, 1992, 2008, 1996, 2004, 1984, 1932,\n",
       "       1904, 1896, 1972, 1976, 1980, 1928, 1924])"
      ]
     },
     "execution_count": 7,
     "metadata": {},
     "output_type": "execute_result"
    }
   ],
   "source": [
    "mens['Year'].unique()"
   ]
  },
  {
   "cell_type": "code",
   "execution_count": 8,
   "id": "2163779b",
   "metadata": {},
   "outputs": [
    {
     "data": {
      "text/plain": [
       "array([\"Gymnastics Men's Individual All-Around\",\n",
       "       \"Gymnastics Men's Team All-Around\",\n",
       "       \"Gymnastics Men's Floor Exercise\", \"Gymnastics Men's Horse Vault\",\n",
       "       \"Gymnastics Men's Parallel Bars\",\n",
       "       \"Gymnastics Men's Horizontal Bar\", \"Gymnastics Men's Rings\",\n",
       "       \"Gymnastics Men's Pommelled Horse\",\n",
       "       \"Gymnastics Men's Team All-Around, Free System\",\n",
       "       \"Gymnastics Men's Team All-Around, Swedish System\",\n",
       "       \"Gymnastics Men's Individual All-Around, 5 Events\",\n",
       "       \"Gymnastics Men's Rope Climbing\", \"Gymnastics Men's Club Swinging\",\n",
       "       \"Gymnastics Men's Individual All-Around, Field Sports\",\n",
       "       \"Gymnastics Men's Individual All-Around, Apparatus Work\",\n",
       "       \"Gymnastics Men's Parallel Bars, Teams\",\n",
       "       \"Gymnastics Men's Horizontal Bar, Teams\",\n",
       "       \"Gymnastics Men's Side Horse\",\n",
       "       \"Gymnastics Men's Individual All-Around, 4 Events\",\n",
       "       \"Gymnastics Men's Tumbling\"], dtype=object)"
      ]
     },
     "execution_count": 8,
     "metadata": {},
     "output_type": "execute_result"
    }
   ],
   "source": [
    "mens['Event'].unique()"
   ]
  },
  {
   "cell_type": "code",
   "execution_count": 9,
   "id": "498e58ca",
   "metadata": {},
   "outputs": [
    {
     "name": "stdout",
     "output_type": "stream",
     "text": [
      "<class 'pandas.core.frame.DataFrame'>\n",
      "Index: 17578 entries, 41 to 270917\n",
      "Data columns (total 15 columns):\n",
      " #   Column  Non-Null Count  Dtype  \n",
      "---  ------  --------------  -----  \n",
      " 0   ID      17578 non-null  int64  \n",
      " 1   Name    17578 non-null  object \n",
      " 2   Sex     17578 non-null  object \n",
      " 3   Age     16484 non-null  float64\n",
      " 4   Height  11022 non-null  float64\n",
      " 5   Weight  10758 non-null  float64\n",
      " 6   Team    17578 non-null  object \n",
      " 7   NOC     17578 non-null  object \n",
      " 8   Games   17578 non-null  object \n",
      " 9   Year    17578 non-null  int64  \n",
      " 10  Season  17578 non-null  object \n",
      " 11  City    17578 non-null  object \n",
      " 12  Sport   17578 non-null  object \n",
      " 13  Event   17578 non-null  object \n",
      " 14  Medal   1555 non-null   object \n",
      "dtypes: float64(3), int64(2), object(10)\n",
      "memory usage: 2.1+ MB\n"
     ]
    }
   ],
   "source": [
    "mens.info()"
   ]
  },
  {
   "cell_type": "markdown",
   "id": "f3954dbc",
   "metadata": {},
   "source": [
    "## data saved to man before remove medals"
   ]
  },
  {
   "cell_type": "code",
   "execution_count": 10,
   "id": "15405f27",
   "metadata": {},
   "outputs": [],
   "source": [
    "man = mens"
   ]
  },
  {
   "cell_type": "code",
   "execution_count": 11,
   "id": "f27ded44",
   "metadata": {},
   "outputs": [],
   "source": [
    "mens = mens.dropna(subset=[\"Medal\"])"
   ]
  },
  {
   "cell_type": "code",
   "execution_count": 12,
   "id": "59950ca9",
   "metadata": {},
   "outputs": [
    {
     "name": "stdout",
     "output_type": "stream",
     "text": [
      "<class 'pandas.core.frame.DataFrame'>\n",
      "Index: 1555 entries, 41 to 270917\n",
      "Data columns (total 15 columns):\n",
      " #   Column  Non-Null Count  Dtype  \n",
      "---  ------  --------------  -----  \n",
      " 0   ID      1555 non-null   int64  \n",
      " 1   Name    1555 non-null   object \n",
      " 2   Sex     1555 non-null   object \n",
      " 3   Age     1492 non-null   float64\n",
      " 4   Height  699 non-null    float64\n",
      " 5   Weight  656 non-null    float64\n",
      " 6   Team    1555 non-null   object \n",
      " 7   NOC     1555 non-null   object \n",
      " 8   Games   1555 non-null   object \n",
      " 9   Year    1555 non-null   int64  \n",
      " 10  Season  1555 non-null   object \n",
      " 11  City    1555 non-null   object \n",
      " 12  Sport   1555 non-null   object \n",
      " 13  Event   1555 non-null   object \n",
      " 14  Medal   1555 non-null   object \n",
      "dtypes: float64(3), int64(2), object(10)\n",
      "memory usage: 194.4+ KB\n"
     ]
    }
   ],
   "source": [
    "mens.info()"
   ]
  },
  {
   "cell_type": "code",
   "execution_count": 13,
   "id": "99abbf03",
   "metadata": {},
   "outputs": [
    {
     "data": {
      "text/plain": [
       "array(['Bronze', 'Gold', 'Silver'], dtype=object)"
      ]
     },
     "execution_count": 13,
     "metadata": {},
     "output_type": "execute_result"
    }
   ],
   "source": [
    "mens['Medal'].unique()"
   ]
  },
  {
   "cell_type": "code",
   "execution_count": 14,
   "id": "a08045a1",
   "metadata": {},
   "outputs": [
    {
     "data": {
      "text/html": [
       "<div>\n",
       "<style scoped>\n",
       "    .dataframe tbody tr th:only-of-type {\n",
       "        vertical-align: middle;\n",
       "    }\n",
       "\n",
       "    .dataframe tbody tr th {\n",
       "        vertical-align: top;\n",
       "    }\n",
       "\n",
       "    .dataframe thead th {\n",
       "        text-align: right;\n",
       "    }\n",
       "</style>\n",
       "<table border=\"1\" class=\"dataframe\">\n",
       "  <thead>\n",
       "    <tr style=\"text-align: right;\">\n",
       "      <th></th>\n",
       "      <th>count</th>\n",
       "    </tr>\n",
       "    <tr>\n",
       "      <th>Team</th>\n",
       "      <th></th>\n",
       "    </tr>\n",
       "  </thead>\n",
       "  <tbody>\n",
       "    <tr>\n",
       "      <th>Japan</th>\n",
       "      <td>160</td>\n",
       "    </tr>\n",
       "    <tr>\n",
       "      <th>Soviet Union</th>\n",
       "      <td>141</td>\n",
       "    </tr>\n",
       "    <tr>\n",
       "      <th>Norway</th>\n",
       "      <td>121</td>\n",
       "    </tr>\n",
       "    <tr>\n",
       "      <th>Denmark</th>\n",
       "      <td>111</td>\n",
       "    </tr>\n",
       "    <tr>\n",
       "      <th>Finland</th>\n",
       "      <td>99</td>\n",
       "    </tr>\n",
       "    <tr>\n",
       "      <th>Sweden</th>\n",
       "      <td>88</td>\n",
       "    </tr>\n",
       "    <tr>\n",
       "      <th>Italy</th>\n",
       "      <td>88</td>\n",
       "    </tr>\n",
       "    <tr>\n",
       "      <th>United States</th>\n",
       "      <td>83</td>\n",
       "    </tr>\n",
       "    <tr>\n",
       "      <th>Switzerland</th>\n",
       "      <td>83</td>\n",
       "    </tr>\n",
       "    <tr>\n",
       "      <th>China</th>\n",
       "      <td>74</td>\n",
       "    </tr>\n",
       "  </tbody>\n",
       "</table>\n",
       "</div>"
      ],
      "text/plain": [
       "               count\n",
       "Team                \n",
       "Japan            160\n",
       "Soviet Union     141\n",
       "Norway           121\n",
       "Denmark          111\n",
       "Finland           99\n",
       "Sweden            88\n",
       "Italy             88\n",
       "United States     83\n",
       "Switzerland       83\n",
       "China             74"
      ]
     },
     "execution_count": 14,
     "metadata": {},
     "output_type": "execute_result"
    },
    {
     "data": {
      "image/png": "[encoded data removed]",
      "text/plain": [
       "<Figure size 864x288 with 1 Axes>"
      ]
     },
     "metadata": {
      "needs_background": "light"
     },
     "output_type": "display_data"
    }
   ],
   "source": [
    "g = sns.catplot(data=mens, kind='count', x='Team', order = mens['Team'].value_counts().index, height=4, aspect=3).set_xticklabels(rotation=90)\n",
    "g.fig.suptitle(\"Total number of Olympic medals in Mens's Artistic Gymnastics: 1900-2016\")\n",
    "a = mens['Team'].value_counts().to_frame()\n",
    "a.iloc[0:10]"
   ]
  },
  {
   "cell_type": "code",
   "execution_count": 15,
   "id": "11d72581",
   "metadata": {},
   "outputs": [],
   "source": [
    "sns.set_palette('Reds')\n",
    "usa = mens.loc[mens['Team']=='United States',]\n",
    "usa.reset_index(drop=True, inplace=True)"
   ]
  },
  {
   "cell_type": "code",
   "execution_count": 16,
   "id": "274e74f6",
   "metadata": {},
   "outputs": [
    {
     "data": {
      "text/plain": [
       "Text(0.5, 0.98, 'Distribution of Medals')"
      ]
     },
     "execution_count": 16,
     "metadata": {},
     "output_type": "execute_result"
    },
    {
     "data": {
      "image/png": "[encoded data removed]",
      "text/plain": [
       "<Figure size 864x288 with 1 Axes>"
      ]
     },
     "metadata": {
      "needs_background": "light"
     },
     "output_type": "display_data"
    }
   ],
   "source": [
    "u = sns.catplot(data=usa, kind='count', x='Year', height=4, aspect=3).set_xticklabels(rotation=90)\n",
    "u.fig.suptitle('Distribution of Medals')"
   ]
  },
  {
   "cell_type": "code",
   "execution_count": 17,
   "id": "a8353365",
   "metadata": {},
   "outputs": [],
   "source": [
    "sns.set_palette('Blues')\n",
    "teams = mens.loc[mens['Event']=='Team',]\n",
    "teams.reset_index(drop=True, inplace=True)"
   ]
  },
  {
   "cell_type": "code",
   "execution_count": 18,
   "id": "d7bc0b11",
   "metadata": {},
   "outputs": [],
   "source": [
    "# t = sns.catplot(data=teams, kind='count', x='Team', height=4, aspect=3,\n",
    "#                 order=teams['Team'].value_counts().index).set_xticklabels(rotation=90)\n",
    "# t.fig.suptitle('Distribution of Team Medals')\n",
    "# teams['Team'].value_counts().to_frame()"
   ]
  },
  {
   "cell_type": "code",
   "execution_count": 19,
   "id": "d2b6ec9b",
   "metadata": {},
   "outputs": [
    {
     "data": {
      "text/plain": [
       "Text(0.5, 0.98, 'WAG Olympic Gymnasts: Age of Gymnast')"
      ]
     },
     "execution_count": 19,
     "metadata": {},
     "output_type": "execute_result"
    },
    {
     "data": {
      "image/png": "[encoded data removed]",
      "text/plain": [
       "<Figure size 864x288 with 1 Axes>"
      ]
     },
     "metadata": {
      "needs_background": "light"
     },
     "output_type": "display_data"
    }
   ],
   "source": [
    "g = sns.catplot(data=mens, kind='count', x='Age', height=4, aspect=3).set_xticklabels(rotation=90)\n",
    "g.fig.suptitle('WAG Olympic Gymnasts: Age of Gymnast')"
   ]
  },
  {
   "cell_type": "code",
   "execution_count": 20,
   "id": "10fa70a3",
   "metadata": {},
   "outputs": [
    {
     "data": {
      "text/html": [
       "<div>\n",
       "<style scoped>\n",
       "    .dataframe tbody tr th:only-of-type {\n",
       "        vertical-align: middle;\n",
       "    }\n",
       "\n",
       "    .dataframe tbody tr th {\n",
       "        vertical-align: top;\n",
       "    }\n",
       "\n",
       "    .dataframe thead th {\n",
       "        text-align: right;\n",
       "    }\n",
       "</style>\n",
       "<table border=\"1\" class=\"dataframe\">\n",
       "  <thead>\n",
       "    <tr style=\"text-align: right;\">\n",
       "      <th></th>\n",
       "      <th>count</th>\n",
       "    </tr>\n",
       "    <tr>\n",
       "      <th>Age</th>\n",
       "      <th></th>\n",
       "    </tr>\n",
       "  </thead>\n",
       "  <tbody>\n",
       "    <tr>\n",
       "      <th>24.0</th>\n",
       "      <td>166</td>\n",
       "    </tr>\n",
       "    <tr>\n",
       "      <th>23.0</th>\n",
       "      <td>156</td>\n",
       "    </tr>\n",
       "    <tr>\n",
       "      <th>22.0</th>\n",
       "      <td>138</td>\n",
       "    </tr>\n",
       "    <tr>\n",
       "      <th>25.0</th>\n",
       "      <td>125</td>\n",
       "    </tr>\n",
       "    <tr>\n",
       "      <th>26.0</th>\n",
       "      <td>109</td>\n",
       "    </tr>\n",
       "    <tr>\n",
       "      <th>20.0</th>\n",
       "      <td>104</td>\n",
       "    </tr>\n",
       "    <tr>\n",
       "      <th>21.0</th>\n",
       "      <td>103</td>\n",
       "    </tr>\n",
       "    <tr>\n",
       "      <th>27.0</th>\n",
       "      <td>101</td>\n",
       "    </tr>\n",
       "    <tr>\n",
       "      <th>28.0</th>\n",
       "      <td>83</td>\n",
       "    </tr>\n",
       "    <tr>\n",
       "      <th>29.0</th>\n",
       "      <td>83</td>\n",
       "    </tr>\n",
       "    <tr>\n",
       "      <th>19.0</th>\n",
       "      <td>78</td>\n",
       "    </tr>\n",
       "    <tr>\n",
       "      <th>31.0</th>\n",
       "      <td>47</td>\n",
       "    </tr>\n",
       "    <tr>\n",
       "      <th>30.0</th>\n",
       "      <td>43</td>\n",
       "    </tr>\n",
       "    <tr>\n",
       "      <th>32.0</th>\n",
       "      <td>28</td>\n",
       "    </tr>\n",
       "    <tr>\n",
       "      <th>18.0</th>\n",
       "      <td>27</td>\n",
       "    </tr>\n",
       "    <tr>\n",
       "      <th>33.0</th>\n",
       "      <td>27</td>\n",
       "    </tr>\n",
       "    <tr>\n",
       "      <th>34.0</th>\n",
       "      <td>22</td>\n",
       "    </tr>\n",
       "    <tr>\n",
       "      <th>17.0</th>\n",
       "      <td>13</td>\n",
       "    </tr>\n",
       "    <tr>\n",
       "      <th>35.0</th>\n",
       "      <td>11</td>\n",
       "    </tr>\n",
       "    <tr>\n",
       "      <th>37.0</th>\n",
       "      <td>10</td>\n",
       "    </tr>\n",
       "    <tr>\n",
       "      <th>40.0</th>\n",
       "      <td>6</td>\n",
       "    </tr>\n",
       "    <tr>\n",
       "      <th>36.0</th>\n",
       "      <td>4</td>\n",
       "    </tr>\n",
       "    <tr>\n",
       "      <th>38.0</th>\n",
       "      <td>3</td>\n",
       "    </tr>\n",
       "    <tr>\n",
       "      <th>45.0</th>\n",
       "      <td>2</td>\n",
       "    </tr>\n",
       "    <tr>\n",
       "      <th>15.0</th>\n",
       "      <td>1</td>\n",
       "    </tr>\n",
       "    <tr>\n",
       "      <th>10.0</th>\n",
       "      <td>1</td>\n",
       "    </tr>\n",
       "    <tr>\n",
       "      <th>44.0</th>\n",
       "      <td>1</td>\n",
       "    </tr>\n",
       "  </tbody>\n",
       "</table>\n",
       "</div>"
      ],
      "text/plain": [
       "      count\n",
       "Age        \n",
       "24.0    166\n",
       "23.0    156\n",
       "22.0    138\n",
       "25.0    125\n",
       "26.0    109\n",
       "20.0    104\n",
       "21.0    103\n",
       "27.0    101\n",
       "28.0     83\n",
       "29.0     83\n",
       "19.0     78\n",
       "31.0     47\n",
       "30.0     43\n",
       "32.0     28\n",
       "18.0     27\n",
       "33.0     27\n",
       "34.0     22\n",
       "17.0     13\n",
       "35.0     11\n",
       "37.0     10\n",
       "40.0      6\n",
       "36.0      4\n",
       "38.0      3\n",
       "45.0      2\n",
       "15.0      1\n",
       "10.0      1\n",
       "44.0      1"
      ]
     },
     "execution_count": 20,
     "metadata": {},
     "output_type": "execute_result"
    }
   ],
   "source": [
    "mens['Age'].value_counts().to_frame()"
   ]
  },
  {
   "cell_type": "markdown",
   "id": "3c865bad",
   "metadata": {},
   "source": [
    "# Modern Era"
   ]
  },
  {
   "cell_type": "code",
   "execution_count": 21,
   "id": "491adf90",
   "metadata": {},
   "outputs": [],
   "source": [
    "modern = mens.loc[mens['Year'].isin([2008, 2012, 2016])]"
   ]
  },
  {
   "cell_type": "code",
   "execution_count": 22,
   "id": "bd94a751",
   "metadata": {
    "scrolled": true
   },
   "outputs": [
    {
     "data": {
      "text/plain": [
       "array([2012, 2016, 2008])"
      ]
     },
     "execution_count": 22,
     "metadata": {},
     "output_type": "execute_result"
    }
   ],
   "source": [
    "modern['Year'].unique()"
   ]
  },
  {
   "cell_type": "code",
   "execution_count": 23,
   "id": "262986d1",
   "metadata": {},
   "outputs": [
    {
     "name": "stdout",
     "output_type": "stream",
     "text": [
      "<class 'pandas.core.frame.DataFrame'>\n",
      "Index: 1555 entries, 41 to 270917\n",
      "Data columns (total 15 columns):\n",
      " #   Column  Non-Null Count  Dtype  \n",
      "---  ------  --------------  -----  \n",
      " 0   ID      1555 non-null   int64  \n",
      " 1   Name    1555 non-null   object \n",
      " 2   Sex     1555 non-null   object \n",
      " 3   Age     1492 non-null   float64\n",
      " 4   Height  699 non-null    float64\n",
      " 5   Weight  656 non-null    float64\n",
      " 6   Team    1555 non-null   object \n",
      " 7   NOC     1555 non-null   object \n",
      " 8   Games   1555 non-null   object \n",
      " 9   Year    1555 non-null   int64  \n",
      " 10  Season  1555 non-null   object \n",
      " 11  City    1555 non-null   object \n",
      " 12  Sport   1555 non-null   object \n",
      " 13  Event   1555 non-null   object \n",
      " 14  Medal   1555 non-null   object \n",
      "dtypes: float64(3), int64(2), object(10)\n",
      "memory usage: 194.4+ KB\n"
     ]
    }
   ],
   "source": [
    "mens.info()"
   ]
  },
  {
   "cell_type": "code",
   "execution_count": null,
   "id": "1401a1fe",
   "metadata": {},
   "outputs": [],
   "source": [
    "g = sns.catplot(data=modern, kind='count', x='NOC', order = modern['NOC'].value_counts().index).set_xticklabels(rotation=90)\n",
    "g.fig.suptitle(\"Medal count by Country: Open-ended scoring\")\n",
    "modern['NOC'].value_counts().to_frame()"
   ]
  },
  {
   "cell_type": "code",
   "execution_count": null,
   "id": "a5ca711b",
   "metadata": {},
   "outputs": [],
   "source": [
    "g = sns.catplot(data=modern, kind='count', x='Age', height=4, aspect=3).set_xticklabels(rotation=90)\n",
    "modern['Age'].value_counts().to_frame()"
   ]
  },
  {
   "cell_type": "code",
   "execution_count": null,
   "id": "4e113883",
   "metadata": {},
   "outputs": [],
   "source": [
    "grouped_modern = modern.groupby('NOC')\n",
    "grouped_modern['Event'].value_counts().to_frame()"
   ]
  },
  {
   "cell_type": "code",
   "execution_count": null,
   "id": "0d132b20",
   "metadata": {},
   "outputs": [],
   "source": [
    "usa = modern[modern['NOC'] == 'USA']"
   ]
  },
  {
   "cell_type": "code",
   "execution_count": null,
   "id": "4068ed47",
   "metadata": {},
   "outputs": [],
   "source": [
    "usa['Year']"
   ]
  },
  {
   "cell_type": "code",
   "execution_count": null,
   "id": "09b44fd3",
   "metadata": {},
   "outputs": [],
   "source": [
    "usa['Name'].unique()"
   ]
  },
  {
   "cell_type": "code",
   "execution_count": null,
   "id": "dd1cc032",
   "metadata": {},
   "outputs": [],
   "source": [
    "usa"
   ]
  },
  {
   "cell_type": "code",
   "execution_count": null,
   "id": "b1b3bd70",
   "metadata": {},
   "outputs": [],
   "source": [
    "# Set the style for the visualization\n",
    "sns.set(style=\"whitegrid\")\n",
    "\n",
    "# Create a bar plot for Age\n",
    "plt.figure(figsize=(16, 10))\n",
    "sns.barplot(x=\"Name\", y=\"Age\", data=usa, hue=\"Sex\")\n",
    "plt.title('Age Distribution by Name and Sex')\n",
    "plt.xticks(rotation=45)\n",
    "plt.show()"
   ]
  },
  {
   "cell_type": "code",
   "execution_count": null,
   "id": "04fb9176",
   "metadata": {},
   "outputs": [],
   "source": [
    "usamen = mens[mens[\"NOC\"]==\"USA\"]"
   ]
  },
  {
   "cell_type": "code",
   "execution_count": null,
   "id": "30502ec6",
   "metadata": {},
   "outputs": [],
   "source": [
    "usamen[\"Year\"].unique()"
   ]
  },
  {
   "cell_type": "code",
   "execution_count": null,
   "id": "8f44eedf",
   "metadata": {},
   "outputs": [],
   "source": [
    "# List of years to keep\n",
    "years_to_keep = [2008, 2004, 2012, 2016, 1996]\n",
    "\n",
    "# Filter the DataFrame to keep only the specified years\n",
    "filtered_df = usamen[usamen['Year'].isin(years_to_keep)]\n"
   ]
  },
  {
   "cell_type": "code",
   "execution_count": null,
   "id": "e6cce29c",
   "metadata": {},
   "outputs": [],
   "source": [
    "filtered_df[\"Year\"].unique()"
   ]
  },
  {
   "cell_type": "code",
   "execution_count": null,
   "id": "e6cf509c",
   "metadata": {},
   "outputs": [],
   "source": [
    "filtered_df.info()"
   ]
  },
  {
   "cell_type": "code",
   "execution_count": null,
   "id": "c907a705",
   "metadata": {},
   "outputs": [],
   "source": [
    "filtered_df.head(1)"
   ]
  },
  {
   "cell_type": "code",
   "execution_count": null,
   "id": "02056343",
   "metadata": {},
   "outputs": [],
   "source": [
    "df = filtered_df.copy()"
   ]
  },
  {
   "cell_type": "code",
   "execution_count": null,
   "id": "84fd3c2b",
   "metadata": {},
   "outputs": [],
   "source": [
    "df = df.drop(columns=[\"Season\", \"Team\", \"Games\", \"City\", \"Sport\"])"
   ]
  },
  {
   "cell_type": "code",
   "execution_count": null,
   "id": "33d3c2f7",
   "metadata": {},
   "outputs": [],
   "source": [
    "df"
   ]
  },
  {
   "cell_type": "code",
   "execution_count": null,
   "id": "645c8a98",
   "metadata": {},
   "outputs": [],
   "source": [
    "# Define a function to categorize events\n",
    "def categorize_event(event):\n",
    "    if 'team' in event.lower():\n",
    "        return 'Team'\n",
    "    else:\n",
    "        return 'Individual'\n",
    "\n",
    "# Apply the function to the 'Event' column\n",
    "df['Event'] = df['Event'].apply(categorize_event)\n"
   ]
  },
  {
   "cell_type": "code",
   "execution_count": null,
   "id": "e7aa8c47",
   "metadata": {},
   "outputs": [],
   "source": [
    "df.head()"
   ]
  },
  {
   "cell_type": "code",
   "execution_count": null,
   "id": "c7976e5b",
   "metadata": {},
   "outputs": [],
   "source": [
    "df = df.drop(columns=[\"NOC\"])"
   ]
  },
  {
   "cell_type": "code",
   "execution_count": null,
   "id": "bae48378",
   "metadata": {},
   "outputs": [],
   "source": [
    "df.info()"
   ]
  },
  {
   "cell_type": "code",
   "execution_count": null,
   "id": "eb9732af",
   "metadata": {},
   "outputs": [],
   "source": [
    "df"
   ]
  },
  {
   "cell_type": "code",
   "execution_count": null,
   "id": "fd5116d9",
   "metadata": {},
   "outputs": [],
   "source": [
    "# Calculate the mean of each column\n",
    "column_means = df[\"Weight\"].mean()\n",
    "\n",
    "# Fill NaN values with column means\n",
    "df_filled = df.fillna(column_means)"
   ]
  },
  {
   "cell_type": "code",
   "execution_count": null,
   "id": "96d15df3",
   "metadata": {},
   "outputs": [],
   "source": [
    "df_filled"
   ]
  },
  {
   "cell_type": "code",
   "execution_count": null,
   "id": "e67b68bf",
   "metadata": {},
   "outputs": [],
   "source": [
    "df_filled.info()"
   ]
  },
  {
   "cell_type": "code",
   "execution_count": null,
   "id": "5b1ad4ee",
   "metadata": {},
   "outputs": [],
   "source": [
    "df_filled.head()"
   ]
  },
  {
   "cell_type": "code",
   "execution_count": null,
   "id": "b7f2bfdc",
   "metadata": {},
   "outputs": [],
   "source": [
    "df = df_filled.drop(columns=[\"ID\"])"
   ]
  },
  {
   "cell_type": "code",
   "execution_count": null,
   "id": "1e706d39",
   "metadata": {},
   "outputs": [],
   "source": [
    "df"
   ]
  },
  {
   "cell_type": "code",
   "execution_count": null,
   "id": "8d7169d8",
   "metadata": {},
   "outputs": [],
   "source": [
    "df[\"Medal\"].value_counts()"
   ]
  },
  {
   "cell_type": "code",
   "execution_count": null,
   "id": "389cca46",
   "metadata": {},
   "outputs": [],
   "source": [
    "medal_mapping = {'Gold': 1, 'Silver': 2, 'Bronze': 3}\n",
    "\n",
    "# Use the replace method to map text values to integers\n",
    "df['Medal'] = df['Medal'].replace(medal_mapping)"
   ]
  },
  {
   "cell_type": "code",
   "execution_count": null,
   "id": "3e75138c",
   "metadata": {},
   "outputs": [],
   "source": [
    "df.info()"
   ]
  },
  {
   "cell_type": "code",
   "execution_count": null,
   "id": "5c4f7db2",
   "metadata": {},
   "outputs": [],
   "source": [
    "# df.to_csv(file_path, index=False)"
   ]
  },
  {
   "cell_type": "code",
   "execution_count": null,
   "id": "56556121",
   "metadata": {},
   "outputs": [],
   "source": [
    "# Create a scatter plot of Age vs. Height\n",
    "plt.figure(figsize=(10, 6))\n",
    "plt.scatter(df['Age'], df['Height'], c=df['Medal'], cmap='viridis', s=100, alpha=0.8)\n",
    "plt.xlabel('Age')\n",
    "plt.ylabel('Height')\n",
    "plt.title('Scatter Plot of Age vs. Height')\n",
    "plt.colorbar(label='Medal')\n",
    "plt.grid(True)\n",
    "plt.show()"
   ]
  },
  {
   "cell_type": "code",
   "execution_count": null,
   "id": "a433b804",
   "metadata": {},
   "outputs": [],
   "source": [
    "# Create a bar chart of medal counts by event\n",
    "medal_counts = df.groupby(['Event', 'Medal']).size().unstack(fill_value=0)\n",
    "medal_counts.plot(kind='bar', stacked=True, figsize=(10, 6))\n",
    "plt.xlabel('Event')\n",
    "plt.ylabel('Medal Count')\n",
    "plt.title('Medal Counts by Event')\n",
    "plt.legend(title='Medal', loc='upper right', labels=['Gold', 'Silver', 'Bronze'])\n",
    "plt.show()"
   ]
  },
  {
   "cell_type": "code",
   "execution_count": null,
   "id": "20dd8002",
   "metadata": {},
   "outputs": [],
   "source": [
    "# Create a line chart of medal counts over the years\n",
    "medal_counts_over_years = df.groupby(['Year', 'Medal']).size().unstack(fill_value=0)\n",
    "medal_counts_over_years.plot(kind='line', figsize=(10, 6))\n",
    "plt.xlabel('Year')\n",
    "plt.ylabel('Medal Count')\n",
    "plt.title('Medal Counts Over the Years')\n",
    "plt.legend(title='Medal', loc='upper right', labels=['Gold', 'Silver', 'Bronze'])\n",
    "plt.grid(True)\n",
    "plt.show()\n"
   ]
  },
  {
   "cell_type": "code",
   "execution_count": null,
   "id": "1d31f51f",
   "metadata": {},
   "outputs": [],
   "source": [
    "# Create a pie chart of medal distribution\n",
    "medal_distribution = df['Medal'].value_counts()\n",
    "labels = ['Gold', 'Silver', 'Bronze']\n",
    "plt.figure(figsize=(8, 8))\n",
    "plt.pie(medal_distribution, labels=labels, autopct='%1.1f%%', startangle=140, shadow=True)\n",
    "plt.title('Medal Distribution')\n",
    "plt.show()\n"
   ]
  },
  {
   "cell_type": "code",
   "execution_count": 29,
   "id": "4a9caa04",
   "metadata": {},
   "outputs": [
    {
     "name": "stdout",
     "output_type": "stream",
     "text": [
      "<class 'pandas.core.frame.DataFrame'>\n",
      "Index: 17578 entries, 41 to 270917\n",
      "Data columns (total 15 columns):\n",
      " #   Column  Non-Null Count  Dtype  \n",
      "---  ------  --------------  -----  \n",
      " 0   ID      17578 non-null  int64  \n",
      " 1   Name    17578 non-null  object \n",
      " 2   Sex     17578 non-null  object \n",
      " 3   Age     16484 non-null  float64\n",
      " 4   Height  11022 non-null  float64\n",
      " 5   Weight  10758 non-null  float64\n",
      " 6   Team    17578 non-null  object \n",
      " 7   NOC     17578 non-null  object \n",
      " 8   Games   17578 non-null  object \n",
      " 9   Year    17578 non-null  int64  \n",
      " 10  Season  17578 non-null  object \n",
      " 11  City    17578 non-null  object \n",
      " 12  Sport   17578 non-null  object \n",
      " 13  Event   17578 non-null  object \n",
      " 14  Medal   1555 non-null   object \n",
      "dtypes: float64(3), int64(2), object(10)\n",
      "memory usage: 2.1+ MB\n"
     ]
    }
   ],
   "source": [
    "man.info()"
   ]
  },
  {
   "cell_type": "code",
   "execution_count": 30,
   "id": "a2365ef7",
   "metadata": {},
   "outputs": [],
   "source": [
    "df = man.copy()"
   ]
  },
  {
   "cell_type": "code",
   "execution_count": 31,
   "id": "cbcd14da",
   "metadata": {},
   "outputs": [],
   "source": [
    "# Calculate the average of the column\n",
    "Height = df['Height'].mean()\n",
    "Weight = df['Weight'].mean()\n",
    "\n",
    "# Fill missing values with the average\n",
    "df['Height'].fillna(Height, inplace=True)\n",
    "df['Weight'].fillna(Weight, inplace=True)\n"
   ]
  },
  {
   "cell_type": "code",
   "execution_count": 32,
   "id": "96d80aa7",
   "metadata": {},
   "outputs": [
    {
     "name": "stdout",
     "output_type": "stream",
     "text": [
      "<class 'pandas.core.frame.DataFrame'>\n",
      "Index: 17578 entries, 41 to 270917\n",
      "Data columns (total 15 columns):\n",
      " #   Column  Non-Null Count  Dtype  \n",
      "---  ------  --------------  -----  \n",
      " 0   ID      17578 non-null  int64  \n",
      " 1   Name    17578 non-null  object \n",
      " 2   Sex     17578 non-null  object \n",
      " 3   Age     16484 non-null  float64\n",
      " 4   Height  17578 non-null  float64\n",
      " 5   Weight  17578 non-null  float64\n",
      " 6   Team    17578 non-null  object \n",
      " 7   NOC     17578 non-null  object \n",
      " 8   Games   17578 non-null  object \n",
      " 9   Year    17578 non-null  int64  \n",
      " 10  Season  17578 non-null  object \n",
      " 11  City    17578 non-null  object \n",
      " 12  Sport   17578 non-null  object \n",
      " 13  Event   17578 non-null  object \n",
      " 14  Medal   1555 non-null   object \n",
      "dtypes: float64(3), int64(2), object(10)\n",
      "memory usage: 2.1+ MB\n"
     ]
    }
   ],
   "source": [
    "df.info()"
   ]
  },
  {
   "cell_type": "code",
   "execution_count": 33,
   "id": "219cd655",
   "metadata": {},
   "outputs": [],
   "source": [
    "Age = df['Age'].mean()\n",
    "\n",
    "df['Age'].fillna(Age, inplace=True)"
   ]
  },
  {
   "cell_type": "code",
   "execution_count": 34,
   "id": "2028dd5b",
   "metadata": {},
   "outputs": [
    {
     "name": "stdout",
     "output_type": "stream",
     "text": [
      "<class 'pandas.core.frame.DataFrame'>\n",
      "Index: 17578 entries, 41 to 270917\n",
      "Data columns (total 15 columns):\n",
      " #   Column  Non-Null Count  Dtype  \n",
      "---  ------  --------------  -----  \n",
      " 0   ID      17578 non-null  int64  \n",
      " 1   Name    17578 non-null  object \n",
      " 2   Sex     17578 non-null  object \n",
      " 3   Age     17578 non-null  float64\n",
      " 4   Height  17578 non-null  float64\n",
      " 5   Weight  17578 non-null  float64\n",
      " 6   Team    17578 non-null  object \n",
      " 7   NOC     17578 non-null  object \n",
      " 8   Games   17578 non-null  object \n",
      " 9   Year    17578 non-null  int64  \n",
      " 10  Season  17578 non-null  object \n",
      " 11  City    17578 non-null  object \n",
      " 12  Sport   17578 non-null  object \n",
      " 13  Event   17578 non-null  object \n",
      " 14  Medal   1555 non-null   object \n",
      "dtypes: float64(3), int64(2), object(10)\n",
      "memory usage: 2.1+ MB\n"
     ]
    }
   ],
   "source": [
    "df.info()"
   ]
  },
  {
   "cell_type": "code",
   "execution_count": 35,
   "id": "924787fb",
   "metadata": {},
   "outputs": [],
   "source": [
    "df['Medal'].fillna(\"None\", inplace=True)"
   ]
  },
  {
   "cell_type": "code",
   "execution_count": 38,
   "id": "3ca802e5",
   "metadata": {},
   "outputs": [
    {
     "data": {
      "text/plain": [
       "ID        0\n",
       "Name      0\n",
       "Sex       0\n",
       "Age       0\n",
       "Height    0\n",
       "Weight    0\n",
       "Team      0\n",
       "NOC       0\n",
       "Games     0\n",
       "Year      0\n",
       "Season    0\n",
       "City      0\n",
       "Sport     0\n",
       "Event     0\n",
       "Medal     0\n",
       "dtype: int64"
      ]
     },
     "execution_count": 38,
     "metadata": {},
     "output_type": "execute_result"
    }
   ],
   "source": [
    "df.isnull().sum()"
   ]
  },
  {
   "cell_type": "code",
   "execution_count": 39,
   "id": "d5bab822",
   "metadata": {},
   "outputs": [
    {
     "data": {
      "text/html": [
       "<div>\n",
       "<style scoped>\n",
       "    .dataframe tbody tr th:only-of-type {\n",
       "        vertical-align: middle;\n",
       "    }\n",
       "\n",
       "    .dataframe tbody tr th {\n",
       "        vertical-align: top;\n",
       "    }\n",
       "\n",
       "    .dataframe thead th {\n",
       "        text-align: right;\n",
       "    }\n",
       "</style>\n",
       "<table border=\"1\" class=\"dataframe\">\n",
       "  <thead>\n",
       "    <tr style=\"text-align: right;\">\n",
       "      <th></th>\n",
       "      <th>ID</th>\n",
       "      <th>Name</th>\n",
       "      <th>Sex</th>\n",
       "      <th>Age</th>\n",
       "      <th>Height</th>\n",
       "      <th>Weight</th>\n",
       "      <th>Team</th>\n",
       "      <th>NOC</th>\n",
       "      <th>Games</th>\n",
       "      <th>Year</th>\n",
       "      <th>Season</th>\n",
       "      <th>City</th>\n",
       "      <th>Sport</th>\n",
       "      <th>Event</th>\n",
       "      <th>Medal</th>\n",
       "    </tr>\n",
       "  </thead>\n",
       "  <tbody>\n",
       "    <tr>\n",
       "      <th>41</th>\n",
       "      <td>17</td>\n",
       "      <td>Paavo Johannes Aaltonen</td>\n",
       "      <td>M</td>\n",
       "      <td>28.0</td>\n",
       "      <td>175.0</td>\n",
       "      <td>64.0</td>\n",
       "      <td>Finland</td>\n",
       "      <td>FIN</td>\n",
       "      <td>1948 Summer</td>\n",
       "      <td>1948</td>\n",
       "      <td>Summer</td>\n",
       "      <td>London</td>\n",
       "      <td>Gymnastics</td>\n",
       "      <td>Gymnastics Men's Individual All-Around</td>\n",
       "      <td>Bronze</td>\n",
       "    </tr>\n",
       "    <tr>\n",
       "      <th>42</th>\n",
       "      <td>17</td>\n",
       "      <td>Paavo Johannes Aaltonen</td>\n",
       "      <td>M</td>\n",
       "      <td>28.0</td>\n",
       "      <td>175.0</td>\n",
       "      <td>64.0</td>\n",
       "      <td>Finland</td>\n",
       "      <td>FIN</td>\n",
       "      <td>1948 Summer</td>\n",
       "      <td>1948</td>\n",
       "      <td>Summer</td>\n",
       "      <td>London</td>\n",
       "      <td>Gymnastics</td>\n",
       "      <td>Gymnastics Men's Team All-Around</td>\n",
       "      <td>Gold</td>\n",
       "    </tr>\n",
       "    <tr>\n",
       "      <th>43</th>\n",
       "      <td>17</td>\n",
       "      <td>Paavo Johannes Aaltonen</td>\n",
       "      <td>M</td>\n",
       "      <td>28.0</td>\n",
       "      <td>175.0</td>\n",
       "      <td>64.0</td>\n",
       "      <td>Finland</td>\n",
       "      <td>FIN</td>\n",
       "      <td>1948 Summer</td>\n",
       "      <td>1948</td>\n",
       "      <td>Summer</td>\n",
       "      <td>London</td>\n",
       "      <td>Gymnastics</td>\n",
       "      <td>Gymnastics Men's Floor Exercise</td>\n",
       "      <td>None</td>\n",
       "    </tr>\n",
       "    <tr>\n",
       "      <th>44</th>\n",
       "      <td>17</td>\n",
       "      <td>Paavo Johannes Aaltonen</td>\n",
       "      <td>M</td>\n",
       "      <td>28.0</td>\n",
       "      <td>175.0</td>\n",
       "      <td>64.0</td>\n",
       "      <td>Finland</td>\n",
       "      <td>FIN</td>\n",
       "      <td>1948 Summer</td>\n",
       "      <td>1948</td>\n",
       "      <td>Summer</td>\n",
       "      <td>London</td>\n",
       "      <td>Gymnastics</td>\n",
       "      <td>Gymnastics Men's Horse Vault</td>\n",
       "      <td>Gold</td>\n",
       "    </tr>\n",
       "    <tr>\n",
       "      <th>45</th>\n",
       "      <td>17</td>\n",
       "      <td>Paavo Johannes Aaltonen</td>\n",
       "      <td>M</td>\n",
       "      <td>28.0</td>\n",
       "      <td>175.0</td>\n",
       "      <td>64.0</td>\n",
       "      <td>Finland</td>\n",
       "      <td>FIN</td>\n",
       "      <td>1948 Summer</td>\n",
       "      <td>1948</td>\n",
       "      <td>Summer</td>\n",
       "      <td>London</td>\n",
       "      <td>Gymnastics</td>\n",
       "      <td>Gymnastics Men's Parallel Bars</td>\n",
       "      <td>None</td>\n",
       "    </tr>\n",
       "  </tbody>\n",
       "</table>\n",
       "</div>"
      ],
      "text/plain": [
       "    ID                     Name Sex   Age  Height  Weight     Team  NOC  \\\n",
       "41  17  Paavo Johannes Aaltonen   M  28.0   175.0    64.0  Finland  FIN   \n",
       "42  17  Paavo Johannes Aaltonen   M  28.0   175.0    64.0  Finland  FIN   \n",
       "43  17  Paavo Johannes Aaltonen   M  28.0   175.0    64.0  Finland  FIN   \n",
       "44  17  Paavo Johannes Aaltonen   M  28.0   175.0    64.0  Finland  FIN   \n",
       "45  17  Paavo Johannes Aaltonen   M  28.0   175.0    64.0  Finland  FIN   \n",
       "\n",
       "          Games  Year  Season    City       Sport  \\\n",
       "41  1948 Summer  1948  Summer  London  Gymnastics   \n",
       "42  1948 Summer  1948  Summer  London  Gymnastics   \n",
       "43  1948 Summer  1948  Summer  London  Gymnastics   \n",
       "44  1948 Summer  1948  Summer  London  Gymnastics   \n",
       "45  1948 Summer  1948  Summer  London  Gymnastics   \n",
       "\n",
       "                                     Event   Medal  \n",
       "41  Gymnastics Men's Individual All-Around  Bronze  \n",
       "42        Gymnastics Men's Team All-Around    Gold  \n",
       "43         Gymnastics Men's Floor Exercise    None  \n",
       "44            Gymnastics Men's Horse Vault    Gold  \n",
       "45          Gymnastics Men's Parallel Bars    None  "
      ]
     },
     "execution_count": 39,
     "metadata": {},
     "output_type": "execute_result"
    }
   ],
   "source": [
    "df.head()"
   ]
  },
  {
   "cell_type": "code",
   "execution_count": 44,
   "id": "b6245357",
   "metadata": {},
   "outputs": [
    {
     "data": {
      "text/plain": [
       "100"
      ]
     },
     "execution_count": 44,
     "metadata": {},
     "output_type": "execute_result"
    }
   ],
   "source": [
    "df[\"Team\"].nunique()"
   ]
  },
  {
   "cell_type": "code",
   "execution_count": 45,
   "id": "7df144c2",
   "metadata": {},
   "outputs": [
    {
     "data": {
      "text/plain": [
       "84"
      ]
     },
     "execution_count": 45,
     "metadata": {},
     "output_type": "execute_result"
    }
   ],
   "source": [
    "df[\"NOC\"].nunique()"
   ]
  },
  {
   "cell_type": "code",
   "execution_count": 49,
   "id": "0f1a312f",
   "metadata": {},
   "outputs": [
    {
     "name": "stdout",
     "output_type": "stream",
     "text": [
      "NOC\n",
      "AUT     2\n",
      "GER     3\n",
      "GRE     2\n",
      "ITA     3\n",
      "NOR     2\n",
      "USA    14\n",
      "Name: Team, dtype: int64\n"
     ]
    }
   ],
   "source": [
    "# Group by 'NOC' and count the unique teams for each NOC\n",
    "nocs_with_multiple_teams = df.groupby('NOC')['Team'].nunique()\n",
    "\n",
    "# Filter for NOCs with more than one unique team\n",
    "discrepant_nocs = nocs_with_multiple_teams[nocs_with_multiple_teams > 1]\n",
    "\n",
    "# Now 'discrepant_nocs' contains the NOCs with discrepancies\n",
    "print(discrepant_nocs)\n"
   ]
  },
  {
   "cell_type": "code",
   "execution_count": 55,
   "id": "1b52a7bf",
   "metadata": {},
   "outputs": [],
   "source": [
    "auts = df[df['NOC']==\"AUT\"]"
   ]
  },
  {
   "cell_type": "code",
   "execution_count": 57,
   "id": "db44b704",
   "metadata": {},
   "outputs": [
    {
     "data": {
      "text/plain": [
       "Team\n",
       "Austria                                    251\n",
       "Philadelphia Turngemeinde, Philadelphia      1\n",
       "Name: count, dtype: int64"
      ]
     },
     "execution_count": 57,
     "metadata": {},
     "output_type": "execute_result"
    }
   ],
   "source": [
    "auts[\"Team\"].value_counts()"
   ]
  },
  {
   "cell_type": "code",
   "execution_count": 58,
   "id": "61f20e0a",
   "metadata": {},
   "outputs": [
    {
     "data": {
      "text/html": [
       "<div>\n",
       "<style scoped>\n",
       "    .dataframe tbody tr th:only-of-type {\n",
       "        vertical-align: middle;\n",
       "    }\n",
       "\n",
       "    .dataframe tbody tr th {\n",
       "        vertical-align: top;\n",
       "    }\n",
       "\n",
       "    .dataframe thead th {\n",
       "        text-align: right;\n",
       "    }\n",
       "</style>\n",
       "<table border=\"1\" class=\"dataframe\">\n",
       "  <thead>\n",
       "    <tr style=\"text-align: right;\">\n",
       "      <th></th>\n",
       "      <th>ID</th>\n",
       "      <th>Name</th>\n",
       "      <th>Sex</th>\n",
       "      <th>Age</th>\n",
       "      <th>Height</th>\n",
       "      <th>Weight</th>\n",
       "      <th>Team</th>\n",
       "      <th>NOC</th>\n",
       "      <th>Games</th>\n",
       "      <th>Year</th>\n",
       "      <th>Season</th>\n",
       "      <th>City</th>\n",
       "      <th>Sport</th>\n",
       "      <th>Event</th>\n",
       "      <th>Medal</th>\n",
       "    </tr>\n",
       "  </thead>\n",
       "  <tbody>\n",
       "    <tr>\n",
       "      <th>84311</th>\n",
       "      <td>42822</td>\n",
       "      <td>John William Grieb</td>\n",
       "      <td>M</td>\n",
       "      <td>24.0</td>\n",
       "      <td>175.000000</td>\n",
       "      <td>63.343605</td>\n",
       "      <td>Philadelphia Turngemeinde, Philadelphia</td>\n",
       "      <td>USA</td>\n",
       "      <td>1904 Summer</td>\n",
       "      <td>1904</td>\n",
       "      <td>Summer</td>\n",
       "      <td>St. Louis</td>\n",
       "      <td>Gymnastics</td>\n",
       "      <td>Gymnastics Men's Team All-Around</td>\n",
       "      <td>Gold</td>\n",
       "    </tr>\n",
       "    <tr>\n",
       "      <th>93170</th>\n",
       "      <td>47181</td>\n",
       "      <td>Anton Heida</td>\n",
       "      <td>M</td>\n",
       "      <td>25.0</td>\n",
       "      <td>167.644438</td>\n",
       "      <td>63.343605</td>\n",
       "      <td>Philadelphia Turngemeinde, Philadelphia</td>\n",
       "      <td>USA</td>\n",
       "      <td>1904 Summer</td>\n",
       "      <td>1904</td>\n",
       "      <td>Summer</td>\n",
       "      <td>St. Louis</td>\n",
       "      <td>Gymnastics</td>\n",
       "      <td>Gymnastics Men's Team All-Around</td>\n",
       "      <td>Gold</td>\n",
       "    </tr>\n",
       "    <tr>\n",
       "      <th>95297</th>\n",
       "      <td>48256</td>\n",
       "      <td>Max Hess</td>\n",
       "      <td>M</td>\n",
       "      <td>26.0</td>\n",
       "      <td>165.000000</td>\n",
       "      <td>71.000000</td>\n",
       "      <td>Philadelphia Turngemeinde, Philadelphia</td>\n",
       "      <td>USA</td>\n",
       "      <td>1904 Summer</td>\n",
       "      <td>1904</td>\n",
       "      <td>Summer</td>\n",
       "      <td>St. Louis</td>\n",
       "      <td>Gymnastics</td>\n",
       "      <td>Gymnastics Men's Team All-Around</td>\n",
       "      <td>Gold</td>\n",
       "    </tr>\n",
       "    <tr>\n",
       "      <th>114357</th>\n",
       "      <td>57910</td>\n",
       "      <td>Philip (Philipp-) Kassel</td>\n",
       "      <td>M</td>\n",
       "      <td>27.0</td>\n",
       "      <td>167.644438</td>\n",
       "      <td>63.343605</td>\n",
       "      <td>Philadelphia Turngemeinde, Philadelphia</td>\n",
       "      <td>USA</td>\n",
       "      <td>1904 Summer</td>\n",
       "      <td>1904</td>\n",
       "      <td>Summer</td>\n",
       "      <td>St. Louis</td>\n",
       "      <td>Gymnastics</td>\n",
       "      <td>Gymnastics Men's Team All-Around</td>\n",
       "      <td>Gold</td>\n",
       "    </tr>\n",
       "    <tr>\n",
       "      <th>136656</th>\n",
       "      <td>68714</td>\n",
       "      <td>Julius Lenhart</td>\n",
       "      <td>M</td>\n",
       "      <td>28.0</td>\n",
       "      <td>168.000000</td>\n",
       "      <td>63.343605</td>\n",
       "      <td>Philadelphia Turngemeinde, Philadelphia</td>\n",
       "      <td>AUT</td>\n",
       "      <td>1904 Summer</td>\n",
       "      <td>1904</td>\n",
       "      <td>Summer</td>\n",
       "      <td>St. Louis</td>\n",
       "      <td>Gymnastics</td>\n",
       "      <td>Gymnastics Men's Team All-Around</td>\n",
       "      <td>Gold</td>\n",
       "    </tr>\n",
       "    <tr>\n",
       "      <th>198050</th>\n",
       "      <td>99438</td>\n",
       "      <td>Ernst Heinrich Dietrich Reckeweg</td>\n",
       "      <td>M</td>\n",
       "      <td>31.0</td>\n",
       "      <td>167.644438</td>\n",
       "      <td>63.343605</td>\n",
       "      <td>Philadelphia Turngemeinde, Philadelphia</td>\n",
       "      <td>USA</td>\n",
       "      <td>1904 Summer</td>\n",
       "      <td>1904</td>\n",
       "      <td>Summer</td>\n",
       "      <td>St. Louis</td>\n",
       "      <td>Gymnastics</td>\n",
       "      <td>Gymnastics Men's Team All-Around</td>\n",
       "      <td>Gold</td>\n",
       "    </tr>\n",
       "  </tbody>\n",
       "</table>\n",
       "</div>"
      ],
      "text/plain": [
       "           ID                              Name Sex   Age      Height  \\\n",
       "84311   42822                John William Grieb   M  24.0  175.000000   \n",
       "93170   47181                       Anton Heida   M  25.0  167.644438   \n",
       "95297   48256                          Max Hess   M  26.0  165.000000   \n",
       "114357  57910          Philip (Philipp-) Kassel   M  27.0  167.644438   \n",
       "136656  68714                    Julius Lenhart   M  28.0  168.000000   \n",
       "198050  99438  Ernst Heinrich Dietrich Reckeweg   M  31.0  167.644438   \n",
       "\n",
       "           Weight                                     Team  NOC        Games  \\\n",
       "84311   63.343605  Philadelphia Turngemeinde, Philadelphia  USA  1904 Summer   \n",
       "93170   63.343605  Philadelphia Turngemeinde, Philadelphia  USA  1904 Summer   \n",
       "95297   71.000000  Philadelphia Turngemeinde, Philadelphia  USA  1904 Summer   \n",
       "114357  63.343605  Philadelphia Turngemeinde, Philadelphia  USA  1904 Summer   \n",
       "136656  63.343605  Philadelphia Turngemeinde, Philadelphia  AUT  1904 Summer   \n",
       "198050  63.343605  Philadelphia Turngemeinde, Philadelphia  USA  1904 Summer   \n",
       "\n",
       "        Year  Season       City       Sport                             Event  \\\n",
       "84311   1904  Summer  St. Louis  Gymnastics  Gymnastics Men's Team All-Around   \n",
       "93170   1904  Summer  St. Louis  Gymnastics  Gymnastics Men's Team All-Around   \n",
       "95297   1904  Summer  St. Louis  Gymnastics  Gymnastics Men's Team All-Around   \n",
       "114357  1904  Summer  St. Louis  Gymnastics  Gymnastics Men's Team All-Around   \n",
       "136656  1904  Summer  St. Louis  Gymnastics  Gymnastics Men's Team All-Around   \n",
       "198050  1904  Summer  St. Louis  Gymnastics  Gymnastics Men's Team All-Around   \n",
       "\n",
       "       Medal  \n",
       "84311   Gold  \n",
       "93170   Gold  \n",
       "95297   Gold  \n",
       "114357  Gold  \n",
       "136656  Gold  \n",
       "198050  Gold  "
      ]
     },
     "execution_count": 58,
     "metadata": {},
     "output_type": "execute_result"
    }
   ],
   "source": [
    "df[df[\"Team\"]==\"Philadelphia Turngemeinde, Philadelphia\"]"
   ]
  },
  {
   "cell_type": "code",
   "execution_count": 59,
   "id": "b0d43119",
   "metadata": {},
   "outputs": [],
   "source": [
    "gers = df[df['NOC']==\"GER\"]"
   ]
  },
  {
   "cell_type": "code",
   "execution_count": 60,
   "id": "9cf61906",
   "metadata": {},
   "outputs": [
    {
     "data": {
      "text/plain": [
       "Team\n",
       "Germany                                732\n",
       "South St Louis Turnverein, St Louis      1\n",
       "Turnverein Vorwrts, Chicago              1\n",
       "Name: count, dtype: int64"
      ]
     },
     "execution_count": 60,
     "metadata": {},
     "output_type": "execute_result"
    }
   ],
   "source": [
    "gers[\"Team\"].value_counts()"
   ]
  },
  {
   "cell_type": "code",
   "execution_count": 61,
   "id": "2452b72d",
   "metadata": {},
   "outputs": [
    {
     "data": {
      "text/html": [
       "<div>\n",
       "<style scoped>\n",
       "    .dataframe tbody tr th:only-of-type {\n",
       "        vertical-align: middle;\n",
       "    }\n",
       "\n",
       "    .dataframe tbody tr th {\n",
       "        vertical-align: top;\n",
       "    }\n",
       "\n",
       "    .dataframe thead th {\n",
       "        text-align: right;\n",
       "    }\n",
       "</style>\n",
       "<table border=\"1\" class=\"dataframe\">\n",
       "  <thead>\n",
       "    <tr style=\"text-align: right;\">\n",
       "      <th></th>\n",
       "      <th>ID</th>\n",
       "      <th>Name</th>\n",
       "      <th>Sex</th>\n",
       "      <th>Age</th>\n",
       "      <th>Height</th>\n",
       "      <th>Weight</th>\n",
       "      <th>Team</th>\n",
       "      <th>NOC</th>\n",
       "      <th>Games</th>\n",
       "      <th>Year</th>\n",
       "      <th>Season</th>\n",
       "      <th>City</th>\n",
       "      <th>Sport</th>\n",
       "      <th>Event</th>\n",
       "      <th>Medal</th>\n",
       "    </tr>\n",
       "  </thead>\n",
       "  <tbody>\n",
       "    <tr>\n",
       "      <th>54388</th>\n",
       "      <td>27905</td>\n",
       "      <td>Christian Jacob Deubler</td>\n",
       "      <td>M</td>\n",
       "      <td>23.0</td>\n",
       "      <td>167.644438</td>\n",
       "      <td>63.343605</td>\n",
       "      <td>South St Louis Turnverein, St Louis</td>\n",
       "      <td>GER</td>\n",
       "      <td>1904 Summer</td>\n",
       "      <td>1904</td>\n",
       "      <td>Summer</td>\n",
       "      <td>St. Louis</td>\n",
       "      <td>Gymnastics</td>\n",
       "      <td>Gymnastics Men's Team All-Around</td>\n",
       "      <td>None</td>\n",
       "    </tr>\n",
       "    <tr>\n",
       "      <th>131082</th>\n",
       "      <td>65977</td>\n",
       "      <td>John Laichinger</td>\n",
       "      <td>M</td>\n",
       "      <td>20.0</td>\n",
       "      <td>167.644438</td>\n",
       "      <td>63.343605</td>\n",
       "      <td>South St Louis Turnverein, St Louis</td>\n",
       "      <td>USA</td>\n",
       "      <td>1904 Summer</td>\n",
       "      <td>1904</td>\n",
       "      <td>Summer</td>\n",
       "      <td>St. Louis</td>\n",
       "      <td>Gymnastics</td>\n",
       "      <td>Gymnastics Men's Team All-Around</td>\n",
       "      <td>None</td>\n",
       "    </tr>\n",
       "    <tr>\n",
       "      <th>169973</th>\n",
       "      <td>85424</td>\n",
       "      <td>Andrew Frederick Leonard Neu</td>\n",
       "      <td>M</td>\n",
       "      <td>31.0</td>\n",
       "      <td>167.644438</td>\n",
       "      <td>63.343605</td>\n",
       "      <td>South St Louis Turnverein, St Louis</td>\n",
       "      <td>USA</td>\n",
       "      <td>1904 Summer</td>\n",
       "      <td>1904</td>\n",
       "      <td>Summer</td>\n",
       "      <td>St. Louis</td>\n",
       "      <td>Gymnastics</td>\n",
       "      <td>Gymnastics Men's Team All-Around</td>\n",
       "      <td>None</td>\n",
       "    </tr>\n",
       "    <tr>\n",
       "      <th>243541</th>\n",
       "      <td>121969</td>\n",
       "      <td>Edward Frank Tritschler</td>\n",
       "      <td>M</td>\n",
       "      <td>19.0</td>\n",
       "      <td>167.644438</td>\n",
       "      <td>63.343605</td>\n",
       "      <td>South St Louis Turnverein, St Louis</td>\n",
       "      <td>USA</td>\n",
       "      <td>1904 Summer</td>\n",
       "      <td>1904</td>\n",
       "      <td>Summer</td>\n",
       "      <td>St. Louis</td>\n",
       "      <td>Gymnastics</td>\n",
       "      <td>Gymnastics Men's Team All-Around</td>\n",
       "      <td>None</td>\n",
       "    </tr>\n",
       "    <tr>\n",
       "      <th>243548</th>\n",
       "      <td>121971</td>\n",
       "      <td>William Henry Tritschler</td>\n",
       "      <td>M</td>\n",
       "      <td>30.0</td>\n",
       "      <td>175.000000</td>\n",
       "      <td>63.343605</td>\n",
       "      <td>South St Louis Turnverein, St Louis</td>\n",
       "      <td>USA</td>\n",
       "      <td>1904 Summer</td>\n",
       "      <td>1904</td>\n",
       "      <td>Summer</td>\n",
       "      <td>St. Louis</td>\n",
       "      <td>Gymnastics</td>\n",
       "      <td>Gymnastics Men's Team All-Around</td>\n",
       "      <td>None</td>\n",
       "    </tr>\n",
       "    <tr>\n",
       "      <th>246241</th>\n",
       "      <td>123302</td>\n",
       "      <td>Charles Umbs</td>\n",
       "      <td>M</td>\n",
       "      <td>28.0</td>\n",
       "      <td>167.644438</td>\n",
       "      <td>63.343605</td>\n",
       "      <td>South St Louis Turnverein, St Louis</td>\n",
       "      <td>USA</td>\n",
       "      <td>1904 Summer</td>\n",
       "      <td>1904</td>\n",
       "      <td>Summer</td>\n",
       "      <td>St. Louis</td>\n",
       "      <td>Gymnastics</td>\n",
       "      <td>Gymnastics Men's Team All-Around</td>\n",
       "      <td>None</td>\n",
       "    </tr>\n",
       "  </tbody>\n",
       "</table>\n",
       "</div>"
      ],
      "text/plain": [
       "            ID                          Name Sex   Age      Height     Weight  \\\n",
       "54388    27905       Christian Jacob Deubler   M  23.0  167.644438  63.343605   \n",
       "131082   65977               John Laichinger   M  20.0  167.644438  63.343605   \n",
       "169973   85424  Andrew Frederick Leonard Neu   M  31.0  167.644438  63.343605   \n",
       "243541  121969       Edward Frank Tritschler   M  19.0  167.644438  63.343605   \n",
       "243548  121971      William Henry Tritschler   M  30.0  175.000000  63.343605   \n",
       "246241  123302                  Charles Umbs   M  28.0  167.644438  63.343605   \n",
       "\n",
       "                                       Team  NOC        Games  Year  Season  \\\n",
       "54388   South St Louis Turnverein, St Louis  GER  1904 Summer  1904  Summer   \n",
       "131082  South St Louis Turnverein, St Louis  USA  1904 Summer  1904  Summer   \n",
       "169973  South St Louis Turnverein, St Louis  USA  1904 Summer  1904  Summer   \n",
       "243541  South St Louis Turnverein, St Louis  USA  1904 Summer  1904  Summer   \n",
       "243548  South St Louis Turnverein, St Louis  USA  1904 Summer  1904  Summer   \n",
       "246241  South St Louis Turnverein, St Louis  USA  1904 Summer  1904  Summer   \n",
       "\n",
       "             City       Sport                             Event Medal  \n",
       "54388   St. Louis  Gymnastics  Gymnastics Men's Team All-Around  None  \n",
       "131082  St. Louis  Gymnastics  Gymnastics Men's Team All-Around  None  \n",
       "169973  St. Louis  Gymnastics  Gymnastics Men's Team All-Around  None  \n",
       "243541  St. Louis  Gymnastics  Gymnastics Men's Team All-Around  None  \n",
       "243548  St. Louis  Gymnastics  Gymnastics Men's Team All-Around  None  \n",
       "246241  St. Louis  Gymnastics  Gymnastics Men's Team All-Around  None  "
      ]
     },
     "execution_count": 61,
     "metadata": {},
     "output_type": "execute_result"
    }
   ],
   "source": [
    "df[df[\"Team\"]==\"South St Louis Turnverein, St Louis\"]"
   ]
  },
  {
   "cell_type": "code",
   "execution_count": 62,
   "id": "3c86e9bd",
   "metadata": {},
   "outputs": [],
   "source": [
    "df = df.drop(columns=[\"Sex\", \"Season\", \"Sport\", \"City\", \"Team\" ])"
   ]
  },
  {
   "cell_type": "code",
   "execution_count": 64,
   "id": "8d2a1ea5",
   "metadata": {},
   "outputs": [
    {
     "data": {
      "text/html": [
       "<div>\n",
       "<style scoped>\n",
       "    .dataframe tbody tr th:only-of-type {\n",
       "        vertical-align: middle;\n",
       "    }\n",
       "\n",
       "    .dataframe tbody tr th {\n",
       "        vertical-align: top;\n",
       "    }\n",
       "\n",
       "    .dataframe thead th {\n",
       "        text-align: right;\n",
       "    }\n",
       "</style>\n",
       "<table border=\"1\" class=\"dataframe\">\n",
       "  <thead>\n",
       "    <tr style=\"text-align: right;\">\n",
       "      <th></th>\n",
       "      <th>ID</th>\n",
       "      <th>Name</th>\n",
       "      <th>Age</th>\n",
       "      <th>Height</th>\n",
       "      <th>Weight</th>\n",
       "      <th>NOC</th>\n",
       "      <th>Games</th>\n",
       "      <th>Year</th>\n",
       "      <th>Event</th>\n",
       "      <th>Medal</th>\n",
       "    </tr>\n",
       "  </thead>\n",
       "  <tbody>\n",
       "    <tr>\n",
       "      <th>41</th>\n",
       "      <td>17</td>\n",
       "      <td>Paavo Johannes Aaltonen</td>\n",
       "      <td>28.0</td>\n",
       "      <td>175.0</td>\n",
       "      <td>64.0</td>\n",
       "      <td>FIN</td>\n",
       "      <td>1948 Summer</td>\n",
       "      <td>1948</td>\n",
       "      <td>Gymnastics Men's Individual All-Around</td>\n",
       "      <td>Bronze</td>\n",
       "    </tr>\n",
       "    <tr>\n",
       "      <th>42</th>\n",
       "      <td>17</td>\n",
       "      <td>Paavo Johannes Aaltonen</td>\n",
       "      <td>28.0</td>\n",
       "      <td>175.0</td>\n",
       "      <td>64.0</td>\n",
       "      <td>FIN</td>\n",
       "      <td>1948 Summer</td>\n",
       "      <td>1948</td>\n",
       "      <td>Gymnastics Men's Team All-Around</td>\n",
       "      <td>Gold</td>\n",
       "    </tr>\n",
       "    <tr>\n",
       "      <th>43</th>\n",
       "      <td>17</td>\n",
       "      <td>Paavo Johannes Aaltonen</td>\n",
       "      <td>28.0</td>\n",
       "      <td>175.0</td>\n",
       "      <td>64.0</td>\n",
       "      <td>FIN</td>\n",
       "      <td>1948 Summer</td>\n",
       "      <td>1948</td>\n",
       "      <td>Gymnastics Men's Floor Exercise</td>\n",
       "      <td>None</td>\n",
       "    </tr>\n",
       "    <tr>\n",
       "      <th>44</th>\n",
       "      <td>17</td>\n",
       "      <td>Paavo Johannes Aaltonen</td>\n",
       "      <td>28.0</td>\n",
       "      <td>175.0</td>\n",
       "      <td>64.0</td>\n",
       "      <td>FIN</td>\n",
       "      <td>1948 Summer</td>\n",
       "      <td>1948</td>\n",
       "      <td>Gymnastics Men's Horse Vault</td>\n",
       "      <td>Gold</td>\n",
       "    </tr>\n",
       "    <tr>\n",
       "      <th>45</th>\n",
       "      <td>17</td>\n",
       "      <td>Paavo Johannes Aaltonen</td>\n",
       "      <td>28.0</td>\n",
       "      <td>175.0</td>\n",
       "      <td>64.0</td>\n",
       "      <td>FIN</td>\n",
       "      <td>1948 Summer</td>\n",
       "      <td>1948</td>\n",
       "      <td>Gymnastics Men's Parallel Bars</td>\n",
       "      <td>None</td>\n",
       "    </tr>\n",
       "  </tbody>\n",
       "</table>\n",
       "</div>"
      ],
      "text/plain": [
       "    ID                     Name   Age  Height  Weight  NOC        Games  Year  \\\n",
       "41  17  Paavo Johannes Aaltonen  28.0   175.0    64.0  FIN  1948 Summer  1948   \n",
       "42  17  Paavo Johannes Aaltonen  28.0   175.0    64.0  FIN  1948 Summer  1948   \n",
       "43  17  Paavo Johannes Aaltonen  28.0   175.0    64.0  FIN  1948 Summer  1948   \n",
       "44  17  Paavo Johannes Aaltonen  28.0   175.0    64.0  FIN  1948 Summer  1948   \n",
       "45  17  Paavo Johannes Aaltonen  28.0   175.0    64.0  FIN  1948 Summer  1948   \n",
       "\n",
       "                                     Event   Medal  \n",
       "41  Gymnastics Men's Individual All-Around  Bronze  \n",
       "42        Gymnastics Men's Team All-Around    Gold  \n",
       "43         Gymnastics Men's Floor Exercise    None  \n",
       "44            Gymnastics Men's Horse Vault    Gold  \n",
       "45          Gymnastics Men's Parallel Bars    None  "
      ]
     },
     "execution_count": 64,
     "metadata": {},
     "output_type": "execute_result"
    }
   ],
   "source": [
    "df.head()"
   ]
  },
  {
   "cell_type": "code",
   "execution_count": 66,
   "id": "bab16c29",
   "metadata": {},
   "outputs": [
    {
     "data": {
      "text/plain": [
       "array([\"Gymnastics Men's Individual All-Around\",\n",
       "       \"Gymnastics Men's Team All-Around\",\n",
       "       \"Gymnastics Men's Floor Exercise\", \"Gymnastics Men's Horse Vault\",\n",
       "       \"Gymnastics Men's Parallel Bars\",\n",
       "       \"Gymnastics Men's Horizontal Bar\", \"Gymnastics Men's Rings\",\n",
       "       \"Gymnastics Men's Pommelled Horse\",\n",
       "       \"Gymnastics Men's Team All-Around, Free System\",\n",
       "       \"Gymnastics Men's Team All-Around, Swedish System\",\n",
       "       \"Gymnastics Men's Individual All-Around, 5 Events\",\n",
       "       \"Gymnastics Men's Rope Climbing\", \"Gymnastics Men's Club Swinging\",\n",
       "       \"Gymnastics Men's Individual All-Around, Field Sports\",\n",
       "       \"Gymnastics Men's Individual All-Around, Apparatus Work\",\n",
       "       \"Gymnastics Men's Parallel Bars, Teams\",\n",
       "       \"Gymnastics Men's Horizontal Bar, Teams\",\n",
       "       \"Gymnastics Men's Side Horse\",\n",
       "       \"Gymnastics Men's Individual All-Around, 4 Events\",\n",
       "       \"Gymnastics Men's Tumbling\"], dtype=object)"
      ]
     },
     "execution_count": 66,
     "metadata": {},
     "output_type": "execute_result"
    }
   ],
   "source": [
    "df[\"Event\"].unique()"
   ]
  },
  {
   "cell_type": "code",
   "execution_count": 80,
   "id": "37e232c4",
   "metadata": {},
   "outputs": [],
   "source": [
    "men_events = [\"Gymnastics Men's Individual All-Around\",\n",
    "       \"Gymnastics Men's Team All-Around\",\n",
    "       \"Gymnastics Men's Floor Exercise\", \n",
    "       \"Gymnastics Men's Horse Vault\",\n",
    "       \"Gymnastics Men's Parallel Bars\",\n",
    "       \"Gymnastics Men's Horizontal Bar\", \n",
    "       \"Gymnastics Men's Rings\",\n",
    "       \"Gymnastics Men's Pommelled Horse\",]\n",
    "mens = df.loc[df['Event'].isin(men_events)]"
   ]
  },
  {
   "cell_type": "code",
   "execution_count": 84,
   "id": "30567b94",
   "metadata": {},
   "outputs": [
    {
     "data": {
      "text/html": [
       "<div>\n",
       "<style scoped>\n",
       "    .dataframe tbody tr th:only-of-type {\n",
       "        vertical-align: middle;\n",
       "    }\n",
       "\n",
       "    .dataframe tbody tr th {\n",
       "        vertical-align: top;\n",
       "    }\n",
       "\n",
       "    .dataframe thead th {\n",
       "        text-align: right;\n",
       "    }\n",
       "</style>\n",
       "<table border=\"1\" class=\"dataframe\">\n",
       "  <thead>\n",
       "    <tr style=\"text-align: right;\">\n",
       "      <th></th>\n",
       "      <th>ID</th>\n",
       "      <th>Name</th>\n",
       "      <th>Age</th>\n",
       "      <th>Height</th>\n",
       "      <th>Weight</th>\n",
       "      <th>NOC</th>\n",
       "      <th>Games</th>\n",
       "      <th>Year</th>\n",
       "      <th>Event</th>\n",
       "      <th>Medal</th>\n",
       "    </tr>\n",
       "  </thead>\n",
       "  <tbody>\n",
       "    <tr>\n",
       "      <th>41</th>\n",
       "      <td>17</td>\n",
       "      <td>Paavo Johannes Aaltonen</td>\n",
       "      <td>28.0</td>\n",
       "      <td>175.0</td>\n",
       "      <td>64.0</td>\n",
       "      <td>FIN</td>\n",
       "      <td>1948 Summer</td>\n",
       "      <td>1948</td>\n",
       "      <td>Gymnastics Men's Individual All-Around</td>\n",
       "      <td>Bronze</td>\n",
       "    </tr>\n",
       "  </tbody>\n",
       "</table>\n",
       "</div>"
      ],
      "text/plain": [
       "    ID                     Name   Age  Height  Weight  NOC        Games  Year  \\\n",
       "41  17  Paavo Johannes Aaltonen  28.0   175.0    64.0  FIN  1948 Summer  1948   \n",
       "\n",
       "                                     Event   Medal  \n",
       "41  Gymnastics Men's Individual All-Around  Bronze  "
      ]
     },
     "execution_count": 84,
     "metadata": {},
     "output_type": "execute_result"
    }
   ],
   "source": [
    "mens.head(1)"
   ]
  },
  {
   "cell_type": "code",
   "execution_count": 82,
   "id": "1bb9942e",
   "metadata": {},
   "outputs": [
    {
     "data": {
      "text/plain": [
       "array([1948, 1952, 2016, 1900, 1960, 2000, 2012, 1936, 1906, 1968, 1908,\n",
       "       1912, 1964, 1988, 1956, 1992, 2008, 1996, 2004, 1984, 1932, 1904,\n",
       "       1920, 1972, 1976, 1980, 1928, 1896, 1924])"
      ]
     },
     "execution_count": 82,
     "metadata": {},
     "output_type": "execute_result"
    }
   ],
   "source": [
    "mens['Year'].unique()"
   ]
  },
  {
   "cell_type": "code",
   "execution_count": 86,
   "id": "128a01f1",
   "metadata": {},
   "outputs": [
    {
     "name": "stderr",
     "output_type": "stream",
     "text": [
      "/var/folders/j_/555m2zps099832fjh_m8jjnc0000gn/T/ipykernel_9976/4101705126.py:1: SettingWithCopyWarning: \n",
      "A value is trying to be set on a copy of a slice from a DataFrame.\n",
      "Try using .loc[row_indexer,col_indexer] = value instead\n",
      "\n",
      "See the caveats in the documentation: https://pandas.pydata.org/pandas-docs/stable/user_guide/indexing.html#returning-a-view-versus-a-copy\n",
      "  mens['Event'] = mens['Event'].str.replace(\"Gymnastics Men's \", \"\", regex=False)\n"
     ]
    }
   ],
   "source": [
    "mens['Event'] = mens['Event'].str.replace(\"Gymnastics Men's \", \"\", regex=False)\n"
   ]
  },
  {
   "cell_type": "code",
   "execution_count": 88,
   "id": "64b51766",
   "metadata": {},
   "outputs": [
    {
     "data": {
      "text/plain": [
       "array(['Individual All-Around', 'Team All-Around', 'Floor Exercise',\n",
       "       'Horse Vault', 'Parallel Bars', 'Horizontal Bar', 'Rings',\n",
       "       'Pommelled Horse'], dtype=object)"
      ]
     },
     "execution_count": 88,
     "metadata": {},
     "output_type": "execute_result"
    }
   ],
   "source": [
    "mens[\"Event\"].unique()"
   ]
  },
  {
   "cell_type": "code",
   "execution_count": 89,
   "id": "ea564d27",
   "metadata": {},
   "outputs": [],
   "source": [
    "df = mens.copy()"
   ]
  },
  {
   "cell_type": "code",
   "execution_count": 91,
   "id": "0410b82b",
   "metadata": {},
   "outputs": [],
   "source": [
    "df = df.drop(columns=\"Games\")"
   ]
  },
  {
   "cell_type": "code",
   "execution_count": 93,
   "id": "176bf53a",
   "metadata": {},
   "outputs": [
    {
     "data": {
      "text/plain": [
       "Index(['ID', 'Name', 'Age', 'Height', 'Weight', 'NOC', 'Year', 'Event',\n",
       "       'Medal'],\n",
       "      dtype='object')"
      ]
     },
     "execution_count": 93,
     "metadata": {},
     "output_type": "execute_result"
    }
   ],
   "source": [
    "df.columns"
   ]
  },
  {
   "cell_type": "code",
   "execution_count": 94,
   "id": "e78611de",
   "metadata": {},
   "outputs": [],
   "source": [
    "# Define the desired column order\n",
    "desired_columns = ['ID', 'Name', 'NOC', 'Year', 'Age', 'Height', 'Weight',  'Event',\n",
    "       'Medal']\n",
    "\n",
    "# Reorder the columns\n",
    "df = df[desired_columns]"
   ]
  },
  {
   "cell_type": "code",
   "execution_count": 96,
   "id": "5fa8db75",
   "metadata": {},
   "outputs": [
    {
     "name": "stdout",
     "output_type": "stream",
     "text": [
      "<class 'pandas.core.frame.DataFrame'>\n",
      "Index: 16800 entries, 41 to 270917\n",
      "Data columns (total 9 columns):\n",
      " #   Column  Non-Null Count  Dtype  \n",
      "---  ------  --------------  -----  \n",
      " 0   ID      16800 non-null  int64  \n",
      " 1   Name    16800 non-null  object \n",
      " 2   NOC     16800 non-null  object \n",
      " 3   Year    16800 non-null  int64  \n",
      " 4   Age     16800 non-null  float64\n",
      " 5   Height  16800 non-null  float64\n",
      " 6   Weight  16800 non-null  float64\n",
      " 7   Event   16800 non-null  object \n",
      " 8   Medal   16800 non-null  object \n",
      "dtypes: float64(3), int64(2), object(4)\n",
      "memory usage: 1.3+ MB\n"
     ]
    }
   ],
   "source": [
    "df.info()"
   ]
  },
  {
   "cell_type": "code",
   "execution_count": 97,
   "id": "c6834009",
   "metadata": {},
   "outputs": [],
   "source": [
    "modern = df.loc[df['Year'].isin([2008, 2012, 2016])]"
   ]
  },
  {
   "cell_type": "code",
   "execution_count": 99,
   "id": "c8149562",
   "metadata": {},
   "outputs": [
    {
     "data": {
      "text/plain": [
       "13545"
      ]
     },
     "execution_count": 99,
     "metadata": {},
     "output_type": "execute_result"
    }
   ],
   "source": [
    "modern.size"
   ]
  },
  {
   "cell_type": "code",
   "execution_count": 100,
   "id": "6b16bc8a",
   "metadata": {},
   "outputs": [
    {
     "data": {
      "text/plain": [
       "151200"
      ]
     },
     "execution_count": 100,
     "metadata": {},
     "output_type": "execute_result"
    }
   ],
   "source": [
    "df.size"
   ]
  },
  {
   "cell_type": "code",
   "execution_count": 102,
   "id": "79c2a443",
   "metadata": {},
   "outputs": [
    {
     "data": {
      "text/plain": [
       "array([1948, 1952, 2016, 1900, 1960, 2000, 2012, 1936, 1906, 1968, 1908,\n",
       "       1912, 1964, 1988, 1956, 1992, 2008, 1996, 2004, 1984, 1932, 1904,\n",
       "       1920, 1972, 1976, 1980, 1928, 1896, 1924])"
      ]
     },
     "execution_count": 102,
     "metadata": {},
     "output_type": "execute_result"
    }
   ],
   "source": []
  },
  {
   "cell_type": "code",
   "execution_count": 103,
   "id": "ad12fa88",
   "metadata": {},
   "outputs": [],
   "source": [
    "# df.to_csv(\"mens_olympics\", index=False)"
   ]
  },
  {
   "cell_type": "code",
   "execution_count": 105,
   "id": "03115ad5",
   "metadata": {},
   "outputs": [],
   "source": [
    "# modern.to_csv(\"modern_mens_olympics\", index=False)"
   ]
  },
  {
   "cell_type": "code",
   "execution_count": null,
   "id": "289c7cbb",
   "metadata": {},
   "outputs": [],
   "source": []
  }
 ],
 "metadata": {
  "kernelspec": {
   "display_name": "Python 3 (ipykernel)",
   "language": "python",
   "name": "python3"
  },
  "language_info": {
   "codemirror_mode": {
    "name": "ipython",
    "version": 3
   },
   "file_extension": ".py",
   "mimetype": "text/x-python",
   "name": "python",
   "nbconvert_exporter": "python",
   "pygments_lexer": "ipython3",
   "version": "3.9.12"
  }
 },
 "nbformat": 4,
 "nbformat_minor": 5
}
