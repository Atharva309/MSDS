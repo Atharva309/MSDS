{
 "cells": [
  {
   "cell_type": "code",
   "execution_count": 1,
   "id": "101b8105",
   "metadata": {},
   "outputs": [],
   "source": [
    "import numpy as np # linear algebra\n",
    "import pandas as pd # data processing, CSV file I/O (e.g. pd.read_csv)\n",
    "import seaborn as sns"
   ]
  },
  {
   "cell_type": "code",
   "execution_count": 2,
   "id": "a221f56d",
   "metadata": {},
   "outputs": [],
   "source": [
    "raw_data = pd.read_csv('athlete_events.csv')\n",
    "noc = pd.read_csv('noc_regions.csv')\n"
   ]
  },
  {
   "cell_type": "code",
   "execution_count": 3,
   "id": "c61cf653",
   "metadata": {},
   "outputs": [
    {
     "data": {
      "text/html": [
       "<div>\n",
       "<style scoped>\n",
       "    .dataframe tbody tr th:only-of-type {\n",
       "        vertical-align: middle;\n",
       "    }\n",
       "\n",
       "    .dataframe tbody tr th {\n",
       "        vertical-align: top;\n",
       "    }\n",
       "\n",
       "    .dataframe thead th {\n",
       "        text-align: right;\n",
       "    }\n",
       "</style>\n",
       "<table border=\"1\" class=\"dataframe\">\n",
       "  <thead>\n",
       "    <tr style=\"text-align: right;\">\n",
       "      <th></th>\n",
       "      <th>ID</th>\n",
       "      <th>Name</th>\n",
       "      <th>Sex</th>\n",
       "      <th>Age</th>\n",
       "      <th>Height</th>\n",
       "      <th>Weight</th>\n",
       "      <th>Team</th>\n",
       "      <th>NOC</th>\n",
       "      <th>Games</th>\n",
       "      <th>Year</th>\n",
       "      <th>Season</th>\n",
       "      <th>City</th>\n",
       "      <th>Sport</th>\n",
       "      <th>Event</th>\n",
       "      <th>Medal</th>\n",
       "    </tr>\n",
       "  </thead>\n",
       "  <tbody>\n",
       "    <tr>\n",
       "      <th>0</th>\n",
       "      <td>1</td>\n",
       "      <td>A Dijiang</td>\n",
       "      <td>M</td>\n",
       "      <td>24.0</td>\n",
       "      <td>180.0</td>\n",
       "      <td>80.0</td>\n",
       "      <td>China</td>\n",
       "      <td>CHN</td>\n",
       "      <td>1992 Summer</td>\n",
       "      <td>1992</td>\n",
       "      <td>Summer</td>\n",
       "      <td>Barcelona</td>\n",
       "      <td>Basketball</td>\n",
       "      <td>Basketball Men's Basketball</td>\n",
       "      <td>NaN</td>\n",
       "    </tr>\n",
       "    <tr>\n",
       "      <th>1</th>\n",
       "      <td>2</td>\n",
       "      <td>A Lamusi</td>\n",
       "      <td>M</td>\n",
       "      <td>23.0</td>\n",
       "      <td>170.0</td>\n",
       "      <td>60.0</td>\n",
       "      <td>China</td>\n",
       "      <td>CHN</td>\n",
       "      <td>2012 Summer</td>\n",
       "      <td>2012</td>\n",
       "      <td>Summer</td>\n",
       "      <td>London</td>\n",
       "      <td>Judo</td>\n",
       "      <td>Judo Men's Extra-Lightweight</td>\n",
       "      <td>NaN</td>\n",
       "    </tr>\n",
       "    <tr>\n",
       "      <th>2</th>\n",
       "      <td>3</td>\n",
       "      <td>Gunnar Nielsen Aaby</td>\n",
       "      <td>M</td>\n",
       "      <td>24.0</td>\n",
       "      <td>NaN</td>\n",
       "      <td>NaN</td>\n",
       "      <td>Denmark</td>\n",
       "      <td>DEN</td>\n",
       "      <td>1920 Summer</td>\n",
       "      <td>1920</td>\n",
       "      <td>Summer</td>\n",
       "      <td>Antwerpen</td>\n",
       "      <td>Football</td>\n",
       "      <td>Football Men's Football</td>\n",
       "      <td>NaN</td>\n",
       "    </tr>\n",
       "    <tr>\n",
       "      <th>3</th>\n",
       "      <td>4</td>\n",
       "      <td>Edgar Lindenau Aabye</td>\n",
       "      <td>M</td>\n",
       "      <td>34.0</td>\n",
       "      <td>NaN</td>\n",
       "      <td>NaN</td>\n",
       "      <td>Denmark/Sweden</td>\n",
       "      <td>DEN</td>\n",
       "      <td>1900 Summer</td>\n",
       "      <td>1900</td>\n",
       "      <td>Summer</td>\n",
       "      <td>Paris</td>\n",
       "      <td>Tug-Of-War</td>\n",
       "      <td>Tug-Of-War Men's Tug-Of-War</td>\n",
       "      <td>Gold</td>\n",
       "    </tr>\n",
       "    <tr>\n",
       "      <th>4</th>\n",
       "      <td>5</td>\n",
       "      <td>Christine Jacoba Aaftink</td>\n",
       "      <td>F</td>\n",
       "      <td>21.0</td>\n",
       "      <td>185.0</td>\n",
       "      <td>82.0</td>\n",
       "      <td>Netherlands</td>\n",
       "      <td>NED</td>\n",
       "      <td>1988 Winter</td>\n",
       "      <td>1988</td>\n",
       "      <td>Winter</td>\n",
       "      <td>Calgary</td>\n",
       "      <td>Speed Skating</td>\n",
       "      <td>Speed Skating Women's 500 metres</td>\n",
       "      <td>NaN</td>\n",
       "    </tr>\n",
       "    <tr>\n",
       "      <th>...</th>\n",
       "      <td>...</td>\n",
       "      <td>...</td>\n",
       "      <td>...</td>\n",
       "      <td>...</td>\n",
       "      <td>...</td>\n",
       "      <td>...</td>\n",
       "      <td>...</td>\n",
       "      <td>...</td>\n",
       "      <td>...</td>\n",
       "      <td>...</td>\n",
       "      <td>...</td>\n",
       "      <td>...</td>\n",
       "      <td>...</td>\n",
       "      <td>...</td>\n",
       "      <td>...</td>\n",
       "    </tr>\n",
       "    <tr>\n",
       "      <th>271111</th>\n",
       "      <td>135569</td>\n",
       "      <td>Andrzej ya</td>\n",
       "      <td>M</td>\n",
       "      <td>29.0</td>\n",
       "      <td>179.0</td>\n",
       "      <td>89.0</td>\n",
       "      <td>Poland-1</td>\n",
       "      <td>POL</td>\n",
       "      <td>1976 Winter</td>\n",
       "      <td>1976</td>\n",
       "      <td>Winter</td>\n",
       "      <td>Innsbruck</td>\n",
       "      <td>Luge</td>\n",
       "      <td>Luge Mixed (Men)'s Doubles</td>\n",
       "      <td>NaN</td>\n",
       "    </tr>\n",
       "    <tr>\n",
       "      <th>271112</th>\n",
       "      <td>135570</td>\n",
       "      <td>Piotr ya</td>\n",
       "      <td>M</td>\n",
       "      <td>27.0</td>\n",
       "      <td>176.0</td>\n",
       "      <td>59.0</td>\n",
       "      <td>Poland</td>\n",
       "      <td>POL</td>\n",
       "      <td>2014 Winter</td>\n",
       "      <td>2014</td>\n",
       "      <td>Winter</td>\n",
       "      <td>Sochi</td>\n",
       "      <td>Ski Jumping</td>\n",
       "      <td>Ski Jumping Men's Large Hill, Individual</td>\n",
       "      <td>NaN</td>\n",
       "    </tr>\n",
       "    <tr>\n",
       "      <th>271113</th>\n",
       "      <td>135570</td>\n",
       "      <td>Piotr ya</td>\n",
       "      <td>M</td>\n",
       "      <td>27.0</td>\n",
       "      <td>176.0</td>\n",
       "      <td>59.0</td>\n",
       "      <td>Poland</td>\n",
       "      <td>POL</td>\n",
       "      <td>2014 Winter</td>\n",
       "      <td>2014</td>\n",
       "      <td>Winter</td>\n",
       "      <td>Sochi</td>\n",
       "      <td>Ski Jumping</td>\n",
       "      <td>Ski Jumping Men's Large Hill, Team</td>\n",
       "      <td>NaN</td>\n",
       "    </tr>\n",
       "    <tr>\n",
       "      <th>271114</th>\n",
       "      <td>135571</td>\n",
       "      <td>Tomasz Ireneusz ya</td>\n",
       "      <td>M</td>\n",
       "      <td>30.0</td>\n",
       "      <td>185.0</td>\n",
       "      <td>96.0</td>\n",
       "      <td>Poland</td>\n",
       "      <td>POL</td>\n",
       "      <td>1998 Winter</td>\n",
       "      <td>1998</td>\n",
       "      <td>Winter</td>\n",
       "      <td>Nagano</td>\n",
       "      <td>Bobsleigh</td>\n",
       "      <td>Bobsleigh Men's Four</td>\n",
       "      <td>NaN</td>\n",
       "    </tr>\n",
       "    <tr>\n",
       "      <th>271115</th>\n",
       "      <td>135571</td>\n",
       "      <td>Tomasz Ireneusz ya</td>\n",
       "      <td>M</td>\n",
       "      <td>34.0</td>\n",
       "      <td>185.0</td>\n",
       "      <td>96.0</td>\n",
       "      <td>Poland</td>\n",
       "      <td>POL</td>\n",
       "      <td>2002 Winter</td>\n",
       "      <td>2002</td>\n",
       "      <td>Winter</td>\n",
       "      <td>Salt Lake City</td>\n",
       "      <td>Bobsleigh</td>\n",
       "      <td>Bobsleigh Men's Four</td>\n",
       "      <td>NaN</td>\n",
       "    </tr>\n",
       "  </tbody>\n",
       "</table>\n",
       "<p>271116 rows × 15 columns</p>\n",
       "</div>"
      ],
      "text/plain": [
       "            ID                      Name Sex   Age  Height  Weight  \\\n",
       "0            1                 A Dijiang   M  24.0   180.0    80.0   \n",
       "1            2                  A Lamusi   M  23.0   170.0    60.0   \n",
       "2            3       Gunnar Nielsen Aaby   M  24.0     NaN     NaN   \n",
       "3            4      Edgar Lindenau Aabye   M  34.0     NaN     NaN   \n",
       "4            5  Christine Jacoba Aaftink   F  21.0   185.0    82.0   \n",
       "...        ...                       ...  ..   ...     ...     ...   \n",
       "271111  135569                Andrzej ya   M  29.0   179.0    89.0   \n",
       "271112  135570                  Piotr ya   M  27.0   176.0    59.0   \n",
       "271113  135570                  Piotr ya   M  27.0   176.0    59.0   \n",
       "271114  135571        Tomasz Ireneusz ya   M  30.0   185.0    96.0   \n",
       "271115  135571        Tomasz Ireneusz ya   M  34.0   185.0    96.0   \n",
       "\n",
       "                  Team  NOC        Games  Year  Season            City  \\\n",
       "0                China  CHN  1992 Summer  1992  Summer       Barcelona   \n",
       "1                China  CHN  2012 Summer  2012  Summer          London   \n",
       "2              Denmark  DEN  1920 Summer  1920  Summer       Antwerpen   \n",
       "3       Denmark/Sweden  DEN  1900 Summer  1900  Summer           Paris   \n",
       "4          Netherlands  NED  1988 Winter  1988  Winter         Calgary   \n",
       "...                ...  ...          ...   ...     ...             ...   \n",
       "271111        Poland-1  POL  1976 Winter  1976  Winter       Innsbruck   \n",
       "271112          Poland  POL  2014 Winter  2014  Winter           Sochi   \n",
       "271113          Poland  POL  2014 Winter  2014  Winter           Sochi   \n",
       "271114          Poland  POL  1998 Winter  1998  Winter          Nagano   \n",
       "271115          Poland  POL  2002 Winter  2002  Winter  Salt Lake City   \n",
       "\n",
       "                Sport                                     Event Medal  \n",
       "0          Basketball               Basketball Men's Basketball   NaN  \n",
       "1                Judo              Judo Men's Extra-Lightweight   NaN  \n",
       "2            Football                   Football Men's Football   NaN  \n",
       "3          Tug-Of-War               Tug-Of-War Men's Tug-Of-War  Gold  \n",
       "4       Speed Skating          Speed Skating Women's 500 metres   NaN  \n",
       "...               ...                                       ...   ...  \n",
       "271111           Luge                Luge Mixed (Men)'s Doubles   NaN  \n",
       "271112    Ski Jumping  Ski Jumping Men's Large Hill, Individual   NaN  \n",
       "271113    Ski Jumping        Ski Jumping Men's Large Hill, Team   NaN  \n",
       "271114      Bobsleigh                      Bobsleigh Men's Four   NaN  \n",
       "271115      Bobsleigh                      Bobsleigh Men's Four   NaN  \n",
       "\n",
       "[271116 rows x 15 columns]"
      ]
     },
     "execution_count": 3,
     "metadata": {},
     "output_type": "execute_result"
    }
   ],
   "source": [
    "raw_data"
   ]
  },
  {
   "cell_type": "code",
   "execution_count": 4,
   "id": "79f78743",
   "metadata": {},
   "outputs": [],
   "source": [
    "df = raw_data.loc[raw_data['Sport']=='Gymnastics']"
   ]
  },
  {
   "cell_type": "code",
   "execution_count": 5,
   "id": "3ab036cd",
   "metadata": {},
   "outputs": [
    {
     "data": {
      "text/html": [
       "<div>\n",
       "<style scoped>\n",
       "    .dataframe tbody tr th:only-of-type {\n",
       "        vertical-align: middle;\n",
       "    }\n",
       "\n",
       "    .dataframe tbody tr th {\n",
       "        vertical-align: top;\n",
       "    }\n",
       "\n",
       "    .dataframe thead th {\n",
       "        text-align: right;\n",
       "    }\n",
       "</style>\n",
       "<table border=\"1\" class=\"dataframe\">\n",
       "  <thead>\n",
       "    <tr style=\"text-align: right;\">\n",
       "      <th></th>\n",
       "      <th>ID</th>\n",
       "      <th>Name</th>\n",
       "      <th>Sex</th>\n",
       "      <th>Age</th>\n",
       "      <th>Height</th>\n",
       "      <th>Weight</th>\n",
       "      <th>Team</th>\n",
       "      <th>NOC</th>\n",
       "      <th>Games</th>\n",
       "      <th>Year</th>\n",
       "      <th>Season</th>\n",
       "      <th>City</th>\n",
       "      <th>Sport</th>\n",
       "      <th>Event</th>\n",
       "      <th>Medal</th>\n",
       "    </tr>\n",
       "  </thead>\n",
       "  <tbody>\n",
       "    <tr>\n",
       "      <th>41</th>\n",
       "      <td>17</td>\n",
       "      <td>Paavo Johannes Aaltonen</td>\n",
       "      <td>M</td>\n",
       "      <td>28.0</td>\n",
       "      <td>175.0</td>\n",
       "      <td>64.0</td>\n",
       "      <td>Finland</td>\n",
       "      <td>FIN</td>\n",
       "      <td>1948 Summer</td>\n",
       "      <td>1948</td>\n",
       "      <td>Summer</td>\n",
       "      <td>London</td>\n",
       "      <td>Gymnastics</td>\n",
       "      <td>Gymnastics Men's Individual All-Around</td>\n",
       "      <td>Bronze</td>\n",
       "    </tr>\n",
       "    <tr>\n",
       "      <th>42</th>\n",
       "      <td>17</td>\n",
       "      <td>Paavo Johannes Aaltonen</td>\n",
       "      <td>M</td>\n",
       "      <td>28.0</td>\n",
       "      <td>175.0</td>\n",
       "      <td>64.0</td>\n",
       "      <td>Finland</td>\n",
       "      <td>FIN</td>\n",
       "      <td>1948 Summer</td>\n",
       "      <td>1948</td>\n",
       "      <td>Summer</td>\n",
       "      <td>London</td>\n",
       "      <td>Gymnastics</td>\n",
       "      <td>Gymnastics Men's Team All-Around</td>\n",
       "      <td>Gold</td>\n",
       "    </tr>\n",
       "    <tr>\n",
       "      <th>43</th>\n",
       "      <td>17</td>\n",
       "      <td>Paavo Johannes Aaltonen</td>\n",
       "      <td>M</td>\n",
       "      <td>28.0</td>\n",
       "      <td>175.0</td>\n",
       "      <td>64.0</td>\n",
       "      <td>Finland</td>\n",
       "      <td>FIN</td>\n",
       "      <td>1948 Summer</td>\n",
       "      <td>1948</td>\n",
       "      <td>Summer</td>\n",
       "      <td>London</td>\n",
       "      <td>Gymnastics</td>\n",
       "      <td>Gymnastics Men's Floor Exercise</td>\n",
       "      <td>NaN</td>\n",
       "    </tr>\n",
       "    <tr>\n",
       "      <th>44</th>\n",
       "      <td>17</td>\n",
       "      <td>Paavo Johannes Aaltonen</td>\n",
       "      <td>M</td>\n",
       "      <td>28.0</td>\n",
       "      <td>175.0</td>\n",
       "      <td>64.0</td>\n",
       "      <td>Finland</td>\n",
       "      <td>FIN</td>\n",
       "      <td>1948 Summer</td>\n",
       "      <td>1948</td>\n",
       "      <td>Summer</td>\n",
       "      <td>London</td>\n",
       "      <td>Gymnastics</td>\n",
       "      <td>Gymnastics Men's Horse Vault</td>\n",
       "      <td>Gold</td>\n",
       "    </tr>\n",
       "    <tr>\n",
       "      <th>45</th>\n",
       "      <td>17</td>\n",
       "      <td>Paavo Johannes Aaltonen</td>\n",
       "      <td>M</td>\n",
       "      <td>28.0</td>\n",
       "      <td>175.0</td>\n",
       "      <td>64.0</td>\n",
       "      <td>Finland</td>\n",
       "      <td>FIN</td>\n",
       "      <td>1948 Summer</td>\n",
       "      <td>1948</td>\n",
       "      <td>Summer</td>\n",
       "      <td>London</td>\n",
       "      <td>Gymnastics</td>\n",
       "      <td>Gymnastics Men's Parallel Bars</td>\n",
       "      <td>NaN</td>\n",
       "    </tr>\n",
       "  </tbody>\n",
       "</table>\n",
       "</div>"
      ],
      "text/plain": [
       "    ID                     Name Sex   Age  Height  Weight     Team  NOC  \\\n",
       "41  17  Paavo Johannes Aaltonen   M  28.0   175.0    64.0  Finland  FIN   \n",
       "42  17  Paavo Johannes Aaltonen   M  28.0   175.0    64.0  Finland  FIN   \n",
       "43  17  Paavo Johannes Aaltonen   M  28.0   175.0    64.0  Finland  FIN   \n",
       "44  17  Paavo Johannes Aaltonen   M  28.0   175.0    64.0  Finland  FIN   \n",
       "45  17  Paavo Johannes Aaltonen   M  28.0   175.0    64.0  Finland  FIN   \n",
       "\n",
       "          Games  Year  Season    City       Sport  \\\n",
       "41  1948 Summer  1948  Summer  London  Gymnastics   \n",
       "42  1948 Summer  1948  Summer  London  Gymnastics   \n",
       "43  1948 Summer  1948  Summer  London  Gymnastics   \n",
       "44  1948 Summer  1948  Summer  London  Gymnastics   \n",
       "45  1948 Summer  1948  Summer  London  Gymnastics   \n",
       "\n",
       "                                     Event   Medal  \n",
       "41  Gymnastics Men's Individual All-Around  Bronze  \n",
       "42        Gymnastics Men's Team All-Around    Gold  \n",
       "43         Gymnastics Men's Floor Exercise     NaN  \n",
       "44            Gymnastics Men's Horse Vault    Gold  \n",
       "45          Gymnastics Men's Parallel Bars     NaN  "
      ]
     },
     "execution_count": 5,
     "metadata": {},
     "output_type": "execute_result"
    }
   ],
   "source": [
    "df.head()"
   ]
  },
  {
   "cell_type": "code",
   "execution_count": 6,
   "id": "4807ce20",
   "metadata": {},
   "outputs": [
    {
     "data": {
      "text/html": [
       "<div>\n",
       "<style scoped>\n",
       "    .dataframe tbody tr th:only-of-type {\n",
       "        vertical-align: middle;\n",
       "    }\n",
       "\n",
       "    .dataframe tbody tr th {\n",
       "        vertical-align: top;\n",
       "    }\n",
       "\n",
       "    .dataframe thead th {\n",
       "        text-align: right;\n",
       "    }\n",
       "</style>\n",
       "<table border=\"1\" class=\"dataframe\">\n",
       "  <thead>\n",
       "    <tr style=\"text-align: right;\">\n",
       "      <th></th>\n",
       "      <th>ID</th>\n",
       "      <th>Name</th>\n",
       "      <th>Sex</th>\n",
       "      <th>Age</th>\n",
       "      <th>Height</th>\n",
       "      <th>Weight</th>\n",
       "      <th>Team</th>\n",
       "      <th>NOC</th>\n",
       "      <th>Games</th>\n",
       "      <th>Year</th>\n",
       "      <th>Season</th>\n",
       "      <th>City</th>\n",
       "      <th>Sport</th>\n",
       "      <th>Event</th>\n",
       "      <th>Medal</th>\n",
       "    </tr>\n",
       "  </thead>\n",
       "  <tbody>\n",
       "    <tr>\n",
       "      <th>270911</th>\n",
       "      <td>135479</td>\n",
       "      <td>Tanja uti (-Kober)</td>\n",
       "      <td>F</td>\n",
       "      <td>25.0</td>\n",
       "      <td>NaN</td>\n",
       "      <td>NaN</td>\n",
       "      <td>Yugoslavia</td>\n",
       "      <td>YUG</td>\n",
       "      <td>1952 Summer</td>\n",
       "      <td>1952</td>\n",
       "      <td>Summer</td>\n",
       "      <td>Helsinki</td>\n",
       "      <td>Gymnastics</td>\n",
       "      <td>Gymnastics Women's Balance Beam</td>\n",
       "      <td>NaN</td>\n",
       "    </tr>\n",
       "    <tr>\n",
       "      <th>270914</th>\n",
       "      <td>135481</td>\n",
       "      <td>Jules Alexis \"Louis\" Zutter</td>\n",
       "      <td>M</td>\n",
       "      <td>30.0</td>\n",
       "      <td>NaN</td>\n",
       "      <td>NaN</td>\n",
       "      <td>Switzerland</td>\n",
       "      <td>SUI</td>\n",
       "      <td>1896 Summer</td>\n",
       "      <td>1896</td>\n",
       "      <td>Summer</td>\n",
       "      <td>Athina</td>\n",
       "      <td>Gymnastics</td>\n",
       "      <td>Gymnastics Men's Horse Vault</td>\n",
       "      <td>Silver</td>\n",
       "    </tr>\n",
       "    <tr>\n",
       "      <th>270915</th>\n",
       "      <td>135481</td>\n",
       "      <td>Jules Alexis \"Louis\" Zutter</td>\n",
       "      <td>M</td>\n",
       "      <td>30.0</td>\n",
       "      <td>NaN</td>\n",
       "      <td>NaN</td>\n",
       "      <td>Switzerland</td>\n",
       "      <td>SUI</td>\n",
       "      <td>1896 Summer</td>\n",
       "      <td>1896</td>\n",
       "      <td>Summer</td>\n",
       "      <td>Athina</td>\n",
       "      <td>Gymnastics</td>\n",
       "      <td>Gymnastics Men's Parallel Bars</td>\n",
       "      <td>Silver</td>\n",
       "    </tr>\n",
       "    <tr>\n",
       "      <th>270916</th>\n",
       "      <td>135481</td>\n",
       "      <td>Jules Alexis \"Louis\" Zutter</td>\n",
       "      <td>M</td>\n",
       "      <td>30.0</td>\n",
       "      <td>NaN</td>\n",
       "      <td>NaN</td>\n",
       "      <td>Switzerland</td>\n",
       "      <td>SUI</td>\n",
       "      <td>1896 Summer</td>\n",
       "      <td>1896</td>\n",
       "      <td>Summer</td>\n",
       "      <td>Athina</td>\n",
       "      <td>Gymnastics</td>\n",
       "      <td>Gymnastics Men's Horizontal Bar</td>\n",
       "      <td>NaN</td>\n",
       "    </tr>\n",
       "    <tr>\n",
       "      <th>270917</th>\n",
       "      <td>135481</td>\n",
       "      <td>Jules Alexis \"Louis\" Zutter</td>\n",
       "      <td>M</td>\n",
       "      <td>30.0</td>\n",
       "      <td>NaN</td>\n",
       "      <td>NaN</td>\n",
       "      <td>Switzerland</td>\n",
       "      <td>SUI</td>\n",
       "      <td>1896 Summer</td>\n",
       "      <td>1896</td>\n",
       "      <td>Summer</td>\n",
       "      <td>Athina</td>\n",
       "      <td>Gymnastics</td>\n",
       "      <td>Gymnastics Men's Pommelled Horse</td>\n",
       "      <td>Gold</td>\n",
       "    </tr>\n",
       "  </tbody>\n",
       "</table>\n",
       "</div>"
      ],
      "text/plain": [
       "            ID                         Name Sex   Age  Height  Weight  \\\n",
       "270911  135479           Tanja uti (-Kober)   F  25.0     NaN     NaN   \n",
       "270914  135481  Jules Alexis \"Louis\" Zutter   M  30.0     NaN     NaN   \n",
       "270915  135481  Jules Alexis \"Louis\" Zutter   M  30.0     NaN     NaN   \n",
       "270916  135481  Jules Alexis \"Louis\" Zutter   M  30.0     NaN     NaN   \n",
       "270917  135481  Jules Alexis \"Louis\" Zutter   M  30.0     NaN     NaN   \n",
       "\n",
       "               Team  NOC        Games  Year  Season      City       Sport  \\\n",
       "270911   Yugoslavia  YUG  1952 Summer  1952  Summer  Helsinki  Gymnastics   \n",
       "270914  Switzerland  SUI  1896 Summer  1896  Summer    Athina  Gymnastics   \n",
       "270915  Switzerland  SUI  1896 Summer  1896  Summer    Athina  Gymnastics   \n",
       "270916  Switzerland  SUI  1896 Summer  1896  Summer    Athina  Gymnastics   \n",
       "270917  Switzerland  SUI  1896 Summer  1896  Summer    Athina  Gymnastics   \n",
       "\n",
       "                                   Event   Medal  \n",
       "270911   Gymnastics Women's Balance Beam     NaN  \n",
       "270914      Gymnastics Men's Horse Vault  Silver  \n",
       "270915    Gymnastics Men's Parallel Bars  Silver  \n",
       "270916   Gymnastics Men's Horizontal Bar     NaN  \n",
       "270917  Gymnastics Men's Pommelled Horse    Gold  "
      ]
     },
     "execution_count": 6,
     "metadata": {},
     "output_type": "execute_result"
    }
   ],
   "source": [
    "df.tail()"
   ]
  },
  {
   "cell_type": "code",
   "execution_count": 7,
   "id": "012cf76a",
   "metadata": {},
   "outputs": [],
   "source": [
    "\n",
    "\n",
    "#Filter out the women's events: I'm just interested in Women's Artistic Gymnastics\n",
    "women_events = ['Gymnastics Women\\'s Individual All-Around', 'Gymnastics Women\\'s Team All-Around', 'Gymnastics Women\\'s Horse Vault', 'Gymnastics Women\\'s Floor Exercise',\n",
    "               'Gymnastics Women\\'s Uneven Bars', 'Gymnastics Women\\'s Balance Beam']\n",
    "womens = df.loc[df['Event'].isin(women_events)]"
   ]
  },
  {
   "cell_type": "code",
   "execution_count": 8,
   "id": "48622ee5",
   "metadata": {},
   "outputs": [
    {
     "data": {
      "text/plain": [
       "array([1972, 2008, 1960, 1952, 1964, 2012, 1980, 1984, 1928, 1948, 2004,\n",
       "       1968, 1988, 1992, 2016, 1996, 2000, 1976, 1956, 1936])"
      ]
     },
     "execution_count": 8,
     "metadata": {},
     "output_type": "execute_result"
    }
   ],
   "source": [
    "womens['Year'].unique()"
   ]
  },
  {
   "cell_type": "code",
   "execution_count": 9,
   "id": "bbffb43f",
   "metadata": {},
   "outputs": [
    {
     "name": "stderr",
     "output_type": "stream",
     "text": [
      "/var/folders/j_/555m2zps099832fjh_m8jjnc0000gn/T/ipykernel_12465/1756511868.py:2: SettingWithCopyWarning: \n",
      "A value is trying to be set on a copy of a slice from a DataFrame.\n",
      "Try using .loc[row_indexer,col_indexer] = value instead\n",
      "\n",
      "See the caveats in the documentation: https://pandas.pydata.org/pandas-docs/stable/user_guide/indexing.html#returning-a-view-versus-a-copy\n",
      "  womens['Event'] = womens['Event'].str.replace(\n"
     ]
    }
   ],
   "source": [
    "#Replace Event names to something less wordy\n",
    "womens['Event'] = womens['Event'].str.replace(\n",
    "    'Gymnastics Women\\'s Individual All-Around', 'All-Around')"
   ]
  },
  {
   "cell_type": "code",
   "execution_count": 10,
   "id": "114e853d",
   "metadata": {},
   "outputs": [
    {
     "data": {
      "text/html": [
       "<div>\n",
       "<style scoped>\n",
       "    .dataframe tbody tr th:only-of-type {\n",
       "        vertical-align: middle;\n",
       "    }\n",
       "\n",
       "    .dataframe tbody tr th {\n",
       "        vertical-align: top;\n",
       "    }\n",
       "\n",
       "    .dataframe thead th {\n",
       "        text-align: right;\n",
       "    }\n",
       "</style>\n",
       "<table border=\"1\" class=\"dataframe\">\n",
       "  <thead>\n",
       "    <tr style=\"text-align: right;\">\n",
       "      <th></th>\n",
       "      <th>ID</th>\n",
       "      <th>Name</th>\n",
       "      <th>Sex</th>\n",
       "      <th>Age</th>\n",
       "      <th>Height</th>\n",
       "      <th>Weight</th>\n",
       "      <th>Team</th>\n",
       "      <th>NOC</th>\n",
       "      <th>Games</th>\n",
       "      <th>Year</th>\n",
       "      <th>Season</th>\n",
       "      <th>City</th>\n",
       "      <th>Sport</th>\n",
       "      <th>Event</th>\n",
       "      <th>Medal</th>\n",
       "    </tr>\n",
       "  </thead>\n",
       "  <tbody>\n",
       "    <tr>\n",
       "      <th>676</th>\n",
       "      <td>394</td>\n",
       "      <td>Irene Abel</td>\n",
       "      <td>F</td>\n",
       "      <td>19.0</td>\n",
       "      <td>160.0</td>\n",
       "      <td>48.0</td>\n",
       "      <td>East Germany</td>\n",
       "      <td>GDR</td>\n",
       "      <td>1972 Summer</td>\n",
       "      <td>1972</td>\n",
       "      <td>Summer</td>\n",
       "      <td>Munich</td>\n",
       "      <td>Gymnastics</td>\n",
       "      <td>All-Around</td>\n",
       "      <td>NaN</td>\n",
       "    </tr>\n",
       "    <tr>\n",
       "      <th>677</th>\n",
       "      <td>394</td>\n",
       "      <td>Irene Abel</td>\n",
       "      <td>F</td>\n",
       "      <td>19.0</td>\n",
       "      <td>160.0</td>\n",
       "      <td>48.0</td>\n",
       "      <td>East Germany</td>\n",
       "      <td>GDR</td>\n",
       "      <td>1972 Summer</td>\n",
       "      <td>1972</td>\n",
       "      <td>Summer</td>\n",
       "      <td>Munich</td>\n",
       "      <td>Gymnastics</td>\n",
       "      <td>Gymnastics Women's Team All-Around</td>\n",
       "      <td>Silver</td>\n",
       "    </tr>\n",
       "    <tr>\n",
       "      <th>678</th>\n",
       "      <td>394</td>\n",
       "      <td>Irene Abel</td>\n",
       "      <td>F</td>\n",
       "      <td>19.0</td>\n",
       "      <td>160.0</td>\n",
       "      <td>48.0</td>\n",
       "      <td>East Germany</td>\n",
       "      <td>GDR</td>\n",
       "      <td>1972 Summer</td>\n",
       "      <td>1972</td>\n",
       "      <td>Summer</td>\n",
       "      <td>Munich</td>\n",
       "      <td>Gymnastics</td>\n",
       "      <td>Gymnastics Women's Floor Exercise</td>\n",
       "      <td>NaN</td>\n",
       "    </tr>\n",
       "    <tr>\n",
       "      <th>679</th>\n",
       "      <td>394</td>\n",
       "      <td>Irene Abel</td>\n",
       "      <td>F</td>\n",
       "      <td>19.0</td>\n",
       "      <td>160.0</td>\n",
       "      <td>48.0</td>\n",
       "      <td>East Germany</td>\n",
       "      <td>GDR</td>\n",
       "      <td>1972 Summer</td>\n",
       "      <td>1972</td>\n",
       "      <td>Summer</td>\n",
       "      <td>Munich</td>\n",
       "      <td>Gymnastics</td>\n",
       "      <td>Gymnastics Women's Horse Vault</td>\n",
       "      <td>NaN</td>\n",
       "    </tr>\n",
       "    <tr>\n",
       "      <th>680</th>\n",
       "      <td>394</td>\n",
       "      <td>Irene Abel</td>\n",
       "      <td>F</td>\n",
       "      <td>19.0</td>\n",
       "      <td>160.0</td>\n",
       "      <td>48.0</td>\n",
       "      <td>East Germany</td>\n",
       "      <td>GDR</td>\n",
       "      <td>1972 Summer</td>\n",
       "      <td>1972</td>\n",
       "      <td>Summer</td>\n",
       "      <td>Munich</td>\n",
       "      <td>Gymnastics</td>\n",
       "      <td>Gymnastics Women's Uneven Bars</td>\n",
       "      <td>NaN</td>\n",
       "    </tr>\n",
       "    <tr>\n",
       "      <th>...</th>\n",
       "      <td>...</td>\n",
       "      <td>...</td>\n",
       "      <td>...</td>\n",
       "      <td>...</td>\n",
       "      <td>...</td>\n",
       "      <td>...</td>\n",
       "      <td>...</td>\n",
       "      <td>...</td>\n",
       "      <td>...</td>\n",
       "      <td>...</td>\n",
       "      <td>...</td>\n",
       "      <td>...</td>\n",
       "      <td>...</td>\n",
       "      <td>...</td>\n",
       "      <td>...</td>\n",
       "    </tr>\n",
       "    <tr>\n",
       "      <th>270906</th>\n",
       "      <td>135479</td>\n",
       "      <td>Tanja uti (-Kober)</td>\n",
       "      <td>F</td>\n",
       "      <td>25.0</td>\n",
       "      <td>NaN</td>\n",
       "      <td>NaN</td>\n",
       "      <td>Yugoslavia</td>\n",
       "      <td>YUG</td>\n",
       "      <td>1952 Summer</td>\n",
       "      <td>1952</td>\n",
       "      <td>Summer</td>\n",
       "      <td>Helsinki</td>\n",
       "      <td>Gymnastics</td>\n",
       "      <td>Gymnastics Women's Team All-Around</td>\n",
       "      <td>NaN</td>\n",
       "    </tr>\n",
       "    <tr>\n",
       "      <th>270908</th>\n",
       "      <td>135479</td>\n",
       "      <td>Tanja uti (-Kober)</td>\n",
       "      <td>F</td>\n",
       "      <td>25.0</td>\n",
       "      <td>NaN</td>\n",
       "      <td>NaN</td>\n",
       "      <td>Yugoslavia</td>\n",
       "      <td>YUG</td>\n",
       "      <td>1952 Summer</td>\n",
       "      <td>1952</td>\n",
       "      <td>Summer</td>\n",
       "      <td>Helsinki</td>\n",
       "      <td>Gymnastics</td>\n",
       "      <td>Gymnastics Women's Floor Exercise</td>\n",
       "      <td>NaN</td>\n",
       "    </tr>\n",
       "    <tr>\n",
       "      <th>270909</th>\n",
       "      <td>135479</td>\n",
       "      <td>Tanja uti (-Kober)</td>\n",
       "      <td>F</td>\n",
       "      <td>25.0</td>\n",
       "      <td>NaN</td>\n",
       "      <td>NaN</td>\n",
       "      <td>Yugoslavia</td>\n",
       "      <td>YUG</td>\n",
       "      <td>1952 Summer</td>\n",
       "      <td>1952</td>\n",
       "      <td>Summer</td>\n",
       "      <td>Helsinki</td>\n",
       "      <td>Gymnastics</td>\n",
       "      <td>Gymnastics Women's Horse Vault</td>\n",
       "      <td>NaN</td>\n",
       "    </tr>\n",
       "    <tr>\n",
       "      <th>270910</th>\n",
       "      <td>135479</td>\n",
       "      <td>Tanja uti (-Kober)</td>\n",
       "      <td>F</td>\n",
       "      <td>25.0</td>\n",
       "      <td>NaN</td>\n",
       "      <td>NaN</td>\n",
       "      <td>Yugoslavia</td>\n",
       "      <td>YUG</td>\n",
       "      <td>1952 Summer</td>\n",
       "      <td>1952</td>\n",
       "      <td>Summer</td>\n",
       "      <td>Helsinki</td>\n",
       "      <td>Gymnastics</td>\n",
       "      <td>Gymnastics Women's Uneven Bars</td>\n",
       "      <td>NaN</td>\n",
       "    </tr>\n",
       "    <tr>\n",
       "      <th>270911</th>\n",
       "      <td>135479</td>\n",
       "      <td>Tanja uti (-Kober)</td>\n",
       "      <td>F</td>\n",
       "      <td>25.0</td>\n",
       "      <td>NaN</td>\n",
       "      <td>NaN</td>\n",
       "      <td>Yugoslavia</td>\n",
       "      <td>YUG</td>\n",
       "      <td>1952 Summer</td>\n",
       "      <td>1952</td>\n",
       "      <td>Summer</td>\n",
       "      <td>Helsinki</td>\n",
       "      <td>Gymnastics</td>\n",
       "      <td>Gymnastics Women's Balance Beam</td>\n",
       "      <td>NaN</td>\n",
       "    </tr>\n",
       "  </tbody>\n",
       "</table>\n",
       "<p>8947 rows × 15 columns</p>\n",
       "</div>"
      ],
      "text/plain": [
       "            ID                Name Sex   Age  Height  Weight          Team  \\\n",
       "676        394          Irene Abel   F  19.0   160.0    48.0  East Germany   \n",
       "677        394          Irene Abel   F  19.0   160.0    48.0  East Germany   \n",
       "678        394          Irene Abel   F  19.0   160.0    48.0  East Germany   \n",
       "679        394          Irene Abel   F  19.0   160.0    48.0  East Germany   \n",
       "680        394          Irene Abel   F  19.0   160.0    48.0  East Germany   \n",
       "...        ...                 ...  ..   ...     ...     ...           ...   \n",
       "270906  135479  Tanja uti (-Kober)   F  25.0     NaN     NaN    Yugoslavia   \n",
       "270908  135479  Tanja uti (-Kober)   F  25.0     NaN     NaN    Yugoslavia   \n",
       "270909  135479  Tanja uti (-Kober)   F  25.0     NaN     NaN    Yugoslavia   \n",
       "270910  135479  Tanja uti (-Kober)   F  25.0     NaN     NaN    Yugoslavia   \n",
       "270911  135479  Tanja uti (-Kober)   F  25.0     NaN     NaN    Yugoslavia   \n",
       "\n",
       "        NOC        Games  Year  Season      City       Sport  \\\n",
       "676     GDR  1972 Summer  1972  Summer    Munich  Gymnastics   \n",
       "677     GDR  1972 Summer  1972  Summer    Munich  Gymnastics   \n",
       "678     GDR  1972 Summer  1972  Summer    Munich  Gymnastics   \n",
       "679     GDR  1972 Summer  1972  Summer    Munich  Gymnastics   \n",
       "680     GDR  1972 Summer  1972  Summer    Munich  Gymnastics   \n",
       "...     ...          ...   ...     ...       ...         ...   \n",
       "270906  YUG  1952 Summer  1952  Summer  Helsinki  Gymnastics   \n",
       "270908  YUG  1952 Summer  1952  Summer  Helsinki  Gymnastics   \n",
       "270909  YUG  1952 Summer  1952  Summer  Helsinki  Gymnastics   \n",
       "270910  YUG  1952 Summer  1952  Summer  Helsinki  Gymnastics   \n",
       "270911  YUG  1952 Summer  1952  Summer  Helsinki  Gymnastics   \n",
       "\n",
       "                                     Event   Medal  \n",
       "676                             All-Around     NaN  \n",
       "677     Gymnastics Women's Team All-Around  Silver  \n",
       "678      Gymnastics Women's Floor Exercise     NaN  \n",
       "679         Gymnastics Women's Horse Vault     NaN  \n",
       "680         Gymnastics Women's Uneven Bars     NaN  \n",
       "...                                    ...     ...  \n",
       "270906  Gymnastics Women's Team All-Around     NaN  \n",
       "270908   Gymnastics Women's Floor Exercise     NaN  \n",
       "270909      Gymnastics Women's Horse Vault     NaN  \n",
       "270910      Gymnastics Women's Uneven Bars     NaN  \n",
       "270911     Gymnastics Women's Balance Beam     NaN  \n",
       "\n",
       "[8947 rows x 15 columns]"
      ]
     },
     "execution_count": 10,
     "metadata": {},
     "output_type": "execute_result"
    }
   ],
   "source": [
    "womens"
   ]
  },
  {
   "cell_type": "code",
   "execution_count": 11,
   "id": "5585505b",
   "metadata": {},
   "outputs": [
    {
     "name": "stderr",
     "output_type": "stream",
     "text": [
      "/var/folders/j_/555m2zps099832fjh_m8jjnc0000gn/T/ipykernel_12465/316859081.py:9: SettingWithCopyWarning: \n",
      "A value is trying to be set on a copy of a slice from a DataFrame.\n",
      "Try using .loc[row_indexer,col_indexer] = value instead\n",
      "\n",
      "See the caveats in the documentation: https://pandas.pydata.org/pandas-docs/stable/user_guide/indexing.html#returning-a-view-versus-a-copy\n",
      "  womens['Event'] = womens['Event'].str.replace(old_event, new_event)\n"
     ]
    }
   ],
   "source": [
    "event_mapping = {\n",
    "    \"Gymnastics Women's Team All-Around\": \"Team\",\n",
    "    \"Gymnastics Women's Horse Vault\": \"Vault\",\n",
    "    \"Gymnastics Women's Balance Beam\": \"Balance Beam\",\n",
    "    \"Gymnastics Women's Uneven Bars\": \"Uneven Bars\"\n",
    "}\n",
    "\n",
    "for old_event, new_event in event_mapping.items():\n",
    "    womens['Event'] = womens['Event'].str.replace(old_event, new_event)\n"
   ]
  },
  {
   "cell_type": "code",
   "execution_count": 12,
   "id": "fe77d008",
   "metadata": {},
   "outputs": [
    {
     "data": {
      "text/plain": [
       "676                              All-Around\n",
       "677                                    Team\n",
       "678       Gymnastics Women's Floor Exercise\n",
       "679                                   Vault\n",
       "680                             Uneven Bars\n",
       "                        ...                \n",
       "270906                                 Team\n",
       "270908    Gymnastics Women's Floor Exercise\n",
       "270909                                Vault\n",
       "270910                          Uneven Bars\n",
       "270911                         Balance Beam\n",
       "Name: Event, Length: 8947, dtype: object"
      ]
     },
     "execution_count": 12,
     "metadata": {},
     "output_type": "execute_result"
    }
   ],
   "source": [
    "womens[\"Event\"]"
   ]
  },
  {
   "cell_type": "code",
   "execution_count": 13,
   "id": "19d5e53e",
   "metadata": {},
   "outputs": [
    {
     "name": "stderr",
     "output_type": "stream",
     "text": [
      "/var/folders/j_/555m2zps099832fjh_m8jjnc0000gn/T/ipykernel_12465/662766916.py:1: SettingWithCopyWarning: \n",
      "A value is trying to be set on a copy of a slice from a DataFrame.\n",
      "Try using .loc[row_indexer,col_indexer] = value instead\n",
      "\n",
      "See the caveats in the documentation: https://pandas.pydata.org/pandas-docs/stable/user_guide/indexing.html#returning-a-view-versus-a-copy\n",
      "  womens['Event'] = womens['Event'].str.replace(\n"
     ]
    }
   ],
   "source": [
    "womens['Event'] = womens['Event'].str.replace(\n",
    "    'Gymnastics Women\\'s Floor Exercise', 'Floor')"
   ]
  },
  {
   "cell_type": "code",
   "execution_count": 14,
   "id": "ce3eb1b9",
   "metadata": {},
   "outputs": [
    {
     "data": {
      "text/plain": [
       "array(['All-Around', 'Team', 'Floor', 'Vault', 'Uneven Bars',\n",
       "       'Balance Beam'], dtype=object)"
      ]
     },
     "execution_count": 14,
     "metadata": {},
     "output_type": "execute_result"
    }
   ],
   "source": [
    "womens['Event'].unique()"
   ]
  },
  {
   "cell_type": "code",
   "execution_count": 15,
   "id": "833ab7cf",
   "metadata": {},
   "outputs": [
    {
     "name": "stdout",
     "output_type": "stream",
     "text": [
      "<class 'pandas.core.frame.DataFrame'>\n",
      "Index: 8947 entries, 676 to 270911\n",
      "Data columns (total 15 columns):\n",
      " #   Column  Non-Null Count  Dtype  \n",
      "---  ------  --------------  -----  \n",
      " 0   ID      8947 non-null   int64  \n",
      " 1   Name    8947 non-null   object \n",
      " 2   Sex     8947 non-null   object \n",
      " 3   Age     8867 non-null   float64\n",
      " 4   Height  7586 non-null   float64\n",
      " 5   Weight  7523 non-null   float64\n",
      " 6   Team    8947 non-null   object \n",
      " 7   NOC     8947 non-null   object \n",
      " 8   Games   8947 non-null   object \n",
      " 9   Year    8947 non-null   int64  \n",
      " 10  Season  8947 non-null   object \n",
      " 11  City    8947 non-null   object \n",
      " 12  Sport   8947 non-null   object \n",
      " 13  Event   8947 non-null   object \n",
      " 14  Medal   653 non-null    object \n",
      "dtypes: float64(3), int64(2), object(10)\n",
      "memory usage: 1.1+ MB\n"
     ]
    }
   ],
   "source": [
    "womens.info()"
   ]
  },
  {
   "cell_type": "code",
   "execution_count": 16,
   "id": "3e4df52b",
   "metadata": {},
   "outputs": [],
   "source": [
    "woman = womens"
   ]
  },
  {
   "cell_type": "code",
   "execution_count": 17,
   "id": "1fab7362",
   "metadata": {},
   "outputs": [],
   "source": [
    "# woman.to_csv('woman_big.csv', index=False)"
   ]
  },
  {
   "cell_type": "code",
   "execution_count": 19,
   "id": "b3ce9309",
   "metadata": {},
   "outputs": [],
   "source": [
    "df = womens.copy()"
   ]
  },
  {
   "cell_type": "code",
   "execution_count": null,
   "id": "10240016",
   "metadata": {},
   "outputs": [],
   "source": [
    "womens = womens.dropna(subset=['Medal'])"
   ]
  },
  {
   "cell_type": "code",
   "execution_count": null,
   "id": "195682d3",
   "metadata": {},
   "outputs": [],
   "source": [
    "womens.head()"
   ]
  },
  {
   "cell_type": "code",
   "execution_count": null,
   "id": "a248ac8e",
   "metadata": {},
   "outputs": [],
   "source": [
    "womens.info()"
   ]
  },
  {
   "cell_type": "code",
   "execution_count": null,
   "id": "a3662491",
   "metadata": {},
   "outputs": [],
   "source": [
    "womens[\"Medal\"].nunique()"
   ]
  },
  {
   "cell_type": "code",
   "execution_count": null,
   "id": "98ec1d1b",
   "metadata": {},
   "outputs": [],
   "source": []
  },
  {
   "cell_type": "code",
   "execution_count": null,
   "id": "da44d47c",
   "metadata": {},
   "outputs": [],
   "source": []
  },
  {
   "cell_type": "code",
   "execution_count": null,
   "id": "7823a343",
   "metadata": {},
   "outputs": [],
   "source": [
    "# womens.to_csv('woman_small.csv', index=False)"
   ]
  },
  {
   "cell_type": "code",
   "execution_count": null,
   "id": "b69f79f8",
   "metadata": {},
   "outputs": [],
   "source": [
    "g = sns.catplot(data=womens, kind='count', x='Team', order = womens['Team'].value_counts().index, height=4, aspect=3).set_xticklabels(rotation=90)\n",
    "g.fig.suptitle(\"Total number of Olympic medals in Women's Artistic Gymnastics: 1928-2016\")\n",
    "a = womens['Team'].value_counts().to_frame()\n",
    "a.iloc[0:10]"
   ]
  },
  {
   "cell_type": "code",
   "execution_count": null,
   "id": "75e5182c",
   "metadata": {},
   "outputs": [],
   "source": [
    "\n",
    "\n",
    "sns.set_palette('Blues')\n",
    "beam = womens.loc[womens['Event']=='Balance Beam',]\n",
    "beam.reset_index(drop=True, inplace=True)\n",
    "\n"
   ]
  },
  {
   "cell_type": "code",
   "execution_count": null,
   "id": "20803c92",
   "metadata": {},
   "outputs": [],
   "source": [
    "g = sns.catplot(data=beam, kind='count', x='Team', order = beam['Team'].value_counts().index, height=4, aspect=3).set_xticklabels(rotation=90)\n",
    "g.fig.suptitle(\"Olympic Balance Beam Medals\")\n",
    "beam['Team'].value_counts().to_frame()"
   ]
  },
  {
   "cell_type": "code",
   "execution_count": null,
   "id": "218b32eb",
   "metadata": {},
   "outputs": [],
   "source": [
    "floor = womens.loc[womens['Event']=='Floor',]\n",
    "floor.reset_index(drop=True, inplace=True)"
   ]
  },
  {
   "cell_type": "code",
   "execution_count": null,
   "id": "91799609",
   "metadata": {},
   "outputs": [],
   "source": [
    "f = sns.catplot(data=floor, kind='count', x='Team', order = floor['Team'].value_counts().index, height=4, aspect=3).set_xticklabels(rotation=90)\n",
    "f.fig.suptitle(\"Olympic Floor Exercise Medals\")\n",
    "floor['Team'].value_counts().to_frame()"
   ]
  },
  {
   "cell_type": "code",
   "execution_count": null,
   "id": "d9464397",
   "metadata": {},
   "outputs": [],
   "source": [
    "bars = womens.loc[womens['Event']=='Uneven Bars',]\n",
    "bars.reset_index(drop=True, inplace=True)"
   ]
  },
  {
   "cell_type": "code",
   "execution_count": null,
   "id": "00b3d870",
   "metadata": {},
   "outputs": [],
   "source": [
    "ub = sns.catplot(data=bars, kind='count', x='Team', order = bars['Team'].value_counts().index, height=4, aspect=3).set_xticklabels(rotation=90)\n",
    "ub.fig.suptitle(\"Olympic Uneven Bars Medals\")\n",
    "bars['Team'].value_counts().to_frame()"
   ]
  },
  {
   "cell_type": "code",
   "execution_count": null,
   "id": "b8579b07",
   "metadata": {},
   "outputs": [],
   "source": [
    "vault = womens.loc[womens['Event']=='Vault',]\n",
    "vault.reset_index(drop=True, inplace=True)\n",
    "\n",
    "v = sns.catplot(data=vault, kind='count', x='Team', order = vault['Team'].value_counts().index, height=4, aspect=3).set_xticklabels(rotation=90)\n",
    "v.fig.suptitle(\"Olympic Vault Medals\")\n",
    "vault['Team'].value_counts().to_frame()"
   ]
  },
  {
   "cell_type": "markdown",
   "id": "cb82d30b",
   "metadata": {},
   "source": [
    "# USA"
   ]
  },
  {
   "cell_type": "code",
   "execution_count": null,
   "id": "ab0adead",
   "metadata": {},
   "outputs": [],
   "source": [
    "sns.set_palette('Reds')\n",
    "usa = womens.loc[womens['Team']=='United States',]\n",
    "usa.reset_index(drop=True, inplace=True)"
   ]
  },
  {
   "cell_type": "code",
   "execution_count": null,
   "id": "117b560f",
   "metadata": {},
   "outputs": [],
   "source": [
    "u = sns.catplot(data=usa, kind='count', x='Year', height=4, aspect=3).set_xticklabels(rotation=90)\n",
    "u.fig.suptitle('Distribution of Medals')"
   ]
  },
  {
   "cell_type": "markdown",
   "id": "b096d864",
   "metadata": {},
   "source": [
    "# Team competition"
   ]
  },
  {
   "cell_type": "code",
   "execution_count": null,
   "id": "e6ff9940",
   "metadata": {},
   "outputs": [],
   "source": [
    "sns.set_palette('Blues')\n",
    "teams = womens.loc[womens['Event']=='Team',]\n",
    "teams.reset_index(drop=True, inplace=True)"
   ]
  },
  {
   "cell_type": "code",
   "execution_count": null,
   "id": "26bbcd3b",
   "metadata": {},
   "outputs": [],
   "source": [
    "t = sns.catplot(data=teams, kind='count', x='Team', height=4, aspect=3, order=teams['Team'].value_counts().index).set_xticklabels(rotation=90)\n",
    "t.fig.suptitle('Distribution of Team Medals')\n",
    "teams['Team'].value_counts().to_frame()"
   ]
  },
  {
   "cell_type": "code",
   "execution_count": null,
   "id": "ff82876f",
   "metadata": {},
   "outputs": [],
   "source": [
    "g = sns.catplot(data=womens, kind='count', x='Age', height=4, aspect=3).set_xticklabels(rotation=90)\n",
    "g.fig.suptitle('WAG Olympic Gymnasts: Age of Gymnast')"
   ]
  },
  {
   "cell_type": "code",
   "execution_count": null,
   "id": "d0c54957",
   "metadata": {},
   "outputs": [],
   "source": [
    "womens['Age'].value_counts().to_frame()"
   ]
  },
  {
   "cell_type": "markdown",
   "id": "f69c7b6a",
   "metadata": {},
   "source": [
    "## Post Perfect-10 era\n",
    "\n",
    "- Long-time gymnastics fans will remember when scoring for WAG was out of 10, and gymnasts strived to score a perfect 10 after Nadia Comaneci became the first to do so at the 1976 Olympics.\n",
    "- After the 2004 Olympics, the open-ended scoring system began. Competition scores were now a combination of difficulty and execution scores.\n",
    "- For the past several quads, teams like the USA have been dominating team competitions and All-Around while historically strong teams such as Russia, China, and Romania have become slightly (Russia, China) less prominent (Romania failed to qualify a team to the 2016 Rio Olympic Games).\n",
    "\n"
   ]
  },
  {
   "cell_type": "code",
   "execution_count": null,
   "id": "59f8b290",
   "metadata": {},
   "outputs": [],
   "source": [
    "modern = womens.loc[womens['Year'].isin([2008, 2012, 2016])]"
   ]
  },
  {
   "cell_type": "code",
   "execution_count": null,
   "id": "0f36535e",
   "metadata": {},
   "outputs": [],
   "source": [
    "modern['Year'].unique()"
   ]
  },
  {
   "cell_type": "code",
   "execution_count": null,
   "id": "eea03381",
   "metadata": {},
   "outputs": [],
   "source": [
    "womens.info()"
   ]
  },
  {
   "cell_type": "code",
   "execution_count": null,
   "id": "665cdb27",
   "metadata": {},
   "outputs": [],
   "source": [
    "g = sns.catplot(data=modern, kind='count', x='NOC', order = modern['NOC'].value_counts().index).set_xticklabels(rotation=90)\n",
    "g.fig.suptitle(\"Medal count by Country: Open-ended scoring\")\n",
    "modern['NOC'].value_counts().to_frame()"
   ]
  },
  {
   "cell_type": "code",
   "execution_count": null,
   "id": "e12d4f9f",
   "metadata": {},
   "outputs": [],
   "source": [
    "g = sns.catplot(data=modern, kind='count', x='Age', height=4, aspect=3).set_xticklabels(rotation=90)\n",
    "modern['Age'].value_counts().to_frame()"
   ]
  },
  {
   "cell_type": "code",
   "execution_count": null,
   "id": "c4a96bb1",
   "metadata": {},
   "outputs": [],
   "source": [
    "grouped_modern = modern.groupby('NOC')\n",
    "grouped_modern['Event'].value_counts().to_frame()"
   ]
  },
  {
   "cell_type": "code",
   "execution_count": null,
   "id": "782a45f7",
   "metadata": {},
   "outputs": [],
   "source": [
    "modern.head()"
   ]
  },
  {
   "cell_type": "code",
   "execution_count": null,
   "id": "33dbc212",
   "metadata": {},
   "outputs": [],
   "source": [
    "modern[\"Age\"].value_counts()"
   ]
  },
  {
   "cell_type": "code",
   "execution_count": null,
   "id": "5292c3c7",
   "metadata": {},
   "outputs": [],
   "source": []
  },
  {
   "cell_type": "code",
   "execution_count": null,
   "id": "78957754",
   "metadata": {},
   "outputs": [],
   "source": []
  },
  {
   "cell_type": "markdown",
   "id": "7827c94e",
   "metadata": {},
   "source": [
    "# My EDA"
   ]
  },
  {
   "cell_type": "code",
   "execution_count": null,
   "id": "31a44278",
   "metadata": {},
   "outputs": [],
   "source": [
    "dfs = raw_data = pd.read_csv('athlete_events.csv')\n"
   ]
  },
  {
   "cell_type": "code",
   "execution_count": null,
   "id": "961078e1",
   "metadata": {},
   "outputs": [],
   "source": [
    "dfs = raw_data.loc[raw_data['Sport']=='Gymnastics']"
   ]
  },
  {
   "cell_type": "code",
   "execution_count": null,
   "id": "357428e6",
   "metadata": {},
   "outputs": [],
   "source": [
    "#Filter out the women's events: I'm just interested in Women's Artistic Gymnastics\n",
    "women_events = ['Gymnastics Women\\'s Individual All-Around', 'Gymnastics Women\\'s Team All-Around', 'Gymnastics Women\\'s Horse Vault', 'Gymnastics Women\\'s Floor Exercise',\n",
    "               'Gymnastics Women\\'s Uneven Bars', 'Gymnastics Women\\'s Balance Beam']\n",
    "dfs = dfs.loc[df['Event'].isin(women_events)]"
   ]
  },
  {
   "cell_type": "code",
   "execution_count": null,
   "id": "6c8c3fb8",
   "metadata": {},
   "outputs": [],
   "source": [
    "dfs.info()"
   ]
  },
  {
   "cell_type": "code",
   "execution_count": null,
   "id": "e5cb5a75",
   "metadata": {},
   "outputs": [],
   "source": [
    "dfs[\"Sport\"].nunique()"
   ]
  },
  {
   "cell_type": "code",
   "execution_count": null,
   "id": "87cae660",
   "metadata": {},
   "outputs": [],
   "source": [
    "dfs[\"Sex\"].nunique()"
   ]
  },
  {
   "cell_type": "code",
   "execution_count": null,
   "id": "c4e18001",
   "metadata": {},
   "outputs": [],
   "source": [
    "dfs[\"Event\"].nunique()"
   ]
  },
  {
   "cell_type": "code",
   "execution_count": null,
   "id": "dd805825",
   "metadata": {},
   "outputs": [],
   "source": [
    "dfs[\"Medal\"].nunique()"
   ]
  },
  {
   "cell_type": "code",
   "execution_count": null,
   "id": "ecd4e4e6",
   "metadata": {},
   "outputs": [],
   "source": [
    "usa = dfs[dfs[\"NOC\"]== \"USA\"]"
   ]
  },
  {
   "cell_type": "code",
   "execution_count": null,
   "id": "ce864f36",
   "metadata": {},
   "outputs": [],
   "source": [
    "usa92 = usa[usa['Year'] >= 1992]"
   ]
  },
  {
   "cell_type": "code",
   "execution_count": null,
   "id": "e2b69a78",
   "metadata": {},
   "outputs": [],
   "source": [
    "usa92[\"Name\"]"
   ]
  },
  {
   "cell_type": "code",
   "execution_count": null,
   "id": "901c4e30",
   "metadata": {},
   "outputs": [],
   "source": [
    "names_by_year = usa92.groupby('Year')['Name'].unique().reset_index()\n",
    "names_list = names_by_year.values.tolist()\n",
    "names_list"
   ]
  },
  {
   "cell_type": "code",
   "execution_count": null,
   "id": "2910c3fd",
   "metadata": {},
   "outputs": [],
   "source": [
    "names_by_year[\"Name\"]"
   ]
  },
  {
   "cell_type": "code",
   "execution_count": null,
   "id": "0bb5ef68",
   "metadata": {},
   "outputs": [],
   "source": []
  },
  {
   "cell_type": "code",
   "execution_count": null,
   "id": "9171422f",
   "metadata": {},
   "outputs": [],
   "source": []
  },
  {
   "cell_type": "code",
   "execution_count": null,
   "id": "70038c19",
   "metadata": {},
   "outputs": [],
   "source": []
  },
  {
   "cell_type": "code",
   "execution_count": null,
   "id": "a36c1091",
   "metadata": {},
   "outputs": [],
   "source": [
    "dfs=dfs.drop(columns=[\"Sport\", \"Sex\", \"Season\"])\n"
   ]
  },
  {
   "cell_type": "code",
   "execution_count": null,
   "id": "2c0198c9",
   "metadata": {},
   "outputs": [],
   "source": [
    "dfs.head()"
   ]
  },
  {
   "cell_type": "code",
   "execution_count": null,
   "id": "24a005ee",
   "metadata": {},
   "outputs": [],
   "source": [
    "dfs[\"Event\"].nunique()"
   ]
  },
  {
   "cell_type": "code",
   "execution_count": null,
   "id": "01b249be",
   "metadata": {},
   "outputs": [],
   "source": [
    "dfs[\"ID\"].nunique()"
   ]
  },
  {
   "cell_type": "code",
   "execution_count": null,
   "id": "9b82d29c",
   "metadata": {},
   "outputs": [],
   "source": [
    "dfs[\"Name\"].nunique()"
   ]
  },
  {
   "cell_type": "code",
   "execution_count": null,
   "id": "0c21f324",
   "metadata": {},
   "outputs": [],
   "source": [
    "df1 = dfs"
   ]
  },
  {
   "cell_type": "code",
   "execution_count": null,
   "id": "d2c4dc5b",
   "metadata": {},
   "outputs": [],
   "source": [
    "df1.info()"
   ]
  },
  {
   "cell_type": "code",
   "execution_count": null,
   "id": "47a88392",
   "metadata": {},
   "outputs": [],
   "source": [
    "df1[\"Team\"].nunique()"
   ]
  },
  {
   "cell_type": "code",
   "execution_count": null,
   "id": "e53349aa",
   "metadata": {},
   "outputs": [],
   "source": [
    "df1[\"NOC\"].nunique()"
   ]
  },
  {
   "cell_type": "code",
   "execution_count": null,
   "id": "f095b3d2",
   "metadata": {},
   "outputs": [],
   "source": [
    "df1[\"Games\"].nunique()"
   ]
  },
  {
   "cell_type": "code",
   "execution_count": null,
   "id": "2e8bedd5",
   "metadata": {},
   "outputs": [],
   "source": [
    "df1[\"City\"].nunique()"
   ]
  },
  {
   "cell_type": "code",
   "execution_count": null,
   "id": "7d001ce6",
   "metadata": {},
   "outputs": [],
   "source": [
    "df1[\"Event\"].nunique()"
   ]
  },
  {
   "cell_type": "code",
   "execution_count": null,
   "id": "de643b39",
   "metadata": {},
   "outputs": [],
   "source": [
    "df1[\"Medal\"].nunique()"
   ]
  },
  {
   "cell_type": "code",
   "execution_count": null,
   "id": "a93b902b",
   "metadata": {},
   "outputs": [],
   "source": [
    "df1.tail()"
   ]
  },
  {
   "cell_type": "code",
   "execution_count": null,
   "id": "14f26b32",
   "metadata": {},
   "outputs": [],
   "source": [
    "df1 = df1.drop(columns=[\"NOC\"])"
   ]
  },
  {
   "cell_type": "code",
   "execution_count": null,
   "id": "5a8e47f9",
   "metadata": {},
   "outputs": [],
   "source": [
    "df1.describe()"
   ]
  },
  {
   "cell_type": "code",
   "execution_count": null,
   "id": "4b3555b7",
   "metadata": {},
   "outputs": [],
   "source": [
    "df1.info()"
   ]
  },
  {
   "cell_type": "code",
   "execution_count": null,
   "id": "81e05698",
   "metadata": {},
   "outputs": [],
   "source": [
    "df1[\"Games_code\"] = df1[\"Games\"].astype(\"category\").cat.codes"
   ]
  },
  {
   "cell_type": "code",
   "execution_count": null,
   "id": "0b3cbb2b",
   "metadata": {},
   "outputs": [],
   "source": [
    "df1[\"Team_code\"] = df1[\"Team\"].astype(\"category\").cat.codes"
   ]
  },
  {
   "cell_type": "code",
   "execution_count": null,
   "id": "202545d1",
   "metadata": {},
   "outputs": [],
   "source": [
    "df1[\"City_code\"] = df1[\"City\"].astype(\"category\").cat.codes"
   ]
  },
  {
   "cell_type": "code",
   "execution_count": null,
   "id": "91d449e4",
   "metadata": {},
   "outputs": [],
   "source": [
    "df1[\"Event_code\"] = df1[\"Event\"].astype(\"category\").cat.codes"
   ]
  },
  {
   "cell_type": "code",
   "execution_count": null,
   "id": "f3fa4a90",
   "metadata": {},
   "outputs": [],
   "source": [
    "df1.head()"
   ]
  },
  {
   "cell_type": "code",
   "execution_count": null,
   "id": "b3d193dc",
   "metadata": {},
   "outputs": [],
   "source": [
    "df1 = df1.drop(columns=[\"Team\", \"City\", \"Event\", \"Games\"])"
   ]
  },
  {
   "cell_type": "code",
   "execution_count": null,
   "id": "ec384c79",
   "metadata": {},
   "outputs": [],
   "source": [
    "df1"
   ]
  },
  {
   "cell_type": "code",
   "execution_count": null,
   "id": "fea11ca8",
   "metadata": {},
   "outputs": [],
   "source": [
    "\n",
    "# Count of entries with a medal but no height or weight\n",
    "count = 0\n",
    "\n",
    "for index, row in df1.iterrows():\n",
    "    if row['Medal'] is not np.nan and (pd.isnull(row['Height']) or pd.isnull(row['Weight'])):\n",
    "        count += 1\n",
    "\n",
    "print(\"Number of entries with a medal but no height or weight:\", count)\n"
   ]
  },
  {
   "cell_type": "code",
   "execution_count": null,
   "id": "ecd96678",
   "metadata": {},
   "outputs": [],
   "source": [
    "df1"
   ]
  },
  {
   "cell_type": "code",
   "execution_count": null,
   "id": "58e483da",
   "metadata": {},
   "outputs": [],
   "source": [
    "df1.info()"
   ]
  },
  {
   "cell_type": "code",
   "execution_count": null,
   "id": "8b7b2d66",
   "metadata": {},
   "outputs": [],
   "source": [
    "df1[\"Medal\"]"
   ]
  },
  {
   "cell_type": "code",
   "execution_count": null,
   "id": "88940e58",
   "metadata": {},
   "outputs": [],
   "source": [
    "df1[\"Medal_code\"] = df1[\"Medal\"].astype(\"category\").cat.codes"
   ]
  },
  {
   "cell_type": "code",
   "execution_count": null,
   "id": "dafeac90",
   "metadata": {},
   "outputs": [],
   "source": [
    "df1=df1.drop(columns=[\"Medal\"])"
   ]
  },
  {
   "cell_type": "code",
   "execution_count": null,
   "id": "9ee5fe6d",
   "metadata": {},
   "outputs": [],
   "source": [
    "df1.fillna(0, inplace=True)\n"
   ]
  },
  {
   "cell_type": "code",
   "execution_count": null,
   "id": "8e91434d",
   "metadata": {},
   "outputs": [],
   "source": [
    "df1.info()"
   ]
  },
  {
   "cell_type": "code",
   "execution_count": null,
   "id": "9875776a",
   "metadata": {},
   "outputs": [],
   "source": [
    "df3 = df1.drop(columns=[\"Name\"])\n",
    "named = df1.drop(columns=[\"Name\"])"
   ]
  },
  {
   "cell_type": "code",
   "execution_count": null,
   "id": "118e6ab8",
   "metadata": {},
   "outputs": [],
   "source": [
    "df3[\"Medal_code\"]"
   ]
  },
  {
   "cell_type": "code",
   "execution_count": null,
   "id": "63955587",
   "metadata": {},
   "outputs": [],
   "source": [
    "df3.info()"
   ]
  },
  {
   "cell_type": "code",
   "execution_count": null,
   "id": "1348b010",
   "metadata": {},
   "outputs": [],
   "source": [
    "df3[\"Medal_code\"].nunique()"
   ]
  },
  {
   "cell_type": "code",
   "execution_count": null,
   "id": "5e185e09",
   "metadata": {},
   "outputs": [],
   "source": [
    "# df3.to_csv('big_nums.csv', index=False)"
   ]
  },
  {
   "cell_type": "code",
   "execution_count": null,
   "id": "8c1692d7",
   "metadata": {},
   "outputs": [],
   "source": [
    "df3[df3[\"Medal_code\"]==-1].sum()"
   ]
  },
  {
   "cell_type": "code",
   "execution_count": null,
   "id": "cf18185e",
   "metadata": {},
   "outputs": [],
   "source": [
    "df3[df3[\"Medal_code\"]==1].sum()"
   ]
  },
  {
   "cell_type": "code",
   "execution_count": null,
   "id": "5c0dc715",
   "metadata": {},
   "outputs": [],
   "source": [
    "newdf = df3.drop(columns=[\"Medal_code\"])"
   ]
  },
  {
   "cell_type": "code",
   "execution_count": null,
   "id": "be4bfbf6",
   "metadata": {},
   "outputs": [],
   "source": [
    "# newdf.to_csv('small_nums.csv', index=False)"
   ]
  },
  {
   "cell_type": "code",
   "execution_count": null,
   "id": "d439ec61",
   "metadata": {},
   "outputs": [],
   "source": []
  },
  {
   "cell_type": "code",
   "execution_count": null,
   "id": "1b7523e2",
   "metadata": {},
   "outputs": [],
   "source": [
    "df1"
   ]
  },
  {
   "cell_type": "code",
   "execution_count": null,
   "id": "0cc0b37c",
   "metadata": {},
   "outputs": [],
   "source": [
    "# Setting random_state for reproducibility\n",
    "df_randomized = df3.sample(frac=1, random_state=42) \n",
    "df2 = df_randomized"
   ]
  },
  {
   "cell_type": "code",
   "execution_count": null,
   "id": "e8d2dd02",
   "metadata": {},
   "outputs": [],
   "source": [
    "import pandas as pd\n",
    "from sklearn.model_selection import train_test_split\n",
    "from sklearn.preprocessing import StandardScaler\n",
    "from sklearn.linear_model import LogisticRegression\n",
    "from sklearn.metrics import accuracy_score\n"
   ]
  },
  {
   "cell_type": "code",
   "execution_count": null,
   "id": "2a444e3c",
   "metadata": {},
   "outputs": [],
   "source": [
    "# Assuming df is your DataFrame\n",
    "X = df2.drop('Medal_code', axis=1)  # Features\n",
    "y = df2['Medal_code']  # Target variable\n",
    "\n",
    "# Split the data into training and testing sets\n",
    "X_train, X_test, y_train, y_test = train_test_split(X, y, test_size=0.2, random_state=42)\n"
   ]
  },
  {
   "cell_type": "code",
   "execution_count": null,
   "id": "8fc8247f",
   "metadata": {},
   "outputs": [],
   "source": [
    "# Standardize the features\n",
    "scaler = StandardScaler()\n",
    "X_train_scaled = scaler.fit_transform(X_train)\n",
    "X_test_scaled = scaler.transform(X_test)\n",
    "\n",
    "# Create a Logistic Regression model\n",
    "model = LogisticRegression(random_state=42)\n",
    "\n",
    "# Train the model\n",
    "model.fit(X_train_scaled, y_train)\n",
    "\n",
    "# Make predictions\n",
    "y_pred = model.predict(X_test_scaled)\n",
    "\n",
    "# Evaluate the model\n",
    "accuracy = accuracy_score(y_test, y_pred)\n",
    "print(\"Accuracy:\", accuracy)"
   ]
  },
  {
   "cell_type": "code",
   "execution_count": null,
   "id": "bab49a0b",
   "metadata": {},
   "outputs": [],
   "source": [
    "results_df = pd.DataFrame({'Actual': y_test, 'Predicted': y_pred})"
   ]
  },
  {
   "cell_type": "code",
   "execution_count": null,
   "id": "b344a99c",
   "metadata": {},
   "outputs": [],
   "source": [
    "incorrect_predictions = results_df[results_df['Actual'] != results_df['Predicted']]\n",
    "print(incorrect_predictions)"
   ]
  },
  {
   "cell_type": "code",
   "execution_count": null,
   "id": "45448920",
   "metadata": {},
   "outputs": [],
   "source": [
    "results_df[\"Predicted\"].nunique()"
   ]
  },
  {
   "cell_type": "code",
   "execution_count": null,
   "id": "e5874535",
   "metadata": {},
   "outputs": [],
   "source": [
    "import pandas as pd\n",
    "from sklearn.model_selection import train_test_split\n",
    "from sklearn.ensemble import RandomForestClassifier\n",
    "from sklearn.metrics import accuracy_score\n",
    "\n",
    "\n",
    "# Create a Random Forest classifier model\n",
    "model = RandomForestClassifier(random_state=42)\n",
    "\n",
    "# Train the model\n",
    "model.fit(X_train, y_train)\n",
    "\n",
    "# Make predictions\n",
    "y_pred = model.predict(X_test)\n",
    "\n",
    "# Evaluate the model\n",
    "accuracy = accuracy_score(y_test, y_pred)\n",
    "print(\"Accuracy:\", accuracy)\n",
    "\n",
    "# Create a DataFrame to show incorrect predictions\n",
    "results_df = pd.DataFrame({'Actual': y_test, 'Predicted': y_pred})\n",
    "incorrect_predictions = results_df[results_df['Actual'] != results_df['Predicted']]\n",
    "print(\"Incorrect Predictions:\")\n",
    "print(incorrect_predictions)\n",
    "print(f'number of unique predictions: {results_df[\"Predicted\"].nunique()} ')"
   ]
  },
  {
   "cell_type": "code",
   "execution_count": null,
   "id": "caca1781",
   "metadata": {},
   "outputs": [],
   "source": [
    "df1"
   ]
  },
  {
   "cell_type": "code",
   "execution_count": null,
   "id": "e32d8f01",
   "metadata": {},
   "outputs": [],
   "source": [
    "results_df"
   ]
  },
  {
   "cell_type": "code",
   "execution_count": null,
   "id": "68d26718",
   "metadata": {},
   "outputs": [],
   "source": [
    "combined_df = pd.concat([df1, results_df], axis=1)"
   ]
  },
  {
   "cell_type": "code",
   "execution_count": null,
   "id": "4fac4d4d",
   "metadata": {},
   "outputs": [],
   "source": [
    "combined_df = combined_df.dropna()"
   ]
  },
  {
   "cell_type": "code",
   "execution_count": null,
   "id": "0363fc04",
   "metadata": {},
   "outputs": [],
   "source": [
    "combined_df"
   ]
  },
  {
   "cell_type": "code",
   "execution_count": null,
   "id": "2bb3ab6b",
   "metadata": {},
   "outputs": [],
   "source": []
  },
  {
   "cell_type": "code",
   "execution_count": null,
   "id": "5e38c232",
   "metadata": {},
   "outputs": [],
   "source": [
    "filtered_df = combined_df.loc[combined_df[\"Medal_code\"] != -1]\n",
    "filtered_df"
   ]
  },
  {
   "cell_type": "code",
   "execution_count": null,
   "id": "e334deb3",
   "metadata": {},
   "outputs": [],
   "source": [
    "filtered_df[\"ID\"].nunique()"
   ]
  },
  {
   "cell_type": "code",
   "execution_count": null,
   "id": "8abc6f59",
   "metadata": {},
   "outputs": [],
   "source": [
    "woman.info()"
   ]
  },
  {
   "cell_type": "code",
   "execution_count": null,
   "id": "5d82c022",
   "metadata": {},
   "outputs": [],
   "source": [
    "woman"
   ]
  },
  {
   "cell_type": "code",
   "execution_count": null,
   "id": "6cf2d64a",
   "metadata": {},
   "outputs": [],
   "source": [
    "woman['Medal'].fillna('None', inplace=True)"
   ]
  },
  {
   "cell_type": "code",
   "execution_count": null,
   "id": "9c1ccaac",
   "metadata": {},
   "outputs": [],
   "source": [
    "woman[\"Medal\"].value_counts()\n"
   ]
  },
  {
   "cell_type": "code",
   "execution_count": null,
   "id": "1295fc6d",
   "metadata": {},
   "outputs": [],
   "source": [
    "woman.info()"
   ]
  },
  {
   "cell_type": "code",
   "execution_count": null,
   "id": "80bdd32e",
   "metadata": {},
   "outputs": [],
   "source": [
    "average_weight = woman['Weight'].mean()\n",
    "\n",
    "# Replace NaN values with the calculated average\n",
    "woman['Weight'].fillna(average_weight, inplace=True)"
   ]
  },
  {
   "cell_type": "code",
   "execution_count": null,
   "id": "a4debb06",
   "metadata": {},
   "outputs": [],
   "source": [
    "woman.info()"
   ]
  },
  {
   "cell_type": "code",
   "execution_count": null,
   "id": "e3a359a2",
   "metadata": {},
   "outputs": [],
   "source": [
    "average_weight = woman['Height'].mean()\n",
    "\n",
    "# Replace NaN values with the calculated average\n",
    "woman['Height'].fillna(average_weight, inplace=True)"
   ]
  },
  {
   "cell_type": "code",
   "execution_count": null,
   "id": "957515a5",
   "metadata": {},
   "outputs": [],
   "source": [
    "woman.info()"
   ]
  },
  {
   "cell_type": "code",
   "execution_count": null,
   "id": "cd5db1bc",
   "metadata": {},
   "outputs": [],
   "source": [
    "woman.isnull().sum()"
   ]
  },
  {
   "cell_type": "code",
   "execution_count": null,
   "id": "894b4af8",
   "metadata": {},
   "outputs": [],
   "source": [
    "woman = woman.dropna()"
   ]
  },
  {
   "cell_type": "code",
   "execution_count": null,
   "id": "f7ac24e6",
   "metadata": {},
   "outputs": [],
   "source": [
    "woman.info()"
   ]
  },
  {
   "cell_type": "code",
   "execution_count": null,
   "id": "69d6b472",
   "metadata": {},
   "outputs": [],
   "source": []
  },
  {
   "cell_type": "code",
   "execution_count": null,
   "id": "f4c3554c",
   "metadata": {},
   "outputs": [],
   "source": [
    "import pandas as pd\n",
    "import matplotlib.pyplot as plt\n",
    "\n",
    "df = woman.copy()\n",
    "\n",
    "# Group the data by 'Year' and calculate the average age and height for each year\n",
    "yearly_stats = df.groupby('Year')[['Age', 'Height']].mean().reset_index()\n",
    "\n",
    "\n",
    "yearly_stats"
   ]
  },
  {
   "cell_type": "code",
   "execution_count": null,
   "id": "342782ef",
   "metadata": {},
   "outputs": [],
   "source": [
    "medals = woman[woman[\"Medal\"] != \"None\"]"
   ]
  },
  {
   "cell_type": "code",
   "execution_count": null,
   "id": "c72c950f",
   "metadata": {},
   "outputs": [],
   "source": [
    "medals"
   ]
  },
  {
   "cell_type": "code",
   "execution_count": null,
   "id": "f000ea3e",
   "metadata": {},
   "outputs": [],
   "source": [
    "medal_stats = medals.groupby('Year')[['Age', 'Height']].mean().reset_index()\n"
   ]
  },
  {
   "cell_type": "code",
   "execution_count": null,
   "id": "91922e8a",
   "metadata": {},
   "outputs": [],
   "source": [
    "medal_stats"
   ]
  },
  {
   "cell_type": "code",
   "execution_count": null,
   "id": "302b8de9",
   "metadata": {},
   "outputs": [],
   "source": [
    "import matplotlib.pyplot as plt\n",
    "\n",
    "plt.plot(medal_stats['Year'].values, medal_stats['Age'].values)\n"
   ]
  },
  {
   "cell_type": "code",
   "execution_count": null,
   "id": "dda39bc3",
   "metadata": {},
   "outputs": [],
   "source": [
    "import matplotlib.pyplot as plt\n",
    "\n",
    "plt.plot(medal_stats['Year'].values, medal_stats['Height'].values)\n"
   ]
  },
  {
   "cell_type": "code",
   "execution_count": 21,
   "id": "f7766a94",
   "metadata": {},
   "outputs": [],
   "source": [
    "df=df.drop(columns=[\"Sex\", \"Team\", \"Games\", \"Season\", \"City\", \"Sport\"])"
   ]
  },
  {
   "cell_type": "code",
   "execution_count": 24,
   "id": "7baea539",
   "metadata": {},
   "outputs": [
    {
     "name": "stdout",
     "output_type": "stream",
     "text": [
      "<class 'pandas.core.frame.DataFrame'>\n",
      "Index: 8947 entries, 676 to 270911\n",
      "Data columns (total 9 columns):\n",
      " #   Column  Non-Null Count  Dtype  \n",
      "---  ------  --------------  -----  \n",
      " 0   ID      8947 non-null   int64  \n",
      " 1   Name    8947 non-null   object \n",
      " 2   Age     8867 non-null   float64\n",
      " 3   Height  7586 non-null   float64\n",
      " 4   Weight  7523 non-null   float64\n",
      " 5   NOC     8947 non-null   object \n",
      " 6   Year    8947 non-null   int64  \n",
      " 7   Event   8947 non-null   object \n",
      " 8   Medal   653 non-null    object \n",
      "dtypes: float64(3), int64(2), object(4)\n",
      "memory usage: 699.0+ KB\n"
     ]
    }
   ],
   "source": [
    "df.info()"
   ]
  },
  {
   "cell_type": "code",
   "execution_count": 25,
   "id": "2458a4aa",
   "metadata": {},
   "outputs": [],
   "source": [
    "# Calculate the average of the column\n",
    "Height = df['Height'].mean()\n",
    "Weight = df['Weight'].mean()\n",
    "Age = df['Age'].mean()\n",
    "\n",
    "\n",
    "# Fill missing values with the average\n",
    "df['Height'].fillna(Height, inplace=True)\n",
    "df['Weight'].fillna(Weight, inplace=True)\n",
    "df['Age'].fillna(Age, inplace=True)"
   ]
  },
  {
   "cell_type": "code",
   "execution_count": 27,
   "id": "b327190a",
   "metadata": {},
   "outputs": [
    {
     "name": "stdout",
     "output_type": "stream",
     "text": [
      "<class 'pandas.core.frame.DataFrame'>\n",
      "Index: 8947 entries, 676 to 270911\n",
      "Data columns (total 9 columns):\n",
      " #   Column  Non-Null Count  Dtype  \n",
      "---  ------  --------------  -----  \n",
      " 0   ID      8947 non-null   int64  \n",
      " 1   Name    8947 non-null   object \n",
      " 2   Age     8947 non-null   float64\n",
      " 3   Height  8947 non-null   float64\n",
      " 4   Weight  8947 non-null   float64\n",
      " 5   NOC     8947 non-null   object \n",
      " 6   Year    8947 non-null   int64  \n",
      " 7   Event   8947 non-null   object \n",
      " 8   Medal   653 non-null    object \n",
      "dtypes: float64(3), int64(2), object(4)\n",
      "memory usage: 699.0+ KB\n"
     ]
    }
   ],
   "source": [
    "df.info()"
   ]
  },
  {
   "cell_type": "code",
   "execution_count": 28,
   "id": "666b5a71",
   "metadata": {},
   "outputs": [],
   "source": [
    "df['Medal'].fillna(\"None\", inplace=True)"
   ]
  },
  {
   "cell_type": "code",
   "execution_count": 29,
   "id": "78d2df2c",
   "metadata": {},
   "outputs": [
    {
     "data": {
      "text/plain": [
       "ID        0\n",
       "Name      0\n",
       "Age       0\n",
       "Height    0\n",
       "Weight    0\n",
       "NOC       0\n",
       "Year      0\n",
       "Event     0\n",
       "Medal     0\n",
       "dtype: int64"
      ]
     },
     "execution_count": 29,
     "metadata": {},
     "output_type": "execute_result"
    }
   ],
   "source": [
    "df.isnull().sum()"
   ]
  },
  {
   "cell_type": "code",
   "execution_count": 31,
   "id": "8b974535",
   "metadata": {},
   "outputs": [
    {
     "data": {
      "text/html": [
       "<div>\n",
       "<style scoped>\n",
       "    .dataframe tbody tr th:only-of-type {\n",
       "        vertical-align: middle;\n",
       "    }\n",
       "\n",
       "    .dataframe tbody tr th {\n",
       "        vertical-align: top;\n",
       "    }\n",
       "\n",
       "    .dataframe thead th {\n",
       "        text-align: right;\n",
       "    }\n",
       "</style>\n",
       "<table border=\"1\" class=\"dataframe\">\n",
       "  <thead>\n",
       "    <tr style=\"text-align: right;\">\n",
       "      <th></th>\n",
       "      <th>ID</th>\n",
       "      <th>Name</th>\n",
       "      <th>Age</th>\n",
       "      <th>Height</th>\n",
       "      <th>Weight</th>\n",
       "      <th>NOC</th>\n",
       "      <th>Year</th>\n",
       "      <th>Event</th>\n",
       "      <th>Medal</th>\n",
       "    </tr>\n",
       "  </thead>\n",
       "  <tbody>\n",
       "    <tr>\n",
       "      <th>676</th>\n",
       "      <td>394</td>\n",
       "      <td>Irene Abel</td>\n",
       "      <td>19.0</td>\n",
       "      <td>160.000000</td>\n",
       "      <td>48.000000</td>\n",
       "      <td>GDR</td>\n",
       "      <td>1972</td>\n",
       "      <td>All-Around</td>\n",
       "      <td>None</td>\n",
       "    </tr>\n",
       "    <tr>\n",
       "      <th>677</th>\n",
       "      <td>394</td>\n",
       "      <td>Irene Abel</td>\n",
       "      <td>19.0</td>\n",
       "      <td>160.000000</td>\n",
       "      <td>48.000000</td>\n",
       "      <td>GDR</td>\n",
       "      <td>1972</td>\n",
       "      <td>Team</td>\n",
       "      <td>Silver</td>\n",
       "    </tr>\n",
       "    <tr>\n",
       "      <th>678</th>\n",
       "      <td>394</td>\n",
       "      <td>Irene Abel</td>\n",
       "      <td>19.0</td>\n",
       "      <td>160.000000</td>\n",
       "      <td>48.000000</td>\n",
       "      <td>GDR</td>\n",
       "      <td>1972</td>\n",
       "      <td>Floor</td>\n",
       "      <td>None</td>\n",
       "    </tr>\n",
       "    <tr>\n",
       "      <th>679</th>\n",
       "      <td>394</td>\n",
       "      <td>Irene Abel</td>\n",
       "      <td>19.0</td>\n",
       "      <td>160.000000</td>\n",
       "      <td>48.000000</td>\n",
       "      <td>GDR</td>\n",
       "      <td>1972</td>\n",
       "      <td>Vault</td>\n",
       "      <td>None</td>\n",
       "    </tr>\n",
       "    <tr>\n",
       "      <th>680</th>\n",
       "      <td>394</td>\n",
       "      <td>Irene Abel</td>\n",
       "      <td>19.0</td>\n",
       "      <td>160.000000</td>\n",
       "      <td>48.000000</td>\n",
       "      <td>GDR</td>\n",
       "      <td>1972</td>\n",
       "      <td>Uneven Bars</td>\n",
       "      <td>None</td>\n",
       "    </tr>\n",
       "    <tr>\n",
       "      <th>...</th>\n",
       "      <td>...</td>\n",
       "      <td>...</td>\n",
       "      <td>...</td>\n",
       "      <td>...</td>\n",
       "      <td>...</td>\n",
       "      <td>...</td>\n",
       "      <td>...</td>\n",
       "      <td>...</td>\n",
       "      <td>...</td>\n",
       "    </tr>\n",
       "    <tr>\n",
       "      <th>270906</th>\n",
       "      <td>135479</td>\n",
       "      <td>Tanja uti (-Kober)</td>\n",
       "      <td>25.0</td>\n",
       "      <td>156.117585</td>\n",
       "      <td>47.742789</td>\n",
       "      <td>YUG</td>\n",
       "      <td>1952</td>\n",
       "      <td>Team</td>\n",
       "      <td>None</td>\n",
       "    </tr>\n",
       "    <tr>\n",
       "      <th>270908</th>\n",
       "      <td>135479</td>\n",
       "      <td>Tanja uti (-Kober)</td>\n",
       "      <td>25.0</td>\n",
       "      <td>156.117585</td>\n",
       "      <td>47.742789</td>\n",
       "      <td>YUG</td>\n",
       "      <td>1952</td>\n",
       "      <td>Floor</td>\n",
       "      <td>None</td>\n",
       "    </tr>\n",
       "    <tr>\n",
       "      <th>270909</th>\n",
       "      <td>135479</td>\n",
       "      <td>Tanja uti (-Kober)</td>\n",
       "      <td>25.0</td>\n",
       "      <td>156.117585</td>\n",
       "      <td>47.742789</td>\n",
       "      <td>YUG</td>\n",
       "      <td>1952</td>\n",
       "      <td>Vault</td>\n",
       "      <td>None</td>\n",
       "    </tr>\n",
       "    <tr>\n",
       "      <th>270910</th>\n",
       "      <td>135479</td>\n",
       "      <td>Tanja uti (-Kober)</td>\n",
       "      <td>25.0</td>\n",
       "      <td>156.117585</td>\n",
       "      <td>47.742789</td>\n",
       "      <td>YUG</td>\n",
       "      <td>1952</td>\n",
       "      <td>Uneven Bars</td>\n",
       "      <td>None</td>\n",
       "    </tr>\n",
       "    <tr>\n",
       "      <th>270911</th>\n",
       "      <td>135479</td>\n",
       "      <td>Tanja uti (-Kober)</td>\n",
       "      <td>25.0</td>\n",
       "      <td>156.117585</td>\n",
       "      <td>47.742789</td>\n",
       "      <td>YUG</td>\n",
       "      <td>1952</td>\n",
       "      <td>Balance Beam</td>\n",
       "      <td>None</td>\n",
       "    </tr>\n",
       "  </tbody>\n",
       "</table>\n",
       "<p>8947 rows × 9 columns</p>\n",
       "</div>"
      ],
      "text/plain": [
       "            ID                Name   Age      Height     Weight  NOC  Year  \\\n",
       "676        394          Irene Abel  19.0  160.000000  48.000000  GDR  1972   \n",
       "677        394          Irene Abel  19.0  160.000000  48.000000  GDR  1972   \n",
       "678        394          Irene Abel  19.0  160.000000  48.000000  GDR  1972   \n",
       "679        394          Irene Abel  19.0  160.000000  48.000000  GDR  1972   \n",
       "680        394          Irene Abel  19.0  160.000000  48.000000  GDR  1972   \n",
       "...        ...                 ...   ...         ...        ...  ...   ...   \n",
       "270906  135479  Tanja uti (-Kober)  25.0  156.117585  47.742789  YUG  1952   \n",
       "270908  135479  Tanja uti (-Kober)  25.0  156.117585  47.742789  YUG  1952   \n",
       "270909  135479  Tanja uti (-Kober)  25.0  156.117585  47.742789  YUG  1952   \n",
       "270910  135479  Tanja uti (-Kober)  25.0  156.117585  47.742789  YUG  1952   \n",
       "270911  135479  Tanja uti (-Kober)  25.0  156.117585  47.742789  YUG  1952   \n",
       "\n",
       "               Event   Medal  \n",
       "676       All-Around    None  \n",
       "677             Team  Silver  \n",
       "678            Floor    None  \n",
       "679            Vault    None  \n",
       "680      Uneven Bars    None  \n",
       "...              ...     ...  \n",
       "270906          Team    None  \n",
       "270908         Floor    None  \n",
       "270909         Vault    None  \n",
       "270910   Uneven Bars    None  \n",
       "270911  Balance Beam    None  \n",
       "\n",
       "[8947 rows x 9 columns]"
      ]
     },
     "execution_count": 31,
     "metadata": {},
     "output_type": "execute_result"
    }
   ],
   "source": [
    "df"
   ]
  },
  {
   "cell_type": "code",
   "execution_count": 32,
   "id": "580ad587",
   "metadata": {},
   "outputs": [
    {
     "data": {
      "text/plain": [
       "Index(['ID', 'Name', 'Age', 'Height', 'Weight', 'NOC', 'Year', 'Event',\n",
       "       'Medal'],\n",
       "      dtype='object')"
      ]
     },
     "execution_count": 32,
     "metadata": {},
     "output_type": "execute_result"
    }
   ],
   "source": [
    "df.columns"
   ]
  },
  {
   "cell_type": "code",
   "execution_count": 33,
   "id": "797b6dbc",
   "metadata": {},
   "outputs": [],
   "source": [
    "# Define the desired column order\n",
    "desired_columns = ['ID', 'Name', 'NOC', 'Year', 'Age', 'Height', 'Weight', 'Event',\n",
    "       'Medal']\n",
    "\n",
    "\n",
    "# Reorder the columns\n",
    "df = df[desired_columns]"
   ]
  },
  {
   "cell_type": "code",
   "execution_count": 34,
   "id": "edf30e80",
   "metadata": {},
   "outputs": [
    {
     "data": {
      "text/html": [
       "<div>\n",
       "<style scoped>\n",
       "    .dataframe tbody tr th:only-of-type {\n",
       "        vertical-align: middle;\n",
       "    }\n",
       "\n",
       "    .dataframe tbody tr th {\n",
       "        vertical-align: top;\n",
       "    }\n",
       "\n",
       "    .dataframe thead th {\n",
       "        text-align: right;\n",
       "    }\n",
       "</style>\n",
       "<table border=\"1\" class=\"dataframe\">\n",
       "  <thead>\n",
       "    <tr style=\"text-align: right;\">\n",
       "      <th></th>\n",
       "      <th>ID</th>\n",
       "      <th>Name</th>\n",
       "      <th>NOC</th>\n",
       "      <th>Year</th>\n",
       "      <th>Age</th>\n",
       "      <th>Height</th>\n",
       "      <th>Weight</th>\n",
       "      <th>Event</th>\n",
       "      <th>Medal</th>\n",
       "    </tr>\n",
       "  </thead>\n",
       "  <tbody>\n",
       "    <tr>\n",
       "      <th>676</th>\n",
       "      <td>394</td>\n",
       "      <td>Irene Abel</td>\n",
       "      <td>GDR</td>\n",
       "      <td>1972</td>\n",
       "      <td>19.0</td>\n",
       "      <td>160.000000</td>\n",
       "      <td>48.000000</td>\n",
       "      <td>All-Around</td>\n",
       "      <td>None</td>\n",
       "    </tr>\n",
       "    <tr>\n",
       "      <th>677</th>\n",
       "      <td>394</td>\n",
       "      <td>Irene Abel</td>\n",
       "      <td>GDR</td>\n",
       "      <td>1972</td>\n",
       "      <td>19.0</td>\n",
       "      <td>160.000000</td>\n",
       "      <td>48.000000</td>\n",
       "      <td>Team</td>\n",
       "      <td>Silver</td>\n",
       "    </tr>\n",
       "    <tr>\n",
       "      <th>678</th>\n",
       "      <td>394</td>\n",
       "      <td>Irene Abel</td>\n",
       "      <td>GDR</td>\n",
       "      <td>1972</td>\n",
       "      <td>19.0</td>\n",
       "      <td>160.000000</td>\n",
       "      <td>48.000000</td>\n",
       "      <td>Floor</td>\n",
       "      <td>None</td>\n",
       "    </tr>\n",
       "    <tr>\n",
       "      <th>679</th>\n",
       "      <td>394</td>\n",
       "      <td>Irene Abel</td>\n",
       "      <td>GDR</td>\n",
       "      <td>1972</td>\n",
       "      <td>19.0</td>\n",
       "      <td>160.000000</td>\n",
       "      <td>48.000000</td>\n",
       "      <td>Vault</td>\n",
       "      <td>None</td>\n",
       "    </tr>\n",
       "    <tr>\n",
       "      <th>680</th>\n",
       "      <td>394</td>\n",
       "      <td>Irene Abel</td>\n",
       "      <td>GDR</td>\n",
       "      <td>1972</td>\n",
       "      <td>19.0</td>\n",
       "      <td>160.000000</td>\n",
       "      <td>48.000000</td>\n",
       "      <td>Uneven Bars</td>\n",
       "      <td>None</td>\n",
       "    </tr>\n",
       "    <tr>\n",
       "      <th>...</th>\n",
       "      <td>...</td>\n",
       "      <td>...</td>\n",
       "      <td>...</td>\n",
       "      <td>...</td>\n",
       "      <td>...</td>\n",
       "      <td>...</td>\n",
       "      <td>...</td>\n",
       "      <td>...</td>\n",
       "      <td>...</td>\n",
       "    </tr>\n",
       "    <tr>\n",
       "      <th>270906</th>\n",
       "      <td>135479</td>\n",
       "      <td>Tanja uti (-Kober)</td>\n",
       "      <td>YUG</td>\n",
       "      <td>1952</td>\n",
       "      <td>25.0</td>\n",
       "      <td>156.117585</td>\n",
       "      <td>47.742789</td>\n",
       "      <td>Team</td>\n",
       "      <td>None</td>\n",
       "    </tr>\n",
       "    <tr>\n",
       "      <th>270908</th>\n",
       "      <td>135479</td>\n",
       "      <td>Tanja uti (-Kober)</td>\n",
       "      <td>YUG</td>\n",
       "      <td>1952</td>\n",
       "      <td>25.0</td>\n",
       "      <td>156.117585</td>\n",
       "      <td>47.742789</td>\n",
       "      <td>Floor</td>\n",
       "      <td>None</td>\n",
       "    </tr>\n",
       "    <tr>\n",
       "      <th>270909</th>\n",
       "      <td>135479</td>\n",
       "      <td>Tanja uti (-Kober)</td>\n",
       "      <td>YUG</td>\n",
       "      <td>1952</td>\n",
       "      <td>25.0</td>\n",
       "      <td>156.117585</td>\n",
       "      <td>47.742789</td>\n",
       "      <td>Vault</td>\n",
       "      <td>None</td>\n",
       "    </tr>\n",
       "    <tr>\n",
       "      <th>270910</th>\n",
       "      <td>135479</td>\n",
       "      <td>Tanja uti (-Kober)</td>\n",
       "      <td>YUG</td>\n",
       "      <td>1952</td>\n",
       "      <td>25.0</td>\n",
       "      <td>156.117585</td>\n",
       "      <td>47.742789</td>\n",
       "      <td>Uneven Bars</td>\n",
       "      <td>None</td>\n",
       "    </tr>\n",
       "    <tr>\n",
       "      <th>270911</th>\n",
       "      <td>135479</td>\n",
       "      <td>Tanja uti (-Kober)</td>\n",
       "      <td>YUG</td>\n",
       "      <td>1952</td>\n",
       "      <td>25.0</td>\n",
       "      <td>156.117585</td>\n",
       "      <td>47.742789</td>\n",
       "      <td>Balance Beam</td>\n",
       "      <td>None</td>\n",
       "    </tr>\n",
       "  </tbody>\n",
       "</table>\n",
       "<p>8947 rows × 9 columns</p>\n",
       "</div>"
      ],
      "text/plain": [
       "            ID                Name  NOC  Year   Age      Height     Weight  \\\n",
       "676        394          Irene Abel  GDR  1972  19.0  160.000000  48.000000   \n",
       "677        394          Irene Abel  GDR  1972  19.0  160.000000  48.000000   \n",
       "678        394          Irene Abel  GDR  1972  19.0  160.000000  48.000000   \n",
       "679        394          Irene Abel  GDR  1972  19.0  160.000000  48.000000   \n",
       "680        394          Irene Abel  GDR  1972  19.0  160.000000  48.000000   \n",
       "...        ...                 ...  ...   ...   ...         ...        ...   \n",
       "270906  135479  Tanja uti (-Kober)  YUG  1952  25.0  156.117585  47.742789   \n",
       "270908  135479  Tanja uti (-Kober)  YUG  1952  25.0  156.117585  47.742789   \n",
       "270909  135479  Tanja uti (-Kober)  YUG  1952  25.0  156.117585  47.742789   \n",
       "270910  135479  Tanja uti (-Kober)  YUG  1952  25.0  156.117585  47.742789   \n",
       "270911  135479  Tanja uti (-Kober)  YUG  1952  25.0  156.117585  47.742789   \n",
       "\n",
       "               Event   Medal  \n",
       "676       All-Around    None  \n",
       "677             Team  Silver  \n",
       "678            Floor    None  \n",
       "679            Vault    None  \n",
       "680      Uneven Bars    None  \n",
       "...              ...     ...  \n",
       "270906          Team    None  \n",
       "270908         Floor    None  \n",
       "270909         Vault    None  \n",
       "270910   Uneven Bars    None  \n",
       "270911  Balance Beam    None  \n",
       "\n",
       "[8947 rows x 9 columns]"
      ]
     },
     "execution_count": 34,
     "metadata": {},
     "output_type": "execute_result"
    }
   ],
   "source": [
    "df"
   ]
  },
  {
   "cell_type": "code",
   "execution_count": 36,
   "id": "a935aa34",
   "metadata": {},
   "outputs": [
    {
     "data": {
      "text/plain": [
       "80523"
      ]
     },
     "execution_count": 36,
     "metadata": {},
     "output_type": "execute_result"
    }
   ],
   "source": [
    "df.size"
   ]
  },
  {
   "cell_type": "code",
   "execution_count": 35,
   "id": "70a1d3be",
   "metadata": {},
   "outputs": [],
   "source": [
    "modern = df.loc[df['Year'].isin([2008, 2012, 2016])]"
   ]
  },
  {
   "cell_type": "code",
   "execution_count": 37,
   "id": "0a6bc209",
   "metadata": {},
   "outputs": [
    {
     "data": {
      "text/plain": [
       "10800"
      ]
     },
     "execution_count": 37,
     "metadata": {},
     "output_type": "execute_result"
    }
   ],
   "source": [
    "modern.size"
   ]
  },
  {
   "cell_type": "code",
   "execution_count": 38,
   "id": "ebaf2e98",
   "metadata": {},
   "outputs": [],
   "source": [
    "# df.to_csv(\"womens_olympics\", index=False)"
   ]
  },
  {
   "cell_type": "code",
   "execution_count": 39,
   "id": "60c5d50e",
   "metadata": {},
   "outputs": [],
   "source": [
    "# modern.to_csv(\"modern_womens_olympics\", index=False)"
   ]
  },
  {
   "cell_type": "code",
   "execution_count": null,
   "id": "00d5988e",
   "metadata": {},
   "outputs": [],
   "source": []
  }
 ],
 "metadata": {
  "kernelspec": {
   "display_name": "Python 3 (ipykernel)",
   "language": "python",
   "name": "python3"
  },
  "language_info": {
   "codemirror_mode": {
    "name": "ipython",
    "version": 3
   },
   "file_extension": ".py",
   "mimetype": "text/x-python",
   "name": "python",
   "nbconvert_exporter": "python",
   "pygments_lexer": "ipython3",
   "version": "3.9.12"
  }
 },
 "nbformat": 4,
 "nbformat_minor": 5
}
