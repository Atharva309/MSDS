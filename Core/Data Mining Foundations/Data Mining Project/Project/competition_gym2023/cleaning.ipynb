{
 "cells": [
  {
   "cell_type": "markdown",
   "id": "8a5b5dc0",
   "metadata": {},
   "source": [
    "https://www.kaggle.com/code/pmarcelino/comprehensive-data-exploration-with-python/notebook"
   ]
  },
  {
   "cell_type": "code",
   "execution_count": 1,
   "id": "846faa70",
   "metadata": {
    "extensions": {
     "jupyter_dashboards": {
      "version": 1,
      "views": {
       "grid_default": {},
       "report_default": {}
      }
     }
    }
   },
   "outputs": [],
   "source": [
    "import pandas as pd\n",
    "import numpy as np\n",
    "import matplotlib.pyplot as plt\n",
    "import seaborn as sns\n",
    "import numpy as np\n",
    "from scipy.stats import norm\n",
    "from sklearn.preprocessing import StandardScaler\n",
    "from scipy import stats\n",
    "import warnings\n",
    "warnings.filterwarnings('ignore')\n",
    "%matplotlib inline"
   ]
  },
  {
   "cell_type": "code",
   "execution_count": null,
   "id": "37a56515",
   "metadata": {
    "extensions": {
     "jupyter_dashboards": {
      "version": 1,
      "views": {
       "grid_default": {},
       "report_default": {}
      }
     }
    }
   },
   "outputs": [],
   "source": [
    "# df = pd.read_csv(\"data_2022_2023.csv\")"
   ]
  },
  {
   "cell_type": "code",
   "execution_count": null,
   "id": "0ec00b0f",
   "metadata": {
    "extensions": {
     "jupyter_dashboards": {
      "version": 1,
      "views": {
       "grid_default": {},
       "report_default": {}
      }
     }
    }
   },
   "outputs": [],
   "source": [
    "# import pandas as pd\n",
    "\n",
    "# # Load the data into a Pandas DataFrame\n",
    "# data = df\n",
    "# # Separate data by gender\n",
    "# men_data = data[data['Gender'] == 'm']\n",
    "# women_data = data[data['Gender'] == 'w']\n",
    "\n",
    "# # Organize data by country for men and women\n",
    "# men_data_by_country = men_data.groupby('Country').apply(lambda x: x.sort_values('Score', ascending=False)).reset_index(drop=True)\n",
    "# women_data_by_country = women_data.groupby('Country').apply(lambda x: x.sort_values('Score', ascending=False)).reset_index(drop=True)\n",
    "\n",
    "# # Print the organized data for men and women\n",
    "# print(\"Men's Data Organized by Country:\")\n",
    "# print(men_data_by_country)\n",
    "\n",
    "# print(\"\\nWomen's Data Organized by Country:\")\n",
    "# print(women_data_by_country)\n"
   ]
  },
  {
   "cell_type": "markdown",
   "id": "118248bd",
   "metadata": {
    "extensions": {
     "jupyter_dashboards": {
      "version": 1,
      "views": {
       "grid_default": {},
       "report_default": {}
      }
     }
    }
   },
   "source": [
    "For each gender, \n",
    "- 3 teams qualified at the 2022 World Championships in Liverpool, England. \n",
    "- In the men’s competition, teams from China, Japan, and Great Britain qualified. \n",
    "- In the women’s competition, teams from the United States, Great Britain, and Canada qualified"
   ]
  },
  {
   "cell_type": "code",
   "execution_count": null,
   "id": "a50679a4",
   "metadata": {
    "extensions": {
     "jupyter_dashboards": {
      "version": 1,
      "views": {
       "grid_default": {},
       "report_default": {}
      }
     }
    }
   },
   "outputs": [],
   "source": [
    "# import pandas as pd\n",
    "# data = df\n",
    "# # Assuming 'data' is your DataFrame with the gymnastics data\n",
    "\n",
    "# # Filter teams that qualified from the 2022 World Championships\n",
    "# qualified_teams_men = ['CHN', 'JPN', 'GBR']\n",
    "# qualified_teams_women = ['USA', 'GBR', 'CAN']\n",
    "\n",
    "# # Filter teams that qualify based on placements at the 2023 World Championships\n",
    "# qualifying_teams_men = data[(data['Date'] >= '2023-09-30') & (data['Date'] <= '2023-10-08') & (data['Gender'] == 'm')]['Country'].unique()\n",
    "# qualifying_teams_women = data[(data['Date'] >= '2023-09-30') & (data['Date'] <= '2023-10-08') & (data['Gender'] == 'w')]['Country'].unique()\n",
    "\n",
    "# # Combine the qualified and qualifying teams for each gender\n",
    "# final_teams_men = list(set(qualified_teams_men).union(qualifying_teams_men))\n",
    "# final_teams_women = list(set(qualified_teams_women).union(qualifying_teams_women))\n",
    "\n",
    "# # Filter the athletes based on selected teams\n",
    "# selected_men_athletes = data[(data['Country'].isin(final_teams_men)) & (data['Gender'] == 'm')]\n",
    "# selected_women_athletes = data[(data['Country'].isin(final_teams_women)) & (data['Gender'] == 'w')]\n",
    "\n",
    "# # Print the selected athletes for men and women\n",
    "# print(\"Selected Men's Athletes:\")\n",
    "# print(selected_men_athletes[['LastName', 'FirstName', 'Country']])\n",
    "\n",
    "# print(\"\\nSelected Women's Athletes:\")\n",
    "# print(selected_women_athletes[['LastName', 'FirstName', 'Country']])\n"
   ]
  },
  {
   "cell_type": "code",
   "execution_count": null,
   "id": "2707db2c",
   "metadata": {
    "extensions": {
     "jupyter_dashboards": {
      "version": 1,
      "views": {
       "grid_default": {},
       "report_default": {}
      }
     }
    }
   },
   "outputs": [],
   "source": []
  },
  {
   "cell_type": "code",
   "execution_count": null,
   "id": "5f6798f0",
   "metadata": {
    "extensions": {
     "jupyter_dashboards": {
      "version": 1,
      "views": {
       "grid_default": {},
       "report_default": {}
      }
     }
    }
   },
   "outputs": [],
   "source": []
  },
  {
   "cell_type": "markdown",
   "id": "b36fbf62",
   "metadata": {
    "extensions": {
     "jupyter_dashboards": {
      "version": 1,
      "views": {
       "grid_default": {},
       "report_default": {}
      }
     }
    }
   },
   "source": [
    "- Data Preparation and Cleaning:\n",
    "        Handle missing values, NaNs, and duplicates in the dataset.\n",
    "        Extract relevant features and columns from the dataset.\n",
    "\n",
    "- Calculating Scores:\n",
    "        Calculate the total score for each gymnast based on their D_Score, E_Score, and Penalty.\n",
    "\n",
    "- Selecting Athletes:\n",
    "        Create a function to evaluate the performance of each gymnast and select the best team based on different criteria (e.g., total medal count, gold medals, weighted medal count).\n",
    "\n",
    "- Team Composition and Optimization:\n",
    "        Define rules for team composition (e.g., team size, maximum number of athletes per country).\n",
    "        Optimize the team composition by iterating through different combinations of athletes and evaluating their performance.\n",
    "\n",
    "- Medal Count Simulation:\n",
    "        Simulate the scoring and medal distribution for each event based on the selected team.\n",
    "\n",
    "- Analysis and Comparison:\n",
    "        Compare the results of different team compositions and optimization criteria.\n",
    "        Analyze how team composition impacts medal count in different events."
   ]
  },
  {
   "cell_type": "code",
   "execution_count": null,
   "id": "c00c93e3",
   "metadata": {},
   "outputs": [],
   "source": [
    "# Load the data from the CSV file\n",
    "df = pd.read_csv('data_2017_2021.csv')"
   ]
  },
  {
   "cell_type": "code",
   "execution_count": null,
   "id": "98f63cfd",
   "metadata": {},
   "outputs": [],
   "source": [
    "df.info()"
   ]
  },
  {
   "cell_type": "code",
   "execution_count": null,
   "id": "ea1dd8db",
   "metadata": {},
   "outputs": [],
   "source": [
    "# # Drop duplicate rows\n",
    "# df.drop_duplicates(inplace=True)\n",
    "\n",
    "# # Combine FirstName and LastName to create 'Name' column\n",
    "# df['Name'] = df['FirstName'] + \" \" + df['LastName']\n",
    "\n",
    "# # Drop FirstName and LastName columns\n",
    "# df = df.drop(columns=[\"LastName\", \"FirstName\"])\n",
    "\n",
    "# # Convert 'Date' column to datetime format\n",
    "# df['Date'] = pd.to_datetime(df['Date'], errors='coerce')\n",
    "\n"
   ]
  },
  {
   "cell_type": "code",
   "execution_count": null,
   "id": "02ce18d2",
   "metadata": {},
   "outputs": [],
   "source": [
    "df[['Penalty']] = df[['Penalty']].fillna(0)"
   ]
  },
  {
   "cell_type": "code",
   "execution_count": null,
   "id": "34b67121",
   "metadata": {},
   "outputs": [],
   "source": [
    "# Fill missing values in specific columns\n",
    "fill_columns = ['Rank', 'D_Score', 'E_Score', 'Score']\n",
    "df[fill_columns] = df[fill_columns].fillna(0)\n",
    "\n",
    "# Calculate the total score for each gymnast\n",
    "df['Total_Score'] = df['D_Score'] + df['E_Score'] - df['Penalty']\n",
    "\n",
    "# Calculate the gold medal count for each gymnast\n",
    "gold_medal_count = df[df['Rank'] == 1].groupby(['Name']).size().reset_index(name='Gold_Medals')\n",
    "df = df.merge(gold_medal_count, on=['Name'], how='left')\n",
    "df['Gold_Medals'] = df['Gold_Medals'].fillna(0)"
   ]
  },
  {
   "cell_type": "code",
   "execution_count": null,
   "id": "0febbe1d",
   "metadata": {},
   "outputs": [],
   "source": [
    "df[\"Apparatus\"]\n"
   ]
  },
  {
   "cell_type": "code",
   "execution_count": null,
   "id": "2e0c2269",
   "metadata": {},
   "outputs": [],
   "source": [
    "df[\"Round\"].nunique()"
   ]
  },
  {
   "cell_type": "code",
   "execution_count": null,
   "id": "55febff5",
   "metadata": {},
   "outputs": [],
   "source": [
    "# Filter rows with 'qual' in the 'Round' column\n",
    "qualifying_data = df[df['Round'] == 'qual']\n",
    "\n"
   ]
  },
  {
   "cell_type": "code",
   "execution_count": null,
   "id": "8715d048",
   "metadata": {},
   "outputs": [],
   "source": [
    "qualifying_data[\"Round\"].nunique()"
   ]
  },
  {
   "cell_type": "code",
   "execution_count": null,
   "id": "11023bcf",
   "metadata": {},
   "outputs": [],
   "source": [
    "# # Group by 'Country' and sort by 'Score' to get top 4 scores for each country\n",
    "# top_scores_by_country = (\n",
    "#     qualifying_data\n",
    "#     .sort_values(by=['Country', 'Score'], ascending=[True, False])\n",
    "#     .groupby('Country')\n",
    "#     .head(4)\n",
    "# )\n",
    "\n",
    "# # Select and display relevant columns\n",
    "# result = top_scores_by_country[['Country', 'Name', 'Score']]\n",
    "# print(result)"
   ]
  },
  {
   "cell_type": "code",
   "execution_count": null,
   "id": "f10ed714",
   "metadata": {},
   "outputs": [],
   "source": [
    "# import pandas as pd\n",
    "\n",
    "\n",
    "# # Group by 'Country' and sort by 'Score' to get top 4 scores for each country\n",
    "# top_scores_by_country = (\n",
    "#     qualifying_data\n",
    "#     .sort_values(by=['Country', 'Score'], ascending=[True, False])\n",
    "#     .groupby('Country')\n",
    "#     .head(4)\n",
    "# )\n",
    "\n"
   ]
  },
  {
   "cell_type": "code",
   "execution_count": null,
   "id": "1c69c89b",
   "metadata": {},
   "outputs": [],
   "source": [
    "# # Get unique names for each country\n",
    "# unique_names_by_country = (\n",
    "#     top_scores_by_country\n",
    "#     .groupby('Country')['Name']\n",
    "#     .unique()\n",
    "#     .apply(lambda names: names[:4])  # Select top 4 unique names\n",
    "#     .explode()\n",
    "# )\n",
    "\n",
    "# # Filter the top scores by unique names\n",
    "# top_scores_unique_names = top_scores_by_country[\n",
    "#     top_scores_by_country['Name'].isin(unique_names_by_country)\n",
    "# ]\n",
    "\n",
    "# # Select relevant columns\n",
    "# result = top_scores_unique_names[['Country', 'Apparatus', 'Name', 'Score']]\n",
    "\n",
    "# # Create a new DataFrame from the result\n",
    "# result_df = pd.DataFrame(result)\n",
    "\n",
    "# # Display the result DataFrame\n",
    "# print(result_df)\n"
   ]
  },
  {
   "cell_type": "code",
   "execution_count": null,
   "id": "dd9b15ed",
   "metadata": {},
   "outputs": [],
   "source": []
  },
  {
   "cell_type": "code",
   "execution_count": null,
   "id": "e7deafab",
   "metadata": {},
   "outputs": [],
   "source": []
  },
  {
   "cell_type": "code",
   "execution_count": null,
   "id": "849ce77b",
   "metadata": {},
   "outputs": [],
   "source": [
    "# result_df = pd.DataFrame(result)"
   ]
  },
  {
   "cell_type": "code",
   "execution_count": null,
   "id": "5c990809",
   "metadata": {},
   "outputs": [],
   "source": [
    "# result_df.info()"
   ]
  },
  {
   "cell_type": "markdown",
   "id": "8abb9ca6",
   "metadata": {
    "extensions": {
     "jupyter_dashboards": {
      "version": 1,
      "views": {
       "grid_default": {},
       "report_default": {}
      }
     }
    }
   },
   "source": [
    "Team Composition and Optimization: Define rules for team composition (e.g., team size, maximum number of athletes per country). Optimize the team composition by iterating through different combinations of athletes and evaluating their performance."
   ]
  },
  {
   "cell_type": "code",
   "execution_count": null,
   "id": "4a991532",
   "metadata": {
    "extensions": {
     "jupyter_dashboards": {
      "version": 1,
      "views": {
       "grid_default": {},
       "report_default": {}
      }
     }
    }
   },
   "outputs": [],
   "source": [
    "# import random\n",
    "\n",
    "# # Define the selected team of gymnasts\n",
    "# selected_team = [\"Gymnast 1\", \"Gymnast 2\", \"Gymnast 3\", \"Gymnast 4\", \"Gymnast 5\"]\n",
    "\n",
    "# # Define the number of events\n",
    "# num_events = 4\n",
    "\n",
    "# # Simulate scoring and medal distribution for each event\n",
    "# for event in range(1, num_events + 1):\n",
    "#     print(f\"Event {event} Results:\")\n",
    "    \n",
    "#     # Simulate scores for each gymnast in the team\n",
    "#     event_scores = {}\n",
    "#     for gymnast in selected_team:\n",
    "#         # Simulate a random score between 13 and 16\n",
    "#         score = random.uniform(13, 16)\n",
    "#         event_scores[gymnast] = score\n",
    "        \n",
    "#     # Sort gymnasts by score\n",
    "#     sorted_gymnasts = sorted(event_scores.items(), key=lambda x: x[1], reverse=True)\n",
    "    \n",
    "#     # Distribute medals\n",
    "#     for i, (gymnast, score) in enumerate(sorted_gymnasts):\n",
    "#         if i == 0:\n",
    "#             medal = \"Gold\"\n",
    "#         elif i == 1:\n",
    "#             medal = \"Silver\"\n",
    "#         elif i == 2:\n",
    "#             medal = \"Bronze\"\n",
    "#         else:\n",
    "#             medal = \"Participation\"\n",
    "        \n",
    "#         print(f\"{medal} Medal: {gymnast} - Score: {score:.2f}\")\n",
    "    \n",
    "#     print()\n"
   ]
  },
  {
   "cell_type": "markdown",
   "id": "36b9588f",
   "metadata": {
    "extensions": {
     "jupyter_dashboards": {
      "version": 1,
      "views": {
       "grid_default": {},
       "report_default": {}
      }
     }
    }
   },
   "source": [
    "- Data Preparation and Cleaning:\n",
    "        Handle missing values, NaNs, and duplicates in the dataset.\n",
    "        Extract relevant features and columns from the dataset.\n",
    "\n",
    "- Calculating Scores:\n",
    "        Calculate the total score for each gymnast based on their D_Score, E_Score, and Penalty.\n",
    "\n",
    "- Selecting Athletes:\n",
    "        Create a function to evaluate the performance of each gymnast and select the best team based on different criteria (e.g., total medal count, gold medals, weighted medal count).\n",
    "\n",
    "- Team Composition and Optimization:\n",
    "        Define rules for team composition (e.g., team size, maximum number of athletes per country).\n",
    "        Optimize the team composition by iterating through different combinations of athletes and evaluating their performance.\n",
    "\n",
    "- Medal Count Simulation:\n",
    "        Simulate the scoring and medal distribution for each event based on the selected team.\n",
    "\n",
    "- Analysis and Comparison:\n",
    "        Compare the results of different team compositions and optimization criteria.\n",
    "        Analyze how team composition impacts medal count in different events."
   ]
  },
  {
   "cell_type": "code",
   "execution_count": null,
   "id": "483c211a",
   "metadata": {
    "extensions": {
     "jupyter_dashboards": {
      "version": 1,
      "views": {
       "grid_default": {},
       "report_default": {}
      }
     }
    }
   },
   "outputs": [],
   "source": [
    "import pandas as pd\n",
    "import numpy as np\n",
    "import random\n",
    "from itertools import combinations\n",
    "\n",
    "# Load the data from the CSV file and perform necessary preprocessing\n",
    "df = pd.read_csv('data_2017_2021.csv')\n",
    "df.drop_duplicates(inplace=True)\n",
    "df['Name'] = df['FirstName'] + \" \" + df['LastName']\n",
    "df = df.drop(columns=[\"LastName\", \"FirstName\"])\n",
    "df['Date'] = pd.to_datetime(df['Date'], errors='coerce')\n",
    "fill_columns = ['Rank', 'D_Score', 'E_Score', 'Score']\n",
    "df[fill_columns] = df[fill_columns].fillna(0)\n",
    "df['Total_Score'] = df['D_Score'] + df['E_Score'] - df['Penalty']\n",
    "gold_medal_count = df[df['Rank'] == 1].groupby(['Name']).size().reset_index(name='Gold_Medals')\n",
    "df = df.merge(gold_medal_count, on=['Name'], how='left')\n",
    "df['Gold_Medals'] = df['Gold_Medals'].fillna(0)\n",
    "\n",
    "# Define team composition rules\n",
    "team_size = 5\n",
    "max_athletes_per_country = 3\n",
    "\n",
    "# Select athletes from the USA\n",
    "usa_athletes = df[df['Country'] == 'USA']\n",
    "\n",
    "# Dynamic programming approach (Knapsack Problem)\n",
    "def knapsack(items, limit):\n",
    "    n = len(items)\n",
    "    dp = np.zeros((n + 1, limit + 1))\n",
    "\n",
    "    for i in range(1, n + 1):\n",
    "        for w in range(1, limit + 1):\n",
    "            name, score = items[i - 1]\n",
    "            if score <= w:\n",
    "                dp[i][w] = max(dp[i - 1][w], dp[i - 1][w - score] + score)\n",
    "            else:\n",
    "                dp[i][w] = dp[i - 1][w]\n",
    "\n",
    "    return dp[n][limit]\n",
    "\n",
    "# Create a list of athlete scores as tuples (name, score)\n",
    "athlete_scores = [(name, score) for name, score in usa_athletes[['Name', 'Total_Score']].values]\n",
    "\n",
    "# Define optimization criteria\n",
    "optimization_criteria = ['Total_Score', 'Gold_Medals']\n",
    "\n",
    "# Create a function to select the best team based on criteria\n",
    "def select_best_team(df, criteria, num_athletes):\n",
    "    if criteria == 'Total_Score':\n",
    "        best_team = df.nlargest(num_athletes, 'Total_Score')\n",
    "    elif criteria == 'Gold_Medals':\n",
    "        best_team = df.nlargest(num_athletes, 'Gold_Medals')\n",
    "    return best_team\n",
    "\n",
    "# Define the number of events\n",
    "num_events = 4\n",
    "\n",
    "# Store results for different team compositions and criteria\n",
    "results = []\n",
    "\n",
    "# Iterate through optimization criteria\n",
    "for criteria in optimization_criteria:\n",
    "    # Select athletes based on criteria and composition rules\n",
    "    selected_team = select_best_team(df, criteria, num_athletes=team_size)\n",
    "    \n",
    "    # Simulate medal count for each event\n",
    "    event_medal_count = {event: {'Gold': 0, 'Silver': 0, 'Bronze': 0} for event in range(1, num_events + 1)}\n",
    "    for event in range(1, num_events + 1):\n",
    "        event_scores = {}\n",
    "        for gymnast in selected_team['Name']:\n",
    "            # Simulate a random score between 13 and 16\n",
    "            score = random.uniform(13, 16)\n",
    "            event_scores[gymnast] = score\n",
    "        \n",
    "        sorted_gymnasts = sorted(event_scores.items(), key=lambda x: x[1], reverse=True)\n",
    "        \n",
    "        # Distribute medals\n",
    "        for i, (gymnast, score) in enumerate(sorted_gymnasts):\n",
    "            if i == 0:\n",
    "                medal = 'Gold'\n",
    "            elif i == 1:\n",
    "                medal = 'Silver'\n",
    "            elif i == 2:\n",
    "                medal = 'Bronze'\n",
    "            else:\n",
    "                break\n",
    "            \n",
    "            event_medal_count[event][medal] += 1\n",
    "    \n",
    "    # Store the results for this criteria and team composition\n",
    "    results.append({'Criteria': criteria, 'Team': selected_team, 'Medal_Count': event_medal_count})\n",
    "\n",
    "# Analyze and print the results\n",
    "for result in results:\n",
    "    print(f\"Team Composition based on {result['Criteria']}:\\n\")\n",
    "    print(result['Team'][['Name', 'Total_Score', 'Gold_Medals']])\n",
    "    print(\"\\nMedal Count in Different Events:\")\n",
    "    for event, medals in result['Medal_Count'].items():\n",
    "        print(f\"Event {event}: Gold - {medals['Gold']}, Silver - {medals['Silver']}, Bronze - {medals['Bronze']}\")\n",
    "    print(\"\\n\")\n"
   ]
  },
  {
   "cell_type": "code",
   "execution_count": 2,
   "id": "87f08462",
   "metadata": {
    "extensions": {
     "jupyter_dashboards": {
      "version": 1,
      "views": {
       "grid_default": {},
       "report_default": {}
      }
     }
    },
    "scrolled": false
   },
   "outputs": [
    {
     "name": "stdout",
     "output_type": "stream",
     "text": [
      "Team Composition based on Total_Score:\n",
      "\n",
      "              Name Country  Total_Score  Gold_Medals\n",
      "36  Rebeca ANDRADE     BRA       15.300          4.0\n",
      "39  Rebeca ANDRADE     BRA       15.166          4.0\n",
      "62    Simone BILES     USA       15.100          2.0\n",
      "60    Simone BILES     USA       14.966          2.0\n",
      "61    Simone BILES     USA       14.966          2.0\n",
      "\n",
      "Medal Count in Different Events:\n",
      "Event 1: Gold - 1, Silver - 1, Bronze - 0\n",
      "Event 2: Gold - 1, Silver - 1, Bronze - 0\n",
      "Event 3: Gold - 1, Silver - 1, Bronze - 0\n",
      "Event 4: Gold - 1, Silver - 1, Bronze - 0\n",
      "\n",
      "\n",
      "Team Composition based on Gold_Medals:\n",
      "\n",
      "              Name Country  Total_Score  Gold_Medals\n",
      "26  Rebeca ANDRADE     BRA          NaN          4.0\n",
      "27  Rebeca ANDRADE     BRA          NaN          4.0\n",
      "28  Rebeca ANDRADE     BRA          NaN          4.0\n",
      "29  Rebeca ANDRADE     BRA       13.666          4.0\n",
      "30  Rebeca ANDRADE     BRA          NaN          4.0\n",
      "\n",
      "Medal Count in Different Events:\n",
      "Event 1: Gold - 1, Silver - 0, Bronze - 0\n",
      "Event 2: Gold - 1, Silver - 0, Bronze - 0\n",
      "Event 3: Gold - 1, Silver - 0, Bronze - 0\n",
      "Event 4: Gold - 1, Silver - 0, Bronze - 0\n",
      "\n",
      "\n"
     ]
    }
   ],
   "source": [
    "import pandas as pd\n",
    "import numpy as np\n",
    "import random\n",
    "from itertools import combinations\n",
    "\n",
    "# Load the data from the CSV file and perform necessary preprocessing\n",
    "df = pd.read_csv('data_2017_2021.csv')\n",
    "df.drop_duplicates(inplace=True)\n",
    "df['Name'] = df['FirstName'] + \" \" + df['LastName']\n",
    "df = df.drop(columns=[\"LastName\", \"FirstName\"])\n",
    "df['Date'] = pd.to_datetime(df['Date'], errors='coerce')\n",
    "fill_columns = ['Rank', 'D_Score', 'E_Score', 'Score']\n",
    "df[fill_columns] = df[fill_columns].fillna(0)\n",
    "df['Total_Score'] = df['D_Score'] + df['E_Score'] - df['Penalty']\n",
    "gold_medal_count = df[df['Rank'] == 1].groupby(['Name']).size().reset_index(name='Gold_Medals')\n",
    "df = df.merge(gold_medal_count, on=['Name'], how='left')\n",
    "df['Gold_Medals'] = df['Gold_Medals'].fillna(0)\n",
    "\n",
    "# Define team composition rules\n",
    "team_size = 5\n",
    "max_athletes_per_country = 3\n",
    "\n",
    "# Select athletes from the USA\n",
    "usa_athletes = df[df['Country'] == 'USA']\n",
    "\n",
    "# Dynamic programming approach (Knapsack Problem)\n",
    "def knapsack(items, limit):\n",
    "    n = len(items)\n",
    "    dp = np.zeros((n + 1, limit + 1))\n",
    "\n",
    "    for i in range(1, n + 1):\n",
    "        for w in range(1, limit + 1):\n",
    "            name, score = items[i - 1]\n",
    "            if score <= w:\n",
    "                dp[i][w] = max(dp[i - 1][w], dp[i - 1][w - score] + score)\n",
    "            else:\n",
    "                dp[i][w] = dp[i - 1][w]\n",
    "\n",
    "    return dp[n][limit]\n",
    "\n",
    "# Create a list of athlete scores as tuples (name, score, country)\n",
    "athlete_scores = [(name, score, country) for name, score, country in usa_athletes[['Name', 'Total_Score', 'Country']].values]\n",
    "\n",
    "# Define optimization criteria\n",
    "optimization_criteria = ['Total_Score', 'Gold_Medals']\n",
    "\n",
    "# Create a function to select the best team based on criteria\n",
    "def select_best_team(df, criteria, num_athletes):\n",
    "    if criteria == 'Total_Score':\n",
    "        best_team = df.nlargest(num_athletes, 'Total_Score')\n",
    "    elif criteria == 'Gold_Medals':\n",
    "        best_team = df.nlargest(num_athletes, 'Gold_Medals')\n",
    "    return best_team\n",
    "\n",
    "# Define the number of events\n",
    "num_events = 4\n",
    "\n",
    "# Store results for different team compositions and criteria\n",
    "results = []\n",
    "\n",
    "# Iterate through optimization criteria\n",
    "for criteria in optimization_criteria:\n",
    "    # Select athletes based on criteria and composition rules\n",
    "    selected_team = select_best_team(df, criteria, num_athletes=team_size)\n",
    "    \n",
    "    # Simulate medal count for each event\n",
    "    event_medal_count = {event: {'Gold': 0, 'Silver': 0, 'Bronze': 0} for event in range(1, num_events + 1)}\n",
    "    for event in range(1, num_events + 1):\n",
    "        event_scores = {}\n",
    "        for gymnast, _, _ in selected_team[['Name', 'Total_Score', 'Country']].values:\n",
    "            # Simulate a random score between 13 and 16\n",
    "            score = random.uniform(13, 16)\n",
    "            event_scores[gymnast] = score\n",
    "        \n",
    "        sorted_gymnasts = sorted(event_scores.items(), key=lambda x: x[1], reverse=True)\n",
    "        \n",
    "        # Distribute medals\n",
    "        for i, (gymnast, score) in enumerate(sorted_gymnasts):\n",
    "            if i == 0:\n",
    "                medal = 'Gold'\n",
    "            elif i == 1:\n",
    "                medal = 'Silver'\n",
    "            elif i == 2:\n",
    "                medal = 'Bronze'\n",
    "            else:\n",
    "                break\n",
    "            \n",
    "            event_medal_count[event][medal] += 1\n",
    "    \n",
    "    # Store the results for this criteria and team composition\n",
    "    results.append({'Criteria': criteria, 'Team': selected_team, 'Medal_Count': event_medal_count})\n",
    "\n",
    "# Analyze and print the results\n",
    "for result in results:\n",
    "    print(f\"Team Composition based on {result['Criteria']}:\\n\")\n",
    "    print(result['Team'][['Name', 'Country', 'Total_Score', 'Gold_Medals']])\n",
    "    print(\"\\nMedal Count in Different Events:\")\n",
    "    for event, medals in result['Medal_Count'].items():\n",
    "        print(f\"Event {event}: Gold - {medals['Gold']}, Silver - {medals['Silver']}, Bronze - {medals['Bronze']}\")\n",
    "    print(\"\\n\")\n"
   ]
  },
  {
   "cell_type": "code",
   "execution_count": null,
   "id": "7f830d31",
   "metadata": {
    "extensions": {
     "jupyter_dashboards": {
      "version": 1,
      "views": {
       "grid_default": {},
       "report_default": {}
      }
     }
    }
   },
   "outputs": [],
   "source": []
  },
  {
   "cell_type": "code",
   "execution_count": null,
   "id": "5bcdd004",
   "metadata": {
    "extensions": {
     "jupyter_dashboards": {
      "version": 1,
      "views": {
       "grid_default": {},
       "report_default": {}
      }
     }
    }
   },
   "outputs": [],
   "source": []
  },
  {
   "cell_type": "code",
   "execution_count": null,
   "id": "f7f2d529",
   "metadata": {
    "extensions": {
     "jupyter_dashboards": {
      "version": 1,
      "views": {
       "grid_default": {},
       "report_default": {}
      }
     }
    }
   },
   "outputs": [],
   "source": []
  }
 ],
 "metadata": {
  "extensions": {
   "jupyter_dashboards": {
    "activeView": "grid_default",
    "version": 1,
    "views": {
     "grid_default": {
      "cellMargin": 10,
      "defaultCellHeight": 20,
      "maxColumns": 12,
      "name": "grid",
      "type": "grid"
     },
     "report_default": {
      "name": "report",
      "type": "report"
     }
    }
   }
  },
  "kernelspec": {
   "display_name": "Python 3 (ipykernel)",
   "language": "python",
   "name": "python3"
  },
  "language_info": {
   "codemirror_mode": {
    "name": "ipython",
    "version": 3
   },
   "file_extension": ".py",
   "mimetype": "text/x-python",
   "name": "python",
   "nbconvert_exporter": "python",
   "pygments_lexer": "ipython3",
   "version": "3.9.12"
  }
 },
 "nbformat": 4,
 "nbformat_minor": 5
}
