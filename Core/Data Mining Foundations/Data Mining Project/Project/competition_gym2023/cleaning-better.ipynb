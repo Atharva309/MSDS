{
 "cells": [
  {
   "cell_type": "markdown",
   "id": "92613b35",
   "metadata": {},
   "source": [
    "## Resources:\n",
    "- https://thegymter.net/nation-database/\n",
    "- https://www.kaggle.com/code/jlove5/olympic-data-women-s-gymnastics/notebook\n",
    "- https://themedalcount.com/data-hub/"
   ]
  },
  {
   "cell_type": "code",
   "execution_count": null,
   "id": "ed0a5b70",
   "metadata": {},
   "outputs": [],
   "source": []
  },
  {
   "cell_type": "markdown",
   "id": "b787ceef",
   "metadata": {},
   "source": [
    "### Import libraries"
   ]
  },
  {
   "cell_type": "code",
   "execution_count": 1,
   "id": "d4acea54",
   "metadata": {},
   "outputs": [],
   "source": [
    "import pandas as pd\n",
    "import numpy as np\n",
    "import matplotlib.pyplot as plt\n",
    "import seaborn as sns\n",
    "import numpy as np\n",
    "from scipy.stats import norm\n",
    "from sklearn.preprocessing import StandardScaler\n",
    "from scipy import stats\n",
    "import warnings\n",
    "warnings.filterwarnings('ignore')\n",
    "%matplotlib inline\n",
    "\n",
    "\n",
    "import random\n",
    "from itertools import combinations"
   ]
  },
  {
   "cell_type": "code",
   "execution_count": 2,
   "id": "a1365986",
   "metadata": {},
   "outputs": [],
   "source": [
    "df = pd.read_csv('data_2017_2021.csv')"
   ]
  },
  {
   "cell_type": "markdown",
   "id": "3e90cdeb",
   "metadata": {},
   "source": [
    "### Feature Engineering & Clean Data:\n",
    "\n",
    "    - drop duplicates\n",
    "    - combine first and last names and drop originals\n",
    "    - fill missing scores\n",
    "    - create total score (combining all scores)\n",
    "    - create gold medal\n",
    "    "
   ]
  },
  {
   "cell_type": "code",
   "execution_count": 3,
   "id": "864727f3",
   "metadata": {},
   "outputs": [],
   "source": [
    "df.drop_duplicates(inplace=True)\n",
    "df['Name'] = df['FirstName'] + \" \" + df['LastName']\n",
    "df = df.drop(columns=[\"LastName\", \"FirstName\"])\n",
    "df['Date'] = pd.to_datetime(df['Date'], errors='coerce')\n",
    "fill_columns = ['Rank', 'D_Score', 'E_Score', 'Score']\n",
    "df[fill_columns] = df[fill_columns].fillna(0)\n",
    "df['Total_Score'] = df['D_Score'] + df['E_Score'] - df['Penalty']\n",
    "gold_medal_count = df[df['Rank'] == 1].groupby(['Name']).size().reset_index(name='Gold_Medals')\n",
    "df = df.merge(gold_medal_count, on=['Name'], how='left')\n",
    "df['Gold_Medals'] = df['Gold_Medals'].fillna(0)"
   ]
  },
  {
   "cell_type": "markdown",
   "id": "8b47582e",
   "metadata": {},
   "source": [
    "### Define team composition rules\n"
   ]
  },
  {
   "cell_type": "code",
   "execution_count": 4,
   "id": "224d15e0",
   "metadata": {},
   "outputs": [],
   "source": [
    "team_size = 5\n",
    "max_athletes_per_country = 3"
   ]
  },
  {
   "cell_type": "markdown",
   "id": "1e753710",
   "metadata": {},
   "source": [
    "### Select athletes from the USA\n"
   ]
  },
  {
   "cell_type": "code",
   "execution_count": 5,
   "id": "0c4ae143",
   "metadata": {},
   "outputs": [],
   "source": [
    "usa_athletes = df[df['Country'] == 'USA']\n"
   ]
  },
  {
   "cell_type": "markdown",
   "id": "34e3df26",
   "metadata": {},
   "source": [
    "### Dynamic programming approach (Knapsack Problem)\n"
   ]
  },
  {
   "cell_type": "code",
   "execution_count": 6,
   "id": "c6aef861",
   "metadata": {},
   "outputs": [],
   "source": [
    "def knapsack(items, limit):\n",
    "    n = len(items)\n",
    "    dp = np.zeros((n + 1, limit + 1))\n",
    "\n",
    "    for i in range(1, n + 1):\n",
    "        for w in range(1, limit + 1):\n",
    "            name, score = items[i - 1]\n",
    "            if score <= w:\n",
    "                dp[i][w] = max(dp[i - 1][w], dp[i - 1][w - score] + score)\n",
    "            else:\n",
    "                dp[i][w] = dp[i - 1][w]\n",
    "\n",
    "    return dp[n][limit]"
   ]
  },
  {
   "cell_type": "markdown",
   "id": "998a941e",
   "metadata": {},
   "source": [
    "### Create a list of athlete scores as tuples (name, score, country)\n"
   ]
  },
  {
   "cell_type": "code",
   "execution_count": 7,
   "id": "e0ec8559",
   "metadata": {},
   "outputs": [],
   "source": [
    "athlete_scores = [(name, score, country) for name, score, country in usa_athletes[['Name', 'Total_Score', 'Country']].values]\n"
   ]
  },
  {
   "cell_type": "markdown",
   "id": "46d368f0",
   "metadata": {},
   "source": [
    "### Define optimization criteria\n"
   ]
  },
  {
   "cell_type": "code",
   "execution_count": 8,
   "id": "61ae83d9",
   "metadata": {},
   "outputs": [],
   "source": [
    "optimization_criteria = ['Total_Score', 'Gold_Medals']"
   ]
  },
  {
   "cell_type": "markdown",
   "id": "991d80ce",
   "metadata": {},
   "source": [
    "### Create a function to select the best team based on criteria\n"
   ]
  },
  {
   "cell_type": "code",
   "execution_count": 9,
   "id": "b82c347f",
   "metadata": {},
   "outputs": [],
   "source": [
    "def select_best_team(df, criteria, num_athletes):\n",
    "    if criteria == 'Total_Score':\n",
    "        best_team = df.nlargest(num_athletes, 'Total_Score')\n",
    "    elif criteria == 'Gold_Medals':\n",
    "        best_team = df.nlargest(num_athletes, 'Gold_Medals')\n",
    "    return best_team"
   ]
  },
  {
   "cell_type": "markdown",
   "id": "5c675513",
   "metadata": {},
   "source": [
    "### Define the number of events\n"
   ]
  },
  {
   "cell_type": "code",
   "execution_count": 10,
   "id": "e059d6fc",
   "metadata": {},
   "outputs": [],
   "source": [
    "num_events = 4"
   ]
  },
  {
   "cell_type": "markdown",
   "id": "f0dfb4e7",
   "metadata": {},
   "source": [
    "### Store results for different team compositions and criteria\n"
   ]
  },
  {
   "cell_type": "code",
   "execution_count": 11,
   "id": "460438b7",
   "metadata": {},
   "outputs": [],
   "source": [
    "results = []"
   ]
  },
  {
   "cell_type": "markdown",
   "id": "55d21a32",
   "metadata": {},
   "source": [
    "### Iterate through optimization criteria\n"
   ]
  },
  {
   "cell_type": "code",
   "execution_count": 12,
   "id": "0fcd37b3",
   "metadata": {},
   "outputs": [],
   "source": [
    "for criteria in optimization_criteria:\n",
    "    \n",
    "    # Select athletes based on criteria and composition rules\n",
    "    selected_team = select_best_team(df, criteria, num_athletes=team_size)\n",
    "    \n",
    "    # Simulate medal count for each event\n",
    "    event_medal_count = {event: {'Gold': 0, 'Silver': 0,\n",
    "                                 'Bronze': 0} for event in range(1, num_events + 1)}\n",
    "    for event in range(1, num_events + 1):\n",
    "        event_scores = {}\n",
    "        for gymnast, _, _ in selected_team[['Name', 'Total_Score', \n",
    "                                            'Country']].values:\n",
    "            \n",
    "            # Simulate a random score between 13 and 16\n",
    "            score = random.uniform(13, 16)\n",
    "            event_scores[gymnast] = score\n",
    "        \n",
    "        sorted_gymnasts = sorted(event_scores.items(), key=lambda x: x[1], reverse=True)\n",
    "        \n",
    "        # Distribute medals\n",
    "        for i, (gymnast, score) in enumerate(sorted_gymnasts):\n",
    "            if i == 0:\n",
    "                medal = 'Gold'\n",
    "            elif i == 1:\n",
    "                medal = 'Silver'\n",
    "            elif i == 2:\n",
    "                medal = 'Bronze'\n",
    "            else:\n",
    "                break\n",
    "            \n",
    "            event_medal_count[event][medal] += 1\n",
    "    \n",
    "    # Store the results for this criteria and team composition\n",
    "    results.append({'Criteria': criteria, 'Team': selected_team,\n",
    "                    'Medal_Count': event_medal_count})\n"
   ]
  },
  {
   "cell_type": "markdown",
   "id": "702caf87",
   "metadata": {},
   "source": [
    "### Analyze and print the results\n"
   ]
  },
  {
   "cell_type": "code",
   "execution_count": 13,
   "id": "22347c10",
   "metadata": {},
   "outputs": [
    {
     "name": "stdout",
     "output_type": "stream",
     "text": [
      "Team Composition based on Total_Score:\n",
      "\n",
      "              Name Country  Total_Score  Gold_Medals\n",
      "36  Rebeca ANDRADE     BRA       15.300          4.0\n",
      "39  Rebeca ANDRADE     BRA       15.166          4.0\n",
      "62    Simone BILES     USA       15.100          2.0\n",
      "60    Simone BILES     USA       14.966          2.0\n",
      "61    Simone BILES     USA       14.966          2.0\n",
      "\n",
      "Medal Count in Different Events:\n",
      "Event 1: Gold - 1, Silver - 1, Bronze - 0\n",
      "Event 2: Gold - 1, Silver - 1, Bronze - 0\n",
      "Event 3: Gold - 1, Silver - 1, Bronze - 0\n",
      "Event 4: Gold - 1, Silver - 1, Bronze - 0\n",
      "\n",
      "\n",
      "Team Composition based on Gold_Medals:\n",
      "\n",
      "              Name Country  Total_Score  Gold_Medals\n",
      "26  Rebeca ANDRADE     BRA          NaN          4.0\n",
      "27  Rebeca ANDRADE     BRA          NaN          4.0\n",
      "28  Rebeca ANDRADE     BRA          NaN          4.0\n",
      "29  Rebeca ANDRADE     BRA       13.666          4.0\n",
      "30  Rebeca ANDRADE     BRA          NaN          4.0\n",
      "\n",
      "Medal Count in Different Events:\n",
      "Event 1: Gold - 1, Silver - 0, Bronze - 0\n",
      "Event 2: Gold - 1, Silver - 0, Bronze - 0\n",
      "Event 3: Gold - 1, Silver - 0, Bronze - 0\n",
      "Event 4: Gold - 1, Silver - 0, Bronze - 0\n",
      "\n",
      "\n"
     ]
    }
   ],
   "source": [
    "\n",
    "for result in results:\n",
    "    print(f\"Team Composition based on {result['Criteria']}:\\n\")\n",
    "    print(result['Team'][['Name', 'Country', 'Total_Score', 'Gold_Medals']])\n",
    "    print(\"\\nMedal Count in Different Events:\")\n",
    "    for event, medals in result['Medal_Count'].items():\n",
    "        print(f\"Event {event}: Gold - {medals['Gold']}, Silver - {medals['Silver']}, Bronze - {medals['Bronze']}\")\n",
    "    print(\"\\n\")\n"
   ]
  },
  {
   "cell_type": "code",
   "execution_count": 14,
   "id": "2a9a630a",
   "metadata": {},
   "outputs": [
    {
     "name": "stdout",
     "output_type": "stream",
     "text": [
      "       Criteria  Event   Medal  Count\n",
      "0   Total_Score      1    Gold      1\n",
      "1   Total_Score      1  Silver      1\n",
      "2   Total_Score      1  Bronze      0\n",
      "3   Total_Score      2    Gold      1\n",
      "4   Total_Score      2  Silver      1\n",
      "5   Total_Score      2  Bronze      0\n",
      "6   Total_Score      3    Gold      1\n",
      "7   Total_Score      3  Silver      1\n",
      "8   Total_Score      3  Bronze      0\n",
      "9   Total_Score      4    Gold      1\n",
      "10  Total_Score      4  Silver      1\n",
      "11  Total_Score      4  Bronze      0\n",
      "12  Gold_Medals      1    Gold      1\n",
      "13  Gold_Medals      1  Silver      0\n",
      "14  Gold_Medals      1  Bronze      0\n",
      "15  Gold_Medals      2    Gold      1\n",
      "16  Gold_Medals      2  Silver      0\n",
      "17  Gold_Medals      2  Bronze      0\n",
      "18  Gold_Medals      3    Gold      1\n",
      "19  Gold_Medals      3  Silver      0\n",
      "20  Gold_Medals      3  Bronze      0\n",
      "21  Gold_Medals      4    Gold      1\n",
      "22  Gold_Medals      4  Silver      0\n",
      "23  Gold_Medals      4  Bronze      0\n"
     ]
    }
   ],
   "source": [
    "\n",
    "    \n",
    "# Create a list of dictionaries to store the results\n",
    "final_results = []\n",
    "for result in results:\n",
    "    criteria = result['Criteria']\n",
    "    for event, medals in result['Medal_Count'].items():\n",
    "        for medal, count in medals.items():\n",
    "            final_results.append({'Criteria': criteria, 'Event': event, 'Medal': medal, 'Count': count})\n",
    "\n",
    "# Convert the list of dictionaries into a DataFrame\n",
    "results_df = pd.DataFrame(final_results)\n",
    "\n",
    "# Display the results DataFrame\n",
    "print(results_df)\n"
   ]
  },
  {
   "cell_type": "code",
   "execution_count": 15,
   "id": "61af4685",
   "metadata": {},
   "outputs": [
    {
     "name": "stdout",
     "output_type": "stream",
     "text": [
      "<class 'pandas.core.frame.DataFrame'>\n",
      "RangeIndex: 24 entries, 0 to 23\n",
      "Data columns (total 4 columns):\n",
      " #   Column    Non-Null Count  Dtype \n",
      "---  ------    --------------  ----- \n",
      " 0   Criteria  24 non-null     object\n",
      " 1   Event     24 non-null     int64 \n",
      " 2   Medal     24 non-null     object\n",
      " 3   Count     24 non-null     int64 \n",
      "dtypes: int64(2), object(2)\n",
      "memory usage: 896.0+ bytes\n"
     ]
    }
   ],
   "source": [
    "results_df.info()"
   ]
  },
  {
   "cell_type": "code",
   "execution_count": 16,
   "id": "f8264da7",
   "metadata": {},
   "outputs": [
    {
     "data": {
      "text/html": [
       "<div>\n",
       "<style scoped>\n",
       "    .dataframe tbody tr th:only-of-type {\n",
       "        vertical-align: middle;\n",
       "    }\n",
       "\n",
       "    .dataframe tbody tr th {\n",
       "        vertical-align: top;\n",
       "    }\n",
       "\n",
       "    .dataframe thead th {\n",
       "        text-align: right;\n",
       "    }\n",
       "</style>\n",
       "<table border=\"1\" class=\"dataframe\">\n",
       "  <thead>\n",
       "    <tr style=\"text-align: right;\">\n",
       "      <th></th>\n",
       "      <th>Event</th>\n",
       "      <th>Count</th>\n",
       "    </tr>\n",
       "  </thead>\n",
       "  <tbody>\n",
       "    <tr>\n",
       "      <th>Event</th>\n",
       "      <td>1.000000e+00</td>\n",
       "      <td>-1.075765e-16</td>\n",
       "    </tr>\n",
       "    <tr>\n",
       "      <th>Count</th>\n",
       "      <td>-1.075765e-16</td>\n",
       "      <td>1.000000e+00</td>\n",
       "    </tr>\n",
       "  </tbody>\n",
       "</table>\n",
       "</div>"
      ],
      "text/plain": [
       "              Event         Count\n",
       "Event  1.000000e+00 -1.075765e-16\n",
       "Count -1.075765e-16  1.000000e+00"
      ]
     },
     "execution_count": 16,
     "metadata": {},
     "output_type": "execute_result"
    }
   ],
   "source": [
    "results_df.corr()"
   ]
  },
  {
   "cell_type": "code",
   "execution_count": null,
   "id": "87d7e592",
   "metadata": {},
   "outputs": [],
   "source": []
  }
 ],
 "metadata": {
  "kernelspec": {
   "display_name": "Python 3 (ipykernel)",
   "language": "python",
   "name": "python3"
  },
  "language_info": {
   "codemirror_mode": {
    "name": "ipython",
    "version": 3
   },
   "file_extension": ".py",
   "mimetype": "text/x-python",
   "name": "python",
   "nbconvert_exporter": "python",
   "pygments_lexer": "ipython3",
   "version": "3.9.12"
  }
 },
 "nbformat": 4,
 "nbformat_minor": 5
}
