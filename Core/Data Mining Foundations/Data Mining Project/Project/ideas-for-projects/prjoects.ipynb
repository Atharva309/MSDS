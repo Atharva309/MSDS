{
 "cells": [
  {
   "cell_type": "markdown",
   "id": "51a4aa47-60d7-4448-b8b3-f86bd994a258",
   "metadata": {},
   "source": [
    "- gymnastics comp\n",
    "- babyLM"
   ]
  },
  {
   "cell_type": "code",
   "execution_count": null,
   "id": "8e16baa3-f69f-4445-b6a6-443712a6db09",
   "metadata": {},
   "outputs": [],
   "source": []
  }
 ],
 "metadata": {
  "kernelspec": {
   "display_name": "Python 3 (ipykernel)",
   "language": "python",
   "name": "python3"
  },
  "language_info": {
   "codemirror_mode": {
    "name": "ipython",
    "version": 3
   },
   "file_extension": ".py",
   "mimetype": "text/x-python",
   "name": "python",
   "nbconvert_exporter": "python",
   "pygments_lexer": "ipython3",
   "version": "3.8.18"
  }
 },
 "nbformat": 4,
 "nbformat_minor": 5
}
