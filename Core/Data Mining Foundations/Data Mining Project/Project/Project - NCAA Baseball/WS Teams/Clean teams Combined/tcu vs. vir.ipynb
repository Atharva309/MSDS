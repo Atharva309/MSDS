{
 "cells": [
  {
   "cell_type": "code",
   "execution_count": 1,
   "id": "bcd2945c",
   "metadata": {},
   "outputs": [],
   "source": [
    "import pandas as pd\n",
    "import numpy as np"
   ]
  },
  {
   "cell_type": "code",
   "execution_count": 2,
   "id": "6da04e31",
   "metadata": {},
   "outputs": [],
   "source": [
    "virpit = pd.read_csv('../vir-pitch-mean.csv')"
   ]
  },
  {
   "cell_type": "code",
   "execution_count": 3,
   "id": "441d091d",
   "metadata": {},
   "outputs": [],
   "source": [
    "virbat = pd.read_csv('../vir-bat-mean.csv')"
   ]
  },
  {
   "cell_type": "code",
   "execution_count": 4,
   "id": "e6b4bfce",
   "metadata": {},
   "outputs": [],
   "source": [
    "tcubat = pd.read_csv('../tcu-bat-mean.csv')"
   ]
  },
  {
   "cell_type": "code",
   "execution_count": 6,
   "id": "14c17083",
   "metadata": {},
   "outputs": [],
   "source": [
    "tcupit = pd.read_csv('../tcu-pitch-mean.csv')"
   ]
  },
  {
   "cell_type": "code",
   "execution_count": 7,
   "id": "70d2853a",
   "metadata": {},
   "outputs": [
    {
     "data": {
      "text/html": [
       "<div>\n",
       "<style scoped>\n",
       "    .dataframe tbody tr th:only-of-type {\n",
       "        vertical-align: middle;\n",
       "    }\n",
       "\n",
       "    .dataframe tbody tr th {\n",
       "        vertical-align: top;\n",
       "    }\n",
       "\n",
       "    .dataframe thead th {\n",
       "        text-align: right;\n",
       "    }\n",
       "</style>\n",
       "<table border=\"1\" class=\"dataframe\">\n",
       "  <thead>\n",
       "    <tr style=\"text-align: right;\">\n",
       "      <th></th>\n",
       "      <th>2B</th>\n",
       "      <th>3B</th>\n",
       "      <th>AB</th>\n",
       "      <th>BA</th>\n",
       "      <th>BB</th>\n",
       "      <th>G</th>\n",
       "      <th>H</th>\n",
       "      <th>HBP</th>\n",
       "      <th>HR</th>\n",
       "      <th>OBP</th>\n",
       "      <th>OPS</th>\n",
       "      <th>PA</th>\n",
       "      <th>R</th>\n",
       "      <th>RBI</th>\n",
       "      <th>SF</th>\n",
       "      <th>SLG</th>\n",
       "      <th>SO</th>\n",
       "      <th>TB</th>\n",
       "    </tr>\n",
       "  </thead>\n",
       "  <tbody>\n",
       "    <tr>\n",
       "      <th>0</th>\n",
       "      <td>9.8</td>\n",
       "      <td>1.6</td>\n",
       "      <td>161.8</td>\n",
       "      <td>0.299</td>\n",
       "      <td>26.1</td>\n",
       "      <td>47.6</td>\n",
       "      <td>49.3</td>\n",
       "      <td>5.4</td>\n",
       "      <td>9.2</td>\n",
       "      <td>0.4069</td>\n",
       "      <td>0.954</td>\n",
       "      <td>196.7</td>\n",
       "      <td>41.9</td>\n",
       "      <td>38.7</td>\n",
       "      <td>2.2</td>\n",
       "      <td>0.5469</td>\n",
       "      <td>41.7</td>\n",
       "      <td>89.9</td>\n",
       "    </tr>\n",
       "  </tbody>\n",
       "</table>\n",
       "</div>"
      ],
      "text/plain": [
       "    2B   3B     AB     BA    BB     G     H  HBP   HR     OBP    OPS     PA  \\\n",
       "0  9.8  1.6  161.8  0.299  26.1  47.6  49.3  5.4  9.2  0.4069  0.954  196.7   \n",
       "\n",
       "      R   RBI   SF     SLG    SO    TB  \n",
       "0  41.9  38.7  2.2  0.5469  41.7  89.9  "
      ]
     },
     "execution_count": 7,
     "metadata": {},
     "output_type": "execute_result"
    }
   ],
   "source": [
    "virbat"
   ]
  },
  {
   "cell_type": "code",
   "execution_count": 8,
   "id": "a900b2bd",
   "metadata": {},
   "outputs": [
    {
     "data": {
      "text/html": [
       "<div>\n",
       "<style scoped>\n",
       "    .dataframe tbody tr th:only-of-type {\n",
       "        vertical-align: middle;\n",
       "    }\n",
       "\n",
       "    .dataframe tbody tr th {\n",
       "        vertical-align: top;\n",
       "    }\n",
       "\n",
       "    .dataframe thead th {\n",
       "        text-align: right;\n",
       "    }\n",
       "</style>\n",
       "<table border=\"1\" class=\"dataframe\">\n",
       "  <thead>\n",
       "    <tr style=\"text-align: right;\">\n",
       "      <th></th>\n",
       "      <th>2B</th>\n",
       "      <th>3B</th>\n",
       "      <th>AB</th>\n",
       "      <th>BA</th>\n",
       "      <th>BB</th>\n",
       "      <th>G</th>\n",
       "      <th>H</th>\n",
       "      <th>HBP</th>\n",
       "      <th>HR</th>\n",
       "      <th>OBP</th>\n",
       "      <th>OPS</th>\n",
       "      <th>PA</th>\n",
       "      <th>R</th>\n",
       "      <th>RBI</th>\n",
       "      <th>SF</th>\n",
       "      <th>SLG</th>\n",
       "      <th>SO</th>\n",
       "      <th>TB</th>\n",
       "    </tr>\n",
       "  </thead>\n",
       "  <tbody>\n",
       "    <tr>\n",
       "      <th>0</th>\n",
       "      <td>12.8</td>\n",
       "      <td>0.8</td>\n",
       "      <td>205.2</td>\n",
       "      <td>0.2977</td>\n",
       "      <td>29.5</td>\n",
       "      <td>55.5</td>\n",
       "      <td>62.2</td>\n",
       "      <td>7.2</td>\n",
       "      <td>8.6</td>\n",
       "      <td>0.3985</td>\n",
       "      <td>0.8863</td>\n",
       "      <td>246.6</td>\n",
       "      <td>48.9</td>\n",
       "      <td>45.3</td>\n",
       "      <td>2.8</td>\n",
       "      <td>0.4879</td>\n",
       "      <td>46.1</td>\n",
       "      <td>102.4</td>\n",
       "    </tr>\n",
       "  </tbody>\n",
       "</table>\n",
       "</div>"
      ],
      "text/plain": [
       "     2B   3B     AB      BA    BB     G     H  HBP   HR     OBP     OPS  \\\n",
       "0  12.8  0.8  205.2  0.2977  29.5  55.5  62.2  7.2  8.6  0.3985  0.8863   \n",
       "\n",
       "      PA     R   RBI   SF     SLG    SO     TB  \n",
       "0  246.6  48.9  45.3  2.8  0.4879  46.1  102.4  "
      ]
     },
     "execution_count": 8,
     "metadata": {},
     "output_type": "execute_result"
    }
   ],
   "source": [
    "tcubat"
   ]
  },
  {
   "cell_type": "code",
   "execution_count": 9,
   "id": "4af27670",
   "metadata": {},
   "outputs": [
    {
     "data": {
      "text/plain": [
       "0    0.0013\n",
       "Name: BA, dtype: float64"
      ]
     },
     "execution_count": 9,
     "metadata": {},
     "output_type": "execute_result"
    }
   ],
   "source": [
    "virbat['BA'] - tcubat['BA']"
   ]
  },
  {
   "cell_type": "code",
   "execution_count": 10,
   "id": "627a6bd8",
   "metadata": {},
   "outputs": [
    {
     "data": {
      "text/plain": [
       "0    0.6\n",
       "Name: HR, dtype: float64"
      ]
     },
     "execution_count": 10,
     "metadata": {},
     "output_type": "execute_result"
    }
   ],
   "source": [
    "virbat['HR'] - tcubat['HR']"
   ]
  },
  {
   "cell_type": "code",
   "execution_count": 11,
   "id": "fa8d7220",
   "metadata": {},
   "outputs": [
    {
     "data": {
      "text/plain": [
       "0    0.0084\n",
       "Name: OBP, dtype: float64"
      ]
     },
     "execution_count": 11,
     "metadata": {},
     "output_type": "execute_result"
    }
   ],
   "source": [
    "virbat['OBP'] - tcubat['OBP']"
   ]
  },
  {
   "cell_type": "code",
   "execution_count": 12,
   "id": "260c65d9",
   "metadata": {},
   "outputs": [
    {
     "data": {
      "text/plain": [
       "0    0.0677\n",
       "Name: OPS, dtype: float64"
      ]
     },
     "execution_count": 12,
     "metadata": {},
     "output_type": "execute_result"
    }
   ],
   "source": [
    "virbat['OPS'] - tcubat['OPS']"
   ]
  },
  {
   "cell_type": "code",
   "execution_count": 13,
   "id": "5fc061fa",
   "metadata": {},
   "outputs": [
    {
     "data": {
      "text/plain": [
       "0    0.059\n",
       "Name: SLG, dtype: float64"
      ]
     },
     "execution_count": 13,
     "metadata": {},
     "output_type": "execute_result"
    }
   ],
   "source": [
    "virbat['SLG'] - tcubat['SLG']"
   ]
  },
  {
   "cell_type": "code",
   "execution_count": 14,
   "id": "473eb17a",
   "metadata": {},
   "outputs": [
    {
     "data": {
      "text/plain": [
       "0   -6.6\n",
       "Name: RBI, dtype: float64"
      ]
     },
     "execution_count": 14,
     "metadata": {},
     "output_type": "execute_result"
    }
   ],
   "source": [
    "virbat['RBI'] - tcubat['RBI']"
   ]
  },
  {
   "cell_type": "code",
   "execution_count": 15,
   "id": "566b2a10",
   "metadata": {},
   "outputs": [
    {
     "data": {
      "text/plain": [
       "0    1.496333\n",
       "Name: ERA, dtype: float64"
      ]
     },
     "execution_count": 15,
     "metadata": {},
     "output_type": "execute_result"
    }
   ],
   "source": [
    "virpit['ERA'] - tcupit['ERA']"
   ]
  },
  {
   "cell_type": "code",
   "execution_count": 16,
   "id": "dd4cba76",
   "metadata": {},
   "outputs": [
    {
     "data": {
      "text/plain": [
       "0    1.62\n",
       "Name: H9, dtype: float64"
      ]
     },
     "execution_count": 16,
     "metadata": {},
     "output_type": "execute_result"
    }
   ],
   "source": [
    "virpit['H9'] - tcupit['H9']"
   ]
  },
  {
   "cell_type": "code",
   "execution_count": 17,
   "id": "59d0b4bf",
   "metadata": {},
   "outputs": [
    {
     "data": {
      "text/plain": [
       "0    1.286667\n",
       "Name: SO9, dtype: float64"
      ]
     },
     "execution_count": 17,
     "metadata": {},
     "output_type": "execute_result"
    }
   ],
   "source": [
    "virpit['SO9'] - tcupit['SO9']"
   ]
  },
  {
   "cell_type": "markdown",
   "id": "4ce1cee1",
   "metadata": {},
   "source": [
    "### WHIP - the sum of a pitcher's walks and hits, divided by his total innings pitched. (lower number is better)"
   ]
  },
  {
   "cell_type": "code",
   "execution_count": 18,
   "id": "27f59cfe",
   "metadata": {},
   "outputs": [
    {
     "data": {
      "text/plain": [
       "0    0.333833\n",
       "Name: WHIP, dtype: float64"
      ]
     },
     "execution_count": 18,
     "metadata": {},
     "output_type": "execute_result"
    }
   ],
   "source": [
    "virpit['WHIP'] - tcupit['WHIP']"
   ]
  },
  {
   "cell_type": "code",
   "execution_count": 19,
   "id": "a6ef9539",
   "metadata": {},
   "outputs": [
    {
     "data": {
      "text/plain": [
       "0    1.38\n",
       "Name: BB9, dtype: float64"
      ]
     },
     "execution_count": 19,
     "metadata": {},
     "output_type": "execute_result"
    }
   ],
   "source": [
    "virpit['BB9'] - tcupit['BB9']"
   ]
  },
  {
   "cell_type": "code",
   "execution_count": null,
   "id": "b7b1f3a7",
   "metadata": {},
   "outputs": [],
   "source": []
  }
 ],
 "metadata": {
  "kernelspec": {
   "display_name": "Python 3 (ipykernel)",
   "language": "python",
   "name": "python3"
  },
  "language_info": {
   "codemirror_mode": {
    "name": "ipython",
    "version": 3
   },
   "file_extension": ".py",
   "mimetype": "text/x-python",
   "name": "python",
   "nbconvert_exporter": "python",
   "pygments_lexer": "ipython3",
   "version": "3.9.12"
  }
 },
 "nbformat": 4,
 "nbformat_minor": 5
}
