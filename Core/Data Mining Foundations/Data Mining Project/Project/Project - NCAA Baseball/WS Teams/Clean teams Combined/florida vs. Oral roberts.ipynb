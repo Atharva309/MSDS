{
 "cells": [
  {
   "cell_type": "code",
   "execution_count": 1,
   "id": "e5c92876",
   "metadata": {},
   "outputs": [],
   "source": [
    "import pandas as pd \n",
    "import numpy as np"
   ]
  },
  {
   "cell_type": "code",
   "execution_count": 2,
   "id": "72ef15f0",
   "metadata": {},
   "outputs": [],
   "source": [
    "orbat = pd.read_csv('../or-bat-mean.csv')\n",
    "orpit = pd.read_csv('../or-pitch-mean.csv')"
   ]
  },
  {
   "cell_type": "code",
   "execution_count": 3,
   "id": "f2aa5d53",
   "metadata": {},
   "outputs": [
    {
     "data": {
      "text/html": [
       "<div>\n",
       "<style scoped>\n",
       "    .dataframe tbody tr th:only-of-type {\n",
       "        vertical-align: middle;\n",
       "    }\n",
       "\n",
       "    .dataframe tbody tr th {\n",
       "        vertical-align: top;\n",
       "    }\n",
       "\n",
       "    .dataframe thead th {\n",
       "        text-align: right;\n",
       "    }\n",
       "</style>\n",
       "<table border=\"1\" class=\"dataframe\">\n",
       "  <thead>\n",
       "    <tr style=\"text-align: right;\">\n",
       "      <th></th>\n",
       "      <th>2B</th>\n",
       "      <th>3B</th>\n",
       "      <th>AB</th>\n",
       "      <th>BA</th>\n",
       "      <th>BB</th>\n",
       "      <th>G</th>\n",
       "      <th>H</th>\n",
       "      <th>HBP</th>\n",
       "      <th>HR</th>\n",
       "      <th>OBP</th>\n",
       "      <th>OPS</th>\n",
       "      <th>PA</th>\n",
       "      <th>R</th>\n",
       "      <th>RBI</th>\n",
       "      <th>SF</th>\n",
       "      <th>SLG</th>\n",
       "      <th>SO</th>\n",
       "      <th>TB</th>\n",
       "    </tr>\n",
       "  </thead>\n",
       "  <tbody>\n",
       "    <tr>\n",
       "      <th>0</th>\n",
       "      <td>12.2</td>\n",
       "      <td>1.9</td>\n",
       "      <td>211.7</td>\n",
       "      <td>0.3209</td>\n",
       "      <td>30.0</td>\n",
       "      <td>56.2</td>\n",
       "      <td>69.0</td>\n",
       "      <td>5.9</td>\n",
       "      <td>9.1</td>\n",
       "      <td>0.4174</td>\n",
       "      <td>0.9451</td>\n",
       "      <td>253.4</td>\n",
       "      <td>51.7</td>\n",
       "      <td>45.8</td>\n",
       "      <td>3.3</td>\n",
       "      <td>0.528</td>\n",
       "      <td>42.8</td>\n",
       "      <td>112.3</td>\n",
       "    </tr>\n",
       "  </tbody>\n",
       "</table>\n",
       "</div>"
      ],
      "text/plain": [
       "     2B   3B     AB      BA    BB     G     H  HBP   HR     OBP     OPS  \\\n",
       "0  12.2  1.9  211.7  0.3209  30.0  56.2  69.0  5.9  9.1  0.4174  0.9451   \n",
       "\n",
       "      PA     R   RBI   SF    SLG    SO     TB  \n",
       "0  253.4  51.7  45.8  3.3  0.528  42.8  112.3  "
      ]
     },
     "execution_count": 3,
     "metadata": {},
     "output_type": "execute_result"
    }
   ],
   "source": [
    "orbat"
   ]
  },
  {
   "cell_type": "code",
   "execution_count": 4,
   "id": "d178a3ec",
   "metadata": {},
   "outputs": [
    {
     "data": {
      "text/html": [
       "<div>\n",
       "<style scoped>\n",
       "    .dataframe tbody tr th:only-of-type {\n",
       "        vertical-align: middle;\n",
       "    }\n",
       "\n",
       "    .dataframe tbody tr th {\n",
       "        vertical-align: top;\n",
       "    }\n",
       "\n",
       "    .dataframe thead th {\n",
       "        text-align: right;\n",
       "    }\n",
       "</style>\n",
       "<table border=\"1\" class=\"dataframe\">\n",
       "  <thead>\n",
       "    <tr style=\"text-align: right;\">\n",
       "      <th></th>\n",
       "      <th>BB</th>\n",
       "      <th>BB9</th>\n",
       "      <th>BF</th>\n",
       "      <th>ER</th>\n",
       "      <th>ERA</th>\n",
       "      <th>G</th>\n",
       "      <th>GS</th>\n",
       "      <th>H</th>\n",
       "      <th>H9</th>\n",
       "      <th>HBP</th>\n",
       "      <th>...</th>\n",
       "      <th>L</th>\n",
       "      <th>R</th>\n",
       "      <th>SHO</th>\n",
       "      <th>SO</th>\n",
       "      <th>SO/W</th>\n",
       "      <th>SO9</th>\n",
       "      <th>SV</th>\n",
       "      <th>W</th>\n",
       "      <th>WHIP</th>\n",
       "      <th>WP</th>\n",
       "    </tr>\n",
       "  </thead>\n",
       "  <tbody>\n",
       "    <tr>\n",
       "      <th>0</th>\n",
       "      <td>21.166667</td>\n",
       "      <td>2.95</td>\n",
       "      <td>284.166667</td>\n",
       "      <td>26.666667</td>\n",
       "      <td>3.513333</td>\n",
       "      <td>23.166667</td>\n",
       "      <td>8.5</td>\n",
       "      <td>59.5</td>\n",
       "      <td>7.75</td>\n",
       "      <td>8.0</td>\n",
       "      <td>...</td>\n",
       "      <td>1.333333</td>\n",
       "      <td>28.666667</td>\n",
       "      <td>0.0</td>\n",
       "      <td>75.0</td>\n",
       "      <td>4.066667</td>\n",
       "      <td>10.266667</td>\n",
       "      <td>2.666667</td>\n",
       "      <td>6.5</td>\n",
       "      <td>1.188833</td>\n",
       "      <td>1.666667</td>\n",
       "    </tr>\n",
       "  </tbody>\n",
       "</table>\n",
       "<p>1 rows × 23 columns</p>\n",
       "</div>"
      ],
      "text/plain": [
       "          BB   BB9          BF         ER       ERA          G   GS     H  \\\n",
       "0  21.166667  2.95  284.166667  26.666667  3.513333  23.166667  8.5  59.5   \n",
       "\n",
       "     H9  HBP  ...         L          R  SHO    SO      SO/W        SO9  \\\n",
       "0  7.75  8.0  ...  1.333333  28.666667  0.0  75.0  4.066667  10.266667   \n",
       "\n",
       "         SV    W      WHIP        WP  \n",
       "0  2.666667  6.5  1.188833  1.666667  \n",
       "\n",
       "[1 rows x 23 columns]"
      ]
     },
     "execution_count": 4,
     "metadata": {},
     "output_type": "execute_result"
    }
   ],
   "source": [
    "orpit"
   ]
  },
  {
   "cell_type": "code",
   "execution_count": 5,
   "id": "94485c6b",
   "metadata": {},
   "outputs": [],
   "source": [
    "flpit = pd.read_csv('../fl-pitch-mean.csv')\n",
    "flbat = pd.read_csv('../fl-bat-mean.csv')"
   ]
  },
  {
   "cell_type": "code",
   "execution_count": 6,
   "id": "534c5200",
   "metadata": {},
   "outputs": [
    {
     "data": {
      "text/html": [
       "<div>\n",
       "<style scoped>\n",
       "    .dataframe tbody tr th:only-of-type {\n",
       "        vertical-align: middle;\n",
       "    }\n",
       "\n",
       "    .dataframe tbody tr th {\n",
       "        vertical-align: top;\n",
       "    }\n",
       "\n",
       "    .dataframe thead th {\n",
       "        text-align: right;\n",
       "    }\n",
       "</style>\n",
       "<table border=\"1\" class=\"dataframe\">\n",
       "  <thead>\n",
       "    <tr style=\"text-align: right;\">\n",
       "      <th></th>\n",
       "      <th>BB</th>\n",
       "      <th>BB9</th>\n",
       "      <th>BF</th>\n",
       "      <th>ER</th>\n",
       "      <th>ERA</th>\n",
       "      <th>G</th>\n",
       "      <th>GS</th>\n",
       "      <th>H</th>\n",
       "      <th>H9</th>\n",
       "      <th>HBP</th>\n",
       "      <th>...</th>\n",
       "      <th>L</th>\n",
       "      <th>R</th>\n",
       "      <th>SHO</th>\n",
       "      <th>SO</th>\n",
       "      <th>SO/W</th>\n",
       "      <th>SO9</th>\n",
       "      <th>SV</th>\n",
       "      <th>W</th>\n",
       "      <th>WHIP</th>\n",
       "      <th>WP</th>\n",
       "    </tr>\n",
       "  </thead>\n",
       "  <tbody>\n",
       "    <tr>\n",
       "      <th>0</th>\n",
       "      <td>31.666667</td>\n",
       "      <td>4.383333</td>\n",
       "      <td>284.833333</td>\n",
       "      <td>29.0</td>\n",
       "      <td>3.825</td>\n",
       "      <td>21.5</td>\n",
       "      <td>8.833333</td>\n",
       "      <td>52.0</td>\n",
       "      <td>7.233333</td>\n",
       "      <td>7.0</td>\n",
       "      <td>...</td>\n",
       "      <td>2.0</td>\n",
       "      <td>32.0</td>\n",
       "      <td>0.166667</td>\n",
       "      <td>84.166667</td>\n",
       "      <td>2.801667</td>\n",
       "      <td>11.666667</td>\n",
       "      <td>3.166667</td>\n",
       "      <td>6.166667</td>\n",
       "      <td>1.2905</td>\n",
       "      <td>5.166667</td>\n",
       "    </tr>\n",
       "  </tbody>\n",
       "</table>\n",
       "<p>1 rows × 23 columns</p>\n",
       "</div>"
      ],
      "text/plain": [
       "          BB       BB9          BF    ER    ERA     G        GS     H  \\\n",
       "0  31.666667  4.383333  284.833333  29.0  3.825  21.5  8.833333  52.0   \n",
       "\n",
       "         H9  HBP  ...    L     R       SHO         SO      SO/W        SO9  \\\n",
       "0  7.233333  7.0  ...  2.0  32.0  0.166667  84.166667  2.801667  11.666667   \n",
       "\n",
       "         SV         W    WHIP        WP  \n",
       "0  3.166667  6.166667  1.2905  5.166667  \n",
       "\n",
       "[1 rows x 23 columns]"
      ]
     },
     "execution_count": 6,
     "metadata": {},
     "output_type": "execute_result"
    }
   ],
   "source": [
    "flpit"
   ]
  },
  {
   "cell_type": "code",
   "execution_count": 7,
   "id": "35c8f559",
   "metadata": {},
   "outputs": [
    {
     "data": {
      "text/html": [
       "<div>\n",
       "<style scoped>\n",
       "    .dataframe tbody tr th:only-of-type {\n",
       "        vertical-align: middle;\n",
       "    }\n",
       "\n",
       "    .dataframe tbody tr th {\n",
       "        vertical-align: top;\n",
       "    }\n",
       "\n",
       "    .dataframe thead th {\n",
       "        text-align: right;\n",
       "    }\n",
       "</style>\n",
       "<table border=\"1\" class=\"dataframe\">\n",
       "  <thead>\n",
       "    <tr style=\"text-align: right;\">\n",
       "      <th></th>\n",
       "      <th>2B</th>\n",
       "      <th>3B</th>\n",
       "      <th>AB</th>\n",
       "      <th>BA</th>\n",
       "      <th>BB</th>\n",
       "      <th>G</th>\n",
       "      <th>H</th>\n",
       "      <th>HBP</th>\n",
       "      <th>HR</th>\n",
       "      <th>OBP</th>\n",
       "      <th>OPS</th>\n",
       "      <th>PA</th>\n",
       "      <th>R</th>\n",
       "      <th>RBI</th>\n",
       "      <th>SF</th>\n",
       "      <th>SLG</th>\n",
       "      <th>SO</th>\n",
       "      <th>TB</th>\n",
       "    </tr>\n",
       "  </thead>\n",
       "  <tbody>\n",
       "    <tr>\n",
       "      <th>0</th>\n",
       "      <td>10.9</td>\n",
       "      <td>1.7</td>\n",
       "      <td>195.0</td>\n",
       "      <td>0.293</td>\n",
       "      <td>27.4</td>\n",
       "      <td>56.6</td>\n",
       "      <td>58.3</td>\n",
       "      <td>7.4</td>\n",
       "      <td>12.4</td>\n",
       "      <td>0.3915</td>\n",
       "      <td>0.9345</td>\n",
       "      <td>234.0</td>\n",
       "      <td>47.7</td>\n",
       "      <td>45.5</td>\n",
       "      <td>3.0</td>\n",
       "      <td>0.5432</td>\n",
       "      <td>44.6</td>\n",
       "      <td>109.8</td>\n",
       "    </tr>\n",
       "  </tbody>\n",
       "</table>\n",
       "</div>"
      ],
      "text/plain": [
       "     2B   3B     AB     BA    BB     G     H  HBP    HR     OBP     OPS  \\\n",
       "0  10.9  1.7  195.0  0.293  27.4  56.6  58.3  7.4  12.4  0.3915  0.9345   \n",
       "\n",
       "      PA     R   RBI   SF     SLG    SO     TB  \n",
       "0  234.0  47.7  45.5  3.0  0.5432  44.6  109.8  "
      ]
     },
     "execution_count": 7,
     "metadata": {},
     "output_type": "execute_result"
    }
   ],
   "source": [
    "flbat"
   ]
  },
  {
   "cell_type": "code",
   "execution_count": 8,
   "id": "1f227521",
   "metadata": {},
   "outputs": [
    {
     "data": {
      "text/plain": [
       "0   -0.0279\n",
       "Name: BA, dtype: float64"
      ]
     },
     "execution_count": 8,
     "metadata": {},
     "output_type": "execute_result"
    }
   ],
   "source": [
    "flbat['BA'] - orbat['BA']"
   ]
  },
  {
   "cell_type": "code",
   "execution_count": 9,
   "id": "ec8cdc21",
   "metadata": {},
   "outputs": [
    {
     "data": {
      "text/plain": [
       "0    3.3\n",
       "Name: HR, dtype: float64"
      ]
     },
     "execution_count": 9,
     "metadata": {},
     "output_type": "execute_result"
    }
   ],
   "source": [
    "flbat['HR'] - orbat['HR']"
   ]
  },
  {
   "cell_type": "code",
   "execution_count": 10,
   "id": "9476e82d",
   "metadata": {},
   "outputs": [
    {
     "data": {
      "text/plain": [
       "0   -0.0259\n",
       "Name: OBP, dtype: float64"
      ]
     },
     "execution_count": 10,
     "metadata": {},
     "output_type": "execute_result"
    }
   ],
   "source": [
    "flbat['OBP'] - orbat['OBP']"
   ]
  },
  {
   "cell_type": "markdown",
   "id": "4e01e937",
   "metadata": {},
   "source": [
    "### combine how well a hitter can reach base, with how well he can hit for average and for power"
   ]
  },
  {
   "cell_type": "code",
   "execution_count": 11,
   "id": "27af1e09",
   "metadata": {},
   "outputs": [
    {
     "data": {
      "text/plain": [
       "0   -0.0106\n",
       "Name: OPS, dtype: float64"
      ]
     },
     "execution_count": 11,
     "metadata": {},
     "output_type": "execute_result"
    }
   ],
   "source": [
    "flbat['OPS'] - orbat['OPS']"
   ]
  },
  {
   "cell_type": "code",
   "execution_count": 12,
   "id": "df462424",
   "metadata": {},
   "outputs": [
    {
     "data": {
      "text/plain": [
       "0   -0.3\n",
       "Name: RBI, dtype: float64"
      ]
     },
     "execution_count": 12,
     "metadata": {},
     "output_type": "execute_result"
    }
   ],
   "source": [
    "flbat['RBI'] - orbat['RBI']"
   ]
  },
  {
   "cell_type": "markdown",
   "id": "f73a148f",
   "metadata": {},
   "source": [
    "### Slugging percentage represents the total number of bases a player records per at-bat."
   ]
  },
  {
   "cell_type": "code",
   "execution_count": 13,
   "id": "e2e01774",
   "metadata": {},
   "outputs": [
    {
     "data": {
      "text/plain": [
       "0    0.0152\n",
       "Name: SLG, dtype: float64"
      ]
     },
     "execution_count": 13,
     "metadata": {},
     "output_type": "execute_result"
    }
   ],
   "source": [
    "flbat['SLG'] - orbat['SLG']"
   ]
  },
  {
   "cell_type": "markdown",
   "id": "5c9fd2b6",
   "metadata": {},
   "source": [
    "## Batting matchup is close with Oral roberts having a better ops and rbi. the difference is florida having 3.3 more homeruns, which could be the difference between a 3-3 game and a 8-3 game (favoring florida) overall close/toss-up matchup"
   ]
  },
  {
   "cell_type": "code",
   "execution_count": 14,
   "id": "801e0648",
   "metadata": {},
   "outputs": [
    {
     "data": {
      "text/plain": [
       "0    0.311667\n",
       "Name: ERA, dtype: float64"
      ]
     },
     "execution_count": 14,
     "metadata": {},
     "output_type": "execute_result"
    }
   ],
   "source": [
    "flpit['ERA'] - orpit['ERA']"
   ]
  },
  {
   "cell_type": "code",
   "execution_count": 15,
   "id": "5f6ae005",
   "metadata": {},
   "outputs": [
    {
     "data": {
      "text/plain": [
       "0   -0.516667\n",
       "Name: H9, dtype: float64"
      ]
     },
     "execution_count": 15,
     "metadata": {},
     "output_type": "execute_result"
    }
   ],
   "source": [
    "flpit['H9'] - orpit['H9']"
   ]
  },
  {
   "cell_type": "code",
   "execution_count": 16,
   "id": "0ae1dbce",
   "metadata": {},
   "outputs": [
    {
     "data": {
      "text/plain": [
       "0    1.4\n",
       "Name: SO9, dtype: float64"
      ]
     },
     "execution_count": 16,
     "metadata": {},
     "output_type": "execute_result"
    }
   ],
   "source": [
    "flpit['SO9'] - orpit['SO9']"
   ]
  },
  {
   "cell_type": "markdown",
   "id": "b1bc2f06",
   "metadata": {},
   "source": [
    "### WHIP - the sum of a pitcher's walks and hits, divided by his total innings pitched. (lower number is better)"
   ]
  },
  {
   "cell_type": "code",
   "execution_count": 17,
   "id": "909cc203",
   "metadata": {},
   "outputs": [
    {
     "data": {
      "text/plain": [
       "0    0.101667\n",
       "Name: WHIP, dtype: float64"
      ]
     },
     "execution_count": 17,
     "metadata": {},
     "output_type": "execute_result"
    }
   ],
   "source": [
    "flpit['WHIP'] - orpit['WHIP']"
   ]
  },
  {
   "cell_type": "code",
   "execution_count": 18,
   "id": "1a87b38a",
   "metadata": {},
   "outputs": [
    {
     "data": {
      "text/plain": [
       "0    1.433333\n",
       "Name: BB9, dtype: float64"
      ]
     },
     "execution_count": 18,
     "metadata": {},
     "output_type": "execute_result"
    }
   ],
   "source": [
    "flpit['BB9'] - orpit['BB9']"
   ]
  },
  {
   "cell_type": "markdown",
   "id": "71b5c123",
   "metadata": {},
   "source": [
    "### Pitching looks like its close, but give the advantage to Florida with a better whip"
   ]
  },
  {
   "cell_type": "code",
   "execution_count": null,
   "id": "254d0e20",
   "metadata": {},
   "outputs": [],
   "source": []
  }
 ],
 "metadata": {
  "kernelspec": {
   "display_name": "Python 3 (ipykernel)",
   "language": "python",
   "name": "python3"
  },
  "language_info": {
   "codemirror_mode": {
    "name": "ipython",
    "version": 3
   },
   "file_extension": ".py",
   "mimetype": "text/x-python",
   "name": "python",
   "nbconvert_exporter": "python",
   "pygments_lexer": "ipython3",
   "version": "3.9.12"
  }
 },
 "nbformat": 4,
 "nbformat_minor": 5
}
