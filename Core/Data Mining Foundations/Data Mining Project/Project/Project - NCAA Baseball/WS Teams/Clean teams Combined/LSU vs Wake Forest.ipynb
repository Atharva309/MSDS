{
 "cells": [
  {
   "cell_type": "code",
   "execution_count": 21,
   "id": "7e7ae667",
   "metadata": {},
   "outputs": [],
   "source": [
    "import pandas as pd\n",
    "import numpy as np"
   ]
  },
  {
   "cell_type": "code",
   "execution_count": 22,
   "id": "706edf4d",
   "metadata": {},
   "outputs": [],
   "source": [
    "lsubat = pd.read_csv('../lsu-batting.csv')\n",
    "lsupit = pd.read_csv('../lsupit_mean.csv')"
   ]
  },
  {
   "cell_type": "code",
   "execution_count": 23,
   "id": "f49d6982",
   "metadata": {},
   "outputs": [],
   "source": [
    "wakebat = pd.read_csv('../wake-bat-mean.csv')\n",
    "wakepit = pd.read_csv('../wakepit_mean.csv')"
   ]
  },
  {
   "cell_type": "code",
   "execution_count": 24,
   "id": "abb6ea4c",
   "metadata": {},
   "outputs": [
    {
     "data": {
      "text/html": [
       "<div>\n",
       "<style scoped>\n",
       "    .dataframe tbody tr th:only-of-type {\n",
       "        vertical-align: middle;\n",
       "    }\n",
       "\n",
       "    .dataframe tbody tr th {\n",
       "        vertical-align: top;\n",
       "    }\n",
       "\n",
       "    .dataframe thead th {\n",
       "        text-align: right;\n",
       "    }\n",
       "</style>\n",
       "<table border=\"1\" class=\"dataframe\">\n",
       "  <thead>\n",
       "    <tr style=\"text-align: right;\">\n",
       "      <th></th>\n",
       "      <th>2B</th>\n",
       "      <th>3B</th>\n",
       "      <th>AB</th>\n",
       "      <th>BA</th>\n",
       "      <th>BB</th>\n",
       "      <th>G</th>\n",
       "      <th>H</th>\n",
       "      <th>HBP</th>\n",
       "      <th>HR</th>\n",
       "      <th>OBP</th>\n",
       "      <th>OPS</th>\n",
       "      <th>PA</th>\n",
       "      <th>R</th>\n",
       "      <th>RBI</th>\n",
       "      <th>SF</th>\n",
       "      <th>SLG</th>\n",
       "      <th>SO</th>\n",
       "      <th>TB</th>\n",
       "    </tr>\n",
       "  </thead>\n",
       "  <tbody>\n",
       "    <tr>\n",
       "      <th>0</th>\n",
       "      <td>0.215519</td>\n",
       "      <td>0.012005</td>\n",
       "      <td>3.509319</td>\n",
       "      <td>0.006226</td>\n",
       "      <td>0.664068</td>\n",
       "      <td>1.0</td>\n",
       "      <td>1.132044</td>\n",
       "      <td>0.136432</td>\n",
       "      <td>0.230348</td>\n",
       "      <td>0.008547</td>\n",
       "      <td>0.019977</td>\n",
       "      <td>4.3986</td>\n",
       "      <td>0.993826</td>\n",
       "      <td>0.922781</td>\n",
       "      <td>0.04782</td>\n",
       "      <td>0.011431</td>\n",
       "      <td>0.766892</td>\n",
       "      <td>2.06262</td>\n",
       "    </tr>\n",
       "  </tbody>\n",
       "</table>\n",
       "</div>"
      ],
      "text/plain": [
       "         2B        3B        AB        BA        BB    G         H       HBP  \\\n",
       "0  0.215519  0.012005  3.509319  0.006226  0.664068  1.0  1.132044  0.136432   \n",
       "\n",
       "         HR       OBP       OPS      PA         R       RBI       SF  \\\n",
       "0  0.230348  0.008547  0.019977  4.3986  0.993826  0.922781  0.04782   \n",
       "\n",
       "        SLG        SO       TB  \n",
       "0  0.011431  0.766892  2.06262  "
      ]
     },
     "execution_count": 24,
     "metadata": {},
     "output_type": "execute_result"
    }
   ],
   "source": [
    "wakebat"
   ]
  },
  {
   "cell_type": "code",
   "execution_count": 25,
   "id": "c39cfe44",
   "metadata": {},
   "outputs": [
    {
     "data": {
      "text/html": [
       "<div>\n",
       "<style scoped>\n",
       "    .dataframe tbody tr th:only-of-type {\n",
       "        vertical-align: middle;\n",
       "    }\n",
       "\n",
       "    .dataframe tbody tr th {\n",
       "        vertical-align: top;\n",
       "    }\n",
       "\n",
       "    .dataframe thead th {\n",
       "        text-align: right;\n",
       "    }\n",
       "</style>\n",
       "<table border=\"1\" class=\"dataframe\">\n",
       "  <thead>\n",
       "    <tr style=\"text-align: right;\">\n",
       "      <th></th>\n",
       "      <th>2B</th>\n",
       "      <th>3B</th>\n",
       "      <th>AB</th>\n",
       "      <th>BA</th>\n",
       "      <th>BB</th>\n",
       "      <th>G</th>\n",
       "      <th>H</th>\n",
       "      <th>HBP</th>\n",
       "      <th>HR</th>\n",
       "      <th>OBP</th>\n",
       "      <th>OPS</th>\n",
       "      <th>PA</th>\n",
       "      <th>R</th>\n",
       "      <th>RBI</th>\n",
       "      <th>SF</th>\n",
       "      <th>SLG</th>\n",
       "      <th>SO</th>\n",
       "      <th>TB</th>\n",
       "    </tr>\n",
       "  </thead>\n",
       "  <tbody>\n",
       "    <tr>\n",
       "      <th>0</th>\n",
       "      <td>0.185988</td>\n",
       "      <td>0.021732</td>\n",
       "      <td>3.248135</td>\n",
       "      <td>0.006226</td>\n",
       "      <td>0.559491</td>\n",
       "      <td>1.0</td>\n",
       "      <td>1.066666</td>\n",
       "      <td>0.204167</td>\n",
       "      <td>0.232367</td>\n",
       "      <td>0.008529</td>\n",
       "      <td>0.020247</td>\n",
       "      <td>4.07237</td>\n",
       "      <td>0.881957</td>\n",
       "      <td>0.881472</td>\n",
       "      <td>0.052148</td>\n",
       "      <td>0.011722</td>\n",
       "      <td>0.745857</td>\n",
       "      <td>1.99322</td>\n",
       "    </tr>\n",
       "  </tbody>\n",
       "</table>\n",
       "</div>"
      ],
      "text/plain": [
       "         2B        3B        AB        BA        BB    G         H       HBP  \\\n",
       "0  0.185988  0.021732  3.248135  0.006226  0.559491  1.0  1.066666  0.204167   \n",
       "\n",
       "         HR       OBP       OPS       PA         R       RBI        SF  \\\n",
       "0  0.232367  0.008529  0.020247  4.07237  0.881957  0.881472  0.052148   \n",
       "\n",
       "        SLG        SO       TB  \n",
       "0  0.011722  0.745857  1.99322  "
      ]
     },
     "execution_count": 25,
     "metadata": {},
     "output_type": "execute_result"
    }
   ],
   "source": [
    "lsubat\n"
   ]
  },
  {
   "cell_type": "code",
   "execution_count": 32,
   "id": "9d53cb84",
   "metadata": {},
   "outputs": [
    {
     "data": {
      "text/plain": [
       "0   -2.426105e-07\n",
       "Name: BA, dtype: float64"
      ]
     },
     "execution_count": 32,
     "metadata": {},
     "output_type": "execute_result"
    }
   ],
   "source": [
    "wakebat['BA'] - lsubat['BA']"
   ]
  },
  {
   "cell_type": "code",
   "execution_count": 33,
   "id": "9d2ace1d",
   "metadata": {},
   "outputs": [
    {
     "data": {
      "text/plain": [
       "0   -0.002019\n",
       "Name: HR, dtype: float64"
      ]
     },
     "execution_count": 33,
     "metadata": {},
     "output_type": "execute_result"
    }
   ],
   "source": [
    "wakebat['HR'] - lsubat['HR']"
   ]
  },
  {
   "cell_type": "code",
   "execution_count": 34,
   "id": "ec4901f3",
   "metadata": {},
   "outputs": [
    {
     "data": {
      "text/plain": [
       "0    0.000018\n",
       "Name: OBP, dtype: float64"
      ]
     },
     "execution_count": 34,
     "metadata": {},
     "output_type": "execute_result"
    }
   ],
   "source": [
    "wakebat['OBP'] - lsubat['OBP']"
   ]
  },
  {
   "cell_type": "code",
   "execution_count": 35,
   "id": "687bafaf",
   "metadata": {},
   "outputs": [
    {
     "data": {
      "text/plain": [
       "0   -0.00027\n",
       "Name: OPS, dtype: float64"
      ]
     },
     "execution_count": 35,
     "metadata": {},
     "output_type": "execute_result"
    }
   ],
   "source": [
    "wakebat['OPS'] - lsubat['OPS']"
   ]
  },
  {
   "cell_type": "code",
   "execution_count": 36,
   "id": "5fa4edcd",
   "metadata": {},
   "outputs": [
    {
     "data": {
      "text/plain": [
       "0   -0.000291\n",
       "Name: SLG, dtype: float64"
      ]
     },
     "execution_count": 36,
     "metadata": {},
     "output_type": "execute_result"
    }
   ],
   "source": [
    "wakebat['SLG'] - lsubat['SLG']"
   ]
  },
  {
   "cell_type": "code",
   "execution_count": 37,
   "id": "3c273ccc",
   "metadata": {},
   "outputs": [
    {
     "data": {
      "text/plain": [
       "0    0.041309\n",
       "Name: RBI, dtype: float64"
      ]
     },
     "execution_count": 37,
     "metadata": {},
     "output_type": "execute_result"
    }
   ],
   "source": [
    "wakebat['RBI'] - lsubat['RBI']"
   ]
  },
  {
   "cell_type": "code",
   "execution_count": 47,
   "id": "f2012fa1",
   "metadata": {},
   "outputs": [],
   "source": [
    "wake_lsu_bat = wakebat-lsubat"
   ]
  },
  {
   "cell_type": "code",
   "execution_count": 40,
   "id": "3a21c417",
   "metadata": {},
   "outputs": [
    {
     "data": {
      "text/html": [
       "<div>\n",
       "<style scoped>\n",
       "    .dataframe tbody tr th:only-of-type {\n",
       "        vertical-align: middle;\n",
       "    }\n",
       "\n",
       "    .dataframe tbody tr th {\n",
       "        vertical-align: top;\n",
       "    }\n",
       "\n",
       "    .dataframe thead th {\n",
       "        text-align: right;\n",
       "    }\n",
       "</style>\n",
       "<table border=\"1\" class=\"dataframe\">\n",
       "  <thead>\n",
       "    <tr style=\"text-align: right;\">\n",
       "      <th></th>\n",
       "      <th>BB</th>\n",
       "      <th>BB9</th>\n",
       "      <th>BF</th>\n",
       "      <th>ER</th>\n",
       "      <th>ERA</th>\n",
       "      <th>G</th>\n",
       "      <th>GS</th>\n",
       "      <th>H</th>\n",
       "      <th>H9</th>\n",
       "      <th>HBP</th>\n",
       "      <th>...</th>\n",
       "      <th>L</th>\n",
       "      <th>R</th>\n",
       "      <th>SHO</th>\n",
       "      <th>SO</th>\n",
       "      <th>SO/W</th>\n",
       "      <th>SO9</th>\n",
       "      <th>SV</th>\n",
       "      <th>W</th>\n",
       "      <th>WHIP</th>\n",
       "      <th>WP</th>\n",
       "    </tr>\n",
       "  </thead>\n",
       "  <tbody>\n",
       "    <tr>\n",
       "      <th>0</th>\n",
       "      <td>0.847023</td>\n",
       "      <td>0.130904</td>\n",
       "      <td>13.467337</td>\n",
       "      <td>0.908219</td>\n",
       "      <td>0.124382</td>\n",
       "      <td>1.0</td>\n",
       "      <td>0.441307</td>\n",
       "      <td>2.469076</td>\n",
       "      <td>0.316623</td>\n",
       "      <td>0.299601</td>\n",
       "      <td>...</td>\n",
       "      <td>0.066058</td>\n",
       "      <td>1.088902</td>\n",
       "      <td>0.0</td>\n",
       "      <td>4.874677</td>\n",
       "      <td>0.280822</td>\n",
       "      <td>0.696292</td>\n",
       "      <td>0.127963</td>\n",
       "      <td>0.344346</td>\n",
       "      <td>0.049711</td>\n",
       "      <td>0.167587</td>\n",
       "    </tr>\n",
       "  </tbody>\n",
       "</table>\n",
       "<p>1 rows × 23 columns</p>\n",
       "</div>"
      ],
      "text/plain": [
       "         BB       BB9         BF        ER       ERA    G        GS         H  \\\n",
       "0  0.847023  0.130904  13.467337  0.908219  0.124382  1.0  0.441307  2.469076   \n",
       "\n",
       "         H9       HBP  ...         L         R  SHO        SO      SO/W  \\\n",
       "0  0.316623  0.299601  ...  0.066058  1.088902  0.0  4.874677  0.280822   \n",
       "\n",
       "        SO9        SV         W      WHIP        WP  \n",
       "0  0.696292  0.127963  0.344346  0.049711  0.167587  \n",
       "\n",
       "[1 rows x 23 columns]"
      ]
     },
     "execution_count": 40,
     "metadata": {},
     "output_type": "execute_result"
    }
   ],
   "source": [
    "wakepit"
   ]
  },
  {
   "cell_type": "code",
   "execution_count": 41,
   "id": "146c74a2",
   "metadata": {},
   "outputs": [
    {
     "data": {
      "text/html": [
       "<div>\n",
       "<style scoped>\n",
       "    .dataframe tbody tr th:only-of-type {\n",
       "        vertical-align: middle;\n",
       "    }\n",
       "\n",
       "    .dataframe tbody tr th {\n",
       "        vertical-align: top;\n",
       "    }\n",
       "\n",
       "    .dataframe thead th {\n",
       "        text-align: right;\n",
       "    }\n",
       "</style>\n",
       "<table border=\"1\" class=\"dataframe\">\n",
       "  <thead>\n",
       "    <tr style=\"text-align: right;\">\n",
       "      <th></th>\n",
       "      <th>BB</th>\n",
       "      <th>BB9</th>\n",
       "      <th>BF</th>\n",
       "      <th>ER</th>\n",
       "      <th>ERA</th>\n",
       "      <th>G</th>\n",
       "      <th>GS</th>\n",
       "      <th>H</th>\n",
       "      <th>H9</th>\n",
       "      <th>HBP</th>\n",
       "      <th>...</th>\n",
       "      <th>L</th>\n",
       "      <th>R</th>\n",
       "      <th>SHO</th>\n",
       "      <th>SO</th>\n",
       "      <th>SO/W</th>\n",
       "      <th>SO9</th>\n",
       "      <th>SV</th>\n",
       "      <th>W</th>\n",
       "      <th>WHIP</th>\n",
       "      <th>WP</th>\n",
       "    </tr>\n",
       "  </thead>\n",
       "  <tbody>\n",
       "    <tr>\n",
       "      <th>0</th>\n",
       "      <td>1.169951</td>\n",
       "      <td>0.186868</td>\n",
       "      <td>13.983993</td>\n",
       "      <td>1.385434</td>\n",
       "      <td>0.21185</td>\n",
       "      <td>1.0</td>\n",
       "      <td>0.509219</td>\n",
       "      <td>2.633933</td>\n",
       "      <td>0.381873</td>\n",
       "      <td>0.247153</td>\n",
       "      <td>...</td>\n",
       "      <td>0.065752</td>\n",
       "      <td>1.578647</td>\n",
       "      <td>0.0</td>\n",
       "      <td>4.79483</td>\n",
       "      <td>0.235935</td>\n",
       "      <td>0.648864</td>\n",
       "      <td>0.073344</td>\n",
       "      <td>0.344738</td>\n",
       "      <td>0.063101</td>\n",
       "      <td>0.348662</td>\n",
       "    </tr>\n",
       "  </tbody>\n",
       "</table>\n",
       "<p>1 rows × 23 columns</p>\n",
       "</div>"
      ],
      "text/plain": [
       "         BB       BB9         BF        ER      ERA    G        GS         H  \\\n",
       "0  1.169951  0.186868  13.983993  1.385434  0.21185  1.0  0.509219  2.633933   \n",
       "\n",
       "         H9       HBP  ...         L         R  SHO       SO      SO/W  \\\n",
       "0  0.381873  0.247153  ...  0.065752  1.578647  0.0  4.79483  0.235935   \n",
       "\n",
       "        SO9        SV         W      WHIP        WP  \n",
       "0  0.648864  0.073344  0.344738  0.063101  0.348662  \n",
       "\n",
       "[1 rows x 23 columns]"
      ]
     },
     "execution_count": 41,
     "metadata": {},
     "output_type": "execute_result"
    }
   ],
   "source": [
    "lsupit"
   ]
  },
  {
   "cell_type": "code",
   "execution_count": 39,
   "id": "354d6a71",
   "metadata": {
    "scrolled": true
   },
   "outputs": [
    {
     "data": {
      "text/plain": [
       "0   -0.087468\n",
       "Name: ERA, dtype: float64"
      ]
     },
     "execution_count": 39,
     "metadata": {},
     "output_type": "execute_result"
    }
   ],
   "source": [
    "wakepit['ERA'] - lsupit['ERA']"
   ]
  },
  {
   "cell_type": "code",
   "execution_count": 45,
   "id": "d77014f4",
   "metadata": {},
   "outputs": [],
   "source": [
    "wake_lsu_pit = wakepit - lsupit"
   ]
  },
  {
   "cell_type": "code",
   "execution_count": 46,
   "id": "20333516",
   "metadata": {},
   "outputs": [
    {
     "data": {
      "text/html": [
       "<div>\n",
       "<style scoped>\n",
       "    .dataframe tbody tr th:only-of-type {\n",
       "        vertical-align: middle;\n",
       "    }\n",
       "\n",
       "    .dataframe tbody tr th {\n",
       "        vertical-align: top;\n",
       "    }\n",
       "\n",
       "    .dataframe thead th {\n",
       "        text-align: right;\n",
       "    }\n",
       "</style>\n",
       "<table border=\"1\" class=\"dataframe\">\n",
       "  <thead>\n",
       "    <tr style=\"text-align: right;\">\n",
       "      <th></th>\n",
       "      <th>BB</th>\n",
       "      <th>BB9</th>\n",
       "      <th>BF</th>\n",
       "      <th>ER</th>\n",
       "      <th>ERA</th>\n",
       "      <th>G</th>\n",
       "      <th>GS</th>\n",
       "      <th>H</th>\n",
       "      <th>H9</th>\n",
       "      <th>HBP</th>\n",
       "      <th>...</th>\n",
       "      <th>L</th>\n",
       "      <th>R</th>\n",
       "      <th>SHO</th>\n",
       "      <th>SO</th>\n",
       "      <th>SO/W</th>\n",
       "      <th>SO9</th>\n",
       "      <th>SV</th>\n",
       "      <th>W</th>\n",
       "      <th>WHIP</th>\n",
       "      <th>WP</th>\n",
       "    </tr>\n",
       "  </thead>\n",
       "  <tbody>\n",
       "    <tr>\n",
       "      <th>0</th>\n",
       "      <td>-0.322928</td>\n",
       "      <td>-0.055964</td>\n",
       "      <td>-0.516656</td>\n",
       "      <td>-0.477215</td>\n",
       "      <td>-0.087468</td>\n",
       "      <td>0.0</td>\n",
       "      <td>-0.067912</td>\n",
       "      <td>-0.164857</td>\n",
       "      <td>-0.06525</td>\n",
       "      <td>0.052448</td>\n",
       "      <td>...</td>\n",
       "      <td>0.000307</td>\n",
       "      <td>-0.489745</td>\n",
       "      <td>0.0</td>\n",
       "      <td>0.079847</td>\n",
       "      <td>0.044887</td>\n",
       "      <td>0.047427</td>\n",
       "      <td>0.054619</td>\n",
       "      <td>-0.000392</td>\n",
       "      <td>-0.01339</td>\n",
       "      <td>-0.181075</td>\n",
       "    </tr>\n",
       "  </tbody>\n",
       "</table>\n",
       "<p>1 rows × 23 columns</p>\n",
       "</div>"
      ],
      "text/plain": [
       "         BB       BB9        BF        ER       ERA    G        GS         H  \\\n",
       "0 -0.322928 -0.055964 -0.516656 -0.477215 -0.087468  0.0 -0.067912 -0.164857   \n",
       "\n",
       "        H9       HBP  ...         L         R  SHO        SO      SO/W  \\\n",
       "0 -0.06525  0.052448  ...  0.000307 -0.489745  0.0  0.079847  0.044887   \n",
       "\n",
       "        SO9        SV         W     WHIP        WP  \n",
       "0  0.047427  0.054619 -0.000392 -0.01339 -0.181075  \n",
       "\n",
       "[1 rows x 23 columns]"
      ]
     },
     "execution_count": 46,
     "metadata": {},
     "output_type": "execute_result"
    }
   ],
   "source": [
    "wake_lsu_pit"
   ]
  },
  {
   "cell_type": "code",
   "execution_count": 48,
   "id": "fd7aa17d",
   "metadata": {},
   "outputs": [
    {
     "data": {
      "text/html": [
       "<div>\n",
       "<style scoped>\n",
       "    .dataframe tbody tr th:only-of-type {\n",
       "        vertical-align: middle;\n",
       "    }\n",
       "\n",
       "    .dataframe tbody tr th {\n",
       "        vertical-align: top;\n",
       "    }\n",
       "\n",
       "    .dataframe thead th {\n",
       "        text-align: right;\n",
       "    }\n",
       "</style>\n",
       "<table border=\"1\" class=\"dataframe\">\n",
       "  <thead>\n",
       "    <tr style=\"text-align: right;\">\n",
       "      <th></th>\n",
       "      <th>2B</th>\n",
       "      <th>3B</th>\n",
       "      <th>AB</th>\n",
       "      <th>BA</th>\n",
       "      <th>BB</th>\n",
       "      <th>G</th>\n",
       "      <th>H</th>\n",
       "      <th>HBP</th>\n",
       "      <th>HR</th>\n",
       "      <th>OBP</th>\n",
       "      <th>OPS</th>\n",
       "      <th>PA</th>\n",
       "      <th>R</th>\n",
       "      <th>RBI</th>\n",
       "      <th>SF</th>\n",
       "      <th>SLG</th>\n",
       "      <th>SO</th>\n",
       "      <th>TB</th>\n",
       "    </tr>\n",
       "  </thead>\n",
       "  <tbody>\n",
       "    <tr>\n",
       "      <th>0</th>\n",
       "      <td>0.029531</td>\n",
       "      <td>-0.009727</td>\n",
       "      <td>0.261184</td>\n",
       "      <td>-2.426105e-07</td>\n",
       "      <td>0.104577</td>\n",
       "      <td>0.0</td>\n",
       "      <td>0.065378</td>\n",
       "      <td>-0.067735</td>\n",
       "      <td>-0.002019</td>\n",
       "      <td>0.000018</td>\n",
       "      <td>-0.00027</td>\n",
       "      <td>0.326231</td>\n",
       "      <td>0.111869</td>\n",
       "      <td>0.041309</td>\n",
       "      <td>-0.004328</td>\n",
       "      <td>-0.000291</td>\n",
       "      <td>0.021035</td>\n",
       "      <td>0.0694</td>\n",
       "    </tr>\n",
       "  </tbody>\n",
       "</table>\n",
       "</div>"
      ],
      "text/plain": [
       "         2B        3B        AB            BA        BB    G         H  \\\n",
       "0  0.029531 -0.009727  0.261184 -2.426105e-07  0.104577  0.0  0.065378   \n",
       "\n",
       "        HBP        HR       OBP      OPS        PA         R       RBI  \\\n",
       "0 -0.067735 -0.002019  0.000018 -0.00027  0.326231  0.111869  0.041309   \n",
       "\n",
       "         SF       SLG        SO      TB  \n",
       "0 -0.004328 -0.000291  0.021035  0.0694  "
      ]
     },
     "execution_count": 48,
     "metadata": {},
     "output_type": "execute_result"
    }
   ],
   "source": [
    "wake_lsu_bat"
   ]
  },
  {
   "cell_type": "code",
   "execution_count": 49,
   "id": "91bb6cba",
   "metadata": {},
   "outputs": [
    {
     "data": {
      "text/html": [
       "<div>\n",
       "<style scoped>\n",
       "    .dataframe tbody tr th:only-of-type {\n",
       "        vertical-align: middle;\n",
       "    }\n",
       "\n",
       "    .dataframe tbody tr th {\n",
       "        vertical-align: top;\n",
       "    }\n",
       "\n",
       "    .dataframe thead th {\n",
       "        text-align: right;\n",
       "    }\n",
       "</style>\n",
       "<table border=\"1\" class=\"dataframe\">\n",
       "  <thead>\n",
       "    <tr style=\"text-align: right;\">\n",
       "      <th></th>\n",
       "      <th>0</th>\n",
       "    </tr>\n",
       "  </thead>\n",
       "  <tbody>\n",
       "    <tr>\n",
       "      <th>2B</th>\n",
       "      <td>2.953145e-02</td>\n",
       "    </tr>\n",
       "    <tr>\n",
       "      <th>3B</th>\n",
       "      <td>-9.726619e-03</td>\n",
       "    </tr>\n",
       "    <tr>\n",
       "      <th>AB</th>\n",
       "      <td>2.611838e-01</td>\n",
       "    </tr>\n",
       "    <tr>\n",
       "      <th>BA</th>\n",
       "      <td>-2.426105e-07</td>\n",
       "    </tr>\n",
       "    <tr>\n",
       "      <th>BB</th>\n",
       "      <td>1.045769e-01</td>\n",
       "    </tr>\n",
       "    <tr>\n",
       "      <th>G</th>\n",
       "      <td>0.000000e+00</td>\n",
       "    </tr>\n",
       "    <tr>\n",
       "      <th>H</th>\n",
       "      <td>6.537810e-02</td>\n",
       "    </tr>\n",
       "    <tr>\n",
       "      <th>HBP</th>\n",
       "      <td>-6.773502e-02</td>\n",
       "    </tr>\n",
       "    <tr>\n",
       "      <th>HR</th>\n",
       "      <td>-2.018923e-03</td>\n",
       "    </tr>\n",
       "    <tr>\n",
       "      <th>OBP</th>\n",
       "      <td>1.823998e-05</td>\n",
       "    </tr>\n",
       "    <tr>\n",
       "      <th>OPS</th>\n",
       "      <td>-2.702589e-04</td>\n",
       "    </tr>\n",
       "    <tr>\n",
       "      <th>PA</th>\n",
       "      <td>3.262305e-01</td>\n",
       "    </tr>\n",
       "    <tr>\n",
       "      <th>R</th>\n",
       "      <td>1.118694e-01</td>\n",
       "    </tr>\n",
       "    <tr>\n",
       "      <th>RBI</th>\n",
       "      <td>4.130907e-02</td>\n",
       "    </tr>\n",
       "    <tr>\n",
       "      <th>SF</th>\n",
       "      <td>-4.328310e-03</td>\n",
       "    </tr>\n",
       "    <tr>\n",
       "      <th>SLG</th>\n",
       "      <td>-2.913016e-04</td>\n",
       "    </tr>\n",
       "    <tr>\n",
       "      <th>SO</th>\n",
       "      <td>2.103534e-02</td>\n",
       "    </tr>\n",
       "    <tr>\n",
       "      <th>TB</th>\n",
       "      <td>6.939954e-02</td>\n",
       "    </tr>\n",
       "  </tbody>\n",
       "</table>\n",
       "</div>"
      ],
      "text/plain": [
       "                0\n",
       "2B   2.953145e-02\n",
       "3B  -9.726619e-03\n",
       "AB   2.611838e-01\n",
       "BA  -2.426105e-07\n",
       "BB   1.045769e-01\n",
       "G    0.000000e+00\n",
       "H    6.537810e-02\n",
       "HBP -6.773502e-02\n",
       "HR  -2.018923e-03\n",
       "OBP  1.823998e-05\n",
       "OPS -2.702589e-04\n",
       "PA   3.262305e-01\n",
       "R    1.118694e-01\n",
       "RBI  4.130907e-02\n",
       "SF  -4.328310e-03\n",
       "SLG -2.913016e-04\n",
       "SO   2.103534e-02\n",
       "TB   6.939954e-02"
      ]
     },
     "execution_count": 49,
     "metadata": {},
     "output_type": "execute_result"
    }
   ],
   "source": [
    "wake_lsu_bat.T"
   ]
  },
  {
   "cell_type": "code",
   "execution_count": 50,
   "id": "fcb1625e",
   "metadata": {},
   "outputs": [],
   "source": [
    "import matplotlib.pyplot as plt"
   ]
  },
  {
   "cell_type": "code",
   "execution_count": 52,
   "id": "fe4d5052",
   "metadata": {},
   "outputs": [
    {
     "data": {
      "image/png": "[encoded data removed]",
      "text/plain": [
       "<Figure size 432x288 with 1 Axes>"
      ]
     },
     "metadata": {
      "needs_background": "light"
     },
     "output_type": "display_data"
    }
   ],
   "source": [
    "# Transpose the DataFrame for easier plotting\n",
    "wakebat = wakebat.transpose()\n",
    "\n",
    "# Plot the DataFrame as a horizontal bar plot\n",
    "wakebat.plot(kind='barh', legend=False)\n",
    "\n",
    "# Set the plot title and axis labels\n",
    "plt.title('Player Statistics')\n",
    "plt.xlabel('Value')\n",
    "\n",
    "# Display the plot\n",
    "plt.show()"
   ]
  },
  {
   "cell_type": "code",
   "execution_count": 54,
   "id": "f770b6f7",
   "metadata": {},
   "outputs": [
    {
     "data": {
      "image/png": "[encoded data removed]",
      "text/plain": [
       "<Figure size 432x288 with 1 Axes>"
      ]
     },
     "metadata": {
      "needs_background": "light"
     },
     "output_type": "display_data"
    }
   ],
   "source": [
    "# Transpose the DataFrame for easier plotting\n",
    "lsubat = lsubat.transpose()\n",
    "\n",
    "# Plot the DataFrame as a horizontal bar plot\n",
    "lsubat.plot(kind='barh', legend=False)\n",
    "\n",
    "# Set the plot title and axis labels\n",
    "plt.title('Player Statistics')\n",
    "plt.xlabel('Value')\n",
    "\n",
    "# Display the plot\n",
    "plt.show()"
   ]
  },
  {
   "cell_type": "code",
   "execution_count": 57,
   "id": "35e24354",
   "metadata": {},
   "outputs": [
    {
     "data": {
      "image/png": "[encoded data removed]",
      "text/plain": [
       "<Figure size 432x288 with 1 Axes>"
      ]
     },
     "metadata": {
      "needs_background": "light"
     },
     "output_type": "display_data"
    }
   ],
   "source": [
    "# Transpose the DataFrame for easier plotting\n",
    "wake_lsu_bat = wake_lsu_bat.transpose()\n",
    "\n",
    "# Plot the DataFrame as a horizontal bar plot\n",
    "wake_lsu_bat.plot(kind='barh', legend=False)\n",
    "\n",
    "# Set the plot title and axis labels\n",
    "plt.title('Team Statistics')\n",
    "plt.xlabel('positive favor wake and negative favor lsu')\n",
    "\n",
    "# Display the plot\n",
    "plt.show()"
   ]
  },
  {
   "cell_type": "markdown",
   "id": "58f11c49",
   "metadata": {},
   "source": [
    "### OPS, OBP and SLG ARE ALL NEARLY IDENTICAL"
   ]
  },
  {
   "cell_type": "code",
   "execution_count": 61,
   "id": "96f6c6ff",
   "metadata": {},
   "outputs": [
    {
     "data": {
      "image/png": "[encoded data removed]",
      "text/plain": [
       "<Figure size 432x288 with 1 Axes>"
      ]
     },
     "metadata": {
      "needs_background": "light"
     },
     "output_type": "display_data"
    }
   ],
   "source": [
    "# Transpose the DataFrame for easier plotting\n",
    "wake_lsu_pit = wake_lsu_pit.transpose()\n",
    "\n",
    "# Plot the DataFrame as a horizontal bar plot\n",
    "wake_lsu_pit.plot(kind='barh', legend=False)\n",
    "\n",
    "# Set the plot title and axis labels\n",
    "plt.title('Team Statistics')\n",
    "plt.xlabel('wake stat minus lsu stat')\n",
    "\n",
    "# Display the plot\n",
    "plt.show()"
   ]
  },
  {
   "cell_type": "markdown",
   "id": "f9a12c5b",
   "metadata": {},
   "source": [
    "### Wake and lsu have nearly identical WHIP"
   ]
  },
  {
   "cell_type": "markdown",
   "id": "1aff3993",
   "metadata": {},
   "source": [
    "### Prediction is very close game, could go either way but would slightly favor wake"
   ]
  },
  {
   "cell_type": "code",
   "execution_count": null,
   "id": "b9befc1c",
   "metadata": {},
   "outputs": [],
   "source": []
  }
 ],
 "metadata": {
  "kernelspec": {
   "display_name": "Python 3 (ipykernel)",
   "language": "python",
   "name": "python3"
  },
  "language_info": {
   "codemirror_mode": {
    "name": "ipython",
    "version": 3
   },
   "file_extension": ".py",
   "mimetype": "text/x-python",
   "name": "python",
   "nbconvert_exporter": "python",
   "pygments_lexer": "ipython3",
   "version": "3.9.12"
  }
 },
 "nbformat": 4,
 "nbformat_minor": 5
}
