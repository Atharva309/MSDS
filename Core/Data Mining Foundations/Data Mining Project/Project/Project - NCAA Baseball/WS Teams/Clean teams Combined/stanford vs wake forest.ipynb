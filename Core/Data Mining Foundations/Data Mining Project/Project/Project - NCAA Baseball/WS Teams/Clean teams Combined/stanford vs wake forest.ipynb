{
 "cells": [
  {
   "cell_type": "code",
   "execution_count": 1,
   "id": "efb6a314",
   "metadata": {},
   "outputs": [],
   "source": [
    "import pandas as pd\n",
    "import numpy as np"
   ]
  },
  {
   "cell_type": "code",
   "execution_count": 9,
   "id": "c993048f",
   "metadata": {},
   "outputs": [],
   "source": [
    "stanbat = pd.read_csv('../stanbat_mean.csv')"
   ]
  },
  {
   "cell_type": "code",
   "execution_count": 10,
   "id": "6aa36868",
   "metadata": {},
   "outputs": [
    {
     "data": {
      "text/html": [
       "<div>\n",
       "<style scoped>\n",
       "    .dataframe tbody tr th:only-of-type {\n",
       "        vertical-align: middle;\n",
       "    }\n",
       "\n",
       "    .dataframe tbody tr th {\n",
       "        vertical-align: top;\n",
       "    }\n",
       "\n",
       "    .dataframe thead th {\n",
       "        text-align: right;\n",
       "    }\n",
       "</style>\n",
       "<table border=\"1\" class=\"dataframe\">\n",
       "  <thead>\n",
       "    <tr style=\"text-align: right;\">\n",
       "      <th></th>\n",
       "      <th>2B</th>\n",
       "      <th>3B</th>\n",
       "      <th>AB</th>\n",
       "      <th>BA</th>\n",
       "      <th>BB</th>\n",
       "      <th>G</th>\n",
       "      <th>H</th>\n",
       "      <th>HBP</th>\n",
       "      <th>HR</th>\n",
       "      <th>OBP</th>\n",
       "      <th>OPS</th>\n",
       "      <th>PA</th>\n",
       "      <th>R</th>\n",
       "      <th>RBI</th>\n",
       "      <th>SF</th>\n",
       "      <th>SLG</th>\n",
       "      <th>SO</th>\n",
       "      <th>TB</th>\n",
       "    </tr>\n",
       "  </thead>\n",
       "  <tbody>\n",
       "    <tr>\n",
       "      <th>0</th>\n",
       "      <td>13.8</td>\n",
       "      <td>1.3</td>\n",
       "      <td>205.4</td>\n",
       "      <td>0.3322</td>\n",
       "      <td>26.2</td>\n",
       "      <td>52.9</td>\n",
       "      <td>68.5</td>\n",
       "      <td>5.4</td>\n",
       "      <td>11.2</td>\n",
       "      <td>0.4141</td>\n",
       "      <td>0.9814</td>\n",
       "      <td>240.6</td>\n",
       "      <td>48.7</td>\n",
       "      <td>47.1</td>\n",
       "      <td>2.7</td>\n",
       "      <td>0.5673</td>\n",
       "      <td>40.8</td>\n",
       "      <td>118.5</td>\n",
       "    </tr>\n",
       "  </tbody>\n",
       "</table>\n",
       "</div>"
      ],
      "text/plain": [
       "     2B   3B     AB      BA    BB     G     H  HBP    HR     OBP     OPS  \\\n",
       "0  13.8  1.3  205.4  0.3322  26.2  52.9  68.5  5.4  11.2  0.4141  0.9814   \n",
       "\n",
       "      PA     R   RBI   SF     SLG    SO     TB  \n",
       "0  240.6  48.7  47.1  2.7  0.5673  40.8  118.5  "
      ]
     },
     "execution_count": 10,
     "metadata": {},
     "output_type": "execute_result"
    }
   ],
   "source": [
    "stanbat"
   ]
  },
  {
   "cell_type": "code",
   "execution_count": 12,
   "id": "e0fde327",
   "metadata": {},
   "outputs": [],
   "source": [
    "wakebat = pd.read_csv('../wake-bat-mean.csv')"
   ]
  },
  {
   "cell_type": "code",
   "execution_count": 13,
   "id": "7a98c0be",
   "metadata": {},
   "outputs": [
    {
     "data": {
      "text/html": [
       "<div>\n",
       "<style scoped>\n",
       "    .dataframe tbody tr th:only-of-type {\n",
       "        vertical-align: middle;\n",
       "    }\n",
       "\n",
       "    .dataframe tbody tr th {\n",
       "        vertical-align: top;\n",
       "    }\n",
       "\n",
       "    .dataframe thead th {\n",
       "        text-align: right;\n",
       "    }\n",
       "</style>\n",
       "<table border=\"1\" class=\"dataframe\">\n",
       "  <thead>\n",
       "    <tr style=\"text-align: right;\">\n",
       "      <th></th>\n",
       "      <th>2B</th>\n",
       "      <th>3B</th>\n",
       "      <th>AB</th>\n",
       "      <th>BA</th>\n",
       "      <th>BB</th>\n",
       "      <th>G</th>\n",
       "      <th>H</th>\n",
       "      <th>HBP</th>\n",
       "      <th>HR</th>\n",
       "      <th>OBP</th>\n",
       "      <th>OPS</th>\n",
       "      <th>PA</th>\n",
       "      <th>R</th>\n",
       "      <th>RBI</th>\n",
       "      <th>SF</th>\n",
       "      <th>SLG</th>\n",
       "      <th>SO</th>\n",
       "      <th>TB</th>\n",
       "    </tr>\n",
       "  </thead>\n",
       "  <tbody>\n",
       "    <tr>\n",
       "      <th>0</th>\n",
       "      <td>11.5</td>\n",
       "      <td>0.7</td>\n",
       "      <td>186.4</td>\n",
       "      <td>0.3206</td>\n",
       "      <td>35.5</td>\n",
       "      <td>52.6</td>\n",
       "      <td>60.5</td>\n",
       "      <td>7.1</td>\n",
       "      <td>12.2</td>\n",
       "      <td>0.4391</td>\n",
       "      <td>1.0265</td>\n",
       "      <td>233.6</td>\n",
       "      <td>53.2</td>\n",
       "      <td>48.9</td>\n",
       "      <td>2.5</td>\n",
       "      <td>0.5875</td>\n",
       "      <td>39.5</td>\n",
       "      <td>110.0</td>\n",
       "    </tr>\n",
       "  </tbody>\n",
       "</table>\n",
       "</div>"
      ],
      "text/plain": [
       "     2B   3B     AB      BA    BB     G     H  HBP    HR     OBP     OPS  \\\n",
       "0  11.5  0.7  186.4  0.3206  35.5  52.6  60.5  7.1  12.2  0.4391  1.0265   \n",
       "\n",
       "      PA     R   RBI   SF     SLG    SO     TB  \n",
       "0  233.6  53.2  48.9  2.5  0.5875  39.5  110.0  "
      ]
     },
     "execution_count": 13,
     "metadata": {},
     "output_type": "execute_result"
    }
   ],
   "source": [
    "wakebat"
   ]
  },
  {
   "cell_type": "code",
   "execution_count": 14,
   "id": "f761a1f7",
   "metadata": {},
   "outputs": [],
   "source": [
    "wakebat['team'] = 23"
   ]
  },
  {
   "cell_type": "code",
   "execution_count": 15,
   "id": "8e707371",
   "metadata": {},
   "outputs": [],
   "source": [
    "stanbat['team'] = 19"
   ]
  },
  {
   "cell_type": "code",
   "execution_count": 16,
   "id": "8d34cc40",
   "metadata": {},
   "outputs": [
    {
     "data": {
      "text/html": [
       "<div>\n",
       "<style scoped>\n",
       "    .dataframe tbody tr th:only-of-type {\n",
       "        vertical-align: middle;\n",
       "    }\n",
       "\n",
       "    .dataframe tbody tr th {\n",
       "        vertical-align: top;\n",
       "    }\n",
       "\n",
       "    .dataframe thead th {\n",
       "        text-align: right;\n",
       "    }\n",
       "</style>\n",
       "<table border=\"1\" class=\"dataframe\">\n",
       "  <thead>\n",
       "    <tr style=\"text-align: right;\">\n",
       "      <th></th>\n",
       "      <th>2B</th>\n",
       "      <th>3B</th>\n",
       "      <th>AB</th>\n",
       "      <th>BA</th>\n",
       "      <th>BB</th>\n",
       "      <th>G</th>\n",
       "      <th>H</th>\n",
       "      <th>HBP</th>\n",
       "      <th>HR</th>\n",
       "      <th>OBP</th>\n",
       "      <th>OPS</th>\n",
       "      <th>PA</th>\n",
       "      <th>R</th>\n",
       "      <th>RBI</th>\n",
       "      <th>SF</th>\n",
       "      <th>SLG</th>\n",
       "      <th>SO</th>\n",
       "      <th>TB</th>\n",
       "      <th>team</th>\n",
       "    </tr>\n",
       "  </thead>\n",
       "  <tbody>\n",
       "    <tr>\n",
       "      <th>0</th>\n",
       "      <td>11.5</td>\n",
       "      <td>0.7</td>\n",
       "      <td>186.4</td>\n",
       "      <td>0.3206</td>\n",
       "      <td>35.5</td>\n",
       "      <td>52.6</td>\n",
       "      <td>60.5</td>\n",
       "      <td>7.1</td>\n",
       "      <td>12.2</td>\n",
       "      <td>0.4391</td>\n",
       "      <td>1.0265</td>\n",
       "      <td>233.6</td>\n",
       "      <td>53.2</td>\n",
       "      <td>48.9</td>\n",
       "      <td>2.5</td>\n",
       "      <td>0.5875</td>\n",
       "      <td>39.5</td>\n",
       "      <td>110.0</td>\n",
       "      <td>23</td>\n",
       "    </tr>\n",
       "  </tbody>\n",
       "</table>\n",
       "</div>"
      ],
      "text/plain": [
       "     2B   3B     AB      BA    BB     G     H  HBP    HR     OBP     OPS  \\\n",
       "0  11.5  0.7  186.4  0.3206  35.5  52.6  60.5  7.1  12.2  0.4391  1.0265   \n",
       "\n",
       "      PA     R   RBI   SF     SLG    SO     TB  team  \n",
       "0  233.6  53.2  48.9  2.5  0.5875  39.5  110.0    23  "
      ]
     },
     "execution_count": 16,
     "metadata": {},
     "output_type": "execute_result"
    }
   ],
   "source": [
    "wakebat"
   ]
  },
  {
   "cell_type": "code",
   "execution_count": 31,
   "id": "b55469f4",
   "metadata": {},
   "outputs": [
    {
     "name": "stdout",
     "output_type": "stream",
     "text": [
      "stanford batting average is better by .0116\n"
     ]
    }
   ],
   "source": [
    "print(\"stanford batting average is better by .0116\")"
   ]
  },
  {
   "cell_type": "code",
   "execution_count": 38,
   "id": "113249cd",
   "metadata": {},
   "outputs": [
    {
     "data": {
      "text/plain": [
       "0   -0.0116\n",
       "Name: BA, dtype: float64"
      ]
     },
     "execution_count": 38,
     "metadata": {},
     "output_type": "execute_result"
    }
   ],
   "source": [
    "wakebat['BA'] - stanbat['BA']"
   ]
  },
  {
   "cell_type": "code",
   "execution_count": 28,
   "id": "04d86a8c",
   "metadata": {},
   "outputs": [
    {
     "data": {
      "text/plain": [
       "0    1.0\n",
       "Name: HR, dtype: float64"
      ]
     },
     "execution_count": 28,
     "metadata": {},
     "output_type": "execute_result"
    }
   ],
   "source": [
    "wakebat['HR'] - stanbat['HR']"
   ]
  },
  {
   "cell_type": "code",
   "execution_count": 30,
   "id": "4a8c6e3f",
   "metadata": {},
   "outputs": [
    {
     "name": "stdout",
     "output_type": "stream",
     "text": [
      "wakeforest averages 1 more home run\n"
     ]
    }
   ],
   "source": [
    "print(\"wakeforest averages 1 more home run\")"
   ]
  },
  {
   "cell_type": "code",
   "execution_count": 32,
   "id": "493d6e44",
   "metadata": {},
   "outputs": [
    {
     "data": {
      "text/plain": [
       "0    0.025\n",
       "Name: OBP, dtype: float64"
      ]
     },
     "execution_count": 32,
     "metadata": {},
     "output_type": "execute_result"
    }
   ],
   "source": [
    "wakebat['OBP'] - stanbat['OBP']"
   ]
  },
  {
   "cell_type": "code",
   "execution_count": 33,
   "id": "1a6959b2",
   "metadata": {},
   "outputs": [
    {
     "data": {
      "text/plain": [
       "0    0.0451\n",
       "Name: OPS, dtype: float64"
      ]
     },
     "execution_count": 33,
     "metadata": {},
     "output_type": "execute_result"
    }
   ],
   "source": [
    "wakebat['OPS'] - stanbat['OPS']"
   ]
  },
  {
   "cell_type": "code",
   "execution_count": 34,
   "id": "d434b02d",
   "metadata": {},
   "outputs": [
    {
     "data": {
      "text/plain": [
       "0    0.0202\n",
       "Name: SLG, dtype: float64"
      ]
     },
     "execution_count": 34,
     "metadata": {},
     "output_type": "execute_result"
    }
   ],
   "source": [
    "wakebat['SLG'] - stanbat['SLG']"
   ]
  },
  {
   "cell_type": "code",
   "execution_count": 35,
   "id": "af6e4956",
   "metadata": {},
   "outputs": [
    {
     "data": {
      "text/plain": [
       "0    1.8\n",
       "Name: RBI, dtype: float64"
      ]
     },
     "execution_count": 35,
     "metadata": {},
     "output_type": "execute_result"
    }
   ],
   "source": [
    "wakebat['RBI'] - stanbat['RBI']"
   ]
  },
  {
   "cell_type": "code",
   "execution_count": 46,
   "id": "c10c9278",
   "metadata": {},
   "outputs": [
    {
     "name": "stdout",
     "output_type": "stream",
     "text": [
      "Empty DataFrame\n",
      "Columns: [BA, HR, OBP, OPS, SLG, RBI]\n",
      "Index: []\n"
     ]
    }
   ],
   "source": [
    "df = pd.DataFrame(columns = ['BA', 'HR', 'OBP', 'OPS', 'SLG', 'RBI'])\n",
    "print(df)"
   ]
  },
  {
   "cell_type": "code",
   "execution_count": 47,
   "id": "c8360be5",
   "metadata": {},
   "outputs": [
    {
     "data": {
      "text/html": [
       "<div>\n",
       "<style scoped>\n",
       "    .dataframe tbody tr th:only-of-type {\n",
       "        vertical-align: middle;\n",
       "    }\n",
       "\n",
       "    .dataframe tbody tr th {\n",
       "        vertical-align: top;\n",
       "    }\n",
       "\n",
       "    .dataframe thead th {\n",
       "        text-align: right;\n",
       "    }\n",
       "</style>\n",
       "<table border=\"1\" class=\"dataframe\">\n",
       "  <thead>\n",
       "    <tr style=\"text-align: right;\">\n",
       "      <th></th>\n",
       "      <th>BA</th>\n",
       "      <th>HR</th>\n",
       "      <th>OBP</th>\n",
       "      <th>OPS</th>\n",
       "      <th>SLG</th>\n",
       "      <th>RBI</th>\n",
       "    </tr>\n",
       "  </thead>\n",
       "  <tbody>\n",
       "  </tbody>\n",
       "</table>\n",
       "</div>"
      ],
      "text/plain": [
       "Empty DataFrame\n",
       "Columns: [BA, HR, OBP, OPS, SLG, RBI]\n",
       "Index: []"
      ]
     },
     "execution_count": 47,
     "metadata": {},
     "output_type": "execute_result"
    }
   ],
   "source": [
    "df"
   ]
  },
  {
   "cell_type": "code",
   "execution_count": 48,
   "id": "e8fa4ebe",
   "metadata": {},
   "outputs": [
    {
     "name": "stderr",
     "output_type": "stream",
     "text": [
      "/var/folders/j_/555m2zps099832fjh_m8jjnc0000gn/T/ipykernel_33930/500475674.py:1: FutureWarning: The frame.append method is deprecated and will be removed from pandas in a future version. Use pandas.concat instead.\n",
      "  df = df.append({'BA' : -0.0116, 'HR' : 1.0, 'OBP' : 0.025, 'OPS' : 0.0451, 'SLG' : 0.0202, 'RBI' : 1.8},\n"
     ]
    }
   ],
   "source": [
    "df = df.append({'BA' : -0.0116, 'HR' : 1.0, 'OBP' : 0.025, 'OPS' : 0.0451, 'SLG' : 0.0202, 'RBI' : 1.8}, \n",
    "                ignore_index = True)"
   ]
  },
  {
   "cell_type": "code",
   "execution_count": 49,
   "id": "75dbaebc",
   "metadata": {},
   "outputs": [
    {
     "data": {
      "text/html": [
       "<div>\n",
       "<style scoped>\n",
       "    .dataframe tbody tr th:only-of-type {\n",
       "        vertical-align: middle;\n",
       "    }\n",
       "\n",
       "    .dataframe tbody tr th {\n",
       "        vertical-align: top;\n",
       "    }\n",
       "\n",
       "    .dataframe thead th {\n",
       "        text-align: right;\n",
       "    }\n",
       "</style>\n",
       "<table border=\"1\" class=\"dataframe\">\n",
       "  <thead>\n",
       "    <tr style=\"text-align: right;\">\n",
       "      <th></th>\n",
       "      <th>BA</th>\n",
       "      <th>HR</th>\n",
       "      <th>OBP</th>\n",
       "      <th>OPS</th>\n",
       "      <th>SLG</th>\n",
       "      <th>RBI</th>\n",
       "    </tr>\n",
       "  </thead>\n",
       "  <tbody>\n",
       "    <tr>\n",
       "      <th>0</th>\n",
       "      <td>-0.0116</td>\n",
       "      <td>1.0</td>\n",
       "      <td>0.025</td>\n",
       "      <td>0.0451</td>\n",
       "      <td>0.0202</td>\n",
       "      <td>1.8</td>\n",
       "    </tr>\n",
       "  </tbody>\n",
       "</table>\n",
       "</div>"
      ],
      "text/plain": [
       "       BA   HR    OBP     OPS     SLG  RBI\n",
       "0 -0.0116  1.0  0.025  0.0451  0.0202  1.8"
      ]
     },
     "execution_count": 49,
     "metadata": {},
     "output_type": "execute_result"
    }
   ],
   "source": [
    "df"
   ]
  },
  {
   "cell_type": "code",
   "execution_count": null,
   "id": "86826c26",
   "metadata": {},
   "outputs": [],
   "source": []
  }
 ],
 "metadata": {
  "kernelspec": {
   "display_name": "Python 3 (ipykernel)",
   "language": "python",
   "name": "python3"
  },
  "language_info": {
   "codemirror_mode": {
    "name": "ipython",
    "version": 3
   },
   "file_extension": ".py",
   "mimetype": "text/x-python",
   "name": "python",
   "nbconvert_exporter": "python",
   "pygments_lexer": "ipython3",
   "version": "3.9.12"
  }
 },
 "nbformat": 4,
 "nbformat_minor": 5
}
