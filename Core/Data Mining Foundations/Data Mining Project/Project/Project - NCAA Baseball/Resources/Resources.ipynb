{
 "cells": [
  {
   "cell_type": "markdown",
   "id": "2e897a4e",
   "metadata": {},
   "source": [
    "[Python Package](https://github.com/nathanblumenfeld/collegebaseball)"
   ]
  },
  {
   "cell_type": "markdown",
   "id": "0595f1e1",
   "metadata": {},
   "source": [
    "Data:\n",
    "\n",
    "- [Massey](https://masseyratings.com/cbase)\n",
    "- [Massey2](https://masseyratings.com/cbase/compare.htm)\n",
    "- [boydsworld](http://www.boydsworld.com/data/hitters.html)\n",
    "- [records/rankings](http://baseball.kislanko.com/2023/standings.html)\n",
    "- [Kislanko](http://baseball.kislanko.com/)\n",
    "- [SOS etc](http://baseball.kislanko.com/2023/KLK.html)\n",
    "- [All games results](https://masseyratings.com/scores.php?s=cbase2023&sub=ncaa-d1&all=1&sch=1)\n",
    "- [data by week](https://masseyratings.com/cbase/arch/index.htm)\n",
    "- [conference records](https://masseyratings.com/cbase/ratings?c=1)\n",
    "- [score distribution](https://masseyratings.com/scoredist?s=cbase2023&x=s)"
   ]
  },
  {
   "cell_type": "markdown",
   "id": "3ad4d64f",
   "metadata": {},
   "source": [
    "2023 College World Series Teams:\n",
    "- Wake Forest\n",
    "- Stanford\n",
    "- LSU \n",
    "- Tennessee \n",
    "- Oral Roberts\n",
    "- TCU\n",
    "- Virginia\n",
    "- Florida"
   ]
  },
  {
   "cell_type": "markdown",
   "id": "5189d9ff",
   "metadata": {},
   "source": [
    "Data by Team:\n",
    "- [Wake Forest](https://www.baseball-reference.com/register/team.cgi?id=4c06ab13)\n",
    "- [Stanford](https://www.baseball-reference.com/register/team.cgi?id=944ad646)\n",
    "- [LSU](https://www.baseball-reference.com/register/team.cgi?id=5bb94101)\n",
    "- [Tennessee](https://www.baseball-reference.com/register/team.cgi?id=30ea1993)\n",
    "- [Oral Roberts](https://www.baseball-reference.com/register/team.cgi?id=6c5e4d2f)\n",
    "- [TCU](https://www.baseball-reference.com/register/team.cgi?id=2997ffd9)\n",
    "- [Virginia](https://www.baseball-reference.com/register/team.cgi?id=f60b3317)\n",
    "- [Florida](https://www.baseball-reference.com/register/team.cgi?id=09f27715)"
   ]
  },
  {
   "cell_type": "markdown",
   "id": "ecb54451",
   "metadata": {},
   "source": [
    "WS Team Data:\n",
    "- [baseball cube](https://www.thebaseballcube.com/content/cws/)\n",
    "- [baseball ref](https://www.baseball-reference.com/bullpen/College_World_Series)"
   ]
  },
  {
   "cell_type": "markdown",
   "id": "19e3a605",
   "metadata": {},
   "source": [
    "### Important Stats:\n",
    "\n",
    "#### Hitting:\n",
    "- OPS\n",
    "- OBP\n",
    "- TB\n",
    "- wOBA\n",
    "\n",
    "#### Pitching:\n",
    "- FIP\n",
    "- WHIP\n",
    "- ERA"
   ]
  },
  {
   "cell_type": "code",
   "execution_count": null,
   "id": "da5f28aa",
   "metadata": {},
   "outputs": [],
   "source": []
  }
 ],
 "metadata": {
  "kernelspec": {
   "display_name": "Python 3 (ipykernel)",
   "language": "python",
   "name": "python3"
  },
  "language_info": {
   "codemirror_mode": {
    "name": "ipython",
    "version": 3
   },
   "file_extension": ".py",
   "mimetype": "text/x-python",
   "name": "python",
   "nbconvert_exporter": "python",
   "pygments_lexer": "ipython3",
   "version": "3.9.12"
  }
 },
 "nbformat": 4,
 "nbformat_minor": 5
}
