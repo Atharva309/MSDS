{
 "cells": [
  {
   "cell_type": "markdown",
   "id": "665f7732",
   "metadata": {},
   "source": [
    "- [retrosheet](https://www.retrosheet.org/resources/resources1.html)\n",
    "- [dougstats](http://www.dougstats.com/index2.html)\n",
    "- [kaggle](https://www.kaggle.com/datasets/jraddick/baseball-events-from-retrosheetorg)\n",
    "- [simple sabermetrics](https://www.youtube.com/@SimpleSabermetrics/videos)\n",
    "- [github](https://github.com/chadwickbureau)"
   ]
  },
  {
   "cell_type": "markdown",
   "id": "20b22119",
   "metadata": {},
   "source": [
    "- [Predicting](https://github.com/kylejohnson363/Predicting-MLB-Games-with-Machine-Learning)\n",
    "- [pybaseball](https://github.com/kylejohnson363/pybaseball)\n",
    "- [baseball-project](https://github.com/kylejohnson363/dsc-3-final-project-online-ds-sp-000)"
   ]
  },
  {
   "cell_type": "markdown",
   "id": "cbf409c4",
   "metadata": {},
   "source": [
    "[r package](https://billpetti.github.io/baseballr/index.html)"
   ]
  },
  {
   "cell_type": "code",
   "execution_count": null,
   "id": "a8d87f03",
   "metadata": {},
   "outputs": [],
   "source": []
  }
 ],
 "metadata": {
  "kernelspec": {
   "display_name": "Python 3 (ipykernel)",
   "language": "python",
   "name": "python3"
  },
  "language_info": {
   "codemirror_mode": {
    "name": "ipython",
    "version": 3
   },
   "file_extension": ".py",
   "mimetype": "text/x-python",
   "name": "python",
   "nbconvert_exporter": "python",
   "pygments_lexer": "ipython3",
   "version": "3.9.12"
  }
 },
 "nbformat": 4,
 "nbformat_minor": 5
}
