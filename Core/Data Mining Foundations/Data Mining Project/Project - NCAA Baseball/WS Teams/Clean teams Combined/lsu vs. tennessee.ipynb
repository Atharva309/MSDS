{
 "cells": [
  {
   "cell_type": "code",
   "execution_count": 12,
   "id": "15c41bc3",
   "metadata": {},
   "outputs": [],
   "source": [
    "import pandas as pd\n",
    "import numpy as np"
   ]
  },
  {
   "cell_type": "code",
   "execution_count": 13,
   "id": "8df76e9a",
   "metadata": {},
   "outputs": [],
   "source": [
    "lsubat = pd.read_csv('../lsu-batting.csv')\n",
    "tenbat = pd.read_csv('../ten-bat-mean.csv')"
   ]
  },
  {
   "cell_type": "code",
   "execution_count": 22,
   "id": "7f4d5ccc",
   "metadata": {},
   "outputs": [],
   "source": [
    "lsupit = pd.read_csv('../lsupit_mean.csv')\n",
    "tenpit = pd.read_csv('../ten-pitch-mean.csv')"
   ]
  },
  {
   "cell_type": "code",
   "execution_count": 14,
   "id": "d36955a8",
   "metadata": {},
   "outputs": [
    {
     "data": {
      "text/html": [
       "<div>\n",
       "<style scoped>\n",
       "    .dataframe tbody tr th:only-of-type {\n",
       "        vertical-align: middle;\n",
       "    }\n",
       "\n",
       "    .dataframe tbody tr th {\n",
       "        vertical-align: top;\n",
       "    }\n",
       "\n",
       "    .dataframe thead th {\n",
       "        text-align: right;\n",
       "    }\n",
       "</style>\n",
       "<table border=\"1\" class=\"dataframe\">\n",
       "  <thead>\n",
       "    <tr style=\"text-align: right;\">\n",
       "      <th></th>\n",
       "      <th>2B</th>\n",
       "      <th>3B</th>\n",
       "      <th>AB</th>\n",
       "      <th>BA</th>\n",
       "      <th>BB</th>\n",
       "      <th>G</th>\n",
       "      <th>H</th>\n",
       "      <th>HBP</th>\n",
       "      <th>HR</th>\n",
       "      <th>OBP</th>\n",
       "      <th>OPS</th>\n",
       "      <th>PA</th>\n",
       "      <th>R</th>\n",
       "      <th>RBI</th>\n",
       "      <th>SF</th>\n",
       "      <th>SLG</th>\n",
       "      <th>SO</th>\n",
       "      <th>TB</th>\n",
       "    </tr>\n",
       "  </thead>\n",
       "  <tbody>\n",
       "    <tr>\n",
       "      <th>0</th>\n",
       "      <td>10.4</td>\n",
       "      <td>1.2</td>\n",
       "      <td>179.5</td>\n",
       "      <td>0.3265</td>\n",
       "      <td>30.9</td>\n",
       "      <td>54.2</td>\n",
       "      <td>58.9</td>\n",
       "      <td>11.6</td>\n",
       "      <td>12.6</td>\n",
       "      <td>0.4489</td>\n",
       "      <td>1.0601</td>\n",
       "      <td>225.4</td>\n",
       "      <td>49.0</td>\n",
       "      <td>48.4</td>\n",
       "      <td>2.9</td>\n",
       "      <td>0.6114</td>\n",
       "      <td>40.7</td>\n",
       "      <td>109.5</td>\n",
       "    </tr>\n",
       "  </tbody>\n",
       "</table>\n",
       "</div>"
      ],
      "text/plain": [
       "     2B   3B     AB      BA    BB     G     H   HBP    HR     OBP     OPS  \\\n",
       "0  10.4  1.2  179.5  0.3265  30.9  54.2  58.9  11.6  12.6  0.4489  1.0601   \n",
       "\n",
       "      PA     R   RBI   SF     SLG    SO     TB  \n",
       "0  225.4  49.0  48.4  2.9  0.6114  40.7  109.5  "
      ]
     },
     "execution_count": 14,
     "metadata": {},
     "output_type": "execute_result"
    }
   ],
   "source": [
    "lsubat"
   ]
  },
  {
   "cell_type": "code",
   "execution_count": 15,
   "id": "03cc60a5",
   "metadata": {},
   "outputs": [
    {
     "data": {
      "text/html": [
       "<div>\n",
       "<style scoped>\n",
       "    .dataframe tbody tr th:only-of-type {\n",
       "        vertical-align: middle;\n",
       "    }\n",
       "\n",
       "    .dataframe tbody tr th {\n",
       "        vertical-align: top;\n",
       "    }\n",
       "\n",
       "    .dataframe thead th {\n",
       "        text-align: right;\n",
       "    }\n",
       "</style>\n",
       "<table border=\"1\" class=\"dataframe\">\n",
       "  <thead>\n",
       "    <tr style=\"text-align: right;\">\n",
       "      <th></th>\n",
       "      <th>2B</th>\n",
       "      <th>3B</th>\n",
       "      <th>AB</th>\n",
       "      <th>BA</th>\n",
       "      <th>BB</th>\n",
       "      <th>G</th>\n",
       "      <th>H</th>\n",
       "      <th>HBP</th>\n",
       "      <th>HR</th>\n",
       "      <th>OBP</th>\n",
       "      <th>OPS</th>\n",
       "      <th>PA</th>\n",
       "      <th>R</th>\n",
       "      <th>RBI</th>\n",
       "      <th>SF</th>\n",
       "      <th>SLG</th>\n",
       "      <th>SO</th>\n",
       "      <th>TB</th>\n",
       "    </tr>\n",
       "  </thead>\n",
       "  <tbody>\n",
       "    <tr>\n",
       "      <th>0</th>\n",
       "      <td>8.5</td>\n",
       "      <td>1.3</td>\n",
       "      <td>173.5</td>\n",
       "      <td>0.2858</td>\n",
       "      <td>28.6</td>\n",
       "      <td>55.8</td>\n",
       "      <td>50.5</td>\n",
       "      <td>6.5</td>\n",
       "      <td>11.0</td>\n",
       "      <td>0.4061</td>\n",
       "      <td>0.9463</td>\n",
       "      <td>211.5</td>\n",
       "      <td>39.6</td>\n",
       "      <td>38.3</td>\n",
       "      <td>2.1</td>\n",
       "      <td>0.54</td>\n",
       "      <td>46.3</td>\n",
       "      <td>94.6</td>\n",
       "    </tr>\n",
       "  </tbody>\n",
       "</table>\n",
       "</div>"
      ],
      "text/plain": [
       "    2B   3B     AB      BA    BB     G     H  HBP    HR     OBP     OPS  \\\n",
       "0  8.5  1.3  173.5  0.2858  28.6  55.8  50.5  6.5  11.0  0.4061  0.9463   \n",
       "\n",
       "      PA     R   RBI   SF   SLG    SO    TB  \n",
       "0  211.5  39.6  38.3  2.1  0.54  46.3  94.6  "
      ]
     },
     "execution_count": 15,
     "metadata": {},
     "output_type": "execute_result"
    }
   ],
   "source": [
    "tenbat"
   ]
  },
  {
   "cell_type": "code",
   "execution_count": 16,
   "id": "9e95c4e7",
   "metadata": {},
   "outputs": [
    {
     "data": {
      "text/plain": [
       "0    0.0407\n",
       "Name: BA, dtype: float64"
      ]
     },
     "execution_count": 16,
     "metadata": {},
     "output_type": "execute_result"
    }
   ],
   "source": [
    "lsubat['BA'] - tenbat['BA']"
   ]
  },
  {
   "cell_type": "code",
   "execution_count": 17,
   "id": "b150a8af",
   "metadata": {},
   "outputs": [
    {
     "data": {
      "text/plain": [
       "0    1.6\n",
       "Name: HR, dtype: float64"
      ]
     },
     "execution_count": 17,
     "metadata": {},
     "output_type": "execute_result"
    }
   ],
   "source": [
    "lsubat['HR'] - tenbat['HR']"
   ]
  },
  {
   "cell_type": "code",
   "execution_count": 18,
   "id": "95cc6819",
   "metadata": {},
   "outputs": [
    {
     "data": {
      "text/plain": [
       "0    0.0428\n",
       "Name: OBP, dtype: float64"
      ]
     },
     "execution_count": 18,
     "metadata": {},
     "output_type": "execute_result"
    }
   ],
   "source": [
    "lsubat['OBP'] - tenbat['OBP']"
   ]
  },
  {
   "cell_type": "markdown",
   "id": "be73b6c8",
   "metadata": {},
   "source": [
    "### OPS - adds on-base percentage and slugging percentage to get one number that unites the two"
   ]
  },
  {
   "cell_type": "code",
   "execution_count": 19,
   "id": "79e22cad",
   "metadata": {},
   "outputs": [
    {
     "data": {
      "text/plain": [
       "0    0.1138\n",
       "Name: OPS, dtype: float64"
      ]
     },
     "execution_count": 19,
     "metadata": {},
     "output_type": "execute_result"
    }
   ],
   "source": [
    "lsubat['OPS'] - tenbat['OPS']"
   ]
  },
  {
   "cell_type": "code",
   "execution_count": 20,
   "id": "b74c5dbe",
   "metadata": {},
   "outputs": [
    {
     "data": {
      "text/plain": [
       "0    10.1\n",
       "Name: RBI, dtype: float64"
      ]
     },
     "execution_count": 20,
     "metadata": {},
     "output_type": "execute_result"
    }
   ],
   "source": [
    "lsubat['RBI'] - tenbat['RBI']"
   ]
  },
  {
   "cell_type": "code",
   "execution_count": 21,
   "id": "ea7141eb",
   "metadata": {},
   "outputs": [
    {
     "data": {
      "text/plain": [
       "0    0.0714\n",
       "Name: SLG, dtype: float64"
      ]
     },
     "execution_count": 21,
     "metadata": {},
     "output_type": "execute_result"
    }
   ],
   "source": [
    "lsubat['SLG'] - tenbat['SLG']"
   ]
  },
  {
   "cell_type": "code",
   "execution_count": 23,
   "id": "37209a53",
   "metadata": {},
   "outputs": [
    {
     "data": {
      "text/html": [
       "<div>\n",
       "<style scoped>\n",
       "    .dataframe tbody tr th:only-of-type {\n",
       "        vertical-align: middle;\n",
       "    }\n",
       "\n",
       "    .dataframe tbody tr th {\n",
       "        vertical-align: top;\n",
       "    }\n",
       "\n",
       "    .dataframe thead th {\n",
       "        text-align: right;\n",
       "    }\n",
       "</style>\n",
       "<table border=\"1\" class=\"dataframe\">\n",
       "  <thead>\n",
       "    <tr style=\"text-align: right;\">\n",
       "      <th></th>\n",
       "      <th>BB</th>\n",
       "      <th>BB9</th>\n",
       "      <th>BF</th>\n",
       "      <th>ER</th>\n",
       "      <th>ERA</th>\n",
       "      <th>G</th>\n",
       "      <th>GS</th>\n",
       "      <th>H</th>\n",
       "      <th>H9</th>\n",
       "      <th>HBP</th>\n",
       "      <th>...</th>\n",
       "      <th>L</th>\n",
       "      <th>R</th>\n",
       "      <th>SHO</th>\n",
       "      <th>SO</th>\n",
       "      <th>SO/W</th>\n",
       "      <th>SO9</th>\n",
       "      <th>SV</th>\n",
       "      <th>W</th>\n",
       "      <th>WHIP</th>\n",
       "      <th>WP</th>\n",
       "    </tr>\n",
       "  </thead>\n",
       "  <tbody>\n",
       "    <tr>\n",
       "      <th>0</th>\n",
       "      <td>22.4</td>\n",
       "      <td>3.66</td>\n",
       "      <td>264.8</td>\n",
       "      <td>27.0</td>\n",
       "      <td>4.24</td>\n",
       "      <td>20.0</td>\n",
       "      <td>9.2</td>\n",
       "      <td>51.0</td>\n",
       "      <td>7.64</td>\n",
       "      <td>4.6</td>\n",
       "      <td>...</td>\n",
       "      <td>1.4</td>\n",
       "      <td>30.6</td>\n",
       "      <td>0.0</td>\n",
       "      <td>88.4</td>\n",
       "      <td>4.378</td>\n",
       "      <td>12.38</td>\n",
       "      <td>1.4</td>\n",
       "      <td>6.4</td>\n",
       "      <td>1.2544</td>\n",
       "      <td>6.6</td>\n",
       "    </tr>\n",
       "  </tbody>\n",
       "</table>\n",
       "<p>1 rows × 23 columns</p>\n",
       "</div>"
      ],
      "text/plain": [
       "     BB   BB9     BF    ER   ERA     G   GS     H    H9  HBP  ...    L     R  \\\n",
       "0  22.4  3.66  264.8  27.0  4.24  20.0  9.2  51.0  7.64  4.6  ...  1.4  30.6   \n",
       "\n",
       "   SHO    SO   SO/W    SO9   SV    W    WHIP   WP  \n",
       "0  0.0  88.4  4.378  12.38  1.4  6.4  1.2544  6.6  \n",
       "\n",
       "[1 rows x 23 columns]"
      ]
     },
     "execution_count": 23,
     "metadata": {},
     "output_type": "execute_result"
    }
   ],
   "source": [
    "lsupit"
   ]
  },
  {
   "cell_type": "code",
   "execution_count": 24,
   "id": "70ba0015",
   "metadata": {},
   "outputs": [
    {
     "data": {
      "text/html": [
       "<div>\n",
       "<style scoped>\n",
       "    .dataframe tbody tr th:only-of-type {\n",
       "        vertical-align: middle;\n",
       "    }\n",
       "\n",
       "    .dataframe tbody tr th {\n",
       "        vertical-align: top;\n",
       "    }\n",
       "\n",
       "    .dataframe thead th {\n",
       "        text-align: right;\n",
       "    }\n",
       "</style>\n",
       "<table border=\"1\" class=\"dataframe\">\n",
       "  <thead>\n",
       "    <tr style=\"text-align: right;\">\n",
       "      <th></th>\n",
       "      <th>BB</th>\n",
       "      <th>BB9</th>\n",
       "      <th>BF</th>\n",
       "      <th>ER</th>\n",
       "      <th>ERA</th>\n",
       "      <th>G</th>\n",
       "      <th>GS</th>\n",
       "      <th>H</th>\n",
       "      <th>H9</th>\n",
       "      <th>HBP</th>\n",
       "      <th>...</th>\n",
       "      <th>L</th>\n",
       "      <th>R</th>\n",
       "      <th>SHO</th>\n",
       "      <th>SO</th>\n",
       "      <th>SO/W</th>\n",
       "      <th>SO9</th>\n",
       "      <th>SV</th>\n",
       "      <th>W</th>\n",
       "      <th>WHIP</th>\n",
       "      <th>WP</th>\n",
       "    </tr>\n",
       "  </thead>\n",
       "  <tbody>\n",
       "    <tr>\n",
       "      <th>0</th>\n",
       "      <td>13.5</td>\n",
       "      <td>2.383333</td>\n",
       "      <td>204.166667</td>\n",
       "      <td>19.333333</td>\n",
       "      <td>3.31</td>\n",
       "      <td>21.333333</td>\n",
       "      <td>8.5</td>\n",
       "      <td>43.333333</td>\n",
       "      <td>7.55</td>\n",
       "      <td>3.666667</td>\n",
       "      <td>...</td>\n",
       "      <td>2.333333</td>\n",
       "      <td>23.166667</td>\n",
       "      <td>0.0</td>\n",
       "      <td>57.5</td>\n",
       "      <td>4.833333</td>\n",
       "      <td>11.15</td>\n",
       "      <td>0.0</td>\n",
       "      <td>3.833333</td>\n",
       "      <td>1.102167</td>\n",
       "      <td>1.5</td>\n",
       "    </tr>\n",
       "  </tbody>\n",
       "</table>\n",
       "<p>1 rows × 23 columns</p>\n",
       "</div>"
      ],
      "text/plain": [
       "     BB       BB9          BF         ER   ERA          G   GS          H  \\\n",
       "0  13.5  2.383333  204.166667  19.333333  3.31  21.333333  8.5  43.333333   \n",
       "\n",
       "     H9       HBP  ...         L          R  SHO    SO      SO/W    SO9   SV  \\\n",
       "0  7.55  3.666667  ...  2.333333  23.166667  0.0  57.5  4.833333  11.15  0.0   \n",
       "\n",
       "          W      WHIP   WP  \n",
       "0  3.833333  1.102167  1.5  \n",
       "\n",
       "[1 rows x 23 columns]"
      ]
     },
     "execution_count": 24,
     "metadata": {},
     "output_type": "execute_result"
    }
   ],
   "source": [
    "tenpit"
   ]
  },
  {
   "cell_type": "code",
   "execution_count": 28,
   "id": "3b0e986e",
   "metadata": {},
   "outputs": [
    {
     "data": {
      "text/html": [
       "<div>\n",
       "<style scoped>\n",
       "    .dataframe tbody tr th:only-of-type {\n",
       "        vertical-align: middle;\n",
       "    }\n",
       "\n",
       "    .dataframe tbody tr th {\n",
       "        vertical-align: top;\n",
       "    }\n",
       "\n",
       "    .dataframe thead th {\n",
       "        text-align: right;\n",
       "    }\n",
       "</style>\n",
       "<table border=\"1\" class=\"dataframe\">\n",
       "  <thead>\n",
       "    <tr style=\"text-align: right;\">\n",
       "      <th></th>\n",
       "      <th>0</th>\n",
       "    </tr>\n",
       "  </thead>\n",
       "  <tbody>\n",
       "    <tr>\n",
       "      <th>BB</th>\n",
       "      <td>22.4000</td>\n",
       "    </tr>\n",
       "    <tr>\n",
       "      <th>BB9</th>\n",
       "      <td>3.6600</td>\n",
       "    </tr>\n",
       "    <tr>\n",
       "      <th>BF</th>\n",
       "      <td>264.8000</td>\n",
       "    </tr>\n",
       "    <tr>\n",
       "      <th>ER</th>\n",
       "      <td>27.0000</td>\n",
       "    </tr>\n",
       "    <tr>\n",
       "      <th>ERA</th>\n",
       "      <td>4.2400</td>\n",
       "    </tr>\n",
       "    <tr>\n",
       "      <th>G</th>\n",
       "      <td>20.0000</td>\n",
       "    </tr>\n",
       "    <tr>\n",
       "      <th>GS</th>\n",
       "      <td>9.2000</td>\n",
       "    </tr>\n",
       "    <tr>\n",
       "      <th>H</th>\n",
       "      <td>51.0000</td>\n",
       "    </tr>\n",
       "    <tr>\n",
       "      <th>H9</th>\n",
       "      <td>7.6400</td>\n",
       "    </tr>\n",
       "    <tr>\n",
       "      <th>HBP</th>\n",
       "      <td>4.6000</td>\n",
       "    </tr>\n",
       "    <tr>\n",
       "      <th>HR</th>\n",
       "      <td>7.4000</td>\n",
       "    </tr>\n",
       "    <tr>\n",
       "      <th>HR9</th>\n",
       "      <td>1.0200</td>\n",
       "    </tr>\n",
       "    <tr>\n",
       "      <th>IP</th>\n",
       "      <td>62.2600</td>\n",
       "    </tr>\n",
       "    <tr>\n",
       "      <th>L</th>\n",
       "      <td>1.4000</td>\n",
       "    </tr>\n",
       "    <tr>\n",
       "      <th>R</th>\n",
       "      <td>30.6000</td>\n",
       "    </tr>\n",
       "    <tr>\n",
       "      <th>SHO</th>\n",
       "      <td>0.0000</td>\n",
       "    </tr>\n",
       "    <tr>\n",
       "      <th>SO</th>\n",
       "      <td>88.4000</td>\n",
       "    </tr>\n",
       "    <tr>\n",
       "      <th>SO/W</th>\n",
       "      <td>4.3780</td>\n",
       "    </tr>\n",
       "    <tr>\n",
       "      <th>SO9</th>\n",
       "      <td>12.3800</td>\n",
       "    </tr>\n",
       "    <tr>\n",
       "      <th>SV</th>\n",
       "      <td>1.4000</td>\n",
       "    </tr>\n",
       "    <tr>\n",
       "      <th>W</th>\n",
       "      <td>6.4000</td>\n",
       "    </tr>\n",
       "    <tr>\n",
       "      <th>WHIP</th>\n",
       "      <td>1.2544</td>\n",
       "    </tr>\n",
       "    <tr>\n",
       "      <th>WP</th>\n",
       "      <td>6.6000</td>\n",
       "    </tr>\n",
       "  </tbody>\n",
       "</table>\n",
       "</div>"
      ],
      "text/plain": [
       "             0\n",
       "BB     22.4000\n",
       "BB9     3.6600\n",
       "BF    264.8000\n",
       "ER     27.0000\n",
       "ERA     4.2400\n",
       "G      20.0000\n",
       "GS      9.2000\n",
       "H      51.0000\n",
       "H9      7.6400\n",
       "HBP     4.6000\n",
       "HR      7.4000\n",
       "HR9     1.0200\n",
       "IP     62.2600\n",
       "L       1.4000\n",
       "R      30.6000\n",
       "SHO     0.0000\n",
       "SO     88.4000\n",
       "SO/W    4.3780\n",
       "SO9    12.3800\n",
       "SV      1.4000\n",
       "W       6.4000\n",
       "WHIP    1.2544\n",
       "WP      6.6000"
      ]
     },
     "execution_count": 28,
     "metadata": {},
     "output_type": "execute_result"
    }
   ],
   "source": [
    "lsupit.T"
   ]
  },
  {
   "cell_type": "code",
   "execution_count": 26,
   "id": "67c817b2",
   "metadata": {},
   "outputs": [
    {
     "data": {
      "text/plain": [
       "0    0.93\n",
       "Name: ERA, dtype: float64"
      ]
     },
     "execution_count": 26,
     "metadata": {},
     "output_type": "execute_result"
    }
   ],
   "source": [
    "lsupit['ERA'] - tenpit['ERA']"
   ]
  },
  {
   "cell_type": "code",
   "execution_count": 32,
   "id": "7fcdca11",
   "metadata": {},
   "outputs": [
    {
     "data": {
      "text/plain": [
       "0    0.09\n",
       "Name: H9, dtype: float64"
      ]
     },
     "execution_count": 32,
     "metadata": {},
     "output_type": "execute_result"
    }
   ],
   "source": [
    "lsupit['H9'] - tenpit['H9']"
   ]
  },
  {
   "cell_type": "code",
   "execution_count": 30,
   "id": "2df000e6",
   "metadata": {},
   "outputs": [
    {
     "data": {
      "text/plain": [
       "0    1.23\n",
       "Name: SO9, dtype: float64"
      ]
     },
     "execution_count": 30,
     "metadata": {},
     "output_type": "execute_result"
    }
   ],
   "source": [
    "lsupit['SO9'] - tenpit['SO9']"
   ]
  },
  {
   "cell_type": "markdown",
   "id": "b158680f",
   "metadata": {},
   "source": [
    "\n",
    "### WHIP - the sum of a pitcher's walks and hits, divided by his total innings pitched. (lower number is better)"
   ]
  },
  {
   "cell_type": "code",
   "execution_count": 31,
   "id": "36b0612a",
   "metadata": {},
   "outputs": [
    {
     "data": {
      "text/plain": [
       "0    0.152233\n",
       "Name: WHIP, dtype: float64"
      ]
     },
     "execution_count": 31,
     "metadata": {},
     "output_type": "execute_result"
    }
   ],
   "source": [
    "lsupit['WHIP'] - tenpit['WHIP']"
   ]
  },
  {
   "cell_type": "code",
   "execution_count": 33,
   "id": "d80ab22b",
   "metadata": {},
   "outputs": [
    {
     "data": {
      "text/plain": [
       "0    1.276667\n",
       "Name: BB9, dtype: float64"
      ]
     },
     "execution_count": 33,
     "metadata": {},
     "output_type": "execute_result"
    }
   ],
   "source": [
    "lsupit['BB9'] - tenpit['BB9']"
   ]
  },
  {
   "cell_type": "code",
   "execution_count": null,
   "id": "5e3ce5d6",
   "metadata": {},
   "outputs": [],
   "source": []
  }
 ],
 "metadata": {
  "kernelspec": {
   "display_name": "Python 3 (ipykernel)",
   "language": "python",
   "name": "python3"
  },
  "language_info": {
   "codemirror_mode": {
    "name": "ipython",
    "version": 3
   },
   "file_extension": ".py",
   "mimetype": "text/x-python",
   "name": "python",
   "nbconvert_exporter": "python",
   "pygments_lexer": "ipython3",
   "version": "3.9.12"
  }
 },
 "nbformat": 4,
 "nbformat_minor": 5
}
