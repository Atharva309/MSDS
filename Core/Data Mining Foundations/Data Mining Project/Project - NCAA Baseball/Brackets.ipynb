{
 "cells": [
  {
   "cell_type": "markdown",
   "id": "a07f0851",
   "metadata": {},
   "source": [
    "Bracket 1:\n",
    "\n",
    "- TCU vs Oral Roberts\n",
    "- Florida vs Virginia\n",
    "\n",
    "Bracket 2:\n",
    "- Wake Forest vs Stanford\n",
    "- LSU vs Tennessee"
   ]
  },
  {
   "cell_type": "code",
   "execution_count": null,
   "id": "7477881d",
   "metadata": {},
   "outputs": [],
   "source": []
  }
 ],
 "metadata": {
  "kernelspec": {
   "display_name": "Python 3 (ipykernel)",
   "language": "python",
   "name": "python3"
  },
  "language_info": {
   "codemirror_mode": {
    "name": "ipython",
    "version": 3
   },
   "file_extension": ".py",
   "mimetype": "text/x-python",
   "name": "python",
   "nbconvert_exporter": "python",
   "pygments_lexer": "ipython3",
   "version": "3.9.12"
  }
 },
 "nbformat": 4,
 "nbformat_minor": 5
}
