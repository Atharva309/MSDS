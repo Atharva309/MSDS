{
 "cells": [
  {
   "cell_type": "markdown",
   "id": "34974055",
   "metadata": {},
   "source": [
    "Acting as the architect of your data mining project, define a project that you are interested in working on, specify the key components of your project proposal, and afterwards, review other people's project proposals to provide feedback and reflect on your own project. Please refer to the lectures for details. "
   ]
  },
  {
   "cell_type": "code",
   "execution_count": null,
   "id": "23659d72",
   "metadata": {},
   "outputs": [],
   "source": []
  }
 ],
 "metadata": {
  "kernelspec": {
   "display_name": "Python 3 (ipykernel)",
   "language": "python",
   "name": "python3"
  },
  "language_info": {
   "codemirror_mode": {
    "name": "ipython",
    "version": 3
   },
   "file_extension": ".py",
   "mimetype": "text/x-python",
   "name": "python",
   "nbconvert_exporter": "python",
   "pygments_lexer": "ipython3",
   "version": "3.9.12"
  }
 },
 "nbformat": 4,
 "nbformat_minor": 5
}
