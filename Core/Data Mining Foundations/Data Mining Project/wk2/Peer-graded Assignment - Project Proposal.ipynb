{
 "cells": [
  {
   "cell_type": "markdown",
   "id": "b6ee7dd9",
   "metadata": {},
   "source": [
    "[Proposal template](https://www.acm.org/publications/proceedings-template)"
   ]
  },
  {
   "cell_type": "markdown",
   "id": "34974055",
   "metadata": {},
   "source": [
    "Acting as the architect of your data mining project, define a project that you are interested in working on, specify the key components of your project proposal, and afterwards, review other people's project proposals to provide feedback and reflect on your own project. Please refer to the lectures for details. "
   ]
  },
  {
   "cell_type": "markdown",
   "id": "b2daa4bc",
   "metadata": {},
   "source": [
    "# Abstract:\n",
    "\n",
    "This project addresses the complex challenge of optimizing the composition of the Team USA Olympic Men’s and Women’s Artistic Gymnastics teams for the Paris 2024 Olympics. The objective is to develop an advanced analytics model that leverages historical performance data, athlete specialization, and evolving competition dynamics to recommend a group of 5 athletes that would maximize the teams' success. The model considers diverse scenarios, including maximizing total medal count, emphasizing gold medals, and exploring weighted medal counts based on medal types. By integrating data-driven insights with the intricate structure of Olympic gymnastics competition, this project aims to provide a comprehensive tool for informed decision-making in team selection, ultimately contributing to Team USA's pursuit of excellence on the global stage."
   ]
  },
  {
   "cell_type": "markdown",
   "id": "432f5db7",
   "metadata": {},
   "source": [
    "# Introduction:\n",
    "\n",
    "Selecting the optimal composition of a national Olympic gymnastics team is a multifaceted challenge that requires careful consideration of athlete specialization, team dynamics, and evolving competition structures. As the countdown to the Paris 2024 Olympics begins, the question of identifying the group of 5 athletes that will enable the Team USA Olympic Men’s and Women’s Artistic Gymnastics teams to achieve peak performance becomes increasingly crucial. This project aims to address this challenge by developing an innovative analytics model that offers data-driven insights to optimize team selection and maximize the teams' success.\n",
    "\n",
    "## Importance of the Problem:\n",
    "\n",
    "The significance of this problem lies in its potential to significantly impact Team USA's performance at the Paris 2024 Olympics. With a diverse range of medal events and a competitive field of 192 artistic gymnasts from around the world, making informed decisions on team composition is pivotal. The selection process requires balancing athlete specialization in different apparatus, factoring in the evolving qualification criteria, and strategizing for medal attainment across various scenarios. A well-structured analytics model has the power to enhance the precision of team selection, enabling Team USA to capitalize on its athletes' strengths and maximize its medal count.\n",
    "\n",
    "\n",
    "## Limitations of Existing Solutions:\n",
    "\n",
    "Traditionally, gymnastics team selection has been based on historical records, expertise in specific apparatus, and subjective judgment. However, these methods often lack the quantitative rigor required to navigate the intricate structure of Olympic gymnastics competition. The evolving qualification criteria, the introduction of \"individual neutral athletes,\" and the shifting emphasis on different medal types further complicate the decision-making process. As a result, there is a need for an advanced analytics approach that can process large volumes of data, consider multiple optimization scenarios, and offer nuanced recommendations based on objective criteria.\n",
    "\n",
    "\n",
    "## Potential Contribution:\n",
    "\n",
    "This project's potential contribution lies in its development of an analytics model that seamlessly integrates historical performance data, athlete specialization, recent competition results, and evolving qualification criteria. By analyzing different team selection scenarios and considering diverse medal attainment strategies, the model aims to offer comprehensive recommendations that guide Team USA's decision-making process. The proposed model has the capacity to revolutionize how Olympic gymnastics teams are formed, providing a data-driven foundation for the critical task of selecting the athletes who will represent the nation and compete for excellence in the highly anticipated Paris 2024 Olympics."
   ]
  },
  {
   "cell_type": "markdown",
   "id": "3eaf759b",
   "metadata": {},
   "source": [
    "# Related Work???"
   ]
  },
  {
   "cell_type": "markdown",
   "id": "9f7b0fd0",
   "metadata": {},
   "source": [
    "# Proposed Work\n",
    "\n",
    "- Datasets, tools\n",
    "\n",
    "- Main tasks:\n",
    "    - statisical analysis, visualizaiton\n",
    "    - data preprocessing, warehousing\n",
    "    - specific questions, patterns to explore/model"
   ]
  },
  {
   "cell_type": "markdown",
   "id": "f972bff9",
   "metadata": {},
   "source": [
    "# Evaluation:\n",
    "\n",
    "from website:\n",
    "\n",
    "The goal of this data challenge is to put together the best possible men’s and women’s Team USA Olympic Artistic Gymnastics teams, however, the meaning of “best” is left open to the interpretation of the entrant.\n",
    "\n",
    "For example, a few questions that students could consider for their entry include:\n",
    "\n",
    "    - How would your recommended team differ if you are trying to maximize total medal count, gold medals, or a weighted medal count (e.g., 3 for gold, 2 for silver, 1 for bronze)? How would your recommended team change if you consider a team all-around medal to be more valuable than the individual all-around medals and/or if you consider the individual all-around medals to be more valuable than the individual apparatus medals? Can Team USA maximize its total medal count by selecting a team of 5 gymnasts who are all-around gymnasts, event specialists (gymnasts who focus on 1 or more apparatus but not all apparatus), or a combination of those? Under what circumstances can Team USA maximize its total medal count by selecting a gymnast who only competes on 1 apparatus (e.g., Stephen Nederoscik, 2021 pommel horse World Champion)?\n"
   ]
  },
  {
   "cell_type": "markdown",
   "id": "366276a5",
   "metadata": {},
   "source": [
    "# Discussion\n",
    "\n",
    "Project Timeline:\n",
    "\n",
    "- Project Initiation and Problem Understanding (1 week): Understand the project requirements, goals, and constraints. Define the scope of the analytics model and establish key objectives.\n",
    "\n",
    "- Data Collection and Preparation (4 weeks): Gather historical performance data for gymnasts, team events, and individual apparatus events. Clean, preprocess, and organize the data for analysis.\n",
    "\n",
    "- Model Development and Testing (6 weeks): Develop the analytics model that predicts performance outcomes based on historical data and considers various optimization scenarios. Test the model's accuracy and recommendations against historical events.\n",
    "\n",
    "- Scenario Testing and Optimization (5 weeks): Implement different scenarios, including maximizing total medal count, emphasizing gold medals, and exploring weighted medal counts. Assess how different scenarios impact team compositions.\n",
    "\n",
    "- Validation and Real-world Applicability (3 weeks): Validate the model's recommendations against actual gymnastics events leading up to Paris 2024, such as the 2023 World Championships. Collect feedback from experts and coaches to assess the practicality of the model.\n",
    "\n",
    "- Visualization and Reporting (4 weeks): Create clear and informative visualizations to present the model's insights and recommendations. Compile a comprehensive report outlining the methodology, findings, and implications of the analytics model.\n",
    "\n",
    "- Peer Review and Revisions (2 weeks): Seek feedback from peers or domain experts to refine the model and report. Incorporate any necessary revisions and improvements.\n",
    "\n",
    "- Presentation and Submission (2 weeks): Prepare a concise and engaging presentation summarizing the project's objectives, methodology, results, and recommendations. Complete the submission for the UCSAS 2024 USOPC Data Challenge.\n",
    "\n",
    "Potential Challenges:\n",
    "\n",
    "- Data Quality and Availability: Ensuring the quality, completeness, and accuracy of historical performance data for gymnasts can be challenging. Data from different sources might have inconsistencies that need to be addressed.\n",
    "\n",
    "- Model Complexity: Developing an analytics model that accurately considers the complex gymnastics competition structure and produces meaningful recommendations could be intricate.\n",
    "\n",
    "- Uncertain Factors: The model might struggle to account for unexpected variables that could affect gymnast performance, such as injuries, changes in training routines, or psychological factors.\n",
    "\n",
    "- Subjectivity of \"Best\": Defining the concept of the \"best\" team can be subjective and vary based on optimization criteria. Balancing different metrics like total medal count, gold medals, and individual versus team performance adds complexity.\n",
    "\n",
    "Alternative Approaches/Backup Plan:\n",
    "\n",
    "- Ensemble Methods: If the initial analytics model struggles to provide consistent and robust recommendations, consider using ensemble methods that combine multiple models to improve predictive accuracy.\n",
    "\n",
    "- Simpler Models: If the model complexity becomes an issue, consider building simpler predictive models that focus on specific aspects of gymnast performance, such as scores in individual apparatus events.\n",
    "\n",
    "- Hybrid Models: Combine machine learning approaches with expert-driven heuristics to enhance the model's practicality and ensure it aligns with real-world insights.\n",
    "\n",
    "- Robustness Testing: Perform extensive sensitivity analyses and test the model against different historical periods to ensure its robustness and generalizability.\n",
    "\n",
    "- Interpretability Analysis: If the model's recommendations are difficult to interpret, consider conducting interpretability analyses to gain insights into the factors driving the model's decisions.\n",
    "\n",
    "- Scoring and Weighting Experimentation: Experiment with different scoring and weighting schemes to determine the most impactful approach for team selection.\n",
    "\n",
    "Having alternative approaches and backup plans in place will help you adapt to challenges and ensure that your project remains on track to deliver meaningful insights and recommendations for optimizing Team USA's Olympic Artistic Gymnastics teams."
   ]
  },
  {
   "cell_type": "markdown",
   "id": "4bd9619c",
   "metadata": {},
   "source": [
    "# Conclusion"
   ]
  },
  {
   "cell_type": "code",
   "execution_count": null,
   "id": "024439c5",
   "metadata": {},
   "outputs": [],
   "source": []
  },
  {
   "cell_type": "code",
   "execution_count": null,
   "id": "961d843d",
   "metadata": {},
   "outputs": [],
   "source": []
  },
  {
   "cell_type": "code",
   "execution_count": null,
   "id": "ad3c89ae",
   "metadata": {},
   "outputs": [],
   "source": []
  },
  {
   "cell_type": "code",
   "execution_count": null,
   "id": "6b37eef5",
   "metadata": {},
   "outputs": [],
   "source": []
  },
  {
   "cell_type": "markdown",
   "id": "a8ac709c",
   "metadata": {},
   "source": [
    "**Project Title:** Optimizing Team Composition for USA Olympic Artistic Gymnastics in Paris 2024\n",
    "\n",
    "**Problem Statement:** The challenge is to develop an analytics model that assists in selecting the optimal composition of the Team USA Olympic Men’s and Women’s Artistic Gymnastics teams for Paris 2024. The objective is to identify the group of 5 athletes that would maximize success by considering various factors such as medal count, medal type, team dynamics, and individual capabilities.\n",
    "\n",
    "**Related Work:** Previous Olympic gymnastics team selections have been based on performance records, expertise in specific apparatus, and team synergy. However, the complex structure of the Olympic competition, evolving qualification criteria, and the introduction of \"individual neutral athletes\" create a need for a more data-driven approach to team selection.\n",
    "\n",
    "**Proposed Work:** We propose developing an advanced analytics model that integrates historical performance data, athlete specialization, recent competition results, and the evolving competition structure to optimize the composition of the Team USA Olympic Artistic Gymnastics teams. The model will consider various scenarios, such as maximizing total medal count, emphasizing gold medals, or considering a weighted medal count based on medal type.\n",
    "\n",
    "**Evaluation:** The effectiveness of the proposed analytics model will be evaluated based on its ability to accurately predict the performance of the selected teams during the 2023 World Championships and other qualifying events. The model's recommendations will be compared against the actual results to assess its predictive power and effectiveness in optimizing team composition.\n",
    "\n",
    "**Timeline:**\n",
    "\n",
    "1. **Data Collection and Preparation (2 months):** Gather historical performance data of athletes, including past Olympic and World Championship results. Prepare the dataset for analysis, ensuring consistency and accuracy.\n",
    "\n",
    "2. **Model Development (3 months):** Develop the analytics model that takes into account athlete specialization, recent competition results, and various team selection criteria. Implement different scenarios for team optimization.\n",
    "\n",
    "3. **Testing and Refinement (2 months):** Test the model's recommendations against historical data and previous competitions. Refine the model based on feedback and performance evaluation.\n",
    "\n",
    "4. **Simulation and Scenarios (2 months):** Simulate different scenarios based on maximizing total medal count, emphasizing gold medals, and exploring weighted medal counts. Analyze the impact of different team compositions.\n",
    "\n",
    "5. **Validation with Qualifying Events (3 months):** Apply the model to predict the optimal team compositions for the 2023 World Championships and other qualifying events. Compare predictions against actual results.\n",
    "\n",
    "6. **Final Model and Recommendations (1 month):** Finalize the analytics model based on insights gained from validation. Generate recommendations for the optimal composition of the Team USA Olympic Artistic Gymnastics teams for Paris 2024.\n",
    "\n",
    "7. **Report and Documentation (1 month):** Compile the findings, methodologies, and recommendations into a comprehensive report. Document the model's approach, its strengths, limitations, and guidelines for future use.\n",
    "\n",
    "8. **Presentation and Submission (1 month):** Prepare a presentation summarizing the project's objectives, methodology, results, and recommendations. Submit the project for the UCSAS 2024 USOPC Data Challenge.\n",
    "\n",
    "By adhering to this timeline, we aim to provide a robust analytics model that offers valuable insights into optimizing the selection of athletes for the Team USA Olympic Artistic Gymnastics teams, contributing to a more data-informed decision-making process."
   ]
  },
  {
   "cell_type": "code",
   "execution_count": null,
   "id": "2fdfbad6",
   "metadata": {},
   "outputs": [],
   "source": []
  },
  {
   "cell_type": "code",
   "execution_count": null,
   "id": "ab0a2bce",
   "metadata": {},
   "outputs": [],
   "source": []
  },
  {
   "cell_type": "code",
   "execution_count": null,
   "id": "87f3167e",
   "metadata": {},
   "outputs": [],
   "source": []
  },
  {
   "cell_type": "markdown",
   "id": "4cc8a118",
   "metadata": {},
   "source": [
    "Project Title: College Baseball Game Winner Predictions\n",
    "\n",
    "1. Introduction:\n",
    "   - Provide an overview of the project and its objectives.\n",
    "   - Highlight the importance of predicting college baseball game winners.\n",
    "   - Explain the potential benefits and applications of accurate predictions.\n",
    "\n",
    "2. Problem Statement:\n",
    "   - Clearly define the problem statement: Predicting the winners of college baseball games.\n",
    "   - Describe the challenges and complexities associated with predicting game outcomes.\n",
    "   - Discuss the potential impact of accurate predictions on various stakeholders (e.g., coaches, bettors, fans).\n",
    "\n",
    "3. Data Collection:\n",
    "   - Specify the data sources for collecting college baseball game data.\n",
    "   - Identify the relevant variables/features to be collected for each game.\n",
    "   - Explain the process of data acquisition and potential challenges in obtaining high-quality data.\n",
    "\n",
    "4. Data Preprocessing:\n",
    "   - Discuss the steps involved in preprocessing the collected data.\n",
    "   - Address data cleaning, missing value imputation, and outlier detection techniques.\n",
    "   - Explain the need for feature engineering and feature selection to enhance the prediction models.\n",
    "\n",
    "5. Exploratory Data Analysis:\n",
    "   - Perform a descriptive analysis of the collected data.\n",
    "   - Visualize key patterns, trends, and relationships within the dataset.\n",
    "   - Identify any data biases or limitations that may impact the predictions.\n",
    "\n",
    "6. Model Development:\n",
    "   - Define the predictive modeling approach to be used (e.g., classification algorithms).\n",
    "   - Select appropriate machine learning algorithms for the prediction task.\n",
    "   - Discuss the evaluation metrics to assess the performance of the models.\n",
    "\n",
    "7. Model Training and Evaluation:\n",
    "   - Split the dataset into training and testing sets.\n",
    "   - Train the selected models using the training data.\n",
    "   - Evaluate the performance of the models using appropriate metrics (e.g., accuracy, precision, recall).\n",
    "\n",
    "8. Model Improvement:\n",
    "   - Discuss strategies for improving the prediction models' performance.\n",
    "   - Consider ensemble methods, hyperparameter tuning, and cross-validation techniques.\n",
    "   - Address potential challenges in model improvement and overfitting prevention.\n",
    "\n",
    "9. Deployment and Integration:\n",
    "   - Outline the process of deploying the prediction models into a production environment.\n",
    "   - Discuss the integration of the models into an application or platform for end-users.\n",
    "   - Address any technical requirements or constraints for deploying the models.\n",
    "\n",
    "10. Project Management and Timeline:\n",
    "    - Define the project milestones and deliverables.\n",
    "    - Create a timeline with specific deadlines for each project phase.\n",
    "    - Allocate resources and responsibilities to team members involved.\n",
    "\n",
    "11. Ethical Considerations:\n",
    "    - Discuss the ethical implications of the project, such as responsible gambling.\n",
    "    - Address privacy and data security concerns during data collection and storage.\n",
    "    - Emphasize the importance of transparency and fairness in predictions.\n",
    "\n",
    "12. Conclusion:\n",
    "    - Summarize the key components of the project proposal.\n",
    "    - Highlight the potential impact and benefits of accurate college baseball game winner predictions.\n",
    "    - Discuss future directions for the project and potential areas of improvement.\n",
    "\n"
   ]
  },
  {
   "cell_type": "markdown",
   "id": "5884c454",
   "metadata": {},
   "source": [
    "this needs to be cleaned and updated"
   ]
  },
  {
   "cell_type": "code",
   "execution_count": null,
   "id": "030df7cb",
   "metadata": {},
   "outputs": [],
   "source": []
  }
 ],
 "metadata": {
  "kernelspec": {
   "display_name": "Python 3 (ipykernel)",
   "language": "python",
   "name": "python3"
  },
  "language_info": {
   "codemirror_mode": {
    "name": "ipython",
    "version": 3
   },
   "file_extension": ".py",
   "mimetype": "text/x-python",
   "name": "python",
   "nbconvert_exporter": "python",
   "pygments_lexer": "ipython3",
   "version": "3.9.12"
  }
 },
 "nbformat": 4,
 "nbformat_minor": 5
}
