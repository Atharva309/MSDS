{
 "cells": [
  {
   "cell_type": "code",
   "execution_count": 2,
   "id": "3a13ce54-de4c-4e94-97e2-261678c67e68",
   "metadata": {},
   "outputs": [],
   "source": [
    "# help(distributions)"
   ]
  },
  {
   "cell_type": "markdown",
   "id": "86d7c813-6378-4a99-9c93-955825b4fad8",
   "metadata": {},
   "source": [
    "A lab has 6 computers. Let X denote the number of these computers that are in use during the lunch hour. Suppose the pmf of X is given by:\n",
    "\n",
    "| x   | 0   | 1   | 2   | 3   | 4   | 5   | 6   |\n",
    "|-----|-----|-----|-----|-----|-----|-----|-----|\n",
    "| p(x)| 0.05| 0.10| 0.15| 0.25| 0.20| 0.15| 0.10|\n",
    "\n",
    "1. Probability that at most 2 computers are in use:\n",
    "\n"
   ]
  },
  {
   "cell_type": "code",
   "execution_count": 4,
   "id": "30d9f463-3747-47a2-a1a5-9e56b580b7fe",
   "metadata": {},
   "outputs": [
    {
     "data": {
      "text/html": [
       "1"
      ],
      "text/latex": [
       "1"
      ],
      "text/markdown": [
       "1"
      ],
      "text/plain": [
       "[1] 1"
      ]
     },
     "metadata": {},
     "output_type": "display_data"
    },
    {
     "data": {
      "text/html": [
       "0.3"
      ],
      "text/latex": [
       "0.3"
      ],
      "text/markdown": [
       "0.3"
      ],
      "text/plain": [
       "[1] 0.3"
      ]
     },
     "metadata": {},
     "output_type": "display_data"
    }
   ],
   "source": [
    "1. # p(x<=2) = p(x=0) + p(x=1) + p(x=2)\n",
    "p2 = 0.05 + 0.10 + 0.15\n",
    "p2"
   ]
  },
  {
   "cell_type": "markdown",
   "id": "db1a1bc4-41fb-4561-89f4-3ddb4d4e56cd",
   "metadata": {},
   "source": [
    "2. Probability that at least half of the computers are in use\n"
   ]
  },
  {
   "cell_type": "code",
   "execution_count": 5,
   "id": "508d2673-9d14-41bf-b73c-a43c0789b8fc",
   "metadata": {},
   "outputs": [
    {
     "data": {
      "text/html": [
       "2"
      ],
      "text/latex": [
       "2"
      ],
      "text/markdown": [
       "2"
      ],
      "text/plain": [
       "[1] 2"
      ]
     },
     "metadata": {},
     "output_type": "display_data"
    },
    {
     "data": {
      "text/html": [
       "0.7"
      ],
      "text/latex": [
       "0.7"
      ],
      "text/markdown": [
       "0.7"
      ],
      "text/plain": [
       "[1] 0.7"
      ]
     },
     "metadata": {},
     "output_type": "display_data"
    }
   ],
   "source": [
    "2. \n",
    "\n",
    "# p(x>=3) = p(x=3) + p(x=4) + p(x=5) + p(x=6)\n",
    "\n",
    "p3 = 0.25 + 0.20 + 0.15 + 0.10\n",
    "p3\n",
    "\n"
   ]
  },
  {
   "cell_type": "markdown",
   "id": "7b41674f-25d2-4008-ab6b-829bfe1a8b37",
   "metadata": {},
   "source": [
    "3. Probability that there are 3 or 4 computers free"
   ]
  },
  {
   "cell_type": "code",
   "execution_count": 6,
   "id": "a190a57d-3bbe-46e6-8908-fc77fae98cf3",
   "metadata": {},
   "outputs": [
    {
     "data": {
      "text/html": [
       "3"
      ],
      "text/latex": [
       "3"
      ],
      "text/markdown": [
       "3"
      ],
      "text/plain": [
       "[1] 3"
      ]
     },
     "metadata": {},
     "output_type": "display_data"
    },
    {
     "data": {
      "text/html": [
       "0.45"
      ],
      "text/latex": [
       "0.45"
      ],
      "text/markdown": [
       "0.45"
      ],
      "text/plain": [
       "[1] 0.45"
      ]
     },
     "metadata": {},
     "output_type": "display_data"
    }
   ],
   "source": [
    "3. # p(3 <= x <= 4) = p(x=3) + p(x=4)\n",
    "p34 = 0.25 + 0.20\n",
    "p34"
   ]
  },
  {
   "cell_type": "markdown",
   "id": "5e86009a-6c0d-48ad-9e46-851da7bdee9e",
   "metadata": {},
   "source": [
    "## Expectation and Variance\n",
    "\n",
    "4. Suppose you have 10 folded pieces of paper, labeled 0, 1, 2,..., 9. Draw one paper at random. Define the rv U to be the number drawn. Find the pmf, expectation, and variance for U. (Aside: this is a discrete, uniform rv).\n"
   ]
  },
  {
   "cell_type": "code",
   "execution_count": 7,
   "id": "adbebed6-0fc4-4aa7-8f35-5bad4695037b",
   "metadata": {},
   "outputs": [
    {
     "data": {
      "text/html": [
       "4"
      ],
      "text/latex": [
       "4"
      ],
      "text/markdown": [
       "4"
      ],
      "text/plain": [
       "[1] 4"
      ]
     },
     "metadata": {},
     "output_type": "display_data"
    },
    {
     "data": {
      "text/html": [
       "4.5"
      ],
      "text/latex": [
       "4.5"
      ],
      "text/markdown": [
       "4.5"
      ],
      "text/plain": [
       "[1] 4.5"
      ]
     },
     "metadata": {},
     "output_type": "display_data"
    },
    {
     "data": {
      "text/html": [
       "28.5"
      ],
      "text/latex": [
       "28.5"
      ],
      "text/markdown": [
       "28.5"
      ],
      "text/plain": [
       "[1] 28.5"
      ]
     },
     "metadata": {},
     "output_type": "display_data"
    },
    {
     "data": {
      "text/html": [
       "8.25"
      ],
      "text/latex": [
       "8.25"
      ],
      "text/markdown": [
       "8.25"
      ],
      "text/plain": [
       "[1] 8.25"
      ]
     },
     "metadata": {},
     "output_type": "display_data"
    }
   ],
   "source": [
    "4.\n",
    "pmf = 1/10\n",
    "\n",
    "vals_k = c(0,1,2,3,4,5,6,7,8,9)\n",
    "pk = c(1/10,1/10,1/10,1/10,1/10,1/10,1/10,1/10,1/10,1/10)\n",
    "\n",
    "# EX(X) = Sum (labels * pmf)\n",
    "EX = weighted.mean(vals_k,pk)\n",
    "EX\n",
    "\n",
    "# EX(X^2) = Sum (labels^2 * pmf)\n",
    "vals_k2 = vals_k^2\n",
    "EX2 = weighted.mean(vals_k2,pk)\n",
    "EX2\n",
    "\n",
    "# V(X) = E(X^2) - (E(U))^2\n",
    "VX = EX2 - EX^2\n",
    "VX"
   ]
  },
  {
   "cell_type": "markdown",
   "id": "757ca137-e476-4869-9e78-a1a52d9dc5ba",
   "metadata": {},
   "source": [
    "## Binomial Random Variable\n",
    "\n",
    "5.\n",
    "Properties:\n",
    "\n",
    "    Experiment is n trials (n is fixed in advance)\n",
    "    Trials are identical and result in a success or a failure (i.e.Bernoulli trials) with P(success) = p and P(failure) = 1\n",
    "    Trials are independent (outcome of one trial does not influence any other)\n",
    "\n",
    "If X is the number of successes in the n independent and identical trials, X is a binomial random variable.\n",
    "\n",
    "Notation: $X \\sim Bin(n, p)$\n",
    "\n",
    "Suppose you toss a fair coin 12 times. What is the probability that you’ll get 5 heads?\n"
   ]
  },
  {
   "cell_type": "code",
   "execution_count": 8,
   "id": "bc744018-aab8-456a-acd9-c726359a7782",
   "metadata": {},
   "outputs": [
    {
     "data": {
      "text/html": [
       "5"
      ],
      "text/latex": [
       "5"
      ],
      "text/markdown": [
       "5"
      ],
      "text/plain": [
       "[1] 5"
      ]
     },
     "metadata": {},
     "output_type": "display_data"
    },
    {
     "data": {
      "text/html": [
       "0.193359375"
      ],
      "text/latex": [
       "0.193359375"
      ],
      "text/markdown": [
       "0.193359375"
      ],
      "text/plain": [
       "[1] 0.1933594"
      ]
     },
     "metadata": {},
     "output_type": "display_data"
    }
   ],
   "source": [
    "5. # dbinom(success, size, prob)\n",
    "success = 5\n",
    "size = 12\n",
    "prob = 1/2\n",
    "\n",
    "dbinom(success, size, prob)"
   ]
  },
  {
   "cell_type": "markdown",
   "id": "e710f6b5-7d69-4198-9d31-b7f28f92fa70",
   "metadata": {},
   "source": [
    "6. Suppose you pick a random sample of 25 circuit boards used in the manufacture of a particular cell phone. You know that the long run percentage of defective boards is 5%. What is the probability that 3 or more boards are defective?\n"
   ]
  },
  {
   "cell_type": "code",
   "execution_count": 9,
   "id": "d21ceea3-9032-4b0b-80cc-34836f05f280",
   "metadata": {},
   "outputs": [
    {
     "data": {
      "text/html": [
       "6"
      ],
      "text/latex": [
       "6"
      ],
      "text/markdown": [
       "6"
      ],
      "text/plain": [
       "[1] 6"
      ]
     },
     "metadata": {},
     "output_type": "display_data"
    },
    {
     "data": {
      "text/html": [
       "0.127106495660932"
      ],
      "text/latex": [
       "0.127106495660932"
      ],
      "text/markdown": [
       "0.127106495660932"
      ],
      "text/plain": [
       "[1] 0.1271065"
      ]
     },
     "metadata": {},
     "output_type": "display_data"
    }
   ],
   "source": [
    "6. # Think!!!\n",
    "# 3 or more boards means P(x >= 3) = 1 - P(x<3) = 1 - p(x<=2)\n",
    "# To calculate P(x<3), we use CDF formula => pbinom(sucess, size, prob)\n",
    "\n",
    "success = 2\n",
    "size = 25\n",
    "prob = 0.05\n",
    "\n",
    "1 - pbinom(success,size,prob)"
   ]
  },
  {
   "cell_type": "markdown",
   "id": "8015e198-cb70-4e82-9689-ceb957db82d9",
   "metadata": {},
   "source": [
    "7. Suppose 40% of online purchasers of a particular book would like a new copy and 60% want a used copy. What is the probability that amongst 100 random purchasers, 50 or more used books are sold?"
   ]
  },
  {
   "cell_type": "code",
   "execution_count": 10,
   "id": "1ded1ce6-6617-4a70-9a9f-ca35d3301d8b",
   "metadata": {},
   "outputs": [
    {
     "data": {
      "text/html": [
       "7"
      ],
      "text/latex": [
       "7"
      ],
      "text/markdown": [
       "7"
      ],
      "text/plain": [
       "[1] 7"
      ]
     },
     "metadata": {},
     "output_type": "display_data"
    },
    {
     "data": {
      "text/html": [
       "0.983238313496839"
      ],
      "text/latex": [
       "0.983238313496839"
      ],
      "text/markdown": [
       "0.983238313496839"
      ],
      "text/plain": [
       "[1] 0.9832383"
      ]
     },
     "metadata": {},
     "output_type": "display_data"
    }
   ],
   "source": [
    "7.\n",
    "size = 100\n",
    "prob = .60 # Used book\n",
    "# P(x >= 50) = 1 - p(x<50) = 1 - p(x<=49)\n",
    "success = 49\n",
    "\n",
    "1 - pbinom(success, size, prob)"
   ]
  },
  {
   "cell_type": "markdown",
   "id": "edf3204c-aedf-4fd9-b3d6-5dbcc9745f79",
   "metadata": {},
   "source": [
    "## Negative Binomial Random Variable\n",
    "\n",
    "8. The negative binomial rv and distribution are based on an experiment satisfying the following conditions:\n",
    "\n",
    "    The experiment consists of a sequence of independent trials.\n",
    "    Each trial can result in either a success (S) or a failure (F).\n",
    "    The probability of success is constant from trial to trial, so P(S on trial i)=p for i = 1, 2, 3,….\n",
    "    The experiment continues (trials are performed) until a total of r successes have been observed, where r is a specified positive integer.\n",
    "\n",
    "Suppose you toss a fair coin until you obtain 5 heads. How many tails before the fifth head?\n"
   ]
  },
  {
   "cell_type": "code",
   "execution_count": 12,
   "id": "3f6e2423-a2f8-45a9-99e3-4363e8980443",
   "metadata": {},
   "outputs": [
    {
     "data": {
      "text/html": [
       "8"
      ],
      "text/latex": [
       "8"
      ],
      "text/markdown": [
       "8"
      ],
      "text/plain": [
       "[1] 8"
      ]
     },
     "metadata": {},
     "output_type": "display_data"
    },
    {
     "data": {
      "text/html": [
       "5"
      ],
      "text/latex": [
       "5"
      ],
      "text/markdown": [
       "5"
      ],
      "text/plain": [
       "[1] 5"
      ]
     },
     "metadata": {},
     "output_type": "display_data"
    }
   ],
   "source": [
    "8.\n",
    "p = 1/2\n",
    "r = 5\n",
    "\n",
    "EX = (r * (1-p))/p\n",
    "EX"
   ]
  },
  {
   "cell_type": "markdown",
   "id": "6f6b1e13-811c-4197-bdcb-f8ee0ffce5c8",
   "metadata": {},
   "source": [
    "9. Suppose you randomly choose circuit boards until you find 3 defectives. You know that the long run percentage of defective boards is 5%. How many must you examine?\n"
   ]
  },
  {
   "cell_type": "code",
   "execution_count": 2,
   "id": "3227fcd0-d7f6-4b34-ba72-02cc1769a5f2",
   "metadata": {},
   "outputs": [
    {
     "data": {
      "text/html": [
       "9"
      ],
      "text/latex": [
       "9"
      ],
      "text/markdown": [
       "9"
      ],
      "text/plain": [
       "[1] 9"
      ]
     },
     "metadata": {},
     "output_type": "display_data"
    },
    {
     "data": {
      "text/html": [
       "57"
      ],
      "text/latex": [
       "57"
      ],
      "text/markdown": [
       "57"
      ],
      "text/plain": [
       "[1] 57"
      ]
     },
     "metadata": {},
     "output_type": "display_data"
    }
   ],
   "source": [
    "9.\n",
    "p = 0.05\n",
    "r = 3\n",
    "\n",
    "EX = (r * (1-p))/p\n",
    "EX"
   ]
  },
  {
   "cell_type": "markdown",
   "id": "c6dce905-5051-456d-8615-3bf7014d76ce",
   "metadata": {},
   "source": [
    "10. Suppose 40% of online purchasers of a particular book would like a new copy and 60% want a used copy. How many new books are sold before the fiftieth used book?\n"
   ]
  },
  {
   "cell_type": "code",
   "execution_count": 4,
   "id": "8de68292-78b8-464c-bf96-e33147b81bb6",
   "metadata": {},
   "outputs": [
    {
     "data": {
      "text/html": [
       "10"
      ],
      "text/latex": [
       "10"
      ],
      "text/markdown": [
       "10"
      ],
      "text/plain": [
       "[1] 10"
      ]
     },
     "metadata": {},
     "output_type": "display_data"
    },
    {
     "data": {
      "text/html": [
       "75"
      ],
      "text/latex": [
       "75"
      ],
      "text/markdown": [
       "75"
      ],
      "text/plain": [
       "[1] 75"
      ]
     },
     "metadata": {},
     "output_type": "display_data"
    }
   ],
   "source": [
    "10. \n",
    "\n",
    "\n",
    "p = 0.4\n",
    "r = 50\n",
    "\n",
    "EX = (r * (1-p))/p\n",
    "EX\n",
    "\n"
   ]
  },
  {
   "cell_type": "markdown",
   "id": "0995edfe-f065-4111-bbbd-1ef79d6b60d4",
   "metadata": {},
   "source": [
    "11. A physician wishes to recruit 5 people to participate in a medical study. Let p = .2 be the probability that a randomly selected person agrees to participate. What is the probability that 15 people must be asked before 5 are found who agree to participate."
   ]
  },
  {
   "cell_type": "code",
   "execution_count": 6,
   "id": "3fc48fef-ab29-44af-b98d-27a1622fa703",
   "metadata": {},
   "outputs": [
    {
     "data": {
      "text/html": [
       "11"
      ],
      "text/latex": [
       "11"
      ],
      "text/markdown": [
       "11"
      ],
      "text/plain": [
       "[1] 11"
      ]
     },
     "metadata": {},
     "output_type": "display_data"
    },
    {
     "data": {
      "text/html": [
       "0"
      ],
      "text/latex": [
       "0"
      ],
      "text/markdown": [
       "0"
      ],
      "text/plain": [
       "[1] 0"
      ]
     },
     "metadata": {},
     "output_type": "display_data"
    }
   ],
   "source": [
    "11. \n",
    "\n",
    "# p = p(S)\n",
    "p = 0.2\n",
    "# r = Number of S's  \n",
    "\n",
    "success = 5\n",
    "size = 15\n",
    "\n",
    "# x = Number of F's occur before the success (5)\n",
    "x = size - r\n",
    "\n",
    "dnbinom(x, success, prob= p)\n",
    "\n"
   ]
  },
  {
   "cell_type": "markdown",
   "id": "359701c9-526a-4ff1-b532-b3aab5087853",
   "metadata": {},
   "source": [
    "## Week 4\n",
    "### Continuous Random Variables\n",
    "\n"
   ]
  },
  {
   "cell_type": "markdown",
   "id": "b0964f11-8c07-4fa8-8b99-86e7cd181e9f",
   "metadata": {},
   "source": [
    "12. Suppose the diameter of aerosol particles in a particular application is uniformly distributed between 2 and 6 nanometers. Find the probability that a randomly measured particle has diameter greater than 3 nanometers.\n"
   ]
  },
  {
   "cell_type": "code",
   "execution_count": 7,
   "id": "71c90b08-95ec-448a-89d1-8133805561e3",
   "metadata": {},
   "outputs": [
    {
     "data": {
      "text/html": [
       "12"
      ],
      "text/latex": [
       "12"
      ],
      "text/markdown": [
       "12"
      ],
      "text/plain": [
       "[1] 12"
      ]
     },
     "metadata": {},
     "output_type": "display_data"
    },
    {
     "data": {
      "text/html": [
       "0.75"
      ],
      "text/latex": [
       "0.75"
      ],
      "text/markdown": [
       "0.75"
      ],
      "text/plain": [
       "[1] 0.75"
      ]
     },
     "metadata": {},
     "output_type": "display_data"
    }
   ],
   "source": [
    "12. \n",
    "\n",
    "# X ~ U[2,6]\n",
    "# P(X>=3) = ?\n",
    "min = 2\n",
    "max = 6\n",
    "\n",
    "pU = 1 - punif(3, min,max)\n",
    "pU\n",
    "\n"
   ]
  },
  {
   "cell_type": "markdown",
   "id": "86903f46-4fb7-4a34-bd0f-6368239651ab",
   "metadata": {},
   "source": [
    "### Normal Random Variables\n",
    "### Gaussian Random Variables\n",
    "\n",
    "Many populations have distributions that can be fit very closely by an appropriate normal bell curve. It has the typical bell shaped density form.\n",
    "\n",
    "Properties:\n",
    "\n",
    "    The standard normal density function is symmetric about the y axis.\n",
    "    The standard normal distribution rarely occurs naturally.\n",
    "    Instead, it is a reference distribution from which information about other normal distributions can be obtained via a simple formula.\n",
    "    The cdf of the standard normal, $\\Phi$ can be found in tables and it can also be computed with a single command in R.\n",
    "    As we’ll see, sums of standard normal random variables play a large role in statistical analysis.\n",
    "\n"
   ]
  },
  {
   "cell_type": "markdown",
   "id": "37d7bd47-9b45-413b-aec4-8182081d6cda",
   "metadata": {},
   "source": [
    "13. $$ P(Z \\geq 1.25) = ? $$\n"
   ]
  },
  {
   "cell_type": "code",
   "execution_count": 9,
   "id": "7fbb4e2c-758d-44ff-bba1-8ef386ae0a09",
   "metadata": {},
   "outputs": [
    {
     "data": {
      "text/html": [
       "13"
      ],
      "text/latex": [
       "13"
      ],
      "text/markdown": [
       "13"
      ],
      "text/plain": [
       "[1] 13"
      ]
     },
     "metadata": {},
     "output_type": "display_data"
    },
    {
     "data": {
      "text/html": [
       "0.105649773666855"
      ],
      "text/latex": [
       "0.105649773666855"
      ],
      "text/markdown": [
       "0.105649773666855"
      ],
      "text/plain": [
       "[1] 0.1056498"
      ]
     },
     "metadata": {},
     "output_type": "display_data"
    }
   ],
   "source": [
    "13. # 1 - P(P<=1.25)\n",
    "\n",
    "1 - pnorm(1.25)"
   ]
  },
  {
   "cell_type": "markdown",
   "id": "54cea7d5-e0ef-4303-8c2c-bf79b7f18b96",
   "metadata": {},
   "source": [
    "14. $$ \\text{Why does } P(Z \\leq -1.25) = P(Z \\geq 1.25)? $$\n"
   ]
  },
  {
   "cell_type": "code",
   "execution_count": 10,
   "id": "6c34182e-8ec0-46f4-866f-b5a448161f22",
   "metadata": {},
   "outputs": [
    {
     "data": {
      "text/html": [
       "14"
      ],
      "text/latex": [
       "14"
      ],
      "text/markdown": [
       "14"
      ],
      "text/plain": [
       "[1] 14"
      ]
     },
     "metadata": {},
     "output_type": "display_data"
    },
    {
     "data": {
      "text/html": [
       "TRUE"
      ],
      "text/latex": [
       "TRUE"
      ],
      "text/markdown": [
       "TRUE"
      ],
      "text/plain": [
       "[1] TRUE"
      ]
     },
     "metadata": {},
     "output_type": "display_data"
    }
   ],
   "source": [
    "\n",
    "14. \n",
    "pnorm(- 1.25) ==  1 - pnorm(1.25)\n",
    "\n",
    "# There are symetrics!\n",
    "\n"
   ]
  },
  {
   "cell_type": "markdown",
   "id": "a11f726c-dc1c-46aa-a334-d56898345a9b",
   "metadata": {},
   "source": [
    "15. $$ P(-0.38 \\leq Z \\leq 1.25) = P(Z \\leq 1.25) - P(Z \\leq -0.38) $$\n"
   ]
  },
  {
   "cell_type": "code",
   "execution_count": 13,
   "id": "570bb346-c3c8-408f-9615-ac5046c598ce",
   "metadata": {},
   "outputs": [
    {
     "data": {
      "text/html": [
       "15"
      ],
      "text/latex": [
       "15"
      ],
      "text/markdown": [
       "15"
      ],
      "text/plain": [
       "[1] 15"
      ]
     },
     "metadata": {},
     "output_type": "display_data"
    },
    {
     "data": {
      "text/html": [
       "0.542377518757308"
      ],
      "text/latex": [
       "0.542377518757308"
      ],
      "text/markdown": [
       "0.542377518757308"
      ],
      "text/plain": [
       "[1] 0.5423775"
      ]
     },
     "metadata": {},
     "output_type": "display_data"
    }
   ],
   "source": [
    "15. \n",
    "pnorm(1.25) - pnorm(-0.38)"
   ]
  },
  {
   "cell_type": "markdown",
   "id": "b0be3a95-65fd-4969-a173-19417877b6b6",
   "metadata": {},
   "source": [
    "16. $$ P(-1 \\leq Z \\leq 1) = P(Z \\leq 1) - P(Z \\leq -1) $$\n"
   ]
  },
  {
   "cell_type": "code",
   "execution_count": 14,
   "id": "46a44ea2-673f-401f-98e9-cec3a39ad637",
   "metadata": {},
   "outputs": [
    {
     "data": {
      "text/html": [
       "16"
      ],
      "text/latex": [
       "16"
      ],
      "text/markdown": [
       "16"
      ],
      "text/plain": [
       "[1] 16"
      ]
     },
     "metadata": {},
     "output_type": "display_data"
    },
    {
     "data": {
      "text/html": [
       "0.682689492137086"
      ],
      "text/latex": [
       "0.682689492137086"
      ],
      "text/markdown": [
       "0.682689492137086"
      ],
      "text/plain": [
       "[1] 0.6826895"
      ]
     },
     "metadata": {},
     "output_type": "display_data"
    }
   ],
   "source": [
    "16.\n",
    "pnorm(1) - pnorm(-1)"
   ]
  },
  {
   "cell_type": "markdown",
   "id": "dc430ae8-fcf0-4adb-91ac-4833fabf80d0",
   "metadata": {},
   "source": [
    "17. $$ P(-2 \\leq Z \\leq 2) = P(Z \\leq 2) - P(Z \\leq -2) $$\n"
   ]
  },
  {
   "cell_type": "code",
   "execution_count": 15,
   "id": "fea55fff-24c5-4d1f-97c2-b9fa76f826db",
   "metadata": {},
   "outputs": [
    {
     "data": {
      "text/html": [
       "17"
      ],
      "text/latex": [
       "17"
      ],
      "text/markdown": [
       "17"
      ],
      "text/plain": [
       "[1] 17"
      ]
     },
     "metadata": {},
     "output_type": "display_data"
    },
    {
     "data": {
      "text/html": [
       "0.954499736103642"
      ],
      "text/latex": [
       "0.954499736103642"
      ],
      "text/markdown": [
       "0.954499736103642"
      ],
      "text/plain": [
       "[1] 0.9544997"
      ]
     },
     "metadata": {},
     "output_type": "display_data"
    }
   ],
   "source": [
    "17.\n",
    "pnorm(2) - pnorm(-2)"
   ]
  },
  {
   "cell_type": "markdown",
   "id": "bf146c75-f3ac-4a87-bb6f-29de525910a4",
   "metadata": {},
   "source": [
    "18. In statistical inference, we need the z values that give certain tail areas under the standard normal curve. For example, find $z_\\alpha$ so that \n",
    "$$ \\Phi(z_\\alpha) = P(Z \\leq z_{\\alpha}) = 0.95 $$\n",
    "\n"
   ]
  },
  {
   "cell_type": "code",
   "execution_count": 16,
   "id": "56d9e4db-9bff-416b-a9f9-38b3d008fd9d",
   "metadata": {},
   "outputs": [
    {
     "data": {
      "text/html": [
       "17"
      ],
      "text/latex": [
       "17"
      ],
      "text/markdown": [
       "17"
      ],
      "text/plain": [
       "[1] 17"
      ]
     },
     "metadata": {},
     "output_type": "display_data"
    },
    {
     "name": "stdout",
     "output_type": "stream",
     "text": [
      "[1] 1.644854\n"
     ]
    }
   ],
   "source": [
    "17.\n",
    "# Find the z-value\n",
    "z_value = qnorm(0.95)\n",
    "\n",
    "# Print the result\n",
    "print(z_value)"
   ]
  },
  {
   "cell_type": "markdown",
   "id": "f8aa0717-5301-40e3-88b2-ab2e2cc6dfb6",
   "metadata": {},
   "source": [
    "18. If $$X \\sim N(\\mu, \\sigma^2)$$, then $$\\frac{X - \\mu}{\\sigma} \\sim N(0,1)$$.\n",
    "\n",
    "Think of $$\\frac{X - \\mu}{\\sigma}$$ as a new random variable. It's been shifted by $$\\mu$$ and scaled by $$\\frac{1}{\\sigma}$$.\n",
    "\n",
    "**Example:** If $$X \\sim N(1,4)$$:\n",
    "\n",
    "a) Find $$P(0 \\leq X \\leq 3.2)$$\n",
    "\n",
    "b) Find $$a$$ so that $$P(X \\leq a) = 0.7$$\n",
    "\n",
    "**Recall:**\n",
    "\n",
    "$$ F_{z}(a) = \\Phi(a) = P(Z \\leq a) $$\n"
   ]
  },
  {
   "cell_type": "code",
   "execution_count": 17,
   "id": "589d17ba-dc1c-40fe-b117-741c9014a80a",
   "metadata": {},
   "outputs": [
    {
     "data": {
      "text/html": [
       "18"
      ],
      "text/latex": [
       "18"
      ],
      "text/markdown": [
       "18"
      ],
      "text/plain": [
       "[1] 18"
      ]
     },
     "metadata": {},
     "output_type": "display_data"
    },
    {
     "data": {
      "text/html": [
       "0.55579640032763"
      ],
      "text/latex": [
       "0.55579640032763"
      ],
      "text/markdown": [
       "0.55579640032763"
      ],
      "text/plain": [
       "[1] 0.5557964"
      ]
     },
     "metadata": {},
     "output_type": "display_data"
    }
   ],
   "source": [
    "18.\n",
    "\n",
    "\n",
    "# a\n",
    "mu = 1\n",
    "sigma2 = 4\n",
    "sigma = sqrt(sigma2)\n",
    "\n",
    "# P(X <= 3.2) - P(X<=0)\n",
    "\n",
    "# Let's scaled phi(Z)\n",
    "\n",
    "pnorm((3.2 - mu)/sigma) - pnorm((0 - mu)/sigma)\n",
    "\n"
   ]
  },
  {
   "cell_type": "code",
   "execution_count": null,
   "id": "29b78778-6e0c-4972-962e-694a76b8c03e",
   "metadata": {},
   "outputs": [],
   "source": []
  }
 ],
 "metadata": {
  "kernelspec": {
   "display_name": "R",
   "language": "R",
   "name": "ir"
  },
  "language_info": {
   "codemirror_mode": "r",
   "file_extension": ".r",
   "mimetype": "text/x-r-source",
   "name": "R",
   "pygments_lexer": "r",
   "version": "4.3.1"
  }
 },
 "nbformat": 4,
 "nbformat_minor": 5
}
