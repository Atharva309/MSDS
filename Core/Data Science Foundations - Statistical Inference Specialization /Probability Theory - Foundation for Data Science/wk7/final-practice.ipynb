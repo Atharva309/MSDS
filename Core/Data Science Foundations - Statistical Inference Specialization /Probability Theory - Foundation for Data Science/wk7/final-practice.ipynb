{
 "cells": [
  {
   "cell_type": "code",
   "execution_count": 2,
   "id": "3a13ce54-de4c-4e94-97e2-261678c67e68",
   "metadata": {},
   "outputs": [],
   "source": [
    "# help(distributions)"
   ]
  },
  {
   "cell_type": "markdown",
   "id": "86d7c813-6378-4a99-9c93-955825b4fad8",
   "metadata": {},
   "source": [
    "A lab has 6 computers. Let X denote the number of these computers that are in use during the lunch hour. Suppose the pmf of X is given by:\n",
    "\n",
    "| x   | 0   | 1   | 2   | 3   | 4   | 5   | 6   |\n",
    "|-----|-----|-----|-----|-----|-----|-----|-----|\n",
    "| p(x)| 0.05| 0.10| 0.15| 0.25| 0.20| 0.15| 0.10|\n",
    "\n",
    "1. Probability that at most 2 computers are in use:\n",
    "\n"
   ]
  },
  {
   "cell_type": "code",
   "execution_count": 4,
   "id": "30d9f463-3747-47a2-a1a5-9e56b580b7fe",
   "metadata": {},
   "outputs": [
    {
     "data": {
      "text/html": [
       "1"
      ],
      "text/latex": [
       "1"
      ],
      "text/markdown": [
       "1"
      ],
      "text/plain": [
       "[1] 1"
      ]
     },
     "metadata": {},
     "output_type": "display_data"
    },
    {
     "data": {
      "text/html": [
       "0.3"
      ],
      "text/latex": [
       "0.3"
      ],
      "text/markdown": [
       "0.3"
      ],
      "text/plain": [
       "[1] 0.3"
      ]
     },
     "metadata": {},
     "output_type": "display_data"
    }
   ],
   "source": [
    "1. # p(x<=2) = p(x=0) + p(x=1) + p(x=2)\n",
    "p2 = 0.05 + 0.10 + 0.15\n",
    "p2"
   ]
  },
  {
   "cell_type": "markdown",
   "id": "db1a1bc4-41fb-4561-89f4-3ddb4d4e56cd",
   "metadata": {},
   "source": [
    "2. Probability that at least half of the computers are in use\n"
   ]
  },
  {
   "cell_type": "code",
   "execution_count": 5,
   "id": "508d2673-9d14-41bf-b73c-a43c0789b8fc",
   "metadata": {},
   "outputs": [
    {
     "data": {
      "text/html": [
       "2"
      ],
      "text/latex": [
       "2"
      ],
      "text/markdown": [
       "2"
      ],
      "text/plain": [
       "[1] 2"
      ]
     },
     "metadata": {},
     "output_type": "display_data"
    },
    {
     "data": {
      "text/html": [
       "0.7"
      ],
      "text/latex": [
       "0.7"
      ],
      "text/markdown": [
       "0.7"
      ],
      "text/plain": [
       "[1] 0.7"
      ]
     },
     "metadata": {},
     "output_type": "display_data"
    }
   ],
   "source": [
    "2. \n",
    "\n",
    "# p(x>=3) = p(x=3) + p(x=4) + p(x=5) + p(x=6)\n",
    "\n",
    "p3 = 0.25 + 0.20 + 0.15 + 0.10\n",
    "p3\n",
    "\n"
   ]
  },
  {
   "cell_type": "markdown",
   "id": "7b41674f-25d2-4008-ab6b-829bfe1a8b37",
   "metadata": {},
   "source": [
    "3. Probability that there are 3 or 4 computers free"
   ]
  },
  {
   "cell_type": "code",
   "execution_count": 6,
   "id": "a190a57d-3bbe-46e6-8908-fc77fae98cf3",
   "metadata": {},
   "outputs": [
    {
     "data": {
      "text/html": [
       "3"
      ],
      "text/latex": [
       "3"
      ],
      "text/markdown": [
       "3"
      ],
      "text/plain": [
       "[1] 3"
      ]
     },
     "metadata": {},
     "output_type": "display_data"
    },
    {
     "data": {
      "text/html": [
       "0.45"
      ],
      "text/latex": [
       "0.45"
      ],
      "text/markdown": [
       "0.45"
      ],
      "text/plain": [
       "[1] 0.45"
      ]
     },
     "metadata": {},
     "output_type": "display_data"
    }
   ],
   "source": [
    "3. # p(3 <= x <= 4) = p(x=3) + p(x=4)\n",
    "p34 = 0.25 + 0.20\n",
    "p34"
   ]
  },
  {
   "cell_type": "markdown",
   "id": "5e86009a-6c0d-48ad-9e46-851da7bdee9e",
   "metadata": {},
   "source": [
    "## Expectation and Variance\n",
    "\n",
    "4. Suppose you have 10 folded pieces of paper, labeled 0, 1, 2,..., 9. Draw one paper at random. Define the rv U to be the number drawn. Find the pmf, expectation, and variance for U. (Aside: this is a discrete, uniform rv).\n"
   ]
  },
  {
   "cell_type": "code",
   "execution_count": 7,
   "id": "adbebed6-0fc4-4aa7-8f35-5bad4695037b",
   "metadata": {},
   "outputs": [
    {
     "data": {
      "text/html": [
       "4"
      ],
      "text/latex": [
       "4"
      ],
      "text/markdown": [
       "4"
      ],
      "text/plain": [
       "[1] 4"
      ]
     },
     "metadata": {},
     "output_type": "display_data"
    },
    {
     "data": {
      "text/html": [
       "4.5"
      ],
      "text/latex": [
       "4.5"
      ],
      "text/markdown": [
       "4.5"
      ],
      "text/plain": [
       "[1] 4.5"
      ]
     },
     "metadata": {},
     "output_type": "display_data"
    },
    {
     "data": {
      "text/html": [
       "28.5"
      ],
      "text/latex": [
       "28.5"
      ],
      "text/markdown": [
       "28.5"
      ],
      "text/plain": [
       "[1] 28.5"
      ]
     },
     "metadata": {},
     "output_type": "display_data"
    },
    {
     "data": {
      "text/html": [
       "8.25"
      ],
      "text/latex": [
       "8.25"
      ],
      "text/markdown": [
       "8.25"
      ],
      "text/plain": [
       "[1] 8.25"
      ]
     },
     "metadata": {},
     "output_type": "display_data"
    }
   ],
   "source": [
    "4.\n",
    "pmf = 1/10\n",
    "\n",
    "vals_k = c(0,1,2,3,4,5,6,7,8,9)\n",
    "pk = c(1/10,1/10,1/10,1/10,1/10,1/10,1/10,1/10,1/10,1/10)\n",
    "\n",
    "# EX(X) = Sum (labels * pmf)\n",
    "EX = weighted.mean(vals_k,pk)\n",
    "EX\n",
    "\n",
    "# EX(X^2) = Sum (labels^2 * pmf)\n",
    "vals_k2 = vals_k^2\n",
    "EX2 = weighted.mean(vals_k2,pk)\n",
    "EX2\n",
    "\n",
    "# V(X) = E(X^2) - (E(U))^2\n",
    "VX = EX2 - EX^2\n",
    "VX"
   ]
  },
  {
   "cell_type": "markdown",
   "id": "757ca137-e476-4869-9e78-a1a52d9dc5ba",
   "metadata": {},
   "source": [
    "## Binomial Random Variable\n",
    "\n",
    "5.\n",
    "Properties:\n",
    "\n",
    "    Experiment is n trials (n is fixed in advance)\n",
    "    Trials are identical and result in a success or a failure (i.e.Bernoulli trials) with P(success) = p and P(failure) = 1\n",
    "    Trials are independent (outcome of one trial does not influence any other)\n",
    "\n",
    "If X is the number of successes in the n independent and identical trials, X is a binomial random variable.\n",
    "\n",
    "Notation: $X \\sim Bin(n, p)$\n",
    "\n",
    "Suppose you toss a fair coin 12 times. What is the probability that you’ll get 5 heads?\n"
   ]
  },
  {
   "cell_type": "code",
   "execution_count": 8,
   "id": "bc744018-aab8-456a-acd9-c726359a7782",
   "metadata": {},
   "outputs": [
    {
     "data": {
      "text/html": [
       "5"
      ],
      "text/latex": [
       "5"
      ],
      "text/markdown": [
       "5"
      ],
      "text/plain": [
       "[1] 5"
      ]
     },
     "metadata": {},
     "output_type": "display_data"
    },
    {
     "data": {
      "text/html": [
       "0.193359375"
      ],
      "text/latex": [
       "0.193359375"
      ],
      "text/markdown": [
       "0.193359375"
      ],
      "text/plain": [
       "[1] 0.1933594"
      ]
     },
     "metadata": {},
     "output_type": "display_data"
    }
   ],
   "source": [
    "5. # dbinom(success, size, prob)\n",
    "success = 5\n",
    "size = 12\n",
    "prob = 1/2\n",
    "\n",
    "dbinom(success, size, prob)"
   ]
  },
  {
   "cell_type": "markdown",
   "id": "e710f6b5-7d69-4198-9d31-b7f28f92fa70",
   "metadata": {},
   "source": [
    "6. Suppose you pick a random sample of 25 circuit boards used in the manufacture of a particular cell phone. You know that the long run percentage of defective boards is 5%. What is the probability that 3 or more boards are defective?\n"
   ]
  },
  {
   "cell_type": "code",
   "execution_count": 9,
   "id": "d21ceea3-9032-4b0b-80cc-34836f05f280",
   "metadata": {},
   "outputs": [
    {
     "data": {
      "text/html": [
       "6"
      ],
      "text/latex": [
       "6"
      ],
      "text/markdown": [
       "6"
      ],
      "text/plain": [
       "[1] 6"
      ]
     },
     "metadata": {},
     "output_type": "display_data"
    },
    {
     "data": {
      "text/html": [
       "0.127106495660932"
      ],
      "text/latex": [
       "0.127106495660932"
      ],
      "text/markdown": [
       "0.127106495660932"
      ],
      "text/plain": [
       "[1] 0.1271065"
      ]
     },
     "metadata": {},
     "output_type": "display_data"
    }
   ],
   "source": [
    "6. # Think!!!\n",
    "# 3 or more boards means P(x >= 3) = 1 - P(x<3) = 1 - p(x<=2)\n",
    "# To calculate P(x<3), we use CDF formula => pbinom(sucess, size, prob)\n",
    "\n",
    "success = 2\n",
    "size = 25\n",
    "prob = 0.05\n",
    "\n",
    "1 - pbinom(success,size,prob)"
   ]
  },
  {
   "cell_type": "markdown",
   "id": "8015e198-cb70-4e82-9689-ceb957db82d9",
   "metadata": {},
   "source": [
    "7. Suppose 40% of online purchasers of a particular book would like a new copy and 60% want a used copy. What is the probability that amongst 100 random purchasers, 50 or more used books are sold?"
   ]
  },
  {
   "cell_type": "code",
   "execution_count": 10,
   "id": "1ded1ce6-6617-4a70-9a9f-ca35d3301d8b",
   "metadata": {},
   "outputs": [
    {
     "data": {
      "text/html": [
       "7"
      ],
      "text/latex": [
       "7"
      ],
      "text/markdown": [
       "7"
      ],
      "text/plain": [
       "[1] 7"
      ]
     },
     "metadata": {},
     "output_type": "display_data"
    },
    {
     "data": {
      "text/html": [
       "0.983238313496839"
      ],
      "text/latex": [
       "0.983238313496839"
      ],
      "text/markdown": [
       "0.983238313496839"
      ],
      "text/plain": [
       "[1] 0.9832383"
      ]
     },
     "metadata": {},
     "output_type": "display_data"
    }
   ],
   "source": [
    "7.\n",
    "size = 100\n",
    "prob = .60 # Used book\n",
    "# P(x >= 50) = 1 - p(x<50) = 1 - p(x<=49)\n",
    "success = 49\n",
    "\n",
    "1 - pbinom(success, size, prob)"
   ]
  },
  {
   "cell_type": "markdown",
   "id": "edf3204c-aedf-4fd9-b3d6-5dbcc9745f79",
   "metadata": {},
   "source": [
    "## Negative Binomial Random Variable\n",
    "\n",
    "8. The negative binomial rv and distribution are based on an experiment satisfying the following conditions:\n",
    "\n",
    "    The experiment consists of a sequence of independent trials.\n",
    "    Each trial can result in either a success (S) or a failure (F).\n",
    "    The probability of success is constant from trial to trial, so P(S on trial i)=p for i = 1, 2, 3,….\n",
    "    The experiment continues (trials are performed) until a total of r successes have been observed, where r is a specified positive integer.\n",
    "\n",
    "Suppose you toss a fair coin until you obtain 5 heads. How many tails before the fifth head?\n"
   ]
  },
  {
   "cell_type": "code",
   "execution_count": 12,
   "id": "3f6e2423-a2f8-45a9-99e3-4363e8980443",
   "metadata": {},
   "outputs": [
    {
     "data": {
      "text/html": [
       "8"
      ],
      "text/latex": [
       "8"
      ],
      "text/markdown": [
       "8"
      ],
      "text/plain": [
       "[1] 8"
      ]
     },
     "metadata": {},
     "output_type": "display_data"
    },
    {
     "data": {
      "text/html": [
       "5"
      ],
      "text/latex": [
       "5"
      ],
      "text/markdown": [
       "5"
      ],
      "text/plain": [
       "[1] 5"
      ]
     },
     "metadata": {},
     "output_type": "display_data"
    }
   ],
   "source": [
    "8.\n",
    "p = 1/2\n",
    "r = 5\n",
    "\n",
    "EX = (r * (1-p))/p\n",
    "EX"
   ]
  },
  {
   "cell_type": "code",
   "execution_count": null,
   "id": "50d7e22b-50e2-4dd1-a623-df21e9b90439",
   "metadata": {},
   "outputs": [],
   "source": []
  }
 ],
 "metadata": {
  "kernelspec": {
   "display_name": "R",
   "language": "R",
   "name": "ir"
  },
  "language_info": {
   "codemirror_mode": "r",
   "file_extension": ".r",
   "mimetype": "text/x-r-source",
   "name": "R",
   "pygments_lexer": "r",
   "version": "4.3.1"
  }
 },
 "nbformat": 4,
 "nbformat_minor": 5
}
