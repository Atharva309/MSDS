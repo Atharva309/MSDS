{
 "cells": [
  {
   "cell_type": "code",
   "execution_count": 2,
   "id": "3a13ce54-de4c-4e94-97e2-261678c67e68",
   "metadata": {},
   "outputs": [],
   "source": [
    "# help(distributions)"
   ]
  },
  {
   "cell_type": "markdown",
   "id": "86d7c813-6378-4a99-9c93-955825b4fad8",
   "metadata": {},
   "source": [
    "A lab has 6 computers. Let X denote the number of these computers that are in use during the lunch hour. Suppose the pmf of X is given by:\n",
    "\n",
    "| x   | 0   | 1   | 2   | 3   | 4   | 5   | 6   |\n",
    "|-----|-----|-----|-----|-----|-----|-----|-----|\n",
    "| p(x)| 0.05| 0.10| 0.15| 0.25| 0.20| 0.15| 0.10|\n",
    "\n",
    "1. Probability that at most 2 computers are in use:\n",
    "\n"
   ]
  },
  {
   "cell_type": "code",
   "execution_count": 4,
   "id": "30d9f463-3747-47a2-a1a5-9e56b580b7fe",
   "metadata": {},
   "outputs": [
    {
     "data": {
      "text/html": [
       "1"
      ],
      "text/latex": [
       "1"
      ],
      "text/markdown": [
       "1"
      ],
      "text/plain": [
       "[1] 1"
      ]
     },
     "metadata": {},
     "output_type": "display_data"
    },
    {
     "data": {
      "text/html": [
       "0.3"
      ],
      "text/latex": [
       "0.3"
      ],
      "text/markdown": [
       "0.3"
      ],
      "text/plain": [
       "[1] 0.3"
      ]
     },
     "metadata": {},
     "output_type": "display_data"
    }
   ],
   "source": [
    "1. # p(x<=2) = p(x=0) + p(x=1) + p(x=2)\n",
    "p2 = 0.05 + 0.10 + 0.15\n",
    "p2"
   ]
  },
  {
   "cell_type": "markdown",
   "id": "db1a1bc4-41fb-4561-89f4-3ddb4d4e56cd",
   "metadata": {},
   "source": [
    "2. Probability that at least half of the computers are in use\n"
   ]
  },
  {
   "cell_type": "code",
   "execution_count": 5,
   "id": "508d2673-9d14-41bf-b73c-a43c0789b8fc",
   "metadata": {},
   "outputs": [
    {
     "data": {
      "text/html": [
       "2"
      ],
      "text/latex": [
       "2"
      ],
      "text/markdown": [
       "2"
      ],
      "text/plain": [
       "[1] 2"
      ]
     },
     "metadata": {},
     "output_type": "display_data"
    },
    {
     "data": {
      "text/html": [
       "0.7"
      ],
      "text/latex": [
       "0.7"
      ],
      "text/markdown": [
       "0.7"
      ],
      "text/plain": [
       "[1] 0.7"
      ]
     },
     "metadata": {},
     "output_type": "display_data"
    }
   ],
   "source": [
    "2. \n",
    "\n",
    "# p(x>=3) = p(x=3) + p(x=4) + p(x=5) + p(x=6)\n",
    "\n",
    "p3 = 0.25 + 0.20 + 0.15 + 0.10\n",
    "p3\n",
    "\n"
   ]
  },
  {
   "cell_type": "markdown",
   "id": "7b41674f-25d2-4008-ab6b-829bfe1a8b37",
   "metadata": {},
   "source": [
    "3. Probability that there are 3 or 4 computers free"
   ]
  },
  {
   "cell_type": "code",
   "execution_count": 6,
   "id": "a190a57d-3bbe-46e6-8908-fc77fae98cf3",
   "metadata": {},
   "outputs": [
    {
     "data": {
      "text/html": [
       "3"
      ],
      "text/latex": [
       "3"
      ],
      "text/markdown": [
       "3"
      ],
      "text/plain": [
       "[1] 3"
      ]
     },
     "metadata": {},
     "output_type": "display_data"
    },
    {
     "data": {
      "text/html": [
       "0.45"
      ],
      "text/latex": [
       "0.45"
      ],
      "text/markdown": [
       "0.45"
      ],
      "text/plain": [
       "[1] 0.45"
      ]
     },
     "metadata": {},
     "output_type": "display_data"
    }
   ],
   "source": [
    "3. # p(3 <= x <= 4) = p(x=3) + p(x=4)\n",
    "p34 = 0.25 + 0.20\n",
    "p34"
   ]
  },
  {
   "cell_type": "markdown",
   "id": "5e86009a-6c0d-48ad-9e46-851da7bdee9e",
   "metadata": {},
   "source": [
    "## Expectation and Variance\n",
    "\n",
    "4. Suppose you have 10 folded pieces of paper, labeled 0, 1, 2,..., 9. Draw one paper at random. Define the rv U to be the number drawn. Find the pmf, expectation, and variance for U. (Aside: this is a discrete, uniform rv).\n"
   ]
  },
  {
   "cell_type": "code",
   "execution_count": 7,
   "id": "adbebed6-0fc4-4aa7-8f35-5bad4695037b",
   "metadata": {},
   "outputs": [
    {
     "data": {
      "text/html": [
       "4"
      ],
      "text/latex": [
       "4"
      ],
      "text/markdown": [
       "4"
      ],
      "text/plain": [
       "[1] 4"
      ]
     },
     "metadata": {},
     "output_type": "display_data"
    },
    {
     "data": {
      "text/html": [
       "4.5"
      ],
      "text/latex": [
       "4.5"
      ],
      "text/markdown": [
       "4.5"
      ],
      "text/plain": [
       "[1] 4.5"
      ]
     },
     "metadata": {},
     "output_type": "display_data"
    },
    {
     "data": {
      "text/html": [
       "28.5"
      ],
      "text/latex": [
       "28.5"
      ],
      "text/markdown": [
       "28.5"
      ],
      "text/plain": [
       "[1] 28.5"
      ]
     },
     "metadata": {},
     "output_type": "display_data"
    },
    {
     "data": {
      "text/html": [
       "8.25"
      ],
      "text/latex": [
       "8.25"
      ],
      "text/markdown": [
       "8.25"
      ],
      "text/plain": [
       "[1] 8.25"
      ]
     },
     "metadata": {},
     "output_type": "display_data"
    }
   ],
   "source": [
    "4.\n",
    "pmf = 1/10\n",
    "\n",
    "vals_k = c(0,1,2,3,4,5,6,7,8,9)\n",
    "pk = c(1/10,1/10,1/10,1/10,1/10,1/10,1/10,1/10,1/10,1/10)\n",
    "\n",
    "# EX(X) = Sum (labels * pmf)\n",
    "EX = weighted.mean(vals_k,pk)\n",
    "EX\n",
    "\n",
    "# EX(X^2) = Sum (labels^2 * pmf)\n",
    "vals_k2 = vals_k^2\n",
    "EX2 = weighted.mean(vals_k2,pk)\n",
    "EX2\n",
    "\n",
    "# V(X) = E(X^2) - (E(U))^2\n",
    "VX = EX2 - EX^2\n",
    "VX"
   ]
  },
  {
   "cell_type": "markdown",
   "id": "757ca137-e476-4869-9e78-a1a52d9dc5ba",
   "metadata": {},
   "source": [
    "## Binomial Random Variable\n",
    "\n",
    "5.\n",
    "Properties:\n",
    "\n",
    "    Experiment is n trials (n is fixed in advance)\n",
    "    Trials are identical and result in a success or a failure (i.e.Bernoulli trials) with P(success) = p and P(failure) = 1\n",
    "    Trials are independent (outcome of one trial does not influence any other)\n",
    "\n",
    "If X is the number of successes in the n independent and identical trials, X is a binomial random variable.\n",
    "\n",
    "Notation: $X \\sim Bin(n, p)$\n",
    "\n",
    "Suppose you toss a fair coin 12 times. What is the probability that you’ll get 5 heads?\n"
   ]
  },
  {
   "cell_type": "code",
   "execution_count": 8,
   "id": "bc744018-aab8-456a-acd9-c726359a7782",
   "metadata": {},
   "outputs": [
    {
     "data": {
      "text/html": [
       "5"
      ],
      "text/latex": [
       "5"
      ],
      "text/markdown": [
       "5"
      ],
      "text/plain": [
       "[1] 5"
      ]
     },
     "metadata": {},
     "output_type": "display_data"
    },
    {
     "data": {
      "text/html": [
       "0.193359375"
      ],
      "text/latex": [
       "0.193359375"
      ],
      "text/markdown": [
       "0.193359375"
      ],
      "text/plain": [
       "[1] 0.1933594"
      ]
     },
     "metadata": {},
     "output_type": "display_data"
    }
   ],
   "source": [
    "5. # dbinom(success, size, prob)\n",
    "success = 5\n",
    "size = 12\n",
    "prob = 1/2\n",
    "\n",
    "dbinom(success, size, prob)"
   ]
  },
  {
   "cell_type": "markdown",
   "id": "e710f6b5-7d69-4198-9d31-b7f28f92fa70",
   "metadata": {},
   "source": [
    "6. Suppose you pick a random sample of 25 circuit boards used in the manufacture of a particular cell phone. You know that the long run percentage of defective boards is 5%. What is the probability that 3 or more boards are defective?\n"
   ]
  },
  {
   "cell_type": "code",
   "execution_count": 9,
   "id": "d21ceea3-9032-4b0b-80cc-34836f05f280",
   "metadata": {},
   "outputs": [
    {
     "data": {
      "text/html": [
       "6"
      ],
      "text/latex": [
       "6"
      ],
      "text/markdown": [
       "6"
      ],
      "text/plain": [
       "[1] 6"
      ]
     },
     "metadata": {},
     "output_type": "display_data"
    },
    {
     "data": {
      "text/html": [
       "0.127106495660932"
      ],
      "text/latex": [
       "0.127106495660932"
      ],
      "text/markdown": [
       "0.127106495660932"
      ],
      "text/plain": [
       "[1] 0.1271065"
      ]
     },
     "metadata": {},
     "output_type": "display_data"
    }
   ],
   "source": [
    "6. # Think!!!\n",
    "# 3 or more boards means P(x >= 3) = 1 - P(x<3) = 1 - p(x<=2)\n",
    "# To calculate P(x<3), we use CDF formula => pbinom(sucess, size, prob)\n",
    "\n",
    "success = 2\n",
    "size = 25\n",
    "prob = 0.05\n",
    "\n",
    "1 - pbinom(success,size,prob)"
   ]
  },
  {
   "cell_type": "markdown",
   "id": "8015e198-cb70-4e82-9689-ceb957db82d9",
   "metadata": {},
   "source": [
    "7. Suppose 40% of online purchasers of a particular book would like a new copy and 60% want a used copy. What is the probability that amongst 100 random purchasers, 50 or more used books are sold?"
   ]
  },
  {
   "cell_type": "code",
   "execution_count": 10,
   "id": "1ded1ce6-6617-4a70-9a9f-ca35d3301d8b",
   "metadata": {},
   "outputs": [
    {
     "data": {
      "text/html": [
       "7"
      ],
      "text/latex": [
       "7"
      ],
      "text/markdown": [
       "7"
      ],
      "text/plain": [
       "[1] 7"
      ]
     },
     "metadata": {},
     "output_type": "display_data"
    },
    {
     "data": {
      "text/html": [
       "0.983238313496839"
      ],
      "text/latex": [
       "0.983238313496839"
      ],
      "text/markdown": [
       "0.983238313496839"
      ],
      "text/plain": [
       "[1] 0.9832383"
      ]
     },
     "metadata": {},
     "output_type": "display_data"
    }
   ],
   "source": [
    "7.\n",
    "size = 100\n",
    "prob = .60 # Used book\n",
    "# P(x >= 50) = 1 - p(x<50) = 1 - p(x<=49)\n",
    "success = 49\n",
    "\n",
    "1 - pbinom(success, size, prob)"
   ]
  },
  {
   "cell_type": "markdown",
   "id": "edf3204c-aedf-4fd9-b3d6-5dbcc9745f79",
   "metadata": {},
   "source": [
    "## Negative Binomial Random Variable\n",
    "\n",
    "8. The negative binomial rv and distribution are based on an experiment satisfying the following conditions:\n",
    "\n",
    "    The experiment consists of a sequence of independent trials.\n",
    "    Each trial can result in either a success (S) or a failure (F).\n",
    "    The probability of success is constant from trial to trial, so P(S on trial i)=p for i = 1, 2, 3,….\n",
    "    The experiment continues (trials are performed) until a total of r successes have been observed, where r is a specified positive integer.\n",
    "\n",
    "Suppose you toss a fair coin until you obtain 5 heads. How many tails before the fifth head?\n"
   ]
  },
  {
   "cell_type": "code",
   "execution_count": 12,
   "id": "3f6e2423-a2f8-45a9-99e3-4363e8980443",
   "metadata": {},
   "outputs": [
    {
     "data": {
      "text/html": [
       "8"
      ],
      "text/latex": [
       "8"
      ],
      "text/markdown": [
       "8"
      ],
      "text/plain": [
       "[1] 8"
      ]
     },
     "metadata": {},
     "output_type": "display_data"
    },
    {
     "data": {
      "text/html": [
       "5"
      ],
      "text/latex": [
       "5"
      ],
      "text/markdown": [
       "5"
      ],
      "text/plain": [
       "[1] 5"
      ]
     },
     "metadata": {},
     "output_type": "display_data"
    }
   ],
   "source": [
    "8.\n",
    "p = 1/2\n",
    "r = 5\n",
    "\n",
    "EX = (r * (1-p))/p\n",
    "EX"
   ]
  },
  {
   "cell_type": "markdown",
   "id": "6f6b1e13-811c-4197-bdcb-f8ee0ffce5c8",
   "metadata": {},
   "source": [
    "9. Suppose you randomly choose circuit boards until you find 3 defectives. You know that the long run percentage of defective boards is 5%. How many must you examine?\n"
   ]
  },
  {
   "cell_type": "code",
   "execution_count": 2,
   "id": "3227fcd0-d7f6-4b34-ba72-02cc1769a5f2",
   "metadata": {},
   "outputs": [
    {
     "data": {
      "text/html": [
       "9"
      ],
      "text/latex": [
       "9"
      ],
      "text/markdown": [
       "9"
      ],
      "text/plain": [
       "[1] 9"
      ]
     },
     "metadata": {},
     "output_type": "display_data"
    },
    {
     "data": {
      "text/html": [
       "57"
      ],
      "text/latex": [
       "57"
      ],
      "text/markdown": [
       "57"
      ],
      "text/plain": [
       "[1] 57"
      ]
     },
     "metadata": {},
     "output_type": "display_data"
    }
   ],
   "source": [
    "9.\n",
    "p = 0.05\n",
    "r = 3\n",
    "\n",
    "EX = (r * (1-p))/p\n",
    "EX"
   ]
  },
  {
   "cell_type": "markdown",
   "id": "c6dce905-5051-456d-8615-3bf7014d76ce",
   "metadata": {},
   "source": [
    "10. Suppose 40% of online purchasers of a particular book would like a new copy and 60% want a used copy. How many new books are sold before the fiftieth used book?\n"
   ]
  },
  {
   "cell_type": "code",
   "execution_count": 4,
   "id": "8de68292-78b8-464c-bf96-e33147b81bb6",
   "metadata": {},
   "outputs": [
    {
     "data": {
      "text/html": [
       "10"
      ],
      "text/latex": [
       "10"
      ],
      "text/markdown": [
       "10"
      ],
      "text/plain": [
       "[1] 10"
      ]
     },
     "metadata": {},
     "output_type": "display_data"
    },
    {
     "data": {
      "text/html": [
       "75"
      ],
      "text/latex": [
       "75"
      ],
      "text/markdown": [
       "75"
      ],
      "text/plain": [
       "[1] 75"
      ]
     },
     "metadata": {},
     "output_type": "display_data"
    }
   ],
   "source": [
    "10. \n",
    "\n",
    "\n",
    "p = 0.4\n",
    "r = 50\n",
    "\n",
    "EX = (r * (1-p))/p\n",
    "EX\n",
    "\n"
   ]
  },
  {
   "cell_type": "markdown",
   "id": "0995edfe-f065-4111-bbbd-1ef79d6b60d4",
   "metadata": {},
   "source": [
    "11. A physician wishes to recruit 5 people to participate in a medical study. Let p = .2 be the probability that a randomly selected person agrees to participate. What is the probability that 15 people must be asked before 5 are found who agree to participate."
   ]
  },
  {
   "cell_type": "code",
   "execution_count": 6,
   "id": "3fc48fef-ab29-44af-b98d-27a1622fa703",
   "metadata": {},
   "outputs": [
    {
     "data": {
      "text/html": [
       "11"
      ],
      "text/latex": [
       "11"
      ],
      "text/markdown": [
       "11"
      ],
      "text/plain": [
       "[1] 11"
      ]
     },
     "metadata": {},
     "output_type": "display_data"
    },
    {
     "data": {
      "text/html": [
       "0"
      ],
      "text/latex": [
       "0"
      ],
      "text/markdown": [
       "0"
      ],
      "text/plain": [
       "[1] 0"
      ]
     },
     "metadata": {},
     "output_type": "display_data"
    }
   ],
   "source": [
    "11. \n",
    "\n",
    "# p = p(S)\n",
    "p = 0.2\n",
    "# r = Number of S's  \n",
    "\n",
    "success = 5\n",
    "size = 15\n",
    "\n",
    "# x = Number of F's occur before the success (5)\n",
    "x = size - r\n",
    "\n",
    "dnbinom(x, success, prob= p)\n",
    "\n"
   ]
  },
  {
   "cell_type": "markdown",
   "id": "359701c9-526a-4ff1-b532-b3aab5087853",
   "metadata": {},
   "source": [
    "## Week 4\n",
    "### Continuous Random Variables\n",
    "\n"
   ]
  },
  {
   "cell_type": "markdown",
   "id": "b0964f11-8c07-4fa8-8b99-86e7cd181e9f",
   "metadata": {},
   "source": [
    "12. Suppose the diameter of aerosol particles in a particular application is uniformly distributed between 2 and 6 nanometers. Find the probability that a randomly measured particle has diameter greater than 3 nanometers.\n"
   ]
  },
  {
   "cell_type": "code",
   "execution_count": 7,
   "id": "71c90b08-95ec-448a-89d1-8133805561e3",
   "metadata": {},
   "outputs": [
    {
     "data": {
      "text/html": [
       "12"
      ],
      "text/latex": [
       "12"
      ],
      "text/markdown": [
       "12"
      ],
      "text/plain": [
       "[1] 12"
      ]
     },
     "metadata": {},
     "output_type": "display_data"
    },
    {
     "data": {
      "text/html": [
       "0.75"
      ],
      "text/latex": [
       "0.75"
      ],
      "text/markdown": [
       "0.75"
      ],
      "text/plain": [
       "[1] 0.75"
      ]
     },
     "metadata": {},
     "output_type": "display_data"
    }
   ],
   "source": [
    "12. \n",
    "\n",
    "# X ~ U[2,6]\n",
    "# P(X>=3) = ?\n",
    "min = 2\n",
    "max = 6\n",
    "\n",
    "pU = 1 - punif(3, min,max)\n",
    "pU\n",
    "\n"
   ]
  },
  {
   "cell_type": "markdown",
   "id": "86903f46-4fb7-4a34-bd0f-6368239651ab",
   "metadata": {},
   "source": [
    "### Normal Random Variables\n",
    "### Gaussian Random Variables\n",
    "\n",
    "Many populations have distributions that can be fit very closely by an appropriate normal bell curve. It has the typical bell shaped density form.\n",
    "\n",
    "Properties:\n",
    "\n",
    "    The standard normal density function is symmetric about the y axis.\n",
    "    The standard normal distribution rarely occurs naturally.\n",
    "    Instead, it is a reference distribution from which information about other normal distributions can be obtained via a simple formula.\n",
    "    The cdf of the standard normal, $\\Phi$ can be found in tables and it can also be computed with a single command in R.\n",
    "    As we’ll see, sums of standard normal random variables play a large role in statistical analysis.\n",
    "\n"
   ]
  },
  {
   "cell_type": "markdown",
   "id": "37d7bd47-9b45-413b-aec4-8182081d6cda",
   "metadata": {},
   "source": [
    "13. $$ P(Z \\geq 1.25) = ? $$\n"
   ]
  },
  {
   "cell_type": "code",
   "execution_count": 9,
   "id": "7fbb4e2c-758d-44ff-bba1-8ef386ae0a09",
   "metadata": {},
   "outputs": [
    {
     "data": {
      "text/html": [
       "13"
      ],
      "text/latex": [
       "13"
      ],
      "text/markdown": [
       "13"
      ],
      "text/plain": [
       "[1] 13"
      ]
     },
     "metadata": {},
     "output_type": "display_data"
    },
    {
     "data": {
      "text/html": [
       "0.105649773666855"
      ],
      "text/latex": [
       "0.105649773666855"
      ],
      "text/markdown": [
       "0.105649773666855"
      ],
      "text/plain": [
       "[1] 0.1056498"
      ]
     },
     "metadata": {},
     "output_type": "display_data"
    }
   ],
   "source": [
    "13. # 1 - P(P<=1.25)\n",
    "\n",
    "1 - pnorm(1.25)"
   ]
  },
  {
   "cell_type": "markdown",
   "id": "54cea7d5-e0ef-4303-8c2c-bf79b7f18b96",
   "metadata": {},
   "source": [
    "14. $$ \\text{Why does } P(Z \\leq -1.25) = P(Z \\geq 1.25)? $$\n"
   ]
  },
  {
   "cell_type": "code",
   "execution_count": 10,
   "id": "6c34182e-8ec0-46f4-866f-b5a448161f22",
   "metadata": {},
   "outputs": [
    {
     "data": {
      "text/html": [
       "14"
      ],
      "text/latex": [
       "14"
      ],
      "text/markdown": [
       "14"
      ],
      "text/plain": [
       "[1] 14"
      ]
     },
     "metadata": {},
     "output_type": "display_data"
    },
    {
     "data": {
      "text/html": [
       "TRUE"
      ],
      "text/latex": [
       "TRUE"
      ],
      "text/markdown": [
       "TRUE"
      ],
      "text/plain": [
       "[1] TRUE"
      ]
     },
     "metadata": {},
     "output_type": "display_data"
    }
   ],
   "source": [
    "\n",
    "14. \n",
    "pnorm(- 1.25) ==  1 - pnorm(1.25)\n",
    "\n",
    "# There are symetrics!\n",
    "\n"
   ]
  },
  {
   "cell_type": "markdown",
   "id": "a11f726c-dc1c-46aa-a334-d56898345a9b",
   "metadata": {},
   "source": [
    "15. $$ P(-0.38 \\leq Z \\leq 1.25) = P(Z \\leq 1.25) - P(Z \\leq -0.38) $$\n"
   ]
  },
  {
   "cell_type": "code",
   "execution_count": 13,
   "id": "570bb346-c3c8-408f-9615-ac5046c598ce",
   "metadata": {},
   "outputs": [
    {
     "data": {
      "text/html": [
       "15"
      ],
      "text/latex": [
       "15"
      ],
      "text/markdown": [
       "15"
      ],
      "text/plain": [
       "[1] 15"
      ]
     },
     "metadata": {},
     "output_type": "display_data"
    },
    {
     "data": {
      "text/html": [
       "0.542377518757308"
      ],
      "text/latex": [
       "0.542377518757308"
      ],
      "text/markdown": [
       "0.542377518757308"
      ],
      "text/plain": [
       "[1] 0.5423775"
      ]
     },
     "metadata": {},
     "output_type": "display_data"
    }
   ],
   "source": [
    "15. \n",
    "pnorm(1.25) - pnorm(-0.38)"
   ]
  },
  {
   "cell_type": "markdown",
   "id": "b0be3a95-65fd-4969-a173-19417877b6b6",
   "metadata": {},
   "source": [
    "16. $$ P(-1 \\leq Z \\leq 1) = P(Z \\leq 1) - P(Z \\leq -1) $$\n"
   ]
  },
  {
   "cell_type": "code",
   "execution_count": 14,
   "id": "46a44ea2-673f-401f-98e9-cec3a39ad637",
   "metadata": {},
   "outputs": [
    {
     "data": {
      "text/html": [
       "16"
      ],
      "text/latex": [
       "16"
      ],
      "text/markdown": [
       "16"
      ],
      "text/plain": [
       "[1] 16"
      ]
     },
     "metadata": {},
     "output_type": "display_data"
    },
    {
     "data": {
      "text/html": [
       "0.682689492137086"
      ],
      "text/latex": [
       "0.682689492137086"
      ],
      "text/markdown": [
       "0.682689492137086"
      ],
      "text/plain": [
       "[1] 0.6826895"
      ]
     },
     "metadata": {},
     "output_type": "display_data"
    }
   ],
   "source": [
    "16.\n",
    "pnorm(1) - pnorm(-1)"
   ]
  },
  {
   "cell_type": "markdown",
   "id": "dc430ae8-fcf0-4adb-91ac-4833fabf80d0",
   "metadata": {},
   "source": [
    "17. $$ P(-2 \\leq Z \\leq 2) = P(Z \\leq 2) - P(Z \\leq -2) $$\n"
   ]
  },
  {
   "cell_type": "code",
   "execution_count": 15,
   "id": "fea55fff-24c5-4d1f-97c2-b9fa76f826db",
   "metadata": {},
   "outputs": [
    {
     "data": {
      "text/html": [
       "17"
      ],
      "text/latex": [
       "17"
      ],
      "text/markdown": [
       "17"
      ],
      "text/plain": [
       "[1] 17"
      ]
     },
     "metadata": {},
     "output_type": "display_data"
    },
    {
     "data": {
      "text/html": [
       "0.954499736103642"
      ],
      "text/latex": [
       "0.954499736103642"
      ],
      "text/markdown": [
       "0.954499736103642"
      ],
      "text/plain": [
       "[1] 0.9544997"
      ]
     },
     "metadata": {},
     "output_type": "display_data"
    }
   ],
   "source": [
    "17.\n",
    "pnorm(2) - pnorm(-2)"
   ]
  },
  {
   "cell_type": "markdown",
   "id": "bf146c75-f3ac-4a87-bb6f-29de525910a4",
   "metadata": {},
   "source": [
    "18. In statistical inference, we need the z values that give certain tail areas under the standard normal curve. For example, find $z_\\alpha$ so that \n",
    "$$ \\Phi(z_\\alpha) = P(Z \\leq z_{\\alpha}) = 0.95 $$\n",
    "\n"
   ]
  },
  {
   "cell_type": "code",
   "execution_count": 16,
   "id": "56d9e4db-9bff-416b-a9f9-38b3d008fd9d",
   "metadata": {},
   "outputs": [
    {
     "data": {
      "text/html": [
       "17"
      ],
      "text/latex": [
       "17"
      ],
      "text/markdown": [
       "17"
      ],
      "text/plain": [
       "[1] 17"
      ]
     },
     "metadata": {},
     "output_type": "display_data"
    },
    {
     "name": "stdout",
     "output_type": "stream",
     "text": [
      "[1] 1.644854\n"
     ]
    }
   ],
   "source": [
    "17.\n",
    "# Find the z-value\n",
    "z_value = qnorm(0.95)\n",
    "\n",
    "# Print the result\n",
    "print(z_value)"
   ]
  },
  {
   "cell_type": "markdown",
   "id": "f8aa0717-5301-40e3-88b2-ab2e2cc6dfb6",
   "metadata": {},
   "source": [
    "18. If $$X \\sim N(\\mu, \\sigma^2)$$, then $$\\frac{X - \\mu}{\\sigma} \\sim N(0,1)$$.\n",
    "\n",
    "Think of $$\\frac{X - \\mu}{\\sigma}$$ as a new random variable. It's been shifted by $$\\mu$$ and scaled by $$\\frac{1}{\\sigma}$$.\n",
    "\n",
    "**Example:** If $$X \\sim N(1,4)$$:\n",
    "\n",
    "a) Find $$P(0 \\leq X \\leq 3.2)$$\n",
    "\n",
    "b) Find $$a$$ so that $$P(X \\leq a) = 0.7$$\n",
    "\n",
    "**Recall:**\n",
    "\n",
    "$$ F_{z}(a) = \\Phi(a) = P(Z \\leq a) $$\n"
   ]
  },
  {
   "cell_type": "code",
   "execution_count": 17,
   "id": "589d17ba-dc1c-40fe-b117-741c9014a80a",
   "metadata": {},
   "outputs": [
    {
     "data": {
      "text/html": [
       "18"
      ],
      "text/latex": [
       "18"
      ],
      "text/markdown": [
       "18"
      ],
      "text/plain": [
       "[1] 18"
      ]
     },
     "metadata": {},
     "output_type": "display_data"
    },
    {
     "data": {
      "text/html": [
       "0.55579640032763"
      ],
      "text/latex": [
       "0.55579640032763"
      ],
      "text/markdown": [
       "0.55579640032763"
      ],
      "text/plain": [
       "[1] 0.5557964"
      ]
     },
     "metadata": {},
     "output_type": "display_data"
    }
   ],
   "source": [
    "18.\n",
    "\n",
    "\n",
    "# a\n",
    "mu = 1\n",
    "sigma2 = 4\n",
    "sigma = sqrt(sigma2)\n",
    "\n",
    "# P(X <= 3.2) - P(X<=0)\n",
    "\n",
    "# Let's scaled phi(Z)\n",
    "\n",
    "pnorm((3.2 - mu)/sigma) - pnorm((0 - mu)/sigma)\n",
    "\n"
   ]
  },
  {
   "cell_type": "markdown",
   "id": "82ca61ee-b699-48ce-891e-1986452f06c9",
   "metadata": {},
   "source": [
    "19.\n",
    "$$ P(X \\leq a) = 0.7 $$\n",
    "\n",
    "$$ P\\left(\\frac{X-\\mu}{\\sigma} \\leq \\frac{a-\\mu}{\\sigma}\\right) = 0.7 $$\n",
    "\n",
    "$$ P\\left(\\frac{X-1}{2} \\leq \\frac{a-1}{2}\\right) = 0.7 $$\n",
    "\n",
    "$$ P\\left(Z \\leq \\frac{a-1}{2}\\right) = 0.7 $$\n",
    "\n",
    "$$ \\Phi\\left(\\frac{a-1}{2}\\right) = 0.7 $$\n",
    "\n",
    "$$ \\text{pnorm}(0.7) = ? $$\n"
   ]
  },
  {
   "cell_type": "code",
   "execution_count": 2,
   "id": "dce5d5cf-4dcb-4ae3-8008-cc085f27ea94",
   "metadata": {},
   "outputs": [
    {
     "data": {
      "text/html": [
       "19"
      ],
      "text/latex": [
       "19"
      ],
      "text/markdown": [
       "19"
      ],
      "text/plain": [
       "[1] 19"
      ]
     },
     "metadata": {},
     "output_type": "display_data"
    },
    {
     "data": {
      "text/html": [
       "0.524400512708041"
      ],
      "text/latex": [
       "0.524400512708041"
      ],
      "text/markdown": [
       "0.524400512708041"
      ],
      "text/plain": [
       "[1] 0.5244005"
      ]
     },
     "metadata": {},
     "output_type": "display_data"
    }
   ],
   "source": [
    "19.\n",
    "\n",
    "\n",
    "qnorm(0.7)\n",
    "\n"
   ]
  },
  {
   "cell_type": "markdown",
   "id": "461f88d8-8012-4fc0-98e4-9d8169a5d776",
   "metadata": {},
   "source": [
    "20. \n",
    "\n",
    "$\\frac{a-1}{2} = 0.524400512708041, then:$\n"
   ]
  },
  {
   "cell_type": "code",
   "execution_count": 4,
   "id": "bafd8027-b4ee-4b50-aec3-19d572cc74c9",
   "metadata": {},
   "outputs": [
    {
     "data": {
      "text/html": [
       "20"
      ],
      "text/latex": [
       "20"
      ],
      "text/markdown": [
       "20"
      ],
      "text/plain": [
       "[1] 20"
      ]
     },
     "metadata": {},
     "output_type": "display_data"
    },
    {
     "data": {
      "text/html": [
       "2.04880102541608"
      ],
      "text/latex": [
       "2.04880102541608"
      ],
      "text/markdown": [
       "2.04880102541608"
      ],
      "text/plain": [
       "[1] 2.048801"
      ]
     },
     "metadata": {},
     "output_type": "display_data"
    }
   ],
   "source": [
    "20. \n",
    "a = qnorm(0.7)*2 + 1\n",
    "a\n",
    "\n"
   ]
  },
  {
   "cell_type": "markdown",
   "id": "083940e3-7b9d-4136-a6c1-cd1f094185de",
   "metadata": {},
   "source": [
    "21. \n",
    "\n",
    "Example: The time that it takes a driver to react to the brake lights on a decelerating vehicle is critical in helping to avoid rear-end collisions. Research suggests that reaction time for an in-traffic response to a break signal from standard brake lights can be modeled with a normal distribution having mean 1.25 seconds and standard deviation 0.46 seconds.\n",
    "\n",
    "What is the probability that the reaction time is between 1 and 1.75 seconds?\n",
    "\n",
    "What assumptions are you making?\n",
    "\n",
    "$X \\sim N(\\mu,\\sigma^2)$\n"
   ]
  },
  {
   "cell_type": "code",
   "execution_count": 5,
   "id": "12630a5d-4339-44d7-a7b0-639a065df310",
   "metadata": {},
   "outputs": [
    {
     "data": {
      "text/html": [
       "21"
      ],
      "text/latex": [
       "21"
      ],
      "text/markdown": [
       "21"
      ],
      "text/plain": [
       "[1] 21"
      ]
     },
     "metadata": {},
     "output_type": "display_data"
    },
    {
     "data": {
      "text/html": [
       "0.568071710157399"
      ],
      "text/latex": [
       "0.568071710157399"
      ],
      "text/markdown": [
       "0.568071710157399"
      ],
      "text/plain": [
       "[1] 0.5680717"
      ]
     },
     "metadata": {},
     "output_type": "display_data"
    }
   ],
   "source": [
    "21. \n",
    "\n",
    "\n",
    "mu = 1.25\n",
    "sigma = 0.46\n",
    "\n",
    "# P(1 <= X <= 1.75) = phi[(1.75 - mu)/sigma] - phi[(1 - mu)/sigma]\n",
    "pnorm((1.75-mu)/sigma) - pnorm((1-mu)/sigma)\n",
    "\n"
   ]
  },
  {
   "cell_type": "markdown",
   "id": "176f8051-6ba7-46ec-b2e8-dea693a5affa",
   "metadata": {},
   "source": [
    "22. \n",
    "\n",
    "Normal approximation to the binomial distribution\n",
    "\n",
    "Recall: $X \\sim Bin(n, p)$ means that X counts the number of successes in n Bernoulli trials, each with probability of success.\n",
    "\n",
    "$P(X=k) = \\binom{n}{k}p^k(1-p)^{n-k}$ for k= 0,1,...,k\n",
    "\n",
    "$E(X) = np$ and $V(X) = np(1-p)$\n",
    "\n",
    "For large n, X can be approximated by a normal rv with $\\mu$ = np and $\\sigma^2 = np(1-p)$\n",
    "\n",
    "If $X \\sim B(n,p) \\hspace{.1cm}and\\hspace{.1cm}np(1-p)\\geq 10$, then\n",
    "\n",
    "$\\frac{X-np}{\\sqrt{np(1-p}} \\sim N(0,1)$\n",
    "\n",
    "Example: In a given day, there are approximately 1,000 visitors to a website. Of these, 25% register for a service. Estimate the probability that between 200 and 225 people will register for a service tomorrow.\n"
   ]
  },
  {
   "cell_type": "code",
   "execution_count": 6,
   "id": "1f99b33a-1bee-410b-a3bf-4cf8d209f47f",
   "metadata": {},
   "outputs": [
    {
     "data": {
      "text/html": [
       "22"
      ],
      "text/latex": [
       "22"
      ],
      "text/markdown": [
       "22"
      ],
      "text/plain": [
       "[1] 22"
      ]
     },
     "metadata": {},
     "output_type": "display_data"
    },
    {
     "data": {
      "text/html": [
       "0.0338142126144869"
      ],
      "text/latex": [
       "0.0338142126144869"
      ],
      "text/markdown": [
       "0.0338142126144869"
      ],
      "text/plain": [
       "[1] 0.03381421"
      ]
     },
     "metadata": {},
     "output_type": "display_data"
    }
   ],
   "source": [
    "22.\n",
    "\n",
    "\n",
    "# X = # of people who register for a service\n",
    "# X ~ B(n,p)\n",
    "\n",
    "n = 1000\n",
    "p = 0.25\n",
    "mu = EX = n*p\n",
    "sigma2 = n*p*(1-p)\n",
    "sigma = sqrt(sigma2)\n",
    "\n",
    "# P(200 <= X <= 225)\n",
    "\n",
    "# Stardartizing\n",
    "pnorm((225 - mu)/sigma) - pnorm((200 - mu)/sigma)\n",
    "\n"
   ]
  },
  {
   "cell_type": "markdown",
   "id": "7067e58b-8981-46d6-bf1c-c562c79e6fd3",
   "metadata": {},
   "source": [
    "23.\n",
    "## Possion Random Variables¶\n",
    "\n",
    "The number of customers who arrive for service, and their waiting times, are described by the Poisson rv and the exponential rv, respectively.\n",
    "\n",
    "A Poisson rv is a discrete rv that describes the total number of events that happen in a certain time period.\n",
    "\n",
    "Notation: $X \\sim Poisson(\\lambda)$\n",
    "\n",
    "Example: The number of mosquitoes captured in a trap during a given period of time can be modeled by a Poisson rv with $\\lambda$ = 4.5.\n",
    "\n",
    "    What is the probability that the trap contains exactly 5 mosquitoes?\n",
    "    What is the probability that the trap contains 5 or fewer mosquitoes?\n",
    "\n"
   ]
  },
  {
   "cell_type": "code",
   "execution_count": 7,
   "id": "5de67549-2ef8-40bb-bd30-6b3c2bedc301",
   "metadata": {},
   "outputs": [
    {
     "data": {
      "text/html": [
       "23"
      ],
      "text/latex": [
       "23"
      ],
      "text/markdown": [
       "23"
      ],
      "text/plain": [
       "[1] 23"
      ]
     },
     "metadata": {},
     "output_type": "display_data"
    },
    {
     "data": {
      "text/html": [
       "0.170826858486112"
      ],
      "text/latex": [
       "0.170826858486112"
      ],
      "text/markdown": [
       "0.170826858486112"
      ],
      "text/plain": [
       "[1] 0.1708269"
      ]
     },
     "metadata": {},
     "output_type": "display_data"
    },
    {
     "data": {
      "text/html": [
       "0.702930434860827"
      ],
      "text/latex": [
       "0.702930434860827"
      ],
      "text/markdown": [
       "0.702930434860827"
      ],
      "text/plain": [
       "[1] 0.7029304"
      ]
     },
     "metadata": {},
     "output_type": "display_data"
    }
   ],
   "source": [
    "23.\n",
    "\n",
    "\n",
    "# Number 1\n",
    "\n",
    "lambda = 4.5\n",
    "x = 5\n",
    "dpois(x, lambda)\n",
    "\n",
    "#Number 2\n",
    "ppois(x,lambda)\n",
    "\n"
   ]
  },
  {
   "cell_type": "markdown",
   "id": "23f8cca1-ed8c-4fab-8a60-c1a336583e35",
   "metadata": {},
   "source": [
    "24. \n",
    "\n",
    "Example: A factory makes parts for a medical device company. On average, the rate of defective parts per day is 10. You are responsible for monitoring the number of defective parts on a particular day.\n",
    "\n",
    "    Define an appropriate random variable for this experiment.\n",
    "\n",
    "Let X = number of defective parts (that day)\n",
    "\n",
    "    Give the values that the random variable can take on.\n",
    "\n",
    "Model $X \\sim Poisson(\\lambda = 10), X \\in \\{0,1,2,...\\}$\n",
    "\n",
    "    Find the probability that the random variable equals 2.\n",
    "\n"
   ]
  },
  {
   "cell_type": "code",
   "execution_count": 8,
   "id": "a8e6ea3c-a428-4ad1-9123-06baad74882f",
   "metadata": {},
   "outputs": [
    {
     "data": {
      "text/html": [
       "24"
      ],
      "text/latex": [
       "24"
      ],
      "text/markdown": [
       "24"
      ],
      "text/plain": [
       "[1] 24"
      ]
     },
     "metadata": {},
     "output_type": "display_data"
    },
    {
     "data": {
      "text/html": [
       "0.00226999648812424"
      ],
      "text/latex": [
       "0.00226999648812424"
      ],
      "text/markdown": [
       "0.00226999648812424"
      ],
      "text/plain": [
       "[1] 0.002269996"
      ]
     },
     "metadata": {},
     "output_type": "display_data"
    }
   ],
   "source": [
    "\n",
    "24.\n",
    "lambda = 10\n",
    "x = 2\n",
    "\n",
    "dpois(x, lambda)\n",
    "\n"
   ]
  },
  {
   "cell_type": "markdown",
   "id": "4a934882-a6e7-41f7-9cbe-a970446adb04",
   "metadata": {},
   "source": [
    "25. What assumptions do you need to make?\n",
    "\n"
   ]
  },
  {
   "cell_type": "markdown",
   "id": "542c450f-6d78-4978-a036-37e6bfd7e89c",
   "metadata": {},
   "source": [
    "25. X, as a Poisson, can take on a infinitive number of values, but we didn't make an infinitive #.\n"
   ]
  },
  {
   "cell_type": "markdown",
   "id": "551ad015-7b38-4b86-b178-d040633c4272",
   "metadata": {},
   "source": [
    "## Exponential Random Variables\n",
    "\n",
    "The family of exponential distributions provides probability models that are widely used in engineering and science disciplines to describe time-to-event data. An exponential rv is continuous.\n",
    "\n",
    "### Properties\n",
    "\n",
    "- if the number of events occurring in a unit of time is a Poisson rv with parameter $\\lambda$, the time between events is exponential, also parameter $\\lambda$.\n",
    "\n",
    "Example: Suppose the number of customers arriving for service is modeled by a Poisson rv with $\\lambda$ = 5. That is, an average of 5 customers arrive per hour. Then, the time between arrivals is exponential with $\\frac{1}{\\lambda} = \\frac{1}{5}$. That is, the expected time between arrivals is $\\frac{1}{5}$ hour.\n",
    "\n",
    "- Memoryless of the exponential rv: If $X \\sim Exp(\\lambda)$, then $P(X> s+t \\mid X>s) = P(X > t)$ for all $s,t \\geq 0$.\n",
    "\n",
    "Example: Suppose the service time at a bank with one teller is modeled by a rv X with $X \\sim Exp(\\lambda = \\frac{1}{5})$. Then , E(X) = $\\frac{1}{\\lambda}$ = 5 minutes. If there is a customer in service when you enter the bank, find the probability that the customer is still in service 4 minutes later.\n"
   ]
  },
  {
   "cell_type": "markdown",
   "id": "19795d7f-053c-463d-a96b-7c032342f951",
   "metadata": {},
   "source": [
    "26. Example: Suppose the service time at a bank with one teller is modeled by a rv X with $X \\sim Exp(\\lambda = \\frac{1}{5})$. Then , E(X) = $\\frac{1}{\\lambda}$ = 5 minutes. If there is a customer in service when you enter the bank, find the probability that the customer is still in service 4 minutes later.\n"
   ]
  },
  {
   "cell_type": "code",
   "execution_count": 9,
   "id": "804233e6-00de-4f0d-a1e1-66064efb04b2",
   "metadata": {},
   "outputs": [
    {
     "data": {
      "text/html": [
       "26"
      ],
      "text/latex": [
       "26"
      ],
      "text/markdown": [
       "26"
      ],
      "text/plain": [
       "[1] 26"
      ]
     },
     "metadata": {},
     "output_type": "display_data"
    },
    {
     "data": {
      "text/html": [
       "0.449328964117222"
      ],
      "text/latex": [
       "0.449328964117222"
      ],
      "text/markdown": [
       "0.449328964117222"
      ],
      "text/plain": [
       "[1] 0.449329"
      ]
     },
     "metadata": {},
     "output_type": "display_data"
    }
   ],
   "source": [
    "26. \n",
    "\n",
    "lambda = 1/5\n",
    "x = 4\n",
    "\n",
    "# P(X >= 4) = 1 - P( X <= 4)\n",
    "\n",
    "1 - pexp(x, lambda)\n",
    "\n"
   ]
  },
  {
   "cell_type": "markdown",
   "id": "0ba530cd-99c2-4490-a2a8-9b23539cba25",
   "metadata": {},
   "source": [
    "# Week 5\n",
    "## Joint Distributions and Covariance\n",
    "\n",
    "### Additional topics in Expectations and Variance\n",
    "\n",
    "In statistics and data science, we frequently collect data from several random variables and we want to understand and quantify the strength of their interactions.\n",
    "\n",
    "    The length of time a student studies and their score on an exam.\n",
    "    The relationship between male and female life expectancy in a certain country.\n",
    "    The relationship between the quantity of two di↵erent products purchased by a consumer.\n",
    "\n",
    "Recall:\n",
    "$$E(X) = \\sum_{k}kP(X=k) \\quad if \\: X \\:is \\:discrete$$$$E(X) = \\int_{-\\infty}^{\\infty} xf(x) \\: \\mathrm{d}x\\quad if \\: X \\:is \\:continuous$$\n",
    "\n",
    "$E(aX + b) = aE(x) + b $\n",
    "\n"
   ]
  },
  {
   "cell_type": "markdown",
   "id": "cbbec596-a4ae-4c0d-9b51-451e73ff7d5d",
   "metadata": {},
   "source": [
    "Suppose a university has 15,000 students and let X equal the number of courses for which a randomly selected student is registered. The pmf is"
   ]
  },
  {
   "cell_type": "markdown",
   "id": "b3e9087c-a674-4cd9-9ff1-6e7a72dea46f",
   "metadata": {},
   "source": [
    "27. \n",
    "| x     | 1    | 2    | 3    | 4    | 5    | 6    | 7    |\n",
    "|-------|------|------|------|------|------|------|------|\n",
    "| p(x)  | 0.01 | 0.03 | 0.13 | 0.25 | 0.39 | 0.17 | 0.02 |\n",
    "\n",
    "If a student pays \\$500 per course plus a \\\\$100 per-semester registration fee, what is the average amount a student pays each semester?\n"
   ]
  },
  {
   "cell_type": "code",
   "execution_count": 10,
   "id": "8de25638-eb29-4efe-ac93-f394f2097da8",
   "metadata": {},
   "outputs": [
    {
     "data": {
      "text/html": [
       "27"
      ],
      "text/latex": [
       "27"
      ],
      "text/markdown": [
       "27"
      ],
      "text/plain": [
       "[1] 27"
      ]
     },
     "metadata": {},
     "output_type": "display_data"
    },
    {
     "data": {
      "text/html": [
       "2385"
      ],
      "text/latex": [
       "2385"
      ],
      "text/markdown": [
       "2385"
      ],
      "text/plain": [
       "[1] 2385"
      ]
     },
     "metadata": {},
     "output_type": "display_data"
    }
   ],
   "source": [
    "27.\n",
    "\n",
    "# X = # of courses students takes\n",
    "# E(500X + 100) = 500E(X) + 100\n",
    "\n",
    "x =  c( 1  , 2  ,  3 ,  4 ,  5 ,  6 ,  7 )\n",
    "px = c(0.01,0.03,0.13,0.25,0.39,0.17,0.02)\n",
    "\n",
    "EX = weighted.mean(x,px)\n",
    "\n",
    "500 * EX + 100\n",
    "\n"
   ]
  },
  {
   "cell_type": "markdown",
   "id": "fd1074b4-e7d7-4f88-819d-fab6cfb0fd16",
   "metadata": {},
   "source": [
    "28.\n",
    "Recall:\n",
    "\n",
    "$\\sigma^2 = V(X) = E[(X - \\mu)^2] = E(X^2) - (E(X))^2$\n",
    "$$V(X) = \\sum_{k}(k-\\mu)^2 \\,P(X=k) \\quad if \\: X \\:is \\:discrete$$$$V(X) = \\int_{-\\infty}^{\\infty} (x - \\mu)^2 \\:f(x) \\: \\mathrm{d}x\\quad if \\: X \\:is \\:continuous$$\n",
    "\n",
    "$V(aX + b) = a^2V(X)$\n",
    "\n",
    "Example: Suppose a university has 15,000 students and let X equal the number of courses for which a randomly selected student is registered. The pmf is"
   ]
  },
  {
   "cell_type": "markdown",
   "id": "850073fe-a986-40e0-8db8-63721b519a01",
   "metadata": {},
   "source": [
    "28.\n",
    "\n",
    "| x     | 1    | 2    | 3    | 4    | 5    | 6    | 7    |\n",
    "|-------|------|------|------|------|------|------|------|\n",
    "| p(x)  | 0.01 | 0.03 | 0.13 | 0.25 | 0.39 | 0.17 | 0.02 |\n",
    "\n",
    "If a student pays \\$500 per course plus a \\\\$100 per-semester registration fee, what is the average amount a student pays each semester?\n"
   ]
  },
  {
   "cell_type": "code",
   "execution_count": 12,
   "id": "0081c2aa-aa8b-443a-a602-8a1efd215ed8",
   "metadata": {},
   "outputs": [
    {
     "data": {
      "text/html": [
       "28"
      ],
      "text/latex": [
       "28"
      ],
      "text/markdown": [
       "28"
      ],
      "text/plain": [
       "[1] 28"
      ]
     },
     "metadata": {},
     "output_type": "display_data"
    },
    {
     "data": {
      "text/html": [
       "316274.999999999"
      ],
      "text/latex": [
       "316274.999999999"
      ],
      "text/markdown": [
       "316274.999999999"
      ],
      "text/plain": [
       "[1] 316275"
      ]
     },
     "metadata": {},
     "output_type": "display_data"
    }
   ],
   "source": [
    "28.\n",
    "\n",
    "\n",
    "\n",
    "EX2 = weighted.mean(x^2,px)\n",
    "\n",
    "VX = EX2 - EX^2\n",
    "\n",
    "# V(500X + 100) = 500^2V(X)\n",
    "500^2*VX\n",
    "\n"
   ]
  },
  {
   "cell_type": "markdown",
   "id": "7c5df02c-829e-4591-ac3f-947c59717377",
   "metadata": {},
   "source": [
    "29. Example: An insurance agency services customers who have both a homeowner’s policy and an automobile policy. For each type of policy, a deductible amount must be specified. For an automobile policy, the choices are \\$100 or \\$250 and for the homeowner’s policy, the choices are \\$0, \\\\$100, or \\$200.\n",
    "\n",
    "Suppose an individual, let’s say Bob, is selected at random from the agency’s files. Let X be the deductible amount on the auto policy and let Y be the deductible amount on the homeowner’s policy.\n",
    "\n",
    "We want to understand the relationship between X and Y.\n",
    "\n",
    "Suppose the joint probability table is given by the insurance company as follows:\n",
    "\n",
    "|        |          | y(home) |     |     |     |\n",
    "|--------|----------|---------|-----|-----|-----|\n",
    "|        |          |         |0    | 100 | 200 |\n",
    "| x(auto)|          | 100     | 0.20| 0.10| 0.20|\n",
    "|        |          | 250     | 0.05| 0.15| 0.30|\n"
   ]
  },
  {
   "cell_type": "code",
   "execution_count": 13,
   "id": "185093b7-6319-4cec-92ff-77f5281484bc",
   "metadata": {},
   "outputs": [
    {
     "data": {
      "text/html": [
       "29"
      ],
      "text/latex": [
       "29"
      ],
      "text/markdown": [
       "29"
      ],
      "text/plain": [
       "[1] 29"
      ]
     },
     "metadata": {},
     "output_type": "display_data"
    }
   ],
   "source": [
    "29.\n",
    "mu_x = 100*(0.20 + 0.10 + 0.20) + 250*(0.05 + 0.15 + 0.30)\n",
    "mu_y = 0*(0.20 + 0.05) + 100*(0.10 + 0.15)+ 200*(0.20 + 0.30)"
   ]
  },
  {
   "cell_type": "markdown",
   "id": "57340b72-daa2-40d1-9c03-20b536a60cba",
   "metadata": {},
   "source": [
    "\n",
    "$$Cov (X,Y) = \\sum_{x}\\sum_{y}(x-\\mu_x)(y-\\mu_y) \\,P(X=x, Y=y) $$\n"
   ]
  },
  {
   "cell_type": "code",
   "execution_count": null,
   "id": "95cd1cdd-0120-46e7-8eec-dd155bb2a1db",
   "metadata": {},
   "outputs": [],
   "source": []
  }
 ],
 "metadata": {
  "kernelspec": {
   "display_name": "R",
   "language": "R",
   "name": "ir"
  },
  "language_info": {
   "codemirror_mode": "r",
   "file_extension": ".r",
   "mimetype": "text/x-r-source",
   "name": "R",
   "pygments_lexer": "r",
   "version": "4.3.1"
  }
 },
 "nbformat": 4,
 "nbformat_minor": 5
}
