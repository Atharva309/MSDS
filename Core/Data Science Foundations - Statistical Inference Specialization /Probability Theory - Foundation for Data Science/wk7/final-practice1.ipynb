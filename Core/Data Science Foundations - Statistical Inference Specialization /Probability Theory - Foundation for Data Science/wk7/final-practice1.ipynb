{
 "cells": [
  {
   "cell_type": "code",
   "execution_count": 4,
   "id": "3a13ce54-de4c-4e94-97e2-261678c67e68",
   "metadata": {},
   "outputs": [],
   "source": [
    "# help(distributions)"
   ]
  },
  {
   "cell_type": "markdown",
   "id": "86d7c813-6378-4a99-9c93-955825b4fad8",
   "metadata": {},
   "source": [
    "A lab has 6 computers. Let X denote the number of these computers that are in use during the lunch hour. Suppose the pmf of X is given by:\n",
    "\n",
    "| x   | 0   | 1   | 2   | 3   | 4   | 5   | 6   |\n",
    "|-----|-----|-----|-----|-----|-----|-----|-----|\n",
    "| p(x)| 0.05| 0.10| 0.15| 0.25| 0.20| 0.15| 0.10|\n",
    "\n",
    "1. Probability that at most 2 computers are in use:\n",
    "\n"
   ]
  },
  {
   "cell_type": "code",
   "execution_count": null,
   "id": "5fd07769-06fe-486c-b90a-ff1fd3435764",
   "metadata": {},
   "outputs": [],
   "source": []
  },
  {
   "cell_type": "code",
   "execution_count": 5,
   "id": "30d9f463-3747-47a2-a1a5-9e56b580b7fe",
   "metadata": {},
   "outputs": [
    {
     "data": {
      "text/html": [
       "1"
      ],
      "text/latex": [
       "1"
      ],
      "text/markdown": [
       "1"
      ],
      "text/plain": [
       "[1] 1"
      ]
     },
     "metadata": {},
     "output_type": "display_data"
    },
    {
     "data": {
      "text/html": [
       "0.3"
      ],
      "text/latex": [
       "0.3"
      ],
      "text/markdown": [
       "0.3"
      ],
      "text/plain": [
       "[1] 0.3"
      ]
     },
     "metadata": {},
     "output_type": "display_data"
    }
   ],
   "source": [
    "1. # p(x<=2) = p(x=0) + p(x=1) + p(x=2)\n",
    "p2 = 0.05 + 0.10 + 0.15\n",
    "p2"
   ]
  },
  {
   "cell_type": "markdown",
   "id": "db1a1bc4-41fb-4561-89f4-3ddb4d4e56cd",
   "metadata": {},
   "source": [
    "2. Probability that at least half of the computers are in use\n"
   ]
  },
  {
   "cell_type": "code",
   "execution_count": null,
   "id": "c0715343-84e5-4ef1-81ad-d22b8bd4c223",
   "metadata": {},
   "outputs": [],
   "source": []
  },
  {
   "cell_type": "code",
   "execution_count": 6,
   "id": "508d2673-9d14-41bf-b73c-a43c0789b8fc",
   "metadata": {},
   "outputs": [
    {
     "data": {
      "text/html": [
       "2"
      ],
      "text/latex": [
       "2"
      ],
      "text/markdown": [
       "2"
      ],
      "text/plain": [
       "[1] 2"
      ]
     },
     "metadata": {},
     "output_type": "display_data"
    },
    {
     "data": {
      "text/html": [
       "0.7"
      ],
      "text/latex": [
       "0.7"
      ],
      "text/markdown": [
       "0.7"
      ],
      "text/plain": [
       "[1] 0.7"
      ]
     },
     "metadata": {},
     "output_type": "display_data"
    }
   ],
   "source": [
    "2. \n",
    "\n",
    "# p(x>=3) = p(x=3) + p(x=4) + p(x=5) + p(x=6)\n",
    "\n",
    "p3 = 0.25 + 0.20 + 0.15 + 0.10\n",
    "p3\n",
    "\n"
   ]
  },
  {
   "cell_type": "markdown",
   "id": "7b41674f-25d2-4008-ab6b-829bfe1a8b37",
   "metadata": {},
   "source": [
    "3. Probability that there are 3 or 4 computers free"
   ]
  },
  {
   "cell_type": "code",
   "execution_count": null,
   "id": "33eae292-f4b6-4625-a5dc-e2c27b8b7a74",
   "metadata": {},
   "outputs": [],
   "source": []
  },
  {
   "cell_type": "code",
   "execution_count": 7,
   "id": "a190a57d-3bbe-46e6-8908-fc77fae98cf3",
   "metadata": {},
   "outputs": [
    {
     "data": {
      "text/html": [
       "3"
      ],
      "text/latex": [
       "3"
      ],
      "text/markdown": [
       "3"
      ],
      "text/plain": [
       "[1] 3"
      ]
     },
     "metadata": {},
     "output_type": "display_data"
    },
    {
     "data": {
      "text/html": [
       "0.45"
      ],
      "text/latex": [
       "0.45"
      ],
      "text/markdown": [
       "0.45"
      ],
      "text/plain": [
       "[1] 0.45"
      ]
     },
     "metadata": {},
     "output_type": "display_data"
    }
   ],
   "source": [
    "3. # p(3 <= x <= 4) = p(x=3) + p(x=4)\n",
    "p34 = 0.25 + 0.20\n",
    "p34"
   ]
  },
  {
   "cell_type": "markdown",
   "id": "5e86009a-6c0d-48ad-9e46-851da7bdee9e",
   "metadata": {},
   "source": [
    "## Expectation and Variance\n",
    "\n",
    "4. Suppose you have 10 folded pieces of paper, labeled 0, 1, 2,..., 9. Draw one paper at random. Define the rv U to be the number drawn. Find the pmf, expectation, and variance for U. (Aside: this is a discrete, uniform rv).\n"
   ]
  },
  {
   "cell_type": "code",
   "execution_count": 13,
   "id": "d683d188-d167-4ff4-9cb6-fb0cf0ef95f9",
   "metadata": {},
   "outputs": [
    {
     "name": "stdout",
     "output_type": "stream",
     "text": [
      "PMF for each value of U is uniformly: 0.1 0.1 0.1 0.1 0.1 0.1 0.1 0.1 0.1 0.1 \n",
      "Expectation (Mean) of U: 4.5 \n",
      "Variance of U: 8.25 \n"
     ]
    }
   ],
   "source": [
    "# Define the values for the random variable U\n",
    "values <- 0:9\n",
    "\n",
    "# Calculate the probabilities (uniform distribution)\n",
    "probabilities <- rep(1/10, length(values))\n",
    "\n",
    "# Calculate the expectation (mean) of U\n",
    "expectation_U <- sum(values * probabilities)\n",
    "\n",
    "# Calculate E[U^2] for variance calculation\n",
    "expectation_U_squared <- sum(values^2 * probabilities)\n",
    "\n",
    "# Calculate the variance of U\n",
    "variance_U <- expectation_U_squared - (expectation_U^2)\n",
    "\n",
    "# Output the results\n",
    "cat(\"PMF for each value of U is uniformly:\", probabilities, \"\\n\")\n",
    "cat(\"Expectation (Mean) of U:\", expectation_U, \"\\n\")\n",
    "cat(\"Variance of U:\", variance_U, \"\\n\")\n"
   ]
  },
  {
   "cell_type": "code",
   "execution_count": 14,
   "id": "adbebed6-0fc4-4aa7-8f35-5bad4695037b",
   "metadata": {},
   "outputs": [
    {
     "data": {
      "text/html": [
       "4"
      ],
      "text/latex": [
       "4"
      ],
      "text/markdown": [
       "4"
      ],
      "text/plain": [
       "[1] 4"
      ]
     },
     "metadata": {},
     "output_type": "display_data"
    },
    {
     "data": {
      "text/html": [
       "4.5"
      ],
      "text/latex": [
       "4.5"
      ],
      "text/markdown": [
       "4.5"
      ],
      "text/plain": [
       "[1] 4.5"
      ]
     },
     "metadata": {},
     "output_type": "display_data"
    },
    {
     "data": {
      "text/html": [
       "28.5"
      ],
      "text/latex": [
       "28.5"
      ],
      "text/markdown": [
       "28.5"
      ],
      "text/plain": [
       "[1] 28.5"
      ]
     },
     "metadata": {},
     "output_type": "display_data"
    },
    {
     "data": {
      "text/html": [
       "8.25"
      ],
      "text/latex": [
       "8.25"
      ],
      "text/markdown": [
       "8.25"
      ],
      "text/plain": [
       "[1] 8.25"
      ]
     },
     "metadata": {},
     "output_type": "display_data"
    }
   ],
   "source": [
    "4.\n",
    "pmf = 1/10\n",
    "\n",
    "vals_k = c(0,1,2,3,4,5,6,7,8,9)\n",
    "pk = c(1/10,1/10,1/10,1/10,1/10,1/10,1/10,1/10,1/10,1/10)\n",
    "\n",
    "# EX(X) = Sum (labels * pmf)\n",
    "EX = weighted.mean(vals_k,pk)\n",
    "EX\n",
    "\n",
    "# EX(X^2) = Sum (labels^2 * pmf)\n",
    "vals_k2 = vals_k^2\n",
    "EX2 = weighted.mean(vals_k2,pk)\n",
    "EX2\n",
    "\n",
    "# V(X) = E(X^2) - (E(U))^2\n",
    "VX = EX2 - EX^2\n",
    "VX"
   ]
  },
  {
   "cell_type": "markdown",
   "id": "757ca137-e476-4869-9e78-a1a52d9dc5ba",
   "metadata": {},
   "source": [
    "## Binomial Random Variable\n",
    "\n",
    "5.\n",
    "Properties:\n",
    "\n",
    "    Experiment is n trials (n is fixed in advance)\n",
    "    Trials are identical and result in a success or a failure (i.e.Bernoulli trials) with P(success) = p and P(failure) = 1\n",
    "    Trials are independent (outcome of one trial does not influence any other)\n",
    "\n",
    "If X is the number of successes in the n independent and identical trials, X is a binomial random variable.\n",
    "\n",
    "Notation: $X \\sim Bin(n, p)$\n",
    "\n",
    "Suppose you toss a fair coin 12 times. What is the probability that you’ll get 5 heads?\n"
   ]
  },
  {
   "cell_type": "code",
   "execution_count": null,
   "id": "968fe574-31fe-4732-bb85-b15c275ae637",
   "metadata": {},
   "outputs": [],
   "source": []
  },
  {
   "cell_type": "code",
   "execution_count": 15,
   "id": "bc744018-aab8-456a-acd9-c726359a7782",
   "metadata": {},
   "outputs": [
    {
     "data": {
      "text/html": [
       "5"
      ],
      "text/latex": [
       "5"
      ],
      "text/markdown": [
       "5"
      ],
      "text/plain": [
       "[1] 5"
      ]
     },
     "metadata": {},
     "output_type": "display_data"
    },
    {
     "data": {
      "text/html": [
       "0.193359375"
      ],
      "text/latex": [
       "0.193359375"
      ],
      "text/markdown": [
       "0.193359375"
      ],
      "text/plain": [
       "[1] 0.1933594"
      ]
     },
     "metadata": {},
     "output_type": "display_data"
    }
   ],
   "source": [
    "5. # dbinom(success, size, prob)\n",
    "success = 5\n",
    "size = 12\n",
    "prob = 1/2\n",
    "\n",
    "dbinom(success, size, prob)"
   ]
  },
  {
   "cell_type": "markdown",
   "id": "d0f4bdfa-c411-496b-994e-c4f62693fe47",
   "metadata": {},
   "source": [
    "## Probability Calculation for Binomial Distribution\n",
    "\n",
    "We are given a scenario where a fair coin is tossed 12 times, and we want to calculate the probability of getting exactly 5 heads. This can be approached using the binomial probability formula:\n",
    "\n",
    "$$ P(X = k) = \\binom{n}{k} p^k (1-p)^{n-k} $$\n",
    "\n",
    "where:\n",
    "- $ n $ is the number of trials,\n",
    "- $ k $ is the number of successes (heads in this case),\n",
    "- $ p $ is the probability of success on a single trial (0.5 for a fair coin),\n",
    "- $ \\binom{n}{k} $ is the binomial coefficient, representing the number of ways to choose $ k $ successes from $ n $ trials.\n",
    "\n",
    "### Given Values:\n",
    "- Number of trials $ n $ = 12\n",
    "- Number of successes $ k $ = 5\n",
    "- Probability of success $ p $ = 0.5\n",
    "\n",
    "### Calculation:\n",
    "The binomial coefficient $ \\binom{12}{5} $ is calculated as follows:\n",
    "\n",
    "$$ \\binom{12}{5} = \\frac{12!}{5!(12-5)!} = \\frac{12 \\times 11 \\times 10 \\times 9 \\times 8}{5 \\times 4 \\times 3 \\times 2 \\times 1} = 792 $$\n",
    "\n",
    "Now, calculate $ P(X = 5) $:\n",
    "\n",
    "$$ P(X = 5) = 792 \\times (0.5)^{12} = 792 \\times 0.000244140625 = 0.193359375 $$\n",
    "\n",
    "### Conclusion:\n",
    "The probability of getting exactly 5 heads when tossing a fair coin 12 times is approximately 0.193, or 19.3%.\n"
   ]
  },
  {
   "cell_type": "markdown",
   "id": "e710f6b5-7d69-4198-9d31-b7f28f92fa70",
   "metadata": {},
   "source": [
    "6. Suppose you pick a random sample of 25 circuit boards used in the manufacture of a particular cell phone. You know that the long run percentage of defective boards is 5%. What is the probability that 3 or more boards are defective?\n"
   ]
  },
  {
   "cell_type": "code",
   "execution_count": null,
   "id": "d1424e3e-2ed8-4f81-8b6c-c8d4c81f522d",
   "metadata": {},
   "outputs": [],
   "source": []
  },
  {
   "cell_type": "code",
   "execution_count": 16,
   "id": "d21ceea3-9032-4b0b-80cc-34836f05f280",
   "metadata": {},
   "outputs": [
    {
     "data": {
      "text/html": [
       "6"
      ],
      "text/latex": [
       "6"
      ],
      "text/markdown": [
       "6"
      ],
      "text/plain": [
       "[1] 6"
      ]
     },
     "metadata": {},
     "output_type": "display_data"
    },
    {
     "data": {
      "text/html": [
       "0.127106495660932"
      ],
      "text/latex": [
       "0.127106495660932"
      ],
      "text/markdown": [
       "0.127106495660932"
      ],
      "text/plain": [
       "[1] 0.1271065"
      ]
     },
     "metadata": {},
     "output_type": "display_data"
    }
   ],
   "source": [
    "6. # Think!!!\n",
    "# 3 or more boards means P(x >= 3) = 1 - P(x<3) = 1 - p(x<=2)\n",
    "# To calculate P(x<3), we use CDF formula => pbinom(sucess, size, prob)\n",
    "\n",
    "success = 2\n",
    "size = 25\n",
    "prob = 0.05\n",
    "\n",
    "1 - pbinom(success,size,prob)"
   ]
  },
  {
   "cell_type": "markdown",
   "id": "8015e198-cb70-4e82-9689-ceb957db82d9",
   "metadata": {},
   "source": [
    "7. Suppose 40% of online purchasers of a particular book would like a new copy and 60% want a used copy. What is the probability that amongst 100 random purchasers, 50 or more used books are sold?"
   ]
  },
  {
   "cell_type": "code",
   "execution_count": null,
   "id": "859a40bb-d0d1-4512-9ff7-7f105e438354",
   "metadata": {},
   "outputs": [],
   "source": []
  },
  {
   "cell_type": "code",
   "execution_count": 12,
   "id": "1ded1ce6-6617-4a70-9a9f-ca35d3301d8b",
   "metadata": {},
   "outputs": [
    {
     "data": {
      "text/html": [
       "7"
      ],
      "text/latex": [
       "7"
      ],
      "text/markdown": [
       "7"
      ],
      "text/plain": [
       "[1] 7"
      ]
     },
     "metadata": {},
     "output_type": "display_data"
    },
    {
     "data": {
      "text/html": [
       "0.983238313496839"
      ],
      "text/latex": [
       "0.983238313496839"
      ],
      "text/markdown": [
       "0.983238313496839"
      ],
      "text/plain": [
       "[1] 0.9832383"
      ]
     },
     "metadata": {},
     "output_type": "display_data"
    }
   ],
   "source": [
    "7.\n",
    "size = 100\n",
    "prob = .60 # Used book\n",
    "# P(x >= 50) = 1 - p(x<50) = 1 - p(x<=49)\n",
    "success = 49\n",
    "\n",
    "1 - pbinom(success, size, prob)"
   ]
  },
  {
   "cell_type": "markdown",
   "id": "edf3204c-aedf-4fd9-b3d6-5dbcc9745f79",
   "metadata": {},
   "source": [
    "## Negative Binomial Random Variable\n",
    "\n",
    "8. The negative binomial rv and distribution are based on an experiment satisfying the following conditions:\n",
    "\n",
    "    The experiment consists of a sequence of independent trials.\n",
    "    Each trial can result in either a success (S) or a failure (F).\n",
    "    The probability of success is constant from trial to trial, so P(S on trial i)=p for i = 1, 2, 3,….\n",
    "    The experiment continues (trials are performed) until a total of r successes have been observed, where r is a specified positive integer.\n",
    "\n",
    "Suppose you toss a fair coin until you obtain 5 heads. How many tails before the fifth head?\n"
   ]
  },
  {
   "cell_type": "code",
   "execution_count": null,
   "id": "ac3af0fe-cc34-4653-abcf-2d4dd24939d3",
   "metadata": {},
   "outputs": [],
   "source": []
  },
  {
   "cell_type": "code",
   "execution_count": 13,
   "id": "3f6e2423-a2f8-45a9-99e3-4363e8980443",
   "metadata": {},
   "outputs": [
    {
     "data": {
      "text/html": [
       "8"
      ],
      "text/latex": [
       "8"
      ],
      "text/markdown": [
       "8"
      ],
      "text/plain": [
       "[1] 8"
      ]
     },
     "metadata": {},
     "output_type": "display_data"
    },
    {
     "data": {
      "text/html": [
       "5"
      ],
      "text/latex": [
       "5"
      ],
      "text/markdown": [
       "5"
      ],
      "text/plain": [
       "[1] 5"
      ]
     },
     "metadata": {},
     "output_type": "display_data"
    }
   ],
   "source": [
    "8.\n",
    "p = 1/2\n",
    "r = 5\n",
    "\n",
    "EX = (r * (1-p))/p\n",
    "EX"
   ]
  },
  {
   "cell_type": "markdown",
   "id": "6f6b1e13-811c-4197-bdcb-f8ee0ffce5c8",
   "metadata": {},
   "source": [
    "9. Suppose you randomly choose circuit boards until you find 3 defectives. You know that the long run percentage of defective boards is 5%. How many must you examine?\n"
   ]
  },
  {
   "cell_type": "code",
   "execution_count": null,
   "id": "51a7fbbb-25b4-409a-b783-f5f5e7ac2e75",
   "metadata": {},
   "outputs": [],
   "source": []
  },
  {
   "cell_type": "code",
   "execution_count": 14,
   "id": "3227fcd0-d7f6-4b34-ba72-02cc1769a5f2",
   "metadata": {},
   "outputs": [
    {
     "data": {
      "text/html": [
       "9"
      ],
      "text/latex": [
       "9"
      ],
      "text/markdown": [
       "9"
      ],
      "text/plain": [
       "[1] 9"
      ]
     },
     "metadata": {},
     "output_type": "display_data"
    },
    {
     "data": {
      "text/html": [
       "57"
      ],
      "text/latex": [
       "57"
      ],
      "text/markdown": [
       "57"
      ],
      "text/plain": [
       "[1] 57"
      ]
     },
     "metadata": {},
     "output_type": "display_data"
    }
   ],
   "source": [
    "9.\n",
    "p = 0.05\n",
    "r = 3\n",
    "\n",
    "EX = (r * (1-p))/p\n",
    "EX"
   ]
  },
  {
   "cell_type": "markdown",
   "id": "c6dce905-5051-456d-8615-3bf7014d76ce",
   "metadata": {},
   "source": [
    "10. Suppose 40% of online purchasers of a particular book would like a new copy and 60% want a used copy. How many new books are sold before the fiftieth used book?\n"
   ]
  },
  {
   "cell_type": "code",
   "execution_count": null,
   "id": "f15c598e-3482-4e5f-b419-bd74064513a7",
   "metadata": {},
   "outputs": [],
   "source": []
  },
  {
   "cell_type": "code",
   "execution_count": 15,
   "id": "8de68292-78b8-464c-bf96-e33147b81bb6",
   "metadata": {},
   "outputs": [
    {
     "data": {
      "text/html": [
       "10"
      ],
      "text/latex": [
       "10"
      ],
      "text/markdown": [
       "10"
      ],
      "text/plain": [
       "[1] 10"
      ]
     },
     "metadata": {},
     "output_type": "display_data"
    },
    {
     "data": {
      "text/html": [
       "75"
      ],
      "text/latex": [
       "75"
      ],
      "text/markdown": [
       "75"
      ],
      "text/plain": [
       "[1] 75"
      ]
     },
     "metadata": {},
     "output_type": "display_data"
    }
   ],
   "source": [
    "10. \n",
    "\n",
    "\n",
    "p = 0.4\n",
    "r = 50\n",
    "\n",
    "EX = (r * (1-p))/p\n",
    "EX\n",
    "\n"
   ]
  },
  {
   "cell_type": "markdown",
   "id": "0995edfe-f065-4111-bbbd-1ef79d6b60d4",
   "metadata": {},
   "source": [
    "11. A physician wishes to recruit 5 people to participate in a medical study. Let p = .2 be the probability that a randomly selected person agrees to participate. What is the probability that 15 people must be asked before 5 are found who agree to participate."
   ]
  },
  {
   "cell_type": "code",
   "execution_count": null,
   "id": "704d64be-e0be-4a26-8c4a-e9fd4ab27165",
   "metadata": {},
   "outputs": [],
   "source": []
  },
  {
   "cell_type": "code",
   "execution_count": 16,
   "id": "3fc48fef-ab29-44af-b98d-27a1622fa703",
   "metadata": {},
   "outputs": [
    {
     "data": {
      "text/html": [
       "11"
      ],
      "text/latex": [
       "11"
      ],
      "text/markdown": [
       "11"
      ],
      "text/plain": [
       "[1] 11"
      ]
     },
     "metadata": {},
     "output_type": "display_data"
    },
    {
     "data": {
      "text/html": [
       "0"
      ],
      "text/latex": [
       "0"
      ],
      "text/markdown": [
       "0"
      ],
      "text/plain": [
       "[1] 0"
      ]
     },
     "metadata": {},
     "output_type": "display_data"
    }
   ],
   "source": [
    "11. \n",
    "\n",
    "# p = p(S)\n",
    "p = 0.2\n",
    "# r = Number of S's  \n",
    "\n",
    "success = 5\n",
    "size = 15\n",
    "\n",
    "# x = Number of F's occur before the success (5)\n",
    "x = size - r\n",
    "\n",
    "dnbinom(x, success, prob= p)\n",
    "\n"
   ]
  },
  {
   "cell_type": "markdown",
   "id": "359701c9-526a-4ff1-b532-b3aab5087853",
   "metadata": {},
   "source": [
    "## Week 4\n",
    "### Continuous Random Variables\n",
    "\n"
   ]
  },
  {
   "cell_type": "markdown",
   "id": "b0964f11-8c07-4fa8-8b99-86e7cd181e9f",
   "metadata": {},
   "source": [
    "12. Suppose the diameter of aerosol particles in a particular application is uniformly distributed between 2 and 6 nanometers. Find the probability that a randomly measured particle has diameter greater than 3 nanometers.\n"
   ]
  },
  {
   "cell_type": "code",
   "execution_count": null,
   "id": "04d22681-e0b9-4a13-96b1-b1bc90ed0d5f",
   "metadata": {},
   "outputs": [],
   "source": []
  },
  {
   "cell_type": "code",
   "execution_count": 17,
   "id": "71c90b08-95ec-448a-89d1-8133805561e3",
   "metadata": {},
   "outputs": [
    {
     "data": {
      "text/html": [
       "12"
      ],
      "text/latex": [
       "12"
      ],
      "text/markdown": [
       "12"
      ],
      "text/plain": [
       "[1] 12"
      ]
     },
     "metadata": {},
     "output_type": "display_data"
    },
    {
     "data": {
      "text/html": [
       "0.75"
      ],
      "text/latex": [
       "0.75"
      ],
      "text/markdown": [
       "0.75"
      ],
      "text/plain": [
       "[1] 0.75"
      ]
     },
     "metadata": {},
     "output_type": "display_data"
    }
   ],
   "source": [
    "12. \n",
    "\n",
    "# X ~ U[2,6]\n",
    "# P(X>=3) = ?\n",
    "min = 2\n",
    "max = 6\n",
    "\n",
    "pU = 1 - punif(3, min,max)\n",
    "pU\n",
    "\n"
   ]
  },
  {
   "cell_type": "markdown",
   "id": "86903f46-4fb7-4a34-bd0f-6368239651ab",
   "metadata": {},
   "source": [
    "### Normal Random Variables\n",
    "### Gaussian Random Variables\n",
    "\n",
    "Many populations have distributions that can be fit very closely by an appropriate normal bell curve. It has the typical bell shaped density form.\n",
    "\n",
    "Properties:\n",
    "\n",
    "    The standard normal density function is symmetric about the y axis.\n",
    "    The standard normal distribution rarely occurs naturally.\n",
    "    Instead, it is a reference distribution from which information about other normal distributions can be obtained via a simple formula.\n",
    "    The cdf of the standard normal, $\\Phi$ can be found in tables and it can also be computed with a single command in R.\n",
    "    As we’ll see, sums of standard normal random variables play a large role in statistical analysis.\n",
    "\n"
   ]
  },
  {
   "cell_type": "markdown",
   "id": "37d7bd47-9b45-413b-aec4-8182081d6cda",
   "metadata": {},
   "source": [
    "13. $$ P(Z \\geq 1.25) = ? $$\n"
   ]
  },
  {
   "cell_type": "code",
   "execution_count": null,
   "id": "fc895821-3f13-460c-8446-d60b5b880d55",
   "metadata": {},
   "outputs": [],
   "source": []
  },
  {
   "cell_type": "code",
   "execution_count": 18,
   "id": "7fbb4e2c-758d-44ff-bba1-8ef386ae0a09",
   "metadata": {},
   "outputs": [
    {
     "data": {
      "text/html": [
       "13"
      ],
      "text/latex": [
       "13"
      ],
      "text/markdown": [
       "13"
      ],
      "text/plain": [
       "[1] 13"
      ]
     },
     "metadata": {},
     "output_type": "display_data"
    },
    {
     "data": {
      "text/html": [
       "0.105649773666855"
      ],
      "text/latex": [
       "0.105649773666855"
      ],
      "text/markdown": [
       "0.105649773666855"
      ],
      "text/plain": [
       "[1] 0.1056498"
      ]
     },
     "metadata": {},
     "output_type": "display_data"
    }
   ],
   "source": [
    "13. # 1 - P(P<=1.25)\n",
    "\n",
    "1 - pnorm(1.25)"
   ]
  },
  {
   "cell_type": "markdown",
   "id": "54cea7d5-e0ef-4303-8c2c-bf79b7f18b96",
   "metadata": {},
   "source": [
    "14. $$ \\text{Why does } P(Z \\leq -1.25) = P(Z \\geq 1.25)? $$\n"
   ]
  },
  {
   "cell_type": "code",
   "execution_count": null,
   "id": "c96c03ae-e1ac-469b-a037-efeed265ee27",
   "metadata": {},
   "outputs": [],
   "source": []
  },
  {
   "cell_type": "code",
   "execution_count": 19,
   "id": "6c34182e-8ec0-46f4-866f-b5a448161f22",
   "metadata": {},
   "outputs": [
    {
     "data": {
      "text/html": [
       "14"
      ],
      "text/latex": [
       "14"
      ],
      "text/markdown": [
       "14"
      ],
      "text/plain": [
       "[1] 14"
      ]
     },
     "metadata": {},
     "output_type": "display_data"
    },
    {
     "data": {
      "text/html": [
       "TRUE"
      ],
      "text/latex": [
       "TRUE"
      ],
      "text/markdown": [
       "TRUE"
      ],
      "text/plain": [
       "[1] TRUE"
      ]
     },
     "metadata": {},
     "output_type": "display_data"
    }
   ],
   "source": [
    "\n",
    "14. \n",
    "pnorm(- 1.25) ==  1 - pnorm(1.25)\n",
    "\n",
    "# There are symetrics!\n",
    "\n"
   ]
  },
  {
   "cell_type": "markdown",
   "id": "a11f726c-dc1c-46aa-a334-d56898345a9b",
   "metadata": {},
   "source": [
    "15. $$ P(-0.38 \\leq Z \\leq 1.25) = P(Z \\leq 1.25) - P(Z \\leq -0.38) $$\n"
   ]
  },
  {
   "cell_type": "code",
   "execution_count": 20,
   "id": "570bb346-c3c8-408f-9615-ac5046c598ce",
   "metadata": {},
   "outputs": [
    {
     "data": {
      "text/html": [
       "15"
      ],
      "text/latex": [
       "15"
      ],
      "text/markdown": [
       "15"
      ],
      "text/plain": [
       "[1] 15"
      ]
     },
     "metadata": {},
     "output_type": "display_data"
    },
    {
     "data": {
      "text/html": [
       "0.542377518757308"
      ],
      "text/latex": [
       "0.542377518757308"
      ],
      "text/markdown": [
       "0.542377518757308"
      ],
      "text/plain": [
       "[1] 0.5423775"
      ]
     },
     "metadata": {},
     "output_type": "display_data"
    }
   ],
   "source": [
    "15. \n",
    "pnorm(1.25) - pnorm(-0.38)"
   ]
  },
  {
   "cell_type": "code",
   "execution_count": null,
   "id": "85743bb6-2238-4694-b092-eb161cc51d13",
   "metadata": {},
   "outputs": [],
   "source": []
  },
  {
   "cell_type": "markdown",
   "id": "b0be3a95-65fd-4969-a173-19417877b6b6",
   "metadata": {},
   "source": [
    "16. $$ P(-1 \\leq Z \\leq 1) = P(Z \\leq 1) - P(Z \\leq -1) $$\n"
   ]
  },
  {
   "cell_type": "code",
   "execution_count": null,
   "id": "4acf5a00-8100-40fe-b21c-14accf15f88d",
   "metadata": {},
   "outputs": [],
   "source": []
  },
  {
   "cell_type": "code",
   "execution_count": 21,
   "id": "46a44ea2-673f-401f-98e9-cec3a39ad637",
   "metadata": {},
   "outputs": [
    {
     "data": {
      "text/html": [
       "16"
      ],
      "text/latex": [
       "16"
      ],
      "text/markdown": [
       "16"
      ],
      "text/plain": [
       "[1] 16"
      ]
     },
     "metadata": {},
     "output_type": "display_data"
    },
    {
     "data": {
      "text/html": [
       "0.682689492137086"
      ],
      "text/latex": [
       "0.682689492137086"
      ],
      "text/markdown": [
       "0.682689492137086"
      ],
      "text/plain": [
       "[1] 0.6826895"
      ]
     },
     "metadata": {},
     "output_type": "display_data"
    }
   ],
   "source": [
    "16.\n",
    "pnorm(1) - pnorm(-1)"
   ]
  },
  {
   "cell_type": "markdown",
   "id": "dc430ae8-fcf0-4adb-91ac-4833fabf80d0",
   "metadata": {},
   "source": [
    "17. $$ P(-2 \\leq Z \\leq 2) = P(Z \\leq 2) - P(Z \\leq -2) $$\n"
   ]
  },
  {
   "cell_type": "code",
   "execution_count": null,
   "id": "811fc360-bf6a-45bf-b44e-05520fe1a871",
   "metadata": {},
   "outputs": [],
   "source": []
  },
  {
   "cell_type": "code",
   "execution_count": 22,
   "id": "fea55fff-24c5-4d1f-97c2-b9fa76f826db",
   "metadata": {},
   "outputs": [
    {
     "data": {
      "text/html": [
       "17"
      ],
      "text/latex": [
       "17"
      ],
      "text/markdown": [
       "17"
      ],
      "text/plain": [
       "[1] 17"
      ]
     },
     "metadata": {},
     "output_type": "display_data"
    },
    {
     "data": {
      "text/html": [
       "0.954499736103642"
      ],
      "text/latex": [
       "0.954499736103642"
      ],
      "text/markdown": [
       "0.954499736103642"
      ],
      "text/plain": [
       "[1] 0.9544997"
      ]
     },
     "metadata": {},
     "output_type": "display_data"
    }
   ],
   "source": [
    "17.\n",
    "pnorm(2) - pnorm(-2)"
   ]
  },
  {
   "cell_type": "markdown",
   "id": "bf146c75-f3ac-4a87-bb6f-29de525910a4",
   "metadata": {},
   "source": [
    "18. In statistical inference, we need the z values that give certain tail areas under the standard normal curve. For example, find $z_\\alpha$ so that \n",
    "$$ \\Phi(z_\\alpha) = P(Z \\leq z_{\\alpha}) = 0.95 $$\n",
    "\n"
   ]
  },
  {
   "cell_type": "code",
   "execution_count": null,
   "id": "6196f64c-c3f9-44d6-8cc1-7dbec25d6c15",
   "metadata": {},
   "outputs": [],
   "source": []
  },
  {
   "cell_type": "code",
   "execution_count": 23,
   "id": "56d9e4db-9bff-416b-a9f9-38b3d008fd9d",
   "metadata": {},
   "outputs": [
    {
     "data": {
      "text/html": [
       "17"
      ],
      "text/latex": [
       "17"
      ],
      "text/markdown": [
       "17"
      ],
      "text/plain": [
       "[1] 17"
      ]
     },
     "metadata": {},
     "output_type": "display_data"
    },
    {
     "name": "stdout",
     "output_type": "stream",
     "text": [
      "[1] 1.644854\n"
     ]
    }
   ],
   "source": [
    "17.\n",
    "# Find the z-value\n",
    "z_value = qnorm(0.95)\n",
    "\n",
    "# Print the result\n",
    "print(z_value)"
   ]
  },
  {
   "cell_type": "markdown",
   "id": "f8aa0717-5301-40e3-88b2-ab2e2cc6dfb6",
   "metadata": {},
   "source": [
    "18. If $$X \\sim N(\\mu, \\sigma^2)$$, then $$\\frac{X - \\mu}{\\sigma} \\sim N(0,1)$$.\n",
    "\n",
    "Think of $$\\frac{X - \\mu}{\\sigma}$$ as a new random variable. It's been shifted by $$\\mu$$ and scaled by $$\\frac{1}{\\sigma}$$.\n",
    "\n",
    "**Example:** If $$X \\sim N(1,4)$$:\n",
    "\n",
    "a) Find $$P(0 \\leq X \\leq 3.2)$$\n",
    "\n",
    "b) Find $$a$$ so that $$P(X \\leq a) = 0.7$$\n",
    "\n",
    "**Recall:**\n",
    "\n",
    "$$ F_{z}(a) = \\Phi(a) = P(Z \\leq a) $$\n"
   ]
  },
  {
   "cell_type": "code",
   "execution_count": null,
   "id": "264f6c51-4408-40b8-8296-e53feec5a717",
   "metadata": {},
   "outputs": [],
   "source": []
  },
  {
   "cell_type": "code",
   "execution_count": 24,
   "id": "589d17ba-dc1c-40fe-b117-741c9014a80a",
   "metadata": {},
   "outputs": [
    {
     "data": {
      "text/html": [
       "18"
      ],
      "text/latex": [
       "18"
      ],
      "text/markdown": [
       "18"
      ],
      "text/plain": [
       "[1] 18"
      ]
     },
     "metadata": {},
     "output_type": "display_data"
    },
    {
     "data": {
      "text/html": [
       "0.55579640032763"
      ],
      "text/latex": [
       "0.55579640032763"
      ],
      "text/markdown": [
       "0.55579640032763"
      ],
      "text/plain": [
       "[1] 0.5557964"
      ]
     },
     "metadata": {},
     "output_type": "display_data"
    }
   ],
   "source": [
    "18.\n",
    "\n",
    "\n",
    "# a\n",
    "mu = 1\n",
    "sigma2 = 4\n",
    "sigma = sqrt(sigma2)\n",
    "\n",
    "# P(X <= 3.2) - P(X<=0)\n",
    "\n",
    "# Let's scaled phi(Z)\n",
    "\n",
    "pnorm((3.2 - mu)/sigma) - pnorm((0 - mu)/sigma)\n",
    "\n"
   ]
  },
  {
   "cell_type": "markdown",
   "id": "82ca61ee-b699-48ce-891e-1986452f06c9",
   "metadata": {},
   "source": [
    "19.\n",
    "$$ P(X \\leq a) = 0.7 $$\n",
    "\n",
    "$$ P\\left(\\frac{X-\\mu}{\\sigma} \\leq \\frac{a-\\mu}{\\sigma}\\right) = 0.7 $$\n",
    "\n",
    "$$ P\\left(\\frac{X-1}{2} \\leq \\frac{a-1}{2}\\right) = 0.7 $$\n",
    "\n",
    "$$ P\\left(Z \\leq \\frac{a-1}{2}\\right) = 0.7 $$\n",
    "\n",
    "$$ \\Phi\\left(\\frac{a-1}{2}\\right) = 0.7 $$\n",
    "\n",
    "$$ \\text{pnorm}(0.7) = ? $$\n"
   ]
  },
  {
   "cell_type": "code",
   "execution_count": null,
   "id": "47e313e5-9202-4701-8082-c651ea3e5cac",
   "metadata": {},
   "outputs": [],
   "source": []
  },
  {
   "cell_type": "code",
   "execution_count": 25,
   "id": "dce5d5cf-4dcb-4ae3-8008-cc085f27ea94",
   "metadata": {},
   "outputs": [
    {
     "data": {
      "text/html": [
       "19"
      ],
      "text/latex": [
       "19"
      ],
      "text/markdown": [
       "19"
      ],
      "text/plain": [
       "[1] 19"
      ]
     },
     "metadata": {},
     "output_type": "display_data"
    },
    {
     "data": {
      "text/html": [
       "0.524400512708041"
      ],
      "text/latex": [
       "0.524400512708041"
      ],
      "text/markdown": [
       "0.524400512708041"
      ],
      "text/plain": [
       "[1] 0.5244005"
      ]
     },
     "metadata": {},
     "output_type": "display_data"
    }
   ],
   "source": [
    "19.\n",
    "\n",
    "\n",
    "qnorm(0.7)\n",
    "\n"
   ]
  },
  {
   "cell_type": "markdown",
   "id": "461f88d8-8012-4fc0-98e4-9d8169a5d776",
   "metadata": {},
   "source": [
    "20. \n",
    "\n",
    "$\\frac{a-1}{2} = 0.524400512708041, then:$\n"
   ]
  },
  {
   "cell_type": "code",
   "execution_count": null,
   "id": "9c8efebf-6909-4086-90da-acc5685056be",
   "metadata": {},
   "outputs": [],
   "source": []
  },
  {
   "cell_type": "code",
   "execution_count": 26,
   "id": "bafd8027-b4ee-4b50-aec3-19d572cc74c9",
   "metadata": {},
   "outputs": [
    {
     "data": {
      "text/html": [
       "20"
      ],
      "text/latex": [
       "20"
      ],
      "text/markdown": [
       "20"
      ],
      "text/plain": [
       "[1] 20"
      ]
     },
     "metadata": {},
     "output_type": "display_data"
    },
    {
     "data": {
      "text/html": [
       "2.04880102541608"
      ],
      "text/latex": [
       "2.04880102541608"
      ],
      "text/markdown": [
       "2.04880102541608"
      ],
      "text/plain": [
       "[1] 2.048801"
      ]
     },
     "metadata": {},
     "output_type": "display_data"
    }
   ],
   "source": [
    "20. \n",
    "a = qnorm(0.7)*2 + 1\n",
    "a\n",
    "\n"
   ]
  },
  {
   "cell_type": "markdown",
   "id": "083940e3-7b9d-4136-a6c1-cd1f094185de",
   "metadata": {},
   "source": [
    "21. \n",
    "\n",
    "Example: The time that it takes a driver to react to the brake lights on a decelerating vehicle is critical in helping to avoid rear-end collisions. Research suggests that reaction time for an in-traffic response to a break signal from standard brake lights can be modeled with a normal distribution having mean 1.25 seconds and standard deviation 0.46 seconds.\n",
    "\n",
    "What is the probability that the reaction time is between 1 and 1.75 seconds?\n",
    "\n",
    "What assumptions are you making?\n",
    "\n",
    "$X \\sim N(\\mu,\\sigma^2)$\n"
   ]
  },
  {
   "cell_type": "code",
   "execution_count": null,
   "id": "259cbb12-30ff-46f9-a0ae-86c9f52759bb",
   "metadata": {},
   "outputs": [],
   "source": []
  },
  {
   "cell_type": "code",
   "execution_count": 27,
   "id": "12630a5d-4339-44d7-a7b0-639a065df310",
   "metadata": {},
   "outputs": [
    {
     "data": {
      "text/html": [
       "21"
      ],
      "text/latex": [
       "21"
      ],
      "text/markdown": [
       "21"
      ],
      "text/plain": [
       "[1] 21"
      ]
     },
     "metadata": {},
     "output_type": "display_data"
    },
    {
     "data": {
      "text/html": [
       "0.568071710157399"
      ],
      "text/latex": [
       "0.568071710157399"
      ],
      "text/markdown": [
       "0.568071710157399"
      ],
      "text/plain": [
       "[1] 0.5680717"
      ]
     },
     "metadata": {},
     "output_type": "display_data"
    }
   ],
   "source": [
    "21. \n",
    "\n",
    "\n",
    "mu = 1.25\n",
    "sigma = 0.46\n",
    "\n",
    "# P(1 <= X <= 1.75) = phi[(1.75 - mu)/sigma] - phi[(1 - mu)/sigma]\n",
    "pnorm((1.75-mu)/sigma) - pnorm((1-mu)/sigma)\n",
    "\n"
   ]
  },
  {
   "cell_type": "markdown",
   "id": "176f8051-6ba7-46ec-b2e8-dea693a5affa",
   "metadata": {},
   "source": [
    "22. \n",
    "\n",
    "Normal approximation to the binomial distribution\n",
    "\n",
    "Recall: $X \\sim Bin(n, p)$ means that X counts the number of successes in n Bernoulli trials, each with probability of success.\n",
    "\n",
    "$P(X=k) = \\binom{n}{k}p^k(1-p)^{n-k}$ for k= 0,1,...,k\n",
    "\n",
    "$E(X) = np$ and $V(X) = np(1-p)$\n",
    "\n",
    "For large n, X can be approximated by a normal rv with $\\mu$ = np and $\\sigma^2 = np(1-p)$\n",
    "\n",
    "If $X \\sim B(n,p) \\hspace{.1cm}and\\hspace{.1cm}np(1-p)\\geq 10$, then\n",
    "\n",
    "$\\frac{X-np}{\\sqrt{np(1-p}} \\sim N(0,1)$\n",
    "\n",
    "Example: In a given day, there are approximately 1,000 visitors to a website. Of these, 25% register for a service. Estimate the probability that between 200 and 225 people will register for a service tomorrow.\n"
   ]
  },
  {
   "cell_type": "code",
   "execution_count": null,
   "id": "ae16eb11-c9af-43cc-b785-d1b9913018f0",
   "metadata": {},
   "outputs": [],
   "source": []
  },
  {
   "cell_type": "code",
   "execution_count": 28,
   "id": "1f99b33a-1bee-410b-a3bf-4cf8d209f47f",
   "metadata": {},
   "outputs": [
    {
     "data": {
      "text/html": [
       "22"
      ],
      "text/latex": [
       "22"
      ],
      "text/markdown": [
       "22"
      ],
      "text/plain": [
       "[1] 22"
      ]
     },
     "metadata": {},
     "output_type": "display_data"
    },
    {
     "data": {
      "text/html": [
       "0.0338142126144869"
      ],
      "text/latex": [
       "0.0338142126144869"
      ],
      "text/markdown": [
       "0.0338142126144869"
      ],
      "text/plain": [
       "[1] 0.03381421"
      ]
     },
     "metadata": {},
     "output_type": "display_data"
    }
   ],
   "source": [
    "22.\n",
    "\n",
    "\n",
    "# X = # of people who register for a service\n",
    "# X ~ B(n,p)\n",
    "\n",
    "n = 1000\n",
    "p = 0.25\n",
    "mu = EX = n*p\n",
    "sigma2 = n*p*(1-p)\n",
    "sigma = sqrt(sigma2)\n",
    "\n",
    "# P(200 <= X <= 225)\n",
    "\n",
    "# Stardartizing\n",
    "pnorm((225 - mu)/sigma) - pnorm((200 - mu)/sigma)\n",
    "\n"
   ]
  },
  {
   "cell_type": "markdown",
   "id": "7067e58b-8981-46d6-bf1c-c562c79e6fd3",
   "metadata": {},
   "source": [
    "23.\n",
    "## Possion Random Variables¶\n",
    "\n",
    "The number of customers who arrive for service, and their waiting times, are described by the Poisson rv and the exponential rv, respectively.\n",
    "\n",
    "A Poisson rv is a discrete rv that describes the total number of events that happen in a certain time period.\n",
    "\n",
    "Notation: $X \\sim Poisson(\\lambda)$\n",
    "\n",
    "Example: The number of mosquitoes captured in a trap during a given period of time can be modeled by a Poisson rv with $\\lambda$ = 4.5.\n",
    "\n",
    "    What is the probability that the trap contains exactly 5 mosquitoes?\n",
    "    What is the probability that the trap contains 5 or fewer mosquitoes?\n",
    "\n"
   ]
  },
  {
   "cell_type": "code",
   "execution_count": null,
   "id": "8e79fe05-93e3-42c9-98a9-f58dda24a009",
   "metadata": {},
   "outputs": [],
   "source": []
  },
  {
   "cell_type": "code",
   "execution_count": 29,
   "id": "5de67549-2ef8-40bb-bd30-6b3c2bedc301",
   "metadata": {},
   "outputs": [
    {
     "data": {
      "text/html": [
       "23"
      ],
      "text/latex": [
       "23"
      ],
      "text/markdown": [
       "23"
      ],
      "text/plain": [
       "[1] 23"
      ]
     },
     "metadata": {},
     "output_type": "display_data"
    },
    {
     "data": {
      "text/html": [
       "0.170826858486112"
      ],
      "text/latex": [
       "0.170826858486112"
      ],
      "text/markdown": [
       "0.170826858486112"
      ],
      "text/plain": [
       "[1] 0.1708269"
      ]
     },
     "metadata": {},
     "output_type": "display_data"
    },
    {
     "data": {
      "text/html": [
       "0.702930434860827"
      ],
      "text/latex": [
       "0.702930434860827"
      ],
      "text/markdown": [
       "0.702930434860827"
      ],
      "text/plain": [
       "[1] 0.7029304"
      ]
     },
     "metadata": {},
     "output_type": "display_data"
    }
   ],
   "source": [
    "23.\n",
    "\n",
    "\n",
    "# Number 1\n",
    "\n",
    "lambda = 4.5\n",
    "x = 5\n",
    "dpois(x, lambda)\n",
    "\n",
    "#Number 2\n",
    "ppois(x,lambda)\n",
    "\n"
   ]
  },
  {
   "cell_type": "markdown",
   "id": "23f8cca1-ed8c-4fab-8a60-c1a336583e35",
   "metadata": {},
   "source": [
    "24. \n",
    "\n",
    "Example: A factory makes parts for a medical device company. On average, the rate of defective parts per day is 10. You are responsible for monitoring the number of defective parts on a particular day.\n",
    "\n",
    "    Define an appropriate random variable for this experiment.\n",
    "\n",
    "Let X = number of defective parts (that day)\n",
    "\n",
    "    Give the values that the random variable can take on.\n",
    "\n",
    "Model $X \\sim Poisson(\\lambda = 10), X \\in \\{0,1,2,...\\}$\n",
    "\n",
    "    Find the probability that the random variable equals 2.\n",
    "\n"
   ]
  },
  {
   "cell_type": "code",
   "execution_count": null,
   "id": "03ab2d52-8b83-4f2d-9ef7-52deab2c3c42",
   "metadata": {},
   "outputs": [],
   "source": []
  },
  {
   "cell_type": "code",
   "execution_count": 30,
   "id": "a8e6ea3c-a428-4ad1-9123-06baad74882f",
   "metadata": {},
   "outputs": [
    {
     "data": {
      "text/html": [
       "24"
      ],
      "text/latex": [
       "24"
      ],
      "text/markdown": [
       "24"
      ],
      "text/plain": [
       "[1] 24"
      ]
     },
     "metadata": {},
     "output_type": "display_data"
    },
    {
     "data": {
      "text/html": [
       "0.00226999648812424"
      ],
      "text/latex": [
       "0.00226999648812424"
      ],
      "text/markdown": [
       "0.00226999648812424"
      ],
      "text/plain": [
       "[1] 0.002269996"
      ]
     },
     "metadata": {},
     "output_type": "display_data"
    }
   ],
   "source": [
    "\n",
    "24.\n",
    "lambda = 10\n",
    "x = 2\n",
    "\n",
    "dpois(x, lambda)\n",
    "\n"
   ]
  },
  {
   "cell_type": "markdown",
   "id": "4a934882-a6e7-41f7-9cbe-a970446adb04",
   "metadata": {},
   "source": [
    "25. What assumptions do you need to make?\n",
    "\n"
   ]
  },
  {
   "cell_type": "markdown",
   "id": "542c450f-6d78-4978-a036-37e6bfd7e89c",
   "metadata": {},
   "source": [
    "25. X, as a Poisson, can take on a infinitive number of values, but we didn't make an infinitive #.\n"
   ]
  },
  {
   "cell_type": "markdown",
   "id": "551ad015-7b38-4b86-b178-d040633c4272",
   "metadata": {},
   "source": [
    "## Exponential Random Variables\n",
    "\n",
    "The family of exponential distributions provides probability models that are widely used in engineering and science disciplines to describe time-to-event data. An exponential rv is continuous.\n",
    "\n",
    "### Properties\n",
    "\n",
    "- if the number of events occurring in a unit of time is a Poisson rv with parameter $\\lambda$, the time between events is exponential, also parameter $\\lambda$.\n",
    "\n",
    "Example: Suppose the number of customers arriving for service is modeled by a Poisson rv with $\\lambda$ = 5. That is, an average of 5 customers arrive per hour. Then, the time between arrivals is exponential with $\\frac{1}{\\lambda} = \\frac{1}{5}$. That is, the expected time between arrivals is $\\frac{1}{5}$ hour.\n",
    "\n",
    "- Memoryless of the exponential rv: If $X \\sim Exp(\\lambda)$, then $P(X> s+t \\mid X>s) = P(X > t)$ for all $s,t \\geq 0$.\n",
    "\n",
    "Example: Suppose the service time at a bank with one teller is modeled by a rv X with $X \\sim Exp(\\lambda = \\frac{1}{5})$. Then , E(X) = $\\frac{1}{\\lambda}$ = 5 minutes. If there is a customer in service when you enter the bank, find the probability that the customer is still in service 4 minutes later.\n"
   ]
  },
  {
   "cell_type": "markdown",
   "id": "19795d7f-053c-463d-a96b-7c032342f951",
   "metadata": {},
   "source": [
    "26. Example: Suppose the service time at a bank with one teller is modeled by a rv X with $X \\sim Exp(\\lambda = \\frac{1}{5})$. Then , E(X) = $\\frac{1}{\\lambda}$ = 5 minutes. If there is a customer in service when you enter the bank, find the probability that the customer is still in service 4 minutes later.\n"
   ]
  },
  {
   "cell_type": "code",
   "execution_count": null,
   "id": "c33d645b-d6a1-402d-8566-4ec34b25104d",
   "metadata": {},
   "outputs": [],
   "source": []
  },
  {
   "cell_type": "code",
   "execution_count": 31,
   "id": "804233e6-00de-4f0d-a1e1-66064efb04b2",
   "metadata": {},
   "outputs": [
    {
     "data": {
      "text/html": [
       "26"
      ],
      "text/latex": [
       "26"
      ],
      "text/markdown": [
       "26"
      ],
      "text/plain": [
       "[1] 26"
      ]
     },
     "metadata": {},
     "output_type": "display_data"
    },
    {
     "data": {
      "text/html": [
       "0.449328964117222"
      ],
      "text/latex": [
       "0.449328964117222"
      ],
      "text/markdown": [
       "0.449328964117222"
      ],
      "text/plain": [
       "[1] 0.449329"
      ]
     },
     "metadata": {},
     "output_type": "display_data"
    }
   ],
   "source": [
    "26. \n",
    "\n",
    "lambda = 1/5\n",
    "x = 4\n",
    "\n",
    "# P(X >= 4) = 1 - P( X <= 4)\n",
    "\n",
    "1 - pexp(x, lambda)\n",
    "\n"
   ]
  },
  {
   "cell_type": "markdown",
   "id": "0ba530cd-99c2-4490-a2a8-9b23539cba25",
   "metadata": {},
   "source": [
    "# Week 5\n",
    "## Joint Distributions and Covariance\n",
    "\n",
    "### Additional topics in Expectations and Variance\n",
    "\n",
    "In statistics and data science, we frequently collect data from several random variables and we want to understand and quantify the strength of their interactions.\n",
    "\n",
    "    The length of time a student studies and their score on an exam.\n",
    "    The relationship between male and female life expectancy in a certain country.\n",
    "    The relationship between the quantity of two di↵erent products purchased by a consumer.\n",
    "\n",
    "Recall:\n",
    "$$E(X) = \\sum_{k}kP(X=k) \\quad if \\: X \\:is \\:discrete$$$$E(X) = \\int_{-\\infty}^{\\infty} xf(x) \\: \\mathrm{d}x\\quad if \\: X \\:is \\:continuous$$\n",
    "\n",
    "$E(aX + b) = aE(x) + b $\n",
    "\n"
   ]
  },
  {
   "cell_type": "markdown",
   "id": "cbbec596-a4ae-4c0d-9b51-451e73ff7d5d",
   "metadata": {},
   "source": [
    "Suppose a university has 15,000 students and let X equal the number of courses for which a randomly selected student is registered. The pmf is"
   ]
  },
  {
   "cell_type": "markdown",
   "id": "b3e9087c-a674-4cd9-9ff1-6e7a72dea46f",
   "metadata": {},
   "source": [
    "27. \n",
    "| x     | 1    | 2    | 3    | 4    | 5    | 6    | 7    |\n",
    "|-------|------|------|------|------|------|------|------|\n",
    "| p(x)  | 0.01 | 0.03 | 0.13 | 0.25 | 0.39 | 0.17 | 0.02 |\n",
    "\n",
    "If a student pays \\$500 per course plus a \\\\$100 per-semester registration fee, what is the average amount a student pays each semester?\n"
   ]
  },
  {
   "cell_type": "code",
   "execution_count": null,
   "id": "a73f4a64-34b2-488e-996c-d3326ee7685d",
   "metadata": {},
   "outputs": [],
   "source": []
  },
  {
   "cell_type": "code",
   "execution_count": 32,
   "id": "8de25638-eb29-4efe-ac93-f394f2097da8",
   "metadata": {},
   "outputs": [
    {
     "data": {
      "text/html": [
       "27"
      ],
      "text/latex": [
       "27"
      ],
      "text/markdown": [
       "27"
      ],
      "text/plain": [
       "[1] 27"
      ]
     },
     "metadata": {},
     "output_type": "display_data"
    },
    {
     "data": {
      "text/html": [
       "2385"
      ],
      "text/latex": [
       "2385"
      ],
      "text/markdown": [
       "2385"
      ],
      "text/plain": [
       "[1] 2385"
      ]
     },
     "metadata": {},
     "output_type": "display_data"
    }
   ],
   "source": [
    "27.\n",
    "\n",
    "# X = # of courses students takes\n",
    "# E(500X + 100) = 500E(X) + 100\n",
    "\n",
    "x =  c( 1  , 2  ,  3 ,  4 ,  5 ,  6 ,  7 )\n",
    "px = c(0.01,0.03,0.13,0.25,0.39,0.17,0.02)\n",
    "\n",
    "EX = weighted.mean(x,px)\n",
    "\n",
    "500 * EX + 100\n",
    "\n"
   ]
  },
  {
   "cell_type": "markdown",
   "id": "fd1074b4-e7d7-4f88-819d-fab6cfb0fd16",
   "metadata": {},
   "source": [
    "28.\n",
    "Recall:\n",
    "\n",
    "$\\sigma^2 = V(X) = E[(X - \\mu)^2] = E(X^2) - (E(X))^2$\n",
    "$$V(X) = \\sum_{k}(k-\\mu)^2 \\,P(X=k) \\quad if \\: X \\:is \\:discrete$$$$V(X) = \\int_{-\\infty}^{\\infty} (x - \\mu)^2 \\:f(x) \\: \\mathrm{d}x\\quad if \\: X \\:is \\:continuous$$\n",
    "\n",
    "$V(aX + b) = a^2V(X)$\n",
    "\n",
    "Example: Suppose a university has 15,000 students and let X equal the number of courses for which a randomly selected student is registered. The pmf is"
   ]
  },
  {
   "cell_type": "markdown",
   "id": "850073fe-a986-40e0-8db8-63721b519a01",
   "metadata": {},
   "source": [
    "28.\n",
    "\n",
    "| x     | 1    | 2    | 3    | 4    | 5    | 6    | 7    |\n",
    "|-------|------|------|------|------|------|------|------|\n",
    "| p(x)  | 0.01 | 0.03 | 0.13 | 0.25 | 0.39 | 0.17 | 0.02 |\n",
    "\n",
    "If a student pays \\$500 per course plus a \\\\$100 per-semester registration fee, what is the average amount a student pays each semester?\n"
   ]
  },
  {
   "cell_type": "code",
   "execution_count": null,
   "id": "4ed81184-1edd-4224-84fd-9e09ebcc5c04",
   "metadata": {},
   "outputs": [],
   "source": []
  },
  {
   "cell_type": "code",
   "execution_count": 24,
   "id": "0081c2aa-aa8b-443a-a602-8a1efd215ed8",
   "metadata": {},
   "outputs": [
    {
     "data": {
      "text/html": [
       "28"
      ],
      "text/latex": [
       "28"
      ],
      "text/markdown": [
       "28"
      ],
      "text/plain": [
       "[1] 28"
      ]
     },
     "metadata": {},
     "output_type": "display_data"
    },
    {
     "ename": "ERROR",
     "evalue": "Error in eval(expr, envir, enclos): object 'x' not found\n",
     "output_type": "error",
     "traceback": [
      "Error in eval(expr, envir, enclos): object 'x' not found\nTraceback:\n",
      "1. weighted.mean(x^2, px)"
     ]
    }
   ],
   "source": [
    "28.\n",
    "\n",
    "\n",
    "\n",
    "EX2 = weighted.mean(x^2,px)\n",
    "\n",
    "VX = EX2 - EX^2\n",
    "\n",
    "# V(500X + 100) = 500^2V(X)\n",
    "500^2*VX\n",
    "\n"
   ]
  },
  {
   "cell_type": "markdown",
   "id": "7c5df02c-829e-4591-ac3f-947c59717377",
   "metadata": {},
   "source": [
    "29. Example: An insurance agency services customers who have both a homeowner’s policy and an automobile policy. For each type of policy, a deductible amount must be specified. For an automobile policy, the choices are \\$100 or \\$250 and for the homeowner’s policy, the choices are \\$0, \\\\$100, or \\$200.\n",
    "\n",
    "Suppose an individual, let’s say Bob, is selected at random from the agency’s files. Let X be the deductible amount on the auto policy and let Y be the deductible amount on the homeowner’s policy.\n",
    "\n",
    "We want to understand the relationship between X and Y.\n",
    "\n",
    "Suppose the joint probability table is given by the insurance company as follows:\n",
    "\n",
    "|        |          | y(home) |     |     |     |\n",
    "|--------|----------|---------|-----|-----|-----|\n",
    "|        |          |         |0    | 100 | 200 |\n",
    "| x(auto)|          | 100     | 0.20| 0.10| 0.20|\n",
    "|        |          | 250     | 0.05| 0.15| 0.30|\n"
   ]
  },
  {
   "cell_type": "code",
   "execution_count": null,
   "id": "d659abfc-a9d0-4c46-bf48-5eac2f905d3a",
   "metadata": {},
   "outputs": [],
   "source": []
  },
  {
   "cell_type": "code",
   "execution_count": 25,
   "id": "185093b7-6319-4cec-92ff-77f5281484bc",
   "metadata": {},
   "outputs": [
    {
     "data": {
      "text/html": [
       "29"
      ],
      "text/latex": [
       "29"
      ],
      "text/markdown": [
       "29"
      ],
      "text/plain": [
       "[1] 29"
      ]
     },
     "metadata": {},
     "output_type": "display_data"
    }
   ],
   "source": [
    "29.\n",
    "mu_x = 100*(0.20 + 0.10 + 0.20) + 250*(0.05 + 0.15 + 0.30)\n",
    "mu_y = 0*(0.20 + 0.05) + 100*(0.10 + 0.15)+ 200*(0.20 + 0.30)"
   ]
  },
  {
   "cell_type": "markdown",
   "id": "57340b72-daa2-40d1-9c03-20b536a60cba",
   "metadata": {},
   "source": [
    "\n",
    "$$Cov (X,Y) = \\sum_{x}\\sum_{y}(x-\\mu_x)(y-\\mu_y) \\,P(X=x, Y=y) $$\n"
   ]
  },
  {
   "cell_type": "code",
   "execution_count": null,
   "id": "bc1effad-77e5-4cfe-a2ca-ec4670f5d3cc",
   "metadata": {},
   "outputs": [],
   "source": []
  },
  {
   "cell_type": "code",
   "execution_count": 26,
   "id": "95cd1cdd-0120-46e7-8eec-dd155bb2a1db",
   "metadata": {},
   "outputs": [
    {
     "data": {
      "text/html": [
       "30"
      ],
      "text/latex": [
       "30"
      ],
      "text/markdown": [
       "30"
      ],
      "text/plain": [
       "[1] 30"
      ]
     },
     "metadata": {},
     "output_type": "display_data"
    },
    {
     "data": {
      "text/html": [
       "1875"
      ],
      "text/latex": [
       "1875"
      ],
      "text/markdown": [
       "1875"
      ],
      "text/plain": [
       "[1] 1875"
      ]
     },
     "metadata": {},
     "output_type": "display_data"
    }
   ],
   "source": [
    "30. \n",
    "\n",
    "covXY = sum(\n",
    "    (100 - mu_x)*(0   - mu_y)*0.20,\n",
    "    (100 - mu_x)*(100 - mu_y)*0.10,\n",
    "    (100 - mu_x)*(200 - mu_y)*0.20,\n",
    "    (250 - mu_x)*(0   - mu_y)*0.05,\n",
    "    (250 - mu_x)*(100 - mu_y)*0.15,\n",
    "    (250 - mu_x)*(200 - mu_y)*0.30\n",
    ")\n",
    "covXY\n",
    "\n"
   ]
  },
  {
   "cell_type": "markdown",
   "id": "16d24741-2106-4d00-9131-57741b8a22c1",
   "metadata": {},
   "source": [
    "Is this a strong relationship between X and Y?\n",
    "\n",
    "It seem like a \"big\" number, but it's hard to say. The correlation coefficient will help.\n",
    "\n",
    "Computational formula for covariance: $$Cov(X,Y) = E(XY) -E(X)E(Y)$$\n",
    "\n",
    "What if X and Y are independent?\n",
    "$$Cov(X,Y) = 0$$\n",
    "\n",
    "So, if X and Y are independent, Cov(X,Y) = 0.\n",
    "\n",
    "BUT, it's doesn't go the other way. If Cov(X,Y) = 0. X and Y may still be independent!!!!\n",
    "\n",
    "\n",
    "#### Useful formulas for random variables X and Y and real numbers a and b:\n",
    "$$E(aX + bY) = aE(X) + bE(Y)$$$$V(aX + bY) = a^2V(X) + b^2V(Y) + 2abCov(X,Y)$$\n",
    "\n",
    "Definition: The correlation coefficient of X and Y, denoted by Cor(X,Y) or just $\\rho_{x,y}$ is defined by\n",
    "$$\\rho_{x,y} = \\frac{Cov(X,Y)}{\\sigma_x \\sigma_y}$$\n",
    "\n",
    "It represents a “scaled” covariance. The correlation is always between -1 and 1.\n",
    "\n",
    "What if X and Y are independent?\n",
    "\n",
    "$Cov(X,Y) = 0$ so $\\rho_{x,y} = \\frac{Cov(X,Y)}{\\sigma_x \\sigma_y} = 0$\n",
    "\n",
    "What if Y = aX + b?\n",
    "\n",
    "$Cov(X,Y) = Cov(X, aX+b) = a\\sigma_x^2$\n",
    "\n",
    "$V(Y) = \\sigma_y = a^2V(X) = |a|\\sigma_x$\n"
   ]
  },
  {
   "cell_type": "markdown",
   "id": "75419b4d-cf11-4664-aec3-fca67d3fab9c",
   "metadata": {},
   "source": [
    "32. \n",
    "\n",
    "Find $\\rho_{x,y}$:\n",
    "\n",
    "|        |          | y(home) |     |     |     |\n",
    "|--------|----------|---------|-----|-----|-----|\n",
    "|        |          |         |0    | 100 | 200 |\n",
    "| x(auto)|          | 100     | 0.20| 0.10| 0.20|\n",
    "|        |          | 250     | 0.05| 0.15| 0.30|"
   ]
  },
  {
   "cell_type": "code",
   "execution_count": null,
   "id": "e1cbcc2a-fa52-4696-8f89-316412c25037",
   "metadata": {},
   "outputs": [],
   "source": []
  },
  {
   "cell_type": "code",
   "execution_count": 36,
   "id": "5c25733a-bf5d-484b-a998-e9e5e88d086c",
   "metadata": {},
   "outputs": [
    {
     "data": {
      "text/html": [
       "32"
      ],
      "text/latex": [
       "32"
      ],
      "text/markdown": [
       "32"
      ],
      "text/plain": [
       "[1] 32"
      ]
     },
     "metadata": {},
     "output_type": "display_data"
    },
    {
     "data": {
      "text/html": [
       "1875"
      ],
      "text/latex": [
       "1875"
      ],
      "text/markdown": [
       "1875"
      ],
      "text/plain": [
       "[1] 1875"
      ]
     },
     "metadata": {},
     "output_type": "display_data"
    },
    {
     "data": {
      "text/html": [
       "5625"
      ],
      "text/latex": [
       "5625"
      ],
      "text/markdown": [
       "5625"
      ],
      "text/plain": [
       "[1] 5625"
      ]
     },
     "metadata": {},
     "output_type": "display_data"
    },
    {
     "data": {
      "text/html": [
       "6875"
      ],
      "text/latex": [
       "6875"
      ],
      "text/markdown": [
       "6875"
      ],
      "text/plain": [
       "[1] 6875"
      ]
     },
     "metadata": {},
     "output_type": "display_data"
    },
    {
     "data": {
      "text/html": [
       "0.301511344577764"
      ],
      "text/latex": [
       "0.301511344577764"
      ],
      "text/markdown": [
       "0.301511344577764"
      ],
      "text/plain": [
       "[1] 0.3015113"
      ]
     },
     "metadata": {},
     "output_type": "display_data"
    }
   ],
   "source": [
    "32. \n",
    "\n",
    "covXY\n",
    "EX = 100*(0.20 + 0.10 + 0.20) + 250*(0.05 + 0.15 + 0.30)\n",
    "EY = 0*(0.20 + 0.05) + 100*(0.10 + 0.15)+ 200*(0.20 + 0.30)\n",
    "\n",
    "# VX = EX2 - EX^2\n",
    "\n",
    "VX = (100^2*(0.20 + 0.10 + 0.20) + 250^2*(0.05 + 0.15 + 0.30)) - EX^2\n",
    "VY = (0^2*(0.20 + 0.05) + 100^2*(0.10 + 0.15)+ 200^2*(0.20 + 0.30)) - EY^2\n",
    "VX\n",
    "VY\n",
    "\n",
    "rhoXY = covXY/(sqrt(VX)*sqrt(VY))\n",
    "rhoXY\n",
    "\n"
   ]
  },
  {
   "cell_type": "markdown",
   "id": "41bb3c8e-5d6a-4599-a9ea-542b2f131ea9",
   "metadata": {},
   "source": [
    "\n",
    "\n",
    "Conclusions: Correlation measures the strength of mean relationship between X and Y. If X and Y are idenpendent, $\\rho_{x,y} = 0$\n",
    "\n",
    "$\\rho_{(x,y} = 0 $ can not conclude independence.\n"
   ]
  },
  {
   "cell_type": "markdown",
   "id": "e32693c3-1a71-4f3e-811e-ed1ab8d2b4b6",
   "metadata": {},
   "source": [
    "# Week 6\n",
    "## The Central Limit Theorem\n",
    "\n",
    "For a random variable X, we need either the probability mass function p(k) = P(X = k) or density function f (x) to compute $\\mu_x = E(X) = \\sum_{k}kP(X=k) \\quad or \\quad \\mu_x = \\int_{-\\infty}^{\\infty} xf(x) \\: \\mathrm{d}x\\quad$\n",
    "\n",
    "$ \\sigma^2_x = V(X) = \\sum_{k}(k-\\mu_x)^2 \\,P(X=k) \\quad or \\quad \\sigma^2_x = \\int_{-\\infty}^{\\infty} (x - \\mu_x)^2 \\:f(x) \\: \\mathrm{d}x$\n",
    "\n",
    "In future courses, we will be focusing on making “statistical inferences” about the true mean and true variance of a population by using sample datasets. Before we do, we need to finish laying the groundwork.\n",
    "\n",
    "Definition: $X_1, X_2,..., X_n$ are a random sample of size n if\n",
    "\n",
    "    $X_1, X_2,...,X_n$ are independent\n",
    "    each random variable has the same distribution We say that these $X_i’s$ are iid, independent and identically distributed.\n",
    "\n",
    "We use estimators to summarize our iid sample. For example, suppose we want to understand the distribution of adult female heights in a certain area. We plan to select $n$ women at random and measure their height. Suppose the height of the $i^{th}$ woman is denoted by $X_i$. $X_1, X_2,..., X_n$ are $iid$ with mean $\\mu$.\n",
    "\n",
    "An estimator of $\\mu$ is denoted $\\bar X$ and $\\bar X = \\frac{1}{n}\\sum^n_{k=1}X_k$\n",
    "\n",
    "$E(\\bar X) = \\mu$\n",
    "\n",
    "The Law of Large Numbers is fairly technical. However, it says that under most conditions, if $X_1, X_2,...,X_n$ is a random sample with $E(X_k) = \\mu$, then $\\bar X = \\frac{1}{n}\\sum^n_{k=1}X_k$, converges to $\\mu$ in the limit as n goes to infinity.\n",
    "\n",
    "Example: Let $X_1, X_2,...,X_n$ each have a uniform distribution on [0, 1].\n",
    "\n",
    "$E(X_i) = E(\\bar X) = \\frac{a + b}{2} = \\frac{0 +1}{2} = \\frac{1}{2}$\n",
    "\n",
    "What about the variance? Given a random example $X_1,X_2,...,X_n$, with $V(X_i) = \\sigma^2$\n",
    "\n",
    "$V)\\bar X) = \\frac{\\sigma^2}{n}$\n",
    "\n",
    "Note: As n increase, variance becames smaller. As n increases, $\\bar X$ (spread of the distribution) gets closer to $\\mu$, variance gets smaller.\n",
    "\n",
    "We use estimators to summarize our iid sample. Any estimator, including the sample mean, $\\bar X$, is a random variable (since it is based on a random sample).\n",
    "\n",
    "This means that $\\bar X$ has a distribution of it’s own, which is referred to as the sampling distribution of the sample mean. This sampling distribution depends on:\n",
    "\n",
    "    the sample size n\n",
    "    the population distribution of the $X_i$\n",
    "    the method of sampling\n"
   ]
  },
  {
   "cell_type": "code",
   "execution_count": null,
   "id": "7bd49846-3f54-47c2-86c1-102d9faf11f4",
   "metadata": {},
   "outputs": [],
   "source": []
  },
  {
   "cell_type": "code",
   "execution_count": 27,
   "id": "ec7852e3-7717-46d7-ad06-1eb840f1270e",
   "metadata": {},
   "outputs": [
    {
     "data": {
      "image/png": "[encoded data removed]"
     },
     "metadata": {},
     "output_type": "display_data"
    }
   ],
   "source": [
    "# Load the necessary library\n",
    "library(IRdisplay)\n",
    "\n",
    "# Display an image (adjust the path to your image file)\n",
    "display_png(file=\"img1.png\")  # For PNG files\n",
    "# Or for JPEG files\n",
    "# display_jpeg(file=\"images/img1.jpeg\")\n"
   ]
  },
  {
   "cell_type": "markdown",
   "id": "c2e03ed7-c5b4-4324-93ed-a827cfdf551b",
   "metadata": {},
   "source": [
    "We know everything there is to know about the distribution of the sample mean when the population distribution is normal. What if the population distribution is not normal?\n",
    "\n",
    "    When the population distribution is non-normal, averaging produces a distribution that is more bell-shaped than the one being sampled.\n",
    "    A reasonable conjecture is that if n is large, a suitable normal curve will approximate the actual distribution of the sample mean.\n",
    "    The formal statement of this result is one of the most important theorems in probability and statistics: Central Limit Theorem.\n",
    "\n",
    "Central Limit Theorem Let $X_1, X_2,..., X_n$ be a random sample with $E(X_i) = \\mu$ and $V(X_i) = \\sigma_2$. I n is sufficently large, $\\bar X$ has approximately a normal distribution with mean $\\mu_{\\bar X}$ and variance $\\sigma^2_{\\bar X} = \\frac{\\sigma^2}{n}$.\n",
    "\n",
    "We write $\\bar X \\approx N\\left(\\mu, \\frac{\\sigma^2}{n}\\right)$\n",
    "\n",
    "The larger the value of $n$, the better the approximation. Typical rule of thumb: $n \\geq 30$."
   ]
  },
  {
   "cell_type": "markdown",
   "id": "b4e3ff27-00eb-44df-b90d-28406f254dcf",
   "metadata": {},
   "source": [
    "## Central Limit Theorem - Examples¶\n",
    "\n",
    "Proposition: If $X_1, X_2,...,X_n$ are iid with $X_i \\sim N(\\mu, \\sigma^2)$ then $\\bar X \\sim N\\left(\\mu, \\frac{\\sigma^2}{n}\\right)$\n",
    "\n",
    "Proposition: If $X_1, X_2,...,X_n$ are independent with $X_i \\sim N(\\mu_i,\\sigma^2_i)$ then $\\sum^n_{i=1}X_i \\sim N\\left(\\sum^n_{i=1}\\mu_i,\\sum^n_{i=1}\\sigma^2_i\\right)$\n",
    "$$E\\left(\\sum^n_{i=1}X_i\\right) = \\sum^n_{i=1}\\mu_i$$$$V\\left(\\sum^n_{i=1}X_i\\right) = \\sum^n_{i=1}\\sigma^2_i$$\n",
    "\n",
    "Extend to $\\sum^n_{i=1}c_iX_i \\sim N\\left(\\sum^n_{i=1}c_i\\mu_i,\\sum^n_{i=1}c_i^2\\sigma_i^2\\right)\\longrightarrow\\:assumes\\:X_1,X_2,...,X_n\\: are \\: independent$\n"
   ]
  },
  {
   "cell_type": "markdown",
   "id": "ee2c11bc-b42e-4604-9095-34d30b83731e",
   "metadata": {},
   "source": [
    "33. Suppose you have 3 errands to do in three different stores. Let $T_i$ be the time to make the $i^{th}$ purchase for i = 1, 2, 3. Let $T_4$ be the total walking time between stores. Suppose $T_1 \\sim N(15, 16)$, $T_2 \\sim N(5, 1)$, $T_3 \\sim N(8, 4)$, and $T_4 \\sim N(12, 9)$. Assume $T_1$, $T_2$, $T_3$, $T_4$ are independent. If you leave at 10 in the morning and you want tell a colleague, “I’ll be back by time $t$”, what should t be so that you will return by that time with probability .99?"
   ]
  },
  {
   "cell_type": "code",
   "execution_count": null,
   "id": "ac00ec60-95e4-44a2-9071-ac2b70f467be",
   "metadata": {},
   "outputs": [],
   "source": []
  },
  {
   "cell_type": "code",
   "execution_count": null,
   "id": "0c7d1acc-c71e-420f-9f18-069ceb01b945",
   "metadata": {},
   "outputs": [],
   "source": [
    "33. \n",
    "# Let T0 = T1 + T2 + T3 + T4 = Total Time\n",
    "ET0 = sum(15,5,8,12)\n",
    "ET0\n",
    "\n",
    "VT0 = sum(16,1,4,9)\n",
    "VT0"
   ]
  },
  {
   "cell_type": "markdown",
   "id": "43b7bc4f-19d0-4c78-b62f-e24c2c298246",
   "metadata": {},
   "source": [
    "34. \n",
    "\n",
    "$T_0 \\sim N(40,30)$\n",
    "\n",
    "I want to find $t$ so that $P(t_0 \\leq t) = 0.99$\n"
   ]
  },
  {
   "cell_type": "code",
   "execution_count": null,
   "id": "c2b11c11-e953-408a-bc94-85ea325f1ce5",
   "metadata": {},
   "outputs": [],
   "source": []
  },
  {
   "cell_type": "code",
   "execution_count": null,
   "id": "6feaf0ea-a592-4df6-9f39-c07330a516e5",
   "metadata": {},
   "outputs": [],
   "source": [
    "34.\n",
    "\n",
    "# P(t0<=t) = .99\n",
    "t  = qnorm(0.99) * sqrt(VT0) + ET0\n",
    "t\n",
    "\n"
   ]
  },
  {
   "cell_type": "markdown",
   "id": "03327165-2a9d-4ced-98bf-fa227c5aa8ef",
   "metadata": {},
   "source": [
    "Return by 10:52.74 with probability 0.99"
   ]
  },
  {
   "cell_type": "markdown",
   "id": "7d1a1c81-09c1-45d0-9894-80b63b0f0a06",
   "metadata": {},
   "source": [
    "35. \n",
    "\n",
    "You want to verify that 25-kg bags of fertilizer are being filled to the appropriate amount. You select a random sample of 50 bags of fertilizer and weigh them. Let $X_i$ be the weight of the $i^{th}$ bag for i = 1, 2,... 50. You expect $E(X_i) = 25$ and $V(X_i) = 0.5$. Let $\\bar X = \\left(\\frac{1}{50}\\right)\\sum^{50}_{i=1}X_i$.\n",
    "\n",
    "Find $P(24.75 \\leq \\bar X \\leq 25.25)$\n"
   ]
  },
  {
   "cell_type": "code",
   "execution_count": null,
   "id": "f42fccc2-9f07-47cd-83b0-4bcbb6828a36",
   "metadata": {},
   "outputs": [],
   "source": []
  },
  {
   "cell_type": "code",
   "execution_count": null,
   "id": "7fc009d6-92c7-40fc-aed5-b7587599fc0a",
   "metadata": {},
   "outputs": [],
   "source": [
    "35. \n",
    "mu = 25\n",
    "sigma2 = 0.5/50\n",
    "\n",
    "# Starndartizing\n",
    "\n",
    "pnorm((25.25 - mu)/sqrt(sigma2)) - pnorm((24.75 - mu)/sqrt(sigma2))"
   ]
  },
  {
   "cell_type": "markdown",
   "id": "bfa6ec6f-286c-41fc-b0b8-d14c219f4687",
   "metadata": {},
   "source": [
    "36. \n",
    "\n",
    "Suppose $E(X_i) = 24.5$, that is, the bags are underfilled, and $V(X) = 0.5$. Now, find $P(24.75 \\leq \\bar X \\leq 25.25)$.\n"
   ]
  },
  {
   "cell_type": "code",
   "execution_count": null,
   "id": "1714f45c-31a2-42cb-927a-718c1b399e8f",
   "metadata": {},
   "outputs": [],
   "source": []
  },
  {
   "cell_type": "code",
   "execution_count": null,
   "id": "1df796bc-8150-4783-af4a-294829d44c61",
   "metadata": {},
   "outputs": [],
   "source": [
    "36.\n",
    "mu = 24.5\n",
    "sigma2 = 0.5/50\n",
    "\n",
    "# Starndartizing\n",
    "\n",
    "pnorm((25.25 - mu)/sqrt(sigma2)) - pnorm((24.75 - mu)/sqrt(sigma2))"
   ]
  },
  {
   "cell_type": "markdown",
   "id": "76055e28-3dde-4f66-94e6-d0240e884c05",
   "metadata": {},
   "source": [
    "37. \n",
    "\n",
    "In a statistics class of 36 students, past experience indicates that 53% of the students will score at or above 80%. For a randomly selected exam, find the probability at at least 20 students will score above 80%.\n"
   ]
  },
  {
   "cell_type": "code",
   "execution_count": null,
   "id": "958bcc6a-5668-4858-8784-0d127b4e7df4",
   "metadata": {},
   "outputs": [],
   "source": []
  },
  {
   "cell_type": "code",
   "execution_count": null,
   "id": "ed016085-a449-452b-98b5-aa4794e3b5f6",
   "metadata": {},
   "outputs": [],
   "source": [
    "37.\n",
    "# P(X>= 20)\n",
    "n= 36\n",
    "p = .53\n",
    "\n",
    "\n",
    "# Binomial Experiment\n",
    "mu = n*p\n",
    "sigma2 = n*p*(1-p)\n",
    "\n",
    "# Starndartizing\n",
    "\n",
    "pnorm((20 - mu)/sqrt(sigma2))\n",
    "\n"
   ]
  },
  {
   "cell_type": "markdown",
   "id": "04db421e-861d-4f5d-ac15-cfd18ef5fd43",
   "metadata": {},
   "source": [
    "\n",
    "\n",
    "Example: Normal approximation to the binomial. If $X \\sim Bin(n, p)$ then X counts the number of successes in $n$ independent Bernoulli trials, each with probability of success $p$. We know:\n",
    "\n",
    "$E(X) = np V(X) = np(1 - p)$\n",
    "\n",
    "So, by CLT, $\\frac{X-np}{\\sqrt{np(1-p)}} \\approx N\\left(\\mu=np,\\sigma^2 = np(1-p)\\right)$\n",
    "\n",
    "The CLT provides insight into why many random variables have probability distributions that are approximately normal.\n",
    "\n",
    "For example, the measurement error in a scientific experiment can be thought of as the sum of a number of underlying perturbations and errors of small magnitude.\n",
    "\n",
    "A practical difficulty in applying the CLT is in knowing when n is sufficiently large. The problem is that the accuracy of the approximation for a particular n depends on the shape of the original underlying distribution being sampled.\n"
   ]
  },
  {
   "cell_type": "code",
   "execution_count": null,
   "id": "87173ec2-6812-45c8-80ec-ce3283b2dff0",
   "metadata": {},
   "outputs": [],
   "source": []
  },
  {
   "cell_type": "code",
   "execution_count": null,
   "id": "016a609b-811f-4f2f-b318-abd7b68291ff",
   "metadata": {},
   "outputs": [],
   "source": []
  },
  {
   "cell_type": "code",
   "execution_count": null,
   "id": "95de9c4a-7b00-4334-a549-2d16d38692ff",
   "metadata": {},
   "outputs": [],
   "source": []
  },
  {
   "cell_type": "markdown",
   "id": "d7bedd55-3b31-45c3-8a67-44f59c1b6c89",
   "metadata": {},
   "source": [
    "---"
   ]
  },
  {
   "cell_type": "markdown",
   "id": "7321ed63-f595-4f52-803c-db25c6c943dd",
   "metadata": {},
   "source": [
    "# Week1 "
   ]
  },
  {
   "cell_type": "markdown",
   "id": "123dad55-c450-4d2e-a7d2-2b126193e8df",
   "metadata": {},
   "source": [
    "**Question 1**\n",
    "\n",
    "**Prompt 1**: For each of the following scenarios, find the requested probability. Assume the sets $A$, $B$, and $C$ are events from the same sample space $S$. (Hint: Venn diagrams may help with the visualization, although they are not required to answer the questions.)\n",
    "\n",
    "If $P(A) = 0.4$, $P(B^c) = 0.7$, and $P(A \\cap B^c) = 0.2$, find $P(A \\cap B)$\n"
   ]
  },
  {
   "cell_type": "code",
   "execution_count": null,
   "id": "2ecfe8bb-b3af-45fb-bbc9-d3156587d74c",
   "metadata": {},
   "outputs": [],
   "source": [
    "\n",
    "\n"
   ]
  },
  {
   "cell_type": "code",
   "execution_count": 38,
   "id": "8eb66b50-6a2a-49f8-b103-09a1fcd84bba",
   "metadata": {},
   "outputs": [
    {
     "data": {
      "text/html": [
       "0.2"
      ],
      "text/latex": [
       "0.2"
      ],
      "text/markdown": [
       "0.2"
      ],
      "text/plain": [
       "[1] 0.2"
      ]
     },
     "metadata": {},
     "output_type": "display_data"
    }
   ],
   "source": [
    ".2"
   ]
  },
  {
   "cell_type": "markdown",
   "id": "f29149b2-f3c6-401e-81ad-92525cc98015",
   "metadata": {},
   "source": [
    "We need to find $P(A \\cap B)$. From the principle of inclusion-exclusion, we know:\n",
    "$$ P(A) = P(A \\cap B) + P(A \\cap B^c). $$\n",
    "\n",
    "Since $P(A) = 0.4$ and $P(A \\cap B^c) = 0.2$, substituting these values into the equation gives:\n",
    "$$ 0.4 = P(A \\cap B) + 0.2. $$\n",
    "\n",
    "Solving for $P(A \\cap B)$ yields:\n",
    "$$ P(A \\cap B) = 0.4 - 0.2 = 0.2. $$\n",
    "\n",
    "Thus, $P(A \\cap B) = 0.2$.\n"
   ]
  },
  {
   "cell_type": "markdown",
   "id": "ec912617-4270-4837-be94-efd7d636338a",
   "metadata": {},
   "source": [
    "**Question 2**\n",
    "\n",
    "**Prompt 1**: For each of the following scenarios, find the requested probability. Assume the sets $A$, $B$, and $C$ are events from the same sample space $S$. (Hint: Venn diagrams may help with the visualization, although they are not required to answer the questions.)\n",
    "\n",
    "If $P(A) = 0.9$ and $P(B) = 0.9$, what is the lower bound for $P(A \\cup B)$?\n"
   ]
  },
  {
   "cell_type": "code",
   "execution_count": null,
   "id": "6dfe22cc-b7f0-41eb-92ed-b050525c3e1b",
   "metadata": {},
   "outputs": [],
   "source": []
  },
  {
   "cell_type": "code",
   "execution_count": 39,
   "id": "e6d54fa1-b19d-42dc-a84c-e685d3e77c01",
   "metadata": {},
   "outputs": [
    {
     "data": {
      "text/html": [
       "0.9"
      ],
      "text/latex": [
       "0.9"
      ],
      "text/markdown": [
       "0.9"
      ],
      "text/plain": [
       "[1] 0.9"
      ]
     },
     "metadata": {},
     "output_type": "display_data"
    }
   ],
   "source": [
    ".9"
   ]
  },
  {
   "cell_type": "markdown",
   "id": "95c658ed-843b-4507-90ff-c8fcc42073c7",
   "metadata": {},
   "source": [
    "**Question 3**\n",
    "\n",
    "**Prompt 2**: Three popular options on a certain type of car are $A$ leather seats, $B$ a sunroof, and $C$ heated seats. In the past, $P(A) = 0.55$ (i.e., 55% of the customers have requested option $A$), $P(B) = 0.45$, $P(C) = 0.4$. Furthermore, $P(A \\cap B) = 0.25$, $P(A \\cap C) = 0.2$, $P(B \\cap C) = 0.15$, and $P(A \\cap B \\cap C) = 0.1$.\n",
    "\n",
    "Find the probability that a customer will ask for at least one of the three options.\n"
   ]
  },
  {
   "cell_type": "code",
   "execution_count": null,
   "id": "476e63d9-8759-4d0b-9737-e15b3cfe29fc",
   "metadata": {},
   "outputs": [],
   "source": []
  },
  {
   "cell_type": "code",
   "execution_count": 40,
   "id": "62c70523-da91-4802-b08b-b7847e299c65",
   "metadata": {},
   "outputs": [
    {
     "data": {
      "text/html": [
       "0.9"
      ],
      "text/latex": [
       "0.9"
      ],
      "text/markdown": [
       "0.9"
      ],
      "text/plain": [
       "[1] 0.9"
      ]
     },
     "metadata": {},
     "output_type": "display_data"
    }
   ],
   "source": [
    ".9"
   ]
  },
  {
   "cell_type": "markdown",
   "id": "c5103e40-30cc-4a04-9427-1167dd7a179a",
   "metadata": {},
   "source": [
    "**Question 4**\n",
    "\n",
    "**Prompt 2**: Three popular options on a certain type of car are $A$ leather seats, $B$ a sunroof, and $C$ heated seats. In the past, $P(A) = 0.55$ (i.e., 55% of the customers have requested option $A$), $P(B) = 0.45$, $P(C) = 0.4$. Furthermore, $P(A \\cap B) = 0.25$, $P(A \\cap C) = 0.2$, $P(B \\cap C) = 0.15$, and $P(A \\cap B \\cap C) = 0.1$.\n",
    "\n",
    "Find the probability that a customer will not ask for any of these three options.\n"
   ]
  },
  {
   "cell_type": "code",
   "execution_count": null,
   "id": "5531ebd2-b3ba-40f7-bd9c-2767a8f81b61",
   "metadata": {},
   "outputs": [],
   "source": []
  },
  {
   "cell_type": "code",
   "execution_count": 41,
   "id": "c8a3bbff-4881-436d-9326-9ab7b923a168",
   "metadata": {},
   "outputs": [
    {
     "data": {
      "text/html": [
       "0.1"
      ],
      "text/latex": [
       "0.1"
      ],
      "text/markdown": [
       "0.1"
      ],
      "text/plain": [
       "[1] 0.1"
      ]
     },
     "metadata": {},
     "output_type": "display_data"
    }
   ],
   "source": [
    ".1"
   ]
  },
  {
   "cell_type": "markdown",
   "id": "1599168e-06c6-40a3-99d0-f2691d0ac427",
   "metadata": {},
   "source": [
    "**Question 5**\n",
    "\n",
    "**Prompt 2**: Three popular options on a certain type of car are $A$ leather seats, $B$ a sunroof, and $C$ heated seats. In the past, $P(A) = 0.55$ (i.e., 55% of the customers have requested option $A$), $P(B) = 0.45$, $P(C) = 0.4$. Furthermore, $P(A \\cap B) = 0.25$, $P(A \\cap C) = 0.2$, $P(B \\cap C) = 0.15$, and $P(A \\cap B \\cap C) = 0.1$.\n",
    "\n",
    "Find the probability that a customer will ask for heated leather seats but not a sunroof."
   ]
  },
  {
   "cell_type": "code",
   "execution_count": null,
   "id": "dac4c30d-08b8-41f1-96c2-b9358eddaef7",
   "metadata": {},
   "outputs": [],
   "source": []
  },
  {
   "cell_type": "code",
   "execution_count": 42,
   "id": "0e2a2099-9508-423d-a4ac-686f2023b1e7",
   "metadata": {},
   "outputs": [
    {
     "data": {
      "text/html": [
       "0.1"
      ],
      "text/latex": [
       "0.1"
      ],
      "text/markdown": [
       "0.1"
      ],
      "text/plain": [
       "[1] 0.1"
      ]
     },
     "metadata": {},
     "output_type": "display_data"
    }
   ],
   "source": [
    ".1"
   ]
  },
  {
   "cell_type": "markdown",
   "id": "da65cc39-80a0-4d0b-85f3-287a587d3521",
   "metadata": {},
   "source": [
    "**Question 6**\n",
    "\n",
    "**Prompt 2**: Three popular options on a certain type of car are $A$ leather seats, $B$ a sunroof, and $C$ heated seats. In the past, $P(A) = 0.55$ (i.e., 55% of the customers have requested option $A$), $P(B) = 0.45$, $P(C) = 0.4$. Furthermore, $P(A \\cap B) = 0.25$, $P(A \\cap C) = 0.2$, $P(B \\cap C) = 0.15$, and $P(A \\cap B \\cap C) = 0.1$.\n",
    "\n",
    "Find the probability that a customer will ask for at most two of the options.\n"
   ]
  },
  {
   "cell_type": "code",
   "execution_count": null,
   "id": "d1a82c4f-688b-4c43-9814-7569ab95baea",
   "metadata": {},
   "outputs": [],
   "source": []
  },
  {
   "cell_type": "code",
   "execution_count": 43,
   "id": "dbf22317-6da0-49ac-812b-872f6476f5a0",
   "metadata": {},
   "outputs": [
    {
     "data": {
      "text/html": [
       "0.9"
      ],
      "text/latex": [
       "0.9"
      ],
      "text/markdown": [
       "0.9"
      ],
      "text/plain": [
       "[1] 0.9"
      ]
     },
     "metadata": {},
     "output_type": "display_data"
    }
   ],
   "source": [
    ".9"
   ]
  },
  {
   "cell_type": "markdown",
   "id": "af45bd64-99c2-4719-bb4b-f398b9d73b4d",
   "metadata": {},
   "source": [
    "**Question 7**\n",
    "\n",
    "**Prompt 2**: Three popular options on a certain type of car are $A$ leather seats, $B$ a sunroof, and $C$ heated seats. In the past, $P(A) = 0.55$ (i.e., 55% of the customers have requested option $A$), $P(B) = 0.45$, $P(C) = 0.4$. Furthermore, $P(A \\cap B) = 0.25$, $P(A \\cap C) = 0.2$, $P(B \\cap C) = 0.15$, and $P(A \\cap B \\cap C) = 0.1$.\n",
    "\n",
    "Find the probability that a customer will ask for exactly two of the options.\n"
   ]
  },
  {
   "cell_type": "code",
   "execution_count": null,
   "id": "f1de6927-c78b-48aa-83f1-deb71b04a9b9",
   "metadata": {},
   "outputs": [],
   "source": []
  },
  {
   "cell_type": "code",
   "execution_count": 45,
   "id": "010cd304-5cc1-41dd-9b12-1ef6df4dc977",
   "metadata": {},
   "outputs": [
    {
     "data": {
      "text/html": [
       "0.3"
      ],
      "text/latex": [
       "0.3"
      ],
      "text/markdown": [
       "0.3"
      ],
      "text/plain": [
       "[1] 0.3"
      ]
     },
     "metadata": {},
     "output_type": "display_data"
    }
   ],
   "source": [
    ".3"
   ]
  },
  {
   "cell_type": "markdown",
   "id": "0d8f3088-d48b-44b5-96fe-47b8f669c575",
   "metadata": {},
   "source": [
    "**Question 8**\n",
    "\n",
    "**Prompt 3**: A message of length 5 digits is to be sent. Each digit can be a 0, 1, or 2.\n",
    "\n",
    "What is the cardinality of the sample space?\n"
   ]
  },
  {
   "cell_type": "code",
   "execution_count": null,
   "id": "7c43017c-2281-4733-b257-5f429e1e8287",
   "metadata": {},
   "outputs": [],
   "source": []
  },
  {
   "cell_type": "code",
   "execution_count": 46,
   "id": "0b0ae8a3-1efa-44ce-a5e0-871b14ca60d9",
   "metadata": {},
   "outputs": [
    {
     "data": {
      "text/html": [
       "243"
      ],
      "text/latex": [
       "243"
      ],
      "text/markdown": [
       "243"
      ],
      "text/plain": [
       "[1] 243"
      ]
     },
     "metadata": {},
     "output_type": "display_data"
    }
   ],
   "source": [
    "243"
   ]
  },
  {
   "cell_type": "markdown",
   "id": "c9e85943-d216-474e-9496-d7c51253628d",
   "metadata": {},
   "source": [
    "9.\n",
    "Question 9\n",
    "\n",
    "Prompt 3: A message of length 5 digits is to be sent. Each digit can be a 0, 1, or 2.\n",
    "\n",
    "If every message is equally likely, what is the probability that the message consists of 2 zeros, 2 ones, and 1 two? Round your answer to have four decimal places.\n"
   ]
  },
  {
   "cell_type": "code",
   "execution_count": null,
   "id": "11affaf7-d636-47a5-b3c7-054c26fa6db7",
   "metadata": {},
   "outputs": [],
   "source": []
  },
  {
   "cell_type": "code",
   "execution_count": 47,
   "id": "fa4ec879-0b6b-4328-8ba7-d7bbfb3c22af",
   "metadata": {},
   "outputs": [
    {
     "data": {
      "text/html": [
       "0.1235"
      ],
      "text/latex": [
       "0.1235"
      ],
      "text/markdown": [
       "0.1235"
      ],
      "text/plain": [
       "[1] 0.1235"
      ]
     },
     "metadata": {},
     "output_type": "display_data"
    }
   ],
   "source": [
    ".1235"
   ]
  },
  {
   "cell_type": "markdown",
   "id": "ae143cd0-74d6-4b97-aa3e-dc2afd74424f",
   "metadata": {},
   "source": [
    "To determine the probability that a randomly generated 5-digit message, consisting of digits 0, 1, or 2, has exactly 2 zeros, 2 ones, and 1 two, we follow these steps:\n",
    "\n",
    "1. **Calculate the total number of possible messages**: Each digit has 3 possible values, so for a message of length 5, the total number of possible messages is $3^5$.\n",
    "\n",
    "2. **Calculate the number of favorable outcomes**: The number of ways to arrange 2 zeros, 2 ones, and 1 two is calculated using the multinomial coefficient:\n",
    "   $$\n",
    "   \\binom{5}{2, 2, 1} = \\frac{5!}{2! \\cdot 2! \\cdot 1!}\n",
    "   $$\n",
    "\n",
    "3. **Calculate the probability**: The probability is the ratio of the number of favorable outcomes to the total number of possible messages.\n",
    "\n",
    "Here is the R code to calculate these values:\n",
    "\n",
    "```r\n",
    "# Total number of possible messages\n",
    "total_possible_messages <- 3^5\n",
    "\n",
    "# Number of favorable outcomes\n",
    "favorable_outcomes <- factorial(5) / (factorial(2) * factorial(2) * factorial(1))\n",
    "\n",
    "# Probability calculation\n",
    "probability <- favorable_outcomes / total_possible_messages\n",
    "\n",
    "# Display the rounded probability\n",
    "round(probability, 4)\n"
   ]
  },
  {
   "cell_type": "markdown",
   "id": "b09c8bf2-d0ac-4b48-b0b6-b96827fd065e",
   "metadata": {},
   "source": [
    "10.\n",
    "Question 10\n",
    "\n",
    "Prompt 3: A message of length 5 digits is to be sent. Each digit can be a 0, 1, or 2.\n",
    "\n",
    "What is the probability that the message contains at least one zero? Round your answer to have three decimal places."
   ]
  },
  {
   "cell_type": "code",
   "execution_count": null,
   "id": "3b94f7d5-eb4d-4ea7-ba2d-44c64f77c050",
   "metadata": {},
   "outputs": [],
   "source": []
  },
  {
   "cell_type": "code",
   "execution_count": 48,
   "id": "e449e2ed-51ca-490d-a97f-85080f848fb7",
   "metadata": {},
   "outputs": [
    {
     "data": {
      "text/html": [
       "0.868"
      ],
      "text/latex": [
       "0.868"
      ],
      "text/markdown": [
       "0.868"
      ],
      "text/plain": [
       "[1] 0.868"
      ]
     },
     "metadata": {},
     "output_type": "display_data"
    }
   ],
   "source": [
    ".868"
   ]
  },
  {
   "cell_type": "markdown",
   "id": "6dcb57f4-465e-45ce-b5d8-703075e85fcb",
   "metadata": {},
   "source": [
    "# Week 2"
   ]
  },
  {
   "cell_type": "markdown",
   "id": "271a5afd-26df-4ad9-96ce-7ad9d65d1009",
   "metadata": {},
   "source": [
    "**Question 1**\n",
    "\n",
    "**Prompt 1**: For each of the following scenarios, answer the question with a numerical answer or a \"Yes\" or \"No\". If you do not have enough information, write \"Can't tell\". For all situations, assume $0 < P(A) < 1$ and $0 < P(B) < 1$.\n",
    "\n",
    "If $A$ and $B$ are two events such that $P(A) = 0.7$, $P(B) = 0.5$, and $P(B | A) = 0.6$, find $P(A \\cup B)$. If possible, round your answer to two decimal places.\n"
   ]
  },
  {
   "cell_type": "code",
   "execution_count": null,
   "id": "e0e0fd16-e2ea-4eb7-962c-47559cb9727d",
   "metadata": {},
   "outputs": [],
   "source": []
  },
  {
   "cell_type": "code",
   "execution_count": 49,
   "id": "439d4d1d-2a47-427e-ac08-527394d25fd0",
   "metadata": {},
   "outputs": [
    {
     "data": {
      "text/html": [
       "0.78"
      ],
      "text/latex": [
       "0.78"
      ],
      "text/markdown": [
       "0.78"
      ],
      "text/plain": [
       "[1] 0.78"
      ]
     },
     "metadata": {},
     "output_type": "display_data"
    }
   ],
   "source": [
    ".78"
   ]
  },
  {
   "cell_type": "markdown",
   "id": "c338d13d-8330-4293-b729-d44c690b775c",
   "metadata": {},
   "source": [
    "**Question 2**\n",
    "\n",
    "**Prompt 1**: For each of the following scenarios, answer the question with a numerical answer or a \"Yes\" or \"No\". If you do not have enough information, write \"Can't tell\". For all situations, assume $0 < P(A) < 1$ and $0 < P(B) < 1$.\n",
    "\n",
    "If $A$ is a subset of $B$, can $A$ and $B$ be independent? (Answer: Yes, No, or Can't tell.)\n"
   ]
  },
  {
   "cell_type": "code",
   "execution_count": null,
   "id": "7abb4f32-5b81-4901-9897-f07ffa4df855",
   "metadata": {},
   "outputs": [],
   "source": []
  },
  {
   "cell_type": "markdown",
   "id": "cbe50f07-91df-4513-96b8-59dcf2ce4ded",
   "metadata": {},
   "source": [
    "No"
   ]
  },
  {
   "cell_type": "markdown",
   "id": "9cd215f1-524c-40cb-b4ae-695d44ee647e",
   "metadata": {},
   "source": [
    "**Question 3**\n",
    "\n",
    "**Prompt 1**: For each of the following scenarios, answer the question with a numerical answer or a \"Yes\" or \"No\". If you do not have enough information, write \"Can't tell\". For all situations, assume $0 < P(A) < 1$ and $0 < P(B) < 1$.\n",
    "\n",
    "If $A$ is a subset of $B$, calculate $P(B | A)$, if you can. (If you can't, answer \"Can't tell.\")\n"
   ]
  },
  {
   "cell_type": "code",
   "execution_count": null,
   "id": "2b684ae4-b69b-4eb5-b735-a498cb282e1a",
   "metadata": {},
   "outputs": [],
   "source": []
  },
  {
   "cell_type": "code",
   "execution_count": 51,
   "id": "032a59e5-28a3-4650-b797-76a67c6c1706",
   "metadata": {},
   "outputs": [
    {
     "data": {
      "text/html": [
       "1"
      ],
      "text/latex": [
       "1"
      ],
      "text/markdown": [
       "1"
      ],
      "text/plain": [
       "[1] 1"
      ]
     },
     "metadata": {},
     "output_type": "display_data"
    }
   ],
   "source": [
    "1"
   ]
  },
  {
   "cell_type": "markdown",
   "id": "29d155b7-c6f4-4501-90b6-7aa7098fecf4",
   "metadata": {},
   "source": [
    "4.\n",
    "Question 4\n",
    "\n",
    "Prompt 1: For each of the following scenarios, answer the question with a numerical answer or a “Yes” or “No”. If you do not have enough information, write “Can’t tell”. For all situations, assume 0<P(A)<1 and 0<P(B)<1.\n",
    "\n",
    "If A is a subset of B, calculate P(A|B), if you can.  (If you can't, answer Can't tell.)"
   ]
  },
  {
   "cell_type": "code",
   "execution_count": null,
   "id": "7f6cf460-2cf6-4a24-9e97-469c9387dc6b",
   "metadata": {},
   "outputs": [],
   "source": []
  },
  {
   "cell_type": "code",
   "execution_count": null,
   "id": "366454b7-4c8b-4691-8d96-48dc04cdd872",
   "metadata": {},
   "outputs": [],
   "source": []
  },
  {
   "cell_type": "markdown",
   "id": "f0e158de-5e44-4781-ac68-93b6436d123b",
   "metadata": {},
   "source": [
    "**Question 5**\n",
    "\n",
    "**Prompt 1**: For each of the following scenarios, answer the question with a numerical answer or a \"Yes\" or \"No\". If you do not have enough information, write \"Can't tell\". For all situations, assume $0 < P(A) < 1$ and $0 < P(B) < 1$.\n",
    "\n",
    "If $P(A) = 0.8$, $P(B | A) = 0.5$ and $A$ and $B$ are dependent (not independent), then is $P(B) \\leq P(A)$?  (Answer: Yes, No, or Can't tell)\n"
   ]
  },
  {
   "cell_type": "code",
   "execution_count": null,
   "id": "612796a7-01e7-4c4c-a97d-12409efef538",
   "metadata": {},
   "outputs": [],
   "source": []
  },
  {
   "cell_type": "markdown",
   "id": "a3417cc3-30c6-497a-b8a3-1a6c2659469d",
   "metadata": {},
   "source": [
    "Yes"
   ]
  },
  {
   "cell_type": "markdown",
   "id": "050e7893-830d-49bf-8e05-e91bc969c626",
   "metadata": {},
   "source": [
    "**Question 6**\n",
    "\n",
    "**Prompt 2**: An unfair coin is flipped four times. The probability of a heads is $0.6$ and the probability of a tails is $0.4$. Every flip is independent of every other flip.\n",
    "\n",
    "Find the probability of getting exactly 2 heads and 2 tails. Round your answer to four decimal places.\n"
   ]
  },
  {
   "cell_type": "code",
   "execution_count": null,
   "id": "097a1f24-fc9c-4c6f-8f95-02ddb297ea2a",
   "metadata": {},
   "outputs": [],
   "source": []
  },
  {
   "cell_type": "code",
   "execution_count": 52,
   "id": "eadb20fd-ecf8-4af9-b41e-05c46fdea852",
   "metadata": {},
   "outputs": [
    {
     "data": {
      "text/html": [
       "0.3456"
      ],
      "text/latex": [
       "0.3456"
      ],
      "text/markdown": [
       "0.3456"
      ],
      "text/plain": [
       "[1] 0.3456"
      ]
     },
     "metadata": {},
     "output_type": "display_data"
    }
   ],
   "source": [
    ".3456"
   ]
  },
  {
   "cell_type": "code",
   "execution_count": 7,
   "id": "434f8757-2ce5-46c1-a373-1e2737a754f2",
   "metadata": {},
   "outputs": [
    {
     "data": {
      "text/html": [
       "0.3456"
      ],
      "text/latex": [
       "0.3456"
      ],
      "text/markdown": [
       "0.3456"
      ],
      "text/plain": [
       "[1] 0.3456"
      ]
     },
     "metadata": {},
     "output_type": "display_data"
    }
   ],
   "source": [
    "# Re-calculating due to session reset\n",
    "\n",
    "# Given values\n",
    "n = 4  # number of flips\n",
    "k = 2  # number of heads\n",
    "p_heads = 0.6  # probability of heads\n",
    "p_tails = 0.4  # probability of tails\n",
    "\n",
    "# Import comb from math for binomial coefficient calculation\n",
    "\n",
    "# Calculating the binomial probability for exactly 2 heads\n",
    "P_exactly_2_heads = choose(n, k) * (p_heads ** k) * (p_tails ** (n - k))\n",
    "round(P_exactly_2_heads, 4)\n"
   ]
  },
  {
   "cell_type": "markdown",
   "id": "69011696-fbeb-4857-afbe-cca28f1203f1",
   "metadata": {},
   "source": [
    "**Question 7**\n",
    "\n",
    "**Prompt 2**: An unfair coin is flipped four times. The probability of a head is $0.6$ and the probability of a tail is $0.4$. Every flip is independent of every other flip.\n",
    "\n",
    "Find the probability of getting exactly 2 heads and 2 tails given that the first coin flip was a head. Round your answer to three decimal places.\n"
   ]
  },
  {
   "cell_type": "code",
   "execution_count": null,
   "id": "67a6ef28-903e-4e29-968f-295b502e9375",
   "metadata": {},
   "outputs": [],
   "source": []
  },
  {
   "cell_type": "code",
   "execution_count": 53,
   "id": "e52de86e-7a3b-4a37-947e-62f15866aacc",
   "metadata": {},
   "outputs": [
    {
     "data": {
      "text/html": [
       "0.288"
      ],
      "text/latex": [
       "0.288"
      ],
      "text/markdown": [
       "0.288"
      ],
      "text/plain": [
       "[1] 0.288"
      ]
     },
     "metadata": {},
     "output_type": "display_data"
    }
   ],
   "source": [
    ".288"
   ]
  },
  {
   "cell_type": "code",
   "execution_count": 9,
   "id": "07a04bef-621e-4ec3-88bd-7aacadb2619b",
   "metadata": {},
   "outputs": [
    {
     "data": {
      "text/html": [
       "0.288"
      ],
      "text/latex": [
       "0.288"
      ],
      "text/markdown": [
       "0.288"
      ],
      "text/plain": [
       "[1] 0.288"
      ]
     },
     "metadata": {},
     "output_type": "display_data"
    }
   ],
   "source": [
    "# Given values for the remaining flips\n",
    "n_remaining = 3  # number of remaining flips\n",
    "k_required_heads = 1  # number of heads needed in the remaining flips\n",
    "\n",
    "# Calculating the binomial probability for exactly 1 head in 3 flips\n",
    "P_1_head_in_3_flips = choose(n_remaining, k_required_heads) * (p_heads ** k_required_heads) * (p_tails ** (n_remaining - k_required_heads))\n",
    "round(P_1_head_in_3_flips, 3)\n"
   ]
  },
  {
   "cell_type": "markdown",
   "id": "222e3622-bc00-448b-a40d-179566f12941",
   "metadata": {},
   "source": [
    "**Question 8**\n",
    "\n",
    "**Prompt 3**: 70% of the light aircraft that disappear while in flight in a certain country are subsequently found. Of the aircraft that are found, 60% have an emergency locator, whereas only 10% of the aircraft not found have such a locator. Suppose a light aircraft has disappeared.\n",
    "\n",
    "If the aircraft has an emergency locator, what is the probability that it will not be found? Round your answer to three decimal places.\n"
   ]
  },
  {
   "cell_type": "code",
   "execution_count": null,
   "id": "a122288a-27a9-4b1a-ae65-a00e015c733f",
   "metadata": {},
   "outputs": [],
   "source": []
  },
  {
   "cell_type": "code",
   "execution_count": 54,
   "id": "03260f82-cd78-4567-a5ca-1d8e91bcfc3a",
   "metadata": {},
   "outputs": [
    {
     "data": {
      "text/html": [
       "0.067"
      ],
      "text/latex": [
       "0.067"
      ],
      "text/markdown": [
       "0.067"
      ],
      "text/plain": [
       "[1] 0.067"
      ]
     },
     "metadata": {},
     "output_type": "display_data"
    }
   ],
   "source": [
    ".067"
   ]
  },
  {
   "cell_type": "code",
   "execution_count": 11,
   "id": "a84d323e-df3c-4961-b304-dc5d64c7b5f7",
   "metadata": {},
   "outputs": [
    {
     "data": {
      "text/html": [
       "0.067"
      ],
      "text/latex": [
       "0.067"
      ],
      "text/markdown": [
       "0.067"
      ],
      "text/plain": [
       "[1] 0.067"
      ]
     },
     "metadata": {},
     "output_type": "display_data"
    }
   ],
   "source": [
    "# Given probabilities\n",
    "P_F = 0.7\n",
    "P_Fc = 1 - P_F  # Probability the aircraft is not found\n",
    "P_L_given_F = 0.6\n",
    "P_L_given_Fc = 0.1\n",
    "\n",
    "# Calculate P(L), the total probability of having a locator\n",
    "P_L = P_L_given_F * P_F + P_L_given_Fc * P_Fc\n",
    "\n",
    "# Calculate P(F^c | L) using Bayes' Theorem\n",
    "P_Fc_given_L = (P_L_given_Fc * P_Fc) / P_L\n",
    "\n",
    "round(P_Fc_given_L, 3)\n"
   ]
  },
  {
   "cell_type": "markdown",
   "id": "261ced43-e520-489c-8820-399d29b2d122",
   "metadata": {},
   "source": [
    "**Question 9**\n",
    "\n",
    "**Prompt 3**: 70% of the light aircraft that disappear while in flight in a certain country are subsequently found. Of the aircraft that are found, 60% have an emergency locator, whereas only 10% of the aircraft not found have such a locator. Suppose a light aircraft has disappeared.\n",
    "\n",
    "Are the two events $L$ (the plane has a locator) and $F$ (the plane is found) independent?\n"
   ]
  },
  {
   "cell_type": "code",
   "execution_count": null,
   "id": "ac6c17d1-51a9-406b-95b9-63fa0477c40f",
   "metadata": {},
   "outputs": [],
   "source": []
  },
  {
   "cell_type": "markdown",
   "id": "9d1f3d89-a345-4cc5-b511-09710ec790ed",
   "metadata": {},
   "source": [
    ".067"
   ]
  },
  {
   "cell_type": "markdown",
   "id": "c148b6e1-be74-443a-b396-43dd39bd85e3",
   "metadata": {},
   "source": [
    "**Answer to Question 9**\n",
    "\n",
    "No, since $P(L \\cap F) = P(L | F)P(F) = 0.42 \\neq P(L)P(F) = (0.45)(0.7)$. \n",
    "\n",
    "This calculation demonstrates that the probability of the plane having a locator and being found is not equal to the product of the probabilities of having a locator and being found separately, indicating that the events are not independent.\n"
   ]
  },
  {
   "cell_type": "code",
   "execution_count": 12,
   "id": "2aaa9188-ccdf-4500-9ca0-e0351485059b",
   "metadata": {},
   "outputs": [
    {
     "data": {
      "text/html": [
       "0.067"
      ],
      "text/latex": [
       "0.067"
      ],
      "text/markdown": [
       "0.067"
      ],
      "text/plain": [
       "[1] 0.067"
      ]
     },
     "metadata": {},
     "output_type": "display_data"
    }
   ],
   "source": [
    "# Given probabilities\n",
    "P_F = 0.7\n",
    "P_Fc = 1 - P_F  # Probability the aircraft is not found\n",
    "P_L_given_F = 0.6\n",
    "P_L_given_Fc = 0.1\n",
    "\n",
    "# Calculate P(L), the total probability of having a locator\n",
    "P_L = P_L_given_F * P_F + P_L_given_Fc * P_Fc\n",
    "\n",
    "# Calculate P(F^c | L) using Bayes' Theorem\n",
    "P_Fc_given_L = (P_L_given_Fc * P_Fc) / P_L\n",
    "\n",
    "round(P_Fc_given_L, 3)\n"
   ]
  },
  {
   "cell_type": "markdown",
   "id": "0e132ed0-52be-4c65-aecf-0d3a96a82d1d",
   "metadata": {},
   "source": [
    "---"
   ]
  },
  {
   "cell_type": "markdown",
   "id": "1a1d978c-0441-4814-b40a-5662417bce74",
   "metadata": {},
   "source": [
    "# Week 3"
   ]
  },
  {
   "cell_type": "markdown",
   "id": "ff187cd0-7a4b-4a40-99cc-9b06a6aeaf2c",
   "metadata": {},
   "source": [
    "**Question 1**\n",
    "\n",
    "**Prompt 1**: A critical system has 55 different components, each of which works with probability $0.90$. Assume each component works independently of the others. Let $X$ be the number of components that are working.\n",
    "\n",
    "Find $P(X = 2)$. Round your answer to four decimal places.\n"
   ]
  },
  {
   "cell_type": "code",
   "execution_count": null,
   "id": "9174e245-a947-4cf1-becb-1d7d96ff6cf7",
   "metadata": {},
   "outputs": [],
   "source": []
  },
  {
   "cell_type": "code",
   "execution_count": 2,
   "id": "dd045c4f-4c94-4033-aeb4-0612c803d520",
   "metadata": {},
   "outputs": [
    {
     "data": {
      "text/html": [
       "0.0081"
      ],
      "text/latex": [
       "0.0081"
      ],
      "text/markdown": [
       "0.0081"
      ],
      "text/plain": [
       "[1] 0.0081"
      ]
     },
     "metadata": {},
     "output_type": "display_data"
    }
   ],
   "source": [
    "0.0081"
   ]
  },
  {
   "cell_type": "markdown",
   "id": "833df9ac-258f-4f1f-b1c1-9444313dd770",
   "metadata": {},
   "source": [
    "**Question 2**\n",
    "\n",
    "**Prompt 1**: A critical system has 55 different components, each of which works with probability $0.90$. Assume each component works independently of the others. Let $X$ be the number of components that are working.\n",
    "\n",
    "Find $E(X)$.\n"
   ]
  },
  {
   "cell_type": "code",
   "execution_count": null,
   "id": "5473fd11-012c-4d63-a7ba-908293c0b20f",
   "metadata": {},
   "outputs": [],
   "source": []
  },
  {
   "cell_type": "code",
   "execution_count": 56,
   "id": "4e785df6-18b5-4a92-8042-6cb53220de1a",
   "metadata": {},
   "outputs": [
    {
     "data": {
      "text/html": [
       "4.5"
      ],
      "text/latex": [
       "4.5"
      ],
      "text/markdown": [
       "4.5"
      ],
      "text/plain": [
       "[1] 4.5"
      ]
     },
     "metadata": {},
     "output_type": "display_data"
    }
   ],
   "source": [
    "4.5"
   ]
  },
  {
   "cell_type": "markdown",
   "id": "0911d4d9-8293-4885-8d40-2a24d8eeb952",
   "metadata": {},
   "source": [
    "**Question 3**\n",
    "\n",
    "**Prompt 1**: A critical system has 55 different components, each of which works with probability $0.90$. Assume each component works independently of the others. Let $X$ be the number of components that are working.\n",
    "\n",
    "Find $V(X)$. Round your answer to two decimal places.\n",
    "\n"
   ]
  },
  {
   "cell_type": "code",
   "execution_count": null,
   "id": "9d86f531-0a98-4f6a-9e2f-26bf30091d2b",
   "metadata": {},
   "outputs": [],
   "source": []
  },
  {
   "cell_type": "code",
   "execution_count": 57,
   "id": "b6c2a27c-80f0-4449-84ae-93cb9a5846a7",
   "metadata": {},
   "outputs": [
    {
     "data": {
      "text/html": [
       "0.45"
      ],
      "text/latex": [
       "0.45"
      ],
      "text/markdown": [
       "0.45"
      ],
      "text/plain": [
       "[1] 0.45"
      ]
     },
     "metadata": {},
     "output_type": "display_data"
    }
   ],
   "source": [
    ".45"
   ]
  },
  {
   "cell_type": "markdown",
   "id": "a70e0ded-73a8-454d-866e-6f5ab296964d",
   "metadata": {},
   "source": [
    "**Question 4**\n",
    "\n",
    "**Prompt 2**: A certain type of item produced by a factory has a 6% chance of being defective. Draw a random sample until you get the first defective. Let $X$ be the number of items that are drawn.\n",
    "\n",
    "Find $P(X = 2)$. Round your answer to four decimal places.\n"
   ]
  },
  {
   "cell_type": "code",
   "execution_count": null,
   "id": "157b293f-b40e-4d18-824d-af4979cd09ff",
   "metadata": {},
   "outputs": [],
   "source": []
  },
  {
   "cell_type": "code",
   "execution_count": 58,
   "id": "443a2c19-4fc0-4e3c-8ddd-72bbdf1857c4",
   "metadata": {},
   "outputs": [
    {
     "data": {
      "text/html": [
       "0.0564"
      ],
      "text/latex": [
       "0.0564"
      ],
      "text/markdown": [
       "0.0564"
      ],
      "text/plain": [
       "[1] 0.0564"
      ]
     },
     "metadata": {},
     "output_type": "display_data"
    }
   ],
   "source": [
    "0.0564"
   ]
  },
  {
   "cell_type": "markdown",
   "id": "f6085b26-74cc-456b-b297-cf89e6524635",
   "metadata": {},
   "source": [
    "**Question 5**\n",
    "\n",
    "**Prompt 2**: A certain type of item produced by a factory has a 6% chance of being defective. Draw a random sample until you get the first defective. Let $X$ be the number of items that are drawn.\n",
    "\n",
    "Find $E(X)$. Round your answer to two decimal places.\n"
   ]
  },
  {
   "cell_type": "code",
   "execution_count": null,
   "id": "f720ed50-7816-4a46-8fcc-370bfa70b39b",
   "metadata": {},
   "outputs": [],
   "source": []
  },
  {
   "cell_type": "code",
   "execution_count": 59,
   "id": "9a446af4-f16f-43c7-bddc-70e97fc04188",
   "metadata": {},
   "outputs": [
    {
     "data": {
      "text/html": [
       "16.67"
      ],
      "text/latex": [
       "16.67"
      ],
      "text/markdown": [
       "16.67"
      ],
      "text/plain": [
       "[1] 16.67"
      ]
     },
     "metadata": {},
     "output_type": "display_data"
    }
   ],
   "source": [
    "16.67"
   ]
  },
  {
   "cell_type": "markdown",
   "id": "57b859e6-e18b-46d1-8d7c-b96207134e84",
   "metadata": {},
   "source": [
    "**Question 6**\n",
    "\n",
    "**Prompt 2**: A certain type of item produced by a factory has a 6% chance of being defective. Draw a random sample until you get the first defective. Let $X$ be the number of items that are drawn.\n",
    "\n",
    "Find $V(X)$. Round your answer to two decimal places.\n"
   ]
  },
  {
   "cell_type": "code",
   "execution_count": null,
   "id": "63bb28ef-d532-4656-bbf4-d26ba87e4195",
   "metadata": {},
   "outputs": [],
   "source": []
  },
  {
   "cell_type": "code",
   "execution_count": 60,
   "id": "d5bdef86-ce56-4944-9f3f-d620e6b48e5e",
   "metadata": {},
   "outputs": [
    {
     "data": {
      "text/html": [
       "261.11"
      ],
      "text/latex": [
       "261.11"
      ],
      "text/markdown": [
       "261.11"
      ],
      "text/plain": [
       "[1] 261.11"
      ]
     },
     "metadata": {},
     "output_type": "display_data"
    }
   ],
   "source": [
    "261.11"
   ]
  },
  {
   "cell_type": "markdown",
   "id": "92aa75a1-ad36-43ad-9e20-6b1f4af8c78a",
   "metadata": {},
   "source": [
    "**Question 7**\n",
    "\n",
    "**Prompt 3**: A certain system can experience three different types of defects. Let $A_i$, $i = 1, 2, 3$ be the event that the system has a defect of type $i$. Suppose that $P(A_1)=0.17$, $P(A_2)=0.07$, $P(A_3)=0.13$, $P(A_1 \\cup A_2)=0.18$, $P(A_2 \\cup A_3)=0.18$, $P(A_1 \\cup A_3)=0.19$, and $P(A_1 \\cap A_2 \\cap A_3)=0.01$. Let the random variable $X$ be the number of defects that are present.\n",
    "\n",
    "Calculate $P(X=0)$.\n",
    " "
   ]
  },
  {
   "cell_type": "code",
   "execution_count": null,
   "id": "47aeb085-a641-454c-ad7b-0c5ce8f26d6a",
   "metadata": {},
   "outputs": [],
   "source": []
  },
  {
   "cell_type": "code",
   "execution_count": 3,
   "id": "74a2ffe5-b9fd-4229-aeaf-dd361a289bfa",
   "metadata": {},
   "outputs": [
    {
     "data": {
      "text/html": [
       "0.81"
      ],
      "text/latex": [
       "0.81"
      ],
      "text/markdown": [
       "0.81"
      ],
      "text/plain": [
       "[1] 0.81"
      ]
     },
     "metadata": {},
     "output_type": "display_data"
    }
   ],
   "source": [
    "0.81"
   ]
  },
  {
   "cell_type": "markdown",
   "id": "29157cdb-17b0-4622-b5e6-a884c0023fd5",
   "metadata": {},
   "source": [
    "**Question 8**\n",
    "\n",
    "**Prompt 3**: A certain system can experience three different types of defects. Let $A_i$, $i=1, 2, 3$ be the event that the system has a defect of type $i$. Suppose that $P(A_1) = 0.17$, $P(A_2) = 0.07$, $P(A_3) = 0.13$, $P(A_1 \\cup A_2) = 0.18$, $P(A_2 \\cup A_3) = 0.18$, $P(A_1 \\cup A_3) = 0.19$, and $P(A_1 \\cap A_2 \\cap A_3) = 0.01$. Let the random variable $X$ be the number of defects that are present.\n",
    "\n",
    "Calculate $P(X=1)$.\n"
   ]
  },
  {
   "cell_type": "code",
   "execution_count": null,
   "id": "295e7b42-2c8b-4322-9c33-2b41422c6c2e",
   "metadata": {},
   "outputs": [],
   "source": []
  },
  {
   "cell_type": "code",
   "execution_count": 62,
   "id": "4e68bb22-8955-41bd-83df-1e17d0f9cc2e",
   "metadata": {},
   "outputs": [
    {
     "data": {
      "text/html": [
       "0.02"
      ],
      "text/latex": [
       "0.02"
      ],
      "text/markdown": [
       "0.02"
      ],
      "text/plain": [
       "[1] 0.02"
      ]
     },
     "metadata": {},
     "output_type": "display_data"
    }
   ],
   "source": [
    "0.02"
   ]
  },
  {
   "cell_type": "markdown",
   "id": "cc7c163d-b4ad-439b-82f3-0c62c6d10a65",
   "metadata": {},
   "source": [
    "**Question 9**\n",
    "\n",
    "**Prompt 3**: A certain system can experience three different types of defects. Let $A_i$, $i = 1, 2, 3$ be the event that the system has a defect of type $i$. Suppose that $P(A_1) = 0.17$, $P(A_2) = 0.07$, $P(A_3) = 0.13$, $P(A_1 \\cup A_2) = 0.18$, $P(A_2 \\cup A_3) = 0.18$, $P(A_1 \\cup A_3) = 0.19$, and $P(A_1 \\cap A_2 \\cap A_3) = 0.01$. Let the random variable $X$ be the number of defects that are present.\n",
    "\n",
    "Calculate $P(X = 2)$.\n"
   ]
  },
  {
   "cell_type": "code",
   "execution_count": null,
   "id": "1ef160a3-4171-4039-b750-540bed069eae",
   "metadata": {},
   "outputs": [],
   "source": []
  },
  {
   "cell_type": "code",
   "execution_count": 63,
   "id": "8c90397f-9eb6-4046-8619-ed22b09a3a81",
   "metadata": {},
   "outputs": [
    {
     "data": {
      "text/html": [
       "0.16"
      ],
      "text/latex": [
       "0.16"
      ],
      "text/markdown": [
       "0.16"
      ],
      "text/plain": [
       "[1] 0.16"
      ]
     },
     "metadata": {},
     "output_type": "display_data"
    }
   ],
   "source": [
    "0.16"
   ]
  },
  {
   "cell_type": "markdown",
   "id": "6337063f-be4c-4d87-9636-6a8c37f63d5d",
   "metadata": {},
   "source": [
    "**Question 10**\n",
    "\n",
    "**Prompt 3**: A certain system can experience three different types of defects. Let $A_i$, $i=1, 2, 3$ be the event that the system has a defect of type $i$. Suppose that $P(A_1) = 0.17$, $P(A_2) = 0.07$, $P(A_3) = 0.13$, $P(A_1 \\cup A_2) = 0.18$, $P(A_2 \\cup A_3) = 0.18$, $P(A_1 \\cup A_3) = 0.19$, and $P(A_1 \\cap A_2 \\cap A_3) = 0.01$. Let the random variable $X$ be the number of defects that are present.\n",
    "\n",
    "Calculate $P(X = 3)$.\n"
   ]
  },
  {
   "cell_type": "code",
   "execution_count": null,
   "id": "fd0f419d-25da-4171-90e2-3ed595bcda9d",
   "metadata": {},
   "outputs": [],
   "source": []
  },
  {
   "cell_type": "code",
   "execution_count": 64,
   "id": "0b8938be-9153-4a33-abcf-6d1f68cbbc5d",
   "metadata": {},
   "outputs": [
    {
     "data": {
      "text/html": [
       "0.01"
      ],
      "text/latex": [
       "0.01"
      ],
      "text/markdown": [
       "0.01"
      ],
      "text/plain": [
       "[1] 0.01"
      ]
     },
     "metadata": {},
     "output_type": "display_data"
    }
   ],
   "source": [
    "0.01"
   ]
  },
  {
   "cell_type": "markdown",
   "id": "d90e18d7-dcee-4fb5-aed3-dd994169caa8",
   "metadata": {},
   "source": [
    "**Question 11**\n",
    "\n",
    "**Prompt 3**: A certain system can experience three different types of defects. Let $A_i$, $i = 1, 2, 3$ be the event that the system has a defect of type $i$. Suppose that $P(A_1) = 0.17$, $P(A_2) = 0.07$, $P(A_3) = 0.13$, $P(A_1 \\cup A_2) = 0.18$, $P(A_2 \\cup A_3) = 0.18$, $P(A_1 \\cup A_3) = 0.19$, and $P(A_1 \\cap A_2 \\cap A_3) = 0.01$. Let the random variable $X$ be the number of defects that are present.\n",
    "\n",
    "Find $E(X)$.\n"
   ]
  },
  {
   "cell_type": "code",
   "execution_count": null,
   "id": "27287957-5fd4-410b-818c-317e01b25cfe",
   "metadata": {},
   "outputs": [],
   "source": []
  },
  {
   "cell_type": "code",
   "execution_count": 65,
   "id": "5a67bab1-71ee-4c95-a75f-fff5dd046f91",
   "metadata": {},
   "outputs": [
    {
     "data": {
      "text/html": [
       "0.37"
      ],
      "text/latex": [
       "0.37"
      ],
      "text/markdown": [
       "0.37"
      ],
      "text/plain": [
       "[1] 0.37"
      ]
     },
     "metadata": {},
     "output_type": "display_data"
    }
   ],
   "source": [
    "0.37"
   ]
  },
  {
   "cell_type": "markdown",
   "id": "4919b55b-d975-470b-bcea-0303ea9d8c99",
   "metadata": {},
   "source": [
    "**Question 12**\n",
    "\n",
    "**Prompt 3**: A certain system can experience three different types of defects. Let $A_i$, $i = 1, 2, 3$ be the event that the system has a defect of type $i$. Suppose that $P(A_1) = 0.17$, $P(A_2) = 0.07$, $P(A_3) = 0.13$, $P(A_1 \\cup A_2) = 0.18$, $P(A_2 \\cup A_3) = 0.18$, $P(A_1 \\cup A_3) = 0.19$, and $P(A_1 \\cap A_2 \\cap A_3) = 0.01$. Let the random variable $X$ be the number of defects that are present.\n",
    "\n",
    "Find $V(X)$. Give your answer to four decimal places.\n"
   ]
  },
  {
   "cell_type": "code",
   "execution_count": null,
   "id": "5c186122-2407-400a-b49e-a1607d4c4685",
   "metadata": {},
   "outputs": [],
   "source": []
  },
  {
   "cell_type": "code",
   "execution_count": 66,
   "id": "4e027bb9-b083-4ab1-a95e-c909b1878a44",
   "metadata": {},
   "outputs": [
    {
     "data": {
      "text/html": [
       "0.6131"
      ],
      "text/latex": [
       "0.6131"
      ],
      "text/markdown": [
       "0.6131"
      ],
      "text/plain": [
       "[1] 0.6131"
      ]
     },
     "metadata": {},
     "output_type": "display_data"
    }
   ],
   "source": [
    ".6131"
   ]
  },
  {
   "cell_type": "markdown",
   "id": "830c506e-5ab7-4767-938a-170790c1a40e",
   "metadata": {},
   "source": [
    "**Question 13**\n",
    "\n",
    "**Prompt 3**: A certain system can experience three different types of defects. Let $A_i$, $i = 1, 2, 3$ be the event that the system has a defect of type $i$. Suppose that $P(A_1) = 0.17$, $P(A_2) = 0.07$, $P(A_3) = 0.13$, $P(A_1 \\cup A_2) = 0.18$, $P(A_2 \\cup A_3) = 0.18$, $P(A_1 \\cup A_3) = 0.19$, and $P(A_1 \\cap A_2 \\cap A_3) = 0.01$. Let the random variable $X$ be the number of defects that are present.\n",
    "\n",
    "Find $\\sigma$, the standard deviation of $X$. Round your answer to three decimal places.\n"
   ]
  },
  {
   "cell_type": "code",
   "execution_count": null,
   "id": "94c439fb-3dce-4501-ab04-9187e56cc514",
   "metadata": {},
   "outputs": [],
   "source": []
  },
  {
   "cell_type": "code",
   "execution_count": 67,
   "id": "05ec4954-669f-4fbf-97e1-c77e4613358d",
   "metadata": {},
   "outputs": [
    {
     "data": {
      "text/html": [
       "0.783"
      ],
      "text/latex": [
       "0.783"
      ],
      "text/markdown": [
       "0.783"
      ],
      "text/plain": [
       "[1] 0.783"
      ]
     },
     "metadata": {},
     "output_type": "display_data"
    }
   ],
   "source": [
    ".783"
   ]
  },
  {
   "cell_type": "code",
   "execution_count": null,
   "id": "9a0f7abb-9bd6-4ce3-80d3-f58be36879e2",
   "metadata": {},
   "outputs": [],
   "source": []
  }
 ],
 "metadata": {
  "kernelspec": {
   "display_name": "R",
   "language": "R",
   "name": "ir"
  },
  "language_info": {
   "codemirror_mode": "r",
   "file_extension": ".r",
   "mimetype": "text/x-r-source",
   "name": "R",
   "pygments_lexer": "r",
   "version": "4.3.1"
  }
 },
 "nbformat": 4,
 "nbformat_minor": 5
}
