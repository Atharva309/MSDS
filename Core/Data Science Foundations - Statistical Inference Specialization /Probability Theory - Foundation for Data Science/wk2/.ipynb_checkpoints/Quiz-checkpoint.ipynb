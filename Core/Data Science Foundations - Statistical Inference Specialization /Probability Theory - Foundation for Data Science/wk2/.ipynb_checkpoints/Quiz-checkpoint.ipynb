{
 "cells": [
  {
   "cell_type": "markdown",
   "id": "066f1745",
   "metadata": {},
   "source": [
    "## Question 1\n",
    "\n",
    "#### Prompt 1: For each of the following scenarios, answer the question with a numerical answer or a “Yes” or “No”. If you do not have enough information, write “Can’t tell”. For all situations, assume  0 < P(A) < 1  and 0 < P(B) < 1.\n",
    "\n",
    "#### If A and B are two events such that P(A)=0.7, P(B)=0.5, and P(B∣A)=0.6, find P(A∪B). If possible, round your answer to two decimal places."
   ]
  },
  {
   "cell_type": "markdown",
   "id": "5f842671",
   "metadata": {},
   "source": [
    "## Answer: .78\n"
   ]
  },
  {
   "cell_type": "markdown",
   "id": "7535fd03",
   "metadata": {},
   "source": [
    "---\n",
    "\n"
   ]
  },
  {
   "cell_type": "markdown",
   "id": "6d46da30",
   "metadata": {},
   "source": [
    "## Question 2. \n",
    "\n",
    "#### For each of the following scenarios, answer the question with a numerical answer or a “Yes” or “No”. If you do not have enough information, write “Can’t tell”. For all situations, assume 0<P(A)<1 and 0<P(B)<1.\n",
    "\n",
    "#### If A is a subset of B, can A and B be independent? (Answer Yes, No, or Can't tell.)"
   ]
  },
  {
   "cell_type": "markdown",
   "id": "dad6fa9f",
   "metadata": {},
   "source": [
    "## Answer: No"
   ]
  },
  {
   "cell_type": "markdown",
   "id": "d83892b2",
   "metadata": {},
   "source": [
    "----"
   ]
  },
  {
   "cell_type": "markdown",
   "id": "484edd5f",
   "metadata": {},
   "source": [
    "## Question 3."
   ]
  },
  {
   "cell_type": "markdown",
   "id": "3df63ffe",
   "metadata": {},
   "source": [
    "#### For each of the following scenarios, answer the question with a numerical answer or a “Yes” or “No”. If you do not have enough information, write “Can’t tell”. For all situations, assume 0<P(A)<1 and 0<P(B)<1.\n",
    "\n",
    "#### If A is a subset of B, calculate P(B|A), if you can.  (If you can't, answer Can't tell.)"
   ]
  },
  {
   "cell_type": "markdown",
   "id": "5e8bcfa4",
   "metadata": {},
   "source": [
    "## Answer: 1"
   ]
  },
  {
   "cell_type": "markdown",
   "id": "4570046b",
   "metadata": {},
   "source": [
    "---"
   ]
  },
  {
   "cell_type": "markdown",
   "id": "f2d5f689",
   "metadata": {},
   "source": [
    "## Question 4."
   ]
  },
  {
   "cell_type": "markdown",
   "id": "0b9184da",
   "metadata": {},
   "source": [
    "#### For each of the following scenarios, answer the question with a numerical answer or a “Yes” or “No”. If you do not have enough information, write “Can’t tell”. For all situations, assume 0<P(A)<1 and 0<P(B)<1.\n",
    "\n",
    "#### If A is a subset of B, calculate P(A|B), if you can.  (If you can't, answer Can't tell."
   ]
  },
  {
   "cell_type": "markdown",
   "id": "9c9ee7e3",
   "metadata": {},
   "source": []
  },
  {
   "cell_type": "markdown",
   "id": "da61361b",
   "metadata": {},
   "source": [
    "---"
   ]
  },
  {
   "cell_type": "markdown",
   "id": "95f7f3b4",
   "metadata": {},
   "source": [
    "## Question 5."
   ]
  },
  {
   "cell_type": "markdown",
   "id": "96c34a34",
   "metadata": {},
   "source": [
    "#### For each of the following scenarios, answer the question with a numerical answer or a “Yes” or “No”. If you do not have enough information, write “Can’t tell”. For all situations, assume 0<P(A)<1 and 0<P(B)<1.\n",
    "\n",
    "#### If P(A) = 0.8, P(B|A) = 0.5 and A and B are dependent (not independent), then is P(B) ≤ P(A)?  (Answer Yes, No, or Can't tell)"
   ]
  },
  {
   "cell_type": "markdown",
   "id": "c47ce7fb",
   "metadata": {},
   "source": [
    "## Answer: Yes"
   ]
  },
  {
   "cell_type": "markdown",
   "id": "7f8236b6",
   "metadata": {},
   "source": [
    "---"
   ]
  },
  {
   "cell_type": "markdown",
   "id": "b3e97adb",
   "metadata": {},
   "source": [
    "## Question 6."
   ]
  },
  {
   "cell_type": "markdown",
   "id": "19d48b88",
   "metadata": {},
   "source": [
    "#### An unfair coin is flipped four times. The probability of a heads is 0.6 and the probability of a tails is 0.4. Every flip is independent of every other flip.\n",
    "\n",
    "#### Find the probability of getting exactly 2 heads and 2 tails. Round your answer to four decimal places"
   ]
  },
  {
   "cell_type": "markdown",
   "id": "79bd767e",
   "metadata": {},
   "source": []
  },
  {
   "cell_type": "markdown",
   "id": "757e88fa",
   "metadata": {},
   "source": [
    "----"
   ]
  },
  {
   "cell_type": "markdown",
   "id": "7b10db9f",
   "metadata": {},
   "source": [
    "## Question 7."
   ]
  },
  {
   "cell_type": "markdown",
   "id": "0a4046a3",
   "metadata": {},
   "source": [
    "#### An unfair coin is flipped four times. The probability of a heads is 0.6 and the probability of a tails is 0.4. Every flip is independent of every other flip.\n",
    "\n",
    "#### Find the probability of getting exactly 2 heads and 2 tails given that the first coin flip was a head. Round your answer to three decimal places."
   ]
  },
  {
   "cell_type": "markdown",
   "id": "a522ca27",
   "metadata": {},
   "source": [
    "## Answer: .288"
   ]
  },
  {
   "cell_type": "markdown",
   "id": "66d732d7",
   "metadata": {},
   "source": [
    "----"
   ]
  },
  {
   "cell_type": "markdown",
   "id": "e2e936e1",
   "metadata": {},
   "source": [
    "## Question 8. "
   ]
  },
  {
   "cell_type": "markdown",
   "id": "bd4133da",
   "metadata": {},
   "source": [
    "#### 70% of the light aircraft that disappear while in flight in a certain country are subsequently found. Of the aircraft that are found, 60% have an emergency locator, whereas only 10% of the aircraft not found have such a locator. Suppose a light aircraft has disappeared.\n",
    "\n",
    "#### If the aircraft has an emergency locator, what is the probability that it will not be found? Round your answer to three decimal places"
   ]
  },
  {
   "cell_type": "markdown",
   "id": "86b0b1e6",
   "metadata": {},
   "source": [
    "## Answer: .067"
   ]
  },
  {
   "cell_type": "markdown",
   "id": "6086e2bb",
   "metadata": {},
   "source": [
    "----"
   ]
  },
  {
   "cell_type": "markdown",
   "id": "65832eba",
   "metadata": {},
   "source": [
    "## Question 9."
   ]
  },
  {
   "cell_type": "markdown",
   "id": "3d8dbcdd",
   "metadata": {},
   "source": [
    "#### 70% of the light aircraft that disappear while in flight in a certain country are subsequently found. Of the aircraft that are found, 60% have an emergency locator, whereas only 10% of the aircraft not found have such a locator. Suppose a light aircraft has disappeared.\n",
    "\n",
    "#### Are the two events L=L=the plane has a locator and F=the plane is found independent?"
   ]
  },
  {
   "cell_type": "markdown",
   "id": "78ba9a44",
   "metadata": {},
   "source": [
    "## Answer: No"
   ]
  },
  {
   "cell_type": "code",
   "execution_count": null,
   "id": "97a99502",
   "metadata": {},
   "outputs": [],
   "source": []
  }
 ],
 "metadata": {
  "kernelspec": {
   "display_name": "R",
   "language": "R",
   "name": "ir"
  },
  "language_info": {
   "codemirror_mode": "r",
   "file_extension": ".r",
   "mimetype": "text/x-r-source",
   "name": "R",
   "pygments_lexer": "r",
   "version": "4.2.1"
  }
 },
 "nbformat": 4,
 "nbformat_minor": 5
}
