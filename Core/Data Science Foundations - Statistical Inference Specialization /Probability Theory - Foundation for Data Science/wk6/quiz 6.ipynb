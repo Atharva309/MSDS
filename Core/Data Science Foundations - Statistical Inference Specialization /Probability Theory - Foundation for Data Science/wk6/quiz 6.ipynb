{
 "cells": [
  {
   "cell_type": "markdown",
   "id": "e0ce6b4b",
   "metadata": {},
   "source": [
    "## Question 1."
   ]
  },
  {
   "cell_type": "markdown",
   "id": "7cd97665",
   "metadata": {},
   "source": [
    "#### Suppose 30 numbers are selected at random from the interval [0,1]. That is, Xi∼U[0,1] for i=1,2,...30. Given Xˉ=(1/30)∑i=130Xi estimate P(0.5≤Xˉ≤0.6).  (Round your answer to three decimal places.)"
   ]
  },
  {
   "cell_type": "markdown",
   "id": "24eeef9c",
   "metadata": {},
   "source": [
    "### Answer: .471"
   ]
  },
  {
   "cell_type": "markdown",
   "id": "5f569fb4",
   "metadata": {},
   "source": [
    "----"
   ]
  },
  {
   "cell_type": "markdown",
   "id": "41c6799b",
   "metadata": {},
   "source": [
    "## Question 2."
   ]
  },
  {
   "cell_type": "markdown",
   "id": "b98fcf98",
   "metadata": {},
   "source": [
    "####  A company wants to compare the efficiency of two types of fuel for a car. 5 identical cars will be driven 500 kilometers each, two with the first type of fuel and three with the second type. Let X1​ and X2​ be the observed fuel efficiency for the first type and Y1​, Y2, and Y3​ be the efficiency for the second type. Suppose these variables are independent and Xi∼N(20,4) for i=1,2 and Yj∼N(18,9) for  j=1,2,3 Define a new random variable: W=(X1+X2)/2−(Y1+Y2+Y3)/3.\n",
    "\n",
    "#### Find E(W)"
   ]
  },
  {
   "cell_type": "markdown",
   "id": "90a3151d",
   "metadata": {},
   "source": [
    "### Answer: 2"
   ]
  },
  {
   "cell_type": "markdown",
   "id": "bb28a5a9",
   "metadata": {},
   "source": [
    "----"
   ]
  },
  {
   "cell_type": "markdown",
   "id": "47aa98a5",
   "metadata": {},
   "source": [
    "## Question 3. "
   ]
  },
  {
   "cell_type": "markdown",
   "id": "5eefadc4",
   "metadata": {},
   "source": [
    "#### A company wants to compare the efficiency of two types of fuel for a car. 55 identical cars will be driven 500500 kilometers each, two with the first type of fuel and three with the second type. Let X1X1​ and X2X2​ be the observed fuel efficiency for the first type and Y1Y1​, Y2Y2​, and Y3Y3​ be the efficiency for the second type. Suppose these variables are independent and Xi∼N(20,4)Xi​∼N(20,4) for i=1,2i=1,2  and Yj∼N(18,9)Yj​∼N(18,9) for  j=1,2,3j=1,2,3. Define a new random variable: W=(X1+X2)/2−(Y1+Y2+Y3)/3W=(X1​+X2​)/2−(Y1​+Y2​+Y3​)/3.\n",
    "\n",
    "#### Find Var(W)"
   ]
  },
  {
   "cell_type": "markdown",
   "id": "5fb944e8",
   "metadata": {},
   "source": [
    "### Answer: 5"
   ]
  },
  {
   "cell_type": "markdown",
   "id": "70ea2a5e",
   "metadata": {},
   "source": [
    "----"
   ]
  },
  {
   "cell_type": "markdown",
   "id": "f1f5f53a",
   "metadata": {},
   "source": [
    "## Question 4. "
   ]
  },
  {
   "cell_type": "markdown",
   "id": "33e04d84",
   "metadata": {},
   "source": [
    "#### A company wants to compare the efficiency of two types of fuel for a car. 5 identical cars will be driven 500 kilometers each, two with the first type of fuel and three with the second type. Let X1​ and X2​ be the observed fuel efficiency for the first type and Y1​, Y2​, and Y3​ be the efficiency for the second type. Suppose these variables are independent and Xi∼N(20,4) for i=1,2  and Yj∼N(18,9) for  j=1,2,3 Define a new random variable: W=(X1+X2)/2−(Y1+Y2+Y3)/3.\n",
    "\n",
    "#### Find P(W≥0). Round answer to four decimal places"
   ]
  },
  {
   "cell_type": "markdown",
   "id": "963aad0d",
   "metadata": {},
   "source": [
    "### Answer: .8145"
   ]
  },
  {
   "cell_type": "code",
   "execution_count": null,
   "id": "7bcda613-29f3-4641-b960-1e3c0e8e1c3e",
   "metadata": {},
   "outputs": [],
   "source": []
  },
  {
   "cell_type": "code",
   "execution_count": null,
   "id": "d7b4cd29-be50-4a13-828d-8b4c34601d87",
   "metadata": {},
   "outputs": [],
   "source": []
  }
 ],
 "metadata": {
  "kernelspec": {
   "display_name": "R",
   "language": "R",
   "name": "ir"
  },
  "language_info": {
   "codemirror_mode": "r",
   "file_extension": ".r",
   "mimetype": "text/x-r-source",
   "name": "R",
   "pygments_lexer": "r",
   "version": "4.3.1"
  }
 },
 "nbformat": 4,
 "nbformat_minor": 5
}
