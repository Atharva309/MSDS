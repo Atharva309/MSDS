{
 "cells": [
  {
   "cell_type": "markdown",
   "id": "3f59038d",
   "metadata": {},
   "source": [
    "# Sets\n",
    "\n",
    "\n",
    "We will won’t dive too deeply into set theory here (although it is interesting to note that the word ‘set’ ranks among the words with the most definitions in the English dictionary). However, the notation established in this chapter will be very common throughout the rest of the book, so it is important to familiarize yourself with it early on.\n",
    "\n",
    "\n",
    "### Sets and Subsets\n",
    "    - A ‘set’ is defined as a group of objects (i.e., sets can be made up of letters, numbers, names, etc.). A ‘subset’ is defined as a ‘set within a set’; set Ais a subset of set B if and only if every element (each object in a set is also called an element) of A is also in B.\n",
    "\n",
    "### Empty Set \n",
    "    - The set that contains nothing, denoted ∅.\n",
    "\n",
    "### Union \n",
    "    - ‘A∪B’ means, in english, ‘A union B.’ This is a shorthand way of saying A or B. This set (yes, the union of two sets is itself a set) includes objects in the set A, objects in the set B and objects in both sets A and B. Picture the union as being the entire Venn Diagram of A and B.\n",
    "\n",
    "### Intersection \n",
    "    - ‘A∩B’ means, in english, ‘A intersect B.’ This is a shorthand way of saying A and B. Picture the middle, overlapping part of the Venn Diagram of A and B.\n",
    "\n",
    "### Complement \n",
    "    - You will probably see this in two ways: Ac and ¯A both mean, in english, “A complement.” This is a shorthand way of saying when A does not occur. This set is made up of everything not in A.\n",
    "\n",
    "### Disjoint Sets \n",
    "    - Sets that do not have any overlap. You could say that the intersection of disjoint sets is the empty set (there are no elements in the intersection of two disjoint sets, which is by definition the empty set).\n",
    "\n",
    "### Partition \n",
    "    - Imagine a set A, and then imagine subsets A1,A2,A3,A4...An. If these subsets are disjoint (so they do not overlap) and cover all possible outcomes in A, they partition the set A. Consider the trivial example of partitioning in politics: for the sake of simplicity, imagine for a moment that the two major American political parties, Democrats and Republicans, are the only parties in politics. Given this simplification, we can say that D, the set of all Democrat politicians, and R, the set of all Republican politicians, partition the set of P, or all American politicians. That’s because one politician can’t be both Democrat and Republican (there’s no overlap, so the sets are disjoint) and Democrats and Republicans (in this simplified example; in real life we know that there are many other parties, although they are less popular) cover the entire set of American politicians."
   ]
  },
  {
   "cell_type": "markdown",
   "id": "c1916db9",
   "metadata": {},
   "source": [
    "# Naive Probability\n",
    "\n",
    "### Concept 1.1 (Naive Definition of Probability):\n",
    "\n",
    "The probability of an event occurring, if the likelihood of each outcome is equal, is:\n",
    "\n",
    "    P(Event)=numberoffavorableoutcomesnumberofoutcomes\n",
    "\n",
    "When we are working with probabilities, our notation will be P(A). In english, this means ‘the Probability that event A occurred.’ So, if A is the event of flipping heads in one flip of a fair coin, then P(A)=.5. The above, then, is just notating ‘the probability of an event occurring.’ We will frequently use the set notation discussed in the previous section when working with probabilities, which is why that section was placed first!\n",
    "\n",
    "###  Concept 1.2 (Multiplication Rule):\n",
    "\n",
    "To understand the Multiplication Rule, visualize a process that has multiple steps, where each step has multiple choices. "
   ]
  },
  {
   "cell_type": "code",
   "execution_count": null,
   "id": "08067c44",
   "metadata": {},
   "outputs": [],
   "source": []
  }
 ],
 "metadata": {
  "kernelspec": {
   "display_name": "Python 3 (ipykernel)",
   "language": "python",
   "name": "python3"
  },
  "language_info": {
   "codemirror_mode": {
    "name": "ipython",
    "version": 3
   },
   "file_extension": ".py",
   "mimetype": "text/x-python",
   "name": "python",
   "nbconvert_exporter": "python",
   "pygments_lexer": "ipython3",
   "version": "3.9.12"
  }
 },
 "nbformat": 4,
 "nbformat_minor": 5
}
