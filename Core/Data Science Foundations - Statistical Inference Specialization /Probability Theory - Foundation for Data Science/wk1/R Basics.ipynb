{
 "cells": [
  {
   "cell_type": "markdown",
   "id": "ca53305e",
   "metadata": {},
   "source": [
    "getting R setup for jupyter notebook: https://towardsdatascience.com/how-to-run-r-scripts-in-jupyter-15527148d2a"
   ]
  },
  {
   "cell_type": "markdown",
   "id": "c6de30b9",
   "metadata": {},
   "source": [
    "All in all, you have these three sets of choices:\n",
    "\n",
    "\n",
    "- Size (small, medium, or large)\n",
    "- Topping (pepperoni, meatball, sausage, or extra cheese)\n",
    "- Order Type (delivery or pickup)\n",
    "\n",
    "\n",
    "Using the multiplication rule, we can easily count the number of distinct pizzas that you could possibly order. Since there are 3 choices for size, 4 choices for toppings, and 2 choices for pickup, we simply have 3⋅4⋅2=24\n",
    "different pizza options (applying the formula from above, we have r=3, n1=3, n2=4 and n3=2).\n",
    "\n",
    "\n",
    "Now that we have counted the total of number of possible pizzas, it is easy to solve various probability problems. For example, consider finding the probability of ordering a large sausage if you randomly order a pizza: there are 2 favorable outcomes where you get a large sausage (large sausage not delivered and large sausage delivered) and 24 total outcomes/pizzas, so the probability is 224=112\n",
    "\n",
    "\n",
    "Note that we are randomly ordering a pizza, so that each of the possible 24 pizzas has an equal chance of being selected; this allows us to continue to work in a naive framework.\n",
    "\n",
    "\n",
    "This is far faster than writing out all of the possible combinations by hand, and 24 combinations isn’t even that extensive; imagine if we had 10 options for each choice! The multiplication rule can greatly simplify a problem."
   ]
  },
  {
   "cell_type": "code",
   "execution_count": 1,
   "id": "332ddc68",
   "metadata": {},
   "outputs": [
    {
     "data": {
      "text/html": [
       "<table class=\"dataframe\">\n",
       "<caption>A matrix: 24 × 3 of type chr</caption>\n",
       "<tbody>\n",
       "\t<tr><td>S</td><td>pepperoni   </td><td>deliver</td></tr>\n",
       "\t<tr><td>S</td><td>pepperoni   </td><td>pick-up</td></tr>\n",
       "\t<tr><td>S</td><td>sausage     </td><td>deliver</td></tr>\n",
       "\t<tr><td>S</td><td>sausage     </td><td>pick-up</td></tr>\n",
       "\t<tr><td>S</td><td>meatball    </td><td>deliver</td></tr>\n",
       "\t<tr><td>S</td><td>meatball    </td><td>pick-up</td></tr>\n",
       "\t<tr><td>S</td><td>extra cheese</td><td>deliver</td></tr>\n",
       "\t<tr><td>S</td><td>extra cheese</td><td>pick-up</td></tr>\n",
       "\t<tr><td>M</td><td>pepperoni   </td><td>deliver</td></tr>\n",
       "\t<tr><td>M</td><td>pepperoni   </td><td>pick-up</td></tr>\n",
       "\t<tr><td>M</td><td>sausage     </td><td>deliver</td></tr>\n",
       "\t<tr><td>M</td><td>sausage     </td><td>pick-up</td></tr>\n",
       "\t<tr><td>M</td><td>meatball    </td><td>deliver</td></tr>\n",
       "\t<tr><td>M</td><td>meatball    </td><td>pick-up</td></tr>\n",
       "\t<tr><td>M</td><td>extra cheese</td><td>deliver</td></tr>\n",
       "\t<tr><td>M</td><td>extra cheese</td><td>pick-up</td></tr>\n",
       "\t<tr><td>L</td><td>pepperoni   </td><td>deliver</td></tr>\n",
       "\t<tr><td>L</td><td>pepperoni   </td><td>pick-up</td></tr>\n",
       "\t<tr><td>L</td><td>sausage     </td><td>deliver</td></tr>\n",
       "\t<tr><td>L</td><td>sausage     </td><td>pick-up</td></tr>\n",
       "\t<tr><td>L</td><td>meatball    </td><td>deliver</td></tr>\n",
       "\t<tr><td>L</td><td>meatball    </td><td>pick-up</td></tr>\n",
       "\t<tr><td>L</td><td>extra cheese</td><td>deliver</td></tr>\n",
       "\t<tr><td>L</td><td>extra cheese</td><td>pick-up</td></tr>\n",
       "</tbody>\n",
       "</table>\n"
      ],
      "text/latex": [
       "A matrix: 24 × 3 of type chr\n",
       "\\begin{tabular}{lll}\n",
       "\t S & pepperoni    & deliver\\\\\n",
       "\t S & pepperoni    & pick-up\\\\\n",
       "\t S & sausage      & deliver\\\\\n",
       "\t S & sausage      & pick-up\\\\\n",
       "\t S & meatball     & deliver\\\\\n",
       "\t S & meatball     & pick-up\\\\\n",
       "\t S & extra cheese & deliver\\\\\n",
       "\t S & extra cheese & pick-up\\\\\n",
       "\t M & pepperoni    & deliver\\\\\n",
       "\t M & pepperoni    & pick-up\\\\\n",
       "\t M & sausage      & deliver\\\\\n",
       "\t M & sausage      & pick-up\\\\\n",
       "\t M & meatball     & deliver\\\\\n",
       "\t M & meatball     & pick-up\\\\\n",
       "\t M & extra cheese & deliver\\\\\n",
       "\t M & extra cheese & pick-up\\\\\n",
       "\t L & pepperoni    & deliver\\\\\n",
       "\t L & pepperoni    & pick-up\\\\\n",
       "\t L & sausage      & deliver\\\\\n",
       "\t L & sausage      & pick-up\\\\\n",
       "\t L & meatball     & deliver\\\\\n",
       "\t L & meatball     & pick-up\\\\\n",
       "\t L & extra cheese & deliver\\\\\n",
       "\t L & extra cheese & pick-up\\\\\n",
       "\\end{tabular}\n"
      ],
      "text/markdown": [
       "\n",
       "A matrix: 24 × 3 of type chr\n",
       "\n",
       "| S | pepperoni    | deliver |\n",
       "| S | pepperoni    | pick-up |\n",
       "| S | sausage      | deliver |\n",
       "| S | sausage      | pick-up |\n",
       "| S | meatball     | deliver |\n",
       "| S | meatball     | pick-up |\n",
       "| S | extra cheese | deliver |\n",
       "| S | extra cheese | pick-up |\n",
       "| M | pepperoni    | deliver |\n",
       "| M | pepperoni    | pick-up |\n",
       "| M | sausage      | deliver |\n",
       "| M | sausage      | pick-up |\n",
       "| M | meatball     | deliver |\n",
       "| M | meatball     | pick-up |\n",
       "| M | extra cheese | deliver |\n",
       "| M | extra cheese | pick-up |\n",
       "| L | pepperoni    | deliver |\n",
       "| L | pepperoni    | pick-up |\n",
       "| L | sausage      | deliver |\n",
       "| L | sausage      | pick-up |\n",
       "| L | meatball     | deliver |\n",
       "| L | meatball     | pick-up |\n",
       "| L | extra cheese | deliver |\n",
       "| L | extra cheese | pick-up |\n",
       "\n"
      ],
      "text/plain": [
       "      [,1] [,2]         [,3]   \n",
       " [1,] S    pepperoni    deliver\n",
       " [2,] S    pepperoni    pick-up\n",
       " [3,] S    sausage      deliver\n",
       " [4,] S    sausage      pick-up\n",
       " [5,] S    meatball     deliver\n",
       " [6,] S    meatball     pick-up\n",
       " [7,] S    extra cheese deliver\n",
       " [8,] S    extra cheese pick-up\n",
       " [9,] M    pepperoni    deliver\n",
       "[10,] M    pepperoni    pick-up\n",
       "[11,] M    sausage      deliver\n",
       "[12,] M    sausage      pick-up\n",
       "[13,] M    meatball     deliver\n",
       "[14,] M    meatball     pick-up\n",
       "[15,] M    extra cheese deliver\n",
       "[16,] M    extra cheese pick-up\n",
       "[17,] L    pepperoni    deliver\n",
       "[18,] L    pepperoni    pick-up\n",
       "[19,] L    sausage      deliver\n",
       "[20,] L    sausage      pick-up\n",
       "[21,] L    meatball     deliver\n",
       "[22,] L    meatball     pick-up\n",
       "[23,] L    extra cheese deliver\n",
       "[24,] L    extra cheese pick-up"
      ]
     },
     "metadata": {},
     "output_type": "display_data"
    }
   ],
   "source": [
    "#define the vectors for size, topping and order\n",
    "size = c(\"S\", \"M\", \"L\")\n",
    "topping = c(\"pepperoni\", \"sausage\", \"meatball\", \"extra cheese\")\n",
    "order = c(\"deliver\", \"pick-up\")\n",
    "\n",
    "#keep track of the pizzas\n",
    "pizzas = character(0)\n",
    "\n",
    "#iterate over each value for each variable\n",
    "for(i in 1:length(size)){\n",
    "  for(j in 1:length(topping)){\n",
    "    for(k in 1:length(order)){\n",
    "      \n",
    "      #create a pizza\n",
    "      pizzas = rbind(pizzas, c(size[i], topping[j], order[k]))\n",
    "    }\n",
    "  }\n",
    "}\n",
    "\n",
    "#print out the pizzas; should have 24\n",
    "pizzas"
   ]
  },
  {
   "cell_type": "code",
   "execution_count": 2,
   "id": "7af5e59f",
   "metadata": {},
   "outputs": [
    {
     "data": {
      "text/html": [
       "2"
      ],
      "text/latex": [
       "2"
      ],
      "text/markdown": [
       "2"
      ],
      "text/plain": [
       "[1] 2"
      ]
     },
     "metadata": {},
     "output_type": "display_data"
    }
   ],
   "source": [
    "#count total number of large sausages; should get 2\n",
    "#   we divide by 3 because rows are length 3, and we want\n",
    "#   to convert back to number of rows (i.e., number of pizzas)\n",
    "length(pizzas[pizzas[ ,1] == \"L\" & pizzas[ ,2] == \"sausage\"])/3"
   ]
  },
  {
   "cell_type": "code",
   "execution_count": null,
   "id": "869bdd47",
   "metadata": {},
   "outputs": [],
   "source": []
  }
 ],
 "metadata": {
  "kernelspec": {
   "display_name": "R",
   "language": "R",
   "name": "ir"
  },
  "language_info": {
   "codemirror_mode": "r",
   "file_extension": ".r",
   "mimetype": "text/x-r-source",
   "name": "R",
   "pygments_lexer": "r",
   "version": "4.3.1"
  }
 },
 "nbformat": 4,
 "nbformat_minor": 5
}
