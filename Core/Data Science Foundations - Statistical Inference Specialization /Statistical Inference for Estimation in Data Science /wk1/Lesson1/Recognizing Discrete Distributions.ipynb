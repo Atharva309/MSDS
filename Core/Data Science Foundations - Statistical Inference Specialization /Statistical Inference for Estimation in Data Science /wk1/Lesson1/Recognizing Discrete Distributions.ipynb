{
 "cells": [
  {
   "cell_type": "markdown",
   "id": "d5abaa6e",
   "metadata": {},
   "source": [
    "# Question 1. "
   ]
  },
  {
   "cell_type": "markdown",
   "id": "f5bfe022",
   "metadata": {},
   "source": [
    "Radiation from a Cesium-137 source is measured using a scintillation detector. The detector absorbs the radiation and re-admits  the energy as visible photons at a certain rate commensurate with the half-life of Cesium-137. \n",
    "\n",
    "Which of the following distributions may be used to best describe the number of photons emitted during a one hour period of time?"
   ]
  },
  {
   "cell_type": "markdown",
   "id": "4bdabf8b",
   "metadata": {},
   "source": [
    "a. Geometric\n",
    "\n",
    "b. Bernoulli\n",
    "\n",
    "c. Poisson\n",
    "\n",
    "d. Binomial\n"
   ]
  },
  {
   "cell_type": "markdown",
   "id": "12ef7d95",
   "metadata": {},
   "source": [
    "### Answer: Poisson"
   ]
  },
  {
   "cell_type": "markdown",
   "id": "d0239a4d",
   "metadata": {},
   "source": [
    "# Question 2"
   ]
  },
  {
   "cell_type": "markdown",
   "id": "9519b00a",
   "metadata": {},
   "source": [
    "Suppose George is eating at his favorite restaurant one cold winter afternoon. He sits at his usual table, right by the window so he can entertain himself watching pedestrians stroll down the sidewalk of the moderately busy city street. In between sips of his bitter coffee, he notices that the occasional passerby slips on a small patch of ice right outside the restaurant. Now, as opposed to being a more caring sort and warning the waiter that a patch of ice needed salting, George continues to watch. He begins to think over time that there is a more or less constant probability of any one person slipping. He wants to know how many people might walk safely by before one slips. You can assume that each pedestrian is either well spaced enough to avoid seeing the person ahead of them fall or too engrossed in a cell phone to notice. Which below distribution could be used?"
   ]
  },
  {
   "cell_type": "markdown",
   "id": "235d0214",
   "metadata": {},
   "source": [
    "a. Geometric\n",
    "\n",
    "b. Bernoulli\n",
    "\n",
    "c. Poisson\n",
    "\n",
    "d. Binomial\n"
   ]
  },
  {
   "cell_type": "markdown",
   "id": "c3a6d3f7",
   "metadata": {},
   "source": [
    "### Answer: Geometric"
   ]
  },
  {
   "cell_type": "markdown",
   "id": "31038ec7",
   "metadata": {},
   "source": [
    "# Question 3.\n"
   ]
  },
  {
   "cell_type": "markdown",
   "id": "a6645961",
   "metadata": {},
   "source": [
    "Jerry is a high school student who works at the local arcade as his summer job. This summer he's been assigned to the prize booth, doling out stuffed animals, keychains, and multi-colored bouncy balls to kids with wads of tickets in their hands. Having been there for several summers, Jerry's boss has let him in on some of the secrets of the business. For example, one of the games consists of a ring that can light up. A single dot of light speeds around the ring once tokens are put in the machine. If the player clicks a button at just the right time to stop the light at the marked point, they win. However, Jerry knows that even if the player pushes the button at just the right point, the machine is setup to only stop the light at the marked spot with a fixed probability. Jerry, standing there at the prize booth, wonders how many times out of ten tries a player might win the game assuming they pressed the button perfectly each and every time. Which distribution is this?\n"
   ]
  },
  {
   "cell_type": "markdown",
   "id": "9fef4a77",
   "metadata": {},
   "source": [
    "a. Geometric\n",
    "\n",
    "b. Bernoulli\n",
    "\n",
    "c. Poisson\n",
    "\n",
    "d. Binomial\n"
   ]
  },
  {
   "cell_type": "markdown",
   "id": "7f4123c0",
   "metadata": {},
   "source": [
    "### Answer: Binomial"
   ]
  },
  {
   "cell_type": "markdown",
   "id": "2810c7db",
   "metadata": {},
   "source": [
    "# Question 4. "
   ]
  },
  {
   "cell_type": "markdown",
   "id": "6c683a64",
   "metadata": {},
   "source": [
    "Jennifer is a construction worker at the site of a new skyscraper. The building-in-progress sits next to the bridge that spans the river flowing through the heart of downtown. After a hectic morning listening to the commands of her boss and the complaints of her coworkers, she likes to take her lunch up to a partially finished upper floor and watch cars pass on the bridge beneath her as she eats. After several days watching the traffic go by, and with an interest in all things statistics, she begins  to wonder if she could model how many cars go by during her one hour lunch break. Which distribution might be used for this?"
   ]
  },
  {
   "cell_type": "markdown",
   "id": "74fa14c7",
   "metadata": {},
   "source": [
    "a. Geometric\n",
    "\n",
    "b. Bernoulli\n",
    "\n",
    "c. Poisson\n",
    "\n",
    "d. Binomial\n"
   ]
  },
  {
   "cell_type": "markdown",
   "id": "2def8be2",
   "metadata": {},
   "source": [
    "### Answer: Poisson"
   ]
  },
  {
   "cell_type": "markdown",
   "id": "49db6307",
   "metadata": {},
   "source": [
    "# Question 5."
   ]
  },
  {
   "cell_type": "markdown",
   "id": "ca0c98e0",
   "metadata": {},
   "source": [
    "Candice works as a lifeguard at the local pool. In between shifts of scanning the water for trouble and whistling at kids to remind them of the no running rule, she and three fellow lifeguards relax in the break room. Most days they spend their fifteen minute breaks playing cards, specifically a game called euchre. However, one afternoon while Candice is on break a fellow lifeguard instead wants to play Texas hold'em poker. Candice searches in her pocket for a quarter to toss to settle the dispute, but can't seem to find one. Instead she tosses him the unopened candy bar she was about to eat and tells him to throw it in the air and call out which of the two sides will be face up when it lands. He argues that it's not a fair flip since the candy bar isn't symmetrically shaped. Candice, who has always been carefree, shrugs and points out he is the one making the call so he has the advantage. What distribution might describe this toss?   "
   ]
  },
  {
   "cell_type": "markdown",
   "id": "863253c7",
   "metadata": {},
   "source": [
    "a. Geometric\n",
    "\n",
    "b. Bernoulli\n",
    "\n",
    "c. Poisson\n",
    "\n",
    "d. Binomial\n"
   ]
  },
  {
   "cell_type": "markdown",
   "id": "1575ed70",
   "metadata": {},
   "source": [
    "### Answer: Bernoulli"
   ]
  }
 ],
 "metadata": {
  "kernelspec": {
   "display_name": "Python 3 (ipykernel)",
   "language": "python",
   "name": "python3"
  },
  "language_info": {
   "codemirror_mode": {
    "name": "ipython",
    "version": 3
   },
   "file_extension": ".py",
   "mimetype": "text/x-python",
   "name": "python",
   "nbconvert_exporter": "python",
   "pygments_lexer": "ipython3",
   "version": "3.8.18"
  }
 },
 "nbformat": 4,
 "nbformat_minor": 5
}
