{
 "cells": [
  {
   "cell_type": "markdown",
   "id": "d80c2884",
   "metadata": {},
   "source": [
    "# Question 1\n",
    "\n",
    "Let X be a random variable with pdf\n",
    "#### f(x)=(4/3)x<sup>2</sup>e<sup>−2x</sup><sub>(0,∞)</sub>(x). \n",
    "What is the distribution of X."
   ]
  },
  {
   "cell_type": "markdown",
   "id": "493ba1a2",
   "metadata": {},
   "source": [
    "### Answer: Γ(3,2)"
   ]
  },
  {
   "cell_type": "markdown",
   "id": "05bb1a5d",
   "metadata": {},
   "source": [
    "---"
   ]
  },
  {
   "cell_type": "markdown",
   "id": "b266a6a8",
   "metadata": {},
   "source": [
    "# Question 2"
   ]
  },
  {
   "cell_type": "markdown",
   "id": "50bb4c9c",
   "metadata": {},
   "source": [
    "In commuting to work, George must get on a bus near his house and then transfer to a second bus. If the waiting time (in minutes) at each stop has a uniform distribution on the interval from 0 to 5, it can be shown that George's total waiting time X has the pdf"
   ]
  },
  {
   "cell_type": "markdown",
   "id": "82648ade",
   "metadata": {},
   "source": [
    "f(x)= {125x,0<x<525−125x,5≤x≤10{251​x52​−251​x​,,​0<x<55≤x≤10​"
   ]
  },
  {
   "cell_type": "markdown",
   "id": "49548792",
   "metadata": {},
   "source": [
    "### Answer: 17/25"
   ]
  },
  {
   "cell_type": "markdown",
   "id": "e811182f",
   "metadata": {},
   "source": [
    "---"
   ]
  },
  {
   "cell_type": "markdown",
   "id": "da4ecb4d",
   "metadata": {},
   "source": [
    "# Question 3\n",
    "\n",
    "Suppose that X is a random variable with the exponential rate λ distribution for some λ>0.  What is the probability that X is greater than 1?"
   ]
  },
  {
   "cell_type": "markdown",
   "id": "a911a2c6",
   "metadata": {},
   "source": [
    "### Answer: e<sup>−λ</sup>"
   ]
  },
  {
   "cell_type": "markdown",
   "id": "45d5b029",
   "metadata": {},
   "source": [
    "---"
   ]
  },
  {
   "cell_type": "markdown",
   "id": "498ad5a9",
   "metadata": {},
   "source": [
    "# Question 4\n",
    "\n",
    "Let X be a normal random variable with mean 0 and variance 1. That is, X∼N(0,1).\n",
    "\n",
    "Given that P(∣X∣<2)≈0.9545, what is the probability that X>2"
   ]
  },
  {
   "cell_type": "markdown",
   "id": "44dce55e",
   "metadata": {},
   "source": [
    "### Answer: 0.0228"
   ]
  },
  {
   "cell_type": "markdown",
   "id": "f8baa7a3",
   "metadata": {},
   "source": [
    "---"
   ]
  },
  {
   "cell_type": "markdown",
   "id": "3750a293",
   "metadata": {},
   "source": [
    "# Question 5\n",
    "\n",
    "\n",
    "Let\n",
    "\n",
    "#### f(x) = ce<sup>x</sup> I<sub>[0,1]</sub> (x) + ce<sup>−x+2</sup> I<sub>(1,∞)</sub>(x).\n",
    "\n",
    "Find the constant c that will make f a probability density function.\n",
    "\n",
    "Type your answer out symbolically in a natural way. For example (and this example has nothing to do with the problem here), if your answer is \n",
    "\n",
    "1 / 3x+1\n",
    "\n",
    "then type 1/(3x+1) or as 1/(3*x+1). Do not include any extra spaces"
   ]
  },
  {
   "cell_type": "markdown",
   "id": "ffdf4905",
   "metadata": {},
   "source": [
    "### Answer: 1/(2e-1)"
   ]
  },
  {
   "cell_type": "code",
   "execution_count": null,
   "id": "5c7dcf26",
   "metadata": {},
   "outputs": [],
   "source": []
  }
 ],
 "metadata": {
  "kernelspec": {
   "display_name": "Python 3 (ipykernel)",
   "language": "python",
   "name": "python3"
  },
  "language_info": {
   "codemirror_mode": {
    "name": "ipython",
    "version": 3
   },
   "file_extension": ".py",
   "mimetype": "text/x-python",
   "name": "python",
   "nbconvert_exporter": "python",
   "pygments_lexer": "ipython3",
   "version": "3.8.18"
  }
 },
 "nbformat": 4,
 "nbformat_minor": 5
}
