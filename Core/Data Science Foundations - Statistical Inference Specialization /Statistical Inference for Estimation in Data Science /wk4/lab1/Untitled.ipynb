{
 "cells": [
  {
   "cell_type": "markdown",
   "metadata": {},
   "source": [
    "# Generate a random sample of size 100,000 form the standard normal distribution.\n",
    "\n",
    "> Since \"sample\" is a reserved word in R, we will call our sample \"mysample\". You can use the word \"sample\" but you should try to stay away from using names that are already used in R or you might see unexpected behavior.\n",
    "\n",
    "> In the box below, type\n",
    "`mysample<-rnorm(100000)`\n",
    "\n",
    "> You can also designate any mean and variance that you want. For example `rnorm(100000,1,4)` will produce a random sample of size 100,000 from the N(1,4) distribution. If you don't specify a mean and variance, they will default to 0 and 1, respectively.\n"
   ]
  },
  {
   "cell_type": "code",
   "execution_count": 19,
   "metadata": {},
   "outputs": [],
   "source": [
    "mysample<-rnorm(100000)"
   ]
  },
  {
   "cell_type": "markdown",
   "metadata": {},
   "source": [
    "# Make a histogram\n",
    "\n",
    "> In the following box, type `hist(mysample)`"
   ]
  },
  {
   "cell_type": "code",
   "execution_count": 20,
   "metadata": {},
   "outputs": [
    {
     "data": {
      "image/png": "[encoded data removed]",
      "text/plain": [
       "Plot with title “Histogram of mysample”"
      ]
     },
     "metadata": {
      "image/png": {
       "height": 420,
       "width": 420
      },
      "text/plain": {
       "height": 420,
       "width": 420
      }
     },
     "output_type": "display_data"
    }
   ],
   "source": [
    "hist(mysample)"
   ]
  },
  {
   "cell_type": "markdown",
   "metadata": {},
   "source": [
    "> Let's take a little more control in the appearance of the histogram. For example, the default bin width you are seeing is probably 0.5. Lets change it to 0.1. In order to do this, we will have to define the breakpoints as a sequence of numbers.\n",
    "\n",
    "> In the next box, type \n",
    "\n",
    "`min(mysample)`  \n",
    "`max(mysample)`"
   ]
  },
  {
   "cell_type": "code",
   "execution_count": 22,
   "metadata": {},
   "outputs": [
    {
     "data": {
      "text/html": [
       "-4.32202956861484"
      ],
      "text/latex": [
       "-4.32202956861484"
      ],
      "text/markdown": [
       "-4.32202956861484"
      ],
      "text/plain": [
       "[1] -4.32203"
      ]
     },
     "metadata": {},
     "output_type": "display_data"
    },
    {
     "data": {
      "text/html": [
       "4.40693822378908"
      ],
      "text/latex": [
       "4.40693822378908"
      ],
      "text/markdown": [
       "4.40693822378908"
      ],
      "text/plain": [
       "[1] 4.406938"
      ]
     },
     "metadata": {},
     "output_type": "display_data"
    }
   ],
   "source": [
    "min(mysample)\n",
    "max(mysample)"
   ]
  },
  {
   "cell_type": "markdown",
   "metadata": {},
   "source": [
    "> Suppose that your minimum and maximum are -4.02202956861484 and 3.40693822378908. In what follows, use your actual numbers.\n",
    "\n",
    "> Make a sequence (vector) of bin breaks, each which length 0.1 that will include your minimum and maximum. We will call it \"br\".\n",
    "\n",
    "`br<-seq(-4.1,3.5,0.1)`\n",
    "\n",
    "> Notice how, in this example, we have used the closest numbers to one decimal place that will fully cover the entire dataset.\n",
    "\n"
   ]
  },
  {
   "cell_type": "code",
   "execution_count": null,
   "metadata": {},
   "outputs": [],
   "source": []
  }
 ],
 "metadata": {
  "kernelspec": {
   "display_name": "R",
   "language": "R",
   "name": "ir"
  }
 },
 "nbformat": 4,
 "nbformat_minor": 4
}
