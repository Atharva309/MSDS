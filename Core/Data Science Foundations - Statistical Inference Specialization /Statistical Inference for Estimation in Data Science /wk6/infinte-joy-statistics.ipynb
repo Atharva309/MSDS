{
 "cells": [
  {
   "cell_type": "markdown",
   "id": "75f17b19-3726-4886-bc64-2f6e40c0b976",
   "metadata": {},
   "source": [
    "Let $X$ have a gamma distribution with parameters $\\alpha$ and $\\beta$. We write:\n",
    "\n",
    "$$\n",
    "X \\sim \\Gamma(\\alpha, \\beta)\n",
    "$$\n",
    "\n",
    "\n",
    "Answer: $Y \\sim \\Gamma\\left(\\alpha, \\frac{\\beta}{c}\\right)$\n"
   ]
  },
  {
   "cell_type": "markdown",
   "id": "bf426b76-d7c2-4364-bac9-77a88fb066bb",
   "metadata": {},
   "source": [
    "5.2.4 Let $X_1, X_2, \\ldots, X_n$ be a random sample from the $N(\\mu, \\sigma^2)$ distribution. Find the Maximum Likelihood Estimators (MLEs) for $\\mu$ and $\\sigma^2$.\n",
    "\n",
    "Answer: $\\hat{\\theta} = \\frac{-n}{\\sum_{i=1}^{n} \\ln X_i}$"
   ]
  },
  {
   "cell_type": "markdown",
   "id": "f358331c-293e-48bc-b095-77c5de489264",
   "metadata": {},
   "source": [
    "5.2.5 Let $X_1, X_2, \\ldots, X_n$ be a random sample from the distribution with the probability density function (pdf):\n",
    "\n",
    "$$\n",
    "f(x; \\theta, \\lambda) = \\theta \\, \\lambda^\\theta \\, x^{-(\\theta+1)} \\, I_{(\\lambda, \\infty)}(x)\n",
    "$$\n",
    "\n",
    "where $\\theta > 0$, $\\lambda > 0$. This pdf is zero if $x$ is below $\\lambda$.\n",
    "\n",
    "Find the Maximum Likelihood Estimators (MLEs) for $\\theta$ and $\\lambda$.\n",
    "\n",
    "Answer: \n",
    "1. $\\hat{\\lambda} = X_{(1)}$\n",
    "\n",
    "2. $\\hat{\\theta} = \\frac{n}{\\sum_{i=1}^{n} \\ln X_i - n \\ln X_{(1)}}$\n",
    "\n"
   ]
  },
  {
   "cell_type": "markdown",
   "id": "91ef2174-86ea-44e4-bf23-ececd2449cdd",
   "metadata": {},
   "source": [
    "5.3.2 Let $X_1, X_2, \\ldots, X_n$ be a random sample from the $\\Gamma(2, \\beta)$ distribution.\n",
    "\n",
    "Find the CRLB for the variance of all unbiased estimators of $\\beta$\n",
    "\n",
    "Answer: \n",
    "\n",
    "$$\n",
    "\\text{CRLB}_{\\beta} = \\frac{[1]^2}{I_n(\\beta)} = \\frac{\\beta^2}{2n}\n",
    "$$\n",
    "$$$$"
   ]
  },
  {
   "cell_type": "code",
   "execution_count": null,
   "id": "c227b397-1f71-4ecc-b8c7-b3799ca18d8c",
   "metadata": {},
   "outputs": [],
   "source": []
  }
 ],
 "metadata": {
  "kernelspec": {
   "display_name": "Python 3 (ipykernel)",
   "language": "python",
   "name": "python3"
  },
  "language_info": {
   "codemirror_mode": {
    "name": "ipython",
    "version": 3
   },
   "file_extension": ".py",
   "mimetype": "text/x-python",
   "name": "python",
   "nbconvert_exporter": "python",
   "pygments_lexer": "ipython3",
   "version": "3.8.18"
  }
 },
 "nbformat": 4,
 "nbformat_minor": 5
}
