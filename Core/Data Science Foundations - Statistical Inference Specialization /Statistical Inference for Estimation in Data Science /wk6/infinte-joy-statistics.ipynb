{
 "cells": [
  {
   "cell_type": "markdown",
   "id": "75f17b19-3726-4886-bc64-2f6e40c0b976",
   "metadata": {},
   "source": [
    "Let $X$ have a gamma distribution with parameters $\\alpha$ and $\\beta$. We write:\n",
    "\n",
    "$$\n",
    "X \\sim \\Gamma(\\alpha, \\beta)\n",
    "$$\n",
    "\n",
    "\n",
    "Answer: $Y \\sim \\Gamma\\left(\\alpha, \\frac{\\beta}{c}\\right)$\n",
    "\n",
    "---"
   ]
  },
  {
   "cell_type": "markdown",
   "id": "bf426b76-d7c2-4364-bac9-77a88fb066bb",
   "metadata": {},
   "source": [
    "5.2.4 Let $X_1, X_2, \\ldots, X_n$ be a random sample from the $N(\\mu, \\sigma^2)$ distribution. Find the Maximum Likelihood Estimators (MLEs) for $\\mu$ and $\\sigma^2$.\n",
    "\n",
    "Answer: $\\hat{\\theta} = \\frac{-n}{\\sum_{i=1}^{n} \\ln X_i}$\n",
    "\n",
    "---"
   ]
  },
  {
   "cell_type": "markdown",
   "id": "f358331c-293e-48bc-b095-77c5de489264",
   "metadata": {},
   "source": [
    "5.2.5 Let $X_1, X_2, \\ldots, X_n$ be a random sample from the distribution with the probability density function (pdf):\n",
    "\n",
    "$$\n",
    "f(x; \\theta, \\lambda) = \\theta \\, \\lambda^\\theta \\, x^{-(\\theta+1)} \\, I_{(\\lambda, \\infty)}(x)\n",
    "$$\n",
    "\n",
    "where $\\theta > 0$, $\\lambda > 0$. This pdf is zero if $x$ is below $\\lambda$.\n",
    "\n",
    "Find the Maximum Likelihood Estimators (MLEs) for $\\theta$ and $\\lambda$.\n",
    "\n",
    "Answer: \n",
    "1. $\\hat{\\lambda} = X_{(1)}$\n",
    "\n",
    "2. $\\hat{\\theta} = \\frac{n}{\\sum_{i=1}^{n} \\ln X_i - n \\ln X_{(1)}}$\n",
    "\n",
    "---"
   ]
  },
  {
   "cell_type": "markdown",
   "id": "91ef2174-86ea-44e4-bf23-ececd2449cdd",
   "metadata": {},
   "source": [
    "5.3.2 Let $X_1, X_2, \\ldots, X_n$ be a random sample from the $\\Gamma(2, \\beta)$ distribution.\n",
    "\n",
    "Find the CRLB for the variance of all unbiased estimators of $\\beta$\n",
    "\n",
    "Answer: \n",
    "\n",
    "$$\n",
    "\\text{CRLB}_{\\beta} = \\frac{[1]^2}{I_n(\\beta)} = \\frac{\\beta^2}{2n}\n",
    "$$\n",
    "\n",
    "---\n",
    "$$$$"
   ]
  },
  {
   "cell_type": "markdown",
   "id": "1309adb2-9571-41b6-89c5-6a1d4b03a7c8",
   "metadata": {},
   "source": [
    " $X_1, X_2, \\ldots, X_n \\sim \\text{i.i.d.} \\ \\text{Exp}(\\ rate=\\lambda)$, Find the MLE of $\\lambda^2$.\n",
    "\n",
    "\n",
    "answer: \n",
    "\n",
    "The MLE for $\\lambda$ is\n",
    "\n",
    "$\\hat{\\lambda} = \\frac{1}{\\bar{X}}$\n",
    "\n",
    "The MLE for $\\tau$ is:\n",
    "\n",
    "$\\hat{\\tau} = \\frac{1}{\\bar{X}^2} = \\hat{\\lambda}^2$\n",
    "\n",
    "---"
   ]
  },
  {
   "cell_type": "markdown",
   "id": "3e17587f-e773-475d-a14f-44cbdab69045",
   "metadata": {},
   "source": [
    "$X_1, X_2, \\ldots, X_n \\sim \\text{i.i.d. Bernoulli}$\n",
    "\n",
    "Find the Cramér-Rao lower bound of the variance of all unbiased estimators of $p$.\n",
    "\n",
    "Here, $\\theta = p$ and $\\tau(p) = p$.\n",
    "\n",
    "Answer: \n",
    "$\\frac{p(1-p)}{n}$\n",
    "\n",
    "---"
   ]
  },
  {
   "cell_type": "markdown",
   "id": "f6f264fc-b234-4bd4-ab3d-97c1591d95b2",
   "metadata": {},
   "source": [
    "$X_1, X_2, \\ldots, X_n \\sim \\text{i.i.d. Exp}(\\text{rate} = \\lambda)$\n",
    "\n",
    "Find the Cramér-Rao lower bound of the variance of all unbiased estimators of $\\lambda$.\n",
    "\n",
    "Answerr:\n",
    "\n",
    "$\\frac{\\lambda^2}{n}$\n",
    "\n",
    "---"
   ]
  },
  {
   "cell_type": "markdown",
   "id": "0ab16ae7-2d85-4995-afbc-12829fc6ea2b",
   "metadata": {},
   "source": [
    "wek law of large numbers \n",
    "\n",
    "$X_1, X_2, X_3, \\ldots \\sim \\text{i.i.d. Exp}(\\text{rate} = \\lambda)$\n",
    "\n",
    "Answer: $\\bar{X} \\xrightarrow{P} \\frac{1}{\\lambda}$\n",
    "\n",
    "---"
   ]
  },
  {
   "cell_type": "markdown",
   "id": "e60ee21c-c5d7-42cb-9610-a2d2fd6b1c1d",
   "metadata": {},
   "source": [
    "weak law of large numbers\n",
    "\n",
    "$X_1, X_2, X_3, \\ldots \\sim \\text{i.i.d. } \\Gamma(\\alpha, \\beta)$\n",
    "\n",
    "\n",
    "Answer: $\\bar{X} \\xrightarrow{P} \\frac{\\alpha}{\\beta}$\n",
    "\n",
    "---"
   ]
  },
  {
   "cell_type": "markdown",
   "id": "877cfa86-c143-45b3-9a9b-e035a8c9e4f7",
   "metadata": {},
   "source": [
    "Suppose $X \\sim N(1, 4)$\n",
    "\n",
    "Find $P(X \\leq 2)$\n",
    "\n",
    "Answer: $\\text{pnorm}(0.5) \\approx 0.6915$\n",
    "\n",
    "---"
   ]
  },
  {
   "cell_type": "markdown",
   "id": "49056308-344a-45fa-ac5c-08f571760277",
   "metadata": {},
   "source": [
    "A random sample of 200 people average amount spent on organic produce wasa $36 per person per month. \n",
    "\n",
    "It's believed teh variance of amount spent on produce, organic or not is $5. \n",
    "\n",
    "Fidn a 90% confidence Interval for true average dollar amount that all customers spent on orgnic produce each month.\n",
    "\n",
    "Answer: (35.74, 36.26)"
   ]
  },
  {
   "cell_type": "code",
   "execution_count": null,
   "id": "512f8894-4a43-4695-83e6-fa1868c751d8",
   "metadata": {},
   "outputs": [],
   "source": []
  },
  {
   "cell_type": "code",
   "execution_count": null,
   "id": "4e441574-5685-4017-8ed3-1f2a0cdfb292",
   "metadata": {},
   "outputs": [],
   "source": [
    "It"
   ]
  }
 ],
 "metadata": {
  "kernelspec": {
   "display_name": "Python 3 (ipykernel)",
   "language": "python",
   "name": "python3"
  },
  "language_info": {
   "codemirror_mode": {
    "name": "ipython",
    "version": 3
   },
   "file_extension": ".py",
   "mimetype": "text/x-python",
   "name": "python",
   "nbconvert_exporter": "python",
   "pygments_lexer": "ipython3",
   "version": "3.8.18"
  }
 },
 "nbformat": 4,
 "nbformat_minor": 5
}
