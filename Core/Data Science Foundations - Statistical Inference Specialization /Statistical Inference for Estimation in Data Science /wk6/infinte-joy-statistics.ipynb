{
 "cells": [
  {
   "cell_type": "markdown",
   "id": "75f17b19-3726-4886-bc64-2f6e40c0b976",
   "metadata": {},
   "source": [
    "Let $X$ have a gamma distribution with parameters $\\alpha$ and $\\beta$. We write:\n",
    "\n",
    "$$\n",
    "X \\sim \\Gamma(\\alpha, \\beta)\n",
    "$$\n",
    "\n",
    "\n",
    "Answer: $Y \\sim \\Gamma\\left(\\alpha, \\frac{\\beta}{c}\\right)$\n",
    "\n",
    "---"
   ]
  },
  {
   "cell_type": "markdown",
   "id": "bf426b76-d7c2-4364-bac9-77a88fb066bb",
   "metadata": {},
   "source": [
    "5.2.4 Let $X_1, X_2, \\ldots, X_n$ be a random sample from the $N(\\mu, \\sigma^2)$ distribution. Find the Maximum Likelihood Estimators (MLEs) for $\\mu$ and $\\sigma^2$.\n",
    "\n",
    "Answer: $\\hat{\\theta} = \\frac{-n}{\\sum_{i=1}^{n} \\ln X_i}$\n",
    "\n",
    "---"
   ]
  },
  {
   "cell_type": "markdown",
   "id": "f358331c-293e-48bc-b095-77c5de489264",
   "metadata": {},
   "source": [
    "5.2.5 Let $X_1, X_2, \\ldots, X_n$ be a random sample from the distribution with the probability density function (pdf):\n",
    "\n",
    "$$\n",
    "f(x; \\theta, \\lambda) = \\theta \\, \\lambda^\\theta \\, x^{-(\\theta+1)} \\, I_{(\\lambda, \\infty)}(x)\n",
    "$$\n",
    "\n",
    "where $\\theta > 0$, $\\lambda > 0$. This pdf is zero if $x$ is below $\\lambda$.\n",
    "\n",
    "Find the Maximum Likelihood Estimators (MLEs) for $\\theta$ and $\\lambda$.\n",
    "\n",
    "Answer: \n",
    "1. $\\hat{\\lambda} = X_{(1)}$\n",
    "\n",
    "2. $\\hat{\\theta} = \\frac{n}{\\sum_{i=1}^{n} \\ln X_i - n \\ln X_{(1)}}$\n",
    "\n",
    "---"
   ]
  },
  {
   "cell_type": "markdown",
   "id": "91ef2174-86ea-44e4-bf23-ececd2449cdd",
   "metadata": {},
   "source": [
    "5.3.2 Let $X_1, X_2, \\ldots, X_n$ be a random sample from the $\\Gamma(2, \\beta)$ distribution.\n",
    "\n",
    "Find the CRLB for the variance of all unbiased estimators of $\\beta$\n",
    "\n",
    "Answer: \n",
    "\n",
    "$$\n",
    "\\text{CRLB}_{\\beta} = \\frac{[1]^2}{I_n(\\beta)} = \\frac{\\beta^2}{2n}\n",
    "$$\n",
    "\n",
    "---\n",
    "$$$$"
   ]
  },
  {
   "cell_type": "markdown",
   "id": "1309adb2-9571-41b6-89c5-6a1d4b03a7c8",
   "metadata": {},
   "source": [
    " $X_1, X_2, \\ldots, X_n \\sim \\text{i.i.d.} \\ \\text{Exp}(\\ rate=\\lambda)$, Find the MLE of $\\lambda^2$.\n",
    "\n",
    "\n",
    "answer: \n",
    "\n",
    "The MLE for $\\lambda$ is\n",
    "\n",
    "$\\hat{\\lambda} = \\frac{1}{\\bar{X}}$\n",
    "\n",
    "The MLE for $\\tau$ is:\n",
    "\n",
    "$\\hat{\\tau} = \\frac{1}{\\bar{X}^2} = \\hat{\\lambda}^2$\n",
    "\n",
    "---"
   ]
  },
  {
   "cell_type": "markdown",
   "id": "3e17587f-e773-475d-a14f-44cbdab69045",
   "metadata": {},
   "source": [
    "$X_1, X_2, \\ldots, X_n \\sim \\text{i.i.d. Bernoulli}$\n",
    "\n",
    "Find the Cramér-Rao lower bound of the variance of all unbiased estimators of $p$.\n",
    "\n",
    "Here, $\\theta = p$ and $\\tau(p) = p$.\n",
    "\n",
    "Answer: \n",
    "$\\frac{p(1-p)}{n}$\n",
    "\n",
    "---"
   ]
  },
  {
   "cell_type": "markdown",
   "id": "f6f264fc-b234-4bd4-ab3d-97c1591d95b2",
   "metadata": {},
   "source": [
    "$X_1, X_2, \\ldots, X_n \\sim \\text{i.i.d. Exp}(\\text{rate} = \\lambda)$\n",
    "\n",
    "Find the Cramér-Rao lower bound of the variance of all unbiased estimators of $\\lambda$.\n",
    "\n",
    "Answerr:\n",
    "\n",
    "$\\frac{\\lambda^2}{n}$\n",
    "\n",
    "---"
   ]
  },
  {
   "cell_type": "markdown",
   "id": "0ab16ae7-2d85-4995-afbc-12829fc6ea2b",
   "metadata": {},
   "source": [
    "wek law of large numbers \n",
    "\n",
    "$X_1, X_2, X_3, \\ldots \\sim \\text{i.i.d. Exp}(\\text{rate} = \\lambda)$\n",
    "\n",
    "Answer: $\\bar{X} \\xrightarrow{P} \\frac{1}{\\lambda}$\n",
    "\n",
    "---"
   ]
  },
  {
   "cell_type": "markdown",
   "id": "e60ee21c-c5d7-42cb-9610-a2d2fd6b1c1d",
   "metadata": {},
   "source": [
    "weak law of large numbers\n",
    "\n",
    "$X_1, X_2, X_3, \\ldots \\sim \\text{i.i.d. } \\Gamma(\\alpha, \\beta)$\n",
    "\n",
    "\n",
    "Answer: $\\bar{X} \\xrightarrow{P} \\frac{\\alpha}{\\beta}$\n",
    "\n",
    "---"
   ]
  },
  {
   "cell_type": "markdown",
   "id": "877cfa86-c143-45b3-9a9b-e035a8c9e4f7",
   "metadata": {},
   "source": [
    "Suppose $X \\sim N(1, 4)$\n",
    "\n",
    "Find $P(X \\leq 2)$\n",
    "\n",
    "Answer: $\\text{pnorm}(0.5) \\approx 0.6915$\n",
    "\n",
    "---"
   ]
  },
  {
   "cell_type": "markdown",
   "id": "49056308-344a-45fa-ac5c-08f571760277",
   "metadata": {},
   "source": [
    "A random sample of 200 people average amount spent on organic produce wasa $36 per person per month. \n",
    "\n",
    "It's believed teh variance of amount spent on produce, organic or not is $5. \n",
    "\n",
    "Fidn a 90% confidence Interval for true average dollar amount that all customers spent on orgnic produce each month.\n",
    "\n",
    "Answer: (35.74, 36.26)"
   ]
  },
  {
   "cell_type": "code",
   "execution_count": null,
   "id": "512f8894-4a43-4695-83e6-fa1868c751d8",
   "metadata": {},
   "outputs": [],
   "source": []
  },
  {
   "cell_type": "markdown",
   "id": "aaa7ad69-3c33-4d4c-b57d-1cb37e796b8c",
   "metadata": {},
   "source": [
    "$\\frac{d}{dx} \\left( ax^b \\right) = bax^{b-1}$\n"
   ]
  },
  {
   "cell_type": "markdown",
   "id": "9d787141-6453-4cd5-af2d-c31f3a197549",
   "metadata": {},
   "source": [
    "$\\frac{df}{dx} = \\frac{df}{du} \\cdot \\frac{du}{dx}$\n"
   ]
  },
  {
   "cell_type": "markdown",
   "id": "4d433ecd-7d85-49c3-8766-4f9ee7e0f4f7",
   "metadata": {},
   "source": [
    "---\n",
    "\n",
    "ex. $\\frac{d}{dx} \\left( (2x^2 - 5)^5 \\right)$\n",
    "\n",
    "\n",
    "Let $u = 2x^2 - 5$\n",
    "\n",
    "$f(u) = u^5$, where $u(x) = 2x^2 - 5$\n",
    "\n",
    "Find $\\frac{df}{dx}$.\n"
   ]
  },
  {
   "cell_type": "markdown",
   "id": "2b6af0f7-fd2b-472e-8406-6a74b139cea3",
   "metadata": {},
   "source": [
    "$\\frac{df}{dx} = \\frac{df}{du} \\cdot \\frac{du}{dx} = \\left[\\frac{d}{du} \\left(u^5\\right)\\right] \\cdot \\left[\\frac{d}{dx} \\left(2x^2 - 5\\right)\\right] = (5u^4) \\cdot (4x) = 20xu^4$\n",
    "\n",
    "\n",
    "Substituting $u = 2x^2 - 5$:\n",
    "\n",
    "$\\frac{df}{dx} = 20x(2x^2 - 5)^4$\n"
   ]
  },
  {
   "cell_type": "markdown",
   "id": "960a8b1f-2638-4ea1-a9e6-682f9cea7585",
   "metadata": {},
   "source": [
    "---\n",
    "ex. \n",
    "\n",
    "$\\frac{d}{dt} \\left( \\sqrt{t^3 - 8} \\right)$\n",
    "\n",
    "Let $u = t^3 - 8$\n",
    "\n",
    "$f(u) = \\sqrt{u} = u^{1/2}$, where $u(t) = t^3 - 8$\n",
    "\n",
    "Find $\\frac{df}{dt}$.\n",
    "\n",
    "\n",
    "$\\frac{df}{dt} = \\frac{df}{du} \\cdot \\frac{du}{dt} = \\left[\\frac{d}{du} \\left(u^{1/2}\\right)\\right] \\cdot \\left[\\frac{d}{dt} \\left(t^3 - 8\\right)\\right] = \\left(\\frac{1}{2} u^{-1/2}\\right) \\cdot (3t^2) = \\frac{3t^2 \\cdot u^{-1/2}}{2} = \\frac{3t^2}{2u^{1/2}}$\n",
    "\n",
    "\n",
    "$\\frac{df}{dt} = \\frac{3t^2}{2\\sqrt{u}}$\n",
    "\n",
    "$\\frac{df}{dt} = \\frac{3t^2}{2\\sqrt{u}} = \\frac{3t^2}{2\\sqrt{t^3 - 8}}$\n"
   ]
  },
  {
   "cell_type": "markdown",
   "id": "878d4074-8a52-437f-addd-df10b85388e7",
   "metadata": {},
   "source": [
    "---\n",
    "\n",
    "$\\frac{d}{dx} \\ln x = \\frac{1}{x}$\n",
    "\n",
    "$\\ln(e^x) = x$\n",
    "\n",
    "$e^{\\ln x} = x$\n",
    "\n",
    "$\\ln(e) = 1$\n",
    "\n",
    "$\\ln(1) = 0$\n",
    "\n"
   ]
  },
  {
   "cell_type": "markdown",
   "id": "23410894-d02b-41eb-ae32-b1d2e4b078bd",
   "metadata": {},
   "source": [
    "**Example:** Show that the constant $a$ has no effect on the following derivative.\n",
    "\n",
    "$\\frac{d}{dx} \\ln(ax)$\n",
    "\n",
    "**Method 1:** Make the following definition in order to apply the chain rule:\n",
    "\n",
    "$f(u) = \\ln u$, $u(x) = ax$\n",
    "\n",
    "Find $\\frac{df}{dx}$:\n",
    "\n",
    "$\\frac{df}{dx} = \\frac{df}{du} \\cdot \\frac{du}{dx} = \\left(\\frac{d}{du} \\ln u\\right) \\cdot \\left(\\frac{d}{dx} ax\\right) = \\left(\\frac{1}{u}\\right) \\cdot a = \\frac{a}{ax} = \\frac{1}{x}$\n",
    "\n",
    "\n",
    "The constant $a$ canceled out.\n",
    "\n",
    "**Method 2:** Apply the identity $\\ln(ax) = \\ln(a) + \\ln(x)$\n",
    "\n",
    "$\\frac{d}{dx} \\ln(ax) = \\frac{d}{dx} (\\ln a + \\ln x) = \\frac{d}{dx} \\ln a + \\frac{d}{dx} \\ln x = 0 + \\frac{1}{x} = \\frac{1}{x}$\n",
    "\n",
    "\n",
    "The derivative of $a$ constant equals zero, and ln a is a constant (since $a$ is constant)"
   ]
  },
  {
   "cell_type": "code",
   "execution_count": null,
   "id": "1af8747a-504f-455c-bf6b-fb9cf11216f2",
   "metadata": {},
   "outputs": [],
   "source": []
  }
 ],
 "metadata": {
  "kernelspec": {
   "display_name": "Python 3 (ipykernel)",
   "language": "python",
   "name": "python3"
  },
  "language_info": {
   "codemirror_mode": {
    "name": "ipython",
    "version": 3
   },
   "file_extension": ".py",
   "mimetype": "text/x-python",
   "name": "python",
   "nbconvert_exporter": "python",
   "pygments_lexer": "ipython3",
   "version": "3.8.18"
  }
 },
 "nbformat": 4,
 "nbformat_minor": 5
}
