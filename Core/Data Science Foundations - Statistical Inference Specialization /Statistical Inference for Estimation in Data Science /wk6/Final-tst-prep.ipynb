{
 "cells": [
  {
   "cell_type": "markdown",
   "id": "1e134488-298d-4537-a67b-2a83d39505a9",
   "metadata": {},
   "source": [
    "\n",
    "Yes, the 5002 exam only allows you to submit your answers 1 time in the 2 hour testing window. If you do not submit your final answers before the 2 hours are up the exam will auto-submit for you.\n",
    "\n",
    "There are 15 questions total, all multiple choice or multiple response. There are no free answer style questions on this exam.\n",
    "\n",
    "Took the exam yesterday - got a 60% which was more than happy with. It was 50/50 chapters 2&3/4&5. Honestly chapters 2&3 we're so confusing to me I knew had no chance so I just focused on studying 4&5 and knowing that back and forth (previously submitted cheat sheet and the 4.2, 4.5, and 5.2 quizzes was what I did a million times). It was 90% multiple choice. They did make it so you had to read the question a few times and know exactly what they gave you and exactly what they are looking for. Best of luck! (edited)\n",
    "\n",
    "memorize formulas\n"
   ]
  },
  {
   "cell_type": "markdown",
   "id": "103da346-c676-4a70-babd-d087096ea893",
   "metadata": {
    "jp-MarkdownHeadingCollapsed": true
   },
   "source": [
    "## Outline\n",
    "\n",
    "- Discrete Random Variables\n",
    "- Probability Mass Functions\n",
    "- Important Discrete Distributions\n",
    "- Recognizing Discrete Distributions\n",
    "- Continuous Random Variables\n",
    "- Probability Density Functions\n",
    "- Important Continuous Distributions\n",
    "- Calculations with Continuous Distributions\n",
    "- Table Summarizing Important Distributions\n",
    "- Joint Distributions\n",
    "- Independence\n",
    "- The Gamma Distribution\n",
    "- Transformations of Distributions\n",
    "- Expectation\n",
    "- Properties of Expectation\n",
    "- Probability\n",
    "- Variance\n",
    "- Covariance\n",
    "- Estimators\n",
    "- Sampling Distributions\n",
    "- The Shape of Data\n",
    "- Distributions of Sums\n",
    "- Method of Moments Estimators\n",
    "- Method of Moments Estimation\n",
    "- Point Estimation\n",
    "- Notation\n",
    "- Terminology\n",
    "- First Complete Examples\n",
    "- MLEs for Multiple Parameters\n",
    "- MLEs for Support Parameters\n",
    "- Finding MLEs\n",
    "- The Invariance Property\n",
    "- Mean Squared Error\n",
    "- Bias\n",
    "- Relative Efficiency\n",
    "- Invariance\n",
    "- Efficiency\n",
    "- Maximum Likelihood Estimation\n",
    "- Fisher Information\n",
    "- The Cramer-Rao Lower Bound\n",
    "- Computational Simplifications for the CRLB\n",
    "- The Weak Law of Large Numbers\n",
    "- The Central Limit Theorem\n",
    "- Central Limit Theorem Lab Walkthrough\n",
    "- Large Sample Properties of MLEs\n",
    "- Further Computations with MLEs\n",
    "- Let's Build a Confidence Interval!\n",
    "- The Chi-Squared Distributions\n",
    "- t-Distributions\n",
    "- Exploring the Normal Relationships\n",
    "- t-Distributions Relationships\n",
    "- Chi-Squared Relationships\n",
    "- t-Distribution Confidence Intervals\n",
    "- Confidence Intervals Involving the Normal Distribution\n",
    "- Confidence Intervals\n",
    "- The Difference Between Population Means\n",
    "- Small Sample Confidence Intervals\n",
    "- Confidence Intervals in R\n",
    "- Normal Distribution Confidence Intervals\n",
    "- A Confidence Interval for Proportions\n",
    "- Confidence Intervals for Variances\n",
    "- Variances\n",
    "- A Confidence Interval for a Ratio of Variances\n",
    "- Who Needs Normality?\n",
    "- General Confidence Intervals 2\n",
    "- Non-Normal Confidence Intervals in R\n",
    "- Build Your Own Confidence Intervals\n",
    "- Confidence Intervals Unleashed!\n"
   ]
  },
  {
   "cell_type": "code",
   "execution_count": null,
   "id": "64bd7a6e-665a-49bb-8d14-3481a1d28ac1",
   "metadata": {},
   "outputs": [],
   "source": []
  }
 ],
 "metadata": {
  "kernelspec": {
   "display_name": "Python 3 (ipykernel)",
   "language": "python",
   "name": "python3"
  },
  "language_info": {
   "codemirror_mode": {
    "name": "ipython",
    "version": 3
   },
   "file_extension": ".py",
   "mimetype": "text/x-python",
   "name": "python",
   "nbconvert_exporter": "python",
   "pygments_lexer": "ipython3",
   "version": "3.8.18"
  }
 },
 "nbformat": 4,
 "nbformat_minor": 5
}
