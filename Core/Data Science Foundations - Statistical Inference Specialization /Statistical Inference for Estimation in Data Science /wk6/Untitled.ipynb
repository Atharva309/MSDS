{
 "cells": [
  {
   "cell_type": "code",
   "execution_count": 1,
   "id": "e58414af-40cd-4a4f-9ba8-aabcec175862",
   "metadata": {},
   "outputs": [
    {
     "data": {
      "text/html": [
       "3.3"
      ],
      "text/latex": [
       "3.3"
      ],
      "text/markdown": [
       "3.3"
      ],
      "text/plain": [
       "[1] 3.3"
      ]
     },
     "metadata": {},
     "output_type": "display_data"
    }
   ],
   "source": [
    "# Sample data\n",
    "X <- c(3, 2, 5, 4, 3, 2, 4, 3, 5, 2)  # Example data\n",
    "\n",
    "# Calculate the sample mean\n",
    "lambda_hat <- mean(X)\n",
    "\n",
    "# Print the result\n",
    "lambda_hat\n"
   ]
  },
  {
   "cell_type": "code",
   "execution_count": 2,
   "id": "29e3e9c3-ab16-42b9-ab14-5d14ab2c756f",
   "metadata": {},
   "outputs": [
    {
     "data": {
      "text/html": [
       "1.27659574468085"
      ],
      "text/latex": [
       "1.27659574468085"
      ],
      "text/markdown": [
       "1.27659574468085"
      ],
      "text/plain": [
       "[1] 1.276596"
      ]
     },
     "metadata": {},
     "output_type": "display_data"
    }
   ],
   "source": [
    "# Sample data\n",
    "X <- c(2.1, 2.3, 2.8, 1.9, 2.4, 2.7, 2.2, 2.5, 2.0, 2.6)  # Example data\n",
    "\n",
    "# Given alpha\n",
    "alpha <- 3  # Example value\n",
    "\n",
    "# Calculate the sample mean\n",
    "X_bar <- mean(X)\n",
    "\n",
    "# Calculate the MLE for beta\n",
    "beta_hat <- alpha / X_bar\n",
    "\n",
    "# Print the result\n",
    "beta_hat\n"
   ]
  },
  {
   "cell_type": "code",
   "execution_count": null,
   "id": "bec10dbc-d158-454d-b69b-74fb69193d77",
   "metadata": {},
   "outputs": [],
   "source": []
  }
 ],
 "metadata": {
  "kernelspec": {
   "display_name": "R",
   "language": "R",
   "name": "ir"
  },
  "language_info": {
   "codemirror_mode": "r",
   "file_extension": ".r",
   "mimetype": "text/x-r-source",
   "name": "R",
   "pygments_lexer": "r",
   "version": "4.3.1"
  }
 },
 "nbformat": 4,
 "nbformat_minor": 5
}
