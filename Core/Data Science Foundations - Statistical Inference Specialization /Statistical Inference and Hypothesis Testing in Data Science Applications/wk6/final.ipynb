{
 "cells": [
  {
   "cell_type": "markdown",
   "id": "80efff68-c77d-4b1f-8492-a2117fe80877",
   "metadata": {},
   "source": [
    "The final is split into 2 parts: MC and Free response.\n",
    "- MC is 65% of the final. (14.3% overall)\n",
    "- Free response is 35% of the final. (7.7% overall)\n",
    "\n",
    "\n",
    "First part,\n",
    "- where we have to solve 10 multiple choice questions and submit only once, was tricky.\n",
    "\n",
    "Second part \n",
    "- with 5 questions was comparatively easier as you get multiple attempts. So if one approach doesn't work, you can try other. To some extent i found it easier than the quiz questions. Make sure you clearly understand which statistics to use in which scenario as you will find answers corresponding to all similar statistics you can think of.\n",
    "\n",
    "Tips? Yeah, here are some tips I really wish I had before taking the exam:\n",
    "- R will be used extensively. So find a way to keep track of your variables for EACH question. I made the mistake of using the same variable name throughout all questions, and I paid the price of getting the right formula but ended up getting the wrong value because I forgot to reassign a variable. So for example, if in Q1, sample size is 50, write n.Q1 <- 50, don't write n <- 50 like I did. This way, you won't lose marks like me for being careless.\n",
    "- Do go over all the lectures, there were a couple of questions I understood intuitively, but missed some details as I didn't fully review the related material.\n",
    "- Time could be an issue, because there will be lots of typing and just calculating the values. So don't get stuck on 1 question, move on, then come back if there's more time.\n"
   ]
  },
  {
   "cell_type": "code",
   "execution_count": null,
   "id": "60460985-5030-4141-95e9-3e44ed79a92f",
   "metadata": {},
   "outputs": [],
   "source": []
  }
 ],
 "metadata": {
  "kernelspec": {
   "display_name": "Python 3 (ipykernel)",
   "language": "python",
   "name": "python3"
  },
  "language_info": {
   "codemirror_mode": {
    "name": "ipython",
    "version": 3
   },
   "file_extension": ".py",
   "mimetype": "text/x-python",
   "name": "python",
   "nbconvert_exporter": "python",
   "pygments_lexer": "ipython3",
   "version": "3.8.18"
  }
 },
 "nbformat": 4,
 "nbformat_minor": 5
}
