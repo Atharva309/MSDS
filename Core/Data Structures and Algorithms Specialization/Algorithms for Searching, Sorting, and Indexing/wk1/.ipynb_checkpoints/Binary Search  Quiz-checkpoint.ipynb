{
 "cells": [
  {
   "cell_type": "markdown",
   "id": "32db9381",
   "metadata": {},
   "source": [
    "## 1. Consider the binary search algorithm shown below to search for a value target in the subarray a[left...right] (both ends inclusive).  Select all the correct answers from the list that follows."
   ]
  },
  {
   "cell_type": "markdown",
   "id": "30cbc552",
   "metadata": {},
   "source": [
    "```\n",
    "def binarySearch(a, left, right, target):\n",
    "    if right < left: \n",
    "        return False\n",
    "    mid = (left + right)//2\n",
    "    if a[mid] == target: \n",
    "        return True \n",
    "    if a[mid] > target: \n",
    "        return binarySearch(a, left, mid-1, target)\n",
    "    else: \n",
    "        # a[mid] < target\n",
    "        return binarySearch(a, mid+1, right, target)\n",
    "    #This line is never reached\n",
    "```"
   ]
  },
  {
   "cell_type": "markdown",
   "id": "4057bf9d",
   "metadata": {},
   "source": [
    "- For any call to binarySearchbinarySearch on aa, the algorithm maintains the fact that \"if target is to be found in the array aa, it will be found in the subarray a[left..right]\".\n",
    "- If k=(right−left+1) is the size of the search area for a given call to binarySearchbinarySearch, any subsequent call (lines 8 or 11 of the code) must have the search area at most k/2."
   ]
  }
 ],
 "metadata": {
  "kernelspec": {
   "display_name": "Python 3 (ipykernel)",
   "language": "python",
   "name": "python3"
  },
  "language_info": {
   "codemirror_mode": {
    "name": "ipython",
    "version": 3
   },
   "file_extension": ".py",
   "mimetype": "text/x-python",
   "name": "python",
   "nbconvert_exporter": "python",
   "pygments_lexer": "ipython3",
   "version": "3.9.12"
  }
 },
 "nbformat": 4,
 "nbformat_minor": 5
}
