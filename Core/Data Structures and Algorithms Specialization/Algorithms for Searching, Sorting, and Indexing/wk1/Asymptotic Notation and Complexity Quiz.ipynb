{
 "cells": [
  {
   "cell_type": "markdown",
   "id": "270d3683",
   "metadata": {},
   "source": [
    "## 1."
   ]
  },
  {
   "cell_type": "markdown",
   "id": "eb87eadd",
   "metadata": {},
   "source": []
  },
  {
   "cell_type": "markdown",
   "id": "bcdf2f02",
   "metadata": {},
   "source": [
    "## 2."
   ]
  },
  {
   "cell_type": "markdown",
   "id": "76357b35",
   "metadata": {},
   "source": []
  },
  {
   "cell_type": "markdown",
   "id": "feb6e5d9",
   "metadata": {},
   "source": [
    "## 3."
   ]
  },
  {
   "cell_type": "markdown",
   "id": "5cb8aeff",
   "metadata": {},
   "source": []
  },
  {
   "cell_type": "markdown",
   "id": "27ef3c7c",
   "metadata": {},
   "source": [
    "## 4. Suppose an algorithm runs in time 200 log⁡2(n) + 250 time in the worst case as a function of the input size nn, which of the options below are correct?"
   ]
  },
  {
   "cell_type": "markdown",
   "id": "d26038f2",
   "metadata": {},
   "source": [
    "- The running time is Θ(log⁡10(n))Θ(log10​(n)) since log⁡10(n)=log⁡2(n)log⁡2(10) is a constant factor times log⁡2(n)."
   ]
  },
  {
   "cell_type": "markdown",
   "id": "f14fc399",
   "metadata": {},
   "source": []
  },
  {
   "cell_type": "markdown",
   "id": "e7b824a8",
   "metadata": {},
   "source": []
  },
  {
   "cell_type": "markdown",
   "id": "c6163b6e",
   "metadata": {},
   "source": []
  }
 ],
 "metadata": {
  "kernelspec": {
   "display_name": "Python 3 (ipykernel)",
   "language": "python",
   "name": "python3"
  },
  "language_info": {
   "codemirror_mode": {
    "name": "ipython",
    "version": 3
   },
   "file_extension": ".py",
   "mimetype": "text/x-python",
   "name": "python",
   "nbconvert_exporter": "python",
   "pygments_lexer": "ipython3",
   "version": "3.9.12"
  }
 },
 "nbformat": 4,
 "nbformat_minor": 5
}
