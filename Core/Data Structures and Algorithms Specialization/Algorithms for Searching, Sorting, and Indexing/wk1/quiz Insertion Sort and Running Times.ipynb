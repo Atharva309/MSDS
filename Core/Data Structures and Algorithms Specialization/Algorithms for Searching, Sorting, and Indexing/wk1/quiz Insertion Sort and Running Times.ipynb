{
 "cells": [
  {
   "cell_type": "markdown",
   "id": "24200583",
   "metadata": {},
   "source": [
    "1. (Consider the python function below (read the comments carefully)"
   ]
  },
  {
   "cell_type": "markdown",
   "id": "f05d2ad7",
   "metadata": {},
   "source": [
    "```\n",
    "def foo(n):\n",
    "    sum = 0 # time cost of assignment = c1\n",
    "    # assume initialization of i to 0 at the start of loop has 0 cost\n",
    "    for i in range(n): # cost for each (increment i and check if in range) = c2 \n",
    "        sum = sum + i * i # cost of addition = c3, \n",
    "        # cost of multiplication = c4 and \n",
    "        # cost of assignment = c1\n",
    "    return sum # cost of return = c5\n",
    "```"
   ]
  },
  {
   "cell_type": "markdown",
   "id": "5ac3b605",
   "metadata": {},
   "source": [
    "What is the overall time cost of calling the \"foo\" function, in terms of n, c1, c2, c3, c4n, and c5?"
   ]
  },
  {
   "cell_type": "markdown",
   "id": "438cef09",
   "metadata": {},
   "source": [
    "### Answer: \n",
    "\n",
    "(n+1) * c1 + n * (c2+c3+c4)+c5"
   ]
  },
  {
   "cell_type": "markdown",
   "id": "de61e6c9",
   "metadata": {},
   "source": [
    "----"
   ]
  },
  {
   "cell_type": "code",
   "execution_count": null,
   "id": "77419ac2",
   "metadata": {},
   "outputs": [],
   "source": []
  }
 ],
 "metadata": {
  "kernelspec": {
   "display_name": "Python 3 (ipykernel)",
   "language": "python",
   "name": "python3"
  },
  "language_info": {
   "codemirror_mode": {
    "name": "ipython",
    "version": 3
   },
   "file_extension": ".py",
   "mimetype": "text/x-python",
   "name": "python",
   "nbconvert_exporter": "python",
   "pygments_lexer": "ipython3",
   "version": "3.9.12"
  }
 },
 "nbformat": 4,
 "nbformat_minor": 5
}
