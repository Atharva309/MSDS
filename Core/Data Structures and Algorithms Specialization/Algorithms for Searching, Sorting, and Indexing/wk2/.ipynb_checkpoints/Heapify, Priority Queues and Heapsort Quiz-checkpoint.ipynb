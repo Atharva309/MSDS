{
 "cells": [
  {
   "cell_type": "markdown",
   "id": "4a96628d",
   "metadata": {},
   "source": [
    "## 1. Suppose we wished to heapify  an array into a minheap using the following algorithm (assume a[0] is not used and assume that bubble_up routine is implemented).\n",
    "\n",
    "```\n",
    "def heapify(a):\n",
    "    n = len(a)\n",
    "    for i in range(1, n):\n",
    "        bubble_up(a, i)\n",
    "    return a      \n",
    "```\n",
    "\n"
   ]
  },
  {
   "cell_type": "markdown",
   "id": "ebb8bea9",
   "metadata": {},
   "source": [
    "- The worst case complexity of this procedure will be Θ(nlog⁡(n)).\n",
    "- The procedure above is computationally less efficient than the one presented in the lecture because n/2 of the elements in the array may potentially need to bubble up all the way to the root.\n",
    "- Sorting the array using mergesort will achieve the same complexity as the heapify procedure above.\n",
    "- The  worst case of the procedure above is realized if we tried to heapify an array that is already sorted in descending order."
   ]
  },
  {
   "cell_type": "markdown",
   "id": "63c99872",
   "metadata": {},
   "source": [
    "## 2. Select all the facts that are true about the heapsort procedure in comparison with the insertion and mergesort procedures we have studied thus far. Assume that all heaps are minheaps unless otherwise mentioned in the option."
   ]
  },
  {
   "cell_type": "markdown",
   "id": "8f1e4b43",
   "metadata": {},
   "source": [
    "- If an array is already sorted in ascending order and the heapify procedure is run on it, then it does not modify the array in any way. "
   ]
  }
 ],
 "metadata": {
  "kernelspec": {
   "display_name": "Python 3 (ipykernel)",
   "language": "python",
   "name": "python3"
  },
  "language_info": {
   "codemirror_mode": {
    "name": "ipython",
    "version": 3
   },
   "file_extension": ".py",
   "mimetype": "text/x-python",
   "name": "python",
   "nbconvert_exporter": "python",
   "pygments_lexer": "ipython3",
   "version": "3.9.12"
  }
 },
 "nbformat": 4,
 "nbformat_minor": 5
}
