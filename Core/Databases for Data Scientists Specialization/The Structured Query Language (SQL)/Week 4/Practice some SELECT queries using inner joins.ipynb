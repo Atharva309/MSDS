{
 "cells": [
  {
   "cell_type": "markdown",
   "id": "9bc17d00",
   "metadata": {},
   "source": [
    "2.  Practice some SELECT queries using inner joins\n",
    "\n",
    "2.1 List each order and its Total Value (unitprice * quantity) for all orders shipping into France in descending Total Value order.  \n",
    "\n",
    "2.2 Create a Suppliers List showing Supplier CompanyName, and names of all the products sold by each supplier located in Japan.   \n",
    "\n",
    "2.3 Create a “Low Performers” list showing the employees who have less than $100,000 in total sales.  List the employee’s LastName, FirstName followed by their total sales volume (the total dollar value of their orders.)    "
   ]
  },
  {
   "cell_type": "markdown",
   "id": "7237e4d5",
   "metadata": {},
   "source": [
    "---"
   ]
  },
  {
   "cell_type": "markdown",
   "id": "7140d111",
   "metadata": {},
   "source": [
    "2.1 List each order and its Total Value (unitprice * quantity) for all orders shipping into France in descending Total Value order.  "
   ]
  },
  {
   "cell_type": "code",
   "execution_count": null,
   "id": "a8070fb8",
   "metadata": {},
   "outputs": [],
   "source": []
  },
  {
   "cell_type": "markdown",
   "id": "ba7bd987",
   "metadata": {},
   "source": [
    "---"
   ]
  },
  {
   "cell_type": "markdown",
   "id": "9ed66096",
   "metadata": {},
   "source": [
    "2.2 Create a Suppliers List showing Supplier CompanyName, and names of all the products sold by each supplier located in Japan.   \n"
   ]
  },
  {
   "cell_type": "code",
   "execution_count": null,
   "id": "ec3a4087",
   "metadata": {},
   "outputs": [],
   "source": []
  },
  {
   "cell_type": "markdown",
   "id": "bbf26238",
   "metadata": {},
   "source": [
    "---"
   ]
  },
  {
   "cell_type": "markdown",
   "id": "804c45bf",
   "metadata": {},
   "source": [
    "2.3 Create a “Low Performers” list showing the employees who have less than $100,000 in total sales.  List the employee’s LastName, FirstName followed by their total sales volume (the total dollar value of their orders.)   "
   ]
  },
  {
   "cell_type": "code",
   "execution_count": null,
   "id": "2a1ec47c",
   "metadata": {},
   "outputs": [],
   "source": []
  }
 ],
 "metadata": {
  "kernelspec": {
   "display_name": "Python 3 (ipykernel)",
   "language": "python",
   "name": "python3"
  },
  "language_info": {
   "codemirror_mode": {
    "name": "ipython",
    "version": 3
   },
   "file_extension": ".py",
   "mimetype": "text/x-python",
   "name": "python",
   "nbconvert_exporter": "python",
   "pygments_lexer": "ipython3",
   "version": "3.9.12"
  }
 },
 "nbformat": 4,
 "nbformat_minor": 5
}
