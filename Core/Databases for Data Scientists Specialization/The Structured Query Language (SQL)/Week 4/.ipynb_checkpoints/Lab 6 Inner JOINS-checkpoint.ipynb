{
 "cells": [
  {
   "cell_type": "markdown",
   "id": "9fd2b6a3",
   "metadata": {},
   "source": [
    "Lab 6: Inner JOINS\n",
    "1.  Connect to the bit.io Lab Environment\n",
    "\n",
    "NOTE:  If you are not sure how to connect to the bit.io lab environment, please see the Lab 1 instructions.   \n",
    "\n",
    "2.  Practice some SELECT queries using inner joins\n",
    "\n",
    "2.1 List each order and its Total Value (unitprice * quantity) for all orders shipping into France in descending Total Value order.  \n",
    "\n",
    "2.2 Create a Suppliers List showing Supplier CompanyName, and names of all the products sold by each supplier located in Japan.   \n",
    "\n",
    "2.3 Create a “Low Performers” list showing the employees who have less than $100,000 in total sales.  List the employee’s LastName, FirstName followed by their total sales volume (the total dollar value of their orders.)    "
   ]
  },
  {
   "cell_type": "markdown",
   "id": "4a922b68",
   "metadata": {},
   "source": [
    "Lab 6: Solutions "
   ]
  },
  {
   "cell_type": "markdown",
   "id": "4e6213b1",
   "metadata": {},
   "source": [
    "```\n",
    "SELECT O.orderID, sum(unitprice * quantity) as \"Total Value\" \n",
    "            FROM \"alanparadise/nw\".\"orders\" O \n",
    "\t\t JOIN \"alanparadise/nw\".\"orderdetails\" D \n",
    "                 ON O.orderid = D.orderid\n",
    "            WHERE shipcountry = 'France'\n",
    "       GROUP BY O.orderid\n",
    "\tORDER BY 2 DESC;\n",
    "```"
   ]
  },
  {
   "cell_type": "markdown",
   "id": "a1d4ec06",
   "metadata": {},
   "source": [
    "```\n",
    "SELECT companyname, productname\n",
    "        FROM \"alanparadise/nw\".\"suppliers\" S \n",
    "           JOIN \"alanparadise/nw\".\"products\" P\n",
    "             ON S.supplierID = P.supplierID\n",
    "        WHERE S.country = 'Japan';\n",
    "```"
   ]
  },
  {
   "cell_type": "markdown",
   "id": "a6d07d0d",
   "metadata": {},
   "source": [
    "```\n",
    "SELECT LastName, Firstname, sum(unitprice * quantity) as \"Total Sales\"\n",
    "    \t  from \"alanparadise/nw\".\"employees\" E \n",
    "            JOIN\n",
    "              \"alanparadise/nw\".\"orders\" O \n",
    "\t\t\t   ON E.employeeid  =  O.employeeid\n",
    "           \t      JOIN \n",
    "                     \"alanparadise/nw\".\"orderdetails\" D \n",
    "\t\t\t       ON O.orderid  =  D.orderid\n",
    "\tGROUP BY LastName, FirstName\n",
    "\t    HAVING  sum(unitprice * quantity) < 100000;\n",
    "```"
   ]
  },
  {
   "cell_type": "code",
   "execution_count": null,
   "id": "77672a07",
   "metadata": {},
   "outputs": [],
   "source": []
  }
 ],
 "metadata": {
  "kernelspec": {
   "display_name": "Python 3 (ipykernel)",
   "language": "python",
   "name": "python3"
  },
  "language_info": {
   "codemirror_mode": {
    "name": "ipython",
    "version": 3
   },
   "file_extension": ".py",
   "mimetype": "text/x-python",
   "name": "python",
   "nbconvert_exporter": "python",
   "pygments_lexer": "ipython3",
   "version": "3.9.12"
  }
 },
 "nbformat": 4,
 "nbformat_minor": 5
}
