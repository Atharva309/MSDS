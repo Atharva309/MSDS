{
 "cells": [
  {
   "cell_type": "markdown",
   "id": "4d621184",
   "metadata": {},
   "source": [
    "1.  Connect to the bit.io Lab Environment\n",
    "\n",
    "- NOTE:  If you are not sure how to connect to the bit.io lab environment, please see the Lab 1 instructions.   \n",
    "\n",
    "\n",
    "\n",
    "2.  Practice some SELECT queries using outer joins\n",
    "\n",
    "    2.1 Are there any Northwinds employees that have no orders?    \n",
    "\n",
    "    2.2 Are there any Northwinds customers that have no orders?     \n",
    "\n",
    "    2.3 Are there any Northwinds orders that have bad (not on file) customer numbers? \n",
    "\n",
    "    2.4 Are there any Shippers that have shipped no Northwinds orders?     \n",
    "\n"
   ]
  },
  {
   "cell_type": "markdown",
   "id": "3fb71653",
   "metadata": {},
   "source": [
    "---"
   ]
  },
  {
   "cell_type": "markdown",
   "id": "3b3dfae2",
   "metadata": {},
   "source": [
    "2.1  The answer is  NO.  This query demonstrates this. \n",
    "```\n",
    "SELECT E.employeeid, lastname, firstname, count(orderid)\n",
    "\tFROM \"alanparadise/nw\".\"employees\" E  LEFT OUTER JOIN\n",
    "\t    \"alanparadise/nw\".\"orders\" O  ON\n",
    "\t\tE.employeeid = O.employeeid \n",
    "\tGROUP BY E.employeeid, lastname, firstname\n",
    "\tORDER BY E.employeeid;\n",
    "```"
   ]
  },
  {
   "cell_type": "markdown",
   "id": "dc440d03",
   "metadata": {},
   "source": [
    "2.2 The answer is  YES.  This query demonstrates this. \n",
    "```\n",
    "SELECT C.customerid, companyname, count(orderid)\n",
    "    FROM \"alanparadise/nw\".\"customers\" C  LEFT OUTER JOIN\n",
    "        \"alanparadise/nw\".\"orders\" O  ON\n",
    "        C.customerid = O.customerid \n",
    "    GROUP BY C.customerid, companyname\n",
    "    HAVING count(orderid) = 0;\n",
    "```"
   ]
  },
  {
   "cell_type": "markdown",
   "id": "c3078fea",
   "metadata": {},
   "source": [
    "2.3 The answer is  YES.  This query demonstrates this.\n",
    "```\n",
    "SELECT DISTINCT O.customerid, count(orderid)\n",
    "    FROM \"alanparadise/nw\".\"orders\" O LEFT OUTER JOIN\n",
    "        \"alanparadise/nw\".\"customers\" C on\n",
    "        C.customerid = O.customerid \n",
    "    WHERE C.customerid is NULL\n",
    "    GROUP BY O.customerid;\n",
    "```"
   ]
  },
  {
   "cell_type": "markdown",
   "id": "9b5d0603",
   "metadata": {},
   "source": [
    "2.4 The answer is  NO.  This query demonstrates this.\n",
    "```\n",
    "SELECT S.shipperid, companyname, count(orderid)\n",
    "\tFROM \"alanparadise/nw\".\"shippers\" S  LEFT OUTER JOIN\n",
    "\t    \"alanparadise/nw\".\"orders\" O  ON\n",
    "\t\tS.shipperid = O.shipvia \n",
    "\tGROUP BY S.shipperid, companyname;\n",
    "```"
   ]
  },
  {
   "cell_type": "code",
   "execution_count": null,
   "id": "00d27011",
   "metadata": {},
   "outputs": [],
   "source": []
  }
 ],
 "metadata": {
  "kernelspec": {
   "display_name": "Python 3 (ipykernel)",
   "language": "python",
   "name": "python3"
  },
  "language_info": {
   "codemirror_mode": {
    "name": "ipython",
    "version": 3
   },
   "file_extension": ".py",
   "mimetype": "text/x-python",
   "name": "python",
   "nbconvert_exporter": "python",
   "pygments_lexer": "ipython3",
   "version": "3.9.12"
  }
 },
 "nbformat": 4,
 "nbformat_minor": 5
}
