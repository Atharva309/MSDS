{
 "cells": [
  {
   "cell_type": "markdown",
   "id": "4b1f4554",
   "metadata": {},
   "source": [
    "1. Which statement below is true of an inner join? "
   ]
  },
  {
   "cell_type": "markdown",
   "id": "adc862ce",
   "metadata": {},
   "source": [
    "The two tables being joined must have a common key that appears in both tables. "
   ]
  },
  {
   "cell_type": "markdown",
   "id": "8209e1fd",
   "metadata": {},
   "source": [
    "2. If a column appears with the same name in two tables being joined then …"
   ]
  },
  {
   "cell_type": "markdown",
   "id": "92c84c10",
   "metadata": {},
   "source": [
    "These columns must be qualified with the table name to keep them unambiguous. "
   ]
  },
  {
   "cell_type": "markdown",
   "id": "0829198f",
   "metadata": {},
   "source": [
    "3. Consider this query and then choose the answer below that is true. \n",
    "\n",
    "```\n",
    "SELECT LastName, Firstname, count(OrderID) as \"Order Total\"\n",
    "\t    FROM employees E, orders O \n",
    "\t    WHERE E.employeeid  =  O.employeeid\n",
    "\tGROUP BY LastName, FirstName \n",
    "\tOrder By 3 desc;\n",
    "```"
   ]
  },
  {
   "cell_type": "markdown",
   "id": "3e643392",
   "metadata": {},
   "source": [
    "Answer: This query contains an IMPLICIT INNER JOIN. "
   ]
  },
  {
   "cell_type": "code",
   "execution_count": null,
   "id": "2334734b",
   "metadata": {},
   "outputs": [],
   "source": []
  }
 ],
 "metadata": {
  "kernelspec": {
   "display_name": "Python 3 (ipykernel)",
   "language": "python",
   "name": "python3"
  },
  "language_info": {
   "codemirror_mode": {
    "name": "ipython",
    "version": 3
   },
   "file_extension": ".py",
   "mimetype": "text/x-python",
   "name": "python",
   "nbconvert_exporter": "python",
   "pygments_lexer": "ipython3",
   "version": "3.9.12"
  }
 },
 "nbformat": 4,
 "nbformat_minor": 5
}
