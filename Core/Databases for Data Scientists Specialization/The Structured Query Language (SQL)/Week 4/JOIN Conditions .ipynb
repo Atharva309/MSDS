{
 "cells": [
  {
   "cell_type": "markdown",
   "id": "80b8f6ad",
   "metadata": {},
   "source": [
    "Which statement below is true? "
   ]
  },
  {
   "cell_type": "markdown",
   "id": "acaca9ca",
   "metadata": {},
   "source": [
    "- A query joining three tables must have two join conditions. Joining (N) tables requires (N - 1) conditions. "
   ]
  },
  {
   "cell_type": "markdown",
   "id": "c90d6d1a",
   "metadata": {},
   "source": [
    "A Cartesian Product may occur when "
   ]
  },
  {
   "cell_type": "markdown",
   "id": "ee4b989c",
   "metadata": {},
   "source": [
    "- There are not enough JOIN conditions for the number of tables being joined. "
   ]
  }
 ],
 "metadata": {
  "kernelspec": {
   "display_name": "Python 3 (ipykernel)",
   "language": "python",
   "name": "python3"
  },
  "language_info": {
   "codemirror_mode": {
    "name": "ipython",
    "version": 3
   },
   "file_extension": ".py",
   "mimetype": "text/x-python",
   "name": "python",
   "nbconvert_exporter": "python",
   "pygments_lexer": "ipython3",
   "version": "3.9.12"
  }
 },
 "nbformat": 4,
 "nbformat_minor": 5
}
