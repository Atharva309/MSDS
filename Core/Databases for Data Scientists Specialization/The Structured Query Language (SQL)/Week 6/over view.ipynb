{
 "cells": [
  {
   "cell_type": "markdown",
   "id": "d3c9d4a4-675d-47ac-bb54-3b5d80fe30df",
   "metadata": {},
   "source": [
    "week 1\n",
    "- executing sql\n",
    "\n",
    "week 2\n",
    "- basic select\n",
    "- dates nulls\n",
    "- environment\n",
    "- order by distinct\n",
    "- where clause\n",
    "\n",
    "week 3\n",
    "- group by\n",
    "- group functions\n",
    "- sub queries\n",
    "\n",
    "week 4\n",
    "- cartesian product\n",
    "- joins\n",
    "- outer joins\n",
    "- three way join\n",
    "\n",
    "week 5\n",
    "- alter\n",
    "- constraints\n",
    "- create\n",
    "- identify\n",
    "\n",
    "week 6\n",
    "- case\n",
    "- final wrap up\n",
    "- union\n",
    "- views"
   ]
  }
 ],
 "metadata": {
  "kernelspec": {
   "display_name": "Python 3 (ipykernel)",
   "language": "python",
   "name": "python3"
  },
  "language_info": {
   "codemirror_mode": {
    "name": "ipython",
    "version": 3
   },
   "file_extension": ".py",
   "mimetype": "text/x-python",
   "name": "python",
   "nbconvert_exporter": "python",
   "pygments_lexer": "ipython3",
   "version": "3.8.18"
  }
 },
 "nbformat": 4,
 "nbformat_minor": 5
}
