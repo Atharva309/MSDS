{
 "cells": [
  {
   "cell_type": "markdown",
   "id": "a0dbbb4a-6c58-4481-b576-3641f419df60",
   "metadata": {},
   "source": [
    "At this point you have completed the Final Comprehensive SQL Lab.  This lab offered you the opportunity to demonstrate your understanding of various SQL commands and concepts, and apply these commands and concepts to the solution of  business/analytical problems.   \n",
    "\n",
    "In this final project, you are asked to consider the “Classic Models” database which you utilized for the Final Comprehensive SQL Lab.  \n",
    "- Then compose THREE distinct business/analytical problems conceptually similar to the problems presented in the Comprehensive SQL Lab.\n",
    "- State each problem as an analysis challenge which students must complete using SQL code against the Classic Models database.\n",
    "- After stating each of the three analytical problems, you are required to compose the SQL code necessary to solve the problem.\n",
    "- For each, you should capture BOTH the SQL code necessary to solve the problem, AND the SQL Answer Set containing the solution.  \n",
    "\n",
    "- Finally, you must reflect on what you’ve learned during this SQL course.\n",
    "    - Based on this reflection please compose a paragraph describing how SQL provides a powerful tool for Data Analysts/Data Scientists to conduct data analytics."
   ]
  },
  {
   "cell_type": "code",
   "execution_count": null,
   "id": "68d5b450-800e-4c18-b99d-c2f457bf8093",
   "metadata": {},
   "outputs": [],
   "source": []
  }
 ],
 "metadata": {
  "kernelspec": {
   "display_name": "Python 3 (ipykernel)",
   "language": "python",
   "name": "python3"
  },
  "language_info": {
   "codemirror_mode": {
    "name": "ipython",
    "version": 3
   },
   "file_extension": ".py",
   "mimetype": "text/x-python",
   "name": "python",
   "nbconvert_exporter": "python",
   "pygments_lexer": "ipython3",
   "version": "3.8.18"
  }
 },
 "nbformat": 4,
 "nbformat_minor": 5
}
