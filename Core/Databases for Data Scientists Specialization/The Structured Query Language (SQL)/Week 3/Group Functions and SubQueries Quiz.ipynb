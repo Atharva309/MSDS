{
 "cells": [
  {
   "cell_type": "markdown",
   "id": "7ac3a042",
   "metadata": {},
   "source": [
    "1. Which group functions will work ONLY with numeric columns? "
   ]
  },
  {
   "cell_type": "markdown",
   "id": "68793783",
   "metadata": {},
   "source": [
    "Answer: SUM, AVG. "
   ]
  },
  {
   "cell_type": "markdown",
   "id": "5dd5181f",
   "metadata": {},
   "source": [
    "----"
   ]
  },
  {
   "cell_type": "markdown",
   "id": "24a92daa",
   "metadata": {},
   "source": [
    "2. What is wrong with this query?"
   ]
  },
  {
   "cell_type": "markdown",
   "id": "705fff96",
   "metadata": {},
   "source": [
    "```\n",
    "SELECT OrderID, SUM(UnitPrice), SUM(Quantity) \n",
    "     FROM orderdetails\n",
    "     WHERE OrderID in (10248, 10249, 10250, 10251);\n",
    "```"
   ]
  },
  {
   "cell_type": "markdown",
   "id": "41a6c4fe",
   "metadata": {},
   "source": [
    "Answer: The SUMs will produce a single row in the answer set, but do not match with the level of detail of the OrderID. "
   ]
  },
  {
   "cell_type": "markdown",
   "id": "7b094f15",
   "metadata": {},
   "source": [
    "---"
   ]
  },
  {
   "cell_type": "markdown",
   "id": "44cd9e7f",
   "metadata": {},
   "source": [
    "3. Which of the following queries does NOT violate the rule regarding the balance between the SELECT statement and the GROUP BY"
   ]
  },
  {
   "cell_type": "markdown",
   "id": "85bcf47c",
   "metadata": {},
   "source": [
    "<!-- SELECT ProductID, SUM(UnitPrice), SUM(Quantity) \n",
    "     FROM orderdetails\n",
    "     WHERE OrderID in (10248, 10249, 10250, 10251)\n",
    "\tGROUP BY ProductID; -->"
   ]
  },
  {
   "cell_type": "markdown",
   "id": "febefdcc",
   "metadata": {},
   "source": [
    "Answer: "
   ]
  },
  {
   "cell_type": "markdown",
   "id": "71464cb6",
   "metadata": {},
   "source": [
    "```\n",
    "SELECT ProductID, SUM(UnitPrice), SUM(Quantity) \n",
    "     FROM orderdetails\n",
    "     WHERE OrderID in (10248, 10249, 10250, 10251)\n",
    "\tGROUP BY ProductID;\n",
    "```"
   ]
  },
  {
   "cell_type": "markdown",
   "id": "96af3b71",
   "metadata": {},
   "source": [
    "---"
   ]
  },
  {
   "cell_type": "markdown",
   "id": "3cab9e11",
   "metadata": {},
   "source": [
    "4. A Subquery that provides a predicate in a WHERE clause in the outer query with an equals condition…"
   ]
  },
  {
   "cell_type": "markdown",
   "id": "31bc5457",
   "metadata": {},
   "source": [
    "---"
   ]
  },
  {
   "cell_type": "markdown",
   "id": "5924cd67",
   "metadata": {},
   "source": [
    "5. A Subquery that provides a predicate in a WHERE clause in the outer query with an “in” condition…"
   ]
  },
  {
   "cell_type": "markdown",
   "id": "dfab45ca",
   "metadata": {},
   "source": [
    "---"
   ]
  },
  {
   "cell_type": "markdown",
   "id": "f72aa664",
   "metadata": {},
   "source": [
    "6. A Subquery that appears in a SELECT clause in the outer query …"
   ]
  },
  {
   "cell_type": "markdown",
   "id": "7e1e0901",
   "metadata": {},
   "source": [
    "Answer: Returns a single value: one row, one column. "
   ]
  },
  {
   "cell_type": "markdown",
   "id": "0ecb6e1f",
   "metadata": {},
   "source": [
    "---"
   ]
  },
  {
   "cell_type": "markdown",
   "id": "c5c29d3a",
   "metadata": {},
   "source": [
    "7. A Subquery that appears in a FROM clause in the outer query …"
   ]
  },
  {
   "cell_type": "markdown",
   "id": "689b67d3",
   "metadata": {},
   "source": [
    "Answer: Must have an alias. "
   ]
  },
  {
   "cell_type": "markdown",
   "id": "e2665b1e",
   "metadata": {},
   "source": [
    "---"
   ]
  },
  {
   "cell_type": "markdown",
   "id": "f60441a9",
   "metadata": {},
   "source": [
    "8. Select the statement below that is TRUE regarding the GROUP BY. "
   ]
  },
  {
   "cell_type": "markdown",
   "id": "256ba5f5",
   "metadata": {},
   "source": [
    "Answer: The HAVING works with the GROUP BY like the WHERE works with the SELECT. "
   ]
  },
  {
   "cell_type": "markdown",
   "id": "8c5a3c46",
   "metadata": {},
   "source": [
    "---"
   ]
  },
  {
   "cell_type": "markdown",
   "id": "d36d8633",
   "metadata": {},
   "source": [
    "9. Which of the following statements is TRUE regarding GROUP functions? "
   ]
  },
  {
   "cell_type": "markdown",
   "id": "dec775fb",
   "metadata": {},
   "source": [
    "Answer: Without a GROUP BY, the COUNT (*) will return an answer set with one row. "
   ]
  },
  {
   "cell_type": "markdown",
   "id": "c5481497",
   "metadata": {},
   "source": [
    "---"
   ]
  },
  {
   "cell_type": "markdown",
   "id": "91cbdbb3",
   "metadata": {},
   "source": [
    "10. True or False: It possible for an inner subquery and the outer query to SELECT from different tables. "
   ]
  },
  {
   "cell_type": "markdown",
   "id": "183e4369",
   "metadata": {},
   "source": [
    "Answer: True"
   ]
  },
  {
   "cell_type": "code",
   "execution_count": null,
   "id": "bd1a6000",
   "metadata": {},
   "outputs": [],
   "source": []
  }
 ],
 "metadata": {
  "kernelspec": {
   "display_name": "Python 3 (ipykernel)",
   "language": "python",
   "name": "python3"
  },
  "language_info": {
   "codemirror_mode": {
    "name": "ipython",
    "version": 3
   },
   "file_extension": ".py",
   "mimetype": "text/x-python",
   "name": "python",
   "nbconvert_exporter": "python",
   "pygments_lexer": "ipython3",
   "version": "3.9.12"
  }
 },
 "nbformat": 4,
 "nbformat_minor": 5
}
