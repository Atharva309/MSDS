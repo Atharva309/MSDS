{
 "cells": [
  {
   "cell_type": "markdown",
   "id": "bdd2fd72",
   "metadata": {},
   "source": [
    "You should have a clear understanding about Big Data’s application, definition, and architecture. \n",
    "\n",
    "You don’t have to do a project, just lay out the plan for it. You are expected to describe a Big Data project, in terms of its application, its satisfaction of the Vs, its challenges, and its workflow.\n",
    "Review criteria\n",
    "\n",
    "Three of your peers will review your submission based on:\n",
    "\n",
    "    Applications. Did you successfully demonstrate the importance of your project?\n",
    "\n",
    "    Definitions. Did you successfully explain the project using the Vs and how these Vs lead to challenges?\n",
    "\n",
    "    Architecture. Did you clearly explain the workflow from  the raw data to the  final knowledge in terms of the Big Data Architecture?"
   ]
  },
  {
   "cell_type": "code",
   "execution_count": null,
   "id": "8ed7b503",
   "metadata": {},
   "outputs": [],
   "source": []
  }
 ],
 "metadata": {
  "kernelspec": {
   "display_name": "Python 3 (ipykernel)",
   "language": "python",
   "name": "python3"
  },
  "language_info": {
   "codemirror_mode": {
    "name": "ipython",
    "version": 3
   },
   "file_extension": ".py",
   "mimetype": "text/x-python",
   "name": "python",
   "nbconvert_exporter": "python",
   "pygments_lexer": "ipython3",
   "version": "3.9.12"
  }
 },
 "nbformat": 4,
 "nbformat_minor": 5
}
