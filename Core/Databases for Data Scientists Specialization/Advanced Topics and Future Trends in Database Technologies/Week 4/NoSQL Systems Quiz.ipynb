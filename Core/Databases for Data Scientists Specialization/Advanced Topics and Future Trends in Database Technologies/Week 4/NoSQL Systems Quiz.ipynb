{
 "cells": [
  {
   "cell_type": "markdown",
   "id": "c0a9a4d2",
   "metadata": {},
   "source": [
    "## 1. Which of the following type of NoSQL database system specializes on handling huge collections of documents? "
   ]
  },
  {
   "cell_type": "markdown",
   "id": "e573ea93",
   "metadata": {},
   "source": [
    "MongoDB"
   ]
  },
  {
   "cell_type": "markdown",
   "id": "5698e3cd",
   "metadata": {},
   "source": [
    "## 2. Which of the following statements best describes an “aggregate” ? "
   ]
  },
  {
   "cell_type": "markdown",
   "id": "167617b2",
   "metadata": {},
   "source": [
    "An aggregate is basically a collection of unnormalized data values that are grouped together as users need them. "
   ]
  },
  {
   "cell_type": "markdown",
   "id": "509cbfc4",
   "metadata": {},
   "source": [
    "## 3. True/False: The term “NoSQL” means that these non-relational databases do NOT use the SQL query language. "
   ]
  },
  {
   "cell_type": "markdown",
   "id": "c5a8794f",
   "metadata": {},
   "source": [
    "False"
   ]
  },
  {
   "cell_type": "markdown",
   "id": "13322651",
   "metadata": {},
   "source": [
    "## 4. Which of the following scaling techniques are used by most NoSQL systems to handle Big data? (mark all that apply)"
   ]
  },
  {
   "cell_type": "markdown",
   "id": "0574455d",
   "metadata": {},
   "source": [
    "- Sharding – spreading subsets of data across multiple nodes. \n",
    "- Replication – creating replicas and spreading them out across multiple nodes. "
   ]
  },
  {
   "cell_type": "markdown",
   "id": "a6d475f5",
   "metadata": {},
   "source": [
    "## 5. The following scenario describes which aspect of NoSQL systems? \n",
    "\n",
    "“Replication of an update to three nodes in a cluster cannot take time to wait for an acknowledgment, so concurrent READ requests hitting two nodes in the cluster may return different results.” "
   ]
  },
  {
   "cell_type": "markdown",
   "id": "6b91c775",
   "metadata": {},
   "source": [
    "NoSQL systems may choose to trade data consistency for processing speed. "
   ]
  }
 ],
 "metadata": {
  "kernelspec": {
   "display_name": "Python 3 (ipykernel)",
   "language": "python",
   "name": "python3"
  },
  "language_info": {
   "codemirror_mode": {
    "name": "ipython",
    "version": 3
   },
   "file_extension": ".py",
   "mimetype": "text/x-python",
   "name": "python",
   "nbconvert_exporter": "python",
   "pygments_lexer": "ipython3",
   "version": "3.8.18"
  }
 },
 "nbformat": 4,
 "nbformat_minor": 5
}
