{
 "cells": [
  {
   "cell_type": "markdown",
   "id": "2fb9a393",
   "metadata": {},
   "source": [
    "## 1. Which statement(s) below summarize(s) “The Relational Problem”? (mark all that apply)"
   ]
  },
  {
   "cell_type": "markdown",
   "id": "ff744152",
   "metadata": {},
   "source": [
    "- Relational databases require rigid structure yet Big Data is often unstructured. \n",
    "- Big Data is exploding and relational DBMS software struggles to handle the volume, variety and velocity of Big Data."
   ]
  },
  {
   "cell_type": "markdown",
   "id": "4001bfb8",
   "metadata": {},
   "source": [
    "## 2. Which of the following techniques can help relational databases cope with the Big Data explosion ? (Mark all that apply)"
   ]
  },
  {
   "cell_type": "markdown",
   "id": "6c355840",
   "metadata": {},
   "source": [
    "- Configuring multiple database nodes into a cluster so that they work together as one. \n",
    "- Using replication and sharding to spread the data out across multiple nodes in a cluster. "
   ]
  },
  {
   "cell_type": "markdown",
   "id": "ff4fe498",
   "metadata": {},
   "source": [
    "## 3. True/False Peer-to-peer replication requires all updates/writes to go to the primary node. "
   ]
  },
  {
   "cell_type": "markdown",
   "id": "0902b45d",
   "metadata": {},
   "source": [
    "False"
   ]
  },
  {
   "cell_type": "markdown",
   "id": "e4155af2",
   "metadata": {},
   "source": [
    "## 4. Which risks deter database systems managers from migrating from relational systems to NoSQL systems? (mark all that apply)"
   ]
  },
  {
   "cell_type": "markdown",
   "id": "961aab6b",
   "metadata": {},
   "source": [
    "- Changing from older relational systems to new NoSQL systems will likely require staff to be replaced or re-trained. \n",
    "- Changing from older relational systems to new NoSQL systems will likely require application code to be re-written. "
   ]
  },
  {
   "cell_type": "markdown",
   "id": "43815e4c",
   "metadata": {},
   "source": [
    "## 5. Which of the following statement(s) describe(s) the role of a “watcher” in a distributed database cluster? (mark all that apply) "
   ]
  },
  {
   "cell_type": "markdown",
   "id": "4ac3209b",
   "metadata": {},
   "source": [
    "- One (or more) watcher node(s) directs the query traffic as it is passed to the cluster. \n",
    "- The watcher will detect a node failure and re-route query traffic accordingly. "
   ]
  }
 ],
 "metadata": {
  "kernelspec": {
   "display_name": "Python 3 (ipykernel)",
   "language": "python",
   "name": "python3"
  },
  "language_info": {
   "codemirror_mode": {
    "name": "ipython",
    "version": 3
   },
   "file_extension": ".py",
   "mimetype": "text/x-python",
   "name": "python",
   "nbconvert_exporter": "python",
   "pygments_lexer": "ipython3",
   "version": "3.9.12"
  }
 },
 "nbformat": 4,
 "nbformat_minor": 5
}
