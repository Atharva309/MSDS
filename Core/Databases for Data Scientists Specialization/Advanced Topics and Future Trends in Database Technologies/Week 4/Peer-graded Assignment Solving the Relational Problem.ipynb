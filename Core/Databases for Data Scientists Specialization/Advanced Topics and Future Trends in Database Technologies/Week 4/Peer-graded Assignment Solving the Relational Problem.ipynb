{
 "cells": [
  {
   "cell_type": "markdown",
   "id": "8ca03a89",
   "metadata": {},
   "source": [
    "Now that you have a solid understanding of both relational and non-relational database software offerings, please answer the following questions in essay format. \n",
    "\n",
    "    Describe the “Relational Problem”\n",
    "\n",
    "    Describe the trade-offs faced by database technologists as they engineer solutions to the relational problem. \n",
    "\n",
    "Review criteria\n",
    "\n",
    "    Is the description of the Relational Problem accurate and thorough? \n",
    "\n",
    "    Are the trade-offs faced by system designers accurately described?\n",
    "\n",
    "    Do the solutions to the relational problem described reflect a continuum of options from one extreme to the other? "
   ]
  },
  {
   "cell_type": "code",
   "execution_count": null,
   "id": "1a5b8f5f",
   "metadata": {},
   "outputs": [],
   "source": []
  }
 ],
 "metadata": {
  "kernelspec": {
   "display_name": "Python 3 (ipykernel)",
   "language": "python",
   "name": "python3"
  },
  "language_info": {
   "codemirror_mode": {
    "name": "ipython",
    "version": 3
   },
   "file_extension": ".py",
   "mimetype": "text/x-python",
   "name": "python",
   "nbconvert_exporter": "python",
   "pygments_lexer": "ipython3",
   "version": "3.9.12"
  }
 },
 "nbformat": 4,
 "nbformat_minor": 5
}
