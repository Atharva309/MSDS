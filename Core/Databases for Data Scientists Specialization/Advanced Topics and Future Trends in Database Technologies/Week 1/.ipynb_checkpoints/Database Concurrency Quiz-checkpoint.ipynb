{
 "cells": [
  {
   "cell_type": "markdown",
   "id": "5aca72b3",
   "metadata": {},
   "source": [
    "## 1. Which of the following anomalies might occur without proper concurrency control? (mark all that apply)"
   ]
  },
  {
   "cell_type": "markdown",
   "id": "8f64f2e0",
   "metadata": {},
   "source": [
    "- Inconsistent reads \n",
    "- A “deadlock”\n",
    "- The “lost update” "
   ]
  },
  {
   "cell_type": "markdown",
   "id": "e2be0659",
   "metadata": {},
   "source": [
    "## 2. The database uses what technique to control concurrency? "
   ]
  },
  {
   "cell_type": "markdown",
   "id": "37488a79",
   "metadata": {},
   "source": []
  },
  {
   "cell_type": "markdown",
   "id": "8763428c",
   "metadata": {},
   "source": [
    "## 3. True/False:   Implicit locks are placed by the database software while explicit locks are issued from within application programs. "
   ]
  },
  {
   "cell_type": "markdown",
   "id": "cfd82903",
   "metadata": {},
   "source": [
    "True"
   ]
  },
  {
   "cell_type": "markdown",
   "id": "6484d0b5",
   "metadata": {},
   "source": [
    "## 4. Which statement below correctly states lock granularity from the smallest to largest (in terms of how much data is being locked?)"
   ]
  },
  {
   "cell_type": "markdown",
   "id": "1f7e9c69",
   "metadata": {},
   "source": [
    "Page, Row, Database, Table "
   ]
  },
  {
   "cell_type": "markdown",
   "id": "f8a45b9a",
   "metadata": {},
   "source": [
    "## 5. Select the statement below that best describes how a DBMS handles a DEADLOCK situation."
   ]
  },
  {
   "cell_type": "markdown",
   "id": "2b447d1c",
   "metadata": {},
   "source": [
    "The DBMS detects when two transactions are in a deadlock. When this occurs it arbitrarily kills one of the transactions."
   ]
  }
 ],
 "metadata": {
  "kernelspec": {
   "display_name": "Python 3 (ipykernel)",
   "language": "python",
   "name": "python3"
  },
  "language_info": {
   "codemirror_mode": {
    "name": "ipython",
    "version": 3
   },
   "file_extension": ".py",
   "mimetype": "text/x-python",
   "name": "python",
   "nbconvert_exporter": "python",
   "pygments_lexer": "ipython3",
   "version": "3.9.12"
  }
 },
 "nbformat": 4,
 "nbformat_minor": 5
}
