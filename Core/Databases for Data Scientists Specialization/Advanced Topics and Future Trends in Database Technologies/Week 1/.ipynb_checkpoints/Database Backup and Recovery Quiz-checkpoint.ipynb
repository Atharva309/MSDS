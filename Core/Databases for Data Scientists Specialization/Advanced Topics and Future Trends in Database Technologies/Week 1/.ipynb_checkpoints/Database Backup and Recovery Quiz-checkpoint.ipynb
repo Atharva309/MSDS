{
 "cells": [
  {
   "cell_type": "markdown",
   "id": "6e027e48",
   "metadata": {},
   "source": [
    "## 1. How often should a database be backed up?"
   ]
  },
  {
   "cell_type": "markdown",
   "id": "307671d2",
   "metadata": {},
   "source": [
    "It depends on the size of the database, the number of users, the frequency of updates, and how critical the database is to the organization. "
   ]
  },
  {
   "cell_type": "markdown",
   "id": "7a809f59",
   "metadata": {},
   "source": [
    "## 2. Why might an organization need a hot standby copy of a database? (mark all that apply)"
   ]
  },
  {
   "cell_type": "markdown",
   "id": "57bad8c4",
   "metadata": {},
   "source": [
    "- The organization can take a backup copy from the hot standby, offloading work from the primary database copy. \n",
    "- If the primary database is lost, a failover to the hot standby can take place very quickly. \n",
    "- The database is so critical that the organization cannot afford the time it would take to recover the database from a backup. "
   ]
  },
  {
   "cell_type": "markdown",
   "id": "2b4826d9",
   "metadata": {},
   "source": [
    "## 3. True/False: With Primary/Secondary replication, the secondary server processes all database update/write queries. "
   ]
  },
  {
   "cell_type": "markdown",
   "id": "8d1aafb7",
   "metadata": {},
   "source": [
    "False"
   ]
  },
  {
   "cell_type": "markdown",
   "id": "a0119d90",
   "metadata": {},
   "source": [
    "## 4. Which statements are true regarding the difference between a HOT and a COLD backup? (mark all that apply)"
   ]
  },
  {
   "cell_type": "markdown",
   "id": "cf157fbf",
   "metadata": {},
   "source": [
    "- In a WARM backup, the database remains online and can be used while it’s being backed up. \n",
    "- With a COLD backup, the database is taken offline and cannot be used while it’s being backed up. "
   ]
  },
  {
   "cell_type": "markdown",
   "id": "1f6c2b8d",
   "metadata": {},
   "source": [
    "## 5. True/False: Transaction Logs are typically used to recover a database from backup after a disaster. "
   ]
  },
  {
   "cell_type": "markdown",
   "id": "5e9938d6",
   "metadata": {},
   "source": [
    "True"
   ]
  }
 ],
 "metadata": {
  "kernelspec": {
   "display_name": "Python 3 (ipykernel)",
   "language": "python",
   "name": "python3"
  },
  "language_info": {
   "codemirror_mode": {
    "name": "ipython",
    "version": 3
   },
   "file_extension": ".py",
   "mimetype": "text/x-python",
   "name": "python",
   "nbconvert_exporter": "python",
   "pygments_lexer": "ipython3",
   "version": "3.9.12"
  }
 },
 "nbformat": 4,
 "nbformat_minor": 5
}
