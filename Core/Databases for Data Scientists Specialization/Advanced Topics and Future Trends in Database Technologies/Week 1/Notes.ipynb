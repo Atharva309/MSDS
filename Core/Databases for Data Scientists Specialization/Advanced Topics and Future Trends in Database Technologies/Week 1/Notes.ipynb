{
 "cells": [
  {
   "cell_type": "markdown",
   "id": "24ffaa4d-2b9c-4776-b964-3ea7c09e8735",
   "metadata": {},
   "source": [
    "DBMS Transaction Logging\n",
    "- commit\n",
    "- Rollback\n",
    "- transaction\n",
    "- commit transaction set or rollback transaction set\n",
    "- database backups\n",
    "- types of backups - full, incremental, COLD, WARM, hot stand-by, \n",
    "- database replication\n",
    "- concurrency control\n",
    "- implict locks\n",
    "- explicit locks\n",
    "- lock granularity\n",
    "- types of locks: exclusive locks, shared locks\n",
    "- deadlock\n",
    "- ACID - atomic, conssitent, isolated, and durable\n"
   ]
  },
  {
   "cell_type": "code",
   "execution_count": null,
   "id": "30ca2e45-2542-48f4-aaaa-b16110a41709",
   "metadata": {},
   "outputs": [],
   "source": []
  }
 ],
 "metadata": {
  "kernelspec": {
   "display_name": "Python 3 (ipykernel)",
   "language": "python",
   "name": "python3"
  },
  "language_info": {
   "codemirror_mode": {
    "name": "ipython",
    "version": 3
   },
   "file_extension": ".py",
   "mimetype": "text/x-python",
   "name": "python",
   "nbconvert_exporter": "python",
   "pygments_lexer": "ipython3",
   "version": "3.8.18"
  }
 },
 "nbformat": 4,
 "nbformat_minor": 5
}
