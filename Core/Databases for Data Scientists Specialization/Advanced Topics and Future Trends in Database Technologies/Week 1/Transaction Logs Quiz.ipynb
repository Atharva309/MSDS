{
 "cells": [
  {
   "cell_type": "markdown",
   "id": "ba95e501",
   "metadata": {},
   "source": [
    "1. Which of the following database activities rely on Transaction Logs? (Mark all that apply)"
   ]
  },
  {
   "cell_type": "markdown",
   "id": "0aeb4112",
   "metadata": {},
   "source": [
    "- Replication\n",
    "- Database Recovery \n",
    "- Rollback. "
   ]
  },
  {
   "cell_type": "markdown",
   "id": "0f80736f",
   "metadata": {},
   "source": [
    "---"
   ]
  },
  {
   "cell_type": "markdown",
   "id": "7eb78dc5",
   "metadata": {},
   "source": [
    "2. Which of the following terms are used to describe transaction logs ? (Mark all that apply)"
   ]
  },
  {
   "cell_type": "markdown",
   "id": "954304c3",
   "metadata": {},
   "source": [
    "- Bin logs. \n",
    "- Write-Ahead-Logs. \n",
    "- Redo Logs. "
   ]
  },
  {
   "cell_type": "markdown",
   "id": "065845c7",
   "metadata": {},
   "source": [
    "--- "
   ]
  },
  {
   "cell_type": "markdown",
   "id": "a3df223c",
   "metadata": {},
   "source": [
    "3. True/False: Database Log files are stored on disk within a database table. "
   ]
  },
  {
   "cell_type": "markdown",
   "id": "8b0672a1",
   "metadata": {},
   "source": [
    "False"
   ]
  },
  {
   "cell_type": "markdown",
   "id": "1c03f33f",
   "metadata": {},
   "source": [
    "--- "
   ]
  },
  {
   "cell_type": "markdown",
   "id": "b6050ac0",
   "metadata": {},
   "source": [
    "4. Which of the following statements is true about transaction logs? (mark all that apply) "
   ]
  },
  {
   "cell_type": "markdown",
   "id": "a86f207c",
   "metadata": {},
   "source": [
    "- During an update, the log is written before the database is updated. \n",
    "- The logs are written in binary and require a utility to view them. "
   ]
  },
  {
   "cell_type": "markdown",
   "id": "ab5e9271",
   "metadata": {},
   "source": [
    "--- "
   ]
  },
  {
   "cell_type": "markdown",
   "id": "c8b43661",
   "metadata": {},
   "source": [
    "5. Which of the following statements is true about the transaction log FLUSH from memory to disk? (mark all that apply) "
   ]
  },
  {
   "cell_type": "markdown",
   "id": "b952cf4f",
   "metadata": {},
   "source": [
    "- Logs can be set to flush after a certain time has lapsed (hours, minutes, seconds). \n",
    "- Logs can be set to flush after the log file reaches a certain size. \n",
    "- Logs can be set to flush manually when a DBA issues a “Flush” command. "
   ]
  }
 ],
 "metadata": {
  "kernelspec": {
   "display_name": "Python 3 (ipykernel)",
   "language": "python",
   "name": "python3"
  },
  "language_info": {
   "codemirror_mode": {
    "name": "ipython",
    "version": 3
   },
   "file_extension": ".py",
   "mimetype": "text/x-python",
   "name": "python",
   "nbconvert_exporter": "python",
   "pygments_lexer": "ipython3",
   "version": "3.9.12"
  }
 },
 "nbformat": 4,
 "nbformat_minor": 5
}
