{
 "cells": [
  {
   "cell_type": "markdown",
   "id": "6a486690",
   "metadata": {},
   "source": [
    "Based on the material presented in Lesson 4 of Module 1 of this course:  \n",
    "\n",
    "Consider the various database-focused careers described in this lesson.  Then answer the following questions in essay format.\n",
    "\n",
    "    Considering all the different career paths available in the computing industry, what attracts you to pursuing a career in Database Technologies? \n",
    "\n",
    "    Given the careers described in Lesson Four, which of these roles most appeals to you?   Why? "
   ]
  },
  {
   "cell_type": "code",
   "execution_count": null,
   "id": "088c2d9d",
   "metadata": {},
   "outputs": [],
   "source": []
  }
 ],
 "metadata": {
  "kernelspec": {
   "display_name": "Python 3 (ipykernel)",
   "language": "python",
   "name": "python3"
  },
  "language_info": {
   "codemirror_mode": {
    "name": "ipython",
    "version": 3
   },
   "file_extension": ".py",
   "mimetype": "text/x-python",
   "name": "python",
   "nbconvert_exporter": "python",
   "pygments_lexer": "ipython3",
   "version": "3.8.18"
  }
 },
 "nbformat": 4,
 "nbformat_minor": 5
}
