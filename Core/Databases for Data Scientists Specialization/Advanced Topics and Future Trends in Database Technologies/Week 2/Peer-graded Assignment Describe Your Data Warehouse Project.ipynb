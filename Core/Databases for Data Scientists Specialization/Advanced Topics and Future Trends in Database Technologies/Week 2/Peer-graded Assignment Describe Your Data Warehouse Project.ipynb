{
 "cells": [
  {
   "cell_type": "markdown",
   "id": "ba317a36",
   "metadata": {},
   "source": [
    "You should have a clear understanding about the definition of data warehouse and the data structure data cube.\n",
    "\n",
    "You don’t have to do a project, just lay out the plan for it. You are expected to describe a data warehouse project, in terms of its interest, dimensions of the data cubes, possible usage, etc.\n",
    "\n",
    "Review criteria\n",
    "\n",
    "Three of your peers will review your submission based on:\n",
    "\n",
    "    Interest. Did you successfully demonstrate the interest of the data warehouse??\n",
    "\n",
    "    Dimension of the data cubes. Did you successfully explain the needed dimensions of the data cubes?\n",
    "\n",
    "    Application. Did you explain the possible application of this data warehouse?"
   ]
  },
  {
   "cell_type": "markdown",
   "id": "ae342a28",
   "metadata": {},
   "source": [
    "Part 1: The interest\n",
    "\n",
    "- The interest of the data warehouse would be its centralized data storage, data integration, ability to analyize historical data, data quality and consitency, scalability, and governance. \n",
    "Prompt\n",
    "\n",
    "Part 2: The dimensions\n",
    "\n",
    "- The dimensions of the data cube would be its deminsions of time, product, customer, and store locations.\n",
    "Prompt\n",
    "\n",
    "Part 3: The applications\n",
    "\n",
    "- The applications of the dataware house could be business intelligence and reporting, sales and revenue analysis, and customer analysis and segmentation. "
   ]
  },
  {
   "cell_type": "code",
   "execution_count": null,
   "id": "aa895f23",
   "metadata": {},
   "outputs": [],
   "source": []
  }
 ],
 "metadata": {
  "kernelspec": {
   "display_name": "Python 3 (ipykernel)",
   "language": "python",
   "name": "python3"
  },
  "language_info": {
   "codemirror_mode": {
    "name": "ipython",
    "version": 3
   },
   "file_extension": ".py",
   "mimetype": "text/x-python",
   "name": "python",
   "nbconvert_exporter": "python",
   "pygments_lexer": "ipython3",
   "version": "3.9.12"
  }
 },
 "nbformat": 4,
 "nbformat_minor": 5
}
