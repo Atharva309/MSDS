{
 "cells": [
  {
   "cell_type": "markdown",
   "id": "ba317a36",
   "metadata": {},
   "source": [
    "You should have a clear understanding about the definition of data warehouse and the data structure data cube.\n",
    "\n",
    "You don’t have to do a project, just lay out the plan for it. You are expected to describe a data warehouse project, in terms of its interest, dimensions of the data cubes, possible usage, etc.\n",
    "\n",
    "Review criteria\n",
    "\n",
    "Three of your peers will review your submission based on:\n",
    "\n",
    "    Interest. Did you successfully demonstrate the interest of the data warehouse??\n",
    "\n",
    "    Dimension of the data cubes. Did you successfully explain the needed dimensions of the data cubes?\n",
    "\n",
    "    Application. Did you explain the possible application of this data warehouse?"
   ]
  },
  {
   "cell_type": "code",
   "execution_count": null,
   "id": "1933f9ad",
   "metadata": {},
   "outputs": [],
   "source": []
  }
 ],
 "metadata": {
  "kernelspec": {
   "display_name": "Python 3 (ipykernel)",
   "language": "python",
   "name": "python3"
  },
  "language_info": {
   "codemirror_mode": {
    "name": "ipython",
    "version": 3
   },
   "file_extension": ".py",
   "mimetype": "text/x-python",
   "name": "python",
   "nbconvert_exporter": "python",
   "pygments_lexer": "ipython3",
   "version": "3.9.12"
  }
 },
 "nbformat": 4,
 "nbformat_minor": 5
}
