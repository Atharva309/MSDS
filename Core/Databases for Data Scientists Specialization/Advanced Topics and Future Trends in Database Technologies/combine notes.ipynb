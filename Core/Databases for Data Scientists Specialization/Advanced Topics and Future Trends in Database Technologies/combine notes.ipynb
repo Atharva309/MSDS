{
 "cells": [
  {
   "cell_type": "code",
   "execution_count": 1,
   "id": "058e31d0-1c3f-4279-896f-0b243b60c2e3",
   "metadata": {},
   "outputs": [],
   "source": [
    "import os\n",
    "import PyPDF2\n",
    "\n",
    "def pdf_to_text(pdf_path, text_file):\n",
    "    # Open the PDF file\n",
    "    with open(pdf_path, 'rb') as pdf_file:\n",
    "        # Create a PDF reader object\n",
    "        pdf_reader = PyPDF2.PdfReader(pdf_file)\n",
    "        \n",
    "        # Iterate through each page of the PDF\n",
    "        for page_num in range(len(pdf_reader.pages)):\n",
    "            # Extract text from the page\n",
    "            page = pdf_reader.pages[page_num]\n",
    "            text = page.extract_text()\n",
    "            \n",
    "            # Write the extracted text to the text file\n",
    "            text_file.write(text)\n",
    "\n",
    "def convert_pdfs_in_folder(folder_path, output_text_path):\n",
    "    # Open a single text file to write the extracted text from all PDFs\n",
    "    with open(output_text_path, 'w') as text_file:\n",
    "        # Iterate through each file in the folder\n",
    "        for root, dirs, files in os.walk(folder_path):\n",
    "            for file in files:\n",
    "                if file.endswith('.pdf'):\n",
    "                    pdf_path = os.path.join(root, file)\n",
    "                    # Convert PDF to text and write to the single text file\n",
    "                    pdf_to_text(pdf_path, text_file)\n",
    "\n",
    "# Output text file path where the combined text from all PDFs will be saved\n",
    "output_text_path = 'combined_text.txt'\n",
    "\n",
    "# Iterate through 'Week 1' to 'Week 5' folders and convert PDFs to text\n",
    "for week_folder in ['Week 1', 'Week 2', 'Week 3', 'Week 4']:\n",
    "    week_folder_path = os.path.join(os.getcwd(), week_folder)\n",
    "    convert_pdfs_in_folder(week_folder_path, output_text_path)\n"
   ]
  },
  {
   "cell_type": "code",
   "execution_count": null,
   "id": "539205cb-285b-4a0c-bee9-d31e8674b921",
   "metadata": {},
   "outputs": [],
   "source": []
  }
 ],
 "metadata": {
  "kernelspec": {
   "display_name": "Python 3 (ipykernel)",
   "language": "python",
   "name": "python3"
  },
  "language_info": {
   "codemirror_mode": {
    "name": "ipython",
    "version": 3
   },
   "file_extension": ".py",
   "mimetype": "text/x-python",
   "name": "python",
   "nbconvert_exporter": "python",
   "pygments_lexer": "ipython3",
   "version": "3.8.18"
  }
 },
 "nbformat": 4,
 "nbformat_minor": 5
}
