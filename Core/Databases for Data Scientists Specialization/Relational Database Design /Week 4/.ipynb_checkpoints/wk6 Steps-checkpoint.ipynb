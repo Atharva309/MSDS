{
 "cells": [
  {
   "cell_type": "markdown",
   "id": "ddb38f27",
   "metadata": {},
   "source": [
    "## Step 1:\n",
    "\n",
    "Background\n",
    "\n",
    "Your client, PetsCare, is a local clinic that takes care of pets, including pet wellness and vaccination, medical services, surgery including spay and neuter, dental cleaning and treatment, grooming, etc. PetsCare has served the community for more than 20 years, and has been successful in the business.\n",
    "\n",
    "Recently, the current owner, Claire, who is the daughter of the founder of PetsCare, realized that the old file system solution is very inefficient. She and her team have to spend lots of time taking records, querying for information, and maintaining the data. She decided to turn to you, for a Relational Database Management System.\n",
    "\n",
    "PetsCare wants to record information about customers, pets, staff, visits. Claire will be available to meet via Zoom tomorrow to discuss details. You should prepare questions for building the DBMS.\n",
    "\n",
    "Task: What questions should you ask during the meeting?"
   ]
  },
  {
   "cell_type": "markdown",
   "id": "26628254",
   "metadata": {},
   "source": [
    "## Step 2:\n",
    "\n",
    "Build the Entity Relationship Model\n",
    "\n",
    "Congratulations! Thanks to the efficient communication between Claire and you, now you understand the details of the business, and you are ready to write down narrative statements for your Entity Relationship Model. \n",
    "\n",
    "You should lay out your own assumptions and your own ER Model. "
   ]
  },
  {
   "cell_type": "markdown",
   "id": "1813e458",
   "metadata": {},
   "source": [
    "## Step 3:\n",
    "\n",
    "Create the Entity Relationship Diagram\n",
    "\n",
    "In step 2, we got:\n",
    "\n",
    "Here is what you summarized about the entities:\n",
    "\n",
    "    Customers: CustomerID, FirstName, LastName, Address, Email, Phone, DoB, PaymentInfo, JoinDate. CustomerID is the identifier.\n",
    "\n",
    "    Pets: CustomerID, Pet#, NickName, Address, Email, Phone, Category, Species/Breed, Species/Breed Description, Gender, DoB, Notes. CustomerID and Pet# together as the identifier.\n",
    "\n",
    "    Staff: EmployeeID, FirstName, LastName, SSN, Address, Email, Phone, DoB. EmployeeID is the identifier.\n",
    "\n",
    "    Visit: VisitID, Date, Time, Customer, Pet, ServiceID, ServiceName, ServicePrice, ServiceDescription, Staff, Bill, Paid. VisitID is the identifier.\n",
    "\n",
    "Their relationships are:\n",
    "\n",
    "    A customer may have one or more (zero or more) pets; A pet must belong to one and only one (exactly one) customer.\n",
    "\n",
    "    A staff may treat one or more pets (zero or more); and A pet may be familiar with one or more (zero or more) staff.\n",
    "\n",
    "    A customer may have one or more (zero or more) visits; and each visit must be done by one and only one (exactly one) customer. \n",
    "\n",
    "    A pet may have one or more (zero or more) visits; and each visit may involve one (zero or one) pet. \n",
    "\n",
    "    A staff may be in charge of one or more (one or more) visits; and a visit must be charged by one and only one (exactly one) staff.\n",
    "\n",
    "    A customer may be referred by one (zero or one) customer; and a customer may refer one or more (one or more) customers. \n",
    "\n",
    "    A staff must have one and only one (exactly one) supervisor; A staff may supervise one or more (zero or more) staff.\n",
    "\n",
    "Now you have collected the information needed for the ER Model, and you are ready to draw the ERD."
   ]
  },
  {
   "attachments": {},
   "cell_type": "markdown",
   "id": "5af0a905",
   "metadata": {},
   "source": [
    "## Step 4:\n",
    "\n",
    "In step 3, we got:\n",
    "\n",
    "\n",
    "\n",
    "Now you can convert the ERD to a Relational Model.\n",
    "\n"
   ]
  },
  {
   "cell_type": "markdown",
   "id": "db63b773",
   "metadata": {},
   "source": [
    "## Step 5:\n",
    "\n",
    "Normalize the Relational Model to 3NF\n",
    "\n",
    "Before normalization, you should ask Claire about the Functional Dependencies of the relations. Here is what you got from her:\n",
    "\n",
    "    Customers (CustomerID, FirstName, LastName, Address, Email, Phone, DoB, PaymentInfo, JoinDate, ReferredByCustomerID(fk)).\n",
    "\n",
    "        FD1: CustomerID → FirstName, LastName, Address, Email, Phone, DoB, PaymentInfo, JoinDate, ReferredByCustomerID\n",
    "\n",
    "    Pets (CustomerID(fk), Pet#, NickName, Address, Email, Phone, Category, Species/Breed, Species/Breed Description, Gender, DoB, Notes). \n",
    "\n",
    "        FD1: CustomerID, Pet# → NickName, Address, Email, Phone, Category, Species/Breed, Species/Breed Description, Gender, DoB, Notes.\n",
    "\n",
    "        FD2: CustomerID → Address, Email, Phone\n",
    "\n",
    "        FD3: Species/Breed → Species/Breed Description\n",
    "\n",
    "    Staff (EmployeeID, FirstName, LastName, SSN, Address, Email, Phone, DoB, SupervisorID(fk)). \n",
    "\n",
    "        FD1: EmployeeID  → FirstName, LastName, SSN, Address, Email, Phone, DoB, SupervisorID\n",
    "\n",
    "    Visit (VisitID, Date, Time, CustomerID(fk), Pet(fk), ServiceID, ServiceName, ServicePrice, ServiceDescription, EmployeeID(fk), Bill, Paid).\n",
    "\n",
    "        FD1: VisitID → Date, Time, CustomerID, Pet, ServiceID, ServiceName, ServicePrice, ServiceDescription, EmployeeID, Bill, Paid\n",
    "\n",
    "        FD2: ServiceID  → ServiceName, ServicePrice, ServiceDescription.\n",
    "\n",
    "    Pets_Staff(CustomerID(fk), Pet#(fk),EmployeeID(fk))\n",
    "\n",
    "        There is no non-primary-key attribute.\n",
    "\n",
    "Now you can normalize this Relational Model to 3NF."
   ]
  },
  {
   "cell_type": "markdown",
   "id": "712a86c8",
   "metadata": {},
   "source": [
    "## Step 6:\n",
    "\n",
    "Final Output for Implementation\n",
    "\n",
    "After the normalization process, summarize the relational model in 3NF.\n"
   ]
  },
  {
   "cell_type": "code",
   "execution_count": null,
   "id": "f72fe9fa",
   "metadata": {},
   "outputs": [],
   "source": []
  }
 ],
 "metadata": {
  "kernelspec": {
   "display_name": "Python 3 (ipykernel)",
   "language": "python",
   "name": "python3"
  },
  "language_info": {
   "codemirror_mode": {
    "name": "ipython",
    "version": 3
   },
   "file_extension": ".py",
   "mimetype": "text/x-python",
   "name": "python",
   "nbconvert_exporter": "python",
   "pygments_lexer": "ipython3",
   "version": "3.9.12"
  }
 },
 "nbformat": 4,
 "nbformat_minor": 5
}
