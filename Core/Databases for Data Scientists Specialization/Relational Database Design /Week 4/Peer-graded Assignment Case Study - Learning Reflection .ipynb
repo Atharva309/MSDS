{
 "cells": [
  {
   "cell_type": "markdown",
   "id": "cf0d26fb",
   "metadata": {},
   "source": [
    "Learning Reflection Assignment:\n",
    "\n",
    "Now you have successfully conquered the material. You tried hard to practice the case study, and you have read the solution for each step. Comparing your answer with the solution is another learning experience.\n",
    "\n",
    "In this assignment, you should summarize your learning experience, by answering the following questions. You don’t need to write lengthy answers, one or two paragraphs for one question will be fine. In terms of communication, providing some examples to support your arguments would be better.\n",
    "\n",
    "Your learning reflection will be peer-reviewed by the cohort. Let’s learn from each other’s experience and it is, once again, another type of learning.\n",
    "\n",
    "Let’s get started!\n",
    "\n",
    "Q1: Based on your understanding, what is the most important take-away of this assignment? Why?\n",
    "\n",
    "Q2: Based on your experience, what is the most difficult part of this assignment? How did you work through the difficulty?\n",
    "\n",
    "Q3: What is your most successful approach in learning this content?\n",
    "\n",
    "Q4: If you could grade your assignment on a 1 -  5 scale, 1 as least satisfied and 5 as most satisfied, how would you grade yourself? Why?\n",
    "\n",
    "Q5: If you had a chance to start over, what would you change?"
   ]
  },
  {
   "cell_type": "markdown",
   "id": "91853c3b",
   "metadata": {},
   "source": [
    "---"
   ]
  },
  {
   "cell_type": "markdown",
   "id": "1012743e",
   "metadata": {},
   "source": [
    "Q1: to Normalize the Relational Model to 3NF, its a corner stone of this lesson\n",
    "\n",
    "Q2: creating the final Relational Model in 3NF, reviewing previous lectures and resources online\n",
    "\n",
    "Q3: reviewing contents from the lectures and finding resources online for help\n",
    "\n",
    "Q4: 4 or 5, it was difficult but i think i did well\n",
    "\n",
    "Q5: I wouldn't change anything"
   ]
  },
  {
   "cell_type": "code",
   "execution_count": null,
   "id": "fda31d60",
   "metadata": {},
   "outputs": [],
   "source": []
  }
 ],
 "metadata": {
  "kernelspec": {
   "display_name": "Python 3 (ipykernel)",
   "language": "python",
   "name": "python3"
  },
  "language_info": {
   "codemirror_mode": {
    "name": "ipython",
    "version": 3
   },
   "file_extension": ".py",
   "mimetype": "text/x-python",
   "name": "python",
   "nbconvert_exporter": "python",
   "pygments_lexer": "ipython3",
   "version": "3.8.18"
  }
 },
 "nbformat": 4,
 "nbformat_minor": 5
}
