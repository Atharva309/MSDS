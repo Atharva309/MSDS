{
 "cells": [
  {
   "cell_type": "markdown",
   "id": "5327c483",
   "metadata": {},
   "source": [
    "## Lab 2 is to help you \"communicate as a Database Designer\". \n",
    "\n",
    "You have laid out an Entity Relationship Model, and after several rounds of discussion, you confirmed every single details of the model. Finally, you can put it together, and represent it as the Entity Relationship Diagram.\n",
    "\n",
    "You will have three small cases below, and they are the same stories, but this time, you have the Entity Relationship Model confirmed. You just need to draw the ERD to represent it. \n",
    "\n",
    "For Case 1 and 2, you will be provided with the Entity Relationship Models, and there will be the correct ERDs.\n",
    "\n",
    "For Case 3, you will bring your own Entity Relationship Model you created in Lab 1 (since your client agrees with you for all assumptions you made), and draw the ERD base on your own Entity Relationship Model.\n",
    "\n",
    "Once you tried your best, you can move on and read the solution.\n",
    "\n",
    "\n",
    "\n"
   ]
  },
  {
   "cell_type": "markdown",
   "id": "008962bc",
   "metadata": {},
   "source": [
    "---"
   ]
  },
  {
   "cell_type": "markdown",
   "id": "27a4c542",
   "metadata": {},
   "source": [
    "### Case 1: PizzaHot\n",
    "Story:\n",
    "\n",
    "Your client is a local fast food restaurant - PizzaHot. The background story is as below:\n",
    "\n",
    "PizzaHot is a local restaurant serving the community and bringing people happiness. Recent years, PizzaHot is adopting a franchising strategy and is moving towards a chain-restaurant in the State. A database system for Inner Management is crucial for the expansion of the business. \n",
    "\n",
    "The information needed is: \n",
    "- Stores: including ID, name, location, contact information.\n",
    "- Employees: including ID, SSN, name, gender, DoB, position, salary, AffiliateStore.\n",
    "- Vendors: including name, address, contactPerson\n",
    "- Products: including name, Vendor, price, quantity\n",
    "\n",
    "Based on your understanding so far, what are the entities, attributes, identifiers, and relationships in the Entity Relationship Model? You can lay out the initial outline here, and the owner will meet with you to answer your questions.\n",
    "ER Model:\n",
    "\n",
    "After confirming with the client, the entities and their attributes, identifiers are:\n",
    "- Stores:*StoreID, StoreName, Location, Contact.\n",
    "- Employees: *EmployeeID, SSN, name, gender, DoB, position, salary, AffiliateStore.\n",
    "- Vendors: *VendorName, Address, ContactPerson.\n",
    "- Products: *Name, Price, Quantity, Description.\n",
    "\n",
    "The relationships among these entities are.\n",
    "- A store may have many employees; and one employee must work for one store.\n",
    "- A store may sell many products, and each product can be sold at many stores.\n",
    "- A product must belong to one and only one vendor; and a vendor may provide one or more products.\n",
    "- An employee must be supervised by another employee; and an employee may supervise many other employees.\n",
    "\n",
    "ERD\n",
    "\n",
    "Draw the ERD based on above ER Model."
   ]
  },
  {
   "cell_type": "markdown",
   "id": "f9bbd8ca",
   "metadata": {},
   "source": [
    "---"
   ]
  },
  {
   "cell_type": "markdown",
   "id": "6a522ee2",
   "metadata": {},
   "source": [
    "### Case 2: TrueTrade\n",
    "Story:\n",
    "\n",
    "Your client is a stock-exchange company. The background story is as below:\n",
    "\n",
    "TrueTrade provides excellent financial services to customers all over the world. Customers can buy/sell stock via TrueTrade  easily and securely. TrueTrade also provides detailed information for every stock so customers can make the best decision.\n",
    "\n",
    "The information needed for TrueTrade is:\n",
    "- Stocks: including stock#, companyName, ExchangeMarket, Description\n",
    "- Customers: including CustomerID, Name, Contact\n",
    "- Portfolio: including CustomerName, currentValue\n",
    "- Logs: including stock#, openPrice, closePrice, date\n",
    "- Transactions: CustomerID, Portfolio, stock, quantity, price, date, time.\n",
    "\n",
    "Based on your understanding so far, what are the entities, attributes, identifiers, and relationships in the Entity Relationship Model? You can lay out the initial outline here, and the owner will meet with you to answer your questions.\n",
    "ER Model: \n",
    "\n",
    "After confirming with the client, possible entities and their attributes, identifiers are:\n",
    "- Stocks: *stock#, companyName, exchangeMarket, description\n",
    "- Customers: *customerID, name, phone, email, address \n",
    "- Portfolio: customerName, currentValue\n",
    "- Logs: *stock#, *date, openPrice, closePrice\n",
    "- Transactions: *TransactionID, customerID, Portfolio, stock#, quantity, price, date, time\n",
    "\n",
    "The relationships among these entities are based on my assumptions - I’ll discuss with the client later on and make necessary modifications.\n",
    "- A customer must have one or more portfolios, and a portfolio must belong to one and only one customer.\n",
    "- A portfolio may have one or more stocks, and a stock may belong to one or more portfolios.\n",
    "- A stock must have one or more logs, and one log must belong to one and only one stock\n",
    "- A customer may have one or more transactions, and each transaction must be done by one and only one customer\n",
    "- A portfolio may be in one or more transactions, and each transaction must include one and only one portfolio\n",
    "- A transaction must have a stock, and a stock may be in one or more transactions.\n",
    "\n",
    "ERD\n",
    "\n",
    "Draw the ERD based on above ER Model.\n"
   ]
  },
  {
   "cell_type": "markdown",
   "id": "e67cf97e",
   "metadata": {},
   "source": [
    "---"
   ]
  },
  {
   "cell_type": "markdown",
   "id": "9cbd2d7a",
   "metadata": {},
   "source": [
    "### Case 3: MiniLibrary\n",
    "Story:\n",
    "\n",
    "Your client is a non-profit organization MiniLibrary. The background story is as below:\n",
    "\n",
    "MiniLibrary is an organization that promotes neighborhood book exchanges. It has more than 3,000 bookcases around the city. \n",
    "\n",
    "The information you need to collect and records is:\n",
    "- Books, including ISBN#, COPY#, Title, Author1, Author2, Year, Publisher.\n",
    "- BookCases, including Case#, Street, County\n",
    "- Users, including UserID, Name, Address, Contact\n",
    "- Log: BookInfo, UserInfo, BookCaseInfo, TimeStamp, Borrow/Return \n",
    "\n",
    "Based on your understanding so far, what are the entities, attributes, identifiers, and relationships in the Entity Relationship Model? You can lay out the initial outline here, and the owner will meet with you to answer your questions.\n",
    "ER Model: \n",
    "\n",
    "Take the one you got from Lab 1 to here.\n",
    "ERD\n",
    "\n",
    "Draw the ERD based on your ER Model."
   ]
  },
  {
   "cell_type": "code",
   "execution_count": null,
   "id": "4e7ec8f1",
   "metadata": {},
   "outputs": [],
   "source": []
  }
 ],
 "metadata": {
  "kernelspec": {
   "display_name": "Python 3 (ipykernel)",
   "language": "python",
   "name": "python3"
  },
  "language_info": {
   "codemirror_mode": {
    "name": "ipython",
    "version": 3
   },
   "file_extension": ".py",
   "mimetype": "text/x-python",
   "name": "python",
   "nbconvert_exporter": "python",
   "pygments_lexer": "ipython3",
   "version": "3.9.12"
  }
 },
 "nbformat": 4,
 "nbformat_minor": 5
}
