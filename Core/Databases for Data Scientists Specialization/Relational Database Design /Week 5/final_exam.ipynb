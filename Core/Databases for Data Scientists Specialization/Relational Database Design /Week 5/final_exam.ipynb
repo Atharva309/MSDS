{
 "cells": [
  {
   "cell_type": "markdown",
   "id": "93b298b1-33aa-4357-b1b0-3af7720b56cb",
   "metadata": {},
   "source": [
    "There is just a final project to submit, which is just like one of the assignments. You are asked to \n",
    "- build a relational model from start to finish for some hypothetical business or company.\n",
    "- Entity Relationships -> ERD -> Final database design (in 3NF), that's all.\n",
    "\n",
    "- There is a little bit of extra work, in that you have to submit a 5-min presentation video explaining how you completed your project, and you are encouraged to show slides in the presentation, though this is not a hard rule. The expected time for completion of the final project is between 3 and 4 hours, but it is not a timed assignment."
   ]
  },
  {
   "cell_type": "code",
   "execution_count": null,
   "id": "012513fb-0283-489d-8df5-651d024eaa0c",
   "metadata": {},
   "outputs": [],
   "source": []
  }
 ],
 "metadata": {
  "kernelspec": {
   "display_name": "Python 3 (ipykernel)",
   "language": "python",
   "name": "python3"
  },
  "language_info": {
   "codemirror_mode": {
    "name": "ipython",
    "version": 3
   },
   "file_extension": ".py",
   "mimetype": "text/x-python",
   "name": "python",
   "nbconvert_exporter": "python",
   "pygments_lexer": "ipython3",
   "version": "3.8.18"
  }
 },
 "nbformat": 4,
 "nbformat_minor": 5
}
