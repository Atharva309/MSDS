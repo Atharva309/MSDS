{
 "cells": [
  {
   "cell_type": "markdown",
   "id": "b1e30a87-b402-406c-8ef1-be55bbcea68c",
   "metadata": {},
   "source": [
    "In this component, you are going to look around to find the business you are interested in. It might be a hardware store in the corner, an ice cream shop, a street vendor, an online discussion board, anything you want to record information and play with. You are going to follow exactly the same steps we did in Module 4:\n",
    "\n"
   ]
  },
  {
   "cell_type": "markdown",
   "id": "5251db42-9217-4ea0-8926-46cea7166447",
   "metadata": {},
   "source": [
    "1. Think carefully about the business, describe a clear background story of the business."
   ]
  },
  {
   "cell_type": "markdown",
   "id": "2fa9c5c8-ceb2-44ed-80fa-830edf7466ec",
   "metadata": {},
   "source": [
    "Ryan is the proprietor of ActiveGear, a local sporting goods store that has been a staple in the community for over a decade. Recognizing the inefficiencies of the traditional paper-based filing system, Ryan has sought to modernize his operations by implementing a Relational Database Management System (RDBMS). At ActiveGear, customers can find a wide range of sporting equipment, apparel, and accessories catering to various sports and outdoor activities. Ryan aims to streamline the process of managing customer information, inventory, sales transactions, and employee data through the implementation of an RDBMS. This transition will not only enhance the efficiency of day-to-day operations but also provide valuable insights into customer preferences, inventory trends, and sales performance, allowing ActiveGear to better serve its clientele and maintain its position as a leading provider of sporting goods in the community."
   ]
  },
  {
   "cell_type": "markdown",
   "id": "48e608e7-5b0a-4e1f-8a2f-a7b8ad200b7b",
   "metadata": {},
   "source": [
    "2. Make sufficient assumptions, and create the ER model."
   ]
  },
  {
   "cell_type": "markdown",
   "id": "f13c9ad6-9a9e-4748-a7c3-4f8a2ff5db40",
   "metadata": {},
   "source": [
    "Entities:\n",
    "\n",
    "- Customers: CustomerID (Identifier), FirstName, LastName, Address, Email, Phone, DoB, PaymentInfo, JoinDate.\n",
    "- Products: ProductID (Identifier), ProductName, Category, Description, Price, StockQuantity.\n",
    "- Staff: EmployeeID (Identifier), FirstName, LastName, SSN, Address, Email, Phone, DoB.\n",
    "- Transactions: TransactionID (Identifier), Date, Time, CustomerID, EmployeeID, TotalAmount, PaymentMethod.\n",
    "\n",
    "Relationships:\n",
    "\n",
    "- A customer may make one or more (zero or more) purchases; Each purchase must be made by one and only one (exactly one) customer.\n",
    "- A staff member may handle one or more (zero or more) transactions; Each transaction must be handled by one and only one (exactly one) staff member.\n",
    "- A product may be included in one or more (zero or more) transactions; Each transaction may involve one or more (one or more) products.\n",
    "- A staff member must have one and only one (exactly one) supervisor; A staff member may supervise one or more (zero or more) staff members.\n",
    "- A customer may refer one or more (zero or more) customers; A customer may be referred by one (zero or one) customer."
   ]
  },
  {
   "cell_type": "markdown",
   "id": "c421a5d9-2004-4e9a-b95c-c25d46577e77",
   "metadata": {},
   "source": [
    "3. From the ER model, create the ERD."
   ]
  },
  {
   "cell_type": "code",
   "execution_count": 1,
   "id": "8acc794c-606d-4ede-8852-a92da0a7e9d8",
   "metadata": {},
   "outputs": [
    {
     "ename": "SyntaxError",
     "evalue": "invalid syntax (894970000.py, line 1)",
     "output_type": "error",
     "traceback": [
      "\u001b[0;36m  File \u001b[0;32m\"/var/folders/j_/555m2zps099832fjh_m8jjnc0000gn/T/ipykernel_11665/894970000.py\"\u001b[0;36m, line \u001b[0;32m1\u001b[0m\n\u001b[0;31m    +----------------------+       +----------------------+       +---------------------+       +----------------------+\u001b[0m\n\u001b[0m                                                                                                                        ^\u001b[0m\n\u001b[0;31mSyntaxError\u001b[0m\u001b[0;31m:\u001b[0m invalid syntax\n"
     ]
    }
   ],
   "source": [
    "  +----------------------+       +----------------------+       +---------------------+       +----------------------+\n",
    "  |      Customers       |       |       Products       |       |        Staff        |       |     Transactions     |\n",
    "  +----------------------+       +----------------------+       +---------------------+       +----------------------+\n",
    "  | CustomerID (PK)      |       | ProductID (PK)       |       | EmployeeID (PK)     |       | TransactionID (PK)   |\n",
    "  | FirstName            |       | ProductName          |       | FirstName           |       | Date                 |\n",
    "  | LastName             |       | Category             |       | LastName            |       | Time                 |\n",
    "  | Address              |       | Description          |       | SSN                 |       | CustomerID (FK)      |\n",
    "  | Email                |       | Price                |       | Address             |       | EmployeeID (FK)      |\n",
    "  | Phone                |       | StockQuantity        |       | Email               |       | TotalAmount          |\n",
    "  | DoB                  |       +----------------------+       | Phone               |       | PaymentMethod        |\n",
    "  | PaymentInfo          |                                      | DoB                 |       +----------------------+\n",
    "  | JoinDate             |                                      | SupervisorID (FK)   |\n",
    "  +----------------------+                                      +---------------------+\n",
    "         |                                                            |\n",
    "         |                                                            |\n",
    "         +------------------------------------------------------------+\n",
    "         |\n",
    "  +----------------------+\n",
    "  |      Transactions    |\n",
    "  +----------------------+\n",
    "  | TransactionID (PK)   |\n",
    "  | Date                 |\n",
    "  | Time                 |\n",
    "  | CustomerID (FK)      |\n",
    "  | EmployeeID (FK)      |\n",
    "  | TotalAmount          |\n",
    "  | PaymentMethod        |\n",
    "  +----------------------+\n"
   ]
  },
  {
   "cell_type": "markdown",
   "id": "c5cfe4f5-7e95-453b-a4ce-c2c19b1698ee",
   "metadata": {},
   "source": [
    "4. Convert the ERD to a relational model,\n"
   ]
  },
  {
   "cell_type": "markdown",
   "id": "d0043b0a-d17d-426a-a8b5-ab8adbfd260b",
   "metadata": {},
   "source": [
    "- Customers (CustomerID, FirstName, LastName, Address, Email, Phone, DoB, PaymentInfo, JoinDate, ReferredByCustomerID)\n",
    "- Pets (CustomerID, Pet#, NickName, Address, Email, Phone, Category, Species/Breed, Species/Breed Description, Gender, DoB, Notes)\n",
    "- Staff (EmployeeID, FirstName, LastName, SSN, Address, Email, Phone, DoB, SupervisorID)\n",
    "- Visit (VisitID, Date, Time, CustomerID, Pet#, ServiceID, ServiceName, ServicePrice, ServiceDescription, EmployeeID, Bill, Paid)\n",
    "- Pets_Staff (CustomerID, Pet#, EmployeeID)"
   ]
  },
  {
   "cell_type": "markdown",
   "id": "97099f52-f17f-4e0e-8e21-bba63e6abec0",
   "metadata": {},
   "source": [
    "5. Normalize the relational model to 3NF."
   ]
  },
  {
   "cell_type": "markdown",
   "id": "763a7b47-07a7-4c49-8fb5-0c46af27cc94",
   "metadata": {},
   "source": []
  },
  {
   "cell_type": "markdown",
   "id": "d96dfee2-c0bb-432d-bd81-1edf0f29914b",
   "metadata": {},
   "source": [
    "6. Finalize the relational model in 3NF for further implementation."
   ]
  },
  {
   "cell_type": "markdown",
   "id": "aaf2a61b-d0c0-41b8-bd1f-a2e5690607c1",
   "metadata": {},
   "source": []
  }
 ],
 "metadata": {
  "kernelspec": {
   "display_name": "Python 3 (ipykernel)",
   "language": "python",
   "name": "python3"
  },
  "language_info": {
   "codemirror_mode": {
    "name": "ipython",
    "version": 3
   },
   "file_extension": ".py",
   "mimetype": "text/x-python",
   "name": "python",
   "nbconvert_exporter": "python",
   "pygments_lexer": "ipython3",
   "version": "3.8.18"
  }
 },
 "nbformat": 4,
 "nbformat_minor": 5
}
