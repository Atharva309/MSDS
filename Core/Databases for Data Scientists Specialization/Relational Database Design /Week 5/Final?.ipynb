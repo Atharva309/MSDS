{
 "cells": [
  {
   "cell_type": "markdown",
   "id": "55cd92c9",
   "metadata": {},
   "source": [
    "https://www.youtube.com/watch?v=Riz4VrSIAvw"
   ]
  },
  {
   "cell_type": "markdown",
   "id": "8a1199b0",
   "metadata": {},
   "source": [
    "Any guidance on the final?  Do we pick an existing company or do we invent a fantasy company (ie Home Depot versus Binford Tools)? How long should the presentation be? Etc. I’m getting ready to finish it up this week.\n",
    "\n",
    "- I created an imaginary company and the video can be just 5 minutes"
   ]
  },
  {
   "cell_type": "code",
   "execution_count": null,
   "id": "ffa3065b",
   "metadata": {},
   "outputs": [],
   "source": []
  },
  {
   "cell_type": "code",
   "execution_count": null,
   "id": "0b0cb724",
   "metadata": {},
   "outputs": [],
   "source": []
  }
 ],
 "metadata": {
  "kernelspec": {
   "display_name": "Python 3 (ipykernel)",
   "language": "python",
   "name": "python3"
  },
  "language_info": {
   "codemirror_mode": {
    "name": "ipython",
    "version": 3
   },
   "file_extension": ".py",
   "mimetype": "text/x-python",
   "name": "python",
   "nbconvert_exporter": "python",
   "pygments_lexer": "ipython3",
   "version": "3.9.12"
  }
 },
 "nbformat": 4,
 "nbformat_minor": 5
}
