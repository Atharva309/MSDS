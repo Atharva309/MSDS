{
 "cells": [
  {
   "cell_type": "markdown",
   "id": "db453863",
   "metadata": {},
   "source": [
    "Readings for this course will be drawn from the following textbooks which can be downloaded for free.  \n",
    "\n",
    "ISLR:\n",
    "\n",
    "G. James et al. (2021). An Introduction to Statistical Learning: with Applications in R (2nd ed.). Springer. https://www.statlearning.com\n",
    "\n",
    "ESLII:\n",
    "\n",
    "T. Hastie et al. (2009). The Elements of Statistical Learning: Data Mining, Inference, and Prediction (2nd ed.). Springer. https://web.stanford.edu/~hastie/ElemStatLearn/"
   ]
  },
  {
   "cell_type": "code",
   "execution_count": null,
   "id": "3efa8359",
   "metadata": {},
   "outputs": [],
   "source": []
  }
 ],
 "metadata": {
  "kernelspec": {
   "display_name": "Python 3 (ipykernel)",
   "language": "python",
   "name": "python3"
  },
  "language_info": {
   "codemirror_mode": {
    "name": "ipython",
    "version": 3
   },
   "file_extension": ".py",
   "mimetype": "text/x-python",
   "name": "python",
   "nbconvert_exporter": "python",
   "pygments_lexer": "ipython3",
   "version": "3.9.12"
  }
 },
 "nbformat": 4,
 "nbformat_minor": 5
}
