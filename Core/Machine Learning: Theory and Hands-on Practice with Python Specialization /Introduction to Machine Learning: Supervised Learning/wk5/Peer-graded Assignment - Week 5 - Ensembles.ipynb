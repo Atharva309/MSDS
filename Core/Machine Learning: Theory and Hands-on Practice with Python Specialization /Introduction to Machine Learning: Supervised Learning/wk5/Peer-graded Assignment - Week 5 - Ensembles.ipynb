{
 "cells": [
  {
   "cell_type": "code",
   "execution_count": null,
   "id": "475bf108",
   "metadata": {},
   "outputs": [],
   "source": []
  },
  {
   "cell_type": "code",
   "execution_count": 1,
   "id": "438fbad6",
   "metadata": {},
   "outputs": [],
   "source": [
    "# from IPython.display import Image\n",
    "# Image(filename=\"images/2a.png\")"
   ]
  },
  {
   "cell_type": "markdown",
   "id": "d93b20e9",
   "metadata": {},
   "source": [
    "Upload a screenshot of the fit function from the class adaboost. "
   ]
  },
  {
   "cell_type": "code",
   "execution_count": null,
   "id": "e3fcb59a",
   "metadata": {},
   "outputs": [],
   "source": []
  },
  {
   "cell_type": "markdown",
   "id": "d69dbc03",
   "metadata": {},
   "source": [
    "Upload a screenshot of the error_rate function from the class adaboost. "
   ]
  },
  {
   "cell_type": "code",
   "execution_count": null,
   "id": "a55be589",
   "metadata": {},
   "outputs": [],
   "source": []
  },
  {
   "cell_type": "markdown",
   "id": "5ea9daeb",
   "metadata": {},
   "source": [
    "Upload a screenshot of using the fit function to fit the Adaboost classifier with 300 base decision stumps."
   ]
  },
  {
   "cell_type": "code",
   "execution_count": null,
   "id": "b3730ba3",
   "metadata": {},
   "outputs": [],
   "source": []
  },
  {
   "cell_type": "markdown",
   "id": "f3c92358",
   "metadata": {},
   "source": [
    "Part C has the following directions:\n",
    "\n",
    "Once your predict function is written up, you need to test the scores on the function. To do this compute the scores on the prediction in the score function. Use the score function to then complete staged_score to collect the scores for every boosting iterations. Plot the misclassification error for train and test sets (misclassification error = 1- score).\n",
    "\n",
    "Upload a screenshot or copy of your code for the misclassification error for the train and test sets. "
   ]
  },
  {
   "cell_type": "code",
   "execution_count": null,
   "id": "1dfc8ec6",
   "metadata": {},
   "outputs": [],
   "source": []
  },
  {
   "cell_type": "markdown",
   "id": "d5b0bbe0",
   "metadata": {},
   "source": [
    "Part C has the following directions:\n",
    "\n",
    "Once your predict function is written up, you need to test the scores on the function. To do this compute the scores on the prediction in the score function. Use the score function to then complete staged_score to collect the scores for every boosting iterations. Plot the misclassification error for train and test sets (misclassification error = 1- score).\n",
    "\n",
    "Upload a screenshot or copy of your plot of the misclassification error for the train and test sets. "
   ]
  },
  {
   "cell_type": "code",
   "execution_count": null,
   "id": "9a7c4848",
   "metadata": {},
   "outputs": [],
   "source": []
  },
  {
   "cell_type": "markdown",
   "id": "dc64c2c1",
   "metadata": {},
   "source": [
    "Problem 2 Building a Random Forest Classifier to Classify MNIST Digits 3 and 8 has the following directions for Part A:\n",
    "\n",
    "Complete the create_tree function to build a new tree trained on a subset of data. Within this function a decision tree classifier is built and trained on the subset of data with the subset of features. \n",
    "\n",
    "Upload a screenshot of your create_tree function."
   ]
  },
  {
   "cell_type": "code",
   "execution_count": null,
   "id": "9564f7b3",
   "metadata": {},
   "outputs": [],
   "source": []
  },
  {
   "cell_type": "markdown",
   "id": "cf6bad7a",
   "metadata": {},
   "source": [
    "Problem 2 Building a Random Forest Classifier to Classify MNIST Digits 3 and 8 has the following directions for Part B:\n",
    "\n",
    "In this part you will have to complete three steps. The first step is:\n",
    "1. Complete the predict function in RandomForest class so as to make predictions using just the features. \n",
    "\n",
    "Upload a screenshot of your predict function here. "
   ]
  },
  {
   "cell_type": "code",
   "execution_count": null,
   "id": "8728b19d",
   "metadata": {},
   "outputs": [],
   "source": []
  },
  {
   "cell_type": "markdown",
   "id": "8b671d18",
   "metadata": {},
   "source": [
    "Problem 2 Building a Random Forest Classifier to Classify MNIST Digits 3 and 8 has the following directions for Part B. The third step is:\n",
    "\n",
    "3. Build a random forest classifier and train it on the MNIST data to classify 3s and 8s in the cell below. Then see how the classifier performs on the test data by computing the misclassification error. (Remember: error = 1-score)\n",
    "\n",
    "Upload a copy of your code for this task. "
   ]
  },
  {
   "cell_type": "code",
   "execution_count": null,
   "id": "46384ea1",
   "metadata": {},
   "outputs": [],
   "source": []
  },
  {
   "cell_type": "markdown",
   "id": "a539404d",
   "metadata": {},
   "source": [
    "Problem 2 Building a Random Forest Classifier to Classify MNIST Digits 3 and 8 has the following directions for Part B. The third step is:\n",
    "\n",
    "3. Build a random forest classifier and train it on the MNIST data to classify 3s and 8s in the cell below. Then see how the classifier performs on the test data by computing the misclassification error. (Remember: error = 1-score)\n",
    "\n",
    "What was the misclassification error for your random forest classifier? How did the misclassification error for the random forest classifier compare to the adaBoost classifier? \n",
    "\n",
    "Type your answer in the rich text field."
   ]
  }
 ],
 "metadata": {
  "kernelspec": {
   "display_name": "Python 3 (ipykernel)",
   "language": "python",
   "name": "python3"
  },
  "language_info": {
   "codemirror_mode": {
    "name": "ipython",
    "version": 3
   },
   "file_extension": ".py",
   "mimetype": "text/x-python",
   "name": "python",
   "nbconvert_exporter": "python",
   "pygments_lexer": "ipython3",
   "version": "3.9.12"
  }
 },
 "nbformat": 4,
 "nbformat_minor": 5
}
