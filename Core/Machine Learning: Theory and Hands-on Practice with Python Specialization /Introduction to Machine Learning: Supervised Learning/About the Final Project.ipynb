{
 "cells": [
  {
   "cell_type": "markdown",
   "id": "f626ebc7-2826-44c5-9a39-4de721ea8998",
   "metadata": {},
   "source": [
    "# About the Final Project\n",
    "\n",
    "For the final project, you will identify a Supervised Learning problem to perform EDA and model analysis. The project has **140 total points**. In the instructions is a summary of the criteria you will use to guide your submission and review others’ submissions. You will submit **three deliverables**:\n",
    "\n",
    "## Deliverable 1\n",
    "\n",
    "A Jupyter notebook showing a supervised learning problem description, EDA procedure, analysis (model building and training), results, and discussion/conclusion.\n",
    "\n",
    "Suppose your work becomes so large that it doesn’t fit into one notebook (or you think it will be less readable by having one large notebook). In that case, you can make several notebooks or scripts in a GitHub repository (as deliverable 3) and submit a report-style notebook or PDF instead.\n",
    "\n",
    "If your project doesn’t fit into Jupyter notebook format (e.g., you built an app that uses ML), write your approach as a report and submit it in a PDF form.\n",
    "\n",
    "## Deliverable 2\n",
    "\n",
    "A video presentation or demo of your work. The presentation should be a condensed version as if you're doing a short pitch to advertise your work, so please focus on the highlights:\n",
    "\n",
    "1. **What problem do you solve?**\n",
    "2. **What ML approach do you use, or what methods does your app use?**\n",
    "3. **Show the result or run an app demo.**\n",
    "\n",
    "The minimum video length is **5 minutes**, and the maximum length is **15 minutes**. The recommended length is about **10 minutes**. Submit the video in `.mp4` format.\n",
    "\n",
    "## Deliverable 3\n",
    "\n",
    "A public project GitHub repository with your work (please also include the GitHub repo URL in your notebook/report and slides).\n",
    "\n",
    "### Data Byproduct\n",
    "If your project creates data and you want to share it, an excellent way to share would be through a Kaggle dataset or similar. Similarly, suppose you want to make your video public. In that case, we recommend uploading it to YouTube or similar and posting the link(s) to your repository or blog instead of a direct upload to GitHub.\n",
    "\n",
    "It is generally a good practice not to upload big files to a Git repository.\n"
   ]
  },
  {
   "cell_type": "markdown",
   "id": "d7038670-3f1f-4551-a908-6483e910b45e",
   "metadata": {},
   "source": [
    "---"
   ]
  },
  {
   "cell_type": "markdown",
   "id": "1a675560-c87b-440f-9cb5-9f3ff4c3db3b",
   "metadata": {},
   "source": [
    "# Supervised Learning Rubric\n",
    "\n",
    "## Prompt 1 — Submit Deliverable One: Jupyter Notebook or PDF Report\n",
    "\n",
    "The Jupyter notebook should show a brief problem description, EDA procedure, analysis (model building and training), results, and discussion/conclusion. If your work doesn't fit into one notebook (or you think it will be less readable by having one large notebook), make several notebooks or scripts in the GitHub repository (as deliverable 3) and submit a report-style notebook or PDF instead.\n",
    "\n",
    "If your project doesn't fit into Jupyter notebook format (e.g., you built an app that uses ML), write your approach as a report and submit it in a PDF form.\n"
   ]
  },
  {
   "cell_type": "markdown",
   "id": "71637adc-7714-420f-a9e0-ea0d84239795",
   "metadata": {},
   "source": [
    "| **Prompt**             | **Points** | **Description**                                                                                                           |\n",
    "|------------------------|------------|---------------------------------------------------------------------------------------------------------------------------|\n",
    "| **Project Topic**       |            | **Is there a clear explanation of what this project is about? Does it state clearly which type of problem?** E.g., type of learning and type of the task.  |\n",
    "|                        | **0 pts**  | Not included in the project                                                                                               |\n",
    "|                        | **1 pts**  | Provides one of the following: explanation of what the project is about, the type of learning/algorithms, or the type of task  |\n",
    "|                        | **2 pts**  | Provides two of the following: explanation of what the project is about, states the type of learning/algorithms, or states the type of task |\n",
    "|                        | **3 pts**  | Gives a clear explanation of what the project is about and clearly states both the type of learning/algorithms and the type of task |\n",
    "| **Project Topic**       |            | **Is the goal of the project clearly stated?** E.g., why it’s important, what goal the author wants to achieve, or what they want to learn.  |\n",
    "|                        | **0 pts**  | Not included in the project                                                                                               |\n",
    "|                        | **1 pts**  | Needs improvement—attempts but doesn’t get across the motivation or goal for the project                                  |\n",
    "|                        | **2 pts**  | Very Good—clearly states the motivation or the goal for the project                                                       |\n",
    "| **Data**               |            | **Is the data source properly cited and described?** (including links, brief explanations)                                |\n",
    "|                        | **0 pts**  | Does not include a brief explanation of where the data is from/how it was gathered or does not include a citation using a style manual like APA for a public dataset |\n",
    "|                        | **1 pts**  | Includes a brief explanation of where the data is from/how it was gathered and, if the data is from a public source, cites the dataset using a style manual like APA |\n"
   ]
  },
  {
   "cell_type": "markdown",
   "id": "55dbb608-d921-4325-9e81-a06258186126",
   "metadata": {},
   "source": [
    "| **Prompt**             | **Points** | **Description**                                                                                                           |\n",
    "|------------------------|------------|---------------------------------------------------------------------------------------------------------------------------|\n",
    "| **Data**               |            | **Is the data description explained properly? The data description should include the data size.**                         |\n",
    "|                        |            | ● **Tabulated data:** Number of samples/rows, number of features/columns, bytesize (if a huge file), data type of each feature, summary of key features, and whether the data is in multi-table form or gathered from multiple data sources.  |\n",
    "|                        |            | ● **Images:** Number of samples, number of channels (e.g., color or grayscale), image file format, and whether images have the same dimensions. |\n",
    "|                        |            | ● **Sequential data:** Number of documents or sound files, typical length, and other properties relevant to the data type.|\n",
    "|                        | **0 pts**  | Does not include any description of the data or the data size                                                             |\n",
    "|                        | **2 pts**  | Partially describes the data but does not refer to the data size or does not describe the data size appropriately for the type of data |\n",
    "|                        | **4 pts**  | Describes the data, including the data size appropriately for the type of data                                            |\n",
    "| **Data Cleaning**      |            | **Does the data cleaning section include clear explanations of how and why cleaning was performed?**                       |\n",
    "|                        |            | 1. **Clear Explanations:** E.g., the author dropped a feature because it had too many NaN values, or imputed certain values due to a small number of missing samples. |\n",
    "|                        |            | 2. **Conclusions or Discussions:** Data cleaning summary, findings, foreseen difficulties, and/or analysis strategy.       |\n",
    "|                        |            | 3. **Proper Visualizations:** Utilized visualizations to address data-specific issues and ensure completeness of the cleaning process. |\n",
    "|                        | **0 pts**  | Uses a dataset that hasn’t been cleaned without attempting any cleaning                                                   |\n",
    "|                        | **5 pts**  | Uses a clean dataset or attempts cleaning but is missing explanations, conclusions, or proper visualizations               |\n",
    "|                        | **10 pts** | Includes clear explanations, discussions, and visualizations for cleaning steps performed                                 |\n",
    "| **Exploratory Data Analysis** |     | **Does the EDA include clear explanations of how and why the analysis was performed?**                                     |\n",
    "|                        |            | 1. **Proper Visualizations:** E.g., histogram, correlation matrix, feature importance (if applicable), etc.                |\n",
    "|                        |            | 2. **Proper Analysis:** Shows the statistical patterns or insights that guide further modeling.                            |\n",
    "|                        |            | 3. **Conclusions or Discussions:** EDA summary, findings, foreseen difficulties, and/or next steps based on analysis.      |\n",
    "|                        | **0 pts**  | EDA section not included                                                                                                  |\n",
    "|                        | **5 pts**  | EDA does not have proper visualizations, analysis, or discussions                                                         |\n",
    "|                        | **10 pts** | Simple plots like histograms and box plots without deeper analysis or conclusions                                         |\n",
    "|                        | **15 pts** | EDA meets expectations with good explanations and proper visualizations, e.g., correlation matrix with analysis            |\n",
    "|                        | **20 pts** | EDA goes above expectations, including advanced visualizations and multiple analyses (e.g., statistical tests)            |\n"
   ]
  },
  {
   "cell_type": "markdown",
   "id": "454e2d67-4dcd-4f36-a371-3683ca550692",
   "metadata": {},
   "source": [
    "| **Prompt**             | **Points** | **Description**                                                                                                           |\n",
    "|------------------------|------------|---------------------------------------------------------------------------------------------------------------------------|\n",
    "| **Models**             |            | **Some questions to consider:**                                                                                           |\n",
    "|                        |            | ● Is the choice of model(s) appropriate for the problem?                                                                  |\n",
    "|                        |            | ● Is the author aware of interaction/collinearity between features and its impact on the model choice?                     |\n",
    "|                        |            | ● Did the author use multiple appropriate models?                                                                         |\n",
    "|                        |            | ● Did the author investigate feature importance using appropriate metrics from the model?                                 |\n",
    "|                        |            | ● Did the author use techniques to reduce overfitting or address data imbalance?                                           |\n",
    "|                        |            | ● Did the author use new techniques/models not covered in the course?                                                     |\n",
    "|                        | **0 pts**  | No models attempted                                                                                                       |\n",
    "|                        | **5 pts**  | Model section does not choose an appropriate single model                                                                  |\n",
    "|                        | **10 pts** | Single model included but lacks addressing rubric components or other relevant features                                   |\n",
    "|                        | **15 pts** | Single model included and at least one of the following: addressing collinearity, feature engineering, multiple models, hyperparameter tuning, regularization, or data balancing |\n",
    "|                        | **20 pts** | Single model included and at least two of the following components: addressing collinearity, feature engineering, multiple models, hyperparameter tuning, regularization, or data balancing |\n",
    "|                        | **25 pts** | Single model included and at least three of the following: addressing collinearity, feature engineering, multiple models, hyperparameter tuning, regularization, or data balancing |\n",
    "| **Results and Analysis**|            | **Some questions to consider:**                                                                                           |\n",
    "|                        |            | ● Does it have a summary of results and analysis?                                                                          |\n",
    "|                        |            | ● Does it include proper visualizations (e.g., tables, graphs/plots, heat maps, statistics summary with interpretation)?   |\n",
    "|                        |            | ● Does it use different evaluation metrics appropriately (e.g., F1, ROC, or AUC for imbalanced data)? Does it explain why the metric was chosen? |\n",
    "|                        | **0 pts**  | No results or analysis attempted                                                                                          |\n",
    "|                        | **5 pts**  | Results and analysis section does not meet expectations (lacks basic results and analysis)                                 |\n",
    "|                        | **10 pts** | Includes a summary with basic results and analysis                                                                        |\n",
    "|                        | **15 pts** | Includes a summary with basic results, analysis, and one of the following: good visualizations, tries different metrics, or iterates training to improve performance |\n",
    "|                        | **20 pts** | Includes a summary with basic results, analysis, and two of the following: good visualizations, tries different metrics, or iterates training to improve performance |\n",
    "|                        | **25 pts** | Summary includes basic results, analysis, and three of the following: good visualizations, tries different metrics, iterates training to improve performance, or compares multiple models |\n",
    "| **Discussion and Conclusion** |     | **Does it include key insights, learning, and strategies for improvement?**                                                |\n",
    "|                        | **0 pts**  | No discussion or conclusion attempted                                                                                     |\n",
    "|                        | **5 pts**  | Includes one of the following: learning takeaways, discussion of why something didn’t work, or suggestions for improvement  |\n",
    "|                        | **10 pts** | Meets expectations with two of the following: learning takeaways, discussion of why something didn’t work, or suggestions for improvement |\n",
    "|                        | **15 pts** | Goes above expectations with three of the following: learning takeaways, discussion of why something didn’t work, or suggestions for improvement |\n",
    "| **Write-up**           |            | **Is the write-up organized and clear?**                                                                                   |\n",
    "|                        | **0 pts**  | No, the write-up is not organized and clear                                                                                |\n",
    "|                        | **5 pts**  | Yes, the write-up is organized and clear                                                                                   |\n"
   ]
  },
  {
   "cell_type": "markdown",
   "id": "9dea3b5d-ba74-4220-ab04-ca28f8129f3f",
   "metadata": {},
   "source": [
    "## Prompt 2 — Submit Deliverable Two: Video Presentation\n",
    "\n",
    "Record a video of a presentation or demo of your work. The presentation should be a condensed version, as if you're doing a short pitch to advertise your work. Focus on the highlights:\n",
    "\n",
    "1. **What problem do you solve?**\n",
    "2. **What ML approach do you use, or what methods does your app use?**\n",
    "3. **Show the result or run an app demo.**\n",
    "\n",
    "### Video Requirements\n",
    "- **Minimum Length**: 5 minutes  \n",
    "- **Maximum Length**: 15 minutes  \n",
    "- **Recommended Length**: About 10 minutes  \n",
    "- **Format**: .mp4\n"
   ]
  },
  {
   "cell_type": "markdown",
   "id": "1ceb9527-a329-4e58-b4e8-aed0fe48d112",
   "metadata": {},
   "source": [
    "| **Prompt**             | **Points** | **Description**                                                                                                           |\n",
    "|------------------------|------------|---------------------------------------------------------------------------------------------------------------------------|\n",
    "| **Does the video explain the following?** |            |                                                                                                                           |\n",
    "|                        | **0 pts**  | Video presentation not included                                                                                           |\n",
    "|                        | **3 pts**  | Presentation needs improvement. E.g., includes only one of the following: problem the project solves, the ML approach/methods used, or shows the results/runs an app demo |\n",
    "|                        | **7 pts**  | Average presentation. E.g., includes two of the following: problem the project solves, the ML approach/methods used, or shows the results/runs an app demo |\n",
    "|                        | **10 pts** | Excellent presentation. E.g., includes all of the following: problem the project solves, the ML approach/methods used, and shows the results/runs an app demo |\n",
    "| **Is the video clear and organized?**  |            | Consider the following: The presentation follows a logical sequence, gives appropriate time to each section, and is well-rehearsed |\n",
    "|                        | **0 pts**  | Video presentation not included                                                                                           |\n",
    "|                        | **1 pts**  | Video presentation is not clear or organized, does not seem rehearsed, does not follow a logical sequence, or does not meet time length requirements |\n",
    "|                        | **3 pts**  | Average quality presentation. E.g., presentation includes two of the following: follows a logical sequence, gives appropriate time to each section, or is well-rehearsed |\n",
    "|                        | **5 pts**  | Very good clarity and organization. E.g., presentation has all of the following: follows a logical sequence, gives appropriate time to each section, and is well-rehearsed |\n"
   ]
  },
  {
   "cell_type": "markdown",
   "id": "a8ad5fbb-f3e3-4a67-a27d-fc7faec95ade",
   "metadata": {},
   "source": [
    "## Prompt 3 — Submit Deliverable Three: GitHub Repository Link\n",
    "\n",
    "Create a public project GitHub repository with your work (please include the GitHub repository URL in your notebook/report and slides). It is essential that it is public so your peers will be able to access it. This repository needs to be specifically for this project.\n",
    "\n",
    "### Data By-Product\n",
    "If your project creates data and you want to share it, **do not upload the data to GitHub**. Instead, an excellent way to share would be through a Kaggle dataset or similar platforms.\n",
    "\n",
    "### Video Uploads\n",
    "Similarly, **do not upload videos to GitHub**. If you want to share videos, you can upload them to YouTube and post the links in your GitHub repository.\n"
   ]
  },
  {
   "cell_type": "markdown",
   "id": "4b46da6d-80d8-485a-92da-bbbe1ed752f1",
   "metadata": {},
   "source": [
    "| **Prompt**                                     | **Points** | **Description**                                                                                                           |\n",
    "|------------------------------------------------|------------|---------------------------------------------------------------------------------------------------------------------------|\n",
    "| **Does the project have a public GitHub repository with code specifically for this project?** | **0 pts**  | No, the project does not have a public GitHub repository                                                                  |\n",
    "|                                                | **5 pts**  | Yes, the project has a public GitHub repository                                                                           |\n",
    "| **Does the code include comments to help you understand the code?** | **0 pts**  | No, the code does not include comments                                                                                   |\n",
    "|                                                | **5 pts**  | Yes, the code includes comments to indicate why the code is there or to explain tricky sections                           |\n",
    "| **Is the code organized?**                      | **0 pts**  | No, the code is not organized                                                                                             |\n",
    "|                                                | **5 pts**  | Yes, the code is well-organized, the file repository structure makes sense, and the code is easy to read and follow       |\n"
   ]
  },
  {
   "cell_type": "code",
   "execution_count": null,
   "id": "f6990346-2840-4d7f-af32-569f01c8a780",
   "metadata": {},
   "outputs": [],
   "source": []
  },
  {
   "cell_type": "code",
   "execution_count": null,
   "id": "11b88d7d-b1ff-4473-b812-21a61763c460",
   "metadata": {},
   "outputs": [],
   "source": []
  }
 ],
 "metadata": {
  "kernelspec": {
   "display_name": "Python 3 (ipykernel)",
   "language": "python",
   "name": "python3"
  },
  "language_info": {
   "codemirror_mode": {
    "name": "ipython",
    "version": 3
   },
   "file_extension": ".py",
   "mimetype": "text/x-python",
   "name": "python",
   "nbconvert_exporter": "python",
   "pygments_lexer": "ipython3",
   "version": "3.8.18"
  }
 },
 "nbformat": 4,
 "nbformat_minor": 5
}
