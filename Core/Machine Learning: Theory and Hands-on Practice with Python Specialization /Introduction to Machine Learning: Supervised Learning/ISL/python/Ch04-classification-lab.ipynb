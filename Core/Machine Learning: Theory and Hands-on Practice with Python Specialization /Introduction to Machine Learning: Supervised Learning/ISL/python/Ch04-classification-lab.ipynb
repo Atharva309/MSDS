{
 "cells": [
  {
   "cell_type": "markdown",
   "id": "31b77867",
   "metadata": {},
   "source": [
    "\n"
   ]
  },
  {
   "cell_type": "markdown",
   "id": "559b7845",
   "metadata": {},
   "source": [
    "# Logistic Regression, LDA, QDA, and KNN\n",
    "\n",
    "<a target=\"_blank\" href=\"https://colab.research.google.com/github/intro-stat-learning/ISLP_labs/blob/v2.2/Ch04-classification-lab.ipynb\">\n",
    "<img src=\"https://colab.research.google.com/assets/colab-badge.svg\" alt=\"Open In Colab\"/>\n",
    "</a>\n",
    "\n",
    "[![Binder](https://mybinder.org/badge_logo.svg)](https://mybinder.org/v2/gh/intro-stat-learning/ISLP_labs/v2.2?labpath=Ch04-classification-lab.ipynb)\n",
    "\n",
    "\n"
   ]
  },
  {
   "cell_type": "markdown",
   "id": "73b275ae",
   "metadata": {},
   "source": [
    "## The Stock Market Data\n",
    "\n",
    "In this lab we will examine the `Smarket` \n",
    "data, which is part of the `ISLP`\n",
    "library. This data set consists of percentage returns for the S&P 500\n",
    "stock index over 1,250 days, from the beginning of 2001 until the end\n",
    "of 2005. For each date, we have recorded the percentage returns for\n",
    "each of the five previous trading days,  `Lag1`  through\n",
    " `Lag5`. We have also recorded  `Volume`  (the number of\n",
    "shares traded on the previous day, in billions),  `Today`  (the\n",
    "percentage return on the date in question) and  `Direction`\n",
    "(whether the market was  `Up`  or  `Down`  on this date).\n",
    "\n",
    "We start by importing  our libraries at this top level; these are all imports we have seen in previous labs."
   ]
  },
  {
   "cell_type": "code",
   "execution_count": 1,
   "id": "28bd64cb",
   "metadata": {},
   "outputs": [
    {
     "ename": "ImportError",
     "evalue": "cannot import name 'as_file' from 'importlib.resources' (/Users/ryantalbot/opt/anaconda3/envs/tf2/lib/python3.8/importlib/resources.py)",
     "output_type": "error",
     "traceback": [
      "\u001b[0;31m---------------------------------------------------------------------------\u001b[0m",
      "\u001b[0;31mImportError\u001b[0m                               Traceback (most recent call last)",
      "\u001b[0;32m/var/folders/j_/555m2zps099832fjh_m8jjnc0000gn/T/ipykernel_14504/3417186406.py\u001b[0m in \u001b[0;36m<cell line: 5>\u001b[0;34m()\u001b[0m\n\u001b[1;32m      3\u001b[0m \u001b[0;32mfrom\u001b[0m \u001b[0mmatplotlib\u001b[0m\u001b[0;34m.\u001b[0m\u001b[0mpyplot\u001b[0m \u001b[0;32mimport\u001b[0m \u001b[0msubplots\u001b[0m\u001b[0;34m\u001b[0m\u001b[0;34m\u001b[0m\u001b[0m\n\u001b[1;32m      4\u001b[0m \u001b[0;32mimport\u001b[0m \u001b[0mstatsmodels\u001b[0m\u001b[0;34m.\u001b[0m\u001b[0mapi\u001b[0m \u001b[0;32mas\u001b[0m \u001b[0msm\u001b[0m\u001b[0;34m\u001b[0m\u001b[0;34m\u001b[0m\u001b[0m\n\u001b[0;32m----> 5\u001b[0;31m \u001b[0;32mfrom\u001b[0m \u001b[0mISLP\u001b[0m \u001b[0;32mimport\u001b[0m \u001b[0mload_data\u001b[0m\u001b[0;34m\u001b[0m\u001b[0;34m\u001b[0m\u001b[0m\n\u001b[0m\u001b[1;32m      6\u001b[0m from ISLP.models import (ModelSpec as MS,\n\u001b[1;32m      7\u001b[0m                          summarize)\n",
      "\u001b[0;32m~/opt/anaconda3/envs/tf2/lib/python3.8/site-packages/ISLP/__init__.py\u001b[0m in \u001b[0;36m<module>\u001b[0;34m\u001b[0m\n\u001b[1;32m      8\u001b[0m \u001b[0;32mfrom\u001b[0m \u001b[0mos\u001b[0m\u001b[0;34m.\u001b[0m\u001b[0mpath\u001b[0m \u001b[0;32mimport\u001b[0m \u001b[0mjoin\u001b[0m \u001b[0;32mas\u001b[0m \u001b[0mpjoin\u001b[0m\u001b[0;34m\u001b[0m\u001b[0;34m\u001b[0m\u001b[0m\n\u001b[1;32m      9\u001b[0m \u001b[0;32mimport\u001b[0m \u001b[0mpandas\u001b[0m \u001b[0;32mas\u001b[0m \u001b[0mpd\u001b[0m\u001b[0;34m,\u001b[0m \u001b[0mnumpy\u001b[0m \u001b[0;32mas\u001b[0m \u001b[0mnp\u001b[0m\u001b[0;34m\u001b[0m\u001b[0;34m\u001b[0m\u001b[0m\n\u001b[0;32m---> 10\u001b[0;31m from importlib.resources import (as_file,\n\u001b[0m\u001b[1;32m     11\u001b[0m                                  files)\n\u001b[1;32m     12\u001b[0m \u001b[0;34m\u001b[0m\u001b[0m\n",
      "\u001b[0;31mImportError\u001b[0m: cannot import name 'as_file' from 'importlib.resources' (/Users/ryantalbot/opt/anaconda3/envs/tf2/lib/python3.8/importlib/resources.py)"
     ]
    }
   ],
   "source": [
    "import numpy as np\n",
    "import pandas as pd\n",
    "from matplotlib.pyplot import subplots\n",
    "import statsmodels.api as sm\n",
    "from ISLP import load_data\n",
    "from ISLP.models import (ModelSpec as MS,\n",
    "                         summarize)"
   ]
  },
  {
   "cell_type": "markdown",
   "id": "63093cb3",
   "metadata": {},
   "source": [
    "We also collect together the new imports needed for this lab."
   ]
  },
  {
   "cell_type": "code",
   "execution_count": null,
   "id": "f0a0173d",
   "metadata": {
    "lines_to_next_cell": 2
   },
   "outputs": [],
   "source": [
    "from ISLP import confusion_table\n",
    "from ISLP.models import contrast\n",
    "from sklearn.discriminant_analysis import \\\n",
    "     (LinearDiscriminantAnalysis as LDA,\n",
    "      QuadraticDiscriminantAnalysis as QDA)\n",
    "from sklearn.naive_bayes import GaussianNB\n",
    "from sklearn.neighbors import KNeighborsClassifier\n",
    "from sklearn.preprocessing import StandardScaler\n",
    "from sklearn.model_selection import train_test_split\n",
    "from sklearn.linear_model import LogisticRegression\n"
   ]
  },
  {
   "cell_type": "markdown",
   "id": "1398b276",
   "metadata": {},
   "source": [
    "Now we are ready to load the `Smarket` data."
   ]
  },
  {
   "cell_type": "code",
   "execution_count": null,
   "id": "3640fda5",
   "metadata": {
    "lines_to_next_cell": 0
   },
   "outputs": [],
   "source": [
    "Smarket = load_data('Smarket')\n",
    "Smarket"
   ]
  },
  {
   "cell_type": "markdown",
   "id": "f40d5bbb",
   "metadata": {},
   "source": [
    "This gives a truncated listing of the data.\n",
    "We can see what the variable names are."
   ]
  },
  {
   "cell_type": "code",
   "execution_count": null,
   "id": "ff825fa5",
   "metadata": {
    "lines_to_next_cell": 0
   },
   "outputs": [],
   "source": [
    "Smarket.columns"
   ]
  },
  {
   "cell_type": "markdown",
   "id": "1c87b92f",
   "metadata": {},
   "source": [
    "We compute the correlation matrix using the `corr()` method\n",
    "for data frames, which produces a matrix that contains all of\n",
    "the pairwise correlations among the variables.\n",
    " \n",
    "By instructing `pandas` to use only numeric variables, the `corr()` method does not report a correlation for the `Direction`  variable because it is\n",
    " qualitative."
   ]
  },
  {
   "cell_type": "code",
   "execution_count": null,
   "id": "6e10c8fa",
   "metadata": {
    "lines_to_next_cell": 0
   },
   "outputs": [],
   "source": [
    "Smarket.corr(numeric_only=True)\n"
   ]
  },
  {
   "cell_type": "markdown",
   "id": "b6659038",
   "metadata": {},
   "source": [
    "As one would expect, the correlations between the lagged return  variables and\n",
    "today’s return are close to zero.  The only substantial correlation is between  `Year`  and\n",
    " `Volume`. By plotting the data we see that  `Volume`\n",
    "is increasing over time. In other words, the average number of shares traded\n",
    "daily increased from 2001 to 2005.\n"
   ]
  },
  {
   "cell_type": "code",
   "execution_count": null,
   "id": "c30034ac",
   "metadata": {
    "lines_to_next_cell": 2
   },
   "outputs": [],
   "source": [
    "Smarket.plot(y='Volume');\n"
   ]
  },
  {
   "cell_type": "markdown",
   "id": "79919219",
   "metadata": {},
   "source": [
    "## Logistic Regression\n",
    "Next, we will fit a logistic regression model in order to predict\n",
    " `Direction`  using  `Lag1`  through  `Lag5`  and\n",
    " `Volume`. The `sm.GLM()`  function fits *generalized linear models*, a class of\n",
    "models that includes logistic regression.  Alternatively,\n",
    "the function `sm.Logit()` fits a logistic regression\n",
    "model directly. The syntax of\n",
    "`sm.GLM()` is similar to that of `sm.OLS()`, except\n",
    "that we must pass in the argument `family=sm.families.Binomial()`\n",
    "in order to tell `statsmodels` to run a logistic regression rather than some other\n",
    "type of generalized linear model."
   ]
  },
  {
   "cell_type": "code",
   "execution_count": null,
   "id": "61a82664",
   "metadata": {
    "lines_to_next_cell": 0
   },
   "outputs": [],
   "source": [
    "allvars = Smarket.columns.drop(['Today', 'Direction', 'Year'])\n",
    "design = MS(allvars)\n",
    "X = design.fit_transform(Smarket)\n",
    "y = Smarket.Direction == 'Up'\n",
    "glm = sm.GLM(y,\n",
    "             X,\n",
    "             family=sm.families.Binomial())\n",
    "results = glm.fit()\n",
    "summarize(results)\n"
   ]
  },
  {
   "cell_type": "markdown",
   "id": "ee972938",
   "metadata": {},
   "source": [
    "The smallest *p*-value here is associated with  `Lag1`. The\n",
    "negative coefficient for this predictor suggests that if the market\n",
    "had a positive return yesterday, then it is less likely to go up\n",
    "today. However, at a value of 0.15, the *p*-value is still\n",
    "relatively large, and so there is no clear evidence of a real\n",
    "association between  `Lag1`  and  `Direction`.\n",
    "\n",
    "We use the `params`  attribute of `results`\n",
    "in order to access just the\n",
    "coefficients for this fitted model."
   ]
  },
  {
   "cell_type": "code",
   "execution_count": null,
   "id": "d09a55d9",
   "metadata": {
    "lines_to_next_cell": 0
   },
   "outputs": [],
   "source": [
    "results.params\n"
   ]
  },
  {
   "cell_type": "markdown",
   "id": "4c886505",
   "metadata": {},
   "source": [
    "Likewise we can use the\n",
    "`pvalues`  attribute to access the *p*-values for the coefficients."
   ]
  },
  {
   "cell_type": "code",
   "execution_count": null,
   "id": "a14e688f",
   "metadata": {},
   "outputs": [],
   "source": [
    "results.pvalues\n"
   ]
  },
  {
   "cell_type": "markdown",
   "id": "cd01f173",
   "metadata": {},
   "source": [
    "The `predict()`  method of `results` can be used to predict the\n",
    "probability that the market will go up, given values of the\n",
    "predictors. This method returns predictions\n",
    "on the probability scale. If no data set is supplied to the `predict()`\n",
    "function, then the probabilities are computed for the training data\n",
    "that was used to fit the logistic regression model.\n",
    "As with linear regression, one can pass an optional `exog` argument consistent\n",
    "with a design matrix if desired. Here we have\n",
    "printed only the first ten probabilities."
   ]
  },
  {
   "cell_type": "code",
   "execution_count": null,
   "id": "2d1d337a",
   "metadata": {
    "lines_to_next_cell": 0
   },
   "outputs": [],
   "source": [
    "probs = results.predict()\n",
    "probs[:10]\n"
   ]
  },
  {
   "cell_type": "markdown",
   "id": "c464dc7d",
   "metadata": {},
   "source": [
    "In order to make a prediction as to whether the market will go up or\n",
    "down on a particular day, we must convert these predicted\n",
    "probabilities into class labels,  `Up`  or  `Down`.  The\n",
    "following two commands create a vector of class predictions based on\n",
    "whether the predicted probability of a market increase is greater than\n",
    "or less than 0.5."
   ]
  },
  {
   "cell_type": "code",
   "execution_count": null,
   "id": "db97e20c",
   "metadata": {
    "lines_to_next_cell": 0
   },
   "outputs": [],
   "source": [
    "labels = np.array(['Down']*1250)\n",
    "labels[probs>0.5] = \"Up\"\n"
   ]
  },
  {
   "cell_type": "markdown",
   "id": "2079aa26",
   "metadata": {},
   "source": [
    "The `confusion_table()`\n",
    "function from the `ISLP` package summarizes these predictions, showing   how\n",
    "many observations were correctly or incorrectly classified. Our function, which is adapted from a similar function\n",
    "in the module `sklearn.metrics`,  transposes the resulting\n",
    "matrix and includes row and column labels.\n",
    "The `confusion_table()` function takes as first argument the\n",
    "predicted labels, and second argument the true labels."
   ]
  },
  {
   "cell_type": "code",
   "execution_count": null,
   "id": "5173815c",
   "metadata": {},
   "outputs": [],
   "source": [
    "confusion_table(labels, Smarket.Direction)\n"
   ]
  },
  {
   "cell_type": "markdown",
   "id": "e02ffcf4",
   "metadata": {},
   "source": [
    "The diagonal elements of the confusion matrix indicate correct\n",
    "predictions, while the off-diagonals represent incorrect\n",
    "predictions. Hence our model correctly predicted that the market would\n",
    "go up on 507 days and that it would go down on 145 days, for a\n",
    "total of 507 + 145 = 652 correct predictions. The `np.mean()`\n",
    "function can be used to compute the fraction of days for which the\n",
    "prediction was correct. In this case, logistic regression correctly\n",
    "predicted the movement of the market 52.2% of the time.\n"
   ]
  },
  {
   "cell_type": "code",
   "execution_count": null,
   "id": "b49ce3a2",
   "metadata": {
    "lines_to_next_cell": 0
   },
   "outputs": [],
   "source": [
    "(507+145)/1250, np.mean(labels == Smarket.Direction)\n"
   ]
  },
  {
   "cell_type": "markdown",
   "id": "547a999d",
   "metadata": {},
   "source": [
    "\n"
   ]
  },
  {
   "cell_type": "markdown",
   "id": "ad43edf5",
   "metadata": {},
   "source": [
    "At first glance, it appears that the logistic regression model is\n",
    "working a little better than random guessing. However, this result is\n",
    "misleading because we trained and tested the model on the same set of\n",
    "1,250 observations. In other words, $100-52.2=47.8%$ is the\n",
    "*training* error  rate. As we have seen\n",
    "previously, the training error rate is often overly optimistic --- it\n",
    "tends to underestimate the test error rate.  In\n",
    "order to better assess the accuracy of the logistic regression model\n",
    "in this setting, we can fit the model using part of the data, and\n",
    "then examine how well it predicts the *held out* data.  This\n",
    "will yield a more realistic error rate, in the sense that in practice\n",
    "we will be interested in our model’s performance not on the data that\n",
    "we used to fit the model, but rather on days in the future for which\n",
    "the market’s movements are unknown.\n",
    "\n",
    "To implement this strategy, we first create a Boolean vector\n",
    "corresponding to the observations from 2001 through 2004. We  then\n",
    "use this vector to create a held out data set of observations from\n",
    "2005."
   ]
  },
  {
   "cell_type": "code",
   "execution_count": null,
   "id": "773ab528",
   "metadata": {
    "lines_to_next_cell": 2
   },
   "outputs": [],
   "source": [
    "train = (Smarket.Year < 2005)\n",
    "Smarket_train = Smarket.loc[train]\n",
    "Smarket_test = Smarket.loc[~train]\n",
    "Smarket_test.shape\n"
   ]
  },
  {
   "cell_type": "markdown",
   "id": "8a416bea",
   "metadata": {},
   "source": [
    "The object `train` is a vector of 1,250 elements, corresponding\n",
    "to the observations in our data set. The elements of the vector that\n",
    "correspond to observations that occurred before 2005 are set to\n",
    "`True`, whereas those that correspond to observations in 2005 are\n",
    "set to `False`.  Hence `train` is a\n",
    "*boolean*   array, since its\n",
    "elements are `True` and `False`.  Boolean arrays can be used\n",
    "to obtain a subset of the rows or columns of a data frame\n",
    "using the `loc` method. For instance,\n",
    "the command `Smarket.loc[train]` would pick out a submatrix of the\n",
    "stock market data set, corresponding only to the dates before 2005,\n",
    "since those are the ones for which the elements of `train` are\n",
    "`True`.  The `~` symbol can be used to negate all of the\n",
    "elements of a Boolean vector. That is, `~train` is a vector\n",
    "similar to `train`, except that the elements that are `True`\n",
    "in `train` get swapped to `False` in `~train`, and vice versa.\n",
    "Therefore, `Smarket.loc[~train]` yields a\n",
    "subset of the rows of the data frame\n",
    "of the stock market data containing only the observations for which\n",
    "`train` is `False`.\n",
    "The output above indicates that there are 252 such\n",
    "observations.\n",
    "\n",
    "We now fit a logistic regression model using only the subset of the\n",
    "observations that correspond to dates before 2005. We then obtain predicted probabilities of the\n",
    "stock market going up for each of the days in our test set --- that is,\n",
    "for the days in 2005."
   ]
  },
  {
   "cell_type": "code",
   "execution_count": null,
   "id": "e8b1b1e8",
   "metadata": {},
   "outputs": [],
   "source": [
    "X_train, X_test = X.loc[train], X.loc[~train]\n",
    "y_train, y_test = y.loc[train], y.loc[~train]\n",
    "glm_train = sm.GLM(y_train,\n",
    "                   X_train,\n",
    "                   family=sm.families.Binomial())\n",
    "results = glm_train.fit()\n",
    "probs = results.predict(exog=X_test)\n"
   ]
  },
  {
   "cell_type": "markdown",
   "id": "230e2b8e",
   "metadata": {},
   "source": [
    "Notice that we have trained and tested our model on two completely\n",
    "separate data sets: training was performed using only the dates before\n",
    "2005, and testing was performed using only the dates in 2005.\n",
    "\n",
    "Finally, we compare the predictions for 2005 to the\n",
    "actual movements of the market over that time period.\n",
    "We will first store the test and training labels (recall `y_test` is binary)."
   ]
  },
  {
   "cell_type": "code",
   "execution_count": null,
   "id": "c1993ea5",
   "metadata": {
    "lines_to_next_cell": 0
   },
   "outputs": [],
   "source": [
    "D = Smarket.Direction\n",
    "L_train, L_test = D.loc[train], D.loc[~train]\n"
   ]
  },
  {
   "cell_type": "markdown",
   "id": "dbc2679d",
   "metadata": {},
   "source": [
    "Now we threshold the\n",
    "fitted probability at 50% to form\n",
    "our predicted labels."
   ]
  },
  {
   "cell_type": "code",
   "execution_count": null,
   "id": "8f909de4",
   "metadata": {
    "lines_to_next_cell": 0
   },
   "outputs": [],
   "source": [
    "labels = np.array(['Down']*252)\n",
    "labels[probs>0.5] = 'Up'\n",
    "confusion_table(labels, L_test)\n"
   ]
  },
  {
   "cell_type": "markdown",
   "id": "8145ecec",
   "metadata": {},
   "source": [
    "The test accuracy is about 48% while the error rate is about 52%"
   ]
  },
  {
   "cell_type": "code",
   "execution_count": null,
   "id": "3c479105",
   "metadata": {
    "lines_to_next_cell": 2
   },
   "outputs": [],
   "source": [
    "np.mean(labels == L_test), np.mean(labels != L_test)\n"
   ]
  },
  {
   "cell_type": "markdown",
   "id": "4b1609dd",
   "metadata": {},
   "source": [
    "The `!=` notation means *not equal to*, and so the last command\n",
    "computes the test set error rate. The results are rather\n",
    "disappointing: the test error rate is 52%, which is worse than\n",
    "random guessing! Of course this result is not all that surprising,\n",
    "given that one would not generally expect to be able to use previous\n",
    "days’ returns to predict future market performance. (After all, if it\n",
    "were possible to do so, then the authors of this book would be out\n",
    "striking it rich rather than writing a statistics textbook.)\n",
    "\n",
    "We recall that the logistic regression model had very underwhelming\n",
    "*p*-values associated with all of the predictors, and that the\n",
    "smallest *p*-value, though not very small, corresponded to\n",
    " `Lag1`. Perhaps by removing the variables that appear not to be\n",
    "helpful in predicting  `Direction`, we can obtain a more\n",
    "effective model. After all, using predictors that have no relationship\n",
    "with the response tends to cause a deterioration in the test error\n",
    "rate (since such predictors cause an increase in variance without a\n",
    "corresponding decrease in bias), and so removing such predictors may\n",
    "in turn yield an improvement.  Below we refit the logistic\n",
    "regression using just  `Lag1`  and  `Lag2`, which seemed to\n",
    "have the highest predictive power in the original logistic regression\n",
    "model."
   ]
  },
  {
   "cell_type": "code",
   "execution_count": null,
   "id": "3f473ec0",
   "metadata": {
    "lines_to_next_cell": 2
   },
   "outputs": [],
   "source": [
    "model = MS(['Lag1', 'Lag2']).fit(Smarket)\n",
    "X = model.transform(Smarket)\n",
    "X_train, X_test = X.loc[train], X.loc[~train]\n",
    "glm_train = sm.GLM(y_train,\n",
    "                   X_train,\n",
    "                   family=sm.families.Binomial())\n",
    "results = glm_train.fit()\n",
    "probs = results.predict(exog=X_test)\n",
    "labels = np.array(['Down']*252)\n",
    "labels[probs>0.5] = 'Up'\n",
    "confusion_table(labels, L_test)\n"
   ]
  },
  {
   "cell_type": "markdown",
   "id": "46cf03c1",
   "metadata": {},
   "source": [
    "Let’s evaluate the overall accuracy as well as the accuracy within the days when\n",
    "logistic regression predicts an increase."
   ]
  },
  {
   "cell_type": "code",
   "execution_count": null,
   "id": "b3cd8b84",
   "metadata": {},
   "outputs": [],
   "source": [
    "(35+106)/252,106/(106+76)\n"
   ]
  },
  {
   "cell_type": "markdown",
   "id": "4641aad1",
   "metadata": {},
   "source": [
    "Now the results appear to be a little better: 56% of the daily\n",
    "movements have been correctly predicted. It is worth noting that in\n",
    "this case, a much simpler strategy of predicting that the market will\n",
    "increase every day will also be correct 56% of the time! Hence, in\n",
    "terms of overall error rate, the logistic regression method is no\n",
    "better than the naive approach. However, the confusion matrix\n",
    "shows that on days when logistic regression predicts an increase in\n",
    "the market, it has a 58% accuracy rate. This suggests a possible\n",
    "trading strategy of buying on days when the model predicts an\n",
    "increasing market, and avoiding trades on days when a decrease is\n",
    "predicted. Of course one would need to investigate more carefully\n",
    "whether this small improvement was real or just due to random chance.\n",
    "\n",
    "Suppose that we want to predict the returns associated with particular\n",
    "values of  `Lag1`  and  `Lag2`. In particular, we want to\n",
    "predict  `Direction`  on a day when  `Lag1`  and\n",
    " `Lag2`  equal $1.2$ and $1.1$, respectively, and on a day when they\n",
    "equal $1.5$ and $-0.8$.  We do this using the `predict()`\n",
    "function."
   ]
  },
  {
   "cell_type": "code",
   "execution_count": null,
   "id": "d15e7495",
   "metadata": {
    "lines_to_next_cell": 2
   },
   "outputs": [],
   "source": [
    "newdata = pd.DataFrame({'Lag1':[1.2, 1.5],\n",
    "                        'Lag2':[1.1, -0.8]});\n",
    "newX = model.transform(newdata)\n",
    "results.predict(newX)\n"
   ]
  },
  {
   "cell_type": "markdown",
   "id": "595d2fa9",
   "metadata": {},
   "source": [
    "## Linear Discriminant Analysis"
   ]
  },
  {
   "cell_type": "markdown",
   "id": "0d31037d",
   "metadata": {},
   "source": [
    "We begin by performing LDA on the  `Smarket`  data, using the function\n",
    "`LinearDiscriminantAnalysis()`, which we have abbreviated `LDA()`. We \n",
    "fit the model using only the observations before 2005."
   ]
  },
  {
   "cell_type": "code",
   "execution_count": null,
   "id": "586b8bc1",
   "metadata": {},
   "outputs": [],
   "source": [
    "lda = LDA(store_covariance=True)\n"
   ]
  },
  {
   "cell_type": "markdown",
   "id": "43672635",
   "metadata": {},
   "source": [
    "Since the `LDA` estimator automatically \n",
    "adds an intercept, we should remove the column corresponding to the\n",
    "intercept in both `X_train` and `X_test`. We can also directly\n",
    "use the labels rather than the Boolean vectors `y_train`."
   ]
  },
  {
   "cell_type": "code",
   "execution_count": null,
   "id": "18fa8ae5",
   "metadata": {
    "lines_to_next_cell": 0
   },
   "outputs": [],
   "source": [
    "X_train, X_test = [M.drop(columns=['intercept'])\n",
    "                   for M in [X_train, X_test]]\n",
    "lda.fit(X_train, L_train)\n"
   ]
  },
  {
   "cell_type": "markdown",
   "id": "a8254b5d",
   "metadata": {},
   "source": [
    "Here we have used the list comprehensions introduced\n",
    "in Section~\\ref{Ch3-linreg-lab:multivariate-goodness-of-fit}. Looking at our first line above, we see that the right-hand side is a list\n",
    "of length two. This is because the code `for M in [X_train, X_test]` iterates over a list\n",
    "of length two. While here we loop over a list,\n",
    "the list comprehension method works when looping over any iterable object.\n",
    "We then apply the `drop()` method to each element in the iteration, collecting\n",
    "the result in a list. The left-hand side tells `Python` to unpack this list\n",
    "of length two, assigning its elements to the variables `X_train` and `X_test`. Of course,\n",
    "this overwrites the previous values of `X_train` and `X_test`.\n",
    "\n",
    "Having fit the model, we can extract the means in the two classes with the `means_` attribute. These are the average of each predictor within each class, and\n",
    "are used by LDA as estimates of $\\mu_k$.  These suggest that there is\n",
    "a tendency for the previous 2 days’ returns to be negative on days\n",
    "when the market increases, and a tendency for the previous days’\n",
    "returns to be positive on days when the market declines."
   ]
  },
  {
   "cell_type": "code",
   "execution_count": null,
   "id": "4c9a8391",
   "metadata": {
    "lines_to_next_cell": 2
   },
   "outputs": [],
   "source": [
    "lda.means_\n"
   ]
  },
  {
   "cell_type": "markdown",
   "id": "2d21cb4e",
   "metadata": {},
   "source": [
    "The estimated prior probabilities are stored in the `priors_` attribute.\n",
    "The package `sklearn` typically uses this trailing `_` to denote\n",
    "a quantity estimated when using the `fit()` method. We can be sure of which\n",
    "entry corresponds to which label by looking at the `classes_` attribute."
   ]
  },
  {
   "cell_type": "code",
   "execution_count": null,
   "id": "0b774571",
   "metadata": {
    "lines_to_next_cell": 2
   },
   "outputs": [],
   "source": [
    "lda.classes_\n"
   ]
  },
  {
   "cell_type": "markdown",
   "id": "7a959865",
   "metadata": {},
   "source": [
    "The LDA output indicates that $\\hat\\pi_{Down}=0.492$ and\n",
    "$\\hat\\pi_{Up}=0.508$.\n"
   ]
  },
  {
   "cell_type": "code",
   "execution_count": null,
   "id": "148f227f",
   "metadata": {
    "lines_to_next_cell": 2
   },
   "outputs": [],
   "source": [
    "lda.priors_\n"
   ]
  },
  {
   "cell_type": "markdown",
   "id": "b2351d5f",
   "metadata": {},
   "source": [
    "The linear discriminant vectors can be found in the `scalings_` attribute:"
   ]
  },
  {
   "cell_type": "code",
   "execution_count": null,
   "id": "73068c40",
   "metadata": {},
   "outputs": [],
   "source": [
    "lda.scalings_\n"
   ]
  },
  {
   "cell_type": "markdown",
   "id": "f0a4abaf",
   "metadata": {},
   "source": [
    "These values provide the linear combination of `Lag1`  and `Lag2`  that are used to form the LDA decision rule. In other words, these are the multipliers of the elements of $X=x$ in (\\ref{Ch4:bayes.multi}).\n",
    "  If $-0.64\\times `Lag1`  - 0.51 \\times `Lag2` $ is large, then the LDA classifier will predict a market increase, and if it is small, then the LDA classifier will predict a market decline."
   ]
  },
  {
   "cell_type": "code",
   "execution_count": null,
   "id": "a8d52279",
   "metadata": {},
   "outputs": [],
   "source": [
    "lda_pred = lda.predict(X_test)\n"
   ]
  },
  {
   "cell_type": "markdown",
   "id": "148cc469",
   "metadata": {},
   "source": [
    "As we observed in our comparison of classification methods\n",
    " (Section~\\ref{Ch4:comparison.sec}),  the LDA and logistic\n",
    "regression predictions are almost identical."
   ]
  },
  {
   "cell_type": "code",
   "execution_count": null,
   "id": "b83cbac2",
   "metadata": {
    "lines_to_next_cell": 2
   },
   "outputs": [],
   "source": [
    "confusion_table(lda_pred, L_test)\n"
   ]
  },
  {
   "cell_type": "markdown",
   "id": "2261b398",
   "metadata": {},
   "source": [
    "We can also estimate the\n",
    "probability of each class for\n",
    "each point in a training set. Applying a 50% threshold to the posterior probabilities of\n",
    "being in class one allows us to\n",
    "recreate the predictions contained in `lda_pred`."
   ]
  },
  {
   "cell_type": "code",
   "execution_count": null,
   "id": "496f213c",
   "metadata": {
    "lines_to_next_cell": 2
   },
   "outputs": [],
   "source": [
    "lda_prob = lda.predict_proba(X_test)\n",
    "np.all(\n",
    "       np.where(lda_prob[:,1] >= 0.5, 'Up','Down') == lda_pred\n",
    "       )\n"
   ]
  },
  {
   "cell_type": "markdown",
   "id": "56d0ad8f",
   "metadata": {},
   "source": [
    "Above, we used the `np.where()`  function that\n",
    "creates an array with value `'Up'` for indices where\n",
    "the second column of `lda_prob` (the estimated\n",
    "posterior probability of `'Up'`) is greater than 0.5.\n",
    "For problems with more than two classes the labels are chosen as the class whose posterior probability is highest:"
   ]
  },
  {
   "cell_type": "code",
   "execution_count": null,
   "id": "7a306b42",
   "metadata": {
    "lines_to_next_cell": 2
   },
   "outputs": [],
   "source": [
    "np.all(\n",
    "       [lda.classes_[i] for i in np.argmax(lda_prob, 1)] == lda_pred\n",
    "       )\n"
   ]
  },
  {
   "cell_type": "markdown",
   "id": "01fe47ab",
   "metadata": {},
   "source": [
    "If we wanted to use a posterior probability threshold other than\n",
    "50% in order to make predictions, then we could easily do so. For\n",
    "instance, suppose that we wish to predict a market decrease only if we\n",
    "are very certain that the market will indeed decrease on that\n",
    "day --- say, if the posterior probability is at least 90%.\n",
    "We know that the first column of `lda_prob` corresponds to the\n",
    "label `Down` after having checked the `classes_` attribute, hence we use\n",
    "the column index 0 rather than 1 as we did above."
   ]
  },
  {
   "cell_type": "code",
   "execution_count": null,
   "id": "f2d7878b",
   "metadata": {},
   "outputs": [],
   "source": [
    "np.sum(lda_prob[:,0] > 0.9)\n"
   ]
  },
  {
   "cell_type": "markdown",
   "id": "d5c3e881",
   "metadata": {},
   "source": [
    "No days in 2005 meet that threshold! In fact, the greatest posterior\n",
    "probability of decrease in all of 2005 was 52.02%.\n",
    "\n",
    "The LDA classifier above is the first classifier from the\n",
    "`sklearn` library. We will use several other objects\n",
    "from this library. The objects\n",
    "follow a common structure that simplifies tasks such as cross-validation,\n",
    "which we will see in Chapter~\\ref{Ch5:resample}. Specifically,\n",
    "the methods first create a generic classifier without\n",
    "referring to any data. This classifier is then fit\n",
    "to data with the `fit()`  method and predictions are\n",
    "always produced with the `predict()` method. This pattern\n",
    "of first instantiating the classifier, followed by fitting it, and\n",
    "then producing predictions is an explicit design choice of `sklearn`. This uniformity\n",
    "makes it possible to cleanly copy the classifier so that it can be fit\n",
    "on different data; e.g. different training sets arising in cross-validation.\n",
    "This standard pattern also allows for a predictable formation of workflows.\n"
   ]
  },
  {
   "cell_type": "markdown",
   "id": "dbeab8f9",
   "metadata": {},
   "source": [
    "## Quadratic Discriminant Analysis\n",
    "We will now fit a QDA model to the  `Smarket`  data. QDA is\n",
    "implemented via\n",
    "`QuadraticDiscriminantAnalysis()`\n",
    "in the `sklearn` package, which we abbreviate to `QDA()`.\n",
    "The syntax is very similar to `LDA()`."
   ]
  },
  {
   "cell_type": "code",
   "execution_count": null,
   "id": "6fc87c48",
   "metadata": {},
   "outputs": [],
   "source": [
    "qda = QDA(store_covariance=True)\n",
    "qda.fit(X_train, L_train)\n"
   ]
  },
  {
   "cell_type": "markdown",
   "id": "7a0ca885",
   "metadata": {},
   "source": [
    "The `QDA()` function will again compute `means_` and `priors_`."
   ]
  },
  {
   "cell_type": "code",
   "execution_count": null,
   "id": "92f4f928",
   "metadata": {},
   "outputs": [],
   "source": [
    "qda.means_, qda.priors_\n"
   ]
  },
  {
   "cell_type": "markdown",
   "id": "c431c86f",
   "metadata": {},
   "source": [
    "The `QDA()` classifier will estimate one covariance per class. Here is the\n",
    "estimated covariance in the first class:"
   ]
  },
  {
   "cell_type": "code",
   "execution_count": null,
   "id": "d016f22c",
   "metadata": {
    "lines_to_next_cell": 0
   },
   "outputs": [],
   "source": [
    "qda.covariance_[0]\n"
   ]
  },
  {
   "cell_type": "markdown",
   "id": "9255f459",
   "metadata": {},
   "source": [
    "The output contains the group means. But it does not contain the\n",
    "coefficients of the linear discriminants, because the QDA classifier\n",
    "involves a quadratic, rather than a linear, function of the\n",
    "predictors. The `predict()`  function works in exactly the\n",
    "same fashion as for LDA."
   ]
  },
  {
   "cell_type": "code",
   "execution_count": null,
   "id": "0c8fa11a",
   "metadata": {
    "lines_to_next_cell": 0
   },
   "outputs": [],
   "source": [
    "qda_pred = qda.predict(X_test)\n",
    "confusion_table(qda_pred, L_test)\n"
   ]
  },
  {
   "cell_type": "markdown",
   "id": "9d80294b",
   "metadata": {},
   "source": [
    "Interestingly, the QDA predictions are accurate almost 60% of the\n",
    "time, even though the 2005 data was not used to fit the model."
   ]
  },
  {
   "cell_type": "code",
   "execution_count": null,
   "id": "b010de50",
   "metadata": {
    "lines_to_next_cell": 2
   },
   "outputs": [],
   "source": [
    "np.mean(qda_pred == L_test)\n"
   ]
  },
  {
   "cell_type": "markdown",
   "id": "b57525d1",
   "metadata": {},
   "source": [
    "This level of accuracy is quite impressive for stock market data, which is\n",
    "known to be quite hard to model accurately.  This suggests that the\n",
    "quadratic form assumed by QDA may capture the true relationship more\n",
    "accurately than the linear forms assumed by LDA and logistic\n",
    "regression.  However, we recommend evaluating this method’s\n",
    "performance on a larger test set before betting that this approach\n",
    "will consistently beat the market!"
   ]
  },
  {
   "cell_type": "markdown",
   "id": "152e9b52",
   "metadata": {},
   "source": [
    "## Naive Bayes\n",
    "Next, we fit a naive Bayes model to the `Smarket` data. The syntax is\n",
    "similar to that of `LDA()` and `QDA()`. By\n",
    "default, this implementation `GaussianNB()` of the naive Bayes classifier models each\n",
    "quantitative feature using a Gaussian distribution. However, a kernel\n",
    "density method can also be used to estimate the distributions."
   ]
  },
  {
   "cell_type": "code",
   "execution_count": null,
   "id": "78cac089",
   "metadata": {
    "lines_to_next_cell": 2
   },
   "outputs": [],
   "source": [
    "NB = GaussianNB()\n",
    "NB.fit(X_train, L_train)\n"
   ]
  },
  {
   "cell_type": "markdown",
   "id": "0da48d75",
   "metadata": {},
   "source": [
    "The classes are stored as `classes_`."
   ]
  },
  {
   "cell_type": "code",
   "execution_count": null,
   "id": "acce3488",
   "metadata": {
    "lines_to_next_cell": 2
   },
   "outputs": [],
   "source": [
    "NB.classes_\n"
   ]
  },
  {
   "cell_type": "markdown",
   "id": "6df1a20e",
   "metadata": {},
   "source": [
    "The class prior probabilities are stored in the `class_prior_` attribute."
   ]
  },
  {
   "cell_type": "code",
   "execution_count": null,
   "id": "c176be69",
   "metadata": {
    "lines_to_next_cell": 2
   },
   "outputs": [],
   "source": [
    "NB.class_prior_\n"
   ]
  },
  {
   "cell_type": "markdown",
   "id": "276b1efe",
   "metadata": {},
   "source": [
    "The parameters of the features can be found in the `theta_` and `var_` attributes. The number of rows\n",
    "is equal to the number of classes, while the number of columns is equal to the number of features.\n",
    "We see below that the mean for feature `Lag1` in the `Down` class is 0.043."
   ]
  },
  {
   "cell_type": "code",
   "execution_count": null,
   "id": "bb1b5bed",
   "metadata": {},
   "outputs": [],
   "source": [
    "NB.theta_\n"
   ]
  },
  {
   "cell_type": "markdown",
   "id": "e679eb16",
   "metadata": {},
   "source": [
    "Its variance is 1.503."
   ]
  },
  {
   "cell_type": "code",
   "execution_count": null,
   "id": "158e9f9f",
   "metadata": {
    "lines_to_next_cell": 0
   },
   "outputs": [],
   "source": [
    "NB.var_\n"
   ]
  },
  {
   "cell_type": "markdown",
   "id": "3ba86b52",
   "metadata": {},
   "source": [
    "How do we know the names of these attributes? We use `NB?` (or `?NB`).\n",
    "\n",
    "We can easily verify the mean computation:"
   ]
  },
  {
   "cell_type": "code",
   "execution_count": null,
   "id": "eed68a42",
   "metadata": {
    "lines_to_next_cell": 2
   },
   "outputs": [],
   "source": [
    "X_train[L_train == 'Down'].mean()\n"
   ]
  },
  {
   "cell_type": "markdown",
   "id": "d5b73a4d",
   "metadata": {},
   "source": [
    "Similarly for the variance:"
   ]
  },
  {
   "cell_type": "code",
   "execution_count": null,
   "id": "3e4e63f1",
   "metadata": {
    "lines_to_next_cell": 0
   },
   "outputs": [],
   "source": [
    "X_train[L_train == 'Down'].var(ddof=0)\n"
   ]
  },
  {
   "cell_type": "markdown",
   "id": "f63c729a",
   "metadata": {},
   "source": [
    "Since `NB()` is a classifier in the `sklearn` library, making predictions\n",
    "uses the same syntax as for `LDA()` and `QDA()` above."
   ]
  },
  {
   "cell_type": "code",
   "execution_count": null,
   "id": "560b277f",
   "metadata": {},
   "outputs": [],
   "source": [
    "nb_labels = NB.predict(X_test)\n",
    "confusion_table(nb_labels, L_test)\n"
   ]
  },
  {
   "cell_type": "markdown",
   "id": "a16e034c",
   "metadata": {},
   "source": [
    "Naive Bayes performs well on these data, with accurate predictions over 59% of the time. This is slightly worse than QDA, but much better than LDA.\n",
    "\n",
    "As for `LDA`, the `predict_proba()` method estimates the probability that each observation belongs to a particular class."
   ]
  },
  {
   "cell_type": "code",
   "execution_count": null,
   "id": "1efe1d6a",
   "metadata": {
    "lines_to_next_cell": 2
   },
   "outputs": [],
   "source": [
    "NB.predict_proba(X_test)[:5]\n"
   ]
  },
  {
   "cell_type": "markdown",
   "id": "ed4f37e8",
   "metadata": {},
   "source": [
    "## K-Nearest Neighbors\n",
    "We will now perform KNN using the `KNeighborsClassifier()` function. This function works similarly\n",
    "to the other model-fitting functions that we have\n",
    "encountered thus far.\n",
    "\n",
    "As is the\n",
    "case for LDA and QDA, we fit the classifier\n",
    "using the `fit` method. New\n",
    "predictions are formed using the `predict` method\n",
    "of the object returned by `fit()`."
   ]
  },
  {
   "cell_type": "code",
   "execution_count": null,
   "id": "b0b8ae27",
   "metadata": {},
   "outputs": [],
   "source": [
    "knn1 = KNeighborsClassifier(n_neighbors=1)\n",
    "X_train, X_test = [np.asarray(X) for X in [X_train, X_test]]\n",
    "knn1.fit(X_train, L_train)\n",
    "knn1_pred = knn1.predict(X_test)\n",
    "confusion_table(knn1_pred, L_test)\n"
   ]
  },
  {
   "cell_type": "markdown",
   "id": "84c89555",
   "metadata": {},
   "source": [
    "The results using $K=1$ are not very good, since only $50%$ of the\n",
    "observations are correctly predicted. Of course, it may be that $K=1$\n",
    "results in an overly-flexible fit to the data."
   ]
  },
  {
   "cell_type": "code",
   "execution_count": null,
   "id": "7c9bdd8e",
   "metadata": {},
   "outputs": [],
   "source": [
    "(83+43)/252, np.mean(knn1_pred == L_test)\n"
   ]
  },
  {
   "cell_type": "markdown",
   "id": "96e335c6",
   "metadata": {},
   "source": [
    "We repeat the\n",
    "analysis below using $K=3$."
   ]
  },
  {
   "cell_type": "code",
   "execution_count": null,
   "id": "a1750e64",
   "metadata": {
    "lines_to_next_cell": 0
   },
   "outputs": [],
   "source": [
    "knn3 = KNeighborsClassifier(n_neighbors=3)\n",
    "knn3_pred = knn3.fit(X_train, L_train).predict(X_test)\n",
    "np.mean(knn3_pred == L_test)"
   ]
  },
  {
   "cell_type": "markdown",
   "id": "ecbad54a",
   "metadata": {},
   "source": [
    "The results have improved slightly. But increasing *K* further\n",
    "provides no further improvements. It appears that for these data, and this train/test split,\n",
    "QDA gives the best results of the methods that we have examined so\n",
    "far."
   ]
  },
  {
   "cell_type": "markdown",
   "id": "d3fe0e0d",
   "metadata": {},
   "source": [
    "KNN does not perform well on the `Smarket`  data, but it often does provide impressive results. As an example we will apply the KNN approach to the `Caravan`  data set, which is part of the `ISLP` library.  This data set includes 85\n",
    "predictors that measure demographic characteristics for 5,822\n",
    "individuals. The response variable is  `Purchase`, which\n",
    "indicates whether or not a given individual purchases a caravan\n",
    "insurance policy. In this data set, only 6% of people purchased\n",
    "caravan insurance."
   ]
  },
  {
   "cell_type": "code",
   "execution_count": null,
   "id": "2b179be8",
   "metadata": {
    "lines_to_next_cell": 2
   },
   "outputs": [],
   "source": [
    "Caravan = load_data('Caravan')\n",
    "Purchase = Caravan.Purchase\n",
    "Purchase.value_counts()\n"
   ]
  },
  {
   "cell_type": "markdown",
   "id": "99805400",
   "metadata": {},
   "source": [
    "The method `value_counts()` takes a `pd.Series` or `pd.DataFrame` and returns\n",
    "a `pd.Series` with the corresponding counts\n",
    "for each unique element. In this case `Purchase` has only `Yes` and `No` values\n",
    "and the method returns how many values of each there are."
   ]
  },
  {
   "cell_type": "code",
   "execution_count": null,
   "id": "e9de7237",
   "metadata": {
    "lines_to_next_cell": 2
   },
   "outputs": [],
   "source": [
    "348 / 5822\n"
   ]
  },
  {
   "cell_type": "markdown",
   "id": "e3fdbe45",
   "metadata": {},
   "source": [
    "Our features will include all columns except `Purchase`."
   ]
  },
  {
   "cell_type": "code",
   "execution_count": null,
   "id": "f81dcb72",
   "metadata": {},
   "outputs": [],
   "source": [
    "feature_df = Caravan.drop(columns=['Purchase'])\n"
   ]
  },
  {
   "cell_type": "markdown",
   "id": "1f92eadb",
   "metadata": {},
   "source": [
    "Because the KNN classifier predicts the class of a given test\n",
    "observation by identifying the observations that are nearest to it,\n",
    "the scale of the variables matters. Any variables that are on a large\n",
    "scale will have a much larger effect on the *distance* between\n",
    "the observations, and hence on the KNN classifier, than variables that\n",
    "are on a small scale. For instance, imagine a data set that contains\n",
    "two variables,  `salary`  and  `age`  (measured in dollars\n",
    "and years, respectively). As far as KNN is concerned, a difference of\n",
    "1,000 USD in salary is enormous compared to a difference of 50 years in\n",
    "age. Consequently,  `salary`  will drive the KNN classification\n",
    "results, and  `age`  will have almost no effect. This is contrary\n",
    "to our intuition that a salary difference of 1,000 USD is quite small\n",
    "compared to an age difference of 50 years.  Furthermore, the\n",
    "importance of scale to the KNN classifier leads to another issue: if\n",
    "we measured  `salary`  in Japanese yen, or if we measured\n",
    " `age`  in minutes, then we’d get quite different classification\n",
    "results from what we get if these two variables are measured in\n",
    "dollars and years.\n",
    "\n",
    "A good way to handle this problem is to *standardize*  the data so that all variables are\n",
    "given a mean of zero and a standard deviation of one. Then all\n",
    "variables will be on a comparable scale. This is accomplished\n",
    "using\n",
    "the `StandardScaler()`\n",
    "transformation."
   ]
  },
  {
   "cell_type": "code",
   "execution_count": null,
   "id": "a7102e7d",
   "metadata": {
    "lines_to_next_cell": 0
   },
   "outputs": [],
   "source": [
    "scaler = StandardScaler(with_mean=True,\n",
    "                        with_std=True,\n",
    "                        copy=True)\n"
   ]
  },
  {
   "cell_type": "markdown",
   "id": "eaf2eb3d",
   "metadata": {},
   "source": [
    "The argument `with_mean` indicates whether or not\n",
    "we should subtract the mean, while `with_std` indicates\n",
    "whether or not we should scale the columns to have standard\n",
    "deviation of 1 or not. Finally, the argument `copy=True`\n",
    "indicates that we will always copy data, rather than\n",
    "trying to do calculations in place where possible.\n",
    "\n",
    "This transformation can be fit\n",
    "and then applied to arbitrary data. In the first line\n",
    "below, the parameters for the scaling are computed and\n",
    "stored in `scaler`, while the second line actually\n",
    "constructs the standardized set of features."
   ]
  },
  {
   "cell_type": "code",
   "execution_count": null,
   "id": "c2b6c3fa",
   "metadata": {
    "lines_to_next_cell": 0
   },
   "outputs": [],
   "source": [
    "scaler.fit(feature_df)\n",
    "X_std = scaler.transform(feature_df)\n"
   ]
  },
  {
   "cell_type": "markdown",
   "id": "d5d9c875",
   "metadata": {},
   "source": [
    "Now every column of `feature_std` below has a standard deviation of\n",
    "one and a mean of zero."
   ]
  },
  {
   "cell_type": "code",
   "execution_count": null,
   "id": "d1e40190",
   "metadata": {},
   "outputs": [],
   "source": [
    "feature_std = pd.DataFrame(\n",
    "                 X_std,\n",
    "                 columns=feature_df.columns);\n",
    "feature_std.std()\n"
   ]
  },
  {
   "cell_type": "markdown",
   "id": "c225f2b2",
   "metadata": {},
   "source": [
    "Notice that the standard deviations are not quite $1$ here; this is again due to some procedures using the $1/n$ convention for variances (in this case `scaler()`), while others use $1/(n-1)$ (the `std()` method). See the footnote on page~\\pageref{Ch4-varformula}.\n",
    "In this case it does not matter, as long as the variables are all on the same scale.\n",
    "\n",
    "Using the function `train_test_split()`  we now split the observations into a test set,\n",
    "containing 1000 observations, and a training set containing the remaining\n",
    "observations. The argument `random_state=0` ensures that we get\n",
    "the same split each time we rerun the code."
   ]
  },
  {
   "cell_type": "code",
   "execution_count": null,
   "id": "44ff90d4",
   "metadata": {
    "lines_to_next_cell": 0
   },
   "outputs": [],
   "source": [
    "(X_train,\n",
    " X_test,\n",
    " y_train,\n",
    " y_test) = train_test_split(np.asarray(feature_std),\n",
    "                            Purchase,\n",
    "                            test_size=1000,\n",
    "                            random_state=0)\n"
   ]
  },
  {
   "cell_type": "markdown",
   "id": "293eaa56",
   "metadata": {},
   "source": [
    "`?train_test_split` reveals that the non-keyword arguments can be `lists`, `arrays`, `pandas dataframes` etc that all have the same length (`shape[0]`) and hence are *indexable*. In this case they are the dataframe `feature_std` and the response variable `Purchase`.\n",
    " {Note that we have converted `feature_std` to an `ndarray` to address a bug in `sklearn`.}\n",
    "We fit a KNN model on the training data using $K=1$,\n",
    "and evaluate its performance on the test data."
   ]
  },
  {
   "cell_type": "code",
   "execution_count": null,
   "id": "f88990de",
   "metadata": {
    "lines_to_next_cell": 2
   },
   "outputs": [],
   "source": [
    "knn1 = KNeighborsClassifier(n_neighbors=1)\n",
    "knn1_pred = knn1.fit(X_train, y_train).predict(X_test)\n",
    "np.mean(y_test != knn1_pred), np.mean(y_test != \"No\")\n"
   ]
  },
  {
   "cell_type": "markdown",
   "id": "57a4a331",
   "metadata": {},
   "source": [
    "The KNN error rate on the 1,000 test observations is about $11%$.\n",
    "At first glance, this may appear to be fairly good. However, since\n",
    "just over 6% of customers purchased insurance, we could get the error\n",
    "rate down to almost 6% by always predicting `No` regardless of the\n",
    "values of the predictors! This is known as the *null rate*.}\n",
    "\n",
    "Suppose that there is some non-trivial cost to trying to sell\n",
    "insurance to a given individual. For instance, perhaps a salesperson\n",
    "must visit each potential customer.  If the company tries to sell\n",
    "insurance to a random selection of customers, then the success rate\n",
    "will be only 6%, which may be far too low given the costs\n",
    "involved.  Instead, the company would like to try to sell insurance\n",
    "only to customers who are likely to buy it. So the overall error rate\n",
    "is not of interest. Instead, the fraction of individuals that are\n",
    "correctly predicted to buy insurance is of interest."
   ]
  },
  {
   "cell_type": "code",
   "execution_count": null,
   "id": "733b69fb",
   "metadata": {},
   "outputs": [],
   "source": [
    "confusion_table(knn1_pred, y_test)\n"
   ]
  },
  {
   "cell_type": "markdown",
   "id": "d7a1359d",
   "metadata": {},
   "source": [
    "It turns out that KNN with $K=1$ does far better than random guessing\n",
    "among the customers that are predicted to buy insurance. Among 62\n",
    "such customers, 9, or 14.5%, actually do purchase insurance.\n",
    "This is double the rate that one would obtain from random guessing."
   ]
  },
  {
   "cell_type": "code",
   "execution_count": null,
   "id": "269d3d95",
   "metadata": {
    "lines_to_next_cell": 2
   },
   "outputs": [],
   "source": [
    "9/(53+9)"
   ]
  },
  {
   "cell_type": "markdown",
   "id": "12bcb480",
   "metadata": {},
   "source": [
    "### Tuning Parameters\n",
    "\n",
    "The number of neighbors in KNN is referred to as a *tuning parameter*, also referred to as a *hyperparameter*.\n",
    "We do not know *a priori* what value to use. It is therefore of interest\n",
    "to see how the classifier performs on test data as we vary these\n",
    "parameters. This can be achieved with a `for` loop, described in Section~\\ref{Ch2-statlearn-lab:for-loops}.\n",
    "Here we use a for loop to look at the accuracy of our classifier in the group predicted to purchase\n",
    "insurance as we vary the number of neighbors from 1 to 5:"
   ]
  },
  {
   "cell_type": "code",
   "execution_count": null,
   "id": "db9963d8",
   "metadata": {
    "lines_to_next_cell": 0
   },
   "outputs": [],
   "source": [
    "for K in range(1,6):\n",
    "    knn = KNeighborsClassifier(n_neighbors=K)\n",
    "    knn_pred = knn.fit(X_train, y_train).predict(X_test)\n",
    "    C = confusion_table(knn_pred, y_test)\n",
    "    templ = ('K={0:d}: # predicted to rent: {1:>2},' +\n",
    "            '  # who did rent {2:d}, accuracy {3:.1%}')\n",
    "    pred = C.loc['Yes'].sum()\n",
    "    did_rent = C.loc['Yes','Yes']\n",
    "    print(templ.format(\n",
    "          K,\n",
    "          pred,\n",
    "          did_rent,\n",
    "          did_rent / pred))\n"
   ]
  },
  {
   "cell_type": "markdown",
   "id": "2d3a4b95",
   "metadata": {},
   "source": [
    "We see some variability ---  the numbers for `K=4` are very different from the rest.\n",
    "\n",
    "### Comparison to Logistic Regression\n",
    "As a comparison, we can also fit a logistic regression model to the\n",
    "data. This can also be done\n",
    "with `sklearn`, though by default it fits\n",
    "something like the *ridge regression* version\n",
    "of logistic regression, which we introduce in Chapter~\\ref{Ch6:varselect}. This can\n",
    "be modified by appropriately setting the argument `C` below. Its default\n",
    "value is 1 but by setting it to a very large number, the algorithm converges to the same solution as the usual (unregularized)\n",
    "logistic regression estimator discussed above.\n",
    "\n",
    "Unlike the\n",
    "`statsmodels` package, `sklearn` focuses less on\n",
    "inference and more on classification. Hence,\n",
    "the `summary` methods seen in `statsmodels`\n",
    "and our simplified version seen with `summarize` are not\n",
    "generally available for the classifiers in `sklearn`."
   ]
  },
  {
   "cell_type": "code",
   "execution_count": null,
   "id": "77f8eb90",
   "metadata": {},
   "outputs": [],
   "source": [
    "logit = LogisticRegression(C=1e10, solver='liblinear')\n",
    "logit.fit(X_train, y_train)\n",
    "logit_pred = logit.predict_proba(X_test)\n",
    "logit_labels = np.where(logit_pred[:,1] > .5, 'Yes', 'No')\n",
    "confusion_table(logit_labels, y_test)\n"
   ]
  },
  {
   "cell_type": "markdown",
   "id": "fbf84545",
   "metadata": {},
   "source": [
    "We used the argument `solver='liblinear'` above to\n",
    "avoid a warning with the default solver which would indicate that\n",
    "the algorithm does not converge.\n",
    "\n",
    "If we use $0.5$ as the predicted probability cut-off for the\n",
    "classifier, then we have a problem: only two of the test observations\n",
    "are predicted to purchase insurance.  However, we are not required to use a\n",
    "cut-off of $0.5$. If we instead predict a purchase any time the\n",
    "predicted probability of purchase exceeds $0.25$, we get much better\n",
    "results: we predict that 29 people will purchase insurance, and we are\n",
    "correct for about 31% of these people. This is almost five times\n",
    "better than random guessing!"
   ]
  },
  {
   "cell_type": "code",
   "execution_count": null,
   "id": "907e3299",
   "metadata": {},
   "outputs": [],
   "source": [
    "logit_labels = np.where(logit_pred[:,1]>0.25, 'Yes', 'No')\n",
    "confusion_table(logit_labels, y_test)"
   ]
  },
  {
   "cell_type": "code",
   "execution_count": null,
   "id": "cb3f2b0e",
   "metadata": {
    "lines_to_next_cell": 0
   },
   "outputs": [],
   "source": [
    "9/(20+9)\n"
   ]
  },
  {
   "cell_type": "markdown",
   "id": "8d3b5503",
   "metadata": {},
   "source": [
    "## Linear and Poisson Regression on the Bikeshare Data\n",
    "Here we fit linear and  Poisson regression models to the `Bikeshare` data, as described in Section~\\ref{Ch4:sec:pois}.\n",
    "The response `bikers` measures the number of bike rentals per hour\n",
    "in Washington, DC in the period 2010--2012."
   ]
  },
  {
   "cell_type": "code",
   "execution_count": null,
   "id": "23ce05b5",
   "metadata": {
    "lines_to_next_cell": 0
   },
   "outputs": [],
   "source": [
    "Bike = load_data('Bikeshare')\n"
   ]
  },
  {
   "cell_type": "markdown",
   "id": "fdb0a62a",
   "metadata": {},
   "source": [
    "Let's have a peek at the dimensions and names of the variables in this dataframe."
   ]
  },
  {
   "cell_type": "code",
   "execution_count": null,
   "id": "027a24c4",
   "metadata": {},
   "outputs": [],
   "source": [
    "Bike.shape, Bike.columns\n"
   ]
  },
  {
   "cell_type": "markdown",
   "id": "ce51b618",
   "metadata": {},
   "source": [
    "### Linear Regression\n",
    "\n",
    "We begin by fitting a linear regression model to the data."
   ]
  },
  {
   "cell_type": "code",
   "execution_count": null,
   "id": "5896ce19",
   "metadata": {},
   "outputs": [],
   "source": [
    "X = MS(['mnth',\n",
    "        'hr',\n",
    "        'workingday',\n",
    "        'temp',\n",
    "        'weathersit']).fit_transform(Bike)\n",
    "Y = Bike['bikers']\n",
    "M_lm = sm.OLS(Y, X).fit()\n",
    "summarize(M_lm)\n"
   ]
  },
  {
   "cell_type": "markdown",
   "id": "d165f13c",
   "metadata": {},
   "source": [
    "There are 24 levels in `hr` and 40 rows in all.\n",
    "In `M_lm`, the first levels `hr[0]` and `mnth[Jan]`  are treated\n",
    "as the baseline values, and so no coefficient estimates are provided\n",
    "for them: implicitly, their coefficient estimates are zero, and all\n",
    "other levels are measured relative to these baselines. For example,\n",
    "the Feb coefficient of $6.845$ signifies that, holding all other\n",
    "variables constant, there are on average about 7 more riders in\n",
    "February than in January. Similarly there are about 16.5 more riders\n",
    "in March than in January.\n",
    "\n",
    "The results seen in Section~\\ref{sec:bikeshare.linear}\n",
    "used a slightly different coding of the variables `hr` and `mnth`, as follows:"
   ]
  },
  {
   "cell_type": "code",
   "execution_count": null,
   "id": "3b8a24b4",
   "metadata": {
    "lines_to_next_cell": 0
   },
   "outputs": [],
   "source": [
    "hr_encode = contrast('hr', 'sum')\n",
    "mnth_encode = contrast('mnth', 'sum')\n"
   ]
  },
  {
   "cell_type": "markdown",
   "id": "ee108ad7",
   "metadata": {},
   "source": [
    "Refitting again:"
   ]
  },
  {
   "cell_type": "code",
   "execution_count": null,
   "id": "276ec935",
   "metadata": {},
   "outputs": [],
   "source": [
    "X2 = MS([mnth_encode,\n",
    "         hr_encode,\n",
    "        'workingday',\n",
    "        'temp',\n",
    "        'weathersit']).fit_transform(Bike)\n",
    "M2_lm = sm.OLS(Y, X2).fit()\n",
    "S2 = summarize(M2_lm)\n",
    "S2"
   ]
  },
  {
   "cell_type": "markdown",
   "id": "f7e31352",
   "metadata": {},
   "source": [
    "What is the difference between the two codings?  In `M2_lm`, a\n",
    "coefficient estimate is reported for all but level `23` of `hr`\n",
    "and level `Dec` of `mnth`. Importantly, in `M2_lm`, the (unreported) coefficient estimate\n",
    "for the last level of `mnth` is not zero: instead, it equals the\n",
    "negative of the sum of the coefficient estimates for all of the\n",
    "other levels. Similarly, in `M2_lm`, the coefficient estimate\n",
    "for the last level of `hr` is the negative of the sum of the\n",
    "coefficient estimates for all of the other levels. This means that the\n",
    "coefficients of `hr` and `mnth` in `M2_lm` will always sum\n",
    "to zero, and can be interpreted as the difference from the mean\n",
    "level. For example, the coefficient for January of $-46.087$ indicates\n",
    "that, holding all other variables constant, there are typically 46\n",
    "fewer riders in January relative to the yearly average.\n",
    "\n",
    "It is important to realize that the choice of coding really does not\n",
    "matter, provided that we interpret the  model output correctly in light\n",
    "of the coding used. For example, we see that the predictions from the\n",
    "linear model are the same regardless of coding:"
   ]
  },
  {
   "cell_type": "code",
   "execution_count": null,
   "id": "c8b43ab6",
   "metadata": {},
   "outputs": [],
   "source": [
    "np.sum((M_lm.fittedvalues - M2_lm.fittedvalues)**2)\n"
   ]
  },
  {
   "cell_type": "markdown",
   "id": "f17733ac",
   "metadata": {},
   "source": [
    "The sum of squared differences is zero. We can also see this using the\n",
    "`np.allclose()` function:"
   ]
  },
  {
   "cell_type": "code",
   "execution_count": null,
   "id": "bcc538c2",
   "metadata": {
    "lines_to_next_cell": 2
   },
   "outputs": [],
   "source": [
    "np.allclose(M_lm.fittedvalues, M2_lm.fittedvalues)\n"
   ]
  },
  {
   "cell_type": "markdown",
   "id": "41fb2787",
   "metadata": {},
   "source": [
    "To reproduce the left-hand side of Figure~\\ref{Ch4:bikeshare}\n",
    "we must first obtain the coefficient estimates associated with\n",
    "`mnth`. The coefficients for January through November can be obtained\n",
    "directly from the `M2_lm` object. The coefficient for December\n",
    "must be explicitly computed as the negative sum of all the other\n",
    "months. We first extract all the coefficients for month from\n",
    "the coefficients of `M2_lm`."
   ]
  },
  {
   "cell_type": "code",
   "execution_count": null,
   "id": "33a75971",
   "metadata": {
    "lines_to_next_cell": 0
   },
   "outputs": [],
   "source": [
    "coef_month = S2[S2.index.str.contains('mnth')]['coef']\n",
    "coef_month\n"
   ]
  },
  {
   "cell_type": "markdown",
   "id": "7caad472",
   "metadata": {},
   "source": [
    "Next, we append `Dec` as the negative of the sum of all other months."
   ]
  },
  {
   "cell_type": "code",
   "execution_count": null,
   "id": "eeac39db",
   "metadata": {
    "lines_to_next_cell": 0
   },
   "outputs": [],
   "source": [
    "months = Bike['mnth'].dtype.categories\n",
    "coef_month = pd.concat([\n",
    "                       coef_month,\n",
    "                       pd.Series([-coef_month.sum()],\n",
    "                                  index=['mnth[Dec]'\n",
    "                                 ])\n",
    "                       ])\n",
    "coef_month\n"
   ]
  },
  {
   "cell_type": "markdown",
   "id": "55a5ff99",
   "metadata": {},
   "source": [
    "Finally, to make the plot neater, we’ll just use the first letter of each month, which is the $6$th entry of each of\n",
    "the labels in the index."
   ]
  },
  {
   "cell_type": "code",
   "execution_count": null,
   "id": "e86a3652",
   "metadata": {},
   "outputs": [],
   "source": [
    "fig_month, ax_month = subplots(figsize=(8,8))\n",
    "x_month = np.arange(coef_month.shape[0])\n",
    "ax_month.plot(x_month, coef_month, marker='o', ms=10)\n",
    "ax_month.set_xticks(x_month)\n",
    "ax_month.set_xticklabels([l[5] for l in coef_month.index], fontsize=20)\n",
    "ax_month.set_xlabel('Month', fontsize=20)\n",
    "ax_month.set_ylabel('Coefficient', fontsize=20);\n"
   ]
  },
  {
   "cell_type": "markdown",
   "id": "6c68761a",
   "metadata": {},
   "source": [
    "Reproducing the  right-hand plot in Figure~\\ref{Ch4:bikeshare}  follows a similar process."
   ]
  },
  {
   "cell_type": "code",
   "execution_count": null,
   "id": "5abb32ed",
   "metadata": {},
   "outputs": [],
   "source": [
    "coef_hr = S2[S2.index.str.contains('hr')]['coef']\n",
    "coef_hr = coef_hr.reindex(['hr[{0}]'.format(h) for h in range(23)])\n",
    "coef_hr = pd.concat([coef_hr,\n",
    "                     pd.Series([-coef_hr.sum()], index=['hr[23]'])\n",
    "                    ])\n"
   ]
  },
  {
   "cell_type": "markdown",
   "id": "bc51083b",
   "metadata": {},
   "source": [
    "We now make the hour plot."
   ]
  },
  {
   "cell_type": "code",
   "execution_count": null,
   "id": "0f5698be",
   "metadata": {},
   "outputs": [],
   "source": [
    "fig_hr, ax_hr = subplots(figsize=(8,8))\n",
    "x_hr = np.arange(coef_hr.shape[0])\n",
    "ax_hr.plot(x_hr, coef_hr, marker='o', ms=10)\n",
    "ax_hr.set_xticks(x_hr[::2])\n",
    "ax_hr.set_xticklabels(range(24)[::2], fontsize=20)\n",
    "ax_hr.set_xlabel('Hour', fontsize=20)\n",
    "ax_hr.set_ylabel('Coefficient', fontsize=20);\n"
   ]
  },
  {
   "cell_type": "markdown",
   "id": "c43958c3",
   "metadata": {},
   "source": [
    "### Poisson Regression\n",
    "\n",
    "Now we fit instead a Poisson regression model to the\n",
    "`Bikeshare` data. Very little changes, except that we now use the\n",
    "function `sm.GLM()` with the Poisson family specified:"
   ]
  },
  {
   "cell_type": "code",
   "execution_count": null,
   "id": "1262ac4f",
   "metadata": {},
   "outputs": [],
   "source": [
    "M_pois = sm.GLM(Y, X2, family=sm.families.Poisson()).fit()\n"
   ]
  },
  {
   "cell_type": "markdown",
   "id": "8552fb8b",
   "metadata": {},
   "source": [
    "We can plot the coefficients associated with `mnth` and `hr`, in order to reproduce  Figure~\\ref{Ch4:bikeshare.pois}. We first complete these coefficients as before."
   ]
  },
  {
   "cell_type": "code",
   "execution_count": null,
   "id": "feeea491",
   "metadata": {
    "lines_to_next_cell": 0
   },
   "outputs": [],
   "source": [
    "S_pois = summarize(M_pois)\n",
    "coef_month = S_pois[S_pois.index.str.contains('mnth')]['coef']\n",
    "coef_month = pd.concat([coef_month,\n",
    "                        pd.Series([-coef_month.sum()],\n",
    "                                   index=['mnth[Dec]'])])\n",
    "coef_hr = S_pois[S_pois.index.str.contains('hr')]['coef']\n",
    "coef_hr = pd.concat([coef_hr,\n",
    "                     pd.Series([-coef_hr.sum()],\n",
    "                     index=['hr[23]'])])"
   ]
  },
  {
   "cell_type": "markdown",
   "id": "a52b9a03",
   "metadata": {},
   "source": [
    "The plotting is as before."
   ]
  },
  {
   "cell_type": "code",
   "execution_count": null,
   "id": "09926adc",
   "metadata": {
    "lines_to_next_cell": 0
   },
   "outputs": [],
   "source": [
    "fig_pois, (ax_month, ax_hr) = subplots(1, 2, figsize=(16,8))\n",
    "ax_month.plot(x_month, coef_month, marker='o', ms=10)\n",
    "ax_month.set_xticks(x_month)\n",
    "ax_month.set_xticklabels([l[5] for l in coef_month.index], fontsize=20)\n",
    "ax_month.set_xlabel('Month', fontsize=20)\n",
    "ax_month.set_ylabel('Coefficient', fontsize=20)\n",
    "ax_hr.plot(x_hr, coef_hr, marker='o', ms=10)\n",
    "ax_hr.set_xticklabels(range(24)[::2], fontsize=20)\n",
    "ax_hr.set_xlabel('Hour', fontsize=20)\n",
    "ax_hr.set_ylabel('Coefficient', fontsize=20);\n"
   ]
  },
  {
   "cell_type": "markdown",
   "id": "812fed8c",
   "metadata": {},
   "source": [
    "We compare the fitted values of the two models.\n",
    "The fitted values are stored in the `fittedvalues` attribute\n",
    "returned by the `fit()` method for both the linear regression and the Poisson\n",
    "fits. The linear predictors are stored as the attribute `lin_pred`."
   ]
  },
  {
   "cell_type": "code",
   "execution_count": null,
   "id": "bf9e9f1d",
   "metadata": {},
   "outputs": [],
   "source": [
    "fig, ax = subplots(figsize=(8, 8))\n",
    "ax.scatter(M2_lm.fittedvalues,\n",
    "           M_pois.fittedvalues,\n",
    "           s=20)\n",
    "ax.set_xlabel('Linear Regression Fit', fontsize=20)\n",
    "ax.set_ylabel('Poisson Regression Fit', fontsize=20)\n",
    "ax.axline([0,0], c='black', linewidth=3,\n",
    "          linestyle='--', slope=1);\n"
   ]
  },
  {
   "cell_type": "markdown",
   "id": "dc683c95",
   "metadata": {},
   "source": [
    "The predictions from the Poisson regression model are correlated with\n",
    "those from the linear model; however, the former are non-negative. As\n",
    "a result the Poisson regression predictions tend to be larger than\n",
    "those from the linear model for either very low or very high levels of\n",
    "ridership.\n",
    "\n",
    "In this section, we fit Poisson regression models using the `sm.GLM()` function with the argument\n",
    "`family=sm.families.Poisson()`. Earlier in this lab we used the `sm.GLM()` function\n",
    "with `family=sm.families.Binomial()` to perform logistic regression. Other\n",
    "choices for the `family` argument can be used to fit other types\n",
    "of GLMs. For instance, `family=sm.families.Gamma()` fits a Gamma regression\n",
    "model.\n",
    "\n"
   ]
  }
 ],
 "metadata": {
  "jupytext": {
   "cell_metadata_filter": "-all",
   "main_language": "python",
   "notebook_metadata_filter": "-all"
  },
  "kernelspec": {
   "display_name": "Python 3 (ipykernel)",
   "language": "python",
   "name": "python3"
  },
  "language_info": {
   "codemirror_mode": {
    "name": "ipython",
    "version": 3
   },
   "file_extension": ".py",
   "mimetype": "text/x-python",
   "name": "python",
   "nbconvert_exporter": "python",
   "pygments_lexer": "ipython3",
   "version": "3.8.18"
  }
 },
 "nbformat": 4,
 "nbformat_minor": 5
}
