{
 "cells": [
  {
   "cell_type": "markdown",
   "id": "98f2bfef",
   "metadata": {},
   "source": [
    "For Problem 1 of the Module 4 lab, you created a KNN classifier for handwritten digit recognition. Use your KNN class to perform KNN on the validation data with K = 3. Now you will check how well your classifier does. Create a confusion matrix in your Jupyter notebook. Feel free to use the Scikit-Learn confusion matrix (http://scikit-learn.org/stable/modules/generated/sklearn.metrics.confusion_matrix.html) function).   \n",
    "\n",
    "Upload a screenshot of the confusion matrix from your notebook here. "
   ]
  },
  {
   "cell_type": "code",
   "execution_count": 1,
   "id": "d7b5f881",
   "metadata": {},
   "outputs": [],
   "source": [
    "# from IPython.display import Image\n",
    "# Image(filename=\"images/2a.png\")"
   ]
  },
  {
   "cell_type": "markdown",
   "id": "1b1ce84a",
   "metadata": {},
   "source": [
    "Based on your confusion matrix, which digits seem to get confused with other digits the most?\n",
    "\n",
    "Type your answer in the rich text field. "
   ]
  },
  {
   "cell_type": "code",
   "execution_count": null,
   "id": "38fc2ffc",
   "metadata": {},
   "outputs": [],
   "source": []
  },
  {
   "cell_type": "markdown",
   "id": "601b3b51",
   "metadata": {},
   "source": [
    "In your Module 4 Jupyter notebook, you created a plot of the accuracy of the KNN on the test set using the same set of axes for K=1, 2, ..., 20. You could go to K=30 if your implementation was efficient enough to allow it. \n",
    "\n",
    "Please upload a screenshot of your plot here. "
   ]
  },
  {
   "cell_type": "code",
   "execution_count": null,
   "id": "e557504a",
   "metadata": {},
   "outputs": [],
   "source": []
  },
  {
   "cell_type": "markdown",
   "id": "91d079f1",
   "metadata": {},
   "source": [
    "Based on the plot of the KNN accuracy on the test set, which value of K results in highest accuracy?\n",
    "\n",
    "Type your answer in the rich text field. "
   ]
  },
  {
   "cell_type": "code",
   "execution_count": null,
   "id": "1ba56d26",
   "metadata": {},
   "outputs": [],
   "source": []
  },
  {
   "cell_type": "markdown",
   "id": "d6e29b66",
   "metadata": {},
   "source": [
    "In Problem 2 about Decision Trees, the directions for Part C1 are to:\n",
    "\n",
    "1. Modify max_depth: \n",
    "    - Create a model with a shallow max_depth of 2. Build the model on the training set with the build_dt function.\n",
    "    - Report precision/recall on the test set.\n",
    "    - Report depth of the tree.\n",
    "\n",
    "Upload a screenshot of your code for this section. "
   ]
  },
  {
   "cell_type": "code",
   "execution_count": null,
   "id": "22a23991",
   "metadata": {},
   "outputs": [],
   "source": []
  },
  {
   "cell_type": "markdown",
   "id": "aee96da0",
   "metadata": {},
   "source": [
    "In Problem 2 about Decision Trees, the directions for Part C1 are to:\n",
    "\n",
    "2. Modifying max_leaf_nodes:\n",
    "    - Create a model with a shallow max_leaf_nodes of 4. Build the model on the training set.\n",
    "\n",
    "Upload a screenshot of your code for this section.  "
   ]
  },
  {
   "cell_type": "code",
   "execution_count": null,
   "id": "e61f10f5",
   "metadata": {},
   "outputs": [],
   "source": []
  },
  {
   "cell_type": "markdown",
   "id": "d77f12fb",
   "metadata": {},
   "source": [
    "The final part of question C1 refers to your code in the previous two prompts:\n",
    "\n",
    "How do precision and recall compare when you modify the max depth compared to the max number of leaf nodes? \n",
    "(Make sure to run your models a few times to get an idea). \n",
    "\n",
    "Type your answer in the rich text field. "
   ]
  },
  {
   "cell_type": "code",
   "execution_count": null,
   "id": "319ba3f0",
   "metadata": {},
   "outputs": [],
   "source": []
  },
  {
   "cell_type": "markdown",
   "id": "d71fe563",
   "metadata": {},
   "source": [
    "In Problem 2 about Decision Trees, the directions for Part D are as follows:\n",
    "\n",
    "In class, we used gridsearchCV to do hyperparameter tuning to select the different parameters like max_depth to see how our tree grows and avoids overfitting. Here, we will use cost complexity pruning parameter alpha sklearn 0.22.1[https://scikit-learn.org/stable/user_guide.html] to prune our tree after training so as to improve accuracy on unseen data. In this exercise you will iterate over different ccp_alpha values and identify how performance is modulated by this parameter.\n",
    "\n",
    "Please upload a screenshot or copy of your accuracy vs. alpha plot for the training and testing sets. "
   ]
  },
  {
   "cell_type": "code",
   "execution_count": null,
   "id": "1adadb2b",
   "metadata": {},
   "outputs": [],
   "source": []
  },
  {
   "cell_type": "markdown",
   "id": "f500cb9a",
   "metadata": {},
   "source": [
    "Based on your plot for the prompt above, Problem 2D:\n",
    "\n",
    "How is performance modulated by this parameter?\n",
    "\n",
    "Type your answer in the rich text field. "
   ]
  },
  {
   "cell_type": "code",
   "execution_count": null,
   "id": "6afef8e8",
   "metadata": {},
   "outputs": [],
   "source": []
  }
 ],
 "metadata": {
  "kernelspec": {
   "display_name": "Python 3 (ipykernel)",
   "language": "python",
   "name": "python3"
  },
  "language_info": {
   "codemirror_mode": {
    "name": "ipython",
    "version": 3
   },
   "file_extension": ".py",
   "mimetype": "text/x-python",
   "name": "python",
   "nbconvert_exporter": "python",
   "pygments_lexer": "ipython3",
   "version": "3.9.12"
  }
 },
 "nbformat": 4,
 "nbformat_minor": 5
}
