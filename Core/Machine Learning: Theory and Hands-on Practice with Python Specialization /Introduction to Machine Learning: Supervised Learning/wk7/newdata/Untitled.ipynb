{
 "cells": [
  {
   "cell_type": "code",
   "execution_count": 1,
   "id": "84602272-057a-451d-9a88-6c402206ecce",
   "metadata": {},
   "outputs": [],
   "source": [
    "import pandas as pd\n",
    "import numpy as np"
   ]
  },
  {
   "cell_type": "code",
   "execution_count": 2,
   "id": "c3008654-5d4e-4450-b17b-0d622d98e584",
   "metadata": {},
   "outputs": [],
   "source": [
    "df = pd.read_csv('snb-data-plimoinreg.csv')"
   ]
  },
  {
   "cell_type": "code",
   "execution_count": 3,
   "id": "e7b487c0-5f30-42d3-9e8b-d28cf3c4e8cd",
   "metadata": {},
   "outputs": [
    {
     "data": {
      "text/html": [
       "<div>\n",
       "<style scoped>\n",
       "    .dataframe tbody tr th:only-of-type {\n",
       "        vertical-align: middle;\n",
       "    }\n",
       "\n",
       "    .dataframe tbody tr th {\n",
       "        vertical-align: top;\n",
       "    }\n",
       "\n",
       "    .dataframe thead th {\n",
       "        text-align: right;\n",
       "    }\n",
       "</style>\n",
       "<table border=\"1\" class=\"dataframe\">\n",
       "  <thead>\n",
       "    <tr style=\"text-align: right;\">\n",
       "      <th></th>\n",
       "      <th>CubeId;\"plimoinreg\"</th>\n",
       "    </tr>\n",
       "  </thead>\n",
       "  <tbody>\n",
       "    <tr>\n",
       "      <th>0</th>\n",
       "      <td>PublishingDate;\"2024-09-23 09:00\"</td>\n",
       "    </tr>\n",
       "    <tr>\n",
       "      <th>1</th>\n",
       "      <td>Date;\"D0\";\"D1\";\"D2\";\"Value\"</td>\n",
       "    </tr>\n",
       "    <tr>\n",
       "      <th>2</th>\n",
       "      <td>1970;\"EW\";\"GS\";\"A\";\"37.06742123\"</td>\n",
       "    </tr>\n",
       "    <tr>\n",
       "      <th>3</th>\n",
       "      <td>1970;\"EW\";\"GS\";\"T\";</td>\n",
       "    </tr>\n",
       "    <tr>\n",
       "      <th>4</th>\n",
       "      <td>1970;\"EW\";\"RZ\";\"A\";\"38.60457482\"</td>\n",
       "    </tr>\n",
       "    <tr>\n",
       "      <th>...</th>\n",
       "      <td>...</td>\n",
       "    </tr>\n",
       "    <tr>\n",
       "      <th>2967</th>\n",
       "      <td>2023;\"GF\";\"GS\";\"A\";\"117.25156031\"</td>\n",
       "    </tr>\n",
       "    <tr>\n",
       "      <th>2968</th>\n",
       "      <td>2023;\"GF\";\"RZ\";\"A\";\"114.89832972\"</td>\n",
       "    </tr>\n",
       "    <tr>\n",
       "      <th>2969</th>\n",
       "      <td>2023;\"GF\";\"RB1\";\"A\";\"120.14591909\"</td>\n",
       "    </tr>\n",
       "    <tr>\n",
       "      <th>2970</th>\n",
       "      <td>2023;\"GF\";\"RG1\";\"A\";\"137.65010134\"</td>\n",
       "    </tr>\n",
       "    <tr>\n",
       "      <th>2971</th>\n",
       "      <td>2023;\"GF\";\"US\";\"A\";\"119.89950172\"</td>\n",
       "    </tr>\n",
       "  </tbody>\n",
       "</table>\n",
       "<p>2972 rows × 1 columns</p>\n",
       "</div>"
      ],
      "text/plain": [
       "                     CubeId;\"plimoinreg\"\n",
       "0      PublishingDate;\"2024-09-23 09:00\"\n",
       "1            Date;\"D0\";\"D1\";\"D2\";\"Value\"\n",
       "2       1970;\"EW\";\"GS\";\"A\";\"37.06742123\"\n",
       "3                    1970;\"EW\";\"GS\";\"T\";\n",
       "4       1970;\"EW\";\"RZ\";\"A\";\"38.60457482\"\n",
       "...                                  ...\n",
       "2967   2023;\"GF\";\"GS\";\"A\";\"117.25156031\"\n",
       "2968   2023;\"GF\";\"RZ\";\"A\";\"114.89832972\"\n",
       "2969  2023;\"GF\";\"RB1\";\"A\";\"120.14591909\"\n",
       "2970  2023;\"GF\";\"RG1\";\"A\";\"137.65010134\"\n",
       "2971   2023;\"GF\";\"US\";\"A\";\"119.89950172\"\n",
       "\n",
       "[2972 rows x 1 columns]"
      ]
     },
     "execution_count": 3,
     "metadata": {},
     "output_type": "execute_result"
    }
   ],
   "source": [
    "df"
   ]
  },
  {
   "cell_type": "code",
   "execution_count": null,
   "id": "aad31c19-8e7e-419c-a8ea-da35e91f75d5",
   "metadata": {},
   "outputs": [],
   "source": []
  }
 ],
 "metadata": {
  "kernelspec": {
   "display_name": "Python 3 (ipykernel)",
   "language": "python",
   "name": "python3"
  },
  "language_info": {
   "codemirror_mode": {
    "name": "ipython",
    "version": 3
   },
   "file_extension": ".py",
   "mimetype": "text/x-python",
   "name": "python",
   "nbconvert_exporter": "python",
   "pygments_lexer": "ipython3",
   "version": "3.8.18"
  }
 },
 "nbformat": 4,
 "nbformat_minor": 5
}
