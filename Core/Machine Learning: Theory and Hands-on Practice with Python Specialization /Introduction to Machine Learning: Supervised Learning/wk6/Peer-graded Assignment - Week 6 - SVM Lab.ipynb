{
 "cells": [
  {
   "cell_type": "markdown",
   "id": "2ee1fb67",
   "metadata": {},
   "source": [
    "In Homework 6 part 1B, you were asked: \n",
    "\n",
    "Which training examples are the support vectors? Assign the coordinate in the list. e.g. support_vectors = [(1,0),(0.0)]\n",
    "\n",
    "Explain your answer for which training examples are support vectors. For the support vectors that you have identified, which are the in-bound support vectors and which are the out-bound support vectors? \n",
    "\n",
    "Type your answer in the rich text field. "
   ]
  },
  {
   "cell_type": "code",
   "execution_count": 2,
   "id": "24f1698f",
   "metadata": {},
   "outputs": [],
   "source": [
    "# from IPython.display import Image\n",
    "# Image(filename=\"images/2a.png\")"
   ]
  },
  {
   "cell_type": "markdown",
   "id": "2edf0761",
   "metadata": {},
   "source": [
    "Homework 6 Part 1C asks the following question: \n",
    "\n",
    "How did you know which training examples had nonzero slack? \n",
    "\n",
    "Type your answer in the rich text field. "
   ]
  },
  {
   "cell_type": "code",
   "execution_count": null,
   "id": "42a57768",
   "metadata": {},
   "outputs": [],
   "source": []
  },
  {
   "cell_type": "markdown",
   "id": "54113968",
   "metadata": {},
   "source": [
    "In Homework 6, Part 2B has the following directions:\n",
    "\n",
    "Experiment with different values of C.  Answer the following question in your Peer Review for the week: How does the choice of C affect the nature of the decision boundary and the associated margin? \n",
    "\n",
    "Type your answer in the rich text field. "
   ]
  },
  {
   "cell_type": "code",
   "execution_count": null,
   "id": "91701899",
   "metadata": {},
   "outputs": [],
   "source": []
  },
  {
   "cell_type": "markdown",
   "id": "1362ff63",
   "metadata": {},
   "source": [
    "Homework 6 Part 2C has the following directions: \n",
    "\n",
    "Set C=3 and compare the results you get when using the hinge vs the squared_hinge values for the loss parameter.  In this week's Peer Review Assignment: Explain your observations. Compare hinge loss vs. squared hinge loss.  \n",
    "\n",
    "Type your answer in the rich text field. "
   ]
  },
  {
   "cell_type": "code",
   "execution_count": null,
   "id": "65185141",
   "metadata": {},
   "outputs": [],
   "source": []
  },
  {
   "cell_type": "markdown",
   "id": "7f192e3a",
   "metadata": {},
   "source": [
    "Homework 6 Part 2D has the following directions: \n",
    "\n",
    "In general, how does the choice of C affect the bias and variance of the model? Write your answer in this week's Peer Review assignment. \n",
    "\n",
    "Type your answer in the rich text field. "
   ]
  },
  {
   "cell_type": "code",
   "execution_count": null,
   "id": "157fa686",
   "metadata": {},
   "outputs": [],
   "source": []
  },
  {
   "cell_type": "markdown",
   "id": "c8c5d4ea",
   "metadata": {},
   "source": [
    "Homework 6 part 3B has the following directions:\n",
    "\n",
    "In this part we'll use cross-validation to estimate the validation accuracy achieved by our model.  Experiment with the values of the hyperparameters to see if you can get a good validation accuracy. Describe your experiment strategy for the C hyperparamter. How does the choice of C affect the resulting decision boundary? \n",
    "\n",
    "Type your answer in the rich text field. "
   ]
  },
  {
   "cell_type": "code",
   "execution_count": null,
   "id": "2357a635",
   "metadata": {},
   "outputs": [],
   "source": []
  },
  {
   "cell_type": "markdown",
   "id": "842de780",
   "metadata": {},
   "source": [
    "Homework 6 part 3B has the following directions:\n",
    "\n",
    "In this part we'll use cross-validation to estimate the validation accuracy achieved by our model.  Experiment with the values of the hyperparameters to see if you can get a good validation accuracy. Describe your experiment strategy for the gamma hyperparamter. How does the choice of gamma affect the resulting decision boundary? \n",
    "\n",
    "Type your answer in the rich text field. "
   ]
  },
  {
   "cell_type": "code",
   "execution_count": null,
   "id": "3d7a97d6",
   "metadata": {},
   "outputs": [],
   "source": []
  },
  {
   "cell_type": "markdown",
   "id": "4ff53547",
   "metadata": {},
   "source": [
    "Homework 6 Part 3C has the following directions:\n",
    "\n",
    "How does the choice of kernel function affect the bias/variance of the model?\n",
    "\n",
    "Type your answer in the rich text field. "
   ]
  },
  {
   "cell_type": "code",
   "execution_count": null,
   "id": "13af0670",
   "metadata": {},
   "outputs": [],
   "source": []
  },
  {
   "cell_type": "markdown",
   "id": "613e4635",
   "metadata": {},
   "source": [
    "Homework 6 Part 4A has the following coding directions:\n",
    "\n",
    "Replace it with a proper GridSearchCV object and run the grid search with cross validation. \n",
    "\n",
    "Please upload a screenshot of your code for this section."
   ]
  },
  {
   "cell_type": "code",
   "execution_count": null,
   "id": "fad2402c",
   "metadata": {},
   "outputs": [],
   "source": []
  },
  {
   "cell_type": "markdown",
   "id": "a169ecb8",
   "metadata": {},
   "source": [
    "Homework 6, Part 4B has the following heat-map question:\n",
    "\n",
    "The following function will plot a heat-map of the cross-validation accuracies for each combination of parameters.  Which combination looks the best? How did you use the heat-map to select the best combination?\n",
    "\n",
    "Type your answer in the rich text field. "
   ]
  },
  {
   "cell_type": "code",
   "execution_count": null,
   "id": "6734701a",
   "metadata": {},
   "outputs": [],
   "source": []
  },
  {
   "cell_type": "markdown",
   "id": "d5ea3eb4",
   "metadata": {},
   "source": [
    "Homework 6 Part 4C says:\n",
    "\n",
    "The GridSearchCV object scores, among other things, the best combination of parameters as well as the cross-validation accuracy achieved with those parameters.  Print those quantities for our model. \n",
    "\n",
    "Submit a screenshot of best parameters and best accuracy here. "
   ]
  },
  {
   "cell_type": "code",
   "execution_count": null,
   "id": "0a6d3f77",
   "metadata": {},
   "outputs": [],
   "source": []
  },
  {
   "cell_type": "markdown",
   "id": "78c25a4f",
   "metadata": {},
   "source": [
    "Part 4D has the following directions:\n",
    "\n",
    "The GridSearchCV object also stores the classifier trained with the best hyperparameters.  Pass this best estimator into the nonlinear_plot function to view the best decision boundary. \n",
    "\n",
    "Upload a screenshot of your code."
   ]
  },
  {
   "cell_type": "code",
   "execution_count": null,
   "id": "6fe0106a",
   "metadata": {},
   "outputs": [],
   "source": []
  },
  {
   "cell_type": "markdown",
   "id": "8a1c539e",
   "metadata": {},
   "source": [
    "Upload a screenshot or copy of your plot for 4D. \n",
    "\n",
    "The lab directions for 4D are as follows:\n",
    "\n",
    "The GridSearchCV object also stores the classifier trained with the best hyperparameters.  Pass this best estimator into the nonlinear_plot function to view the best decision boundary. \n",
    "\n",
    "In the prompt above, you uploaded a screenshot of your code. Now upload a screenshot or copy of your plot."
   ]
  },
  {
   "cell_type": "code",
   "execution_count": null,
   "id": "5ecfaf97",
   "metadata": {},
   "outputs": [],
   "source": []
  },
  {
   "cell_type": "markdown",
   "id": "e39e9edf",
   "metadata": {},
   "source": [
    "For your final question for 4D:\n",
    "\n",
    "Based on the plot you generated in 4D (and submitted above), what can you tell about the best decision boundary?\n",
    "\n",
    "Type your answer in the rich text field. "
   ]
  }
 ],
 "metadata": {
  "kernelspec": {
   "display_name": "Python 3 (ipykernel)",
   "language": "python",
   "name": "python3"
  },
  "language_info": {
   "codemirror_mode": {
    "name": "ipython",
    "version": 3
   },
   "file_extension": ".py",
   "mimetype": "text/x-python",
   "name": "python",
   "nbconvert_exporter": "python",
   "pygments_lexer": "ipython3",
   "version": "3.9.12"
  }
 },
 "nbformat": 4,
 "nbformat_minor": 5
}
