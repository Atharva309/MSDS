{
 "cells": [
  {
   "cell_type": "markdown",
   "id": "4f5f56a4",
   "metadata": {},
   "source": [
    "Part B has the following directions:\n",
    "\n",
    "Generate a vector x of length N with values lying between limits Xa and Xb (for this you will have to choose your own limits; play around with different values) and apply the gen_logistic function to this vector.  Proceed to plot the output and verify the shape of the output. If your decision boundary value is about the center of your x range, you will see an S-shape.\n",
    "\n",
    "Upload a screenshot or copy of an S-shaped sigmoid curve you generated in this section of the lab. "
   ]
  },
  {
   "cell_type": "code",
   "execution_count": 1,
   "id": "aac5753d",
   "metadata": {},
   "outputs": [],
   "source": [
    "# from IPython.display import Image\n",
    "# Image(filename=\"images/2a.png\")"
   ]
  },
  {
   "cell_type": "markdown",
   "id": "256fed13",
   "metadata": {},
   "source": [
    "In Part C of this week's lab, you performed binary classification using logistic regression on a breast-cancer dataset.\n",
    "\n",
    "To evaluate your model you plot the ROC curve (True positive rate vs. False positive rate) and indicate the AUC on the plot. \n",
    "\n",
    "Upload a copy or screenshot of your ROC curve plot with the AUC here. \n"
   ]
  },
  {
   "cell_type": "code",
   "execution_count": null,
   "id": "6fc0b894",
   "metadata": {},
   "outputs": [],
   "source": []
  },
  {
   "cell_type": "markdown",
   "id": "083d2651",
   "metadata": {},
   "source": [
    "Part D of your lab has the following directions:\n",
    "\n",
    "Here we will use the trained model coefficients and generate the classification probabilities using the gen_logistic function we built. The goal of this section is to make you understand how logistic regression classifies data points during and after training. Using the predictions from the generated probabilities, you will compute the precision and recall metrics.\n",
    "\n",
    "Generate the predictions for the test data data.x_test and compute prediction and recall metrics by calling the functions you built.\n",
    "\n",
    "Submit a screenshot of your code for generating predictions for the test data data.x_test. "
   ]
  },
  {
   "cell_type": "code",
   "execution_count": null,
   "id": "0edf0ef4",
   "metadata": {},
   "outputs": [],
   "source": []
  },
  {
   "cell_type": "markdown",
   "id": "0d36b36b",
   "metadata": {},
   "source": [
    "Part D asks you to use the predictions from the generated probabilities to compute the precision and recall metrics using the functions that you built. \n",
    "\n",
    "Upload a screenshot showing the printed precision and recall values achieved by your model. "
   ]
  },
  {
   "cell_type": "code",
   "execution_count": null,
   "id": "f9bfbfe8",
   "metadata": {},
   "outputs": [],
   "source": []
  }
 ],
 "metadata": {
  "kernelspec": {
   "display_name": "Python 3 (ipykernel)",
   "language": "python",
   "name": "python3"
  },
  "language_info": {
   "codemirror_mode": {
    "name": "ipython",
    "version": 3
   },
   "file_extension": ".py",
   "mimetype": "text/x-python",
   "name": "python",
   "nbconvert_exporter": "python",
   "pygments_lexer": "ipython3",
   "version": "3.9.12"
  }
 },
 "nbformat": 4,
 "nbformat_minor": 5
}
