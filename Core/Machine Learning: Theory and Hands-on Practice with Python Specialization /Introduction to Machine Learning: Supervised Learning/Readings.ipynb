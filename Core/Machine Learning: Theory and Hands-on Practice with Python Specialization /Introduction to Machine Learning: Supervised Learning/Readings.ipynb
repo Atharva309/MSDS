{
 "cells": [
  {
   "cell_type": "markdown",
   "id": "b8f40b07-8d9e-499f-8085-9e947989f074",
   "metadata": {},
   "source": [
    "# wk 1\n",
    "\n",
    "- ISLR 3.1: Simple Linear Regression\n",
    "    -  read ISLR Chapter 3.1 - Simple Linear Regression, the first section on page 61. (You can stop when you reach the heading for 3.1.1 Estimating the Coefficients.) This section will introduce you to the linear regression model.\n",
    "\n",
    "- ISLR 3.1.1: Estimating the Coefficients\n",
    "    -  read ISLR Chapter 3.1.1 - Estimating the Coefficients, pages 61–63.\n",
    "\n",
    "- ISLR 3.1.2: Assessing the Accuracy of the Coefficient Estimates\n",
    "    -  read ISLR Chapter 3.1.2 - Assessing the Accuracy of the Coefficient Estimates, pages 63–68.\n",
    "\n",
    "- ISLR 3.1.3: Assessing the Accuracy of the Model\n",
    "    -  read ISLR Chapter 3.1.3 - Assessing the Accuracy of the Model, pages 68–71."
   ]
  },
  {
   "cell_type": "markdown",
   "id": "efdf0c76-07a9-47cf-9dcd-4772404cacca",
   "metadata": {},
   "source": [
    "# wk 2\n",
    "\n",
    "- **ISLR 3.2: Multiple Linear Regression**  \n",
    "      - Please read ISLR Chapter 3.2 - *Multiple Linear Regression*, pages 71–82.\n",
    "\n",
    "- **ISLR 3.3.2: Extensions of the Linear Model**  \n",
    "      - Please read ISLR Chapter 3.3.2 - *Extensions of the Linear Model*, pages 86–92.\n",
    "\n",
    "- **ISLR 2.2.2: The Bias-Variance Trade-Off**  \n",
    "      - Please read ISLR Chapter 2.2.2 - *The Bias-Variance Trade-Off*, pages 33–36.\n",
    "\n",
    "- **ISLR 3.3.3: Potential Problems**  \n",
    "      - Please read ISLR Chapter 3.3.3 - *Potential Problems*, pages 92–102. It may also be helpful to review the previous readings for this module (Chapter 3.2 - *Multiple Linear Regression* and Chapter 3.3.2 - *Extensions of the Linear Model*).\n"
   ]
  },
  {
   "cell_type": "markdown",
   "id": "69381024-2acf-408c-8d7b-d7b58177a4cf",
   "metadata": {},
   "source": [
    "# wk 3\n",
    "\n",
    "- **ISLR 4.1 - 4.3.1: An Overview of Classification - Logistic Regression**  \n",
    "  Please read ISLR Chapter 4.1 - 4.3.1 - *An Overview of Classification - Logistic Regression*, pages 128–133.\n",
    "\n",
    "- **ISLR 4.3.2: Estimating the Regression Coefficients**  \n",
    "  Please read ISLR Chapter 4.3.2 - *Estimating the Regression Coefficients*, pages 133–134.\n",
    "\n",
    "- **ISLR 6.2.1: Ridge Regression**  \n",
    "  Please read ISLR Chapter 6.2.1 - *Ridge Regression*, pages 215–219.\n",
    "\n",
    "- **ISLR 6.2.2: The Lasso**  \n",
    "  Please read ISLR Chapter 6.2.2 - *The Lasso*, pages 219–227.\n",
    "\n",
    "- **ISLR 6.2.3: Selecting the Tuning Parameter**  \n",
    "  Please read ISLR Chapter 6.2.3 - *Selecting the Tuning Parameter*, pages 227–228.\n",
    "\n",
    "- **ISLR 5.1: Cross-Validation**  \n",
    "  Please read ISLR Chapter 5.1 - *Cross-Validation*, pages 176–186.\n"
   ]
  },
  {
   "cell_type": "markdown",
   "id": "94d39102-fc6e-46df-947a-eb6b7f1c20ae",
   "metadata": {},
   "source": [
    "# wk 4\n",
    "\n",
    "- **ISLR: K-Nearest Neighbors**  \n",
    "  Please read the *K-Nearest Neighbors* section, pages 39–42 in section 2.2 *Assessing Model Accuracy*.\n",
    "\n",
    "- **ISLR 8.1.1: The Basics of Decision Trees - Regression Trees**  \n",
    "  Please read ISLR Chapter 8.1 - *The Basics of Decision Trees* through section 8.1.1 *Regression Trees* (stop when you reach the Tree Pruning section), pages 327–331.\n",
    "\n",
    "- **ISLR 8.1.2: Classification Trees**  \n",
    "  Please read ISLR Chapter 8.1.2 - *Classification Trees*, pages 311–314.\n",
    "\n",
    "- **ISLR: Tree Pruning**  \n",
    "  Please read the *Tree Pruning* section, pages 307–311 in chapter 8.1.1 *Regression Trees*.\n"
   ]
  },
  {
   "cell_type": "markdown",
   "id": "501b445d-2e0e-4701-970b-f17e8094dfa2",
   "metadata": {},
   "source": [
    "# wk 5\n",
    "\n",
    "\n",
    "- **ISLR 8.2.1: Bagging**  \n",
    "  Please read ISLR Chapter 8.2.1 - *Bagging*, pages 316–319.\n",
    "\n",
    "- **ISLR 8.2.2: Random Forests**  \n",
    "  Please read ISLR Chapter 8.2.2 - *Random Forests*, pages 319–321.\n",
    "\n",
    "- **ISLR 8.2.3: Boosting**  \n",
    "  Please read ISLR Chapter 8.2.3 - *Boosting*, pages 321–323.\n",
    "\n",
    "- **ESLII 10.1 - 10.4: Boosting Methods - Exponential Loss and AdaBoost**  \n",
    "  Please read ESLII Chapters 10.1 - 10.4 - *Boosting Methods - Exponential Loss and AdaBoost*, pages 337–345.\n",
    "\n",
    "- **ESLII 10.10: Numerical Optimization via Gradient Boosting**  \n",
    "  Please read ESLII Chapter 10.10 - *Numerical Optimization via Gradient Boosting*, pages 358–361.\n",
    "\n",
    "- **ESLII 10.11: Right-Sized Trees for Boosting**  \n",
    "  Please read ESLII Chapter 10.11 - *Right-Sized Trees for Boosting*, pages 361–364.\n"
   ]
  },
  {
   "cell_type": "markdown",
   "id": "873dcc32-107e-4248-a380-97391cd3dc56",
   "metadata": {},
   "source": [
    "# wk 6\n",
    "\n",
    "- **ISLR 9.1: Maximal Margin Classifier**  \n",
    "  Please read ISLR Chapter 9.1 - *Maximal Margin Classifier*, pages 338–344.\n",
    "\n",
    "- **ISLR 9.2: Support Vector Classifiers**  \n",
    "  Please read ISLR Chapter 9.2 - *Support Vector Classifiers*, pages 344–349.\n",
    "\n",
    "- **ISLR 9.3: Support Vector Machines**  \n",
    "  Please read ISLR Chapter 9.3 - *Support Vector Machines*, pages 349–355.\n"
   ]
  },
  {
   "cell_type": "code",
   "execution_count": null,
   "id": "5005b319-9953-4f21-9921-e9e583136f73",
   "metadata": {},
   "outputs": [],
   "source": []
  }
 ],
 "metadata": {
  "kernelspec": {
   "display_name": "Python 3 (ipykernel)",
   "language": "python",
   "name": "python3"
  },
  "language_info": {
   "codemirror_mode": {
    "name": "ipython",
    "version": 3
   },
   "file_extension": ".py",
   "mimetype": "text/x-python",
   "name": "python",
   "nbconvert_exporter": "python",
   "pygments_lexer": "ipython3",
   "version": "3.8.18"
  }
 },
 "nbformat": 4,
 "nbformat_minor": 5
}
