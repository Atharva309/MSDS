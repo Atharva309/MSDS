{
 "cells": [
  {
   "cell_type": "markdown",
   "id": "fe50d598",
   "metadata": {},
   "source": [
    "Resources:\n",
    "- monet:\n",
    "    - https://github.com/EdouardRobeyns/DTSA-5511_Week5/blob/main/Week%205%20GAN.ipynb\n",
    "    - https://github.com/EdouardRobeyns/DTSA-5511_Week5/blob/main/Week%205%20GAN.ipynb\n",
    "    - https://github.com/karansangha/dtsa5511-week5-GAN\n",
    "    - https://github.com/rogolive2000/MSDS-DTSA5511-GAN-Project\n",
    "    - https://github.com/nagyszeru/DTSA-5511-GAN/blob/main/week5gan.ipynb\n",
    "    \n",
    "- dogs:\n",
    "    - https://github.com/umetak/DTSA5511/blob/main/project_w5.ipynb\n",
    "    - https://github.com/HughJin-001/DTSA5511-GAN/blob/main/GANS.ipynb\n",
    "    - https://github.com/EthanJTucker/DTSA_5511_HW/blob/main/Week5/GAN_Project.ipynb"
   ]
  }
 ],
 "metadata": {
  "kernelspec": {
   "display_name": "Python 3 (ipykernel)",
   "language": "python",
   "name": "python3"
  },
  "language_info": {
   "codemirror_mode": {
    "name": "ipython",
    "version": 3
   },
   "file_extension": ".py",
   "mimetype": "text/x-python",
   "name": "python",
   "nbconvert_exporter": "python",
   "pygments_lexer": "ipython3",
   "version": "3.9.12"
  }
 },
 "nbformat": 4,
 "nbformat_minor": 5
}
