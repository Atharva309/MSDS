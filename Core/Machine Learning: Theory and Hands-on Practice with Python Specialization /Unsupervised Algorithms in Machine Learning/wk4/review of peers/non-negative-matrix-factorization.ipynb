{
 "cells": [
  {
   "cell_type": "markdown",
   "metadata": {},
   "source": [
    "# Non-negative Matrix Factorization\n",
    "## A comparison against supervised learning\n",
    "\n",
    "This kernel is a demonstration on how to use Non-negative Matrix Factorization for unsupervised machine learning in the context of Topic Extraction.\n",
    "Also there is a comparison with supervised machine learning in the form of Long Short Term Memory with GloVe word embeddings which is proven to work well with sequence data, such as text analysis, as well as a dense model, using the same input format as the unsupervised model."
   ]
  },
  {
   "cell_type": "markdown",
   "metadata": {},
   "source": [
    "First we need to import the libraries that are required."
   ]
  },
  {
   "cell_type": "code",
   "execution_count": 3,
   "metadata": {
    "_cell_guid": "b1076dfc-b9ad-4769-8c92-a6c4dae69d19",
    "_uuid": "8f2839f25d086af736a60e9eeb907d3b93b6e0e5",
    "execution": {
     "iopub.execute_input": "2023-06-17T06:07:38.001378Z",
     "iopub.status.busy": "2023-06-17T06:07:38.000658Z",
     "iopub.status.idle": "2023-06-17T06:07:47.754251Z",
     "shell.execute_reply": "2023-06-17T06:07:47.752756Z",
     "shell.execute_reply.started": "2023-06-17T06:07:38.001344Z"
    }
   },
   "outputs": [
    {
     "name": "stderr",
     "output_type": "stream",
     "text": [
      "/opt/conda/lib/python3.10/site-packages/tensorflow_io/python/ops/__init__.py:98: UserWarning: unable to load libtensorflow_io_plugins.so: unable to open file: libtensorflow_io_plugins.so, from paths: ['/opt/conda/lib/python3.10/site-packages/tensorflow_io/python/ops/libtensorflow_io_plugins.so']\n",
      "caused by: ['/opt/conda/lib/python3.10/site-packages/tensorflow_io/python/ops/libtensorflow_io_plugins.so: undefined symbol: _ZN3tsl6StatusC1EN10tensorflow5error4CodeESt17basic_string_viewIcSt11char_traitsIcEENS_14SourceLocationE']\n",
      "  warnings.warn(f\"unable to load libtensorflow_io_plugins.so: {e}\")\n",
      "/opt/conda/lib/python3.10/site-packages/tensorflow_io/python/ops/__init__.py:104: UserWarning: file system plugins are not loaded: unable to open file: libtensorflow_io.so, from paths: ['/opt/conda/lib/python3.10/site-packages/tensorflow_io/python/ops/libtensorflow_io.so']\n",
      "caused by: ['/opt/conda/lib/python3.10/site-packages/tensorflow_io/python/ops/libtensorflow_io.so: undefined symbol: _ZTVN10tensorflow13GcsFileSystemE']\n",
      "  warnings.warn(f\"file system plugins are not loaded: {e}\")\n"
     ]
    }
   ],
   "source": [
    "import numpy as np\n",
    "import pandas as pd\n",
    "from sklearn.decomposition import NMF\n",
    "import csv\n",
    "import re\n",
    "import itertools\n",
    "from sklearn.metrics import accuracy_score\n",
    "import tensorflow as tf\n",
    "import matplotlib.pyplot as plt\n",
    "from prettytable import PrettyTable"
   ]
  },
  {
   "cell_type": "markdown",
   "metadata": {},
   "source": [
    "The cell below define the two functions that translate text into GloVe vectors.\n",
    "The vectors are n-dimensional representations for the *meaning* of a particular word based on an analysis of a huge corpus of text. The co-occurence of words is what is used to derive the vector representations.\n",
    "\n",
    "More information here: [https://nlp.stanford.edu/projects/glove/](http://) .\n",
    "\n",
    "Regular expressions are used to filter out any special characters and all words are translated to lowercase characters."
   ]
  },
  {
   "cell_type": "code",
   "execution_count": 4,
   "metadata": {
    "execution": {
     "iopub.execute_input": "2023-06-17T06:07:53.228655Z",
     "iopub.status.busy": "2023-06-17T06:07:53.227700Z",
     "iopub.status.idle": "2023-06-17T06:07:53.241117Z",
     "shell.execute_reply": "2023-06-17T06:07:53.239647Z",
     "shell.execute_reply.started": "2023-06-17T06:07:53.228615Z"
    }
   },
   "outputs": [],
   "source": [
    "def process_review(review):\n",
    "    review_vectors = np.zeros((MAX_REVIEW_LENGTH, VECTORS_PER_WORD))\n",
    "\n",
    "    i = 0\n",
    "    for word in re.sub(r'\\W+', ' ', review['Text']).split(' '):\n",
    "        try:\n",
    "            review_vectors[i, :] = df_glove.loc[word]\n",
    "        except KeyError:\n",
    "            #print(word + ' not found')\n",
    "            continue\n",
    "                \n",
    "        i += 1\n",
    "            \n",
    "        if i == MAX_REVIEW_LENGTH:\n",
    "            return review_vectors\n",
    "        \n",
    "    return review_vectors\n",
    "\n",
    "def vectorize_reviews(dataframe):\n",
    "    # First create a blank matrix for our word vectors\n",
    "#    vectorized_data = np.zeros((len(dataframe.index), MAX_REVIEW_LENGTH, VECTORS_PER_WORD))\n",
    "\n",
    "    # Now loop thorugh the words and add the corresponding vectors to the matrix\n",
    "    vectorized_data = dataframe.apply(process_review, args=(), axis=1,)\n",
    "    \n",
    "    print(vectorized_data)\n",
    "    print(vectorized_data.shape)\n",
    "\n",
    "    return vectorized_data"
   ]
  },
  {
   "cell_type": "markdown",
   "metadata": {},
   "source": [
    "For the matrix factorization I found that the GloVe vectors worked poorly so instead I use a simple \"bag of word\" approach where a dictionary of words represented in the training material is built and used for a simple word count for each text.\n",
    "\n",
    "For example if the traning material is:\n",
    "\n",
    "\"John likes to eat fish\",\n",
    "\n",
    "\"John has a bicycle\",\n",
    "\n",
    "\"Some fish eat fish\"\n",
    "\n",
    "Would result in this word dictionary:\n",
    "[\"john\", \"likes\", \"to\", \"eat\", \"fish\", \"has\", \"a\", \"bicycle\", \"some\"] ."
   ]
  },
  {
   "cell_type": "code",
   "execution_count": 5,
   "metadata": {
    "execution": {
     "iopub.execute_input": "2023-06-17T06:07:55.655466Z",
     "iopub.status.busy": "2023-06-17T06:07:55.654976Z",
     "iopub.status.idle": "2023-06-17T06:07:55.664233Z",
     "shell.execute_reply": "2023-06-17T06:07:55.662640Z",
     "shell.execute_reply.started": "2023-06-17T06:07:55.655432Z"
    }
   },
   "outputs": [],
   "source": [
    "def build_word_list(dataframe, max_words):\n",
    "    word_counts = {}\n",
    "    all_words = []\n",
    "    \n",
    "    for index, row in dataframe.iterrows():\n",
    "        for word in re.sub(r'\\W+', ' ', row['Text']).lower().split(' '):\n",
    "            try:\n",
    "                word_counts[word] += 1\n",
    "            except KeyError:\n",
    "                word_counts[word] = 1\n",
    "\n",
    "    for word in sorted(word_counts.items(), key=lambda x:x[1], reverse=True)[:max_words]:\n",
    "        all_words += [word[0]]\n",
    "\n",
    "    return all_words"
   ]
  },
  {
   "cell_type": "markdown",
   "metadata": {},
   "source": [
    "Now we want to convert the training texts into bags of words based on the dictionary built above.\n",
    "\n",
    "The example mentioned above we get\n",
    "[[1, 1, 1, 1, 1, 0, 0, 0, 0],[1, 0, 0, 0, 0, 1, 1, 1, 0], [0, 0, 0, 1, 2, 0, 0, 0, 1]] ."
   ]
  },
  {
   "cell_type": "code",
   "execution_count": 6,
   "metadata": {
    "execution": {
     "iopub.execute_input": "2023-06-17T06:07:57.402583Z",
     "iopub.status.busy": "2023-06-17T06:07:57.401206Z",
     "iopub.status.idle": "2023-06-17T06:07:57.411044Z",
     "shell.execute_reply": "2023-06-17T06:07:57.410072Z",
     "shell.execute_reply.started": "2023-06-17T06:07:57.402535Z"
    }
   },
   "outputs": [],
   "source": [
    "def convert_from_bag_of_words(dataframe, max_words):\n",
    "    vectorized_data = np.zeros((len(dataframe.index), max_words))\n",
    "    words_subset = all_words[:max_words]\n",
    "    \n",
    "    i = 0\n",
    "    for index, row in dataframe.iterrows():\n",
    "        new_entry = np.zeros(max_words)\n",
    "        words = re.sub(r'\\W+', ' ', row['Text']).lower().split(' ')\n",
    "        for word in words:\n",
    "            try:\n",
    "                new_entry[words_subset.index(word)] += 1\n",
    "            except ValueError:\n",
    "                #print('Word not found: ' + word)\n",
    "                continue\n",
    "            \n",
    "        vectorized_data[i] = new_entry\n",
    "        i += 1\n",
    "                \n",
    "    return vectorized_data"
   ]
  },
  {
   "cell_type": "markdown",
   "metadata": {},
   "source": [
    "As is normal practice with unsupervised learning we know we have the correct number of groups in the result when compared against the ground truth but we do not know how the groups are connected. there are different ways to determine which group belongs to which class but the easiest is just to try all combinations and pick the combination that results in the best accuracy which is what we do below."
   ]
  },
  {
   "cell_type": "code",
   "execution_count": 7,
   "metadata": {
    "execution": {
     "iopub.execute_input": "2023-06-17T06:08:01.124508Z",
     "iopub.status.busy": "2023-06-17T06:08:01.124109Z",
     "iopub.status.idle": "2023-06-17T06:08:01.134947Z",
     "shell.execute_reply": "2023-06-17T06:08:01.133412Z",
     "shell.execute_reply.started": "2023-06-17T06:08:01.124478Z"
    }
   },
   "outputs": [],
   "source": [
    "def define_labels(dataframe, predictions):\n",
    "    permutations = list(itertools.permutations([0, 1, 2, 3, 4]))\n",
    "    best_label_combination = []\n",
    "    best_count = 0\n",
    "    \n",
    "    for permutation in permutations:\n",
    "        df_predictions = pd.DataFrame()\n",
    "        df_predictions['y_true'] = dataframe['Category']\n",
    "        df_predictions['y_pred'] = predictions\n",
    "\n",
    "        for number in range(0, 5):\n",
    "            df_predictions['y_pred'] = df_predictions['y_pred'].replace(number, LABELS[permutation[number]])\n",
    "        \n",
    "        count = len(df_predictions.loc[df_predictions['y_true'] == df_predictions['y_pred']].index)\n",
    "        if count > best_count:\n",
    "            best_count = count\n",
    "            best_label_combination = permutation\n",
    "            accuracy = accuracy_score(df_predictions['y_true'], df_predictions['y_pred'])\n",
    "            \n",
    "    return best_count, best_label_combination, accuracy"
   ]
  },
  {
   "cell_type": "markdown",
   "metadata": {},
   "source": [
    "The cell below defines the function that translate the test dataset predictions to category names."
   ]
  },
  {
   "cell_type": "code",
   "execution_count": 8,
   "metadata": {
    "execution": {
     "iopub.execute_input": "2023-06-17T06:08:04.366166Z",
     "iopub.status.busy": "2023-06-17T06:08:04.365686Z",
     "iopub.status.idle": "2023-06-17T06:08:04.372857Z",
     "shell.execute_reply": "2023-06-17T06:08:04.371401Z",
     "shell.execute_reply.started": "2023-06-17T06:08:04.366132Z"
    }
   },
   "outputs": [],
   "source": [
    "def translate_to_category(predictions, best_label_combination):\n",
    "    label_predictions = []\n",
    "    \n",
    "    for prediction in predictions:\n",
    "        label_predictions += [LABELS[best_label_combination[prediction]]]\n",
    "\n",
    "    return label_predictions"
   ]
  },
  {
   "cell_type": "markdown",
   "metadata": {},
   "source": [
    "Define a densely connected neural network model as a benchmark measurement for supervised learning in the form of a simple neural network."
   ]
  },
  {
   "cell_type": "code",
   "execution_count": 9,
   "metadata": {
    "execution": {
     "iopub.execute_input": "2023-06-17T06:08:07.199823Z",
     "iopub.status.busy": "2023-06-17T06:08:07.199376Z",
     "iopub.status.idle": "2023-06-17T06:08:07.208545Z",
     "shell.execute_reply": "2023-06-17T06:08:07.207515Z",
     "shell.execute_reply.started": "2023-06-17T06:08:07.199791Z"
    }
   },
   "outputs": [],
   "source": [
    "def build_supervised_dense_model():\n",
    "    dropout_level = 0.25\n",
    "    \n",
    "    model_input = tf.keras.layers.Input(shape=MAX_WORDS)\n",
    "    model_dropout1 = tf.keras.layers.Dropout(dropout_level)(model_input)\n",
    "    model_dense1 = tf.keras.layers.Dense(100, activation='relu')(model_dropout1)\n",
    "    model_dropout2 = tf.keras.layers.Dropout(dropout_level)(model_dense1)\n",
    "    model_output = tf.keras.layers.Dense(len(LABELS), activation='softmax')(model_dropout2)\n",
    "    \n",
    "    model = tf.keras.Model(inputs=model_input, outputs=model_output)\n",
    "    \n",
    "    model.compile(optimizer=tf.keras.optimizers.Adam(learning_rate=1e-3),\n",
    "              loss='categorical_crossentropy',\n",
    "              metrics=['accuracy'])\n",
    "    \n",
    "    return model"
   ]
  },
  {
   "cell_type": "markdown",
   "metadata": {},
   "source": [
    "Define the LSTM model to get a comparison for a proven supervised approach against the unsupervised model."
   ]
  },
  {
   "cell_type": "code",
   "execution_count": 10,
   "metadata": {
    "execution": {
     "iopub.execute_input": "2023-06-17T06:08:09.074512Z",
     "iopub.status.busy": "2023-06-17T06:08:09.073224Z",
     "iopub.status.idle": "2023-06-17T06:08:09.084616Z",
     "shell.execute_reply": "2023-06-17T06:08:09.083246Z",
     "shell.execute_reply.started": "2023-06-17T06:08:09.074453Z"
    }
   },
   "outputs": [],
   "source": [
    "def build_supervised_lstm_model():\n",
    "    dropout_level = 0.15\n",
    "    \n",
    "    model_input = tf.keras.layers.Input(shape=[MAX_REVIEW_LENGTH, VECTORS_PER_WORD])\n",
    "    model_lstm = tf.keras.layers.LSTM(200)(model_input)\n",
    "    model_dropout1 = tf.keras.layers.Dropout(dropout_level)(model_lstm)\n",
    "    model_dense1 = tf.keras.layers.Dense(50, activation='relu')(model_dropout1)\n",
    "    model_dropout2 = tf.keras.layers.Dropout(dropout_level)(model_dense1)\n",
    "    model_output = tf.keras.layers.Dense(len(LABELS), activation='softmax')(model_dropout2)\n",
    "    \n",
    "    model = tf.keras.Model(inputs=model_input, outputs=model_output)\n",
    "    \n",
    "    model.compile(optimizer=tf.keras.optimizers.Adam(learning_rate=1e-4),\n",
    "              loss='categorical_crossentropy',\n",
    "              metrics=['accuracy'])\n",
    "    \n",
    "    return model"
   ]
  },
  {
   "cell_type": "markdown",
   "metadata": {},
   "source": [
    "Import the train and test datasets into Pandas dataframes as well as the GloVe vectors."
   ]
  },
  {
   "cell_type": "code",
   "execution_count": 11,
   "metadata": {
    "execution": {
     "iopub.execute_input": "2023-06-17T06:08:16.268655Z",
     "iopub.status.busy": "2023-06-17T06:08:16.268244Z",
     "iopub.status.idle": "2023-06-17T06:08:22.637769Z",
     "shell.execute_reply": "2023-06-17T06:08:22.636407Z",
     "shell.execute_reply.started": "2023-06-17T06:08:16.268623Z"
    }
   },
   "outputs": [],
   "source": [
    "df_train = pd.read_csv('/kaggle/input/learn-ai-bbc/BBC News Train.csv')\n",
    "df_test = pd.read_csv('/kaggle/input/learn-ai-bbc/BBC News Test.csv')\n",
    "df_glove = pd.read_csv('/kaggle/input/glove6b/glove.6B.50d.txt', sep=' ', index_col=0, header = None, quoting=csv.QUOTE_NONE, encoding='utf-8')"
   ]
  },
  {
   "cell_type": "markdown",
   "metadata": {},
   "source": [
    "Define a few global constants;\n",
    "\n",
    "MAX_REVIEW_LENGTH: Not used in the matrix factorization but used for the supervised learning comparison (translation of texts to word embeddings where this decides the maximum number of words used from each text). Here specify to include up to 200 words from each article. We need to strike a balance as more words would yield a more accurate prediction but it will take significantly longer to process the text.\n",
    "\n",
    "VECTORS_PER_WORD: Here we use the 50-digit GloVe representations for each word (again only used in the supervised learning comparison).\n",
    "\n",
    "MAX_WORDS: This specifies how many unique words to include in the dictionary for the matrix factorization. Since this directly translates into the features in the model training this has to strike a balance between accuracy and speed of training (particularly considering the fact that we want to try many different hyper parameters). We have more than 600,000 unique words in the training texts so including all would be almost impossibly slow. Also the fact that including very rare words could lead to overfitting should be taken into account. Here we define to use the 5000 most common words.\n",
    "\n",
    "LABELS: These are the possible categories."
   ]
  },
  {
   "cell_type": "code",
   "execution_count": 15,
   "metadata": {
    "execution": {
     "iopub.execute_input": "2023-06-17T06:09:28.773464Z",
     "iopub.status.busy": "2023-06-17T06:09:28.772949Z",
     "iopub.status.idle": "2023-06-17T06:09:28.780174Z",
     "shell.execute_reply": "2023-06-17T06:09:28.778694Z",
     "shell.execute_reply.started": "2023-06-17T06:09:28.773425Z"
    }
   },
   "outputs": [],
   "source": [
    "MAX_REVIEW_LENGTH = 200\n",
    "VECTORS_PER_WORD = 50\n",
    "MAX_WORDS = 5000\n",
    "\n",
    "LABELS = ['business', 'tech', 'politics', 'sport', 'entertainment']"
   ]
  },
  {
   "cell_type": "markdown",
   "metadata": {},
   "source": [
    "Before training and comparing any models we need to take a look at the data.\n",
    "First number of samples in the training dataset and the names of the columns."
   ]
  },
  {
   "cell_type": "code",
   "execution_count": 16,
   "metadata": {
    "execution": {
     "iopub.execute_input": "2023-06-17T06:09:32.457935Z",
     "iopub.status.busy": "2023-06-17T06:09:32.456580Z",
     "iopub.status.idle": "2023-06-17T06:09:32.467108Z",
     "shell.execute_reply": "2023-06-17T06:09:32.465300Z",
     "shell.execute_reply.started": "2023-06-17T06:09:32.457856Z"
    }
   },
   "outputs": [
    {
     "name": "stdout",
     "output_type": "stream",
     "text": [
      "Number of samples in training data: 1490\n",
      "Fields: Index(['ArticleId', 'Text', 'Category'], dtype='object')\n"
     ]
    }
   ],
   "source": [
    "print('Number of samples in training data: ' + str(len(df_train.index)))\n",
    "print('Fields: ' + str(df_train.columns))"
   ]
  },
  {
   "cell_type": "markdown",
   "metadata": {},
   "source": [
    "Let us have a closer look at the length of the texts in the training dataset. As we can see sports and entertainment articles tend to be shorter, many around 200-300 words, whereas politics tend to be long articles, with a few even reaching several thousand words."
   ]
  },
  {
   "cell_type": "code",
   "execution_count": 17,
   "metadata": {
    "execution": {
     "iopub.execute_input": "2023-06-17T06:09:34.877134Z",
     "iopub.status.busy": "2023-06-17T06:09:34.876453Z",
     "iopub.status.idle": "2023-06-17T06:09:35.799373Z",
     "shell.execute_reply": "2023-06-17T06:09:35.798474Z",
     "shell.execute_reply.started": "2023-06-17T06:09:34.877097Z"
    }
   },
   "outputs": [
    {
     "data": {
      "image/png": "[encoded data removed]",
      "text/plain": [
       "<Figure size 640x480 with 1 Axes>"
      ]
     },
     "metadata": {},
     "output_type": "display_data"
    }
   ],
   "source": [
    "def count_length(line):\n",
    "    return len(line['split'])\n",
    "\n",
    "df_length_texts_business = pd.DataFrame()\n",
    "df_length_texts_business['split'] = df_train[df_train['Category'] == 'business']['Text'].str.split(' ')\n",
    "df_length_texts_business['word_count'] = df_length_texts_business.apply(lambda x: count_length(x),axis=1)\n",
    "\n",
    "df_length_texts_tech = pd.DataFrame()\n",
    "df_length_texts_tech['split'] = df_train[df_train['Category'] == 'tech']['Text'].str.split(' ')\n",
    "df_length_texts_tech['word_count'] = df_length_texts_tech.apply(lambda x: count_length(x),axis=1)\n",
    "\n",
    "df_length_texts_politics = pd.DataFrame()\n",
    "df_length_texts_politics['split'] = df_train[df_train['Category'] == 'politics']['Text'].str.split(' ')\n",
    "df_length_texts_politics['word_count'] = df_length_texts_politics.apply(lambda x: count_length(x),axis=1)\n",
    "\n",
    "df_length_texts_sport = pd.DataFrame()\n",
    "df_length_texts_sport['split'] = df_train[df_train['Category'] == 'sport']['Text'].str.split(' ')\n",
    "df_length_texts_sport['word_count'] = df_length_texts_sport.apply(lambda x: count_length(x),axis=1)\n",
    "\n",
    "df_length_texts_entertainment = pd.DataFrame()\n",
    "df_length_texts_entertainment['split'] = df_train[df_train['Category'] == 'entertainment']['Text'].str.split(' ')\n",
    "df_length_texts_entertainment['word_count'] = df_length_texts_entertainment.apply(lambda x: count_length(x),axis=1)\n",
    "\n",
    "fig, ax = plt.subplots()\n",
    "\n",
    "ax.hist(df_length_texts_business['word_count'], bins=50, alpha=0.3, color='red', label='Business')\n",
    "ax.hist(df_length_texts_tech['word_count'], bins=50, alpha=0.3,color='blue', label='Tech')\n",
    "ax.hist(df_length_texts_politics['word_count'], bins=50, alpha=0.3, color='green', label='Politics')\n",
    "ax.hist(df_length_texts_sport['word_count'], bins=50, alpha=0.3,color='orange', label='Sport')\n",
    "ax.hist(df_length_texts_entertainment['word_count'], bins=50, alpha=0.3,color='yellow', label='Entertainment')\n",
    "\n",
    "ax.set_ylabel('Frequency')\n",
    "ax.set_title(label='Word count per text by topic/category')\n",
    "ax.legend(title='Words in text')\n",
    "\n",
    "plt.legend(loc='upper right')\n",
    "\n",
    "plt.show()"
   ]
  },
  {
   "cell_type": "markdown",
   "metadata": {},
   "source": [
    "Build the list of the MAX_WORDS most popular words in all the training texts."
   ]
  },
  {
   "cell_type": "code",
   "execution_count": 18,
   "metadata": {
    "execution": {
     "iopub.execute_input": "2023-06-17T06:09:38.431938Z",
     "iopub.status.busy": "2023-06-17T06:09:38.431489Z",
     "iopub.status.idle": "2023-06-17T06:09:39.102510Z",
     "shell.execute_reply": "2023-06-17T06:09:39.101239Z",
     "shell.execute_reply.started": "2023-06-17T06:09:38.431905Z"
    }
   },
   "outputs": [],
   "source": [
    "all_words = build_word_list(df_train, MAX_WORDS)"
   ]
  },
  {
   "cell_type": "markdown",
   "metadata": {},
   "source": [
    "Let's see the list of the 25 most popular words."
   ]
  },
  {
   "cell_type": "code",
   "execution_count": 14,
   "metadata": {
    "execution": {
     "iopub.execute_input": "2023-06-16T07:53:09.373385Z",
     "iopub.status.busy": "2023-06-16T07:53:09.372563Z",
     "iopub.status.idle": "2023-06-16T07:53:09.385525Z",
     "shell.execute_reply": "2023-06-16T07:53:09.384093Z",
     "shell.execute_reply.started": "2023-06-16T07:53:09.373347Z"
    }
   },
   "outputs": [
    {
     "name": "stdout",
     "output_type": "stream",
     "text": [
      "+---------+---------+---------+---------+---------+\n",
      "| Field 1 | Field 2 | Field 3 | Field 4 | Field 5 |\n",
      "+---------+---------+---------+---------+---------+\n",
      "|   the   |    to   |    of   |   and   |    a    |\n",
      "|    in   |    s    |   for   |    is   |   that  |\n",
      "|    it   |    on   |   said  |   was   |    he   |\n",
      "|    be   |   with  |   has   |    as   |   have  |\n",
      "|    at   |    by   |   will  |   but   |   are   |\n",
      "+---------+---------+---------+---------+---------+\n"
     ]
    }
   ],
   "source": [
    "myTable = PrettyTable()\n",
    " \n",
    "# Add rows\n",
    "myTable.add_row([all_words[0], all_words[1], all_words[2], all_words[3], all_words[4]])\n",
    "myTable.add_row([all_words[5], all_words[6], all_words[7], all_words[8], all_words[9]])\n",
    "myTable.add_row([all_words[10], all_words[11], all_words[12], all_words[13], all_words[14]])\n",
    "myTable.add_row([all_words[15], all_words[16], all_words[17], all_words[18], all_words[19]])\n",
    "myTable.add_row([all_words[20], all_words[21], all_words[22], all_words[23], all_words[24]])\n",
    " \n",
    "print(myTable)"
   ]
  },
  {
   "cell_type": "markdown",
   "metadata": {},
   "source": [
    "Convert the training texts to input for the matrix factorization."
   ]
  },
  {
   "cell_type": "code",
   "execution_count": 20,
   "metadata": {
    "execution": {
     "iopub.execute_input": "2023-06-17T06:10:07.661970Z",
     "iopub.status.busy": "2023-06-17T06:10:07.661449Z",
     "iopub.status.idle": "2023-06-17T06:10:21.628583Z",
     "shell.execute_reply": "2023-06-17T06:10:21.627327Z",
     "shell.execute_reply.started": "2023-06-17T06:10:07.661937Z"
    }
   },
   "outputs": [],
   "source": [
    "X_bag_of_words = convert_from_bag_of_words(df_train, MAX_WORDS)"
   ]
  },
  {
   "cell_type": "markdown",
   "metadata": {},
   "source": [
    "In the following cell we try different combinations of hyperparameters in search of the combination that will yield the best accuracy. It should be noted that it is assumed that this is the best model but that may not be the case (overfitting will yield a model that has a high accuracy on the training dataset but may perform very poorly on the test dataset.\n",
    "\n",
    "It is a bit of a lazy implementation for searching for optimal hyperparameters. It is probably worth looking into sklearn.model_selection.GridSearchCV or similar.\n",
    "\n",
    "On initial trials I've ruled out solver: 'cd' is that seems to perform poorly on this data."
   ]
  },
  {
   "cell_type": "code",
   "execution_count": 21,
   "metadata": {
    "execution": {
     "iopub.execute_input": "2023-06-17T06:11:27.124839Z",
     "iopub.status.busy": "2023-06-17T06:11:27.124322Z",
     "iopub.status.idle": "2023-06-17T07:22:14.268092Z",
     "shell.execute_reply": "2023-06-17T07:22:14.266744Z",
     "shell.execute_reply.started": "2023-06-17T06:11:27.124806Z"
    }
   },
   "outputs": [
    {
     "name": "stdout",
     "output_type": "stream",
     "text": [
      "Searching for best hyperparameter combination. This will take a while!\n",
      "Found a better hyperparameter combination with solver: [frobenius], init: [random], alpha_W: [0.0], l1_ratio: [0.0]\n",
      "Candidate accuracy: 0.4993288590604027\n",
      "Found a better hyperparameter combination with solver: [kullback-leibler], init: [random], alpha_W: [0.0], l1_ratio: [0.0]\n",
      "Candidate accuracy: 0.8261744966442953\n",
      "Found a better hyperparameter combination with solver: [kullback-leibler], init: [random], alpha_W: [0.001], l1_ratio: [0.0]\n",
      "Candidate accuracy: 0.8295302013422818\n",
      "Found a better hyperparameter combination with solver: [kullback-leibler], init: [nndsvda], alpha_W: [0.0], l1_ratio: [0.0]\n",
      "Candidate accuracy: 0.9369127516778524\n",
      "Found a better hyperparameter combination with solver: [kullback-leibler], init: [nndsvda], alpha_W: [0.0005], l1_ratio: [0.0]\n",
      "Candidate accuracy: 0.9402684563758389\n",
      "Found a better hyperparameter combination with solver: [kullback-leibler], init: [nndsvda], alpha_W: [0.001], l1_ratio: [0.0]\n",
      "Candidate accuracy: 0.9422818791946309\n"
     ]
    }
   ],
   "source": [
    "#For parameter search\n",
    "beta_losses = ['frobenius', 'kullback-leibler']\n",
    "inits = ['random', 'nndsvda', 'nndsvdar']\n",
    "alpha_ws = l1_ratios = [0.0, 0.0005, 0.001, 0.0015, 0.002, 0.0025]\n",
    "\n",
    "## Best parameter combination - for shortcutting the time consuming search for parameters\n",
    "#beta_losses = ['kullback-leibler']\n",
    "#inits = ['nndsvda']\n",
    "#alpha_ws = [0.001]\n",
    "#l1_ratios = [0.0]\n",
    "\n",
    "matches = None\n",
    "best_label_combination = None\n",
    "accuracy = 0\n",
    "predictions = None\n",
    "model = None\n",
    "\n",
    "print('Searching for best hyperparameter combination. This will take a while!')\n",
    "\n",
    "for beta_loss in beta_losses:\n",
    "    for init in inits:\n",
    "        for alpha_w in alpha_ws:\n",
    "            for l1_ratio in l1_ratios:\n",
    "                # Define the model\n",
    "                model_candidate = NMF(n_components=5, \n",
    "                                    init=init, \n",
    "                                    solver = 'mu',\n",
    "                                    beta_loss = beta_loss,\n",
    "                                    alpha_W = alpha_w,\n",
    "                                    l1_ratio = l1_ratio,\n",
    "                                    random_state = 101)\n",
    "\n",
    "                # Fit the training data on the model and transform to result\n",
    "                try:\n",
    "                    W = model_candidate.fit_transform(X_bag_of_words)\n",
    "                except ValueError:\n",
    "                    print('Doesn`t work! [' + beta_loss + '], init: [' + init + '], alpha_W: [' + str(alpha_w) + '], l1_ratio: ['\\\n",
    "                            + str(l1_ratio) + ']')\n",
    "                    continue\n",
    "\n",
    "                # Find the highest scoring component for each sample\n",
    "                predictions_temp = np.argmax(W, axis=1)\n",
    "                # Not strictly nessecary but a dataframe is just easier for replacing processing\n",
    "                df = pd.DataFrame()\n",
    "                df['Predictions'] = predictions_temp\n",
    "                # Find the best fitting combination of classes as well as the accuracy for that combination\n",
    "                matches_temp, best_label_combination_temp, accuracy_temp = define_labels(df_train, predictions_temp)\n",
    "                    \n",
    "                if accuracy_temp > accuracy:\n",
    "                    print('Found a better hyperparameter combination with solver: [' \\\n",
    "                            + beta_loss + '], init: [' + init + '], alpha_W: [' + str(alpha_w) + '], l1_ratio: ['\\\n",
    "                            + str(l1_ratio) + ']')\n",
    "                    print('Candidate accuracy: ' + str(accuracy_temp))\n",
    "                    matches = matches_temp\n",
    "                    best_label_combination = best_label_combination_temp\n",
    "                    accuracy = accuracy_temp\n",
    "                    predictions = predictions_temp\n",
    "                    model = model_candidate"
   ]
  },
  {
   "cell_type": "markdown",
   "metadata": {},
   "source": [
    "Print final accuracy on the training dataset using the unsupervised Non-negative Matrix Factorization approach."
   ]
  },
  {
   "cell_type": "code",
   "execution_count": 17,
   "metadata": {
    "execution": {
     "iopub.execute_input": "2023-06-16T07:53:55.257857Z",
     "iopub.status.busy": "2023-06-16T07:53:55.257309Z",
     "iopub.status.idle": "2023-06-16T07:53:55.266209Z",
     "shell.execute_reply": "2023-06-16T07:53:55.264757Z",
     "shell.execute_reply.started": "2023-06-16T07:53:55.257823Z"
    }
   },
   "outputs": [
    {
     "name": "stdout",
     "output_type": "stream",
     "text": [
      "Done determining best hyperparameters. Accuracy achieved: 0.9422818791946309\n"
     ]
    }
   ],
   "source": [
    "print('Done determining best hyperparameters. Accuracy achieved: ' + str(accuracy))"
   ]
  },
  {
   "cell_type": "markdown",
   "metadata": {},
   "source": [
    "Convert the test dataset texts to MAX_WORDS \"bags of words\"."
   ]
  },
  {
   "cell_type": "code",
   "execution_count": 18,
   "metadata": {
    "execution": {
     "iopub.execute_input": "2023-06-16T07:53:55.268886Z",
     "iopub.status.busy": "2023-06-16T07:53:55.267936Z",
     "iopub.status.idle": "2023-06-16T07:54:02.802236Z",
     "shell.execute_reply": "2023-06-16T07:54:02.800907Z",
     "shell.execute_reply.started": "2023-06-16T07:53:55.268838Z"
    }
   },
   "outputs": [],
   "source": [
    "X_test = convert_from_bag_of_words(df_test, MAX_WORDS)"
   ]
  },
  {
   "cell_type": "markdown",
   "metadata": {},
   "source": [
    "Predict results from the test data."
   ]
  },
  {
   "cell_type": "code",
   "execution_count": 19,
   "metadata": {
    "execution": {
     "iopub.execute_input": "2023-06-16T07:54:02.804180Z",
     "iopub.status.busy": "2023-06-16T07:54:02.803795Z",
     "iopub.status.idle": "2023-06-16T07:54:12.438767Z",
     "shell.execute_reply": "2023-06-16T07:54:12.436541Z",
     "shell.execute_reply.started": "2023-06-16T07:54:02.804151Z"
    }
   },
   "outputs": [],
   "source": [
    "X_test = convert_from_bag_of_words(df_test, MAX_WORDS)\n",
    "W = model.transform(X_test)\n",
    "predictions = np.argmax(W, axis=1)\n",
    "categories = translate_to_category(predictions, best_label_combination)"
   ]
  },
  {
   "cell_type": "markdown",
   "metadata": {},
   "source": [
    "Create the submission file for the unsupervised approach."
   ]
  },
  {
   "cell_type": "code",
   "execution_count": 20,
   "metadata": {
    "execution": {
     "iopub.execute_input": "2023-06-16T07:54:12.442829Z",
     "iopub.status.busy": "2023-06-16T07:54:12.441443Z",
     "iopub.status.idle": "2023-06-16T07:54:12.473485Z",
     "shell.execute_reply": "2023-06-16T07:54:12.471914Z",
     "shell.execute_reply.started": "2023-06-16T07:54:12.442763Z"
    }
   },
   "outputs": [],
   "source": [
    "#Build a submission file. The model scores > 0.95 with the unknown test data as late submission.\n",
    "df_submission = pd.DataFrame()\n",
    "df_submission['ArticleId'] = df_test['ArticleId']\n",
    "df_submission['Category'] = categories\n",
    "df_submission.to_csv('submission.csv', index=False)"
   ]
  },
  {
   "cell_type": "markdown",
   "metadata": {},
   "source": [
    "Convert the training texts to GloVe vector representations of shape 200x50 used as input in the LSTM model."
   ]
  },
  {
   "cell_type": "code",
   "execution_count": 24,
   "metadata": {
    "execution": {
     "iopub.execute_input": "2023-06-16T07:58:05.688620Z",
     "iopub.status.busy": "2023-06-16T07:58:05.688207Z",
     "iopub.status.idle": "2023-06-16T09:11:32.309710Z",
     "shell.execute_reply": "2023-06-16T09:11:32.308451Z",
     "shell.execute_reply.started": "2023-06-16T07:58:05.688590Z"
    }
   },
   "outputs": [
    {
     "name": "stdout",
     "output_type": "stream",
     "text": [
      "Calculating GloVe vectors for the training texts. This will run for some time!\n",
      "0       [[1.5421, -0.74284, 1.0068, 1.8362, -0.35369, ...\n",
      "1       [[0.29942, -0.09967, -0.0012405, -1.3147, 0.29...\n",
      "2       [[-0.2228, 0.042332, -0.42852, 0.045287, -0.57...\n",
      "3       [[-0.04451, 0.63078, -1.0844, -0.23987, -0.076...\n",
      "4       [[1.1183, -0.71865, 1.0148, 1.1814, 0.25469, 0...\n",
      "                              ...                        \n",
      "1485    [[-0.323, 0.77562, 0.31996, 0.24053, 0.21769, ...\n",
      "1486    [[-1.2636, 0.12616, 0.5781, 0.23193, -0.51517,...\n",
      "1487    [[-0.26241, -1.1103, 0.50271, -0.43052, 0.3746...\n",
      "1488    [[0.52042, -0.8314, 0.49961, 1.2893, 0.1151, 0...\n",
      "1489    [[0.77514, -0.87855, 0.073737, -0.54224, -0.11...\n",
      "Length: 1490, dtype: object\n",
      "(1490,)\n"
     ]
    }
   ],
   "source": [
    "print('Calculating GloVe vectors for the training texts. This will run for some time!')\n",
    "X_glove = vectorize_reviews(df_train)\n",
    "X_new = np.zeros((len(df_train.index), X_glove[0].shape[0], X_glove[0].shape[1]))\n",
    "for i in range(0, len(df_train.index)):\n",
    "    X_new[i] = X_glove[i]"
   ]
  },
  {
   "cell_type": "markdown",
   "metadata": {},
   "source": [
    "Translate the labels to one-hot encoded values."
   ]
  },
  {
   "cell_type": "code",
   "execution_count": 25,
   "metadata": {
    "execution": {
     "iopub.execute_input": "2023-06-16T09:20:06.359353Z",
     "iopub.status.busy": "2023-06-16T09:20:06.358731Z",
     "iopub.status.idle": "2023-06-16T09:20:06.370427Z",
     "shell.execute_reply": "2023-06-16T09:20:06.369452Z",
     "shell.execute_reply.started": "2023-06-16T09:20:06.359314Z"
    }
   },
   "outputs": [],
   "source": [
    "y_old = df_train['Category'].to_list()\n",
    "y_new = np.zeros((len(y_old), len(LABELS)))\n",
    "\n",
    "i = 0\n",
    "for i in range(0, len(y_old)):\n",
    "    y_new[i, LABELS.index(y_old[i])] = 1"
   ]
  },
  {
   "cell_type": "markdown",
   "metadata": {},
   "source": [
    "Build the first supervised model to compare with - a densely connected neural network also known as a perceptron network."
   ]
  },
  {
   "cell_type": "code",
   "execution_count": 26,
   "metadata": {
    "execution": {
     "iopub.execute_input": "2023-06-16T09:20:09.368320Z",
     "iopub.status.busy": "2023-06-16T09:20:09.367526Z",
     "iopub.status.idle": "2023-06-16T09:20:19.990174Z",
     "shell.execute_reply": "2023-06-16T09:20:19.988736Z",
     "shell.execute_reply.started": "2023-06-16T09:20:09.368283Z"
    }
   },
   "outputs": [
    {
     "name": "stdout",
     "output_type": "stream",
     "text": [
      "Model: \"model\"\n",
      "_________________________________________________________________\n",
      " Layer (type)                Output Shape              Param #   \n",
      "=================================================================\n",
      " input_1 (InputLayer)        [(None, 5000)]            0         \n",
      "                                                                 \n",
      " dropout (Dropout)           (None, 5000)              0         \n",
      "                                                                 \n",
      " dense (Dense)               (None, 100)               500100    \n",
      "                                                                 \n",
      " dropout_1 (Dropout)         (None, 100)               0         \n",
      "                                                                 \n",
      " dense_1 (Dense)             (None, 5)                 505       \n",
      "                                                                 \n",
      "=================================================================\n",
      "Total params: 500,605\n",
      "Trainable params: 500,605\n",
      "Non-trainable params: 0\n",
      "_________________________________________________________________\n",
      "Epoch 1/20\n",
      "47/47 [==============================] - 1s 10ms/step - loss: 0.6517 - accuracy: 0.7799\n",
      "Epoch 2/20\n",
      "47/47 [==============================] - 0s 9ms/step - loss: 0.1039 - accuracy: 0.9826\n",
      "Epoch 3/20\n",
      "47/47 [==============================] - 0s 10ms/step - loss: 0.0478 - accuracy: 0.9872\n",
      "Epoch 4/20\n",
      "47/47 [==============================] - 0s 9ms/step - loss: 0.0283 - accuracy: 0.9933\n",
      "Epoch 5/20\n",
      "47/47 [==============================] - 0s 9ms/step - loss: 0.0203 - accuracy: 0.9960\n",
      "Epoch 6/20\n",
      "47/47 [==============================] - 0s 9ms/step - loss: 0.0132 - accuracy: 0.9980\n",
      "Epoch 7/20\n",
      "47/47 [==============================] - 0s 8ms/step - loss: 0.0067 - accuracy: 1.0000\n",
      "Epoch 8/20\n",
      "47/47 [==============================] - 0s 9ms/step - loss: 0.0061 - accuracy: 1.0000\n",
      "Epoch 9/20\n",
      "47/47 [==============================] - 0s 9ms/step - loss: 0.0065 - accuracy: 0.9980\n",
      "Epoch 10/20\n",
      "47/47 [==============================] - 0s 10ms/step - loss: 0.0050 - accuracy: 0.9993\n",
      "Epoch 11/20\n",
      "47/47 [==============================] - 0s 9ms/step - loss: 0.0025 - accuracy: 1.0000\n",
      "Epoch 12/20\n",
      "47/47 [==============================] - 0s 9ms/step - loss: 0.0033 - accuracy: 0.9993\n",
      "Epoch 13/20\n",
      "47/47 [==============================] - 0s 10ms/step - loss: 0.0031 - accuracy: 1.0000\n",
      "Epoch 14/20\n",
      "47/47 [==============================] - 0s 9ms/step - loss: 0.0015 - accuracy: 1.0000\n",
      "Epoch 15/20\n",
      "47/47 [==============================] - 0s 10ms/step - loss: 9.8722e-04 - accuracy: 1.0000\n",
      "Epoch 16/20\n",
      "47/47 [==============================] - 0s 10ms/step - loss: 0.0026 - accuracy: 0.9993\n",
      "Epoch 17/20\n",
      "47/47 [==============================] - 0s 10ms/step - loss: 0.0018 - accuracy: 0.9993\n",
      "Epoch 18/20\n",
      "47/47 [==============================] - 0s 10ms/step - loss: 8.7918e-04 - accuracy: 1.0000\n",
      "Epoch 19/20\n",
      "47/47 [==============================] - 1s 11ms/step - loss: 0.0018 - accuracy: 0.9993\n",
      "Epoch 20/20\n",
      "47/47 [==============================] - 1s 11ms/step - loss: 0.0017 - accuracy: 1.0000\n"
     ]
    },
    {
     "data": {
      "text/plain": [
       "<keras.callbacks.History at 0x7b4e20de1690>"
      ]
     },
     "execution_count": 26,
     "metadata": {},
     "output_type": "execute_result"
    }
   ],
   "source": [
    "model = build_supervised_dense_model()\n",
    "model.summary()\n",
    "model.fit(X_bag_of_words, y_new, epochs = 20)"
   ]
  },
  {
   "cell_type": "markdown",
   "metadata": {},
   "source": [
    "Get the predictions on the training dataset and convert the numeric values to category classes."
   ]
  },
  {
   "cell_type": "code",
   "execution_count": 27,
   "metadata": {
    "execution": {
     "iopub.execute_input": "2023-06-16T09:20:19.993261Z",
     "iopub.status.busy": "2023-06-16T09:20:19.992431Z",
     "iopub.status.idle": "2023-06-16T09:20:20.461528Z",
     "shell.execute_reply": "2023-06-16T09:20:20.459548Z",
     "shell.execute_reply.started": "2023-06-16T09:20:19.993210Z"
    }
   },
   "outputs": [
    {
     "name": "stdout",
     "output_type": "stream",
     "text": [
      "47/47 [==============================] - 0s 4ms/step\n"
     ]
    }
   ],
   "source": [
    "predictions_supervised = np.argmax(model.predict(X_bag_of_words), axis=1)\n",
    "categories = translate_to_category(predictions_supervised, [0, 1, 2, 3, 4])"
   ]
  },
  {
   "cell_type": "markdown",
   "metadata": {},
   "source": [
    "Calculate and print accuracy on the training data set. Note that an overfitted model may perform excellently here but miserably with the test dataset."
   ]
  },
  {
   "cell_type": "code",
   "execution_count": 28,
   "metadata": {
    "execution": {
     "iopub.execute_input": "2023-06-16T09:20:20.463663Z",
     "iopub.status.busy": "2023-06-16T09:20:20.463276Z",
     "iopub.status.idle": "2023-06-16T09:20:20.478010Z",
     "shell.execute_reply": "2023-06-16T09:20:20.476224Z",
     "shell.execute_reply.started": "2023-06-16T09:20:20.463634Z"
    }
   },
   "outputs": [
    {
     "name": "stdout",
     "output_type": "stream",
     "text": [
      "Supervised training (dense NN) accuracy achieved on training set: 1.0\n"
     ]
    }
   ],
   "source": [
    "accuracy_dense = accuracy_score(df_train['Category'], categories)\n",
    "print('Supervised training (dense NN) accuracy achieved on training set: ' + str(accuracy_dense))"
   ]
  },
  {
   "cell_type": "markdown",
   "metadata": {},
   "source": [
    "Get the predictions of the test dataset. This will be the real test of how the model performs"
   ]
  },
  {
   "cell_type": "code",
   "execution_count": 29,
   "metadata": {
    "execution": {
     "iopub.execute_input": "2023-06-16T09:20:20.482249Z",
     "iopub.status.busy": "2023-06-16T09:20:20.481782Z",
     "iopub.status.idle": "2023-06-16T09:20:20.807918Z",
     "shell.execute_reply": "2023-06-16T09:20:20.806130Z",
     "shell.execute_reply.started": "2023-06-16T09:20:20.482214Z"
    }
   },
   "outputs": [
    {
     "name": "stdout",
     "output_type": "stream",
     "text": [
      "23/23 [==============================] - 0s 3ms/step\n"
     ]
    }
   ],
   "source": [
    "predictions_supervised = np.argmax(model.predict(X_test), axis=1)\n",
    "categories = translate_to_category(predictions_supervised, [0, 1, 2, 3, 4])"
   ]
  },
  {
   "cell_type": "markdown",
   "metadata": {},
   "source": [
    "Build a submission file from the test dataset for a supervised model comparison using a densely connected neural network (also known as a perceptron network).\n",
    "\n",
    "This file has been scored as \"late submission\" as 0.974."
   ]
  },
  {
   "cell_type": "code",
   "execution_count": 30,
   "metadata": {
    "execution": {
     "iopub.execute_input": "2023-06-16T09:20:20.809897Z",
     "iopub.status.busy": "2023-06-16T09:20:20.809547Z",
     "iopub.status.idle": "2023-06-16T09:20:20.829825Z",
     "shell.execute_reply": "2023-06-16T09:20:20.827588Z",
     "shell.execute_reply.started": "2023-06-16T09:20:20.809869Z"
    }
   },
   "outputs": [],
   "source": [
    "df_submission = pd.DataFrame()\n",
    "df_submission['ArticleId'] = df_test['ArticleId']\n",
    "df_submission['Category'] = categories\n",
    "df_submission.to_csv('supervised_dense_submission.csv', index=False)"
   ]
  },
  {
   "cell_type": "markdown",
   "metadata": {},
   "source": [
    "For the final comparison with a supervised approach we will train and LSTM neural network. As input we are using GloVe word vectorizations so that each word in the text is represented by 50 digits."
   ]
  },
  {
   "cell_type": "code",
   "execution_count": 42,
   "metadata": {
    "execution": {
     "iopub.execute_input": "2023-06-16T09:58:34.871832Z",
     "iopub.status.busy": "2023-06-16T09:58:34.870632Z",
     "iopub.status.idle": "2023-06-16T10:12:00.198644Z",
     "shell.execute_reply": "2023-06-16T10:12:00.197151Z",
     "shell.execute_reply.started": "2023-06-16T09:58:34.871792Z"
    }
   },
   "outputs": [
    {
     "name": "stdout",
     "output_type": "stream",
     "text": [
      "Model: \"model_4\"\n",
      "_________________________________________________________________\n",
      " Layer (type)                Output Shape              Param #   \n",
      "=================================================================\n",
      " input_5 (InputLayer)        [(None, 200, 50)]         0         \n",
      "                                                                 \n",
      " lstm_3 (LSTM)               (None, 200)               200800    \n",
      "                                                                 \n",
      " dropout_8 (Dropout)         (None, 200)               0         \n",
      "                                                                 \n",
      " dense_8 (Dense)             (None, 50)                10050     \n",
      "                                                                 \n",
      " dropout_9 (Dropout)         (None, 50)                0         \n",
      "                                                                 \n",
      " dense_9 (Dense)             (None, 5)                 255       \n",
      "                                                                 \n",
      "=================================================================\n",
      "Total params: 211,105\n",
      "Trainable params: 211,105\n",
      "Non-trainable params: 0\n",
      "_________________________________________________________________\n",
      "Epoch 1/50\n",
      "47/47 [==============================] - 19s 344ms/step - loss: 1.5602 - accuracy: 0.3255\n",
      "Epoch 2/50\n",
      "47/47 [==============================] - 15s 327ms/step - loss: 1.3942 - accuracy: 0.5282\n",
      "Epoch 3/50\n",
      "47/47 [==============================] - 15s 317ms/step - loss: 1.0386 - accuracy: 0.6349\n",
      "Epoch 4/50\n",
      "47/47 [==============================] - 15s 315ms/step - loss: 0.8625 - accuracy: 0.6906\n",
      "Epoch 5/50\n",
      "47/47 [==============================] - 15s 310ms/step - loss: 0.6896 - accuracy: 0.7960\n",
      "Epoch 6/50\n",
      "47/47 [==============================] - 15s 319ms/step - loss: 0.6769 - accuracy: 0.8181\n",
      "Epoch 7/50\n",
      "47/47 [==============================] - 15s 318ms/step - loss: 0.8281 - accuracy: 0.7510\n",
      "Epoch 8/50\n",
      "47/47 [==============================] - 15s 329ms/step - loss: 0.9768 - accuracy: 0.6289\n",
      "Epoch 9/50\n",
      "47/47 [==============================] - 16s 347ms/step - loss: 0.9123 - accuracy: 0.6544\n",
      "Epoch 10/50\n",
      "47/47 [==============================] - 16s 331ms/step - loss: 0.9262 - accuracy: 0.6591\n",
      "Epoch 11/50\n",
      "47/47 [==============================] - 15s 320ms/step - loss: 0.8304 - accuracy: 0.7054\n",
      "Epoch 12/50\n",
      "47/47 [==============================] - 15s 325ms/step - loss: 0.6625 - accuracy: 0.8020\n",
      "Epoch 13/50\n",
      "47/47 [==============================] - 16s 341ms/step - loss: 0.6543 - accuracy: 0.8067\n",
      "Epoch 14/50\n",
      "47/47 [==============================] - 16s 340ms/step - loss: 0.6384 - accuracy: 0.8161\n",
      "Epoch 15/50\n",
      "47/47 [==============================] - 15s 311ms/step - loss: 1.2897 - accuracy: 0.5470\n",
      "Epoch 16/50\n",
      "47/47 [==============================] - 14s 307ms/step - loss: 0.9598 - accuracy: 0.6470\n",
      "Epoch 17/50\n",
      "47/47 [==============================] - 15s 322ms/step - loss: 0.8563 - accuracy: 0.7114\n",
      "Epoch 18/50\n",
      "47/47 [==============================] - 16s 335ms/step - loss: 0.7487 - accuracy: 0.7765\n",
      "Epoch 19/50\n",
      "47/47 [==============================] - 15s 329ms/step - loss: 0.6990 - accuracy: 0.7933\n",
      "Epoch 20/50\n",
      "47/47 [==============================] - 15s 313ms/step - loss: 0.6096 - accuracy: 0.8262\n",
      "Epoch 21/50\n",
      "47/47 [==============================] - 15s 320ms/step - loss: 0.5486 - accuracy: 0.8557\n",
      "Epoch 22/50\n",
      "47/47 [==============================] - 16s 331ms/step - loss: 0.4689 - accuracy: 0.8832\n",
      "Epoch 23/50\n",
      "47/47 [==============================] - 16s 346ms/step - loss: 0.4709 - accuracy: 0.8886\n",
      "Epoch 24/50\n",
      "47/47 [==============================] - 15s 328ms/step - loss: 0.5852 - accuracy: 0.8436\n",
      "Epoch 25/50\n",
      "47/47 [==============================] - 16s 338ms/step - loss: 0.7131 - accuracy: 0.7497\n",
      "Epoch 26/50\n",
      "47/47 [==============================] - 16s 346ms/step - loss: 0.6046 - accuracy: 0.7940\n",
      "Epoch 27/50\n",
      "47/47 [==============================] - 16s 344ms/step - loss: 0.6519 - accuracy: 0.7906\n",
      "Epoch 28/50\n",
      "47/47 [==============================] - 16s 342ms/step - loss: 0.5171 - accuracy: 0.8416\n",
      "Epoch 29/50\n",
      "47/47 [==============================] - 17s 358ms/step - loss: 0.4523 - accuracy: 0.8624\n",
      "Epoch 30/50\n",
      "47/47 [==============================] - 16s 343ms/step - loss: 0.4176 - accuracy: 0.8852\n",
      "Epoch 31/50\n",
      "47/47 [==============================] - 15s 324ms/step - loss: 0.7549 - accuracy: 0.7570\n",
      "Epoch 32/50\n",
      "47/47 [==============================] - 15s 314ms/step - loss: 0.7850 - accuracy: 0.7329\n",
      "Epoch 33/50\n",
      "47/47 [==============================] - 15s 320ms/step - loss: 0.5074 - accuracy: 0.8309\n",
      "Epoch 34/50\n",
      "47/47 [==============================] - 15s 314ms/step - loss: 0.3965 - accuracy: 0.8852\n",
      "Epoch 35/50\n",
      "47/47 [==============================] - 15s 318ms/step - loss: 0.3238 - accuracy: 0.9154\n",
      "Epoch 36/50\n",
      "47/47 [==============================] - 15s 309ms/step - loss: 0.3249 - accuracy: 0.9107\n",
      "Epoch 37/50\n",
      "47/47 [==============================] - 15s 317ms/step - loss: 0.2877 - accuracy: 0.9309\n",
      "Epoch 38/50\n",
      "47/47 [==============================] - 15s 313ms/step - loss: 0.3605 - accuracy: 0.9107\n",
      "Epoch 39/50\n",
      "47/47 [==============================] - 15s 320ms/step - loss: 0.3043 - accuracy: 0.9228\n",
      "Epoch 40/50\n",
      "47/47 [==============================] - 15s 326ms/step - loss: 0.2697 - accuracy: 0.9309\n",
      "Epoch 41/50\n",
      "47/47 [==============================] - 17s 363ms/step - loss: 0.2814 - accuracy: 0.9302\n",
      "Epoch 42/50\n",
      "47/47 [==============================] - 16s 345ms/step - loss: 0.2697 - accuracy: 0.9403\n",
      "Epoch 43/50\n",
      "47/47 [==============================] - 17s 367ms/step - loss: 0.2783 - accuracy: 0.9329\n",
      "Epoch 44/50\n",
      "47/47 [==============================] - 17s 366ms/step - loss: 0.2547 - accuracy: 0.9383\n",
      "Epoch 45/50\n",
      "47/47 [==============================] - 19s 405ms/step - loss: 0.2771 - accuracy: 0.9295\n",
      "Epoch 46/50\n",
      "47/47 [==============================] - 17s 361ms/step - loss: 0.3818 - accuracy: 0.8893\n",
      "Epoch 47/50\n",
      "47/47 [==============================] - 17s 355ms/step - loss: 0.2677 - accuracy: 0.9342\n",
      "Epoch 48/50\n",
      "47/47 [==============================] - 16s 336ms/step - loss: 0.2741 - accuracy: 0.9322\n",
      "Epoch 49/50\n",
      "47/47 [==============================] - 15s 329ms/step - loss: 0.2726 - accuracy: 0.9315\n",
      "Epoch 50/50\n",
      "47/47 [==============================] - 15s 318ms/step - loss: 0.2553 - accuracy: 0.9383\n"
     ]
    },
    {
     "data": {
      "text/plain": [
       "<keras.callbacks.History at 0x7b4e135d6080>"
      ]
     },
     "execution_count": 42,
     "metadata": {},
     "output_type": "execute_result"
    }
   ],
   "source": [
    "model = build_supervised_lstm_model()\n",
    "model.summary()\n",
    "model.fit(X_new, y_new, epochs = 50)"
   ]
  },
  {
   "cell_type": "markdown",
   "metadata": {},
   "source": [
    "Convert LSTM training redictions to categories for comparison against the ground truth."
   ]
  },
  {
   "cell_type": "code",
   "execution_count": 43,
   "metadata": {
    "execution": {
     "iopub.execute_input": "2023-06-16T10:12:00.203270Z",
     "iopub.status.busy": "2023-06-16T10:12:00.201712Z",
     "iopub.status.idle": "2023-06-16T10:12:11.082720Z",
     "shell.execute_reply": "2023-06-16T10:12:11.081645Z",
     "shell.execute_reply.started": "2023-06-16T10:12:00.203213Z"
    }
   },
   "outputs": [
    {
     "name": "stdout",
     "output_type": "stream",
     "text": [
      "47/47 [==============================] - 7s 142ms/step\n"
     ]
    }
   ],
   "source": [
    "predictions_supervised_lstm = np.argmax(model.predict(X_new), axis=1)\n",
    "categories = translate_to_category(predictions_supervised_lstm, [0, 1, 2, 3, 4])"
   ]
  },
  {
   "cell_type": "markdown",
   "metadata": {},
   "source": [
    "Predict final LSTM accuracy on the known training dataset."
   ]
  },
  {
   "cell_type": "code",
   "execution_count": 44,
   "metadata": {
    "execution": {
     "iopub.execute_input": "2023-06-16T10:12:11.085157Z",
     "iopub.status.busy": "2023-06-16T10:12:11.084369Z",
     "iopub.status.idle": "2023-06-16T10:12:11.098002Z",
     "shell.execute_reply": "2023-06-16T10:12:11.096382Z",
     "shell.execute_reply.started": "2023-06-16T10:12:11.085109Z"
    }
   },
   "outputs": [
    {
     "name": "stdout",
     "output_type": "stream",
     "text": [
      "Supervised training (LSTM) accuracy achieved on training set: 0.946979865771812\n"
     ]
    }
   ],
   "source": [
    "accuracy_lstm = accuracy_score(df_train['Category'], categories)\n",
    "print('Supervised training (LSTM) accuracy achieved on training set: ' + str(accuracy_lstm))"
   ]
  },
  {
   "cell_type": "markdown",
   "metadata": {},
   "source": [
    "Convert the test dataset to GloVe word embeddings."
   ]
  },
  {
   "cell_type": "code",
   "execution_count": null,
   "metadata": {
    "execution": {
     "iopub.execute_input": "2023-06-16T11:08:55.013316Z",
     "iopub.status.busy": "2023-06-16T11:08:55.012247Z"
    }
   },
   "outputs": [],
   "source": [
    "X = vectorize_reviews(df_test)\n",
    "X_new = np.zeros((len(df_test.index), X[0].shape[0], X[0].shape[1]))\n",
    "for i in range(0, len(df_test.index)):\n",
    "    X_new[i] = X[i]"
   ]
  },
  {
   "cell_type": "markdown",
   "metadata": {},
   "source": [
    "Predict and convert LSTM test dataset predictions to categories."
   ]
  },
  {
   "cell_type": "code",
   "execution_count": null,
   "metadata": {},
   "outputs": [],
   "source": [
    "predictions_supervised = np.argmax(model.predict(X_new), axis=1)\n",
    "categories = translate_to_category(predictions_supervised, [0, 1, 2, 3, 4])"
   ]
  },
  {
   "cell_type": "markdown",
   "metadata": {},
   "source": [
    "Finally build a submissions file from the test dataset using the LSTM model. This file scores about 0.94 as a late submission."
   ]
  },
  {
   "cell_type": "code",
   "execution_count": null,
   "metadata": {},
   "outputs": [],
   "source": [
    "df_submission = pd.DataFrame()\n",
    "df_submission['ArticleId'] = df_test['ArticleId']\n",
    "df_submission['Category'] = categories\n",
    "df_submission.to_csv('supervised_lstm_submission.csv', index=False)"
   ]
  },
  {
   "cell_type": "markdown",
   "metadata": {},
   "source": [
    "As we have seen the models are very comparable in accuracy in this setup, but I have not done an exhaustive search for best model design for the two supervised models so there is a lot of room for improvement there. \n",
    "I have not done any stemming or advanced word processing either, only basic processing to remove special characters.\n",
    "\n",
    "By further pre-processing of the texts and carefully balancing the size of the input data used to train the models (it is a balance between too little data that might result in underfitting models but where finding the optimal hyperparameters would be easier and faster and too much data fed into the models (number of words from each text or in the word dictionary) which might result in overfitting and with a slower process impeding the search for optimal hyperparameters.\n",
    "\n",
    "As we don't have the labels for the test dataset (obviously) I've submitted each submission file and hardcoded the result below."
   ]
  },
  {
   "cell_type": "code",
   "execution_count": 13,
   "metadata": {
    "execution": {
     "iopub.execute_input": "2023-06-17T06:08:38.858649Z",
     "iopub.status.busy": "2023-06-17T06:08:38.858189Z",
     "iopub.status.idle": "2023-06-17T06:08:39.148394Z",
     "shell.execute_reply": "2023-06-17T06:08:39.146937Z",
     "shell.execute_reply.started": "2023-06-17T06:08:38.858617Z"
    }
   },
   "outputs": [
    {
     "data": {
      "image/png": "[encoded data removed]",
      "text/plain": [
       "<Figure size 640x480 with 1 Axes>"
      ]
     },
     "metadata": {},
     "output_type": "display_data"
    }
   ],
   "source": [
    "accuracy_train = [accuracy, accuracy_dense, accuracy_lstm]\n",
    "\n",
    "fig, ax = plt.subplots()\n",
    "\n",
    "accuracy_labels = ['NNMF - train', 'Dense NN - train', 'LSTM - train', 'NNMF - test', 'Dense NN - test', 'LSTM - test']\n",
    "accuracies = [int(accuracy * 100), int(accuracy_dense * 100), int(accuracy_lstm * 100), 95, 98, 94]\n",
    "bar_labels = ['red', 'blue', 'orange', 'red', 'blue', 'orange']\n",
    "bar_colors = ['tab:red', 'tab:blue', 'tab:orange', 'tab:red', 'tab:blue', 'tab:orange']\n",
    "\n",
    "ax.bar(accuracy_labels, accuracies, color=bar_colors)\n",
    "\n",
    "ax.set_ylabel('Accuracy in percent')\n",
    "ax.set_title(label='Accuracy by model and dataset')\n",
    "\n",
    "plt.xticks(rotation=90)\n",
    "\n",
    "plt.show()"
   ]
  },
  {
   "cell_type": "code",
   "execution_count": null,
   "metadata": {},
   "outputs": [],
   "source": []
  }
 ],
 "metadata": {
  "kernelspec": {
   "display_name": "Python 3 (ipykernel)",
   "language": "python",
   "name": "python3"
  },
  "language_info": {
   "codemirror_mode": {
    "name": "ipython",
    "version": 3
   },
   "file_extension": ".py",
   "mimetype": "text/x-python",
   "name": "python",
   "nbconvert_exporter": "python",
   "pygments_lexer": "ipython3",
   "version": "3.9.12"
  }
 },
 "nbformat": 4,
 "nbformat_minor": 4
}
