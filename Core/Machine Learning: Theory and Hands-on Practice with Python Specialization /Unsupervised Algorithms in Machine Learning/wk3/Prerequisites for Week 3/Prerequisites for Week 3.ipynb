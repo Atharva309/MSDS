{
 "cells": [
  {
   "cell_type": "markdown",
   "id": "8a0d9296",
   "metadata": {},
   "source": [
    "https://www.coursera.org/learn/unsupervised-algorithms-in-machine-learning/resources/1uLXi"
   ]
  },
  {
   "cell_type": "markdown",
   "id": "3fa313e5",
   "metadata": {},
   "source": [
    "https://pythonnumericalmethods.berkeley.edu/notebooks/Index.html"
   ]
  },
  {
   "cell_type": "markdown",
   "id": "4d1cc655",
   "metadata": {},
   "source": [
    "\n",
    "Many of us struggle with converting sparse matrices into CSR format for faster calculations. It's a common thing, and trust me it is not expected of you to remember these at all times. So I'm sharing some extra content meant for revising, and learning how to speed up your matrix operations especially involving Sparse matrices, CSR formats and utilizing Dot Products.\n",
    "\n",
    "We can see in our Week  3 programming assignment that we need to perform all types of matrix multiplications, with some involving a dot product between two matrix vectors. If you're stuck with this or maybe unable to remember, or even not able to think how to go about it, here's a recap of stuff that would equip you with every necessary tool.\n",
    "\n",
    "Download the following guide to Week 3 covering basics, and hints:\n",
    "Reading Material\n",
    "\n",
    "1. First, start with a quick revision into terminologies by checking out:  Quick Revision\n",
    "\n",
    "2. Then, once you are there, let's deep dive into this by following these two videos:\n",
    "\n",
    "    Deep Dive 1\n",
    "\n",
    "Deep Dive 2\n",
    "\n",
    "Why we need eigenvectors ? Visualize them here\n",
    "\n",
    "    \n",
    "\n",
    "3. Now, you should be equipped on how to go about Sparse Matrices multiplication and CSE conversions. And, here is everything combined on a Netflix Recommendation System case-study on how to implement a Dot Product for prediction:  Using Dot Product in a Recommendation Engine\n",
    "\n",
    "In case you are struggling with Week 3 assignment: Read this excellent Medium Article\n",
    "\n",
    "NOTE:\n",
    "\n",
    "You can finish the Week 3 in any order, so if you're stuck on this assignment for too long,  just take a small example and print everything out, one line at a time, or circle back to this once you have finished Week 4."
   ]
  },
  {
   "cell_type": "code",
   "execution_count": null,
   "id": "eae5bfcc",
   "metadata": {},
   "outputs": [],
   "source": []
  }
 ],
 "metadata": {
  "kernelspec": {
   "display_name": "Python 3 (ipykernel)",
   "language": "python",
   "name": "python3"
  },
  "language_info": {
   "codemirror_mode": {
    "name": "ipython",
    "version": 3
   },
   "file_extension": ".py",
   "mimetype": "text/x-python",
   "name": "python",
   "nbconvert_exporter": "python",
   "pygments_lexer": "ipython3",
   "version": "3.9.12"
  }
 },
 "nbformat": 4,
 "nbformat_minor": 5
}
