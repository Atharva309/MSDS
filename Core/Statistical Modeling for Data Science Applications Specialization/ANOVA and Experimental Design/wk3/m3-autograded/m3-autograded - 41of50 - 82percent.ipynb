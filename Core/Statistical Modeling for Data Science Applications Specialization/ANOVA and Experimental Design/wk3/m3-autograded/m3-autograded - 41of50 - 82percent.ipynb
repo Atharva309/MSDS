{
 "cells": [
  {
   "cell_type": "markdown",
   "metadata": {
    "deletable": false,
    "editable": false,
    "nbgrader": {
     "cell_type": "markdown",
     "checksum": "5e70d87c0f1245874bf5565665415ed9",
     "grade": false,
     "grade_id": "cell-605dccb395ec3804",
     "locked": true,
     "schema_version": 3,
     "solution": false,
     "task": false
    }
   },
   "source": [
    "## Module 3 - Autograded"
   ]
  },
  {
   "cell_type": "markdown",
   "metadata": {
    "deletable": false,
    "editable": false,
    "nbgrader": {
     "cell_type": "markdown",
     "checksum": "11788470a976a6e6cf030cc3237ec551",
     "grade": false,
     "grade_id": "cell-4ac16cd79343be4b",
     "locked": true,
     "schema_version": 3,
     "solution": false,
     "task": false
    }
   },
   "source": [
    "### Outline:\n",
    "In this homework assignment, here are learning objectives: \n",
    "\n",
    "1. Motivate the use of two-way ANOVA through real data analysis examples.\n",
    "2. Define a two-way ANOVA model with and without interaction terms. \n",
    "3. Formulate three important research questions that can be answered using two-way ANOVA.\n",
    "4. Interpret the two-way ANOVA model, with and without interaction terms.\n",
    "5. Construct and interpret interaction plots to visually assess the importance of an interaction term.\n",
    "6. Conduct hypothesis tests to decide whether a two-way ANOVA interaction term is statistically significant.\n",
    "7. Use the two-way ANOVA and ANCOVA models to answer research questions using real data.\n",
    "\n",
    "\n",
    "General tips:\n",
    "\n",
    "1. Read the questions carefully to understand what is being asked.\n",
    "2. When you feel that your work is completed, feel free to hit the ```Validate``` button to see your results on the visible unit tests. \n",
    "3. Before submitting, we recommend restarting the kernel and running all the cells in order that they appear to make sure that there are no additional bugs in your code."
   ]
  },
  {
   "cell_type": "code",
   "execution_count": 1,
   "metadata": {
    "ExecuteTime": {
     "end_time": "2020-11-21T18:36:10.608465Z",
     "start_time": "2020-11-21T18:36:06.989Z"
    },
    "deletable": false,
    "editable": false,
    "nbgrader": {
     "cell_type": "code",
     "checksum": "c5e65309570ad57d5b55b865eafdb197",
     "grade": false,
     "grade_id": "cell-4fd8d4fe404e65f7",
     "locked": true,
     "schema_version": 3,
     "solution": false,
     "task": false
    }
   },
   "outputs": [
    {
     "name": "stderr",
     "output_type": "stream",
     "text": [
      "── \u001b[1mAttaching packages\u001b[22m ─────────────────────────────────────── tidyverse 1.3.0 ──\n",
      "\n",
      "\u001b[32m✔\u001b[39m \u001b[34mggplot2\u001b[39m 3.3.0     \u001b[32m✔\u001b[39m \u001b[34mpurrr  \u001b[39m 0.3.4\n",
      "\u001b[32m✔\u001b[39m \u001b[34mtibble \u001b[39m 3.0.1     \u001b[32m✔\u001b[39m \u001b[34mdplyr  \u001b[39m 0.8.5\n",
      "\u001b[32m✔\u001b[39m \u001b[34mtidyr  \u001b[39m 1.0.2     \u001b[32m✔\u001b[39m \u001b[34mstringr\u001b[39m 1.4.0\n",
      "\u001b[32m✔\u001b[39m \u001b[34mreadr  \u001b[39m 1.3.1     \u001b[32m✔\u001b[39m \u001b[34mforcats\u001b[39m 0.5.0\n",
      "\n",
      "── \u001b[1mConflicts\u001b[22m ────────────────────────────────────────── tidyverse_conflicts() ──\n",
      "\u001b[31m✖\u001b[39m \u001b[34mdplyr\u001b[39m::\u001b[32mfilter()\u001b[39m  masks \u001b[34mstats\u001b[39m::filter()\n",
      "\u001b[31m✖\u001b[39m \u001b[34mpurrr\u001b[39m::\u001b[32mis_null()\u001b[39m masks \u001b[34mtestthat\u001b[39m::is_null()\n",
      "\u001b[31m✖\u001b[39m \u001b[34mdplyr\u001b[39m::\u001b[32mlag()\u001b[39m     masks \u001b[34mstats\u001b[39m::lag()\n",
      "\u001b[31m✖\u001b[39m \u001b[34mdplyr\u001b[39m::\u001b[32mmatches()\u001b[39m masks \u001b[34mtidyr\u001b[39m::matches(), \u001b[34mtestthat\u001b[39m::matches()\n",
      "\n"
     ]
    }
   ],
   "source": [
    "# Run this cell to import the required packages for this assignment.\n",
    "library(testthat)\n",
    "library(tidyverse)"
   ]
  },
  {
   "cell_type": "markdown",
   "metadata": {
    "deletable": false,
    "editable": false,
    "nbgrader": {
     "cell_type": "markdown",
     "checksum": "8c2ea58a7d27ead8426aad58dd60bfbe",
     "grade": false,
     "grade_id": "cell-5220cf790e426355",
     "locked": true,
     "schema_version": 3,
     "solution": false,
     "task": false
    }
   },
   "source": [
    "### Problem #1: Does stretching protocol impact vertical jump height? (50 Points)\n",
    "\n",
    "The experiment used in this problem is a modified version of the one conducted in the 2013 paper [\"Acute Effects of Warm-Up Stretch\n",
    "Protocols on Balance, Vertical Jump Height and Range of Motion in Dancers\"](https://www.ncbi.nlm.nih.gov/pubmed/23498355)\n",
    "\n",
    "(Citation: N. Morrin and E. Redding (2013). \"Acute Effects of Warm-Up Stretch\n",
    "Protocols on Balnce, Vertical Jump Height and Range of Motion in Dancers,\"\n",
    "Journal of Dance Medicine & Science, Vol. 17, #1, pp. 34-40)\n",
    "\n",
    "The research question being asked in this experiment is: Does stretching protocol impact vertical jump height? The variables measured include:\n",
    "\n",
    "1. dancer = dancer (1-10)\n",
    "\n",
    "2. stretch = stretch protocol (1=Static Stretching, 2=Dynamic Stretching, 3=Combination Stretching, 4=No Stretch)\n",
    "\n",
    "3. condition = the physical condition of the dancer (1 = less conditioned, 2 = more conditioned)\n",
    "\n",
    "4. height = vertical jump height (cm) \n",
    "\n",
    "Dancers were first sorted into a condition group, based on how much dance training that they had recently done. Then, stretching routines were randomly assigned to dancers within each condition group. In this case, condition served as the blocking variable, and stretch as the treatment variable. Vertical jump height is the response. \n",
    "\n",
    "Here's the data..."
   ]
  },
  {
   "cell_type": "code",
   "execution_count": 2,
   "metadata": {
    "ExecuteTime": {
     "end_time": "2020-11-21T18:36:10.689455Z",
     "start_time": "2020-11-21T18:36:09.242Z"
    },
    "deletable": false,
    "editable": false,
    "nbgrader": {
     "cell_type": "code",
     "checksum": "d24c850285e132b97abe7c669071ccc0",
     "grade": false,
     "grade_id": "cell-d7169e3ded935777",
     "locked": true,
     "schema_version": 3,
     "solution": false,
     "task": false
    }
   },
   "outputs": [
    {
     "data": {
      "text/html": [
       "<table>\n",
       "<caption>A data.frame: 6 × 4</caption>\n",
       "<thead>\n",
       "\t<tr><th></th><th scope=col>dancer</th><th scope=col>stretch</th><th scope=col>condition</th><th scope=col>height</th></tr>\n",
       "\t<tr><th></th><th scope=col>&lt;fct&gt;</th><th scope=col>&lt;fct&gt;</th><th scope=col>&lt;fct&gt;</th><th scope=col>&lt;dbl&gt;</th></tr>\n",
       "</thead>\n",
       "<tbody>\n",
       "\t<tr><th scope=row>1</th><td>1</td><td>1</td><td>1</td><td>32.76</td></tr>\n",
       "\t<tr><th scope=row>2</th><td>2</td><td>1</td><td>1</td><td>32.67</td></tr>\n",
       "\t<tr><th scope=row>3</th><td>3</td><td>1</td><td>1</td><td>23.04</td></tr>\n",
       "\t<tr><th scope=row>4</th><td>4</td><td>1</td><td>1</td><td>45.63</td></tr>\n",
       "\t<tr><th scope=row>5</th><td>5</td><td>1</td><td>1</td><td>29.29</td></tr>\n",
       "\t<tr><th scope=row>6</th><td>6</td><td>1</td><td>2</td><td>28.90</td></tr>\n",
       "</tbody>\n",
       "</table>\n"
      ],
      "text/latex": [
       "A data.frame: 6 × 4\n",
       "\\begin{tabular}{r|llll}\n",
       "  & dancer & stretch & condition & height\\\\\n",
       "  & <fct> & <fct> & <fct> & <dbl>\\\\\n",
       "\\hline\n",
       "\t1 & 1 & 1 & 1 & 32.76\\\\\n",
       "\t2 & 2 & 1 & 1 & 32.67\\\\\n",
       "\t3 & 3 & 1 & 1 & 23.04\\\\\n",
       "\t4 & 4 & 1 & 1 & 45.63\\\\\n",
       "\t5 & 5 & 1 & 1 & 29.29\\\\\n",
       "\t6 & 6 & 1 & 2 & 28.90\\\\\n",
       "\\end{tabular}\n"
      ],
      "text/markdown": [
       "\n",
       "A data.frame: 6 × 4\n",
       "\n",
       "| <!--/--> | dancer &lt;fct&gt; | stretch &lt;fct&gt; | condition &lt;fct&gt; | height &lt;dbl&gt; |\n",
       "|---|---|---|---|---|\n",
       "| 1 | 1 | 1 | 1 | 32.76 |\n",
       "| 2 | 2 | 1 | 1 | 32.67 |\n",
       "| 3 | 3 | 1 | 1 | 23.04 |\n",
       "| 4 | 4 | 1 | 1 | 45.63 |\n",
       "| 5 | 5 | 1 | 1 | 29.29 |\n",
       "| 6 | 6 | 1 | 2 | 28.90 |\n",
       "\n"
      ],
      "text/plain": [
       "  dancer stretch condition height\n",
       "1 1      1       1         32.76 \n",
       "2 2      1       1         32.67 \n",
       "3 3      1       1         23.04 \n",
       "4 4      1       1         45.63 \n",
       "5 5      1       1         29.29 \n",
       "6 6      1       2         28.90 "
      ]
     },
     "metadata": {},
     "output_type": "display_data"
    }
   ],
   "source": [
    "dance = read.table(\"dancer_warmup.dat\", sep = \"\")\n",
    "names(dance) = c(\"stretch\", \"dancer\", \"height\")\n",
    "dance = dance %>%\n",
    "    mutate(condition = ifelse(dancer == 1 | dancer == 2 | dancer == 3 | dancer == 4 |\n",
    "                              dancer == 5, 1,2))%>%\n",
    "    select(dancer, stretch, condition, height) %>%\n",
    "    mutate(stretch = as.factor(stretch), dancer = as.factor(dancer), condition = as.factor(condition))\n",
    "\n",
    "head(dance)"
   ]
  },
  {
   "cell_type": "markdown",
   "metadata": {
    "deletable": false,
    "editable": false,
    "nbgrader": {
     "cell_type": "markdown",
     "checksum": "a5aee720509fc9deb1175b834bfdff8c",
     "grade": false,
     "grade_id": "cell-b6f9378b7be202e4",
     "locked": true,
     "schema_version": 3,
     "solution": false,
     "task": false
    }
   },
   "source": [
    "#### 1. (a) Produce an interaction plot to detect whether there are interactions between ${\\tt stretch}$ and ${\\tt condition}$. Specifically, store a ${\\tt ggplot}$ object called ${\\tt p1}$ looking at the relationship between ${\\tt stretch}$ and ${\\tt height}$ grouping on ${\\tt condition}$."
   ]
  },
  {
   "cell_type": "code",
   "execution_count": 3,
   "metadata": {
    "ExecuteTime": {
     "end_time": "2020-09-18T13:11:00.587119Z",
     "start_time": "2020-09-18T13:10:54.702Z"
    },
    "deletable": false,
    "nbgrader": {
     "cell_type": "code",
     "checksum": "9aa9b049e97221bcc2bce67e7d11b3a7",
     "grade": false,
     "grade_id": "cell-1b315382b4069cce",
     "locked": false,
     "schema_version": 3,
     "solution": true,
     "task": false
    }
   },
   "outputs": [
    {
     "data": {
      "image/png": "[encoded data removed]",
      "text/plain": [
       "plot without title"
      ]
     },
     "metadata": {
      "image/png": {
       "height": 420,
       "width": 420
      },
      "text/plain": {
       "height": 420,
       "width": 420
      }
     },
     "output_type": "display_data"
    }
   ],
   "source": [
    "p1 = NULL\n",
    "\n",
    "# your code here\n",
    "library(ggplot2)\n",
    "\n",
    "p1 <- ggplot(dance, aes(x = stretch, y = height, color = condition)) +\n",
    "  geom_point() +\n",
    "  geom_line() +\n",
    "  labs(x = \"Stretch Protocol\", y = \"Vertical Jump Height\", color = \"Condition\") +\n",
    "  ggtitle(\"Interaction Plot: Stretch Protocol and Condition on Vertical Jump Height\") +\n",
    "  theme_minimal()\n",
    "\n",
    "p1"
   ]
  },
  {
   "cell_type": "code",
   "execution_count": 4,
   "metadata": {
    "ExecuteTime": {
     "end_time": "2020-09-18T13:11:00.685473Z",
     "start_time": "2020-09-18T13:10:54.706Z"
    },
    "deletable": false,
    "editable": false,
    "nbgrader": {
     "cell_type": "code",
     "checksum": "cb5e2eb57a791b85ae11f4e3652ad1a3",
     "grade": true,
     "grade_id": "cell-c96c8d6ec1276342",
     "locked": true,
     "points": 9,
     "schema_version": 3,
     "solution": false,
     "task": false
    }
   },
   "outputs": [],
   "source": [
    "# Test Cell\n",
    "# This cell has hidden test cases that will run after submission."
   ]
  },
  {
   "cell_type": "markdown",
   "metadata": {
    "deletable": false,
    "editable": false,
    "nbgrader": {
     "cell_type": "markdown",
     "checksum": "165d1c0e2ababeeeac1c484eee69f5d5",
     "grade": false,
     "grade_id": "cell-da61117619ea3947",
     "locked": true,
     "schema_version": 3,
     "solution": false,
     "task": false
    }
   },
   "source": [
    "#### 1. (b) Produce an interaction plot to detect whether there are interactions between ${\\tt stretch}$ and ${\\tt condition}$. Specifically, store a ${\\tt ggplot}$ object called ${\\tt p2}$ looking at the relationship between ${\\tt condition}$ and ${\\tt height}$ grouping on ${\\tt stretch}$."
   ]
  },
  {
   "cell_type": "code",
   "execution_count": 5,
   "metadata": {
    "ExecuteTime": {
     "end_time": "2020-09-18T13:11:01.172755Z",
     "start_time": "2020-09-18T13:10:54.709Z"
    },
    "deletable": false,
    "nbgrader": {
     "cell_type": "code",
     "checksum": "d0a568b6b2cd1fea863cf27367766fc6",
     "grade": false,
     "grade_id": "cell-59e15c356a30d836",
     "locked": false,
     "schema_version": 3,
     "solution": true,
     "task": false
    }
   },
   "outputs": [
    {
     "data": {
      "image/png": "[encoded data removed]",
      "text/plain": [
       "plot without title"
      ]
     },
     "metadata": {
      "image/png": {
       "height": 420,
       "width": 420
      },
      "text/plain": {
       "height": 420,
       "width": 420
      }
     },
     "output_type": "display_data"
    }
   ],
   "source": [
    "p2 = NULL\n",
    "\n",
    "# your code here\n",
    "\n",
    "library(ggplot2)\n",
    "\n",
    "p2 <- ggplot(dance, aes(x = condition, y = height, color = stretch)) +\n",
    "  geom_point() +\n",
    "  geom_line() +\n",
    "  labs(x = \"Condition\", y = \"Vertical Jump Height\", color = \"Stretch Protocol\") +\n",
    "  ggtitle(\"Interaction Plot: Condition and Stretch Protocol on Vertical Jump Height\") +\n",
    "  theme_minimal()\n",
    "\n",
    "p2\n"
   ]
  },
  {
   "cell_type": "code",
   "execution_count": 6,
   "metadata": {
    "ExecuteTime": {
     "end_time": "2020-09-18T13:11:01.231316Z",
     "start_time": "2020-09-18T13:10:54.711Z"
    },
    "deletable": false,
    "editable": false,
    "nbgrader": {
     "cell_type": "code",
     "checksum": "34199d2f3353bd4c771b874b2d03b7e8",
     "grade": true,
     "grade_id": "cell-91378c299b60cd8d",
     "locked": true,
     "points": 9,
     "schema_version": 3,
     "solution": false,
     "task": false
    }
   },
   "outputs": [],
   "source": [
    "# Test Cell\n",
    "# This cell has hidden test cases that will run after submission."
   ]
  },
  {
   "cell_type": "markdown",
   "metadata": {
    "deletable": false,
    "editable": false,
    "nbgrader": {
     "cell_type": "markdown",
     "checksum": "2c57dfceff1ed8f8647668d3ed3e2aaf",
     "grade": false,
     "grade_id": "cell-99693a74edebbc29",
     "locked": true,
     "schema_version": 3,
     "solution": false,
     "task": false
    }
   },
   "source": [
    "#### 1. (c) Create two linear models:\n",
    "- A model, stored as ${\\tt rcbd}\\_{\\tt int}$, that uses ${\\tt stretch}$, ${\\tt condition}$, and an interaction term to predict jump height.\n",
    "- A model, stored as ${\\tt rcbd}$, that uses ${\\tt stretch}$, ${\\tt condition}$, and ***NO*** interaction term to predict jump height."
   ]
  },
  {
   "cell_type": "code",
   "execution_count": 7,
   "metadata": {
    "ExecuteTime": {
     "end_time": "2020-09-18T13:11:01.331599Z",
     "start_time": "2020-09-18T13:10:54.716Z"
    },
    "deletable": false,
    "nbgrader": {
     "cell_type": "code",
     "checksum": "d9a1565793b700adfc25ff25dc5f942e",
     "grade": false,
     "grade_id": "cell-7fa7feaf9a34af7a",
     "locked": false,
     "schema_version": 3,
     "solution": true,
     "task": false
    }
   },
   "outputs": [],
   "source": [
    "rcbd_int = NULL\n",
    "rcbd = NULL\n",
    "\n",
    "# your code here\n",
    "rcbd_int <- lm(height ~ stretch * condition, data = dance)\n",
    "rcbd <- lm(height ~ stretch + condition, data = dance)\n",
    "\n"
   ]
  },
  {
   "cell_type": "code",
   "execution_count": 8,
   "metadata": {
    "ExecuteTime": {
     "end_time": "2020-09-18T13:11:01.359546Z",
     "start_time": "2020-09-18T13:10:54.718Z"
    },
    "deletable": false,
    "editable": false,
    "nbgrader": {
     "cell_type": "code",
     "checksum": "998e34d2879322724161f5fb3f6f8fcd",
     "grade": true,
     "grade_id": "cell-48c15a16f5c62649",
     "locked": true,
     "points": 15,
     "schema_version": 3,
     "solution": false,
     "task": false
    }
   },
   "outputs": [
    {
     "name": "stdout",
     "output_type": "stream",
     "text": [
      "[1] \"Two linear models: PASS\"\n",
      "[1] \"Reminder: make sure that you have the correct predictors/response!\"\n"
     ]
    }
   ],
   "source": [
    "# Test Cell\n",
    "if(test_that('checking 2 models: ',{\n",
    "expect_is(rcbd_int,\"lm\")\n",
    "expect_is(rcbd,\"lm\")})){\n",
    "    print('Two linear models: PASS')\n",
    "    print('Reminder: make sure that you have the correct predictors/response!')\n",
    "}\n",
    "# This cell has hidden test cases that will run after submission."
   ]
  },
  {
   "cell_type": "markdown",
   "metadata": {
    "deletable": false,
    "editable": false,
    "nbgrader": {
     "cell_type": "markdown",
     "checksum": "d8bf5040f141ba524a1e3919bd5827cd",
     "grade": false,
     "grade_id": "cell-61941cd295ebbc3c",
     "locked": true,
     "schema_version": 3,
     "solution": false,
     "task": false
    }
   },
   "source": [
    "#### 1. (d) Run an F-test between ${\\tt rcbd}\\_{\\tt int}$ and ${\\tt rcbd}$ to determine if the interaction term is statistically significant. Store the p-value from the F-test in the object ${\\tt rcbd}\\_{\\tt ftest}\\_{\\tt pvalue}$."
   ]
  },
  {
   "cell_type": "code",
   "execution_count": 9,
   "metadata": {
    "ExecuteTime": {
     "end_time": "2020-09-18T13:11:01.382463Z",
     "start_time": "2020-09-18T13:10:54.721Z"
    },
    "deletable": false,
    "nbgrader": {
     "cell_type": "code",
     "checksum": "04b4bebe9952f60c23bba1858737657b",
     "grade": false,
     "grade_id": "cell-3d70e611bbd8b31a",
     "locked": false,
     "schema_version": 3,
     "solution": true,
     "task": false
    }
   },
   "outputs": [],
   "source": [
    "rcbd_ftest_pvalue = NULL\n",
    "\n",
    "# your code here\n",
    "rcbd_ftest <- anova(rcbd_int, rcbd)\n",
    "rcbd_ftest_pvalue <- rcbd_ftest$`Pr(>F)`[2]\n"
   ]
  },
  {
   "cell_type": "code",
   "execution_count": 10,
   "metadata": {
    "ExecuteTime": {
     "end_time": "2020-09-18T13:11:01.405930Z",
     "start_time": "2020-09-18T13:10:54.724Z"
    },
    "deletable": false,
    "editable": false,
    "nbgrader": {
     "cell_type": "code",
     "checksum": "2a86ae4efa9ab6c3ff442de0e3ed77fa",
     "grade": true,
     "grade_id": "cell-91591d3b8dd04782",
     "locked": true,
     "points": 8,
     "schema_version": 3,
     "solution": false,
     "task": false
    }
   },
   "outputs": [],
   "source": [
    "# Test Cell\n",
    "# This cell has hidden test cases that will run after submission."
   ]
  },
  {
   "cell_type": "markdown",
   "metadata": {
    "deletable": false,
    "editable": false,
    "nbgrader": {
     "cell_type": "markdown",
     "checksum": "1c68c95d7d629f215bef96e9e8932272",
     "grade": false,
     "grade_id": "cell-b51d4217d95b5170",
     "locked": true,
     "schema_version": 3,
     "solution": false,
     "task": false
    }
   },
   "source": [
    "#### 1. (e) Run a full F-test on the better model (determined by 1.(d)) in order to decide if there is a statistically significant difference in mean vertical jump height across stretching routines. Store the p-value of the ${\\tt stretch}$  factor from the F-test in the object ${\\tt stretch}\\_{\\tt ftest}\\_{\\tt pvalue}$."
   ]
  },
  {
   "cell_type": "code",
   "execution_count": 11,
   "metadata": {
    "ExecuteTime": {
     "end_time": "2020-09-18T13:11:01.427225Z",
     "start_time": "2020-09-18T13:10:54.726Z"
    },
    "deletable": false,
    "nbgrader": {
     "cell_type": "code",
     "checksum": "d16fdb94884aa35181fce51dcf52c393",
     "grade": false,
     "grade_id": "cell-b349302f56dc7821",
     "locked": false,
     "schema_version": 3,
     "solution": true,
     "task": false
    }
   },
   "outputs": [],
   "source": [
    "stretch_ftest_pvalue = NULL\n",
    "\n",
    "# your code here\n",
    "null_model <- lm(height ~ 1, data = dance)\n",
    "stretch_ftest <- anova(rcbd_int, null_model)\n",
    "stretch_ftest_pvalue <- stretch_ftest$`Pr(>F)`[2]\n"
   ]
  },
  {
   "cell_type": "code",
   "execution_count": 12,
   "metadata": {
    "ExecuteTime": {
     "end_time": "2020-09-18T13:11:01.447147Z",
     "start_time": "2020-09-18T13:10:58.188Z"
    },
    "deletable": false,
    "editable": false,
    "nbgrader": {
     "cell_type": "code",
     "checksum": "19f853038db68e3672b7b7ff671db917",
     "grade": true,
     "grade_id": "cell-d7001670a2b4eb9e",
     "locked": true,
     "points": 9,
     "schema_version": 3,
     "solution": false,
     "task": false
    }
   },
   "outputs": [],
   "source": [
    "# Test Cell\n",
    "# This cell has hidden test cases that will run after submission."
   ]
  },
  {
   "cell_type": "code",
   "execution_count": null,
   "metadata": {},
   "outputs": [],
   "source": []
  }
 ],
 "metadata": {
  "kernelspec": {
   "display_name": "R",
   "language": "R",
   "name": "ir"
  },
  "language_info": {
   "codemirror_mode": "r",
   "file_extension": ".r",
   "mimetype": "text/x-r-source",
   "name": "R",
   "pygments_lexer": "r",
   "version": "4.2.1"
  }
 },
 "nbformat": 4,
 "nbformat_minor": 4
}
