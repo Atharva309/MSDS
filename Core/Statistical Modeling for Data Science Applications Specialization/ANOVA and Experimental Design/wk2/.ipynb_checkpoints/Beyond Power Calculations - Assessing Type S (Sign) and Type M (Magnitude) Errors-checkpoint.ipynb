{
 "cells": [
  {
   "cell_type": "markdown",
   "id": "a1089a9f",
   "metadata": {},
   "source": [
    "Optional: Beyond Power Calculations: Assessing Type S (Sign) and Type M (Magnitude) Errors\n",
    "\n",
    "In this lesson, we've emphasized the importance of type II errors and statistical power in hypothesis testing. However, some have argued that power analyses are flawed, and other measures should be used. This article is one such argument.\n",
    "\n",
    "Abstract: Statistical power analysis provides the conventional approach to assess error rates when designing a research study. However, power analysis is flawed in that a narrow emphasis on statistical significance is placed as the primary focus of study design. In noisy, small-sample settings, statistically significant results can often be misleading. To help researchers address this problem in the context of their own studies, we recommend design calculations in which (a) the probability of an estimate being in the wrong direction (Type S [sign] error) and (b) the factor by which the magnitude of an effect might be overestimated (Type M [magnitude] error or exaggeration ratio) are estimated. We illustrate with examples from recent published research and discuss the largest challenge in a design calculation: coming up with reasonable estimates of plausible effect sizes based on external information."
   ]
  }
 ],
 "metadata": {
  "kernelspec": {
   "display_name": "Python 3 (ipykernel)",
   "language": "python",
   "name": "python3"
  },
  "language_info": {
   "codemirror_mode": {
    "name": "ipython",
    "version": 3
   },
   "file_extension": ".py",
   "mimetype": "text/x-python",
   "name": "python",
   "nbconvert_exporter": "python",
   "pygments_lexer": "ipython3",
   "version": "3.9.12"
  }
 },
 "nbformat": 4,
 "nbformat_minor": 5
}
