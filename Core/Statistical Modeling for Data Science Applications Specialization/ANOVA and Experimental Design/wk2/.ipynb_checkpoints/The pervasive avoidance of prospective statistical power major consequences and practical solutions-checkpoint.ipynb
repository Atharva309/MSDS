{
 "cells": [
  {
   "cell_type": "markdown",
   "id": "393e5ba2",
   "metadata": {},
   "source": [
    "Patrizio E. Tressoldi and David Giofré: \"The pervasive avoidance of prospective statistical power: major consequences and practical solutions\"\n",
    "\n",
    "In this lesson, we've emphasized the importance of prospective power analyses. This paper underscores their importance.\n",
    "\n",
    "Abstract: The estimation of the prospective statistical power (PSP) is mandatory when using a classical Neyman-Pearson statistical method that together with the one by Fisher, represents one of the pillars of the so-called frequentist statistical approach (see Perezgonzalez, 2015, for a historical review and a tutorial). At present the Null Hypothesis Significance Testing (NHST) represents the most used statistical approach in many research fields, from psychology to medicine, from neuroscience to ecology. Unfortunately, in the course of the history of their application, these two methods have been mixed adopting the Fisher approach for hypotheses or model comparisons and their differences ignored.\n",
    "\n",
    "https://www.ncbi.nlm.nih.gov/pmc/articles/PMC4446541/"
   ]
  }
 ],
 "metadata": {
  "kernelspec": {
   "display_name": "Python 3 (ipykernel)",
   "language": "python",
   "name": "python3"
  },
  "language_info": {
   "codemirror_mode": {
    "name": "ipython",
    "version": 3
   },
   "file_extension": ".py",
   "mimetype": "text/x-python",
   "name": "python",
   "nbconvert_exporter": "python",
   "pygments_lexer": "ipython3",
   "version": "3.9.12"
  }
 },
 "nbformat": 4,
 "nbformat_minor": 5
}
