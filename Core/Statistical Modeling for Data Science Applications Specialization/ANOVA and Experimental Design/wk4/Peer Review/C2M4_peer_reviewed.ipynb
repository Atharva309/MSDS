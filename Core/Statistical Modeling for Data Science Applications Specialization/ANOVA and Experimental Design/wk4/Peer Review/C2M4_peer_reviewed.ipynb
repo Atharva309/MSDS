{
 "cells": [
  {
   "cell_type": "markdown",
   "metadata": {},
   "source": [
    "# C2M4: Peer Reviewed Assignment"
   ]
  },
  {
   "cell_type": "markdown",
   "metadata": {},
   "source": [
    "### Outline:\n",
    "The objectives for this assignment:\n",
    "\n",
    "1. Get a better understanding of Experimental design patterns.\n",
    "2. Prove some of the background intuition in blocking and interblock interactions.\n",
    "3. Understand how and when to apply different model strucutres for different experimental designs.\n",
    "\n",
    "General tips:\n",
    "\n",
    "1. Read the questions carefully to understand what is being asked.\n",
    "2. This work will be reviewed by another human, so make sure that you are clear and concise in what your explanations and answers."
   ]
  },
  {
   "cell_type": "markdown",
   "metadata": {},
   "source": [
    "# Problem 1: Experimental Design\n",
    "\n",
    "This problem is to get you thinking about how experiments are designed and how data is collected, because those influence what models we end up using."
   ]
  },
  {
   "cell_type": "markdown",
   "metadata": {},
   "source": [
    "### 1. (a)\n",
    "\n",
    "In your own words, define experimental design. Describe some negative effects of making an incorrect experimental design decision."
   ]
  },
  {
   "cell_type": "markdown",
   "metadata": {},
   "source": [
    "An experimental design refers to a meticulously planned research approach that enables researchers to maintain a level of control over a specific variable being manipulated, such as administering a medication, while simultaneously observing the subsequent changes in another variable, such as a measure of overall well-being. This stands in contrast to observational studies, where researchers lack the ability to control the application of treatments to the subjects within their sample. Instead, they gather and analyze data without introducing any alterations to the existing conditions.\n",
    "\n",
    "The significance of proper experimental design is highlighted by the potential consequences of an erroneous approach. Mistakes in designing experiments can lead to inaccurate conclusions regarding the connections between the manipulated variable (treatment) and the variable being observed (response). This holds particular importance because the primary objective of experimental designs is to comprehend causal relationships."
   ]
  },
  {
   "cell_type": "markdown",
   "metadata": {},
   "source": [
    "### 1. (b)\n",
    "\n",
    "In your own words, describe the difference between an experimental unit and a treatment unit. Why does this distinction matter?"
   ]
  },
  {
   "cell_type": "markdown",
   "metadata": {},
   "source": [
    "An experimental unit denotes the subject or entity to which a specific treatment is administered. When treatments are assigned independently to multiple experimental units, this process is referred to as replication.\n",
    "\n",
    "It's crucial to distinguish between an experimental unit and a sampling unit. The sampling unit is the entity on which the resulting response is measured.\n",
    "\n",
    "To illustrate this distinction, consider the following scenario:\n",
    "Imagine Company X conducts an experiment to compare the effects of four distinct advertising campaigns aimed at improving click rates. They choose four different social media platforms to host these campaigns, with each campaign shown to 1000 internet users. The researchers randomly assign each advertising campaign to one of the four social media platforms.\n",
    "\n",
    "In this case, the treatment pertains to the advertising campaigns. However, identifying the experimental units is essential. Contrary to what might be assumed, the experimental units are not the users themselves. Instead, they are the social media platforms that receive the treatments. The users, on the other hand, become the sampling units, as they are the entities from which data is collected.\n",
    "\n",
    "While this distinction might appear insignificant, it holds substantial importance. For instance, if one were to incorrectly assume that the experimental units were the users, it would lead to a mistaken belief in having numerous replications of each advertising campaign. In reality, true replication is absent because there are only four distinct experimental units (social media platforms)."
   ]
  },
  {
   "cell_type": "markdown",
   "metadata": {},
   "source": [
    "# Problem 2: Proving the Intuition\n",
    "\n",
    "Show that, for the randomized complete block design: $$SS_{total} = SS_{treat} + SS_{block} + SS_{R}$$"
   ]
  },
  {
   "cell_type": "markdown",
   "metadata": {},
   "source": [
    "\\begin{align*}\n",
    "\\text{TSST} &= \\sum_{i=1}^{t} \\sum_{j=1}^{r} (Y_{i,j} - \\overline{Y})^2 \\\\\n",
    "&= \\sum_{i=1}^{t} \\sum_{j=1}^{r} (Y_{i,j} + \\overline{Y}_{i\\cdot} - \\overline{Y}_{i\\cdot} + \\overline{Y}_{\\cdot j} - \\overline{Y}_{\\cdot j} - \\overline{Y}_{\\cdot\\cdot} + \\overline{Y}_{\\cdot\\cdot} - \\overline{Y}_{\\cdot\\cdot})^2 \\\\\n",
    "&= \\sum_{i=1}^{t} \\sum_{j=1}^{r} \\left[ (Y_{i,j} - \\overline{Y}_{i\\cdot} - \\overline{Y}_{\\cdot j} + \\overline{Y}_{\\cdot\\cdot}) + (\\overline{Y}_{\\cdot j} - \\overline{Y}_{\\cdot\\cdot}) + (\\overline{Y}_{i\\cdot} - \\overline{Y}_{\\cdot\\cdot}) \\right]^2 \\\\\n",
    "&\\quad + t + r \\sum_{i=1}^{t} \\sum_{j=1}^{r} (Y_{i,j} - \\overline{Y}_{i\\cdot} - \\overline{Y}_{\\cdot j} + \\overline{Y}_{\\cdot\\cdot})^2 + r \\sum_{j=1}^{r} (\\overline{Y}_{\\cdot j} - \\overline{Y}_{\\cdot\\cdot})^2 + t \\sum_{i=1}^{t} (\\overline{Y}_{i\\cdot} - \\overline{Y}_{\\cdot\\cdot})^2 \\\\\n",
    "&= \\ldots = SSR + SS\\text{block} + SS\\text{treat} \\\\\n",
    "= 0\n",
    "\\end{align*}\n"
   ]
  },
  {
   "cell_type": "markdown",
   "metadata": {},
   "source": [
    "# Problem 3: Interblock Interactions\n",
    "\n",
    "Describe why, in a randomized complete block design (RCBD), it is not possible to test whether interactions exist between the treatment and blocks."
   ]
  },
  {
   "cell_type": "markdown",
   "metadata": {},
   "source": [
    "The RCBD model is $$Y_{i,j} = \\mu + \\tau_i + \\beta_j + \\varepsilon_{i,j}$$\n",
    "\n",
    "\n",
    "Incorporating an interaction term would necessitate the estimation of a parameter for each interaction that occurs between the ith treatment and the jth block. This would lead to the requirement of having n = tr parameters, where n represents the number of data points. Consequently, this scenario would lack sufficient data for accurately estimating standard errors or conducting hypothesis tests."
   ]
  },
  {
   "cell_type": "markdown",
   "metadata": {},
   "source": [
    "# Problem 4: 99 Designs for 99 Problems\n",
    "\n",
    "For each of the following design patterns, give an example (that wasn't given in the videos) for an experiment that would best lend itself to the specified design pattern. Make sure to explain why the specified design is more applicable for your experiment than the other design patterns.\n",
    "\n",
    "1. Complete Randomized Design (CRD)\n",
    "2. Complete Randomized Block Design (CRBD)\n",
    "3. Factorial Design"
   ]
  },
  {
   "cell_type": "markdown",
   "metadata": {},
   "source": [
    "\n",
    "\n",
    "    Complete Randomized Design (CRD) Evaluating a new medicine within the same group of age, randomely select half of the examinee within same age group to test new medicine. In this case, the age of group such as 20-30 old is already categorized as same group and compare effectiveness with/without new medecine.\n",
    "\n",
    "    Complete Randomized Block Design (CRBD) Evluaing a new medicine by group of age, administer a new medicine to each category of age groups. This helps to obtaine evidence overall ages.\n",
    "\n",
    "    Factorial Design Testing cokking time and temperatur for roast beef. Three levels of temperature(150C, 200C, 250C) and five levels of cooking time(1 hour, 2 hour, 3 hour, 4 hour). The taste of the roast beef highly depends on temperature and cooking time. The factorial design helps chef to investigate the factors to make a good roast beef.\n",
    "\n",
    "---\n",
    "\n",
    "CRD is sitable when every experimental unit has the same probability of receiving any treatment. For example, in a plant growing experiment, we would like to know a single factor (light intensity) with 5 levels: 150 lux, 300 lux, 500 lux, 800 lux, 1000 lux (5 treatment units), 3 replications, and a total of 15 potted plants (15 experiment units).\n",
    "\n",
    "RCBD also has one single factor but it is different from CRD. In RCBD's block design, general blocks are formed such that the experimental units are expected to be homogeneous within a block and heterogeneous between blocks. For example, in a plant growing experiment, we would like to know a single factor (light intensity) with 5 levels: 150 lux, 300 lux, 500 lux, 800 lux, 1000 lux (5 treatment units), with a block size of 5 (exactly the same as the number of treatment units). Assume we have 3 blocks, there would be a total of 15 potted plants (15 experiment units).\n",
    "\n",
    "Factorial design consists of two or more factors. For example, in a plant growing experiment, we would like to know two factors: light intensity and watering volume each with 5 levels (5∗5=25\n",
    "treatment units) , there should be a total of 25 potted plants (25 experiment units). \n",
    "\n",
    "--- \n",
    "\n",
    "\n",
    "\n",
    "    Lets say we have different packs of breakfast.(e.g. pack A, Pack B and Pack C). Each pack includes different combinaton of foods. We want to know how effective and energetic people are at their work throught the day. We randomly assign each expermintal unit a breakfast pack and we ask them to report how effective they were at the end of the day as a response variable from 0 to 10. It is to be noted the subject are given the same lunch and dinner and no other food.\n",
    "\n",
    "    Let say we would like to know how the users are satisfied with two different software version candidates before one of two will be launched officially in future. Users use two different computing devices to run the software. One is personal computer(laptop or desktop computer) and the other is smartphone. The blocking variable here is device type. The treatment variable is the version A and Version B of the software. The user satisfaction is our response variable that takes values from 0 to 10.\n",
    "\n",
    "    The example given in the previous section can be expanded to be in Factorial Design form. In particular, other treatment variable can be added while device type is now a treatment variable. Additionally, the age range of user could be added with (young, average, senior) levels. The other treatment could be gender of user.</b>\n",
    "\n",
    "\n",
    "---\n",
    "\n"
   ]
  },
  {
   "cell_type": "code",
   "execution_count": null,
   "metadata": {},
   "outputs": [],
   "source": []
  }
 ],
 "metadata": {
  "kernelspec": {
   "display_name": "R",
   "language": "R",
   "name": "ir"
  },
  "language_info": {
   "codemirror_mode": "r",
   "file_extension": ".r",
   "mimetype": "text/x-r-source",
   "name": "R",
   "pygments_lexer": "r",
   "version": "4.3.0"
  }
 },
 "nbformat": 4,
 "nbformat_minor": 4
}
