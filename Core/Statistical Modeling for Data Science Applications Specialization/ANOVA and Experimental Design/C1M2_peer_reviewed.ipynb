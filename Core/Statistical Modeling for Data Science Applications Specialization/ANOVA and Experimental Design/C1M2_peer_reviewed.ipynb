{
 "cells": [
  {
   "cell_type": "markdown",
   "metadata": {},
   "source": [
    "# Module 2: Peer Reviewed Assignment"
   ]
  },
  {
   "cell_type": "markdown",
   "metadata": {},
   "source": [
    "### Outline:\n",
    "The objectives for this assignment:\n",
    "\n",
    "1. Mathematically derive the values of $\\hat{\\beta}_0$ and $\\hat{\\beta}_1$\n",
    "2. Enhance our skills with linear regression modeling.\n",
    "3. Learn the uses and limitations of RSS, ESS, TSS and $R^2$.\n",
    "4. Analyze and interpret nonidentifiability.\n",
    "\n",
    "General tips:\n",
    "\n",
    "1. Read the questions carefully to understand what is being asked.\n",
    "2. This work will be reviewed by another human, so make sure that you are clear and concise in what your explanations and answers."
   ]
  },
  {
   "cell_type": "code",
   "execution_count": 1,
   "metadata": {},
   "outputs": [
    {
     "name": "stderr",
     "output_type": "stream",
     "text": [
      "── \u001b[1mAttaching packages\u001b[22m ─────────────────────────────────────── tidyverse 1.3.0 ──\n",
      "\n",
      "\u001b[32m✔\u001b[39m \u001b[34mggplot2\u001b[39m 3.3.0     \u001b[32m✔\u001b[39m \u001b[34mpurrr  \u001b[39m 0.3.4\n",
      "\u001b[32m✔\u001b[39m \u001b[34mtibble \u001b[39m 3.0.1     \u001b[32m✔\u001b[39m \u001b[34mdplyr  \u001b[39m 0.8.5\n",
      "\u001b[32m✔\u001b[39m \u001b[34mtidyr  \u001b[39m 1.0.2     \u001b[32m✔\u001b[39m \u001b[34mstringr\u001b[39m 1.4.0\n",
      "\u001b[32m✔\u001b[39m \u001b[34mreadr  \u001b[39m 1.3.1     \u001b[32m✔\u001b[39m \u001b[34mforcats\u001b[39m 0.5.0\n",
      "\n",
      "── \u001b[1mConflicts\u001b[22m ────────────────────────────────────────── tidyverse_conflicts() ──\n",
      "\u001b[31m✖\u001b[39m \u001b[34mtidyr\u001b[39m::\u001b[32mcomplete()\u001b[39m masks \u001b[34mRCurl\u001b[39m::complete()\n",
      "\u001b[31m✖\u001b[39m \u001b[34mdplyr\u001b[39m::\u001b[32mfilter()\u001b[39m   masks \u001b[34mstats\u001b[39m::filter()\n",
      "\u001b[31m✖\u001b[39m \u001b[34mdplyr\u001b[39m::\u001b[32mlag()\u001b[39m      masks \u001b[34mstats\u001b[39m::lag()\n",
      "\n"
     ]
    }
   ],
   "source": [
    "# Load Required Packages\n",
    "library(RCurl) #a package that includes the function getURL(), which allows for reading data from github.\n",
    "library(tidyverse)"
   ]
  },
  {
   "cell_type": "markdown",
   "metadata": {},
   "source": [
    "## Problem 1: Maximum Likelihood Estimates (MLEs)\n",
    "\n",
    "Consider the simple linear regression model $Y_i = \\beta_0 + \\beta_1x_i + \\varepsilon_i$ for $i = 1,...,n$, $\\,\\,\\,\\varepsilon_i \\sim N(0,\\sigma^2)$. In the videos, we showed that the least squares estimator in matrix-vector form is $\\mathbf{\\widehat{\\beta}} = (\\beta_0, \\beta_1)^T = (X^TX)^{-1}X^T\\mathbf{Y}$. In this problem, you will derive the least squares estimators for simple linear regression without (explicitly) using linear algebra.\n",
    "\n",
    "Least squares requires that we minimize $$f(\\mathbf{x}; \\beta_0, \\beta_1) = \\sum^n_{i=1}\\bigg(Y_i - [\\beta_0 + \\beta_1x_i] \\bigg)^2$$ over $\\beta_0$ and $\\beta_1$. "
   ]
  },
  {
   "cell_type": "markdown",
   "metadata": {},
   "source": [
    "#### 1. (a) Taking Derivatives\n",
    "\n",
    "Find the partial derivative of $f(\\mathbf{x}; \\beta_0, \\beta_1)$ with respect to $\\beta_0$, and the partial derivative of $f(\\mathbf{x}; \\beta_0, \\beta_1)$ with respect to $\\beta_1$. Recall that the partial derivative with respect to $x$ of a multivariate function $h(x,y)$ is calculated by taking the derivative  of $h$ with respect to $x$ while treating $y$ constant."
   ]
  },
  {
   "cell_type": "markdown",
   "metadata": {},
   "source": []
  },
  {
   "cell_type": "markdown",
   "metadata": {},
   "source": [
    "#### 1. (b) Solving for $\\hat{\\beta}_0$ and $\\hat{\\beta}_1$\n",
    "\n",
    "Use **1. (a)** to find the minimizers,  $\\widehat{\\beta}_0$ and $\\widehat{\\beta}_1$, of $f$. That is, set each partial derivative to zero and solve for $\\beta_0$ and $\\beta_1$. In particular, show\n",
    "\n",
    "$$\n",
    "\\widehat{\\beta}_1 = \\frac{\\sum^n_{i=1}(x_i - \\bar{x})(Y_i -\\bar{Y})}{\\sum^n_{i=1}(x_i - \\bar{x})^2} \n",
    "\\qquad \\text{ and } \\qquad\n",
    "\\widehat{\\beta}_0 = \\bar{Y} - \\widehat{\\beta}_1\\bar{x}\n",
    "$$"
   ]
  },
  {
   "cell_type": "markdown",
   "metadata": {},
   "source": []
  },
  {
   "cell_type": "markdown",
   "metadata": {},
   "source": [
    "## Problem 2: Oh My Goodness of Fit!\n",
    "\n",
    "In the US, public schools have been slowly increasing class sizes over the last 15 years [https://stats.oecd.org/Index.aspx?DataSetCode=EDU_CLASS]. The general cause for this is because it saves money to have more kids per teacher. But how much money does it save? Let's use some of our new regression skills to try and figure this out. Below is an explanation of the variables in the dataset.\n",
    "\n",
    "Variables/Columns:  \n",
    "School  \n",
    "Per-Pupil Cost  (Dollars)   \n",
    "Average daily Attendance   \n",
    "Average Monthly Teacher Salary (Dollars)  \n",
    "Percent Attendance       \n",
    "Pupil/Teacher ratio   \n",
    "\n",
    "Data Source: E.R. Enlow (1938). \"Do Small Schools Mean Large Costs?,\" Peabody Journal of Educaltion, Vol. 16, \\#1, pp. 1-11"
   ]
  },
  {
   "cell_type": "code",
   "execution_count": 2,
   "metadata": {
    "scrolled": false
   },
   "outputs": [
    {
     "name": "stderr",
     "output_type": "stream",
     "text": [
      "Parsed with column specification:\n",
      "cols(\n",
      "  Adair = \u001b[31mcol_character()\u001b[39m,\n",
      "  `66.90` = \u001b[32mcol_double()\u001b[39m,\n",
      "  `451.4` = \u001b[32mcol_double()\u001b[39m,\n",
      "  `160.22` = \u001b[32mcol_double()\u001b[39m,\n",
      "  `90.77` = \u001b[32mcol_double()\u001b[39m,\n",
      "  `33.8` = \u001b[32mcol_double()\u001b[39m\n",
      ")\n",
      "\n"
     ]
    },
    {
     "data": {
      "text/html": [
       "<table>\n",
       "<caption>A tibble: 6 × 6</caption>\n",
       "<thead>\n",
       "\t<tr><th scope=col>school</th><th scope=col>cost</th><th scope=col>avg.attendance</th><th scope=col>avg.salary</th><th scope=col>pct.attendance</th><th scope=col>pup.tch.ratio</th></tr>\n",
       "\t<tr><th scope=col>&lt;chr&gt;</th><th scope=col>&lt;dbl&gt;</th><th scope=col>&lt;dbl&gt;</th><th scope=col>&lt;dbl&gt;</th><th scope=col>&lt;dbl&gt;</th><th scope=col>&lt;dbl&gt;</th></tr>\n",
       "</thead>\n",
       "<tbody>\n",
       "\t<tr><td>Calhoun     </td><td>108.57</td><td>219.1</td><td>161.79</td><td>89.86</td><td>23.0</td></tr>\n",
       "\t<tr><td>Capitol View</td><td> 70.00</td><td>268.9</td><td>136.37</td><td>92.44</td><td>29.4</td></tr>\n",
       "\t<tr><td>Connally    </td><td> 49.04</td><td>161.7</td><td>106.86</td><td>92.01</td><td>29.4</td></tr>\n",
       "\t<tr><td>Couch       </td><td> 71.51</td><td>422.1</td><td>147.17</td><td>91.60</td><td>29.2</td></tr>\n",
       "\t<tr><td>Crew        </td><td> 61.08</td><td>440.6</td><td>146.24</td><td>89.32</td><td>36.3</td></tr>\n",
       "\t<tr><td>Davis       </td><td>105.21</td><td>139.4</td><td>159.79</td><td>86.51</td><td>22.6</td></tr>\n",
       "</tbody>\n",
       "</table>\n"
      ],
      "text/latex": [
       "A tibble: 6 × 6\n",
       "\\begin{tabular}{llllll}\n",
       " school & cost & avg.attendance & avg.salary & pct.attendance & pup.tch.ratio\\\\\n",
       " <chr> & <dbl> & <dbl> & <dbl> & <dbl> & <dbl>\\\\\n",
       "\\hline\n",
       "\t Calhoun      & 108.57 & 219.1 & 161.79 & 89.86 & 23.0\\\\\n",
       "\t Capitol View &  70.00 & 268.9 & 136.37 & 92.44 & 29.4\\\\\n",
       "\t Connally     &  49.04 & 161.7 & 106.86 & 92.01 & 29.4\\\\\n",
       "\t Couch        &  71.51 & 422.1 & 147.17 & 91.60 & 29.2\\\\\n",
       "\t Crew         &  61.08 & 440.6 & 146.24 & 89.32 & 36.3\\\\\n",
       "\t Davis        & 105.21 & 139.4 & 159.79 & 86.51 & 22.6\\\\\n",
       "\\end{tabular}\n"
      ],
      "text/markdown": [
       "\n",
       "A tibble: 6 × 6\n",
       "\n",
       "| school &lt;chr&gt; | cost &lt;dbl&gt; | avg.attendance &lt;dbl&gt; | avg.salary &lt;dbl&gt; | pct.attendance &lt;dbl&gt; | pup.tch.ratio &lt;dbl&gt; |\n",
       "|---|---|---|---|---|---|\n",
       "| Calhoun      | 108.57 | 219.1 | 161.79 | 89.86 | 23.0 |\n",
       "| Capitol View |  70.00 | 268.9 | 136.37 | 92.44 | 29.4 |\n",
       "| Connally     |  49.04 | 161.7 | 106.86 | 92.01 | 29.4 |\n",
       "| Couch        |  71.51 | 422.1 | 147.17 | 91.60 | 29.2 |\n",
       "| Crew         |  61.08 | 440.6 | 146.24 | 89.32 | 36.3 |\n",
       "| Davis        | 105.21 | 139.4 | 159.79 | 86.51 | 22.6 |\n",
       "\n"
      ],
      "text/plain": [
       "  school       cost   avg.attendance avg.salary pct.attendance pup.tch.ratio\n",
       "1 Calhoun      108.57 219.1          161.79     89.86          23.0         \n",
       "2 Capitol View  70.00 268.9          136.37     92.44          29.4         \n",
       "3 Connally      49.04 161.7          106.86     92.01          29.4         \n",
       "4 Couch         71.51 422.1          147.17     91.60          29.2         \n",
       "5 Crew          61.08 440.6          146.24     89.32          36.3         \n",
       "6 Davis        105.21 139.4          159.79     86.51          22.6         "
      ]
     },
     "metadata": {},
     "output_type": "display_data"
    },
    {
     "data": {
      "text/html": [
       "<style>\n",
       ".list-inline {list-style: none; margin:0; padding: 0}\n",
       ".list-inline>li {display: inline-block}\n",
       ".list-inline>li:not(:last-child)::after {content: \"\\00b7\"; padding: 0 .5ex}\n",
       "</style>\n",
       "<ol class=list-inline><li>43</li><li>6</li></ol>\n"
      ],
      "text/latex": [
       "\\begin{enumerate*}\n",
       "\\item 43\n",
       "\\item 6\n",
       "\\end{enumerate*}\n"
      ],
      "text/markdown": [
       "1. 43\n",
       "2. 6\n",
       "\n",
       "\n"
      ],
      "text/plain": [
       "[1] 43  6"
      ]
     },
     "metadata": {},
     "output_type": "display_data"
    }
   ],
   "source": [
    "school.data = read_table(\"school.dat\")\n",
    "names(school.data) = c(\"school\", \"cost\", \"avg.attendance\", \"avg.salary\", \"pct.attendance\", \"pup.tch.ratio\")\n",
    "head(school.data)\n",
    "dim(school.data)"
   ]
  },
  {
   "cell_type": "markdown",
   "metadata": {},
   "source": [
    "#### 2. (a) Create a model\n",
    "\n",
    "Begin by creating two figures for your model. The first with `pup.tch.ratio` on the x-axis and `cost` on the y-axis. The second with `avg.salary` on the x-axis and `cost` on the y-axis. Does there appear to be a relation between these two predictors and the response.\n",
    "\n",
    "Then fit a multiple linear regression model with `cost` as the response and `pup.tch.ratio` and `avg.salary` as predictors."
   ]
  },
  {
   "cell_type": "code",
   "execution_count": 5,
   "metadata": {},
   "outputs": [
    {
     "data": {
      "image/png": "[encoded data removed]",
      "text/plain": [
       "plot without title"
      ]
     },
     "metadata": {
      "image/png": {
       "height": 420,
       "width": 420
      },
      "text/plain": {
       "height": 420,
       "width": 420
      }
     },
     "output_type": "display_data"
    },
    {
     "data": {
      "text/plain": [
       "\n",
       "Call:\n",
       "lm(formula = cost ~ pup.tch.ratio + avg.salary, data = school.data)\n",
       "\n",
       "Residuals:\n",
       "     Min       1Q   Median       3Q      Max \n",
       "-13.8290  -5.2752  -0.8332   3.8253  19.6986 \n",
       "\n",
       "Coefficients:\n",
       "               Estimate Std. Error t value Pr(>|t|)    \n",
       "(Intercept)   120.23756   17.73230   6.781 3.79e-08 ***\n",
       "pup.tch.ratio  -2.82585    0.37714  -7.493 3.90e-09 ***\n",
       "avg.salary      0.24061    0.08396   2.866   0.0066 ** \n",
       "---\n",
       "Signif. codes:  0 ‘***’ 0.001 ‘**’ 0.01 ‘*’ 0.05 ‘.’ 0.1 ‘ ’ 1\n",
       "\n",
       "Residual standard error: 7.721 on 40 degrees of freedom\n",
       "Multiple R-squared:  0.6372,\tAdjusted R-squared:  0.6191 \n",
       "F-statistic: 35.13 on 2 and 40 DF,  p-value: 1.559e-09\n"
      ]
     },
     "metadata": {},
     "output_type": "display_data"
    },
    {
     "data": {
      "image/png": "[encoded data removed]",
      "text/plain": [
       "plot without title"
      ]
     },
     "metadata": {
      "image/png": {
       "height": 420,
       "width": 420
      },
      "text/plain": {
       "height": 420,
       "width": 420
      }
     },
     "output_type": "display_data"
    }
   ],
   "source": [
    "# Your Code Here\n",
    "library(ggplot2)\n",
    "\n",
    "# Scatter plot: pup.tch.ratio vs. cost\n",
    "ggplot(school.data, aes(x = pup.tch.ratio, y = cost)) +\n",
    "  geom_point() +\n",
    "  xlab(\"Pupil/Teacher Ratio\") +\n",
    "  ylab(\"Per-Pupil Cost (Dollars)\") +\n",
    "  ggtitle(\"Pupil/Teacher Ratio vs. Per-Pupil Cost\")\n",
    "\n",
    "# Scatter plot: avg.salary vs. cost\n",
    "ggplot(school.data, aes(x = avg.salary, y = cost)) +\n",
    "  geom_point() +\n",
    "  xlab(\"Average Monthly Teacher Salary (Dollars)\") +\n",
    "  ylab(\"Per-Pupil Cost (Dollars)\") +\n",
    "  ggtitle(\"Average Salary vs. Per-Pupil Cost\")\n",
    "\n",
    "\n",
    "# Fit multiple linear regression model\n",
    "model <- lm(cost ~ pup.tch.ratio + avg.salary, data = school.data)\n",
    "\n",
    "# Print the model summary\n",
    "summary(model)\n"
   ]
  },
  {
   "cell_type": "markdown",
   "metadata": {},
   "source": [
    "#### 2. (b) RSS, ESS and TSS\n",
    "\n",
    "In the code block below, manually calculate the RSS, ESS and TSS for your MLR model. Print the results."
   ]
  },
  {
   "cell_type": "code",
   "execution_count": 6,
   "metadata": {},
   "outputs": [
    {
     "name": "stdout",
     "output_type": "stream",
     "text": [
      "RSS: 2384.597 \n",
      "ESS: 4188.568 \n",
      "TSS: 6573.165 \n"
     ]
    }
   ],
   "source": [
    "# Your Code Here\n",
    "\n",
    "# Calculate RSS, ESS, and TSS\n",
    "y <- school.data$cost\n",
    "y_hat <- predict(model)\n",
    "y_mean <- mean(y)\n",
    "\n",
    "RSS <- sum((y - y_hat)^2)\n",
    "ESS <- sum((y_mean - y_hat)^2)\n",
    "TSS <- sum((y - y_mean)^2)\n",
    "\n",
    "# Print the results\n",
    "cat(\"RSS:\", RSS, \"\\n\")\n",
    "cat(\"ESS:\", ESS, \"\\n\")\n",
    "cat(\"TSS:\", TSS, \"\\n\")\n"
   ]
  },
  {
   "cell_type": "markdown",
   "metadata": {},
   "source": [
    "#### 2. (c) Are you Squared?\n",
    "\n",
    "Using the values from **2.b**, calculate the $R^2$ value for your model. Check your results with those produced from the `summary()` statement of your model.\n",
    "\n",
    "In words, describe what this value means for your model."
   ]
  },
  {
   "cell_type": "code",
   "execution_count": 7,
   "metadata": {},
   "outputs": [
    {
     "name": "stdout",
     "output_type": "stream",
     "text": [
      "R-squared: 0.6372224 \n"
     ]
    }
   ],
   "source": [
    "# Your Code Here\n",
    "\n",
    "R_squared <- ESS / TSS\n",
    "\n",
    "# Print the 𝑅² value\n",
    "cat(\"R-squared:\", R_squared, \"\\n\")\n"
   ]
  },
  {
   "cell_type": "markdown",
   "metadata": {},
   "source": [
    "Comparing this 𝑅² value with the one obtained from the summary() statement of the model will help us validate our calculations.\n",
    "\n",
    "The 𝑅² value ranges from 0 to 1. A higher 𝑅² value indicates that a larger proportion of the variance in the response variable is explained by the predictors. A 𝑅² value of 1 means that the model perfectly predicts the response variable, while a 𝑅² value of 0 means that the predictors do not explain any of the variance in the response variable.\n",
    "\n",
    "By interpreting the 𝑅² value, we can assess the goodness of fit of the model. If the 𝑅² value is relatively high, it suggests that the predictors (pupil/teacher ratio and average salary) are effective in explaining the variation in the per-pupil cost. On the other hand, a low 𝑅² value would indicate that the predictors have little explanatory power and other factors may be influencing the per-pupil cost more significantly."
   ]
  },
  {
   "cell_type": "markdown",
   "metadata": {},
   "source": [
    "#### 2. (d) Conclusions\n",
    "\n",
    "Describe at least two advantages and two disadvantages of the $R^2$ value."
   ]
  },
  {
   "cell_type": "markdown",
   "metadata": {},
   "source": [
    "The 𝑅² value, also known as the coefficient of determination, has advantages and disadvantages when used as a measure of the goodness of fit for a regression model. Here are two advantages and two disadvantages of the 𝑅² value:\n",
    "\n",
    "Advantages:\n",
    "\n",
    "1. Interpretable Measure: The 𝑅² value provides an easily interpretable measure of how well the predictors in a model explain the variance in the response variable. It represents the proportion of the total variation in the response variable that can be explained by the predictors, ranging from 0 to 1. This allows for a straightforward assessment of the model's goodness of fit.\n",
    "\n",
    "2. Comparative Analysis: 𝑅² allows for comparison between different models or variations of the same model. By comparing the 𝑅² values of different models, researchers can assess which model performs better in terms of explaining the variance in the response variable. This comparative analysis can guide model selection and refinement.\n",
    "\n",
    "Disadvantages:\n",
    "\n",
    "1. Overemphasis on Linear Relationships: 𝑅² is most meaningful when the relationship between predictors and the response is linear. In the case of non-linear relationships, the 𝑅² value may not accurately reflect the goodness of fit. Therefore, 𝑅² should be interpreted with caution when dealing with models that involve non-linear relationships or interactions.\n",
    "\n",
    "2. Ignoring the Importance of Individual Predictors: 𝑅² only provides an overall measure of the model's fit and does not differentiate the contribution of individual predictors. A high 𝑅² value does not guarantee that each predictor is statistically significant or meaningful in explaining the response variable. Therefore, it is important to consider the significance and relevance of individual predictors in addition to the 𝑅² value.\n",
    "\n",
    "In summary, while the 𝑅² value is a widely used measure of goodness of fit, it has advantages such as interpretability and comparative analysis capabilities. However, it has limitations when it comes to non-linear relationships and the individual significance of predictors, which should be taken into account when interpreting and drawing conclusions from the 𝑅² value."
   ]
  },
  {
   "cell_type": "markdown",
   "metadata": {},
   "source": [
    "# Problem 3: Identifiability\n",
    "\n",
    "**This problem might require some outside-of-class research if you haven't taken a linear algebra/matrix methods course.**\n",
    "\n",
    "Matrices and vectors play an important role in linear regression. Let's review some matrix theory as it might relate to linear regression.\n",
    "\n",
    "Consider the system of linear equations \n",
    "\n",
    "\\begin{equation} \n",
    "Y_i = \\beta_0 + \\sum^p_{j=1}\\beta_j x_{i,j} + \\varepsilon_i,\n",
    "\\end{equation}\n",
    "for $i = 1,...,n$, where $n$ is the number of data points (measurements in the sample), and $j = 1,...,p$, where \n",
    "\n",
    "1. $p+1$ is the number of parameters in the model. \n",
    "2. $Y_i$ is the $i^{th}$ measurement of the *response variable*.\n",
    "3. $x_{i,j}$ is the $i^{th}$ measurement of the $j^{th}$ *predictor variable*.\n",
    "4. $\\varepsilon_i$ is the $i^{th}$ *error term* and is a random variable, often assumed to be $N(0, \\sigma^2)$. \n",
    "5. $\\beta_j$, $j = 0,...,p$ are *unknown parameters* of the model. We hope to estimate these, which would help us characterize the relationship between the predictors and response."
   ]
  },
  {
   "cell_type": "markdown",
   "metadata": {},
   "source": [
    "#### 3. (a) MLR Matrix Form\n",
    "\n",
    "Write the equation above in matrix vector form. Call the matrix including the predictors $X$, the vector of $Y_i$s $\\mathbf{Y}$, the vector of parameters $\\mathbf{\\beta}$, and the vector of error terms $\\mathbf{\\varepsilon}$. (This is more LaTeX practice than anything else...)**"
   ]
  },
  {
   "cell_type": "markdown",
   "metadata": {},
   "source": [
    "The equation above can be written in matrix vector form as follows:\n",
    "\n",
    "\\[\n",
    "\\mathbf{Y} = \\mathbf{X}\\mathbf{\\beta} + \\mathbf{\\epsilon}\n",
    "\\]\n",
    "\n",
    "where:\n",
    "- \\(\\mathbf{Y}\\) is the vector of measurements of the response variable,\n",
    "- \\(\\mathbf{X}\\) is the matrix including the predictors,\n",
    "- \\(\\mathbf{\\beta}\\) is the vector of parameters of the model,\n",
    "- \\(\\mathbf{\\epsilon}\\) is the vector of error terms.\n",
    "\n",
    "In this case, the dimensions of the matrices and vectors are as follows:\n",
    "- \\(\\mathbf{Y}\\) is an \\(n \\times 1\\) column vector, where \\(n\\) is the number of data points.\n",
    "- \\(\\mathbf{X}\\) is an \\(n \\times (p + 1)\\) matrix, where \\(p + 1\\) is the number of parameters in the model (including the intercept term).\n",
    "- \\(\\mathbf{\\beta}\\) is a \\((p + 1) \\times 1\\) column vector.\n",
    "- \\(\\mathbf{\\epsilon}\\) is an \\(n \\times 1\\) column vector.\n",
    "\n",
    "Each element of the vectors \\(\\mathbf{Y}\\), \\(\\mathbf{\\beta}\\), and \\(\\mathbf{\\epsilon}\\) corresponds to a specific measurement or parameter. Each element of the matrix \\(\\mathbf{X}\\) represents a predictor variable for a specific data point.\n",
    "\n",
    "The matrix \\(\\mathbf{X}\\) is formed by stacking the predictor variables, and the vector \\(\\mathbf{Y}\\) contains the measurements of the response variable. The goal of linear regression is to estimate the vector of parameters \\(\\mathbf{\\beta}\\) that best represents the relationship between the predictors and the response. The vector of error terms \\(\\mathbf{\\epsilon}\\) represents the deviations of the actual measurements from the predicted values."
   ]
  },
  {
   "cell_type": "markdown",
   "metadata": {},
   "source": [
    "#### 3. (b) Properties of this matrix\n",
    "\n",
    "In lecture, we will find that the OLS estimator for $\\mathbf{\\beta}$ in MLR is $\\widehat{\\boldsymbol\\beta} = (X^TX)^{-1}X^T\\mathbf{Y}$. Use this knowledge to answer the following questions:\n",
    "\n",
    "\n",
    "1. What condition must be true about the columns of $X$ for the \"Gram\" matrix $X^TX$ to be invertible? \n",
    "\n",
    "2. What does this condition mean in practical terms, i.e., does $X$ contain a deficiency or redundancy?\n",
    "\n",
    "3. Suppose that the number of measurements ($n$) is less than the number of model parameters ($p+1$). What does this say about the invertibility of $X^TX$? What does this mean on a practical level?\n",
    "\n",
    "4. What is true about about $\\widehat{\\boldsymbol\\beta}$ if $X^TX$ is not invertible?"
   ]
  },
  {
   "cell_type": "markdown",
   "metadata": {},
   "source": [
    "To answer the questions:\n",
    "\n",
    "1. The condition that must be true about the columns of 𝑋 for the \"Gram\" matrix 𝑋𝑇𝑋 to be invertible is that the columns of 𝑋 must be linearly independent. In other words, no column in 𝑋 can be expressed as a linear combination of the other columns. This condition ensures that the columns of 𝑋 provide unique information and avoid redundancy.\n",
    "\n",
    "2. If the columns of 𝑋 are linearly dependent or if there is multicollinearity among the predictors, then the \"Gram\" matrix 𝑋𝑇𝑋 will not be invertible. This means that the matrix 𝑋𝑇𝑋 does not have full rank, and it is deficient or singular. In practical terms, this indicates that there is redundancy or overlap among the predictors, and it can lead to numerical instability in the estimation process.\n",
    "\n",
    "3. If the number of measurements (𝑛) is less than the number of model parameters (𝑝+1), meaning that there are fewer data points than the number of predictors (including the intercept term), then the \"Gram\" matrix 𝑋𝑇𝑋 will not be invertible. This is because the system is underdetermined, and there is not enough information to estimate all the parameters of the model. On a practical level, this implies that the model cannot be fully estimated or identified from the available data.\n",
    "\n",
    "4. If 𝑋𝑇𝑋 is not invertible, it means that the OLS estimator 𝜷̂ cannot be obtained using the formula 𝜷̂ = (𝑋𝑇𝑋)⁻¹𝑋𝑇𝑌. In such cases, alternative estimation techniques or modifications to the model may need to be considered. For example, ridge regression or other regularization techniques can be used to overcome the issue of non-invertibility and obtain parameter estimates."
   ]
  },
  {
   "cell_type": "markdown",
   "metadata": {},
   "source": [
    "## Problem 4: Downloading...\n",
    "\n",
    "The following [data](https://dasl.datadescription.com/datafile/downloading/) were collected to see if time of day madea difference on file download speed. A researcher placed a file on a remote server and then proceeded to download it at three different time periods of the day. They downloaded the file 48 times in all, 16 times at each Time of Day (`time`), and recorded the Time in seconds (`speed`) that the download took."
   ]
  },
  {
   "cell_type": "markdown",
   "metadata": {},
   "source": [
    "#### 4. (a) Initial Observations\n",
    "\n",
    "The `downloading` data is loaded in and cleaned for you. Using `ggplot`, create a boxplot of `speed` vs. `time`. Make some basic observations about the three categories."
   ]
  },
  {
   "cell_type": "code",
   "execution_count": 8,
   "metadata": {},
   "outputs": [
    {
     "data": {
      "text/plain": [
       "                 time        speed      \n",
       " Early (7AM)       :16   Min.   : 68.0  \n",
       " Evening (5 PM)    :16   1st Qu.:129.8  \n",
       " Late Night (12 AM):16   Median :198.0  \n",
       "                         Mean   :193.2  \n",
       "                         3rd Qu.:253.0  \n",
       "                         Max.   :367.0  "
      ]
     },
     "metadata": {},
     "output_type": "display_data"
    }
   ],
   "source": [
    "# Load in the data and format it\n",
    "downloading = read.csv(\"downloading.txt\", sep=\"\\t\")\n",
    "names(downloading) = c(\"time\", \"speed\")\n",
    "# Change the types of brand and form to categories, instead of real numbers\n",
    "downloading$time = as.factor(downloading$time)\n",
    "summary(downloading)"
   ]
  },
  {
   "cell_type": "code",
   "execution_count": 9,
   "metadata": {},
   "outputs": [
    {
     "data": {
      "text/plain": [
       "\n",
       "Call:\n",
       "lm(formula = speed ~ time, data = downloading)\n",
       "\n",
       "Residuals:\n",
       "    Min      1Q  Median      3Q     Max \n",
       "-83.312 -34.328  -5.187  26.250 103.625 \n",
       "\n",
       "Coefficients:\n",
       "                       Estimate Std. Error t value Pr(>|t|)    \n",
       "(Intercept)              113.37      11.79   9.619 1.73e-12 ***\n",
       "timeEvening (5 PM)       159.94      16.67   9.595 1.87e-12 ***\n",
       "timeLate Night (12 AM)    79.69      16.67   4.781 1.90e-05 ***\n",
       "---\n",
       "Signif. codes:  0 ‘***’ 0.001 ‘**’ 0.01 ‘*’ 0.05 ‘.’ 0.1 ‘ ’ 1\n",
       "\n",
       "Residual standard error: 47.15 on 45 degrees of freedom\n",
       "Multiple R-squared:  0.6717,\tAdjusted R-squared:  0.6571 \n",
       "F-statistic: 46.03 on 2 and 45 DF,  p-value: 1.306e-11\n"
      ]
     },
     "metadata": {},
     "output_type": "display_data"
    }
   ],
   "source": [
    "summary(lm(speed ~ time, data = downloading))"
   ]
  },
  {
   "cell_type": "code",
   "execution_count": 10,
   "metadata": {},
   "outputs": [
    {
     "data": {
      "image/png": "[encoded data removed]",
      "text/plain": [
       "plot without title"
      ]
     },
     "metadata": {
      "image/png": {
       "height": 420,
       "width": 420
      },
      "text/plain": {
       "height": 420,
       "width": 420
      }
     },
     "output_type": "display_data"
    }
   ],
   "source": [
    "library(ggplot2)\n",
    "\n",
    "# Create the boxplot\n",
    "ggplot(downloading, aes(x = time, y = speed)) +\n",
    "  geom_boxplot() +\n",
    "  xlab(\"Time of Day\") +\n",
    "  ylab(\"Download Speed (seconds)\") +\n",
    "  ggtitle(\"Download Speed vs. Time of Day\")\n"
   ]
  },
  {
   "cell_type": "markdown",
   "metadata": {},
   "source": [
    "By observing the boxplot, you can make some basic observations about the three categories of time. From the summary provided, we can see that:\n",
    "\n",
    "    The time categories are \"Early (7AM)\", \"Evening (5 PM)\", and \"Late Night (12 AM)\".\n",
    "    The download speed ranges from a minimum of 68.0 seconds to a maximum of 367.0 seconds.\n",
    "    The median download speeds for the three time categories are 129.8, 198.0, and 253.0 seconds.\n",
    "    The mean download speed is approximately 193.2 seconds.\n",
    "\n",
    "Based on the boxplot, we can observe that the download speeds for the \"Early (7AM)\" and \"Evening (5 PM)\" categories tend to be higher compared to the \"Late Night (12 AM)\" category. The \"Early (7AM)\" category has the widest range of download speeds, while the \"Evening (5 PM)\" category has the highest median speed. This suggests that there may be a difference in download speeds based on the time of day."
   ]
  },
  {
   "cell_type": "markdown",
   "metadata": {},
   "source": [
    "#### 4. (b) How would we model this?\n",
    "\n",
    "Fit a regression to these data that uses `speed` as the response and `time` as the predictor. Print the summary. Notice that the result is actually *multiple* linear regression, not simple linear regression. The model being used here is:\n",
    "\n",
    "\\begin{align*}\n",
    "Y_i = \\beta_0 + \\beta_1 X_{i,1} + \\beta_2 X_{i,2} + \\varepsilon_i\n",
    "\\end{align*}\n",
    "\n",
    "where \n",
    "\n",
    "1. $X_{i,1} = 1$ if the $i^{th}$ download is made in the evening (5 pm).\n",
    "2.  $X_{i,2} = 1$ if the $i^{th}$ download is made at night (12 am).\n",
    "\n",
    "Note: If $X_{i,1} = 0$ and $X_{i,2} = 0$, then the $i^{th}$ download is made in the morning (7am).\n",
    "\n",
    "**To confirm this is the model being used, write out the explicit equation for your model - using the parameter estimates from part (a) - and print out it's design matrix.**"
   ]
  },
  {
   "cell_type": "code",
   "execution_count": 12,
   "metadata": {},
   "outputs": [
    {
     "data": {
      "text/plain": [
       "\n",
       "Call:\n",
       "lm(formula = speed ~ time, data = downloading)\n",
       "\n",
       "Residuals:\n",
       "    Min      1Q  Median      3Q     Max \n",
       "-83.312 -34.328  -5.187  26.250 103.625 \n",
       "\n",
       "Coefficients:\n",
       "                       Estimate Std. Error t value Pr(>|t|)    \n",
       "(Intercept)              113.37      11.79   9.619 1.73e-12 ***\n",
       "timeEvening (5 PM)       159.94      16.67   9.595 1.87e-12 ***\n",
       "timeLate Night (12 AM)    79.69      16.67   4.781 1.90e-05 ***\n",
       "---\n",
       "Signif. codes:  0 ‘***’ 0.001 ‘**’ 0.01 ‘*’ 0.05 ‘.’ 0.1 ‘ ’ 1\n",
       "\n",
       "Residual standard error: 47.15 on 45 degrees of freedom\n",
       "Multiple R-squared:  0.6717,\tAdjusted R-squared:  0.6571 \n",
       "F-statistic: 46.03 on 2 and 45 DF,  p-value: 1.306e-11\n"
      ]
     },
     "metadata": {},
     "output_type": "display_data"
    },
    {
     "name": "stdout",
     "output_type": "stream",
     "text": [
      "Model Equation: speed = 113.375 + 159.9375 * X1 + 79.6875 * X2 \n",
      "   (Intercept) timeEvening (5 PM) timeLate Night (12 AM)\n",
      "1            1                  0                      0\n",
      "2            1                  0                      0\n",
      "3            1                  0                      0\n",
      "4            1                  0                      0\n",
      "5            1                  0                      0\n",
      "6            1                  0                      0\n",
      "7            1                  0                      0\n",
      "8            1                  0                      0\n",
      "9            1                  0                      0\n",
      "10           1                  0                      0\n",
      "11           1                  0                      0\n",
      "12           1                  0                      0\n",
      "13           1                  0                      0\n",
      "14           1                  0                      0\n",
      "15           1                  0                      0\n",
      "16           1                  0                      0\n",
      "17           1                  1                      0\n",
      "18           1                  1                      0\n",
      "19           1                  1                      0\n",
      "20           1                  1                      0\n",
      "21           1                  1                      0\n",
      "22           1                  1                      0\n",
      "23           1                  1                      0\n",
      "24           1                  1                      0\n",
      "25           1                  1                      0\n",
      "26           1                  1                      0\n",
      "27           1                  1                      0\n",
      "28           1                  1                      0\n",
      "29           1                  1                      0\n",
      "30           1                  1                      0\n",
      "31           1                  1                      0\n",
      "32           1                  1                      0\n",
      "33           1                  0                      1\n",
      "34           1                  0                      1\n",
      "35           1                  0                      1\n",
      "36           1                  0                      1\n",
      "37           1                  0                      1\n",
      "38           1                  0                      1\n",
      "39           1                  0                      1\n",
      "40           1                  0                      1\n",
      "41           1                  0                      1\n",
      "42           1                  0                      1\n",
      "43           1                  0                      1\n",
      "44           1                  0                      1\n",
      "45           1                  0                      1\n",
      "46           1                  0                      1\n",
      "47           1                  0                      1\n",
      "48           1                  0                      1\n",
      "attr(,\"assign\")\n",
      "[1] 0 1 1\n",
      "attr(,\"contrasts\")\n",
      "attr(,\"contrasts\")$time\n",
      "[1] \"contr.treatment\"\n",
      "\n"
     ]
    }
   ],
   "source": [
    "# Your Code Here\n",
    "\n",
    "\n",
    "\n",
    "# Fit the regression model\n",
    "model <- lm(speed ~ time, data = downloading)\n",
    "\n",
    "# Print the summary of the model\n",
    "summary(model)\n",
    "\n",
    "# Extract the parameter estimates from the model\n",
    "b0 <- coef(model)[1]\n",
    "b1 <- coef(model)[2]\n",
    "b2 <- coef(model)[3]\n",
    "\n",
    "# Write out the explicit equation\n",
    "equation <- paste(\"speed =\", b0, \"+\", b1, \"* X1 +\", b2, \"* X2\")\n",
    "cat(\"Model Equation:\", equation, \"\\n\")\n",
    "\n",
    "# Create the design matrix\n",
    "design_matrix <- model.matrix(model)\n",
    "print(design_matrix)\n"
   ]
  },
  {
   "cell_type": "markdown",
   "metadata": {},
   "source": []
  },
  {
   "cell_type": "markdown",
   "metadata": {},
   "source": [
    "#### 4. (c) Only two predictors?\n",
    "\n",
    "We have three categories, but only two predictors. Why is this the case? To address this question, let's consider the following model:\n",
    "\n",
    "$$ Y_i = \\beta_0 + \\beta_1 X_{i,1} + \\beta_2 X_{i,2} + \\beta_2 X_{i,3} + \\varepsilon_i $$\n",
    "\n",
    "where \n",
    "\n",
    "1. $X_{i,1} = 1$ if the $i^{th}$ download is made in the evening (5 pm).\n",
    "2. $X_{i,2} = 1$ if the $i^{th}$ download is made at night (12 am).\n",
    "3. $X_{i,3} = 1$ if the $i^{th}$ download is made in the morning (7 am).\n",
    "\n",
    "**Construct a design matrix to fit this model to the response, `speed`. Determine if something is wrong with it. Hint: Analyze the design matrix.**"
   ]
  },
  {
   "cell_type": "code",
   "execution_count": 13,
   "metadata": {},
   "outputs": [
    {
     "name": "stdout",
     "output_type": "stream",
     "text": [
      "   timeEarly (7AM) timeEvening (5 PM) timeLate Night (12 AM)\n",
      "1                1                  0                      0\n",
      "2                1                  0                      0\n",
      "3                1                  0                      0\n",
      "4                1                  0                      0\n",
      "5                1                  0                      0\n",
      "6                1                  0                      0\n",
      "7                1                  0                      0\n",
      "8                1                  0                      0\n",
      "9                1                  0                      0\n",
      "10               1                  0                      0\n",
      "11               1                  0                      0\n",
      "12               1                  0                      0\n",
      "13               1                  0                      0\n",
      "14               1                  0                      0\n",
      "15               1                  0                      0\n",
      "16               1                  0                      0\n",
      "17               0                  1                      0\n",
      "18               0                  1                      0\n",
      "19               0                  1                      0\n",
      "20               0                  1                      0\n",
      "21               0                  1                      0\n",
      "22               0                  1                      0\n",
      "23               0                  1                      0\n",
      "24               0                  1                      0\n",
      "25               0                  1                      0\n",
      "26               0                  1                      0\n",
      "27               0                  1                      0\n",
      "28               0                  1                      0\n",
      "29               0                  1                      0\n",
      "30               0                  1                      0\n",
      "31               0                  1                      0\n",
      "32               0                  1                      0\n",
      "33               0                  0                      1\n",
      "34               0                  0                      1\n",
      "35               0                  0                      1\n",
      "36               0                  0                      1\n",
      "37               0                  0                      1\n",
      "38               0                  0                      1\n",
      "39               0                  0                      1\n",
      "40               0                  0                      1\n",
      "41               0                  0                      1\n",
      "42               0                  0                      1\n",
      "43               0                  0                      1\n",
      "44               0                  0                      1\n",
      "45               0                  0                      1\n",
      "46               0                  0                      1\n",
      "47               0                  0                      1\n",
      "48               0                  0                      1\n",
      "attr(,\"assign\")\n",
      "[1] 1 1 1\n",
      "attr(,\"contrasts\")\n",
      "attr(,\"contrasts\")$time\n",
      "[1] \"contr.treatment\"\n",
      "\n"
     ]
    }
   ],
   "source": [
    "# Your Code Here\n",
    "# Create the design matrix for the expanded model\n",
    "design_matrix_expanded <- model.matrix(speed ~ time + 0, data = downloading)\n",
    "\n",
    "# Analyze the design matrix\n",
    "print(design_matrix_expanded)\n"
   ]
  },
  {
   "cell_type": "markdown",
   "metadata": {},
   "source": []
  },
  {
   "cell_type": "markdown",
   "metadata": {},
   "source": [
    "#### 4. (d) Interpretation\n",
    "\n",
    "Interpret the coefficients in the model from **4.b**. In particular:\n",
    "\n",
    "1. What is the difference between the mean download speed at 7am and the mean download speed at 5pm?\n",
    "2. What is the mean download speed (in seconds) in the morning?\n",
    "3. What is the mean download speed (in seconds) in the evening?\n",
    "4. What is the mean download speed (in seconds) at night?"
   ]
  },
  {
   "cell_type": "markdown",
   "metadata": {},
   "source": [
    "- The coefficient for \"timeEvening (5 PM)\" is 159.94. This means that, on average, the mean download speed at 5 PM (evening) is 159.94 seconds higher than the mean download speed in the morning (7 AM).\n",
    "- The coefficient for \"timeLate Night (12 AM)\" is 79.69. This means that, on average, the mean download speed at 12 AM (night) is 79.69 seconds higher than the mean download speed in the morning (7 AM).\n",
    "\n",
    "To calculate the mean download speeds for each time period:\n",
    "\n",
    "- Mean download speed in the morning (7 AM) = Intercept = 113.37 seconds.\n",
    "- Mean download speed in the evening (5 PM) = Intercept + Coefficient for \"timeEvening (5 PM)\" = 113.37 + 159.94 = 273.31 seconds.\n",
    "- Mean download speed at night (12 AM) = Intercept + Coefficient for \"timeLate Night (12 AM)\" = 113.37 + 79.69 = 193.06 seconds.\n",
    "\n",
    "then:\n",
    "\n",
    "- The difference between the mean download speed at 7 AM and 5 PM is approximately 159.94 seconds.\n",
    "- The mean download speed in the morning is approximately 113.37 seconds.\n",
    "- The mean download speed in the evening is approximately 273.31 seconds.\n",
    "- The mean download speed at night is approximately 193.06 seconds."
   ]
  },
  {
   "cell_type": "code",
   "execution_count": null,
   "metadata": {},
   "outputs": [],
   "source": []
  }
 ],
 "metadata": {
  "kernelspec": {
   "display_name": "R",
   "language": "R",
   "name": "ir"
  },
  "language_info": {
   "codemirror_mode": "r",
   "file_extension": ".r",
   "mimetype": "text/x-r-source",
   "name": "R",
   "pygments_lexer": "r",
   "version": "3.6.3"
  }
 },
 "nbformat": 4,
 "nbformat_minor": 4
}
