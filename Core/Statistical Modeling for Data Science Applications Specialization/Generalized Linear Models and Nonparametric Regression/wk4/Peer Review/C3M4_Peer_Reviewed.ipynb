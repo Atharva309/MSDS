{
 "cells": [
  {
   "cell_type": "code",
   "execution_count": 1,
   "metadata": {},
   "outputs": [
    {
     "name": "stderr",
     "output_type": "stream",
     "text": [
      "Loading required package: nlme\n",
      "\n",
      "This is mgcv 1.8-42. For overview type 'help(\"mgcv-package\")'.\n",
      "\n"
     ]
    }
   ],
   "source": [
    "library(ggplot2)\n",
    "library(mgcv)"
   ]
  },
  {
   "cell_type": "markdown",
   "metadata": {},
   "source": [
    "# C3M4 Peer Reviewed Assignment"
   ]
  },
  {
   "cell_type": "markdown",
   "metadata": {},
   "source": [
    "### Outline:\n",
    "The objectives for this assignment:\n",
    "\n",
    "1. Observe the difference between GAMs and other regression models on simulated data.\n",
    "2. Review how to plot and interpret the coefficient linearity for GAM models.\n",
    "\n",
    "General tips:\n",
    "\n",
    "1. Read the questions carefully to understand what is being asked.\n",
    "2. This work will be reviewed by another human, so make sure that you are clear and concise in what your explanations and answers."
   ]
  },
  {
   "cell_type": "code",
   "execution_count": 2,
   "metadata": {},
   "outputs": [],
   "source": [
    "# Load packages\n",
    "library(ggplot2)\n",
    "library(mgcv)"
   ]
  },
  {
   "cell_type": "markdown",
   "metadata": {},
   "source": [
    "# Problem 1: GAMs with Simulated Data\n",
    "\n",
    "In this example, we show how to check the validity of a generalized additive model (GAM) (using the `gam()` function) using simulated data. This allows us to try and understand the intricacies of `gam()` without having to worry about the context of the data. "
   ]
  },
  {
   "cell_type": "markdown",
   "metadata": {},
   "source": [
    "### 1. (a) Simulate the Data\n",
    "\n",
    "Let $n = 200$. First, construct three predictor variables. The goal here is to construct a GAM with different types of predictor terms (e.g., factors, continuous variables, some that will enter linearly/parametrically, some that enter transformed).\n",
    "\n",
    "1. x1: A continuous predictor that, we will suppose has a nonlinear relationship with the response.\n",
    "2. x2: A categorical variable with three levels: `s`, `m`, and `t`.\n",
    "3. x3: A categorical variable with two levels: `TRUE` and `FALSE`.\n",
    "\n",
    "Then, make the response some nonlinear/nonparametric function of $\\mathbf{x}$. For our case, use: $$\\log(\\mu_i) = \\beta_1 + \\sin(0.5x_{i,1}^2) - x_{i,2} + x_{i,3}$$ This model is a Poisson GAM. In a realworld situation, we wouldn't know this functional relationship and would estimate it. Other terms are modeled parametrically. The response has normal noise.\n",
    "\n",
    "Note that:\n",
    "\n",
    "1. The construction of $\\boldsymbol\\mu = (\\mu_1,...,\\mu_n)^T$ has the linear predictor exponentiated, because of the nature of the link function. \n",
    "2. We use $\\boldsymbol\\mu$ to construct $\\mathbf{y}  = (y_1,...,y_n)^T $. The assumption for Poisson regression is that the random variable $Y_i$ that generates $y_i$ is Poisson with mean $\\mu_i$. \n",
    "3. `as.integer(as.factor(VARIABLE))` converts the labels of VARIABLE to 1, 2, 3,.. so that we can construct the relationship for these factors.\n",
    "\n",
    "Plot the relationship of $\\mathbf{y}$ to each of the predictors. **Then, split the data into a training (`train_sim`) and test (`test_sim`) set**."
   ]
  },
  {
   "cell_type": "code",
   "execution_count": 3,
   "metadata": {},
   "outputs": [],
   "source": [
    "set.seed(0112358)\n",
    "# n = number of data points\n",
    "n = 200\n"
   ]
  },
  {
   "cell_type": "markdown",
   "metadata": {},
   "source": [
    "### 1. (b) Other Regression Models\n",
    "\n",
    "Before jumping straight into GAMs, let's test if other regression models work. What about a regular linear regression model with ordinary least squares, and a generalized linear model for Poisson regression?\n",
    "\n",
    "First fit a linear regression model to your `train_sim` data. We know that all of the predictors were used to make the response, but are they all significant in the linear regression model? Explain why this may be.\n",
    "\n",
    "Then fit a Generalize Linear Model (GLM) to the `train_sim` data. Plot three diagnostic plots for your GLM:\n",
    "\n",
    "1. Residual vs. log(Fitted Values)\n",
    "2. QQPlot of the Residuals\n",
    "3. Actual Values vs. Fitted Values\n",
    "\n",
    "Using these plots, determine whether this model is a good fit for the data. Make sure to explain your conclusions and reasoning."
   ]
  },
  {
   "cell_type": "code",
   "execution_count": 4,
   "metadata": {
    "scrolled": false
   },
   "outputs": [],
   "source": [
    "# Fit a LM model to the data\n",
    "\n",
    "\n",
    "# Fit a GLM model to the data\n",
    "\n",
    "\n",
    "#residual plot\n",
    "\n",
    "\n",
    "# Create the three specified plots\n",
    "\n",
    "\n",
    "\n",
    "## qqplot\n",
    "\n",
    "\n",
    "#fitted vs actual\n",
    "\n"
   ]
  },
  {
   "cell_type": "markdown",
   "metadata": {},
   "source": []
  },
  {
   "cell_type": "markdown",
   "metadata": {},
   "source": [
    "### 1. (c) Looking for those GAMs\n",
    "\n",
    "Now, it's time to see how a generalized additive model (GAM) performs! Fit a GAM to the data. Construct the same three plots for your GAM model. Do these plots look better than those of the GLM?"
   ]
  },
  {
   "cell_type": "code",
   "execution_count": 5,
   "metadata": {
    "scrolled": false
   },
   "outputs": [],
   "source": [
    "# Fit a GAM model to the data\n",
    "\n",
    "\n",
    "# Construct the three specified plots\n",
    "\n",
    "\n",
    "\n",
    "#residual vs fitted \n",
    "\n",
    "\n",
    "## qqplot\n",
    "\n",
    "\n",
    "#fitted vs actual\n"
   ]
  },
  {
   "cell_type": "markdown",
   "metadata": {},
   "source": []
  },
  {
   "cell_type": "markdown",
   "metadata": {},
   "source": [
    "### 1. (d) Interpreting GAMs\n",
    "\n",
    "We made a GAM model! However GAMs are harder to interpret than regular linear regression models. How do we determine if a GAM model was necesary? Or, in other words, how do we determine if our predictors have a linear relationship with the response?\n",
    "\n",
    "Use the `plot.gam()` function in the mgcv library to plot the relationship between `y` and `x1`. Recall that $x_1$ entered our model as $\\sin(0.5x_{i,1}^2)$, and we plotted that relationship in **1.(a)**. Does your plot confirm this relationship?"
   ]
  },
  {
   "cell_type": "code",
   "execution_count": null,
   "metadata": {},
   "outputs": [],
   "source": []
  },
  {
   "cell_type": "markdown",
   "metadata": {},
   "source": []
  },
  {
   "cell_type": "markdown",
   "metadata": {},
   "source": [
    "### 1.(e) Model comparison\n",
    "\n",
    "Compute the mean squared prediction error (MSPE) for each of the three models above (regression model, GLM, and GAM). State which model performs based according to this metric.\n",
    "\n",
    "Remember, the MSPE is given by \n",
    "\n",
    "\\begin{align*}\n",
    "MSPE = \\frac{1}{k}\\sum^k_{i=1}\\left(y^\\star_i - \\widehat{y}^\\star_i \\right)^2 \n",
    "\\end{align*}\n",
    "\n",
    "where $y^\\star_i$ are the observed response values in the test set and $\\widehat{y}^\\star_i$ are the predicted values for the test set (using the model fit on the training set)."
   ]
  },
  {
   "cell_type": "code",
   "execution_count": 6,
   "metadata": {},
   "outputs": [],
   "source": [
    "#mspe for lm\n",
    "\n",
    "\n",
    "#mspe for glm\n",
    "\n",
    "\n",
    "# mspe for gam\n"
   ]
  },
  {
   "cell_type": "markdown",
   "metadata": {},
   "source": []
  },
  {
   "cell_type": "markdown",
   "metadata": {},
   "source": [
    "# Problem 2 Additive models with the advertising data\n",
    "\n",
    "The following dataset containts measurements related to the impact of three advertising medias on sales of a product, $P$. The variables are:\n",
    "\n",
    "- `youtube`: the advertising budget allocated to YouTube. Measured in thousands of dollars;\n",
    "\n",
    "- `facebook`: the advertising budget allocated to Facebook. Measured in thousands of dollars; and \n",
    "\n",
    "- `newspaper`: the advertising budget allocated to a local newspaper. Measured in thousands of dollars.\n",
    "\n",
    "- `sales`: the value in the $i^{th}$ row of the sales column is a measurement of the sales (in thousands of units) for product $P$ for company $i$.\n",
    "\n",
    "The advertising data treat \"a company selling product $P$\" as the statistical unit, and \"all companies selling product $P$\" as the population. We assume that the $n = 200$ companies in the dataset were chosen at random from the population (a strong assumption!).\n",
    "\n",
    "First, we load the data, plot it, and split it into a training set (`train_marketing`) and a test set (`test_marketing`)."
   ]
  },
  {
   "cell_type": "code",
   "execution_count": 7,
   "metadata": {},
   "outputs": [
    {
     "name": "stderr",
     "output_type": "stream",
     "text": [
      "Warning message in file(file, \"rt\"):\n",
      "“cannot open file 'marketing.txt': No such file or directory”\n"
     ]
    },
    {
     "ename": "ERROR",
     "evalue": "Error in file(file, \"rt\"): cannot open the connection\n",
     "output_type": "error",
     "traceback": [
      "Error in file(file, \"rt\"): cannot open the connection\nTraceback:\n",
      "1. read.csv(\"marketing.txt\", sep = \"\")",
      "2. read.table(file = file, header = header, sep = sep, quote = quote, \n .     dec = dec, fill = fill, comment.char = comment.char, ...)",
      "3. file(file, \"rt\")"
     ]
    }
   ],
   "source": [
    "# Load in the data\n",
    "marketing = read.csv(\"marketing.txt\", sep = \"\")\n",
    "head(marketing)\n",
    "pairs(marketing, main = \"Marketing Data\", pch = 21, \n",
    "      bg = c(\"#CFB87C\"))"
   ]
  },
  {
   "cell_type": "code",
   "execution_count": null,
   "metadata": {},
   "outputs": [],
   "source": [
    "set.seed(177) #set the random number generator seed.\n",
    "n = floor(0.8 * nrow(marketing)) #find the number corresponding to 80% of the data\n",
    "index = sample(seq_len(nrow(marketing)), size = n) #randomly sample indicies to be included in the training set\n",
    "\n",
    "train_marketing = marketing[index, ] #set the training set to be the randomly sampled rows of the dataframe\n",
    "test_marketing = marketing[-index, ] #set the testing set to be the remaining rows\n",
    "dim(test_marketing) #check the dimensions\n",
    "dim(train_marketing) #check the dimensions"
   ]
  },
  {
   "cell_type": "markdown",
   "metadata": {},
   "source": [
    "**2.(a) Let's try a GAM on the marketing data!**\n",
    "\n",
    "Note that the relationship between `sales` and `youtube` is nonlinear. This was a problem for us back in the first course in this specialization, when we modeled the data as if it were linear. In the last module, we focused on modeling the relationship between `sales` and `youtube`, omitting the other variables. Now it's time to include the additional predictors.\n",
    "\n",
    "Using the `train_marketing` fit an additive model to the data and store it in `gam_marketing`. Produce the relevant added variable plots using `plot(gam_marketing)`. Comment on the fit of the model."
   ]
  },
  {
   "cell_type": "code",
   "execution_count": null,
   "metadata": {
    "scrolled": false
   },
   "outputs": [],
   "source": []
  },
  {
   "cell_type": "markdown",
   "metadata": {},
   "source": []
  },
  {
   "cell_type": "markdown",
   "metadata": {},
   "source": [
    "**2.(b) Semiparametric modeling of the marketing data**\n",
    "\n",
    "Refit the additive model based on your results from 2.(a). That is, if any predictors above should enter linearly, refit the model to reflect that. If any predictors are statistically insignificant, remove them from the model. Store your final model in `semiparametric_marketing`."
   ]
  },
  {
   "cell_type": "code",
   "execution_count": null,
   "metadata": {},
   "outputs": [],
   "source": []
  },
  {
   "cell_type": "markdown",
   "metadata": {
    "scrolled": false
   },
   "source": []
  },
  {
   "cell_type": "code",
   "execution_count": null,
   "metadata": {},
   "outputs": [],
   "source": []
  },
  {
   "cell_type": "markdown",
   "metadata": {},
   "source": [
    "**2.(c) Model comparisons**\n",
    "\n",
    "Now, let's do some model comparisons on the test data. Compute the mean squared prediction error (MSPE) on the `test_marketing` data for the following three models:\n",
    "\n",
    "- `gam_marketing` from 2.(a)\n",
    "\n",
    "\n",
    "- `semiparametric_marketing`from 2.(b)\n",
    "\n",
    "\n",
    "- `lm_marketing`, a linear regression model with `sales` is the response and `youtube` and `facebook` are predictors (fit on the `train_marketing` data).\n",
    "\n",
    "State which model performs based according to this metric."
   ]
  },
  {
   "cell_type": "code",
   "execution_count": null,
   "metadata": {},
   "outputs": [],
   "source": [
    "#mspe for gam\n",
    "\n",
    "\n",
    "#mspe for semiparametric\n",
    "\n",
    "\n",
    "# mspe for lm"
   ]
  },
  {
   "cell_type": "markdown",
   "metadata": {},
   "source": []
  }
 ],
 "metadata": {
  "kernelspec": {
   "display_name": "R",
   "language": "R",
   "name": "ir"
  },
  "language_info": {
   "codemirror_mode": "r",
   "file_extension": ".r",
   "mimetype": "text/x-r-source",
   "name": "R",
   "pygments_lexer": "r",
   "version": "4.3.0"
  }
 },
 "nbformat": 4,
 "nbformat_minor": 4
}
