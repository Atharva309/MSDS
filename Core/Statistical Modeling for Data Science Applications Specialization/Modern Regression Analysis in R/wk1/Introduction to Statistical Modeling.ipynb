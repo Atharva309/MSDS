{
 "cells": [
  {
   "cell_type": "markdown",
   "id": "123bb2fd",
   "metadata": {},
   "source": [
    "1. A statistical unit is one member among the set of entities being studied."
   ]
  },
  {
   "cell_type": "markdown",
   "id": "5149de0d",
   "metadata": {},
   "source": [
    "2. Suppose that researchers would like to predict whether a patient's cancer will return based on several features of the patient, including the age, gender, and weight of the patient, and on characteristics of the patient's original tumor, including, its radius, perimeter, smoothness, and symmetry.\n",
    "\n",
    "    In this modeling scenario, the statistical unit is:"
   ]
  },
  {
   "cell_type": "markdown",
   "id": "865b2bf6",
   "metadata": {},
   "source": [
    "3. Suppose that researchers would like to predict whether a patient's cancer will return based on several features of the patient, including the age, gender, and weight of the patient, and on characteristics of the patient's original tumor, including, its radius, perimeter, smoothness, and symmetry.\n",
    "\n",
    "    In this modeling scenario, the \"output\" variable is:"
   ]
  },
  {
   "cell_type": "markdown",
   "id": "863868a9",
   "metadata": {},
   "source": [
    "4. Suppose that researchers would like to predict whether a patient's cancer will return based on several features of the patient, including the age, gender, and weight of the patient, and on characteristics of the patient's original tumor, including, its radius, perimeter, smoothness, and symmetry.\n",
    "\n",
    "    Which of the following is most plausibly the the population for this modeling scenario?"
   ]
  },
  {
   "cell_type": "markdown",
   "id": "db2ad1d9",
   "metadata": {},
   "source": [
    "5. To operationalize a concept means to derive a set of steps that would allow one to measure the concept."
   ]
  },
  {
   "cell_type": "markdown",
   "id": "5b5f9af5",
   "metadata": {},
   "source": [
    "6. Consider a study meant to predict whether an individual will default on a mortgage loan based on the individual's socioeconomic status. Researchers identify socioeconomic status with income. \n",
    "\n",
    "    In this study:"
   ]
  },
  {
   "cell_type": "markdown",
   "id": "426d6a5e",
   "metadata": {},
   "source": [
    "7. Suppose that researchers at a given hospital measure the severity of each patient's condition, along with how satisfied each patient is with their own care. Researchers hypothesize that the more severe the condition, the lower the care satisfaction score.\n",
    "\n",
    "    A valid measure of the satisfaction of a patient's care:"
   ]
  },
  {
   "cell_type": "markdown",
   "id": "12e914b0",
   "metadata": {},
   "source": [
    "8. Researchers should decide which interpretation of a concept would be most reasonable for their purposes only after collecting data to analyze."
   ]
  },
  {
   "cell_type": "code",
   "execution_count": null,
   "id": "967160cd",
   "metadata": {},
   "outputs": [],
   "source": []
  }
 ],
 "metadata": {
  "kernelspec": {
   "display_name": "Python 3 (ipykernel)",
   "language": "python",
   "name": "python3"
  },
  "language_info": {
   "codemirror_mode": {
    "name": "ipython",
    "version": 3
   },
   "file_extension": ".py",
   "mimetype": "text/x-python",
   "name": "python",
   "nbconvert_exporter": "python",
   "pygments_lexer": "ipython3",
   "version": "3.9.12"
  }
 },
 "nbformat": 4,
 "nbformat_minor": 5
}
