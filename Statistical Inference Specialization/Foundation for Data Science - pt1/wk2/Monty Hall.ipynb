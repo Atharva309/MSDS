{
 "cells": [
  {
   "cell_type": "code",
   "execution_count": 1,
   "id": "0346255b",
   "metadata": {},
   "outputs": [
    {
     "data": {
      "text/html": [
       "0.345833333333333"
      ],
      "text/latex": [
       "0.345833333333333"
      ],
      "text/markdown": [
       "0.345833333333333"
      ],
      "text/plain": [
       "[1] 0.3458333"
      ]
     },
     "metadata": {},
     "output_type": "display_data"
    }
   ],
   "source": [
    "#replicate\n",
    "set.seed(110)\n",
    "sims = 1000\n",
    "\n",
    "#door that monty opens\n",
    "monty = rep(NA, sims)\n",
    "\n",
    "#keep track of where the car is\n",
    "car = rep(NA, sims)\n",
    "\n",
    "#run the loop\n",
    "for(i in 1:sims){\n",
    "  \n",
    "  #generate the doors randomly; 1 is the car, 0 is a goat\n",
    "  doors = sample(c(1, 0, 0))\n",
    "\n",
    "  #mark where the car is\n",
    "  car[i] = which(doors == 1)\n",
    "  \n",
    "  #if we picked the car, monty opens another door at random\n",
    "  if(car[i] == 1){\n",
    "    monty[i] = sample(c(2, 3), 1)\n",
    "  }\n",
    "  \n",
    "  #if we picked a goat, monty opens the other goat door\n",
    "  if(car[i] != 1){\n",
    "    \n",
    "    #label the picked door; always pick door 1\n",
    "    doors[1] = 1\n",
    "    \n",
    "    #monty picks the other goat\n",
    "    monty[i] = which(doors == 0)\n",
    "  }\n",
    "}\n",
    "\n",
    "#probability that the car is behind door 1 or door 3\n",
    "#   should be 1/3 and 2/3, respectively\n",
    "length(car[car == 1 & monty == 2])/length(car[monty == 2])"
   ]
  },
  {
   "cell_type": "code",
   "execution_count": 2,
   "id": "21cf4268",
   "metadata": {},
   "outputs": [
    {
     "data": {
      "text/html": [
       "0.654166666666667"
      ],
      "text/latex": [
       "0.654166666666667"
      ],
      "text/markdown": [
       "0.654166666666667"
      ],
      "text/plain": [
       "[1] 0.6541667"
      ]
     },
     "metadata": {},
     "output_type": "display_data"
    }
   ],
   "source": [
    "length(car[car == 3 & monty == 2])/length(car[monty == 2])"
   ]
  },
  {
   "cell_type": "code",
   "execution_count": null,
   "id": "ba3738b2",
   "metadata": {},
   "outputs": [],
   "source": []
  }
 ],
 "metadata": {
  "kernelspec": {
   "display_name": "R",
   "language": "R",
   "name": "ir"
  },
  "language_info": {
   "codemirror_mode": "r",
   "file_extension": ".r",
   "mimetype": "text/x-r-source",
   "name": "R",
   "pygments_lexer": "r",
   "version": "4.2.1"
  }
 },
 "nbformat": 4,
 "nbformat_minor": 5
}
