{
 "cells": [
  {
   "cell_type": "code",
   "execution_count": 1,
   "id": "3f1d1849",
   "metadata": {},
   "outputs": [],
   "source": [
    "#replicate\n",
    "set.seed(110)\n",
    "sims = 1000\n",
    "\n",
    "\n",
    "#create vectors to track if it is sunny/if Anne goes to work\n",
    "sun = rep(0, sims)\n",
    "work = rep(0, sims)"
   ]
  },
  {
   "cell_type": "code",
   "execution_count": 2,
   "id": "f2f80c6d",
   "metadata": {},
   "outputs": [],
   "source": [
    "#run the loop\n",
    "for(i in 1:sims){\n",
    "  \n",
    "  #flip to see what the weather is\n",
    "  weather = runif(1)\n",
    "  \n",
    "  #flip to see if Anne goes to work\n",
    "  go = runif(1)\n",
    "  \n",
    "  #the case where it is sunny\n",
    "  if(weather <= .6){\n",
    "    \n",
    "    #mark that it was sunny\n",
    "    sun[i] = 1\n",
    "    \n",
    "    #Anne goes to work with probability .95 in this case\n",
    "    if(go <= .95){\n",
    "      work[i] = 1\n",
    "    }    \n",
    "  }\n",
    "  \n",
    "  #the case where it is rainy\n",
    "  if(weather > .4){\n",
    "    \n",
    "    #Anne goes to work with probability .3 in this case\n",
    "    if(go <= .3){\n",
    "      work[i] = 1\n",
    "    }\n",
    "  }\n",
    "}\n"
   ]
  },
  {
   "cell_type": "code",
   "execution_count": 3,
   "id": "c44cb090",
   "metadata": {},
   "outputs": [
    {
     "data": {
      "text/html": [
       "0.639"
      ],
      "text/latex": [
       "0.639"
      ],
      "text/markdown": [
       "0.639"
      ],
      "text/plain": [
       "[1] 0.639"
      ]
     },
     "metadata": {},
     "output_type": "display_data"
    },
    {
     "data": {
      "text/html": [
       "0.705"
      ],
      "text/latex": [
       "0.705"
      ],
      "text/markdown": [
       "0.705"
      ],
      "text/plain": [
       "[1] 0.705"
      ]
     },
     "metadata": {},
     "output_type": "display_data"
    }
   ],
   "source": [
    "\n",
    "#we should get .6 for sun and .69 for work\n",
    "mean(sun); mean(work)"
   ]
  },
  {
   "cell_type": "code",
   "execution_count": null,
   "id": "efc88857",
   "metadata": {},
   "outputs": [],
   "source": []
  }
 ],
 "metadata": {
  "kernelspec": {
   "display_name": "R",
   "language": "R",
   "name": "ir"
  },
  "language_info": {
   "codemirror_mode": "r",
   "file_extension": ".r",
   "mimetype": "text/x-r-source",
   "name": "R",
   "pygments_lexer": "r",
   "version": "4.2.1"
  }
 },
 "nbformat": 4,
 "nbformat_minor": 5
}
