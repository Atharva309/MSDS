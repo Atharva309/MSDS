{
 "cells": [
  {
   "cell_type": "markdown",
   "id": "df075675",
   "metadata": {},
   "source": [
    "# Module 1 Assessment\n",
    "\n",
    "In this notebook you will apply the axioms of probability and use descriptive statistics to solve various problems. Please read each statement and answer all questions in the code blocks that contain \"your code here\". Feel free to add as many blocks as you need, only the original code blocks will be graded.\n",
    "\n",
    "You will see some cells contain the comment \"Hidden Test Cell.\" These cells contain code to test your solution, which will run after you submit your assignment. You will not know what tests are being run, or if they have been passed until you have submitted your assignment."
   ]
  },
  {
   "cell_type": "markdown",
   "id": "b10f894b",
   "metadata": {},
   "source": [
    "### Problem 1:\n",
    "Suppose we are interested in the buying habits of shoppers at a particular grocery store with regards to whether they purchase apples, milk, and/or bread. Now suppose 30\\% of all shoppers at this particular grocery store buy apples, 45\\% buy milk, and 40\\% buy a loaf of bread. Let $A$ be the event that a randomly selected shopper buys apples, $B$ be the event that the same randomly selected shopper buys milk, and $C$ the event that they buy bread.  Suppose we also know (from data collected) the following information:\n",
    "\n",
    "\n",
    "*   The probability that the shopper buys apples and milk is 0.20.\n",
    "*   The probability that the shopper buys milk and bread is 0.25.\n",
    "*   The probability that the shopper buys apples and bread is 0.12.\n",
    "*   The probability that the shopper buys all three items is 0.07.\n",
    "\n",
    "Use this information to answer the following questions."
   ]
  },
  {
   "cell_type": "markdown",
   "id": "66e06606",
   "metadata": {},
   "source": [
    "**a)** For our purposes, we will use a numeric representation for each event. For example, $(010)$ would be an event in the sample space where a zero in the first place represents no apples were bought while a 1 means they were. Similarly,  the second place is the presence of milk and the third place of bread. The example given $(010)$ represents the purchase of milk but not apples or bread.\n",
    "\n",
    "Insert into vector `S` the events that belong to the sample space. Then insert the events from the sample space that would correspond to $A$ occuring into vector `A`. Repeat this with vector `B` for $B$ and vector `C` for $C$.\n",
    "\n",
    "According to set notation, the sample space should look like this: $S=\\{ \\dots \\}$. However, due to data storage syntax in R, we will be storing these events in vectors. For example, for some arbitrary event $W$ would be stored as follows $W=c(010)$. `c()` is a command we can use to construct a vector where commas separate each entry. Complete the code below. Do not worry about the order in which events are placed in vector."
   ]
  },
  {
   "cell_type": "code",
   "execution_count": 2,
   "id": "a45af51f",
   "metadata": {},
   "outputs": [
    {
     "ename": "NameError",
     "evalue": "name 'c' is not defined",
     "output_type": "error",
     "traceback": [
      "\u001b[0;31m---------------------------------------------------------------------------\u001b[0m",
      "\u001b[0;31mNameError\u001b[0m                                 Traceback (most recent call last)",
      "\u001b[0;32m/var/folders/j_/555m2zps099832fjh_m8jjnc0000gn/T/ipykernel_15245/2113001657.py\u001b[0m in \u001b[0;36m<cell line: 1>\u001b[0;34m()\u001b[0m\n\u001b[0;32m----> 1\u001b[0;31m \u001b[0mS\u001b[0m \u001b[0;34m=\u001b[0m \u001b[0mc\u001b[0m\u001b[0;34m(\u001b[0m\u001b[0;34m)\u001b[0m\u001b[0;34m\u001b[0m\u001b[0;34m\u001b[0m\u001b[0m\n\u001b[0m\u001b[1;32m      2\u001b[0m \u001b[0mA\u001b[0m \u001b[0;34m=\u001b[0m \u001b[0mc\u001b[0m\u001b[0;34m(\u001b[0m\u001b[0;34m)\u001b[0m\u001b[0;34m\u001b[0m\u001b[0;34m\u001b[0m\u001b[0m\n\u001b[1;32m      3\u001b[0m \u001b[0mB\u001b[0m \u001b[0;34m=\u001b[0m \u001b[0mc\u001b[0m\u001b[0;34m(\u001b[0m\u001b[0;34m)\u001b[0m\u001b[0;34m\u001b[0m\u001b[0;34m\u001b[0m\u001b[0m\n\u001b[1;32m      4\u001b[0m \u001b[0mC\u001b[0m \u001b[0;34m=\u001b[0m \u001b[0mc\u001b[0m\u001b[0;34m(\u001b[0m\u001b[0;34m)\u001b[0m\u001b[0;34m\u001b[0m\u001b[0;34m\u001b[0m\u001b[0m\n\u001b[1;32m      5\u001b[0m \u001b[0;31m# your code here\u001b[0m\u001b[0;34m\u001b[0m\u001b[0;34m\u001b[0m\u001b[0m\n",
      "\u001b[0;31mNameError\u001b[0m: name 'c' is not defined"
     ]
    }
   ],
   "source": [
    "S = c()\n",
    "A = c()\n",
    "B = c()\n",
    "C = c()\n",
    "# your code here"
   ]
  },
  {
   "cell_type": "markdown",
   "id": "f96609b0",
   "metadata": {},
   "source": [
    "**b)** Find the probability that the shopper purchases at least one of the three items.\n",
    "\n",
    "Store your answer in a variable `p1.1`."
   ]
  },
  {
   "cell_type": "code",
   "execution_count": 3,
   "id": "bd6f22ef",
   "metadata": {},
   "outputs": [
    {
     "ename": "SyntaxError",
     "evalue": "invalid syntax (434155080.py, line 1)",
     "output_type": "error",
     "traceback": [
      "\u001b[0;36m  File \u001b[0;32m\"/var/folders/j_/555m2zps099832fjh_m8jjnc0000gn/T/ipykernel_15245/434155080.py\"\u001b[0;36m, line \u001b[0;32m1\u001b[0m\n\u001b[0;31m    p1.1 = NA\u001b[0m\n\u001b[0m      ^\u001b[0m\n\u001b[0;31mSyntaxError\u001b[0m\u001b[0;31m:\u001b[0m invalid syntax\n"
     ]
    }
   ],
   "source": [
    "p1.1 = NA\n",
    "# your code here"
   ]
  },
  {
   "cell_type": "markdown",
   "id": "3e087b45",
   "metadata": {},
   "source": [
    "**c)** Find the probability that the shopper purchases none of the three items.\n",
    "\n",
    "Store your answer in a variable `p1.2`."
   ]
  },
  {
   "cell_type": "code",
   "execution_count": 4,
   "id": "0753c701",
   "metadata": {},
   "outputs": [
    {
     "ename": "SyntaxError",
     "evalue": "invalid syntax (3049545152.py, line 1)",
     "output_type": "error",
     "traceback": [
      "\u001b[0;36m  File \u001b[0;32m\"/var/folders/j_/555m2zps099832fjh_m8jjnc0000gn/T/ipykernel_15245/3049545152.py\"\u001b[0;36m, line \u001b[0;32m1\u001b[0m\n\u001b[0;31m    p1.2 = NA\u001b[0m\n\u001b[0m      ^\u001b[0m\n\u001b[0;31mSyntaxError\u001b[0m\u001b[0;31m:\u001b[0m invalid syntax\n"
     ]
    }
   ],
   "source": [
    "p1.2 = NA\n",
    "# your code here"
   ]
  },
  {
   "cell_type": "markdown",
   "id": "cfdf31fb",
   "metadata": {},
   "source": [
    "**d)** Find the probability that the shopper buys milk and bread but not apples.\n",
    "\n",
    "Store your answer in a variable `p1.3`."
   ]
  },
  {
   "cell_type": "code",
   "execution_count": 5,
   "id": "354c2b93",
   "metadata": {},
   "outputs": [
    {
     "ename": "SyntaxError",
     "evalue": "invalid syntax (126925629.py, line 1)",
     "output_type": "error",
     "traceback": [
      "\u001b[0;36m  File \u001b[0;32m\"/var/folders/j_/555m2zps099832fjh_m8jjnc0000gn/T/ipykernel_15245/126925629.py\"\u001b[0;36m, line \u001b[0;32m1\u001b[0m\n\u001b[0;31m    p1.3 = NA\u001b[0m\n\u001b[0m      ^\u001b[0m\n\u001b[0;31mSyntaxError\u001b[0m\u001b[0;31m:\u001b[0m invalid syntax\n"
     ]
    }
   ],
   "source": [
    "p1.3 = NA\n",
    "# your code here\n"
   ]
  },
  {
   "cell_type": "markdown",
   "id": "674b741c",
   "metadata": {},
   "source": [
    "### Problem 2:\n",
    "\n",
    "A student takes a multiple choice test with $20$ questions. Each question has 5 possible answers, only one of which is correct."
   ]
  },
  {
   "cell_type": "markdown",
   "id": "3310d0ac",
   "metadata": {},
   "source": [
    "**a)** How many ways can the test be completed?  (Find the cardinality of the sample space.) Store your answer in `cardinality`."
   ]
  },
  {
   "cell_type": "code",
   "execution_count": 6,
   "id": "db0ee2b2",
   "metadata": {},
   "outputs": [
    {
     "ename": "NameError",
     "evalue": "name 'NA' is not defined",
     "output_type": "error",
     "traceback": [
      "\u001b[0;31m---------------------------------------------------------------------------\u001b[0m",
      "\u001b[0;31mNameError\u001b[0m                                 Traceback (most recent call last)",
      "\u001b[0;32m/var/folders/j_/555m2zps099832fjh_m8jjnc0000gn/T/ipykernel_15245/3000103350.py\u001b[0m in \u001b[0;36m<cell line: 1>\u001b[0;34m()\u001b[0m\n\u001b[0;32m----> 1\u001b[0;31m \u001b[0mcardinality\u001b[0m \u001b[0;34m=\u001b[0m \u001b[0mNA\u001b[0m\u001b[0;34m\u001b[0m\u001b[0;34m\u001b[0m\u001b[0m\n\u001b[0m\u001b[1;32m      2\u001b[0m \u001b[0;31m# your code here\u001b[0m\u001b[0;34m\u001b[0m\u001b[0;34m\u001b[0m\u001b[0m\n",
      "\u001b[0;31mNameError\u001b[0m: name 'NA' is not defined"
     ]
    }
   ],
   "source": [
    "cardinality = NA\n",
    "# your code here"
   ]
  },
  {
   "cell_type": "markdown",
   "id": "0f02546e",
   "metadata": {},
   "source": [
    "**b)** If a student answers each question at random, what is the probability that they will answer at least $14$ questions correctly? Round your answer to seven decimal places. Store your answer in `p2.b`."
   ]
  },
  {
   "cell_type": "code",
   "execution_count": 7,
   "id": "089bc355",
   "metadata": {},
   "outputs": [
    {
     "ename": "NameError",
     "evalue": "name 'NA' is not defined",
     "output_type": "error",
     "traceback": [
      "\u001b[0;31m---------------------------------------------------------------------------\u001b[0m",
      "\u001b[0;31mNameError\u001b[0m                                 Traceback (most recent call last)",
      "\u001b[0;32m/var/folders/j_/555m2zps099832fjh_m8jjnc0000gn/T/ipykernel_15245/3917138449.py\u001b[0m in \u001b[0;36m<cell line: 1>\u001b[0;34m()\u001b[0m\n\u001b[0;32m----> 1\u001b[0;31m \u001b[0mp2\u001b[0m\u001b[0;34m.\u001b[0m\u001b[0mb\u001b[0m \u001b[0;34m=\u001b[0m \u001b[0mNA\u001b[0m\u001b[0;34m\u001b[0m\u001b[0;34m\u001b[0m\u001b[0m\n\u001b[0m\u001b[1;32m      2\u001b[0m \u001b[0;31m# your code here\u001b[0m\u001b[0;34m\u001b[0m\u001b[0;34m\u001b[0m\u001b[0m\n",
      "\u001b[0;31mNameError\u001b[0m: name 'NA' is not defined"
     ]
    }
   ],
   "source": [
    "p2.b = NA\n",
    "# your code here"
   ]
  },
  {
   "cell_type": "markdown",
   "id": "8ff6e164",
   "metadata": {},
   "source": [
    "**c)** If a student knows the answer to each question with probability $0.9$, what is the chance they will answer at least $14$ correctly? Round your answer to four decimal places. Save your answer as `p2.c`."
   ]
  },
  {
   "cell_type": "code",
   "execution_count": 8,
   "id": "c0dde0c1",
   "metadata": {},
   "outputs": [
    {
     "ename": "NameError",
     "evalue": "name 'NA' is not defined",
     "output_type": "error",
     "traceback": [
      "\u001b[0;31m---------------------------------------------------------------------------\u001b[0m",
      "\u001b[0;31mNameError\u001b[0m                                 Traceback (most recent call last)",
      "\u001b[0;32m/var/folders/j_/555m2zps099832fjh_m8jjnc0000gn/T/ipykernel_15245/2388485184.py\u001b[0m in \u001b[0;36m<cell line: 1>\u001b[0;34m()\u001b[0m\n\u001b[0;32m----> 1\u001b[0;31m \u001b[0mp2\u001b[0m\u001b[0;34m.\u001b[0m\u001b[0mc\u001b[0m \u001b[0;34m=\u001b[0m \u001b[0mNA\u001b[0m\u001b[0;34m\u001b[0m\u001b[0;34m\u001b[0m\u001b[0m\n\u001b[0m\u001b[1;32m      2\u001b[0m \u001b[0;31m# your code here\u001b[0m\u001b[0;34m\u001b[0m\u001b[0;34m\u001b[0m\u001b[0m\n",
      "\u001b[0;31mNameError\u001b[0m: name 'NA' is not defined"
     ]
    }
   ],
   "source": [
    "p2.c = NA\n",
    "# your code here"
   ]
  },
  {
   "cell_type": "markdown",
   "id": "b33e1e96",
   "metadata": {},
   "source": [
    "**c)** What is the probability that all 6 workers are selected from the same shift? Again, assume the employees are selected sequentially and not all at once. Round your answer to four decimal places. Save your answer as `P_AllSame`."
   ]
  },
  {
   "cell_type": "code",
   "execution_count": 9,
   "id": "84898390",
   "metadata": {},
   "outputs": [
    {
     "ename": "NameError",
     "evalue": "name 'NA' is not defined",
     "output_type": "error",
     "traceback": [
      "\u001b[0;31m---------------------------------------------------------------------------\u001b[0m",
      "\u001b[0;31mNameError\u001b[0m                                 Traceback (most recent call last)",
      "\u001b[0;32m/var/folders/j_/555m2zps099832fjh_m8jjnc0000gn/T/ipykernel_15245/3725177619.py\u001b[0m in \u001b[0;36m<cell line: 1>\u001b[0;34m()\u001b[0m\n\u001b[0;32m----> 1\u001b[0;31m \u001b[0mP_AllSame\u001b[0m \u001b[0;34m=\u001b[0m \u001b[0mNA\u001b[0m\u001b[0;34m\u001b[0m\u001b[0;34m\u001b[0m\u001b[0m\n\u001b[0m\u001b[1;32m      2\u001b[0m \u001b[0;31m# your code here\u001b[0m\u001b[0;34m\u001b[0m\u001b[0;34m\u001b[0m\u001b[0m\n",
      "\u001b[0;31mNameError\u001b[0m: name 'NA' is not defined"
     ]
    }
   ],
   "source": [
    "P_AllSame = NA\n",
    "# your code here"
   ]
  },
  {
   "cell_type": "markdown",
   "id": "7ebe57df",
   "metadata": {},
   "source": [
    "Thought question (Ungraded): Let $B_{1}$ be the event that no one from the day shift is selected, $B_{2}$ the event that no one from the swing shift is selected, and $B_{3}$ the event that no one from the night shift is selected. \n",
    "\n",
    "How is $A_{1}^{c}$ defined? Is it related to $B_{1}$ or $B_{1}^{c}$? It's very important to carefully define the events of interest so that you know you are calculating the correct probability."
   ]
  },
  {
   "cell_type": "markdown",
   "id": "761e7a69",
   "metadata": {},
   "source": [
    "**d)** Find the probability that at least one of the shifts will be unrepresented in the sample of $6$ workers. Round your answer to four decimal places. Save your answer as `P_NoneOfOneShift`.\n",
    "\n",
    "**Hint:** We want to solve $P(B_1 \\cup B_2 \\cup B_3)$. To solve this, it may help to make a venn diagram for these events. Make sure you don't overcount the overlapping areas of this venn diagram!"
   ]
  },
  {
   "cell_type": "code",
   "execution_count": 10,
   "id": "c7f92f6a",
   "metadata": {},
   "outputs": [
    {
     "ename": "NameError",
     "evalue": "name 'NA' is not defined",
     "output_type": "error",
     "traceback": [
      "\u001b[0;31m---------------------------------------------------------------------------\u001b[0m",
      "\u001b[0;31mNameError\u001b[0m                                 Traceback (most recent call last)",
      "\u001b[0;32m/var/folders/j_/555m2zps099832fjh_m8jjnc0000gn/T/ipykernel_15245/3017515806.py\u001b[0m in \u001b[0;36m<cell line: 1>\u001b[0;34m()\u001b[0m\n\u001b[0;32m----> 1\u001b[0;31m \u001b[0mP_NoneOfOneShift\u001b[0m \u001b[0;34m=\u001b[0m \u001b[0mNA\u001b[0m\u001b[0;34m\u001b[0m\u001b[0;34m\u001b[0m\u001b[0m\n\u001b[0m\u001b[1;32m      2\u001b[0m \u001b[0;31m# your code here\u001b[0m\u001b[0;34m\u001b[0m\u001b[0;34m\u001b[0m\u001b[0m\n",
      "\u001b[0;31mNameError\u001b[0m: name 'NA' is not defined"
     ]
    }
   ],
   "source": [
    "P_NoneOfOneShift = NA\n",
    "# your code here"
   ]
  },
  {
   "cell_type": "code",
   "execution_count": null,
   "id": "ae478b66",
   "metadata": {},
   "outputs": [],
   "source": []
  }
 ],
 "metadata": {
  "kernelspec": {
   "display_name": "Python 3 (ipykernel)",
   "language": "python",
   "name": "python3"
  },
  "language_info": {
   "codemirror_mode": {
    "name": "ipython",
    "version": 3
   },
   "file_extension": ".py",
   "mimetype": "text/x-python",
   "name": "python",
   "nbconvert_exporter": "python",
   "pygments_lexer": "ipython3",
   "version": "3.9.12"
  }
 },
 "nbformat": 4,
 "nbformat_minor": 5
}
