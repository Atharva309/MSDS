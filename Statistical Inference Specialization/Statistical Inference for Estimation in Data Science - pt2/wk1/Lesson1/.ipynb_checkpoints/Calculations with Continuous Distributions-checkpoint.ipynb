{
 "cells": [
  {
   "cell_type": "markdown",
   "id": "d80c2884",
   "metadata": {},
   "source": [
    "## Question 1\n",
    "\n",
    "Let X be a random variable with pdf f(x)=43x2e−2x<sub>(0,∞)</sub>(x). What is the distribution of X."
   ]
  },
  {
   "cell_type": "markdown",
   "id": "b266a6a8",
   "metadata": {},
   "source": [
    "# Question 2"
   ]
  },
  {
   "cell_type": "markdown",
   "id": "50bb4c9c",
   "metadata": {},
   "source": [
    "In commuting to work, George must get on a bus near his house and then transfer to a second bus. If the waiting time (in minutes) at each stop has a uniform distribution on the interval from 0 to 5, it can be shown that George's total waiting time X has the pdf"
   ]
  },
  {
   "cell_type": "markdown",
   "id": "82648ade",
   "metadata": {},
   "source": [
    "f(x)= {125x,0<x<525−125x,5≤x≤10{251​x52​−251​x​,,​0<x<55≤x≤10​"
   ]
  },
  {
   "cell_type": "code",
   "execution_count": 1,
   "id": "7813218f",
   "metadata": {},
   "outputs": [],
   "source": [
    "# https://www.chegg.com/homework-help/questions-and-answers/commuting-work-professor-must-first-get-bus-near-house-transfer-second-bus-waiting-time-mi-q8608569\n"
   ]
  },
  {
   "cell_type": "markdown",
   "id": "da4ecb4d",
   "metadata": {},
   "source": [
    "# Question 3\n",
    "\n",
    "Suppose that X is a random variable with the exponential rate λ distribution for some λ>0.  What is the probability that X is greater than 1?"
   ]
  },
  {
   "cell_type": "markdown",
   "id": "498ad5a9",
   "metadata": {},
   "source": [
    "# Question 4\n",
    "\n",
    "Let X be a normal random variable with mean 0 and variance 1. That is, X∼N(0,1).\n",
    "\n",
    "Given that P(∣X∣<2)≈0.9545, what is the probability that X>2"
   ]
  },
  {
   "cell_type": "markdown",
   "id": "3750a293",
   "metadata": {},
   "source": [
    "# Question 5\n",
    "\n",
    "\n",
    "Let\n",
    "\n",
    "f(x)=cex I[0,1](x)+ce−x+2 I(1,∞)(x).f(x)=cexI[0,1]​(x)+ce−x+2I(1,∞)​(x).\n",
    "\n",
    "Find the constant c that will make f a probability density function.\n",
    "\n",
    "Type your answer out symbolically in a natural way. For example (and this example has nothing to do with the problem here), if your answer is \n",
    "\n",
    "13x+13x+11​\n",
    "\n",
    "then type 1/(3x+1) or as 1/(3*x+1). Do not include any extra spaces"
   ]
  },
  {
   "cell_type": "code",
   "execution_count": null,
   "id": "8e9beda9",
   "metadata": {},
   "outputs": [],
   "source": []
  }
 ],
 "metadata": {
  "kernelspec": {
   "display_name": "Python 3 (ipykernel)",
   "language": "python",
   "name": "python3"
  },
  "language_info": {
   "codemirror_mode": {
    "name": "ipython",
    "version": 3
   },
   "file_extension": ".py",
   "mimetype": "text/x-python",
   "name": "python",
   "nbconvert_exporter": "python",
   "pygments_lexer": "ipython3",
   "version": "3.9.12"
  }
 },
 "nbformat": 4,
 "nbformat_minor": 5
}
