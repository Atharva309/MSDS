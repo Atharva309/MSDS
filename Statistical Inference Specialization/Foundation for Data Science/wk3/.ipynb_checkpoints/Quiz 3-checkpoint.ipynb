{
 "cells": [
  {
   "cell_type": "markdown",
   "id": "5b9e8222",
   "metadata": {},
   "source": [
    "## Question 1.\n",
    "\n"
   ]
  },
  {
   "cell_type": "markdown",
   "id": "5e0b3e7e",
   "metadata": {},
   "source": [
    "#### A critical system has 5 different components, each of which works with probability 0.90. Assume each component works independently of the others. Let XX be the number of components that are working.\n",
    "\n",
    "#### Find P(X=2). Round your answer to four decimal places"
   ]
  },
  {
   "cell_type": "markdown",
   "id": "fea5c914",
   "metadata": {},
   "source": [
    "### Answer: .0081"
   ]
  },
  {
   "cell_type": "markdown",
   "id": "1f2dcf76",
   "metadata": {},
   "source": [
    "----"
   ]
  },
  {
   "cell_type": "markdown",
   "id": "a78ac136",
   "metadata": {},
   "source": [
    "## Question 2."
   ]
  },
  {
   "cell_type": "markdown",
   "id": "01eddfbe",
   "metadata": {},
   "source": [
    "#### A critical system has 5 different components, each of which works with probability 0.90. Assume each component works independently of the others. Let X be the number of components that are working.\n",
    "\n",
    "#### Find E(X)"
   ]
  },
  {
   "cell_type": "markdown",
   "id": "d72f0aad",
   "metadata": {},
   "source": [
    "### Answer: 4.5"
   ]
  },
  {
   "cell_type": "markdown",
   "id": "fdc82fda",
   "metadata": {},
   "source": [
    "---"
   ]
  },
  {
   "cell_type": "markdown",
   "id": "76f5cd18",
   "metadata": {},
   "source": [
    "## Question 3."
   ]
  },
  {
   "cell_type": "markdown",
   "id": "ea5da530",
   "metadata": {},
   "source": [
    "#### A critical system has 5 different components, each of which works with probability 0.90. Assume each component works independently of the others. Let X be the number of components that are working.\n",
    "\n",
    "#### Find V(X). Round your answer to two decimal places"
   ]
  },
  {
   "cell_type": "markdown",
   "id": "f397f2c5",
   "metadata": {},
   "source": [
    "### Answer: .45"
   ]
  },
  {
   "cell_type": "markdown",
   "id": "aad535a0",
   "metadata": {},
   "source": [
    "----"
   ]
  },
  {
   "cell_type": "markdown",
   "id": "3739fa15",
   "metadata": {},
   "source": [
    "## Question 4. "
   ]
  },
  {
   "cell_type": "markdown",
   "id": "e7223cb5",
   "metadata": {},
   "source": [
    "#### A certain type of item produced by a factory has a 6% chance of being defective. Draw a random sample until you get the first defective. Let X be the number of items that are drawn.\n",
    "\n",
    "#### Find P(X=2). Round your answer to four decimal places"
   ]
  },
  {
   "cell_type": "markdown",
   "id": "bef0b46f",
   "metadata": {},
   "source": [
    "### Answer: 0.564"
   ]
  },
  {
   "cell_type": "markdown",
   "id": "5275c00e",
   "metadata": {},
   "source": [
    "----"
   ]
  },
  {
   "cell_type": "markdown",
   "id": "437ae4a4",
   "metadata": {},
   "source": [
    "## Question 5. "
   ]
  },
  {
   "cell_type": "markdown",
   "id": "b361933c",
   "metadata": {},
   "source": [
    "#### A certain type of item produced by a factory has a 6% chance of being defective. Draw a random sample until you get the first defective. Let X be the number of items that are drawn.\n",
    "\n",
    "#### Find E(X). Round answer to two decimal places."
   ]
  },
  {
   "cell_type": "markdown",
   "id": "981f41e9",
   "metadata": {},
   "source": [
    "### Answer: "
   ]
  },
  {
   "cell_type": "markdown",
   "id": "0d0b702b",
   "metadata": {},
   "source": [
    "----"
   ]
  },
  {
   "cell_type": "markdown",
   "id": "7e92c5a0",
   "metadata": {},
   "source": [
    "## Question 6. "
   ]
  },
  {
   "cell_type": "markdown",
   "id": "89946283",
   "metadata": {},
   "source": [
    "#### A certain type of item produced by a factory has a 6% chance of being defective. Draw a random sample until you get the first defective. Let X be the number of items that are drawn.\n",
    "\n",
    "#### Find V(X). Round answer to two decimal places"
   ]
  },
  {
   "cell_type": "markdown",
   "id": "ece4daac",
   "metadata": {},
   "source": [
    "### Answer: 261.11"
   ]
  },
  {
   "cell_type": "markdown",
   "id": "fdb94000",
   "metadata": {},
   "source": [
    "----"
   ]
  },
  {
   "cell_type": "markdown",
   "id": "40b509ac",
   "metadata": {},
   "source": [
    "## Question 7."
   ]
  },
  {
   "cell_type": "markdown",
   "id": "a2b07e7d",
   "metadata": {},
   "source": [
    "#### A certain system can experience three different types of defects. Let Ai​, i = 1, 2, 3 be the event that the system has a defect of type ii. Suppose that P(A1)=0.17, P(A2)=0.07, P(A3)=0.13, P(A1∪A2)=0.18P, P(A2∪A3)=0.18, P(A1∪A3)=0.19, and P(A1∩A2∩A3)=0.01. Let the random variable X be the number of defects that are present.\n",
    "\n",
    "#### Calculate P(X=0)"
   ]
  },
  {
   "cell_type": "markdown",
   "id": "a3eda4a9",
   "metadata": {},
   "source": [
    "### Answer: .81"
   ]
  },
  {
   "cell_type": "markdown",
   "id": "c4259dfc",
   "metadata": {},
   "source": [
    "----"
   ]
  },
  {
   "cell_type": "markdown",
   "id": "8869c08a",
   "metadata": {},
   "source": [
    "## Question 8."
   ]
  },
  {
   "cell_type": "markdown",
   "id": "1b3adfe5",
   "metadata": {},
   "source": [
    "#### A certain system can experience three different types of defects. Let Ai​, i=1,2,3 be the event that the system has a defect of type ii. Suppose that P(A1)=0.17P(A1​)=0.17, P(A2)=0.07P(A2​)=0.07, P(A3)=0.13P(A3​)=0.13, P(A1∪A2)=0.18P(A1​∪A2​)=0.18, P(A2∪A3)=0.18P(A2​∪A3​)=0.18, P(A1∪A3)=0.19P(A1​∪A3​)=0.19, and P(A1∩A2∩A3)=0.01P(A1​∩A2​∩A3​)=0.01. Let the random variable XX be the number of defects that are present.\n",
    "\n",
    "##### Calculate P(X=1)"
   ]
  },
  {
   "cell_type": "markdown",
   "id": "2a49014d",
   "metadata": {},
   "source": [
    "### Answer: .02"
   ]
  },
  {
   "cell_type": "markdown",
   "id": "c9f95120",
   "metadata": {},
   "source": [
    "----"
   ]
  },
  {
   "cell_type": "markdown",
   "id": "16f47f44",
   "metadata": {},
   "source": [
    "## Question 9."
   ]
  },
  {
   "cell_type": "markdown",
   "id": "cca93ab3",
   "metadata": {},
   "source": [
    "#### A certain system can experience three different types of defects. Let Ai​, i = 1, 2, 3 be the event that the system has a defect of type i. Suppose that P(A1)=.17P(A1​)=.17, P(A2)=0.07P(A2​)=0.07, P(A3)=0.13P(A3​)=0.13, P(A1∪A2)=0.18P(A1​∪A2​)=0.18, P(A2∪A3)=0.18P(A2​∪A3​)=0.18, P(A1∪A3)=0.19P(A1​∪A3​)=0.19, and P(A1∩A2∩A3)=.01P(A1​∩A2​∩A3​)=.01. Let the random variable XX be the number of defects that are present.\n",
    "\n",
    "#### Calculate P(X=2)"
   ]
  },
  {
   "cell_type": "markdown",
   "id": "1fd524f7",
   "metadata": {},
   "source": [
    "### Answer: "
   ]
  },
  {
   "cell_type": "markdown",
   "id": "c857f4b4",
   "metadata": {},
   "source": [
    "----"
   ]
  },
  {
   "cell_type": "markdown",
   "id": "ec31dc14",
   "metadata": {},
   "source": [
    "## Question 10."
   ]
  },
  {
   "cell_type": "markdown",
   "id": "7f393141",
   "metadata": {},
   "source": [
    "#### A certain system can experience three different types of defects. Let AiAi​, i=1,2,3i=1,2,3 be the event that the system has a defect of type ii. Suppose that P(A1)=0.17P(A1​)=0.17, P(A2)=0.07P(A2​)=0.07, P(A3)=0.13P(A3​)=0.13, P(A1∪A2)=0.18P(A1​∪A2​)=0.18, P(A2∪A3)=0.18P(A2​∪A3​)=0.18, P(A1∪A3)=0.19P(A1​∪A3​)=0.19, and P(A1∩A2∩A3)=0.01P(A1​∩A2​∩A3​)=0.01. Let the random variable XX be the number of defects that are present.\n",
    "\n",
    "#### Calculate P(X=3)"
   ]
  },
  {
   "cell_type": "markdown",
   "id": "0b75c9b9",
   "metadata": {},
   "source": [
    "### Answer: "
   ]
  },
  {
   "cell_type": "markdown",
   "id": "0824a66f",
   "metadata": {},
   "source": [
    "----"
   ]
  },
  {
   "cell_type": "markdown",
   "id": "419a0737",
   "metadata": {},
   "source": [
    "## Question 11."
   ]
  },
  {
   "cell_type": "markdown",
   "id": "e475a4b8",
   "metadata": {},
   "source": [
    "#### A certain system can experience three different types of defects. Let AiAi​, i = 1, 2, 3 be the event that the system has a defect of type i. Suppose that P(A1)=.17P(A1​)=.17, P(A2)=0.07P(A2​)=0.07, P(A3)=0.13P(A3​)=0.13, P(A1∪A2)=0.18P(A1​∪A2​)=0.18, P(A2∪A3)=0.18P(A2​∪A3​)=0.18, P(A1∪A3)=0.19P(A1​∪A3​)=0.19, and P(A1∩A2∩A3)=.01P(A1​∩A2​∩A3​)=.01. Let the random variable XX be the number of defects that are present.\n",
    "\n",
    "#### Find E(X)"
   ]
  },
  {
   "cell_type": "markdown",
   "id": "8fdcc4f9",
   "metadata": {},
   "source": [
    "### Answer:  .37"
   ]
  },
  {
   "cell_type": "markdown",
   "id": "0d262a36",
   "metadata": {},
   "source": [
    "----"
   ]
  },
  {
   "cell_type": "markdown",
   "id": "9e506d95",
   "metadata": {},
   "source": [
    "## Question 12."
   ]
  },
  {
   "cell_type": "markdown",
   "id": "b227ca69",
   "metadata": {},
   "source": [
    "#### A certain system can experience three different types of defects. Let Ai​, i = 1, 2, 3 be the event that the system has a defect of type i. Suppose that P(A1)=.17P(A1​)=.17, P(A2)=0.07P(A2​)=0.07, P(A3)=0.13P(A3​)=0.13, P(A1∪A2)=0.18P(A1​∪A2​)=0.18, P(A2∪A3)=0.18P(A2​∪A3​)=0.18, P(A1∪A3)=0.19P(A1​∪A3​)=0.19, and P(A1∩A2∩A3)=.01P(A1​∩A2​∩A3​)=.01. Let the random variable XX be the number of defects that are present.\n",
    "\n",
    "#### Find V(X).  Give four decimal places for your answer"
   ]
  },
  {
   "cell_type": "markdown",
   "id": "aa44a392",
   "metadata": {},
   "source": [
    "### Answer: .6131"
   ]
  },
  {
   "cell_type": "markdown",
   "id": "bd3aad3f",
   "metadata": {},
   "source": [
    "----"
   ]
  },
  {
   "cell_type": "markdown",
   "id": "4848330d",
   "metadata": {},
   "source": [
    "## Question 13."
   ]
  },
  {
   "cell_type": "markdown",
   "id": "4ef3eabb",
   "metadata": {},
   "source": [
    "#### A certain system can experience three different types of defects. Let AiAi​, i = 1, 2, 3 be the event that the system has a defect of type i. Suppose that P(A1)=.17P(A1​)=.17, P(A2)=0.07P(A2​)=0.07, P(A3)=0.13P(A3​)=0.13, P(A1∪A2)=0.18P(A1​∪A2​)=0.18, P(A2∪A3)=0.18P(A2​∪A3​)=0.18, P(A1∪A3)=0.19P(A1​∪A3​)=0.19, and P(A1∩A2∩A3)=.01P(A1​∩A2​∩A3​)=.01. Let the random variable XX be the number of defects that are present.\n",
    "\n",
    "#### Find σ, the standard deviation of X. Round your answer to three decimal places"
   ]
  },
  {
   "cell_type": "markdown",
   "id": "e212ce28",
   "metadata": {},
   "source": [
    "### Answer:  .783"
   ]
  }
 ],
 "metadata": {
  "kernelspec": {
   "display_name": "Python 3 (ipykernel)",
   "language": "python",
   "name": "python3"
  },
  "language_info": {
   "codemirror_mode": {
    "name": "ipython",
    "version": 3
   },
   "file_extension": ".py",
   "mimetype": "text/x-python",
   "name": "python",
   "nbconvert_exporter": "python",
   "pygments_lexer": "ipython3",
   "version": "3.9.12"
  }
 },
 "nbformat": 4,
 "nbformat_minor": 5
}
