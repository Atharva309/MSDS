{
 "cells": [
  {
   "cell_type": "code",
   "execution_count": 1,
   "id": "07496405",
   "metadata": {},
   "outputs": [
    {
     "data": {
      "text/html": [
       "<style>\n",
       ".list-inline {list-style: none; margin:0; padding: 0}\n",
       ".list-inline>li {display: inline-block}\n",
       ".list-inline>li:not(:last-child)::after {content: \"\\00b7\"; padding: 0 .5ex}\n",
       "</style>\n",
       "<ol class=list-inline><li>0.964</li><li>0.994</li><li>1.011</li><li>1.013</li><li>0.997</li><li>0.985</li><li>1.006</li><li>1.008</li><li>0.981</li></ol>\n"
      ],
      "text/latex": [
       "\\begin{enumerate*}\n",
       "\\item 0.964\n",
       "\\item 0.994\n",
       "\\item 1.011\n",
       "\\item 1.013\n",
       "\\item 0.997\n",
       "\\item 0.985\n",
       "\\item 1.006\n",
       "\\item 1.008\n",
       "\\item 0.981\n",
       "\\end{enumerate*}\n"
      ],
      "text/markdown": [
       "1. 0.964\n",
       "2. 0.994\n",
       "3. 1.011\n",
       "4. 1.013\n",
       "5. 0.997\n",
       "6. 0.985\n",
       "7. 1.006\n",
       "8. 1.008\n",
       "9. 0.981\n",
       "\n",
       "\n"
      ],
      "text/plain": [
       "[1] 0.964 0.994 1.011 1.013 0.997 0.985 1.006 1.008 0.981"
      ]
     },
     "metadata": {},
     "output_type": "display_data"
    }
   ],
   "source": [
    "#replicate\n",
    "set.seed(110)\n",
    "sims = 1000\n",
    "\n",
    "#define different values of n to iterate over\n",
    "n = 2:10\n",
    "\n",
    "#keep track of mean number of matches\n",
    "means = rep(NA, length(n))\n",
    "\n",
    "#iterate over n\n",
    "for(j in 1:length(n)){\n",
    "  \n",
    "  #count number of matches\n",
    "  match = rep(0, sims)\n",
    "  \n",
    "  #run the loop\n",
    "  for(i in 1:sims){\n",
    "    \n",
    "    #generate the 'random order' to give the babies out\n",
    "    babies = sample(1:n[j])\n",
    "    \n",
    "    #calculate 'ratios' of couple-to-baby. If the couple gets\n",
    "    #   their baby, ratio should be 1\n",
    "    ratios = babies/(1:n[j])\n",
    "    \n",
    "    #count how many matches we got\n",
    "    match[i] = length(ratios[ratios == 1])\n",
    "  }\n",
    "  \n",
    "  #find the mean\n",
    "  means[j] = mean(match)\n",
    "}\n",
    "\n",
    "#should be a vector filled with 1\n",
    "means"
   ]
  },
  {
   "cell_type": "code",
   "execution_count": null,
   "id": "4256c56d",
   "metadata": {},
   "outputs": [],
   "source": []
  }
 ],
 "metadata": {
  "kernelspec": {
   "display_name": "R",
   "language": "R",
   "name": "ir"
  },
  "language_info": {
   "codemirror_mode": "r",
   "file_extension": ".r",
   "mimetype": "text/x-r-source",
   "name": "R",
   "pygments_lexer": "r",
   "version": "4.2.1"
  }
 },
 "nbformat": 4,
 "nbformat_minor": 5
}
