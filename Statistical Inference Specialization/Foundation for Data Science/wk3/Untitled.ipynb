{
 "cells": [
  {
   "cell_type": "code",
   "execution_count": 5,
   "id": "19abb414",
   "metadata": {
    "scrolled": true
   },
   "outputs": [
    {
     "name": "stdout",
     "output_type": "stream",
     "text": [
      "Requirement already satisfied: handcalcs in /Users/ryantalbot/opt/anaconda3/lib/python3.9/site-packages (1.6.2)\n",
      "Requirement already satisfied: pyparsing in /Users/ryantalbot/opt/anaconda3/lib/python3.9/site-packages (from handcalcs) (3.0.4)\n",
      "Requirement already satisfied: more_itertools in /Users/ryantalbot/opt/anaconda3/lib/python3.9/site-packages (from handcalcs) (9.0.0)\n",
      "Requirement already satisfied: nbconvert>=6.0 in /Users/ryantalbot/opt/anaconda3/lib/python3.9/site-packages (from handcalcs) (6.4.4)\n",
      "Requirement already satisfied: innerscope in /Users/ryantalbot/opt/anaconda3/lib/python3.9/site-packages (from handcalcs) (0.5.1)\n",
      "Requirement already satisfied: jupyter-core in /Users/ryantalbot/opt/anaconda3/lib/python3.9/site-packages (from nbconvert>=6.0->handcalcs) (4.10.0)\n",
      "Requirement already satisfied: beautifulsoup4 in /Users/ryantalbot/opt/anaconda3/lib/python3.9/site-packages (from nbconvert>=6.0->handcalcs) (4.11.1)\n",
      "Requirement already satisfied: jupyterlab-pygments in /Users/ryantalbot/opt/anaconda3/lib/python3.9/site-packages (from nbconvert>=6.0->handcalcs) (0.1.2)\n",
      "Requirement already satisfied: mistune<2,>=0.8.1 in /Users/ryantalbot/opt/anaconda3/lib/python3.9/site-packages (from nbconvert>=6.0->handcalcs) (0.8.4)\n",
      "Requirement already satisfied: traitlets>=5.0 in /Users/ryantalbot/opt/anaconda3/lib/python3.9/site-packages (from nbconvert>=6.0->handcalcs) (5.1.1)\n",
      "Requirement already satisfied: testpath in /Users/ryantalbot/opt/anaconda3/lib/python3.9/site-packages (from nbconvert>=6.0->handcalcs) (0.6.0)\n",
      "Requirement already satisfied: nbclient<0.6.0,>=0.5.0 in /Users/ryantalbot/opt/anaconda3/lib/python3.9/site-packages (from nbconvert>=6.0->handcalcs) (0.5.13)\n",
      "Requirement already satisfied: pygments>=2.4.1 in /Users/ryantalbot/opt/anaconda3/lib/python3.9/site-packages (from nbconvert>=6.0->handcalcs) (2.11.2)\n",
      "Requirement already satisfied: bleach in /Users/ryantalbot/opt/anaconda3/lib/python3.9/site-packages (from nbconvert>=6.0->handcalcs) (4.1.0)\n",
      "Requirement already satisfied: defusedxml in /Users/ryantalbot/opt/anaconda3/lib/python3.9/site-packages (from nbconvert>=6.0->handcalcs) (0.7.1)\n",
      "Requirement already satisfied: jinja2>=2.4 in /Users/ryantalbot/opt/anaconda3/lib/python3.9/site-packages (from nbconvert>=6.0->handcalcs) (2.11.3)\n",
      "Requirement already satisfied: pandocfilters>=1.4.1 in /Users/ryantalbot/opt/anaconda3/lib/python3.9/site-packages (from nbconvert>=6.0->handcalcs) (1.5.0)\n",
      "Requirement already satisfied: entrypoints>=0.2.2 in /Users/ryantalbot/opt/anaconda3/lib/python3.9/site-packages (from nbconvert>=6.0->handcalcs) (0.4)\n",
      "Requirement already satisfied: nbformat>=4.4 in /Users/ryantalbot/opt/anaconda3/lib/python3.9/site-packages (from nbconvert>=6.0->handcalcs) (5.3.0)\n",
      "Requirement already satisfied: toolz in /Users/ryantalbot/opt/anaconda3/lib/python3.9/site-packages (from innerscope->handcalcs) (0.11.2)\n",
      "Requirement already satisfied: MarkupSafe>=0.23 in /Users/ryantalbot/opt/anaconda3/lib/python3.9/site-packages (from jinja2>=2.4->nbconvert>=6.0->handcalcs) (2.1.1)\n",
      "Requirement already satisfied: nest-asyncio in /Users/ryantalbot/opt/anaconda3/lib/python3.9/site-packages (from nbclient<0.6.0,>=0.5.0->nbconvert>=6.0->handcalcs) (1.5.5)\n",
      "Requirement already satisfied: jupyter-client>=6.1.5 in /Users/ryantalbot/opt/anaconda3/lib/python3.9/site-packages (from nbclient<0.6.0,>=0.5.0->nbconvert>=6.0->handcalcs) (6.1.12)\n",
      "Requirement already satisfied: jsonschema>=2.6 in /Users/ryantalbot/opt/anaconda3/lib/python3.9/site-packages (from nbformat>=4.4->nbconvert>=6.0->handcalcs) (4.4.0)\n",
      "Requirement already satisfied: fastjsonschema in /Users/ryantalbot/opt/anaconda3/lib/python3.9/site-packages (from nbformat>=4.4->nbconvert>=6.0->handcalcs) (2.15.1)\n",
      "Requirement already satisfied: soupsieve>1.2 in /Users/ryantalbot/opt/anaconda3/lib/python3.9/site-packages (from beautifulsoup4->nbconvert>=6.0->handcalcs) (2.3.1)\n",
      "Requirement already satisfied: packaging in /Users/ryantalbot/opt/anaconda3/lib/python3.9/site-packages (from bleach->nbconvert>=6.0->handcalcs) (21.3)\n",
      "Requirement already satisfied: webencodings in /Users/ryantalbot/opt/anaconda3/lib/python3.9/site-packages (from bleach->nbconvert>=6.0->handcalcs) (0.5.1)\n",
      "Requirement already satisfied: six>=1.9.0 in /Users/ryantalbot/opt/anaconda3/lib/python3.9/site-packages (from bleach->nbconvert>=6.0->handcalcs) (1.16.0)\n",
      "Requirement already satisfied: pyrsistent!=0.17.0,!=0.17.1,!=0.17.2,>=0.14.0 in /Users/ryantalbot/opt/anaconda3/lib/python3.9/site-packages (from jsonschema>=2.6->nbformat>=4.4->nbconvert>=6.0->handcalcs) (0.18.0)\n",
      "Requirement already satisfied: attrs>=17.4.0 in /Users/ryantalbot/opt/anaconda3/lib/python3.9/site-packages (from jsonschema>=2.6->nbformat>=4.4->nbconvert>=6.0->handcalcs) (21.4.0)\n",
      "Requirement already satisfied: python-dateutil>=2.1 in /Users/ryantalbot/opt/anaconda3/lib/python3.9/site-packages (from jupyter-client>=6.1.5->nbclient<0.6.0,>=0.5.0->nbconvert>=6.0->handcalcs) (2.8.2)\n",
      "Requirement already satisfied: pyzmq>=13 in /Users/ryantalbot/opt/anaconda3/lib/python3.9/site-packages (from jupyter-client>=6.1.5->nbclient<0.6.0,>=0.5.0->nbconvert>=6.0->handcalcs) (23.2.1)\n",
      "Requirement already satisfied: tornado>=4.1 in /Users/ryantalbot/opt/anaconda3/lib/python3.9/site-packages (from jupyter-client>=6.1.5->nbclient<0.6.0,>=0.5.0->nbconvert>=6.0->handcalcs) (6.1)\n"
     ]
    }
   ],
   "source": [
    "!pip install handcalcs"
   ]
  },
  {
   "cell_type": "code",
   "execution_count": 6,
   "id": "c454441b",
   "metadata": {
    "scrolled": true
   },
   "outputs": [
    {
     "ename": "ModuleNotFoundError",
     "evalue": "No module named 'handcalcs'",
     "output_type": "error",
     "traceback": [
      "\u001b[0;31m---------------------------------------------------------------------------\u001b[0m",
      "\u001b[0;31mModuleNotFoundError\u001b[0m                       Traceback (most recent call last)",
      "\u001b[0;32m/var/folders/j_/555m2zps099832fjh_m8jjnc0000gn/T/ipykernel_99666/1038288564.py\u001b[0m in \u001b[0;36m<cell line: 1>\u001b[0;34m()\u001b[0m\n\u001b[0;32m----> 1\u001b[0;31m \u001b[0;32mimport\u001b[0m \u001b[0mhandcalcs\u001b[0m\u001b[0;34m.\u001b[0m\u001b[0mrender\u001b[0m\u001b[0;34m\u001b[0m\u001b[0;34m\u001b[0m\u001b[0m\n\u001b[0m",
      "\u001b[0;31mModuleNotFoundError\u001b[0m: No module named 'handcalcs'"
     ]
    }
   ],
   "source": [
    "import handcalcs.render"
   ]
  },
  {
   "cell_type": "code",
   "execution_count": 7,
   "id": "4941f0ba",
   "metadata": {},
   "outputs": [
    {
     "data": {
      "text/plain": [
       "['/Users/ryantalbot/Desktop/MSDS/Statistical Inference Specialization/Foundation for Data Science/wk3',\n",
       " '/Users/ryantalbot/opt/anaconda3/envs/tf2/lib/python39.zip',\n",
       " '/Users/ryantalbot/opt/anaconda3/envs/tf2/lib/python3.9',\n",
       " '/Users/ryantalbot/opt/anaconda3/envs/tf2/lib/python3.9/lib-dynload',\n",
       " '',\n",
       " '/Users/ryantalbot/.local/lib/python3.9/site-packages',\n",
       " '/Users/ryantalbot/opt/anaconda3/envs/tf2/lib/python3.9/site-packages',\n",
       " '/Users/ryantalbot/.local/lib/python3.9/site-packages/IPython/extensions',\n",
       " '/Users/ryantalbot/.ipython']"
      ]
     },
     "execution_count": 7,
     "metadata": {},
     "output_type": "execute_result"
    }
   ],
   "source": [
    "import sys\n",
    "sys.path"
   ]
  },
  {
   "cell_type": "code",
   "execution_count": null,
   "id": "7df6954f",
   "metadata": {},
   "outputs": [],
   "source": [
    "# /Users/yufeng/anaconda3/envs/py33/bin/python -m pip install plotly\n",
    "\n",
    "/Users/ryantalbot/opt/anaconda3/envs/tf2/bin/python -m pip handcalcs"
   ]
  }
 ],
 "metadata": {
  "kernelspec": {
   "display_name": "Python 3 (ipykernel)",
   "language": "python",
   "name": "python3"
  },
  "language_info": {
   "codemirror_mode": {
    "name": "ipython",
    "version": 3
   },
   "file_extension": ".py",
   "mimetype": "text/x-python",
   "name": "python",
   "nbconvert_exporter": "python",
   "pygments_lexer": "ipython3",
   "version": "3.9.12"
  }
 },
 "nbformat": 4,
 "nbformat_minor": 5
}
