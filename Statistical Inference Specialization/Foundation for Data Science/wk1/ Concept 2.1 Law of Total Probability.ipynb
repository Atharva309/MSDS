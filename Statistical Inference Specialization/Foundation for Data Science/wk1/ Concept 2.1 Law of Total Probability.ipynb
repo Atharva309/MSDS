{
 "cells": [
  {
   "cell_type": "code",
   "execution_count": 5,
   "id": "f17928bf",
   "metadata": {},
   "outputs": [],
   "source": [
    "#replicate\n",
    "set.seed(110)\n",
    "sims = 1000"
   ]
  },
  {
   "cell_type": "code",
   "execution_count": 6,
   "id": "768d1191",
   "metadata": {},
   "outputs": [],
   "source": [
    "#create vectors to track if it is sunny/if Anne goes to work\n",
    "sun = rep(0, sims)\n",
    "work = rep(0, sims)"
   ]
  },
  {
   "cell_type": "code",
   "execution_count": 7,
   "id": "0cf9ef46",
   "metadata": {},
   "outputs": [],
   "source": [
    "#run the loop\n",
    "for(i in 1:sims){\n",
    "  \n",
    "  #flip to see what the weather is\n",
    "  weather = runif(1)\n",
    "  \n",
    "  #flip to see if Anne goes to work\n",
    "  go = runif(1)\n",
    "  \n",
    "  #the case where it is sunny\n",
    "  if(weather <= .6){\n",
    "    \n",
    "    #mark that it was sunny\n",
    "    sun[i] = 1\n",
    "    \n",
    "    #Anne goes to work with probability .95 in this case\n",
    "    if(go <= .95){\n",
    "      work[i] = 1\n",
    "    }    \n",
    "  }\n",
    "  \n",
    "  #the case where it is rainy\n",
    "  if(weather > .4){\n",
    "    \n",
    "    #Anne goes to work with probability .3 in this case\n",
    "    if(go <= .3){\n",
    "      work[i] = 1\n",
    "    }\n",
    "  }\n",
    "}"
   ]
  },
  {
   "cell_type": "code",
   "execution_count": 9,
   "id": "09d69955",
   "metadata": {},
   "outputs": [
    {
     "data": {
      "text/html": [
       "0.639"
      ],
      "text/latex": [
       "0.639"
      ],
      "text/markdown": [
       "0.639"
      ],
      "text/plain": [
       "[1] 0.639"
      ]
     },
     "metadata": {},
     "output_type": "display_data"
    },
    {
     "data": {
      "text/html": [
       "0.705"
      ],
      "text/latex": [
       "0.705"
      ],
      "text/markdown": [
       "0.705"
      ],
      "text/plain": [
       "[1] 0.705"
      ]
     },
     "metadata": {},
     "output_type": "display_data"
    }
   ],
   "source": [
    "#we should get .6 for sun and .69 for work\n",
    "mean(sun); mean(work)\n",
    "\n",
    "## [1] 0.639\n",
    "## [1] 0.705"
   ]
  },
  {
   "cell_type": "code",
   "execution_count": null,
   "id": "dd36b260",
   "metadata": {},
   "outputs": [],
   "source": []
  }
 ],
 "metadata": {
  "kernelspec": {
   "display_name": "R",
   "language": "R",
   "name": "ir"
  },
  "language_info": {
   "codemirror_mode": "r",
   "file_extension": ".r",
   "mimetype": "text/x-r-source",
   "name": "R",
   "pygments_lexer": "r",
   "version": "4.2.1"
  }
 },
 "nbformat": 4,
 "nbformat_minor": 5
}
