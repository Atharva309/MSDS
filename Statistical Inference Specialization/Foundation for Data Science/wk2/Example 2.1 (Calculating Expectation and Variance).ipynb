{
 "cells": [
  {
   "cell_type": "code",
   "execution_count": 1,
   "id": "732fba0c",
   "metadata": {},
   "outputs": [
    {
     "data": {
      "text/html": [
       "2.545"
      ],
      "text/latex": [
       "2.545"
      ],
      "text/markdown": [
       "2.545"
      ],
      "text/plain": [
       "[1] 2.545"
      ]
     },
     "metadata": {},
     "output_type": "display_data"
    },
    {
     "data": {
      "text/html": [
       "30.6286036036036"
      ],
      "text/latex": [
       "30.6286036036036"
      ],
      "text/markdown": [
       "30.6286036036036"
      ],
      "text/plain": [
       "[1] 30.6286"
      ]
     },
     "metadata": {},
     "output_type": "display_data"
    }
   ],
   "source": [
    "#replicate\n",
    "set.seed(110)\n",
    "sims = 1000\n",
    "\n",
    "#generate winnings\n",
    "winnings = sample(c(10, 0, -5), sims, replace = TRUE, prob = c(2/6, 3/6, 1/6))\n",
    "\n",
    "#the mean and variance should match above (2.5 and 31.25)\n",
    "mean(winnings); var(winnings)"
   ]
  },
  {
   "cell_type": "code",
   "execution_count": null,
   "id": "4fc5c4f1",
   "metadata": {},
   "outputs": [],
   "source": []
  }
 ],
 "metadata": {
  "kernelspec": {
   "display_name": "R",
   "language": "R",
   "name": "ir"
  },
  "language_info": {
   "codemirror_mode": "r",
   "file_extension": ".r",
   "mimetype": "text/x-r-source",
   "name": "R",
   "pygments_lexer": "r",
   "version": "4.2.1"
  }
 },
 "nbformat": 4,
 "nbformat_minor": 5
}
