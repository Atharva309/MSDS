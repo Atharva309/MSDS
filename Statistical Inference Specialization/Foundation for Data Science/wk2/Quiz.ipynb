{
 "cells": [
  {
   "cell_type": "markdown",
   "id": "066f1745",
   "metadata": {},
   "source": [
    "## Question 1\n",
    "\n",
    "### Prompt 1: For each of the following scenarios, answer the question with a numerical answer or a “Yes” or “No”. If you do not have enough information, write “Can’t tell”. For all situations, assume  0 < P(A) < 1  and 0 < P(B) < 1.\n",
    "\n",
    "### If A and B are two events such that P(A)=0.7, P(B)=0.5, and P(B∣A)=0.6, find P(A∪B). If possible, round your answer to two decimal places."
   ]
  },
  {
   "cell_type": "markdown",
   "id": "5f842671",
   "metadata": {},
   "source": [
    "## Answer: ?\n"
   ]
  },
  {
   "cell_type": "markdown",
   "id": "7535fd03",
   "metadata": {},
   "source": [
    "---\n",
    "\n"
   ]
  },
  {
   "cell_type": "markdown",
   "id": "6d46da30",
   "metadata": {},
   "source": [
    "## Question 2. \n",
    "\n",
    "### For each of the following scenarios, answer the question with a numerical answer or a “Yes” or “No”. If you do not have enough information, write “Can’t tell”. For all situations, assume 0<P(A)<1 and 0<P(B)<1.\n",
    "\n",
    "### If A is a subset of B, can A and B be independent? (Answer Yes, No, or Can't tell.)"
   ]
  },
  {
   "cell_type": "markdown",
   "id": "dad6fa9f",
   "metadata": {},
   "source": [
    "## Answer: No"
   ]
  },
  {
   "cell_type": "code",
   "execution_count": null,
   "id": "2110fa52",
   "metadata": {},
   "outputs": [],
   "source": []
  }
 ],
 "metadata": {
  "kernelspec": {
   "display_name": "R",
   "language": "R",
   "name": "ir"
  },
  "language_info": {
   "codemirror_mode": "r",
   "file_extension": ".r",
   "mimetype": "text/x-r-source",
   "name": "R",
   "pygments_lexer": "r",
   "version": "4.2.1"
  }
 },
 "nbformat": 4,
 "nbformat_minor": 5
}
