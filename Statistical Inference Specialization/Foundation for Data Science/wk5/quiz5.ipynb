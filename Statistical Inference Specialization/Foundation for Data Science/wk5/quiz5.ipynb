{
 "cells": [
  {
   "cell_type": "markdown",
   "id": "116d95d2",
   "metadata": {},
   "source": [
    "## Question 1."
   ]
  },
  {
   "cell_type": "markdown",
   "id": "2706ebe3",
   "metadata": {},
   "source": [
    "#### A store orders 10 units of a certain item. For each unit sold, it makes 10 dollars. For each item that remains unsold, it loses 5 dollars. Let X be the number of items sold in a week. If the store knows that X is a discrete uniform random variable, with X taking values {0,1,…,10}, find the expected profit"
   ]
  },
  {
   "cell_type": "markdown",
   "id": "24bff727",
   "metadata": {},
   "source": [
    "### Answer:  25"
   ]
  },
  {
   "cell_type": "markdown",
   "id": "aad1cb5d",
   "metadata": {},
   "source": [
    "----"
   ]
  },
  {
   "cell_type": "markdown",
   "id": "8dfaedfa",
   "metadata": {},
   "source": [
    "## Question 2. "
   ]
  },
  {
   "cell_type": "markdown",
   "id": "b7994698",
   "metadata": {},
   "source": [
    "#### Suppose that the service time at a call center is exponentially distributed with the average call lasting 10 minutes. If 3 workers are each on a call, what is the probability that they have each completed their service in 12 minutes? Assume that the length of each call is independent of every other call. Round answer to four decimal places."
   ]
  },
  {
   "cell_type": "markdown",
   "id": "1676bbab",
   "metadata": {},
   "source": [
    "### Answer: .3412"
   ]
  },
  {
   "cell_type": "markdown",
   "id": "f58234b1",
   "metadata": {},
   "source": [
    "----"
   ]
  },
  {
   "cell_type": "markdown",
   "id": "09019e0f",
   "metadata": {},
   "source": [
    "## Question 3. "
   ]
  },
  {
   "cell_type": "markdown",
   "id": "ddb02e9b",
   "metadata": {},
   "source": [
    "|      | y=1 | y=2 | y=3 |\n",
    "| ----- | ----- | ----- | ----- |\n",
    "| x=1 | 0.20 | 0.25 | 0.05 |\n",
    "| x=5 | 0.10 | 0.15 | 0.25 |\n",
    "\n",
    "#### Suppose that X and Y are random variables with the joint probability mass function above.\n",
    "\n",
    "#### Find P(X=1)."
   ]
  },
  {
   "cell_type": "markdown",
   "id": "15f81400",
   "metadata": {},
   "source": [
    "### Answer:  .50"
   ]
  },
  {
   "cell_type": "markdown",
   "id": "949faef5",
   "metadata": {},
   "source": [
    "----"
   ]
  },
  {
   "cell_type": "markdown",
   "id": "965a7248",
   "metadata": {},
   "source": [
    "## Question 4."
   ]
  },
  {
   "cell_type": "markdown",
   "id": "89bc84a7",
   "metadata": {},
   "source": [
    "#### Suppose that X and Y are random variables with the joint probability mass function below.\n",
    "\n",
    "|      | y=1 | y=4 | y=16 |\n",
    "| ----- | ----- | ----- | ----- |\n",
    "| x=1 | 0.20 | 0.25 | 0.05 |\n",
    "| x=5 | 0.10 | 0.15 | 0.25 |\n",
    "\n",
    "#### Find P(X>Y)."
   ]
  },
  {
   "cell_type": "markdown",
   "id": "c3239285",
   "metadata": {},
   "source": [
    "### Answer: .25"
   ]
  },
  {
   "cell_type": "markdown",
   "id": "2de0eabe",
   "metadata": {},
   "source": [
    "----"
   ]
  },
  {
   "cell_type": "markdown",
   "id": "ad8e1376",
   "metadata": {},
   "source": [
    "## Question 5. "
   ]
  },
  {
   "cell_type": "markdown",
   "id": "ed414245",
   "metadata": {},
   "source": [
    "#### Suppose that X and Y are random variables with the joint probability mass function below.\n",
    "\n",
    "|      | y=1 | y=4 | y=16 |\n",
    "| ----- | ----- | ----- | ----- |\n",
    "| x=1 | 0.20 | 0.25 | 0.05 |\n",
    "| x=5 | 0.10 | 0.15 | 0.25 |\n",
    "\n",
    "#### Determine Cov(X,Y)."
   ]
  },
  {
   "cell_type": "markdown",
   "id": "0761daf3",
   "metadata": {},
   "source": [
    "### Answer: 5.40"
   ]
  },
  {
   "cell_type": "markdown",
   "id": "4d7df2db",
   "metadata": {},
   "source": [
    "----"
   ]
  },
  {
   "cell_type": "markdown",
   "id": "09de474a",
   "metadata": {},
   "source": [
    "## Question 6. "
   ]
  },
  {
   "cell_type": "markdown",
   "id": "e3301893",
   "metadata": {},
   "source": [
    "#### Suppose that X and Y are random variables with the joint probability mass function below.\n",
    "\n",
    "|      | y=1 | y=4 | y=16 |\n",
    "| ----- | ----- | ----- | ----- |\n",
    "| x=1 | 0.20 | 0.25 | 0.05 |\n",
    "| x=5 | 0.10 | 0.15 | 0.25 |\n",
    "\n",
    "#### Find ρ, the correlation coefficient of X and Y. Round answer to four decimal places."
   ]
  },
  {
   "cell_type": "markdown",
   "id": "1ea9b138",
   "metadata": {},
   "source": [
    "### Answer: .4345"
   ]
  },
  {
   "cell_type": "markdown",
   "id": "fa72ba1a",
   "metadata": {},
   "source": [
    "----"
   ]
  },
  {
   "cell_type": "markdown",
   "id": "a0de6d52",
   "metadata": {},
   "source": [
    "## Question 7. "
   ]
  },
  {
   "cell_type": "markdown",
   "id": "923c81cb",
   "metadata": {},
   "source": [
    "#### Suppose that X and Y are random variables with the joint probability mass function above\n",
    "\n",
    "|      | y=1 | y=4 | y=16 |\n",
    "| ----- | ----- | ----- | ----- |\n",
    "| x=1 | 0.20 | 0.25 | 0.05 |\n",
    "| x=5 | 0.10 | 0.15 | 0.25 |\n",
    "\n",
    "#### Are X and Y independent? (Answer \"Yes\", \"No\", or \"Can't determine\")"
   ]
  },
  {
   "cell_type": "markdown",
   "id": "8da00716",
   "metadata": {},
   "source": [
    "### Answer: No"
   ]
  },
  {
   "cell_type": "markdown",
   "id": "8174d727",
   "metadata": {},
   "source": [
    "----"
   ]
  },
  {
   "cell_type": "code",
   "execution_count": null,
   "id": "4de22ee7",
   "metadata": {},
   "outputs": [],
   "source": []
  }
 ],
 "metadata": {
  "kernelspec": {
   "display_name": "R",
   "language": "R",
   "name": "ir"
  },
  "language_info": {
   "codemirror_mode": "r",
   "file_extension": ".r",
   "mimetype": "text/x-r-source",
   "name": "R",
   "pygments_lexer": "r",
   "version": "4.2.1"
  }
 },
 "nbformat": 4,
 "nbformat_minor": 5
}
