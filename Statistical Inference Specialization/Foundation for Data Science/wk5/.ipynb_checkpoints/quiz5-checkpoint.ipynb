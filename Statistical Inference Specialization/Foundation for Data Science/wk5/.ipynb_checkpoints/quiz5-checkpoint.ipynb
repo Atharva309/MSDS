{
 "cells": [
  {
   "cell_type": "markdown",
   "id": "116d95d2",
   "metadata": {},
   "source": [
    "## Question 1."
   ]
  },
  {
   "cell_type": "markdown",
   "id": "2706ebe3",
   "metadata": {},
   "source": [
    "#### A store orders 10 units of a certain item. For each unit sold, it makes 10 dollars. For each item that remains unsold, it loses 5 dollars. Let X be the number of items sold in a week. If the store knows that X is a discrete uniform random variable, with X taking values {0,1,…,10}, find the expected profit"
   ]
  },
  {
   "cell_type": "markdown",
   "id": "24bff727",
   "metadata": {},
   "source": [
    "### Answer: "
   ]
  },
  {
   "cell_type": "markdown",
   "id": "aad1cb5d",
   "metadata": {},
   "source": [
    "----"
   ]
  },
  {
   "cell_type": "markdown",
   "id": "8dfaedfa",
   "metadata": {},
   "source": [
    "## Question 2. "
   ]
  },
  {
   "cell_type": "markdown",
   "id": "b7994698",
   "metadata": {},
   "source": [
    "#### Suppose that the service time at a call center is exponentially distributed with the average call lasting 10 minutes. If 3 workers are each on a call, what is the probability that they have each completed their service in 12 minutes? Assume that the length of each call is independent of every other call. Round answer to four decimal places."
   ]
  },
  {
   "cell_type": "markdown",
   "id": "1676bbab",
   "metadata": {},
   "source": [
    "### Answer: "
   ]
  },
  {
   "cell_type": "markdown",
   "id": "f58234b1",
   "metadata": {},
   "source": [
    "----"
   ]
  },
  {
   "cell_type": "markdown",
   "id": "09019e0f",
   "metadata": {},
   "source": [
    "## Question 3. "
   ]
  },
  {
   "cell_type": "code",
   "execution_count": 32,
   "id": "3c43dd17",
   "metadata": {},
   "outputs": [
    {
     "data": {
      "text/plain": [
       "     y=1  y=2  y=3\n",
       "x=1 0.20 0.25 0.05\n",
       "x=5 0.10 0.15 0.25"
      ]
     },
     "metadata": {},
     "output_type": "display_data"
    }
   ],
   "source": [
    "tab <- matrix(c(0.20, 0.25, 0.05, 0.10, 0.15, 0.25), ncol=3, byrow=TRUE)\n",
    "colnames(tab) <- c('y=1','y=2','y=3')\n",
    "rownames(tab) <- c('x=1','x=5')\n",
    "tab <- as.table(tab)\n",
    "tab"
   ]
  },
  {
   "cell_type": "markdown",
   "id": "ccf9c000",
   "metadata": {},
   "source": [
    "#### Suppose that X and Y are random variables with the joint probability mass function above.\n",
    "\n",
    "#### Find P(X=1)."
   ]
  },
  {
   "cell_type": "markdown",
   "id": "949faef5",
   "metadata": {},
   "source": [
    "----"
   ]
  },
  {
   "cell_type": "markdown",
   "id": "965a7248",
   "metadata": {},
   "source": [
    "## Question 4."
   ]
  },
  {
   "cell_type": "markdown",
   "id": "89bc84a7",
   "metadata": {},
   "source": [
    "#### Suppose that X and Y are random variables with the joint probability mass function below.\n"
   ]
  },
  {
   "cell_type": "code",
   "execution_count": 33,
   "id": "5920db4e",
   "metadata": {},
   "outputs": [
    {
     "data": {
      "text/plain": [
       "     y=1  y=4 y=16\n",
       "x=1 0.20 0.25 0.05\n",
       "x=5 0.10 0.15 0.25"
      ]
     },
     "metadata": {},
     "output_type": "display_data"
    }
   ],
   "source": [
    "tab <- matrix(c(0.20, 0.25, 0.05, 0.10, 0.15, 0.25), ncol=3, byrow=TRUE)\n",
    "colnames(tab) <- c('y=1','y=4','y=16')\n",
    "rownames(tab) <- c('x=1','x=5')\n",
    "tab <- as.table(tab)\n",
    "tab"
   ]
  },
  {
   "cell_type": "markdown",
   "id": "0c3039b5",
   "metadata": {},
   "source": [
    "#### Find P(X>Y)."
   ]
  },
  {
   "cell_type": "markdown",
   "id": "c3239285",
   "metadata": {},
   "source": [
    "### Answer: "
   ]
  },
  {
   "cell_type": "markdown",
   "id": "2de0eabe",
   "metadata": {},
   "source": [
    "----"
   ]
  },
  {
   "cell_type": "markdown",
   "id": "ad8e1376",
   "metadata": {},
   "source": [
    "## Question 5. "
   ]
  },
  {
   "cell_type": "markdown",
   "id": "ed414245",
   "metadata": {},
   "source": [
    "#### Suppose that X and Y are random variables with the joint probability mass function below."
   ]
  },
  {
   "cell_type": "code",
   "execution_count": 34,
   "id": "f603d197",
   "metadata": {},
   "outputs": [
    {
     "data": {
      "text/plain": [
       "     y=1  y=4 y=16\n",
       "x=1 0.20 0.25 0.05\n",
       "x=5 0.10 0.15 0.25"
      ]
     },
     "metadata": {},
     "output_type": "display_data"
    }
   ],
   "source": [
    "tab"
   ]
  },
  {
   "cell_type": "markdown",
   "id": "6ff61ec9",
   "metadata": {},
   "source": [
    "#### Determine Cov(X,Y)."
   ]
  },
  {
   "cell_type": "markdown",
   "id": "0761daf3",
   "metadata": {},
   "source": [
    "### Answer: "
   ]
  },
  {
   "cell_type": "markdown",
   "id": "4d7df2db",
   "metadata": {},
   "source": [
    "----"
   ]
  },
  {
   "cell_type": "markdown",
   "id": "09de474a",
   "metadata": {},
   "source": [
    "## Question 6. "
   ]
  },
  {
   "cell_type": "markdown",
   "id": "e3301893",
   "metadata": {},
   "source": [
    "#### Suppose that X and Y are random variables with the joint probability mass function below."
   ]
  },
  {
   "cell_type": "code",
   "execution_count": 35,
   "id": "725157cb",
   "metadata": {},
   "outputs": [
    {
     "data": {
      "text/plain": [
       "     y=1  y=4 y=16\n",
       "x=1 0.20 0.25 0.05\n",
       "x=5 0.10 0.15 0.25"
      ]
     },
     "metadata": {},
     "output_type": "display_data"
    }
   ],
   "source": [
    "tab"
   ]
  },
  {
   "cell_type": "markdown",
   "id": "33124e59",
   "metadata": {},
   "source": [
    "#### Find ρ, the correlation coefficient of X and Y. Round answer to four decimal places."
   ]
  },
  {
   "cell_type": "markdown",
   "id": "1ea9b138",
   "metadata": {},
   "source": [
    "### Answer: "
   ]
  },
  {
   "cell_type": "markdown",
   "id": "fa72ba1a",
   "metadata": {},
   "source": [
    "----"
   ]
  },
  {
   "cell_type": "markdown",
   "id": "a0de6d52",
   "metadata": {},
   "source": [
    "## Question 7. "
   ]
  },
  {
   "cell_type": "markdown",
   "id": "923c81cb",
   "metadata": {},
   "source": [
    "#### Suppose that X and Y are random variables with the joint probability mass function above"
   ]
  },
  {
   "cell_type": "code",
   "execution_count": 36,
   "id": "2df68496",
   "metadata": {},
   "outputs": [
    {
     "data": {
      "text/plain": [
       "     y=1  y=4 y=16\n",
       "x=1 0.20 0.25 0.05\n",
       "x=5 0.10 0.15 0.25"
      ]
     },
     "metadata": {},
     "output_type": "display_data"
    }
   ],
   "source": [
    "tab"
   ]
  },
  {
   "cell_type": "markdown",
   "id": "4769c7cd",
   "metadata": {},
   "source": [
    "#### Are X and Y independent? (Answer \"Yes\", \"No\", or \"Can't determine\")"
   ]
  },
  {
   "cell_type": "markdown",
   "id": "8da00716",
   "metadata": {},
   "source": [
    "### Answer: "
   ]
  },
  {
   "cell_type": "markdown",
   "id": "8174d727",
   "metadata": {},
   "source": [
    "----"
   ]
  }
 ],
 "metadata": {
  "kernelspec": {
   "display_name": "R",
   "language": "R",
   "name": "ir"
  },
  "language_info": {
   "codemirror_mode": "r",
   "file_extension": ".r",
   "mimetype": "text/x-r-source",
   "name": "R",
   "pygments_lexer": "r",
   "version": "4.2.1"
  }
 },
 "nbformat": 4,
 "nbformat_minor": 5
}
