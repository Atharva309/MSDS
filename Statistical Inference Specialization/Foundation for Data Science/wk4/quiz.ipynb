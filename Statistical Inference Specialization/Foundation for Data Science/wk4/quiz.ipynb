{
 "cells": [
  {
   "cell_type": "markdown",
   "id": "92113461",
   "metadata": {},
   "source": [
    "## Question 1."
   ]
  },
  {
   "cell_type": "markdown",
   "id": "ef681709",
   "metadata": {},
   "source": [
    "#### A skilled worked requires at least 1010 minutes, and no more than 2020 minutes, to complete a certain task. The completion time XX is a continuous random variable with density function f(x)=c/x2f(x)=c/x2 for 10≤x≤2010≤x≤20 and f(x)=0f(x)=0 for all other values of xx.\n",
    "\n",
    "#### What is the value of c?"
   ]
  },
  {
   "cell_type": "markdown",
   "id": "45f9eda7",
   "metadata": {},
   "source": [
    "### Answer: 20\n"
   ]
  },
  {
   "cell_type": "markdown",
   "id": "bfb343eb",
   "metadata": {},
   "source": [
    "---"
   ]
  },
  {
   "cell_type": "markdown",
   "id": "6a201439",
   "metadata": {},
   "source": [
    "## Question 2."
   ]
  },
  {
   "cell_type": "markdown",
   "id": "ced3a1a9",
   "metadata": {},
   "source": [
    "#### A skilled worked requires at least 1010 minutes, and no more than 2020 minutes, to complete a certain task. The completion time XX is a continuous random variable with density function f(x)=c/x2f(x)=c/x2 for 10≤x≤2010≤x≤20 and f(x)=0f(x)=0 for all other values of xx.\n",
    "\n",
    "#### Find the probability that the worker completes the task in 15 minutes or less. Round your answer to three decimal places"
   ]
  },
  {
   "cell_type": "markdown",
   "id": "5bf03f99",
   "metadata": {},
   "source": [
    "### Answer: .667"
   ]
  },
  {
   "cell_type": "markdown",
   "id": "e57def09",
   "metadata": {},
   "source": [
    "----"
   ]
  },
  {
   "cell_type": "markdown",
   "id": "a9bb6f19",
   "metadata": {},
   "source": [
    "## Question 3."
   ]
  },
  {
   "cell_type": "markdown",
   "id": "f6ab9518",
   "metadata": {},
   "source": [
    "#### A skilled worked requires at least 1010 minutes, and no more than 2020 minutes, to complete a certain task. The completion time XX is a continuous random variable with density function f(x)=c/x2f(x)=c/x2 for 10≤x≤2010≤x≤20 and f(x)=0f(x)=0 for all other values of xx.\n",
    "\n",
    "#### Find the expected time expected time for the worker to complete the task. Round your answer to three decimal places"
   ]
  },
  {
   "cell_type": "markdown",
   "id": "a087f799",
   "metadata": {},
   "source": [
    "### Answer: 13.863 "
   ]
  },
  {
   "cell_type": "markdown",
   "id": "9ec61145",
   "metadata": {},
   "source": [
    "----"
   ]
  },
  {
   "cell_type": "markdown",
   "id": "5d5b8e12",
   "metadata": {},
   "source": [
    "## Question 4."
   ]
  },
  {
   "cell_type": "markdown",
   "id": "bc36a125",
   "metadata": {},
   "source": [
    "#### The number of eggs laid on a tree leaf by an insect of a certain type is a Poisson random variable, XX, with parameter cc, where E(X)=cE(X)=c. However, such a random variable can only be observed if it is positive, since if it is 0, then we cannot know that such an insect was on the leaf. If we let YY denote the observed number of eggs, then P(Y=i)=P(X=i∣X>0)P(Y=i)=P(X=i∣X>0), where XX is Poisson with parameter cc.\n",
    "\n",
    "#### Find E(Y)E(Y). \n",
    "\n",
    "#### (Note 1: your answer will be a mathematical expression with cc. When you type in your answer, the preview box will display what the mathematical expression looks like. \n",
    "\n",
    "#### Note 2: Coursera uses the capital letter \"E\" to represent the mathematical constant \"e\" equivalent to approximately 2.72.)"
   ]
  },
  {
   "cell_type": "markdown",
   "id": "c97150ca",
   "metadata": {},
   "source": [
    "### Answer: "
   ]
  },
  {
   "cell_type": "markdown",
   "id": "390b102c",
   "metadata": {},
   "source": [
    "Hint: This is a two-step problem.  First, you should use the definition of conditioning to find the probability mass function for the random variable YY.  Then, you can use the definition of expectation to find E(Y)E(Y).\n",
    "\n",
    "Please be sure that you are using the capital letter \"E\" to represent the mathematical constant \"e\" equivalent to approximately 2.72."
   ]
  },
  {
   "cell_type": "code",
   "execution_count": 3,
   "id": "02547bfd",
   "metadata": {},
   "outputs": [],
   "source": [
    "# Answer # c/(1-E^-c)"
   ]
  },
  {
   "cell_type": "markdown",
   "id": "bcd38624",
   "metadata": {},
   "source": [
    "-----"
   ]
  },
  {
   "cell_type": "markdown",
   "id": "9e920fd2",
   "metadata": {},
   "source": [
    "## Question 5."
   ]
  },
  {
   "cell_type": "markdown",
   "id": "1a0a5252",
   "metadata": {},
   "source": [
    "#### Suppose X is a random variable X∼N(12,4).\n",
    "\n",
    "#### Find the probability that X is within 1.5 standard deviations of the mean. Round your answer to four decimal places."
   ]
  },
  {
   "cell_type": "markdown",
   "id": "e713bcd6",
   "metadata": {},
   "source": [
    "### Answer: .8664"
   ]
  },
  {
   "cell_type": "markdown",
   "id": "e2042a67",
   "metadata": {},
   "source": [
    "----"
   ]
  },
  {
   "cell_type": "markdown",
   "id": "309bef5d",
   "metadata": {},
   "source": [
    "## Question 6."
   ]
  },
  {
   "cell_type": "markdown",
   "id": "e1238be2",
   "metadata": {},
   "source": [
    "#### Suppose X is a random variable X∼N(12,4)X∼N(12,4).\n",
    "\n",
    "#### Find k such that P(X>k)=0.10P(X>k)=0.10. Round your answer to two decimal places"
   ]
  },
  {
   "cell_type": "markdown",
   "id": "1cf167b8",
   "metadata": {},
   "source": [
    "### Answer: 14.56"
   ]
  },
  {
   "cell_type": "markdown",
   "id": "d9f3f023",
   "metadata": {},
   "source": [
    "----"
   ]
  },
  {
   "cell_type": "code",
   "execution_count": null,
   "id": "22ae4cee",
   "metadata": {},
   "outputs": [],
   "source": []
  }
 ],
 "metadata": {
  "kernelspec": {
   "display_name": "R",
   "language": "R",
   "name": "ir"
  },
  "language_info": {
   "codemirror_mode": "r",
   "file_extension": ".r",
   "mimetype": "text/x-r-source",
   "name": "R",
   "pygments_lexer": "r",
   "version": "4.2.1"
  }
 },
 "nbformat": 4,
 "nbformat_minor": 5
}
