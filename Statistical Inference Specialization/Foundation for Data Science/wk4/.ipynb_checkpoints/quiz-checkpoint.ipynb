{
 "cells": [
  {
   "cell_type": "markdown",
   "id": "92113461",
   "metadata": {},
   "source": [
    "## Question 1."
   ]
  },
  {
   "cell_type": "markdown",
   "id": "ef681709",
   "metadata": {},
   "source": [
    "#### A skilled worked requires at least 1010 minutes, and no more than 2020 minutes, to complete a certain task. The completion time XX is a continuous random variable with density function f(x)=c/x2f(x)=c/x2 for 10≤x≤2010≤x≤20 and f(x)=0f(x)=0 for all other values of xx.\n",
    "\n",
    "#### What is the value of c?"
   ]
  },
  {
   "cell_type": "markdown",
   "id": "45f9eda7",
   "metadata": {},
   "source": [
    "### Answer: "
   ]
  },
  {
   "cell_type": "markdown",
   "id": "bfb343eb",
   "metadata": {},
   "source": [
    "---"
   ]
  },
  {
   "cell_type": "code",
   "execution_count": null,
   "id": "95d8b5ea",
   "metadata": {},
   "outputs": [],
   "source": []
  }
 ],
 "metadata": {
  "kernelspec": {
   "display_name": "R",
   "language": "R",
   "name": "ir"
  },
  "language_info": {
   "codemirror_mode": "r",
   "file_extension": ".r",
   "mimetype": "text/x-r-source",
   "name": "R",
   "pygments_lexer": "r",
   "version": "4.2.1"
  }
 },
 "nbformat": 4,
 "nbformat_minor": 5
}
