{
 "cells": [
  {
   "cell_type": "markdown",
   "id": "769d65ef",
   "metadata": {},
   "source": [
    "2.1 List the total (unitprice * quantity) as “Total Value”  by orderid for the top 5 orders.  (That is, the five orders with the highest Total Value.)  \n",
    "\n",
    "\n",
    "2.2 How many products does Northwinds have in inventory?    \n",
    "\n",
    "\n",
    "2.3 How many products are out of stock? \n",
    "\n",
    "\n",
    "2.4 From which supplier(s) does Northwinds carry the fewest products? \n",
    "\n",
    "\n",
    "2.5 Which Northwinds employees (just show their employeeid) had over 100 orders ?  "
   ]
  },
  {
   "cell_type": "markdown",
   "id": "03702c1d",
   "metadata": {},
   "source": [
    "2.1 List the total (unitprice * quantity) as “Total Value”  by orderid for the top 5 orders.  (That is, the five orders with the highest Total Value.)  \n"
   ]
  },
  {
   "cell_type": "markdown",
   "id": "b31738b3",
   "metadata": {},
   "source": [
    "```\n",
    "SELECT OrderID, \n",
    "        SUM(UnitPrice * Quantity) AS \"Total Value\" \n",
    "        FROM \"alanparadise/nw\".\"orderdetails\"\n",
    "    GROUP BY OrderID\n",
    "    ORDER BY 2 DESC LIMIT 5;\n",
    "```"
   ]
  },
  {
   "cell_type": "markdown",
   "id": "38520a3e",
   "metadata": {},
   "source": [
    "2.2 How many products does Northwinds have in inventory?    \n"
   ]
  },
  {
   "cell_type": "markdown",
   "id": "603c8f93",
   "metadata": {},
   "source": [
    "```\n",
    "SELECT count(productid) \n",
    "\t    FROM \"alanparadise/nw\".\"products\"\n",
    "\t\tWhere unitsinstock > 0;\n",
    "```"
   ]
  },
  {
   "cell_type": "markdown",
   "id": "ef28cf2b",
   "metadata": {},
   "source": [
    "2.3 How many products are out of stock? \n"
   ]
  },
  {
   "cell_type": "markdown",
   "id": "bb5f0fe9",
   "metadata": {},
   "source": [
    "```\n",
    "SELECT count(productid) \n",
    "\t    FROM \"alanparadise/nw\".\"products\"\n",
    "\t\tWhere unitsinstock = 0;\n",
    "```"
   ]
  },
  {
   "cell_type": "markdown",
   "id": "13dbb66e",
   "metadata": {},
   "source": [
    "2.4 From which supplier(s) does Northwinds carry the fewest products? \n"
   ]
  },
  {
   "cell_type": "markdown",
   "id": "6c79884a",
   "metadata": {},
   "source": [
    "```\n",
    "SELECT supplierid, count(productid) \n",
    "\t    FROM \"alanparadise/nw\".\"products\"\n",
    "\tGROUP BY supplierid\n",
    "\tORDER BY 2;\n",
    "```"
   ]
  },
  {
   "cell_type": "markdown",
   "id": "1aaa7e87",
   "metadata": {},
   "source": [
    "2.5 Which Northwinds employees (just show their employeeid) had over 100 orders ?  "
   ]
  },
  {
   "cell_type": "markdown",
   "id": "1045a72b",
   "metadata": {},
   "source": [
    "```\n",
    "SELECT employeeid, count(orderid) AS \"Orders\" \n",
    "          FROM \"alanparadise/nw\".\"orders\"\n",
    "       GROUP BY employeeid\n",
    "       HAVING count(orderid) > 100\n",
    "       ORDER BY 2 desc;\n",
    "```"
   ]
  },
  {
   "cell_type": "code",
   "execution_count": null,
   "id": "efb1a673",
   "metadata": {},
   "outputs": [],
   "source": []
  }
 ],
 "metadata": {
  "kernelspec": {
   "display_name": "Python 3 (ipykernel)",
   "language": "python",
   "name": "python3"
  },
  "language_info": {
   "codemirror_mode": {
    "name": "ipython",
    "version": 3
   },
   "file_extension": ".py",
   "mimetype": "text/x-python",
   "name": "python",
   "nbconvert_exporter": "python",
   "pygments_lexer": "ipython3",
   "version": "3.9.12"
  }
 },
 "nbformat": 4,
 "nbformat_minor": 5
}
