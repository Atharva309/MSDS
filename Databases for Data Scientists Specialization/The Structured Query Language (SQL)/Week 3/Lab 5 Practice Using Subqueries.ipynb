{
 "cells": [
  {
   "cell_type": "markdown",
   "id": "b537ce6a",
   "metadata": {},
   "source": [
    "2.  Practice some SELECT queries using subqueries\n",
    "\n",
    "2.1 List the productid, productname, unitprice of the lowest priced product Northwinds sells.   \n",
    "\n",
    "2.2 How many orders in the orders table have a bad customerID (either missing or not on file in the customers table.)     \n",
    "\n",
    "2.3 Use a subquery in a SELECT to list something interesting.   \n",
    "\n",
    "2.4 Use a subquery in a FROM to list something interesting. "
   ]
  },
  {
   "cell_type": "markdown",
   "id": "783c6693",
   "metadata": {},
   "source": [
    "2.1 List the productid, productname, unitprice of the lowest priced product Northwinds sells.   \n"
   ]
  },
  {
   "cell_type": "markdown",
   "id": "38458e4c",
   "metadata": {},
   "source": [
    "```\n",
    "select productID, productname, unitprice\n",
    "    \tfrom \"alanparadise/nw\".\"products\"\n",
    "    \twhere UnitPrice = (\n",
    "         \tselect MIN(UnitPrice) \n",
    "            from \"alanparadise/nw\".\"products\" )\n",
    "```"
   ]
  },
  {
   "cell_type": "markdown",
   "id": "362d0741",
   "metadata": {},
   "source": [
    "2.2 How many orders in the orders table have a bad customerID (either missing or not on file in the customers table.)     \n"
   ]
  },
  {
   "cell_type": "markdown",
   "id": "4fa06664",
   "metadata": {},
   "source": [
    "```\n",
    "SELECT count(orderid)\n",
    "\tFROM \"alanparadise/nw\".\"orders\"\n",
    "\tWHERE customerid NOT IN (\n",
    "\t\tSELECT customerID FROM \"alanparadise/nw\".\"customers\");\n",
    "```"
   ]
  },
  {
   "cell_type": "code",
   "execution_count": null,
   "id": "9ab8ba85",
   "metadata": {},
   "outputs": [],
   "source": []
  }
 ],
 "metadata": {
  "kernelspec": {
   "display_name": "Python 3 (ipykernel)",
   "language": "python",
   "name": "python3"
  },
  "language_info": {
   "codemirror_mode": {
    "name": "ipython",
    "version": 3
   },
   "file_extension": ".py",
   "mimetype": "text/x-python",
   "name": "python",
   "nbconvert_exporter": "python",
   "pygments_lexer": "ipython3",
   "version": "3.9.12"
  }
 },
 "nbformat": 4,
 "nbformat_minor": 5
}
