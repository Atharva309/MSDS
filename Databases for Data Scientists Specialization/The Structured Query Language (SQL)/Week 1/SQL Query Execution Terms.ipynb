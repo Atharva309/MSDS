{
 "cells": [
  {
   "cell_type": "markdown",
   "id": "b29b1af1",
   "metadata": {},
   "source": [
    "1. Which of the following statements are TRUE regarding SQL? (Mark all that apply)\n",
    "\n",
    "SQL is actually not a programming language; It is a query language. \n",
    "\n",
    "The input to a SQL query is usually one or more tables. \n",
    "\n",
    "The output from a SQL query is usually a table called the Answer Set. "
   ]
  },
  {
   "cell_type": "markdown",
   "id": "e93fa3c8",
   "metadata": {},
   "source": [
    "2. Which statements below are true regarding an “Interim Answer Set”? ?\n",
    "\n",
    "Certain SQL commands/clauses will result in the creation of an interim answer set. \n",
    "\n",
    "Although you can’t see them, interim answer sets consume resources and impact query run time. "
   ]
  },
  {
   "cell_type": "markdown",
   "id": "806f253c",
   "metadata": {},
   "source": [
    "3. Running a query requires five steps.  The choices below list these five steps.  Select the answer that has these steps in the proper sequence.\n",
    "\n",
    "\n",
    "\n",
    "1. Parse the query and check for proper syntax.   \n",
    "\n",
    "2. Bind the tables and columns.  \n",
    "\n",
    "3. Create an executable and hand it to the optimizer.  \n",
    "\n",
    "4. Calculate the optimal execution plan. Run the execution plan.  \n",
    "\n",
    "5.  Run the execution plan. "
   ]
  },
  {
   "cell_type": "markdown",
   "id": "bc2c61b4",
   "metadata": {},
   "source": [
    "4. What are some considerations when tuning a query for optimal performance? (Mark all that apply) \n",
    "\n",
    "Reduce disk I/O if possible. \n",
    "\n",
    "Use indexes if possible. "
   ]
  },
  {
   "cell_type": "code",
   "execution_count": null,
   "id": "89201a35",
   "metadata": {},
   "outputs": [],
   "source": []
  }
 ],
 "metadata": {
  "kernelspec": {
   "display_name": "Python 3 (ipykernel)",
   "language": "python",
   "name": "python3"
  },
  "language_info": {
   "codemirror_mode": {
    "name": "ipython",
    "version": 3
   },
   "file_extension": ".py",
   "mimetype": "text/x-python",
   "name": "python",
   "nbconvert_exporter": "python",
   "pygments_lexer": "ipython3",
   "version": "3.9.12"
  }
 },
 "nbformat": 4,
 "nbformat_minor": 5
}
