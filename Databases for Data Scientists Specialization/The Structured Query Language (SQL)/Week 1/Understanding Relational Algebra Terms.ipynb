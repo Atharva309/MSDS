{
 "cells": [
  {
   "cell_type": "markdown",
   "id": "aa6c9402",
   "metadata": {},
   "source": [
    "Question 1\n",
    "\n",
    "Select the Relational Algebra term that matches the description in the question.\n",
    "\n",
    "Associates every row from one relation with every row from another relation, basically multiplying the two relations. \n",
    "\n",
    "\n",
    "\n",
    "Product\n"
   ]
  },
  {
   "cell_type": "markdown",
   "id": "02ab7a8a",
   "metadata": {},
   "source": [
    "Question 2\n",
    "\n",
    "Select the Relational Algebra term that matches the description in the question.\n",
    "\n",
    "Creates an answer set that matches rows from multiple relations using a common key. \n",
    "1 / 1 point\n",
    "\n",
    "\n",
    "Natural Join\n",
    "\n"
   ]
  },
  {
   "cell_type": "markdown",
   "id": "80ad2aca",
   "metadata": {},
   "source": [
    "\n",
    "Question 3\n",
    "\n",
    "Select the Relational Algebra term that matches the description in the question.\n",
    "\n",
    "Creates an answer set that contains a subset of ROWS from the input relation. \n",
    "1 / 1 point\n",
    "\n",
    "\n",
    "\n",
    "Selection\n"
   ]
  },
  {
   "cell_type": "markdown",
   "id": "682eefc6",
   "metadata": {},
   "source": [
    "\n",
    "Question 4\n",
    "\n",
    "Select the Relational Algebra term that matches the description in the question.\n",
    "\n",
    "Creates an answer set that contains a subset of COLUMNS from the input relation. \n",
    "1 / 1 point\n",
    "\n",
    "\n",
    "\n",
    "Projection\n"
   ]
  },
  {
   "cell_type": "markdown",
   "id": "de40907b",
   "metadata": {},
   "source": [
    "\n",
    "Question 5\n",
    "\n",
    "Select the Relational Algebra term that matches the description in the question.\n",
    "\n",
    "Creates an answer set that concatenates two similar relations together.\n",
    "\n",
    "\n",
    "Union\n"
   ]
  },
  {
   "cell_type": "code",
   "execution_count": null,
   "id": "dafe9e8b",
   "metadata": {},
   "outputs": [],
   "source": []
  }
 ],
 "metadata": {
  "kernelspec": {
   "display_name": "Python 3 (ipykernel)",
   "language": "python",
   "name": "python3"
  },
  "language_info": {
   "codemirror_mode": {
    "name": "ipython",
    "version": 3
   },
   "file_extension": ".py",
   "mimetype": "text/x-python",
   "name": "python",
   "nbconvert_exporter": "python",
   "pygments_lexer": "ipython3",
   "version": "3.9.12"
  }
 },
 "nbformat": 4,
 "nbformat_minor": 5
}
