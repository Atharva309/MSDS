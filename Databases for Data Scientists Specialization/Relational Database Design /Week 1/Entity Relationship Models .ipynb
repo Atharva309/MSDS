{
 "cells": [
  {
   "cell_type": "markdown",
   "id": "8208b8aa",
   "metadata": {},
   "source": [
    "### Instructions:\n",
    "\n",
    "In this assignment, you will be asked to create ERDs or interpret ERDs. \n",
    "\n",
    "For creating ERDs, make sure you are using Crow’s foot notation for ERDs, and including key components: Entities, Attributes (if provided), Identifiers (if provided), Relationships (with correct cardinality and participation multiplicities).\n",
    "\n",
    "For interpreting ERDs, make sure you are including Entities, the explicit terms for cardinality and participation for the relationships, such as must, may, can, one and only one, one or more, many, etc.\n",
    "\n",
    "After you finish your answers, you can move forward to the solutions. You need to compare the solutions with your answers, and summarize your learning experience. The learning summary will be peer reviewed as your grade for Assignment 1. You can find detailed instructions for the learning summary later on."
   ]
  },
  {
   "cell_type": "markdown",
   "id": "2d31b4e9",
   "metadata": {},
   "source": [
    "### Question 1: Create an ERD\n",
    "\n",
    "Read the following statements and draw the Entity Relationship Diagram using Crow’s Foot Notation. \n",
    "\n",
    "The ER Model is as below:\n",
    "\n",
    "A clinic must have one or more doctors; A doctor may belong to one or more clinics.\n",
    "\n",
    "A patient may visit one or more doctors; A doctor may take one or more patients.\n",
    "\n",
    "A doctor may have one and only one assistant nurse; An assistant nurse must work for one or more doctors. \n",
    "\n",
    " A patient must have one and only one history record; A record must belong to one and only one patient. \n",
    "\n",
    "Now you can draw the ER Diagram based on the ER Model."
   ]
  },
  {
   "cell_type": "markdown",
   "id": "d76594a7",
   "metadata": {},
   "source": [
    "---"
   ]
  },
  {
   "cell_type": "markdown",
   "id": "0ba11946",
   "metadata": {},
   "source": [
    "Read and understand the ERD below, and answer the questions:"
   ]
  },
  {
   "cell_type": "code",
   "execution_count": 2,
   "id": "3d0cd8ee",
   "metadata": {},
   "outputs": [],
   "source": [
    "## ADD IMAGE"
   ]
  },
  {
   "cell_type": "markdown",
   "id": "66ac9a50",
   "metadata": {},
   "source": [
    "A: What are the entities in the ERD?\n",
    "\n",
    "B: Translate this ERD to a list of statements. Make sure you address the cardinality and participation using correct terms may, must, one and only one, one or more, etc."
   ]
  },
  {
   "cell_type": "markdown",
   "id": "d616e3a7",
   "metadata": {},
   "source": [
    "---"
   ]
  },
  {
   "cell_type": "markdown",
   "id": "5ebf2e63",
   "metadata": {},
   "source": [
    "### Question 3: Create an ERD\n",
    "\n",
    "Read the following statements about a Database for Art Galleries and collections of drawings. Draw the Entity-Relationship Attribute Diagram with Crow’s Foot Notation. No credit will be granted for other notations. Make sure you have all entities, all attributes (and identifiers), all relationships, and proper multiplicities.\n",
    "\n",
    "- A gallery must have one and only one location and each location must have one and only one gallery. \n",
    "\n",
    "        - Galleries have attributes: GalleryNum(identifier), Name, Phone, Hours, and Intro. \n",
    "\n",
    "        - Locations have attributes: ID(identifier), Country, State, City, Street, and ZipCode.\n",
    "\n",
    "- A gallery may have one or more drawings and each drawing may belong to one and only one gallery. \n",
    "\n",
    "        - Drawings have attributes: DrawingNum(identifier), Title, Size, Material, and Date.\n",
    "\n",
    "- A drawing must be created by at least one artist and each artist must create at least one drawing. \n",
    "\n",
    "        - Artists have attributes: ArtistNum(identifier), Name, Phone, Birthday, and Email.\n",
    "\n",
    "- An artist may have a bio statement and a bio statement must belong to one artist.\n",
    "\n",
    "        - BioStatements have attributes: Citizenship, Education, Experience, MasterPiece(s), and BriefIntroduction."
   ]
  },
  {
   "cell_type": "code",
   "execution_count": null,
   "id": "e9c3c5d5",
   "metadata": {},
   "outputs": [],
   "source": []
  }
 ],
 "metadata": {
  "kernelspec": {
   "display_name": "Python 3 (ipykernel)",
   "language": "python",
   "name": "python3"
  },
  "language_info": {
   "codemirror_mode": {
    "name": "ipython",
    "version": 3
   },
   "file_extension": ".py",
   "mimetype": "text/x-python",
   "name": "python",
   "nbconvert_exporter": "python",
   "pygments_lexer": "ipython3",
   "version": "3.9.12"
  }
 },
 "nbformat": 4,
 "nbformat_minor": 5
}
