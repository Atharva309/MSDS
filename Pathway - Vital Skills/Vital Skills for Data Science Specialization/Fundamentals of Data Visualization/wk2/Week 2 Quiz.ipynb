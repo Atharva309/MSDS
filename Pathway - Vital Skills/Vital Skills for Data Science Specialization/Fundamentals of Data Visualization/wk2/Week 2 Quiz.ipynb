{
 "cells": [
  {
   "cell_type": "markdown",
   "id": "01aaae7c",
   "metadata": {},
   "source": [
    "1. Why are tasks important to characterize in visualizations? "
   ]
  },
  {
   "cell_type": "markdown",
   "id": "d8a59f2e",
   "metadata": {},
   "source": [
    "2. How do people typically build knowledge from visualizations?"
   ]
  },
  {
   "cell_type": "markdown",
   "id": "fe524a5b",
   "metadata": {},
   "source": [
    "3. What aspect of a task defines why someone is performing it?"
   ]
  },
  {
   "cell_type": "markdown",
   "id": "26fd1ee7",
   "metadata": {},
   "source": [
    "4. What should come first: task characterization or preliminary design?"
   ]
  },
  {
   "cell_type": "markdown",
   "id": "f962a6e4",
   "metadata": {},
   "source": [
    "5. Why is provenance important to consider when designing a visualization?"
   ]
  },
  {
   "cell_type": "markdown",
   "id": "a39cecc0",
   "metadata": {},
   "source": [
    "6. Why are low-fidelity prototypes important for visualization design projects?"
   ]
  },
  {
   "cell_type": "markdown",
   "id": "175430b1",
   "metadata": {},
   "source": [
    "7. What is the primary advantage of the Five Design Sheets approach compared to a Design study?"
   ]
  },
  {
   "cell_type": "markdown",
   "id": "6bc3b491",
   "metadata": {},
   "source": [
    "8. What happens in the Design phase of a Design Study?"
   ]
  },
  {
   "cell_type": "markdown",
   "id": "bb0c4cd0",
   "metadata": {},
   "source": [
    "9. Which of the following projects is best suited for a Design Study approach?"
   ]
  },
  {
   "cell_type": "markdown",
   "id": "5f146dde",
   "metadata": {},
   "source": [
    "10. Which of the following is a benefit of visualizations over statistics?"
   ]
  },
  {
   "cell_type": "markdown",
   "id": "9a260c76",
   "metadata": {},
   "source": [
    "11. How might we use knowledge of visual perception to drive visualization design?"
   ]
  },
  {
   "cell_type": "markdown",
   "id": "53089542",
   "metadata": {},
   "source": [
    "12. Which of the following information do we not receive information about during our first glance at a visualization (i.e., before attention kicks in)?"
   ]
  },
  {
   "cell_type": "markdown",
   "id": "37ef45ec",
   "metadata": {},
   "source": [
    "13. How might we best indicate that a set of datapoints are related?"
   ]
  },
  {
   "cell_type": "markdown",
   "id": "a6862e48",
   "metadata": {},
   "source": [
    "14. I have a dataset that has Temperatures, Elevations, and Snowfall Depths for various mountain tops around the world. If my stakeholders care most about comparing temperatures, what visual channel should I use to communicate temperature? "
   ]
  },
  {
   "cell_type": "markdown",
   "id": "6cac83a4",
   "metadata": {},
   "source": [
    "15. I have a dataset that has Temperatures, Elevations, and Snowfall Depths for various mountain tops around the world. Which combination of visual channels will allow people to best analyze that data? "
   ]
  },
  {
   "cell_type": "markdown",
   "id": "b999cdf1",
   "metadata": {},
   "source": [
    "16. I have a node-link diagram that has too much visual clutter to read effectively. Which of the following is not likely to reduce the amount of clutter in the graph? "
   ]
  },
  {
   "cell_type": "markdown",
   "id": "f1a31c10",
   "metadata": {},
   "source": [
    "17. Why is uncertainty important in visualization? "
   ]
  },
  {
   "cell_type": "markdown",
   "id": "9049db66",
   "metadata": {},
   "source": [
    "18. What is a key disadvantage of bar charts with error bars compared to violin plots? "
   ]
  },
  {
   "cell_type": "markdown",
   "id": "706dbb82",
   "metadata": {},
   "source": [
    "19. True or False: Uncertainty visualization can only be used when the data is aggregated by category? "
   ]
  },
  {
   "cell_type": "markdown",
   "id": "41481b8e",
   "metadata": {},
   "source": [
    "20. Why might it be useful to not explicitly encode uncertainty?"
   ]
  }
 ],
 "metadata": {
  "kernelspec": {
   "display_name": "Python 3 (ipykernel)",
   "language": "python",
   "name": "python3"
  },
  "language_info": {
   "codemirror_mode": {
    "name": "ipython",
    "version": 3
   },
   "file_extension": ".py",
   "mimetype": "text/x-python",
   "name": "python",
   "nbconvert_exporter": "python",
   "pygments_lexer": "ipython3",
   "version": "3.9.12"
  }
 },
 "nbformat": 4,
 "nbformat_minor": 5
}
