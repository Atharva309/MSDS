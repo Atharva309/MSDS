{
 "cells": [
  {
   "cell_type": "markdown",
   "id": "0e2a228d",
   "metadata": {},
   "source": [
    "1. Why might we prefer to evaluate individual components of a visualization (e.g., the algorithms used, performance on specific tasks, intuitiveness of interactions) over evaluating its holistic utility? "
   ]
  },
  {
   "cell_type": "markdown",
   "id": "3dbe90f6",
   "metadata": {},
   "source": [
    "2. Why might we choose to evaluate the holistic utility of a visualization over that of its specific components (e.g., the algorithms used, performance on specific tasks, intuitiveness of interactions)? "
   ]
  },
  {
   "cell_type": "markdown",
   "id": "f92e98c7",
   "metadata": {},
   "source": [
    "3. The primary purpose of a visualization is:"
   ]
  },
  {
   "cell_type": "markdown",
   "id": "bd73c410",
   "metadata": {},
   "source": [
    "4. Which of the following is *not* a characteristic of a good insight?"
   ]
  },
  {
   "cell_type": "markdown",
   "id": "a3234a74",
   "metadata": {},
   "source": [
    "5. What metric for assessing insights can best characterize a tool’s value in snowballing (i.e., leading to new, complex discoveries)?"
   ]
  },
  {
   "cell_type": "markdown",
   "id": "5afca6cf",
   "metadata": {},
   "source": [
    "6. Identify the best qualitative evaluation method for the following scenario: \n",
    "\n",
    "You want to develop a formative understanding of the kinds of tasks energy analysts conduct with their data sampled from several hundred companies. "
   ]
  },
  {
   "cell_type": "markdown",
   "id": "5bc68e4c",
   "metadata": {},
   "source": [
    "7. Identify the best qualitative evaluation method for the following scenario: \n",
    "\n",
    "You want to develop a summative understanding of specific trade-offs in a dashboard design for web security monitoring for cybersecurity experts as they use the tool."
   ]
  },
  {
   "cell_type": "markdown",
   "id": "0be11ce7",
   "metadata": {},
   "source": [
    "8. Identify the best qualitative evaluation method for the following scenario: \n",
    "\n",
    "You want to develop a formative understanding of the most pressing needs are for tools for biological sequence analysis."
   ]
  },
  {
   "cell_type": "markdown",
   "id": "a9a2703f",
   "metadata": {},
   "source": [
    "9. Identify the best qualitative evaluation method for the following scenario: \n",
    "\n",
    "You want to develop a summative understanding of how well a tool for communicating global migration patterns works for biologists. "
   ]
  },
  {
   "cell_type": "markdown",
   "id": "445d5635",
   "metadata": {},
   "source": [
    "10. Which of the following is not a measure collected in qualitative evaluations?"
   ]
  },
  {
   "cell_type": "markdown",
   "id": "403b26b7",
   "metadata": {},
   "source": [
    "11. For this series of questions, you will design an experiment that tests what visualization type you should use to communicate correlation between two data attributes. \n",
    "\n",
    "Which of the following is a decision making task for this experiment?"
   ]
  },
  {
   "cell_type": "markdown",
   "id": "9e694b70",
   "metadata": {},
   "source": [
    "12. For this series of questions, you will design an experiment that tests what visualization type you should use to communicate correlation between two data attributes. \n",
    "\n",
    "What would your dependent variable be?"
   ]
  },
  {
   "cell_type": "markdown",
   "id": "1e93e48b",
   "metadata": {},
   "source": [
    "13. For this series of questions, you will design an experiment that tests what visualization type you should use to communicate correlation between two data attributes. \n",
    "\n",
    "Why might you want to test the type of visualization used as a between-subjects variable?"
   ]
  },
  {
   "cell_type": "markdown",
   "id": "c95db901",
   "metadata": {},
   "source": [
    "14. What is one advantage of using real data instead of synthetic data in your visualizations? "
   ]
  },
  {
   "cell_type": "markdown",
   "id": "17d1c55c",
   "metadata": {},
   "source": [
    "15. Why is formative evaluation important for visualization design? "
   ]
  },
  {
   "cell_type": "markdown",
   "id": "955a294a",
   "metadata": {},
   "source": [
    "16. Which of the following is an example of summative evaluation? "
   ]
  },
  {
   "cell_type": "markdown",
   "id": "9756b7cf",
   "metadata": {},
   "source": [
    "17. Determine whether the following scenario would best be served by a qualitative evaluation or an experiment:\n",
    "\n",
    "Determine whether a new solution provides less biased trend estimates than a prior solution. "
   ]
  },
  {
   "cell_type": "markdown",
   "id": "0d0768ed",
   "metadata": {},
   "source": [
    "18. Determine whether the following scenario would best be served by a qualitative evaluation or an experiment:\n",
    "\n",
    "Determine how effectively a target solution communicates patterns in a dataset for which there are no previous solutions. "
   ]
  },
  {
   "cell_type": "markdown",
   "id": "5c4c8905",
   "metadata": {},
   "source": [
    "19. Determine whether the following scenario would best be served by a qualitative evaluation or an experiment:\n",
    "\n",
    "Determine the depth to which a visualization tool allows scientists to build complex knowledge. "
   ]
  },
  {
   "cell_type": "markdown",
   "id": "7ac7f367",
   "metadata": {},
   "source": [
    "20. Why are the tools created through design studies best evaluated using qualitative evaluation?"
   ]
  },
  {
   "cell_type": "code",
   "execution_count": null,
   "id": "af125511",
   "metadata": {},
   "outputs": [],
   "source": []
  }
 ],
 "metadata": {
  "kernelspec": {
   "display_name": "Python 3 (ipykernel)",
   "language": "python",
   "name": "python3"
  },
  "language_info": {
   "codemirror_mode": {
    "name": "ipython",
    "version": 3
   },
   "file_extension": ".py",
   "mimetype": "text/x-python",
   "name": "python",
   "nbconvert_exporter": "python",
   "pygments_lexer": "ipython3",
   "version": "3.9.12"
  }
 },
 "nbformat": 4,
 "nbformat_minor": 5
}
