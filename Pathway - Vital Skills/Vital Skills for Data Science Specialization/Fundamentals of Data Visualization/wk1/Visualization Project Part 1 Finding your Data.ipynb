{
 "cells": [
  {
   "cell_type": "markdown",
   "id": "00d094d3",
   "metadata": {},
   "source": [
    "Although optional, participation in these weekly discussion activities is strongly recommended. Throughout this course you will learn techniques to comprehend clients’ data needs, craft visualization solutions, and evaluate your solutions. Discussion board activities allow you to practice and reflect on these concepts within the context of a discipline or problem area relevant to you. \n",
    "\n",
    "For those taking this course as part of the Masters in Data Science, the activities are essential building blocks for the final project. By engaging in these activities/discussions on a weekly basis, you will avoid having to prepare everything for the final project all at once. \n",
    "\n",
    "Locate a dataset that you are interested in working with. The data should be sufficiently complex that you can ask lots of questions about it and engage in creative design techniques, but not so complex that you need specialized hardware or algorithmic approaches to analyze. While you are welcome to use any data you’d like, I recommend that your datasets are tabular (e.g., CSV, TSV, SQL, etc.), contain 5,000 or fewer datapoints (on the order of one hundred or so tends to be sufficiently interesting without causing lag in Altair), and is data that you’re comfortable discussing as part of the course (e.g., avoid data that is overly private or classified). \n",
    "\n",
    "Discuss your dataset, including the data’s source, key attributes/dimensions of the data, and your goals for working with that data (i.e., what are the key questions you want to answer). Identify existing relevant visualizations for working with that data (either using the same data, showing the same concepts, or just that might provide some inspiration) and critique those visualizations based on the practices from this module. What works well? What might need improvement or to change to answer your target questions? "
   ]
  },
  {
   "cell_type": "code",
   "execution_count": null,
   "id": "18f550cf",
   "metadata": {},
   "outputs": [],
   "source": []
  }
 ],
 "metadata": {
  "kernelspec": {
   "display_name": "Python 3 (ipykernel)",
   "language": "python",
   "name": "python3"
  },
  "language_info": {
   "codemirror_mode": {
    "name": "ipython",
    "version": 3
   },
   "file_extension": ".py",
   "mimetype": "text/x-python",
   "name": "python",
   "nbconvert_exporter": "python",
   "pygments_lexer": "ipython3",
   "version": "3.9.12"
  }
 },
 "nbformat": 4,
 "nbformat_minor": 5
}
