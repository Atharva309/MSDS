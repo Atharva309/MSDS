{
 "cells": [
  {
   "cell_type": "markdown",
   "id": "4ccca88e",
   "metadata": {},
   "source": [
    "Assignment Details \n",
    "\n",
    "Begin by reading the following article: What is an Infographic? Examples, Templates & Design Tips\n",
    "\n",
    "     https://venngage.com/blog/what-is-an-infographic/\n",
    "\n",
    "Next, choose one of the two assignment options below and create an infographic.  You may use any of the following websites to create your project:\n",
    "\n",
    "    - Easelly\n",
    "\n",
    "    - Infogram\n",
    "\n",
    "    - Visually\n",
    "\n",
    "    - Piktochart\n",
    "\n",
    "    - Smore\n",
    "\n",
    "Option 1: Create an Infographic on Passwords  \n",
    "\n",
    "For this assignment you will create an infographic on Passwords and Cybersecurity highlighting some of the things covered in the articles and videos.  You can include information you already learned throughout the course as well. For your Infographic highlight:\n",
    "\n",
    "    Basics of Passwords and Cybersecurity\n",
    "\n",
    "    How Passwords and Cybersecurity relates to cybersecurity overall\n",
    "\n",
    "    Highlight a specific aspect of Passwords and Cybersecurity in more detail\n",
    "\n",
    "Option 2: Create an Infographic on Cryptography\n",
    "\n",
    "For this assignment you will create an infographic on one aspect of cryptography highlighting some of the things covered in the articles and videos.  You can include information you already learned throughout the course as well. For your Infographic highlight:\n",
    "\n",
    "    Basics of Cryptography\n",
    "\n",
    "    How cryptography relates to cybersecurity overall\n",
    "\n",
    "    Details of your specific focus with Cryptography focus area\n",
    "\n",
    "Submission Instructions\n",
    "\n",
    "Upload your infographic under \"My Submission\".\n",
    "Review criteria\n",
    "\n",
    "Students will be assessed based on the following:\n",
    "\n",
    "    Design (layout, color scheme, fonts)\n",
    "\n",
    "    Content (terms, facts, quantity of data, quality of data)\n",
    "\n",
    "    Clarity (makes a claim, efficiency, makes clear impression)\n",
    "\n",
    "     Representation (design complements content, careful choice of visuals, data visualization matches content and claim)\n"
   ]
  },
  {
   "cell_type": "code",
   "execution_count": null,
   "id": "0d6a7c75",
   "metadata": {},
   "outputs": [],
   "source": []
  }
 ],
 "metadata": {
  "kernelspec": {
   "display_name": "Python 3 (ipykernel)",
   "language": "python",
   "name": "python3"
  },
  "language_info": {
   "codemirror_mode": {
    "name": "ipython",
    "version": 3
   },
   "file_extension": ".py",
   "mimetype": "text/x-python",
   "name": "python",
   "nbconvert_exporter": "python",
   "pygments_lexer": "ipython3",
   "version": "3.9.12"
  }
 },
 "nbformat": 4,
 "nbformat_minor": 5
}
