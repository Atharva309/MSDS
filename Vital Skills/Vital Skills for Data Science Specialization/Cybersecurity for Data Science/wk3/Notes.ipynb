{
 "cells": [
  {
   "cell_type": "markdown",
   "id": "38c55815",
   "metadata": {},
   "source": [
    "# The Truth about Hackers, in Black and White (and Grey)\n",
    "\n",
    "https://www.webroot.com/blog/2020/04/23/the-truth-about-hackers-in-black-and-white-and-grey/\n",
    "\n",
    "Did you know there are three primary types of hacker—white hats, black hats, and grey hats—and that there are subcategories within each one? \n",
    "\n",
    "Also known as ethical hackers, white hats are coders who test internet systems to find bugs and security loopholes in an effort to help organizations lock them down before black hat hackers, i.e. the bad guys, can exploit them. Black hats, on the other hand, are the ones we’re referring to when we use words like “cybercriminal” or “threat actor.” These are hackers who violate computer security and break into systems for personal or financial gain, destructive motives, or other malicious intent.\n",
    "\n",
    "The last of the three overarching types, grey hat hackers, are the ones whose motives are, well, in a bit of a grey area. Similar to white hats, grey hats may break into computer systems to let administrators know their networks have exploitable vulnerabilities that need to be fixed.\n",
    "\n",
    "You mentioned subtypes. What are they?\n",
    "\n",
    "As with many groups, there’s a wide range of hacker personas, each with different motivations. Here are a few of the basic ones you’re likely to encounter.\n",
    "\n",
    "### Script Kiddies\n",
    "\n",
    "When you picture the stereotypical “hacker in a hoodie”, you’re thinking of a Script Kiddie. Script Kiddies are programming novices who have at least a little coding knowledge but lack expertise. Usually, they get free and open source software on the dark web and use it to infiltrate networks. Their individual motives can place them in black, white, or grey hat territory.\n",
    "\n",
    "### Hacktivists\n",
    "\n",
    "Ever hear of a group of hackers called Anonymous? They’re a very well-known example of a hacktivist group who achieved notoriety when they took down the CIA’s website. Hacktivists are grey hat hackers with the primary goal of bringing public attention to a political or social matter through disruption. Two of the most common hacktivist strategies are stealing and exposing sensitive information or launching a denial of service (DDoS) attack.\n",
    "\n",
    "### Red Hats\n",
    "\n",
    "Red hats are sort of like grey hats, except their goal is to block, confound, or straight-up destroy the efforts of black hat hackers. Think of them like the vigilantes of the hacker world. Rather than reporting breaches, they work to shut down malicious attacks with their own tools.\n",
    "\n",
    "### Nation-State\n",
    "\n",
    "Remember earlier in this post when we mentioned that some black hats are sponsored by governments? That would be this group. Nation-state hackers are ones who engage in espionage, social engineering, or computer intrusion, typically with the goal of acquiring classified information or seeking large ransoms. As they are backed by government organizations, they are often extremely sophisticated and well trained.\n",
    "\n",
    "### Malicious Insiders\n",
    "\n",
    "Perhaps one of the more overlooked threats to a business is the malicious insider. An insider might be a current or former employee who steals or destroys information, or it might be someone hired by a competitor to infiltrate an organization and pilfer trade secrets. The most valuable data for a malicious insider is usernames and passwords, which can then be sold on the dark web to turn a hefty profit."
   ]
  },
  {
   "cell_type": "markdown",
   "id": "aac10a5b",
   "metadata": {},
   "source": [
    "#  Types of Hackers (Hats) Explained \n",
    "\n",
    "https://www.youtube.com/watch?v=Q0F-pv-n_lc\n"
   ]
  },
  {
   "cell_type": "markdown",
   "id": "1e9e8ba4",
   "metadata": {},
   "source": [
    "# Investing In The Internet Of Things Security \n",
    "\n",
    "https://www.forbes.com/sites/cognitiveworld/2019/06/27/investing-in-the-internet-of-things-security/?sh=7792819f3d59\n",
    "\n"
   ]
  }
 ],
 "metadata": {
  "kernelspec": {
   "display_name": "Python 3 (ipykernel)",
   "language": "python",
   "name": "python3"
  },
  "language_info": {
   "codemirror_mode": {
    "name": "ipython",
    "version": 3
   },
   "file_extension": ".py",
   "mimetype": "text/x-python",
   "name": "python",
   "nbconvert_exporter": "python",
   "pygments_lexer": "ipython3",
   "version": "3.9.12"
  }
 },
 "nbformat": 4,
 "nbformat_minor": 5
}
