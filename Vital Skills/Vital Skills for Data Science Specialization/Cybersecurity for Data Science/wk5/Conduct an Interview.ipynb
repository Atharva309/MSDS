{
 "cells": [
  {
   "cell_type": "markdown",
   "id": "42aa72f3",
   "metadata": {},
   "source": [
    "### Conduct an Interview\n",
    "\n",
    "For this assignment, you will conduct and record (if possible) your cybersecurity video interview. \n",
    "Assignment Details\n",
    "\n",
    "= Connect with an expert in the cybersecurity space who interests you in your own professional space or focus area. Leverage the connections made in the prior assignment.  NOTE: Students may have to reach out to multiple folks to get a response and it may take some time so this can start at the beginning of the semester\n",
    "\n",
    "- Schedule a time to video conference with your interviewee\n",
    "\n",
    "- Record and post the interview if possible. Use your questions created in the prior assignment.  If you cannot record, submit a document with copious notes, detailing the interview questions and responses\n",
    "\n",
    "For your interview, adhere to the following:\n",
    "\n",
    "- The interview should be a minimum of 20 minutes\n",
    "\n",
    "- Record your session if possible!\n",
    "\n",
    "- Remember to ask ALL 5 of your questions.\n",
    "\n",
    "- Keep in mind the conversation should be organic in nature!  Have a conversation!\n",
    "\n",
    "- You should ask additional questions based on responses\n",
    "\n",
    "- Make it an engaging experience for you and your interviewee\n",
    "\n",
    "- Once complete, upload your recording to Google Drive\n",
    "\n",
    "- Be sure that your share settings are 'Anyone with the Link' AND 'Viewer'"
   ]
  },
  {
   "cell_type": "markdown",
   "id": "fedec153",
   "metadata": {},
   "source": [
    "Sure, here are 5 quality questions for a cybersecurity interview based on the information provided in the article:\n",
    "\n",
    "1. Situations: \"I recently encountered a situation where our company experienced a cybersecurity breach. Can you share a similar experience from your career, and how did you navigate the aftermath to improve security measures?\"\n",
    "\n",
    "2. Skill-Building: \"As the cybersecurity landscape is constantly evolving, what are the key skills and knowledge areas that you would recommend I focus on to stay updated and effective in my role as a cybersecurity professional?\"\n",
    "\n",
    "3. Self-Awareness: \"In the cybersecurity field, reputation and trust are vital. How can I assess how I am perceived by colleagues and superiors in terms of my cybersecurity knowledge and skills, and what steps can I take to enhance my professional reputation in the industry?\"\n",
    "\n",
    "4. Stories: \"Could you share a specific incident from your career where you had to respond to a significant cybersecurity threat or breach? What were the key lessons learned from that experience, and how did it shape your approach to cybersecurity?\"\n",
    "\n",
    "5. Situations: \"I'm currently working on improving our organization's incident response plan. Can you provide insights into effective incident response strategies or share a situation from your career where a well-executed incident response plan made a difference in mitigating a cyber incident?\"\n",
    "\n",
    "These questions aim to gather insights and guidance from a cybersecurity mentor, leveraging the different question types mentioned in the article. They focus on real-life experiences, skill development, self-awareness, and handling specific situations in the cybersecurity field."
   ]
  },
  {
   "cell_type": "code",
   "execution_count": null,
   "id": "2073e852",
   "metadata": {},
   "outputs": [],
   "source": []
  }
 ],
 "metadata": {
  "kernelspec": {
   "display_name": "Python 3 (ipykernel)",
   "language": "python",
   "name": "python3"
  },
  "language_info": {
   "codemirror_mode": {
    "name": "ipython",
    "version": 3
   },
   "file_extension": ".py",
   "mimetype": "text/x-python",
   "name": "python",
   "nbconvert_exporter": "python",
   "pygments_lexer": "ipython3",
   "version": "3.9.12"
  }
 },
 "nbformat": 4,
 "nbformat_minor": 5
}
