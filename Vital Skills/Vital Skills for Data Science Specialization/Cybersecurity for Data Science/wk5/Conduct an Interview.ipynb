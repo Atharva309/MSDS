{
 "cells": [
  {
   "cell_type": "markdown",
   "id": "089b8377",
   "metadata": {},
   "source": [
    "# Questions\n",
    "Stories:\n",
    "\n",
    "- How has the cybersecurity landscape evolved since you began your career, and have there been any pivotal moments or trends that stand out to you?\n",
    "\n",
    "- What was the most complex or challenging cybersecurity project you've ever worked on, and what did you learn from it?\n",
    "\n",
    "\n",
    "Situations:\n",
    "\n",
    "- Can you share your insights on how to stay updated on emerging threats and vulnerabilities?\n",
    "\n",
    "\n",
    "Skill-Building:\n",
    "\n",
    "- Are there any specific certifications or training programs you recommend for advancing a career in cybersecurity?\n",
    "\n",
    "- What are the key skills and qualities you believe are essential for a successful cybersecurity professional to possess?\n",
    "\n",
    "- Can you share a template or framework for developing a comprehensive cybersecurity incident response plan?\n",
    "\n",
    "\n",
    "### backup questions:\n",
    "\n",
    "Stories:\n",
    "\n",
    "- Can you share a memorable incident from your cybersecurity career where you faced a significant security breach or challenge, and how did you handle it?\n",
    "\n",
    "- Have there been any instances where you encountered a security vulnerability that had particularly far-reaching consequences? How did you mitigate the impact?\n",
    "\n",
    "\n",
    "\n",
    "Situations:\n",
    "\n",
    "- What strategies do you employ for incident response and managing security breaches effectively?\n",
    "\n",
    "- In the context of cybersecurity, how do you suggest balancing security with user convenience and productivity?"
   ]
  },
  {
   "cell_type": "markdown",
   "id": "42aa72f3",
   "metadata": {},
   "source": [
    "\n",
    "### Conduct an Interview\n",
    "\n",
    "For this assignment, you will conduct and record (if possible) your cybersecurity video interview. \n",
    "Assignment Details\n",
    "\n",
    "Connect with an expert in the cybersecurity space who interests you in your own professional space or focus area. Leverage the connections made in the prior assignment.  NOTE: Students may have to reach out to multiple folks to get a response and it may take some time so this can start at the beginning of the semester\n",
    "\n",
    "- Schedule a time to video conference with your interviewee\n",
    "\n",
    "- Record and post the interview if possible. Use your questions created in the prior assignment.  If you cannot record, submit a document with copious notes, detailing the interview questions and responses\n",
    "\n",
    "For your interview, adhere to the following:\n",
    "\n",
    "- The interview should be a minimum of 20 minutes\n",
    "\n",
    "- Record your session if possible!\n",
    "\n",
    "- Remember to ask ALL 5 of your questions.\n",
    "\n",
    "- Keep in mind the conversation should be organic in nature!  Have a conversation!\n",
    "\n",
    "- You should ask additional questions based on responses\n",
    "\n",
    "- Make it an engaging experience for you and your interviewee\n",
    "\n",
    "- Once complete, upload your recording to Google Drive\n",
    "\n",
    "- Be sure that your share settings are 'Anyone with the Link' AND 'Viewer'"
   ]
  },
  {
   "cell_type": "markdown",
   "id": "fedec153",
   "metadata": {},
   "source": [
    "Sure, here are 5 quality questions for a cybersecurity interview based on the information provided in the article:\n",
    "\n",
    "1. Situations: Can you share an experience from your career, where there was a experienced a cybersecurity breach, and how did you navigate the aftermath to improve security measures?\"\n",
    "\n",
    "2. Skill-Building: \"As the cybersecurity landscape is constantly evolving, what are the key skills and knowledge areas that you would recommend one focus on to stay updated and effective in my role as a cybersecurity professional?\"\n",
    "\n",
    "3. Self-Awareness: \"In the cybersecurity field, reputation and trust are vital. How can one assess how thet're  perceived by colleagues and superiors in terms of their cybersecurity knowledge and skills, and what steps can one take to enhance my professional reputation in the industry?\"\n",
    "\n",
    "4. Stories: \"Could you share a specific incident from your career where you had to respond to a significant cybersecurity threat or breach? What were the key lessons learned from that experience, and how did it shape your approach to cybersecurity?\"\n",
    "\n",
    "5. Situations: \"I'm currently working on improving our organization's incident response plan. Can you provide insights into effective incident response strategies or share a situation from your career where a well-executed incident response plan made a difference in mitigating a cyber incident?\"\n",
    "\n",
    "These questions aim to gather insights and guidance from a cybersecurity mentor, leveraging the different question types mentioned in the article. They focus on real-life experiences, skill development, self-awareness, and handling specific situations in the cybersecurity field."
   ]
  },
  {
   "cell_type": "markdown",
   "id": "a10a9fa7",
   "metadata": {},
   "source": []
  },
  {
   "cell_type": "markdown",
   "id": "1a464c4f",
   "metadata": {},
   "source": []
  },
  {
   "cell_type": "markdown",
   "id": "2f44c8f0",
   "metadata": {},
   "source": [
    "# MEMO\n",
    "\n",
    "Part One: Cyber Attack Memo\n",
    "\n",
    "For this assignment, you will create a one page memo. Please note that his memo must look professional. The layout and readability of your memo WILL make a difference in responding to scenarios like those listed below. In your memo, make sure to address the content below with a final product that conveys your message in a clear and concise way that is also aesthetically pleasing to the eye. Please review the videos in this lesson and the reading items to prepare for your final project. Select one (and only one!) of the following scenarios\n",
    "\n",
    "- Scenario 1: You are a senior leader of the World Health Organization. You must produce a memo and public service announcement in response to this actual incident.\n",
    "\n",
    "\n",
    "    - Social/Emotional Impact\n",
    "\n",
    "    - Cultural implications\n",
    "\n",
    "    - Technical awareness and safeguards\n",
    "\n",
    "    - Future proofing\n",
    "\n",
    "    - Policy moving forward to help prevent future instances\n",
    "\n",
    "        NOTE: Be aware of our current environment in this remote world. Dealing with this attack must be done with this aspect in mind. How do we get the message out in a clear and concise way? Which technology tools and modalities do we leverage to disseminate\n"
   ]
  },
  {
   "cell_type": "markdown",
   "id": "ac66bd10",
   "metadata": {},
   "source": [
    "# Potential Questions to ask cybrer security expert that pertain to final project\n",
    "### Social/Emotional Impact:\n",
    "\n",
    "- What strategies do you employ to communicate with stakeholders during and after a cyber incident to minimize panic and anxiety?\n",
    "\n",
    "\n",
    "### Technical Awareness and Safeguards:\n",
    "\n",
    "- How do you stay updated on the latest cybersecurity threats and vulnerabilities, and how does this awareness inform your incident response strategy?\n",
    "\n",
    "- How do you balance between the need for advanced security measures and the potential impact on system usability and efficiency?\n",
    "\n",
    "### Future Proofing:\n",
    "\n",
    "- How do you approach the integration of emerging technologies into your cybersecurity strategy to future-proof the organization against evolving cyber threats?\n",
    "\n",
    "- In your opinion, what are the key elements of a cybersecurity strategy that can adapt and evolve over time to counter new and unforeseen threats?\n",
    "\n",
    "\n",
    "### Policy Moving Forward:\n",
    "\n",
    "\n",
    "\n",
    "These questions aim to cover a broad spectrum of considerations in responding to cyber attacks, ranging from the human and cultural aspects to the technical and policy dimensions."
   ]
  },
  {
   "cell_type": "markdown",
   "id": "a3030375",
   "metadata": {},
   "source": [
    "How do you approach analyzing and mitigating cybersecurity risks within an organization?\n",
    "\n",
    "Can you share a specific incident or experience from your cybersecurity career where you had to respond to a major security breach or incident? What were the key challenges, and how did you handle them?\n",
    "\n",
    "In today's rapidly evolving threat landscape, what strategies do you use to stay updated on the latest cybersecurity threats and trends? How do you apply this knowledge to protect an organization effectively?\n",
    "\n",
    "How do you perceive the role of cybersecurity experts in fostering a culture of security within an organization? \n",
    "\n",
    "With the growing complexity of cyber threats, what are the key skills and certifications you believe are essential for cybersecurity professionals to possess or develop? How do you personally continue to enhance your skill set?\n",
    "\n"
   ]
  },
  {
   "cell_type": "markdown",
   "id": "9df91fcb",
   "metadata": {},
   "source": [
    "## advanced persistent threat (APT), DarkHotel APT\n",
    "established a fake site that impersonated the internal email system used by the WHO. This site went live on March 13, but Urbelis was already tracking the hackers and their domain registration patterns. The unsuccessful password-stealing attack itself was confirmed by Aggio in a conversation with Reuters reporters."
   ]
  },
  {
   "cell_type": "code",
   "execution_count": null,
   "id": "9a9487ec",
   "metadata": {},
   "outputs": [],
   "source": []
  }
 ],
 "metadata": {
  "kernelspec": {
   "display_name": "Python 3 (ipykernel)",
   "language": "python",
   "name": "python3"
  },
  "language_info": {
   "codemirror_mode": {
    "name": "ipython",
    "version": 3
   },
   "file_extension": ".py",
   "mimetype": "text/x-python",
   "name": "python",
   "nbconvert_exporter": "python",
   "pygments_lexer": "ipython3",
   "version": "3.9.12"
  }
 },
 "nbformat": 4,
 "nbformat_minor": 5
}
