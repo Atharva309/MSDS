{
 "cells": [
  {
   "cell_type": "markdown",
   "id": "f53a1647",
   "metadata": {},
   "source": [
    "## Questions:\n",
    "\n",
    "started specific about cyber security and moved from there to broader questions and about personal development in the field. and added follow questions where needed\n",
    "\n",
    "1. All right. So one of the articles that I just read was about dark hotel, ABT. They established a fake site to impersonate the internal email system used by the WHO, the World Health Organization. And I guess they were trying to get email addresses and passwords, I guess, from users. Is that something that are you familiar with? Is that something you would see in your everyday or no?\n",
    "\n",
    "2. So how do you protect or how would you protect or do you have like a game plan when you consult with people and say, okay, this is how we're going to prevent this from happening, or this is the best safeguards or this is the training you need. How would you go about doing that?\n",
    "\n",
    "3. Ryan: So yeah, you kind of touched on a little bit earlier. So, and this probably might even, you might have even answered it. So I wrote this question down. And today's rapidly evolving threat landscape. Which strategies do you use to stay updated on the latest cyber security threats and trends? Yeah. How do you stay up to date on the latest trends and threats, I guess?\n",
    "\n",
    "4. Ryan: Which certifications would... do you think are useful in that field?"
   ]
  },
  {
   "cell_type": "markdown",
   "id": "5fa991e8",
   "metadata": {},
   "source": [
    "Video Reflection Script: Cybersecurity Interview\n",
    "\n",
    "[INTRODUCTION]\n",
    "Hello, everyone. Today, I want to reflect on a fascinating interview I recently conducted with Ruth, a cybersecurity expert. I started specific about cyber security and moved from there to broader questions and about personal development in the field, and added follow questions where needed. We delved into the evolving landscape of cybersecurity threats and the strategies employed to stay ahead of them. Let's dive into the key takeaways.\n",
    "\n",
    "[SECTION 1: Dark Hotel and Cyber Threats]\n",
    "Ruth shared insights into the Dark Hotel ABT incident, where a fake site impersonated the WHO's internal email system. This underscores the importance of understanding the value of personal information. Ruth explained that anything on a business card is considered personally identifiable information. The real-world implications of such attacks were illustrated through a recent breach at Mr. Cooper, emphasizing the critical role of reconnaissance in cybersecurity.\n",
    "\n",
    "[SECTION 2: Cybersecurity Strategies]\n",
    "When it comes to protecting against cyber threats, Ruth emphasized the need for a multi-faceted approach tailored to the specific industry. Different regulations, such as HIPAA for healthcare, require varied strategies. Implementing healthy hygiene practices, ensuring third-party suppliers are secure, and proactive monitoring were highlighted as essential steps. Ruth stressed the importance of hiring smart individuals, including ethical hackers, to anticipate and prevent potential breaches.\n",
    "\n",
    "[SECTION 3: Staying Updated on Cybersecurity Trends]\n",
    "In the rapidly evolving world of cybersecurity, Ruth outlined her strategies for staying updated. She leverages podcasts from industry experts, explores peer-reviewed journals, and uses reliable websites like Leaping Computer. Ruth's approach combines various mediums to stay informed about the latest trends and emerging threats. She also mentioned the value of using resources from educational institutions, like the library at Marist in Gibson, New York.\n",
    "\n",
    "[SECTION 4: Cybersecurity Certifications]\n",
    "Addressing the question of certifications, Ruth highlighted the importance of aligning certifications with one's desired role in the field. The Certified Ethical Hacker (CEH) certification was recommended for those interested in proactive penetration assessments. Additionally, the Certified Information Security Manager (CISM) certification was suggested for those aiming for managerial roles and dealing with paperwork in cybersecurity.\n",
    "\n",
    "[CONCLUSION]\n",
    "In conclusion, my interview with Ruth provided valuable insights into the world of cybersecurity. From the intricacies of recent cyber threats to strategies for protection and staying updated, Ruth's expertise illuminated the challenges and opportunities within this dynamic field. As we navigate an increasingly interconnected world, the importance of cybersecurity and the continuous pursuit of knowledge in the field cannot be overstated. Thank you for joining me in this reflection."
   ]
  },
  {
   "cell_type": "markdown",
   "id": "dfa621cb",
   "metadata": {},
   "source": [
    "\n",
    "**Ryan:** All right. So one of the articles that I just read was about dark hotel, ABT. They established a fake site to impersonate the internal email system used by the WHO, the World Health Organization. And I guess they were trying to get email addresses and passwords, I guess, from users. Is that something that are you familiar with? Is that something you would see in your everyday or no?\n",
    "\n",
    "**Ruth:** So I work mostly with internal [redacted], but that doesn't mean that, you know, I try and keep on top of all the latest bad guys I like to go to. So kind of to translate it down a little bit for, I can turn on like one of the reasons why when you go to a website, [redacted], and this whole privacy thing going on, you have to click the button, you know, is because anything that can be on a business card is considered personal, identifiable information. Right? So about April comes down to her con essence. You have some guy, you can call a call on the phone, you know. Hey, you know, where is this for email? Hey, they got it from wherever. Is it one point, [redacted] left their directory on the internet? It wasn't a big deal. Yeah. But what that does is it allows them to, you know, just spoofing, you know, phishing, or whaling, so another one they use, where they try and get the executives. So you'll find is a lot of people who are kind of more savvy. When they go on LinkedIn, they don't necessarily put their full job title because someone who's doing a con essence is going through LinkedIn, Facebook, TikTok, whatever you want to say, right? And they're looking for those titles. Because certain titles mean you have certain privileges, right? So for example, you know, I put out a mine compliance and assurance because I help everyone do their compliance and make sure that you're doing it. I used to put IT security analyst. But what that triggers people is, hey, she has some extra permissions that media people don't. Yeah. Right? So a lot of that, it's extremely common for an email to be used, you know, a company directory. Just recently, I didn't just have to be a mortgage company, Mr. Cooper, just had a breach where, and we don't know all the details, right? But they shut down their entire mortgage system for my payments and things. So apparently it seems that people's emails can start to send out information. And for those emails, they add a deem, an email, maybe they add an account number. And then they went to the banks and said, oh, this person has a payment. So, you know, we changed our ADA number. You know, this is where it needs to go in. So they could have siphoned off all that money with just a couple of things, right? You know, so that one really comes down to reconnaissance. A lot of stuff is for reconnaissance.\n",
    "\n",
    "**Ryan:** So how do you protect or how would you protect or do you have like a game plan when you consult with people and say, okay, this is how we're going to prevent this from happening, or this is the best safeguards or this is the training you need. How would you go about doing that?\n",
    "\n",
    "**Ruth:** It is a multi-faceted answer, right? Just depending on the industry, right? You're going to treat healthcare companies different or an electric grid company differently, right? Because you have critical infrastructure and then you have HIPAA laws. So regulatory, right? Both of those are more regulatory. But HIPAA is your personal information, right? It's your health information. There are certain laws and regulations that only information is visible by certain people. But me, the patient, I sign a paper, don't read it, and I find it later that that healthcare company uses a third party. I need to store that data. So usually what [redacted], not the place that I understand, but [redacted] are most, I'll say security vendors. What I'll do is say, okay, here is the healthy hygiene. In other words, tell your users, don't do these things, right? Be sure where your information is going. Your third party suppliers, make sure you're competitive. Make sure you sign a paper that says, as a data controller, they call it, that they are properly managing all that data to protect it, right? Where's some guy puts it on a drive and throws it in their laptop, right? Or in their bag? Is there a backup plan? What happens and how are they going to proactively determine if something unusual is happening, right? So even internally, you know, we try, you know, the food that we tell everybody else, right? So, ITSS is based on the NIST framework, the guidelines for, you know, information security. And so there are things like monitor what you have, which in itself is a whole division of people, right? Because you need to have the attackers, the hackers, right? Both good and bad hackers. Because a lot of these companies, the bad guys now are getting money. And you either have nation states that are attacking. This isn't the kid or the young guy who's got their computer messing around anymore, right? Especially with more AI, right? As things become easier, the easier it is for a bad guy to do something, the quicker we have to realize, hey, someone could do this. The proactive is usually what I deem an internal and externally. It's the biggest impact for a company. And don't you have, try to figure out how you're going to protect it and think of all the crazy ideas, right? It used to be in the old days, you know, you used to, you know, look at the person behind you, you know, do you have a badge to get in? They call that tailgating.  Now, now it's, okay, you gave somebody access. Well, it's a quarter later or it's six months later, but you surely still need it. There's that constant proactive kind of activity. So it's mostly, you tell companies, you know, be proactive, monitor your stuff. It's worth paying for the software to help protect you. But when you get that vendor, and this is the hardest part, and you know, make some people in Spirci or, you know, make some crazy a little bit when they really think about it, you have to realize something long before an attacker does. Right? So you have to some really smart folks. You've got to hire some of those hacker types and say, okay, I'm going to give you this car. Can you get into it? Because now it's all computerized, right? So a really good story is the Jeep. I think it was the Jeep. There's a guy who tried to tell, I think it was Chrysler. Is it Chrysler? He told me to try, he said, hey, listen, I can manipulate this car from my living room. I put something underneath the dashboard, and I'm done. Well, wireless, now everyone has wireless in the car. You know, how well are these protecting that? So those, even those crazy things, IoT gives people nightmares. Yeah. Yeah. Right? So that's proactive. Give the vendor who understands what they have and what they can have. And then, hey, listen, you've got a monitor, right? Most attacks are 120 days ago. So you don't even know until much later that something's happened. How would we reduce that down is what many researchers are trying to do now, right? Those people, that's more than me, have a PhD. Okay. Can I use your question? I hope a little bit.\n",
    "\n",
    "**Ryan:** So yeah, you kind of touched on a little bit earlier. So, and this probably might even, you might have even answered it. So I wrote this question down. And today's rapidly evolving threat landscape. Which strategies do you use to stay updated on the latest cyber security threats and trends? Yeah. How do you stay up to date on the latest trends and threats, I guess?\n",
    "\n",
    "**Ruth:** So it's a wonderful time job. Yeah. They can be tough. Yeah. So what I get to limit to my email because email works for me because I can my phone or a podcast. I use podcasts from smart folks, right? And I try to find, I've got to see different podcasts. But pick a subject that you're interested in. I'm really interested in industrial control systems. It's not what I do, right? But if anything's going to happen to like the electric grid or my hot pot at home, right? How are they, what it just means, how are they securing the transformers? How are they securing, you know, those nuclear plants? You know, I can now, in my electricity, I can look online and up to the second, right? That means that there's something on my meter that they're able to wirelessly get to. Well, how are they securing, right? I got to go out and fix stuff. How are they fixing it remotely? So now you're just me. So podcasts, some, I think one is called dark web, web site. Try to find some of those industry. And a lot of the times in LinkedIn, you'll see some of the names, or some will give you, eight years to top ten places that I like to go. And we're kind of working to some of them that you like. Like, leaping computers pretty good. And much like news, you got to find the ones that are accurate, right? And have good reporting that are unbiased. The other thing I do is, I think it's everywhere, I really thought of this. I went to Marist in Gibson, New York, and their library is open to me forever, right? So periodically, I'll go onto the library and I'll just type in industrial control, or risk management. And I'll go look for the journals. Because they're peer reviewed, so that means they're pretty accurate, right? Someone's taken its time to read them, they're a write them. Someone's published them. So peer reviewed journals, web sites, and podcasts. But the biggest ones are usually the web sites and the podcasts. If I have a spare half hour, I'll listen to a podcast. You just got to work it in there, and that's kind of helps your technical vitality. You get the latest words. Like, I just got my masters recently, and something I had never heard of was network virtualization. I just kind of confused me. You mean I could take a network device and now virtualize it to do the same thing, you know, that a protection system does? And you could do that virtually. That just, again, security kind of runs my mind. How do you protect that? Yeah. Right? So it's called NFV, and that was very interesting. So like, that's something new I learned, right? So I'll go out and I'll go find, you know, what's the latest plans in security? What it is, kind of you have to go look, right? And when in article picture interest, trying to get a little more, right? You know, I also bought a couple of books about hacking. You don't always have to get the certifications, but their study guides are pretty good for keeping you current. Yeah, which... So that's something to do.\n",
    "\n",
    "**Ryan:** Which certifications would... do you think are useful in that field?\n",
    "\n",
    "**Ruth:** It depends what role you want to play, right? Yeah. Surprised ethical hacker is really good. I got the books. I gave you insight on how they do proactive penetration assessment. Yeah. Right? What they looked for. And certainly at [redacted], there's the... what do they call them? Key controls over operations. So I'll go through and read. Okay. These are the questions that I wanted to ask. And how would I give them that information? So there's ethical hacker. There's... now there's CISM. Certified information security manager. So if you're going to be more of that management, that paperwork person, either CISS\n"
   ]
  },
  {
   "cell_type": "markdown",
   "id": "529444ae",
   "metadata": {},
   "source": [
    "Title: Reflection on Dark Hotel ABT's Impersonation Tactics\n",
    "\n",
    "[Introduction]\n",
    "Good day, everyone. Today, I would like to reflect upon an intriguing interview I conducted recently. In this interview, I had the opportunity to discuss cybersecurity strategies with Ruth, an expert in the field. Ruth emphasized the importance of tailoring security measures based on the specific industry and regulatory requirements. For example, healthcare companies and electric grid companies have different needs due to critical infrastructure and HIPAA laws.\n",
    "\n",
    "[Engagement with the Interviewee]\n",
    "During the interview, I engaged with Ruth, an expert in internal [redacted] and someone who keeps a vigilant eye on the ever-evolving strategies employed by malevolent actors. Ruth provided valuable insights into the incident, shedding light on its implications and underlying principles.\n",
    "\n",
    "[Raising Awareness on Privacy]\n",
    "Ruth explained how privacy concerns have prompted websites to request user consent before accessing personal information. She connected this practice to the concept that any information comparable to what appears on a business card is considered personally identifiable information. This perspective offers valuable context to frame the severity of the situation at hand.\n",
    "\n",
    "[The Significance of Directory Exposure]\n",
    "Ruth highlighted a critical vulnerability that arises when company directories are exposed on the internet. While seemingly inconsequential initially, this oversight can enable threat actors to engage in harmful activities such as spoofing, phishing, or whaling. For instance, by browsing platforms like LinkedIn, Facebook, or TikTok, malicious actors seek out individuals with specific job titles that grant them elevated privileges within organizations. Ruth herself has adjusted her job title on LinkedIn to mitigate potential risks associated with revealing excessive permissions.\n",
    "\n",
    "[Real-World Examples]\n",
    "To further illustrate the gravity of the situation, Ruth shared a recent incident involving a mortgage company, Mr. Cooper, which suffered a breach. Although details remain limited, the breach led to the temporary shutdown of their entire mortgage system, affecting payments and other critical operations. It appears that the attackers gained access to people's email accounts and used them to send out fraudulent messages containing sensitive information, including account numbers. Subsequently, they approached banks posing as legitimate individuals and manipulated payment instructions to redirect funds. This example underscores the importance of reconnaissance in cyberattacks and how seemingly innocuous breaches can have far-reaching consequences.\n",
    "\n",
    "\n",
    "\n",
    "To protect against cyber threats, Ruth highlighted the significance of implementing healthy hygiene practices and educating users about potential risks. She recommended that companies ensure their third-party suppliers are properly managing data protection and have measures in place to detect unusual activities. Ruth also emphasized the importance of being proactive in identifying potential vulnerabilities and staying one step ahead of attackers.\n",
    "\n",
    "When it comes to staying updated on the latest cybersecurity threats and trends, Ruth provided several valuable insights. She mentioned using podcasts as a convenient way to learn from industry experts. Ruth recommended finding podcasts that cover specific areas of interest, such as industrial control systems, and paying attention to reputable sources on platforms like LinkedIn. She also mentioned the value of peer-reviewed journals, which provide accurate and reliable information.\n",
    "\n",
    "Ruth shared her personal experience of using her university library resources to access journals on topics like industrial control and risk management. This demonstrates her commitment to continuous learning and staying informed about the latest developments in the field.\n",
    "\n",
    "Regarding certifications, Ruth suggested that the choice of certification depends on the desired role in the cybersecurity field. She mentioned the Certified Ethical Hacker (CEH) certification as a valuable option for gaining insight into proactive penetration assessments. Additionally, she highlighted the Certified Information Security Manager (CISM) certification for individuals interested in management and administrative roles.\n",
    "\n",
    "Overall, my conversation with Ruth shed light on the multi-faceted nature of cybersecurity and the importance of adapting security measures to specific industries and regulations. Ruth's emphasis on proactive measures, continuous learning, and leveraging reputable sources for information reflects her commitment to staying ahead of emerging threats in the rapidly evolving threat landscape."
   ]
  },
  {
   "cell_type": "markdown",
   "id": "d9f5682a",
   "metadata": {},
   "source": [
    "Reflection on Dark Hotel ABT's Impersonation Tactics\n",
    "\n",
    "In a recent interview, I had the opportunity to discuss cybersecurity strategies with Ruth, an expert in the field. Ruth emphasized the importance of tailoring security measures based on specific industry and regulatory requirements, such as those in the healthcare and electric grid sectors.\n",
    "\n",
    "During the interview, Ruth provided valuable insights into the incident involving Dark Hotel Advanced Persistent Threat (APT) group and their impersonation tactics. Ruth highlighted the significance of directory exposure as a critical vulnerability that can enable threat actors to engage in harmful activities like spoofing, phishing, or whaling. She shared her own experience of adjusting her job title on LinkedIn to mitigate potential risks associated with revealing excessive permissions.\n",
    "\n",
    "To protect against cyber threats, Ruth emphasized the need for healthy hygiene practices and user education. She recommended that companies ensure their third-party suppliers have proper data protection measures and mechanisms to detect unusual activities. Ruth also stressed the importance of proactive vulnerability identification and staying one step ahead of attackers.\n",
    "\n",
    "Ruth provided insights on staying updated with the latest cybersecurity threats and trends. She suggested using podcasts as a convenient way to learn from industry experts, focusing on specific areas of interest like industrial control systems. Ruth also highlighted the value of reputable sources on platforms like LinkedIn and peer-reviewed journals for accurate and reliable information. She shared her personal experience of utilizing university library resources to access journals on topics like industrial control and risk management, demonstrating her commitment to continuous learning.\n",
    "\n",
    "Regarding certifications, Ruth mentioned the Certified Ethical Hacker (CEH) certification as valuable for gaining insight into proactive penetration assessments. She also highlighted the Certified Information Security Manager (CISM) certification for individuals interested in management and administrative roles.\n",
    "\n",
    "In conclusion, my conversation with Ruth shed light on the multi-faceted nature of cybersecurity and the importance of adapting security measures to specific industries and regulations. Ruth's emphasis on proactive measures, continuous learning, and leveraging reputable sources reflects her commitment to staying ahead of emerging threats in the rapidly evolving threat landscape."
   ]
  },
  {
   "cell_type": "code",
   "execution_count": null,
   "id": "22f55ee8",
   "metadata": {},
   "outputs": [],
   "source": []
  },
  {
   "cell_type": "code",
   "execution_count": null,
   "id": "d8b3eb48",
   "metadata": {},
   "outputs": [],
   "source": []
  }
 ],
 "metadata": {
  "kernelspec": {
   "display_name": "Python 3 (ipykernel)",
   "language": "python",
   "name": "python3"
  },
  "language_info": {
   "codemirror_mode": {
    "name": "ipython",
    "version": 3
   },
   "file_extension": ".py",
   "mimetype": "text/x-python",
   "name": "python",
   "nbconvert_exporter": "python",
   "pygments_lexer": "ipython3",
   "version": "3.9.12"
  }
 },
 "nbformat": 4,
 "nbformat_minor": 5
}
