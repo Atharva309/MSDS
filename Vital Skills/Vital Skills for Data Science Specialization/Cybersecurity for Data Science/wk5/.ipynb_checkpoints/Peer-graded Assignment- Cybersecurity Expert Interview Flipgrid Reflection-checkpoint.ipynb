{
 "cells": [
  {
   "cell_type": "markdown",
   "id": "212d9026",
   "metadata": {},
   "source": [
    "Assignment Details\n",
    "\n",
    "For this assignment, you will reflect on the cybersecurity interview experience citing key takeaways and lessons learned.  You will record a 4-5 minute video response on the Cybersecurity Interview Reflection Flipgrid page. \n",
    "Submission Instructions\n",
    "\n",
    "Submit the link to your reflection on Flipgrid.\n",
    "Review criteria\n",
    "\n",
    "Students receive a passing grade for authoring 5 interview questions and submitting a link to them(video of interview experience). Students will be assessed based on the following:\n",
    "\n",
    "The quality of your video post will be graded based on alignment to the assignment prompts, quality and uniqueness of your post as well as the professionalism and information provided.  The quantity, quality and cordiality of your interaction with peers is also considered. \n",
    "\n",
    "Note: When peer-reviewing, please understand that not everyone will be able to conduct an interview but will go over the process of how they formulated the questions instead. So you can evaluate based on why they planned to ask those specific questions and what responses/outcomes did they hope to elicit from the interview."
   ]
  },
  {
   "cell_type": "code",
   "execution_count": null,
   "id": "0db6072a",
   "metadata": {},
   "outputs": [],
   "source": []
  }
 ],
 "metadata": {
  "kernelspec": {
   "display_name": "Python 3 (ipykernel)",
   "language": "python",
   "name": "python3"
  },
  "language_info": {
   "codemirror_mode": {
    "name": "ipython",
    "version": 3
   },
   "file_extension": ".py",
   "mimetype": "text/x-python",
   "name": "python",
   "nbconvert_exporter": "python",
   "pygments_lexer": "ipython3",
   "version": "3.9.12"
  }
 },
 "nbformat": 4,
 "nbformat_minor": 5
}
