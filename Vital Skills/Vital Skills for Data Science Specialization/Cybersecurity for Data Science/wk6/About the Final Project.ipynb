{
 "cells": [
  {
   "cell_type": "markdown",
   "id": "00de5ffc",
   "metadata": {},
   "source": [
    "# About the Final Project\n",
    "\n",
    "You may drop or withdraw from this course at any time before you have accessed the proctored course exam. Once you have accessed the exam, you will be assigned a course grade according to the announced grading formula; this grade will appear on your university transcript after the eight-week session has concluded. After the two hours of the timed proctored course exam are over, you will not be able to change or re-take the proctored course exam. However, you may continue to make homework assignment submissions until the conclusion of the eight-week session.\n",
    "\n",
    "# Part One: Cyber Attack Memo \n",
    "\n",
    "For this assignment,  you will create a one page memo. Please note that his memo must look professional.  The layout and readability of your memo WILL make a difference in responding to scenarios like those listed below.  In your memo, make sure to address the content below with a final product that conveys your message in a clear and concise way that is also aesthetically pleasing to the eye.   Please review the videos in this lesson and the reading items to prepare for your final project.\n",
    "Select one (and only one!) of the following scenarios\n",
    "\n",
    "- Scenario 1: You are a senior leader of the World Health Organization.  You must produce a memo and public service announcement in response to this actual incident.\n",
    "\n",
    "- Scenario 2: You are a senior leader in the U.S. Department of Health and Human Services (HHS).  You must produce a memo and public service announcement in response to this actual incident.\n",
    "\n",
    "- Scenario 3: You are a senior leader at a medical research lab.  You must produce a memo and public service announcement in response to this actual incident.\n",
    "\n",
    "- Scenario 4: You are a senior leader at a large hospital chain.  You must produce a memo and public service announcement in response to this actual incident.\n",
    "\n",
    "- Scenario 5: You are a senior leader in the Italian Government.  You must produce a memo and public service announcement in response to this actual incident.\n",
    "\n",
    "This memo addresses the cyber attack and considers the following\n",
    "\n",
    "- Social/Emotional Impact\n",
    "\n",
    "- Cultural implications\n",
    "\n",
    "- Technical awareness and safeguards\n",
    "\n",
    "- Future proofing\n",
    "\n",
    "- Policy moving forward to help prevent future instances\n",
    "\n",
    "- NOTE: Be aware of our current environment in this remote world.  Dealing with this attack must be done with this aspect in mind. How do we get the message out in a clear and concise way?  Which technology tools and modalities do we leverage to disseminate \n",
    "\n",
    "# Part Two: Cyber Attack Memo \n",
    "\n",
    "For this assignment you will create a 3 minute PSA using Flipgrid as a response tool.   Your PSA will address the cybersecurity incident.\n",
    "The PSA addresses the cyber attack and considers the following\n",
    "\n",
    "- Social/Emotional Impact\n",
    "\n",
    "- Cultural implications\n",
    "\n",
    "- Technical awareness and safeguards\n",
    "\n",
    "- Future proofing\n",
    "\n",
    "- Policy moving forward to help prevent future instances\n",
    "\n",
    "- NOTE: Be aware of our current environment in this remote world.  Dealing with this attack must be done with this aspect in mind. How do we get the message out in a clear and concise way?  Which technology tools and modalities do we leverage to disseminate information? \n",
    "\n",
    "Record your PSA via the Flipgrid link below\n",
    "\n",
    "    https://flipgrid.com/e9e48305\n",
    "\n",
    "Drops, Refunds, and Withdrawals\n",
    "\n",
    "You may drop this course with a 100% refund within 14 days of your class start date or your enrollment date (whichever is later) as long as long as you have not accessed restricted content (e.g., password quiz, honor code verification, final exam/project, etc.) or received a grade. When a course is dropped under these conditions, it will not appear on your record.  You can withdraw after the 14 days as long as you have not accessed restricted content or received a grade. When a student withdraws under these conditions, they will receive a grade of W on their academic record. Visit the CU Boulder Registrar's Special Programs page to learn more and complete the required forms. "
   ]
  },
  {
   "cell_type": "code",
   "execution_count": null,
   "id": "7893b87f",
   "metadata": {},
   "outputs": [],
   "source": []
  }
 ],
 "metadata": {
  "kernelspec": {
   "display_name": "Python 3 (ipykernel)",
   "language": "python",
   "name": "python3"
  },
  "language_info": {
   "codemirror_mode": {
    "name": "ipython",
    "version": 3
   },
   "file_extension": ".py",
   "mimetype": "text/x-python",
   "name": "python",
   "nbconvert_exporter": "python",
   "pygments_lexer": "ipython3",
   "version": "3.9.12"
  }
 },
 "nbformat": 4,
 "nbformat_minor": 5
}
