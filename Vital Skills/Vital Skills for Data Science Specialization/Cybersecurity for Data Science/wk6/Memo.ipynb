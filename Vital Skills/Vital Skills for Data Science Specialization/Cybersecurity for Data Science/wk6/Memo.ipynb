{
 "cells": [
  {
   "cell_type": "markdown",
   "id": "27634997",
   "metadata": {},
   "source": [
    "\n",
    "\n",
    "Formal Memorandum\n",
    "\n",
    "To: All WHO Senior Leadership Team \n",
    "From: Ryan Talbot, Senior Leader, World Health Organization \n",
    "Subject: Cyber Attack Response Memo and Public Service Announcement\n",
    "Date: November 23, 2023\n",
    "\n",
    "Dear WHO Senior Leadership Team,\n",
    "\n",
    "I wanted to provide a crucial update on our cybersecurity preparedness, considering the escalating threat landscape, especially in light of recent attacks against the World Health Organization (WHO) during these critical times of the coronavirus pandemic.\n",
    "\n",
    "The attacks, one attributed to the DarkHotel Advanced Persistent Threat (APT) group. The attempt to steal passwords from WHO agency staff is a stark reminder that cybercriminals are actively exploiting the ongoing pandemic. The attackers, leveraging a fake site mimicking our internal email system, initiated the assault on March 13, prompting our cybersecurity team, along with external experts, to respond swiftly. \n",
    "\n",
    "Our cybersecurity team is intensifying monitoring efforts to detect and neutralize any ongoing or potential threats promptly. Our cross-functional team of experts is conducting a thorough review and update of our cybersecurity strategies to address current and emerging risks. \n",
    "\n",
    "Given the severity of the situation and the potential impact on our organization, I urge each one of you to prioritize cybersecurity vigilance. Please ensure your teams are briefed on the heightened threat level and actively participate in cybersecurity drills to test our incident response playbook.\n",
    "\n",
    "Thank you for your attention to this matter. If you have any immediate concerns or insights, do not hesitate to reach out.\n"
   ]
  },
  {
   "cell_type": "code",
   "execution_count": null,
   "id": "bc24b924",
   "metadata": {},
   "outputs": [],
   "source": []
  }
 ],
 "metadata": {
  "kernelspec": {
   "display_name": "Python 3 (ipykernel)",
   "language": "python",
   "name": "python3"
  },
  "language_info": {
   "codemirror_mode": {
    "name": "ipython",
    "version": 3
   },
   "file_extension": ".py",
   "mimetype": "text/x-python",
   "name": "python",
   "nbconvert_exporter": "python",
   "pygments_lexer": "ipython3",
   "version": "3.9.12"
  }
 },
 "nbformat": 4,
 "nbformat_minor": 5
}
