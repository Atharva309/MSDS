{
 "cells": [
  {
   "attachments": {},
   "cell_type": "markdown",
   "id": "597d26e6",
   "metadata": {},
   "source": [
    "DTSA 5302\tCybersecurity in Data Science\t\n",
    "- Project\t28%\t\n",
    "- Two projects; 1 page written assessment and a short video response"
   ]
  },
  {
   "cell_type": "markdown",
   "id": "6fc8f97c",
   "metadata": {},
   "source": [
    "Out of a few cyber attack scenario's you have to select one. Then create a nice official document/memo with a Public Security Announcement and create a 3 minute FlipGrid video graphic with that Public Security Announcement."
   ]
  },
  {
   "cell_type": "markdown",
   "id": "fdcd99ea",
   "metadata": {},
   "source": [
    "Hi All for the Final Exam we need to create a PSA response memo and flipgrid video. "
   ]
  },
  {
   "cell_type": "markdown",
   "id": "3ff9a5e8",
   "metadata": {},
   "source": [
    "Hello, has anyone here completed the Week6 Final Assignment? I am a little confused on the nature of the assignment. We have to write a memo addressing a cyber attack scenario of our choosing, but it says we will be assessed on design and visual representations, which includes layout, color schemes, and visuals. I was under the impression that memos were in emails/letter format.\n",
    "\n",
    "\n",
    "Yup that's confusing - a professional document will not have much visualization ; and something with a lot of graphics will not look professional. I suggest (based on what I have seen in peer review and my submission) write a professional looking document , add a logo (related to the case study - something like a letterhead), add one or two icons related to some topics and that should be it. Don't overdo the graphics part though"
   ]
  },
  {
   "cell_type": "code",
   "execution_count": null,
   "id": "fafcb762",
   "metadata": {},
   "outputs": [],
   "source": []
  }
 ],
 "metadata": {
  "kernelspec": {
   "display_name": "Python 3 (ipykernel)",
   "language": "python",
   "name": "python3"
  },
  "language_info": {
   "codemirror_mode": {
    "name": "ipython",
    "version": 3
   },
   "file_extension": ".py",
   "mimetype": "text/x-python",
   "name": "python",
   "nbconvert_exporter": "python",
   "pygments_lexer": "ipython3",
   "version": "3.9.12"
  }
 },
 "nbformat": 4,
 "nbformat_minor": 5
}
