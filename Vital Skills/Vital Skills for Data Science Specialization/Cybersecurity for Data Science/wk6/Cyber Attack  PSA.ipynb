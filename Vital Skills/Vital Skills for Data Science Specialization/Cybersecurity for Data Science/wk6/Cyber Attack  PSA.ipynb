{
 "cells": [
  {
   "cell_type": "markdown",
   "id": "d8e4bf4d",
   "metadata": {},
   "source": [
    "https://flip.com/s/zkrej2WWo2Z-"
   ]
  },
  {
   "cell_type": "markdown",
   "id": "dd2aae43",
   "metadata": {},
   "source": [
    "Part Two: Cyber Attack Memo \n",
    "\n",
    "For this assignment you will create a 3 minute PSA using Flipgrid as a response tool.   Your PSA will address the cybersecurity incident.\n",
    "The PSA addresses the cyber attack and considers the following\n",
    "\n",
    "    Social/Emotional Impact\n",
    "\n",
    "    Cultural implications\n",
    "\n",
    "    Technical awareness and safeguards\n",
    "\n",
    "    Future proofing\n",
    "\n",
    "    Policy moving forward to help prevent future instances\n",
    "\n",
    "    NOTE: Be aware of our current environment in this remote world.  Dealing with this attack must be done with this aspect in mind. How do we get the message out in a clear and concise way?  Which technology tools and modalities do we leverage to disseminate information? "
   ]
  },
  {
   "cell_type": "markdown",
   "id": "eb6ec419",
   "metadata": {},
   "source": [
    "[Opening Scene: Dramatic Music]\n",
    "\n",
    "[Speaker standing in front of a digital background displaying the WHO logo and a cyber threat warning sign]\n",
    "\n",
    "Speaker:\n",
    "\"Dear global community, today we find ourselves facing not only a pandemic but also a threat from the shadows. The World Health Organization, a beacon of hope and information during these challenging times, has become a target of cyber attacks. I stand before you to shed light on the incident, its impact, and the steps we need to take to safeguard our digital defenses.\"\n",
    "\n",
    "Our cybersecurity team is intensifying monitoring efforts to detect and neutralize any ongoing or potential threats promptly. Our cross-functional team of experts is conducting a thorough review and update of our cybersecurity strategies to address current and emerging risks. \n",
    "\n",
    "\n",
    "[Slide 1: Cyber Attack Overview]\n",
    "\n",
    "Speaker:\n",
    "\"In a reprehensible act, the DarkHotel Advanced Persistent Threat, a cyber-espionage group with a notorious history spanning over a decade, targeted the WHO. Their attempt to steal passwords from our agency staff, revealed on March 13, is an alarming reminder that cybercriminals stop at nothing, even in the midst of a global crisis.\"\n",
    "\n",
    "[Slide 2: Social/Emotional Impact]\n",
    "\n",
    "Speaker:\n",
    "At a time when the world seeks solace and reliable information, such attacks erode the trust we place in vital organizations. Imagine the impact on our dedicated healthcare professionals and researchers who are tirelessly working to combat the pandemic, only to face this digital threat.\"\n",
    "\n",
    "[Slide 3: Cultural Implications]\n",
    "\n",
    "Speaker:\n",
    "\"Culturally, this attack challenges our values of solidarity and cooperation. In our interconnected world, an assault on one is an assault on all. We must unite against these digital threats, recognizing that our collective resilience is our greatest strength.\"\n",
    "\n",
    "[Slide 4: Technical Awareness and Safeguards]\n",
    "\n",
    "Speaker:\n",
    "\"To combat these threats, we are intensifying our cybersecurity efforts. Our experts are reviewing and updating our strategies to address both current and emerging risks. But this battle is not just ours; it's a call to action for everyone. Technical vigilance and awareness are our first line of defense.\"\n",
    "\n",
    "[Slide 5: Future Proofing]\n",
    "\n",
    "Speaker:\n",
    "\n",
    "\"To future-proof our organization, we must evolve alongside the digital landscape. This requires ongoing training, staying informed about emerging threats. We cannot predict the future, but we can be prepared for it.\"\n",
    "\n",
    "[Slide 6: Policy Moving Forward]\n",
    "\n",
    "Speaker:\n",
    "\"Our policy moving forward is clear: prioritize cybersecurity vigilance. Each one of us must actively participate in cybersecurity drills, ensuring that we are not only aware of the threats but also equipped to respond effectively. This incident emphasizes the need for a culture of digital resilience.\"\n",
    "\n",
    "[Slide 7: Leveraging Technology Tools]\n",
    "\n",
    "Speaker:\n",
    "\"In this remote world, we must leverage technology to disseminate information efficiently. Utilize secure communication channels, conduct virtual drills, and stay informed through official WHO platforms. Knowledge is power, and in the digital age, it's also our shield.\"\n",
    "\n",
    "[Closing Scene: Speaker with a serious tone]\n",
    "\n",
    "Speaker:\n",
    "\"Together, we can overcome not only the challenges of a pandemic but also the threats that lurk in the digital shadows. Let this be a call to action. Stay vigilant, stay informed, and let's protect the integrity of the vital institutions that guide us through these challenging times. Thank you.\"\n",
    "\n",
    "[Closing Slide: WHO Logo with the slogan \"United for Health\"]"
   ]
  },
  {
   "cell_type": "code",
   "execution_count": null,
   "id": "87836cae",
   "metadata": {},
   "outputs": [],
   "source": []
  }
 ],
 "metadata": {
  "kernelspec": {
   "display_name": "Python 3 (ipykernel)",
   "language": "python",
   "name": "python3"
  },
  "language_info": {
   "codemirror_mode": {
    "name": "ipython",
    "version": 3
   },
   "file_extension": ".py",
   "mimetype": "text/x-python",
   "name": "python",
   "nbconvert_exporter": "python",
   "pygments_lexer": "ipython3",
   "version": "3.9.12"
  }
 },
 "nbformat": 4,
 "nbformat_minor": 5
}
