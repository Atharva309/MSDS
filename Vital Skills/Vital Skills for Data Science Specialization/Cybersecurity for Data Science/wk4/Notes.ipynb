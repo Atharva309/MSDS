{
 "cells": [
  {
   "cell_type": "markdown",
   "id": "62099222",
   "metadata": {},
   "source": [
    "# Facial Recognition And Beyond: Journalist Ventures Inside China's 'Surveillance State'\n",
    "\n",
    "https://www.npr.org/2021/01/05/953515627/facial-recognition-and-beyond-journalist-ventures-inside-chinas-surveillance-sta-tech\n",
    "\n",
    "Security cameras and facial recognition technology are on the rise in China. In 2018, People's Daily, the media mouthpiece of China's ruling Communist Party, claimed on English-language Twitter that the country's facial recognition system was capable of scanning the faces of China's 1.4 billion citizens in just one second.\n",
    "\n",
    "Strittmatter says the Chinese state has amassed an astonishing amount of data about its citizens, which it uses to punish people for even minor deviations from expected norms. \n",
    "\n",
    "The Communist Party doesn't see those new technologies as a danger to their rule. On the contrary, they have discovered or they think that actually these new technologies give them new instruments that will perfect their rule, and it will make their rule crisis-proof, and now that's the same thing with artificial intelligence and big data.\n",
    "\n",
    "There's this one app on every Chinese mobile phone that's called WeChat. And with WeChat basically you can live your whole life in WeChat. It started as a normal chat program like WhatsApp, but very soon it turned into a kind of Chinese Facebook. Then it became a Chinese Uber. You could get credit, you could apply for credit to your bank with it. You could use it as an ID. You could file your divorce papers through this app to the local court, and you can do all your financial transactions through this app. And that works with bar codes. And they've been using these bar codes for a long time already.\n",
    "\n",
    "Nobody in China uses credit cards. ... Everybody does everything with their mobile phones. And so you come to the point that even street beggars use them and they will tell you, \"It's so convenient.\" But at the same time, it's also amazingly convenient for state security. And every single one of your transactions will actually end up on one of the servers.\n",
    "\n",
    "On the point system citizens have in the city of Rongcheng, wherein they get points for good deeds and get docked points for dishonest deeds\n",
    "\n",
    "It's actually really like right out of a picture book. Every citizen in Rongcheng starts with a score of 1,000 points. And then you can work your way up. You can get more points by doing really good things for society and you can fall down. ... If you have more than 1,050 points, you can be a AAA citizen and then you become a AA citizen if you fall lower, and C and D. If you're a D citizen, you're actually dishonest, and you have less than 599 points. ...\n",
    "\n",
    "They say they want to create the honest citizen, the trustworthy citizen, and they want to punish the trust breakers. So, for example, you can earn points if you donate blood or bone marrow or if you give lessons to the neighbor's children that they need for school. I went to a neighborhood where one lady got five points because she actually provided one of her basement rooms for the local choir that sang revolutionary songs. ..\n",
    "\n",
    "At the same time, you get punished for the things that you're not supposed to do, and you can get punished for jaywalking. You can get punished for downloading pirated stuff. You can get punished for letting your dog [poop] on the lawn in front of the neighborhood, for all these kinds of things. So many of these things would be actually actions that we also consider them not to be good actions and maybe worthy of being punished. But of course, then it goes much further, and it also becomes political. And you can also become punished because you endanger the social harmony on the Internet, for example.\n",
    "\n",
    "But one thing is already nationwide, and that's the system of blacklists. If you're blacklisted because your social credit is down, then actually you already get sanctioned. For example, you're no longer allowed to take a plane. You're no longer able to buy plane tickets. You're no longer allowed to take a high-speed railway. You're no longer allowed, for example, in expensive hotels. Your children are no longer allowed to go to expensive good schools and things like this. And this is something that's already happening. This is one part of the system that is already active. In 2018, there were more than 17 million people being banned from flying because of the system.\n",
    "\n",
    "\n",
    "\n",
    "You have these billboard systems and cameras and artificial intelligence cameras when you jaywalk, still already while you are still in the middle of the road, your face appears on the huge billboard for everybody to see.\n",
    "\n",
    "\n",
    "One lesson I learned is that propaganda works, censorship works. It really does work. And people actually believe a lot of the things that they hear, because they don't have any other information. Also because there is no public debate on many of these things. There is no tradition of public debate on privacy, data protection and things like this, and the arguments of the government are basically twofold: One is ... convenience. It makes your life so convenient. And the second thing is ... it makes our life safer. This is especially what they use for the facial recognition and the cameras, and we actually make your life safe and secure. And you can go through the city, you can leave your handbag now in a bus and in a subway train, and nobody will dare take it, and they're right, probably. And many people buy that, and they like that."
   ]
  },
  {
   "cell_type": "markdown",
   "id": "6ade37a0",
   "metadata": {},
   "source": [
    "# Top Cybersecurity Experts (Follow on Twitter)\n",
    "\n",
    "https://www.privacyend.com/cybersecurity-experts-you-should-follow-on-twitter/"
   ]
  },
  {
   "cell_type": "code",
   "execution_count": null,
   "id": "b542bd79",
   "metadata": {},
   "outputs": [],
   "source": []
  }
 ],
 "metadata": {
  "kernelspec": {
   "display_name": "Python 3 (ipykernel)",
   "language": "python",
   "name": "python3"
  },
  "language_info": {
   "codemirror_mode": {
    "name": "ipython",
    "version": 3
   },
   "file_extension": ".py",
   "mimetype": "text/x-python",
   "name": "python",
   "nbconvert_exporter": "python",
   "pygments_lexer": "ipython3",
   "version": "3.9.12"
  }
 },
 "nbformat": 4,
 "nbformat_minor": 5
}
