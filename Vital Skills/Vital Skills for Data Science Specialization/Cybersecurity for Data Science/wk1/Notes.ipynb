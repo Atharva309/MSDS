{
 "cells": [
  {
   "cell_type": "markdown",
   "id": "b4100801",
   "metadata": {},
   "source": [
    "# What is the CIA triad (confidentiality, integrity and availability)? \n",
    "\n",
    "https://www.techtarget.com/whatis/definition/Confidentiality-integrity-and-availability-CIA\n",
    "\n",
    "## CIA Triade\n",
    "\n",
    "Confidentiality, integrity, availability\n",
    "\n",
    "The following is a breakdown of the three key concepts that form the CIA triad:\n",
    "\n",
    "- Confidentiality is roughly equivalent to privacy. Confidentiality measures are designed to prevent sensitive information from unauthorized access attempts. It is common for data to be categorized according to the amount and type of damage that could be done if it fell into the wrong hands. More or less stringent measures can then be implemented according to those categories.\n",
    "- Integrity involves maintaining the consistency, accuracy and trustworthiness of data over its entire lifecycle. Data must not be changed in transit, and steps must be taken to ensure data cannot be altered by unauthorized people (for example, in a breach of confidentiality).\n",
    "- Availability means information should be consistently and readily accessible for authorized parties. This involves properly maintaining hardware and technical infrastructure and systems that hold and display the information.\n",
    "\n",
    "\n",
    "## What are best practices for implementing the CIA triad?\n",
    "\n",
    "In implementing the CIA triad, an organization should follow a general set of best practices. Some best practices, divided by each of the three subjects, include:\n",
    "\n",
    "- Confidentiality\n",
    "\n",
    "    - Data should be handled based on the organization's required privacy.\n",
    "    - Data should be encrypted using 2FA.\n",
    "    - Keep access control lists and other file permissions up to date.\n",
    "\n",
    "- Integrity\n",
    "\n",
    "    - Ensure employees are knowledgeable about compliance and regulatory requirements to minimize human error.\n",
    "    - Use backup and recovery software.\n",
    "    - To ensure integrity, use version control, access control, security control, data logs and checksums.\n",
    "\n",
    "- Availability\n",
    "\n",
    "    - Use preventive measures such as redundancy, failover and RAID. Ensure systems and applications stay updated.\n",
    "    - Use network or server monitoring systems.\n",
    "    - Ensure a data recovery and business continuity (BC) plan is in place in case of data loss.\n",
    "\n"
   ]
  },
  {
   "cell_type": "markdown",
   "id": "8edad4e2",
   "metadata": {},
   "source": [
    "---"
   ]
  },
  {
   "cell_type": "markdown",
   "id": "b3b5aaa7",
   "metadata": {},
   "source": [
    "# The CIA triad: Definition, components and examples\n",
    "\n",
    "https://www.csoonline.com/article/568917/the-cia-triad-definition-components-and-examples.html\n",
    "\n",
    "## CIA triad examples\n",
    "\n",
    "To understand how the CIA triad works in practice, consider the example of a bank ATM, which can offer users access to bank balances and other information. An ATM has tools that cover all three principles of the triad:\n",
    "\n",
    "- It provides confidentiality by requiring two-factor authentication (both a physical card and a PIN code) before allowing access to data\n",
    "- The ATM and bank software enforce data integrity by ensuring that any transfers or withdrawals made via the machine are reflected in the accounting for the user’s bank account\n",
    "- The machine provides availability because it’s in a public place and is accessible even when the bank branch is closed\n",
    "\n",
    "But there’s more to the three principles than just what’s on the surface. Here are some examples of how they operate in everyday IT environments.\n",
    "\n",
    "## CIA triad confidentiality examples\n",
    "\n",
    "Much of what laypeople think of as “cybersecurity” — essentially, anything that restricts access to data — falls under the rubric of confidentiality. This includes infosec’s two big As:\n",
    "\n",
    "- Authentication, which encompasses processes that allows systems to determine if a user is who they say they are. These include passwords and the panoply of techniques available for establishing identity: biometrics, security tokens, cryptographic keys, and the like.\n",
    "- Authorization, which determines who has the right to access which data: Just because a system knows who you are, it doesn’t necessarily open all its data for your perusal! One of the most important ways to enforce confidentiality is establishing need-to-know mechanisms for data access; that way, users whose accounts have been hacked or who have gone rogue can’t compromise sensitive data. Most operating systems enforce confidentiality in this sense by having many files only accessible by their creators or an admin, for instance.\n",
    "\n",
    "\n",
    "## CIA triad integrity examples\n",
    "when data has changed, like data checksums, or restore it to a known good state, like conducting frequent and meticulous backups. Breaches of integrity are somewhat less common or obvious than violations of the other two principles, but could include, for instance, altering business data to affect decision-making, or hacking into a financial system to briefly inflate the value of a stock or bank account and then siphoning off the excess. A simpler — and more common — example of an attack on data integrity would be a defacement attack, in which hackers alter a website’s HTML to vandalize it for fun or ideological reasons.\n",
    "\n",
    "## CIA triad availability examples\n",
    "Maintaining availability often falls on the shoulders of departments not strongly associated with cybersecurity. The best way to ensure that your data is available is to keep all your systems up and running, and make sure that they’re able to handle expected network loads. This entails keeping hardware up-to-date, monitoring bandwidth usage, and providing failover and disaster recovery capacity if systems go down.\n",
    "\n",
    "## Beyond the triad: The Parkerian Hexad, and more\n",
    "\n",
    "The CIA triad is important, but it isn’t holy writ, and there are plenty of infosec experts who will tell you it doesn’t cover everything. As we mentioned, in 1998 Donn Parker proposed a six-sided model that was later dubbed the Parkerian Hexad, which is built on the following principles:\n",
    "\n",
    "- Confidentiality\n",
    "- Possession or control\n",
    "- Integrity\n",
    "- Authenticity\n",
    "- Availability\n",
    "- Utility\n",
    "\n"
   ]
  },
  {
   "cell_type": "markdown",
   "id": "b748c3aa",
   "metadata": {},
   "source": [
    "---"
   ]
  },
  {
   "cell_type": "markdown",
   "id": "e23b76aa",
   "metadata": {},
   "source": [
    "#  5 Unexpected Benefits of LinkedIn Groups\n",
    "\n",
    "\n",
    "https://blog.thoughtlabs.com/blog/5-unexpected-benefits-of-linkedin-groups/\n",
    "\n",
    "1. Groups can give you free, direct communication with their members\n",
    "\n",
    "2. They allow you to gain influence quickly\n",
    "\n",
    "All this means the bar is set relatively low for people to gain influence within groups. Most people glance through the posts and rarely engage giving you ample opportunity for you to do so. Here's a surefire way to gain influence quickly:\n",
    "\n",
    "- Selectively engage in groups you have the time, interest, and experience to do so well. Don't \"post and bounce\" just to promote your services or products. You'll likely end up ignored, banned, or worse, professionally discredited. Industries are smaller than you think and peppering large numbers of groups with the same self-promotional garbage will get you noticed in the wrong way.\n",
    "- Ask valuable questions and give others' interesting, unique answers.\n",
    "- Turn off any auto-posting to LinkedIn Groups. A good moderator will ban them anyway. Only share reputable, helpful content and only do so in the context of a discussion to further it. Posting links to your blog in this way is a great way to gain blog followers but be sure you're only posting that link if it helps the discussion at hand.\n",
    "- Contribute regularly and consistently to multiple discussions. Think slow and steady, not carpet bombing for a short period of time. It takes time to build trust and influence. Give your peers time to recognize you and soon you'll find yourself being asked directly for your opinions.\n",
    "- DO NOT send LinkedIn invites to other members until you've had some (preferably positive) interactions with them in the group. A great time to do so is after you've had a positive interaction with them in a lengthy discussion.\n",
    "\n",
    "3. You can get content in the hands of target audience and personas -- free\n",
    "\n",
    "4. LinkedIn Groups are fantastic feedback channels\n",
    "\n",
    "5. Powerful problem-solving at your fingertips\n",
    "\n",
    "Bottom Line\n",
    "\n",
    "Be strategic in what content you post, how you post it, the groups you post it to, and how you behave in LinkedIn Groups. You'll not only grow your influence but see some undeniable benefits along the way.  "
   ]
  },
  {
   "cell_type": "markdown",
   "id": "f3626c53",
   "metadata": {},
   "source": [
    "---"
   ]
  },
  {
   "cell_type": "markdown",
   "id": "512b2d3b",
   "metadata": {},
   "source": []
  }
 ],
 "metadata": {
  "kernelspec": {
   "display_name": "Python 3 (ipykernel)",
   "language": "python",
   "name": "python3"
  },
  "language_info": {
   "codemirror_mode": {
    "name": "ipython",
    "version": 3
   },
   "file_extension": ".py",
   "mimetype": "text/x-python",
   "name": "python",
   "nbconvert_exporter": "python",
   "pygments_lexer": "ipython3",
   "version": "3.9.12"
  }
 },
 "nbformat": 4,
 "nbformat_minor": 5
}
