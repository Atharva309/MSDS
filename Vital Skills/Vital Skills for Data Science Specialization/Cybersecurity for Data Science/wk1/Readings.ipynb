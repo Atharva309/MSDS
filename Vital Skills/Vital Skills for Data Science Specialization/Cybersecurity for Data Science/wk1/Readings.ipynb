{
 "cells": [
  {
   "cell_type": "markdown",
   "id": "2450b351",
   "metadata": {},
   "source": [
    "The CIA Triad\n",
    "\n",
    "The CIA Triad is the foundation of understanding Cybersecurity.  \n",
    "Review the Readings Below\n",
    "\n",
    "    Confidentiality, Integrity and Availability (CIA triad)\n",
    "\n",
    "    The CIA Triad: Definition, Components and Examples"
   ]
  },
  {
   "cell_type": "markdown",
   "id": "b97f149e",
   "metadata": {},
   "source": [
    "- https://www.techtarget.com/whatis/definition/Confidentiality-integrity-and-availability-CIA\n",
    "\n",
    "- https://www.csoonline.com/article/3519908/the-cia-triad-definition-components-and-examples.html"
   ]
  }
 ],
 "metadata": {
  "kernelspec": {
   "display_name": "Python 3 (ipykernel)",
   "language": "python",
   "name": "python3"
  },
  "language_info": {
   "codemirror_mode": {
    "name": "ipython",
    "version": 3
   },
   "file_extension": ".py",
   "mimetype": "text/x-python",
   "name": "python",
   "nbconvert_exporter": "python",
   "pygments_lexer": "ipython3",
   "version": "3.9.12"
  }
 },
 "nbformat": 4,
 "nbformat_minor": 5
}
