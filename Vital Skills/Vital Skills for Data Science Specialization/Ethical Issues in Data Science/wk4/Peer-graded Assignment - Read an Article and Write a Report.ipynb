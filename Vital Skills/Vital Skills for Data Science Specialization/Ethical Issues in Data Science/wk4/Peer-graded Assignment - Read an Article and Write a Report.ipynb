{
 "cells": [
  {
   "cell_type": "markdown",
   "id": "84afca59",
   "metadata": {},
   "source": [
    "Find a recent media article that is relevant to the topic of algorithmic bias and is of interest to you. (Note: You may not use one of the assigned course readings for your report, although you may use one of the optional readings). Then write a report of 500-800 words that includes:\n",
    "\n",
    "    The reference information for the article (title, author, where and when published, link if online)\n",
    "\n",
    "    A summary of the content of the article\n",
    "\n",
    "    The issue(s) in data ethics that this article is relevant to\n",
    "\n",
    "    Your assessment of whether the issues discussed in the article are being handled and resolved properly, and what additional steps you feel should be considered.  Please refer to at least one ethical framework in making this assessment\n",
    "\n",
    "Paste your report into the provided textbox for submission.\n",
    "\n",
    "You will then review the reports of three of your peers and three peers will review your report. You will not receive a grade until reviews are complete.\n",
    "\n",
    "Your report should be in your own words. If you use any material that is directly copied from another author, you must place this material in quotation marks and properly cite it. Failure to do so constitutes plagiarism, which is grounds to fail not only the plagiarized assignment, but the course.\n",
    "\n",
    "Note: The peer grading is blind (that is, your name is not seen by others) so long as you do not put your name or other personally identifying information in the assignment title\n",
    "or the essay itself. Please do not put any self-identifying information in the essay title or the essay itself.\n",
    "\n",
    "GRADING RUBRIC:\n",
    "\n",
    "Does your peer clearly describe the topic of the article, in their own words? (150-300 words)\n",
    "\n",
    "◻Your peer correctly identifies the main topic of the article and clearly describes it in their own words. Their description of the topic is at least 150 words.(5 points)\n",
    "\n",
    "◻Your peer correctly identifies the main topic of the article in their own words. However, their description of the topic is either unclear or else is less than 150 words.(3 points).\n",
    "\n",
    "◻Your peer does not describe the topic of the article.(0 points)\n",
    "\n",
    "Does your peer clearly identify one or more ethically relevant issues raised by the article? (In order to be an “ethically relevant” issue, it must be possible for there to be two or more reasonable[1]but opposing viewpoints about whether the issue is being handled ethically or unethically). (150-300 words)\n",
    "\n",
    "◻Your peer clearly identifies at least one ethically relevant issue. In addition, they explain why there might be reasonable but opposing viewpoints about whether the issue is being handled ethically or unethically. Their description of the ethical issue is at least 150 words.(5 points)\n",
    "\n",
    "◻Your peer identifies at least one ethically relevant issue brought up by the article, but either 1) their description is too short, or 2) they do not satisfactorily explain why there might be reasonable but opposing viewpoints about whether the issue is being handled ethically or unethically.(3 points).\n",
    "\n",
    "◻Your peer either does not identify an issue brought up by the article, or the issue that they identify is not ethically relevant.(0 points)\n",
    "\n",
    "Does your peer take a stance on whether the relevant issue is being handled ethically or unethically, and do they defend their stance by correctly applying at least one of the three ethical frameworks discussed in class? (Note, for guidelines on what constitutes a “correct application” of an ethical framework, see the reading titled “Applying an Ethical Framework”) (200-400 words)\n",
    "\n",
    "◻Yes, completely. Moreover, this portion of their response is at least 200 words(5 points)\n",
    "\n",
    "◻Your peer takes a clear stance on whether the relevant issue is being handled ethically or unethically, and mentions at least one ethical framework discussed in class, but either 1) their analysis is too short, or 2) the way that they apply the ethical framework to the issue they are discussing demonstrates a misunderstanding of the ethical framework. (For more on this, see the “Applying an Ethical Framework” reading).(3 points)\n",
    "\n",
    "◻Your peer either does not take a stance on whether the relevant issue is being handled ethically or unethically, or else does not mention any of the three ethical frameworks discussed in class.(0 points)\n",
    "\n",
    "\n",
    "[1]To say that a viewpoint is “reasonable” is to say that it is the kind of view that someone who was thinking critically about ethics might actually hold for justifiable reasons. Consideringreasonabledifferences of ethical opinion helps to avoid what is known as a straw man fallacy:this happens when we characterize one or the other viewpoint as wrong based on the weakest arguments for it."
   ]
  },
  {
   "cell_type": "code",
   "execution_count": null,
   "id": "0bb98e43",
   "metadata": {},
   "outputs": [],
   "source": []
  }
 ],
 "metadata": {
  "kernelspec": {
   "display_name": "Python 3 (ipykernel)",
   "language": "python",
   "name": "python3"
  },
  "language_info": {
   "codemirror_mode": {
    "name": "ipython",
    "version": 3
   },
   "file_extension": ".py",
   "mimetype": "text/x-python",
   "name": "python",
   "nbconvert_exporter": "python",
   "pygments_lexer": "ipython3",
   "version": "3.9.12"
  }
 },
 "nbformat": 4,
 "nbformat_minor": 5
}
