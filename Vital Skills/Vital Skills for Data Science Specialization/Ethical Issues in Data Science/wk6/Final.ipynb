{
 "cells": [
  {
   "cell_type": "markdown",
   "id": "abd57ec7",
   "metadata": {},
   "source": [
    "DTSA 5303\tEthical Issues in Data Science\t\n",
    "- Project\t35%\t\n",
    "- Written reflections on earlier prompt responses"
   ]
  },
  {
   "cell_type": "markdown",
   "id": "924790fa",
   "metadata": {},
   "source": [
    "The Final Submission for the credit course is a compilation of the discussion posts and accounts for 35% of total grade.  Remember, if you post discussions in the non-credit course, you will lose access to those posts if/when you switch to the credit course.From the Submission Instructions:\n",
    "For this final assignment, you will revisit your answer to a specific discussion board question (or portion of it) from each of the five weeks of this course. In each case, you may:\n",
    "\n",
    "a) repeat your answer exactly as you gave it originally, or\n",
    "\n",
    "b) revise and expand upon your original answer, or\n",
    "\n",
    "c) start anew in answering the question. \n",
    "\n"
   ]
  },
  {
   "cell_type": "markdown",
   "id": "693894c1",
   "metadata": {},
   "source": [
    "The final consists of 5 individual smaller reports (2-3 paragraphs) where each one refers to one of the discussion post questions of each week. It is either the same question or part of it. This means if you already did all these posts you can reuse them for the final. In my case I expanded a little bit on each one to get the required length. In the end you should not have to spend a lot of time on the final if you already did the work before. (edited) "
   ]
  },
  {
   "cell_type": "markdown",
   "id": "5f1ef447",
   "metadata": {},
   "source": [
    "---"
   ]
  },
  {
   "cell_type": "markdown",
   "id": "3e83d25a",
   "metadata": {},
   "source": [
    "# Week 1"
   ]
  },
  {
   "cell_type": "markdown",
   "id": "b3b364ab",
   "metadata": {},
   "source": [
    "Analyze a Case Study\n",
    "\n",
    "Choose a case study from the ones provided with the ACM Code of Professional Ethics, at https://www.acm.org/code-of-ethics/case-studies\n",
    "\n",
    "Write and post (on the discussion board) an essay of 500-800 words that:\n",
    "\n",
    "- Briefly analyzes this case from the perspectives of each of the ethical frameworks we have studied: Kantianism/Deontology; Virtue Ethics; Utilitarianism.   For each, do you feel that framework suggests whether the situation is ethical or not?  Or do you feel it does not lead to a conclusive determination?   Whichever you feel (ethical / inconclusive / not-ethical) please state briefly what you feel that framework leads to that conclusion.\n",
    "\n",
    "- From what you have seen so far, which ethical frameworks appeal to you most, and least, and why?   \n",
    "\n",
    "Please note that there are rarely right and wrong answers to questions framed for short essay responses in this course.   Rather, the goal is to think issues through from a variety of perspectives. "
   ]
  },
  {
   "cell_type": "markdown",
   "id": "595e57fe",
   "metadata": {},
   "source": [
    "# Case: Automated Active Response Weaponry - ACM Ethics\n",
    "4–5 minutes\n",
    "https://ethics.acm.org/code-of-ethics/using-the-code/case-automated-active-response-weaponry/\n",
    "\n",
    "## Using the Code: Automated Active Response Weaponry\n",
    "\n",
    "Q Industries is an international defense contractor that specializes in autonomous vehicles. Q’s early work focused on passive systems, such as bomb-defusing robots and crowd-monitoring drones. As an early pioneer in this area, Q established itself as a vendor of choice for both military and law enforcement applications. Q’s products have been deployed in a variety of settings, including conflict zones and non-violent protests.\n",
    "\n",
    "In recent years, Q has suffered a number of losses, as protestors and other individuals have physically attacked the vehicles with rocks, guns, and other weapons. To reduce this problem, Q has begun to experiment with automated active responses. Q’s first approach was to employ facial recognition algorithms to record those present and to detect individuals who may pose a threat. This approach was shortly followed by automated non-lethal responses, such as tear gas, pepper spray, or acoustic weapons, to incapacitate threatening individuals.\n",
    "\n",
    "Q has recently been approached—in secret meetings—by multiple governments to expand this response to include lethal responses of varying scales. These capabilities range from targeted shooting of known individuals to releasing small-scale explosives. When Q leadership agreed to pursue these capabilities, several of Q’s original engineers resigned in protest. Some of these engineers had previously expressed concern that the non-lethal responses had inadequate protections against tampering, such as replacing tear gas with a lethal poison. Knowing that these individuals were planning to speak out publicly, Q sued them for violating the terms of their confidentiality employment agreement.\n",
    "\n",
    "## Analysis\n",
    "\n",
    "Principle 1.2 states that systems designed with the intention of causing harm must be ethically justified and must minimize unintended harm. Q’s evolving work shows a gradual process toward violating this principle. Q’s first automated response employed machine learning in a way that could be used to suppress free speech and association, which are fundamental human rights (Principle 1.1). By failing to account for this risk, Q failed to adhere to Principle 2.5’s mandate of extraordinary care regarding risks in machine learning systems. Furthermore, these tools could be used by governments that do not respect the values expressed in Principle 1.4, allowing discrimination and other abuses. This technology also failed to respect the privacy of other individuals who may be innocent bystanders (Principle 1.6). Additionally, the harm induced by the non-lethal weapons was not minimized, as these weapons would subject innocent individuals to pain or death without due process. Thus, the harm made possible here is not ethically justified and violates Principle 1.2.\n",
    "\n",
    "The engineers who resigned and decided to speak out would be justified in doing so, based on Principles 1.2, 1.7, and 2.7. The harm that Q’s systems made possible violated several aspects of the ethical obligations of the Code. Thus, the engineers were right to foster public awareness of these risks, and breaking their confidentiality agreements would be ethically justified. At the same time, Q’s lawsuit is justified and the engineers must accept the consequences for breaking these agreements, per Principle 2.3.\n",
    "\n",
    "Overall, Q’s leadership failed to respect the Code’s overarching emphasis on the public good. The Preamble introduces this emphasis by stating that public good is the paramount consideration. Principle 3.1 reiterates this point, declaring that people should always be the central concern. Q’s leadership failed to adhere to this key tenet that underlies the other principles of the Code.\n",
    "\n",
    "These cases studies are designed for educational purposes to illustrate how to apply the Code to analyze complex situations. All names, businesses, places, events, and incidents are fictitious and are not intended to refer to actual entities.\n"
   ]
  },
  {
   "cell_type": "markdown",
   "id": "734ea18d",
   "metadata": {},
   "source": [
    "---"
   ]
  },
  {
   "cell_type": "markdown",
   "id": "3e6441be",
   "metadata": {},
   "source": [
    "# Week 2"
   ]
  },
  {
   "cell_type": "markdown",
   "id": "f2b1a22d",
   "metadata": {},
   "source": [
    "Recommender Systems\n",
    "\n",
    "Select one ethical framework (your choice) and write on the discussion board whether you think this framework supports or does not support the use of recommender systems to feed you more YouTube content (songs) and with that, more advertisements.   If you prefer to comment on the case where recommender systems suggest political content as discussed by Tufecki, rather than on musical content that is fine too.   \n",
    "\n",
    "Then please read at least one comment by another student and optionally, provide a reaction to that comment.\n",
    "\n",
    "Please note: if you decide to upgrade your enrollment in this course to receive credit in CU’ Boulder’s MS-DS program, you will lose access to the discussion posts you submitted in the non-credit version. Since you will need your old discussion posts in order to complete the final assignment, we suggest that you save your discussion responses in a separate document so that you will still have access to them should you decide to upgrade your enrollment to the for-credit version of the course. Thank you!\n",
    "Participation is optional"
   ]
  },
  {
   "cell_type": "markdown",
   "id": "833a1643",
   "metadata": {},
   "source": [
    "---"
   ]
  },
  {
   "cell_type": "markdown",
   "id": "b6d84810",
   "metadata": {},
   "source": [
    "The Right to Be Forgotten\n",
    "\n",
    "Comment on the following in the discussion board:\n",
    "\n",
    "- Do you feel there should be a Right to be Forgotten in your current nation of residence?\n",
    "\n",
    "- Do you think this policy should be universal, or vary in different countries / regions?\n",
    "\n",
    "- What is the basis for your opinion?  (Ethical framework we’ve studied, or something else)\n",
    "\n",
    "Then make a comment in the discussion board on at least one response to one of these questions given by another student"
   ]
  },
  {
   "cell_type": "markdown",
   "id": "76fc1f63",
   "metadata": {},
   "source": [
    "---"
   ]
  },
  {
   "cell_type": "markdown",
   "id": "b0d8f463",
   "metadata": {},
   "source": [
    "# Week 3"
   ]
  },
  {
   "cell_type": "markdown",
   "id": "d3371cee",
   "metadata": {},
   "source": [
    "Comment on Two Articles\n",
    "\n",
    "Comment on two of the articles that were discussed in this lesson and that you have read carefully.   For each, say in 1-2 paragraphs:\n",
    "\n",
    "- Which article you are referring to\n",
    "\n",
    "- What you found most compelling or striking about the article\n",
    "\n",
    "- What you feel is the key ethical issue illustrated by the article\n",
    "\n",
    "Then read at least two article summaries written by other students and add a comment to each of them.\n",
    "\n",
    "Please note: if you decide to upgrade your enrollment in this course to receive credit in CU’ Boulder’s MS-DS program, you will lose access to the discussion posts you submitted in the non-credit version. Since you will need your old discussion posts in order to complete the final assignment, we suggest that you save your discussion responses in a separate document so that you will still have access to them should you decide to upgrade your enrollment to the for-credit version of the course. Thank you!\n",
    "Participation is optional"
   ]
  },
  {
   "cell_type": "markdown",
   "id": "22e645ad",
   "metadata": {},
   "source": [
    "---"
   ]
  },
  {
   "cell_type": "markdown",
   "id": "e991d52e",
   "metadata": {},
   "source": [
    "# Week 4"
   ]
  },
  {
   "cell_type": "markdown",
   "id": "d02d9833",
   "metadata": {},
   "source": [
    "Facial Recognition\n",
    "\n",
    "Provide an answer of 1-2 paragraphs (or more if you want and feel that is needed) to each of these questions:\n",
    "\n",
    "- Given the current imperfect but improving state of facial recognition software, where (if at all) do you think it should and/or should not be used?   \n",
    "\n",
    "- Suppose facial recognition improved to a point where identifications are nearly flawless.   Then, where (if at all) do you think it should and/or should not be used?  \n",
    "\n",
    "In answering each question, please consider at least two potential uses of facial recognition, such as police identification of people sought for questioning, government identification of suspected potential terrorists, or perhaps more benign applications like professors taking attendance in large lectures\n",
    "\n",
    "After you have completed your answers, please write a response to at least one answer to each of the two questions that someone else has made (or a response to a response that someone else already has made), stating what you agree or disagree with those answers or responses.   Please feel free to voice both agreement and disagreement, doing so in a way that is respectful to all opinions being voiced and the people voicing them."
   ]
  },
  {
   "cell_type": "markdown",
   "id": "e8e1827c",
   "metadata": {},
   "source": [
    "---"
   ]
  },
  {
   "cell_type": "markdown",
   "id": "6eab4790",
   "metadata": {},
   "source": [
    "# Week 5"
   ]
  },
  {
   "cell_type": "markdown",
   "id": "83f694bb",
   "metadata": {},
   "source": [
    "Gene Editing and Neurological Interventions\n",
    "\n",
    "Provide an answer of 1-2 paragraphs to each of these questions:\n",
    "\n",
    "- Under what conditions do you think it is ok to change the capabilities of a human being via gene editing and/or neurological intervention?   E.g. diseases that significantly impact the length and quality of life?   Conditions that make certain people less physically or mentally capable than others?   Creating AI-enhanced superhumans, if we ever can?    What is the basis for your opinion (can be anything that is meaningful to you)?\n",
    "\n",
    "- For these interventions to progress and succeed, significant involvement from data scientists will be required.   What do you think the stance of the data science community should be with respect to doing such work?   This could include whether or not, or under what conditions, you think data scientists should work on these problems; what obligations you feel the data science community has to be part of the broader ethical discussion on these topics; or other aspects that you feel are important.\n",
    "\n",
    "Then please comment on at least one answer that another student has provided, to each of these questions.  (It doesn’t need to be same student for both comments.)"
   ]
  },
  {
   "cell_type": "markdown",
   "id": "9dac67c2",
   "metadata": {},
   "source": [
    "---"
   ]
  },
  {
   "cell_type": "markdown",
   "id": "1757078b",
   "metadata": {},
   "source": [
    "The Future of Work\n",
    "\n",
    "Provide an answer of 1-2 paragraphs to at least two of the following questions:\n",
    "\n",
    "- Do the people or organizations that are behind the changes which cause jobs to disappear have an obligation to help the people who lose jobs?\n",
    "\n",
    "- Who has an obligation to help people retrain – governments, companies, …?\n",
    "\n",
    "- In times of rapid job dislocations, do governments or past employers have an obligation to provide greater safety nets for people who lose jobs?\n",
    "\n",
    "- Will we enter a world where there is sufficient wealth for all but not sufficient work for all – and if so, should society provide a guaranteed basic income for all?\n",
    "\n",
    "Then please comment on at least answers that another student has provided, to at least two of these questions.  (It doesn’t need to be same student for each comment."
   ]
  },
  {
   "cell_type": "code",
   "execution_count": null,
   "id": "5eb05fc0",
   "metadata": {},
   "outputs": [],
   "source": []
  }
 ],
 "metadata": {
  "kernelspec": {
   "display_name": "Python 3 (ipykernel)",
   "language": "python",
   "name": "python3"
  },
  "language_info": {
   "codemirror_mode": {
    "name": "ipython",
    "version": 3
   },
   "file_extension": ".py",
   "mimetype": "text/x-python",
   "name": "python",
   "nbconvert_exporter": "python",
   "pygments_lexer": "ipython3",
   "version": "3.9.12"
  }
 },
 "nbformat": 4,
 "nbformat_minor": 5
}
