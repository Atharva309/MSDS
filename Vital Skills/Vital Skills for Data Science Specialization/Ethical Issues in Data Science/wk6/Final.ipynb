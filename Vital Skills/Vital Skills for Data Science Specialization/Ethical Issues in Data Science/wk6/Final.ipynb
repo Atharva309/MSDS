{
 "cells": [
  {
   "cell_type": "markdown",
   "id": "e68cd8e5",
   "metadata": {},
   "source": [
    "Ethical Frameworks\n",
    "- Kantianism / Deontology - humans possess the ability to reason and understand universal moral laws that they can apply in all situations.\n",
    "- Virtue Ethics-  urges people to live a moral life by cultivating virtuous habits.\n",
    "- Utilitarianism - the doctrine that actions are right if they are useful or for the benefit of a majority.\n",
    "\n"
   ]
  },
  {
   "cell_type": "markdown",
   "id": "d8d22a24",
   "metadata": {},
   "source": [
    "DTSA 5303\tEthical Issues in Data Science\t\n",
    "- Project\t35%\t\n",
    "- Written reflections on earlier prompt responses"
   ]
  },
  {
   "cell_type": "markdown",
   "id": "f93ac84b",
   "metadata": {},
   "source": [
    "The Final Submission for the credit course is a compilation of the discussion posts and accounts for 35% of total grade.  Remember, if you post discussions in the non-credit course, you will lose access to those posts if/when you switch to the credit course.From the Submission Instructions:\n",
    "For this final assignment, you will revisit your answer to a specific discussion board question (or portion of it) from each of the five weeks of this course. In each case, you may:\n",
    "\n",
    "a) repeat your answer exactly as you gave it originally, or\n",
    "\n",
    "b) revise and expand upon your original answer, or\n",
    "\n",
    "c) start anew in answering the question. \n",
    "\n"
   ]
  },
  {
   "cell_type": "markdown",
   "id": "3e40a16f",
   "metadata": {},
   "source": [
    "The final consists of 5 individual smaller reports (2-3 paragraphs) where each one refers to one of the discussion post questions of each week. It is either the same question or part of it. This means if you already did all these posts you can reuse them for the final. In my case I expanded a little bit on each one to get the required length. In the end you should not have to spend a lot of time on the final if you already did the work before. (edited) "
   ]
  },
  {
   "cell_type": "markdown",
   "id": "475784b3",
   "metadata": {},
   "source": [
    "---"
   ]
  },
  {
   "cell_type": "markdown",
   "id": "fa898d90",
   "metadata": {},
   "source": [
    "# Week 1"
   ]
  },
  {
   "cell_type": "markdown",
   "id": "06998125",
   "metadata": {},
   "source": [
    "# Analyze a Case Study\n",
    "\n",
    "Choose a case study from the ones provided with the ACM Code of Professional Ethics, at https://www.acm.org/code-of-ethics/case-studies\n",
    "\n",
    "Write and post (on the discussion board) an essay of 500-800 words that:\n",
    "\n",
    "- Briefly analyzes this case from the perspectives of each of the ethical frameworks we have studied: Kantianism/Deontology; Virtue Ethics; Utilitarianism.   For each, do you feel that framework suggests whether the situation is ethical or not?  Or do you feel it does not lead to a conclusive determination?   Whichever you feel (ethical / inconclusive / not-ethical) please state briefly what you feel that framework leads to that conclusion.\n",
    "\n",
    "- From what you have seen so far, which ethical frameworks appeal to you most, and least, and why?   \n",
    "\n",
    "Please note that there are rarely right and wrong answers to questions framed for short essay responses in this course.   Rather, the goal is to think issues through from a variety of perspectives. "
   ]
  },
  {
   "cell_type": "markdown",
   "id": "1ef5d395",
   "metadata": {},
   "source": [
    "https://ethics.acm.org/code-of-ethics/using-the-code/case-automated-active-response-weaponry/\n",
    "\n",
    "# Case: Automated Active Response Weaponry\n",
    "\n",
    "## Using the Code: Automated Active Response Weaponry\n",
    "\n",
    "Q Industries is an international defense contractor that specializes in autonomous vehicles. Q’s early work focused on passive systems, such as bomb-defusing robots and crowd-monitoring drones. As an early pioneer in this area, Q established itself as a vendor of choice for both military and law enforcement applications. Q’s products have been deployed in a variety of settings, including conflict zones and non-violent protests.\n",
    "\n",
    "In recent years, Q has suffered a number of losses, as protestors and other individuals have physically attacked the vehicles with rocks, guns, and other weapons. To reduce this problem, Q has begun to experiment with automated active responses. Q’s first approach was to employ facial recognition algorithms to record those present and to detect individuals who may pose a threat. This approach was shortly followed by automated non-lethal responses, such as tear gas, pepper spray, or acoustic weapons, to incapacitate threatening individuals.\n",
    "\n",
    "Q has recently been approached—in secret meetings—by multiple governments to expand this response to include lethal responses of varying scales. These capabilities range from targeted shooting of known individuals to releasing small-scale explosives. When Q leadership agreed to pursue these capabilities, several of Q’s original engineers resigned in protest. Some of these engineers had previously expressed concern that the non-lethal responses had inadequate protections against tampering, such as replacing tear gas with a lethal poison. Knowing that these individuals were planning to speak out publicly, Q sued them for violating the terms of their confidentiality employment agreement.\n",
    "\n",
    "## Analysis\n",
    "\n",
    "Principle 1.2 states that systems designed with the intention of causing harm must be ethically justified and must minimize unintended harm. Q’s evolving work shows a gradual process toward violating this principle. Q’s first automated response employed machine learning in a way that could be used to suppress free speech and association, which are fundamental human rights (Principle 1.1). By failing to account for this risk, Q failed to adhere to Principle 2.5’s mandate of extraordinary care regarding risks in machine learning systems. Furthermore, these tools could be used by governments that do not respect the values expressed in Principle 1.4, allowing discrimination and other abuses. This technology also failed to respect the privacy of other individuals who may be innocent bystanders (Principle 1.6). Additionally, the harm induced by the non-lethal weapons was not minimized, as these weapons would subject innocent individuals to pain or death without due process. Thus, the harm made possible here is not ethically justified and violates Principle 1.2.\n",
    "\n",
    "The engineers who resigned and decided to speak out would be justified in doing so, based on Principles 1.2, 1.7, and 2.7. The harm that Q’s systems made possible violated several aspects of the ethical obligations of the Code. Thus, the engineers were right to foster public awareness of these risks, and breaking their confidentiality agreements would be ethically justified. At the same time, Q’s lawsuit is justified and the engineers must accept the consequences for breaking these agreements, per Principle 2.3.\n",
    "\n",
    "Overall, Q’s leadership failed to respect the Code’s overarching emphasis on the public good. The Preamble introduces this emphasis by stating that public good is the paramount consideration. Principle 3.1 reiterates this point, declaring that people should always be the central concern. Q’s leadership failed to adhere to this key tenet that underlies the other principles of the Code.\n",
    "\n",
    "These cases studies are designed for educational purposes to illustrate how to apply the Code to analyze complex situations. All names, businesses, places, events, and incidents are fictitious and are not intended to refer to actual entities.\n"
   ]
  },
  {
   "cell_type": "markdown",
   "id": "898af16c",
   "metadata": {},
   "source": [
    "---"
   ]
  },
  {
   "cell_type": "markdown",
   "id": "0720ead0",
   "metadata": {},
   "source": [
    "# Week 2 (X2)"
   ]
  },
  {
   "cell_type": "markdown",
   "id": "8e641520",
   "metadata": {},
   "source": [
    "# Recommender Systems\n",
    "\n",
    "Select one ethical framework (your choice) and write on the discussion board whether you think this framework supports or does not support the use of recommender systems to feed you more YouTube content (songs) and with that, more advertisements.   If you prefer to comment on the case where recommender systems suggest political content as discussed by Tufecki, rather than on musical content that is fine too.   "
   ]
  },
  {
   "cell_type": "markdown",
   "id": "2602ae70",
   "metadata": {},
   "source": [
    "Virtue Ethics is a normative ethical theory that focuses on the development of virtuous character traits and emphasizes the importance of moral virtues in guiding behavior. Virtue Ethics is often associated with Aristotle, who argued that virtuous actions arise from a virtuous character.\n",
    "\n",
    "When it comes to the use of recommender systems on platforms like YouTube, Virtue Ethics does not inherently support or oppose them. Instead, Virtue Ethics provides a framework for evaluating the morality of actions based on virtues such as honesty, integrity, fairness, and benevolence.\n",
    "\n",
    "In the context of recommender systems on YouTube, the ethical evaluation would depend on how these systems are designed and implemented. If the recommender system operates with transparency, honesty, and respects the well-being of users, it could align with Virtue Ethics. For example, a system that recommends content to enrich a user's experience, introducing them to new music and relevant advertisements without manipulating or exploiting them, may be seen as virtuous.\n",
    "\n",
    "On the other hand, if the recommender system is designed to exploit users by promoting addictive content or manipulating their preferences for financial gain, it would be considered ethically problematic from a Virtue Ethics perspective. This is because such actions would be inconsistent with virtues like honesty, integrity, and benevolence.\n",
    "\n",
    "In conclusion, Virtue Ethics does not provide a clear-cut answer regarding the use of recommender systems on platforms like YouTube. The ethical evaluation depends on the virtues embodied in the design and implementation of these systems. Transparency, honesty, and a focus on user well-being are likely to align with Virtue Ethics, while manipulative practices may be viewed as ethically objectionable."
   ]
  },
  {
   "cell_type": "markdown",
   "id": "c5073b46",
   "metadata": {},
   "source": [
    "---"
   ]
  },
  {
   "cell_type": "markdown",
   "id": "5bcf3eaa",
   "metadata": {},
   "source": [
    "# The Right to Be Forgotten\n",
    "\n",
    "Comment on the following:\n",
    "\n",
    "- Do you feel there should be a Right to be Forgotten in your current nation of residence?\n",
    "\n",
    "- Do you think this policy should be universal, or vary in different countries / regions?\n",
    "\n",
    "- What is the basis for your opinion?  (Ethical framework we’ve studied, or something else)\n",
    "\n"
   ]
  },
  {
   "cell_type": "markdown",
   "id": "5f4d3fa9",
   "metadata": {},
   "source": [
    "---"
   ]
  },
  {
   "cell_type": "markdown",
   "id": "c25d5765",
   "metadata": {},
   "source": [
    "# Week 3"
   ]
  },
  {
   "cell_type": "markdown",
   "id": "37f1da21",
   "metadata": {},
   "source": [
    "# Comment on Two Articles\n",
    "\n",
    "Comment on two of the articles that were discussed in this lesson and that you have read carefully.   For each, say in 1-2 paragraphs:\n",
    "\n",
    "- Which article you are referring to\n",
    "\n",
    "- What you found most compelling or striking about the article\n",
    "\n",
    "- What you feel is the key ethical issue illustrated by the article\n",
    "\n",
    "Then read at least two article summaries written by other students and add a comment to each of them.\n",
    "\n",
    "Please note: if you decide to upgrade your enrollment in this course to receive credit in CU’ Boulder’s MS-DS program, you will lose access to the discussion posts you submitted in the non-credit version. Since you will need your old discussion posts in order to complete the final assignment, we suggest that you save your discussion responses in a separate document so that you will still have access to them should you decide to upgrade your enrollment to the for-credit version of the course. Thank you!\n",
    "Participation is optional"
   ]
  },
  {
   "cell_type": "markdown",
   "id": "33352115",
   "metadata": {},
   "source": [
    "---"
   ]
  },
  {
   "cell_type": "markdown",
   "id": "39d66e31",
   "metadata": {},
   "source": [
    "# Week 4"
   ]
  },
  {
   "cell_type": "markdown",
   "id": "b563930f",
   "metadata": {},
   "source": [
    "# Facial Recognition\n",
    "\n",
    "Provide an answer of 1-2 paragraphs (or more if you want and feel that is needed) to each of these questions:\n",
    "\n",
    "- Given the current imperfect but improving state of facial recognition software, where (if at all) do you think it should and/or should not be used?   \n",
    "\n",
    "- Suppose facial recognition improved to a point where identifications are nearly flawless.   Then, where (if at all) do you think it should and/or should not be used?  \n",
    "\n",
    "In answering each question, please consider at least two potential uses of facial recognition, such as police identification of people sought for questioning, government identification of suspected potential terrorists, or perhaps more benign applications like professors taking attendance in large lectures\n",
    "\n"
   ]
  },
  {
   "cell_type": "markdown",
   "id": "beb5b48c",
   "metadata": {},
   "source": [
    "**Given the current imperfect but improving state of facial recognition software, where (if at all) do you think it should and/or should not be used?**\n",
    "\n",
    "Facial recognition technology, in its current state, has demonstrated imperfections, including issues related to accuracy, bias, and privacy concerns. Considering these limitations, it should be cautiously employed in areas where the consequences of misidentification are less severe. For instance, benign applications like professors using facial recognition for attendance in large lectures could be suitable, as the impact of an occasional error is minimal. However, in high-stakes scenarios such as law enforcement using facial recognition for criminal investigations, its current limitations may pose significant risks, leading to potential false arrests or other serious consequences. Until the technology is more reliable and bias-free, its use in critical applications should be approached with caution.\n",
    "\n",
    "**Suppose facial recognition improved to a point where identifications are nearly flawless. Then, where (if at all) do you think it should and/or should not be used?**\n",
    "\n",
    "If facial recognition were to reach a point of near-perfection, it could be more confidently employed in various applications. In law enforcement, for instance, accurate facial recognition could be valuable for identifying and apprehending individuals sought for questioning, provided that strict safeguards are in place to prevent misuse and protect individual rights. Government identification of suspected potential terrorists could also benefit from highly accurate facial recognition, given appropriate oversight and adherence to legal and ethical standards. However, even with improved accuracy, concerns about privacy and the potential for abuse would still need careful consideration. In more benign applications, such as attendance tracking or access control, near-flawless facial recognition could be more widely adopted, provided strict privacy measures are maintained to prevent unauthorized use or tracking. Overall, as the technology improves, its ethical and responsible deployment becomes increasingly crucial to prevent misuse and protect individual rights."
   ]
  },
  {
   "cell_type": "markdown",
   "id": "6ef71d5a",
   "metadata": {},
   "source": [
    "---"
   ]
  },
  {
   "cell_type": "markdown",
   "id": "a4e14002",
   "metadata": {},
   "source": [
    "# Week 5"
   ]
  },
  {
   "cell_type": "markdown",
   "id": "cc750db2",
   "metadata": {},
   "source": [
    "# Gene Editing and Neurological Interventions\n",
    "\n",
    "Provide an answer of 1-2 paragraphs to each of these questions:\n",
    "\n",
    "- Under what conditions do you think it is ok to change the capabilities of a human being via gene editing and/or neurological intervention?   E.g. diseases that significantly impact the length and quality of life?   Conditions that make certain people less physically or mentally capable than others?   Creating AI-enhanced superhumans, if we ever can?    What is the basis for your opinion (can be anything that is meaningful to you)?\n",
    "\n",
    "- For these interventions to progress and succeed, significant involvement from data scientists will be required.   What do you think the stance of the data science community should be with respect to doing such work?   This could include whether or not, or under what conditions, you think data scientists should work on these problems; what obligations you feel the data science community has to be part of the broader ethical discussion on these topics; or other aspects that you feel are important.\n",
    "\n"
   ]
  },
  {
   "cell_type": "markdown",
   "id": "b41012ec",
   "metadata": {},
   "source": [
    "**Under what conditions do you think it is okay to change the capabilities of a human being via gene editing and/or neurological intervention?**\n",
    "\n",
    "The ethical considerations surrounding gene editing and neurological interventions are complex and often subjective. Generally, it could be ethically justifiable to use these technologies under conditions where they address severe genetic diseases that significantly impact the length and quality of life. Additionally, interventions might be considered when aiming to correct conditions that create substantial disparities in physical or mental capabilities, as long as the goal is to enhance overall well-being and equity. However, caution is needed to prevent unintended consequences, and careful consideration of ethical, cultural, and societal implications is crucial. The basis for this opinion lies in balancing the potential for medical advancements with a commitment to respecting individual autonomy, preventing discrimination, and promoting social justice.\n",
    "\n",
    "**For these interventions to progress and succeed, significant involvement from data scientists will be required. What do you think the stance of the data science community should be with respect to doing such work?**\n",
    "\n",
    "The data science community should play a pivotal role in the ethical and responsible development of gene editing and neurological interventions. Data scientists should actively engage in discussions about the ethical implications of their work, contributing to a broader understanding of the potential risks and benefits. They should adhere to transparent and inclusive practices, incorporating diverse perspectives to address societal concerns. There should be a commitment to avoiding biases in algorithms and ensuring that the benefits of these technologies are accessible to all, without exacerbating existing social inequalities. Additionally, data scientists should advocate for ethical guidelines and regulations to govern the use of their work in gene editing and neurological interventions, fostering a responsible and accountable approach to the intersection of data science and human enhancement technologies."
   ]
  },
  {
   "cell_type": "markdown",
   "id": "dbca0477",
   "metadata": {},
   "source": [
    "---"
   ]
  },
  {
   "cell_type": "markdown",
   "id": "6eb97174",
   "metadata": {},
   "source": [
    "# The Future of Work\n",
    "\n",
    "Provide an answer of 1-2 paragraphs to at least two of the following questions:\n",
    "\n",
    "- Do the people or organizations that are behind the changes which cause jobs to disappear have an obligation to help the people who lose jobs?\n",
    "\n",
    "- Who has an obligation to help people retrain – governments, companies, …?\n",
    "\n",
    "- In times of rapid job dislocations, do governments or past employers have an obligation to provide greater safety nets for people who lose jobs?\n",
    "\n",
    "- Will we enter a world where there is sufficient wealth for all but not sufficient work for all – and if so, should society provide a guaranteed basic income for all?\n",
    "\n"
   ]
  },
  {
   "cell_type": "markdown",
   "id": "96315f8a",
   "metadata": {},
   "source": [
    "**Do the people or organizations that are behind the changes which cause jobs to disappear have an obligation to help the people who lose jobs?**\n",
    "\n",
    "Yes, there is a compelling ethical argument that those responsible for technological or organizational changes resulting in job displacement have an obligation to support affected individuals. Whether it's due to automation, technological advancements, or shifts in industry, these changes often leave workers without the skills required for new job opportunities. The responsible entities, whether companies or organizations, should contribute to retraining programs, provide financial assistance during transitions, and support initiatives that facilitate the adaptation of the workforce. A collaborative effort between the private and public sectors can help mitigate the negative consequences of job displacement and foster a more inclusive and sustainable job market.\n",
    "\n",
    "\n",
    "**Who has an obligation to help people retrain – governments, companies, …?**\n",
    "\n",
    "The responsibility for helping people retrain is a shared obligation that involves both governments and companies. Governments play a crucial role in creating and implementing policies that facilitate access to education and training programs, ensuring they are affordable and widely available. They can also incentivize businesses to invest in employee training through tax incentives or other means. On the other hand, companies have a direct interest in maintaining a skilled and adaptable workforce. They should invest in training and upskilling initiatives, offering resources and support for employees to acquire new skills. A collaborative effort between governments and companies is essential to create a dynamic and responsive workforce capable of navigating evolving job markets.\n",
    "\n",
    "**In times of rapid job dislocations, do governments or past employers have an obligation to provide greater safety nets for people who lose jobs?**\n",
    "\n",
    "In times of rapid job dislocations, both governments and past employers have a shared responsibility to provide greater safety nets for individuals who lose their jobs. Governments should establish and maintain robust social safety nets, including unemployment benefits, healthcare coverage, and retraining programs, to support workers during periods of transition. This ensures that individuals have the means to meet their basic needs and can actively pursue new opportunities without facing severe financial hardships. Past employers also bear responsibility, particularly if job displacement results from technological advancements or organizational changes. They should consider providing severance packages, outplacement services, and support for retraining to help former employees navigate the challenges of finding new employment. This collaborative approach can contribute to a more resilient and compassionate response to the societal impacts of rapid job dislocations.\n",
    "\n",
    "**Will we enter a world where there is sufficient wealth for all but not sufficient work for all – and if so, should society provide a guaranteed basic income for all?**\n",
    "\n",
    "As technology continues to advance and certain jobs become automated, there is a possibility of entering a world where there is sufficient wealth but not enough traditional employment opportunities for everyone. In such a scenario, the concept of a guaranteed basic income (UBI) becomes increasingly relevant. UBI could provide financial security for individuals, ensuring a baseline standard of living regardless of employment status. Implementing a UBI would require careful consideration of economic feasibility, societal values, and potential consequences. It could potentially empower individuals to pursue education, entrepreneurship, or community service, fostering a more dynamic and adaptable workforce in the face of evolving economic landscapes. However, discussions around UBI should involve a comprehensive examination of its impact on societal structures, economic incentives, and the overall well-being of the population."
   ]
  },
  {
   "cell_type": "code",
   "execution_count": null,
   "id": "1fa10758",
   "metadata": {},
   "outputs": [],
   "source": []
  }
 ],
 "metadata": {
  "kernelspec": {
   "display_name": "Python 3 (ipykernel)",
   "language": "python",
   "name": "python3"
  },
  "language_info": {
   "codemirror_mode": {
    "name": "ipython",
    "version": 3
   },
   "file_extension": ".py",
   "mimetype": "text/x-python",
   "name": "python",
   "nbconvert_exporter": "python",
   "pygments_lexer": "ipython3",
   "version": "3.8.18"
  }
 },
 "nbformat": 4,
 "nbformat_minor": 5
}
