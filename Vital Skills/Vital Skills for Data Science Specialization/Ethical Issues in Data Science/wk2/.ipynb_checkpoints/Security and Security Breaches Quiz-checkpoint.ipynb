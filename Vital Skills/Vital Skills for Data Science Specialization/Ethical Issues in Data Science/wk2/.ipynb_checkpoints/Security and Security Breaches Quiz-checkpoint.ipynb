{
 "cells": [
  {
   "cell_type": "markdown",
   "id": "b95ff732",
   "metadata": {},
   "source": [
    "1. Which of the following is the simplest way to obtain sensitive information?"
   ]
  },
  {
   "cell_type": "markdown",
   "id": "28e15edf",
   "metadata": {},
   "source": [
    "2. What is a second, very simple way to obtain sensitive information?"
   ]
  },
  {
   "cell_type": "markdown",
   "id": "8a2500eb",
   "metadata": {},
   "source": [
    "- Send a phishing email that asks the user to supply sensitive information to correct an urgent problem"
   ]
  },
  {
   "cell_type": "markdown",
   "id": "89c4f198",
   "metadata": {},
   "source": [
    "3. What sequence of events caused the Equifax data breach?"
   ]
  },
  {
   "cell_type": "markdown",
   "id": "37fefccb",
   "metadata": {},
   "source": [
    "- A vulnerability was discovered, and a patch quickly sent out, but the patch was not applied in a timely manner"
   ]
  },
  {
   "cell_type": "markdown",
   "id": "81b974b2",
   "metadata": {},
   "source": [
    "4. Internet of Things (IOT) devices are particularly susceptible to security problems because:"
   ]
  },
  {
   "cell_type": "markdown",
   "id": "801c1109",
   "metadata": {},
   "source": [
    "- Users often don’t pay as much attention to secure passwords on these devices as on larger computers \n",
    "- Software developed for IOT systems is less likely to give careful consideration to security issues than software developed for large computer systems "
   ]
  },
  {
   "cell_type": "markdown",
   "id": "9dc2ff02",
   "metadata": {},
   "source": [
    "5. The ransomware attacks on some smaller US municipalities that we read about in this lesson are said to have succeeded because:"
   ]
  },
  {
   "cell_type": "markdown",
   "id": "63e08f36",
   "metadata": {},
   "source": []
  }
 ],
 "metadata": {
  "kernelspec": {
   "display_name": "Python 3 (ipykernel)",
   "language": "python",
   "name": "python3"
  },
  "language_info": {
   "codemirror_mode": {
    "name": "ipython",
    "version": 3
   },
   "file_extension": ".py",
   "mimetype": "text/x-python",
   "name": "python",
   "nbconvert_exporter": "python",
   "pygments_lexer": "ipython3",
   "version": "3.9.12"
  }
 },
 "nbformat": 4,
 "nbformat_minor": 5
}
