{
 "cells": [
  {
   "cell_type": "markdown",
   "id": "62ee1608",
   "metadata": {},
   "source": [
    "1. Maximizing happiness is a defining element of which ethical framework:"
   ]
  },
  {
   "cell_type": "markdown",
   "id": "20b2a1a7",
   "metadata": {},
   "source": [
    "2. The concept of not using others as a means to an end is a key part of which ethical framework:"
   ]
  },
  {
   "cell_type": "markdown",
   "id": "65157dc7",
   "metadata": {},
   "source": [
    "3. The principle of doing what a morally virtuous person would do is a key part of which ethical framework:"
   ]
  },
  {
   "cell_type": "markdown",
   "id": "59ec1010",
   "metadata": {},
   "source": [
    "4. The application of which ethical framework can include attaching numerical values to various outcomes:"
   ]
  },
  {
   "cell_type": "markdown",
   "id": "a6b8d3d4",
   "metadata": {},
   "source": [
    "5. One family in your town has more bread than it possibly can consume before it goes bad. Another family has no food and is starving, due to circumstances beyond their control. You steal a loaf of bread from the first family and give it to the second. Under which ethical framework would this clearly be unethical:"
   ]
  },
  {
   "cell_type": "markdown",
   "id": "39f4b159",
   "metadata": {},
   "source": [
    "6. In the same scenario as in #5, under which ethical framework would this most likely be ethical? (Select all that apply)"
   ]
  },
  {
   "cell_type": "markdown",
   "id": "92644ee9",
   "metadata": {},
   "source": []
  }
 ],
 "metadata": {
  "kernelspec": {
   "display_name": "Python 3 (ipykernel)",
   "language": "python",
   "name": "python3"
  },
  "language_info": {
   "codemirror_mode": {
    "name": "ipython",
    "version": 3
   },
   "file_extension": ".py",
   "mimetype": "text/x-python",
   "name": "python",
   "nbconvert_exporter": "python",
   "pygments_lexer": "ipython3",
   "version": "3.9.12"
  }
 },
 "nbformat": 4,
 "nbformat_minor": 5
}
