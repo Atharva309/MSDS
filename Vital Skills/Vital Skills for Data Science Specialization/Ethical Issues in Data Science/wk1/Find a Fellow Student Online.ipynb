{
 "cells": [
  {
   "cell_type": "markdown",
   "id": "c8fd04e8",
   "metadata": {},
   "source": [
    "What did you find out about a fellow student online? Were there any associated ethical issues?\n",
    "\n",
    "Please note: if you decide to upgrade your enrollment in this course to receive credit in CU’Boulder’s MS-DS program, you will lose access to the discussion posts you submitted in the non-credit version. Since you will need your old discussion posts in order to complete the final assignment, we suggest that you save your discussion responses in a separate document so that you will still have access to them should you decide to upgrade your enrollment to the for-credit version of the course. Thank you!"
   ]
  },
  {
   "cell_type": "code",
   "execution_count": null,
   "id": "9c635324",
   "metadata": {},
   "outputs": [],
   "source": []
  }
 ],
 "metadata": {
  "kernelspec": {
   "display_name": "Python 3 (ipykernel)",
   "language": "python",
   "name": "python3"
  },
  "language_info": {
   "codemirror_mode": {
    "name": "ipython",
    "version": 3
   },
   "file_extension": ".py",
   "mimetype": "text/x-python",
   "name": "python",
   "nbconvert_exporter": "python",
   "pygments_lexer": "ipython3",
   "version": "3.9.12"
  }
 },
 "nbformat": 4,
 "nbformat_minor": 5
}
