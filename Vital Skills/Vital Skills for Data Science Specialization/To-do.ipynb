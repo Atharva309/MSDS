{
 "cells": [
  {
   "cell_type": "markdown",
   "id": "0ab82213",
   "metadata": {},
   "source": [
    "# To-do:\n",
    "\n",
    "- CyberSecurity Week 5\n",
    "    - 4-5 minute video response \n",
    "     \n",
    "- Fundamentals of Data Visualization:\n",
    "    - Weeks  2, and 3 Quizes\n",
    "    \n",
    "# Waiting for grades:\n",
    "\n",
    "- Data Science as a Field\n",
    "    - Waiting on wk 4 assignment grade\n",
    "    \n",
    "- Ethical Issues in DS Week 3\n",
    "    - 3-5 pages Interview a Data Science Professional"
   ]
  },
  {
   "cell_type": "code",
   "execution_count": null,
   "id": "3ab689b3",
   "metadata": {},
   "outputs": [],
   "source": []
  }
 ],
 "metadata": {
  "kernelspec": {
   "display_name": "Python 3 (ipykernel)",
   "language": "python",
   "name": "python3"
  },
  "language_info": {
   "codemirror_mode": {
    "name": "ipython",
    "version": 3
   },
   "file_extension": ".py",
   "mimetype": "text/x-python",
   "name": "python",
   "nbconvert_exporter": "python",
   "pygments_lexer": "ipython3",
   "version": "3.9.12"
  }
 },
 "nbformat": 4,
 "nbformat_minor": 5
}
