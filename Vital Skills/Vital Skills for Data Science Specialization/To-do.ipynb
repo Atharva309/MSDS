{
 "cells": [
  {
   "cell_type": "markdown",
   "id": "0ab82213",
   "metadata": {},
   "source": [
    "# To-do:\n",
    "\n",
    "- CyberSecurity \n",
    "    - Week 5\n",
    "       # - interview this week! Cyber Security Interview\n",
    "        - 4-5 minute video response \n",
    "    - Weeek 6\n",
    "        -  create a one page memo.\n",
    "        -  a 3 minute PSA using Flipgrid as a response tool.   Your PSA will address the cybersecurity incident.\n",
    "\n",
    "\n",
    "\n",
    "- Data Science as a Field\n",
    "    - a video in .mp4 format in which you present your \"NYPD Shooting Incident Data Report\" from Week 3 in ten minutes or less. \n",
    "    - Final Project 2: Reproducible Report on COVID19 Data. Import, tidy and analyze the COVID19 dataset from the Johns Hopkins Github site. \n",
    "    \n",
    "\n"
   ]
  },
  {
   "cell_type": "markdown",
   "id": "cb742771",
   "metadata": {},
   "source": [
    "## Project Files\n",
    "\n",
    "### NYDP Shooting Incident Data (Historic):\n",
    "\n",
    "- To access the files for the project in this module, go to https://catalog.data.gov/dataset and find the dataset titled NYPD Shooting Incident Data (Historic).  Right click on the CSV button and copy the link address.  You will then put this link address into your Rmd when you are reading in the dataset.  This project will be built up over the week and will be peer-reviewed as part of your grade at the end of the week.\n",
    "\n",
    "### COVID Data: \n",
    "\n",
    "- Since much time has passed since the original COVID dataset was uploaded, we want to ensure that all students are able to access the data. If you have any issues getting the https link to work for the COVID dataset  refer back to the step-by-step instructions in the video. Make sure to check your quotations, backslashes, dashes, etc., so that it is exactly the same as in class. In case you still have any issues, the full links are here, but it is strongly encouraged that you go through the process of getting the https address yourself off the website. \n",
    "\n",
    "- \"https://raw.githubusercontent.com/CSSEGISandData/COVID-19/master/csse_covid_19_data/csse_covid_19_time_series/\"\n",
    "\n",
    "- \"time_series_covid19_confirmed_US.csv\", \n",
    "- \"time_series_covid19_confirmed_global.csv\",\n",
    "- \"time_series_covid19_deaths_US.csv\", \n",
    "- \"time_series_covid19_deaths_global.csv\""
   ]
  },
  {
   "cell_type": "code",
   "execution_count": null,
   "id": "4f6c9544",
   "metadata": {},
   "outputs": [],
   "source": []
  }
 ],
 "metadata": {
  "kernelspec": {
   "display_name": "Python 3 (ipykernel)",
   "language": "python",
   "name": "python3"
  },
  "language_info": {
   "codemirror_mode": {
    "name": "ipython",
    "version": 3
   },
   "file_extension": ".py",
   "mimetype": "text/x-python",
   "name": "python",
   "nbconvert_exporter": "python",
   "pygments_lexer": "ipython3",
   "version": "3.9.12"
  }
 },
 "nbformat": 4,
 "nbformat_minor": 5
}
