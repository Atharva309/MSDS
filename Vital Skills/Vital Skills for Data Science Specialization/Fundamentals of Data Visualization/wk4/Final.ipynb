{
 "cells": [
  {
   "attachments": {},
   "cell_type": "markdown",
   "id": "56504818",
   "metadata": {},
   "source": [
    "DTSA 5304\tFundamentals of Data Visualization\t\n",
    "- Project\t40%\t\n",
    "- Final visualization with write-up"
   ]
  },
  {
   "cell_type": "markdown",
   "id": "9d3481eb",
   "metadata": {},
   "source": [
    "final will use dataset from week 1 - Visualization Project Part 1: Finding your Data\n",
    "\n",
    "\n",
    "task:\n",
    "- A full report where you cover what you did, the visualizations you created to find insights including why you chose those particular visualizations and what insights you where able to find."
   ]
  },
  {
   "cell_type": "markdown",
   "id": "b9e785fc",
   "metadata": {},
   "source": [
    "I took this class last session. Basically when I finished my mockup, I asked a couple of friends for their inputs on it after I explained what I wanted to show in my final project. You basically have to explain what feedback they offered or what they would want to see in the final visualization. Then you would try to work their inputs/suggestions into your visualization and explain how that affected your approach in making the visualization"
   ]
  },
  {
   "cell_type": "code",
   "execution_count": null,
   "id": "ace13e25",
   "metadata": {},
   "outputs": [],
   "source": []
  }
 ],
 "metadata": {
  "kernelspec": {
   "display_name": "Python 3 (ipykernel)",
   "language": "python",
   "name": "python3"
  },
  "language_info": {
   "codemirror_mode": {
    "name": "ipython",
    "version": 3
   },
   "file_extension": ".py",
   "mimetype": "text/x-python",
   "name": "python",
   "nbconvert_exporter": "python",
   "pygments_lexer": "ipython3",
   "version": "3.9.12"
  }
 },
 "nbformat": 4,
 "nbformat_minor": 5
}
