{
 "cells": [
  {
   "cell_type": "markdown",
   "id": "c562fbef-a635-40db-91ab-2a6bff99dc3e",
   "metadata": {},
   "source": [
    "# About the Final Project\n",
    "\n",
    "Throughout the Modules, you have found a dataset, characterized the corresponding goals and tasks you want to conduct with that data, designed preliminary approaches, and outlined how you would evaluate those approaches. For your final project, you will put these ideas into practice by executing on the project plan outlined in your prior posts.\n",
    "\n",
    "For this project, you will implement a visualization using your data from Module 1 and preliminary low-fidelity prototypes from Module 2 to address your stated goals. You may implement this visualization using either Altair or another platform of your choice. Once implemented, conduct your evaluation based on the plan outlined in your Module 3 discussion post, making sure to conduct your evaluation with at least three people. You may refine any of your prior plan to reflect your evolving understanding of the challenges you are addressing. Be sure to address how your plan has changed from these earlier posts as part of your discussion. \n",
    "\n",
    "### Your final project post should include: \n",
    "\n",
    "- A brief recap of your data, goals, and tasks, focusing on those that most directly influence your design\n",
    "- Screenshots of and/or a link to your visualization implementation (see below for additional guidance)\n",
    "- A summary of the key elements of your design and accompanying justification\n",
    "- A discussion of your final evaluation approach, including the procedure, people recruited, and results. Note that, due to the difficulty of recruiting experts, you can use colleagues, friends, classmates, or family to evaluate your designs if experts or others from your target population are unavailable.\n",
    "- A synthesis of your findings, including what elements of your approach worked well and what elements you would refine in future iterations.\n",
    "  \n",
    "Guidance and platforms for deploying Altair visualizations online include: \n",
    "- https://matthewkudija.com/blog/2018/06/22/altair-interactive/\n",
    "- https://towardsdatascience.com/add-animated-charts-to-your-dashboards-with-streamlit-python-f41863f1ef7c\n",
    "- https://towardsdatascience.com/creating-interactive-jupyter-notebooks-and-deployment-on-heroku-using-voila-aa1c115981ca"
   ]
  },
  {
   "cell_type": "markdown",
   "id": "56504818",
   "metadata": {},
   "source": [
    "DTSA 5304\tFundamentals of Data Visualization\t\n",
    "- Project\t40%\t\n",
    "- Final visualization with write-up"
   ]
  },
  {
   "cell_type": "markdown",
   "id": "9d3481eb",
   "metadata": {},
   "source": [
    "final will use dataset from week 1 - Visualization Project Part 1: Finding your Data\n",
    "\n",
    "\n",
    "task:\n",
    "- A full report where you cover what you did, the visualizations you created to find insights including why you chose those particular visualizations and what insights you where able to find."
   ]
  },
  {
   "cell_type": "markdown",
   "id": "b9e785fc",
   "metadata": {},
   "source": [
    "I took this class last session. Basically when I finished my mockup, I asked a couple of friends for their inputs on it after I explained what I wanted to show in my final project. You basically have to explain what feedback they offered or what they would want to see in the final visualization. Then you would try to work their inputs/suggestions into your visualization and explain how that affected your approach in making the visualization"
   ]
  },
  {
   "cell_type": "markdown",
   "id": "2adff03e",
   "metadata": {},
   "source": [
    "---"
   ]
  },
  {
   "cell_type": "markdown",
   "id": "e434c20c",
   "metadata": {},
   "source": [
    "## Visualization Project Part 1: Finding your Data\n",
    "\n",
    "Although optional, participation in these weekly discussion activities is strongly recommended. Throughout this course you will learn techniques to comprehend clients’ data needs, craft visualization solutions, and evaluate your solutions. Discussion board activities allow you to practice and reflect on these concepts within the context of a discipline or problem area relevant to you. \n",
    "\n",
    "For those taking this course as part of the Masters in Data Science, the activities are essential building blocks for the final project. By engaging in these activities/discussions on a weekly basis, you will avoid having to prepare everything for the final project all at once. \n",
    "\n",
    "Locate a dataset that you are interested in working with. The data should be sufficiently complex that you can ask lots of questions about it and engage in creative design techniques, but not so complex that you need specialized hardware or algorithmic approaches to analyze. While you are welcome to use any data you’d like, I recommend that your datasets are tabular (e.g., CSV, TSV, SQL, etc.), contain 5,000 or fewer datapoints (on the order of one hundred or so tends to be sufficiently interesting without causing lag in Altair), and is data that you’re comfortable discussing as part of the course (e.g., avoid data that is overly private or classified). \n",
    "\n",
    "Discuss your dataset, including the data’s source, key attributes/dimensions of the data, and your goals for working with that data (i.e., what are the key questions you want to answer). Identify existing relevant visualizations for working with that data (either using the same data, showing the same concepts, or just that might provide some inspiration) and critique those visualizations based on the practices from this module. What works well? What might need improvement or to change to answer your target questions? "
   ]
  },
  {
   "cell_type": "markdown",
   "id": "bf96305c",
   "metadata": {},
   "source": [
    "## Visualization Project Part 2: Sketching your Data\n",
    "\n",
    "Although optional, participation in these weekly discussion activities is strongly recommended. Throughout this course you will learn techniques to comprehend clients’ data needs, craft visualization solutions, and evaluate your solutions. Discussion board activities allow you to practice and reflect on these concepts within the context of a discipline or problem area relevant to you. \n",
    "\n",
    "For those taking this course as part of the Masters in Data Science, the activities are essential building blocks for the final project. By engaging in these activities/discussions on a weekly basis, you will avoid having to prepare everything for the final project all at once. \n",
    "\n",
    "Your Module 1 discussion post identified some high-level goals for working with a dataset of interest to you. In this post, you will expand on those goals to characterize your target problem and develop some low-fidelity prototypes for working with that data. First, identify two to three tasks you would wish to complete with your data, identifying: \n",
    "\n",
    "    Why is a task pursued? (goal)\n",
    "\n",
    "    How is a task conducted? (means)\n",
    "\n",
    "    What does a task seek to learn about the data? (characteristics)\n",
    "\n",
    "    Where does the task operate? (target data)\n",
    "\n",
    "    When is the task performed? (workflow)\n",
    "\n",
    "    Who is executing the task? (roles)\n",
    "\n",
    "Then, sketch a set of preliminary low-fidelity prototypes for addressing these tasks with the given data. You may either sketch freeform or use the Five Design Sheets approach to generate these prototypes (hand-sketched on paper is fine). Upload a copy of your sketches as part of your post. "
   ]
  },
  {
   "cell_type": "markdown",
   "id": "01755a6e",
   "metadata": {},
   "source": [
    "## Visualization Project Part 3: A Plan for Evaluation\n",
    "\n",
    "Although optional, participation in these weekly discussion activities is strongly recommended. Throughout this course you will learn techniques to comprehend clients’ data needs, craft visualization solutions, and evaluate your solutions. Discussion board activities allow you to practice and reflect on these concepts within the context of a discipline or problem area relevant to you. \n",
    "\n",
    "For those taking this course as part of the Masters in Data Science, the activities are essential building blocks for the final project. By engaging in these activities/discussions on a weekly basis, you will avoid having to prepare everything for the final project all at once. \n",
    "\n",
    "In your previous post, you identified a series of tasks and goals for your visualization as well as some preliminary design ideas. We’ll jump ahead a few steps and start to think about how we might evaluate our design approach. Outline a preliminary evaluation that addresses your core goals with the visualization. Make sure your evaluation discusses: \n",
    "\n",
    "    The target question you want to answer\n",
    "\n",
    "    The people you would recruit to answer that question\n",
    "\n",
    "    The kinds of measures you would use to answer your data (e.g., insight depth, use cases, accuracy) and what these measures would tell you about the core question\n",
    "\n",
    "    The approach you will use to answer that question (e.g., a journaling study, a formal experiment, etc.)\n",
    "\n",
    "    How you would instantiate those methods (i.e., what would your participants do?)\n",
    "\n",
    "    What criteria would you use to indicate that your visualization was successful"
   ]
  },
  {
   "cell_type": "markdown",
   "id": "2143567d",
   "metadata": {},
   "source": [
    "# wk 3\n",
    "\n",
    "In your previous post, you identified a series of tasks and goals for your visualization as well as some preliminary design ideas. We’ll jump ahead a few steps and start to think about how we might evaluate our design approach. Outline a preliminary evaluation that addresses your core goals with the visualization. Make sure your evaluation discusses: \n",
    "\n",
    "- The target question you want to answer\n",
    "    - What factors influenced the survival rate of passengers on the Titanic?\n",
    "\n",
    "- The people you would recruit to answer that question\n",
    "    - Individuals with some familiarity with the Titanic disaster or historical events, interested in exploring data visually (e.g., students, history enthusiasts).\n",
    "      \n",
    "- The kinds of measures you would use to answer your data (e.g., insight depth, use cases, accuracy) and what these measures would tell you about the core question\n",
    "    - The kinds of measures you would use to answer your data (e.g., insight depth, use cases, accuracy) and what these measures would tell you about the core question: Insight depth, use cases, accuracy. These measures would indicate the depth of understanding gained about factors affecting survival rates, how participants interact with the visualization to explore different aspects of the data, and the accuracy of interpretations made by participants compared to actual historical data.\n",
    "    \n",
    "- The approach you will use to answer that question (e.g., a journaling study, a formal experiment, etc.)\n",
    "    - A mixed-methods approach combining qualitative (journaling study) and quantitative (formal experiment) techniques.\n",
    "\n",
    "- How you would instantiate those methods (i.e., what would your participants do?)\n",
    "    - Participants would interact with an interactive visualization tool, journaling their thoughts and observations while exploring the data and performing specific tasks designed to assess their understanding and interpretation.\n",
    "\n",
    "- What criteria would you use to indicate that your visualization was successful\n",
    "    -  Informed interpretations, effective use of visualization, accurate insights, and user satisfaction. These criteria would demonstrate the depth of understanding gained, the usability and functionality of the visualization tool, alignment with historical facts, and participant satisfaction with the experience.\n",
    "\n"
   ]
  }
 ],
 "metadata": {
  "kernelspec": {
   "display_name": "Python 3 (ipykernel)",
   "language": "python",
   "name": "python3"
  },
  "language_info": {
   "codemirror_mode": {
    "name": "ipython",
    "version": 3
   },
   "file_extension": ".py",
   "mimetype": "text/x-python",
   "name": "python",
   "nbconvert_exporter": "python",
   "pygments_lexer": "ipython3",
   "version": "3.8.18"
  }
 },
 "nbformat": 4,
 "nbformat_minor": 5
}
