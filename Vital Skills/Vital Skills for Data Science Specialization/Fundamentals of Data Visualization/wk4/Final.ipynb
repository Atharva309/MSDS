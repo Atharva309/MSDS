{
 "cells": [
  {
   "cell_type": "markdown",
   "id": "c562fbef-a635-40db-91ab-2a6bff99dc3e",
   "metadata": {},
   "source": [
    "# About the Final Project\n",
    "\n",
    "For this project, you will implement \n",
    "- a visualization using your data from Module 1 and \n",
    "- preliminary low-fidelity prototypes from Module 2 to address your stated goals. \n",
    "\n",
    "You may implement this visualization using either Altair or another platform of your choice. \n",
    "- Once implemented, conduct your evaluation based on the plan outlined in your Module 3 discussion post, making sure to conduct your evaluation with at least three people. You may refine any of your prior plan to reflect your evolving understanding of the challenges you are addressing. \n",
    "- Be sure to address how your plan has changed from these earlier posts as part of your discussion. \n",
    "\n",
    "### Your final project post should include: \n",
    "\n",
    "- A brief recap of your data, goals, and tasks, focusing on those that most directly influence your design\n",
    "- Screenshots of and/or a link to your visualization implementation (see below for additional guidance)\n",
    "- A summary of the key elements of your design and accompanying justification\n",
    "- A discussion of your final evaluation approach, including the procedure, people recruited, and results. Note that, due to the difficulty of recruiting experts, you can use colleagues, friends, classmates, or family to evaluate your designs if experts or others from your target population are unavailable.\n",
    "- A synthesis of your findings, including what elements of your approach worked well and what elements you would refine in future iterations.\n",
    "  \n",
    "Guidance and platforms for deploying Altair visualizations online include: \n",
    "- https://matthewkudija.com/blog/2018/06/22/altair-interactive/\n",
    "- https://towardsdatascience.com/add-animated-charts-to-your-dashboards-with-streamlit-python-f41863f1ef7c\n",
    "- https://towardsdatascience.com/creating-interactive-jupyter-notebooks-and-deployment-on-heroku-using-voila-aa1c115981ca"
   ]
  },
  {
   "cell_type": "markdown",
   "id": "4ba764b8-605e-435d-a6d4-f7ccf933cb3d",
   "metadata": {},
   "source": [
    "---"
   ]
  },
  {
   "cell_type": "code",
   "execution_count": null,
   "id": "c89265c1-22c8-4026-a21d-d6e16e5821ab",
   "metadata": {},
   "outputs": [],
   "source": []
  },
  {
   "cell_type": "code",
   "execution_count": null,
   "id": "e676c65e-e9e7-452e-96c0-b328a2f672f1",
   "metadata": {},
   "outputs": [],
   "source": []
  },
  {
   "cell_type": "code",
   "execution_count": null,
   "id": "4b3a914f-3884-4e89-8f8d-a046d81d33d2",
   "metadata": {},
   "outputs": [],
   "source": []
  },
  {
   "cell_type": "code",
   "execution_count": null,
   "id": "b36c9e00-d122-482b-afe2-73e1456793b4",
   "metadata": {},
   "outputs": [],
   "source": []
  },
  {
   "cell_type": "code",
   "execution_count": null,
   "id": "fccff71a-0350-4ad7-a263-757775b5b95d",
   "metadata": {},
   "outputs": [],
   "source": []
  },
  {
   "cell_type": "markdown",
   "id": "71a507cd-625b-44bf-8295-d8dbecb5daa8",
   "metadata": {},
   "source": [
    "---"
   ]
  },
  {
   "cell_type": "markdown",
   "id": "56504818",
   "metadata": {},
   "source": [
    "DTSA 5304\tFundamentals of Data Visualization\t\n",
    "- Project\t40%\t\n",
    "- Final visualization with write-up"
   ]
  },
  {
   "cell_type": "markdown",
   "id": "9d3481eb",
   "metadata": {},
   "source": [
    "final will use dataset from week 1 - Visualization Project Part 1: Finding your Data\n",
    "\n",
    "\n",
    "task:\n",
    "- A full report where you cover what you did, the visualizations you created to find insights including why you chose those particular visualizations and what insights you where able to find."
   ]
  },
  {
   "cell_type": "markdown",
   "id": "b9e785fc",
   "metadata": {},
   "source": [
    "I took this class last session. Basically when I finished my mockup, I asked a couple of friends for their inputs on it after I explained what I wanted to show in my final project. You basically have to explain what feedback they offered or what they would want to see in the final visualization. Then you would try to work their inputs/suggestions into your visualization and explain how that affected your approach in making the visualization"
   ]
  },
  {
   "cell_type": "markdown",
   "id": "2adff03e",
   "metadata": {},
   "source": [
    "---"
   ]
  },
  {
   "cell_type": "markdown",
   "id": "e434c20c",
   "metadata": {},
   "source": [
    "## Visualization Project Part 1: Finding your Data\n",
    "\n",
    "Although optional, participation in these weekly discussion activities is strongly recommended. Throughout this course you will learn techniques to comprehend clients’ data needs, craft visualization solutions, and evaluate your solutions. Discussion board activities allow you to practice and reflect on these concepts within the context of a discipline or problem area relevant to you. \n",
    "\n",
    "For those taking this course as part of the Masters in Data Science, the activities are essential building blocks for the final project. By engaging in these activities/discussions on a weekly basis, you will avoid having to prepare everything for the final project all at once. \n",
    "\n",
    "Locate a dataset that you are interested in working with. The data should be sufficiently complex that you can ask lots of questions about it and engage in creative design techniques, but not so complex that you need specialized hardware or algorithmic approaches to analyze. While you are welcome to use any data you’d like, I recommend that your datasets are tabular (e.g., CSV, TSV, SQL, etc.), contain 5,000 or fewer datapoints (on the order of one hundred or so tends to be sufficiently interesting without causing lag in Altair), and is data that you’re comfortable discussing as part of the course (e.g., avoid data that is overly private or classified). \n",
    "\n",
    "Discuss your dataset, including the data’s source, key attributes/dimensions of the data, and your goals for working with that data (i.e., what are the key questions you want to answer). Identify existing relevant visualizations for working with that data (either using the same data, showing the same concepts, or just that might provide some inspiration) and critique those visualizations based on the practices from this module. What works well? What might need improvement or to change to answer your target questions? "
   ]
  },
  {
   "cell_type": "markdown",
   "id": "cb17856f-fede-4f48-af6d-44851bb99411",
   "metadata": {},
   "source": [
    "## Answer:\n",
    "\n",
    "I will be using the Titanic Dataset, this dataset contains information about passengers aboard the Titanic, including whether they survived or not, as well as various attributes such as age, gender, ticket class, etc.\n",
    "\n",
    "Data Source: The Titanic dataset is widely available and can be obtained directly from seaborn library (https://github.com/mwaskom/seaborn-data/blob/master/titanic.csv).\n",
    "\n",
    "---\n",
    "\n",
    "ey Attributes/Dimensions of the Data:\n",
    "\n",
    "    PassengerId: A unique identifier for each passenger.\n",
    "    Survived: Whether the passenger survived or not (0 = No, 1 = Yes).\n",
    "    Pclass: Ticket class (1 = 1st, 2 = 2nd, 3 = 3rd).\n",
    "    Name: Passenger's name.\n",
    "    Sex: Passenger's gender.\n",
    "    Age: Passenger's age.\n",
    "    SibSp: Number of siblings/spouses aboard the Titanic.\n",
    "    Parch: Number of parents/children aboard the Titanic.\n",
    "    Ticket: Ticket number.\n",
    "    Fare: Passenger fare.\n",
    "    Cabin: Cabin number.\n",
    "    Embarked: Port of embarkation (C = Cherbourg, Q = Queenstown, S = Southampton).\n",
    "\n",
    "Goals for working with the data:\n",
    "\n",
    "    Explore the demographics of passengers aboard the Titanic.\n",
    "    Analyze factors affecting survival rates, such as gender, age, ticket class, etc.\n",
    "    Visualize relationships between different attributes to identify patterns and insights.\n",
    "\n",
    "Existing Relevant Visualizations:\n",
    "\n",
    "    Survival Rate by Gender: Bar chart showing the count of survivors by gender.\n",
    "    Survival Rate by Ticket Class: Bar chart showing the count of survivors by ticket class.\n",
    "    Age Distribution: Histogram showing the distribution of passenger ages.\n",
    "    Survival Rate by Age Group: Bar chart or box plot showing survival rates by age group.\n",
    "    Survival Rate by Embarkation Port: Pie chart or bar chart showing survival rates by embarkation port.\n",
    "\n",
    "Critique of Existing Visualizations:\n",
    "\n",
    "    Survival Rate by Gender: This visualization effectively shows the difference in survival rates between genders, but it could be enhanced by adding percentages or relative proportions to better compare survival rates.\n",
    "    Survival Rate by Ticket Class: Similar to the gender visualization, this one could benefit from adding percentages or relative proportions to the bars for better comparison.\n",
    "    Age Distribution: This histogram provides a good overview of the age distribution of passengers, but it could be improved by adding labels and a title to make it more informative.\n",
    "    Survival Rate by Age Group: A bar chart or box plot showing survival rates by age group could provide a clearer understanding of how age correlates with survival. However, it's important to ensure that age groups are properly defined and labeled.\n",
    "    Survival Rate by Embarkation Port: While a pie chart or bar chart can show survival rates by embarkation port, it's essential to consider whether this information is relevant to our goals and whether there are better ways to visualize the data.\n",
    "\n",
    "Overall, while these visualizations provide valuable insights into different aspects of the Titanic dataset, there is room for improvement in terms of clarity, labeling, and contextual relevance to our analysis goals. We'll aim to create visualizations that address these aspects as we explore the dataset further.\n"
   ]
  },
  {
   "cell_type": "markdown",
   "id": "596fb78b-7dd6-462b-813d-b83b95f9413b",
   "metadata": {},
   "source": [
    "---"
   ]
  },
  {
   "cell_type": "markdown",
   "id": "bf96305c",
   "metadata": {
    "jp-MarkdownHeadingCollapsed": true
   },
   "source": [
    "## Visualization Project Part 2: Sketching your Data\n",
    "\n",
    "Although optional, participation in these weekly discussion activities is strongly recommended. Throughout this course you will learn techniques to comprehend clients’ data needs, craft visualization solutions, and evaluate your solutions. Discussion board activities allow you to practice and reflect on these concepts within the context of a discipline or problem area relevant to you. \n",
    "\n",
    "For those taking this course as part of the Masters in Data Science, the activities are essential building blocks for the final project. By engaging in these activities/discussions on a weekly basis, you will avoid having to prepare everything for the final project all at once. \n",
    "\n",
    "Your Module 1 discussion post identified some high-level goals for working with a dataset of interest to you. In this post, you will expand on those goals to characterize your target problem and develop some low-fidelity prototypes for working with that data. First, identify two to three tasks you would wish to complete with your data, identifying: \n",
    "\n",
    "    Why is a task pursued? (goal)\n",
    "\n",
    "    How is a task conducted? (means)\n",
    "\n",
    "    What does a task seek to learn about the data? (characteristics)\n",
    "\n",
    "    Where does the task operate? (target data)\n",
    "\n",
    "    When is the task performed? (workflow)\n",
    "\n",
    "    Who is executing the task? (roles)\n",
    "\n",
    "Then, sketch a set of preliminary low-fidelity prototypes for addressing these tasks with the given data. You may either sketch freeform or use the Five Design Sheets approach to generate these prototypes (hand-sketched on paper is fine). Upload a copy of your sketches as part of your post. "
   ]
  },
  {
   "cell_type": "markdown",
   "id": "01755a6e",
   "metadata": {},
   "source": [
    "## Visualization Project Part 3: A Plan for Evaluation\n",
    "\n",
    "Although optional, participation in these weekly discussion activities is strongly recommended. Throughout this course you will learn techniques to comprehend clients’ data needs, craft visualization solutions, and evaluate your solutions. Discussion board activities allow you to practice and reflect on these concepts within the context of a discipline or problem area relevant to you. \n",
    "\n",
    "For those taking this course as part of the Masters in Data Science, the activities are essential building blocks for the final project. By engaging in these activities/discussions on a weekly basis, you will avoid having to prepare everything for the final project all at once. \n",
    "\n",
    "In your previous post, you identified a series of tasks and goals for your visualization as well as some preliminary design ideas. We’ll jump ahead a few steps and start to think about how we might evaluate our design approach. Outline a preliminary evaluation that addresses your core goals with the visualization. Make sure your evaluation discusses: \n",
    "\n",
    "    The target question you want to answer\n",
    "\n",
    "    The people you would recruit to answer that question\n",
    "\n",
    "    The kinds of measures you would use to answer your data (e.g., insight depth, use cases, accuracy) and what these measures would tell you about the core question\n",
    "\n",
    "    The approach you will use to answer that question (e.g., a journaling study, a formal experiment, etc.)\n",
    "\n",
    "    How you would instantiate those methods (i.e., what would your participants do?)\n",
    "\n",
    "    What criteria would you use to indicate that your visualization was successful"
   ]
  },
  {
   "cell_type": "markdown",
   "id": "2143567d",
   "metadata": {},
   "source": [
    "# wk 3\n",
    "\n",
    "In your previous post, you identified a series of tasks and goals for your visualization as well as some preliminary design ideas. We’ll jump ahead a few steps and start to think about how we might evaluate our design approach. Outline a preliminary evaluation that addresses your core goals with the visualization. Make sure your evaluation discusses: \n",
    "\n",
    "- The target question you want to answer\n",
    "    - What factors influenced the survival rate of passengers on the Titanic?\n",
    "\n",
    "- The people you would recruit to answer that question\n",
    "    - Individuals with some familiarity with the Titanic disaster or historical events, interested in exploring data visually (e.g., students, history enthusiasts).\n",
    "      \n",
    "- The kinds of measures you would use to answer your data (e.g., insight depth, use cases, accuracy) and what these measures would tell you about the core question\n",
    "    - The kinds of measures you would use to answer your data (e.g., insight depth, use cases, accuracy) and what these measures would tell you about the core question: Insight depth, use cases, accuracy. These measures would indicate the depth of understanding gained about factors affecting survival rates, how participants interact with the visualization to explore different aspects of the data, and the accuracy of interpretations made by participants compared to actual historical data.\n",
    "    \n",
    "- The approach you will use to answer that question (e.g., a journaling study, a formal experiment, etc.)\n",
    "    - A mixed-methods approach combining qualitative (journaling study) and quantitative (formal experiment) techniques.\n",
    "\n",
    "- How you would instantiate those methods (i.e., what would your participants do?)\n",
    "    - Participants would interact with an interactive visualization tool, journaling their thoughts and observations while exploring the data and performing specific tasks designed to assess their understanding and interpretation.\n",
    "\n",
    "- What criteria would you use to indicate that your visualization was successful\n",
    "    -  Informed interpretations, effective use of visualization, accurate insights, and user satisfaction. These criteria would demonstrate the depth of understanding gained, the usability and functionality of the visualization tool, alignment with historical facts, and participant satisfaction with the experience.\n",
    "\n"
   ]
  }
 ],
 "metadata": {
  "kernelspec": {
   "display_name": "Python 3 (ipykernel)",
   "language": "python",
   "name": "python3"
  },
  "language_info": {
   "codemirror_mode": {
    "name": "ipython",
    "version": 3
   },
   "file_extension": ".py",
   "mimetype": "text/x-python",
   "name": "python",
   "nbconvert_exporter": "python",
   "pygments_lexer": "ipython3",
   "version": "3.8.18"
  }
 },
 "nbformat": 4,
 "nbformat_minor": 5
}
