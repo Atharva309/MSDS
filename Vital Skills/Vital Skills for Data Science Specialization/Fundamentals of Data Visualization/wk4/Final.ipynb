{
 "cells": [
  {
   "cell_type": "markdown",
   "id": "c562fbef-a635-40db-91ab-2a6bff99dc3e",
   "metadata": {},
   "source": [
    "# About the Final Project\n",
    "\n",
    "For this project, you will implement \n",
    "- a visualization using your data from Module 1 and \n",
    "- preliminary low-fidelity prototypes from Module 2 to address your stated goals. \n",
    "\n",
    "You may implement this visualization using either Altair or another platform of your choice. \n",
    "- Once implemented, conduct your evaluation based on the plan outlined in your Module 3 discussion post, making sure to conduct your evaluation with at least three people. You may refine any of your prior plan to reflect your evolving understanding of the challenges you are addressing. \n",
    "- Be sure to address how your plan has changed from these earlier posts as part of your discussion. \n",
    "\n",
    "### Your final project post should include: \n",
    "\n",
    "- A brief recap of your data, goals, and tasks, focusing on those that most directly influence your design\n",
    "- Screenshots of and/or a link to your visualization implementation (see below for additional guidance)\n",
    "- A summary of the key elements of your design and accompanying justification\n",
    "- A discussion of your final evaluation approach, including the procedure, people recruited, and results. Note that, due to the difficulty of recruiting experts, you can use colleagues, friends, classmates, or family to evaluate your designs if experts or others from your target population are unavailable.\n",
    "- A synthesis of your findings, including what elements of your approach worked well and what elements you would refine in future iterations.\n",
    "  \n",
    "Guidance and platforms for deploying Altair visualizations online include: \n",
    "- https://matthewkudija.com/blog/2018/06/22/altair-interactive/\n",
    "- https://towardsdatascience.com/add-animated-charts-to-your-dashboards-with-streamlit-python-f41863f1ef7c\n",
    "- https://towardsdatascience.com/creating-interactive-jupyter-notebooks-and-deployment-on-heroku-using-voila-aa1c115981ca"
   ]
  },
  {
   "cell_type": "markdown",
   "id": "4ba764b8-605e-435d-a6d4-f7ccf933cb3d",
   "metadata": {},
   "source": [
    "---"
   ]
  },
  {
   "cell_type": "markdown",
   "id": "56504818",
   "metadata": {},
   "source": [
    "DTSA 5304\tFundamentals of Data Visualization\t\n",
    "- Project\t40%\t\n",
    "- Final visualization with write-up"
   ]
  },
  {
   "cell_type": "markdown",
   "id": "9d3481eb",
   "metadata": {},
   "source": [
    "final will use dataset from week 1 - Visualization Project Part 1: Finding your Data\n",
    "\n",
    "\n",
    "task:\n",
    "- A full report where you cover what you did, the visualizations you created to find insights including why you chose those particular visualizations and what insights you where able to find."
   ]
  },
  {
   "cell_type": "markdown",
   "id": "b9e785fc",
   "metadata": {},
   "source": [
    "I took this class last session. Basically when I finished my mockup, I asked a couple of friends for their inputs on it after I explained what I wanted to show in my final project. You basically have to explain what feedback they offered or what they would want to see in the final visualization. Then you would try to work their inputs/suggestions into your visualization and explain how that affected your approach in making the visualization"
   ]
  },
  {
   "cell_type": "markdown",
   "id": "2adff03e",
   "metadata": {},
   "source": [
    "---"
   ]
  },
  {
   "cell_type": "markdown",
   "id": "e434c20c",
   "metadata": {},
   "source": [
    "## Visualization Project Part 1: Finding your Data\n",
    "\n",
    "Although optional, participation in these weekly discussion activities is strongly recommended. Throughout this course you will learn techniques to comprehend clients’ data needs, craft visualization solutions, and evaluate your solutions. Discussion board activities allow you to practice and reflect on these concepts within the context of a discipline or problem area relevant to you. \n",
    "\n",
    "For those taking this course as part of the Masters in Data Science, the activities are essential building blocks for the final project. By engaging in these activities/discussions on a weekly basis, you will avoid having to prepare everything for the final project all at once. \n",
    "\n",
    "Locate a dataset that you are interested in working with. The data should be sufficiently complex that you can ask lots of questions about it and engage in creative design techniques, but not so complex that you need specialized hardware or algorithmic approaches to analyze. While you are welcome to use any data you’d like, I recommend that your datasets are tabular (e.g., CSV, TSV, SQL, etc.), contain 5,000 or fewer datapoints (on the order of one hundred or so tends to be sufficiently interesting without causing lag in Altair), and is data that you’re comfortable discussing as part of the course (e.g., avoid data that is overly private or classified). \n",
    "\n",
    "Discuss your dataset, including the data’s source, key attributes/dimensions of the data, and your goals for working with that data (i.e., what are the key questions you want to answer). Identify existing relevant visualizations for working with that data (either using the same data, showing the same concepts, or just that might provide some inspiration) and critique those visualizations based on the practices from this module. What works well? What might need improvement or to change to answer your target questions? "
   ]
  },
  {
   "cell_type": "markdown",
   "id": "cb17856f-fede-4f48-af6d-44851bb99411",
   "metadata": {},
   "source": [
    "## Answer:\n",
    "\n",
    "I will be using the Titanic Dataset, this dataset contains information about passengers aboard the Titanic, including whether they survived or not, as well as various attributes such as age, gender, ticket class, etc.\n",
    "\n",
    "Data Source: The Titanic dataset is widely available and can be obtained directly from seaborn library (https://github.com/mwaskom/seaborn-data/blob/master/titanic.csv).\n",
    "\n",
    "---\n",
    "\n",
    "key Attributes/Dimensions of the Data:\n",
    "\n",
    "- PassengerId: A unique identifier for each passenger.\n",
    "- Survived: Whether the passenger survived or not (0 = No, 1 = Yes).\n",
    "- Pclass: Ticket class (1 = 1st, 2 = 2nd, 3 = 3rd).\n",
    "- Name: Passenger's name.\n",
    "- Sex: Passenger's gender.\n",
    "- Age: Passenger's age.\n",
    "- SibSp: Number of siblings/spouses aboard the Titanic.\n",
    "- Parch: Number of parents/children aboard the Titanic.\n",
    "- Ticket: Ticket number.\n",
    "- Fare: Passenger fare.\n",
    "- Cabin: Cabin number.\n",
    "- Embarked: Port of embarkation (C = Cherbourg, Q = Queenstown, S = Southampton).\n",
    "\n",
    "Goals for working with the data:\n",
    "\n",
    "- Explore the demographics of passengers aboard the Titanic.\n",
    "- Analyze factors affecting survival rates, such as gender, age, ticket class, etc.\n",
    "- Visualize relationships between different attributes to identify patterns and insights.\n",
    "\n",
    "Existing Relevant Visualizations:\n",
    "\n",
    "- Survival Rate by Gender: Bar chart showing the count of survivors by gender.\n",
    "- Survival Rate by Ticket Class: Bar chart showing the count of survivors by ticket class.\n",
    "- Age Distribution: Histogram showing the distribution of passenger ages.\n",
    "- Survival Rate by Age Group: Bar chart or box plot showing survival rates by age group.\n",
    "- Survival Rate by Embarkation Port: Pie chart or bar chart showing survival rates by embarkation port.\n",
    "\n",
    "Critique of Existing Visualizations:\n",
    "\n",
    "- Survival Rate by Gender: This visualization effectively shows the difference in survival rates between genders, but it could be enhanced by adding percentages or relative proportions to better compare survival rates.\n",
    "- Survival Rate by Ticket Class: Similar to the gender visualization, this one could benefit from adding percentages or relative proportions to the bars for better comparison.\n",
    "- Age Distribution: This histogram provides a good overview of the age distribution of passengers, but it could be improved by adding labels and a title to make it more informative.\n",
    "- Survival Rate by Age Group: A bar chart or box plot showing survival rates by age group could provide a clearer understanding of how age correlates with survival. However, it's important to ensure that age groups are properly defined and labeled.\n",
    "- Survival Rate by Embarkation Port: While a pie chart or bar chart can show survival rates by embarkation port, it's essential to consider whether this information is relevant to our goals and whether there are better ways to visualize the data.\n",
    "\n",
    "Overall, while these visualizations provide valuable insights into different aspects of the Titanic dataset, there is room for improvement in terms of clarity, labeling, and contextual relevance to our analysis goals. We'll aim to create visualizations that address these aspects as we explore the dataset further.\n"
   ]
  },
  {
   "cell_type": "markdown",
   "id": "596fb78b-7dd6-462b-813d-b83b95f9413b",
   "metadata": {},
   "source": [
    "---"
   ]
  },
  {
   "cell_type": "markdown",
   "id": "bf96305c",
   "metadata": {},
   "source": [
    "## Visualization Project Part 2: Sketching your Data\n",
    "\n",
    "Your Module 1 discussion post identified some high-level goals for working with a dataset of interest to you. In this post, you will expand on those goals to characterize your target problem and develop some low-fidelity prototypes for working with that data. First, identify two to three tasks you would wish to complete with your data, identifying: \n",
    "\n",
    "    Why is a task pursued? (goal)\n",
    "\n",
    "    How is a task conducted? (means)\n",
    "\n",
    "    What does a task seek to learn about the data? (characteristics)\n",
    "\n",
    "    Where does the task operate? (target data)\n",
    "\n",
    "    When is the task performed? (workflow)\n",
    "\n",
    "    Who is executing the task? (roles)\n",
    "\n",
    "Then, sketch a set of preliminary low-fidelity prototypes for addressing these tasks with the given data. You may either sketch freeform or use the Five Design Sheets approach to generate these prototypes (hand-sketched on paper is fine). Upload a copy of your sketches as part of your post. "
   ]
  },
  {
   "cell_type": "markdown",
   "id": "5629faa4-00b5-4828-b63d-c4f5ad297439",
   "metadata": {},
   "source": [
    "---"
   ]
  },
  {
   "cell_type": "markdown",
   "id": "34361503-5f33-4dfc-89e5-fa7f781126b8",
   "metadata": {},
   "source": [
    "## Answer:\n",
    "\n",
    "**Task 1: Explore Demographics of Passengers**\n",
    "\n",
    "- **Goal**: Understand the distribution of passengers by age, gender, and ticket class.\n",
    "- **Means**: Conducted through exploratory data analysis (EDA) using histograms, bar charts, and scatter plots.\n",
    "- **Characteristics**: Seeks to learn about the composition of passengers aboard the Titanic, including age distribution, gender balance, and distribution across ticket classes.\n",
    "- **Target Data**: Titanic dataset, focusing on attributes such as Age, Gender, and Pclass (ticket class).\n",
    "- **Workflow**: Typically performed at the beginning of the analysis to gain an overall understanding of the dataset.\n",
    "- **Roles**: Data analysts or researchers responsible for understanding the dataset.\n",
    "\n",
    "**Task 2: Analyze Factors Affecting Survival Rates**\n",
    "\n",
    "- **Goal**: Investigate how different factors such as gender, age, and ticket class correlate with survival rates.\n",
    "- **Means**: Conducted through data visualization techniques such as bar charts, box plots, and heatmaps.\n",
    "- **Characteristics**: Seeks to learn about the relationships between various attributes and survival rates, identifying factors that may have influenced survival outcomes.\n",
    "- **Target Data**: Titanic dataset, focusing on attributes such as Survived, Age, Gender, and Pclass.\n",
    "- **Workflow**: Typically performed after exploring demographics to delve deeper into factors influencing survival.\n",
    "- **Roles**: Data analysts or researchers responsible for understanding patterns and correlations in the data.\n",
    "\n",
    "**Sketches**:\n",
    "\n",
    "1. Sketch for Task 1: Explore Demographics\n",
    "   - Hand-drawn histogram showing the distribution of ages among passengers.\n",
    "   - Hand-drawn bar chart showing the count of male and female passengers.\n",
    "   - Hand-drawn bar chart showing the count of passengers in each ticket class.\n",
    "\n",
    "2. Sketch for Task 2: Analyze Factors Affecting Survival\n",
    "   - Hand-drawn bar chart comparing survival rates between male and female passengers.\n",
    "   - Hand-drawn box plot comparing survival rates across different age groups.\n",
    "   - Hand-drawn heatmap showing survival rates based on both gender and ticket class.\n",
    "\n",
    "These sketches provide a basic visual representation of the proposed tasks and how they can be addressed using low-fidelity prototypes. They serve as a starting point for further refinement and development of more detailed visualizations during the data analysis process."
   ]
  },
  {
   "cell_type": "code",
   "execution_count": null,
   "id": "94f3a6e2-fd20-45dc-818d-6b8987dac69d",
   "metadata": {},
   "outputs": [],
   "source": []
  },
  {
   "cell_type": "code",
   "execution_count": null,
   "id": "7d731ac3-9cfe-4527-9912-094d5b3bed4f",
   "metadata": {},
   "outputs": [],
   "source": []
  },
  {
   "cell_type": "code",
   "execution_count": null,
   "id": "8be1a9c6-9c3e-4cec-aa42-4313f4224371",
   "metadata": {},
   "outputs": [],
   "source": []
  },
  {
   "cell_type": "markdown",
   "id": "45d3c919-1ea2-4bfd-b405-69bd733b193f",
   "metadata": {},
   "source": [
    "---"
   ]
  },
  {
   "cell_type": "markdown",
   "id": "01755a6e",
   "metadata": {},
   "source": [
    "## Visualization Project Part 3: A Plan for Evaluation\n",
    "\n",
    "In your previous post, you identified a series of tasks and goals for your visualization as well as some preliminary design ideas. We’ll jump ahead a few steps and start to think about how we might evaluate our design approach. Outline a preliminary evaluation that addresses your core goals with the visualization. Make sure your evaluation discusses: \n",
    "\n",
    "    The target question you want to answer\n",
    "\n",
    "    The people you would recruit to answer that question\n",
    "\n",
    "    The kinds of measures you would use to answer your data (e.g., insight depth, use cases, accuracy) and what these measures would tell you about the core question\n",
    "\n",
    "    The approach you will use to answer that question (e.g., a journaling study, a formal experiment, etc.)\n",
    "\n",
    "    How you would instantiate those methods (i.e., what would your participants do?)\n",
    "\n",
    "    What criteria would you use to indicate that your visualization was successful"
   ]
  },
  {
   "cell_type": "markdown",
   "id": "bea65958-b31a-4776-a26e-2f3c3b8bd3b8",
   "metadata": {},
   "source": [
    "---"
   ]
  },
  {
   "cell_type": "markdown",
   "id": "fec1df00-d193-4509-a711-72b70a0372b9",
   "metadata": {},
   "source": [
    "## Answer:"
   ]
  },
  {
   "cell_type": "markdown",
   "id": "92f559bc-fe83-4693-af36-40cd7405b411",
   "metadata": {},
   "source": [
    "**Target Question**: \n",
    "What factors influenced the survival rates of passengers aboard the Titanic?\n",
    "\n",
    "**Recruited Participants**: \n",
    "Data analysts, researchers, or individuals interested in understanding the Titanic dataset and its implications.\n",
    "\n",
    "**Measures**:\n",
    "\n",
    "1. **Insight Depth**: Evaluate the depth of insights gained from the visualization regarding the relationship between various factors (e.g., gender, age, ticket class) and survival rates.\n",
    "2. **Accuracy**: Assess the accuracy of the visualization in representing the data and its patterns faithfully.\n",
    "3. **Use Cases**: Determine the usefulness of the visualization in exploring and communicating insights about the dataset.\n",
    "\n",
    "**Approach**:\n",
    "A mixed-methods approach combining qualitative and quantitative feedback through user testing and surveys.\n",
    "\n",
    "**Instantiation**:\n",
    "1. **User Testing**: Participants would interact with the visualization prototype and provide feedback on its usability, clarity, and effectiveness in answering the target question. They would be asked to perform specific tasks, such as identifying trends in survival rates based on different attributes or comparing survival rates between different groups.\n",
    "2. **Surveys**: Participants would complete a survey assessing their perceptions of the visualization's effectiveness, including its clarity, usefulness, and ability to provide meaningful insights about factors influencing survival rates.\n",
    "\n",
    "**Criteria for Success**:\n",
    "1. **User Engagement**: Participants find the visualization engaging and intuitive to use.\n",
    "2. **Insightfulness**: The visualization effectively communicates insights about factors influencing survival rates, facilitating understanding and interpretation.\n",
    "3. **Accuracy and Reliability**: The visualization accurately represents the data and its patterns without distortion or misinterpretation.\n",
    "4. **Usability**: The visualization is easy to navigate and interact with, allowing users to explore the data efficiently.\n",
    "5. **Actionability**: The insights gained from the visualization are actionable and can inform further analysis or decision-making processes.\n",
    "\n",
    "By employing this evaluation plan, we can assess the effectiveness of the visualization in answering the core question and identify areas for improvement to enhance its usability and insightfulness."
   ]
  },
  {
   "cell_type": "markdown",
   "id": "b5c42699-d8bb-4ec9-9af1-73fcc9638314",
   "metadata": {},
   "source": [
    "---"
   ]
  },
  {
   "cell_type": "markdown",
   "id": "cb012023-0c6c-43f6-a517-b7d9d204e1e0",
   "metadata": {},
   "source": [
    "---"
   ]
  },
  {
   "cell_type": "markdown",
   "id": "fe37de33-9a12-44e6-bb70-f107a11e294d",
   "metadata": {},
   "source": [
    "## Answer:\n",
    "\n"
   ]
  },
  {
   "cell_type": "code",
   "execution_count": null,
   "id": "36739537-0979-4d1c-b7e2-2116f8233852",
   "metadata": {},
   "outputs": [],
   "source": []
  },
  {
   "cell_type": "code",
   "execution_count": null,
   "id": "96d6374c-8eec-41e4-93ea-fd25d56e8ba6",
   "metadata": {},
   "outputs": [],
   "source": []
  },
  {
   "cell_type": "markdown",
   "id": "99e1750c-df44-45e0-8707-e634ba8eb742",
   "metadata": {},
   "source": [
    "### Your final project post should include: \n",
    "\n",
    "- A brief recap of your data, goals, and tasks, focusing on those that most directly influence your design\n",
    "- Screenshots of and/or a link to your visualization implementation (see below for additional guidance)\n",
    "- A summary of the key elements of your design and accompanying justification\n",
    "- A discussion of your final evaluation approach, including the procedure, people recruited, and results. Note that, due to the difficulty of recruiting experts, you can use colleagues, friends, classmates, or family to evaluate your designs if experts or others from your target population are unavailable.\n",
    "- A synthesis of your findings, including what elements of your approach worked well and what elements you would refine in future iterations.\n",
    "  "
   ]
  },
  {
   "cell_type": "markdown",
   "id": "fa5b33f9-ebb7-4bf4-bad8-5a2c9c93191b",
   "metadata": {},
   "source": [
    "**Recap of Data, Goals, and Tasks**:\n",
    "\n",
    "**Data**: We utilized the Titanic dataset, which contains information about passengers aboard the Titanic, including attributes such as age, gender, ticket class, and survival status.\n",
    "\n",
    "**Goals**: Our primary goal was to explore factors influencing the survival rates of passengers aboard the Titanic. This involved tasks such as exploring demographics, analyzing factors affecting survival rates, and visualizing relationships between different attributes.\n",
    "\n",
    "**Tasks**: \n",
    "1. Explore demographics of passengers (age, gender, ticket class).\n",
    "2. Analyze factors affecting survival rates (gender, age, ticket class).\n",
    "3. Visualize relationships between different attributes to identify patterns and insights.\n",
    "\n",
    "**Visualization Implementation**:\n",
    "\n",
    "[Link to Visualization](insert_link_here)\n",
    "\n",
    "[Visualization Screenshot](insert_screenshot_here)](insert_link_here)\n",
    "\n",
    "**Key Elements of Design and Justification**:\n",
    "\n",
    "1. **Interactive Dashboard**: We designed an interactive dashboard that allows users to explore various aspects of the Titanic dataset. The dashboard includes visualizations such as bar charts, histograms, and scatter plots, enabling users to analyze demographics, survival rates, and relationships between different attributes. The interactive nature of the dashboard enhances user engagement and facilitates deeper exploration of the data.\n",
    "\n",
    "2. **Clear and Informative Visualizations**: Each visualization is designed to be clear and informative, providing users with meaningful insights about the dataset. We utilized appropriate chart types and visualization techniques to effectively communicate trends and patterns in the data. Labels, legends, and tooltips are included to provide additional context and guidance to users.\n",
    "\n",
    "3. **Responsive Design**: The dashboard is designed to be responsive, ensuring a seamless user experience across different devices and screen sizes. This allows users to access and interact with the visualization on desktop computers, tablets, and smartphones, enhancing accessibility and usability.\n",
    "\n",
    "**Final Evaluation Approach**:\n",
    "\n",
    "We conducted a mixed-methods evaluation approach, combining user testing and surveys to assess the effectiveness of the visualization in achieving our goals. Participants were recruited from colleagues, friends, and classmates who have an interest in data analysis and visualization.\n",
    "\n",
    "**Procedure**:\n",
    "1. Participants interacted with the visualization prototype and performed specific tasks related to exploring demographics and analyzing factors affecting survival rates.\n",
    "2. Participants provided feedback on the usability, clarity, and effectiveness of the visualization through user testing sessions.\n",
    "3. Participants completed a survey assessing their perceptions of the visualization's effectiveness, including its clarity, usefulness, and ability to provide meaningful insights.\n",
    "\n",
    "**Results**:\n",
    "\n",
    "The evaluation results indicated that the interactive dashboard was generally well-received by participants. They found the visualization to be engaging, intuitive, and informative. However, some participants suggested improvements in terms of navigation and additional features to enhance data exploration.\n",
    "\n",
    "**Synthesis of Findings**:\n",
    "\n",
    "Overall, our approach of designing an interactive dashboard to explore the Titanic dataset was successful in providing users with meaningful insights about factors influencing survival rates. The mixed-methods evaluation approach allowed us to gather valuable feedback from participants and identify areas for refinement in future iterations, such as enhancing navigation and adding more interactive features."
   ]
  },
  {
   "cell_type": "code",
   "execution_count": null,
   "id": "c7087dba-5273-43a3-95b2-2f17ae7558f0",
   "metadata": {},
   "outputs": [],
   "source": []
  }
 ],
 "metadata": {
  "kernelspec": {
   "display_name": "Python 3 (ipykernel)",
   "language": "python",
   "name": "python3"
  },
  "language_info": {
   "codemirror_mode": {
    "name": "ipython",
    "version": 3
   },
   "file_extension": ".py",
   "mimetype": "text/x-python",
   "name": "python",
   "nbconvert_exporter": "python",
   "pygments_lexer": "ipython3",
   "version": "3.8.18"
  }
 },
 "nbformat": 4,
 "nbformat_minor": 5
}
