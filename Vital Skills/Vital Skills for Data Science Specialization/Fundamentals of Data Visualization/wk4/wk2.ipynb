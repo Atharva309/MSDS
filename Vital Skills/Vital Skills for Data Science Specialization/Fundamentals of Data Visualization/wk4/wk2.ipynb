{
 "cells": [
  {
   "cell_type": "markdown",
   "id": "cbba8f45-9d68-4f4c-a34a-0c8e4ea8299c",
   "metadata": {},
   "source": [
    "Your Module 1 discussion post identified some high-level goals for working with a dataset of interest to you. In this post, you will expand on those goals to characterize your target problem and develop some low-fidelity prototypes for working with that data. First, identify two to three tasks you would wish to complete with your data, identifying: \n",
    "\n",
    "    Why is a task pursued? (goal)\n",
    "\n",
    "    How is a task conducted? (means)\n",
    "\n",
    "    What does a task seek to learn about the data? (characteristics)\n",
    "\n",
    "    Where does the task operate? (target data)\n",
    "\n",
    "    When is the task performed? (workflow)\n",
    "\n",
    "    Who is executing the task? (roles)\n",
    "\n",
    "Then, sketch a set of preliminary low-fidelity prototypes for addressing these tasks with the given data. You may either sketch freeform or use the Five Design Sheets approach to generate these prototypes (hand-sketched on paper is fine). Upload a copy of your sketches as part of your post. "
   ]
  },
  {
   "cell_type": "markdown",
   "id": "c3541763-f4ba-4f21-8288-7f7bc6d5ccd3",
   "metadata": {},
   "source": [
    "----"
   ]
  },
  {
   "cell_type": "markdown",
   "id": "68e6cc3f-8fb6-463a-891e-7c47902527ea",
   "metadata": {},
   "source": [
    "### Task 1: Explore Survival Rates Across Classes and Genders\n",
    "\n",
    "- **Goal:** Understand how survival rates vary across different passenger classes and genders.\n",
    "  \n",
    "- **Means:** Create a stacked bar chart with separate bars for each class and gender combination, where the height of each bar represents the survival rate.\n",
    "  \n",
    "- **Characteristics:** Identify if there are certain classes or genders that have significantly higher or lower survival rates.\n",
    "\n",
    "- **Target Data:** Utilize the 'Survived,' 'Pclass,' and 'Sex' columns from the Titanic dataset.\n",
    "\n",
    "- **Workflow:** This task is typically performed during the initial exploratory phase of the analysis to gain insights into the factors influencing survival.\n",
    "\n",
    "- **Roles:** Data analysts, researchers, or anyone interested in understanding the distribution of survival rates.\n",
    "\n",
    "### Task 2: Analyze Age Distribution Within Passenger Classes\n",
    "\n",
    "- **Goal:** Investigate how the age distribution varies among different passenger classes.\n",
    "\n",
    "- **Means:** Use kernel density plots or histograms for each passenger class to visualize the age distribution.\n",
    "\n",
    "- **Characteristics:** Determine if there are significant age differences between classes and if certain age groups are more prevalent in specific classes.\n",
    "\n",
    "- **Target Data:** Focus on the 'Age' and 'Pclass' columns.\n",
    "\n",
    "- **Workflow:** This task is often conducted during the exploratory phase to identify patterns or trends related to passenger ages.\n",
    "\n",
    "- **Roles:** Data analysts, researchers, or anyone interested in understanding the age distribution across classes.\n",
    "\n",
    "### Task 3: Explore Fare Distribution and Outliers\n",
    "\n",
    "- **Goal:** Examine the distribution of fares paid by passengers and identify potential outliers.\n",
    "\n",
    "- **Means:** Create a box plot or histogram to visualize the fare distribution. Highlight any points outside the whiskers as potential outliers.\n",
    "\n",
    "- **Characteristics:** Understand the central tendency of fares and identify extreme values.\n",
    "\n",
    "- **Target Data:** Utilize the 'Fare' column.\n",
    "\n",
    "- **Workflow:** This task is often conducted during the exploratory phase to identify outliers or anomalies in the fare distribution.\n",
    "\n",
    "- **Roles:** Data analysts, researchers, or anyone interested in understanding the fare distribution and identifying potential anomalies.\n",
    "\n",
    "### Sketches:\n",
    "\n",
    "1. **Survival Rates Across Classes and Genders:**\n",
    "   - Stacked bar chart with three bars for each class (1st, 2nd, 3rd) and two segments within each bar representing male and female passengers. Heights of segments indicate survival rates.\n",
    "\n",
    "2. **Age Distribution Within Passenger Classes:**\n",
    "   - Three separate kernel density plots (or histograms) for each class, showing the distribution of passenger ages within each class.\n",
    "\n",
    "3. **Fare Distribution and Outliers:**\n",
    "   - Box plot illustrating the distribution of fares, with whiskers indicating the range and dots representing potential outliers beyond the whiskers.\n"
   ]
  },
  {
   "cell_type": "code",
   "execution_count": null,
   "id": "dded6746-434f-495d-8e86-6a6d8a042f80",
   "metadata": {},
   "outputs": [],
   "source": []
  }
 ],
 "metadata": {
  "kernelspec": {
   "display_name": "Python 3 (ipykernel)",
   "language": "python",
   "name": "python3"
  },
  "language_info": {
   "codemirror_mode": {
    "name": "ipython",
    "version": 3
   },
   "file_extension": ".py",
   "mimetype": "text/x-python",
   "name": "python",
   "nbconvert_exporter": "python",
   "pygments_lexer": "ipython3",
   "version": "3.8.18"
  }
 },
 "nbformat": 4,
 "nbformat_minor": 5
}
