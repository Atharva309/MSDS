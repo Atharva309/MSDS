{
 "cells": [
  {
   "cell_type": "markdown",
   "id": "24426521",
   "metadata": {},
   "source": [
    "In your previous post, you identified a series of tasks and goals for your visualization as well as some preliminary design ideas. We’ll jump ahead a few steps and start to think about how we might evaluate our design approach. Outline a preliminary evaluation that addresses your core goals with the visualization. Make sure your evaluation discusses: \n",
    "\n",
    "- The target question you want to answer\n",
    "\n",
    "- The people you would recruit to answer that question\n",
    "\n",
    "- The kinds of measures you would use to answer your data (e.g., insight depth, use cases, accuracy) and what these measures would tell you about the core question\n",
    "\n",
    "- The approach you will use to answer that question (e.g., a journaling study, a formal experiment, etc.)\n",
    "\n",
    "- How you would instantiate those methods (i.e., what would your participants do?)\n",
    "\n",
    "- What criteria would you use to indicate that your visualization was successful"
   ]
  },
  {
   "cell_type": "markdown",
   "id": "851a717e",
   "metadata": {},
   "source": [
    "---"
   ]
  },
  {
   "cell_type": "markdown",
   "id": "d819c25e",
   "metadata": {},
   "source": [
    "### Target Question: The target question to answer using visualization with the Titanic dataset is \"What are the key factors that influenced the survival of passengers on the Titanic?\"\n",
    "\n",
    "### People Involved:\n",
    "- Data Analysts: To perform the initial data exploration and visualization.\n",
    "- Domain Experts: To provide insights into the significance of certain features.\n",
    "- Stakeholders or Decision-Makers: To understand the implications of the findings.\n",
    "\n",
    "### Measures:\n",
    "- Insight Depth: Assess how deeply the visualization helps us understand the relationships between survival and various factors like passenger class, age, gender, etc.\n",
    "- Accuracy: Evaluate the accuracy of the insights derived from the visualization in terms of explaining what factors were most influential in survival.\n",
    "- Use Cases: Identify whether the visualization can be practically used to make informed decisions or create predictive models for survival.\n",
    "\n",
    "### Approach:\n",
    "A mixed-methods approach combining qualitative and quantitative methods can be employed. Here's how you could instantiate this approach:\n",
    "\n",
    "1. Data Exploration and Visualization:\n",
    "   - Data analysts and domain experts perform data exploration and create visualizations to examine the dataset.\n",
    "   - They create various charts, graphs, and visualizations to understand survival patterns.\n",
    "   - Visualizations include histograms, bar charts, scatter plots, and correlation heatmaps.\n",
    "\n",
    "2. Expert Interviews:\n",
    "   - Domain experts provide qualitative insights into the importance of certain features. They discuss their knowledge about the historical context and domain-specific understanding of survival factors.\n",
    "\n",
    "3. Stakeholder Review:\n",
    "   - Stakeholders or decision-makers review the visualizations and provide feedback on their practicality and decision-making potential.\n",
    "\n",
    "### Success Criteria:\n",
    "- The visualization should provide clear and actionable insights into factors that influenced survival on the Titanic.\n",
    "- The insights should be validated or supported by domain expert knowledge.\n",
    "- The visualization should be considered practical and valuable by stakeholders for making decisions, such as identifying passenger profiles with higher chances of survival.\n",
    "\n",
    "Ultimately, the success of the visualization would be indicated by the extent to which it helps answer the core question and whether it leads to a deeper understanding of survival factors on the Titanic, possibly guiding further analysis or decision-making processes."
   ]
  },
  {
   "cell_type": "code",
   "execution_count": null,
   "id": "0410a458",
   "metadata": {},
   "outputs": [],
   "source": []
  }
 ],
 "metadata": {
  "kernelspec": {
   "display_name": "Python 3 (ipykernel)",
   "language": "python",
   "name": "python3"
  },
  "language_info": {
   "codemirror_mode": {
    "name": "ipython",
    "version": 3
   },
   "file_extension": ".py",
   "mimetype": "text/x-python",
   "name": "python",
   "nbconvert_exporter": "python",
   "pygments_lexer": "ipython3",
   "version": "3.9.12"
  }
 },
 "nbformat": 4,
 "nbformat_minor": 5
}
