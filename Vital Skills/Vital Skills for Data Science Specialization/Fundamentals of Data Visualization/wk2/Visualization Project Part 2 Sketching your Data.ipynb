{
 "cells": [
  {
   "cell_type": "markdown",
   "id": "3c3cc912",
   "metadata": {},
   "source": [
    "Although optional, participation in these weekly discussion activities is strongly recommended. Throughout this course you will learn techniques to comprehend clients’ data needs, craft visualization solutions, and evaluate your solutions. Discussion board activities allow you to practice and reflect on these concepts within the context of a discipline or problem area relevant to you. \n",
    "\n",
    "For those taking this course as part of the Masters in Data Science, the activities are essential building blocks for the final project. By engaging in these activities/discussions on a weekly basis, you will avoid having to prepare everything for the final project all at once. \n",
    "\n",
    "Your Module 1 discussion post identified some high-level goals for working with a dataset of interest to you. In this post, you will expand on those goals to characterize your target problem and develop some low-fidelity prototypes for working with that data. First, identify two to three tasks you would wish to complete with your data, identifying: \n",
    "\n",
    "    Why is a task pursued? (goal)\n",
    "\n",
    "    How is a task conducted? (means)\n",
    "\n",
    "    What does a task seek to learn about the data? (characteristics)\n",
    "\n",
    "    Where does the task operate? (target data)\n",
    "\n",
    "    When is the task performed? (workflow)\n",
    "\n",
    "    Who is executing the task? (roles)\n",
    "\n",
    "Then, sketch a set of preliminary low-fidelity prototypes for addressing these tasks with the given data. You may either sketch freeform or use the Five Design Sheets approach to generate these prototypes (hand-sketched on paper is fine). Upload a copy of your sketches as part of your post. "
   ]
  },
  {
   "cell_type": "code",
   "execution_count": null,
   "id": "fe0733c8",
   "metadata": {},
   "outputs": [],
   "source": []
  }
 ],
 "metadata": {
  "kernelspec": {
   "display_name": "Python 3 (ipykernel)",
   "language": "python",
   "name": "python3"
  },
  "language_info": {
   "codemirror_mode": {
    "name": "ipython",
    "version": 3
   },
   "file_extension": ".py",
   "mimetype": "text/x-python",
   "name": "python",
   "nbconvert_exporter": "python",
   "pygments_lexer": "ipython3",
   "version": "3.9.12"
  }
 },
 "nbformat": 4,
 "nbformat_minor": 5
}
