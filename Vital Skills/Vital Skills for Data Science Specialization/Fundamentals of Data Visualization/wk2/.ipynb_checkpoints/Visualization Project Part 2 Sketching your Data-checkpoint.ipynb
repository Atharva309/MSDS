{
 "cells": [
  {
   "cell_type": "markdown",
   "id": "3c3cc912",
   "metadata": {},
   "source": [
    "Your Module 1 discussion post identified some high-level goals for working with a dataset of interest to you. In this post, you will expand on those goals to characterize your target problem and develop some low-fidelity prototypes for working with that data. First, identify two to three tasks you would wish to complete with your data, identifying: \n",
    "\n",
    "    Why is a task pursued? (goal)\n",
    "\n",
    "    How is a task conducted? (means)\n",
    "\n",
    "    What does a task seek to learn about the data? (characteristics)\n",
    "\n",
    "    Where does the task operate? (target data)\n",
    "\n",
    "    When is the task performed? (workflow)\n",
    "\n",
    "    Who is executing the task? (roles)\n",
    "\n",
    "Then, sketch a set of preliminary low-fidelity prototypes for addressing these tasks with the given data. You may either sketch freeform or use the Five Design Sheets approach to generate these prototypes (hand-sketched on paper is fine). Upload a copy of your sketches as part of your post. "
   ]
  },
  {
   "cell_type": "markdown",
   "id": "bfe1b72f",
   "metadata": {},
   "source": [
    "---"
   ]
  },
  {
   "cell_type": "markdown",
   "id": "84ec9f48",
   "metadata": {},
   "source": [
    "### Characterizing the Target Problem:\n",
    "\n",
    "\n",
    "- Task 1: Predicting Survival\n",
    "    - **Goal**: To predict whether a passenger survived or not.\n",
    "    - **Means**: Building a machine learning model, such as logistic regression, decision tree, or random forest, using features like passenger class, age, gender, and more to make predictions.\n",
    "    - **Characteristics**: This task seeks to learn patterns and factors influencing survival.\n",
    "    - **Target Data**: The entire Titanic dataset with attributes like Pclass, Age, Sex, etc.\n",
    "    - **Workflow**: This task is typically performed during the model training phase in a data science project.\n",
    "    - **Roles**: Data scientists, machine learning engineers.\n",
    "\n",
    "- Task 2: Exploratory Data Analysis (EDA)\n",
    "    - **Goal**: To explore and understand the dataset to gain insights into passenger demographics, survival patterns, and correlations between variables.\n",
    "    - **Means**: Using descriptive statistics, visualizations (e.g., histograms, scatter plots), and statistical tests to analyze the data.\n",
    "    - **Characteristics**: This task seeks to learn about the distribution of attributes, correlations, missing data, and any outliers.\n",
    "    - **Target Data**: The Titanic dataset.\n",
    "    - **Workflow**: EDA is typically one of the first steps in a data analysis project, often performed before model building.\n",
    "    - **Roles**: Data analysts, data scientists.\n",
    "\n",
    "## Low-Fidelity Prototypes:\n",
    "Below are low-fidelity prototypes for addressing these two tasks using the Titanic dataset:\n",
    "\n",
    "- Task 1: Predicting Survival\n",
    "\n",
    "    - Prototype 1: Decision Tree Classifier\n",
    "\n",
    "    [Sketch a simple decision tree model showing nodes with features like 'Pclass,' 'Age,' 'Sex,' etc., and labels indicating survival outcome (e.g., 'Survived: Yes' or 'Survived: No').]\n",
    "\n",
    "    - Prototype 2: Confusion Matrix\n",
    "\n",
    "    [Sketch a confusion matrix with True Positives, True Negatives, False Positives, and False Negatives, to evaluate the model's performance.]\n",
    "\n",
    "- Task 2: Exploratory Data Analysis (EDA)\n",
    "\n",
    "    - Prototype 3: Age Distribution\n",
    "\n",
    "    [Sketch a histogram showing the distribution of passenger ages, with labeled axes and a title.]\n",
    "\n",
    "    - Prototype 4: Scatter Plot\n",
    "\n",
    "    [Sketch a scatter plot of 'Age' vs. 'Fare' to explore the relationship between age and ticket fare.]\n",
    "\n",
    "    - Prototype 5: Survival by Class and Gender\n",
    "\n",
    "    [Sketch a bar chart showing survival rates for each passenger class (1st, 2nd, 3rd) and for males and females separately.]\n",
    "\n",
    "    Please note that these prototypes are simplified representations, and in practice, you would use data analysis and visualization tools to conduct these tasks more effectively. These sketches are for conceptual clarity and initial planning."
   ]
  },
  {
   "cell_type": "code",
   "execution_count": null,
   "id": "1c82e76d",
   "metadata": {},
   "outputs": [],
   "source": []
  }
 ],
 "metadata": {
  "kernelspec": {
   "display_name": "Python 3 (ipykernel)",
   "language": "python",
   "name": "python3"
  },
  "language_info": {
   "codemirror_mode": {
    "name": "ipython",
    "version": 3
   },
   "file_extension": ".py",
   "mimetype": "text/x-python",
   "name": "python",
   "nbconvert_exporter": "python",
   "pygments_lexer": "ipython3",
   "version": "3.9.12"
  }
 },
 "nbformat": 4,
 "nbformat_minor": 5
}
