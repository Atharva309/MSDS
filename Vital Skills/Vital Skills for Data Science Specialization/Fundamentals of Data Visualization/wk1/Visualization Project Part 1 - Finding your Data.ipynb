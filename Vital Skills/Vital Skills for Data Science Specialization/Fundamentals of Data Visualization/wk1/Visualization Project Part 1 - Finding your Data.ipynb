{
 "cells": [
  {
   "cell_type": "markdown",
   "id": "affcba27",
   "metadata": {},
   "source": [
    "Locate a dataset that you are interested in working with. The data should be sufficiently complex that you can ask lots of questions about it and engage in creative design techniques, but not so complex that you need specialized hardware or algorithmic approaches to analyze. While you are welcome to use any data you’d like, I recommend that your datasets are tabular (e.g., CSV, TSV, SQL, etc.), contain 5,000 or fewer datapoints (on the order of one hundred or so tends to be sufficiently interesting without causing lag in Altair), and is data that you’re comfortable discussing as part of the course (e.g., avoid data that is overly private or classified). \n",
    "\n",
    "Discuss your dataset, including \n",
    "- the data’s source, \n",
    "- key attributes/dimensions of the data, and \n",
    "- your goals for working with that data (i.e., what are the key questions you want to answer). \n",
    "- Identify existing relevant visualizations for working with that data (either using the same data, showing the same concepts, or just that might provide some inspiration) and \n",
    "    - critique those visualizations based on the practices from this module. \n",
    "    - What works well? \n",
    "    - What might need improvement or to change to answer your target questions? "
   ]
  },
  {
   "cell_type": "markdown",
   "id": "7245c17f",
   "metadata": {},
   "source": [
    "---"
   ]
  },
  {
   "cell_type": "markdown",
   "id": "ec5a2872",
   "metadata": {},
   "source": [
    "### The key attributes/dimensions of the data in this dataset typically include the following:\n",
    "\n",
    "- Passenger Class (Pclass): This is a categorical variable representing the class in which the passenger traveled (1st, 2nd, or 3rd class).\n",
    "\n",
    "- Name: The name of the passenger.\n",
    "\n",
    "- Sex: The gender of the passenger (male or female).\n",
    "\n",
    "- Age: The age of the passenger.\n",
    "\n",
    "- SibSp: The number of siblings or spouses the passenger had aboard the Titanic.\n",
    "\n",
    "- Parch: The number of parents or children the passenger had aboard the Titanic.\n",
    "\n",
    "- Ticket: The ticket number.\n",
    "\n",
    "- Fare: The fare paid by the passenger.\n",
    "\n",
    "- Cabin: The cabin number.\n",
    "\n",
    "- Embarked: The port at which the passenger boarded the ship (C - Cherbourg, Q - Queenstown, S - Southampton).\n",
    "\n",
    "- Survived: This is the target variable, indicating whether the passenger survived (1) or did not survive (0).\n",
    "\n",
    "### Goals for working with the Titanic dataset:\n",
    "\n",
    "- Survival Prediction: the key question  to answer is predicting whether a passenger would survive or not based on other attributes. \n",
    "\n",
    "- Exploratory Data Analysis (EDA)\n",
    "\n",
    "- Data Visualization: Visualize the data to better understand the distribution of passengers, survival rates, and any patterns or correlations in the data.\n",
    "\n",
    "### Existing relevant visualizations and critique:\n",
    "\n",
    "- Survival by Passenger Class: A common visualization is a bar chart showing the survival rate for each passenger class (1st, 2nd, 3rd). This works well to quickly understand the impact of class on survival. However, it could be improved by including absolute counts along with percentages to provide a clearer picture.\n",
    "\n",
    "- Survival by Gender: A pie chart or bar chart showing the distribution of survivors by gender is a simple and effective visualization. It is easy to understand, but it might be more informative when combined with survival rates (e.g., survival rates for males vs. females).\n",
    "\n",
    "- Correlation Heatmap: To understand the relationships between numerical attributes (e.g., age, fare, siblings/spouses, parents/children) and survival, a correlation heatmap can be created. This visualization works well for identifying potential correlations but should be complemented with more in-depth statistical analysis."
   ]
  },
  {
   "cell_type": "markdown",
   "id": "b15f7178",
   "metadata": {},
   "source": [
    "# Titanic Dataset"
   ]
  },
  {
   "cell_type": "code",
   "execution_count": 5,
   "id": "453b073b",
   "metadata": {},
   "outputs": [],
   "source": [
    "import pandas as pd\n",
    "import numpy as np"
   ]
  },
  {
   "cell_type": "code",
   "execution_count": 15,
   "id": "59790062",
   "metadata": {},
   "outputs": [],
   "source": [
    "df = pd.read_csv('titanic/train.csv')\n",
    "test = pd.read_csv('titanic/test.csv')\n",
    "gen = pd.read_csv('titanic/gender_submission.csv')"
   ]
  },
  {
   "cell_type": "code",
   "execution_count": 19,
   "id": "0ee2460b",
   "metadata": {},
   "outputs": [
    {
     "name": "stdout",
     "output_type": "stream",
     "text": [
      "<class 'pandas.core.frame.DataFrame'>\n",
      "RangeIndex: 891 entries, 0 to 890\n",
      "Data columns (total 12 columns):\n",
      " #   Column       Non-Null Count  Dtype  \n",
      "---  ------       --------------  -----  \n",
      " 0   PassengerId  891 non-null    int64  \n",
      " 1   Survived     891 non-null    int64  \n",
      " 2   Pclass       891 non-null    int64  \n",
      " 3   Name         891 non-null    object \n",
      " 4   Sex          891 non-null    object \n",
      " 5   Age          714 non-null    float64\n",
      " 6   SibSp        891 non-null    int64  \n",
      " 7   Parch        891 non-null    int64  \n",
      " 8   Ticket       891 non-null    object \n",
      " 9   Fare         891 non-null    float64\n",
      " 10  Cabin        204 non-null    object \n",
      " 11  Embarked     889 non-null    object \n",
      "dtypes: float64(2), int64(5), object(5)\n",
      "memory usage: 83.7+ KB\n"
     ]
    }
   ],
   "source": [
    "df.info()"
   ]
  },
  {
   "cell_type": "code",
   "execution_count": null,
   "id": "694b5abc",
   "metadata": {},
   "outputs": [],
   "source": []
  }
 ],
 "metadata": {
  "kernelspec": {
   "display_name": "Python 3 (ipykernel)",
   "language": "python",
   "name": "python3"
  },
  "language_info": {
   "codemirror_mode": {
    "name": "ipython",
    "version": 3
   },
   "file_extension": ".py",
   "mimetype": "text/x-python",
   "name": "python",
   "nbconvert_exporter": "python",
   "pygments_lexer": "ipython3",
   "version": "3.9.12"
  }
 },
 "nbformat": 4,
 "nbformat_minor": 5
}
