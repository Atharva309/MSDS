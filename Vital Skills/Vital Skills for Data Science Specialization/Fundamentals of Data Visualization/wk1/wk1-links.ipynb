{
 "cells": [
  {
   "cell_type": "markdown",
   "id": "89495da5",
   "metadata": {},
   "source": [
    "- https://dl.acm.org/doi/10.1145/3290605.3300418\n",
    "- https://viz.wtf/\n",
    "- https://observablehq.com/@uwdata/data-types-graphical-marks-and-visual-encoding-channels\n",
    "- https://github.com/altair-viz/altair-tutorial"
   ]
  },
  {
   "cell_type": "code",
   "execution_count": null,
   "id": "8984dbc7",
   "metadata": {},
   "outputs": [],
   "source": []
  }
 ],
 "metadata": {
  "kernelspec": {
   "display_name": "Python 3 (ipykernel)",
   "language": "python",
   "name": "python3"
  },
  "language_info": {
   "codemirror_mode": {
    "name": "ipython",
    "version": 3
   },
   "file_extension": ".py",
   "mimetype": "text/x-python",
   "name": "python",
   "nbconvert_exporter": "python",
   "pygments_lexer": "ipython3",
   "version": "3.9.12"
  }
 },
 "nbformat": 4,
 "nbformat_minor": 5
}
