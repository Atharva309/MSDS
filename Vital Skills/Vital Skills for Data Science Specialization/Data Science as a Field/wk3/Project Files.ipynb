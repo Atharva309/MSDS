{
 "cells": [
  {
   "cell_type": "markdown",
   "id": "b0ca9038",
   "metadata": {},
   "source": [
    "NYDP Shooting Incident Data (Historic):\n",
    "\n",
    "To access the files for the project in this module, go to https://catalog.data.gov/dataset  and find the dataset titled NYPD Shooting Incident Data (Historic).  Right click on the CSV button and copy the link address.  You will then put this link address into your Rmd when you are reading in the dataset.  This project will be built up over the week and will be peer-reviewed as part of your grade at the end of the week.\n",
    "\n",
    "COVID Data: \n",
    "\n",
    "Since much time has passed since the original COVID dataset was uploaded, we want to ensure that all students are able to access the data. If you have any issues getting the https link to work for the COVID dataset  refer back to the step-by-step instructions in the video. Make sure to check your quotations, backslashes, dashes, etc., so that it is exactly the same as in class. In case you still have any issues, the full links are here, but it is strongly encouraged that you go through the process of getting the https address yourself off the website. \n",
    "\n",
    "\"https://raw.githubusercontent.com/CSSEGISandData/COVID-19/master/csse_covid_19_data/csse_covid_19_time_series/\"\n",
    "\n",
    "\"time_series_covid19_confirmed_US.csv\",  \"time_series_covid19_confirmed_global.csv\", \"time_series_covid19_deaths_US.csv\",  \"time_series_covid19_deaths_global.csv\""
   ]
  },
  {
   "cell_type": "markdown",
   "id": "3799e5d8",
   "metadata": {},
   "source": [
    "---"
   ]
  },
  {
   "cell_type": "markdown",
   "id": "9e621719",
   "metadata": {},
   "source": [
    "Project Step 1: Start an Rmd Document\n",
    "\n",
    "Start an Rmd document that describes and imports the shooting project dataset in a reproducible manner."
   ]
  },
  {
   "cell_type": "markdown",
   "id": "dc728d26",
   "metadata": {},
   "source": [
    "---"
   ]
  },
  {
   "cell_type": "markdown",
   "id": "82563e11",
   "metadata": {},
   "source": [
    "Project Step 2: Tidy and Transform Your Data\n",
    "\n",
    "Add to your Rmd document a summary of the data and clean up your dataset by changing appropriate variables to factor and date types and getting rid of any columns not needed.  Show the summary of your data to be sure there is no missing data. If there is missing data, describe how you plan to handle it."
   ]
  },
  {
   "cell_type": "markdown",
   "id": "a5671540",
   "metadata": {},
   "source": [
    "---"
   ]
  },
  {
   "cell_type": "markdown",
   "id": "591d6e90",
   "metadata": {},
   "source": [
    "Project Step 3: Add Visualizations and Analysis\n",
    "\n",
    "Add at least two different visualizations & some analysis to your Rmd.  Does this raise additional questions that you should investigate?  "
   ]
  },
  {
   "cell_type": "markdown",
   "id": "95f98c0e",
   "metadata": {},
   "source": [
    "---"
   ]
  },
  {
   "cell_type": "markdown",
   "id": "0c6b1339",
   "metadata": {},
   "source": [
    "Project Step 4: Add Bias Identification\n",
    "\n",
    "Write the conclusion to your project report and include any possible sources of bias.  Be sure to identify what your personal bias might be and how you have mitigated that."
   ]
  },
  {
   "cell_type": "markdown",
   "id": "108e10a3",
   "metadata": {},
   "source": [
    "---"
   ]
  },
  {
   "cell_type": "markdown",
   "id": "31f22bf5",
   "metadata": {},
   "source": []
  }
 ],
 "metadata": {
  "kernelspec": {
   "display_name": "Python 3 (ipykernel)",
   "language": "python",
   "name": "python3"
  },
  "language_info": {
   "codemirror_mode": {
    "name": "ipython",
    "version": 3
   },
   "file_extension": ".py",
   "mimetype": "text/x-python",
   "name": "python",
   "nbconvert_exporter": "python",
   "pygments_lexer": "ipython3",
   "version": "3.9.12"
  }
 },
 "nbformat": 4,
 "nbformat_minor": 5
}
