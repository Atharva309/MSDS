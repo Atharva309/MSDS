{
 "cells": [
  {
   "cell_type": "markdown",
   "id": "4936113d",
   "metadata": {},
   "source": [
    "## Project Step 1: Start an Rmd Document\n",
    "- Start an Rmd document that describes and imports the shooting project dataset in a reproducible manner.\n",
    "\n",
    "#### NYDP Shooting Incident Data (Historic):\n",
    "\n",
    "- To access the files for the project in this module, go to https://catalog.data.gov/dataset and find the dataset titled NYPD Shooting Incident Data (Historic).  Right click on the CSV button and copy the link address.  You will then put this link address into your Rmd when you are reading in the dataset.  This project will be built up over the week and will be peer-reviewed as part of your grade at the end of the week.\n",
    "\n",
    "## Project Step 2: Tidy and Transform Your Data\n",
    "\n",
    "- Add to your Rmd document a summary of the data and clean up your dataset by changing appropriate variables to factor and date types and getting rid of any columns not needed.  Show the summary of your data to be sure there is no missing data. If there is missing data, describe how you plan to handle it.\n",
    "\n",
    "## Project Step 3: Add Visualizations and Analysis\n",
    "\n",
    "- Add at least two different visualizations & some analysis to your Rmd.  Does this raise additional questions that you should investigate?  \n",
    "\n",
    "## Project Step 4: Add Bias Identification\n",
    "\n",
    "- Write the conclusion to your project report and include any possible sources of bias.  Be sure to identify what your personal bias might be and how you have mitigated that."
   ]
  },
  {
   "cell_type": "code",
   "execution_count": null,
   "id": "18cf233e",
   "metadata": {},
   "outputs": [],
   "source": []
  }
 ],
 "metadata": {
  "kernelspec": {
   "display_name": "Python 3 (ipykernel)",
   "language": "python",
   "name": "python3"
  },
  "language_info": {
   "codemirror_mode": {
    "name": "ipython",
    "version": 3
   },
   "file_extension": ".py",
   "mimetype": "text/x-python",
   "name": "python",
   "nbconvert_exporter": "python",
   "pygments_lexer": "ipython3",
   "version": "3.9.12"
  }
 },
 "nbformat": 4,
 "nbformat_minor": 5
}
