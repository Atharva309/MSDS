{
 "cells": [
  {
   "cell_type": "markdown",
   "id": "bcdf36e3",
   "metadata": {},
   "source": [
    "Project Title"
   ]
  },
  {
   "cell_type": "markdown",
   "id": "baff239e",
   "metadata": {},
   "source": [
    "Copy and paste your response to the discussion prompt, \"Applications of Data Science\":\n",
    "\n",
    "Post 2 different applications of data science and what skills you would need to obtain work in those areas."
   ]
  },
  {
   "cell_type": "markdown",
   "id": "167ffb43",
   "metadata": {},
   "source": [
    "Copy and paste your response to the discussion prompt, \"Data Science at AirBnB\":\n",
    "\n",
    "Based on the AirBnB article, discuss how AirBnB trains its data scientists. Do you think that their approach is effective? Why or why not?"
   ]
  },
  {
   "cell_type": "markdown",
   "id": "7f1a52fe",
   "metadata": {},
   "source": [
    "Copy and paste your response to the discussion prompt, \"Application Areas and Skills\":\n",
    "\n",
    "Based on the videos from industry and academia: Which of the application areas you viewed was most interesting and why?  What skills will you need to get if you want to do this type of work?"
   ]
  },
  {
   "cell_type": "markdown",
   "id": "a0dfa641",
   "metadata": {},
   "source": []
  }
 ],
 "metadata": {
  "kernelspec": {
   "display_name": "Python 3 (ipykernel)",
   "language": "python",
   "name": "python3"
  },
  "language_info": {
   "codemirror_mode": {
    "name": "ipython",
    "version": 3
   },
   "file_extension": ".py",
   "mimetype": "text/x-python",
   "name": "python",
   "nbconvert_exporter": "python",
   "pygments_lexer": "ipython3",
   "version": "3.9.12"
  }
 },
 "nbformat": 4,
 "nbformat_minor": 5
}
