{
 "cells": [
  {
   "cell_type": "markdown",
   "id": "e0ba9322",
   "metadata": {},
   "source": [
    "Read the article posted at  Data science at airBnB \n",
    "\n",
    "https://medium.com/airbnb-engineering/using-r-packages-and-education-to-scale-data-science-at-airbnb-906faa58e12d\n",
    "\n",
    "Then, post on the discussion board answers to: \n",
    "\n",
    "- How does airBnB train its data scientists? \n",
    "\n",
    "- Is their approach effective?  \n",
    "\n",
    "- Why or why not? "
   ]
  }
 ],
 "metadata": {
  "kernelspec": {
   "display_name": "Python 3 (ipykernel)",
   "language": "python",
   "name": "python3"
  },
  "language_info": {
   "codemirror_mode": {
    "name": "ipython",
    "version": 3
   },
   "file_extension": ".py",
   "mimetype": "text/x-python",
   "name": "python",
   "nbconvert_exporter": "python",
   "pygments_lexer": "ipython3",
   "version": "3.9.12"
  }
 },
 "nbformat": 4,
 "nbformat_minor": 5
}
