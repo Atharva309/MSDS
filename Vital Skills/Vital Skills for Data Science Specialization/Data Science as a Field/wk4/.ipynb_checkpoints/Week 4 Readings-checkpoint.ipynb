{
 "cells": [
  {
   "cell_type": "markdown",
   "id": "5d67fa59",
   "metadata": {},
   "source": [
    "### Imposter Syndrome\n",
    "\n",
    "Read the blog post at https://caitlinhudon.com/2018/01/19/imposter-syndrome-in-data-science/ on Imposter Syndrome."
   ]
  }
 ],
 "metadata": {
  "kernelspec": {
   "display_name": "Python 3 (ipykernel)",
   "language": "python",
   "name": "python3"
  },
  "language_info": {
   "codemirror_mode": {
    "name": "ipython",
    "version": 3
   },
   "file_extension": ".py",
   "mimetype": "text/x-python",
   "name": "python",
   "nbconvert_exporter": "python",
   "pygments_lexer": "ipython3",
   "version": "3.9.12"
  }
 },
 "nbformat": 4,
 "nbformat_minor": 5
}
