{
 "cells": [
  {
   "cell_type": "markdown",
   "id": "a462ccc8",
   "metadata": {},
   "source": [
    "Share with your fellow students an elevator pitch for the report you put together last week on the NYPD shooting incident data. Remember that an elevator pitch should be short (around one minute) and your target audience is a thirteen-year old. So keep it short and simple!\n",
    "\n",
    "Use this as a space to work out your elevator pitch. At the end of the week, you'll record your pitch and submit it as part of the peer-review assignment."
   ]
  },
  {
   "cell_type": "code",
   "execution_count": null,
   "id": "0846631b",
   "metadata": {},
   "outputs": [],
   "source": []
  }
 ],
 "metadata": {
  "kernelspec": {
   "display_name": "Python 3 (ipykernel)",
   "language": "python",
   "name": "python3"
  },
  "language_info": {
   "codemirror_mode": {
    "name": "ipython",
    "version": 3
   },
   "file_extension": ".py",
   "mimetype": "text/x-python",
   "name": "python",
   "nbconvert_exporter": "python",
   "pygments_lexer": "ipython3",
   "version": "3.9.12"
  }
 },
 "nbformat": 4,
 "nbformat_minor": 5
}
