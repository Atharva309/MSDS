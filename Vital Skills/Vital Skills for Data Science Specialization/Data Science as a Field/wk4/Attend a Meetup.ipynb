{
 "cells": [
  {
   "cell_type": "markdown",
   "id": "7cf6bf20",
   "metadata": {},
   "source": [
    "Find and attend a data science meetup near you using meetup.com. After you attend the meetup, write about your experience here. What was it like? Did you find it useful? Will you attend the same meetup group in the future?"
   ]
  },
  {
   "cell_type": "code",
   "execution_count": null,
   "id": "d8a467a3",
   "metadata": {},
   "outputs": [],
   "source": []
  }
 ],
 "metadata": {
  "kernelspec": {
   "display_name": "Python 3 (ipykernel)",
   "language": "python",
   "name": "python3"
  },
  "language_info": {
   "codemirror_mode": {
    "name": "ipython",
    "version": 3
   },
   "file_extension": ".py",
   "mimetype": "text/x-python",
   "name": "python",
   "nbconvert_exporter": "python",
   "pygments_lexer": "ipython3",
   "version": "3.9.12"
  }
 },
 "nbformat": 4,
 "nbformat_minor": 5
}
