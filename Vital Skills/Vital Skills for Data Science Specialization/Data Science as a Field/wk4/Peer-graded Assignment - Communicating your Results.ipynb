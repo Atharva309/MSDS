{
 "cells": [
  {
   "cell_type": "markdown",
   "id": "b8aa5b20",
   "metadata": {},
   "source": [
    "Project Title"
   ]
  },
  {
   "cell_type": "markdown",
   "id": "193b9e3a",
   "metadata": {},
   "source": [
    "Post a video of your elevator pitch summarizing your project from Week 3."
   ]
  },
  {
   "cell_type": "markdown",
   "id": "ed877322",
   "metadata": {},
   "source": [
    "Copy and paste the one paragraph summary from the meetup you attended."
   ]
  },
  {
   "cell_type": "markdown",
   "id": "2b7a9fa3",
   "metadata": {},
   "source": [
    "Copy and paste your discussion answers to the imposter syndrome article. How will you be aware of Imposter Syndrome in yourself and others? What difference will this awareness make in your interactions with others?"
   ]
  },
  {
   "cell_type": "code",
   "execution_count": null,
   "id": "a5d10ded",
   "metadata": {},
   "outputs": [],
   "source": []
  }
 ],
 "metadata": {
  "kernelspec": {
   "display_name": "Python 3 (ipykernel)",
   "language": "python",
   "name": "python3"
  },
  "language_info": {
   "codemirror_mode": {
    "name": "ipython",
    "version": 3
   },
   "file_extension": ".py",
   "mimetype": "text/x-python",
   "name": "python",
   "nbconvert_exporter": "python",
   "pygments_lexer": "ipython3",
   "version": "3.9.12"
  }
 },
 "nbformat": 4,
 "nbformat_minor": 5
}
