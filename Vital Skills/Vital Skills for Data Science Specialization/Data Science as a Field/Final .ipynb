{
 "cells": [
  {
   "cell_type": "markdown",
   "id": "df3b1b00",
   "metadata": {},
   "source": [
    "DTSA 5301\tData Science as a Field\tCore \n",
    "- Project\t50%\t\n",
    "- Two projects, worth 20% and 30%"
   ]
  },
  {
   "cell_type": "markdown",
   "id": "70c9e4d6",
   "metadata": {},
   "source": [
    "Final:\n",
    "- Video: \n",
    "- Covid: "
   ]
  },
  {
   "cell_type": "markdown",
   "id": "a10d7560",
   "metadata": {},
   "source": [
    "There is no time limit!\n",
    "The final project consists of three parts:\n",
    "\n",
    "1- NYPD Project presentation\n",
    "\n",
    "2- Upload the .rmd file on the github\n",
    "\n",
    "3- Upload the knitted data analysis of Covid 19"
   ]
  },
  {
   "cell_type": "code",
   "execution_count": null,
   "id": "9a74cdbe",
   "metadata": {},
   "outputs": [],
   "source": []
  }
 ],
 "metadata": {
  "kernelspec": {
   "display_name": "Python 3 (ipykernel)",
   "language": "python",
   "name": "python3"
  },
  "language_info": {
   "codemirror_mode": {
    "name": "ipython",
    "version": 3
   },
   "file_extension": ".py",
   "mimetype": "text/x-python",
   "name": "python",
   "nbconvert_exporter": "python",
   "pygments_lexer": "ipython3",
   "version": "3.9.12"
  }
 },
 "nbformat": 4,
 "nbformat_minor": 5
}
