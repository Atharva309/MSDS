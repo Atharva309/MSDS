{
 "cells": [
  {
   "cell_type": "markdown",
   "id": "0d53b7fd",
   "metadata": {},
   "source": [
    "There is no time limit!\n",
    "\n",
    "- The final project consists of three parts:\n",
    "    - 1- NYPD Project presentation\n",
    "    - 2- Upload the .rmd file on the github\n",
    "    - 3- Upload the knitted data analysis of Covid 19"
   ]
  },
  {
   "cell_type": "code",
   "execution_count": null,
   "id": "021a57e1",
   "metadata": {},
   "outputs": [],
   "source": []
  }
 ],
 "metadata": {
  "kernelspec": {
   "display_name": "Python 3 (ipykernel)",
   "language": "python",
   "name": "python3"
  },
  "language_info": {
   "codemirror_mode": {
    "name": "ipython",
    "version": 3
   },
   "file_extension": ".py",
   "mimetype": "text/x-python",
   "name": "python",
   "nbconvert_exporter": "python",
   "pygments_lexer": "ipython3",
   "version": "3.9.12"
  }
 },
 "nbformat": 4,
 "nbformat_minor": 5
}
