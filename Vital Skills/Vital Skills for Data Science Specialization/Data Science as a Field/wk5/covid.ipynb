{
 "cells": [
  {
   "cell_type": "markdown",
   "id": "1166067f",
   "metadata": {},
   "source": [
    "I'm able to download & view the CSV files from the URL above when navigating on github.com itself, but the same files don't seem to import properly via R::read_csv(). At the same time, trying to access the repo posted in \"Week 3\" via my web browser results in a \"404 Invalid Request\" landing page.So it appears to be:\n",
    "\n",
    "    Access files via web browser: https://github.com/CSSEGISandData/COVID-19/tree/master/csse_covid_19_data/csse_covid_19_time_series/\n",
    "    Import files via R: https://raw.githubusercontent.com/CSSEGISandData/COVID-19/master/csse_covid_19_data/csse_covid_19_time_series/\n",
    "    \n",
    "    \n",
    "    \n",
    "You should be able to read_csv() via R by using the “Import files via R” URL I mentioned above, which is what is posted in the course on a Coursera. If you do want to first download the files locally through your web browser & then access them, that’d be the first bullet point’s URL"
   ]
  },
  {
   "cell_type": "code",
   "execution_count": null,
   "id": "0d6b29ec",
   "metadata": {},
   "outputs": [],
   "source": []
  }
 ],
 "metadata": {
  "kernelspec": {
   "display_name": "Python 3 (ipykernel)",
   "language": "python",
   "name": "python3"
  },
  "language_info": {
   "codemirror_mode": {
    "name": "ipython",
    "version": 3
   },
   "file_extension": ".py",
   "mimetype": "text/x-python",
   "name": "python",
   "nbconvert_exporter": "python",
   "pygments_lexer": "ipython3",
   "version": "3.9.12"
  }
 },
 "nbformat": 4,
 "nbformat_minor": 5
}
