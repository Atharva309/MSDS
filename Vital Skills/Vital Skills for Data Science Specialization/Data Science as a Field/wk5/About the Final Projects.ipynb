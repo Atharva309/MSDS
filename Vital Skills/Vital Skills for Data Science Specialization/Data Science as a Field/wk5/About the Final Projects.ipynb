{
 "cells": [
  {
   "cell_type": "markdown",
   "id": "40fc6db4",
   "metadata": {},
   "source": [
    "# About the Final Projects\n",
    "\n",
    "You will complete two final projects, which you will submit as one peer-review assignment. First, you will produce and upload a video presentation of your \"NYPD Shooting Incident Data Report\" from Week 3 and provide a link to the document on github. Next, you will create a reproducible report on COVID-19 data using the Johns Hopkins University website as your primary source. This should be a knitted Rmd document that shows all your code.\n",
    "\n",
    "DO NOT open the quiz item, \"Honor Code Verification\", until you're ready to submit your final projects. Responding to and submitting the verification will unlock the final peer-review assignment. Once you do this, you will no longer be eligible for a tuition refund.\n",
    "\n",
    "# Instructions for \"Final Project 1: Video Presentation and Document on Github\"\n",
    "\n",
    "- Create a video in .mp4 format in which you present your \"NYPD Shooting Incident Data Report\" from Week 3 in ten minutes or less. The project should be NYPD Shooting Incident Data (Historic) from the website:https://catalog.data.gov/datase\n",
    "\n",
    "- You may re-use what you did for the assignments in Week 3 if you want to. Be sure to use the presentation skills we discussed in the lectures such as organization, key visualizations, eye contact, and tell a story. Make it interesting to listen and watch.\n",
    "\n",
    "- Put your reproducible .rmd document in your Github account and provide a link to that document. Your peers should be able to download and knit your document without errors. If you use any libraries not used in class, please make sure that is known at the top of your document. \n",
    "\n",
    "# Instructions for \"Final Project 2: Reproducible Report on COVID19 Data\"\n",
    "\n",
    "Import, tidy and analyze the COVID19 dataset from the Johns Hopkins Github site. This is the same dataset I used in class. Feel free to repeat and reuse what I did if you want to. Be sure your project is a reproducible .rmd document which your peers can download and knit. It should contain some visualization and  analysis that is unique to your project. You may use the data to do any analysis that is of interest to you. You should include at least two visualizations and one model.  Be sure to identify any bias possible in the data and in your analysis.\n",
    "Other notes: \n",
    "\n",
    "Reminder: To download and knit a reproducible R document means to download an R Markdown file and then process it using the knitr package in R. An R Markdown file is a plain text file that contains both text and code. It is used to create reproducible documents that can be rendered in a variety of formats, including HTML, PDF, and Word. The knitr package is used to process the R Markdown file and execute the code chunks, which are then incorporated into the final document.\n",
    "\n",
    "To download and knit an R document, you would typically follow these steps:\n",
    "\n",
    "- Download the R Markdown file from its source (e.g., a website or a repository on GitHub).\n",
    "\n",
    "- Open the R Markdown file in an R script editor (such as RStudio).\n",
    "\n",
    "- Install and load the knitr package.\n",
    "\n",
    "- Use the knit function to process the R Markdown file. This will execute the code chunks and create the final document in the specified format (e.g., HTML, PDF).\n",
    "\n",
    "By knitting the R Markdown file, you can create a reproducible document that includes the results of the code, as well as the text and formatting. This allows others to easily understand and replicate your work.\n",
    "\n"
   ]
  },
  {
   "cell_type": "code",
   "execution_count": null,
   "id": "c3248ea5",
   "metadata": {},
   "outputs": [],
   "source": []
  }
 ],
 "metadata": {
  "kernelspec": {
   "display_name": "Python 3 (ipykernel)",
   "language": "python",
   "name": "python3"
  },
  "language_info": {
   "codemirror_mode": {
    "name": "ipython",
    "version": 3
   },
   "file_extension": ".py",
   "mimetype": "text/x-python",
   "name": "python",
   "nbconvert_exporter": "python",
   "pygments_lexer": "ipython3",
   "version": "3.9.12"
  }
 },
 "nbformat": 4,
 "nbformat_minor": 5
}
