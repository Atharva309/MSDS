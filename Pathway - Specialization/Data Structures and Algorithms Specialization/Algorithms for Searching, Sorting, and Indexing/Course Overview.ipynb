{
 "cells": [
  {
   "cell_type": "markdown",
   "id": "ab795af0",
   "metadata": {},
   "source": [
    "## Wk1\n",
    "- asymptotic notation: \n",
    "     - Big O \n",
    "     - Omega \n",
    "     - Theta\n",
    "- binary search and runtime analysis\n",
    "- Merge sort and runtime\n",
    "- insertion sort\n",
    "\n",
    "## Wk2\n",
    "- Data structures / Arrays\n",
    "- Heap, \n",
    "    - min/max heaps\n",
    "    - heap properties\n",
    "- Heap primitives\n",
    "    - bubble up/down\n",
    "- Priority Queues\n",
    "    - Heapify \n",
    "    - heapsort\n",
    "- Heap Operations: \n",
    "    - Insert \n",
    "    - delete\n",
    "    - delete-min\n",
    "- Hashtables\n",
    "\n",
    "## Wk3\n",
    "- Randomization\n",
    "- Average case analysis\n",
    "- Recurrences\n",
    "- Partitioning\n",
    "    - Quicksort\n",
    "- Partioning Schemes\n",
    "- Quick select\n",
    "- Selecting hash functions\n",
    "    - universal hash functions and analysis\n",
    "\n",
    "## Wk 4\n",
    "- Open Address Hashing\n",
    "- Perfect hashing and Cuckoo hashing\n",
    "- bloom filters\n",
    "- count-min sketching using hashing\n",
    "- string matching using hashing\n"
   ]
  },
  {
   "cell_type": "code",
   "execution_count": null,
   "id": "550e1e3e",
   "metadata": {},
   "outputs": [],
   "source": []
  }
 ],
 "metadata": {
  "kernelspec": {
   "display_name": "Python 3 (ipykernel)",
   "language": "python",
   "name": "python3"
  },
  "language_info": {
   "codemirror_mode": {
    "name": "ipython",
    "version": 3
   },
   "file_extension": ".py",
   "mimetype": "text/x-python",
   "name": "python",
   "nbconvert_exporter": "python",
   "pygments_lexer": "ipython3",
   "version": "3.9.12"
  }
 },
 "nbformat": 4,
 "nbformat_minor": 5
}
