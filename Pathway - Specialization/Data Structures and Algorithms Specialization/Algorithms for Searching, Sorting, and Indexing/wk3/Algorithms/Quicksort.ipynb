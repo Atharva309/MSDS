{
 "cells": [
  {
   "cell_type": "code",
   "execution_count": 5,
   "id": "a687cacb",
   "metadata": {},
   "outputs": [
    {
     "data": {
      "text/plain": [
       "[17, 20, 26, 31, 44, 54, 55, 77, 93]"
      ]
     },
     "execution_count": 5,
     "metadata": {},
     "output_type": "execute_result"
    }
   ],
   "source": [
    "from random import randint\n",
    "\n",
    "def quicksort(array):\n",
    "\n",
    "    # If the input array contains fewer than two elements,\n",
    "    # then return it as the result of the function\n",
    "\n",
    "    if len(array) < 2:\n",
    "\n",
    "        return array\n",
    "\n",
    "    low, same, high = [], [], []\n",
    "\n",
    "    # Select your `pivot` element randomly\n",
    "\n",
    "    pivot = array[randint(0, len(array) - 1)]\n",
    "\n",
    "    for item in array:\n",
    "\n",
    "        # Elements that are smaller than the `pivot` go to\n",
    "        # the `low` list. Elements that are larger than\n",
    "        # `pivot` go to the `high` list. Elements that are\n",
    "        # equal to `pivot` go to the `same` list.\n",
    "\n",
    "        if item < pivot:\n",
    "            low.append(item)\n",
    "\n",
    "        elif item == pivot:\n",
    "            same.append(item)\n",
    "\n",
    "        elif item > pivot:\n",
    "            high.append(item)\n",
    "\n",
    "\n",
    "    # The final result combines the sorted `low` list\n",
    "    # with the `same` list and the sorted `high` list\n",
    "\n",
    "    return quicksort(low) + same + quicksort(high)\n",
    "\n",
    "data_list = [54,26,93,17,77,31,44,55,20]\n",
    "quicksort(data_list)"
   ]
  },
  {
   "cell_type": "markdown",
   "id": "1f50be5d",
   "metadata": {},
   "source": [
    "https://realpython.com/sorting-algorithms-python/#the-quicksort-algorithm-in-python"
   ]
  },
  {
   "cell_type": "code",
   "execution_count": 7,
   "id": "df9b9282",
   "metadata": {},
   "outputs": [
    {
     "name": "stdout",
     "output_type": "stream",
     "text": [
      "[17, 20, 26, 31, 44, 54, 55, 77, 93]\n"
     ]
    }
   ],
   "source": [
    "def quickSort(data_list):\n",
    "    quickSortHlp(data_list,0,len(data_list)-1)\n",
    "\n",
    "def quickSortHlp(data_list,first,last):\n",
    "    if first < last:\n",
    "\n",
    "        splitpoint = partition(data_list,first,last)\n",
    "\n",
    "        quickSortHlp(data_list,first,splitpoint-1)\n",
    "        quickSortHlp(data_list,splitpoint+1,last)\n",
    "\n",
    "\n",
    "def partition(data_list,first,last):\n",
    "    pivotvalue = data_list[first]\n",
    "\n",
    "    leftmark = first+1\n",
    "    rightmark = last\n",
    "\n",
    "    done = False\n",
    "    while not done:\n",
    "\n",
    "        while leftmark <= rightmark and data_list[leftmark] <= pivotvalue:\n",
    "            leftmark = leftmark + 1\n",
    "\n",
    "        while data_list[rightmark] >= pivotvalue and rightmark >= leftmark:\n",
    "            rightmark = rightmark -1\n",
    "\n",
    "        if rightmark < leftmark:\n",
    "            done = True\n",
    "        else:\n",
    "            temp = data_list[leftmark]\n",
    "            data_list[leftmark] = data_list[rightmark]\n",
    "            data_list[rightmark] = temp\n",
    "\n",
    "    temp = data_list[first]\n",
    "    data_list[first] = data_list[rightmark]\n",
    "    data_list[rightmark] = temp\n",
    "\n",
    "\n",
    "    return rightmark\n",
    "\n",
    "data_list = [54,26,93,17,77,31,44,55,20]\n",
    "quickSort(data_list)\n",
    "print(data_list)\n"
   ]
  },
  {
   "cell_type": "code",
   "execution_count": null,
   "id": "d001df78",
   "metadata": {},
   "outputs": [],
   "source": []
  }
 ],
 "metadata": {
  "kernelspec": {
   "display_name": "Python 3 (ipykernel)",
   "language": "python",
   "name": "python3"
  },
  "language_info": {
   "codemirror_mode": {
    "name": "ipython",
    "version": 3
   },
   "file_extension": ".py",
   "mimetype": "text/x-python",
   "name": "python",
   "nbconvert_exporter": "python",
   "pygments_lexer": "ipython3",
   "version": "3.9.12"
  }
 },
 "nbformat": 4,
 "nbformat_minor": 5
}
