{
 "cells": [
  {
   "cell_type": "code",
   "execution_count": 1,
   "id": "ae0417c3",
   "metadata": {},
   "outputs": [
    {
     "name": "stdout",
     "output_type": "stream",
     "text": [
      "Original list:\n",
      "[1, 2, 4, 3, 5, 4, 6, 9, 2, 1]\n",
      "kth smallest element in the said list, when k =  1\n",
      "1\n",
      "kth smallest element in the said list, when k =  2\n",
      "1\n",
      "kth smallest element in the said list, when k =  3\n",
      "2\n",
      "kth smallest element in the said list, when k =  4\n",
      "2\n",
      "kth smallest element in the said list, when k =  5\n",
      "3\n",
      "kth smallest element in the said list, when k =  6\n",
      "4\n",
      "kth smallest element in the said list, when k =  7\n",
      "4\n",
      "kth smallest element in the said list, when k =  8\n",
      "5\n",
      "kth smallest element in the said list, when k =  9\n",
      "6\n",
      "kth smallest element in the said list, when k =  10\n",
      "9\n"
     ]
    }
   ],
   "source": [
    "def quickselect(lst, k, start_pos=0, end_pos=None):\n",
    "    if end_pos is None:\n",
    "        end_pos = len(lst) - 1\n",
    "\n",
    "    if start_pos >= end_pos:\n",
    "        return lst[start_pos]\n",
    "\n",
    "    pivot_idx = partition(lst, start_pos, end_pos)\n",
    "\n",
    "    if k == pivot_idx:\n",
    "        return lst[k]\n",
    "    elif k < pivot_idx:\n",
    "        return quickselect(lst, k, start_pos, pivot_idx - 1)\n",
    "    else:\n",
    "        return quickselect(lst, k, pivot_idx + 1, end_pos)\n",
    "\n",
    "def partition(lst, start_pos, end_pos):\n",
    "    pivot = lst[end_pos]\n",
    "    pivot_idx = start_pos\n",
    "\n",
    "    for i in range(start_pos, end_pos):\n",
    "        if lst[i] <= pivot: # corrected this line\n",
    "            lst[i], lst[pivot_idx] = lst[pivot_idx], lst[i]\n",
    "            pivot_idx += 1\n",
    "\n",
    "    lst[end_pos], lst[pivot_idx] = lst[pivot_idx], lst[end_pos]\n",
    "\n",
    "    return pivot_idx\n",
    "\n",
    "\n",
    "nums = [1,2,4,3,5,4,6,9,2,1]\n",
    "print(\"Original list:\")\n",
    "print(nums)\n",
    "k = 1\n",
    "for i in range(1, 11):\n",
    "    print(\"kth smallest element in the said list, when k = \",k)\n",
    "    print(quickselect(nums, k-1))\n",
    "    k=k+1\n"
   ]
  },
  {
   "cell_type": "markdown",
   "id": "28139cb6",
   "metadata": {},
   "source": [
    "https://www.w3resource.com/python-exercises/list-advanced/python-list-advanced-exercise-4.php"
   ]
  },
  {
   "cell_type": "code",
   "execution_count": null,
   "id": "6e57ac95",
   "metadata": {},
   "outputs": [],
   "source": []
  }
 ],
 "metadata": {
  "kernelspec": {
   "display_name": "Python 3 (ipykernel)",
   "language": "python",
   "name": "python3"
  },
  "language_info": {
   "codemirror_mode": {
    "name": "ipython",
    "version": 3
   },
   "file_extension": ".py",
   "mimetype": "text/x-python",
   "name": "python",
   "nbconvert_exporter": "python",
   "pygments_lexer": "ipython3",
   "version": "3.9.12"
  }
 },
 "nbformat": 4,
 "nbformat_minor": 5
}
