{
 "cells": [
  {
   "cell_type": "markdown",
   "id": "8c8ad9e4",
   "metadata": {},
   "source": [
    "https://medium.com/@hs_pedro/implementing-a-heap-in-python-1036e759e0eb"
   ]
  },
  {
   "cell_type": "code",
   "execution_count": null,
   "id": "ce420266",
   "metadata": {},
   "outputs": [],
   "source": []
  }
 ],
 "metadata": {
  "kernelspec": {
   "display_name": "Python 3 (ipykernel)",
   "language": "python",
   "name": "python3"
  },
  "language_info": {
   "codemirror_mode": {
    "name": "ipython",
    "version": 3
   },
   "file_extension": ".py",
   "mimetype": "text/x-python",
   "name": "python",
   "nbconvert_exporter": "python",
   "pygments_lexer": "ipython3",
   "version": "3.9.12"
  }
 },
 "nbformat": 4,
 "nbformat_minor": 5
}
