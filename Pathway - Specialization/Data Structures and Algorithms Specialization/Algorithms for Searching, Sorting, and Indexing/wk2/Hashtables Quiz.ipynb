{
 "cells": [
  {
   "cell_type": "markdown",
   "id": "e571e817",
   "metadata": {},
   "source": [
    "## 1. Select all true facts about Hashtables which use unordered-list chaining to resolve collisions."
   ]
  },
  {
   "cell_type": "markdown",
   "id": "b7a76364",
   "metadata": {},
   "source": []
  },
  {
   "cell_type": "markdown",
   "id": "ec83c227",
   "metadata": {},
   "source": [
    "## 2. \n",
    "\n",
    "Consider the below Hashtable, which stores numbers for different produce items (maybe the amount in stock at a store) according to a hash function called HASH.\n",
    "\n",
    "For the entry \"Apples →51→51\", the key is \"Apples\" and the value is \"51\".  The entry for \"Apples\" is at the front of a chained list including \"Plums\" and \"Avocados\", which all share Slot #0.\n",
    "\n",
    "The HASH function picks a slot for the entry by taking the ASCII value of the first letter of the key, mod 5 (so for \"Apples\", it is 65mod  5=065mod5=0).  You won't need to calculate these for this problem.\n",
    "\n",
    "Suppose it costs 1 time unit to run HASH, and 1 time unit to check whether an entry is already present in each place in the chained lists.  It also takes 1 time unit to write a new value to a particular place in a chained list.  Assume that newly inserted items must go at the end of the chained list in their slot.\n",
    "\n",
    "How many time units does it cost to insert a new entry \"Limes →40→40\" into the Hashtable?  (When HASH is called on \"Limes\", it gives 76mod  5=176mod5=1)\n",
    "1 point\n",
    "\n",
    "7"
   ]
  },
  {
   "cell_type": "markdown",
   "id": "3dd65c87",
   "metadata": {},
   "source": []
  },
  {
   "cell_type": "markdown",
   "id": "668cedc5",
   "metadata": {},
   "source": []
  },
  {
   "cell_type": "markdown",
   "id": "e7151455",
   "metadata": {},
   "source": []
  }
 ],
 "metadata": {
  "kernelspec": {
   "display_name": "Python 3 (ipykernel)",
   "language": "python",
   "name": "python3"
  },
  "language_info": {
   "codemirror_mode": {
    "name": "ipython",
    "version": 3
   },
   "file_extension": ".py",
   "mimetype": "text/x-python",
   "name": "python",
   "nbconvert_exporter": "python",
   "pygments_lexer": "ipython3",
   "version": "3.9.12"
  }
 },
 "nbformat": 4,
 "nbformat_minor": 5
}
