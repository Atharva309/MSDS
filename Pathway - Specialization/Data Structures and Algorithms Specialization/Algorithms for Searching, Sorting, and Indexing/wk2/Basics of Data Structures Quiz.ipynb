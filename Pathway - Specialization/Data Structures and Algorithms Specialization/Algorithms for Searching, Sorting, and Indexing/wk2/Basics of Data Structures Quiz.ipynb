{
 "cells": [
  {
   "cell_type": "markdown",
   "id": "3e7cbc9b",
   "metadata": {},
   "source": [
    "## 1. Consider a \"dynamic array\" data structure which started with an array that is sized to hold up to 16 elements. As soon as the current array of size nn is filled (by nn elements),  we automatically allocate a new array of size 2n2n and copy over the nn existing elements to this new, double-sized space."
   ]
  },
  {
   "cell_type": "markdown",
   "id": "d942a783",
   "metadata": {},
   "source": []
  },
  {
   "cell_type": "markdown",
   "id": "8c8f18e4",
   "metadata": {},
   "source": [
    "## 2. Consider a \"dynamic array\" of integers that is not in sorted order.  Note that in a dynamic array new elements are always inserted in the \"blank spaces\" at the end of the array. Select all the correct answers below."
   ]
  },
  {
   "cell_type": "markdown",
   "id": "466bd2a3",
   "metadata": {},
   "source": []
  }
 ],
 "metadata": {
  "kernelspec": {
   "display_name": "Python 3 (ipykernel)",
   "language": "python",
   "name": "python3"
  },
  "language_info": {
   "codemirror_mode": {
    "name": "ipython",
    "version": 3
   },
   "file_extension": ".py",
   "mimetype": "text/x-python",
   "name": "python",
   "nbconvert_exporter": "python",
   "pygments_lexer": "ipython3",
   "version": "3.9.12"
  }
 },
 "nbformat": 4,
 "nbformat_minor": 5
}
