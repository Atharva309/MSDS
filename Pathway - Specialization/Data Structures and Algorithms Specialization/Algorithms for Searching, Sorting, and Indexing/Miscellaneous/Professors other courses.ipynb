{
 "cells": [
  {
   "cell_type": "markdown",
   "id": "db46d1b2",
   "metadata": {},
   "source": [
    "- [Algorithms](https://home.cs.colorado.edu/~srirams/courses/csci3104-fall16/index.html)\n",
    "- [Graduate Algorithms](https://home.cs.colorado.edu/~srirams/courses/csci5454-fall18/index.html)\n",
    "- [Programming languages](https://csci3155.cs.colorado.edu/s18/)\n",
    "- [Programming Languages](https://plv.colorado.edu//)"
   ]
  },
  {
   "cell_type": "markdown",
   "id": "0c638d59",
   "metadata": {},
   "source": [
    "CSCI 3104 repos:\n",
    "- https://github.com/Ttopiac/CSCI3104_Recitation101_Spring23\n",
    "- https://github.com/ERichman0/CSCI-3104\n",
    "- https://github.com/jutr6738/CSCI_3104_Algorithms/tree/main\n",
    "- https://github.com/veraduong/Algorithms\n",
    "- https://github.com/kevinawongw/Algorithms/tree/main/Homework%20Submissions\n",
    "\n",
    "CSCI 5454 repos:\n",
    "- https://github.com/alexbook00/CSCI-5454/tree/main/Homework\n",
    "- https://github.com/monishnene/Algorithms\n",
    "- https://github.com/ashyo98/CSCI-5454-DAA\n",
    "\n"
   ]
  },
  {
   "cell_type": "code",
   "execution_count": null,
   "id": "eb964052",
   "metadata": {},
   "outputs": [],
   "source": []
  }
 ],
 "metadata": {
  "kernelspec": {
   "display_name": "Python 3 (ipykernel)",
   "language": "python",
   "name": "python3"
  },
  "language_info": {
   "codemirror_mode": {
    "name": "ipython",
    "version": 3
   },
   "file_extension": ".py",
   "mimetype": "text/x-python",
   "name": "python",
   "nbconvert_exporter": "python",
   "pygments_lexer": "ipython3",
   "version": "3.9.12"
  }
 },
 "nbformat": 4,
 "nbformat_minor": 5
}
