{
 "cells": [
  {
   "cell_type": "markdown",
   "id": "e2d0ea71",
   "metadata": {},
   "source": [
    "wk1\n",
    "- binary search\n",
    "- insertion sort\n",
    "- mergesort\n",
    "\n",
    "wk2\n",
    "- bubble up/down\n",
    "- hastables\n",
    "- heapify, \n",
    "- priority queues\n",
    "- hepasort\n",
    "\n",
    "wk3 \n",
    "- quicksort\n",
    "- partition\n",
    "- quickselect\n",
    "\n",
    "wk4\n",
    "- open address hashing\n",
    "- perfect hashing\n",
    "- cuckoo hashing\n",
    "- bloom filters\n",
    "- count-min sketching using hashing\n",
    "- string matching using hashing"
   ]
  },
  {
   "cell_type": "markdown",
   "id": "deebe954",
   "metadata": {},
   "source": [
    "# Week 1"
   ]
  },
  {
   "cell_type": "markdown",
   "id": "c437d95b",
   "metadata": {},
   "source": [
    "## Insertion Sort\n"
   ]
  },
  {
   "cell_type": "markdown",
   "id": "fcd6d26a",
   "metadata": {},
   "source": [
    "```\n",
    "InsertionSort(A):\n",
    "    for j = 2 to A.length\n",
    "        key = A[j]\n",
    "\n",
    "        #Insert A[j] into the sorted sequence A[1..j-1]\n",
    "        i = j -1\n",
    "        while i > 0 and A[i] > key\n",
    "            A[i+1] = A[i]\n",
    "            i = i-1\n",
    "        A[i+1] = key\n",
    "```"
   ]
  },
  {
   "cell_type": "code",
   "execution_count": 10,
   "id": "98bebef0",
   "metadata": {},
   "outputs": [
    {
     "name": "stdout",
     "output_type": "stream",
     "text": [
      "[1, 2, 3, 4, 5]\n"
     ]
    }
   ],
   "source": [
    "def insertion_sort(A):\n",
    "    for j in range(1, len(A)):\n",
    "        key = A[j]\n",
    "        i = j - 1\n",
    "        while i >= 0 and A[i] > key:\n",
    "            A[i + 1] = A[i]\n",
    "            i = i - 1\n",
    "        A[i + 1] = key\n",
    "\n",
    "        \n",
    "my_list = [4, 2, 1, 3, 5]\n",
    "insertion_sort(my_list)\n",
    "print(my_list)\n"
   ]
  },
  {
   "cell_type": "markdown",
   "id": "41d56228",
   "metadata": {},
   "source": [
    "## Merge Sort"
   ]
  },
  {
   "cell_type": "markdown",
   "id": "e64c2ac9",
   "metadata": {},
   "source": [
    "```\n",
    "Merge(A, p, q, r):\n",
    "    n1 = q-p+1\n",
    "    n2 = r-q\n",
    "    \n",
    "    let L[1..n1 +1] and R[1..n2+1] be new arrays\n",
    "    for i = 1 to n1\n",
    "        L[i] = Ap+i-1]\n",
    "    for j = 1 to n2\n",
    "        R[j] = A[q+j]\n",
    "    L[n1 + 1] = infinity\n",
    "    R[n2+1] = infinity\n",
    "    \n",
    "    i=1\n",
    "    j=1\n",
    "    \n",
    "    for k = p to r\n",
    "        if L[i] <= R[j]\n",
    "            A[k] = L[i]\n",
    "            i = i + 1\n",
    "         else A[k] = R[j]\n",
    "             j = j + 1\n",
    "    \n",
    "```\n",
    "\n",
    "```\n",
    "Merge(A, p, r)\n",
    "    if p< r\n",
    "        q = [(p+r)/2]\n",
    "        MergeSort(A, p, q)\n",
    "        MergeSort(A,q+1,r)\n",
    "        Merge(A, p,q,r)\n",
    "```"
   ]
  },
  {
   "cell_type": "code",
   "execution_count": 18,
   "id": "9fe7ef50",
   "metadata": {},
   "outputs": [
    {
     "name": "stdout",
     "output_type": "stream",
     "text": [
      "Original Array: [4, 2, 7, 1, 5, 3, 6]\n",
      "Sorted Array: [1, 2, 3, 4, 5, 6, 7]\n"
     ]
    }
   ],
   "source": [
    "def MergeSort(A, p, r):\n",
    "    if p < r:\n",
    "        q = (p + r) // 2\n",
    "        MergeSort(A, p, q)\n",
    "        MergeSort(A, q + 1, r)\n",
    "        Merge(A, p, q, r)\n",
    "\n",
    "def Merge(A, p, q, r):\n",
    "    n1 = q - p + 1\n",
    "    n2 = r - q\n",
    "\n",
    "    L = A[p : q + 1]\n",
    "    R = A[q + 1 : r + 1]\n",
    "\n",
    "    L.append(float('inf'))\n",
    "    R.append(float('inf'))\n",
    "\n",
    "    i = 0\n",
    "    j = 0\n",
    "\n",
    "    for k in range(p, r + 1):\n",
    "        if L[i] <= R[j]:\n",
    "            A[k] = L[i]\n",
    "            i += 1\n",
    "        else:\n",
    "            A[k] = R[j]\n",
    "            j += 1\n",
    "\n",
    "# Test the Merge function with MergeSort\n",
    "arr = [4, 2, 7, 1, 5, 3, 6]\n",
    "print(\"Original Array:\", arr)\n",
    "\n",
    "MergeSort(arr, 0, len(arr) - 1)\n",
    "\n",
    "print(\"Sorted Array:\", arr)\n"
   ]
  },
  {
   "cell_type": "markdown",
   "id": "31d3f1e7",
   "metadata": {},
   "source": [
    "# Week 2"
   ]
  },
  {
   "cell_type": "markdown",
   "id": "4350e976",
   "metadata": {},
   "source": [
    "## Heaps\n"
   ]
  },
  {
   "cell_type": "markdown",
   "id": "2d737421",
   "metadata": {},
   "source": [
    "Pg. 154\n",
    "```\n",
    "MaxHeapify(A, i)\n",
    "    l = left(i)\n",
    "    r = right(i)\n",
    "    if l <= A.heap-size and A[l] > A[i]:\n",
    "        largest = l\n",
    "    else:\n",
    "        largest = i\n",
    "    if r <= A.heap-size and A[r] > A[largest]:\n",
    "        largest = r\n",
    "    if largest != i:\n",
    "        exchange A[i] with A[largest]\n",
    "        MaxHeapify(A.largest)\n",
    "```"
   ]
  },
  {
   "cell_type": "code",
   "execution_count": 16,
   "id": "7a286a67",
   "metadata": {},
   "outputs": [
    {
     "name": "stdout",
     "output_type": "stream",
     "text": [
      "Before heapify: [4, 10, 3, 5, 1]\n"
     ]
    },
    {
     "ename": "NameError",
     "evalue": "name 'left' is not defined",
     "output_type": "error",
     "traceback": [
      "\u001b[0;31m---------------------------------------------------------------------------\u001b[0m",
      "\u001b[0;31mNameError\u001b[0m                                 Traceback (most recent call last)",
      "\u001b[0;32m/var/folders/j_/555m2zps099832fjh_m8jjnc0000gn/T/ipykernel_44768/1830421926.py\u001b[0m in \u001b[0;36m<cell line: 24>\u001b[0;34m()\u001b[0m\n\u001b[1;32m     22\u001b[0m \u001b[0;34m\u001b[0m\u001b[0m\n\u001b[1;32m     23\u001b[0m \u001b[0mprint\u001b[0m\u001b[0;34m(\u001b[0m\u001b[0;34m\"Before heapify:\"\u001b[0m\u001b[0;34m,\u001b[0m \u001b[0mA\u001b[0m\u001b[0;34m)\u001b[0m\u001b[0;34m\u001b[0m\u001b[0;34m\u001b[0m\u001b[0m\n\u001b[0;32m---> 24\u001b[0;31m \u001b[0mmax_heapify\u001b[0m\u001b[0;34m(\u001b[0m\u001b[0mA\u001b[0m\u001b[0;34m,\u001b[0m \u001b[0mi\u001b[0m\u001b[0;34m)\u001b[0m\u001b[0;34m\u001b[0m\u001b[0;34m\u001b[0m\u001b[0m\n\u001b[0m\u001b[1;32m     25\u001b[0m \u001b[0mprint\u001b[0m\u001b[0;34m(\u001b[0m\u001b[0;34m\"After heapify:\"\u001b[0m\u001b[0;34m,\u001b[0m \u001b[0mA\u001b[0m\u001b[0;34m)\u001b[0m\u001b[0;34m\u001b[0m\u001b[0;34m\u001b[0m\u001b[0m\n\u001b[1;32m     26\u001b[0m \u001b[0;34m\u001b[0m\u001b[0m\n",
      "\u001b[0;32m/var/folders/j_/555m2zps099832fjh_m8jjnc0000gn/T/ipykernel_44768/1830421926.py\u001b[0m in \u001b[0;36mmax_heapify\u001b[0;34m(A, i)\u001b[0m\n\u001b[1;32m      1\u001b[0m \u001b[0;32mdef\u001b[0m \u001b[0mmax_heapify\u001b[0m\u001b[0;34m(\u001b[0m\u001b[0mA\u001b[0m\u001b[0;34m,\u001b[0m \u001b[0mi\u001b[0m\u001b[0;34m)\u001b[0m\u001b[0;34m:\u001b[0m\u001b[0;34m\u001b[0m\u001b[0;34m\u001b[0m\u001b[0m\n\u001b[0;32m----> 2\u001b[0;31m     \u001b[0ml\u001b[0m \u001b[0;34m=\u001b[0m \u001b[0mleft\u001b[0m\u001b[0;34m(\u001b[0m\u001b[0mi\u001b[0m\u001b[0;34m)\u001b[0m\u001b[0;34m\u001b[0m\u001b[0;34m\u001b[0m\u001b[0m\n\u001b[0m\u001b[1;32m      3\u001b[0m     \u001b[0mr\u001b[0m \u001b[0;34m=\u001b[0m \u001b[0mright\u001b[0m\u001b[0;34m(\u001b[0m\u001b[0mi\u001b[0m\u001b[0;34m)\u001b[0m\u001b[0;34m\u001b[0m\u001b[0;34m\u001b[0m\u001b[0m\n\u001b[1;32m      4\u001b[0m     \u001b[0mheap_size\u001b[0m \u001b[0;34m=\u001b[0m \u001b[0mlen\u001b[0m\u001b[0;34m(\u001b[0m\u001b[0mA\u001b[0m\u001b[0;34m)\u001b[0m \u001b[0;34m-\u001b[0m \u001b[0;36m1\u001b[0m\u001b[0;34m\u001b[0m\u001b[0;34m\u001b[0m\u001b[0m\n\u001b[1;32m      5\u001b[0m \u001b[0;34m\u001b[0m\u001b[0m\n",
      "\u001b[0;31mNameError\u001b[0m: name 'left' is not defined"
     ]
    }
   ],
   "source": [
    "def max_heapify(A, i):\n",
    "    l = left(i)\n",
    "    r = right(i)\n",
    "    heap_size = len(A) - 1\n",
    "\n",
    "    if l <= heap_size and A[l] > A[i]:\n",
    "        largest = l\n",
    "    else:\n",
    "        largest = i\n",
    "\n",
    "    if r <= heap_size and A[r] > A[largest]:\n",
    "        largest = r\n",
    "\n",
    "    if largest != i:\n",
    "        A[i], A[largest] = A[largest], A[i]\n",
    "        max_heapify(A, largest)\n",
    "        \n",
    " "
   ]
  },
  {
   "cell_type": "markdown",
   "id": "175f7f82",
   "metadata": {},
   "source": [
    "```\n",
    "BuildMaxHeap(A)\n",
    "    A.heap-size = A.length\n",
    "    for i = A.length/2 downto 1\n",
    "        MaxHeapify(A,i)\n",
    "```"
   ]
  },
  {
   "cell_type": "code",
   "execution_count": 1,
   "id": "75de2a4a",
   "metadata": {},
   "outputs": [],
   "source": [
    "def build_max_heap(A):\n",
    "    heap_size = len(A)\n",
    "    for i in range(heap_size // 2, 0, -1):\n",
    "        max_heapify(A, i)\n"
   ]
  },
  {
   "cell_type": "markdown",
   "id": "0886e215",
   "metadata": {},
   "source": [
    "```\n",
    "HeapSort(A)\n",
    "    BuildMaxHeap(A)\n",
    "    for i = A.length downto 2:\n",
    "        exchange A[1] with A[i]\n",
    "        A.heap-size = A.heap-size - 1\n",
    "        MaxHeapify(A,1)\n",
    "```"
   ]
  },
  {
   "cell_type": "code",
   "execution_count": 2,
   "id": "f4756a29",
   "metadata": {},
   "outputs": [],
   "source": [
    "def heap_sort(A):\n",
    "    build_max_heap(A)\n",
    "    heap_size = len(A)\n",
    "    for i in range(heap_size, 1, -1):\n",
    "        A[0], A[i-1] = A[i-1], A[0]\n",
    "        heap_size -= 1\n",
    "        max_heapify(A, 1)\n"
   ]
  },
  {
   "cell_type": "markdown",
   "id": "6799676b",
   "metadata": {},
   "source": [
    "```\n",
    "HeapExtractMax(A)\n",
    "    if A.heap-size < 1:\n",
    "        error \"Heap Overflow\"\n",
    "    max = A[1]\n",
    "    A[1] = A[A.heap-size]\n",
    "    A.heap-size = A.heap-size - 1\n",
    "    MaxHeapify(A, 1)\n",
    "    return max\n",
    "```"
   ]
  },
  {
   "cell_type": "code",
   "execution_count": 3,
   "id": "99d8a847",
   "metadata": {},
   "outputs": [],
   "source": [
    "def heap_extract_max(A):\n",
    "    heap_size = len(A)\n",
    "    if heap_size < 1:\n",
    "        raise IndexError(\"Heap Underflow\")\n",
    "\n",
    "    max_value = A[0]\n",
    "    A[0] = A[heap_size - 1]\n",
    "    A.pop()\n",
    "    heap_size -= 1\n",
    "    max_heapify(A, 1)\n",
    "\n",
    "    return max_value\n"
   ]
  },
  {
   "cell_type": "markdown",
   "id": "aac5bef4",
   "metadata": {},
   "source": [
    "```\n",
    "HeapIncreaseKey(A,i,key)\n",
    "    if key < A[i]\n",
    "        error \"new key is smaller than current key\"\n",
    "    A[i] = key\n",
    "    while i > 1 and A[Parent(i)] < A[i]:\n",
    "        exchange A[i] with A[Parent(i)]\n",
    "        i = Parent(i)\n",
    "```"
   ]
  },
  {
   "cell_type": "code",
   "execution_count": 4,
   "id": "dc6117eb",
   "metadata": {},
   "outputs": [],
   "source": [
    "def heap_increase_key(A, i, key):\n",
    "    if key < A[i]:\n",
    "        raise ValueError(\"New key is smaller than current key\")\n",
    "\n",
    "    A[i] = key\n",
    "    while i > 0 and A[(i - 1) // 2] < A[i]:\n",
    "        A[i], A[(i - 1) // 2] = A[(i - 1) // 2], A[i]\n",
    "        i = (i - 1) // 2\n"
   ]
  },
  {
   "cell_type": "markdown",
   "id": "5a0eea6a",
   "metadata": {},
   "source": [
    "```\n",
    "MaxHeapInsert(A.key)\n",
    "    A.heap-size = A.heap-seize + 1\n",
    "    A[A.heap-size] = -infinity\n",
    "    HeapIncreaseKey(A, A.heap-size, key)\n",
    "```"
   ]
  },
  {
   "cell_type": "code",
   "execution_count": 5,
   "id": "d6000194",
   "metadata": {},
   "outputs": [],
   "source": [
    "def max_heap_insert(A, key):\n",
    "    A.append(float('-inf'))\n",
    "    heap_size = len(A)\n",
    "    A[heap_size - 1] = float('-inf')\n",
    "    heap_increase_key(A, heap_size - 1, key)\n"
   ]
  },
  {
   "cell_type": "markdown",
   "id": "86fc7c13",
   "metadata": {},
   "source": [
    "```\n",
    "StackEmpty(S):\n",
    "    if S.top == 0\n",
    "        return True\n",
    "    else:\n",
    "        return False\n",
    "        \n",
    "        \n",
    "Push(S, x)\n",
    "    S.top = S.top+1\n",
    "    S[S.top] = x\n",
    "    \n",
    "    \n",
    "    \n",
    "Pop(S)\n",
    "    if StackEmpty(S):\n",
    "        error \"Underflow\"\n",
    "    else:\n",
    "        S.top=S.top-1\n",
    "        return S[S.top+1]\n",
    "```"
   ]
  },
  {
   "cell_type": "code",
   "execution_count": 6,
   "id": "eb462440",
   "metadata": {},
   "outputs": [
    {
     "name": "stdout",
     "output_type": "stream",
     "text": [
      "3\n",
      "2\n",
      "1\n"
     ]
    }
   ],
   "source": [
    "class Stack:\n",
    "    def __init__(self):\n",
    "        self.stack = []\n",
    "        self.top = 0\n",
    "\n",
    "    def is_empty(self):\n",
    "        return self.top == 0\n",
    "\n",
    "    def push(self, x):\n",
    "        self.top += 1\n",
    "        self.stack.append(x)\n",
    "\n",
    "    def pop(self):\n",
    "        if self.is_empty():\n",
    "            raise IndexError(\"Underflow\")\n",
    "        else:\n",
    "            self.top -= 1\n",
    "            return self.stack.pop()\n",
    "\n",
    "# Example usage:\n",
    "stack = Stack()\n",
    "stack.push(1)\n",
    "stack.push(2)\n",
    "stack.push(3)\n",
    "\n",
    "print(stack.pop())  # Output: 3\n",
    "print(stack.pop())  # Output: 2\n",
    "print(stack.pop())  # Output: 1\n"
   ]
  },
  {
   "cell_type": "markdown",
   "id": "825bf5f5",
   "metadata": {},
   "source": [
    "```\n",
    "Enqueue(Q, x)\n",
    "    Q[Q.tail] == x\n",
    "    if Q.tail == Q.length:\n",
    "        Q.tail = 1\n",
    "    else:\n",
    "        Q.tail = Q.tail+1\n",
    "        \n",
    "        \n",
    "\n",
    "Dequeue(Q)\n",
    "    x = Q[Q.head]\n",
    "    if Q.head == Q.length\n",
    "        Q.head = 1\n",
    "    else:\n",
    "        Q.head = Q.head+1\n",
    "        return x\n",
    "```"
   ]
  },
  {
   "cell_type": "code",
   "execution_count": 7,
   "id": "4cc14ecf",
   "metadata": {},
   "outputs": [
    {
     "name": "stdout",
     "output_type": "stream",
     "text": [
      "1\n",
      "2\n",
      "3\n"
     ]
    }
   ],
   "source": [
    "class Queue:\n",
    "    def __init__(self, length):\n",
    "        self.queue = [None] * (length + 1)\n",
    "        self.head = 1\n",
    "        self.tail = 1\n",
    "        self.length = length\n",
    "\n",
    "    def enqueue(self, x):\n",
    "        self.queue[self.tail] = x\n",
    "        if self.tail == self.length:\n",
    "            self.tail = 1\n",
    "        else:\n",
    "            self.tail += 1\n",
    "\n",
    "    def dequeue(self):\n",
    "        x = self.queue[self.head]\n",
    "        if self.head == self.length:\n",
    "            self.head = 1\n",
    "        else:\n",
    "            self.head += 1\n",
    "        return x\n",
    "\n",
    "# Example usage:\n",
    "queue = Queue(5)\n",
    "queue.enqueue(1)\n",
    "queue.enqueue(2)\n",
    "queue.enqueue(3)\n",
    "\n",
    "print(queue.dequeue())  # Output: 1\n",
    "print(queue.dequeue())  # Output: 2\n",
    "print(queue.dequeue())  # Output: 3\n"
   ]
  },
  {
   "cell_type": "markdown",
   "id": "9aa3aa14",
   "metadata": {},
   "source": [
    "# Week 3"
   ]
  },
  {
   "cell_type": "markdown",
   "id": "fdcf5d59",
   "metadata": {},
   "source": [
    "```\n",
    "QuickSort(A,p,r)\n",
    "    if p < r:\n",
    "        q = Partition(A,p,r)\n",
    "        QuickSort(A,p,q-1)\n",
    "        QuickSort(A,q+1,r)\n",
    "        \n",
    "Partition(A,p,r)\n",
    "    x = A[r]\n",
    "    i = p-1\n",
    "    for j = p to r - 1:\n",
    "        if A[j] <= x\n",
    "            i = i + 1\n",
    "            exchange A[i] with A[j]\n",
    "    exchange A[i+1] with A[r]\n",
    "    return i + 1\n",
    "```"
   ]
  },
  {
   "cell_type": "code",
   "execution_count": 24,
   "id": "b6e03780",
   "metadata": {},
   "outputs": [
    {
     "name": "stdout",
     "output_type": "stream",
     "text": [
      "Before sorting: [7, 2, 1, 6, 8, 5]\n",
      "After sorting: [1, 2, 5, 6, 7, 8]\n",
      "Expected result: [1, 2, 5, 6, 7, 8]\n",
      "Sorting is correct: True\n",
      "\n",
      "\n",
      "Before sorting: [3, 9, 4, 2, 6, 1, 8]\n",
      "After sorting: [3, 1, 2, 4, 6, 9, 8]\n",
      "Expected result: [3, 1, 2, 4, 6, 9, 8]\n",
      "Sorting is correct: True\n",
      "\n",
      "\n",
      "Before sorting: [5, 1, 4, 3, 2]\n",
      "After sorting: [1, 3, 4, 5, 2]\n",
      "Expected result: [1, 3, 4, 5, 2]\n",
      "Sorting is correct: True\n"
     ]
    }
   ],
   "source": [
    "def partition(A, p, r):\n",
    "    x = A[r]\n",
    "    i = p - 1\n",
    "\n",
    "    for j in range(p, r):\n",
    "        if A[j] <= x:\n",
    "            i = i + 1\n",
    "            A[i], A[j] = A[j], A[i]\n",
    "\n",
    "    A[i + 1], A[r] = A[r], A[i + 1]\n",
    "    return i + 1\n",
    "\n",
    "\n",
    "def quick_sort(A, p, r):\n",
    "    if p < r:\n",
    "        q = partition(A, p, r)\n",
    "        quick_sort(A, p, q - 1)\n",
    "        quick_sort(A, q + 1, r)\n",
    "        \n",
    "# Test Data 1\n",
    "A = [7, 2, 1, 6, 8, 5]\n",
    "p = 0\n",
    "r = len(A) - 1\n",
    "expected_result = [1, 2, 5, 6, 7, 8]\n",
    "\n",
    "print(\"Before sorting:\", A)\n",
    "quick_sort(A, p, r)\n",
    "print(\"After sorting:\", A)\n",
    "print(\"Expected result:\", expected_result)\n",
    "print(\"Sorting is correct:\", A == expected_result)\n",
    "print(\"\\n\")\n",
    "\n",
    "# Test Data 2\n",
    "A = [3, 9, 4, 2, 6, 1, 8]\n",
    "p = 1\n",
    "r = 5\n",
    "expected_result = [3, 1, 2, 4, 6, 9, 8]\n",
    "\n",
    "print(\"Before sorting:\", A)\n",
    "quick_sort(A, p, r)\n",
    "print(\"After sorting:\", A)\n",
    "print(\"Expected result:\", expected_result)\n",
    "print(\"Sorting is correct:\", A == expected_result)\n",
    "print(\"\\n\")\n",
    "\n",
    "# Test Data 3\n",
    "A = [5, 1, 4, 3, 2]\n",
    "p = 0\n",
    "r = 3\n",
    "expected_result = [1, 3, 4, 5, 2]\n",
    "print(\"Before sorting:\", A)\n",
    "quick_sort(A, p, r)\n",
    "print(\"After sorting:\", A)\n",
    "print(\"Expected result:\", expected_result)\n",
    "print(\"Sorting is correct:\", A == expected_result)\n",
    "\n"
   ]
  },
  {
   "cell_type": "code",
   "execution_count": null,
   "id": "67250b75",
   "metadata": {},
   "outputs": [],
   "source": []
  },
  {
   "cell_type": "markdown",
   "id": "11c30943",
   "metadata": {},
   "source": [
    "```\n",
    "RandomizedPartition(A,p,r)\n",
    "    i = Random(p,r)\n",
    "    exchange A[r] with A[i]\n",
    "    return Partition(A, p, r)\n",
    "```"
   ]
  },
  {
   "cell_type": "code",
   "execution_count": 10,
   "id": "d024b831",
   "metadata": {},
   "outputs": [],
   "source": [
    "import random\n",
    "\n",
    "def randomized_partition(A, p, r):\n",
    "    i = random.randint(p, r)\n",
    "    A[r], A[i] = A[i], A[r]\n",
    "    return partition(A, p, r)\n"
   ]
  },
  {
   "cell_type": "markdown",
   "id": "6030ebc0",
   "metadata": {},
   "source": [
    "```\n",
    "RandomizedQuicksort(A,p,r)\n",
    "    if p < r:\n",
    "        q = RandomizedPartition(A,p,r)\n",
    "        RandomizedQuicksort(A,p,q-1)\n",
    "        RandomizedQuicksort(A, q+1, r)\n",
    "```"
   ]
  },
  {
   "cell_type": "code",
   "execution_count": 15,
   "id": "8971dff1",
   "metadata": {},
   "outputs": [],
   "source": [
    "def randomized_quicksort(A, p, r):\n",
    "    if p < r:\n",
    "        q = randomized_partition(A, p, r)\n",
    "        randomized_quicksort(A, p, q - 1)\n",
    "        randomized_quicksort(A, q + 1, r)"
   ]
  },
  {
   "cell_type": "code",
   "execution_count": null,
   "id": "6e829630",
   "metadata": {},
   "outputs": [],
   "source": []
  },
  {
   "cell_type": "markdown",
   "id": "58d76e3f",
   "metadata": {},
   "source": [
    "```\n",
    "Minimum(A)\n",
    "    min = A[1]\n",
    "    for i = 2 to A.length\n",
    "        if min > A[i]\n",
    "            min = A[i]\n",
    "    return min\n",
    "```\n",
    "\n"
   ]
  },
  {
   "cell_type": "code",
   "execution_count": null,
   "id": "57e08247",
   "metadata": {},
   "outputs": [],
   "source": []
  },
  {
   "cell_type": "markdown",
   "id": "ae6b8e3e",
   "metadata": {},
   "source": [
    "```\n",
    "RandomizedSelect(A,p,r,i)\n",
    "    if p == r:\n",
    "        return A[p]\n",
    "    q=RandomizedPartition(A,p,r)\n",
    "    k = q-p+1\n",
    "    \n",
    "    // the pivot value is the answer\n",
    "    if i == k:\n",
    "        return A[q]\n",
    "    elseif i<k:\n",
    "        return RandomizedSelect(A,p,q-1,i)\n",
    "    else:\n",
    "        return RandomizedSelect(A, q+1, r, i-k)\n",
    "        \n",
    "```"
   ]
  },
  {
   "cell_type": "markdown",
   "id": "a495347b",
   "metadata": {},
   "source": [
    "# Week 4"
   ]
  },
  {
   "cell_type": "markdown",
   "id": "07be4aff",
   "metadata": {},
   "source": [
    "```\n",
    "HashInsert(T,k)\n",
    "    i = 0\n",
    "    repeat\n",
    "        j = h(k,i)\n",
    "        if T[j] == NIL:\n",
    "            T[j] = k\n",
    "            return j\n",
    "        else:\n",
    "            i = i + 1\n",
    "     until i == m \n",
    "     error \"hash table overflow\"\n",
    "    \n",
    "```"
   ]
  },
  {
   "cell_type": "code",
   "execution_count": null,
   "id": "41ad2578",
   "metadata": {},
   "outputs": [],
   "source": []
  },
  {
   "cell_type": "markdown",
   "id": "0626215b",
   "metadata": {},
   "source": [
    "```\n",
    "HashSearch(T,k)\n",
    "    i = 0\n",
    "    repeat \n",
    "        j = h(k,i)\n",
    "        if T[j] == k:\n",
    "            return j\n",
    "        i = i + 1\n",
    "    until T[j] == NIL or i == m \n",
    "    return NIL\n",
    "```"
   ]
  },
  {
   "cell_type": "code",
   "execution_count": null,
   "id": "9c17cf99",
   "metadata": {},
   "outputs": [],
   "source": []
  }
 ],
 "metadata": {
  "kernelspec": {
   "display_name": "Python 3 (ipykernel)",
   "language": "python",
   "name": "python3"
  },
  "language_info": {
   "codemirror_mode": {
    "name": "ipython",
    "version": 3
   },
   "file_extension": ".py",
   "mimetype": "text/x-python",
   "name": "python",
   "nbconvert_exporter": "python",
   "pygments_lexer": "ipython3",
   "version": "3.9.12"
  }
 },
 "nbformat": 4,
 "nbformat_minor": 5
}
