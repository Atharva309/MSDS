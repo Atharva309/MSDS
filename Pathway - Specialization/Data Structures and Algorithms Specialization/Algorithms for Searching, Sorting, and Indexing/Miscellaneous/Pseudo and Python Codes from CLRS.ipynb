{
 "cells": [
  {
   "cell_type": "markdown",
   "id": "c437d95b",
   "metadata": {},
   "source": [
    "## Insertion Sort\n"
   ]
  },
  {
   "cell_type": "markdown",
   "id": "fcd6d26a",
   "metadata": {},
   "source": [
    "```\n",
    "InsertionSort(A):\n",
    "    for j = 2 to A.length\n",
    "        key = A[j]\n",
    "\n",
    "        #Insert A[j] into the sorted sequence A[1..j-1]\n",
    "        i = j -1\n",
    "        while i > 0 and A[i] > key\n",
    "            A[i+1] = A[i]\n",
    "            i = i-1\n",
    "        A[i+1] = key\n",
    "```"
   ]
  },
  {
   "cell_type": "code",
   "execution_count": 10,
   "id": "98bebef0",
   "metadata": {},
   "outputs": [
    {
     "name": "stdout",
     "output_type": "stream",
     "text": [
      "[1, 2, 3, 4, 5]\n"
     ]
    }
   ],
   "source": [
    "def insertion_sort(A):\n",
    "    for j in range(1, len(A)):\n",
    "        key = A[j]\n",
    "        i = j - 1\n",
    "        while i >= 0 and A[i] > key:\n",
    "            A[i + 1] = A[i]\n",
    "            i = i - 1\n",
    "        A[i + 1] = key\n",
    "\n",
    "        \n",
    "my_list = [4, 2, 1, 3, 5]\n",
    "insertion_sort(my_list)\n",
    "print(my_list)\n"
   ]
  },
  {
   "cell_type": "markdown",
   "id": "41d56228",
   "metadata": {},
   "source": [
    "## Merge Sort"
   ]
  },
  {
   "cell_type": "markdown",
   "id": "e64c2ac9",
   "metadata": {},
   "source": [
    "```\n",
    "Merge(A, p, q, r):\n",
    "    n1 = q-p+1\n",
    "    n2 = r-q\n",
    "    \n",
    "    let L[1..n1 +1] and R[1..n2+1] be new arrays\n",
    "    for i = 1 to n1\n",
    "        L[i] = Ap+i-1]\n",
    "    for j = 1 to n2\n",
    "        R[j] = A[q+j]\n",
    "    L[n1 + 1] = infinity\n",
    "    R[n2+1] = infinity\n",
    "    \n",
    "    i=1\n",
    "    j=1\n",
    "    \n",
    "    for k = p to r\n",
    "        if L[i] <= R[j]\n",
    "            A[k] = L[i]\n",
    "            i = i + 1\n",
    "         else A[k] = R[j]\n",
    "             j = j + 1\n",
    "    \n",
    "```\n",
    "\n",
    "```\n",
    "Merge(A, p, r)\n",
    "    if p< r\n",
    "        q = [(p+r)/2]\n",
    "        MergeSort(A, p, q)\n",
    "        MergeSort(A,q+1,r)\n",
    "        Merge(A, p,q,r)\n",
    "```"
   ]
  },
  {
   "cell_type": "code",
   "execution_count": 18,
   "id": "9fe7ef50",
   "metadata": {},
   "outputs": [
    {
     "name": "stdout",
     "output_type": "stream",
     "text": [
      "Original Array: [4, 2, 7, 1, 5, 3, 6]\n",
      "Sorted Array: [1, 2, 3, 4, 5, 6, 7]\n"
     ]
    }
   ],
   "source": [
    "def MergeSort(A, p, r):\n",
    "    if p < r:\n",
    "        q = (p + r) // 2\n",
    "        MergeSort(A, p, q)\n",
    "        MergeSort(A, q + 1, r)\n",
    "        Merge(A, p, q, r)\n",
    "\n",
    "def Merge(A, p, q, r):\n",
    "    n1 = q - p + 1\n",
    "    n2 = r - q\n",
    "\n",
    "    L = A[p : q + 1]\n",
    "    R = A[q + 1 : r + 1]\n",
    "\n",
    "    L.append(float('inf'))\n",
    "    R.append(float('inf'))\n",
    "\n",
    "    i = 0\n",
    "    j = 0\n",
    "\n",
    "    for k in range(p, r + 1):\n",
    "        if L[i] <= R[j]:\n",
    "            A[k] = L[i]\n",
    "            i += 1\n",
    "        else:\n",
    "            A[k] = R[j]\n",
    "            j += 1\n",
    "\n",
    "# Test the Merge function with MergeSort\n",
    "arr = [4, 2, 7, 1, 5, 3, 6]\n",
    "print(\"Original Array:\", arr)\n",
    "\n",
    "MergeSort(arr, 0, len(arr) - 1)\n",
    "\n",
    "print(\"Sorted Array:\", arr)\n"
   ]
  },
  {
   "cell_type": "markdown",
   "id": "4350e976",
   "metadata": {},
   "source": [
    "## Heaps\n"
   ]
  },
  {
   "cell_type": "markdown",
   "id": "2d737421",
   "metadata": {},
   "source": [
    "Pg. 154\n",
    "```\n",
    "MaxHeapify(A, i)\n"
   ]
  },
  {
   "cell_type": "code",
   "execution_count": null,
   "id": "7a286a67",
   "metadata": {},
   "outputs": [],
   "source": []
  }
 ],
 "metadata": {
  "kernelspec": {
   "display_name": "Python 3 (ipykernel)",
   "language": "python",
   "name": "python3"
  },
  "language_info": {
   "codemirror_mode": {
    "name": "ipython",
    "version": 3
   },
   "file_extension": ".py",
   "mimetype": "text/x-python",
   "name": "python",
   "nbconvert_exporter": "python",
   "pygments_lexer": "ipython3",
   "version": "3.9.12"
  }
 },
 "nbformat": 4,
 "nbformat_minor": 5
}
