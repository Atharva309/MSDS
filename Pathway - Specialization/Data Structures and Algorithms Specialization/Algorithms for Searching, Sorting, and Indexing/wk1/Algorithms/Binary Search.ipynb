{
 "cells": [
  {
   "cell_type": "markdown",
   "id": "c8e8473e",
   "metadata": {},
   "source": [
    "## Lecture 1"
   ]
  },
  {
   "cell_type": "code",
   "execution_count": 18,
   "id": "9de2d264",
   "metadata": {},
   "outputs": [
    {
     "name": "stdout",
     "output_type": "stream",
     "text": [
      "4\n"
     ]
    }
   ],
   "source": [
    "def binarySearchHelper( lst, elt, left, right):\n",
    "    # Requirements:\n",
    "    # 0 <= left <= right < size(lst)\n",
    "    # Invariant:\n",
    "    # If elt is found in lst, it must be found in the\n",
    "    # sub-list [ lst[left],...,lst[right] ]\n",
    "    \n",
    "\n",
    "    \n",
    "    if (left > right):\n",
    "        \n",
    "        return None # Search region is empty -- let us bail.\n",
    "    else:\n",
    "        mid = (left + right)//2 # Note that // is integer division\n",
    "        if lst[mid] == elt:\n",
    "            return mid # BINGO -- we found it. Return its index and that we found it\n",
    "        elif lst[mid] < elt:\n",
    "            return binarySearchHelper(lst, elt, mid+1, right)\n",
    "        else: # lst[mid] > elt\n",
    "            return binarySearchHelper(lst, elt, left, mid-1)\n",
    "    \n",
    "    \n",
    "list_container = [ 1, 9, 11, 21, 34, 54, 67, 90 ]\n",
    "search = 34\n",
    "first = 0\n",
    "last= len(list_container) - 1\n",
    "\n",
    "print(binarySearchHelper(list_container,search,first,last))"
   ]
  },
  {
   "cell_type": "markdown",
   "id": "ce549531",
   "metadata": {},
   "source": [
    "---"
   ]
  },
  {
   "cell_type": "markdown",
   "id": "34a16c93",
   "metadata": {},
   "source": [
    "A Python binary search is an algorithm that finds the position of an element in an ordered array. Binary searches repeatedly divide a list into two halves. Then, a search compares if a value is higher or lower than the middle value in the list.\n",
    "\n",
    "A Python binary search is an algorithm that finds the position of an element in an ordered array. Binary searches repeatedly divide a list into two halves. Then, a search compares if a value is higher or lower than the middle value in the list."
   ]
  },
  {
   "cell_type": "code",
   "execution_count": 1,
   "id": "f15633c1",
   "metadata": {},
   "outputs": [
    {
     "name": "stdout",
     "output_type": "stream",
     "text": [
      "False\n",
      "True\n"
     ]
    }
   ],
   "source": [
    "def binary_search(item_list,item):\n",
    "    first = 0\n",
    "    last = len(item_list)-1\n",
    "    found = False\n",
    "    while( first<=last and not found):\n",
    "        mid = (first + last)//2\n",
    "        if item_list[mid] == item :\n",
    "            found = True\n",
    "        else:\n",
    "            if item < item_list[mid]:\n",
    "                last = mid - 1\n",
    "            else:\n",
    "                first = mid + 1\t\n",
    "    return found\n",
    "\n",
    "print(binary_search([1,2,3,5,8], 6))\n",
    "print(binary_search([1,2,3,5,8], 5))\n"
   ]
  },
  {
   "cell_type": "markdown",
   "id": "e3bb19aa",
   "metadata": {},
   "source": [
    "## Code implementation for binary search with iteration"
   ]
  },
  {
   "cell_type": "code",
   "execution_count": 3,
   "id": "30e3e454",
   "metadata": {},
   "outputs": [
    {
     "name": "stdout",
     "output_type": "stream",
     "text": [
      "81 occurs in position 5\n",
      " Does not appear in the list\n"
     ]
    }
   ],
   "source": [
    "def binary_search(list_num , to_search):\n",
    "    first_index = 0\n",
    "    size = len(list_num)\n",
    "    last_index = size - 1\n",
    "    mid_index = (first_index + last_index) // 2\n",
    "    mid_element = list_num[mid_index]\n",
    "\n",
    "    is_found = True\n",
    "    while is_found:\n",
    "        if first_index == last_index:\n",
    "            if mid_element != to_search:\n",
    "                is_found = False\n",
    "                return \" Does not appear in the list\"\n",
    "\n",
    "        elif mid_element == to_search:\n",
    "            return f\"{mid_element} occurs in position {mid_index}\"\n",
    "\n",
    "        elif mid_element > to_search:\n",
    "            new_position = mid_index - 1\n",
    "            last_index = new_position\n",
    "            mid_index = (first_index + last_index) // 2\n",
    "            mid_element = list_num[mid_index]\n",
    "            if mid_element == to_search:\n",
    "                return f\"{mid_element} occurs in position {mid_index}\"\n",
    "\n",
    "        elif mid_element < to_search:\n",
    "            new_position = mid_index + 1\n",
    "            first_index = new_position\n",
    "            last_index = size - 1\n",
    "            mid_index = (first_index + last_index) // 2\n",
    "            mid_element = list_num[mid_index]\n",
    "            if mid_element == to_search:\n",
    "                return f\"{mid_element} occurs in position {mid_index}\"\n",
    "\n",
    "\n",
    "\n",
    "list_container = [16 , 18 , 20 , 50 , 60 , 81 , 84 , 89]\n",
    "print(binary_search(list_container , 81))\n",
    "print(binary_search(list_container , 10))\n"
   ]
  },
  {
   "cell_type": "markdown",
   "id": "4e5428df",
   "metadata": {},
   "source": [
    "## Code implementation for binary search with recursion"
   ]
  },
  {
   "cell_type": "code",
   "execution_count": 4,
   "id": "3c0e7b17",
   "metadata": {},
   "outputs": [
    {
     "name": "stdout",
     "output_type": "stream",
     "text": [
      "34 occurs in position 4\n"
     ]
    }
   ],
   "source": [
    "def binary_search(list_num, first_index, last_index, to_search):\n",
    "    if last_index >= first_index:\n",
    "       \n",
    "        mid_index = (first_index + last_index) // 2\n",
    "        mid_element = list_num[mid_index]\n",
    "       \n",
    " \n",
    "        if mid_element == to_search:\n",
    "            return f\"{mid_element} occurs in position {mid_index}\"\n",
    " \n",
    "        elif mid_element > to_search:\n",
    "            new_position = mid_index - 1\n",
    "            # new last index is the new position\n",
    "            return binary_search(list_num, first_index, new_position, to_search)\n",
    " \n",
    "        elif mid_element < to_search:\n",
    "            new_position = mid_index + 1\n",
    "             # new first index is the new position\n",
    "            return binary_search(list_num, new_position, last_index, to_search)\n",
    " \n",
    "    else:\n",
    "        return \" Does not appear in the list\"\n",
    "       \n",
    "list_container = [ 1, 9, 11, 21, 34, 54, 67, 90 ]\n",
    "search = 34\n",
    "first = 0\n",
    "last= len(list_container) - 1\n",
    " \n",
    "print(binary_search(list_container,first,last,search))"
   ]
  },
  {
   "cell_type": "code",
   "execution_count": null,
   "id": "aadc59eb",
   "metadata": {},
   "outputs": [],
   "source": []
  }
 ],
 "metadata": {
  "kernelspec": {
   "display_name": "Python 3 (ipykernel)",
   "language": "python",
   "name": "python3"
  },
  "language_info": {
   "codemirror_mode": {
    "name": "ipython",
    "version": 3
   },
   "file_extension": ".py",
   "mimetype": "text/x-python",
   "name": "python",
   "nbconvert_exporter": "python",
   "pygments_lexer": "ipython3",
   "version": "3.9.12"
  }
 },
 "nbformat": 4,
 "nbformat_minor": 5
}
