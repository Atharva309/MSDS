{
 "cells": [
  {
   "cell_type": "code",
   "execution_count": 16,
   "id": "2b8c2b35",
   "metadata": {},
   "outputs": [
    {
     "name": "stdout",
     "output_type": "stream",
     "text": [
      "[14, 21, 27, 41, 43, 45, 46, 57, 70]\n"
     ]
    }
   ],
   "source": [
    "def insertion_sort(array):\n",
    "\n",
    "    # Loop from the second element of the array until\n",
    "    # the last element\n",
    "\n",
    "    for i in range(1, len(array)):\n",
    "\n",
    "        # This is the element we want to position in its\n",
    "        # correct place\n",
    "        \n",
    "        key_item = array[i]\n",
    "\n",
    "        # Initialize the variable that will be used to\n",
    "        # find the correct position of the element referenced\n",
    "        # by `key_item`\n",
    "        \n",
    "        j = i - 1\n",
    "    \n",
    "\n",
    "        # Run through the list of items (the left\n",
    "        # portion of the array) and find the correct position\n",
    "        # of the element referenced by `key_item`. Do this only\n",
    "        # if `key_item` is smaller than its adjacent values.\n",
    "\n",
    "        while j >= 0 and array[j] > key_item:\n",
    "\n",
    "            # Shift the value one position to the left\n",
    "            # and reposition j to point to the next element\n",
    "            # (from right to left)\n",
    "            \n",
    "            array[j + 1] = array[j]\n",
    "            j -= 1\n",
    "\n",
    "\n",
    "        # When you finish shifting the elements, you can positio\n",
    "        # `key_item` in its correct location\n",
    "\n",
    "        array[j + 1] = key_item\n",
    "\n",
    "\n",
    "    return array\n",
    "\n",
    "\n",
    "nlist = [14,46,43,27,57,41,45,21,70]\n",
    "insertion_sort(nlist)\n",
    "print(nlist)"
   ]
  },
  {
   "cell_type": "markdown",
   "id": "36a830f6",
   "metadata": {},
   "source": [
    "https://realpython.com/sorting-algorithms-python/#the-insertion-sort-algorithm-in-python"
   ]
  },
  {
   "cell_type": "markdown",
   "id": "8a57bb63",
   "metadata": {},
   "source": [
    "### Below attempt to write code using pseudo code from lecture"
   ]
  },
  {
   "cell_type": "code",
   "execution_count": 36,
   "id": "9cae4292",
   "metadata": {},
   "outputs": [
    {
     "name": "stdout",
     "output_type": "stream",
     "text": [
      "46\n",
      "14\n",
      "46\n",
      "\n",
      "\n",
      "[14, 46, 43, 27, 57, 41, 45, 21, 70]\n"
     ]
    }
   ],
   "source": [
    "def insertion_sort(array):\n",
    "\n",
    "    for i in range(1, len(array)):\n",
    "        \n",
    "        j = i-1\n",
    "        \n",
    "        print(array[i])\n",
    "        print(array[j])\n",
    "        print(array[j+1])\n",
    "        print('\\n')\n",
    "        \n",
    "        if array[j] > array[j+1]:\n",
    "            array[j], array[j+1] = array[j+1], array[j]\n",
    "            \n",
    "        else:\n",
    "            break\n",
    "        \n",
    "nlist = [14,46,43,27,57,41,45,21,70]\n",
    "insertion_sort(nlist)\n",
    "print(nlist)"
   ]
  },
  {
   "cell_type": "markdown",
   "id": "0966dc94",
   "metadata": {},
   "source": [
    "## Insertion Sort from CLRS"
   ]
  },
  {
   "cell_type": "code",
   "execution_count": 2,
   "id": "4aeb2e04",
   "metadata": {},
   "outputs": [
    {
     "name": "stdout",
     "output_type": "stream",
     "text": [
      "[14, 21, 27, 41, 43, 45, 46, 57, 70]\n"
     ]
    }
   ],
   "source": [
    "def insertion_sort(array):\n",
    "    for i in range(0, len(array)-1):\n",
    "        key = array[i]\n",
    "        \n",
    "#         // insert A[i] into the sorted sequence A[1...i-1]\n",
    "        j = i - 1\n",
    "        while j >0 and array[j] > key:\n",
    "            array[j + 1] = array[j]\n",
    "            j = j - 1\n",
    "        array[j+1] = key\n",
    "\n",
    "        \n",
    "nlist = [14,46,43,27,57,41,45,21,70]\n",
    "insertion_sort(nlist)\n",
    "print(nlist)"
   ]
  },
  {
   "cell_type": "code",
   "execution_count": null,
   "id": "e91a1063",
   "metadata": {},
   "outputs": [],
   "source": []
  }
 ],
 "metadata": {
  "kernelspec": {
   "display_name": "Python 3 (ipykernel)",
   "language": "python",
   "name": "python3"
  },
  "language_info": {
   "codemirror_mode": {
    "name": "ipython",
    "version": 3
   },
   "file_extension": ".py",
   "mimetype": "text/x-python",
   "name": "python",
   "nbconvert_exporter": "python",
   "pygments_lexer": "ipython3",
   "version": "3.9.12"
  }
 },
 "nbformat": 4,
 "nbformat_minor": 5
}
