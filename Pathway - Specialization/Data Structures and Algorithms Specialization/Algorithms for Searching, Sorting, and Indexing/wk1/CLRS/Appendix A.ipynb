{
 "cells": [
  {
   "cell_type": "markdown",
   "id": "8d446f3c",
   "metadata": {},
   "source": [
    "## Exercises A.1"
   ]
  },
  {
   "cell_type": "markdown",
   "id": "cb366ac2",
   "metadata": {},
   "source": [
    "A.1-1\n",
    "\n",
    "Find a simple formula for $\\sum_{k=1}^n (2k-1)$"
   ]
  },
  {
   "cell_type": "code",
   "execution_count": null,
   "id": "dfd45396",
   "metadata": {},
   "outputs": [],
   "source": []
  }
 ],
 "metadata": {
  "kernelspec": {
   "display_name": "Python 3 (ipykernel)",
   "language": "python",
   "name": "python3"
  },
  "language_info": {
   "codemirror_mode": {
    "name": "ipython",
    "version": 3
   },
   "file_extension": ".py",
   "mimetype": "text/x-python",
   "name": "python",
   "nbconvert_exporter": "python",
   "pygments_lexer": "ipython3",
   "version": "3.9.12"
  }
 },
 "nbformat": 4,
 "nbformat_minor": 5
}
