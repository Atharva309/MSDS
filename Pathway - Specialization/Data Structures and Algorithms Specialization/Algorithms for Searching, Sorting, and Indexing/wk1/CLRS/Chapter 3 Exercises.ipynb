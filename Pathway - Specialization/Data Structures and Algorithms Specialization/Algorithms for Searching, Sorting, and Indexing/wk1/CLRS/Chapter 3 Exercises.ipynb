{
 "cells": [
  {
   "cell_type": "markdown",
   "id": "1df6f61b",
   "metadata": {},
   "source": [
    "CLRS Chapter 3\n",
    "\n",
    "- 3.1 Asymptotic Notation\n",
    "\n",
    "- 3.2 Standard Notations and Common Functions\n",
    "\n",
    "- Recommended but not required: CLRS Appendix A."
   ]
  },
  {
   "cell_type": "markdown",
   "id": "7c5ec983",
   "metadata": {},
   "source": [
    "## Exercises 3.1"
   ]
  },
  {
   "cell_type": "markdown",
   "id": "bfbd0321",
   "metadata": {},
   "source": [
    "3.1-1\n",
    "\n",
    "Let f(n) and g(n) be asymptotically nonnegative functions. Using the basic definition of ${\\theta}$-notation, prove the max $ (f(n), g(n)) = {\\theta}(f(n) + g(n))$ ."
   ]
  },
  {
   "cell_type": "markdown",
   "id": "04f5486d",
   "metadata": {},
   "source": [
    "---"
   ]
  },
  {
   "cell_type": "markdown",
   "id": "cc0391b3",
   "metadata": {},
   "source": [
    "3.1-2\n",
    "\n",
    "Show that for any real constants a and b, where b > 0,\n",
    "\n",
    "$(n + a)^b = {\\theta}(n^b)$"
   ]
  },
  {
   "cell_type": "markdown",
   "id": "e69f27c6",
   "metadata": {},
   "source": [
    "---"
   ]
  },
  {
   "cell_type": "markdown",
   "id": "47801cd8",
   "metadata": {},
   "source": [
    "3.1-3\n",
    "\n",
    "Explain why the statement, \"The runnin gtime of algorithm A is at least $O(n^2)$,\" is meaningless"
   ]
  },
  {
   "cell_type": "markdown",
   "id": "e52a60f6",
   "metadata": {},
   "source": [
    "---"
   ]
  },
  {
   "cell_type": "markdown",
   "id": "2c0d4762",
   "metadata": {},
   "source": [
    "3.1-4\n",
    "\n",
    "is $2^n+1 = O(2^n)$ ? is $2^2n = O(2^n)?$\n",
    "\n",
    "equations aren't correct n+1 should be raised"
   ]
  },
  {
   "cell_type": "code",
   "execution_count": null,
   "id": "226077f0",
   "metadata": {},
   "outputs": [],
   "source": []
  }
 ],
 "metadata": {
  "kernelspec": {
   "display_name": "Python 3 (ipykernel)",
   "language": "python",
   "name": "python3"
  },
  "language_info": {
   "codemirror_mode": {
    "name": "ipython",
    "version": 3
   },
   "file_extension": ".py",
   "mimetype": "text/x-python",
   "name": "python",
   "nbconvert_exporter": "python",
   "pygments_lexer": "ipython3",
   "version": "3.9.12"
  }
 },
 "nbformat": 4,
 "nbformat_minor": 5
}
