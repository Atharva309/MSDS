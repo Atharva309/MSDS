{
 "cells": [
  {
   "cell_type": "markdown",
   "id": "357bafc2",
   "metadata": {},
   "source": [
    "Assume the following (very simplistic) rules for counting operations in Python programs:\n",
    "\n",
    "- Additions and subtractions each cost 1\n",
    "\n",
    "- Comparisons (a > b) each cost 1\n",
    "\n",
    "- Everything else is free\n",
    "\n",
    "With these rules, what is the cost of calling the following Python program, in terms of n and x?\n",
    "\n",
    "```\n",
    "def fun(n,x):\n",
    "    counter = n\n",
    "    amount = 0\n",
    "    while counter > 0:\n",
    "        amount = amount + x\n",
    "        counter = counter - 1\n",
    "    return amount\n",
    "```"
   ]
  },
  {
   "cell_type": "markdown",
   "id": "8fac1185",
   "metadata": {},
   "source": [
    "### Answer:\n",
    "\n",
    "```\n",
    "3*n+1\n",
    "```\n",
    "\n",
    "Each time the while-loop runs, it makes 1 comparison, 1 addition, and 1 subtraction.  The loop will run n times (for 3n cost), and then it will exit after making a final comparison (for +1 cost).\n",
    "\n",
    "Note that x, the amount being added, does not influence the cost in this example."
   ]
  },
  {
   "cell_type": "code",
   "execution_count": null,
   "id": "837f993c",
   "metadata": {},
   "outputs": [],
   "source": []
  }
 ],
 "metadata": {
  "kernelspec": {
   "display_name": "Python 3 (ipykernel)",
   "language": "python",
   "name": "python3"
  },
  "language_info": {
   "codemirror_mode": {
    "name": "ipython",
    "version": 3
   },
   "file_extension": ".py",
   "mimetype": "text/x-python",
   "name": "python",
   "nbconvert_exporter": "python",
   "pygments_lexer": "ipython3",
   "version": "3.9.12"
  }
 },
 "nbformat": 4,
 "nbformat_minor": 5
}
