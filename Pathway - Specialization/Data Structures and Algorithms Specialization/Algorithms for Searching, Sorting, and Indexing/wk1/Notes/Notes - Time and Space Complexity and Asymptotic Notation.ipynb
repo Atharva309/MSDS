{
 "cells": [
  {
   "cell_type": "markdown",
   "id": "fde94d09",
   "metadata": {},
   "source": [
    "# Time and Space Complexity "
   ]
  },
  {
   "cell_type": "markdown",
   "id": "142f4147",
   "metadata": {},
   "source": [
    "Assume the following (very simplistic) rules for counting operations in Python programs:\n",
    "\n",
    "- Additions and subtractions each cost 1\n",
    "\n",
    "- Comparisons (a > b) each cost 1\n",
    "\n",
    "- Everything else is free\n",
    "\n",
    "With these rules, what is the cost of calling the following Python program, in terms of n and x?\n",
    "\n",
    "```\n",
    "def fun(n,x):\n",
    "    counter = n\n",
    "    amount = 0\n",
    "    while counter > 0:\n",
    "        amount = amount + x\n",
    "        counter = counter - 1\n",
    "    return amount\n",
    "```"
   ]
  },
  {
   "cell_type": "markdown",
   "id": "3b4270c9",
   "metadata": {},
   "source": [
    "### Answer:\n",
    "\n",
    "```\n",
    "3*n+1\n",
    "```\n",
    "\n",
    "Each time the while-loop runs, it makes 1 comparison, 1 addition, and 1 subtraction.  The loop will run n times (for 3n cost), and then it will exit after making a final comparison (for +1 cost).\n",
    "\n",
    "Note that x, the amount being added, does not influence the cost in this example."
   ]
  },
  {
   "cell_type": "markdown",
   "id": "a3b9a6e2",
   "metadata": {},
   "source": [
    "---"
   ]
  },
  {
   "cell_type": "markdown",
   "id": "055e4ddc",
   "metadata": {},
   "source": [
    "Consider the following Python function, which takes a list of strings:\n",
    "\n",
    "```\n",
    "def findHello(messages):\n",
    "    for m in messages:\n",
    "        if m == \"hello\":\n",
    "            return True\n",
    "    \n",
    "    return False\n",
    "```\n",
    "\n",
    "\n",
    "Assuming that comparison (a == b) costs 1 and everything else is free, which of the following inputs for 'messages' is gives the worst-case cost?\n",
    "\n",
    "Note that the values have different costs even though they all have the same length\n",
    "\n",
    "A. messages = [\"world\",\"goodbye\",\"banana\"]\n",
    "\n",
    "B. messages = [\"hello\",\"goodbye\",\"world\"]\n",
    " \n",
    "C. messages = [\"world\",\"hello\",\"goodbye\"]"
   ]
  },
  {
   "cell_type": "markdown",
   "id": "fdd1531a",
   "metadata": {},
   "source": [
    "### Answer:\n",
    "\n",
    "messages = [\"world\",\"goodbye\",\"banana\"]\n",
    "\n",
    "For this value, the loop must run for every message in the list before finally returning False, giving a cost of len(messages).\n",
    "\n",
    "In fact, the cost len(messages) is the worst case for any input of any length."
   ]
  },
  {
   "cell_type": "markdown",
   "id": "b3038ad1",
   "metadata": {},
   "source": [
    "---"
   ]
  },
  {
   "cell_type": "markdown",
   "id": "8829112d",
   "metadata": {},
   "source": [
    "# Asymptotic Notation"
   ]
  },
  {
   "cell_type": "markdown",
   "id": "4de8aa6b",
   "metadata": {},
   "source": [
    "Consider the same operation-counting rules and Python program we saw in the last video's question:\n",
    "\n",
    "- Each addition and subtraction costs 1\n",
    "\n",
    "- Each comparison (a > b) costs 1\n",
    "\n",
    "- Everything else is free\n",
    "    \n",
    "    \n",
    "```\n",
    "def fun(n,x):\n",
    "    counter = n\n",
    "    amount = 0\n",
    "    while counter > 0:\n",
    "        amount = amount + x\n",
    "        counter = counter - 1\n",
    "    return amount\n",
    "```\n",
    "\n",
    "As we saw before, the cost of calling this function, by the above rules, is 3n + 1.\n",
    "\n",
    "What is the smallest expression g such that the cost of calling the function is O(g)?\n"
   ]
  },
  {
   "cell_type": "markdown",
   "id": "6a86f25d",
   "metadata": {},
   "source": [
    "### Answer: \n",
    "\n",
    "By the definition of O(g), we can choose any K to multiply against g before comparing it to the complete cost.  If we choose K=4, then K*g is 4n, which is equal to the complete cost 3n + 1.\n",
    "\n",
    "Intuitively, this says that the important \"bottleneck\" of the function is that something has to happen n times.  Different processors might make each loop run more or less expensive, but the number of runs is always the same."
   ]
  },
  {
   "cell_type": "markdown",
   "id": "adb950d9",
   "metadata": {},
   "source": [
    "---\n"
   ]
  },
  {
   "cell_type": "markdown",
   "id": "a9ba5402",
   "metadata": {},
   "source": [
    "## Caveat at 22:28 from lecture\n",
    "\n",
    "The caveat is very important and is explained in a \"supplementary lecture\" on Pitfalls and Logarithms. Briefly, you cannot strike out constants in front of exponents. \n",
    "\n",
    "For instance, take the function 2.5×24x2.5×24x. You can definitely \"ignore\" the constant 2.52.5 but the base of the exponent 22 and the 44 in front of xx matter. \n",
    "\n",
    "For instance, suppose we write 2x=k(x)2x=k(x) then we will note that 24x24x is actually (k(x))4(k(x))4. You cannot ignore the constant 44 in the exponent. As a result, it is wrong to say 2x=Θ(24x)2x=Θ(24x) since they are not \"within\" constant factors of each other: not when that constant factor is in the exponent."
   ]
  },
  {
   "cell_type": "code",
   "execution_count": 13,
   "id": "fa0fa66d",
   "metadata": {},
   "outputs": [
    {
     "name": "stdout",
     "output_type": "stream",
     "text": [
      "253000142.0\n"
     ]
    }
   ],
   "source": [
    "n = 100\n",
    "X = 2.5 * (n ** 4) + 3 * (n ** 3) + 1.4 * n + 2\n",
    "print(X)\n"
   ]
  },
  {
   "cell_type": "code",
   "execution_count": 12,
   "id": "8cbf571c",
   "metadata": {},
   "outputs": [
    {
     "name": "stdout",
     "output_type": "stream",
     "text": [
      "300000\n"
     ]
    }
   ],
   "source": [
    "n = 100\n",
    "\n",
    "Y = 2000 * (n) + 100000\n",
    "print(Y)"
   ]
  },
  {
   "cell_type": "code",
   "execution_count": 14,
   "id": "62f2e2be",
   "metadata": {},
   "outputs": [
    {
     "name": "stdout",
     "output_type": "stream",
     "text": [
      "16.8\n"
     ]
    }
   ],
   "source": [
    "n = 2\n",
    "\n",
    "z = 1.5 * (2 * (2 ** n)) + 1.2 * (n ** 2)\n",
    "print(z)"
   ]
  },
  {
   "cell_type": "code",
   "execution_count": 15,
   "id": "e8bcf198",
   "metadata": {},
   "outputs": [
    {
     "data": {
      "text/plain": [
       "1024"
      ]
     },
     "execution_count": 15,
     "metadata": {},
     "output_type": "execute_result"
    }
   ],
   "source": [
    "2**10"
   ]
  },
  {
   "cell_type": "code",
   "execution_count": 16,
   "id": "e2342b80",
   "metadata": {},
   "outputs": [
    {
     "data": {
      "text/plain": [
       "100"
      ]
     },
     "execution_count": 16,
     "metadata": {},
     "output_type": "execute_result"
    }
   ],
   "source": [
    "10**2"
   ]
  },
  {
   "cell_type": "code",
   "execution_count": 17,
   "id": "78fa4d70",
   "metadata": {},
   "outputs": [
    {
     "data": {
      "text/plain": [
       "1267650600228229401496703205376"
      ]
     },
     "execution_count": 17,
     "metadata": {},
     "output_type": "execute_result"
    }
   ],
   "source": [
    "2**100"
   ]
  },
  {
   "cell_type": "code",
   "execution_count": 18,
   "id": "283016c3",
   "metadata": {},
   "outputs": [
    {
     "data": {
      "text/plain": [
       "10000"
      ]
     },
     "execution_count": 18,
     "metadata": {},
     "output_type": "execute_result"
    }
   ],
   "source": [
    "100**2"
   ]
  },
  {
   "cell_type": "code",
   "execution_count": null,
   "id": "dee83437",
   "metadata": {},
   "outputs": [],
   "source": []
  }
 ],
 "metadata": {
  "kernelspec": {
   "display_name": "Python 3 (ipykernel)",
   "language": "python",
   "name": "python3"
  },
  "language_info": {
   "codemirror_mode": {
    "name": "ipython",
    "version": 3
   },
   "file_extension": ".py",
   "mimetype": "text/x-python",
   "name": "python",
   "nbconvert_exporter": "python",
   "pygments_lexer": "ipython3",
   "version": "3.9.12"
  }
 },
 "nbformat": 4,
 "nbformat_minor": 5
}
