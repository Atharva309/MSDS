{
 "cells": [
  {
   "cell_type": "markdown",
   "id": "514946b1",
   "metadata": {},
   "source": [
    "#### Total Order?\n",
    "\n",
    "Mathematically speaking,  total ordering is a relation  <= among the elements in a set with the following properties:\n",
    "\n",
    " - It is \"reflexive\" : i.e, a <= a for all elements a.\n",
    "\n",
    "- It is \"transitive\" : i.e, if a <= b and b <= c then a <= c\n",
    "\n",
    "- It is \"anti-symmetric\" : i.e, if a <= b and b <= a then a = b\n",
    "\n",
    "- It is \"total\" : for any two elements a, b it is the case that a <= b or b <= a."
   ]
  },
  {
   "cell_type": "markdown",
   "id": "34289e0e",
   "metadata": {},
   "source": [
    "#### The Tyranny of Array Indexing.\n",
    "\n",
    "Many programming languages such as C/C++ and Python index arrays starting from 0.  In python, an array a of length 10 will have indices a[0], .., a[9]. It is important that we not access a[10] as it will cause what is called an \"out of bounds access\". These kinds of accesses will lead to code crashes through exceptions in python but in languages like C they may be the cause of serious security vulnerabilities called \"buffer overflow attacks\". It is important to be very careful when handling arrays to be very sure that no such out of bounds accesses are possible in our code."
   ]
  },
  {
   "cell_type": "code",
   "execution_count": null,
   "id": "054eeb42",
   "metadata": {},
   "outputs": [],
   "source": []
  }
 ],
 "metadata": {
  "kernelspec": {
   "display_name": "Python 3 (ipykernel)",
   "language": "python",
   "name": "python3"
  },
  "language_info": {
   "codemirror_mode": {
    "name": "ipython",
    "version": 3
   },
   "file_extension": ".py",
   "mimetype": "text/x-python",
   "name": "python",
   "nbconvert_exporter": "python",
   "pygments_lexer": "ipython3",
   "version": "3.9.12"
  }
 },
 "nbformat": 4,
 "nbformat_minor": 5
}
