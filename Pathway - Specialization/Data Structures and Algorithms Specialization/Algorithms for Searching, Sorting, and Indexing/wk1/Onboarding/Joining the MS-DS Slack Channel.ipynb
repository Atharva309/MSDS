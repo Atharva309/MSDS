{
 "cells": [
  {
   "cell_type": "markdown",
   "id": "083d26fc",
   "metadata": {},
   "source": [
    "\n",
    "If you haven't already joined the MS-DS slack channel, please see the information below on how to create a Sack account and/or join the MS-DS Slack channel.\n",
    "What is Slack?\n",
    "\n",
    "Slack is a cloud-based instant messaging and collaboration system. You can think of it as a chat room that offers features and functionalities beyond what a chat room traditionally does. Slack allows you to join and create channels to organize your group conversations. You can also send instant and direct messages to one person instead of a group.\n",
    "\n",
    "In summary, Slack is a synchronous communication tool where you can chat with your classmates in real-time.\n",
    "How can I set up my Slack account?\n",
    "\n",
    "Sign up for a free Slack account. When you register, please use your first.last@colorado.edu email address. Other emails will not work.\n",
    "\n",
    "If you have any issues with setting up your Slack account, please email msds-support@colorado.edu.\n",
    "\n",
    "Log in directly to cubouldermsds.slack.com using your first.last@colorado.edu email address. (Make sure you are logged out of all other Slack accounts and workspaces first.)\n",
    "\n",
    "How is Slack used in the program?\n",
    "\n",
    "Slack is a tool for you to get to know your peers and build community within the MS-DS program. We have already added you to the following Slack channels to get started:\n",
    "\n",
    "    #general – Communication and announcements for MS-DS on Coursera\n",
    "\n",
    "    #random – Non-class banter and networking\n",
    "\n",
    "Each degree course has a public channel in Slack that you can join to chat in real-time with all your classmates (e.g., #dtsa-5302 or #dtsa-5501). Note that course staff will not be available via Slack.\n",
    "\n",
    "Please log in directly to cubouldermsds.slack.com\n",
    " using your @colorado.edu email address. We'll see you there and look forward to your participation in Slack! "
   ]
  },
  {
   "cell_type": "code",
   "execution_count": null,
   "id": "885e3366",
   "metadata": {},
   "outputs": [],
   "source": []
  }
 ],
 "metadata": {
  "kernelspec": {
   "display_name": "Python 3 (ipykernel)",
   "language": "python",
   "name": "python3"
  },
  "language_info": {
   "codemirror_mode": {
    "name": "ipython",
    "version": 3
   },
   "file_extension": ".py",
   "mimetype": "text/x-python",
   "name": "python",
   "nbconvert_exporter": "python",
   "pygments_lexer": "ipython3",
   "version": "3.9.12"
  }
 },
 "nbformat": 4,
 "nbformat_minor": 5
}
