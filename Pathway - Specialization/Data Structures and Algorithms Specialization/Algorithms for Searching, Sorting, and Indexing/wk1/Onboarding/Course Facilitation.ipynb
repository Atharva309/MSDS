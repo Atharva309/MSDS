{
 "cells": [
  {
   "cell_type": "markdown",
   "id": "f91719cc",
   "metadata": {},
   "source": [
    "\n",
    "Meet your course facilitators for Algorithms for Searching, Sorting, and Indexing! They will be available to assist you during your learning experience by moderating discussion forums, answering questions, and offering weekly office hours over Zoom. Please click \"Live Events\" in the course menu on the left to participate in office hours.\n",
    "\n",
    "To contact your course facilitator, please email: msds-support@colorado.edu only using your colorado.edu mail.\n",
    "Rakshith Jayanna\n",
    "\n",
    "Rakshith Jayanna is pursuing his Master's degree in Computer Science at the University of Colorado Boulder. He has a professional experience of 3 years as a Software Developer. He has hands-on experience in Mobile apps, NLP, and web development. In his spare time, he enjoys playing soccer, cycling, and running.\n",
    "\n",
    "### Office Hours: \n",
    "\n",
    "- Mondays - 11am to 12pm (MT)\n",
    "- Thursdays - 5pm to 6pm (MT) \n",
    "                                                                        "
   ]
  },
  {
   "cell_type": "code",
   "execution_count": null,
   "id": "48ceddad",
   "metadata": {},
   "outputs": [],
   "source": []
  }
 ],
 "metadata": {
  "kernelspec": {
   "display_name": "Python 3 (ipykernel)",
   "language": "python",
   "name": "python3"
  },
  "language_info": {
   "codemirror_mode": {
    "name": "ipython",
    "version": 3
   },
   "file_extension": ".py",
   "mimetype": "text/x-python",
   "name": "python",
   "nbconvert_exporter": "python",
   "pygments_lexer": "ipython3",
   "version": "3.9.12"
  }
 },
 "nbformat": 4,
 "nbformat_minor": 5
}
