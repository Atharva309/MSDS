{
 "cells": [
  {
   "cell_type": "markdown",
   "id": "43142333",
   "metadata": {},
   "source": [
    "The very first module will introduce you to the technicalities of algorithms. This is in fact one of the longest modules by far in the entire specialization since there is a lot to do before we begin. \n",
    "\n",
    "- We will look into insertion sort in great detail as a motivating algorithm for sorting. \n",
    "\n",
    "- We will look at how computer scientists think about the running time of algorithms and look at asymptotic notation as a computer architecture/language/operating system independent means of evaluating algorithms.\n",
    "\n",
    "- We will define worst case complexity.\n",
    "\n",
    "- We will look at the asymptotic notation.\n",
    "\n",
    "- We will study what it means to rigorously prove correctness of an algorithm through establishing inductive invariants that hold during the execution of the algorithm.\n",
    "\n",
    "- We will study two algorithms: mergesort and binary search in this manner.\n",
    "\n",
    "#### Assignments\n",
    "\n",
    "- We will have quizzes after most of the lessons in this module. These quizzes are choose the correct answer style and you will have unlimited attempts to solve them/get them right.\n",
    "Programming Assignment\n",
    "\n",
    "- We will have a programming assignment that will help you approach the development of algorithms related to what we study in this module. "
   ]
  },
  {
   "cell_type": "code",
   "execution_count": null,
   "id": "6d302ac3",
   "metadata": {},
   "outputs": [],
   "source": []
  }
 ],
 "metadata": {
  "kernelspec": {
   "display_name": "Python 3 (ipykernel)",
   "language": "python",
   "name": "python3"
  },
  "language_info": {
   "codemirror_mode": {
    "name": "ipython",
    "version": 3
   },
   "file_extension": ".py",
   "mimetype": "text/x-python",
   "name": "python",
   "nbconvert_exporter": "python",
   "pygments_lexer": "ipython3",
   "version": "3.9.12"
  }
 },
 "nbformat": 4,
 "nbformat_minor": 5
}
