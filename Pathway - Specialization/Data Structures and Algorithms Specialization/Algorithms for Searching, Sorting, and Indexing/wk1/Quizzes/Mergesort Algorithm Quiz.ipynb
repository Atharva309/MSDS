{
 "cells": [
  {
   "cell_type": "markdown",
   "id": "93e209d1",
   "metadata": {},
   "source": [
    "## 1. Consider the merge algorithm for merging two sorted arrays into one single sorted array."
   ]
  },
  {
   "cell_type": "markdown",
   "id": "4647758f",
   "metadata": {},
   "source": [
    "```\n",
    "def merge(a, b): \n",
    "    n = len(a)\n",
    "    m = len(b)\n",
    "    i = 0\n",
    "    j = 0\n",
    "    c = []\n",
    "    while ( i < n and j < m):\n",
    "        if a[i] <= b[j]:\n",
    "            c.append(a[i])\n",
    "            i = i + 1\n",
    "        else: \n",
    "            c.append(b[j])\n",
    "            j = j + 1\n",
    "    while i < n: \n",
    "        c.append(a[i])\n",
    "        i = i + 1\n",
    "    while j < m:\n",
    "        c.append(b[j])\n",
    "        j = j + 1\n",
    "    return c\n",
    "```"
   ]
  },
  {
   "cell_type": "markdown",
   "id": "0d0957b0",
   "metadata": {},
   "source": [
    "Select all the correct facts from the list below."
   ]
  },
  {
   "cell_type": "markdown",
   "id": "ac2269b8",
   "metadata": {},
   "source": [
    "- The size of the returned array cc is m+nm+n.\n",
    "- The merge algorithm runs in time Θ(m+n).\n",
    "- If the loop in lines 14-16 execute for at least one iteration, then the loop in lines 17-19 will execute for zero iterations\n",
    "- Whenever line 7 is reached during the execution of the algorithm, the array cc is in fact the merge of the sub-arrays a[0,…,i−1] and b[0,…,j−1].\n",
    "- Whenever line 7 is reached during the execution of the algorithm and j<mj<m, the element b[j] is greater than or equal to every element of the array cc.\n",
    "- Whenever line 17 is reached during the execution, the array cc is the merge of the entire array aa and the subarray b[0,...,j−1]."
   ]
  },
  {
   "cell_type": "markdown",
   "id": "e00ad7a7",
   "metadata": {},
   "source": [
    "---"
   ]
  },
  {
   "cell_type": "markdown",
   "id": "6c151504",
   "metadata": {},
   "source": [
    "## 2. Consider the recursive implementation of mergesort algorithm:"
   ]
  },
  {
   "cell_type": "markdown",
   "id": "3dd4ab1b",
   "metadata": {},
   "source": [
    "```\n",
    " def mergesort(a, left, right):\n",
    "    if right <= left: \n",
    "        return # Nothing to do -- base case\n",
    "    mid = (left + right)//2 # In python // is integer division (and round down to nearest integer)\n",
    "    mergesort(a, left, mid) # recursively sort a from left..mid (inclusive)\n",
    "    mergesort(a, mid + 1 , right) # recursively sort a from mid+1... right\n",
    "    mergeAndCopyBack(a, left, mid, right ) # runs in time Theta(right - left + 1)\n",
    "    # mergeAndCopyBack will copy back the merge of \n",
    "    # a[left...mid] and a[mid+1...right] into a[left...right]\n",
    "```"
   ]
  },
  {
   "cell_type": "markdown",
   "id": "acb0691b",
   "metadata": {},
   "source": [
    "The size region to sort for a call with indices left, right is given by (right - left + 1).\n",
    "\n",
    "Given an array a, we call mergesort(a, 0, len(a) -1).\n",
    "\n",
    "Select all the correct facts from the list below."
   ]
  },
  {
   "cell_type": "markdown",
   "id": "b2d14335",
   "metadata": {},
   "source": [
    "- If k=(right−left+1)is the size of the region to be sorted, then the recursive calls in lines 5 and 6 will involve regions of size at most (k+1)/2.\n",
    "- If the size of the initial array to be sorted is 256 (2^8) then the size of the regions to sort recursive calls in lines 5/6 is 128."
   ]
  },
  {
   "cell_type": "code",
   "execution_count": null,
   "id": "19d16cc0",
   "metadata": {},
   "outputs": [],
   "source": []
  }
 ],
 "metadata": {
  "kernelspec": {
   "display_name": "Python 3 (ipykernel)",
   "language": "python",
   "name": "python3"
  },
  "language_info": {
   "codemirror_mode": {
    "name": "ipython",
    "version": 3
   },
   "file_extension": ".py",
   "mimetype": "text/x-python",
   "name": "python",
   "nbconvert_exporter": "python",
   "pygments_lexer": "ipython3",
   "version": "3.9.12"
  }
 },
 "nbformat": 4,
 "nbformat_minor": 5
}
