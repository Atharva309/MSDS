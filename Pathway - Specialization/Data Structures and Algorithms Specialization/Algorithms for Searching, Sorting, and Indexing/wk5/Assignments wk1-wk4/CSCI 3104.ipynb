{
 "cells": [
  {
   "cell_type": "markdown",
   "id": "49a50a55",
   "metadata": {},
   "source": [
    "(5 pts) You are given a list of jobs with start and end times. Assume that only one job can be executed at a time on a processor. Your task is to  nd out the minimum number of processors required so that the jobs are executed as soon as they arrive (no waiting time for a process). The input to your algorithm will be a list of tuples indicating the start and end times of the respective jobs. The output should be a number indicating the minimum number of processors required. Your algorithm should have a runtime of O(n log(n)), where n is the number of jobs. Assume you do not have access to any auxiliary functions.\n",
    "\n",
    "Example\n",
    "\n",
    "Input: (2; 10); (9; 11); (15; 18); (3; 4); (17; 19); (5; 13)\n",
    "\n",
    "Output: 3\n",
    "\n",
    "\n",
    "Explanation: Between the interval (9; 10) it can be seen that there will be 3 f (2, 10)\n",
    ", (9, 11), (5, 13)g jobs that need to be executed simultaneously. Thus at the very least 3 processors are required."
   ]
  },
  {
   "cell_type": "markdown",
   "id": "440dfb83",
   "metadata": {},
   "source": [
    "(a) (4 pts) Write down well commented pseudo-code or paste real code to solve the above problem.\n",
    "\n",
    "ANSWER:\n",
    "```\n",
    "//define function\n",
    "def maxOverlap(jobs):\n",
    "\n",
    "    //define variables\n",
    "    //max\n",
    "    maxO = 0\n",
    "    \n",
    "    //count\n",
    "    count = 0\n",
    "    \n",
    "    //temp array vector\n",
    "    tempA[]\n",
    "    \n",
    "    //fill temp array vector with coordinates\n",
    "    for i in range(len(jobs)):\n",
    "    \n",
    "        //add the all of the start times\n",
    "        tempA.append([v[i][0], 'x'])\n",
    "        \n",
    "        //add all of the end times\n",
    "        tempA.append([v[i][1], 'y])\n",
    "        \n",
    "        //sirt the array\n",
    "        tempA = sorted(tempA)\n",
    "        \n",
    "        //traverse the temp array vector\n",
    "        //count the number of overlaps\n",
    "        for j in range(len(tempA)):\n",
    "        \n",
    "            //if x occurs, a new range of s is identified\n",
    "            //increase count by 1\n",
    "            if(tempA[i][1] == 'x'):\n",
    "                count++\n",
    "                \n",
    "            //if y occurs, the range has ended\n",
    "            //decrease count by 1\n",
    "            if(tempA[i][1] == 'y'):\n",
    "                count--\n",
    "                \n",
    "            //update maxO for every loop\n",
    "            //use max function to find that maximum\n",
    "            maxO = max(maxO, count)\n",
    "            \n",
    "    //output is maxO when loops have complete\n",
    "    print(maxO)\n",
    "    \n",
    "```"
   ]
  },
  {
   "cell_type": "code",
   "execution_count": 1,
   "id": "02682285",
   "metadata": {},
   "outputs": [
    {
     "name": "stdout",
     "output_type": "stream",
     "text": [
      "3\n"
     ]
    }
   ],
   "source": [
    "def min_processors(jobs):\n",
    "    temp = []\n",
    "    for job in jobs:\n",
    "        temp.append((job[0], 'start'))\n",
    "        temp.append((job[1], 'end'))\n",
    "\n",
    "    temp.sort()\n",
    "    count = 0\n",
    "    max_processors = 0\n",
    "\n",
    "    for item in temp:\n",
    "        if item[1] == 'start':\n",
    "            count += 1\n",
    "        else:\n",
    "            count -= 1\n",
    "        max_processors = max(max_processors, count)\n",
    "\n",
    "    return max_processors\n",
    "\n",
    "# Example usage\n",
    "jobs = [(2, 10), (9, 11), (15, 18), (3, 4), (17, 19), (5, 13)]\n",
    "result = min_processors(jobs)\n",
    "print(result)\n"
   ]
  },
  {
   "cell_type": "code",
   "execution_count": null,
   "id": "caadcb06",
   "metadata": {},
   "outputs": [],
   "source": []
  }
 ],
 "metadata": {
  "kernelspec": {
   "display_name": "Python 3 (ipykernel)",
   "language": "python",
   "name": "python3"
  },
  "language_info": {
   "codemirror_mode": {
    "name": "ipython",
    "version": 3
   },
   "file_extension": ".py",
   "mimetype": "text/x-python",
   "name": "python",
   "nbconvert_exporter": "python",
   "pygments_lexer": "ipython3",
   "version": "3.9.12"
  }
 },
 "nbformat": 4,
 "nbformat_minor": 5
}
