{
 "cells": [
  {
   "cell_type": "markdown",
   "id": "32e451eb",
   "metadata": {},
   "source": [
    "## Constant Time: O(1)\n",
    "\n",
    "When your algorithm is not dependent on the input size n, it is said to have a constant time complexity with order O(1). This means that the run time will always be the same regardless of the input size.\n",
    "\n",
    "```\n",
    "const firstElement = (array) => {\n",
    "  return array[0];\n",
    "};\n",
    "\n",
    "let score = [12, 55, 67, 94, 22];\n",
    "console.log(firstElement(score)); // 12\n",
    "```\n",
    "\n",
    "The function above will require only one execution step, meaning the function is in constant time with time complexity O(1)."
   ]
  },
  {
   "cell_type": "markdown",
   "id": "cc827a08",
   "metadata": {},
   "source": [
    "## Linear Time: O(n)\n",
    "\n",
    "You get linear time complexity when the running time of an algorithm increases linearly with the size of the input. This means that when a function has an iteration that iterates over an input size of n, it is said to have a time complexity of order O(n).\n",
    "\n",
    "```\n",
    "const calcFactorial = (n) => {\n",
    "  let factorial = 1;\n",
    "  for (let i = 2; i <= n; i++) {\n",
    "    factorial = factorial * i;\n",
    "  }\n",
    "  return factorial;\n",
    "};\n",
    "\n",
    "console.log(calcFactorial(5)); // 120\n",
    "```\n",
    "\n",
    "The fact that the runtime depends on the input size means that the time complexity is linear with the order O(n)."
   ]
  },
  {
   "cell_type": "markdown",
   "id": "5fdc9201",
   "metadata": {},
   "source": [
    "## Logarithm Time: O(log n)\n",
    "\n",
    "This is similar to linear time complexity, except that the runtime does not depend on the input size but rather on half the input size. When the input size decreases on each iteration or step, an algorithm is said to have logarithmic time complexity.\n",
    "\n",
    "\n",
    "```\n",
    "const binarySearch = (array, target) => {\n",
    "  let firstIndex = 0;\n",
    "  let lastIndex = array.length - 1;\n",
    "  while (firstIndex <= lastIndex) {\n",
    "    let middleIndex = Math.floor((firstIndex + lastIndex) / 2);\n",
    "\n",
    "    if (array[middleIndex] === target) {\n",
    "      return middleIndex;\n",
    "    }\n",
    "\n",
    "    if (array[middleIndex] > target) {\n",
    "      lastIndex = middleIndex - 1;\n",
    "    } else {\n",
    "      firstIndex = middleIndex + 1;\n",
    "    }\n",
    "  }\n",
    "  return -1;\n",
    "};\n",
    "\n",
    "let score = [12, 22, 45, 67, 96];\n",
    "console.log(binarySearch(score, 96));\n",
    "```\n",
    "\n",
    "In the code above, since it is a binary search, you first get the middle index of your array, compare it to the target value, and return the middle index if it is equal. Otherwise, you must check if the target value is greater or less than the middle value to adjust the first and last index, reducing the input size by half.\n",
    "\n",
    "Because for every iteration the input size reduces by half, the time complexity is logarithmic with the order O(log n)."
   ]
  },
  {
   "cell_type": "markdown",
   "id": "78805f9a",
   "metadata": {},
   "source": [
    "## Quadratic Time: O(n^2)\n",
    "\n",
    "When you perform nested iteration, meaning having a loop in a loop, the time complexity is quadratic, which is horrible.\n",
    "\n",
    "A perfect way to explain this would be if you have an array with n items. The outer loop will run n times, and the inner loop will run n times for each iteration of the outer loop, which will give total n^2 prints. If the array has ten items, ten will print 100 times (10^2).\n",
    "\n",
    "```\n",
    "const matchElements = (array) => {\n",
    "  for (let i = 0; i < array.length; i++) {\n",
    "    for (let j = 0; j < array.length; j++) {\n",
    "      if (i !== j && array[i] === array[j]) {\n",
    "        return `Match found at ${i} and ${j}`;\n",
    "      }\n",
    "    }\n",
    "  }\n",
    "  return \"No matches found 😞\";\n",
    "};\n",
    "\n",
    "const fruit = [\"🍓\", \"🍐\", \"🍊\", \"🍌\", \"🍍\", \"🍑\", \"🍎\", \"🍈\", \"🍊\", \"🍇\"];\n",
    "console.log(matchElements(fruit)); // \"Match found at 2 and 8\"\n",
    "```\n",
    "\n",
    "\n",
    "In the example above, there is a nested loop, meaning that the time complexity is quadratic with the order O(n^2)."
   ]
  },
  {
   "cell_type": "markdown",
   "id": "7a5975a6",
   "metadata": {},
   "source": [
    "## Exponential Time: O(2^n)\n",
    "\n",
    "You get exponential time complexity when the growth rate doubles with each addition to the input (n), often iterating through all subsets of the input elements. Any time an input unit increases by 1, the number of operations executed is doubled.\n",
    "\n",
    "The recursive Fibonacci sequence is a good example. Assume you're given a number and want to find the nth element of the Fibonacci sequence.\n",
    "\n",
    "```\n",
    "const recursiveFibonacci = (n) => {\n",
    "  if (n < 2) {\n",
    "    return n;\n",
    "  }\n",
    "  return recursiveFibonacci(n - 1) + recursiveFibonacci(n - 2);\n",
    "};\n",
    "\n",
    "console.log(recursiveFibonacci(6)); // 8\n",
    "```\n",
    "\n",
    "In the code above, the algorithm specifies a growth rate that doubles every time the input data set is added. This means the time complexity is exponential with an order O(2^n)."
   ]
  },
  {
   "cell_type": "markdown",
   "id": "5f79e2c9",
   "metadata": {},
   "source": [
    "https://www.freecodecamp.org/news/big-o-cheat-sheet-time-complexity-chart/"
   ]
  },
  {
   "cell_type": "markdown",
   "id": "0445e097",
   "metadata": {},
   "source": [
    "## Useful LInks\n",
    "- https://www.baeldung.com/cs/big-oh-asymptotic-complexity\n",
    "- https://skerritt.blog/big-o/\n",
    "- https://codeburst.io/7-helpful-time-complexities-4c6c0d6df645\n",
    "- https://hackernoon.com/a-beginners-guide-to-the-big-o-notation-yb7332wf\n",
    "- https://math.libretexts.org/Courses/Saint_Mary%27s_College_Notre_Dame_IN/SMC%3A_MATH_339_-_Discrete_Mathematics_(Rohatgi)/Text/4%3A_Algorithms/4.1%3A_Big-O_Notation"
   ]
  },
  {
   "cell_type": "code",
   "execution_count": null,
   "id": "ba5d2108",
   "metadata": {},
   "outputs": [],
   "source": []
  }
 ],
 "metadata": {
  "kernelspec": {
   "display_name": "Python 3 (ipykernel)",
   "language": "python",
   "name": "python3"
  },
  "language_info": {
   "codemirror_mode": {
    "name": "ipython",
    "version": 3
   },
   "file_extension": ".py",
   "mimetype": "text/x-python",
   "name": "python",
   "nbconvert_exporter": "python",
   "pygments_lexer": "ipython3",
   "version": "3.9.12"
  }
 },
 "nbformat": 4,
 "nbformat_minor": 5
}
