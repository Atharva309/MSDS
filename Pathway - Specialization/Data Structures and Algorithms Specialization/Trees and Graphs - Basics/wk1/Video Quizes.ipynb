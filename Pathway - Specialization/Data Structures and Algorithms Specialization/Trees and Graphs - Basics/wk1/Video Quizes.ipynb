{
 "cells": [
  {
   "cell_type": "markdown",
   "id": "8df5b287",
   "metadata": {},
   "source": [
    "Binary Search Trees may look similar to Heaps, but it is important to consider their differences.\n",
    "In a Min-Heap, the smallest element must be the root node of the tree.\n",
    "In a Binary Search Tree, on the other hand, how would we find the smallest element?\n",
    "\n",
    "    - From the root node, continue stepping to the left child until we reach a node with a NIL as its left child."
   ]
  },
  {
   "cell_type": "code",
   "execution_count": null,
   "id": "7b0182e2",
   "metadata": {},
   "outputs": [],
   "source": []
  }
 ],
 "metadata": {
  "kernelspec": {
   "display_name": "Python 3 (ipykernel)",
   "language": "python",
   "name": "python3"
  },
  "language_info": {
   "codemirror_mode": {
    "name": "ipython",
    "version": 3
   },
   "file_extension": ".py",
   "mimetype": "text/x-python",
   "name": "python",
   "nbconvert_exporter": "python",
   "pygments_lexer": "ipython3",
   "version": "3.9.12"
  }
 },
 "nbformat": 4,
 "nbformat_minor": 5
}
