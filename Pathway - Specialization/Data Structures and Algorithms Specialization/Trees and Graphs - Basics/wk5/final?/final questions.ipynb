{
 "cells": [
  {
   "cell_type": "markdown",
   "id": "deb7c619",
   "metadata": {},
   "source": [
    "## Final Exam Instructions\n",
    "\n",
    "Instructions are provided as part of a reading along with this final exam. Please ensure that you have read them carefully before attempting this exam.\n",
    "\n",
    "### Problem 1 (15 points)\n",
    "\n",
    "In this problem, you are given a binary search tree whose keys are numbers. We would like to convert it to a list of all nodes with keys at depth 1 (root), depth 2 (children of root), and so on. At each depth, the keys must appear from left to right.\n",
    "\n",
    "The example below will clarify the problem.\n",
    "\n",
    "#### Example\n",
    "\n",
    "Consider the BST below as input:\n",
    "<img src=\"attachment:tree1.png\" width=\"25%\"/>\n",
    "\n",
    "You will need to output the list\n",
    "~~~\n",
    "[11, 4, 18, 15, 21, 13, 17]\n",
    "~~~\n",
    "\n",
    "Your algorithm should work in time that is linear in the number of nodes of the tree.\n",
    "\n",
    "For your convenience, we have given you a binary search tree data structure `class TreeNode` with functions for insertion. Please complete the implementation of the `depthWiseTraverse` function.\n",
    "\n",
    "**Hint** Try doing a breadth first search on a tree. You can use a python list as a \"FIFO\" (first in first out) queue to implement BFS.\n",
    "\n"
   ]
  },
  {
   "cell_type": "code",
   "execution_count": 1,
   "id": "df7187fb",
   "metadata": {},
   "outputs": [
    {
     "ename": "IndentationError",
     "evalue": "expected an indented block (1676883648.py, line 74)",
     "output_type": "error",
     "traceback": [
      "\u001b[0;36m  File \u001b[0;32m\"/var/folders/j_/555m2zps099832fjh_m8jjnc0000gn/T/ipykernel_77016/1676883648.py\"\u001b[0;36m, line \u001b[0;32m74\u001b[0m\n\u001b[0;31m    \u001b[0m\n\u001b[0m    ^\u001b[0m\n\u001b[0;31mIndentationError\u001b[0m\u001b[0;31m:\u001b[0m expected an indented block\n"
     ]
    }
   ],
   "source": [
    "class TreeNode:\n",
    "    # Constructor for tree nodde\n",
    "    def __init__(self, key, parent_node=None):\n",
    "        self.key = key # set the key\n",
    "        self.parent = parent_node # set the parent_node\n",
    "        self.left = None # set the left child to None -- no left child to begin with\n",
    "        self.right = None # set the right child to None - no right child to begin with.\n",
    "    \n",
    "    def is_root(self):\n",
    "        return parent_node == None\n",
    "    \n",
    "    # Function: insert\n",
    "    # insert a node with key `new_key` into the current tree.\n",
    "    def insert(self, new_key):\n",
    "        key = self.key \n",
    "        if new_key == key:\n",
    "            print(f'Already inserted key {key}. Ignoring')\n",
    "        elif new_key < key: # new_key must go into the left subtree\n",
    "            if self.left == None: # no left child?\n",
    "                new_node = TreeNode(new_key, self) # create one with self as parent\n",
    "                self.left = new_node # set the left pointer\n",
    "            else:\n",
    "                self.left.insert(new_key) # recursively call insert on left subtree\n",
    "        else:  # new_key must go into the right subtree.\n",
    "            assert new_key > key\n",
    "            if self.right == None: # no right child?\n",
    "                new_node = TreeNode(new_key, self) # create one\n",
    "                self.right = new_node\n",
    "            else: \n",
    "                self.right.insert(new_key) # recusively call insert on right subtree.\n",
    "\n",
    "# TODO: Implement the function depthWiseTraverse below\n",
    "def depthWiseTraverse(root_node):\n",
    "    # This function inputs the root node of the tree.\n",
    "    # root_node is an instance of the TreeNode class provided to you above\n",
    "    # See description and example above.\n",
    "    # your code here\n",
    "\n",
    "\n",
    "\n",
    "\n",
    "\n"
   ]
  },
  {
   "cell_type": "code",
   "execution_count": 8,
   "id": "4bb6b222",
   "metadata": {},
   "outputs": [
    {
     "name": "stdout",
     "output_type": "stream",
     "text": [
      "-- Test 1 --\n"
     ]
    },
    {
     "ename": "NameError",
     "evalue": "name 'TreeNode' is not defined",
     "output_type": "error",
     "traceback": [
      "\u001b[0;31m---------------------------------------------------------------------------\u001b[0m",
      "\u001b[0;31mNameError\u001b[0m                                 Traceback (most recent call last)",
      "\u001b[0;32m/var/folders/j_/555m2zps099832fjh_m8jjnc0000gn/T/ipykernel_48695/1813817258.py\u001b[0m in \u001b[0;36m<cell line: 10>\u001b[0;34m()\u001b[0m\n\u001b[1;32m      8\u001b[0m \u001b[0mprint\u001b[0m\u001b[0;34m(\u001b[0m\u001b[0;34m'-- Test 1 --'\u001b[0m\u001b[0;34m)\u001b[0m\u001b[0;34m\u001b[0m\u001b[0;34m\u001b[0m\u001b[0m\n\u001b[1;32m      9\u001b[0m \u001b[0;31m# Same as the example above\u001b[0m\u001b[0;34m\u001b[0m\u001b[0;34m\u001b[0m\u001b[0m\n\u001b[0;32m---> 10\u001b[0;31m \u001b[0mtree1\u001b[0m \u001b[0;34m=\u001b[0m \u001b[0mmake_tree\u001b[0m\u001b[0;34m(\u001b[0m\u001b[0;34m[\u001b[0m\u001b[0;36m11\u001b[0m\u001b[0;34m,\u001b[0m \u001b[0;36m18\u001b[0m\u001b[0;34m,\u001b[0m \u001b[0;36m15\u001b[0m\u001b[0;34m,\u001b[0m  \u001b[0;36m13\u001b[0m\u001b[0;34m,\u001b[0m \u001b[0;36m21\u001b[0m\u001b[0;34m,\u001b[0m \u001b[0;36m17\u001b[0m\u001b[0;34m,\u001b[0m \u001b[0;36m4\u001b[0m\u001b[0;34m]\u001b[0m\u001b[0;34m)\u001b[0m\u001b[0;34m\u001b[0m\u001b[0;34m\u001b[0m\u001b[0m\n\u001b[0m\u001b[1;32m     11\u001b[0m \u001b[0mlst1\u001b[0m \u001b[0;34m=\u001b[0m \u001b[0mdepthWiseTraverse\u001b[0m\u001b[0;34m(\u001b[0m\u001b[0mtree1\u001b[0m\u001b[0;34m)\u001b[0m\u001b[0;34m\u001b[0m\u001b[0;34m\u001b[0m\u001b[0m\n\u001b[1;32m     12\u001b[0m \u001b[0mprint\u001b[0m\u001b[0;34m(\u001b[0m\u001b[0mlst1\u001b[0m\u001b[0;34m)\u001b[0m\u001b[0;34m\u001b[0m\u001b[0;34m\u001b[0m\u001b[0m\n",
      "\u001b[0;32m/var/folders/j_/555m2zps099832fjh_m8jjnc0000gn/T/ipykernel_48695/1813817258.py\u001b[0m in \u001b[0;36mmake_tree\u001b[0;34m(insertion_list)\u001b[0m\n\u001b[1;32m      1\u001b[0m \u001b[0;32mdef\u001b[0m \u001b[0mmake_tree\u001b[0m\u001b[0;34m(\u001b[0m\u001b[0minsertion_list\u001b[0m\u001b[0;34m)\u001b[0m\u001b[0;34m:\u001b[0m\u001b[0;34m\u001b[0m\u001b[0;34m\u001b[0m\u001b[0m\n\u001b[1;32m      2\u001b[0m     \u001b[0;32massert\u001b[0m \u001b[0mlen\u001b[0m\u001b[0;34m(\u001b[0m\u001b[0minsertion_list\u001b[0m\u001b[0;34m)\u001b[0m \u001b[0;34m>\u001b[0m \u001b[0;36m0\u001b[0m\u001b[0;34m\u001b[0m\u001b[0;34m\u001b[0m\u001b[0m\n\u001b[0;32m----> 3\u001b[0;31m     \u001b[0mroot_node\u001b[0m \u001b[0;34m=\u001b[0m \u001b[0mTreeNode\u001b[0m\u001b[0;34m(\u001b[0m\u001b[0minsertion_list\u001b[0m\u001b[0;34m[\u001b[0m\u001b[0;36m0\u001b[0m\u001b[0;34m]\u001b[0m\u001b[0;34m)\u001b[0m\u001b[0;34m\u001b[0m\u001b[0;34m\u001b[0m\u001b[0m\n\u001b[0m\u001b[1;32m      4\u001b[0m     \u001b[0;32mfor\u001b[0m \u001b[0melt\u001b[0m \u001b[0;32min\u001b[0m \u001b[0minsertion_list\u001b[0m\u001b[0;34m[\u001b[0m\u001b[0;36m1\u001b[0m\u001b[0;34m:\u001b[0m\u001b[0;34m]\u001b[0m\u001b[0;34m:\u001b[0m\u001b[0;34m\u001b[0m\u001b[0;34m\u001b[0m\u001b[0m\n\u001b[1;32m      5\u001b[0m         \u001b[0mroot_node\u001b[0m\u001b[0;34m.\u001b[0m\u001b[0minsert\u001b[0m\u001b[0;34m(\u001b[0m\u001b[0melt\u001b[0m\u001b[0;34m)\u001b[0m\u001b[0;34m\u001b[0m\u001b[0;34m\u001b[0m\u001b[0m\n",
      "\u001b[0;31mNameError\u001b[0m: name 'TreeNode' is not defined"
     ]
    }
   ],
   "source": [
    "def make_tree(insertion_list):\n",
    "    assert len(insertion_list) > 0\n",
    "    root_node = TreeNode(insertion_list[0])\n",
    "    for elt in insertion_list[1:]:\n",
    "        root_node.insert(elt)\n",
    "    return root_node\n",
    "\n",
    "print('-- Test 1 --')\n",
    "# Same as the example above\n",
    "tree1 = make_tree([11, 18, 15,  13, 21, 17, 4])\n",
    "lst1 = depthWiseTraverse(tree1)\n",
    "print(lst1)\n",
    "assert lst1 == [11, 4, 18, 15, 21, 13, 17]\n",
    "\n",
    "print('-- Test 2 --')\n",
    "\n",
    "tree2 = make_tree([3, 1, 2, 4, 6, 7])\n",
    "lst2 = depthWiseTraverse(tree2)\n",
    "print(lst2)\n",
    "assert lst2 == [3, 1, 4, 2, 6, 7]\n",
    "\n",
    "print('-- Test 3 --')\n",
    "tree3 = make_tree([7, 3, 1, 2, 4, 6, 15, 8, 11, 10, 9])\n",
    "lst3 = depthWiseTraverse(tree3)\n",
    "print(lst3)\n",
    "assert lst3 == [7, 3, 15, 1, 4, 8, 2, 6, 11, 10, 9]\n",
    "\n",
    "print('All tests passed: 15 points')\n",
    "\n",
    "\n"
   ]
  },
  {
   "cell_type": "markdown",
   "id": "619424ea",
   "metadata": {},
   "source": [
    "## Problem 2 (15 points)\n",
    "\n",
    "Once again consider a binary search tree (BST) whose keys are numbers. Given such a BST, you are asked to compute the sum along each branch from root to a leaf node starting with the leftmost branch and moving on to the rightmost.\n",
    "  - For the purposes of this problem a leaf node is defined as having neither a left child nor a right child.\n",
    "\n",
    "The example below will clarify the problem.\n",
    "\n",
    "### Example\n",
    "\n",
    "Consider the BST below as input:\n",
    "<img src=\"attachment:tree2.png\" width=\"45%\">\n",
    "\n",
    "You will need to output the list\n",
    "~~~\n",
    "[16, 22, 57, 61, 50]\n",
    "~~~\n",
    "\n",
    "Note: \n",
    "  - 16 = 11 + 4 -1 + 2\n",
    "  - 22 = 11 + 4 + 7\n",
    "  - 57 = 11 + 18 + 15 + 13\n",
    "  - 61 = 11 + 18 + 15 + 17\n",
    "  - 50 = 11 + 18 + 21\n",
    "\n",
    "Your algorithm should work in time that is linear in the number of nodes of the tree.\n",
    "\n",
    "For your convenience, we will reuse the binary search tree data structure `class TreeNode` with functions for insertion from the previous problem. Please ensure that you have run the cell corresponding to that problem.\n",
    "\n",
    "Please complete the implementation of the `sumOfBranches` function.\n",
    "\n",
    "\n"
   ]
  },
  {
   "cell_type": "code",
   "execution_count": 2,
   "id": "7c4df7b5",
   "metadata": {},
   "outputs": [
    {
     "ename": "IndentationError",
     "evalue": "expected an indented block (35110119.py, line 3)",
     "output_type": "error",
     "traceback": [
      "\u001b[0;36m  File \u001b[0;32m\"/var/folders/j_/555m2zps099832fjh_m8jjnc0000gn/T/ipykernel_77016/35110119.py\"\u001b[0;36m, line \u001b[0;32m3\u001b[0m\n\u001b[0;31m    # your code here\u001b[0m\n\u001b[0m                    ^\u001b[0m\n\u001b[0;31mIndentationError\u001b[0m\u001b[0;31m:\u001b[0m expected an indented block\n"
     ]
    }
   ],
   "source": [
    "def sumOfBranches(root_node):\n",
    "    # return a list of sums \n",
    "    # your code here\n"
   ]
  },
  {
   "cell_type": "code",
   "execution_count": 10,
   "id": "e2d5d5d5",
   "metadata": {},
   "outputs": [
    {
     "name": "stdout",
     "output_type": "stream",
     "text": [
      "-- Test 1 --\n"
     ]
    },
    {
     "ename": "NameError",
     "evalue": "name 'TreeNode' is not defined",
     "output_type": "error",
     "traceback": [
      "\u001b[0;31m---------------------------------------------------------------------------\u001b[0m",
      "\u001b[0;31mNameError\u001b[0m                                 Traceback (most recent call last)",
      "\u001b[0;32m/var/folders/j_/555m2zps099832fjh_m8jjnc0000gn/T/ipykernel_48695/3793873384.py\u001b[0m in \u001b[0;36m<cell line: 10>\u001b[0;34m()\u001b[0m\n\u001b[1;32m      8\u001b[0m \u001b[0mprint\u001b[0m\u001b[0;34m(\u001b[0m\u001b[0;34m'-- Test 1 --'\u001b[0m\u001b[0;34m)\u001b[0m\u001b[0;34m\u001b[0m\u001b[0;34m\u001b[0m\u001b[0m\n\u001b[1;32m      9\u001b[0m \u001b[0;31m# Same as the example from problem 1\u001b[0m\u001b[0;34m\u001b[0m\u001b[0;34m\u001b[0m\u001b[0m\n\u001b[0;32m---> 10\u001b[0;31m \u001b[0mtree1\u001b[0m \u001b[0;34m=\u001b[0m \u001b[0mmake_tree\u001b[0m\u001b[0;34m(\u001b[0m\u001b[0;34m[\u001b[0m\u001b[0;36m11\u001b[0m\u001b[0;34m,\u001b[0m \u001b[0;36m18\u001b[0m\u001b[0;34m,\u001b[0m \u001b[0;36m15\u001b[0m\u001b[0;34m,\u001b[0m  \u001b[0;36m13\u001b[0m\u001b[0;34m,\u001b[0m \u001b[0;36m21\u001b[0m\u001b[0;34m,\u001b[0m \u001b[0;36m17\u001b[0m\u001b[0;34m,\u001b[0m \u001b[0;36m4\u001b[0m\u001b[0;34m]\u001b[0m\u001b[0;34m)\u001b[0m\u001b[0;34m\u001b[0m\u001b[0;34m\u001b[0m\u001b[0m\n\u001b[0m\u001b[1;32m     11\u001b[0m \u001b[0mlst1\u001b[0m \u001b[0;34m=\u001b[0m \u001b[0msumOfBranches\u001b[0m\u001b[0;34m(\u001b[0m\u001b[0mtree1\u001b[0m\u001b[0;34m)\u001b[0m\u001b[0;34m\u001b[0m\u001b[0;34m\u001b[0m\u001b[0m\n\u001b[1;32m     12\u001b[0m \u001b[0mprint\u001b[0m\u001b[0;34m(\u001b[0m\u001b[0mlst1\u001b[0m\u001b[0;34m)\u001b[0m\u001b[0;34m\u001b[0m\u001b[0;34m\u001b[0m\u001b[0m\n",
      "\u001b[0;32m/var/folders/j_/555m2zps099832fjh_m8jjnc0000gn/T/ipykernel_48695/3793873384.py\u001b[0m in \u001b[0;36mmake_tree\u001b[0;34m(insertion_list)\u001b[0m\n\u001b[1;32m      1\u001b[0m \u001b[0;32mdef\u001b[0m \u001b[0mmake_tree\u001b[0m\u001b[0;34m(\u001b[0m\u001b[0minsertion_list\u001b[0m\u001b[0;34m)\u001b[0m\u001b[0;34m:\u001b[0m\u001b[0;34m\u001b[0m\u001b[0;34m\u001b[0m\u001b[0m\n\u001b[1;32m      2\u001b[0m     \u001b[0;32massert\u001b[0m \u001b[0mlen\u001b[0m\u001b[0;34m(\u001b[0m\u001b[0minsertion_list\u001b[0m\u001b[0;34m)\u001b[0m \u001b[0;34m>\u001b[0m \u001b[0;36m0\u001b[0m\u001b[0;34m\u001b[0m\u001b[0;34m\u001b[0m\u001b[0m\n\u001b[0;32m----> 3\u001b[0;31m     \u001b[0mroot_node\u001b[0m \u001b[0;34m=\u001b[0m \u001b[0mTreeNode\u001b[0m\u001b[0;34m(\u001b[0m\u001b[0minsertion_list\u001b[0m\u001b[0;34m[\u001b[0m\u001b[0;36m0\u001b[0m\u001b[0;34m]\u001b[0m\u001b[0;34m)\u001b[0m\u001b[0;34m\u001b[0m\u001b[0;34m\u001b[0m\u001b[0m\n\u001b[0m\u001b[1;32m      4\u001b[0m     \u001b[0;32mfor\u001b[0m \u001b[0melt\u001b[0m \u001b[0;32min\u001b[0m \u001b[0minsertion_list\u001b[0m\u001b[0;34m[\u001b[0m\u001b[0;36m1\u001b[0m\u001b[0;34m:\u001b[0m\u001b[0;34m]\u001b[0m\u001b[0;34m:\u001b[0m\u001b[0;34m\u001b[0m\u001b[0;34m\u001b[0m\u001b[0m\n\u001b[1;32m      5\u001b[0m         \u001b[0mroot_node\u001b[0m\u001b[0;34m.\u001b[0m\u001b[0minsert\u001b[0m\u001b[0;34m(\u001b[0m\u001b[0melt\u001b[0m\u001b[0;34m)\u001b[0m\u001b[0;34m\u001b[0m\u001b[0;34m\u001b[0m\u001b[0m\n",
      "\u001b[0;31mNameError\u001b[0m: name 'TreeNode' is not defined"
     ]
    }
   ],
   "source": [
    "def make_tree(insertion_list):\n",
    "    assert len(insertion_list) > 0\n",
    "    root_node = TreeNode(insertion_list[0])\n",
    "    for elt in insertion_list[1:]:\n",
    "        root_node.insert(elt)\n",
    "    return root_node\n",
    "\n",
    "print('-- Test 1 --')\n",
    "# Same as the example from problem 1\n",
    "tree1 = make_tree([11, 18, 15,  13, 21, 17, 4])\n",
    "lst1 = sumOfBranches(tree1)\n",
    "print(lst1)\n",
    "assert lst1 == [15, 57, 61, 50]\n",
    "\n",
    "print('-- Test 2 --')\n",
    "# Same as example from problem 2\n",
    "\n",
    "tree2 = make_tree([11,4, 18, -1, 7, 15, 21, 2, 13, 17])\n",
    "lst2 = sumOfBranches(tree2)\n",
    "print(lst2)\n",
    "assert lst2 == [16, 22, 57, 61, 50]\n",
    "\n",
    "print('-- Test 3 --')\n",
    "tree3 = make_tree([15])\n",
    "lst3 = sumOfBranches(tree3)\n",
    "print(lst3)\n",
    "assert lst3 == [15]\n",
    "\n",
    "print('-- Test 4 --')\n",
    "tree4 = make_tree([4, 1, 2, 3, 8, 5, 6, 7,  10, 9])\n",
    "lst4 = sumOfBranches(tree4)\n",
    "print(lst4)\n",
    "assert lst4 == [10, 30, 31]\n",
    "\n",
    "print('All tests passed: 15 points!')\n",
    "\n",
    "\n"
   ]
  },
  {
   "cell_type": "markdown",
   "id": "92964c3c",
   "metadata": {},
   "source": [
    "## Problem 3 (15 points)\n",
    "\n",
    "We have a rectangular grid of points where one corner is $(0,0)$ and the other corner is $(W,H)$, where $W,H$ represent the width and height of the grid, respectively. From each point $(x,y)$, we can move along one of the cardinal directions to $$(x', y') \\in \\left\\{ (x+1, y), (x-1, y), (x, y+1), (x, y-1) \\right\\},$$ as long as $0 \\leq x' \\leq W$ and $0 \\leq y' \\leq H$ (i.e, we are not allowed to move out of the grid). \n",
    "\n",
    "Furthermore, we specify a set of $k$ circles $$C = \\left\\{(x_1, y_1, r_1), \\ldots, (x_k, y_k, r_k ) \\right\\}$$\n",
    "where each circle has center $(x_i, y_i)$ and radius $r_i$.\n",
    "\n",
    "The goal is to find a path from $(0,0)$ to $(W,H)$ while avoiding any point on the surface of or inside the circles in $C$. If such a path is found, your algorithm should return the path as a list of grid points. If not, your algorithm should return the empty list.\n",
    "\n",
    "### Example 1\n",
    "\n",
    "Consider $W = H = 3$ and two circles $C= \\{ (1,2,1), (2,2,0.5) \\}$.\n",
    "![grid1.png](attachment:grid1.png)\n",
    "\n",
    "The red lines show a path from $(0,0)$ to $(3,3)$. Your algorithm may return a list\n",
    "`[(0,0), (1,0), (2,0), (3, 0), (3,1), (3,2), (3,3) ]` (there is another path in this case and any of them may be returned.\n",
    "\n",
    "\n",
    "\n",
    "\n",
    "#### Example 2\n",
    "Consider $W = H = 3$ and two circles $C= \\{ (1,2,1), (2,2,1) \\}$.\n",
    "![grid2.png](attachment:grid2.png)\n",
    "\n",
    "There are no paths in this case (in particular (3,2) lies on the orange circle though this is not 100% clear from the picture). Your algorithm should return the empty list.\n",
    "\n"
   ]
  },
  {
   "cell_type": "code",
   "execution_count": 3,
   "id": "0191b289",
   "metadata": {},
   "outputs": [],
   "source": [
    "from math import sqrt\n",
    "\n",
    "# You may use this function to test if a point lies inside given circle.\n",
    "def ptInCircle(x,y, circles_list):\n",
    "    for (xc,yc,rc) in circles_list:\n",
    "        d = sqrt ( (x-xc)**2 + (y-yc)**2)\n",
    "        if d <= rc:\n",
    "            return True\n",
    "    return False\n",
    "\n",
    "def findPath(width, height, forbidden_circles_list):\n",
    "    # width is a positive number\n",
    "    # height is a positive number\n",
    "    # forbidden_circles_list is a list of triples [(x1, y1, r1),..., (xk, yk, rk)]\n",
    "    assert width >= 1\n",
    "    assert height >= 1\n",
    "    assert all(x <= width and x >=0 and y <= height and y >= 0 and r > 0 for (x,y,r) in forbidden_circles_list)\n",
    "    # your code here\n",
    "\n",
    "\n",
    "\n",
    "\n",
    "\n"
   ]
  },
  {
   "cell_type": "code",
   "execution_count": 12,
   "id": "e972d9ef",
   "metadata": {},
   "outputs": [
    {
     "name": "stdout",
     "output_type": "stream",
     "text": [
      "-- Test 1 -- \n",
      "None\n"
     ]
    },
    {
     "ename": "TypeError",
     "evalue": "'NoneType' object is not subscriptable",
     "output_type": "error",
     "traceback": [
      "\u001b[0;31m---------------------------------------------------------------------------\u001b[0m",
      "\u001b[0;31mTypeError\u001b[0m                                 Traceback (most recent call last)",
      "\u001b[0;32m/var/folders/j_/555m2zps099832fjh_m8jjnc0000gn/T/ipykernel_48695/395838897.py\u001b[0m in \u001b[0;36m<cell line: 19>\u001b[0;34m()\u001b[0m\n\u001b[1;32m     17\u001b[0m \u001b[0mp\u001b[0m \u001b[0;34m=\u001b[0m \u001b[0mfindPath\u001b[0m\u001b[0;34m(\u001b[0m\u001b[0;36m3\u001b[0m\u001b[0;34m,\u001b[0m \u001b[0;36m3\u001b[0m\u001b[0;34m,\u001b[0m \u001b[0mcircles\u001b[0m\u001b[0;34m)\u001b[0m\u001b[0;34m\u001b[0m\u001b[0;34m\u001b[0m\u001b[0m\n\u001b[1;32m     18\u001b[0m \u001b[0mprint\u001b[0m\u001b[0;34m(\u001b[0m\u001b[0mp\u001b[0m\u001b[0;34m)\u001b[0m\u001b[0;34m\u001b[0m\u001b[0;34m\u001b[0m\u001b[0m\n\u001b[0;32m---> 19\u001b[0;31m \u001b[0mcheckPath\u001b[0m\u001b[0;34m(\u001b[0m\u001b[0;36m3\u001b[0m\u001b[0;34m,\u001b[0m \u001b[0;36m3\u001b[0m\u001b[0;34m,\u001b[0m \u001b[0mcircles\u001b[0m\u001b[0;34m,\u001b[0m \u001b[0mp\u001b[0m\u001b[0;34m)\u001b[0m\u001b[0;34m\u001b[0m\u001b[0;34m\u001b[0m\u001b[0m\n\u001b[0m\u001b[1;32m     20\u001b[0m \u001b[0mprint\u001b[0m\u001b[0;34m(\u001b[0m\u001b[0;34m'-- Test 2 -- '\u001b[0m\u001b[0;34m)\u001b[0m\u001b[0;34m\u001b[0m\u001b[0;34m\u001b[0m\u001b[0m\n\u001b[1;32m     21\u001b[0m \u001b[0;34m\u001b[0m\u001b[0m\n",
      "\u001b[0;32m/var/folders/j_/555m2zps099832fjh_m8jjnc0000gn/T/ipykernel_48695/395838897.py\u001b[0m in \u001b[0;36mcheckPath\u001b[0;34m(width, height, circles, path)\u001b[0m\n\u001b[1;32m      1\u001b[0m \u001b[0;32mdef\u001b[0m \u001b[0mcheckPath\u001b[0m\u001b[0;34m(\u001b[0m\u001b[0mwidth\u001b[0m\u001b[0;34m,\u001b[0m \u001b[0mheight\u001b[0m\u001b[0;34m,\u001b[0m \u001b[0mcircles\u001b[0m\u001b[0;34m,\u001b[0m \u001b[0mpath\u001b[0m\u001b[0;34m)\u001b[0m\u001b[0;34m:\u001b[0m\u001b[0;34m\u001b[0m\u001b[0;34m\u001b[0m\u001b[0m\n\u001b[0;32m----> 2\u001b[0;31m     \u001b[0;32massert\u001b[0m \u001b[0mpath\u001b[0m\u001b[0;34m[\u001b[0m\u001b[0;36m0\u001b[0m\u001b[0;34m]\u001b[0m \u001b[0;34m==\u001b[0m \u001b[0;34m(\u001b[0m\u001b[0;36m0\u001b[0m\u001b[0;34m,\u001b[0m\u001b[0;36m0\u001b[0m\u001b[0;34m)\u001b[0m\u001b[0;34m,\u001b[0m \u001b[0;34m'Path must begin at (0,0)'\u001b[0m\u001b[0;34m\u001b[0m\u001b[0;34m\u001b[0m\u001b[0m\n\u001b[0m\u001b[1;32m      3\u001b[0m     \u001b[0;32massert\u001b[0m \u001b[0mpath\u001b[0m\u001b[0;34m[\u001b[0m\u001b[0;34m-\u001b[0m\u001b[0;36m1\u001b[0m\u001b[0;34m]\u001b[0m \u001b[0;34m==\u001b[0m \u001b[0;34m(\u001b[0m\u001b[0mwidth\u001b[0m\u001b[0;34m,\u001b[0m \u001b[0mheight\u001b[0m\u001b[0;34m)\u001b[0m\u001b[0;34m,\u001b[0m \u001b[0;34mf'Path must end at {(width, height)}'\u001b[0m\u001b[0;34m\u001b[0m\u001b[0;34m\u001b[0m\u001b[0m\n\u001b[1;32m      4\u001b[0m     \u001b[0;34m(\u001b[0m\u001b[0mcur_x\u001b[0m\u001b[0;34m,\u001b[0m \u001b[0mcur_y\u001b[0m\u001b[0;34m)\u001b[0m \u001b[0;34m=\u001b[0m \u001b[0mpath\u001b[0m\u001b[0;34m[\u001b[0m\u001b[0;36m0\u001b[0m\u001b[0;34m]\u001b[0m\u001b[0;34m\u001b[0m\u001b[0;34m\u001b[0m\u001b[0m\n\u001b[1;32m      5\u001b[0m     \u001b[0;32mfor\u001b[0m \u001b[0;34m(\u001b[0m\u001b[0mnew_x\u001b[0m\u001b[0;34m,\u001b[0m \u001b[0mnew_y\u001b[0m\u001b[0;34m)\u001b[0m \u001b[0;32min\u001b[0m \u001b[0mpath\u001b[0m\u001b[0;34m[\u001b[0m\u001b[0;36m1\u001b[0m\u001b[0;34m:\u001b[0m\u001b[0;34m]\u001b[0m\u001b[0;34m:\u001b[0m\u001b[0;34m\u001b[0m\u001b[0;34m\u001b[0m\u001b[0m\n",
      "\u001b[0;31mTypeError\u001b[0m: 'NoneType' object is not subscriptable"
     ]
    }
   ],
   "source": [
    "def checkPath(width, height, circles, path):\n",
    "    assert path[0] == (0,0), 'Path must begin at (0,0)'\n",
    "    assert path[-1] == (width, height), f'Path must end at {(width, height)}'\n",
    "    (cur_x, cur_y) = path[0]\n",
    "    for (new_x, new_y) in path[1:]:\n",
    "        dx = new_x - cur_x\n",
    "        dy = new_y - cur_y\n",
    "        assert (dx,dy) in [(1,0),(-1,0), (0,1),(0,-1)]\n",
    "        assert 0 <= new_x and new_x <= width\n",
    "        assert 0 <= new_y and new_y <= height\n",
    "        assert not ptInCircle(new_x, new_y, circles)\n",
    "        cur_x, cur_y = new_x, new_y\n",
    "    return\n",
    "print('-- Test 1 -- ')\n",
    "\n",
    "circles = [(2,2,0.5), (1,2,1)]\n",
    "p = findPath(3, 3, circles)\n",
    "print(p)\n",
    "checkPath(3, 3, circles, p)\n",
    "print('-- Test 2 -- ')\n",
    "\n",
    "circles1 = [(2,2,1), (1,2,1)]\n",
    "p1 = findPath(3, 3, circles1)\n",
    "print(p1)\n",
    "assert p1 == [], 'Answer does not match with ours'\n",
    "\n",
    "print('-- Test 3 -- ')\n",
    "p2 = findPath(5,5, circles1)\n",
    "print(p2)\n",
    "checkPath(5, 5, circles1, p2)\n",
    "\n",
    "print('-- Test 4 --')\n",
    "\n",
    "circles3 = [(1,2,0.5), (2,2,1), (3,3,1),(4,3,1)]\n",
    "p3 = findPath(5, 5, circles3)\n",
    "print(p3)\n",
    "checkPath(5, 5, circles3, p3)\n",
    "\n",
    "print('-- Test 5 --')\n",
    "circles5 = [ (4,1, 1), (4,4,1),(2,6,1)]\n",
    "p5 = findPath(6,6,circles5)\n",
    "print(p5)\n",
    "assert p5 == []\n",
    "print('All tests passed: 15 points!')\n",
    "\n",
    "\n",
    "# ### That's All Folks!\n"
   ]
  },
  {
   "cell_type": "code",
   "execution_count": null,
   "id": "c64cfa6a",
   "metadata": {},
   "outputs": [],
   "source": []
  },
  {
   "cell_type": "code",
   "execution_count": null,
   "id": "21d990b2",
   "metadata": {},
   "outputs": [],
   "source": []
  }
 ],
 "metadata": {
  "kernelspec": {
   "display_name": "Python 3 (ipykernel)",
   "language": "python",
   "name": "python3"
  },
  "language_info": {
   "codemirror_mode": {
    "name": "ipython",
    "version": 3
   },
   "file_extension": ".py",
   "mimetype": "text/x-python",
   "name": "python",
   "nbconvert_exporter": "python",
   "pygments_lexer": "ipython3",
   "version": "3.9.12"
  }
 },
 "nbformat": 4,
 "nbformat_minor": 5
}
