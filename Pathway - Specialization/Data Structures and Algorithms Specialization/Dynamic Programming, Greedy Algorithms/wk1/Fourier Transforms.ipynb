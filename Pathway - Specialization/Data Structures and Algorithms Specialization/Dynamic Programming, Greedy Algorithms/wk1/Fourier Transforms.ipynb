{
 "cells": [
  {
   "cell_type": "markdown",
   "id": "b1961901",
   "metadata": {},
   "source": [
    "\n",
    "Although Fourier transforms are outside the scope of this class, they are quite helpful in data analysis.\n",
    "\n",
    "Here is a nice visual explanation courtesy of 3blue1brown: https://youtu.be/spUNpyF58BY\n"
   ]
  },
  {
   "cell_type": "code",
   "execution_count": null,
   "id": "4b2028a6",
   "metadata": {},
   "outputs": [],
   "source": []
  }
 ],
 "metadata": {
  "kernelspec": {
   "display_name": "Python 3 (ipykernel)",
   "language": "python",
   "name": "python3"
  },
  "language_info": {
   "codemirror_mode": {
    "name": "ipython",
    "version": 3
   },
   "file_extension": ".py",
   "mimetype": "text/x-python",
   "name": "python",
   "nbconvert_exporter": "python",
   "pygments_lexer": "ipython3",
   "version": "3.9.12"
  }
 },
 "nbformat": 4,
 "nbformat_minor": 5
}
