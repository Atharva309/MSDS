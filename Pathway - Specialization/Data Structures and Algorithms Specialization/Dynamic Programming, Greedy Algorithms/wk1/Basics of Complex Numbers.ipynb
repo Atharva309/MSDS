{
 "cells": [
  {
   "cell_type": "markdown",
   "id": "8bbf4d3b",
   "metadata": {},
   "source": [
    "\n",
    "Khan Academy has a series of videos on complex numbers that provide the kind of fundamentals we have been unable to provide here: \n",
    "\n",
    "https://www.khanacademy.org/math/precalculus/x9e81a4f98389efdf:complex\n",
    "\n",
    "Most pre-calculus level math textbooks should do a great job of covering the basics of complex numbers. Please focus on \n",
    "\n",
    "- Understanding complex numbers\n",
    "\n",
    "- Complex conjugates\n",
    "\n",
    "- Modulus and Phase (angle) of a complex number\n",
    "\n",
    "- Operations on Complex numbers\n",
    "\n",
    "- DeMoivre's Theorem\n",
    "\n",
    "- Complex Roots of Unity"
   ]
  },
  {
   "cell_type": "code",
   "execution_count": null,
   "id": "dcf75fce",
   "metadata": {},
   "outputs": [],
   "source": []
  }
 ],
 "metadata": {
  "kernelspec": {
   "display_name": "Python 3 (ipykernel)",
   "language": "python",
   "name": "python3"
  },
  "language_info": {
   "codemirror_mode": {
    "name": "ipython",
    "version": 3
   },
   "file_extension": ".py",
   "mimetype": "text/x-python",
   "name": "python",
   "nbconvert_exporter": "python",
   "pygments_lexer": "ipython3",
   "version": "3.9.12"
  }
 },
 "nbformat": 4,
 "nbformat_minor": 5
}
