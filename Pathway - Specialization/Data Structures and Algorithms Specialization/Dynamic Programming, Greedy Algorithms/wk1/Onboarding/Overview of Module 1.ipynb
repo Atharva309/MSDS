{
 "cells": [
  {
   "cell_type": "markdown",
   "id": "5fd32ba9",
   "metadata": {},
   "source": [
    "### Overview of Module 1\n",
    "\n",
    "Module 1 will focus on divide and conquer algorithms. \n",
    "\n",
    "    We have seen examples of divide and conquer algorithms in previous courses, such as mergesort and quicksort algorithms. \n",
    "\n",
    "    We will study more algorithms that fit this design paradigm.\n",
    "\n",
    "    We will study Fast Fourier Transforms (FFT), a particularly useful divide and conquer algorithm that has wide applications in data analysis.\n",
    "\n",
    "    FFT requires familiarity with complex numbers and their properties. A brief introduction is provided, along with pointers to further resources. \n",
    "\n",
    "Assignments\n",
    "\n",
    "We will have quizzes after most of the lessons in this module. These quizzes are multiple choice, and you will have unlimited attempts to solve them/get them right.\n",
    "Programming Assignment\n",
    "\n",
    "We will have a programming assignment that will help you approach the development of algorithms related to what we study in this module. "
   ]
  },
  {
   "cell_type": "code",
   "execution_count": null,
   "id": "c5c2490b",
   "metadata": {},
   "outputs": [],
   "source": []
  }
 ],
 "metadata": {
  "kernelspec": {
   "display_name": "Python 3 (ipykernel)",
   "language": "python",
   "name": "python3"
  },
  "language_info": {
   "codemirror_mode": {
    "name": "ipython",
    "version": 3
   },
   "file_extension": ".py",
   "mimetype": "text/x-python",
   "name": "python",
   "nbconvert_exporter": "python",
   "pygments_lexer": "ipython3",
   "version": "3.9.12"
  }
 },
 "nbformat": 4,
 "nbformat_minor": 5
}
