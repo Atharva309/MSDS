{
 "cells": [
  {
   "cell_type": "markdown",
   "metadata": {},
   "source": [
    "# Module 5 Peer Review Assignment"
   ]
  },
  {
   "cell_type": "markdown",
   "metadata": {},
   "source": [
    "# Problem 1\n",
    "\n",
    "Roll two six-sided fair dice. Let $X$ denote the larger of the two values. Let $Y$ denote the smaller of the two values."
   ]
  },
  {
   "cell_type": "markdown",
   "metadata": {},
   "source": [
    "**a)** Construct a table that gives the joint probability mass function for $X$ and $Y$. (Note: \"X is the larger value and Y is the smaller value in a two dice roll\" means that for any two dice roll, X will be greater than or equal to Y)."
   ]
  },
  {
   "cell_type": "markdown",
   "metadata": {},
   "source": [
    "|     | x=1 | x=2 | x=3 | x=4 | x=5 | x=6 |\n",
    "| --- | --- | --- | --- | --- | --- | --- |\n",
    "| y=1 |1/36 |2/36 |2/36 |2/36 |2/36 |2/36 |\n",
    "| y=2 |0/36 |1/36 |2/36 |2/36 |2/36 |2/36 |\n",
    "| y=3 |0/36 |0/36 |1/36 |2/36 |2/36 |2/36 |\n",
    "| y=4 |0/36 |0/36 |0/36 |1/36 |2/36 |2/36 |\n",
    "| y=5 |0/36 |0/36 |0/36 |0/36 |1/36 |2/36 |\n",
    "| y=6 |0/36 |0/36 |0/36 |0/36 |0/36 |1/36 |"
   ]
  },
  {
   "cell_type": "markdown",
   "metadata": {},
   "source": [
    "**b)** What is $P(X \\ge 3, Y = 1)$?"
   ]
  },
  {
   "cell_type": "markdown",
   "metadata": {},
   "source": [
    " $P(X \\ge 3, Y = 1)$"
   ]
  },
  {
   "cell_type": "code",
   "execution_count": 3,
   "metadata": {},
   "outputs": [
    {
     "data": {
      "text/html": [
       "0.222222222222222"
      ],
      "text/latex": [
       "0.222222222222222"
      ],
      "text/markdown": [
       "0.222222222222222"
      ],
      "text/plain": [
       "[1] 0.2222222"
      ]
     },
     "metadata": {},
     "output_type": "display_data"
    }
   ],
   "source": [
    "(2/36) + (2/36) +(2/36) +(2/36) "
   ]
  },
  {
   "cell_type": "markdown",
   "metadata": {},
   "source": [
    "=> 2/9"
   ]
  },
  {
   "cell_type": "markdown",
   "metadata": {},
   "source": [
    "**c)** What is $P(X \\ge Y + 2)$?"
   ]
  },
  {
   "cell_type": "markdown",
   "metadata": {},
   "source": [
    "YOUR ANSWER HERE"
   ]
  },
  {
   "cell_type": "markdown",
   "metadata": {},
   "source": [
    "**d)** Are $X$ and $Y$ independent? Explain."
   ]
  },
  {
   "cell_type": "markdown",
   "metadata": {},
   "source": [
    "YOUR ANSWER HERE"
   ]
  },
  {
   "cell_type": "markdown",
   "metadata": {},
   "source": [
    "# Problem 2\n",
    "\n",
    "Let $(X, Y)$ be continuous random variables with joint PDF:\n",
    "\n",
    "$$\n",
    "  f(x,y) =\n",
    "  \\begin{cases}\n",
    "                                   cxy^2 & \\text{if $0 \\le x \\le 1 \\text{ and } 0 \\le y \\le 1$} \\\\\n",
    "                                   0 & \\text{else}\n",
    "  \\end{cases}\n",
    "$$\n"
   ]
  },
  {
   "cell_type": "markdown",
   "metadata": {},
   "source": [
    "**Part a)**\n",
    "\n",
    "Solve for $c$. Show your work."
   ]
  },
  {
   "cell_type": "markdown",
   "metadata": {},
   "source": [
    "YOUR ANSWER HERE"
   ]
  },
  {
   "cell_type": "markdown",
   "metadata": {},
   "source": [
    "**Part b)** \n",
    "\n",
    "Find the marginal distributions $f_X(x)$ and $f_Y(y)$. Show your work."
   ]
  },
  {
   "cell_type": "markdown",
   "metadata": {},
   "source": [
    "YOUR ANSWER HERE"
   ]
  },
  {
   "cell_type": "markdown",
   "metadata": {},
   "source": [
    "**Part c)**\n",
    "\n",
    "Solve for $E[X]$ and $E[Y]$. Show your work."
   ]
  },
  {
   "cell_type": "markdown",
   "metadata": {},
   "source": [
    "YOUR ANSWER HERE"
   ]
  },
  {
   "cell_type": "markdown",
   "metadata": {},
   "source": [
    "**Part d)** \n",
    "\n",
    "Using the joint PDF, solve for $E[XY]$. Show your work."
   ]
  },
  {
   "cell_type": "markdown",
   "metadata": {},
   "source": [
    "YOUR ANSWER HERE"
   ]
  },
  {
   "cell_type": "markdown",
   "metadata": {},
   "source": [
    "**Part e)**\n",
    "\n",
    "Are $X$ and $Y$ independent?"
   ]
  },
  {
   "cell_type": "markdown",
   "metadata": {},
   "source": [
    "YOUR ANSWER HERE"
   ]
  }
 ],
 "metadata": {
  "kernelspec": {
   "display_name": "R",
   "language": "R",
   "name": "ir"
  },
  "language_info": {
   "codemirror_mode": "r",
   "file_extension": ".r",
   "mimetype": "text/x-r-source",
   "name": "R",
   "pygments_lexer": "r",
   "version": "4.2.1"
  }
 },
 "nbformat": 4,
 "nbformat_minor": 4
}
