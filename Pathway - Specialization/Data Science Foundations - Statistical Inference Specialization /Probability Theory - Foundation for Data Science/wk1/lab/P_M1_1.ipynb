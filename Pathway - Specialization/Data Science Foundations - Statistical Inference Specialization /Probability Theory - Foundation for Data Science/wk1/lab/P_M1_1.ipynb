{
 "cells": [
  {
   "cell_type": "markdown",
   "metadata": {},
   "source": [
    "This assignment will be reviewed by peers based upon a given rubric. Make sure to keep your answers clear and concise while demonstrating an understanding of the material. Be sure to give all requested information in markdown cells. It is recommended to utilize Latex."
   ]
  },
  {
   "cell_type": "markdown",
   "metadata": {},
   "source": [
    "### Problem 1"
   ]
  },
  {
   "cell_type": "markdown",
   "metadata": {},
   "source": [
    "The Birthday Problem: This is a classic problem that has a nonintuitive answer.  Suppose there are $N$ students in a room."
   ]
  },
  {
   "cell_type": "markdown",
   "metadata": {},
   "source": [
    "#### Part a)"
   ]
  },
  {
   "cell_type": "markdown",
   "metadata": {},
   "source": [
    "What is the probability that at least two of them have the same birthday (month and day)?  (Assume that each day is equally likely to be a student's birthday, that there are no sets of twins, and that there are 365 days in the year. Do not include leap years).\n",
    "\n",
    "Note: Jupyter has two types of cells: Programming and Markdown. Programming is where you will create and run R code. The Markdown cells are where you will type out expalantions and mathematical expressions. [Here](https://www.markdownguide.org/basic-syntax/) is a document on Markdown some basic markdwon syntax. Also feel free to look at the underlying markdown of any of the provided cells to see how we use markdown."
   ]
  },
  {
   "cell_type": "markdown",
   "metadata": {},
   "source": [
    "\\begin{align*}\n",
    "    P(\\text{At least two have same birthday}) &= ? \\\\\n",
    "    &= \\text{YOUR ANSWER HERE}\n",
    "\\end{align*}"
   ]
  },
  {
   "cell_type": "code",
   "execution_count": 1,
   "metadata": {},
   "outputs": [
    {
     "ename": "ERROR",
     "evalue": "Error in parse(text = x, srcfile = src): <text>:1:14: unexpected 'in'\n1: N = students in\n                 ^\n",
     "output_type": "error",
     "traceback": [
      "Error in parse(text = x, srcfile = src): <text>:1:14: unexpected 'in'\n1: N = students in\n                 ^\nTraceback:\n"
     ]
    }
   ],
   "source": [
    "N = students in a room\n"
   ]
  },
  {
   "cell_type": "code",
   "execution_count": 10,
   "metadata": {},
   "outputs": [],
   "source": [
    "b <- sample(1:365,100,replace=TRUE)"
   ]
  },
  {
   "cell_type": "code",
   "execution_count": 11,
   "metadata": {},
   "outputs": [
    {
     "data": {
      "text/html": [
       "<style>\n",
       ".list-inline {list-style: none; margin:0; padding: 0}\n",
       ".list-inline>li {display: inline-block}\n",
       ".list-inline>li:not(:last-child)::after {content: \"\\00b7\"; padding: 0 .5ex}\n",
       "</style>\n",
       "<ol class=list-inline><li>345</li><li>233</li><li>65</li><li>23</li><li>266</li><li>317</li><li>136</li><li>213</li><li>6</li><li>88</li><li>323</li><li>237</li><li>18</li><li>44</li><li>99</li><li>352</li><li>70</li><li>116</li><li>333</li><li>19</li><li>24</li><li>142</li><li>168</li><li>296</li><li>279</li><li>232</li><li>263</li><li>155</li><li>73</li><li>232</li><li>232</li><li>342</li><li>50</li><li>112</li><li>111</li><li>172</li><li>304</li><li>162</li><li>346</li><li>346</li><li>355</li><li>197</li><li>61</li><li>160</li><li>297</li><li>136</li><li>298</li><li>226</li><li>126</li><li>353</li><li>152</li><li>90</li><li>190</li><li>166</li><li>119</li><li>40</li><li>213</li><li>281</li><li>302</li><li>287</li><li>313</li><li>14</li><li>56</li><li>167</li><li>23</li><li>273</li><li>102</li><li>354</li><li>76</li><li>140</li><li>226</li><li>271</li><li>120</li><li>189</li><li>105</li><li>101</li><li>114</li><li>2</li><li>142</li><li>281</li><li>330</li><li>205</li><li>133</li><li>71</li><li>363</li><li>80</li><li>220</li><li>78</li><li>207</li><li>186</li><li>270</li><li>304</li><li>339</li><li>185</li><li>188</li><li>173</li><li>21</li><li>246</li><li>312</li><li>146</li></ol>\n"
      ],
      "text/latex": [
       "\\begin{enumerate*}\n",
       "\\item 345\n",
       "\\item 233\n",
       "\\item 65\n",
       "\\item 23\n",
       "\\item 266\n",
       "\\item 317\n",
       "\\item 136\n",
       "\\item 213\n",
       "\\item 6\n",
       "\\item 88\n",
       "\\item 323\n",
       "\\item 237\n",
       "\\item 18\n",
       "\\item 44\n",
       "\\item 99\n",
       "\\item 352\n",
       "\\item 70\n",
       "\\item 116\n",
       "\\item 333\n",
       "\\item 19\n",
       "\\item 24\n",
       "\\item 142\n",
       "\\item 168\n",
       "\\item 296\n",
       "\\item 279\n",
       "\\item 232\n",
       "\\item 263\n",
       "\\item 155\n",
       "\\item 73\n",
       "\\item 232\n",
       "\\item 232\n",
       "\\item 342\n",
       "\\item 50\n",
       "\\item 112\n",
       "\\item 111\n",
       "\\item 172\n",
       "\\item 304\n",
       "\\item 162\n",
       "\\item 346\n",
       "\\item 346\n",
       "\\item 355\n",
       "\\item 197\n",
       "\\item 61\n",
       "\\item 160\n",
       "\\item 297\n",
       "\\item 136\n",
       "\\item 298\n",
       "\\item 226\n",
       "\\item 126\n",
       "\\item 353\n",
       "\\item 152\n",
       "\\item 90\n",
       "\\item 190\n",
       "\\item 166\n",
       "\\item 119\n",
       "\\item 40\n",
       "\\item 213\n",
       "\\item 281\n",
       "\\item 302\n",
       "\\item 287\n",
       "\\item 313\n",
       "\\item 14\n",
       "\\item 56\n",
       "\\item 167\n",
       "\\item 23\n",
       "\\item 273\n",
       "\\item 102\n",
       "\\item 354\n",
       "\\item 76\n",
       "\\item 140\n",
       "\\item 226\n",
       "\\item 271\n",
       "\\item 120\n",
       "\\item 189\n",
       "\\item 105\n",
       "\\item 101\n",
       "\\item 114\n",
       "\\item 2\n",
       "\\item 142\n",
       "\\item 281\n",
       "\\item 330\n",
       "\\item 205\n",
       "\\item 133\n",
       "\\item 71\n",
       "\\item 363\n",
       "\\item 80\n",
       "\\item 220\n",
       "\\item 78\n",
       "\\item 207\n",
       "\\item 186\n",
       "\\item 270\n",
       "\\item 304\n",
       "\\item 339\n",
       "\\item 185\n",
       "\\item 188\n",
       "\\item 173\n",
       "\\item 21\n",
       "\\item 246\n",
       "\\item 312\n",
       "\\item 146\n",
       "\\end{enumerate*}\n"
      ],
      "text/markdown": [
       "1. 345\n",
       "2. 233\n",
       "3. 65\n",
       "4. 23\n",
       "5. 266\n",
       "6. 317\n",
       "7. 136\n",
       "8. 213\n",
       "9. 6\n",
       "10. 88\n",
       "11. 323\n",
       "12. 237\n",
       "13. 18\n",
       "14. 44\n",
       "15. 99\n",
       "16. 352\n",
       "17. 70\n",
       "18. 116\n",
       "19. 333\n",
       "20. 19\n",
       "21. 24\n",
       "22. 142\n",
       "23. 168\n",
       "24. 296\n",
       "25. 279\n",
       "26. 232\n",
       "27. 263\n",
       "28. 155\n",
       "29. 73\n",
       "30. 232\n",
       "31. 232\n",
       "32. 342\n",
       "33. 50\n",
       "34. 112\n",
       "35. 111\n",
       "36. 172\n",
       "37. 304\n",
       "38. 162\n",
       "39. 346\n",
       "40. 346\n",
       "41. 355\n",
       "42. 197\n",
       "43. 61\n",
       "44. 160\n",
       "45. 297\n",
       "46. 136\n",
       "47. 298\n",
       "48. 226\n",
       "49. 126\n",
       "50. 353\n",
       "51. 152\n",
       "52. 90\n",
       "53. 190\n",
       "54. 166\n",
       "55. 119\n",
       "56. 40\n",
       "57. 213\n",
       "58. 281\n",
       "59. 302\n",
       "60. 287\n",
       "61. 313\n",
       "62. 14\n",
       "63. 56\n",
       "64. 167\n",
       "65. 23\n",
       "66. 273\n",
       "67. 102\n",
       "68. 354\n",
       "69. 76\n",
       "70. 140\n",
       "71. 226\n",
       "72. 271\n",
       "73. 120\n",
       "74. 189\n",
       "75. 105\n",
       "76. 101\n",
       "77. 114\n",
       "78. 2\n",
       "79. 142\n",
       "80. 281\n",
       "81. 330\n",
       "82. 205\n",
       "83. 133\n",
       "84. 71\n",
       "85. 363\n",
       "86. 80\n",
       "87. 220\n",
       "88. 78\n",
       "89. 207\n",
       "90. 186\n",
       "91. 270\n",
       "92. 304\n",
       "93. 339\n",
       "94. 185\n",
       "95. 188\n",
       "96. 173\n",
       "97. 21\n",
       "98. 246\n",
       "99. 312\n",
       "100. 146\n",
       "\n",
       "\n"
      ],
      "text/plain": [
       "  [1] 345 233  65  23 266 317 136 213   6  88 323 237  18  44  99 352  70 116\n",
       " [19] 333  19  24 142 168 296 279 232 263 155  73 232 232 342  50 112 111 172\n",
       " [37] 304 162 346 346 355 197  61 160 297 136 298 226 126 353 152  90 190 166\n",
       " [55] 119  40 213 281 302 287 313  14  56 167  23 273 102 354  76 140 226 271\n",
       " [73] 120 189 105 101 114   2 142 281 330 205 133  71 363  80 220  78 207 186\n",
       " [91] 270 304 339 185 188 173  21 246 312 146"
      ]
     },
     "metadata": {},
     "output_type": "display_data"
    }
   ],
   "source": [
    "b"
   ]
  },
  {
   "cell_type": "code",
   "execution_count": 14,
   "metadata": {},
   "outputs": [],
   "source": [
    "k <- 23"
   ]
  },
  {
   "cell_type": "code",
   "execution_count": 15,
   "metadata": {},
   "outputs": [
    {
     "data": {
      "text/html": [
       "0.507297234323985"
      ],
      "text/latex": [
       "0.507297234323985"
      ],
      "text/markdown": [
       "0.507297234323985"
      ],
      "text/plain": [
       "[1] 0.5072972"
      ]
     },
     "metadata": {},
     "output_type": "display_data"
    }
   ],
   "source": [
    "1-prod((365-k+1):365)/365^k"
   ]
  },
  {
   "cell_type": "code",
   "execution_count": null,
   "metadata": {},
   "outputs": [],
   "source": []
  },
  {
   "cell_type": "code",
   "execution_count": null,
   "metadata": {},
   "outputs": [],
   "source": []
  },
  {
   "cell_type": "markdown",
   "metadata": {},
   "source": [
    "#### Part b)"
   ]
  },
  {
   "cell_type": "markdown",
   "metadata": {},
   "source": [
    "How large must $N$ be so that the probability that at least two of them have the same birthday is at least 1/2?"
   ]
  },
  {
   "cell_type": "markdown",
   "metadata": {},
   "source": [
    "YOUR ANSWER HERE\n",
    "\n",
    "23"
   ]
  },
  {
   "cell_type": "markdown",
   "metadata": {},
   "source": [
    "#### Part c)"
   ]
  },
  {
   "cell_type": "markdown",
   "metadata": {},
   "source": [
    "Plot the number of students on the $x$-axis versus the probability that at least two of them have the same birthday\n",
    "on the $y$-axis."
   ]
  },
  {
   "cell_type": "markdown",
   "metadata": {},
   "source": [
    "YOUR ANSWER HERE"
   ]
  },
  {
   "cell_type": "markdown",
   "metadata": {},
   "source": [
    "#### Thought Question (Ungraded)"
   ]
  },
  {
   "cell_type": "markdown",
   "metadata": {},
   "source": [
    "Thought question (Ungraded): Would you be surprised if there were 100 students in the room and no two of them had the same birthday?  What\n",
    "would that tell you about that set of students?"
   ]
  },
  {
   "cell_type": "markdown",
   "metadata": {},
   "source": [
    "YOUR ANSWER HERE\n",
    "\n",
    "yes 99.99997% with 100 people that 2 share a birthday."
   ]
  },
  {
   "cell_type": "markdown",
   "metadata": {},
   "source": [
    "# Problem 2 \n",
    "\n",
    "One of the most beneficial aspects of R, when it comes to probability, is that it allows us to simulate data and random events. In the following problem, you are going to become familiar with these simulation functions and techniques."
   ]
  },
  {
   "cell_type": "markdown",
   "metadata": {},
   "source": [
    "**Part a)** \n",
    "\n",
    "Let $X$ be a random variable for the number rolled on a fair, six-sided die. How would we go about simulating $X$?\n",
    "\n",
    "Start by creating a list of numbers [1, 6]. Then use the `sample()` function with our list of numbers to simulate **a single** roll of the die, as in simulate $X$. We would recommend looking at the documentation for `sample()`, found [here](https://www.rdocumentation.org/packages/base/versions/3.6.2/topics/sample), or by executing `?sample` in a Jupyter cell."
   ]
  },
  {
   "cell_type": "code",
   "execution_count": 1,
   "metadata": {},
   "outputs": [],
   "source": [
    "# Your Code Here"
   ]
  },
  {
   "cell_type": "markdown",
   "metadata": {},
   "source": [
    "**Part b)** \n",
    "\n",
    "In our initial problem, we said that $X$ comes from a fair die, meaning each value is equally likely to be rolled. Because our die has $6$ sides, each side should appear about $1/6^{th}$ of the time. How would we confirm that our simulation is fair?\n",
    "\n",
    "What if we generate multiple instances of $X$? That way, we could compare if the simulated probabilities match the theoretical probabilities (i.e. are all $1/6$).\n",
    "\n",
    "Generate $12$ instances of $X$ and calculate the proportion of occurances for each face. Do your simulated results appear to come from a fair die? Now generate $120$ instances of $X$ and look at the proportion of each face. What do you notice?\n",
    "\n",
    "Note: Each time you run your simulations, you will get different values. If you want to guarantee that your simulation will result in the same values each time, use the `set.seed()` function. This function will allow your simulations to be reproducable."
   ]
  },
  {
   "cell_type": "code",
   "execution_count": null,
   "metadata": {},
   "outputs": [],
   "source": [
    "set.seed(112358)\n",
    "# Your Code Here"
   ]
  },
  {
   "cell_type": "markdown",
   "metadata": {},
   "source": []
  },
  {
   "cell_type": "markdown",
   "metadata": {},
   "source": [
    "**Part c)** \n",
    "\n",
    "What if our die is not fair? How would we simulate that?\n",
    "\n",
    "Let's assume that $Y$ comes from an unfair six-sided die, where $P(Y=3)=1/2$ and all other face values have an equal probability of occuring. Use the `sample()` function to simulate this situation. Then display the proportion of each face value, to confirm that the faces occur with the desired probabilities. Make sure that $n$ is large enough to be confident in your answer."
   ]
  },
  {
   "cell_type": "code",
   "execution_count": null,
   "metadata": {},
   "outputs": [],
   "source": [
    "# Your Code Here"
   ]
  }
 ],
 "metadata": {
  "kernelspec": {
   "display_name": "R",
   "language": "R",
   "name": "ir"
  },
  "language_info": {
   "codemirror_mode": "r",
   "file_extension": ".r",
   "mimetype": "text/x-r-source",
   "name": "R",
   "pygments_lexer": "r",
   "version": "4.2.1"
  }
 },
 "nbformat": 4,
 "nbformat_minor": 4
}
