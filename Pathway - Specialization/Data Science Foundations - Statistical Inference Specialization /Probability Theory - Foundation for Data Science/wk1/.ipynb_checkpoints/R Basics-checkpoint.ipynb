{
 "cells": [
  {
   "cell_type": "markdown",
   "id": "32f2aa10",
   "metadata": {},
   "source": [
    "getting R setup for jupyter notebook: https://towardsdatascience.com/how-to-run-r-scripts-in-jupyter-15527148d2a"
   ]
  },
  {
   "cell_type": "code",
   "execution_count": null,
   "id": "597e24e8",
   "metadata": {},
   "outputs": [],
   "source": []
  }
 ],
 "metadata": {
  "kernelspec": {
   "display_name": "R",
   "language": "R",
   "name": "ir"
  },
  "language_info": {
   "codemirror_mode": "r",
   "file_extension": ".r",
   "mimetype": "text/x-r-source",
   "name": "R",
   "pygments_lexer": "r",
   "version": "4.2.1"
  }
 },
 "nbformat": 4,
 "nbformat_minor": 5
}
