{
 "cells": [
  {
   "cell_type": "markdown",
   "metadata": {},
   "source": [
    "# Module 3 Peer Review Assignment"
   ]
  },
  {
   "cell_type": "markdown",
   "metadata": {},
   "source": [
    "# Problem 1\n",
    "\n",
    "You work at a factory that manufactures light bulbs. You have determined that $5\\%$ of light bulbs that are produced are defective. For each of the scenarios below:\n",
    "\n",
    "1. Define an appropriate random variable and distribution.\n",
    "2. State the values that the random variable can take on.\n",
    "3. State any assumptions that you need to make.\n",
    "4. Find the probability that the random variable you defined takes on the value $X=4$."
   ]
  },
  {
   "cell_type": "markdown",
   "metadata": {},
   "source": [
    "**Part a)**\n",
    "\n",
    "Out of 30 lightbulbs, $k$ are defective."
   ]
  },
  {
   "cell_type": "markdown",
   "metadata": {},
   "source": [
    "YOUR ANSWER HERE"
   ]
  },
  {
   "cell_type": "markdown",
   "metadata": {},
   "source": [
    "1. binomial random variable - Binomial Distribution with parameters n=30 and p=0.05\n",
    "2. it can take on any value from 0 - 30, inclusive\n",
    "3. each lightbulb has a 5% chance of being defective, and each lightbulb is produced independent of other lightbulbs.\n",
    "4. $ Px(4)= {30 \\choose 4}  (0.05^4) (1-0.05)^{(30-4)} \\approx .0451$"
   ]
  },
  {
   "cell_type": "code",
   "execution_count": 2,
   "metadata": {},
   "outputs": [
    {
     "data": {
      "text/html": [
       "0.0451360511792269"
      ],
      "text/latex": [
       "0.0451360511792269"
      ],
      "text/markdown": [
       "0.0451360511792269"
      ],
      "text/plain": [
       "[1] 0.04513605"
      ]
     },
     "metadata": {},
     "output_type": "display_data"
    }
   ],
   "source": [
    "27405*0.00000625*0.26352009446"
   ]
  },
  {
   "cell_type": "markdown",
   "metadata": {},
   "source": [
    "**Part b)**\n",
    "\n",
    "You test each lightbulb as it comes of the line. The $k^{th}$ light bulb is the first defective light bulb you find."
   ]
  },
  {
   "cell_type": "markdown",
   "metadata": {},
   "source": [
    "1. geometric random variabel - geometric distribution. $X \\sim Geo(0.05)$\n",
    "2. k can be 0, 1, 2, ...\n",
    "3. the production of each light bulb is independent from previous lightbulbs, and the probability of finding a defec tive light bulb is 0.05\n",
    "4. $ P(X = 4) \\sim Geo(0.05) \\approx 0.04286875$\n"
   ]
  },
  {
   "cell_type": "markdown",
   "metadata": {},
   "source": [
    "**Part c)**\n",
    "\n",
    "You find your second defective light bulb after observing $k$ light bulbs in all."
   ]
  },
  {
   "cell_type": "markdown",
   "metadata": {},
   "source": [
    "1.  Negative Binomial distribution. $X \\sim NB(2, 0.05)$\n",
    "2. it can be any number greater to or equal to 2\n",
    "3. the production of each light bulb is independent from previous lightbulbs, and the probability of finding a defec tive light bulb remains constant \n",
    "4. $P(X = 4) \\sim NB(2,0.05) \\approx 0.00677$"
   ]
  },
  {
   "cell_type": "markdown",
   "metadata": {},
   "source": [
    "# Problem 2\n",
    "\n",
    "Consider a loaded six-sided die that is twice as likely to roll an even number as an odd number. Let $X$ be random variable for value that is rolled from the die."
   ]
  },
  {
   "cell_type": "markdown",
   "metadata": {},
   "source": [
    "**Part a)**\n",
    "\n",
    "What is the Probability Mass Function for $X$. Write this out as a table."
   ]
  },
  {
   "cell_type": "code",
   "execution_count": 25,
   "metadata": {},
   "outputs": [
    {
     "data": {
      "text/html": [
       "<table class=\"dataframe\">\n",
       "<caption>A data.frame: 6 × 2</caption>\n",
       "<thead>\n",
       "\t<tr><th scope=col>Outcome</th><th scope=col>PMF</th></tr>\n",
       "\t<tr><th scope=col>&lt;int&gt;</th><th scope=col>&lt;dbl&gt;</th></tr>\n",
       "</thead>\n",
       "<tbody>\n",
       "\t<tr><td>1</td><td>0.1111111</td></tr>\n",
       "\t<tr><td>2</td><td>0.2222222</td></tr>\n",
       "\t<tr><td>3</td><td>0.1111111</td></tr>\n",
       "\t<tr><td>4</td><td>0.2222222</td></tr>\n",
       "\t<tr><td>5</td><td>0.1111111</td></tr>\n",
       "\t<tr><td>6</td><td>0.2222222</td></tr>\n",
       "</tbody>\n",
       "</table>\n"
      ],
      "text/latex": [
       "A data.frame: 6 × 2\n",
       "\\begin{tabular}{ll}\n",
       " Outcome & PMF\\\\\n",
       " <int> & <dbl>\\\\\n",
       "\\hline\n",
       "\t 1 & 0.1111111\\\\\n",
       "\t 2 & 0.2222222\\\\\n",
       "\t 3 & 0.1111111\\\\\n",
       "\t 4 & 0.2222222\\\\\n",
       "\t 5 & 0.1111111\\\\\n",
       "\t 6 & 0.2222222\\\\\n",
       "\\end{tabular}\n"
      ],
      "text/markdown": [
       "\n",
       "A data.frame: 6 × 2\n",
       "\n",
       "| Outcome &lt;int&gt; | PMF &lt;dbl&gt; |\n",
       "|---|---|\n",
       "| 1 | 0.1111111 |\n",
       "| 2 | 0.2222222 |\n",
       "| 3 | 0.1111111 |\n",
       "| 4 | 0.2222222 |\n",
       "| 5 | 0.1111111 |\n",
       "| 6 | 0.2222222 |\n",
       "\n"
      ],
      "text/plain": [
       "  Outcome PMF      \n",
       "1 1       0.1111111\n",
       "2 2       0.2222222\n",
       "3 3       0.1111111\n",
       "4 4       0.2222222\n",
       "5 5       0.1111111\n",
       "6 6       0.2222222"
      ]
     },
     "metadata": {},
     "output_type": "display_data"
    }
   ],
   "source": [
    "dice_prob <- function(x) {\n",
    "  if (x %% 2 == 0) {\n",
    "    return(2/9)\n",
    "  } else {\n",
    "    return(1/9)\n",
    "  }\n",
    "}\n",
    "\n",
    "nums <- 1:6\n",
    "\n",
    "pmf <- sapply(outcomes, dice_prob)\n",
    "\n",
    "pmf_table <- data.frame(Outcome = nums, PMF = pmf)\n",
    "\n",
    "pmf_table"
   ]
  },
  {
   "cell_type": "markdown",
   "metadata": {},
   "source": [
    "**Part b)**\n",
    "\n",
    "What is the Cumulative Distribution Function for $X$?"
   ]
  },
  {
   "cell_type": "code",
   "execution_count": 26,
   "metadata": {},
   "outputs": [
    {
     "name": "stdout",
     "output_type": "stream",
     "text": [
      "  X    prob\n",
      "1 1  33.33%\n",
      "2 2  55.56%\n",
      "3 3  77.78%\n",
      "4 4  85.19%\n",
      "5 5 100.00%\n",
      "6 6 100.00%\n"
     ]
    }
   ],
   "source": [
    "F <- function(x) {\n",
    "  if (x < 1) {\n",
    "    return(0)\n",
    "  } else if (x < 2) {\n",
    "    return(1/3)\n",
    "  } else if (x < 3) {\n",
    "    return(5/9)\n",
    "  } else if (x < 4) {\n",
    "    return(7/9)\n",
    "  } else if (x < 5) {\n",
    "    return(23/27)\n",
    "  } else {\n",
    "    return(1)\n",
    "  }\n",
    "}\n",
    "\n",
    "x <- 1:6\n",
    "p <- sapply(x, F)\n",
    "results <- data.frame(X = x, prob = p)\n",
    "\n",
    "results$prob <- sprintf(\"%.2f%%\", 100 * results$prob)\n",
    "\n",
    "print(results)\n"
   ]
  },
  {
   "cell_type": "markdown",
   "metadata": {},
   "source": [
    "**Part c)** \n",
    "\n",
    "What is $E[X]$?"
   ]
  },
  {
   "cell_type": "markdown",
   "metadata": {},
   "source": [
    "33/9\n"
   ]
  },
  {
   "cell_type": "markdown",
   "metadata": {},
   "source": [
    "# Problem 3\n",
    "\n",
    "How would we simulate variables from these distributions in R? It'll turn out that the method is fairly similar across all these distributions so, for simplicity, let's just say we want to simulate $X \\sim Bin(n,p)$. Take a look at the official documentation for this function [here](https://www.rdocumentation.org/packages/stats/versions/3.3/topics/Binomial). Not extremely clear, is it? Let's go through it one step at a time."
   ]
  },
  {
   "cell_type": "markdown",
   "metadata": {},
   "source": [
    "**Part a)** \n",
    "\n",
    "What if we want a random variable from this distribution? That is, we know some underlying distribution and we want to simulate many results from that distribution. Then we would use the \"random generation\" function `rbinom()`.\n",
    "\n",
    "Play around with this function, with different `size` and `prob` parameters to get a feel for how it works. Finally, generate $30$ results from a $Bin(10, 0.3)$ distribution and plot a histogram of the results."
   ]
  },
  {
   "cell_type": "code",
   "execution_count": 1,
   "metadata": {},
   "outputs": [],
   "source": [
    "# YOUR CODE HERE"
   ]
  },
  {
   "cell_type": "code",
   "execution_count": null,
   "metadata": {},
   "outputs": [],
   "source": []
  },
  {
   "cell_type": "markdown",
   "metadata": {},
   "source": [
    "**Part b)**\n",
    "\n",
    "What if we have some value $k$ and we want to know what's probability of generating $k$? That is, we're solving the Probability Mass Function $P(X=k)$. Then we would use the \"density\" function `dbinom()`.\n",
    "\n",
    "Let $X \\sim Bin(15, 0.4)$. By hand, solve $P(X=4)$. Then use the `dbinom()` function to confirm your result."
   ]
  },
  {
   "cell_type": "markdown",
   "metadata": {},
   "source": [
    "YOUR ANSWER HERE"
   ]
  },
  {
   "cell_type": "code",
   "execution_count": 1,
   "metadata": {},
   "outputs": [
    {
     "data": {
      "text/html": [
       "0.12677580324864"
      ],
      "text/latex": [
       "0.12677580324864"
      ],
      "text/markdown": [
       "0.12677580324864"
      ],
      "text/plain": [
       "[1] 0.1267758"
      ]
     },
     "metadata": {},
     "output_type": "display_data"
    }
   ],
   "source": [
    "dbinom(4, 15, 0.4)"
   ]
  },
  {
   "cell_type": "markdown",
   "metadata": {},
   "source": [
    "**Part c)**\n",
    "\n",
    "What if we wanted to solve for some value of the Cumulative Density Function? That is, we know $k$ and want to find $P(X \\le k) = p$. Then we would use the \"distribution function\" `pbinom()`.\n",
    "\n",
    "Let $X \\sim Bin(15, 0.4)$. By hand, solve $P(X \\le 4)$. Then use the `pbinom()` function to confirm your result."
   ]
  },
  {
   "cell_type": "markdown",
   "metadata": {},
   "source": [
    "YOUR ANSWER HERE"
   ]
  },
  {
   "cell_type": "code",
   "execution_count": 2,
   "metadata": {},
   "outputs": [
    {
     "data": {
      "text/html": [
       "0.217277705650176"
      ],
      "text/latex": [
       "0.217277705650176"
      ],
      "text/markdown": [
       "0.217277705650176"
      ],
      "text/plain": [
       "[1] 0.2172777"
      ]
     },
     "metadata": {},
     "output_type": "display_data"
    }
   ],
   "source": [
    "pbinom(4, 15, 0.4)"
   ]
  },
  {
   "cell_type": "markdown",
   "metadata": {},
   "source": [
    "**Part d)**\n",
    "\n",
    "Finally, we have the \"quantile\" function `qbinom()`. This function is the reverse of the `pbinom()` function, in that it takes a probability $p$ as an argument and returns the value $k$ of the CDF that results in that much probability.\n",
    "\n",
    "Use the `qbinom()` function to confirm your results from **Part c**. That is, plug in the probablity you got from **Part c** and see if you get the same $k$."
   ]
  },
  {
   "cell_type": "code",
   "execution_count": 3,
   "metadata": {},
   "outputs": [
    {
     "data": {
      "text/html": [
       "4"
      ],
      "text/latex": [
       "4"
      ],
      "text/markdown": [
       "4"
      ],
      "text/plain": [
       "[1] 4"
      ]
     },
     "metadata": {},
     "output_type": "display_data"
    }
   ],
   "source": [
    "qbinom(0.21727, 15, 0.4)"
   ]
  },
  {
   "cell_type": "markdown",
   "metadata": {},
   "source": [
    "Nearly every distribution has these four functions, and they will be very useful for our future calculations and simulations."
   ]
  }
 ],
 "metadata": {
  "kernelspec": {
   "display_name": "R",
   "language": "R",
   "name": "ir"
  },
  "language_info": {
   "codemirror_mode": "r",
   "file_extension": ".r",
   "mimetype": "text/x-r-source",
   "name": "R",
   "pygments_lexer": "r",
   "version": "4.2.1"
  }
 },
 "nbformat": 4,
 "nbformat_minor": 4
}
