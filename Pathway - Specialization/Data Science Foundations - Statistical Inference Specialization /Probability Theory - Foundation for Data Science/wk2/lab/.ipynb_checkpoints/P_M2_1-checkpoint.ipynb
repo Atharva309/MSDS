{
 "cells": [
  {
   "cell_type": "markdown",
   "metadata": {},
   "source": [
    "This assignment will be reviewed by peers based upon a given rubric. Make sure to keep your answers clear and concise while demonstrating an understanding of the material. Be sure to give all requested information in markdown cells. It is recommended to utilize Latex."
   ]
  },
  {
   "cell_type": "markdown",
   "metadata": {},
   "source": [
    "### Problem 1"
   ]
  },
  {
   "cell_type": "markdown",
   "metadata": {},
   "source": [
    "What does it mean for one event $C$ to cause another event $E$ — for example, smoking ($C$) to cause cancer ($E$)? There is a long history in philosophy, statistics, and the sciences of trying to clearly analyze the concept of a cause. One tradition says that causes raise the probability of their effects; we may write this symbolically is \n",
    "$$\n",
    "%\\begin{equation} \n",
    "P(E | C)>P(E). \n",
    "%\\end{equation} \n",
    "\\qquad \\qquad (1)\n",
    "$$ "
   ]
  },
  {
   "cell_type": "markdown",
   "metadata": {},
   "source": [
    "#### Part a)\n",
    "\n",
    "Does equation (1) imply that $P(C | E) > P(C)$? If so, prove it. If not, give a counter example."
   ]
  },
  {
   "cell_type": "markdown",
   "metadata": {},
   "source": [
    "yes, $P(E\\vert C) > P(E) \\qquad implies \\qquad P(P(C \\vert C) > P(C)$"
   ]
  },
  {
   "cell_type": "markdown",
   "metadata": {},
   "source": [
    "We can re-write this with bayes theorem: \n",
    "\n",
    "\\begin{align*}\n",
    "P(C\\vert E) = \\frac{P(E\\vert C)P(C)}{P(E)}\n",
    "\\end{align*}\n",
    "\n",
    "\n",
    "\\begin{align*}\n",
    "P(C\\vert E) = \\frac{P(E\\vert C)P(C)}{P(E)}\n",
    "\\end{align*}"
   ]
  },
  {
   "cell_type": "markdown",
   "metadata": {},
   "source": [
    "\\begin{align*}\n",
    "P(C\\vert E) & =\\frac{P(E\\vert C)P(C)}{P(E)}\\\\\n",
    " & >\\frac{P(E)P(C)}{P(E)}\\\\\n",
    " & =P(C)\n",
    "\\end{align*}\n"
   ]
  },
  {
   "cell_type": "markdown",
   "metadata": {},
   "source": [
    "#### Part b)\n",
    "\n",
    "Another way to formulate a probabilistic theory of causation is to say that\n",
    "$$P (E | C) > P(E | C^C). \\qquad \\qquad (2)$$ Show that equation (1) implies equation (2)."
   ]
  },
  {
   "cell_type": "markdown",
   "metadata": {},
   "source": [
    "YOUR ANSWER HERE"
   ]
  },
  {
   "cell_type": "markdown",
   "metadata": {},
   "source": [
    "yes, $ P(E | C)>P(E)  \\qquad implies  \\qquad P (E | C) > P(E | C^C)  $"
   ]
  },
  {
   "cell_type": "markdown",
   "metadata": {},
   "source": [
    "$$ P(E | C) = .99  \\qquad \\qquad  $$\n",
    "\n",
    "$$ P(E^C | C) = .01  \\qquad \\qquad $$\n",
    "\n",
    "$$ P(E | C^C) = .02  \\qquad \\qquad $$"
   ]
  },
  {
   "cell_type": "markdown",
   "metadata": {},
   "source": [
    "\\begin{align*}\n",
    "\\ P(E|C)= \\frac{P(E\\cap C)}{P(C)}\n",
    "\\end{align*}\n"
   ]
  },
  {
   "cell_type": "markdown",
   "metadata": {},
   "source": [
    "\\begin{align*}\n",
    "P(E\\vert C) & >P(E)\\\\\n",
    " & =P(E|C)P(C)+P(E|C^{C})P(C^{C})\\\\\n",
    "\\implies P(E\\vert C)\\left(1-P(C)\\right) & >P(E|C^{C})P(C^{C})\\\\\n",
    "\\implies P(E\\vert C)P(C^{C}) & >P(E|C^{C})P(C^{C})\\\\\n",
    "\\implies P(E\\vert C) & >P(E|C^{C})\n",
    "\\end{align*}"
   ]
  },
  {
   "cell_type": "markdown",
   "metadata": {},
   "source": [
    "#### Part c)\n",
    "\n",
    "Let $C$ be the drop in the level of mercury in a barometer and let $E$ be a storm. Briefly describe why this leads to a problem with using equation (1) (or equation (2)) as a theory of causation."
   ]
  },
  {
   "cell_type": "markdown",
   "metadata": {},
   "source": [
    "\\begin{align*}\n",
    "P(E | C)>P(E). \n",
    "\\end{align*}\n",
    "\n",
    "C = drop in mercury level\n",
    "\n",
    "E = storm\n",
    "\n",
    "the probabiity of a storm coming give that there is a drop in barometer pressure should be greater than the probability of storm without a drop in pressure. The problem is that the barometer doesn't cause the storm. "
   ]
  },
  {
   "cell_type": "markdown",
   "metadata": {},
   "source": [
    "#### Part d)\n",
    "\n",
    "Let $A$, $C$, and $E$ be events. If $P(E | A \\cap C) = P(E |C )$, then $C$ is said to screen $A$ off from $E$. Suppose that $P (E \\cap C) > 0.$ Show that screening off is equivalent to saying that $P(A \\cap E | C)=P(A|C)P(E | C).$ What does this latter equation say in terms of independence?"
   ]
  },
  {
   "cell_type": "markdown",
   "metadata": {},
   "source": [
    "YOUR ANSWER HERE"
   ]
  },
  {
   "cell_type": "markdown",
   "metadata": {},
   "source": []
  },
  {
   "cell_type": "markdown",
   "metadata": {},
   "source": [
    "#### Part e)\n",
    "\n",
    "Now let $A$ be a the drop in the level of mercury in a barometer, $E$ be a storm, and $C$ be a drop in atmospheric pressure. Does the result from part (d) help fix the problem suggested in part (c)?"
   ]
  },
  {
   "cell_type": "markdown",
   "metadata": {},
   "source": [
    "YOUR ANSWER HERE"
   ]
  },
  {
   "cell_type": "markdown",
   "metadata": {},
   "source": [
    "xThe take-away here is that E and A are conditionally independent given C. That is, once we know there's been a drop in the pressure, the barometer can't tell us anything new about the storm and vice-versa. Perhaps the existence of an event C that makes E and A conditionally independent precludes a directly causal relationship between them."
   ]
  },
  {
   "cell_type": "markdown",
   "metadata": {},
   "source": [
    "# Problem 2\n",
    "\n",
    "Suppose you have two bags of marbles that are in a box. Bag 1 contains 7 white marbles, 6 black marbles, and 3 gold marbles. Bag 2 contains 4 white marbles, 5 black marbles, and 15 gold marbles. The probability of grabbing the Bag 1 from the box is twice the probability of grabbing the Bag 2.\n",
    "\n",
    "If you close your eyes, grab a bag from the box, and then grab a marble from that bag, what is the probability that it is gold?"
   ]
  },
  {
   "cell_type": "markdown",
   "metadata": {},
   "source": [
    "**Part a)** \n",
    "\n",
    "Solve this problem by hand. This should give us a theoretical value for pulling a gold marble."
   ]
  },
  {
   "cell_type": "markdown",
   "metadata": {},
   "source": [
    "$B_1$ is event of selecting bag 1.\n",
    "$B_2$ is event of selecting bag 2.\n",
    "$G$ is event of getting a gold marble.\n",
    "\n",
    "\\begin{align*}\n",
    "    P(G) &= P(G|B_1)P(B_1) + P(G|B_2)P(B_2) \\\\\n",
    "    &= (3/16)(2/3) + (15/24)(1/3) \\\\\n",
    "    &= 1/3\n",
    "\\end{align*}"
   ]
  },
  {
   "cell_type": "markdown",
   "metadata": {},
   "source": [
    "**Part b)**\n",
    "\n",
    "Create a simulation to estimate the probability of pulling a gold marble. Assume you put the marble back in the bag each time you pull one out. Make sure to run the simulation enough times to be confident in your final result.\n",
    "\n",
    "Note: To generate $n$ random values between [0,1], use the `runif(n)` function. This function generates $n$ random variables from the Uniform(0,1) distribution, which we will learn more about later in this course!"
   ]
  },
  {
   "cell_type": "code",
   "execution_count": null,
   "metadata": {},
   "outputs": [],
   "source": [
    "# Your Code Here"
   ]
  },
  {
   "cell_type": "code",
   "execution_count": 5,
   "metadata": {},
   "outputs": [
    {
     "name": "stdout",
     "output_type": "stream",
     "text": [
      "The probability of pulling a gold marble is approximately 0.33187 \n"
     ]
    }
   ],
   "source": [
    "# Set up the bags\n",
    "bag1 <- c(rep(\"white\", 7), rep(\"black\", 6), rep(\"gold\", 3))\n",
    "bag2 <- c(rep(\"white\", 4), rep(\"black\", 5), rep(\"gold\", 15))\n",
    "\n",
    "# Set the probabilities of picking each bag\n",
    "prob_bag1 <- 2/3\n",
    "prob_bag2 <- 1/3\n",
    "\n",
    "# Set the number of simulations to run\n",
    "n_sims <- 100000\n",
    "\n",
    "# Create a function to run the simulation\n",
    "sim_pull_gold_marble <- function() {\n",
    "  # Pick which bag to use\n",
    "  if(runif(1) < prob_bag1) {\n",
    "    bag <- bag1\n",
    "  } else {\n",
    "    bag <- bag2\n",
    "  }\n",
    "  \n",
    "  # Pick a marble from the bag\n",
    "  if(sample(bag, 1) == \"gold\") {\n",
    "    return(1)\n",
    "  } else {\n",
    "    return(0)\n",
    "  }\n",
    "}\n",
    "\n",
    "# Run the simulation n_sims times\n",
    "results <- replicate(n_sims, sim_pull_gold_marble())\n",
    "\n",
    "# Calculate the probability of pulling a gold marble\n",
    "prob_gold <- sum(results) / length(results)\n",
    "\n",
    "# Print the result\n",
    "cat(\"The probability of pulling a gold marble is approximately\", prob_gold, \"\\n\")\n"
   ]
  },
  {
   "cell_type": "markdown",
   "metadata": {},
   "source": [
    "# Problem 3\n",
    "\n",
    "Suppose you roll a fair die two times. Let $A$ be the event \"the sum of the throws equals 5\" and $B$ be the event \"at least one of the throws is a $4$\"."
   ]
  },
  {
   "cell_type": "markdown",
   "metadata": {},
   "source": [
    "**Part a)** \n",
    "\n",
    "By hand, solve for the probability that the sum of the throws equals 5, given that at least one of the throws is a 4. That is, solve $P(A|B)$."
   ]
  },
  {
   "cell_type": "markdown",
   "metadata": {},
   "source": [
    "solve: \n",
    "\\begin{align*}\n",
    "    P(A|B) = \\dfrac{P(A \\cap B)}{P(B)} \\\\\n",
    "    &= P(A \\cap B) = 2/36 \\\\\n",
    "    &= P(B) = 11/36 \\\\\n",
    "\\end{align*}\n",
    "\n"
   ]
  },
  {
   "cell_type": "markdown",
   "metadata": {},
   "source": [
    "\\begin{align*}\n",
    "P(A|B) = \\dfrac{2/36}{11/36} = \\dfrac{2}{11} \\approx 0.18\n",
    "\\end{align*}"
   ]
  },
  {
   "cell_type": "code",
   "execution_count": 3,
   "metadata": {},
   "outputs": [
    {
     "data": {
      "text/html": [
       "0.181818181818182"
      ],
      "text/latex": [
       "0.181818181818182"
      ],
      "text/markdown": [
       "0.181818181818182"
      ],
      "text/plain": [
       "[1] 0.1818182"
      ]
     },
     "metadata": {},
     "output_type": "display_data"
    }
   ],
   "source": [
    "2/11"
   ]
  },
  {
   "cell_type": "markdown",
   "metadata": {},
   "source": [
    "**Part b)**\n",
    "\n",
    "Write a simple simulation to confirm our result. Make sure you run your simulation enough times to be confident in your result.\n",
    "\n",
    "Hint: Think about the definition of conditional probability."
   ]
  },
  {
   "cell_type": "code",
   "execution_count": 4,
   "metadata": {},
   "outputs": [
    {
     "name": "stdout",
     "output_type": "stream",
     "text": [
      "P(A) = 0.11022 \n",
      "P(B) = 0.30736 \n",
      "P(A and B) = 0.05538 \n",
      "P(A | B) = 0.1801796 \n"
     ]
    }
   ],
   "source": [
    "set.seed(9)\n",
    "# Set up the possible outcomes of rolling a die\n",
    "outcomes <- 1:6\n",
    "\n",
    "# Set the number of simulations to run\n",
    "n_sims <- 100000\n",
    "\n",
    "# Create a function to run the simulation\n",
    "sim_rolls <- function() {\n",
    "  # Roll the die twice\n",
    "  rolls <- sample(outcomes, 2, replace = TRUE)\n",
    "  \n",
    "  # Check if the sum is 5\n",
    "  A <- as.integer(sum(rolls) == 5)\n",
    "  \n",
    "  # Check if at least one is a 4\n",
    "  B <- as.integer(4 %in% rolls)\n",
    "  \n",
    "  # Return a vector of 1's and 0's\n",
    "  return(c(A, B))\n",
    "}\n",
    "\n",
    "# Run the simulation n_sims times\n",
    "results <- replicate(n_sims, sim_rolls())\n",
    "\n",
    "# Calculate the probability of A, B, and their intersection\n",
    "prob_A <- sum(results[1,]) / n_sims\n",
    "prob_B <- sum(results[2,]) / n_sims\n",
    "prob_A_and_B <- sum(results[1,] & results[2,]) / n_sims\n",
    "\n",
    "# Calculate the conditional probability of A given B\n",
    "prob_A_given_B <- prob_A_and_B / prob_B\n",
    "\n",
    "# Print the results\n",
    "cat(\"P(A) =\", prob_A, \"\\n\")\n",
    "cat(\"P(B) =\", prob_B, \"\\n\")\n",
    "cat(\"P(A and B) =\", prob_A_and_B, \"\\n\")\n",
    "cat(\"P(A | B) =\", prob_A_given_B, \"\\n\")\n"
   ]
  },
  {
   "cell_type": "code",
   "execution_count": null,
   "metadata": {},
   "outputs": [],
   "source": []
  }
 ],
 "metadata": {
  "kernelspec": {
   "display_name": "R",
   "language": "R",
   "name": "ir"
  },
  "language_info": {
   "codemirror_mode": "r",
   "file_extension": ".r",
   "mimetype": "text/x-r-source",
   "name": "R",
   "pygments_lexer": "r",
   "version": "4.2.1"
  }
 },
 "nbformat": 4,
 "nbformat_minor": 4
}
