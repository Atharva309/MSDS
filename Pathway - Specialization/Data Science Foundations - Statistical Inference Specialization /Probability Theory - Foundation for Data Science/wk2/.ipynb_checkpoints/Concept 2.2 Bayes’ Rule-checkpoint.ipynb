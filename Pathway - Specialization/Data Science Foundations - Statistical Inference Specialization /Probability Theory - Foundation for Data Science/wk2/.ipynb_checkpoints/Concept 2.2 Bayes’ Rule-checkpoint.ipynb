{
 "cells": [
  {
   "cell_type": "code",
   "execution_count": 1,
   "id": "f9d58b98",
   "metadata": {},
   "outputs": [],
   "source": [
    "#replicate\n",
    "set.seed(110)\n",
    "sims = 1000\n",
    "\n",
    "#set paths for Sam coming/Frodo making it\n",
    "Sam = rep(0, sims)\n",
    "Frodo = rep(0, sims)\n",
    "\n"
   ]
  },
  {
   "cell_type": "code",
   "execution_count": 2,
   "id": "2e31fb35",
   "metadata": {},
   "outputs": [],
   "source": [
    "#run the loop\n",
    "for(i in 1:sims){\n",
    "  \n",
    "  #flip for each Sam and Frodo\n",
    "  Sam.flip = runif(1)\n",
    "  Frodo.flip = runif(1)\n",
    "  \n",
    "  #the case where Sam comes\n",
    "  if(Sam.flip <= .8){\n",
    "    \n",
    "    #mark that Sam came\n",
    "    Sam[i] = 1\n",
    "    \n",
    "    #Frodo makes it with .9 probability\n",
    "    if(Frodo.flip <= .9){\n",
    "      Frodo[i] = 1\n",
    "    }\n",
    "  }\n",
    "  \n",
    "  #the case where Sam didn't come\n",
    "  if(Sam.flip > .8){\n",
    "    \n",
    "    #Frodo makes it with .1 probability\n",
    "    if(Frodo.flip <= .1){\n",
    "      Frodo[i] = 1\n",
    "    }\n",
    "  }\n",
    "}\n",
    "\n"
   ]
  },
  {
   "cell_type": "code",
   "execution_count": 3,
   "id": "5ebd8d77",
   "metadata": {},
   "outputs": [
    {
     "data": {
      "text/html": [
       "0.829"
      ],
      "text/latex": [
       "0.829"
      ],
      "text/markdown": [
       "0.829"
      ],
      "text/plain": [
       "[1] 0.829"
      ]
     },
     "metadata": {},
     "output_type": "display_data"
    }
   ],
   "source": [
    "#should get .8 overall for Sam\n",
    "mean(Sam)"
   ]
  },
  {
   "cell_type": "code",
   "execution_count": null,
   "id": "a9a78743",
   "metadata": {},
   "outputs": [],
   "source": []
  }
 ],
 "metadata": {
  "kernelspec": {
   "display_name": "R",
   "language": "R",
   "name": "ir"
  },
  "language_info": {
   "codemirror_mode": "r",
   "file_extension": ".r",
   "mimetype": "text/x-r-source",
   "name": "R",
   "pygments_lexer": "r",
   "version": "4.2.1"
  }
 },
 "nbformat": 4,
 "nbformat_minor": 5
}
