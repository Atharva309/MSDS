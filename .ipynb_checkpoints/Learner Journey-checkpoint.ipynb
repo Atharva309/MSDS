{
 "cells": [
  {
   "cell_type": "markdown",
   "id": "18a7dc9b",
   "metadata": {},
   "source": [
    "### Summer 2 - 2023\n",
    "- DTSA 5501 Algorithms\n",
    "\n",
    "### Fall 1 - 2023\n",
    "- DTSA 5502 Trees and Graphs: Basics\n",
    "- DTSA 5503 Programming and Algorithms\n",
    "\n",
    "### Fall 2 - 2023\n",
    "- DTSA 5301 Data Science as a Field\n",
    "- DTSA 5302 Cybersecurity for Data Science\n",
    "\n",
    "### Spring 1 - 2024\n",
    "- DTSA 5303 Ethical Issues in Data Science\n",
    "- DTSA 5304 Fundamentals of Data Viz\n",
    "\n",
    "### Spring 2 - 2024\n",
    "- DTSA 5733 Relational Database Design\n",
    "- DTSA 5734 The Structured Query Language\n",
    "- DTSA 5735 Advanced Topics and Future Trends (elective)\n",
    "\n",
    "### Summer 1 - 2024\n",
    "- DTSA 5001 Probability Theory\n",
    "- DTSA 5002 Stats Inference for Estimation\n",
    "- DTSA 5003 Hypothesis Testing for DS\n",
    "\n",
    "#### 1 year mark\n",
    "\n",
    "\n",
    "### Summer 2 - 2024\n",
    "- DTSA 5504 Data Mining Pipeline\n",
    "- DTSA 5505 Data Mining Methods\n",
    "- DTSA 5506 Data Mining Project\n",
    "\n",
    "### Fall 1 - 2024\n",
    "- DTSA 5509 Intro to Machine Lrng Supervi\n",
    "- DTSA 5510 Unsprvsd Algorithms in Machine\n",
    "- DTSA 5511 Introduction to Deep Learning\n",
    "\n",
    "### Fall 2 - 2024\n",
    "- DTSA 5011 Mod Regression Analysis in R\n",
    "- DTSA 5012 ANOVA and Experimental Design\n",
    "- DTSA 5013 Linear Models and Regression\n",
    "\n",
    "### Spring 1 - 2025\n",
    "- DTSA 5707 Deep Learning Applications for Computer Vision (elective)\n",
    "- DTSA 5798 Supervised Text Classification for Marketing Analytics (elective)\n",
    "- DTSA 5799 Unsupervised Text Classification for Marketing Analytics (elective)\n",
    "- DTSA 5800 Network Analysis for Marketing Analytics (elective)\n",
    "\n",
    "### Spring 2 - 2025\n",
    "- DTSA 5020 Regression and Classification (elective)\n",
    "- DTSA 5701 Introduction to High Performance Computing (elective)\n",
    "- ????\n",
    "- ????\n",
    "\n"
   ]
  },
  {
   "cell_type": "markdown",
   "id": "2b41be55",
   "metadata": {},
   "source": [
    "- Pathway: 3 credits\n",
    "- Vital skills: 4 credits\n",
    "- Core courses: 14 credits\n",
    "- Electives: 9 credits"
   ]
  },
  {
   "cell_type": "markdown",
   "id": "347c85cb",
   "metadata": {},
   "source": [
    "---"
   ]
  },
  {
   "cell_type": "markdown",
   "id": "16d671a3",
   "metadata": {},
   "source": [
    "## Pathway: 107 hours"
   ]
  },
  {
   "cell_type": "markdown",
   "id": "4856d31c",
   "metadata": {},
   "source": [
    "#### Data Science Foundations: Data Structure and Algorithms - 107 hours\n",
    "- Algorithms for searching, sorting and indexing - 35 hours\n",
    "- Trees and graphs: basics - 34 hours\n",
    "- Dynamic programming, Greedy algorithms - 38 hours\n",
    "\n",
    "OR \n",
    "\n",
    "#### Data Science Foundations: Statistical Inference - 113 hours\n",
    "- Probability theory: Applications for Data Science - 48 hours\n",
    "- Statistical Inference for estimation in Data Science - 28 hours\n",
    "- Statistical Inference and Hypothesis testing in Data Science Applications - 37 hours"
   ]
  },
  {
   "cell_type": "markdown",
   "id": "7cbf5bf3",
   "metadata": {},
   "source": [
    "---"
   ]
  },
  {
   "cell_type": "markdown",
   "id": "470b70a0",
   "metadata": {},
   "source": [
    "## Vital Skills: 68 hours"
   ]
  },
  {
   "cell_type": "markdown",
   "id": "4eab1235",
   "metadata": {},
   "source": [
    "#### Vital skills for Data Scientists - 68 hours\n",
    "- Data Science as a field - 11 hours\n",
    "- Cybersecurity for data science - 19 hours\n",
    "- Ethical issues in Data Science - 24 hours\n",
    "- Visualization fundamentals - 14 hours\n"
   ]
  },
  {
   "cell_type": "markdown",
   "id": "6541a89f",
   "metadata": {},
   "source": [
    "---"
   ]
  },
  {
   "cell_type": "markdown",
   "id": "456e4004",
   "metadata": {},
   "source": [
    "## Core Courses: 539 hours"
   ]
  },
  {
   "cell_type": "markdown",
   "id": "2e19d9e4",
   "metadata": {},
   "source": [
    "*according to the coursera outline these courses are only part of the \"pathway\" and not part of the corse courses"
   ]
  },
  {
   "cell_type": "markdown",
   "id": "3913b137",
   "metadata": {},
   "source": [
    "#### *Data Science Foundations: Statistical Inference - 113 hours\n",
    "- Probability theory: Applications for Data Science - 48 hours\n",
    "- Statistical Inference for estimation in Data Science - 28 hours\n",
    "- Statistical Inference and Hypothesis testing in Data Science Applications - 37 hours\n",
    "\n",
    "OR \n",
    "#### *Data Science Foundations: Data Structure and Algorithms - 107 hours\n",
    "- Algorithms for searching, sorting and indexing - 35 hours\n",
    "- Trees and graphs: basics - 34 hours\n",
    "- Dynamic programming, Greedy algorithms - 38 hours\n"
   ]
  },
  {
   "cell_type": "markdown",
   "id": "cf6b2ee4",
   "metadata": {},
   "source": [
    "#### Data Mining Foundations and Practice - 82 hours\n",
    "- Data Mining Pipeline  - 21 hours\n",
    "- Data Mining Methods - 23 hours\n",
    "- Data Mining Projects - 38 hours"
   ]
  },
  {
   "cell_type": "markdown",
   "id": "8ba51735",
   "metadata": {},
   "source": [
    "#### Statistical Modeling for Data Science - 127 hours\n",
    "- Modern Regression analysis in R - 45 hours\n",
    "- ANOVA Experimental Design - 40 hours\n",
    "- Generalized Linear Models and nonparametric regression - 42 hours"
   ]
  },
  {
   "cell_type": "markdown",
   "id": "036c93d7",
   "metadata": {},
   "source": [
    "#### Machine Learning - 139 hours\n",
    "- Introduction to Machine Learning: Supervised Learning - 40 hours\n",
    "- Unsupervised Algorithms in Machine Learning - 38 hours\n",
    "- Introduction to Deep Learning - 61 hours"
   ]
  },
  {
   "cell_type": "markdown",
   "id": "c6d358d3",
   "metadata": {},
   "source": [
    "#### *Databases - 61 hours \n",
    "- Relational Database Design - 36 hours\n",
    "- The Structured Query Language (SQL) - 25 hours\n",
    "\n",
    "\n",
    "- Advanced Topics and Future Trends in Database Technologies - 17 hours - this course is considered an elective"
   ]
  },
  {
   "cell_type": "markdown",
   "id": "013f1ee2",
   "metadata": {},
   "source": [
    "*The learning journey does not include \"Advanced Topics and Future Trends in Database Technologies\" for the Databases course."
   ]
  },
  {
   "cell_type": "markdown",
   "id": "420af423",
   "metadata": {},
   "source": [
    "---"
   ]
  },
  {
   "cell_type": "markdown",
   "id": "776f97b2",
   "metadata": {},
   "source": [
    "## Elective Courses: 58+ hours"
   ]
  },
  {
   "cell_type": "markdown",
   "id": "f2d4803a",
   "metadata": {},
   "source": [
    "#### Statistical Learning for Data Science (only 1 class currently available)\n",
    "- Regression and Classification\n",
    "- Resampling, Selection, and Splines\n",
    "- Trees, SVM, and Unsupervised Learning"
   ]
  },
  {
   "cell_type": "markdown",
   "id": "fa5ce7cf",
   "metadata": {},
   "source": [
    "#### Text marketing analytics - 35 hours\n",
    "- Supervised Text Classification for Marketing Analytics - 12 hours\n",
    "- Unsupervised Text Classification for marketing analytics - 13 hours\n",
    "- Network analysis for marketing analytics - 10 hours"
   ]
  },
  {
   "cell_type": "markdown",
   "id": "a8561bf6",
   "metadata": {},
   "source": [
    "#### Deep Learning applications for Computer vision - 23 hours\n",
    "- Deep Learning Applications for Computer Vision - 23 hours"
   ]
  },
  {
   "cell_type": "markdown",
   "id": "6bc27d94",
   "metadata": {},
   "source": [
    "#### Effective Communication\n",
    "- Effective communication: Writing, Design, and Presentation\n",
    "- Effective communication capstone project"
   ]
  },
  {
   "cell_type": "markdown",
   "id": "7339dc15",
   "metadata": {},
   "source": [
    "---"
   ]
  },
  {
   "cell_type": "markdown",
   "id": "61e29d55",
   "metadata": {},
   "source": [
    "### Elective courses \n",
    "\n",
    "- Introduction to High-Performance and Parallel Computing (1 credit)\n",
    "- Managing, Describing, and Analyzing Data (1 credit)\n",
    "- Stability and Capability in Quality Improvement (1 credit)\n",
    "- Measurement Systems Analysis (1 credit)\n",
    "- Deep Learning Applications for Computer Vision (1 credit)\n",
    "- Effective Communication: Writing, Design, and Presentation Specialization (2 credits)\n",
    "- Regression and Classification (1 credit)\n",
    "- Fundamentals of Software Architecture for Big Data (1 credit)\n",
    "- Software Architecture Patterns for Big Data (1 credit)\n",
    "- Applications of Software Architecture for Big Data (1 credit)\n",
    "- Supervised Text Classification for Marketing Analytics (1 credit)\n",
    "- Unsupervised Text Classification for Marketing Analytics (1 credit)\n",
    "- Network Analysis for Marketing Analytics (1 credit)\n",
    "- Product Cost and Investment Cash Flow Analysis (1 credit)\n",
    "- Project Valuation and the Capital Budgeting Process (1 credit)\n",
    "- Financial Forecasting and Reporting (1 credit)\n",
    "- Project Management: Foundations and Initiation (1 credit)\n",
    "- Project Planning and Execution (1 credit)\n",
    "- Agile Project Management (1 credit)\n",
    "- Fundamentals of Software Architecture for Big Data\n",
    "- Software Architecture Patterns for Big Data\n",
    "- Applications of Software Architecture for Big Data\n",
    "- IBM Applied Data Science Capstone (1 credit)\n",
    "\n",
    "Elective courses are also required to earn the degree, but allow more flexibility. Students must complete 9 elective credits to earn the degree, and can choose from a variety of available options.\n",
    "\n",
    "https://www.coursera.org/degrees/master-of-science-data-science-boulder/academics"
   ]
  },
  {
   "cell_type": "markdown",
   "id": "20a49dec",
   "metadata": {},
   "source": [
    "---"
   ]
  },
  {
   "cell_type": "markdown",
   "id": "fec6beae",
   "metadata": {},
   "source": [
    "# Data Science Graduate Certificate"
   ]
  },
  {
   "cell_type": "markdown",
   "id": "50d9e553",
   "metadata": {},
   "source": [
    "To earn the Data Science Graduate Certificate (12 credits), students must complete the following required specializations:\n",
    "\n",
    "    - Data Mining Foundations and Practice Specialization (3 credits)\n",
    "    - Data Science Foundations: Statistical Inference Specialization (3 credits).\n",
    "\n",
    "Choose two specializations from the following:\n",
    "\n",
    "    - Introduction to Statistical Learning for Data Science Specialization (3 credits)\n",
    "    - Machine Learning Specialization (3 credits)\n",
    "    - Statistical Modeling for Data Science Specialization (3 credits)"
   ]
  },
  {
   "cell_type": "markdown",
   "id": "c1021b56",
   "metadata": {},
   "source": [
    "6-9 months\n",
    "\n",
    "The certificate is 12 credits and can be completed in approximately in 6-9 months, depending on chosen course load per session\n",
    "\n",
    "$525 per credit\n",
    "\n",
    "$6,300 total cost"
   ]
  },
  {
   "cell_type": "markdown",
   "id": "cd3b8124",
   "metadata": {},
   "source": [
    "---"
   ]
  },
  {
   "cell_type": "markdown",
   "id": "cc38a6f6",
   "metadata": {},
   "source": []
  },
  {
   "cell_type": "code",
   "execution_count": null,
   "id": "5955a54a",
   "metadata": {},
   "outputs": [],
   "source": []
  }
 ],
 "metadata": {
  "kernelspec": {
   "display_name": "Python 3 (ipykernel)",
   "language": "python",
   "name": "python3"
  },
  "language_info": {
   "codemirror_mode": {
    "name": "ipython",
    "version": 3
   },
   "file_extension": ".py",
   "mimetype": "text/x-python",
   "name": "python",
   "nbconvert_exporter": "python",
   "pygments_lexer": "ipython3",
   "version": "3.9.12"
  }
 },
 "nbformat": 4,
 "nbformat_minor": 5
}
