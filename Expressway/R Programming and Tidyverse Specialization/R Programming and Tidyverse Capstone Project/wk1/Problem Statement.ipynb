{
 "cells": [
  {
   "cell_type": "markdown",
   "id": "4ef4e378",
   "metadata": {},
   "source": [
    "\n",
    "The New York Times (the Times) has aggregated reported COVID-19 data from state and local governments and health departments since 2020 and provides public access through a repository on GitHub. One of the data sets provided by the Times is county-level data for cumulative cases and deaths each day. This will be your primary data set for the first two parts of your analysis. \n",
    "\n",
    "To get started, you will import the county-level data sets provided by the Times, which have been separated into three CSV files – one for each year since the beginning of the pandemic. The links to the CSV files have been provided for you in the RMarkdown lab file and you can use the rbind() function to combine the data to a single object.  Note that these links are to the GitHub repository, and they are updated daily so your results might slightly change depending on the day you import the data.\n",
    "\n",
    "You have also been provided with county-level population estimates for the years 2010 to 2021 from the US Census Bureau. These estimates for 2020 and 2021 will be used throughout parts one and two, so be sure to import and tidy the data as well.  \n",
    "\n",
    "Using these four data sets, you will need to complete the following sections: \n",
    "\n",
    "    Calculate the total number of cases and deaths in the United States since March 15, 2020.\n",
    "\n",
    "    Create a visualization for the total number of deaths and cases in the US since March 15, 2020. \n",
    "\n",
    "    Identify the day where the United States had the largest number of new cases and the day where the United States had the largest number of new deaths. \n",
    "\n",
    "    Calculate seven-day averages for new cases and deaths per 100,000 people in the United States\n",
    "\n",
    "    Create a visualization for the seven-day averages for new cases and deaths per 100,000 people in the United States\n",
    "\n",
    "As mentioned above, the links to the CSV files have been provided for you in the RMarkdown document. Additional information for each section and hints have been provided for you as well. If you experience any difficulties or have questions, please use the discussion forum. \n",
    "\n",
    "Finally, after each section, you should describe your methodology and report your results. I encourage you to be critical in your discussion and provide some meaning to your results and visualizations. For example, you could discuss why you chose a specific visualization, what it tells the reader, and why other visualizations could be misleading. Or you could discuss why there was a spike in cases or deaths on the days you found from section three. \n",
    "\n",
    "After you have completed Part 1: Basic Exploration of US Data, you should upload your knitted document for peer review. \n"
   ]
  }
 ],
 "metadata": {
  "kernelspec": {
   "display_name": "R",
   "language": "R",
   "name": "ir"
  },
  "language_info": {
   "codemirror_mode": "r",
   "file_extension": ".r",
   "mimetype": "text/x-r-source",
   "name": "R",
   "pygments_lexer": "r",
   "version": "4.2.1"
  }
 },
 "nbformat": 4,
 "nbformat_minor": 5
}
