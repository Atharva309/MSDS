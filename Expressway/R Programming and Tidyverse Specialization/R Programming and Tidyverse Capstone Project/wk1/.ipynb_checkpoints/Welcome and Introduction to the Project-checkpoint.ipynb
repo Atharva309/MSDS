{
 "cells": [
  {
   "cell_type": "markdown",
   "id": "15f56001",
   "metadata": {},
   "source": [
    "Welcome and congratulations to making it to the third and final course of the Expressway to Data Science: R Programming and Tidyverse Specialization! \n",
    "\n",
    "Over the past two courses, you have learned the fundamentals of R programming and the Tidyverse library to access, analyze, and visualize data. In the first course, Introduction to R Programming and Tidyverse, you explored the importance of creating reproducible research using RMarkdown – a native R authoring tool for doing and communicating data analysis. You learned the basics of R programming, creating visualizations using the powerful ggplot2 library, and transformed data using dplyr. Then, in the second course, Data Analysis with Tidyverse, you turned your attention to tidying data – a process of converting data into a useful format for visualizing, modeling, and analysis. Throughout each course, you learned and practiced each component separately; here, in the capstone, we will combine these skills into a fun and interesting real-world project: analyzing COVID-19 data.\n",
    "\n",
    "Data analysis projects can take many different forms, but generally they contain the following components: \n",
    "\n",
    "    Formulating questions to be investigated by your data\n",
    "\n",
    "    Collecting and preparing your data for processing\n",
    "\n",
    "    Exploring and modeling the data\n",
    "\n",
    "    Validating your results\n",
    "\n",
    "    Visualizing and communicating your results\n",
    "\n",
    "The scope of this class, and subsequently this project, is limited to preparation, basic exploration, visualization, and communication of data and analysis results. One of the goals of the project is to provide you with the foundations for a data analysis project for your portfolio and begin to think holistically about the data analysis process. \n",
    "\n",
    "You will use aggregated COVID-19 data from the New York Times and the Center for Systems Science and Engineering (CSSE) at Johns Hopkins University to analyze and visualize the impact of COVID-19 since 2020. The project will be divided into three sections: (1) basic exploration of US data, (2) comparison of US states, and (3) an investigation of global data. Throughout each section you will complete a series of questions and be asked to briefly communicate and describe your results. While your writing and the interpretation of your results will not be as heavily evaluated as your R code, I encourage you to critically reflect on your process and the results you produce. At the end of each section, you will upload your knitted document for peer review. Problem statements for each section will be provided in the subsequent lessons.\n",
    "\n",
    "Finally, a portfolio is an important tool for aspiring data scientists and analysts. I encourage you to edit your report based on the feedback you receive and add to or begin a portfolio on your personal website or hosting sites such as GitHub or GitLab. \n",
    "\n",
    "I hope you have fun and I look forward to seeing your completed projects! "
   ]
  },
  {
   "cell_type": "code",
   "execution_count": null,
   "id": "d1f6d152",
   "metadata": {},
   "outputs": [],
   "source": []
  }
 ],
 "metadata": {
  "kernelspec": {
   "display_name": "R",
   "language": "R",
   "name": "ir"
  },
  "language_info": {
   "codemirror_mode": "r",
   "file_extension": ".r",
   "mimetype": "text/x-r-source",
   "name": "R",
   "pygments_lexer": "r",
   "version": "4.2.1"
  }
 },
 "nbformat": 4,
 "nbformat_minor": 5
}
