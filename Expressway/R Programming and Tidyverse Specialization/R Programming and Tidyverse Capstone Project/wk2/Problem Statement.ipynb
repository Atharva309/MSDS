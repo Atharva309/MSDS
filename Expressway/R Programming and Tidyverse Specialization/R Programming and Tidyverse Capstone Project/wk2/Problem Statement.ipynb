{
 "cells": [
  {
   "cell_type": "markdown",
   "id": "70eb5b4d",
   "metadata": {},
   "source": [
    "\n",
    "While understanding the trends on a national level can be helpful in understanding how COVID-19 impacted the United States, it is important to remember that the virus arrived in the United States at different times. For the next part of your analysis, you will begin to look at COVID related deaths and cases at the state and county-levels. \n",
    "\n",
    "Building of the work from Part 1, you will complete the following sections: \n",
    "\n",
    "    Determine the top 10 states in terms of total deaths and cases between March 15, 2020, and December 31, 2021. \n",
    "\n",
    "    Determine the top 10 states in terms of deaths and cases per 100,000 people between March 15, 2020, and December 31, 2021. \n",
    "\n",
    "Then, select a state and: \n",
    "\n",
    "    Calculate seven-day averages for new cases and deaths per 100,000 people in the state.\n",
    "\n",
    "    Create a visualization comparing the seven-day averages per 100,000 people in the state to the seven-day averages per 100,000 people for the entire United States.\n",
    "\n",
    "    Identify the top 5 counties in the state in terms of deaths and cases per 100,000 people.\n",
    "\n",
    "    Create a visualization to map the deaths per 100,000 people in each county in the state. \n",
    "    Note: the code for the map projection has been started for you. \n",
    "\n",
    "Finally, select three other states and: \n",
    "\n",
    "    Calculate the number of deaths and cases per 100,000 people for each state each day between March 15, 2020, and December 31, 2021. \n",
    "\n",
    "    Create a visualization to compare the number of deaths and cases per 100,000 people for each state by date.\n",
    "\n",
    "You should continue using the RMarkdown document you used in Part 1. Additional information for each section and hints have been provided for you as well. As always, if you experience any difficulties or have questions, please use the discussion forum. \n",
    "\n",
    "Finally, as in Part 1, you should describe your methodology and report your results after each section. I encourage you to be critical in your discussion and provide some meaning to your results and visualizations. \n",
    "\n",
    "After you have completed Part 2: US State Comparison, you should upload your knitted document for peer review."
   ]
  },
  {
   "cell_type": "code",
   "execution_count": null,
   "id": "0372d02d",
   "metadata": {},
   "outputs": [],
   "source": []
  }
 ],
 "metadata": {
  "kernelspec": {
   "display_name": "R",
   "language": "R",
   "name": "ir"
  },
  "language_info": {
   "codemirror_mode": "r",
   "file_extension": ".r",
   "mimetype": "text/x-r-source",
   "name": "R",
   "pygments_lexer": "r",
   "version": "4.2.1"
  }
 },
 "nbformat": 4,
 "nbformat_minor": 5
}
