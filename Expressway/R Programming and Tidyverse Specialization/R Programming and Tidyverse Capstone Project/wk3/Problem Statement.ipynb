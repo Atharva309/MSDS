{
 "cells": [
  {
   "cell_type": "markdown",
   "id": "730fb3fd",
   "metadata": {},
   "source": [
    "\n",
    "For the final part of your analysis, you will investigate the impact of COVID-19 on a global scale. The NY Times data does not contain data reported outside the US. Consequently, we will use another public access repository from the Center for Systems Science and Engineering (CSSE) at Johns Hopkins University. \n",
    "\n",
    "Like the NY Times data, CSSE data is aggregated from data reported from various governments and health departments around the world and it is updated daily. Data from the CSSE includes additional statistics such as estimated number of recoveries and active cases. We will continue to only use values for cases and deaths, but I encourage you to investigate and play with some of the other data provided by CSSE. \n",
    "\n",
    "To get started, you should first verify that the data in both reporting bodies are similar. To do this you will need to import and tidy the CSSE data and compare statistics from each reporting body of the state you selected in Part 2. Then, create a visualization for the total cases and deaths over time from each reporting body.\n",
    "\n",
    "Additionally, you have been provided with global population estimates from the World Bank. Note that instead of providing population estimates for some countries, they have provided regional estimates. Countries listed in the CSSE but do not have a population estimate should be omitted from your analysis. \n",
    "\n",
    "Once you have verified the data is similar, you will: \n",
    "\n",
    "    Identify the top 10 countries with the most confirmed cases per 100,000 people. \n",
    "\n",
    "    Identify the top 10 countries with the most confirmed deaths per 100,000 people. \n",
    "\n",
    "    Construct a visualization for the number of confirmed cases versus time for the top 10 countries.\n",
    "\n",
    "Then, select four countries on one of the continents and: \n",
    "\n",
    "    Construct a visualization for the number of confirmed cases per 100,000 people verses time \n",
    "\n",
    "    Construct a visualization for the number of deaths per 100,000 people verses time\n",
    "\n",
    "You should continue using the RMarkdown document you used in Parts 1 and 2. Additional information for each section and hints have been provided for you as well. As always, if you experience any difficulties or have questions, please use the discussion forum. \n",
    "\n",
    "Finally, as in Parts 1 and 2, you should describe your methodology and report your results after each section. I encourage you to be critical in your discussion and provide some meaning to your results and visualizations. \n",
    "\n",
    "After you have completed Part 3: Worldwide Data, you should upload your knitted document for peer review."
   ]
  },
  {
   "cell_type": "code",
   "execution_count": null,
   "id": "df30fd3f",
   "metadata": {},
   "outputs": [],
   "source": []
  }
 ],
 "metadata": {
  "kernelspec": {
   "display_name": "R",
   "language": "R",
   "name": "ir"
  },
  "language_info": {
   "codemirror_mode": "r",
   "file_extension": ".r",
   "mimetype": "text/x-r-source",
   "name": "R",
   "pygments_lexer": "r",
   "version": "4.2.1"
  }
 },
 "nbformat": 4,
 "nbformat_minor": 5
}
