{
 "cells": [
  {
   "cell_type": "markdown",
   "id": "0b529ee4",
   "metadata": {},
   "source": [
    "1. What command do we use to read in tab-separated files?\n",
    "\n",
    "    - read_tsv\n",
    "    - read_delim"
   ]
  },
  {
   "cell_type": "markdown",
   "id": "b32e55bc",
   "metadata": {},
   "source": [
    "2. What are the advantages of read_csv over read.csv (choose all correct responses)?\n",
    "\n",
    "    - read_csv returns a tibble by default\n",
    "    - read_csv is much faster "
   ]
  },
  {
   "cell_type": "markdown",
   "id": "a9a13c48",
   "metadata": {},
   "source": [
    "3. In which of the following situations can a parser be used?\n",
    "\n",
    "    - To convert data types.\n",
    "    - To decode encoded characters."
   ]
  },
  {
   "cell_type": "code",
   "execution_count": null,
   "id": "f319c53e",
   "metadata": {},
   "outputs": [],
   "source": []
  }
 ],
 "metadata": {
  "kernelspec": {
   "display_name": "R",
   "language": "R",
   "name": "ir"
  },
  "language_info": {
   "codemirror_mode": "r",
   "file_extension": ".r",
   "mimetype": "text/x-r-source",
   "name": "R",
   "pygments_lexer": "r",
   "version": "4.2.1"
  }
 },
 "nbformat": 4,
 "nbformat_minor": 5
}
