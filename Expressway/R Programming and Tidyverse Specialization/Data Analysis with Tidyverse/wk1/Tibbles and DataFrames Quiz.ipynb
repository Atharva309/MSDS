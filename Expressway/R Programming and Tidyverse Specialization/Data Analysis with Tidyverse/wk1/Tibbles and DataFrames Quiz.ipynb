{
 "cells": [
  {
   "cell_type": "markdown",
   "id": "26e88c55",
   "metadata": {},
   "source": [
    "1. There is no difference between Tibbles and DataFrames.\n",
    "\n",
    "    - False"
   ]
  },
  {
   "cell_type": "markdown",
   "id": "2c841c61",
   "metadata": {},
   "source": [
    "2. What is the difference between \n",
    "\n",
    "    tibble$column\n",
    "\n",
    "    tibble[\"column\"]\n",
    "\n",
    "    tibble[[\"column\"]]\n",
    "    \n",
    "    \n",
    "    - 1 and 3 return a vector but 2 returns a tibble."
   ]
  },
  {
   "cell_type": "markdown",
   "id": "eec3cde4",
   "metadata": {},
   "source": [
    "3. What are some advantages of tibbles over dataframes (select all that apply)?\n",
    "\n",
    "    - tibbles limit the output to the screen for a variable\n",
    "    - tibbles show the datatype of each column"
   ]
  },
  {
   "cell_type": "code",
   "execution_count": null,
   "id": "a23c48c1",
   "metadata": {},
   "outputs": [],
   "source": []
  }
 ],
 "metadata": {
  "kernelspec": {
   "display_name": "R",
   "language": "R",
   "name": "ir"
  },
  "language_info": {
   "codemirror_mode": "r",
   "file_extension": ".r",
   "mimetype": "text/x-r-source",
   "name": "R",
   "pygments_lexer": "r",
   "version": "4.2.1"
  }
 },
 "nbformat": 4,
 "nbformat_minor": 5
}
