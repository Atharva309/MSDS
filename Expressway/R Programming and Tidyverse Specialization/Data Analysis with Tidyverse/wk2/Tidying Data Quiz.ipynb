{
 "cells": [
  {
   "cell_type": "markdown",
   "id": "e729cb40",
   "metadata": {},
   "source": [
    "1. Which of the following are characteristics of tidy data?"
   ]
  },
  {
   "cell_type": "markdown",
   "id": "bea4d1ef",
   "metadata": {},
   "source": [
    "2. \"pivot_wider()\" makes a dataset wider by increasing the number of columns and decreasing the number of rows."
   ]
  },
  {
   "cell_type": "markdown",
   "id": "fb6e39f3",
   "metadata": {},
   "source": [
    "3. Which function is used to split a column into multiple columns?"
   ]
  },
  {
   "cell_type": "markdown",
   "id": "d85f6857",
   "metadata": {},
   "source": [
    "4. The complete() function"
   ]
  },
  {
   "cell_type": "markdown",
   "id": "937946c7",
   "metadata": {},
   "source": [
    "5. The functions \"fill()\" and \"replace_na()\" achieve the same results."
   ]
  },
  {
   "cell_type": "code",
   "execution_count": null,
   "id": "71dc2f85",
   "metadata": {},
   "outputs": [],
   "source": []
  }
 ],
 "metadata": {
  "kernelspec": {
   "display_name": "R",
   "language": "R",
   "name": "ir"
  },
  "language_info": {
   "codemirror_mode": "r",
   "file_extension": ".r",
   "mimetype": "text/x-r-source",
   "name": "R",
   "pygments_lexer": "r",
   "version": "4.2.1"
  }
 },
 "nbformat": 4,
 "nbformat_minor": 5
}
