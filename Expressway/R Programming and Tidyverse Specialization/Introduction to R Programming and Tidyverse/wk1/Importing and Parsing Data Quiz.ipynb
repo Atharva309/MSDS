{
 "cells": [
  {
   "cell_type": "markdown",
   "id": "6ad04bd9",
   "metadata": {},
   "source": [
    "1. What command do we use to read in tab-separated files?"
   ]
  },
  {
   "cell_type": "markdown",
   "id": "341ceecb",
   "metadata": {},
   "source": [
    "- read_tsv\n",
    "- read_delim\n"
   ]
  },
  {
   "cell_type": "markdown",
   "id": "2ec358d6",
   "metadata": {},
   "source": [
    "2. What are the advantages of read_csv over read.csv (choose all correct responses)?"
   ]
  },
  {
   "cell_type": "markdown",
   "id": "28dc0f4f",
   "metadata": {},
   "source": [
    "- read_csv returns a tibble by default\n",
    "- read_csv is much faster "
   ]
  },
  {
   "cell_type": "markdown",
   "id": "84e56f34",
   "metadata": {},
   "source": [
    "3. In which of the following situations can a parser be used?"
   ]
  },
  {
   "cell_type": "markdown",
   "id": "333b9e74",
   "metadata": {},
   "source": [
    "- To convert data types.\n",
    "- To decode encoded characters."
   ]
  },
  {
   "cell_type": "code",
   "execution_count": null,
   "id": "ca3411f1",
   "metadata": {},
   "outputs": [],
   "source": []
  }
 ],
 "metadata": {
  "kernelspec": {
   "display_name": "Python 3 (ipykernel)",
   "language": "python",
   "name": "python3"
  },
  "language_info": {
   "codemirror_mode": {
    "name": "ipython",
    "version": 3
   },
   "file_extension": ".py",
   "mimetype": "text/x-python",
   "name": "python",
   "nbconvert_exporter": "python",
   "pygments_lexer": "ipython3",
   "version": "3.9.12"
  }
 },
 "nbformat": 4,
 "nbformat_minor": 5
}
