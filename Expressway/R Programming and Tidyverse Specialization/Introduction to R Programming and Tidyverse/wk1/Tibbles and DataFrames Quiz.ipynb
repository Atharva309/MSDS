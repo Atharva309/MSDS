{
 "cells": [
  {
   "cell_type": "markdown",
   "id": "58164fa7",
   "metadata": {},
   "source": [
    "1. There is no difference between Tibbles and DataFrames."
   ]
  },
  {
   "cell_type": "markdown",
   "id": "3aed7b7c",
   "metadata": {},
   "source": [
    "Answer: False\n",
    "\n",
    "Tibbles have certain features like displaying data type, restricting rows,  allowing name conventions that are prohibited by base R, etc. that  DataFrames doesn't have."
   ]
  },
  {
   "cell_type": "markdown",
   "id": "5c849798",
   "metadata": {},
   "source": [
    "2. What is the difference between \n",
    "- tibble$column\n",
    "- tibble[\"column\"]\n",
    "- tibble[[\"column\"]]"
   ]
  },
  {
   "cell_type": "markdown",
   "id": "7ada60f6",
   "metadata": {},
   "source": [
    "Answer: \n",
    "- 1 and 3 return a vector but 2 returns a tibble."
   ]
  },
  {
   "cell_type": "markdown",
   "id": "f37f660b",
   "metadata": {},
   "source": [
    "3. What are some advantages of tibbles over dataframes (select all that apply)?"
   ]
  },
  {
   "cell_type": "markdown",
   "id": "be0e0e29",
   "metadata": {},
   "source": [
    "Answer: \n",
    "- tibbles limit the output to the screen for a variable\n",
    "- tibbles show the datatype of each column"
   ]
  },
  {
   "cell_type": "markdown",
   "id": "900b6177",
   "metadata": {},
   "source": []
  },
  {
   "cell_type": "markdown",
   "id": "32463494",
   "metadata": {},
   "source": []
  },
  {
   "cell_type": "markdown",
   "id": "4ab72e35",
   "metadata": {},
   "source": []
  }
 ],
 "metadata": {
  "kernelspec": {
   "display_name": "Python 3 (ipykernel)",
   "language": "python",
   "name": "python3"
  },
  "language_info": {
   "codemirror_mode": {
    "name": "ipython",
    "version": 3
   },
   "file_extension": ".py",
   "mimetype": "text/x-python",
   "name": "python",
   "nbconvert_exporter": "python",
   "pygments_lexer": "ipython3",
   "version": "3.9.12"
  }
 },
 "nbformat": 4,
 "nbformat_minor": 5
}
