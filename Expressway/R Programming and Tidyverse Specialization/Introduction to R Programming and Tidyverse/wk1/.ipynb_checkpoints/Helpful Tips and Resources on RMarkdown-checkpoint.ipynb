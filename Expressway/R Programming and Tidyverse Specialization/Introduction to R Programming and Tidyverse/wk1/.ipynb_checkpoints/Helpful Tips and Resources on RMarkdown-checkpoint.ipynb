{
 "cells": [
  {
   "cell_type": "markdown",
   "id": "b0464eba",
   "metadata": {},
   "source": [
    "\n",
    "Things to always do in RMarkdown:\n",
    "\n",
    "Use relative and not absolute paths\n",
    "\n",
    "    “../filename” goes up one level\n",
    "\n",
    "    “/Data/filename.csv” would access the file filename in the Data folder of your current directory\n",
    "\n",
    "Put any data you are using in a data folder\n",
    "\n",
    "    if(!file.exists(“Data”)){dir.create(“Data”)}\n",
    "\n",
    "Show the code for any assignment you are turning in unless instructed otherwise\n",
    "\n",
    "Comment out lines that you use for debugging your code\n",
    "\n",
    "Include your test cases and their output when needed\n",
    "\n",
    "At the very end put an R chunk that has sessionInfo()\n",
    "\n",
    "Things to never do in RMarkdown:\n",
    "\n",
    "    Setwd\n",
    "\n",
    "    Install packages\n",
    "\n",
    "More Tips:\n",
    "\n",
    "    Name code chunks (each name must be unique)\n",
    "\n",
    "    Knit frequently\n",
    "\n",
    "    Try out commands in the console first, then put in code chunks\n",
    "\n",
    "    If you can’t get it to knit, set eval = FALSE in the problem chunk until you can debug it\n",
    "\n",
    "Resources:\n",
    "\n",
    "    [Markdown Reference Guide] (https://www.rstudio.com/wp-content/uploads/2015/03/rmarkdown-reference.pdf)\n",
    "\n",
    "    you can get to the reference guide from the Help on RStudio\n",
    "\n",
    "    [New Book on RMarkdown] (https://bookdown.org/yihui/rmarkdown/)"
   ]
  },
  {
   "cell_type": "code",
   "execution_count": null,
   "id": "09012c34",
   "metadata": {},
   "outputs": [],
   "source": []
  }
 ],
 "metadata": {
  "kernelspec": {
   "display_name": "R",
   "language": "R",
   "name": "ir"
  },
  "language_info": {
   "codemirror_mode": "r",
   "file_extension": ".r",
   "mimetype": "text/x-r-source",
   "name": "R",
   "pygments_lexer": "r",
   "version": "4.2.1"
  }
 },
 "nbformat": 4,
 "nbformat_minor": 5
}
