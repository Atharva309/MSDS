{
 "cells": [
  {
   "cell_type": "markdown",
   "id": "f0da33b9",
   "metadata": {},
   "source": [
    "\n",
    "We will examine data transformation (wrangling) by looking first at ways to transform data contained within a single table.\n",
    "\n",
    "Rows:\n",
    "\n",
    "    filter() extracts a subset of rows based on column values\n",
    "\n",
    "    slice() chooses rows based on location\n",
    "\n",
    "    arrange() changes the order of the rows\n",
    "\n",
    "Columns:\n",
    "\n",
    "    select() includes or excludes columns\n",
    "\n",
    "    rename() changes names of variables (columns)\n",
    "\n",
    "    mutate() adds new variables/columns or transform existing variables\n",
    "\n",
    "    relocate() changes the order of the columns\n",
    "\n",
    "Groups of rows:\n",
    "\n",
    "    group_by() groups by one or more variable(s)\n",
    "\n",
    "    summarize() collapses a group into a single row by generating summary statistics of different variables\n",
    "\n",
    "The pipe operator is used to connect multiple verb actions together into a pipeline. All of the dplyr functions take a data frame (or tibble) as the first argument. Rather than forcing the user to either save intermediate objects or nest functions, dplyr provides the %>% operator from magrittr. x %>% f(y) turns into f(x, y) so the result from one step is then “piped” into the next step. You can use the pipe to rewrite multiple operations that you can read left-to-right, top-to-bottom (reading the pipe operator as “then”).\n",
    "\n",
    "This lecture is taken directly from [https://cran.rstudio.com/web/packages/dplyr/vignettes/introduction.html] and [https://dplyr.tidyverse.org/articles/dplyr.html]"
   ]
  },
  {
   "cell_type": "code",
   "execution_count": null,
   "id": "f2dace54",
   "metadata": {},
   "outputs": [],
   "source": []
  }
 ],
 "metadata": {
  "kernelspec": {
   "display_name": "R",
   "language": "R",
   "name": "ir"
  },
  "language_info": {
   "codemirror_mode": "r",
   "file_extension": ".r",
   "mimetype": "text/x-r-source",
   "name": "R",
   "pygments_lexer": "r",
   "version": "4.2.1"
  }
 },
 "nbformat": 4,
 "nbformat_minor": 5
}
