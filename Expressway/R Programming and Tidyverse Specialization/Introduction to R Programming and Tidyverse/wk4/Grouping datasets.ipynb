{
 "cells": [
  {
   "cell_type": "markdown",
   "id": "e0f090ee",
   "metadata": {},
   "source": [
    "Grouping datasets\n",
    "\n",
    "When you want to do some analysis for each element of a certain group. Grouping affects the verbs as follows:\n",
    "\n",
    "    grouped select() is the same as ungrouped select(), except that grouping variables are always retained.\n",
    "\n",
    "    grouped arrange() orders first by the grouping variables\n",
    "\n",
    "    slice() extracts rows within each group.\n",
    "\n",
    "    summarise() is powerful and easy to understand, as described in more detail below."
   ]
  },
  {
   "cell_type": "code",
   "execution_count": null,
   "id": "6195565e",
   "metadata": {},
   "outputs": [],
   "source": []
  }
 ],
 "metadata": {
  "kernelspec": {
   "display_name": "R",
   "language": "R",
   "name": "ir"
  },
  "language_info": {
   "codemirror_mode": "r",
   "file_extension": ".r",
   "mimetype": "text/x-r-source",
   "name": "R",
   "pygments_lexer": "r",
   "version": "4.2.1"
  }
 },
 "nbformat": 4,
 "nbformat_minor": 5
}
