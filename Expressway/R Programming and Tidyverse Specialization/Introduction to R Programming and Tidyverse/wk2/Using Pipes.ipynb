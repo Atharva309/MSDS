{
 "cells": [
  {
   "cell_type": "markdown",
   "id": "e96a7feb",
   "metadata": {},
   "source": [
    "The magrittr package provides a set of tools that can make our code easier to read and understand by using pipes to:\n",
    "\n",
    "    structure data operations from left-to-right, rather than inside-out,\n",
    "\n",
    "    avoid nesting functions,\n",
    "\n",
    "    minimize creating local variables and functions, and \n",
    "\n",
    "    easily add (or remove) steps in a sequence.\n",
    "\n",
    "To sequence operations, magrittr provides the pipe operator, %>%, which passes the left-hand values forward into the right-hand expression. For example, say you have a vector of values from 1 to 20 and you want to perform a series of operations on that vector. You could write the following script: "
   ]
  },
  {
   "cell_type": "code",
   "execution_count": 1,
   "id": "f0914c93",
   "metadata": {},
   "outputs": [
    {
     "data": {
      "text/html": [
       "<style>\n",
       ".list-inline {list-style: none; margin:0; padding: 0}\n",
       ".list-inline>li {display: inline-block}\n",
       ".list-inline>li:not(:last-child)::after {content: \"\\00b7\"; padding: 0 .5ex}\n",
       "</style>\n",
       "<ol class=list-inline><li>1</li><li>1.41</li><li>1.73</li><li>2</li><li>2.24</li><li>2.45</li><li>2.65</li><li>2.83</li><li>3</li><li>3.16</li><li>3.32</li><li>3.46</li><li>3.61</li><li>3.74</li><li>3.87</li></ol>\n"
      ],
      "text/latex": [
       "\\begin{enumerate*}\n",
       "\\item 1\n",
       "\\item 1.41\n",
       "\\item 1.73\n",
       "\\item 2\n",
       "\\item 2.24\n",
       "\\item 2.45\n",
       "\\item 2.65\n",
       "\\item 2.83\n",
       "\\item 3\n",
       "\\item 3.16\n",
       "\\item 3.32\n",
       "\\item 3.46\n",
       "\\item 3.61\n",
       "\\item 3.74\n",
       "\\item 3.87\n",
       "\\end{enumerate*}\n"
      ],
      "text/markdown": [
       "1. 1\n",
       "2. 1.41\n",
       "3. 1.73\n",
       "4. 2\n",
       "5. 2.24\n",
       "6. 2.45\n",
       "7. 2.65\n",
       "8. 2.83\n",
       "9. 3\n",
       "10. 3.16\n",
       "11. 3.32\n",
       "12. 3.46\n",
       "13. 3.61\n",
       "14. 3.74\n",
       "15. 3.87\n",
       "\n",
       "\n"
      ],
      "text/plain": [
       " [1] 1.00 1.41 1.73 2.00 2.24 2.45 2.65 2.83 3.00 3.16 3.32 3.46 3.61 3.74 3.87"
      ]
     },
     "metadata": {},
     "output_type": "display_data"
    }
   ],
   "source": [
    "x <- c(1:15)\n",
    "round(sqrt(exp(log(x))), 2)"
   ]
  },
  {
   "cell_type": "markdown",
   "id": "682696e3",
   "metadata": {},
   "source": [
    "Or, with the help of the pipe operator, we can rewrite this script as: "
   ]
  },
  {
   "cell_type": "code",
   "execution_count": 2,
   "id": "277bfb02",
   "metadata": {},
   "outputs": [
    {
     "data": {
      "text/html": [
       "<style>\n",
       ".list-inline {list-style: none; margin:0; padding: 0}\n",
       ".list-inline>li {display: inline-block}\n",
       ".list-inline>li:not(:last-child)::after {content: \"\\00b7\"; padding: 0 .5ex}\n",
       "</style>\n",
       "<ol class=list-inline><li>1</li><li>1.41</li><li>1.73</li><li>2</li><li>2.24</li><li>2.45</li><li>2.65</li><li>2.83</li><li>3</li><li>3.16</li><li>3.32</li><li>3.46</li><li>3.61</li><li>3.74</li><li>3.87</li></ol>\n"
      ],
      "text/latex": [
       "\\begin{enumerate*}\n",
       "\\item 1\n",
       "\\item 1.41\n",
       "\\item 1.73\n",
       "\\item 2\n",
       "\\item 2.24\n",
       "\\item 2.45\n",
       "\\item 2.65\n",
       "\\item 2.83\n",
       "\\item 3\n",
       "\\item 3.16\n",
       "\\item 3.32\n",
       "\\item 3.46\n",
       "\\item 3.61\n",
       "\\item 3.74\n",
       "\\item 3.87\n",
       "\\end{enumerate*}\n"
      ],
      "text/markdown": [
       "1. 1\n",
       "2. 1.41\n",
       "3. 1.73\n",
       "4. 2\n",
       "5. 2.24\n",
       "6. 2.45\n",
       "7. 2.65\n",
       "8. 2.83\n",
       "9. 3\n",
       "10. 3.16\n",
       "11. 3.32\n",
       "12. 3.46\n",
       "13. 3.61\n",
       "14. 3.74\n",
       "15. 3.87\n",
       "\n",
       "\n"
      ],
      "text/plain": [
       " [1] 1.00 1.41 1.73 2.00 2.24 2.45 2.65 2.83 3.00 3.16 3.32 3.46 3.61 3.74 3.87"
      ]
     },
     "metadata": {},
     "output_type": "display_data"
    }
   ],
   "source": [
    "library(magrittr) ## import the magrittr package\n",
    "x <- c(1:15)\n",
    "x %>% \n",
    "    log() %>%\n",
    "    exp() %>%\n",
    "    sqrt() %>%\n",
    "    round(2)"
   ]
  },
  {
   "cell_type": "markdown",
   "id": "6a0ab036",
   "metadata": {},
   "source": [
    "Another useful operator provided by magrittr is the explode operator: %$%. It \"explodes\" variables in a data frame so they can be referred to without attaching them.\n",
    "\n",
    "For example, in base R if we wanted to correlate the displacement and mpg values in the mtcars dataset, we might use one of the following :"
   ]
  },
  {
   "cell_type": "code",
   "execution_count": 3,
   "id": "134605b1",
   "metadata": {},
   "outputs": [
    {
     "data": {
      "text/html": [
       "-0.847551379262479"
      ],
      "text/latex": [
       "-0.847551379262479"
      ],
      "text/markdown": [
       "-0.847551379262479"
      ],
      "text/plain": [
       "[1] -0.8475514"
      ]
     },
     "metadata": {},
     "output_type": "display_data"
    }
   ],
   "source": [
    "cor(mtcars$disp, mtcars$mpg)"
   ]
  },
  {
   "cell_type": "code",
   "execution_count": 4,
   "id": "b6a9eb3c",
   "metadata": {},
   "outputs": [
    {
     "data": {
      "text/html": [
       "-0.847551379262479"
      ],
      "text/latex": [
       "-0.847551379262479"
      ],
      "text/markdown": [
       "-0.847551379262479"
      ],
      "text/plain": [
       "[1] -0.8475514"
      ]
     },
     "metadata": {},
     "output_type": "display_data"
    }
   ],
   "source": [
    "attach(mtcars)\n",
    "cor(disp, mpg)"
   ]
  },
  {
   "cell_type": "code",
   "execution_count": 5,
   "id": "0a551b2c",
   "metadata": {},
   "outputs": [
    {
     "data": {
      "text/html": [
       "-0.847551379262479"
      ],
      "text/latex": [
       "-0.847551379262479"
      ],
      "text/markdown": [
       "-0.847551379262479"
      ],
      "text/plain": [
       "[1] -0.8475514"
      ]
     },
     "metadata": {},
     "output_type": "display_data"
    }
   ],
   "source": [
    "library(magrittr)\n",
    "mtcars %$%\n",
    "    cor(disp, mpg)"
   ]
  },
  {
   "cell_type": "code",
   "execution_count": null,
   "id": "e99b470d",
   "metadata": {},
   "outputs": [],
   "source": []
  }
 ],
 "metadata": {
  "kernelspec": {
   "display_name": "R",
   "language": "R",
   "name": "ir"
  },
  "language_info": {
   "codemirror_mode": "r",
   "file_extension": ".r",
   "mimetype": "text/x-r-source",
   "name": "R",
   "pygments_lexer": "r",
   "version": "4.2.1"
  }
 },
 "nbformat": 4,
 "nbformat_minor": 5
}
