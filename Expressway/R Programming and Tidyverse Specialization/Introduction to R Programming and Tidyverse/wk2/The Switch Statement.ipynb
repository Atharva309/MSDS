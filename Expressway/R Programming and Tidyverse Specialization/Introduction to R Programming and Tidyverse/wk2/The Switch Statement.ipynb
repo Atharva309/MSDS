{
 "cells": [
  {
   "cell_type": "markdown",
   "id": "59a84707",
   "metadata": {},
   "source": [
    "You may chain multiple if statments or use switch or cut:"
   ]
  },
  {
   "cell_type": "code",
   "execution_count": 1,
   "id": "61ffea5d",
   "metadata": {},
   "outputs": [
    {
     "data": {
      "text/html": [
       "6"
      ],
      "text/latex": [
       "6"
      ],
      "text/markdown": [
       "6"
      ],
      "text/plain": [
       "[1] 6"
      ]
     },
     "metadata": {},
     "output_type": "display_data"
    },
    {
     "data": {
      "text/html": [
       "0.5"
      ],
      "text/latex": [
       "0.5"
      ],
      "text/markdown": [
       "0.5"
      ],
      "text/plain": [
       "[1] 0.5"
      ]
     },
     "metadata": {},
     "output_type": "display_data"
    }
   ],
   "source": [
    "do_op <- function(x, y, op) {\n",
    "  switch(op,\n",
    "     plus = x + y,\n",
    "     minus = x - y,\n",
    "     times = x * y,\n",
    "     divide = x / y,\n",
    "     stop(\"Unknown op!\")\n",
    "  )\n",
    "}\n",
    "\n",
    "do_op(2,4,\"plus\")\n",
    "do_op(2,4,\"divide\")\n",
    "\n",
    "## What would happen if we uncommented and ran the code below? \n",
    "\n",
    "# do_op(2,4,\"mod\")\n",
    "\n"
   ]
  },
  {
   "cell_type": "markdown",
   "id": "9aa62008",
   "metadata": {},
   "source": [
    "Some code style standards:\n",
    "\n",
    "    Put function code and if statement code inside {}\n",
    "\n",
    "    opening { never on own line and always followed by a new line\n",
    "\n",
    "    closing } on own line unless followed by else\n",
    "\n",
    "    use indentation"
   ]
  },
  {
   "cell_type": "code",
   "execution_count": null,
   "id": "bb3f00ff",
   "metadata": {},
   "outputs": [],
   "source": []
  }
 ],
 "metadata": {
  "kernelspec": {
   "display_name": "R",
   "language": "R",
   "name": "ir"
  },
  "language_info": {
   "codemirror_mode": "r",
   "file_extension": ".r",
   "mimetype": "text/x-r-source",
   "name": "R",
   "pygments_lexer": "r",
   "version": "4.2.1"
  }
 },
 "nbformat": 4,
 "nbformat_minor": 5
}
