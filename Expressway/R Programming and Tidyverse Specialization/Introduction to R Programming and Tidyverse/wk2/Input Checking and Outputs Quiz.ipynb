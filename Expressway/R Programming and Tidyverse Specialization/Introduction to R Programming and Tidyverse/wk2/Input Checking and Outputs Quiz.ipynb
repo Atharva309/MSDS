{
 "cells": [
  {
   "cell_type": "markdown",
   "id": "cab8d7a8",
   "metadata": {},
   "source": [
    "The function below takes two inputs, x and y, and performs a series of if statements before returning an output value. \n",
    "\n",
    "```\n",
    "multiple_conditions <- function(x, y){\n",
    "\n",
    "  # Statement 1\n",
    "  if(x < y){\n",
    "    x <- x*2\n",
    "  }\n",
    "  \n",
    "  # Statement 2\n",
    "  if(y > x) {\n",
    "    y/2\n",
    "  } else {\n",
    "    y\n",
    "  }\n",
    "}\n",
    "```\n",
    "\n",
    "Remember that an if - else statement uses the following logic: \n",
    "\n",
    "```\n",
    "if (condition) {\n",
    "    << if condition is TRUE >>\n",
    "    << statements to be executed >>\n",
    "} else {\n",
    "    << if condition is FALSE >>\n",
    "    << statements to be executed >>\n",
    "}\n",
    "```\n",
    "\n",
    "Using this information, answer the following questions below.\n",
    "\n",
    "\n",
    "## 1. multiple_conditions() contains two if statements. Which of the following best describes these statements.\n",
    "\n",
    "(select all that apply"
   ]
  },
  {
   "cell_type": "markdown",
   "id": "6441606a",
   "metadata": {},
   "source": [
    "- Statement 2 evaluates whether or not y is greater than x (y > x). If the condition is FALSE, the value of y is returned.\n",
    "- Statement 1 evaulates whether or not x is less than y (x < y). If the condition is TRUE, x is mulitpled by 2 and assigned to x.\n",
    "- Statement 2 evaluates whether or not y is greater than x (y > x). If the condition is TRUE, y is divided by 2 and returned."
   ]
  },
  {
   "cell_type": "markdown",
   "id": "663b9f1c",
   "metadata": {},
   "source": [
    "## 2. What value is returned when x=2x=2 and y=6y=6 ??"
   ]
  },
  {
   "cell_type": "markdown",
   "id": "2905ab36",
   "metadata": {},
   "source": [
    "- 3"
   ]
  },
  {
   "cell_type": "markdown",
   "id": "231a2077",
   "metadata": {},
   "source": [
    "## 3. What value is returned when x=2x=2 and y=3.2y=3.2 ??"
   ]
  },
  {
   "cell_type": "markdown",
   "id": "68b0da66",
   "metadata": {},
   "source": [
    "- 3.2"
   ]
  },
  {
   "cell_type": "markdown",
   "id": "8b7e2460",
   "metadata": {},
   "source": [
    "## 4. What value is returned when x=2x=2 and y=1y=1 ??"
   ]
  },
  {
   "cell_type": "markdown",
   "id": "1fbc683b",
   "metadata": {},
   "source": [
    "- 1"
   ]
  },
  {
   "cell_type": "markdown",
   "id": "33ed2fd7",
   "metadata": {},
   "source": [
    "## 5. Statement 1 needs to be updated to check if xx is less than or equal to y.  If this condition is TRUE, x is mulitpled by 2 and assigned to x. If this condition is FALSE, x is divided by 2 and assigned to x.\n",
    "\n",
    "Which of the following statements correctly represents these changes?"
   ]
  },
  {
   "cell_type": "markdown",
   "id": "1185c88b",
   "metadata": {},
   "source": [
    "Answer:\n",
    "\n",
    "```\n",
    "if (x <= y) {\n",
    "    x <- x*2\n",
    "} else {\n",
    "    x <- x/2\n",
    "}\n",
    "```"
   ]
  },
  {
   "cell_type": "markdown",
   "id": "1bd71811",
   "metadata": {},
   "source": [
    "## 6. If non-numeric values are passed to multiple_conditions() the function would behave incorrectly. \n",
    "\n",
    "Which of the following statements would inspect  x and y and stop the functinon if either of them are non-numeric? \n",
    "\n",
    "(select all that apply)"
   ]
  },
  {
   "cell_type": "markdown",
   "id": "a9460dc0",
   "metadata": {},
   "source": [
    "Answer:\n",
    "\n",
    "```\n",
    "if(!is.numeric(x) || !is.numeric(y)){\n",
    "    stop(\"inputs must all be numeric\")\n",
    "  } \n",
    "```\n",
    "\n",
    "---\n",
    "\n",
    "```\n",
    "if(is.character(x) || is.character(y)){\n",
    "    stop(\"inputs must all be numeric\")\n",
    "  } \n",
    "```"
   ]
  },
  {
   "cell_type": "code",
   "execution_count": null,
   "id": "75847a54",
   "metadata": {},
   "outputs": [],
   "source": []
  }
 ],
 "metadata": {
  "kernelspec": {
   "display_name": "Python 3 (ipykernel)",
   "language": "python",
   "name": "python3"
  },
  "language_info": {
   "codemirror_mode": {
    "name": "ipython",
    "version": 3
   },
   "file_extension": ".py",
   "mimetype": "text/x-python",
   "name": "python",
   "nbconvert_exporter": "python",
   "pygments_lexer": "ipython3",
   "version": "3.9.12"
  }
 },
 "nbformat": 4,
 "nbformat_minor": 5
}
