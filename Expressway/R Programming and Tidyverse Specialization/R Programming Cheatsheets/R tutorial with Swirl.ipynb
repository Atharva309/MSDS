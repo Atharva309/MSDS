{
 "cells": [
  {
   "cell_type": "markdown",
   "id": "98af62a5",
   "metadata": {},
   "source": [
    "R tutorial with Swirl:\n",
    "https://github.com/swirldev/swirl_courses"
   ]
  },
  {
   "cell_type": "markdown",
   "id": "2811610b",
   "metadata": {},
   "source": [
    "Swirl Courses Organized by Title: http://swirlstats.com/scn/title.html"
   ]
  },
  {
   "cell_type": "code",
   "execution_count": null,
   "id": "433db007",
   "metadata": {},
   "outputs": [],
   "source": []
  }
 ],
 "metadata": {
  "kernelspec": {
   "display_name": "R",
   "language": "R",
   "name": "ir"
  },
  "language_info": {
   "codemirror_mode": "r",
   "file_extension": ".r",
   "mimetype": "text/x-r-source",
   "name": "R",
   "pygments_lexer": "r",
   "version": "4.2.1"
  }
 },
 "nbformat": 4,
 "nbformat_minor": 5
}
