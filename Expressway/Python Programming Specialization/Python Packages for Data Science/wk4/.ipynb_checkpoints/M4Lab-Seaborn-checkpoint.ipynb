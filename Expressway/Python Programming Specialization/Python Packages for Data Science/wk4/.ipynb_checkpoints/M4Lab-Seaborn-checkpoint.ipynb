{
 "cells": [
  {
   "cell_type": "markdown",
   "metadata": {
    "id": "fe7l2Vy92BWu"
   },
   "source": [
    "#Welcome to our Lab practice!\n",
    "\n",
    "This lab is all about the package, Seaborn. Are you ready? Let's go!\n",
    "\n",
    "You will find some small tasks in sections below. \n",
    "\n",
    "> Try to figure out by yourself, or search for references. Being able to search and find information needed is an important skill that benefits you and your career for a long time.\n",
    "\n",
    "> Please note this lab is exploratory, and there is no correct solution -- Just try your best!\n",
    "\n",
    "\n",
    "### Choose One dataset from the list below, and play with it. \n",
    "\n",
    "For practice purpose, you can load and play with one or more toy datasets in seaborn package (as we did for *tips* in lectures). You can get them by:\n",
    "\n",
    "```\n",
    "import seaborn as sns\n",
    "data = sns.load_dataset('NAME')\n",
    "```\n",
    "\n",
    "The list of names can be found at [Seaborn Datasets](https://github.com/mwaskom/seaborn-data):\n",
    "\n",
    "```\n",
    "['anagrams', 'anscombe', 'attention', 'brain_networks', 'car_crashes',\n",
    " 'diamonds', 'dots', 'exercise', 'flights', 'fmri', 'gammas', 'geyser',\n",
    "'iris', 'mpg', 'penguins', 'planets', 'taxis', 'tips', 'titanic']\n",
    "```\n",
    "\n",
    "For example, to play with the dataset *iris*, you can do:\n",
    "\n",
    "```\n",
    "import seaborn as sns\n",
    "data = sns.load_dataset('iris')\n",
    "```"
   ]
  },
  {
   "cell_type": "markdown",
   "metadata": {
    "id": "TTElGHtF2N7g"
   },
   "source": [
    "## Set up the environment"
   ]
  },
  {
   "cell_type": "markdown",
   "metadata": {
    "id": "0CtQu71C3PP8"
   },
   "source": [
    "### Task: import packages and rename them accordingly"
   ]
  },
  {
   "cell_type": "code",
   "execution_count": null,
   "metadata": {
    "id": "n7qiruks8HZ5"
   },
   "outputs": [],
   "source": [
    "# your code is here"
   ]
  },
  {
   "cell_type": "markdown",
   "metadata": {
    "id": "2kZ6qipm3WME"
   },
   "source": [
    "## Load the dataset"
   ]
  },
  {
   "cell_type": "code",
   "execution_count": null,
   "metadata": {
    "id": "MeK1uh3on-V_"
   },
   "outputs": [],
   "source": [
    "# your code is here"
   ]
  },
  {
   "cell_type": "markdown",
   "metadata": {
    "id": "dLWpbT-T3HHW"
   },
   "source": [
    "## Play with relational plots"
   ]
  },
  {
   "cell_type": "code",
   "execution_count": null,
   "metadata": {
    "id": "HzmEJJejn_EY"
   },
   "outputs": [],
   "source": [
    "# your code is here"
   ]
  },
  {
   "cell_type": "markdown",
   "metadata": {
    "id": "AtoB9Z7I3Knu"
   },
   "source": [
    "## Play with distribution plots"
   ]
  },
  {
   "cell_type": "code",
   "execution_count": null,
   "metadata": {
    "id": "m_WjFjRTn_wY"
   },
   "outputs": [],
   "source": [
    "# your code is here"
   ]
  },
  {
   "cell_type": "markdown",
   "metadata": {
    "id": "2IaKEv6U3OIJ"
   },
   "source": [
    "## Play with other plots"
   ]
  },
  {
   "cell_type": "code",
   "execution_count": null,
   "metadata": {
    "id": "N7zz1dBJoAaX"
   },
   "outputs": [],
   "source": [
    "# your code is here"
   ]
  },
  {
   "cell_type": "markdown",
   "metadata": {
    "id": "3FgYLGgLqXy8"
   },
   "source": [
    "## Additional Challenge\n",
    "You may want to create new columns based on existing data using Pandas. You can play with the new columns as well."
   ]
  },
  {
   "cell_type": "code",
   "execution_count": null,
   "metadata": {
    "id": "XEuW_Z_bqY6_"
   },
   "outputs": [],
   "source": [
    "# your code is here"
   ]
  }
 ],
 "metadata": {
  "colab": {
   "authorship_tag": "ABX9TyMsTz3JTjZxDREWxfNev2F2",
   "collapsed_sections": [],
   "name": "M4Lab-Seaborn.ipynb",
   "provenance": [],
   "toc_visible": true
  },
  "kernelspec": {
   "display_name": "Python 3 (ipykernel)",
   "language": "python",
   "name": "python3"
  },
  "language_info": {
   "codemirror_mode": {
    "name": "ipython",
    "version": 3
   },
   "file_extension": ".py",
   "mimetype": "text/x-python",
   "name": "python",
   "nbconvert_exporter": "python",
   "pygments_lexer": "ipython3",
   "version": "3.9.12"
  }
 },
 "nbformat": 4,
 "nbformat_minor": 1
}
