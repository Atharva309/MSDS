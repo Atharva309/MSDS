{
 "cells": [
  {
   "cell_type": "markdown",
   "metadata": {
    "id": "fe7l2Vy92BWu"
   },
   "source": [
    "#Welcome to our Lab practice!\n",
    "\n",
    "This lab is all about the package, random. Are you ready? Let's go!\n",
    "\n",
    "You will find some small tasks in sections below. \n",
    "\n",
    "> Try to figure out by yourself, or search for references. Being able to search and find information needed is an important skill that benefits you and your career for a long time.\n",
    "\n",
    "\n",
    "\n"
   ]
  },
  {
   "cell_type": "markdown",
   "metadata": {
    "id": "TTElGHtF2N7g"
   },
   "source": [
    "## Random Int"
   ]
  },
  {
   "cell_type": "markdown",
   "metadata": {
    "id": "0CtQu71C3PP8"
   },
   "source": [
    "### Task: Generate a random positive integer less than 10. "
   ]
  },
  {
   "cell_type": "code",
   "execution_count": null,
   "metadata": {
    "id": "n7qiruks8HZ5"
   },
   "outputs": [],
   "source": [
    "# your code is here"
   ]
  },
  {
   "cell_type": "markdown",
   "metadata": {
    "id": "3FK5QxBO3dqS"
   },
   "source": [
    "### Task: Generate a random integer within 0 (inclusive) and 100 (inclusive)"
   ]
  },
  {
   "cell_type": "code",
   "execution_count": null,
   "metadata": {
    "id": "w-XimSI88J1J"
   },
   "outputs": [],
   "source": [
    "# your code is here"
   ]
  },
  {
   "cell_type": "markdown",
   "metadata": {
    "id": "42rLKWbe3l8m"
   },
   "source": [
    "### Task: Generate a random integer within a and b, where a and b are user entered integers and a $<=$ b"
   ]
  },
  {
   "cell_type": "code",
   "execution_count": null,
   "metadata": {
    "id": "ExbcAYLk8LYI"
   },
   "outputs": [],
   "source": [
    "# your code is here"
   ]
  },
  {
   "cell_type": "markdown",
   "metadata": {
    "id": "1ut5x4Zl2RVu"
   },
   "source": [
    "## Random Float"
   ]
  },
  {
   "cell_type": "markdown",
   "metadata": {
    "id": "dGUiTYKM4XTF"
   },
   "source": [
    "### Task: Generate a random float number between 0 and 1\n",
    "> hint: use random()"
   ]
  },
  {
   "cell_type": "code",
   "execution_count": null,
   "metadata": {
    "id": "MQ9sEgvL8Mph"
   },
   "outputs": [],
   "source": [
    "# your code is here"
   ]
  },
  {
   "cell_type": "markdown",
   "metadata": {
    "id": "VYkj8Sni5SLY"
   },
   "source": [
    "### Task: Generate a random float number between 0 and 10.\n",
    "> hint: use uniform()"
   ]
  },
  {
   "cell_type": "code",
   "execution_count": null,
   "metadata": {
    "id": "ezJbefBc8NSc"
   },
   "outputs": [],
   "source": [
    "# your code is here"
   ]
  },
  {
   "cell_type": "markdown",
   "metadata": {
    "id": "-BEsJESu4hx0"
   },
   "source": [
    "### Task: Generate a random float number between 5 and 10\n",
    ">hint: use uniform()"
   ]
  },
  {
   "cell_type": "code",
   "execution_count": null,
   "metadata": {
    "id": "GqsoQylO8Nz4"
   },
   "outputs": [],
   "source": [
    "# your code is here"
   ]
  },
  {
   "cell_type": "markdown",
   "metadata": {
    "id": "hi4_PetZ4oJk"
   },
   "source": [
    "### Task: Generate a random float number based on the Gaussian distribution\n",
    "> hint: search and learn gauss()"
   ]
  },
  {
   "cell_type": "code",
   "execution_count": null,
   "metadata": {
    "id": "Iwz0Ljxs8OqA"
   },
   "outputs": [],
   "source": [
    "# your code is here"
   ]
  },
  {
   "cell_type": "markdown",
   "metadata": {
    "id": "WYQEAas1TGrt"
   },
   "source": [
    "## Random Datasets\n",
    "\n",
    "### Genearte a list of 1000 random floats within 0 and 1."
   ]
  },
  {
   "cell_type": "code",
   "execution_count": null,
   "metadata": {
    "id": "yTk4pwujTElz"
   },
   "outputs": [],
   "source": [
    "# your code is here"
   ]
  },
  {
   "cell_type": "markdown",
   "metadata": {
    "id": "Ngk3kk8pTVcy"
   },
   "source": [
    "### Generate a list of 1000 random integers within 0 and 1."
   ]
  },
  {
   "cell_type": "code",
   "execution_count": null,
   "metadata": {
    "id": "q0UMrIi6TU_b"
   },
   "outputs": [],
   "source": [
    "# your code is here"
   ]
  },
  {
   "cell_type": "markdown",
   "metadata": {
    "id": "mI2RdvrJTwc7"
   },
   "source": [
    "### Generate a list of 1000 numbers following normal distribution with 10 as mean, and 1 as standard derivation."
   ]
  },
  {
   "cell_type": "code",
   "execution_count": null,
   "metadata": {
    "id": "J5QlBi6UT6Mp"
   },
   "outputs": [],
   "source": [
    "# your code is here"
   ]
  },
  {
   "cell_type": "markdown",
   "metadata": {
    "id": "UOtTtRQK2WA9"
   },
   "source": [
    "## Explore random module\n",
    "\n",
    "random module has many other functions besides random(), randint(), and the ones we have used above. Please search and explore by yourself -- this is a skill more important than learning materials presented to you. In your future career, you will have to explore unknown, and learn new skills, all the time."
   ]
  },
  {
   "cell_type": "code",
   "execution_count": null,
   "metadata": {
    "id": "WvrV6pOOgnJp"
   },
   "outputs": [],
   "source": [
    "# Your exploration is here"
   ]
  },
  {
   "cell_type": "markdown",
   "metadata": {
    "id": "GPn4oz6p7NnL"
   },
   "source": [
    "## Explore math module\n",
    "\n",
    "math module is another interesting and useful module to help you deal with math. Explore and learn by yourself."
   ]
  },
  {
   "cell_type": "code",
   "execution_count": null,
   "metadata": {
    "id": "3_N2Nz_ignsJ"
   },
   "outputs": [],
   "source": [
    "# Your exploration is here"
   ]
  }
 ],
 "metadata": {
  "colab": {
   "authorship_tag": "ABX9TyPUIwEGS8Ac+Bno7MW8KshU",
   "collapsed_sections": [],
   "name": "M1Lab-Random.ipynb",
   "provenance": [],
   "toc_visible": true
  },
  "kernelspec": {
   "display_name": "Python 3 (ipykernel)",
   "language": "python",
   "name": "python3"
  },
  "language_info": {
   "codemirror_mode": {
    "name": "ipython",
    "version": 3
   },
   "file_extension": ".py",
   "mimetype": "text/x-python",
   "name": "python",
   "nbconvert_exporter": "python",
   "pygments_lexer": "ipython3",
   "version": "3.9.12"
  }
 },
 "nbformat": 4,
 "nbformat_minor": 1
}
