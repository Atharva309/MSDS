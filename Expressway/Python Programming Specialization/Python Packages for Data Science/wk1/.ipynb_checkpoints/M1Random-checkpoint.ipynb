{
 "cells": [
  {
   "cell_type": "markdown",
   "metadata": {
    "id": "ysARIqqZwxU5"
   },
   "source": [
    "# Game 1\n",
    "\n",
    "We all played the game \"Rock Paper Scissor\".\n",
    "*  Rock wins Scissor\n",
    "*  Scissor wins Paper\n",
    "*  Paper wins Rock\n",
    "Let's write a program to simulate the game..\n",
    "*  We import random\n",
    "*  Call the random to produce an integer value in [0, 1, 2] for Player A\n",
    "*  Call the random again to produce an integer value in [0, 1, 2] for Player B\n",
    "*  *  0 represents Rock, 1 represents Paper, and 2 represents Scissors\n",
    "*  We print out who is the winner.\n",
    "\n",
    "Let's do it."
   ]
  },
  {
   "cell_type": "code",
   "execution_count": null,
   "metadata": {
    "id": "h_opLfCBwkJn"
   },
   "outputs": [],
   "source": [
    "import random"
   ]
  },
  {
   "cell_type": "code",
   "execution_count": null,
   "metadata": {
    "id": "0xlJcP9W278G"
   },
   "outputs": [],
   "source": [
    "def result():\n",
    "  return random.randint(0, 2)"
   ]
  },
  {
   "cell_type": "code",
   "execution_count": null,
   "metadata": {
    "id": "Wrp69aNW2-TG"
   },
   "outputs": [],
   "source": [
    "def game():\n",
    "  a = result()\n",
    "  b = result()\n",
    "  # 0 represents Rock, 1 represents Paper, 2 represents Scissor\n",
    "  if a == b:\n",
    "    print(\"Tie\")\n",
    "  elif a == 0 and b == 2:\n",
    "    print(\"A is Rock and B is Scissor, A Won\")\n",
    "  elif a == 2 and b == 0:\n",
    "    print(\"A is Scissor and B is Rock, B Won\")\n",
    "  elif a == 0 and b == 1:\n",
    "    print(\"A is Rock and B is Paper, B Won\")\n",
    "  elif a == 1 and b == 0:\n",
    "    print(\"A is Paper and B is Rock, A Won\")\n",
    "  elif a == 1 and b == 2:\n",
    "    print(\"A is Paper and B is Scissor, B Won\")\n",
    "  else:\n",
    "    print(\"A is Scissor and B is Paper, A Won\")"
   ]
  },
  {
   "cell_type": "code",
   "execution_count": null,
   "metadata": {
    "colab": {
     "base_uri": "https://localhost:8080/"
    },
    "executionInfo": {
     "elapsed": 114,
     "status": "ok",
     "timestamp": 1650860403631,
     "user": {
      "displayName": "Di Wu",
      "userId": "05255951341257561169"
     },
     "user_tz": 360
    },
    "id": "r5A79Bp74EK4",
    "outputId": "4c7cc233-80bb-4fdb-d278-f3048acada41"
   },
   "outputs": [
    {
     "name": "stdout",
     "output_type": "stream",
     "text": [
      "A is Paper and B is Rock, A Won\n"
     ]
    }
   ],
   "source": [
    "game()"
   ]
  },
  {
   "cell_type": "markdown",
   "metadata": {
    "id": "rmfXoIEaxRub"
   },
   "source": [
    "## Can you use the functions defined above, to simulate a three-round \"Rock Paper Scissor\"? The player wins 2 out of 3 wins the game."
   ]
  },
  {
   "cell_type": "code",
   "execution_count": null,
   "metadata": {
    "id": "ouD2LDvs3e0t"
   },
   "outputs": [],
   "source": [
    "def game_count():\n",
    "  a = result()\n",
    "  b = result()\n",
    "  # 0 represents Rock, 1 represents Paper, 2 represents Scissor\n",
    "  if a == 0 and b == 2:\n",
    "    #print(\"A is Rock and B is Scissor, A Won\")\n",
    "    return 'A'\n",
    "  elif a == 2 and b == 0:\n",
    "    #print(\"A is Scissor and A is Rock, B Won\")\n",
    "    return 'B'\n",
    "  elif a == 0 and b == 1:\n",
    "    #print(\"A is Rock and B is Paper, B Won\")\n",
    "    return 'B'\n",
    "  elif a == 1 and b == 0:\n",
    "    #print(\"A is Paper and B is Rock, A Won\")\n",
    "    return 'A'\n",
    "  elif a == 1 and b == 2:\n",
    "    #print(\"A is Paper and B is Scissor, B Won\")\n",
    "    return 'B'\n",
    "  elif a == 2 and b == 1:\n",
    "    #print(\"A is Scissor and B is Paper, A Won\")\n",
    "    return 'A'\n",
    "  else:\n",
    "    return 'T'\n",
    "\n",
    "def multi_game(n):\n",
    "  a_win = 0\n",
    "  b_win = 0\n",
    "  for i in range(n):\n",
    "    result = game_count()\n",
    "    if result == 'A':\n",
    "      a_win += 1\n",
    "    elif result == 'B':\n",
    "      b_win += 1\n",
    "  print('A won:', a_win, \". B won:\", b_win)\n"
   ]
  },
  {
   "cell_type": "code",
   "execution_count": null,
   "metadata": {
    "colab": {
     "base_uri": "https://localhost:8080/"
    },
    "executionInfo": {
     "elapsed": 143,
     "status": "ok",
     "timestamp": 1650860619271,
     "user": {
      "displayName": "Di Wu",
      "userId": "05255951341257561169"
     },
     "user_tz": 360
    },
    "id": "m1OI_9y94LEy",
    "outputId": "d84605cc-84f8-49dc-f795-22fccd0b1a2a"
   },
   "outputs": [
    {
     "name": "stdout",
     "output_type": "stream",
     "text": [
      "A won: 1 . B won: 1\n"
     ]
    }
   ],
   "source": [
    "multi_game(3)"
   ]
  },
  {
   "cell_type": "code",
   "execution_count": null,
   "metadata": {
    "colab": {
     "base_uri": "https://localhost:8080/"
    },
    "executionInfo": {
     "elapsed": 117,
     "status": "ok",
     "timestamp": 1650860666561,
     "user": {
      "displayName": "Di Wu",
      "userId": "05255951341257561169"
     },
     "user_tz": 360
    },
    "id": "3ffp2QjA9pxE",
    "outputId": "35916d5f-8efb-4aac-975d-31cb788cdcf2"
   },
   "outputs": [
    {
     "name": "stdout",
     "output_type": "stream",
     "text": [
      "A won: 28 . B won: 40\n"
     ]
    }
   ],
   "source": [
    "multi_game(99)"
   ]
  },
  {
   "cell_type": "code",
   "execution_count": null,
   "metadata": {
    "id": "WvbZo4ecxiNS"
   },
   "outputs": [],
   "source": [
    "# Three-round RPS"
   ]
  },
  {
   "cell_type": "code",
   "execution_count": null,
   "metadata": {
    "id": "FtoZqb3dxlIC"
   },
   "outputs": [],
   "source": [
    "# 99-round RPS"
   ]
  },
  {
   "cell_type": "markdown",
   "metadata": {
    "id": "jtzQj0Ofw-6e"
   },
   "source": [
    "# Game 2\n",
    "\n",
    "We all played the game \"flip a coin\". It can be either head-up, or tail-up.\n",
    "Let's write a program to simulate a flip.\n",
    "*  We import random\n",
    "*  Call the random to produce a float value in [0, 1]\n",
    "*  If the value is >=0.5, we say, the coin is head-up.\n",
    "*  Otherwise, we say, the coin is tail-up.\n",
    "\n",
    "Let's do it."
   ]
  },
  {
   "cell_type": "code",
   "execution_count": null,
   "metadata": {
    "id": "_BWflD_b_U-w"
   },
   "outputs": [],
   "source": [
    "import random"
   ]
  },
  {
   "cell_type": "code",
   "execution_count": null,
   "metadata": {
    "id": "TfIIRTN_3xmb"
   },
   "outputs": [],
   "source": [
    "def coin_flip():\n",
    "  if random.random() >= 0.5:\n",
    "    return 'head'\n",
    "  else:\n",
    "    return 'tail'"
   ]
  },
  {
   "cell_type": "code",
   "execution_count": null,
   "metadata": {
    "colab": {
     "base_uri": "https://localhost:8080/"
    },
    "executionInfo": {
     "elapsed": 126,
     "status": "ok",
     "timestamp": 1650861210446,
     "user": {
      "displayName": "Di Wu",
      "userId": "05255951341257561169"
     },
     "user_tz": 360
    },
    "id": "C10VSnyO4axy",
    "outputId": "07391648-01fe-4c65-b625-c07b981e901e"
   },
   "outputs": [
    {
     "name": "stdout",
     "output_type": "stream",
     "text": [
      "tail\n"
     ]
    }
   ],
   "source": [
    "print(coin_flip())"
   ]
  },
  {
   "cell_type": "code",
   "execution_count": null,
   "metadata": {
    "id": "4JyprbBUxNb0"
   },
   "outputs": [],
   "source": [
    "# Coin flip"
   ]
  },
  {
   "cell_type": "markdown",
   "metadata": {
    "id": "X45LzcvSxp3z"
   },
   "source": [
    "## Can you use the functions defined above, to simulate a process of flipping a coin 100 times? 10000 times? \n",
    "*  Can you print out the basic statistics of the experiment, such as the percentage of heads, the percentage of tails in the number of flipping?\n",
    "*  A perfect coin should has the percentage of head as 50%. Is your result the same as it? If not, can you improve it?"
   ]
  }
 ],
 "metadata": {
  "colab": {
   "authorship_tag": "ABX9TyPX42+Z/PeBMO2jGPr9usKy",
   "collapsed_sections": [],
   "name": "P4DSC3M1Random.ipynb",
   "provenance": []
  },
  "kernelspec": {
   "display_name": "Python 3 (ipykernel)",
   "language": "python",
   "name": "python3"
  },
  "language_info": {
   "codemirror_mode": {
    "name": "ipython",
    "version": 3
   },
   "file_extension": ".py",
   "mimetype": "text/x-python",
   "name": "python",
   "nbconvert_exporter": "python",
   "pygments_lexer": "ipython3",
   "version": "3.9.12"
  }
 },
 "nbformat": 4,
 "nbformat_minor": 1
}
