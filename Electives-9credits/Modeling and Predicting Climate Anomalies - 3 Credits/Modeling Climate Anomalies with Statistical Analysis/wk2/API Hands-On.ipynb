{
 "cells": [
  {
   "cell_type": "markdown",
   "id": "c73819e3-3f9d-4491-9e1a-4c15b352f694",
   "metadata": {},
   "source": [
    "1. \n",
    "**Question:** What Python library is commonly used for making HTTP requests to APIs?  \n",
    "**Answer:** requests\n",
    "\n",
    "2. \n",
    "**Question:** Which HTTP method is typically used to retrieve data from an API?  \n",
    "**Answer:** GET\n",
    "\n",
    "3. \n",
    "**Question:** What function from the requests library would you use to make a GET request?  \n",
    "**Answer:** requests.get()\n",
    "\n",
    "4. \n",
    "**Question:** If you receive a status code of 404 after making an API call, what does it mean?  \n",
    "**Answer:** The requested resource was not found.\n",
    "\n",
    "5. \n",
    "**Question:** After making a successful API call, how do you convert the JSON response to a Python dictionary?  \n",
    "**Answer:** response.json()\n",
    "\n",
    "6. \n",
    "**Question:** What is the purpose of the status_code attribute in a response object from the requests library?  \n",
    "**Answer:** To indicate the success or failure of the request\n",
    "\n",
    "7. \n",
    "**Question:** Which of the following status codes indicates a successful API request?  \n",
    "**Answer:** 200\n",
    "\n",
    "8. \n",
    "**Question:** Using the formatted data from the lab practice, what was the population of the United States in 2018?  \n",
    "**Answer:** 324697795\n"
   ]
  },
  {
   "cell_type": "code",
   "execution_count": null,
   "id": "3f0c809b-b3a4-4cb7-bb36-c39495dad2ac",
   "metadata": {},
   "outputs": [],
   "source": []
  }
 ],
 "metadata": {
  "kernelspec": {
   "display_name": "Python 3 (ipykernel)",
   "language": "python",
   "name": "python3"
  },
  "language_info": {
   "codemirror_mode": {
    "name": "ipython",
    "version": 3
   },
   "file_extension": ".py",
   "mimetype": "text/x-python",
   "name": "python",
   "nbconvert_exporter": "python",
   "pygments_lexer": "ipython3",
   "version": "3.8.18"
  }
 },
 "nbformat": 4,
 "nbformat_minor": 5
}
