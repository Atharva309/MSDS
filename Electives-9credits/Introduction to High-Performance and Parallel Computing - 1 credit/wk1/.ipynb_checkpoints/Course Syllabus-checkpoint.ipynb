{
 "cells": [
  {
   "cell_type": "markdown",
   "id": "58ca7c2b",
   "metadata": {},
   "source": [
    "Instructors\n",
    "\n",
    "Shelley Knuth\n",
    "Thomas Hauser \n",
    "Course Description\n",
    "\n",
    "This course introduces the fundamentals of high-performance and parallel computing. It is targeted toward scientists, engineers, scholars, or anyone seeking to develop the software skills necessary for work in parallel software environments. These skills include big-data analysis, machine learning, parallel programming, and optimization. We will cover the basics of Linux environments and bash scripting all the way to high throughput computing and parallelizing code.\n",
    "Course Objectives\n",
    "\n",
    "After completing this course, you will be familiar with:\n",
    "\n",
    "    The components of a high-performance distributed computing system\n",
    "\n",
    "    Types of parallel programming models and the situations in which they might be used\n",
    "\n",
    "    High-throughput computing\n",
    "\n",
    "    Shared memory parallelism\n",
    "\n",
    "    Distributed memory parallelism\n",
    "\n",
    "    Navigating a typical Linux-based HPC environment\n",
    "\n",
    "    Assessing and analyzing application scalability including weak and strong scaling\n",
    "\n",
    "    Quantifying the processing, data, and cost requirements for a computational project or workflow\n",
    "\n",
    "Prerequisites\n",
    "\n",
    "General experience using a computer is required. Basic knowledge of Linux or how to navigate a filesystem is helpful but not required. A high level of understanding of the role of supercomputers or large-scale computing is also helpful but not required. Finally, familiarity with either Fortran 90, C++, or Python will be helpful in completing the programming assignments. \n",
    "Grade Requirements\n",
    "\n",
    "\n",
    "Assignments - Percentage of Grade\n",
    "\n",
    "Quiz: Week 1 Quiz - 5%\n",
    "\n",
    "Programming Assignment: Practice Assignment Submission - 1%\n",
    "\n",
    "Programming Assignment: Bash Scripting - 15%\n",
    "\n",
    "Quiz: Week 2 Quiz - 5%\n",
    "\n",
    "Programming Assignment: Submitting Jobs with Slurm - Part 1 - 7.5%\n",
    "\n",
    "Programming Assignment: Submitting Jobs with Slum - Part 2 - 7.5%\n",
    "\n",
    "Quiz: Week 3 Quiz - 5%\n",
    "\n",
    "Programming Assignment: Simple Application Timing - 19%\n",
    "\n",
    "Quiz: Week 4 Quiz - 5%\n",
    "\n",
    "Programming Assignment: Strong Scaling Study - 15%\n",
    "\n",
    "Programming Assignment: Weak Scaling Study - 15%"
   ]
  },
  {
   "cell_type": "code",
   "execution_count": null,
   "id": "6fac20e9",
   "metadata": {},
   "outputs": [],
   "source": []
  }
 ],
 "metadata": {
  "kernelspec": {
   "display_name": "Python 3 (ipykernel)",
   "language": "python",
   "name": "python3"
  },
  "language_info": {
   "codemirror_mode": {
    "name": "ipython",
    "version": 3
   },
   "file_extension": ".py",
   "mimetype": "text/x-python",
   "name": "python",
   "nbconvert_exporter": "python",
   "pygments_lexer": "ipython3",
   "version": "3.9.12"
  }
 },
 "nbformat": 4,
 "nbformat_minor": 5
}
