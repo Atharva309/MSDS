{
 "cells": [
  {
   "cell_type": "markdown",
   "id": "29161080",
   "metadata": {},
   "source": [
    "In your lab environment, change to the directory projects/week1-bash . This directory will keep your files between working sessions. In this directory, create a new file bash_assignment.sh. In your bash script: \n",
    "\n",
    "    - Set the standard output of the script to go to a file called output_bash.txt\n",
    "\n",
    "    - Create a new directory bash_workdir\n",
    "\n",
    "    - Copy data.txt located in projects/week1-bash to your new directory bash_workdir\n",
    "\n",
    "    - Change into bash_workdir and print out the path to your location to output_bash.txt\n",
    "\n",
    "    - Create a shell variable called first_var that contains the string “I love HPC!”. Note: do not include quotations in your output. Print first_var and append to output_bash.txt\n",
    "\n",
    "    - Use the Linux grep command on data.txt to append any instances of the value 80 to output_bash.txt. Hint: to accomplish this, you will need to use another Linux command we discussed to give you information on how to use the grep command\n",
    "\n",
    "    - Create a shell variable called second_var that is equal to the list of files in the current directory. Write a loop that appends the values of this variable to output_bash.txt\n",
    "\n",
    "    - Copy output_bash.txt to projects/week1-bash\n",
    "\n",
    "    - Change directories to projects/week1-bash\n",
    "\n",
    "Run your script using the sbatch command in the terminal. Your output file should have 315 lines and includes: \n",
    "\n",
    "    The path to your bash_workdir directory\n",
    "\n",
    "    The phrase I love HPC! (no quotes and include the exclamation point)\n",
    "\n",
    "    311 lines with numbers including the value 80\n",
    "\n",
    "    The filenames of each file in your bash_workdir directory (hint: there should be two files)\n",
    "\n",
    "Once you are satisfied with your solution, upload your output_bash.txt file to Coursera where it will be autograded."
   ]
  },
  {
   "cell_type": "code",
   "execution_count": null,
   "id": "f46524bc",
   "metadata": {},
   "outputs": [],
   "source": []
  }
 ],
 "metadata": {
  "kernelspec": {
   "display_name": "Python 3 (ipykernel)",
   "language": "python",
   "name": "python3"
  },
  "language_info": {
   "codemirror_mode": {
    "name": "ipython",
    "version": 3
   },
   "file_extension": ".py",
   "mimetype": "text/x-python",
   "name": "python",
   "nbconvert_exporter": "python",
   "pygments_lexer": "ipython3",
   "version": "3.9.12"
  }
 },
 "nbformat": 4,
 "nbformat_minor": 5
}
