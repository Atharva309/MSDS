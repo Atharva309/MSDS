{
 "cells": [
  {
   "cell_type": "markdown",
   "id": "503ce16d",
   "metadata": {},
   "source": [
    "1. How do serial and parallel blocks of code work together in a single program?\n",
    "\n",
    "- When a parallel block of code is reached in a program, the code is distributed among the cores.  The cores then complete the tasks, communicate as needed, and wait for all cores to finish before moving on to the serial block."
   ]
  },
  {
   "cell_type": "markdown",
   "id": "b355ffb5",
   "metadata": {},
   "source": [
    "2. Which is the best description of load imbalance?"
   ]
  },
  {
   "cell_type": "markdown",
   "id": "490b6fa8",
   "metadata": {},
   "source": [
    "3. How does speedup and efficiency help you determine how many resources you should use on an HPC system?"
   ]
  },
  {
   "cell_type": "markdown",
   "id": "37de2089",
   "metadata": {},
   "source": [
    "4. Which best describes a strong scaling scenario, when X and Y are used to describe your problem size, and N describes the number of cores?"
   ]
  },
  {
   "cell_type": "markdown",
   "id": "060dbd48",
   "metadata": {},
   "source": [
    "5. Which best describes a weak scaling scenario, when X and Y are used to describe your problem, and N describes the number of cores?"
   ]
  },
  {
   "cell_type": "code",
   "execution_count": null,
   "id": "98f30396",
   "metadata": {},
   "outputs": [],
   "source": []
  }
 ],
 "metadata": {
  "kernelspec": {
   "display_name": "Python 3 (ipykernel)",
   "language": "python",
   "name": "python3"
  },
  "language_info": {
   "codemirror_mode": {
    "name": "ipython",
    "version": 3
   },
   "file_extension": ".py",
   "mimetype": "text/x-python",
   "name": "python",
   "nbconvert_exporter": "python",
   "pygments_lexer": "ipython3",
   "version": "3.9.12"
  }
 },
 "nbformat": 4,
 "nbformat_minor": 5
}
