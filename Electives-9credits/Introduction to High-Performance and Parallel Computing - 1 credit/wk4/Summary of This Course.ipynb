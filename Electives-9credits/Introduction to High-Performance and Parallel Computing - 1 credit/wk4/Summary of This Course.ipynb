{
 "cells": [
  {
   "cell_type": "markdown",
   "id": "dfec075a",
   "metadata": {},
   "source": [
    "\n",
    "Thank you for completing our course!  As you finish \"Introduction to High Performance and Parallel Computing\", we hope you will walk away with knowledge of the following topics:\n",
    "\n",
    "    A general understanding of what a high performance computing (HPC) system is \n",
    "\n",
    "    What the different nodes of a typical system are\n",
    "\n",
    "    Basic Linux commands to help you navigate an HPC filesystem\n",
    "\n",
    "    Basic Bash scripting to assist with job submission\n",
    "\n",
    "    Typical use of an HPC job scheduler\n",
    "\n",
    "    The different memory components of an HPC system\n",
    "\n",
    "    How to use a large scale computing system effectively and efficiently\n",
    "\n",
    "    What parallel computing means and beginner ways to modify your workflow\n",
    "\n",
    "Now that you have taken this course, what are your next steps?\n",
    "\n",
    "We encourage you to complete our upcoming Coursera courses.  In our subsequent coursework, you will learn how to code more efficiently, and how to take advantage of more advanced parallel computing components.  If you are not interested in advanced HPC work, we suggest you keep your newfound skills fresh!  If you have access to a large scale computing system, practice submitting jobs!  Take existing code you've written or legacy code from others and see if you can take advantage of some of the parallelization concepts we've introduced.  Utilize your system's user support team - they are there to help!  If you don't have access to a large scale computing system, the private cloud might be another option.  But above all else, get involved in your community!\n",
    "\n",
    "Happy computing!\n",
    "\n",
    "Shelley and Thomas"
   ]
  },
  {
   "cell_type": "code",
   "execution_count": null,
   "id": "e91c920f",
   "metadata": {},
   "outputs": [],
   "source": []
  }
 ],
 "metadata": {
  "kernelspec": {
   "display_name": "Python 3 (ipykernel)",
   "language": "python",
   "name": "python3"
  },
  "language_info": {
   "codemirror_mode": {
    "name": "ipython",
    "version": 3
   },
   "file_extension": ".py",
   "mimetype": "text/x-python",
   "name": "python",
   "nbconvert_exporter": "python",
   "pygments_lexer": "ipython3",
   "version": "3.9.12"
  }
 },
 "nbformat": 4,
 "nbformat_minor": 5
}
