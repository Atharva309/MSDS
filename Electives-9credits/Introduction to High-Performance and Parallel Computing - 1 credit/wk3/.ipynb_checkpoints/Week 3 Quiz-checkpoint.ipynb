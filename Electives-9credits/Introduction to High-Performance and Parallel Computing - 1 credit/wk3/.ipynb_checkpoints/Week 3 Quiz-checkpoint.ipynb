{
 "cells": [
  {
   "cell_type": "markdown",
   "id": "a164878f",
   "metadata": {},
   "source": [
    "1. Which is an example of a scenario that is NOT parallel processing?\n",
    "\n",
    "- Getting ready to go for a run - you put on your shoes, tie them, stretch, and head out the door"
   ]
  },
  {
   "cell_type": "markdown",
   "id": "34705ec1",
   "metadata": {},
   "source": [
    "2. You are running a program in serial, and decide to run it in parallel on your HPC system. You notice that your job is suddenly running 10% slower now than it was when it was running serially. Without any knowledge of the specifics of how you’ve done this, what are some possible reasons why the script is now running slower?"
   ]
  },
  {
   "cell_type": "markdown",
   "id": "2716dbd1",
   "metadata": {},
   "source": [
    "3. You have a task that you would like to run, using 20 nodes but only two cores on each node (each node has 10 cores).  You are running code that needs to synchronize at certain points.  Is there need for communication between the cores or nodes, and how?"
   ]
  },
  {
   "cell_type": "markdown",
   "id": "a4f538b5",
   "metadata": {},
   "source": [
    "4. What does the following example best describe?  Someone entered in all the names of registered voters in lower case in a text file.  The names need to be put in upper case.  There are over 10 million entries.\n",
    "\n",
    "- High Throughput Computing – this is not a communication intensive job, and so the names can be distributed amongst many cores.    \n",
    "- Data parallelism – the data is spread out among cores/nodes, and the same task (the operation of making the names upper case) is performed on the different data values."
   ]
  },
  {
   "cell_type": "markdown",
   "id": "c09a8642",
   "metadata": {},
   "source": [
    "5. Let’s say you want to do some timing within your program.  What might be good areas of your code to time?\n",
    "\n",
    "- A loop\n",
    "- Comparison between two different algorithms doing the same task\n",
    "- Input/Output sections, like writing out log files or restart files"
   ]
  }
 ],
 "metadata": {
  "kernelspec": {
   "display_name": "Python 3 (ipykernel)",
   "language": "python",
   "name": "python3"
  },
  "language_info": {
   "codemirror_mode": {
    "name": "ipython",
    "version": 3
   },
   "file_extension": ".py",
   "mimetype": "text/x-python",
   "name": "python",
   "nbconvert_exporter": "python",
   "pygments_lexer": "ipython3",
   "version": "3.9.12"
  }
 },
 "nbformat": 4,
 "nbformat_minor": 5
}
