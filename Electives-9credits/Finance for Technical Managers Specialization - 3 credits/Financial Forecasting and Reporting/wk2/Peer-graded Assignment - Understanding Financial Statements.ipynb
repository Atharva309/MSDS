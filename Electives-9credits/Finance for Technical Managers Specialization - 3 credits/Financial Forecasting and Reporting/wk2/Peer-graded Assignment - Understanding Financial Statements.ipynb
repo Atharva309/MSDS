{
 "cells": [
  {
   "cell_type": "markdown",
   "id": "2deaa19d",
   "metadata": {},
   "source": [
    "The best way to implement your new knowledge in reading and interpreting financial statements is to select a company you are interested in and evaluate its financial position. In this fashion, you will learn where to find them and what information is contained within their Annual Reports and SEC Filings.\n",
    "Review criteria\n",
    "\n",
    "#### Your responses will be peer-reviewed using the following rubric for Parts 1-3:\n",
    "\n",
    "- 25 points: Excellent. The student provided sufficient detail yet was concise. Easy to read and follow and was free of grammatical or typographical errors. Worthy of submitting it to the Boss!\n",
    "\n",
    "- 15 points: Good. The student’s work was acceptable but lacking in some details or description. Easy to read and follow and was free of grammatical or typographical errors. Worthy of submitting to the Boss after some editing.\n",
    "\n",
    "- 5 points: Needs Work. The student’s work lacked sufficient detail or analysis of the company and its financial statements. The submission was hard to read and/or had several grammatical or typographical errors. Not worthy of submitting it to the Boss without a complete rewrite.\n",
    "\n",
    "- 0 points: Nothing provided by the student.\n",
    "\n",
    "\n",
    "#### For Part 4, screenshots of the 3 financial statements, are also peer-reviewed using the following rubric:\n",
    "\n",
    "- 25 Points: All three financial statements are provided.\n",
    "\n",
    "- 0 Points: Some of the financial statements are missing or are the wrong ones. \n",
    "\n",
    "The Peer-Review Process\n",
    "\n",
    "- Students are required to review three of their peers before receiving a grade for their submission.\n",
    "\n",
    "- Submissions and subsequent Peer-Reviews are both anonymous.\n",
    "\n",
    "### Objectives\n",
    "\n",
    "The objective for this assignment is to demonstrate your understanding of a company’s financial health by performing a financial analysis of a company’s financial statements. The project has 4 primary elements:\n",
    "\n",
    "- Identify a company you are interested in.\n",
    "\n",
    "- Obtain their most recent Annual Report or 10-K SEC Filing.\n",
    "\n",
    "- Review the company’s financial statements, specifically the Income Statement, Balance Sheet and Statement of Cash Flows.\n",
    "\n",
    "- Provide a brief analysis of what you find."
   ]
  },
  {
   "cell_type": "code",
   "execution_count": null,
   "id": "8cad14f2",
   "metadata": {},
   "outputs": [],
   "source": []
  }
 ],
 "metadata": {
  "kernelspec": {
   "display_name": "Python 3 (ipykernel)",
   "language": "python",
   "name": "python3"
  },
  "language_info": {
   "codemirror_mode": {
    "name": "ipython",
    "version": 3
   },
   "file_extension": ".py",
   "mimetype": "text/x-python",
   "name": "python",
   "nbconvert_exporter": "python",
   "pygments_lexer": "ipython3",
   "version": "3.9.12"
  }
 },
 "nbformat": 4,
 "nbformat_minor": 5
}
