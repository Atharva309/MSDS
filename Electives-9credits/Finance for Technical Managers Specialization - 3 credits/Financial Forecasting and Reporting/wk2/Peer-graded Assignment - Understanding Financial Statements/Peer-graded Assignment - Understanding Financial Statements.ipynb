{
 "cells": [
  {
   "cell_type": "markdown",
   "id": "2deaa19d",
   "metadata": {},
   "source": [
    "The best way to implement your new knowledge in reading and interpreting financial statements is to select a company you are interested in and evaluate its financial position. In this fashion, you will learn where to find them and what information is contained within their Annual Reports and SEC Filings.\n",
    "Review criteria\n",
    "\n",
    "#### Your responses will be peer-reviewed using the following rubric for Parts 1-3:\n",
    "\n",
    "- 25 points: Excellent. The student provided sufficient detail yet was concise. Easy to read and follow and was free of grammatical or typographical errors. Worthy of submitting it to the Boss!\n",
    "\n",
    "- 15 points: Good. The student’s work was acceptable but lacking in some details or description. Easy to read and follow and was free of grammatical or typographical errors. Worthy of submitting to the Boss after some editing.\n",
    "\n",
    "- 5 points: Needs Work. The student’s work lacked sufficient detail or analysis of the company and its financial statements. The submission was hard to read and/or had several grammatical or typographical errors. Not worthy of submitting it to the Boss without a complete rewrite.\n",
    "\n",
    "- 0 points: Nothing provided by the student.\n",
    "\n",
    "\n",
    "#### For Part 4, screenshots of the 3 financial statements, are also peer-reviewed using the following rubric:\n",
    "\n",
    "- 25 Points: All three financial statements are provided.\n",
    "\n",
    "- 0 Points: Some of the financial statements are missing or are the wrong ones. \n",
    "\n",
    "The Peer-Review Process\n",
    "\n",
    "- Students are required to review three of their peers before receiving a grade for their submission.\n",
    "\n",
    "- Submissions and subsequent Peer-Reviews are both anonymous.\n",
    "\n",
    "### Objectives\n",
    "\n",
    "The objective for this assignment is to demonstrate your understanding of a company’s financial health by performing a financial analysis of a company’s financial statements. The project has 4 primary elements:\n",
    "\n",
    "- Identify a company you are interested in.\n",
    "\n",
    "- Obtain their most recent Annual Report or 10-K SEC Filing.\n",
    "\n",
    "- Review the company’s financial statements, specifically the Income Statement, Balance Sheet and Statement of Cash Flows.\n",
    "\n",
    "- Provide a brief analysis of what you find."
   ]
  },
  {
   "cell_type": "markdown",
   "id": "d1cc7519",
   "metadata": {},
   "source": [
    "# IBM Financial Statements\n"
   ]
  },
  {
   "cell_type": "markdown",
   "id": "57ed13dd",
   "metadata": {},
   "source": [
    "- current ratio:\n",
    "- quick ratio:\n",
    "- Inventory turnover Ratio\n",
    "- DSO\n",
    "- Gross Margin\n",
    "- Net Margin\n",
    "- Operation Margin\n",
    "- Debt to equity\n"
   ]
  },
  {
   "cell_type": "markdown",
   "id": "08679e94",
   "metadata": {},
   "source": [
    "- Gross Margin(%) = (Gross Profit / Revenues) * 100\n",
    "- 54%"
   ]
  },
  {
   "cell_type": "markdown",
   "id": "c680cbf7",
   "metadata": {},
   "source": [
    "- Operating margin = Operatin income / revenues\n",
    "- 14%"
   ]
  },
  {
   "cell_type": "markdown",
   "id": "407883e6",
   "metadata": {},
   "source": [
    "Net Margin = net income / revenues"
   ]
  },
  {
   "cell_type": "markdown",
   "id": "62591190",
   "metadata": {},
   "source": [
    "- Current Ratio = current Assets / Current Liabilities\n",
    "- Current Ratio = 92%"
   ]
  },
  {
   "cell_type": "markdown",
   "id": "5242f783",
   "metadata": {},
   "source": [
    "- Quick Ratio = (Current Assets - Inventory) / Current Liabilities\n",
    "- 87%"
   ]
  },
  {
   "cell_type": "markdown",
   "id": "a183a057",
   "metadata": {},
   "source": [
    "- Earnings per Share, eps = EARNINGS / number OF SHARES OUTSTANDING \n",
    "\n",
    "- IBM 2022 annual EPS was 1.8, a 71.65 percent decline from 2021.\n",
    "\n",
    "- IBM 2021 annual EPS was 6.35, a 1.93 percent increase from 2020."
   ]
  },
  {
   "cell_type": "markdown",
   "id": "fdaa8e4d",
   "metadata": {},
   "source": [
    "- P/E RATIO = Price per share / Earnings per share\n",
    "- 65.3"
   ]
  },
  {
   "cell_type": "markdown",
   "id": "365a0a83",
   "metadata": {},
   "source": [
    "- ROA = Net Income / Total Assets\n",
    "- 1.28%"
   ]
  },
  {
   "cell_type": "markdown",
   "id": "800b4851",
   "metadata": {},
   "source": [
    "- ROE = Net Income / Shareholder Equity\n",
    "- 8.12%"
   ]
  },
  {
   "cell_type": "markdown",
   "id": "5b179830",
   "metadata": {},
   "source": [
    "- Revenues per Employee = Revenues / # of Employees\n",
    "- $224,185"
   ]
  },
  {
   "cell_type": "markdown",
   "id": "9ddcc235",
   "metadata": {},
   "source": [
    "- Debt ratio = Total Liabilities / Total Assets\n",
    "- debt ratio = 0.8275"
   ]
  },
  {
   "cell_type": "code",
   "execution_count": 5,
   "id": "7a68d1b2",
   "metadata": {},
   "outputs": [
    {
     "data": {
      "text/plain": [
       "0.8275425760159695"
      ]
     },
     "execution_count": 5,
     "metadata": {},
     "output_type": "execute_result"
    }
   ],
   "source": [
    "105299000 / 127243000"
   ]
  },
  {
   "cell_type": "markdown",
   "id": "e010d64e",
   "metadata": {},
   "source": [
    "- Debt-to-equity ratio = Total Liabilities / shareholder equity\n",
    "- 189.6% is considered high"
   ]
  },
  {
   "cell_type": "markdown",
   "id": "1ec0d736",
   "metadata": {},
   "source": [
    "DSO = Accounts REceivable / average revenue per day"
   ]
  },
  {
   "cell_type": "code",
   "execution_count": null,
   "id": "ae88b46f",
   "metadata": {},
   "outputs": [],
   "source": []
  }
 ],
 "metadata": {
  "kernelspec": {
   "display_name": "Python 3 (ipykernel)",
   "language": "python",
   "name": "python3"
  },
  "language_info": {
   "codemirror_mode": {
    "name": "ipython",
    "version": 3
   },
   "file_extension": ".py",
   "mimetype": "text/x-python",
   "name": "python",
   "nbconvert_exporter": "python",
   "pygments_lexer": "ipython3",
   "version": "3.9.12"
  }
 },
 "nbformat": 4,
 "nbformat_minor": 5
}
