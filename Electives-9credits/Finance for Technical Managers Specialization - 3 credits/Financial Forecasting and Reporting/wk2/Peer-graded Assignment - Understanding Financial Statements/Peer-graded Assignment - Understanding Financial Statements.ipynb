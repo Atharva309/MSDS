{
 "cells": [
  {
   "cell_type": "markdown",
   "id": "b07444ea",
   "metadata": {},
   "source": [
    "# Part 1 Company Overview"
   ]
  },
  {
   "cell_type": "markdown",
   "id": "2b675a34",
   "metadata": {},
   "source": [
    "IBM, also known as International Business Machines Corporation, is a multinational technology company that operates in the information technology (IT) industry. It is headquartered in Armonk, New York, United States. "
   ]
  },
  {
   "cell_type": "markdown",
   "id": "4f311449",
   "metadata": {},
   "source": [
    "Typical company statistics for IBM include the following:\n",
    "\n",
    "- Ticker Symbol: IBM (NYSE)\n",
    "- Industry: Information Technology (IT) Services\n",
    "- Founded: IBM was founded on June 16, 1911.\n",
    "- Headquarters: Armonk, New York, United States.\n",
    "- Number of Employees: IBM employed over 345,900 people worldwide. \n",
    "- Revenue: In the fiscal year 2020, IBM reported total revenue of $73.6 billion.\n",
    "- Key Products and Services: IBM offers a wide range of products and services in areas such as cloud computing, artificial intelligence, data analytics, cybersecurity, blockchain technology, IT infrastructure services, and software solutions.\n",
    "- Global Presence: IBM operates in numerous countries and has a global presence, serving clients across various industries and sectors.\n",
    "- Research and Development: IBM has a strong focus on research and development (R&D) and has made significant contributions to technology advancements over the years. The company invests a substantial amount in R&D to drive innovation and develop new products and solutions.\n",
    "- Market Position: IBM is recognized as one of the leading technology companies globally, with a long-standing presence in the industry and a reputation for its enterprise-focused solutions and services."
   ]
  },
  {
   "cell_type": "markdown",
   "id": "c40e8c2c",
   "metadata": {},
   "source": [
    "---"
   ]
  },
  {
   "cell_type": "markdown",
   "id": "1b78a63e",
   "metadata": {},
   "source": [
    "# Part 2 Products and/or Services"
   ]
  },
  {
   "cell_type": "markdown",
   "id": "9897aa9c",
   "metadata": {},
   "source": [
    "- Software: The depth, breadth, and innovation of our software offerings, coupled with our global reach, deep\n",
    "industry expertise and research capabilities help differentiate our offerings from our competitors. Our\n",
    "hybrid cloud platform based on open technologies allows clients to realize their digital and AI\n",
    "transformations across the applications, data, and environments in which they operate. The principal\n",
    "competitors in this segment include: Alphabet (Google), Amazon, BMC, Broadcom, Cisco Systems,\n",
    "Informatica, Microsoft, Oracle, Palo Alto Networks, Salesforce, SAP, Splunk and VMware. We also\n",
    "compete with smaller, niche competitors in specific geographic regions or product segments.\n",
    "\n",
    "- Consulting: Consulting focuses on integrating skills on strategy, experience, technology and operations by\n",
    "domain and industry. Consulting competes in a dynamic market including consulting, systems\n",
    "integration, application management and business process outsourcing services. Our broad-based\n",
    "competitors include: Accenture, Capgemini, India-based service providers, management consulting\n",
    "firms, the consulting practices of public accounting firms, engineering service providers, and many\n",
    "companies that primarily focus on local markets or niche service areas.\n",
    "\n",
    "- Infrastructure: IBM is well positioned in the growing hybrid cloud infrastructure market, providing on-premises\n",
    "and cloud-based server and storage solutions. We gain advantage and differentiation through\n",
    "investments in higher-value capabilities, including security, scalability, and reliability, designed\n",
    "especially for mission-critical and regulated workloads. In addition, we offer a portfolio of life-cycle\n",
    "services for hybrid cloud infrastructure deployment. Our principal competitors include: Dell\n",
    "Technologies, Hewlett-Packard Enterprise (HPE), Intel, NetApp and Pure Storage as well as original\n",
    "device manufacturers (ODMs) who provide systems that are re-branded. Further, cloud service\n",
    "providers are leveraging innovation in technology and service delivery to compete with traditional\n",
    "providers and to offer new routes to market for server and storage systems.\n",
    "\n",
    "- Financing: Financing provides client and commercial financing, facilitating IBM clients’ acquisition of IT\n",
    "systems, software and services. Financing’s ability to manage credit and residual value risk generates a\n",
    "competitive advantage for the company. The key competitive factors include: interest rates charged, IT\n",
    "product experience, client service, contract flexibility, ease of doing business, global capabilities and\n",
    "residual values. In client and commercial financing, Financing primarily competes with non-captive\n",
    "financing entities and financial institutions."
   ]
  },
  {
   "cell_type": "markdown",
   "id": "8a2b9fd3",
   "metadata": {},
   "source": [
    "---"
   ]
  },
  {
   "cell_type": "markdown",
   "id": "75769d14",
   "metadata": {},
   "source": [
    "# Part 3 Financial Analysis\n",
    "\n",
    "Part 3.  Your Analysis (25 Points)\n",
    "Now it comes time to provide your own analysis of each financial statement.  This should be a short description, perhaps just a few sentences, of what happened in the most recent year.  For example, you might read “2021 showed an increase in revenues of 10% due to an 18% increase in sales of electric vehicles.”.  Simply tell this story in your own words. Or you might read “Operating expenses decreased due to a restructuring of our workforce to better align with market conditions”, which is the corporate way of saying the company laid off a significant percentage of its employees to reduce costs.  \n",
    "\n",
    "You do not need to go through each line item in each financial statement, just try to highlight the significant changes that occurred.  And put the reasons for the change in your own words, taking the corporate-speak and interpreting what really happened.  \n"
   ]
  },
  {
   "cell_type": "markdown",
   "id": "dcd5bc94",
   "metadata": {},
   "source": [
    "## 3.1 Income Statement:"
   ]
  },
  {
   "cell_type": "markdown",
   "id": "a426677f",
   "metadata": {},
   "source": [
    "## 3.2 Balance Sheet:"
   ]
  },
  {
   "cell_type": "markdown",
   "id": "19d3f58b",
   "metadata": {},
   "source": [
    "## 3.3 Statment of Cash Flows:"
   ]
  },
  {
   "cell_type": "markdown",
   "id": "304bdca8",
   "metadata": {},
   "source": [
    "Summary:\n",
    "\n",
    "\n",
    "- IBM 2022 annual EPS was 1.8, a 71.65 percent decline from 2021.\n",
    "- Gorss Margin: 54%\n",
    "- Operating Margin: 14%\n",
    "- Current Ratio 92%\n",
    "- Quick Ratio: 87%\n",
    "- Earnings Per Share 2022: 1.8\n",
    "- P/E Ratio: 65.3\n",
    "- ROA: 1.28%\n",
    "- ROE: 8.12%\n",
    "- Revenues per Employee: $224,185\n",
    "- Debt Ratio: 0.8275\n",
    "- Debt-toequity ratio: 189.6%\n",
    "\n",
    "\n",
    "\n",
    "1. Profitability: IBM's gross margin of 54% indicates that the company is generating a healthy profit after accounting for the cost of goods sold. The operating margin of 14% suggests that the company is able to generate a reasonable profit from its operations.\n",
    "\n",
    "2. Liquidity: The current ratio of 92% and quick ratio of 87% indicate that IBM has a strong liquidity position. These ratios suggest that the company has sufficient current assets to cover its short-term liabilities.\n",
    "\n",
    "3. Earnings: IBM's earnings per share (EPS) for 2022 were $1.8. This figure represents the portion of the company's profit allocated to each outstanding share. A higher EPS is generally positive for shareholders.\n",
    "\n",
    "4. Valuation: The P/E ratio of 65.3 indicates that IBM's stock is trading at a relatively high multiple compared to its earnings. A high P/E ratio could suggest that investors have high expectations for the company's future growth.\n",
    "\n",
    "5. Efficiency: IBM's return on assets (ROA) of 1.28% indicates that the company is generating a modest return on its total assets. The return on equity (ROE) of 8.12% suggests that IBM is generating a relatively low return on shareholders' equity.\n",
    "\n",
    "6. Employee Productivity: IBM's revenues per employee are $224,185. This figure indicates the average amount of revenue generated by each employee. Higher revenues per employee generally suggest better productivity and efficiency.\n",
    "\n",
    "7. Debt: The debt ratio of 0.8275 indicates that a significant portion of IBM's assets is financed by debt. The debt-to-equity ratio of 189.6% suggests that the company has a high level of debt compared to its equity. This high debt burden can pose risks and affect the financial stability of the company.\n",
    "\n",
    "Overall, while IBM demonstrates a healthy gross margin and liquidity position, it has relatively low returns on assets and equity. The company's high debt levels and P/E ratio may also be areas of concern."
   ]
  },
  {
   "cell_type": "markdown",
   "id": "db372ab2",
   "metadata": {},
   "source": [
    "---"
   ]
  },
  {
   "cell_type": "markdown",
   "id": "d21efcd6",
   "metadata": {},
   "source": [
    "Part 4.  Financial Statements (25 points)\n",
    "In these sections, paste a screenshot of the company’s Income Statement, Balance Sheet and Statement of Cash Flows into the space provided.  An excellent source for these are the 10-K Report.  See the Appendix for where to find them.  Also – be aware that there are several of them in the 10-K, many more than we covered in the class.  Make sure you find the three required for the assignment!\n"
   ]
  },
  {
   "cell_type": "markdown",
   "id": "7be94303",
   "metadata": {},
   "source": [
    "# 4A. The Income Statement (screenshot)\n"
   ]
  },
  {
   "cell_type": "markdown",
   "id": "d903524c",
   "metadata": {},
   "source": [
    "# 4B. The Balance Sheet (screenshot)"
   ]
  },
  {
   "cell_type": "markdown",
   "id": "8d32c2fd",
   "metadata": {},
   "source": [
    "# 4C. The statment of Cash Flows (screenshot)"
   ]
  },
  {
   "cell_type": "code",
   "execution_count": null,
   "id": "7fbdcf06",
   "metadata": {},
   "outputs": [],
   "source": []
  },
  {
   "cell_type": "code",
   "execution_count": null,
   "id": "0d4debbd",
   "metadata": {},
   "outputs": [],
   "source": []
  },
  {
   "cell_type": "markdown",
   "id": "5af7d9b0",
   "metadata": {},
   "source": []
  }
 ],
 "metadata": {
  "kernelspec": {
   "display_name": "Python 3 (ipykernel)",
   "language": "python",
   "name": "python3"
  },
  "language_info": {
   "codemirror_mode": {
    "name": "ipython",
    "version": 3
   },
   "file_extension": ".py",
   "mimetype": "text/x-python",
   "name": "python",
   "nbconvert_exporter": "python",
   "pygments_lexer": "ipython3",
   "version": "3.9.12"
  }
 },
 "nbformat": 4,
 "nbformat_minor": 5
}
