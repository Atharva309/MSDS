{
 "cells": [
  {
   "cell_type": "markdown",
   "id": "e951be52",
   "metadata": {},
   "source": [
    "MOTIVATION & OBJECTIVE:  We have discussed the time value of money, stocks, bonds, various types of stock and bond funds, and the idea of risk mitigation through appropriate asset allocation. It is now time to put all of that into practice. Your goal for this project is to create a retirement portfolio. For the sake of the exercise, we will make some assumptions that you are 30-years-old and work as a Project Manager at a semiconductor manufacturing company that offers a 401K plan. You have been investing in the plan for several years now and have a nice amount saved thus far, but you want to make sure you have enough when you retire. Therefore, you will develop a financial model for your retirement and define the portfolio that helps you to get there.\n",
    "\n",
    "Your Current Situation and Financial Objectives:\n",
    "\n",
    "You are 30-years-old and plan to retire at the age of 65 with at least $3 million dollars in your 401K account. Your current financial situation is:\n",
    "\n",
    "- You currently make $100,000 per year and estimate 3% annual increases in your salary.\n",
    "\n",
    "- You contribute 8% of your annual salary into the 401K plan (on a pre-tax basis).\n",
    "\n",
    "- Your company matches up to 4% of your salary, on a dollar-for-dollar basis.\n",
    "\n",
    "- You have $25,000 in your retirement account today.\n",
    "\n",
    "- As a 30-year-old, you can tolerate risk and create a portfolio with an annual rate of return of 8%.\n",
    "\n",
    "- Your company has partnered with Vanguard to facilitate the 401K plan. All of Vanguard’s mutual funds are available to you for investment.\n",
    "\n",
    "In Part 1 you will be asked to fill out the provided Excel spreadsheet and upload it as a .csv file in the programming assignment where you will be auto-graded.\n",
    "\n",
    "In Part 2 you will follow the steps and fill out the provided fund selection template, and then you will be peer-reviewed by your classmates. "
   ]
  },
  {
   "cell_type": "code",
   "execution_count": null,
   "id": "62148419",
   "metadata": {},
   "outputs": [],
   "source": []
  }
 ],
 "metadata": {
  "kernelspec": {
   "display_name": "Python 3 (ipykernel)",
   "language": "python",
   "name": "python3"
  },
  "language_info": {
   "codemirror_mode": {
    "name": "ipython",
    "version": 3
   },
   "file_extension": ".py",
   "mimetype": "text/x-python",
   "name": "python",
   "nbconvert_exporter": "python",
   "pygments_lexer": "ipython3",
   "version": "3.9.12"
  }
 },
 "nbformat": 4,
 "nbformat_minor": 5
}
