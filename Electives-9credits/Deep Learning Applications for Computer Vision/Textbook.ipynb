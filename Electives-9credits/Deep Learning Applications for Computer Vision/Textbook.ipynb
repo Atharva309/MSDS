{
 "cells": [
  {
   "cell_type": "markdown",
   "id": "cd6e3bf5",
   "metadata": {},
   "source": [
    "Computer Vision: A Modern Approach, 2nd Edition, David Forsyth and Jean Ponce\n",
    "\n",
    "ISBN-13: 978-0273764144\n",
    "\n",
    "ISBN-10: 0273764144\n",
    "\n",
    "Please note that your success in the course is not dependent on buying the book, but it will provide additional information that you may find useful as you watch the videos and complete the assessments."
   ]
  },
  {
   "cell_type": "markdown",
   "id": "dcc32ae6",
   "metadata": {},
   "source": [
    "https://www.coursera.org/learn/deep-learning-computer-vision/resources/8jJbB"
   ]
  },
  {
   "cell_type": "code",
   "execution_count": null,
   "id": "eeeba345",
   "metadata": {},
   "outputs": [],
   "source": []
  }
 ],
 "metadata": {
  "kernelspec": {
   "display_name": "Python 3 (ipykernel)",
   "language": "python",
   "name": "python3"
  },
  "language_info": {
   "codemirror_mode": {
    "name": "ipython",
    "version": 3
   },
   "file_extension": ".py",
   "mimetype": "text/x-python",
   "name": "python",
   "nbconvert_exporter": "python",
   "pygments_lexer": "ipython3",
   "version": "3.9.12"
  }
 },
 "nbformat": 4,
 "nbformat_minor": 5
}
