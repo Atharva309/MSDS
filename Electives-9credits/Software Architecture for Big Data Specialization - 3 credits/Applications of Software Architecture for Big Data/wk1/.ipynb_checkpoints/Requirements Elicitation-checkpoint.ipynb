{
 "cells": [
  {
   "cell_type": "markdown",
   "id": "082b0b5d",
   "metadata": {},
   "source": [
    "\n",
    "To get your project started, you should define the product that you are going to deploy. Some specific points you should be concerened with include:\n",
    "\n",
    "    What problem is the product aimed at solving?\n",
    "\n",
    "    Who is the product geared towards (targeted audience)?\n",
    "\n",
    "    How is my product unique?\n",
    "\n",
    "Answering the above questions will give you a sense of the features that the product should entail. It is important to keep in mind that the features should align with the answers to the aforementioned questions.  For example, if I were to develop a website that tackles booking hotel rooms for holiday travelers, then adding a feature which allows users to buy a car would not be relevant. \n",
    "\n",
    "Once you have figured out the functuionality you would like your product to take on, you can formally begin to document the requirements for the product. Typically, requirements can be broken down into two categories, namely, user requirements and system requirements. User requirements specify the funtionality interms of what the person using the product should experience. Whereas, system requirements define the operations and constraint of the system. An example of the a user requirement would be that a customer for the booking website should be able to create an account if one does not already exist. A system requirements would specify that a NoSQL database should be used to store user information.\n",
    "\n",
    "In order to start implements features that conform to the requirements, we write user stories. User stories are covered in the next section."
   ]
  },
  {
   "cell_type": "code",
   "execution_count": null,
   "id": "5f49f7aa",
   "metadata": {},
   "outputs": [],
   "source": []
  }
 ],
 "metadata": {
  "kernelspec": {
   "display_name": "Python 3 (ipykernel)",
   "language": "python",
   "name": "python3"
  },
  "language_info": {
   "codemirror_mode": {
    "name": "ipython",
    "version": 3
   },
   "file_extension": ".py",
   "mimetype": "text/x-python",
   "name": "python",
   "nbconvert_exporter": "python",
   "pygments_lexer": "ipython3",
   "version": "3.9.12"
  }
 },
 "nbformat": 4,
 "nbformat_minor": 5
}
