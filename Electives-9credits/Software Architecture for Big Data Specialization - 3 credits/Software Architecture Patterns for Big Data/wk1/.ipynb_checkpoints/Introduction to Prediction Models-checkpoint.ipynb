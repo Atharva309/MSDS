{
 "cells": [
  {
   "cell_type": "markdown",
   "id": "c990e77f",
   "metadata": {},
   "source": [
    "The basics\n",
    "\n",
    "Simplistically, predictive modeling is a statistical process that seeks to analyze patterns in a given data set and then predict future events. Predictive modelling can be of high importance with regards to the field of business intelligence. For example, a clothes store can prepare a model that analyzes past sales trends and then recommends which items should be on the shelf or which ones should be kept in storage. Ultimately, this would help the store to maximize profits.\n",
    "\n",
    "Sometimes people may use the term machine learning interchangeably with predictive modelling. However, they are not the same. Predicitive modelling is a statistical analysis technique which uses machine learning models. Machine learning models are typically broken down into two main categories, namely, unsupervised models and supervised models. Supervised learning requires the input data set to contain labels, whilst unsupervised models processes unlabelled data. Unsupervised models rely heavily on traditional statistics to be able to distinguish patterns and then make predictions. However, unsupervised models make use of newer machine learning techniques such as neural networks.\n",
    "Models are code\n",
    "\n",
    "When developing models, always keep in mind that they are a part of your system's source code. While it can be helpful to test prototypes and iterate quickly in a tool like Jupyter Notebook, don't wait too long to integrate the models with the rest of your application. Doing so will help to ensure that your system works well when integrated, and with the right setup can help you iterate on your models faster. We've seen the following setup work well.\n",
    "\n",
    "    Create an interface that your models will implement. This allows you to store many different models in the codebase and use each of them for different situations.\n",
    "\n",
    "    Check your models into source control. This allows you to track changes over time so you don't lose information as you iterate.\n",
    "\n",
    "    Write unit tests for each of your models. This ensures that each model behaves correctly, while also providing a coarse grained measurement. It's worth re-emphasizing that these should be unit tests, so they should be fast, isolated and repeatable. Take some time to read about the Pragmatic Programmer's take on unit tests.\n",
    "\n",
    "    Write a report for your models. This report should generate measurements for each of your models on a variety of datasets. It's ok for this report to be a bit slower to run, as you'll be using it for a different purpose than unit tests.\n",
    "\n",
    "    Use your models in your integration tests. This is necessary to ensure that your system works well as a whole.\n",
    "\n",
    "You'll get access to the Match Predictor codebase in the next section. When you do, take some time to dig through the codebase and recognize how it matches the above setup."
   ]
  },
  {
   "cell_type": "code",
   "execution_count": null,
   "id": "d001c86e",
   "metadata": {},
   "outputs": [],
   "source": []
  }
 ],
 "metadata": {
  "kernelspec": {
   "display_name": "Python 3 (ipykernel)",
   "language": "python",
   "name": "python3"
  },
  "language_info": {
   "codemirror_mode": {
    "name": "ipython",
    "version": 3
   },
   "file_extension": ".py",
   "mimetype": "text/x-python",
   "name": "python",
   "nbconvert_exporter": "python",
   "pygments_lexer": "ipython3",
   "version": "3.9.12"
  }
 },
 "nbformat": 4,
 "nbformat_minor": 5
}
