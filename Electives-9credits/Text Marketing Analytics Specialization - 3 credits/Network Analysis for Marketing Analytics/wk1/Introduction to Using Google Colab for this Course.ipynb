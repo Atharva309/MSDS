{
 "cells": [
  {
   "cell_type": "markdown",
   "id": "2b0ce09a",
   "metadata": {},
   "source": [
    "In this course, you will be using Google Colab to complete the assignments. Colab is an excellent service from Google that is built on the popular Juptyer Notebooks project. The Colab team has some introductory example notebooks that will be useful to you, including:\n",
    "\n",
    "Overview of Colaboratory features\n",
    "\n",
    "Markdown Guide (for formatting text in Colab notebooks)\n",
    "Free tier\n",
    "\n",
    "The free version of the Colab service should be sufficient for completing the assignments in this course. If you plan to continue to do data science and analytics in the Colab environment, you might consider upgrading for more access to resources.\n",
    "Completing Labs\n",
    "\n",
    "Labs for the course have been published as a reading with a link to a notebook, plus a Lab Quiz. Lab notebooks do not need to be submitted. These are provided as a guided coding walk-through that you should follow step-by-step. Mostly, you simply need to execute the code that is written. There may be some small exercises for you to complete along the way. There will be questions to answer as you work through the lab. The answers to the questions should be entered into the Lab Quiz for that Lab.\n",
    "Completing and Submitting assignments\n",
    "\n",
    "Unlike Labs, homework assignments need to be submitted for evaluation by the Coursera grading system.\n",
    "\n",
    "Colab notebooks are in the Jupyter Notebook file format, .ipynb. However, the custom grader for this course is only compatible with plain Python (.py) files. For this reason, be sure to download your completed assignments as .py files for submitting to the grader. To do this, in a Colab notebook go to:\n",
    "\n",
    "File > Download > Download .py\n",
    "Use caution when completing assignments\n",
    "\n",
    "The autograded assignment notebooks all have a code cell that looks like the following:\n",
    "\n",
    "#~~ /autograde\n",
    "\n",
    "A few things to keep in mind when completing the assignment:\n",
    "\n",
    "    Do not edit or delete the /autograde demarcation cell. The autograder uses this as a cutoff point, after which it will ignore the remainder of the file.Above the /autograde cell, only add code as instructed.\n",
    "\n",
    "    Typically, this means only writing code within the context of a pre-defined function that is meant to be completed as part of the assignment. Any exploration or testing code that you write should be written below the cutoff cell.\n",
    "\n",
    "    Do not add new imports to the notebook. All of the modules you need to complete the assignment should already be imported."
   ]
  },
  {
   "cell_type": "code",
   "execution_count": null,
   "id": "0b39a1d4",
   "metadata": {},
   "outputs": [],
   "source": []
  }
 ],
 "metadata": {
  "kernelspec": {
   "display_name": "Python 3 (ipykernel)",
   "language": "python",
   "name": "python3"
  },
  "language_info": {
   "codemirror_mode": {
    "name": "ipython",
    "version": 3
   },
   "file_extension": ".py",
   "mimetype": "text/x-python",
   "name": "python",
   "nbconvert_exporter": "python",
   "pygments_lexer": "ipython3",
   "version": "3.9.12"
  }
 },
 "nbformat": 4,
 "nbformat_minor": 5
}
