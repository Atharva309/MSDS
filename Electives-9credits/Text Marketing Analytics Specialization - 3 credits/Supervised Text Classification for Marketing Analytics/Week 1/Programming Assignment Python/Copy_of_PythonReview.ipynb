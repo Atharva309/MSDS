{
  "nbformat": 4,
  "nbformat_minor": 0,
  "metadata": {
    "colab": {
      "provenance": [],
      "collapsed_sections": [
        "HAV-rMGpoq7Q",
        "FQIW45pipoiU",
        "imnsv_LnkFKY",
        "SonKbxfnwSoP",
        "Rg5BZMP-xP7Y",
        "ul8iUltkWbrU",
        "IbLDyn-m-o7z",
        "u-Jg8VB2_D1b",
        "iyu3mBiy_ats",
        "VC3a_d3HAgKC",
        "TxrOQ_aIB4Uc",
        "-EAEIUMrrU5Q",
        "Lvpsip5Vr6-V",
        "r7cB5SL3v_oR",
        "TeQaH0QszfI_",
        "M0QAWC5yzYFk"
      ],
      "toc_visible": true
    },
    "kernelspec": {
      "display_name": "Python 3",
      "language": "python",
      "name": "python3"
    },
    "language_info": {
      "codemirror_mode": {
        "name": "ipython",
        "version": 3
      },
      "file_extension": ".py",
      "mimetype": "text/x-python",
      "name": "python",
      "nbconvert_exporter": "python",
      "pygments_lexer": "ipython3",
      "version": "3.7.7"
    }
  },
  "cells": [
    {
      "cell_type": "markdown",
      "source": [
        "# Python Syntax Review"
      ],
      "metadata": {
        "id": "BMX7qdeooPZ3"
      }
    },
    {
      "cell_type": "markdown",
      "source": [
        "This notebook provides a brief overview of many of the more commonly used features of the Python programming language.\n",
        "\n",
        "The information here is provided in a brief outline format for quick review and reference, and is not intended to be a programming tutorial."
      ],
      "metadata": {
        "id": "xQb3QPPCoUKL"
      }
    },
    {
      "cell_type": "markdown",
      "source": [
        "## Other resources"
      ],
      "metadata": {
        "id": "shq0_tuKpHIe"
      }
    },
    {
      "cell_type": "markdown",
      "source": [
        "For more thorough introductions and tutorials to the Python programming language, here are a few great resources to check out:\n",
        "\n",
        " * [Interactive Learn Python tutorial](https://www.kaggle.com/learn/python) from Kaggle\n",
        " * [Python for Beginners](https://www.python.org/about/gettingstarted/) getting started guide\n",
        " * The [official Python docs](https://docs.python.org/3/)"
      ],
      "metadata": {
        "id": "nATx3jPYpMpg"
      }
    },
    {
      "cell_type": "markdown",
      "source": [
        "# Data types"
      ],
      "metadata": {
        "id": "HAV-rMGpoq7Q"
      }
    },
    {
      "cell_type": "markdown",
      "source": [
        "## What is type?"
      ],
      "metadata": {
        "id": "_SHG8CZ5ougT"
      }
    },
    {
      "cell_type": "markdown",
      "metadata": {
        "id": "GV59VpbS3GGk"
      },
      "source": [
        "\n",
        "When we are dealing with various kinds of objects or values in programming, the type of a thing determines the operations we can perform with that thing.\n",
        "\n",
        "In programming, the notion of type extends well beyond the realm of numbers into value concepts like character and text, as well as more complex data types like dates and times. \n",
        "\n",
        "For now, we will focus on these simple types:\n",
        "\n",
        " * The numeric types `int` and `float`.\n",
        " * The text type, `str` or string, which refers to a string of characters.\n",
        " * The boolean type, which is used to indicate truthiness (i.e. True and False).\n",
        " * The special null value in Python, which is called `None`"
      ]
    },
    {
      "cell_type": "markdown",
      "source": [
        "### Looking at type"
      ],
      "metadata": {
        "id": "TvLKagFCozRT"
      }
    },
    {
      "cell_type": "markdown",
      "metadata": {
        "id": "K84VyMLO7OgY"
      },
      "source": [
        "\n",
        "The simplest way to get a feel for types in Python is simply to inspect the types of some things. Python has a builtin `type` function. You may already know the `print` function. We will use `type` in much the same way.\n",
        "\n",
        "Let's call `type` on some things that come to mind."
      ]
    },
    {
      "cell_type": "markdown",
      "source": [
        "## Numeric types"
      ],
      "metadata": {
        "id": "gazaZ83Yo1KG"
      }
    },
    {
      "cell_type": "markdown",
      "metadata": {
        "id": "sQWQJxRA8i69"
      },
      "source": [
        "### What is the type of the number 1?"
      ]
    },
    {
      "cell_type": "code",
      "metadata": {
        "id": "p3xhXXAW5ndk",
        "colab": {
          "base_uri": "https://localhost:8080/",
          "height": 34
        },
        "outputId": "eff11f55-6ccb-4e2e-ad6a-a6a58f7f7090"
      },
      "source": [
        "type(1)"
      ],
      "execution_count": null,
      "outputs": [
        {
          "output_type": "execute_result",
          "data": {
            "text/plain": [
              "int"
            ]
          },
          "metadata": {
            "tags": []
          },
          "execution_count": 5
        }
      ]
    },
    {
      "cell_type": "markdown",
      "metadata": {
        "id": "6foOd2if8qrG"
      },
      "source": [
        "`int` refers to the builtin \"integer\" type, which is how we generally refer to whole numbers."
      ]
    },
    {
      "cell_type": "markdown",
      "metadata": {
        "id": "y6GPgcDX81KK"
      },
      "source": [
        "### What is the type of 1.1?"
      ]
    },
    {
      "cell_type": "code",
      "metadata": {
        "id": "aqkAjTETXCf9",
        "colab": {
          "base_uri": "https://localhost:8080/",
          "height": 34
        },
        "outputId": "b629a718-6bfc-45bf-e8dc-4007ea7a2775"
      },
      "source": [
        "type(1.1)"
      ],
      "execution_count": null,
      "outputs": [
        {
          "output_type": "execute_result",
          "data": {
            "text/plain": [
              "float"
            ]
          },
          "metadata": {
            "tags": []
          },
          "execution_count": 6
        }
      ]
    },
    {
      "cell_type": "markdown",
      "metadata": {
        "id": "dqyJAUQR84va"
      },
      "source": [
        "1.1 is a `float`, or floating-point number. You might think of these as \"natural\" numbers, or decimal numbers."
      ]
    },
    {
      "cell_type": "markdown",
      "metadata": {
        "id": "-dKX3OUv9Tlv"
      },
      "source": [
        "### What about 1.0?"
      ]
    },
    {
      "cell_type": "code",
      "metadata": {
        "id": "adaPiRLR9WLH",
        "colab": {
          "base_uri": "https://localhost:8080/",
          "height": 34
        },
        "outputId": "f9633ba3-23bc-449b-bf08-0ed238dc72a6"
      },
      "source": [
        "type(1.0)"
      ],
      "execution_count": null,
      "outputs": [
        {
          "output_type": "execute_result",
          "data": {
            "text/plain": [
              "float"
            ]
          },
          "metadata": {
            "tags": []
          },
          "execution_count": 7
        }
      ]
    },
    {
      "cell_type": "markdown",
      "metadata": {
        "id": "Um8prVrI9aPI"
      },
      "source": [
        "Simply appending the point-zero onto an integer value suddenly makes it a float instead of an integer."
      ]
    },
    {
      "cell_type": "markdown",
      "metadata": {
        "id": "e0KsrPi2CskK"
      },
      "source": [
        "## Text as a type"
      ]
    },
    {
      "cell_type": "markdown",
      "source": [
        "Strings of text in Python have the type `str`. A single character is just a string of length 1 -- there is not a special character type."
      ],
      "metadata": {
        "id": "dAxscdQDsxi0"
      }
    },
    {
      "cell_type": "code",
      "metadata": {
        "id": "BAnmljG77-H_",
        "colab": {
          "base_uri": "https://localhost:8080/",
          "height": 34
        },
        "outputId": "a73839d3-4b05-4ebd-a615-8218cb0966c1"
      },
      "source": [
        "type('a')"
      ],
      "execution_count": null,
      "outputs": [
        {
          "output_type": "execute_result",
          "data": {
            "text/plain": [
              "str"
            ]
          },
          "metadata": {
            "tags": []
          },
          "execution_count": 3
        }
      ]
    },
    {
      "cell_type": "code",
      "metadata": {
        "id": "JWmWp_ZO8FKH",
        "colab": {
          "base_uri": "https://localhost:8080/",
          "height": 34
        },
        "outputId": "dc2d839e-ee2d-4727-bf46-e7e9d50349bd"
      },
      "source": [
        "type('abc')"
      ],
      "execution_count": null,
      "outputs": [
        {
          "output_type": "execute_result",
          "data": {
            "text/plain": [
              "str"
            ]
          },
          "metadata": {
            "tags": []
          },
          "execution_count": 4
        }
      ]
    },
    {
      "cell_type": "markdown",
      "metadata": {
        "id": "dlfOIUapCzND"
      },
      "source": [
        "`str` is Python's **string** type. Here, \"string\" refers to a string of characters.\n",
        "\n"
      ]
    },
    {
      "cell_type": "markdown",
      "metadata": {
        "id": "K5ky9ZI3D_1E"
      },
      "source": [
        "---\n",
        "🐍 **Characters and strings in Python**\n",
        "\n",
        "> Some languages have a distinct type for characters, e.g. the `'a'` above, and strings of characters, e.g. `'abc'`. Python treats this as the same type.\n",
        "\n",
        "---"
      ]
    },
    {
      "cell_type": "markdown",
      "metadata": {
        "id": "HqikM6fplvHq"
      },
      "source": [
        "### Operations on strings\n",
        "\n"
      ]
    },
    {
      "cell_type": "code",
      "metadata": {
        "id": "r2H1UAptmCyz",
        "colab": {
          "base_uri": "https://localhost:8080/",
          "height": 34
        },
        "outputId": "22b00607-faf3-42c6-8b88-ce3fbf636ba6"
      },
      "source": [
        "'cats' + 'and' + 'dogs'"
      ],
      "execution_count": null,
      "outputs": [
        {
          "output_type": "execute_result",
          "data": {
            "text/plain": [
              "'catsanddogs'"
            ]
          },
          "metadata": {
            "tags": []
          },
          "execution_count": 23
        }
      ]
    },
    {
      "cell_type": "markdown",
      "metadata": {
        "id": "uJqNZzLvcpHZ"
      },
      "source": [
        "---\n",
        "### 🔨 **Try it!**\n",
        "\n",
        "> Consider the above example of `'catsanddogs'`. What if we wanted spaces between the words so this string reads correctly?"
      ]
    },
    {
      "cell_type": "markdown",
      "metadata": {
        "id": "byISmK81dE76"
      },
      "source": [
        "---"
      ]
    },
    {
      "cell_type": "markdown",
      "source": [
        "## Booleans and boolean logic"
      ],
      "metadata": {
        "id": "gLUK-U0wpC8q"
      }
    },
    {
      "cell_type": "markdown",
      "metadata": {
        "id": "ZKC-YoV5ZEdC"
      },
      "source": [
        "\n",
        "The boolean values are written in Python as `True` and `False`. Note the capitalization.\n",
        "\n",
        "We can see these in action quite simply:"
      ]
    },
    {
      "cell_type": "code",
      "metadata": {
        "id": "XZ7RXjt_8HDd",
        "colab": {
          "base_uri": "https://localhost:8080/",
          "height": 34
        },
        "outputId": "4e12cd5a-b25e-40f8-bd3c-822060552dd7"
      },
      "source": [
        "not True"
      ],
      "execution_count": null,
      "outputs": [
        {
          "output_type": "execute_result",
          "data": {
            "text/plain": [
              "False"
            ]
          },
          "metadata": {
            "tags": []
          },
          "execution_count": 15
        }
      ]
    },
    {
      "cell_type": "code",
      "metadata": {
        "id": "h9NiUtjiZUVe",
        "colab": {
          "base_uri": "https://localhost:8080/",
          "height": 34
        },
        "outputId": "83a198b4-fe14-4a5f-9e2d-becefaacf833"
      },
      "source": [
        "not False"
      ],
      "execution_count": null,
      "outputs": [
        {
          "output_type": "execute_result",
          "data": {
            "text/plain": [
              "True"
            ]
          },
          "metadata": {
            "tags": []
          },
          "execution_count": 16
        }
      ]
    },
    {
      "cell_type": "code",
      "source": [
        "bool1 = True\n",
        "bool2 = False\n",
        "bool3 = True\n",
        "\n",
        "print(bool1 or bool2 or bool3)\n",
        "print(bool1 and bool2)\n",
        "print(bool1 and bool3)\n",
        "print(not (bool1 and bool2 and bool3))"
      ],
      "metadata": {
        "id": "pssf0_cBj-KP"
      },
      "execution_count": null,
      "outputs": []
    },
    {
      "cell_type": "markdown",
      "metadata": {
        "id": "AWaBR0L0Z_6T"
      },
      "source": [
        "We will go into the details of what is happening here in that future lesson. In the mean time, just keep in mind that\n",
        "\n",
        "While boolean as a data type is something with the explicit values of `True` or `False`, whereas there is a broader concept of \"truthiness\" which applies to all things and determines how that thing evaluates in a boolean conditional check.\n",
        "\n",
        "Most things evaluate to True, but a few examples of things that evaluate to False:\n",
        "\n",
        " * `False` (of course)\n",
        " * `0`\n",
        " * `0.0`\n",
        " * `\"\"` (the empty string)\n",
        " * `None`\n",
        "\n",
        " Take a moment to understand the output of each of the `bool` evaluations below:"
      ]
    },
    {
      "cell_type": "code",
      "source": [
        "print(bool(0), 0)\n",
        "print(bool(0.0), 0.0)\n",
        "print(bool(1), 1)\n",
        "print(bool(0.0000001), 0.0000001)\n",
        "print(bool(\"\"), \"The empty string\")\n",
        "print(bool(\" \"), \"A string with spaces\")\n",
        "print(bool(None), None)\n"
      ],
      "metadata": {
        "colab": {
          "base_uri": "https://localhost:8080/"
        },
        "id": "OE_sKMpquEt_",
        "outputId": "04759fe8-ea83-4ea0-8658-728edd75f02d"
      },
      "execution_count": null,
      "outputs": [
        {
          "output_type": "stream",
          "name": "stdout",
          "text": [
            "False 0\n",
            "False 0.0\n",
            "True 1\n",
            "True 1e-07\n",
            "False The empty string\n",
            "True A string with spaces\n",
            "False None\n"
          ]
        }
      ]
    },
    {
      "cell_type": "markdown",
      "metadata": {
        "id": "cee3tALuhpgj"
      },
      "source": [
        "## When there is no type\n",
        "\n",
        "Most programming languages have a concept of a `null` value. This is relevant to the topic of types because we have to be able to answer the question: **what is the type of nothing**? Which is not quite the same thing as, for example, the type of an empty thing, or the type of zero.\n",
        "\n",
        "In Python, the null value is indicated by the special built-in object called `None`.\n",
        "\n",
        "In practice, there is not much you can do with `None` on its own, and the idea that we even need a concept of \"nothingness\" in programming might not be at all intuitive at this point. This concept, however, becomes extremely important in the context of the name binding of variables, where it is possible to have a name that appears to be something, but in fact refers to nothing. That _nothing_ in Python is called `None`."
      ]
    },
    {
      "cell_type": "code",
      "metadata": {
        "id": "s1_k15OLiZcR",
        "colab": {
          "base_uri": "https://localhost:8080/",
          "height": 35
        },
        "outputId": "e986e722-d0a3-4979-b517-4853ab717d8d"
      },
      "source": [
        "myvar = None\n",
        "myvar is None"
      ],
      "execution_count": null,
      "outputs": [
        {
          "output_type": "execute_result",
          "data": {
            "text/plain": [
              "True"
            ]
          },
          "metadata": {
            "tags": []
          },
          "execution_count": 2
        }
      ]
    },
    {
      "cell_type": "code",
      "metadata": {
        "id": "fHbisQNTEZpO",
        "colab": {
          "base_uri": "https://localhost:8080/",
          "height": 35
        },
        "outputId": "1258f6f2-ad3d-45af-e597-bc50bbf516c5"
      },
      "source": [
        "myvar = 1\n",
        "myvar is None"
      ],
      "execution_count": null,
      "outputs": [
        {
          "output_type": "execute_result",
          "data": {
            "text/plain": [
              "False"
            ]
          },
          "metadata": {
            "tags": []
          },
          "execution_count": 3
        }
      ]
    },
    {
      "cell_type": "markdown",
      "source": [
        "## Operators and type"
      ],
      "metadata": {
        "id": "FQIW45pipoiU"
      }
    },
    {
      "cell_type": "markdown",
      "source": [
        "### Integer, and float, and mixed-type operations"
      ],
      "metadata": {
        "id": "FbzOO6TBp09z"
      }
    },
    {
      "cell_type": "markdown",
      "metadata": {
        "id": "eYL8DDyRMGn6"
      },
      "source": [
        "Generally speaking, operations between floats result in floats:"
      ]
    },
    {
      "cell_type": "code",
      "source": [
        "print(2.0 * 3.0)\n",
        "print(2.0 / 3.0)\n",
        "print(2.0 / 1.0)\n",
        "print(2.0 + 3.0)"
      ],
      "metadata": {
        "colab": {
          "base_uri": "https://localhost:8080/"
        },
        "id": "1h9l4UwRwFh9",
        "outputId": "68f644d3-cd60-47e2-d53f-662d9b97a382"
      },
      "execution_count": null,
      "outputs": [
        {
          "output_type": "stream",
          "name": "stdout",
          "text": [
            "6.0\n",
            "0.6666666666666666\n",
            "2.0\n",
            "5.0\n"
          ]
        }
      ]
    },
    {
      "cell_type": "markdown",
      "source": [
        ".. and operations between integers result in integers:"
      ],
      "metadata": {
        "id": "U19r5snZwjJB"
      }
    },
    {
      "cell_type": "code",
      "source": [
        "print(2 * 3)\n",
        "print(2 + 3)"
      ],
      "metadata": {
        "colab": {
          "base_uri": "https://localhost:8080/"
        },
        "id": "CN2qzUERwrd3",
        "outputId": "253eb43d-856f-4c1b-b774-24d0fc9f8222"
      },
      "execution_count": null,
      "outputs": [
        {
          "output_type": "stream",
          "name": "stdout",
          "text": [
            "6\n",
            "0.6666666666666666\n",
            "2.0\n",
            "5\n"
          ]
        }
      ]
    },
    {
      "cell_type": "markdown",
      "source": [
        ".. except for division which produces floats:"
      ],
      "metadata": {
        "id": "N8yWpNftw7FX"
      }
    },
    {
      "cell_type": "code",
      "source": [
        "print(2 / 3)\n",
        "print(3 / 1)"
      ],
      "metadata": {
        "colab": {
          "base_uri": "https://localhost:8080/"
        },
        "id": "ciat03Ksw9lv",
        "outputId": "4d5a39cd-39b5-4007-dec9-9f21be6fd414"
      },
      "execution_count": null,
      "outputs": [
        {
          "output_type": "stream",
          "name": "stdout",
          "text": [
            "0.6666666666666666\n",
            "3.0\n"
          ]
        }
      ]
    },
    {
      "cell_type": "markdown",
      "source": [
        ".. but there is a special integer division symbol `//`:"
      ],
      "metadata": {
        "id": "pCq_024kxLwN"
      }
    },
    {
      "cell_type": "code",
      "source": [
        "print( 2 // 3)\n",
        "print( 3 // 1)"
      ],
      "metadata": {
        "colab": {
          "base_uri": "https://localhost:8080/"
        },
        "id": "NzNeQcBHxJv0",
        "outputId": "a97e7327-a31e-4382-a50e-f065cd396e0a"
      },
      "execution_count": null,
      "outputs": [
        {
          "output_type": "stream",
          "name": "stdout",
          "text": [
            "0\n",
            "3\n"
          ]
        }
      ]
    },
    {
      "cell_type": "markdown",
      "source": [
        ".. but mixed float+integer operations always yield a float, even with `//`:"
      ],
      "metadata": {
        "id": "4tbOphZvxYvc"
      }
    },
    {
      "cell_type": "code",
      "metadata": {
        "id": "clUK8He-M1EH",
        "colab": {
          "base_uri": "https://localhost:8080/"
        },
        "outputId": "47b8b0cf-4f82-49c1-e767-bce905119e68"
      },
      "source": [
        "print(1 + 1.0)\n",
        "print(1.0 + 1)\n",
        "print(1.0 / 2)\n",
        "print(2.0 / 1)\n",
        "print(2.0 // 1)"
      ],
      "execution_count": null,
      "outputs": [
        {
          "output_type": "stream",
          "name": "stdout",
          "text": [
            "2.0\n",
            "2.0\n",
            "0.5\n",
            "2.0\n",
            "2.0\n"
          ]
        }
      ]
    },
    {
      "cell_type": "markdown",
      "metadata": {
        "id": "imnsv_LnkFKY"
      },
      "source": [
        "# Strings"
      ]
    },
    {
      "cell_type": "markdown",
      "source": [
        "### Strings as iterables"
      ],
      "metadata": {
        "id": "GHRYBowI7b20"
      }
    },
    {
      "cell_type": "markdown",
      "metadata": {
        "id": "PY4zwZjakFKZ"
      },
      "source": [
        "Strings are iterables and can be treated as lists:"
      ]
    },
    {
      "cell_type": "code",
      "metadata": {
        "id": "JnXFpVFFkFKb",
        "colab": {
          "base_uri": "https://localhost:8080/"
        },
        "outputId": "68ac0aa0-77ae-4582-d5c3-bd9dc9f82eff"
      },
      "source": [
        "for letter in 'abcd':\n",
        "    print(letter)"
      ],
      "execution_count": null,
      "outputs": [
        {
          "output_type": "stream",
          "name": "stdout",
          "text": [
            "a\n",
            "b\n",
            "c\n",
            "d\n"
          ]
        }
      ]
    },
    {
      "cell_type": "code",
      "metadata": {
        "id": "u16zXs49kFKj",
        "colab": {
          "base_uri": "https://localhost:8080/",
          "height": 36
        },
        "outputId": "aa3277fb-e9d3-4725-a211-93f85b1af930"
      },
      "source": [
        "'abcd'[:2]"
      ],
      "execution_count": null,
      "outputs": [
        {
          "output_type": "execute_result",
          "data": {
            "application/vnd.google.colaboratory.intrinsic+json": {
              "type": "string"
            },
            "text/plain": [
              "'ab'"
            ]
          },
          "metadata": {},
          "execution_count": 38
        }
      ]
    },
    {
      "cell_type": "code",
      "metadata": {
        "id": "w2cBkrc6kFKq",
        "colab": {
          "base_uri": "https://localhost:8080/",
          "height": 36
        },
        "outputId": "85cd5922-e41a-43c4-c651-f35f52f7cf5c"
      },
      "source": [
        "'abcd'[2:]"
      ],
      "execution_count": null,
      "outputs": [
        {
          "output_type": "execute_result",
          "data": {
            "application/vnd.google.colaboratory.intrinsic+json": {
              "type": "string"
            },
            "text/plain": [
              "'cd'"
            ]
          },
          "metadata": {},
          "execution_count": 39
        }
      ]
    },
    {
      "cell_type": "code",
      "metadata": {
        "id": "DedyMKg2kFKz",
        "colab": {
          "base_uri": "https://localhost:8080/",
          "height": 36
        },
        "outputId": "2895df62-42b3-495e-ce5c-a0413cf0517d"
      },
      "source": [
        "'abcd'[0]"
      ],
      "execution_count": null,
      "outputs": [
        {
          "output_type": "execute_result",
          "data": {
            "application/vnd.google.colaboratory.intrinsic+json": {
              "type": "string"
            },
            "text/plain": [
              "'a'"
            ]
          },
          "metadata": {},
          "execution_count": 40
        }
      ]
    },
    {
      "cell_type": "code",
      "metadata": {
        "id": "2TvyM9oOkFK_",
        "colab": {
          "base_uri": "https://localhost:8080/",
          "height": 36
        },
        "outputId": "d30bbbaa-495a-4299-94e5-ff618d6cacca"
      },
      "source": [
        "'abcd'[-1]"
      ],
      "execution_count": null,
      "outputs": [
        {
          "output_type": "execute_result",
          "data": {
            "application/vnd.google.colaboratory.intrinsic+json": {
              "type": "string"
            },
            "text/plain": [
              "'d'"
            ]
          },
          "metadata": {},
          "execution_count": 41
        }
      ]
    },
    {
      "cell_type": "code",
      "metadata": {
        "id": "VceIY_rFkFLH",
        "colab": {
          "base_uri": "https://localhost:8080/"
        },
        "outputId": "3181ed31-384d-454d-b2a7-b62066ced24e"
      },
      "source": [
        "sorted('cbda')"
      ],
      "execution_count": null,
      "outputs": [
        {
          "output_type": "execute_result",
          "data": {
            "text/plain": [
              "['a', 'b', 'c', 'd']"
            ]
          },
          "metadata": {},
          "execution_count": 42
        }
      ]
    },
    {
      "cell_type": "markdown",
      "metadata": {
        "id": "nnUHLTO2kFLY"
      },
      "source": [
        "### Common string operations"
      ]
    },
    {
      "cell_type": "code",
      "metadata": {
        "id": "Jp1sGVgnkFLa",
        "colab": {
          "base_uri": "https://localhost:8080/",
          "height": 36
        },
        "outputId": "62ef104a-ff15-4c1a-a43d-0999592f8e4e"
      },
      "source": [
        "'aBcD'.lower()"
      ],
      "execution_count": null,
      "outputs": [
        {
          "output_type": "execute_result",
          "data": {
            "application/vnd.google.colaboratory.intrinsic+json": {
              "type": "string"
            },
            "text/plain": [
              "'abcd'"
            ]
          },
          "metadata": {},
          "execution_count": 43
        }
      ]
    },
    {
      "cell_type": "code",
      "metadata": {
        "id": "oaQn_EkpkFLe",
        "colab": {
          "base_uri": "https://localhost:8080/",
          "height": 36
        },
        "outputId": "1f0410eb-cac3-4e3f-deae-63f33b34e009"
      },
      "source": [
        "'aBcD'.upper()"
      ],
      "execution_count": null,
      "outputs": [
        {
          "output_type": "execute_result",
          "data": {
            "application/vnd.google.colaboratory.intrinsic+json": {
              "type": "string"
            },
            "text/plain": [
              "'ABCD'"
            ]
          },
          "metadata": {},
          "execution_count": 44
        }
      ]
    },
    {
      "cell_type": "code",
      "metadata": {
        "id": "yE-94Vc-kFLm",
        "colab": {
          "base_uri": "https://localhost:8080/"
        },
        "outputId": "a3383865-c656-4a12-e965-797135f5c003"
      },
      "source": [
        "'abcd'.startswith('a')"
      ],
      "execution_count": null,
      "outputs": [
        {
          "output_type": "execute_result",
          "data": {
            "text/plain": [
              "True"
            ]
          },
          "metadata": {},
          "execution_count": 45
        }
      ]
    },
    {
      "cell_type": "code",
      "metadata": {
        "id": "hCPL8vSdkFLr",
        "colab": {
          "base_uri": "https://localhost:8080/"
        },
        "outputId": "de5ba2c5-3674-40ff-ed4e-bc0841ee78be"
      },
      "source": [
        "'abcd'.endswith('b')"
      ],
      "execution_count": null,
      "outputs": [
        {
          "output_type": "execute_result",
          "data": {
            "text/plain": [
              "False"
            ]
          },
          "metadata": {},
          "execution_count": 46
        }
      ]
    },
    {
      "cell_type": "markdown",
      "source": [
        "#### Join a list of strings with a delimiter to create a single string."
      ],
      "metadata": {
        "id": "MsiWnCNl70sq"
      }
    },
    {
      "cell_type": "code",
      "metadata": {
        "id": "FAWtIYHjkFLx",
        "colab": {
          "base_uri": "https://localhost:8080/",
          "height": 36
        },
        "outputId": "04ec2d6a-4053-4af1-c3b5-6fefa47c3a84"
      },
      "source": [
        "\",\".join([\"a\", \"b\", \"c\", \"d\"])"
      ],
      "execution_count": null,
      "outputs": [
        {
          "output_type": "execute_result",
          "data": {
            "application/vnd.google.colaboratory.intrinsic+json": {
              "type": "string"
            },
            "text/plain": [
              "'a,b,c,d'"
            ]
          },
          "metadata": {},
          "execution_count": 47
        }
      ]
    },
    {
      "cell_type": "markdown",
      "source": [
        "### String templating"
      ],
      "metadata": {
        "id": "ruuvZlxE8FVn"
      }
    },
    {
      "cell_type": "markdown",
      "source": [
        "#### Simple `%s` strings\n",
        "\n",
        "Pass items to be rendered into the `%s` placeholders via the `%` operator."
      ],
      "metadata": {
        "id": "vhR7yDmu8IsN"
      }
    },
    {
      "cell_type": "code",
      "source": [
        "\"%s o'clock, %s o'clock\" % (\"one\", \"two\")"
      ],
      "metadata": {
        "colab": {
          "base_uri": "https://localhost:8080/",
          "height": 36
        },
        "id": "YFS6SeKL8Yqp",
        "outputId": "3a588291-5080-4cdb-b7a5-2641bd9f77bc"
      },
      "execution_count": null,
      "outputs": [
        {
          "output_type": "execute_result",
          "data": {
            "application/vnd.google.colaboratory.intrinsic+json": {
              "type": "string"
            },
            "text/plain": [
              "\"one o'clock, two o'clock\""
            ]
          },
          "metadata": {},
          "execution_count": 48
        }
      ]
    },
    {
      "cell_type": "markdown",
      "source": [
        "#### f-strings\n",
        "\n",
        "Use `{ }` constructs to pass values into an f-string."
      ],
      "metadata": {
        "id": "wuj6VYiC838T"
      }
    },
    {
      "cell_type": "code",
      "source": [
        "sky_color = \"blue\"\n",
        "grass_color = \"green\"\n",
        "f\"The sky is {sky_color}, the grass is {grass_color}.\""
      ],
      "metadata": {
        "colab": {
          "base_uri": "https://localhost:8080/",
          "height": 36
        },
        "id": "NJV57XdX9GMF",
        "outputId": "8c7502cc-d16c-4969-c4db-f41c8865f275"
      },
      "execution_count": null,
      "outputs": [
        {
          "output_type": "execute_result",
          "data": {
            "application/vnd.google.colaboratory.intrinsic+json": {
              "type": "string"
            },
            "text/plain": [
              "'The sky is blue, the grass is green.'"
            ]
          },
          "metadata": {},
          "execution_count": 49
        }
      ]
    },
    {
      "cell_type": "markdown",
      "source": [
        "See the [Python docs](https://docs.python.org/3/library/string.html) for more common operations and string formatting options."
      ],
      "metadata": {
        "id": "rdQidL-j8x4g"
      }
    },
    {
      "cell_type": "markdown",
      "source": [
        "# Data structures"
      ],
      "metadata": {
        "id": "SonKbxfnwSoP"
      }
    },
    {
      "cell_type": "markdown",
      "source": [
        "## Lists"
      ],
      "metadata": {
        "id": "uWAN5_jYkWow"
      }
    },
    {
      "cell_type": "markdown",
      "metadata": {
        "id": "3bRVc1835-v3"
      },
      "source": [
        "Lists are ordered, comma-delimited sequences denoted by square brackets. Lists may contain objects or values of any type. Here are some examples of lists:\n",
        "\n",
        "```\n",
        "numbers_list = [1, 2, 3, 4, 5]\n",
        "floats_list = [1.0, 2.0, 3.0, 4.0, 5.0]\n",
        "strings_list = ['cow', 'chicken', 'goat', 'horse']\n",
        "mixed_list = [3, 1.0, 'cow', 2, 'chicken', 3.0]\n",
        "```\n",
        "\n",
        "Lists can contain the same item multiple times:\n",
        "\n",
        "```\n",
        "repetitive_list = [1, 2, 1, 1, 2, 3, 2, 3, 1, 3, 3]\n",
        "```\n",
        "\n"
      ]
    },
    {
      "cell_type": "markdown",
      "metadata": {
        "id": "bctsWWgCAeId"
      },
      "source": [
        "### Sorting lists\n",
        "\n",
        "Lists can be sorted and reverse sorted."
      ]
    },
    {
      "cell_type": "code",
      "metadata": {
        "id": "DSmhB2un7RR5",
        "colab": {
          "base_uri": "https://localhost:8080/",
          "height": 51
        },
        "outputId": "ce37cb63-cfd2-45ad-9110-a8ff9232f584"
      },
      "source": [
        "repetitive_list = [1, 2, 1, 1, 2, 3, 2, 3, 1, 3, 3]\n",
        "sorted_list = sorted(repetitive_list)\n",
        "reverse_sorted_list = sorted(repetitive_list, reverse=True)\n",
        "print(sorted_list)\n",
        "print(reverse_sorted_list)"
      ],
      "execution_count": null,
      "outputs": [
        {
          "output_type": "stream",
          "text": [
            "[1, 1, 1, 1, 2, 2, 2, 3, 3, 3, 3]\n",
            "[3, 3, 3, 3, 2, 2, 2, 1, 1, 1, 1]\n"
          ],
          "name": "stdout"
        }
      ]
    },
    {
      "cell_type": "markdown",
      "metadata": {
        "id": "Ijnx3hI37ylk"
      },
      "source": [
        "> 💡 Note that the `sorted` function is a Python built-in function which takes `reverse` as an optional parameter. The `sorted` function returns a new, sorted copy of the list. The original list is intact as you can see here:"
      ]
    },
    {
      "cell_type": "code",
      "metadata": {
        "id": "vvcURjj67a5q",
        "colab": {
          "base_uri": "https://localhost:8080/",
          "height": 34
        },
        "outputId": "b59d97db-3869-44fb-f852-5ee8e1810c62"
      },
      "source": [
        "repetitive_list"
      ],
      "execution_count": null,
      "outputs": [
        {
          "output_type": "execute_result",
          "data": {
            "text/plain": [
              "[1, 2, 1, 1, 2, 3, 2, 3, 1, 3, 3]"
            ]
          },
          "metadata": {
            "tags": []
          },
          "execution_count": 4
        }
      ]
    },
    {
      "cell_type": "markdown",
      "metadata": {
        "id": "vA-pRnlQ8PRc"
      },
      "source": [
        "**Sorting with the `sort` method**\n",
        "\n",
        "There is another way to sort a list, which is to use the `sort` method call directly on the list. \n",
        "\n",
        "> 💡 Rather than returning a sorted copy of the list, `sort` will sort the orginal list in place:"
      ]
    },
    {
      "cell_type": "code",
      "metadata": {
        "id": "JP3-iJ8M8HEj",
        "colab": {
          "base_uri": "https://localhost:8080/",
          "height": 34
        },
        "outputId": "3f505789-fcf4-4184-e0bc-0948381b307c"
      },
      "source": [
        "repetitive_list.sort()\n",
        "repetitive_list"
      ],
      "execution_count": null,
      "outputs": [
        {
          "output_type": "execute_result",
          "data": {
            "text/plain": [
              "[1, 1, 1, 1, 2, 2, 2, 3, 3, 3, 3]"
            ]
          },
          "metadata": {
            "tags": []
          },
          "execution_count": 5
        }
      ]
    },
    {
      "cell_type": "markdown",
      "metadata": {
        "id": "6T2vDf0F8stw"
      },
      "source": [
        "The sort method also accepts a `reverse` parameter:"
      ]
    },
    {
      "cell_type": "code",
      "metadata": {
        "id": "md2OdNyV8rUE",
        "colab": {
          "base_uri": "https://localhost:8080/",
          "height": 34
        },
        "outputId": "bd1625e0-6283-49bf-99fd-ebc2926957c7"
      },
      "source": [
        "repetitive_list.sort(reverse=True)\n",
        "repetitive_list"
      ],
      "execution_count": null,
      "outputs": [
        {
          "output_type": "execute_result",
          "data": {
            "text/plain": [
              "[3, 3, 3, 3, 2, 2, 2, 1, 1, 1, 1]"
            ]
          },
          "metadata": {
            "tags": []
          },
          "execution_count": 7
        }
      ]
    },
    {
      "cell_type": "markdown",
      "metadata": {
        "id": "oxwKbVSzBuqC"
      },
      "source": [
        "---"
      ]
    },
    {
      "cell_type": "markdown",
      "source": [
        "### Append to a list"
      ],
      "metadata": {
        "id": "MLYby3Ibwp-T"
      }
    },
    {
      "cell_type": "markdown",
      "metadata": {
        "id": "ZBaEb1r1CmEC"
      },
      "source": [
        "\n",
        "You can append individual items to a list with the append method:"
      ]
    },
    {
      "cell_type": "code",
      "metadata": {
        "id": "C7pBu-4NDciv",
        "colab": {
          "base_uri": "https://localhost:8080/",
          "height": 68
        },
        "outputId": "6fac4912-584a-49c5-d23c-b0a27c5e3e80"
      },
      "source": [
        "mylist = [1,2,3]\n",
        "print(mylist)\n",
        "mylist.append(4)\n",
        "print(mylist)\n",
        "mylist.append(5)\n",
        "print(mylist)"
      ],
      "execution_count": null,
      "outputs": [
        {
          "output_type": "stream",
          "text": [
            "[1, 2, 3]\n",
            "[1, 2, 3, 4]\n",
            "[1, 2, 3, 4, 5]\n"
          ],
          "name": "stdout"
        }
      ]
    },
    {
      "cell_type": "markdown",
      "source": [
        "### \"Adding\" (ie. concatenating) lists"
      ],
      "metadata": {
        "id": "NdZrOCPzwsLp"
      }
    },
    {
      "cell_type": "markdown",
      "metadata": {
        "id": "EwYjqeakDtwQ"
      },
      "source": [
        "\n",
        "Two or more lists can be concatenated together with the `+` operator. The result will be returned as a single list:"
      ]
    },
    {
      "cell_type": "code",
      "metadata": {
        "id": "TyCdlzQeDjaK",
        "colab": {
          "base_uri": "https://localhost:8080/",
          "height": 34
        },
        "outputId": "8c975a5f-390f-4db4-bd64-fe938ae647fe"
      },
      "source": [
        "[1, 2, 3] + [4, 5, 6]"
      ],
      "execution_count": null,
      "outputs": [
        {
          "output_type": "execute_result",
          "data": {
            "text/plain": [
              "[1, 2, 3, 4, 5, 6]"
            ]
          },
          "metadata": {
            "tags": []
          },
          "execution_count": 9
        }
      ]
    },
    {
      "cell_type": "markdown",
      "metadata": {
        "id": "zsHSuc8kEEkT"
      },
      "source": [
        "### Extending a list with another list\n",
        "\n",
        "An existing list can be extended with another list by using the `extend` method:"
      ]
    },
    {
      "cell_type": "code",
      "metadata": {
        "id": "UJa_NA8aD-J0",
        "colab": {
          "base_uri": "https://localhost:8080/",
          "height": 34
        },
        "outputId": "97e826de-bdf0-4d65-a0a3-2285f018203a"
      },
      "source": [
        "mylist = [1, 2, 3]\n",
        "mylist.extend([4, 5, 6])\n",
        "mylist"
      ],
      "execution_count": null,
      "outputs": [
        {
          "output_type": "execute_result",
          "data": {
            "text/plain": [
              "[1, 2, 3, 4, 5, 6]"
            ]
          },
          "metadata": {
            "tags": []
          },
          "execution_count": 10
        }
      ]
    },
    {
      "cell_type": "markdown",
      "metadata": {
        "id": "ZuCn-kpVdwXc"
      },
      "source": [
        "## Dictionaries"
      ]
    },
    {
      "cell_type": "markdown",
      "metadata": {
        "id": "kBuFXAJDgWcQ"
      },
      "source": [
        "A simple dictionary that maps digits to their words:"
      ]
    },
    {
      "cell_type": "code",
      "metadata": {
        "id": "L3Qd6GEFgqBD",
        "colab": {
          "base_uri": "https://localhost:8080/"
        },
        "outputId": "be6b7716-3074-4cee-fa24-6751661427d4"
      },
      "source": [
        "digits = {\n",
        "    1: 'one',\n",
        "    2: 'two',\n",
        "    3: 'three',\n",
        "    4: 'four',\n",
        "    5: 'five',\n",
        " }\n",
        "digits"
      ],
      "execution_count": null,
      "outputs": [
        {
          "output_type": "execute_result",
          "data": {
            "text/plain": [
              "{1: 'one', 2: 'two', 3: 'three', 4: 'four', 5: 'five'}"
            ]
          },
          "metadata": {},
          "execution_count": 28
        }
      ]
    },
    {
      "cell_type": "code",
      "metadata": {
        "id": "Lc3grJqbgfW-",
        "colab": {
          "base_uri": "https://localhost:8080/",
          "height": 35
        },
        "outputId": "c610c9f1-51b2-4d60-b95b-11d870ac176f"
      },
      "source": [
        "digits = {}\n",
        "digits[1] = 'one'\n",
        "digits[2] = 'two'\n",
        "digits[3] = 'three'\n",
        "digits[4] = 'four'\n",
        "digits[5] = 'five'\n",
        "\n",
        "digits"
      ],
      "execution_count": null,
      "outputs": [
        {
          "output_type": "execute_result",
          "data": {
            "text/plain": [
              "{1: 'one', 2: 'two', 3: 'three', 4: 'four', 5: 'five'}"
            ]
          },
          "metadata": {
            "tags": []
          },
          "execution_count": 18
        }
      ]
    },
    {
      "cell_type": "markdown",
      "metadata": {
        "id": "7oPqJ0Wlhdka"
      },
      "source": [
        "Another way to construct a dictionary is from the key-value tuple pairs:"
      ]
    },
    {
      "cell_type": "code",
      "metadata": {
        "id": "IiEyf1KKhB6k",
        "colab": {
          "base_uri": "https://localhost:8080/",
          "height": 35
        },
        "outputId": "137fac61-3e73-4666-e37a-663838ab6097"
      },
      "source": [
        "dict([ (1, 'one'), (2, 'two'), (3, 'three'), (4, 'four'), (5, 'five') ])"
      ],
      "execution_count": null,
      "outputs": [
        {
          "output_type": "execute_result",
          "data": {
            "text/plain": [
              "{1: 'one', 2: 'two', 3: 'three', 4: 'four', 5: 'five'}"
            ]
          },
          "metadata": {
            "tags": []
          },
          "execution_count": 19
        }
      ]
    },
    {
      "cell_type": "markdown",
      "metadata": {
        "id": "Y4hdTArliCAS"
      },
      "source": [
        "To de-reference an item, use the `[]` syntax:"
      ]
    },
    {
      "cell_type": "code",
      "metadata": {
        "id": "JXo1Cu4ViHa2",
        "colab": {
          "base_uri": "https://localhost:8080/",
          "height": 35
        },
        "outputId": "275740e4-c8b3-4815-f395-0b5711e91872"
      },
      "source": [
        "digits[3]"
      ],
      "execution_count": null,
      "outputs": [
        {
          "output_type": "execute_result",
          "data": {
            "application/vnd.google.colaboratory.intrinsic+json": {
              "type": "string"
            },
            "text/plain": [
              "'three'"
            ]
          },
          "metadata": {
            "tags": []
          },
          "execution_count": 20
        }
      ]
    },
    {
      "cell_type": "markdown",
      "metadata": {
        "id": "FPCk3xPeiUhn"
      },
      "source": [
        "Or use the `get` method:"
      ]
    },
    {
      "cell_type": "code",
      "metadata": {
        "id": "gEjpv1VBiXq_",
        "colab": {
          "base_uri": "https://localhost:8080/",
          "height": 35
        },
        "outputId": "41743035-0ccc-4481-fdc6-5b6f6ccc46ee"
      },
      "source": [
        "digits.get(5)"
      ],
      "execution_count": null,
      "outputs": [
        {
          "output_type": "execute_result",
          "data": {
            "application/vnd.google.colaboratory.intrinsic+json": {
              "type": "string"
            },
            "text/plain": [
              "'five'"
            ]
          },
          "metadata": {
            "tags": []
          },
          "execution_count": 21
        }
      ]
    },
    {
      "cell_type": "markdown",
      "metadata": {
        "id": "jbsdyQVTvXlx"
      },
      "source": [
        "### Assignment/updating dictionary entries"
      ]
    },
    {
      "cell_type": "markdown",
      "metadata": {
        "id": "Fe2XuF2aj4pl"
      },
      "source": [
        "You can also use the `[key]` syntax to add new values to the dictionary:"
      ]
    },
    {
      "cell_type": "code",
      "metadata": {
        "id": "KWjm8zFYkB1o",
        "colab": {
          "base_uri": "https://localhost:8080/",
          "height": 35
        },
        "outputId": "b2ca6a8a-73f4-4ca9-ea39-06f1f0af4890"
      },
      "source": [
        "digits[6] = 'six'\n",
        "digits"
      ],
      "execution_count": null,
      "outputs": [
        {
          "output_type": "execute_result",
          "data": {
            "text/plain": [
              "{1: 'one', 2: 'two', 3: 'three', 4: 'four', 5: 'five', 6: 'six'}"
            ]
          },
          "metadata": {
            "tags": []
          },
          "execution_count": 22
        }
      ]
    },
    {
      "cell_type": "markdown",
      "metadata": {
        "id": "F310bTurkGCx"
      },
      "source": [
        "And you can combine the dictionary with another dictionary using update:"
      ]
    },
    {
      "cell_type": "code",
      "metadata": {
        "id": "WU0K8gAQkRqv",
        "colab": {
          "base_uri": "https://localhost:8080/",
          "height": 175
        },
        "outputId": "febd5f07-20ad-40a6-8c4c-00059f1bfbcc"
      },
      "source": [
        "digits.update({ 7: 'seven', 8: 'eight', 9: 'nine' })\n",
        "digits"
      ],
      "execution_count": null,
      "outputs": [
        {
          "output_type": "execute_result",
          "data": {
            "text/plain": [
              "{1: 'one',\n",
              " 2: 'two',\n",
              " 3: 'three',\n",
              " 4: 'four',\n",
              " 5: 'five',\n",
              " 6: 'six',\n",
              " 7: 'seven',\n",
              " 8: 'eight',\n",
              " 9: 'nine'}"
            ]
          },
          "metadata": {
            "tags": []
          },
          "execution_count": 23
        }
      ]
    },
    {
      "cell_type": "markdown",
      "metadata": {
        "id": "eHWXcz5lvh68"
      },
      "source": [
        "### Iterating dictionaries"
      ]
    },
    {
      "cell_type": "markdown",
      "metadata": {
        "id": "q_utSbOOlDnk"
      },
      "source": [
        "The keys of the dictionary are given by the `keys` method:"
      ]
    },
    {
      "cell_type": "code",
      "metadata": {
        "id": "IUmIg_p5lHYb",
        "colab": {
          "base_uri": "https://localhost:8080/",
          "height": 35
        },
        "outputId": "4606851c-c1fa-4b98-f675-30af02389205"
      },
      "source": [
        "digits.keys()"
      ],
      "execution_count": null,
      "outputs": [
        {
          "output_type": "execute_result",
          "data": {
            "text/plain": [
              "dict_keys([1, 2, 3, 4, 5, 6, 7, 8, 9])"
            ]
          },
          "metadata": {
            "tags": []
          },
          "execution_count": 24
        }
      ]
    },
    {
      "cell_type": "markdown",
      "metadata": {
        "id": "zOe7uY9LvrLY"
      },
      "source": [
        "Which we could then iterate:"
      ]
    },
    {
      "cell_type": "code",
      "metadata": {
        "id": "Pn99WHbfvkqw",
        "colab": {
          "base_uri": "https://localhost:8080/",
          "height": 175
        },
        "outputId": "fa40edba-7fcb-46d4-dce3-7d7a2bc58a01"
      },
      "source": [
        "for k in digits.keys():\n",
        "    print(k, digits[k])"
      ],
      "execution_count": null,
      "outputs": [
        {
          "output_type": "stream",
          "text": [
            "1 one\n",
            "2 two\n",
            "3 three\n",
            "4 four\n",
            "5 five\n",
            "6 six\n",
            "7 seven\n",
            "8 eight\n",
            "9 nine\n"
          ],
          "name": "stdout"
        }
      ]
    },
    {
      "cell_type": "markdown",
      "metadata": {
        "id": "KmIgtZEclM84"
      },
      "source": [
        "The key-value pairs can be obtained with the `items`. Note the pairity between what you get from calling `items` and the format for creating a dictionary from k-v pairs above:"
      ]
    },
    {
      "cell_type": "code",
      "metadata": {
        "id": "G6TP0rPclR6n",
        "colab": {
          "base_uri": "https://localhost:8080/",
          "height": 55
        },
        "outputId": "39f4b7e1-ee69-4a20-cb94-5be07f31eb86"
      },
      "source": [
        "digits.items()"
      ],
      "execution_count": null,
      "outputs": [
        {
          "output_type": "execute_result",
          "data": {
            "text/plain": [
              "dict_items([(1, 'one'), (2, 'two'), (3, 'three'), (4, 'four'), (5, 'five'), (6, 'six'), (7, 'seven'), (8, 'eight'), (9, 'nine')])"
            ]
          },
          "metadata": {
            "tags": []
          },
          "execution_count": 26
        }
      ]
    },
    {
      "cell_type": "markdown",
      "metadata": {
        "id": "zvuxll-XljqT"
      },
      "source": [
        "The most common way to iterate a dictionary is by iterating the items:"
      ]
    },
    {
      "cell_type": "code",
      "metadata": {
        "id": "tAlCtDlRlqKQ",
        "colab": {
          "base_uri": "https://localhost:8080/",
          "height": 175
        },
        "outputId": "5b16c747-211f-42bb-f86e-755f9c6903db"
      },
      "source": [
        "for k, v in digits.items():\n",
        "    print(k, v)"
      ],
      "execution_count": null,
      "outputs": [
        {
          "output_type": "stream",
          "text": [
            "1 one\n",
            "2 two\n",
            "3 three\n",
            "4 four\n",
            "5 five\n",
            "6 six\n",
            "7 seven\n",
            "8 eight\n",
            "9 nine\n"
          ],
          "name": "stdout"
        }
      ]
    },
    {
      "cell_type": "markdown",
      "metadata": {
        "id": "yKklPIsjl5sY"
      },
      "source": [
        "> 🐍 Note: In older versions of Python, order of dictionaries was undefined. Now, in modern versions of Python, the order is determined by the order of insertion."
      ]
    },
    {
      "cell_type": "markdown",
      "metadata": {
        "id": "ul9UAZuTeutK"
      },
      "source": [
        "### Working with nested dictionaries"
      ]
    },
    {
      "cell_type": "markdown",
      "source": [
        "Data that is nested to deeper levels of a dictionary can be accessed with successive square-bracket dereferences:"
      ],
      "metadata": {
        "id": "taN2izhc1Slz"
      }
    },
    {
      "cell_type": "code",
      "source": [
        "translations = {\n",
        "    \"one\": {\n",
        "        \"es\": \"uno\",\n",
        "        \"de\": \"eins\"\n",
        "    },\n",
        "    \"two\": {\n",
        "        \"es\": \"dos\",\n",
        "        \"de\": \"zwei\"\n",
        "    },\n",
        "    \"three\": {\n",
        "        \"es\": \"tres\",\n",
        "        \"de\": \"drei\"\n",
        "    }\n",
        "}"
      ],
      "metadata": {
        "id": "MmKKhRnF0uRR"
      },
      "execution_count": null,
      "outputs": []
    },
    {
      "cell_type": "code",
      "source": [
        "translations[\"one\"][\"es\"]"
      ],
      "metadata": {
        "colab": {
          "base_uri": "https://localhost:8080/",
          "height": 36
        },
        "id": "BPbB2D8z1gIU",
        "outputId": "5455d0bf-3fdc-4d44-aba6-04b03b19dc1e"
      },
      "execution_count": null,
      "outputs": [
        {
          "output_type": "execute_result",
          "data": {
            "application/vnd.google.colaboratory.intrinsic+json": {
              "type": "string"
            },
            "text/plain": [
              "'uno'"
            ]
          },
          "metadata": {},
          "execution_count": 22
        }
      ]
    },
    {
      "cell_type": "markdown",
      "source": [
        "### Handling missing values"
      ],
      "metadata": {
        "id": "liVa7vZq1w3W"
      }
    },
    {
      "cell_type": "markdown",
      "source": [
        "### Catching the KeyError"
      ],
      "metadata": {
        "id": "2D1-T5Gl2iM8"
      }
    },
    {
      "cell_type": "markdown",
      "source": [
        "If you try to directly access a missing key, Python will throw a KeyError that will need to be handled."
      ],
      "metadata": {
        "id": "uC1PNYxB19fk"
      }
    },
    {
      "cell_type": "code",
      "source": [
        "try:\n",
        "    four = translations[\"four\"]\n",
        "except KeyError:\n",
        "    print(\"There is no four\")\n"
      ],
      "metadata": {
        "colab": {
          "base_uri": "https://localhost:8080/"
        },
        "id": "d6SvOGUK2IwG",
        "outputId": "6d606cb2-7610-4705-b004-83d0a74326f9"
      },
      "execution_count": null,
      "outputs": [
        {
          "output_type": "stream",
          "name": "stdout",
          "text": [
            "There is no four\n"
          ]
        }
      ]
    },
    {
      "cell_type": "markdown",
      "source": [
        "See the Exception Handling section below for more information about dealing with exceptions."
      ],
      "metadata": {
        "id": "syKpw34G2WZp"
      }
    },
    {
      "cell_type": "markdown",
      "source": [
        "### Using the get method"
      ],
      "metadata": {
        "id": "sxCl4tuC2mNV"
      }
    },
    {
      "cell_type": "markdown",
      "source": [
        "For safer access to potentially missing keys, a dictionary has a `get` method. By default, `get` returns `None` if the key is unavailable, but an alternate default value can be provided."
      ],
      "metadata": {
        "id": "CPUH_WT-2ooD"
      }
    },
    {
      "cell_type": "code",
      "source": [
        "print(digits.get(10)) # No default. Returns None if missing"
      ],
      "metadata": {
        "colab": {
          "base_uri": "https://localhost:8080/"
        },
        "id": "2i7U0vCn24-Z",
        "outputId": "47efddd1-a6ee-4bae-d365-05fae207e6fb"
      },
      "execution_count": null,
      "outputs": [
        {
          "output_type": "stream",
          "name": "stdout",
          "text": [
            "None\n"
          ]
        }
      ]
    },
    {
      "cell_type": "code",
      "source": [
        "digits.get(10, \"ten\") # Default provided"
      ],
      "metadata": {
        "colab": {
          "base_uri": "https://localhost:8080/",
          "height": 36
        },
        "id": "o7mYqz6w3NZB",
        "outputId": "634a9cce-a30f-41cd-f01d-508d02f9e915"
      },
      "execution_count": null,
      "outputs": [
        {
          "output_type": "execute_result",
          "data": {
            "application/vnd.google.colaboratory.intrinsic+json": {
              "type": "string"
            },
            "text/plain": [
              "'ten'"
            ]
          },
          "metadata": {},
          "execution_count": 31
        }
      ]
    },
    {
      "cell_type": "markdown",
      "source": [
        "Nesting can be defaulted by returning a dictionary as the default:"
      ],
      "metadata": {
        "id": "oY_mVZ623X1z"
      }
    },
    {
      "cell_type": "code",
      "source": [
        "four_es = translations.get(\"four\", {}).get(\"es\")\n",
        "print(four_es)"
      ],
      "metadata": {
        "colab": {
          "base_uri": "https://localhost:8080/"
        },
        "id": "XjSRP2PM3lyE",
        "outputId": "abee735b-5d3d-44aa-e90a-e6b93ee03daf"
      },
      "execution_count": null,
      "outputs": [
        {
          "output_type": "stream",
          "name": "stdout",
          "text": [
            "None\n"
          ]
        }
      ]
    },
    {
      "cell_type": "markdown",
      "source": [
        "# Control flow"
      ],
      "metadata": {
        "id": "Rg5BZMP-xP7Y"
      }
    },
    {
      "cell_type": "markdown",
      "source": [
        "## for-loops"
      ],
      "metadata": {
        "id": "VAuGR-TsxU1Y"
      }
    },
    {
      "cell_type": "markdown",
      "source": [
        "A for-loop is a common construct for traversing the items of any iterable thing, such as a list."
      ],
      "metadata": {
        "id": "pDs2oYbt4GsP"
      }
    },
    {
      "cell_type": "markdown",
      "source": [
        "### Basic for-loop"
      ],
      "metadata": {
        "id": "RuC5fU_ZxaDA"
      }
    },
    {
      "cell_type": "code",
      "metadata": {
        "id": "OsCLC0RsQAjg"
      },
      "source": [
        "brands = ['wendys', 'burgerking', 'mcdonalds', 'tacobell', 'chipotle']"
      ],
      "execution_count": null,
      "outputs": []
    },
    {
      "cell_type": "code",
      "metadata": {
        "id": "vW37j-K6QJPm",
        "colab": {
          "base_uri": "https://localhost:8080/"
        },
        "outputId": "56d5838a-a21c-4c3b-e387-ebb0e063d46c"
      },
      "source": [
        "for b in brands:\n",
        "    print(b)"
      ],
      "execution_count": null,
      "outputs": [
        {
          "output_type": "stream",
          "name": "stdout",
          "text": [
            "wendys\n",
            "burgerking\n",
            "mcdonalds\n",
            "tacobell\n",
            "chipotle\n"
          ]
        }
      ]
    },
    {
      "cell_type": "markdown",
      "metadata": {
        "id": "n3w-B3k4QRPh"
      },
      "source": [
        "### Enumerated for loop"
      ]
    },
    {
      "cell_type": "markdown",
      "source": [
        "A common need is to know the iteration count within the context of a loop. Python's `enumerate` is often used for this purpose"
      ],
      "metadata": {
        "id": "ys1SyPiT4l5z"
      }
    },
    {
      "cell_type": "code",
      "metadata": {
        "id": "8qeB6uPFQXPG",
        "colab": {
          "base_uri": "https://localhost:8080/",
          "height": 104
        },
        "outputId": "86ceeb5c-4ccf-4386-89de-e6d9b0bef59d"
      },
      "source": [
        "for i, b in enumerate(brands):\n",
        "    print(i, b)"
      ],
      "execution_count": null,
      "outputs": [
        {
          "output_type": "stream",
          "text": [
            "0 wendys\n",
            "1 burgerking\n",
            "2 mcdonalds\n",
            "3 tacobell\n",
            "4 chipotle\n"
          ],
          "name": "stdout"
        }
      ]
    },
    {
      "cell_type": "markdown",
      "source": [
        "## Conditionals"
      ],
      "metadata": {
        "id": "DbWp20w39zfD"
      }
    },
    {
      "cell_type": "code",
      "source": [
        "val_1 = 10\n",
        "val_2 = 100\n",
        "\n",
        "if val_1 < val_2:\n",
        "    print(\"Val 1 is less\")\n",
        "else:\n",
        "    print(\"Val 1 is more\")"
      ],
      "metadata": {
        "colab": {
          "base_uri": "https://localhost:8080/"
        },
        "id": "ocqkM01F96vf",
        "outputId": "1fffb91a-6df1-438a-b1c8-c23e400945d3"
      },
      "execution_count": null,
      "outputs": [
        {
          "output_type": "stream",
          "name": "stdout",
          "text": [
            "Val 1 is less\n"
          ]
        }
      ]
    },
    {
      "cell_type": "markdown",
      "source": [
        "#### elif for alternative conditions\n",
        "\n",
        "`elif` means \"else if\""
      ],
      "metadata": {
        "id": "38MTe1HA-ZUM"
      }
    },
    {
      "cell_type": "code",
      "source": [
        "if val_1 == 1:\n",
        "    print(\"first\")\n",
        "elif val_1 == 2:\n",
        "    print(\"second\")\n",
        "else:\n",
        "    print(\"at least third\")"
      ],
      "metadata": {
        "colab": {
          "base_uri": "https://localhost:8080/"
        },
        "id": "ag_Ctj-p-h4k",
        "outputId": "5c208a9d-206a-458b-bcc6-f44bc69b3544"
      },
      "execution_count": null,
      "outputs": [
        {
          "output_type": "stream",
          "name": "stdout",
          "text": [
            "at least third\n"
          ]
        }
      ]
    },
    {
      "cell_type": "markdown",
      "source": [
        "## Combining loops and conditionals"
      ],
      "metadata": {
        "id": "bleNOOYS5som"
      }
    },
    {
      "cell_type": "markdown",
      "source": [
        "Combined with the `%` mod operator, the enumeration index can be handy for periodic logging in a large loop."
      ],
      "metadata": {
        "id": "dhAuQLTQ57b7"
      }
    },
    {
      "cell_type": "code",
      "source": [
        "import string\n",
        "letters = string.ascii_lowercase\n",
        "\n",
        "for i, x in enumerate(letters):\n",
        "    if i % 10 == 0:\n",
        "        print(i)"
      ],
      "metadata": {
        "colab": {
          "base_uri": "https://localhost:8080/"
        },
        "id": "IutQAyRh6Hyi",
        "outputId": "4f1ecb47-d963-4b4c-9d64-f3a31410880f"
      },
      "execution_count": null,
      "outputs": [
        {
          "output_type": "stream",
          "name": "stdout",
          "text": [
            "0\n",
            "10\n",
            "20\n"
          ]
        }
      ]
    },
    {
      "cell_type": "markdown",
      "metadata": {
        "id": "ul8iUltkWbrU"
      },
      "source": [
        "# Functions"
      ]
    },
    {
      "cell_type": "markdown",
      "source": [
        "## Python's builtin functions"
      ],
      "metadata": {
        "id": "Q2BF_fluqIyP"
      }
    },
    {
      "cell_type": "markdown",
      "metadata": {
        "id": "Ny93H_Ugi2oV"
      },
      "source": [
        "\n",
        "A full list of the builtin functions is available here: https://docs.python.org/3.10/library/functions.html"
      ]
    },
    {
      "cell_type": "markdown",
      "metadata": {
        "id": "vwZWgfMw9fZV"
      },
      "source": [
        "### The print function\n",
        "\n",
        "`print` is used to print output. Print can:\n",
        "\n",
        " * print multiple things at a time\n",
        " * take a `sep` separator parameter\n",
        " * take an `end` end parameter"
      ]
    },
    {
      "cell_type": "code",
      "metadata": {
        "id": "tg0D0eRZ92D2",
        "colab": {
          "base_uri": "https://localhost:8080/",
          "height": 86
        },
        "outputId": "12946388-e129-435e-ee8b-e2d71947ec0e"
      },
      "source": [
        "print('one')\n",
        "print('one', 'two')\n",
        "print('one', 'two', 'three', sep=',')\n",
        "print('red', 'orange', 'yellow', end=';')\n",
        "print('green', 'blue', 'violet')"
      ],
      "execution_count": null,
      "outputs": [
        {
          "output_type": "stream",
          "text": [
            "one\n",
            "one two\n",
            "one,two,three\n",
            "red orange yellow;green blue violet\n"
          ],
          "name": "stdout"
        }
      ]
    },
    {
      "cell_type": "markdown",
      "metadata": {
        "id": "qkClgdYy9NeS"
      },
      "source": [
        "### Functions for numbers"
      ]
    },
    {
      "cell_type": "markdown",
      "metadata": {
        "id": "7vXHlqBb9TdM"
      },
      "source": [
        "#### Asolute value"
      ]
    },
    {
      "cell_type": "code",
      "metadata": {
        "id": "_y6uWXeR9Qqq",
        "colab": {
          "base_uri": "https://localhost:8080/",
          "height": 52
        },
        "outputId": "090a5046-4e48-412e-8f47-d3b5208386e1"
      },
      "source": [
        "print(abs(10))\n",
        "print(abs(-10))"
      ],
      "execution_count": null,
      "outputs": [
        {
          "output_type": "stream",
          "text": [
            "10\n",
            "10\n"
          ],
          "name": "stdout"
        }
      ]
    },
    {
      "cell_type": "markdown",
      "metadata": {
        "id": "IbLDyn-m-o7z"
      },
      "source": [
        "#### Convert between types"
      ]
    },
    {
      "cell_type": "code",
      "metadata": {
        "id": "budBXzzd-sTp",
        "colab": {
          "base_uri": "https://localhost:8080/",
          "height": 52
        },
        "outputId": "d8a1163d-e457-4c61-a79d-ddf3cf982aef"
      },
      "source": [
        "print(float(23))\n",
        "print(int(23.0))"
      ],
      "execution_count": null,
      "outputs": [
        {
          "output_type": "stream",
          "text": [
            "23.0\n",
            "23\n"
          ],
          "name": "stdout"
        }
      ]
    },
    {
      "cell_type": "markdown",
      "metadata": {
        "id": "u-Jg8VB2_D1b"
      },
      "source": [
        "#### Min and Max"
      ]
    },
    {
      "cell_type": "code",
      "metadata": {
        "id": "LgeVkrgN_Hu2",
        "colab": {
          "base_uri": "https://localhost:8080/",
          "height": 52
        },
        "outputId": "538d443e-4737-4325-f550-b7b31c0c13b7"
      },
      "source": [
        "print(min([10,20,30,40]))\n",
        "print(max(50,60,70,80))"
      ],
      "execution_count": null,
      "outputs": [
        {
          "output_type": "stream",
          "text": [
            "10\n",
            "80\n"
          ],
          "name": "stdout"
        }
      ]
    },
    {
      "cell_type": "markdown",
      "metadata": {
        "id": "iyu3mBiy_ats"
      },
      "source": [
        "#### Some math related functions\n"
      ]
    },
    {
      "cell_type": "code",
      "metadata": {
        "id": "39-MZcIV_0wu",
        "colab": {
          "base_uri": "https://localhost:8080/",
          "height": 69
        },
        "outputId": "34d89ff2-56bf-468e-9365-f2eb98b1e1a2"
      },
      "source": [
        "print(round(2.4))\n",
        "\n",
        "# round doesn't really do what you expect in many cases. See the docs for details\n",
        "print(round(2.5))\n",
        "print(sum([2,3,4,5]))"
      ],
      "execution_count": null,
      "outputs": [
        {
          "output_type": "stream",
          "text": [
            "2\n",
            "2\n",
            "14\n"
          ],
          "name": "stdout"
        }
      ]
    },
    {
      "cell_type": "markdown",
      "metadata": {
        "id": "VC3a_d3HAgKC"
      },
      "source": [
        "### Handy logic functions\n",
        "\n",
        "#### Check the \"truthiness\" of something"
      ]
    },
    {
      "cell_type": "code",
      "metadata": {
        "id": "3WLvzrmbAnfb",
        "colab": {
          "base_uri": "https://localhost:8080/"
        },
        "outputId": "8904aa5d-f90c-4778-bf9d-45fc2e937c42"
      },
      "source": [
        "print(1, bool(1))\n",
        "print(0, bool(0))\n",
        "print(1.0, bool(1.0))\n",
        "print(0.0, bool(0.0))\n",
        "print(23, bool(23))\n",
        "print('foo', bool('foo'))\n",
        "print('', bool(''))\n",
        "print(None, bool(None))"
      ],
      "execution_count": null,
      "outputs": [
        {
          "output_type": "stream",
          "name": "stdout",
          "text": [
            "1 True\n",
            "0 False\n",
            "1.0 True\n",
            "0.0 False\n",
            "23 True\n",
            "foo True\n",
            " False\n",
            "None False\n"
          ]
        }
      ]
    },
    {
      "cell_type": "markdown",
      "metadata": {
        "id": "TxrOQ_aIB4Uc"
      },
      "source": [
        "### Functions for data structures"
      ]
    },
    {
      "cell_type": "markdown",
      "metadata": {
        "id": "nCpofMgUD4va"
      },
      "source": [
        "#### Convert between different serial structures"
      ]
    },
    {
      "cell_type": "code",
      "metadata": {
        "id": "FUup49B0D-Xh",
        "colab": {
          "base_uri": "https://localhost:8080/",
          "height": 69
        },
        "outputId": "6b871045-254d-4e63-f8fa-871d72171653"
      },
      "source": [
        "print(set([1,2,1,1,2,2,3,2,3,1,3]))\n",
        "print(list(set([1,1,2,2,3,3])))\n",
        "print(tuple([1,2,3]))"
      ],
      "execution_count": null,
      "outputs": [
        {
          "output_type": "stream",
          "text": [
            "{1, 2, 3}\n",
            "[1, 2, 3]\n",
            "(1, 2, 3)\n"
          ],
          "name": "stdout"
        }
      ]
    },
    {
      "cell_type": "markdown",
      "metadata": {
        "id": "46ltAUHuCJdh"
      },
      "source": [
        "#### Enumerate a series\n"
      ]
    },
    {
      "cell_type": "code",
      "metadata": {
        "id": "KtRtGHPOCWc8",
        "colab": {
          "base_uri": "https://localhost:8080/",
          "height": 69
        },
        "outputId": "d325cdf0-b735-49e5-eadd-c510fb480724"
      },
      "source": [
        "for i, val in enumerate(['red', 'orange', 'yellow']):\n",
        "    print(i, val)"
      ],
      "execution_count": null,
      "outputs": [
        {
          "output_type": "stream",
          "text": [
            "0 red\n",
            "1 orange\n",
            "2 yellow\n"
          ],
          "name": "stdout"
        }
      ]
    },
    {
      "cell_type": "markdown",
      "metadata": {
        "id": "QLOCxL80EfAk"
      },
      "source": [
        "#### Zip together two lists of items"
      ]
    },
    {
      "cell_type": "code",
      "metadata": {
        "id": "fvdt5U1PESOh",
        "colab": {
          "base_uri": "https://localhost:8080/",
          "height": 34
        },
        "outputId": "b08e84f1-2084-4cc9-d2c4-470b631fe20d"
      },
      "source": [
        "list(zip(['apples', 'oranges', 'bananas'], ['red', 'orange', 'yellow']))"
      ],
      "execution_count": null,
      "outputs": [
        {
          "output_type": "execute_result",
          "data": {
            "text/plain": [
              "[('apples', 'red'), ('oranges', 'orange'), ('bananas', 'yellow')]"
            ]
          },
          "metadata": {
            "tags": []
          },
          "execution_count": 27
        }
      ]
    },
    {
      "cell_type": "markdown",
      "source": [
        "## Defining your own functions"
      ],
      "metadata": {
        "id": "quuXG1UMq7sS"
      }
    },
    {
      "cell_type": "markdown",
      "metadata": {
        "id": "PWK_CKqOt1EM"
      },
      "source": [
        "\n",
        "A function is a named unit of functionality which:\n",
        "\n",
        " * Accepts parameters (a.k.a. arguments)\n",
        " * Executes some code, using the provided parameters\n",
        " * Returns some value\n"
      ]
    },
    {
      "cell_type": "markdown",
      "metadata": {
        "id": "H9iaKz6BjX6U"
      },
      "source": [
        "Functions are defined with the `def` keyword, and are delimited by a block of consistent whitespace indentation. It is strongly advised that you use the Python community standard of 4 spaces for your indentations.\n",
        "\n",
        "A function definition for adding two numbers might look like this:\n",
        "\n",
        "```\n",
        "def add(va11, val2):\n",
        "    sum = al1 + val2\n",
        "    return sum\n",
        "```\n",
        "\n",
        "Make note of the following:\n",
        "\n",
        " * The function definition line starts with `def` and ends with `:`\n",
        " * The body of the function is indented 4 spaces\n",
        " * The function returns a value. If there is no `return` for your function, an implicit `None` will be returned as the value. "
      ]
    },
    {
      "cell_type": "markdown",
      "metadata": {
        "id": "SOTLuna1lUvZ"
      },
      "source": [
        "Things to consider:\n",
        "\n",
        " * Name your functions clearly according to what they do\n",
        " * It is customary in Python to name functions using `snake_case`, not `camelCase` or `PascalCase`.\n",
        " * A function can both positional and named (keyword) arguments. Positional arguments must come first.\n",
        " * Something is always returned from a function, even if it is nothing. If you do not explicitly return a value, Python will return `None` for you.\n",
        " * It is possible to design a function that appears to return multiple values by simply returning a tuple of values."
      ]
    },
    {
      "cell_type": "markdown",
      "metadata": {
        "id": "mbWJUmZJtr3V"
      },
      "source": [
        "## Example functions\n"
      ]
    },
    {
      "cell_type": "markdown",
      "source": [
        "### A specialized printing function"
      ],
      "metadata": {
        "id": "Cf9rtm8brC78"
      }
    },
    {
      "cell_type": "markdown",
      "metadata": {
        "id": "l068Qgo0F3Q-"
      },
      "source": [
        "\n",
        "Given a dictionary of brands and ratings, where each brand name is the key to a list of ratings values, print a table of min and max ratings by brand."
      ]
    },
    {
      "cell_type": "code",
      "metadata": {
        "id": "8YB6Q8A9pbZP",
        "colab": {
          "base_uri": "https://localhost:8080/",
          "height": 104
        },
        "outputId": "37b6316c-5cef-4521-ab74-90e4974a7f05"
      },
      "source": [
        "def brand_report(data):\n",
        "    print('Brand', 'min', 'max', sep='\\t')\n",
        "    print('-----', '---', '---', sep='\\t')\n",
        "    for brand, ratings in data.items():\n",
        "        print(brand, min(ratings), max(ratings), sep='\\t')\n",
        "\n",
        "\n",
        "brand_data = {\n",
        "    'Nike': [3.0, 2.5, 4.0, 1.0],\n",
        "    'Adidas': [2.0, 3.5, 4.0, 1.5],\n",
        "    'Reebok': [1.0, 3.0, 3.5, 2.0]\n",
        "}\n",
        "brand_report(brand_data)"
      ],
      "execution_count": null,
      "outputs": [
        {
          "output_type": "stream",
          "text": [
            "Brand\tmin\tmax\n",
            "-----\t---\t---\n",
            "Nike\t1.0\t4.0\n",
            "Adidas\t1.5\t4.0\n",
            "Reebok\t1.0\t3.5\n"
          ],
          "name": "stdout"
        }
      ]
    },
    {
      "cell_type": "markdown",
      "metadata": {
        "id": "aCeiihxQNX7V"
      },
      "source": [
        "* Functions, modules\n",
        "  - Builtin functions (print, len, https://docs.python.org/3.7/library/functions.html)\n",
        "  - Function def, block constructs and whitespace in Python\n",
        "  - Parameters (aka arguments)\n",
        "  - Variable args and keyword args (kwargs)\n",
        "  - `import` and the python stdlib"
      ]
    },
    {
      "cell_type": "markdown",
      "source": [
        "# Standard library modules"
      ],
      "metadata": {
        "id": "-EAEIUMrrU5Q"
      }
    },
    {
      "cell_type": "markdown",
      "metadata": {
        "id": "rq9V0j9ztiHJ"
      },
      "source": [
        "## datetime and time"
      ]
    },
    {
      "cell_type": "code",
      "metadata": {
        "id": "ygzPgSVIJk7r",
        "colab": {
          "base_uri": "https://localhost:8080/",
          "height": 34
        },
        "outputId": "b5f125a8-153d-4d1b-d41b-072b91da5c66"
      },
      "source": [
        "# import the datetime module\n",
        "import datetime\n",
        "\n",
        "# call the `now` class method on the datetime class\n",
        "datetime.datetime.now()"
      ],
      "execution_count": null,
      "outputs": [
        {
          "output_type": "execute_result",
          "data": {
            "text/plain": [
              "datetime.datetime(2020, 5, 26, 1, 57, 27, 115614)"
            ]
          },
          "metadata": {
            "tags": []
          },
          "execution_count": 45
        }
      ]
    },
    {
      "cell_type": "code",
      "metadata": {
        "id": "X_9SZoh3Hm8R",
        "colab": {
          "base_uri": "https://localhost:8080/",
          "height": 34
        },
        "outputId": "cf810f12-77a4-4e12-85b0-140d0338ccaa"
      },
      "source": [
        "# import the date class from the datetime module and call `today`\n",
        "from datetime import date\n",
        "date.today()"
      ],
      "execution_count": null,
      "outputs": [
        {
          "output_type": "execute_result",
          "data": {
            "text/plain": [
              "datetime.date(2020, 5, 26)"
            ]
          },
          "metadata": {
            "tags": []
          },
          "execution_count": 46
        }
      ]
    },
    {
      "cell_type": "code",
      "metadata": {
        "id": "XTgbIw2jJps-",
        "colab": {
          "base_uri": "https://localhost:8080/",
          "height": 34
        },
        "outputId": "0e228737-064e-4a3b-f2b4-d45e4d7fefb4"
      },
      "source": [
        "# clock some duration of time\n",
        "import time\n",
        "start_time = time.time()\n",
        "time.sleep(3) # do nothing for 3 seconds\n",
        "end_time = time.time()\n",
        "print('duration:', end_time - start_time)"
      ],
      "execution_count": null,
      "outputs": [
        {
          "output_type": "stream",
          "text": [
            "duration: 3.0032832622528076\n"
          ],
          "name": "stdout"
        }
      ]
    },
    {
      "cell_type": "markdown",
      "metadata": {
        "id": "c7ZLHn9luSgS"
      },
      "source": [
        "## statistics"
      ]
    },
    {
      "cell_type": "code",
      "metadata": {
        "id": "wGxnouBktOIp"
      },
      "source": [
        "import random\n",
        "random.seed(123)\n",
        "data = random.choices(range(1000), k=100)\n",
        "data # is 100 random numbers from 0 to 999"
      ],
      "execution_count": null,
      "outputs": []
    },
    {
      "cell_type": "code",
      "metadata": {
        "id": "EKZiOhOTu6SR",
        "colab": {
          "base_uri": "https://localhost:8080/",
          "height": 139
        },
        "outputId": "ee6a04cc-f031-42fe-ea06-74ea5907cb28"
      },
      "source": [
        "import statistics\n",
        "print('mean', statistics.mean(data))\n",
        "print('median', statistics.median(data))\n",
        "\n",
        "# using a subset since mode will throw an error if there is not a unique mode\n",
        "print('mode (of 1st 20)', statistics.mode(data[:20]))\n",
        "\n",
        "print('stdev', statistics.stdev(data))\n",
        "print('variance', statistics.variance(data))"
      ],
      "execution_count": null,
      "outputs": [
        {
          "output_type": "stream",
          "text": [
            "mean 435.73\n",
            "median 405.5\n",
            "median-low 404\n",
            "median-high 407\n",
            "mode (of 1st 20) 87\n",
            "stdev 287.37600242135176\n",
            "variance 82584.96676767677\n"
          ],
          "name": "stdout"
        }
      ]
    },
    {
      "cell_type": "markdown",
      "metadata": {
        "id": "E5sanxQHwZmH"
      },
      "source": [
        "## collections"
      ]
    },
    {
      "cell_type": "markdown",
      "metadata": {
        "id": "eocbeQCmz9DR"
      },
      "source": [
        "The collections module has a number of useful utilities for working with collections of things. A very handy thing is the Counter."
      ]
    },
    {
      "cell_type": "code",
      "metadata": {
        "id": "uvllPBwnwa88",
        "colab": {
          "base_uri": "https://localhost:8080/",
          "height": 191
        },
        "outputId": "7e4819b1-e1d4-4dcb-fc4f-cbce7914ea17"
      },
      "source": [
        "import random\n",
        "data = random.choices(['taco bell', 'wendys', 'burger king', 'mcdonalds'], k=10)\n",
        "data # is a random list of fast food joints"
      ],
      "execution_count": null,
      "outputs": [
        {
          "output_type": "execute_result",
          "data": {
            "text/plain": [
              "['mcdonalds',\n",
              " 'wendys',\n",
              " 'wendys',\n",
              " 'burger king',\n",
              " 'mcdonalds',\n",
              " 'mcdonalds',\n",
              " 'wendys',\n",
              " 'burger king',\n",
              " 'burger king',\n",
              " 'wendys']"
            ]
          },
          "metadata": {
            "tags": []
          },
          "execution_count": 55
        }
      ]
    },
    {
      "cell_type": "code",
      "metadata": {
        "id": "aVL3v8Bq07rM",
        "colab": {
          "base_uri": "https://localhost:8080/",
          "height": 34
        },
        "outputId": "dee2778d-da8f-49b0-cfc4-8b7f6e88f222"
      },
      "source": [
        "from collections import Counter\n",
        "counter = Counter(data)\n",
        "counter"
      ],
      "execution_count": null,
      "outputs": [
        {
          "output_type": "execute_result",
          "data": {
            "text/plain": [
              "Counter({'burger king': 3, 'mcdonalds': 3, 'wendys': 4})"
            ]
          },
          "metadata": {
            "tags": []
          },
          "execution_count": 56
        }
      ]
    },
    {
      "cell_type": "markdown",
      "metadata": {
        "id": "1m2WiY9E1Jzh"
      },
      "source": [
        "What if we want to count as we go through the data?"
      ]
    },
    {
      "cell_type": "code",
      "metadata": {
        "id": "fPP4J5uE1F6_",
        "colab": {
          "base_uri": "https://localhost:8080/",
          "height": 34
        },
        "outputId": "01ab9bb8-ab06-4ed0-b7c1-1f7e7120d62e"
      },
      "source": [
        "c2 = Counter()\n",
        "for item in data:\n",
        "    c2.update([item])\n",
        "c2"
      ],
      "execution_count": null,
      "outputs": [
        {
          "output_type": "execute_result",
          "data": {
            "text/plain": [
              "Counter({'burger king': 3, 'mcdonalds': 3, 'wendys': 4})"
            ]
          },
          "metadata": {
            "tags": []
          },
          "execution_count": 57
        }
      ]
    },
    {
      "cell_type": "markdown",
      "source": [
        "## json"
      ],
      "metadata": {
        "id": "hivMF446DKsG"
      }
    },
    {
      "cell_type": "markdown",
      "metadata": {
        "id": "lTeUVloU3-lN"
      },
      "source": [
        "JSON is a web standard data format that comes from Javascript. If you are into state diagrams of language syntax, you can peruse the official JSON documentation [here](https://www.json.org). But mainly, suffice it to say that JSON pretty much works like Python dictionaries.\n",
        "\n",
        "**However** When using JSON as an interchange format, the data comes into and goes out of Python code as a string. We might refer to this string data format as a JSON \"object\", although technically it is really just a string .. which happens to be in JSON format. (There is, technically, not really such a thing as a JSON **object** in Python).\n",
        "\n",
        "What this means is that we need some kind of codec to encode and decode JSON data. Specifically, we need to **parse** or **decode** the JSON string to produce a Python dictionary, and conversely we need to **encode** Python data structures into JSON strings in order to save them as JSON. The `json` module handles this work for you."
      ]
    },
    {
      "cell_type": "markdown",
      "source": [
        "### Encoding JSON"
      ],
      "metadata": {
        "id": "Y47iMWTFsYko"
      }
    },
    {
      "cell_type": "markdown",
      "source": [
        "Use `json.dumps` to \"dump\" a dictionary structure to a JSON string."
      ],
      "metadata": {
        "id": "KOTk69o6s7A9"
      }
    },
    {
      "cell_type": "code",
      "metadata": {
        "id": "qXmKW38J9r7_",
        "colab": {
          "base_uri": "https://localhost:8080/",
          "height": 54
        },
        "outputId": "599a0888-3e57-4c87-a35f-fa962f749fdc"
      },
      "source": [
        "import json\n",
        "\n",
        "media_urls = {\n",
        "    'Facebook': 'https://www.facebook.com/',\n",
        "    'Twitter': 'https://twitter.com/home',\n",
        "    'Instagram': 'https://www.instagram.com/',\n",
        "    'TikTok': 'https://www.tiktok.com/'\n",
        "}\n",
        "\n",
        "media_urls_as_json = json.dumps(media_urls)\n",
        "media_urls_as_json # Note: from Python's perspective this is a string!"
      ],
      "execution_count": null,
      "outputs": [
        {
          "output_type": "execute_result",
          "data": {
            "application/vnd.google.colaboratory.intrinsic+json": {
              "type": "string"
            },
            "text/plain": [
              "'{\"Facebook\": \"https://www.facebook.com/\", \"Twitter\": \"https://twitter.com/home\", \"Instagram\": \"https://www.instagram.com/\", \"TikTok\": \"https://www.tiktok.com/\"}'"
            ]
          },
          "metadata": {},
          "execution_count": 8
        }
      ]
    },
    {
      "cell_type": "markdown",
      "source": [
        "`dumps` also takes an indent parameter for prettier printing. Typically, however, you would only use this for display purposes, not for general data manipulation."
      ],
      "metadata": {
        "id": "MBALRYZ1tJF4"
      }
    },
    {
      "cell_type": "code",
      "source": [
        "print(json.dumps(media_urls, indent=4))"
      ],
      "metadata": {
        "colab": {
          "base_uri": "https://localhost:8080/"
        },
        "id": "YEU7LYGMtPbh",
        "outputId": "9a0aae57-d8d7-4b61-9c4e-c71d5ed9540e"
      },
      "execution_count": null,
      "outputs": [
        {
          "output_type": "stream",
          "name": "stdout",
          "text": [
            "{\n",
            "    \"Facebook\": \"https://www.facebook.com/\",\n",
            "    \"Twitter\": \"https://twitter.com/home\",\n",
            "    \"Instagram\": \"https://www.instagram.com/\",\n",
            "    \"TikTok\": \"https://www.tiktok.com/\"\n",
            "}\n"
          ]
        }
      ]
    },
    {
      "cell_type": "markdown",
      "source": [
        "### Decoding json"
      ],
      "metadata": {
        "id": "a8Hp7f4TuBp_"
      }
    },
    {
      "cell_type": "markdown",
      "source": [
        "Use `json.loads` to \"load\" a JSON string into a dictionary structure."
      ],
      "metadata": {
        "id": "COE1BaBtuFDA"
      }
    },
    {
      "cell_type": "code",
      "source": [
        "data = json.loads(media_urls_as_json)\n",
        "data # this is a Python dictionary"
      ],
      "metadata": {
        "colab": {
          "base_uri": "https://localhost:8080/"
        },
        "id": "0yAXDSATuLQD",
        "outputId": "0db47b99-1f42-4799-8f1a-56bbd474477d"
      },
      "execution_count": null,
      "outputs": [
        {
          "output_type": "execute_result",
          "data": {
            "text/plain": [
              "{'Facebook': 'https://www.facebook.com/',\n",
              " 'Instagram': 'https://www.instagram.com/',\n",
              " 'TikTok': 'https://www.tiktok.com/',\n",
              " 'Twitter': 'https://twitter.com/home'}"
            ]
          },
          "metadata": {},
          "execution_count": 12
        }
      ]
    },
    {
      "cell_type": "markdown",
      "source": [
        "### JSON file i/o"
      ],
      "metadata": {
        "id": "p9rnjTqDBL6U"
      }
    },
    {
      "cell_type": "markdown",
      "metadata": {
        "id": "PgXd7UT2kFJu"
      },
      "source": [
        "A JSON string can be written out to a file, which would be a file in the json standard data format:\n",
        "\n",
        "```\n",
        "with open('brandhq.json', 'w') as outfile:\n",
        "    outfile.write(brand_hq_json) # just like writing any other string to a file\n",
        "```"
      ]
    },
    {
      "cell_type": "markdown",
      "metadata": {
        "id": "sFdlUTkikFJw"
      },
      "source": [
        "It is not necessary to encode the data to a json string before writing it out. The json module provides tools for direct encoding/parsing to and from a file. Starting again with our data dictionary instead of the json string:\n",
        "\n",
        "```\n",
        "with open('brandhq.json', 'w') as outfile:\n",
        "    json.dump(outfile, brand_hq) # note the method is dump, not dumps (which stands for dump-string)\n",
        "```"
      ]
    },
    {
      "cell_type": "markdown",
      "metadata": {
        "id": "hNRfX0UokFJy"
      },
      "source": [
        "We can also go the other way. Given a json string, we can parse it into a dictionary:"
      ]
    },
    {
      "cell_type": "code",
      "metadata": {
        "id": "qsoAPsEZkFJz"
      },
      "source": [
        "data = json.loads(brand_hq_json)\n",
        "data"
      ],
      "execution_count": null,
      "outputs": []
    },
    {
      "cell_type": "markdown",
      "metadata": {
        "id": "9FhBF9p-kFJ7"
      },
      "source": [
        "Note the absence of quotes around this data. This is a dictionary, not a string:"
      ]
    },
    {
      "cell_type": "code",
      "metadata": {
        "id": "loJE2RhskFJ_"
      },
      "source": [
        "data['Nike']"
      ],
      "execution_count": null,
      "outputs": []
    },
    {
      "cell_type": "markdown",
      "metadata": {
        "id": "3FWsaOrJkFKI"
      },
      "source": [
        "There is also a `load` method for working directly with a file:\n",
        "\n",
        "```\n",
        "with open('brandhq.json') as infile:\n",
        "    data = json.load(infile)\n",
        "```"
      ]
    },
    {
      "cell_type": "markdown",
      "metadata": {
        "id": "1puQgaVeHkCi"
      },
      "source": [
        "\n",
        "Beyond the builtin functions discussed above, the Python standard library has a number of modules available with additional functionality.\n",
        "\n",
        "If you want to use code from a module, you will need to import it."
      ]
    },
    {
      "cell_type": "markdown",
      "metadata": {
        "id": "bwMxVhsMpPMX"
      },
      "source": [
        "Some modules that will be useful for you include:\n",
        "\n",
        " * [datetime](https://docs.python.org/3.8/library/datetime.html) and [time](https://docs.python.org/3/library/time.html). Basic date and time types\n",
        "\n",
        " * [statistics](https://docs.python.org/3/library/statistics.html). Mathematical statistics functions.\n",
        "\n",
        " * [collections](https://docs.python.org/3.8/library/collections.html)\n",
        "\n",
        " * [pathlib](https://docs.python.org/3/library/pathlib.html).\n",
        "Object-oriented filesystem paths.\n",
        "\n",
        " * [json](https://docs.python.org/3/library/json.html). JSON encoder and decoder."
      ]
    },
    {
      "cell_type": "markdown",
      "source": [
        "### JSON-L files"
      ],
      "metadata": {
        "id": "teMzcNz5FaNK"
      }
    },
    {
      "cell_type": "markdown",
      "source": [
        "JSON-L is a non-standard file format in which each line is a JSON data object. This differs from standard JSON which is a single object in a file.\n",
        "\n",
        "You will sometimes run across data files with a `.json` extension, which are actually json-l files."
      ],
      "metadata": {
        "id": "izbcVxKpFc62"
      }
    },
    {
      "cell_type": "markdown",
      "source": [
        "To read a JSON-L file, iterate the lines of the file and load each one as a JSON string."
      ],
      "metadata": {
        "id": "uaNQESEDFx8N"
      }
    },
    {
      "cell_type": "markdown",
      "source": [
        "```\n",
        "import json\n",
        "\n",
        "with open(\"datafile.jsonl\") as f:\n",
        "    for line in f:\n",
        "        record = json.loads(line)\n",
        "        # do something with the data record\n",
        "```"
      ],
      "metadata": {
        "id": "CKzFqbrpF5WA"
      }
    },
    {
      "cell_type": "markdown",
      "source": [
        "# External packages"
      ],
      "metadata": {
        "id": "Lvpsip5Vr6-V"
      }
    },
    {
      "cell_type": "markdown",
      "metadata": {
        "id": "lAAv2AQmC2cC"
      },
      "source": [
        "\n",
        "What do you do when the standard library doesn't have what you need? There's a package for that. Python's central repository of 3rd party library packages is called PyPi (the Python Package Index). It has over 1/4 million packages of various utility.\n",
        "\n",
        "Before you write code that seems like it should already be written, Google: \"python <whatever>\". Chances are someone has already tackled the same problem you are having now."
      ]
    },
    {
      "cell_type": "markdown",
      "metadata": {
        "id": "XKMKhVDOJKsl"
      },
      "source": [
        "## Packages. What are they good for?\n"
      ]
    },
    {
      "cell_type": "markdown",
      "metadata": {
        "id": "slihIQ_3Ds6j"
      },
      "source": [
        "To mention a few things\n",
        "\n",
        " * plotting / charting\n",
        " * machine learning\n",
        " * natural language processing\n",
        " * web application frameworks\n",
        " * working with various services, web APIs, etc.\n",
        " * template languages\n",
        " * data parsers or various codecs\n",
        " * database drivers\n",
        " * better handling of x, where x might be:\n",
        "   - date/time processing\n",
        "   - statistics / scientific calculation\n",
        "   - web resource fetching\n",
        "\n",
        "The list goes on. This is an applied course, so we will use a **lot** of 3rd party libraries! You should get used to reading library documentation, and even sometimes looking at the code!"
      ]
    },
    {
      "cell_type": "markdown",
      "metadata": {
        "id": "W4ltHHncDpUf"
      },
      "source": [
        "## Installing packages in Colab"
      ]
    },
    {
      "cell_type": "markdown",
      "metadata": {
        "id": "cJlTMQX1Fdgg"
      },
      "source": [
        "`pip` is the go-to installer for Python packages. In your local environment, you would simply run `pip install requests`, e.g. to install the requests library.\n",
        "\n",
        "To install packages into the Colab runtime environment, we need to call out to the shell to execute pip. We do this with a bang:\n",
        "\n",
        "```\n",
        "!pip install requests\n",
        "```\n",
        "\n",
        "Note, however, that Colab has a lot of packages already installed. E.g.:"
      ]
    },
    {
      "cell_type": "code",
      "metadata": {
        "id": "1TX8u_HjAyeL",
        "colab": {
          "base_uri": "https://localhost:8080/",
          "height": 104
        },
        "outputId": "ff9e5fe1-8091-4a5c-9f98-d1c28f3b43c2"
      },
      "source": [
        "!pip install requests"
      ],
      "execution_count": null,
      "outputs": [
        {
          "output_type": "stream",
          "text": [
            "Requirement already satisfied: requests in /usr/local/lib/python3.6/dist-packages (2.23.0)\n",
            "Requirement already satisfied: chardet<4,>=3.0.2 in /usr/local/lib/python3.6/dist-packages (from requests) (3.0.4)\n",
            "Requirement already satisfied: idna<3,>=2.5 in /usr/local/lib/python3.6/dist-packages (from requests) (2.9)\n",
            "Requirement already satisfied: certifi>=2017.4.17 in /usr/local/lib/python3.6/dist-packages (from requests) (2020.4.5.1)\n",
            "Requirement already satisfied: urllib3!=1.25.0,!=1.25.1,<1.26,>=1.21.1 in /usr/local/lib/python3.6/dist-packages (from requests) (1.24.3)\n"
          ],
          "name": "stdout"
        }
      ]
    },
    {
      "cell_type": "markdown",
      "metadata": {
        "id": "UOeOpxaAHLEE"
      },
      "source": [
        "Note the _Requirement already satisfied_ since this is a popular library that is pre-installed on Colab.\n",
        "\n",
        "The easiest way to see all the installed packages is to call:\n",
        "\n",
        "```\n",
        "pip freeze\n",
        "```"
      ]
    },
    {
      "cell_type": "code",
      "metadata": {
        "id": "6-anXPdcHH3n"
      },
      "source": [
        "# help can show you all of the modules, but it is a bit verbose and slow\n",
        "# help('modules')\n",
        "\n",
        "# instead you can call out to the shell to get the \"pip freeze\" which shows packages and their versions\n",
        "!pip freeze"
      ],
      "execution_count": null,
      "outputs": []
    },
    {
      "cell_type": "markdown",
      "source": [
        "# File Input/Output"
      ],
      "metadata": {
        "id": "r7cB5SL3v_oR"
      }
    },
    {
      "cell_type": "markdown",
      "metadata": {
        "id": "j7np8BdTseUf"
      },
      "source": [
        "## Basic file i/o in Python"
      ]
    },
    {
      "cell_type": "markdown",
      "metadata": {
        "id": "Jkyq6sVmtKqP"
      },
      "source": [
        "**Resources and context blocks**"
      ]
    },
    {
      "cell_type": "markdown",
      "metadata": {
        "id": "8kPwm97xtONM"
      },
      "source": [
        "When we talk about resources in programming, we are talking about external things that we \"connect\" with. Database connections, web connections and other networked resources, and os and filesystem resources like sockets ... and files.\n",
        "\n",
        "\n",
        "---\n",
        "### ⚠️ **Pro tip!** close your resources!\n",
        "\n",
        "Always be sure to close any resources you open to avoid weird hangups and data corruption. The best way to do this is to open resources in a `with` block.\n",
        "\n",
        "---"
      ]
    },
    {
      "cell_type": "markdown",
      "metadata": {
        "id": "PB9Tbvopvae8"
      },
      "source": [
        "For the most part, file i/o is simple:\n",
        "\n",
        "**open a file**:\n",
        "\n",
        "```\n",
        "f = open('/path/to/my/file')\n",
        "```\n",
        "\n",
        "**close the file**:\n",
        "\n",
        "```\n",
        "f.close()\n",
        "```\n",
        "\n",
        "But even better is to do your file activity within a managed context block. In Python, we do this using the `with` statement:\n",
        "\n",
        "```\n",
        "with open(my_filepath) as f:\n",
        "    pass # do something with f here\n",
        "# <<-- Python will close the file for you here\n",
        "```\n"
      ]
    },
    {
      "cell_type": "markdown",
      "metadata": {
        "id": "YolZB0tfwX-C"
      },
      "source": [
        "## File i/o in Colab"
      ]
    },
    {
      "cell_type": "markdown",
      "metadata": {
        "id": "HciD7LKux1DL"
      },
      "source": [
        "In the Colab runtime environment, we do not have direct access to a filesystem. Instead, you will need to mount your personal Google Drive and access files there.\n",
        "\n",
        "Here is an example of what it looks like to mount your Drive and list the contents (just showing the first 3 results here):"
      ]
    },
    {
      "cell_type": "code",
      "metadata": {
        "id": "WxhEaYjzsgvU",
        "colab": {
          "base_uri": "https://localhost:8080/",
          "height": 140
        },
        "outputId": "1f12e4d2-1e6e-4365-ca84-182c24820ce2"
      },
      "source": [
        "import os\n",
        "from google.colab import drive\n",
        "drive.mount('/content/drive')\n",
        "os.listdir('drive/My Drive')[:3]"
      ],
      "execution_count": null,
      "outputs": [
        {
          "output_type": "stream",
          "text": [
            "Go to this URL in a browser: https://accounts.google.com/o/oauth2/auth?client_id=947318989803-6bn6qk8qdgf4n4g3pfee6491hc0brc4i.apps.googleusercontent.com&redirect_uri=urn%3aietf%3awg%3aoauth%3a2.0%3aoob&scope=email%20https%3a%2f%2fwww.googleapis.com%2fauth%2fdocs.test%20https%3a%2f%2fwww.googleapis.com%2fauth%2fdrive%20https%3a%2f%2fwww.googleapis.com%2fauth%2fdrive.photos.readonly%20https%3a%2f%2fwww.googleapis.com%2fauth%2fpeopleapi.readonly&response_type=code\n",
            "\n",
            "Enter your authorization code:\n",
            "4/4AFBiwMFt--CRx4WXh3ueMLdEId28320aqt0ldNBGffRmie6AvD0a7A\n",
            "Mounted at /content/drive\n"
          ],
          "name": "stdout"
        },
        {
          "output_type": "execute_result",
          "data": {
            "text/plain": [
              "['1Agenda-setting Journal', '1Proposal ', 'Conference Submissions']"
            ]
          },
          "metadata": {
            "tags": []
          },
          "execution_count": 1
        }
      ]
    },
    {
      "cell_type": "markdown",
      "metadata": {
        "id": "EtGnr5HizKb8"
      },
      "source": [
        "## Working with pathlib"
      ]
    },
    {
      "cell_type": "markdown",
      "metadata": {
        "id": "05wGGwbyzOU4"
      },
      "source": [
        "pathlib has some nice features for working with file paths, including `glob` for listing files that match a pattern, and the slash syntax for constructing a path.\n",
        "\n",
        "```\n",
        "from pathlib import Path\n",
        "mydrive = Path('drive/My Drive')\n",
        "datadir = mydrive / 'data'\n",
        "csv_files = list(datadir.glob('*.csv'))\n",
        "```"
      ]
    },
    {
      "cell_type": "markdown",
      "metadata": {
        "id": "Pn1iNCRa1hNh"
      },
      "source": [
        "## Processing a csv file"
      ]
    },
    {
      "cell_type": "markdown",
      "source": [
        "```\n",
        "from csv import DictReader\n",
        "\n",
        "with open('drive/My Drive/mydata.csv') as f:\n",
        "    reader = DictReader(f)\n",
        "    for i, row in enumerate(reader):\n",
        "        # row is a dictionary of key-value pairs\n",
        "        # with the keys corresponding to the CSV headers\n",
        "        headers = row.keys()\n",
        "```"
      ],
      "metadata": {
        "id": "q4BAWy1HEvYx"
      }
    },
    {
      "cell_type": "markdown",
      "source": [
        "# Regular expressions"
      ],
      "metadata": {
        "id": "TeQaH0QszfI_"
      }
    },
    {
      "cell_type": "markdown",
      "metadata": {
        "id": "-qZbMcapW8Db"
      },
      "source": [
        "https://docs.python.org/3/library/re.html\n",
        "\n",
        "We will not go into a lot of detail about regular expressions in this course, but you need to know they exist as a potential tool in your toolbox. We will look at the concept briefly here to see how useful they can be.\n",
        "\n",
        "A regular expressions (a.k.a. regexes) are a type of pattern matching language used to find patterns in strings. The details of this language are a bit specific to the environment you are in, but the concepts are general, and extend not only to programming languages, but also to operating systems and shells. Here are a few example matching functions from Python's flavor of regular expressions:\n",
        "\n",
        "`.*` Match any character (.) for any number of characters (*)\n",
        "\n",
        "`[0-9]+` Match 1 or more (+) instances of a digit\n",
        "\n",
        "`\\b[a-zA-Z_]+\\w*` Match a valid python variable\n",
        "\n",
        "`\\(?\\d{3}\\)? ?[.\\- ]?\\d{3}[.\\- ]\\d{4}` A *rough* pass at matching some common phone number formats\n"
      ]
    },
    {
      "cell_type": "markdown",
      "metadata": {
        "id": "pugtho4DW8Df"
      },
      "source": [
        "Let's see a couple of these in action."
      ]
    },
    {
      "cell_type": "code",
      "metadata": {
        "id": "-J8S81y2W8Dh",
        "colab": {
          "base_uri": "https://localhost:8080/"
        },
        "outputId": "6db0c8ad-3701-419e-ff74-4c0b7426aab4"
      },
      "source": [
        "import re\n",
        "p = re.compile(r'\\b[a-zA-Z_]+\\w*')\n",
        "code = \"\"\"\n",
        "var1 = 123\n",
        "var2 = 456\n",
        "sum_total = var1 + var2\"\"\"\n",
        "p.findall(code)"
      ],
      "execution_count": null,
      "outputs": [
        {
          "output_type": "execute_result",
          "data": {
            "text/plain": [
              "['var1', 'var2', 'sum_total', 'var1', 'var2']"
            ]
          },
          "metadata": {},
          "execution_count": 55
        }
      ]
    },
    {
      "cell_type": "code",
      "metadata": {
        "id": "VYDYP4gSW8Dt",
        "colab": {
          "base_uri": "https://localhost:8080/"
        },
        "outputId": "2dc9110c-0e6a-4106-c38a-5cccaa4f9d60"
      },
      "source": [
        "p = re.compile(r'\\(?\\d{3}\\)? ?[.\\- ]?\\d{3}[.\\- ]\\d{4}')\n",
        "p.findall('555 867 5309 | (555)867-5309 | (555) 867-5309 | 555.867.5309')"
      ],
      "execution_count": null,
      "outputs": [
        {
          "output_type": "execute_result",
          "data": {
            "text/plain": [
              "['555 867 5309', '(555)867-5309', '(555) 867-5309', '555.867.5309']"
            ]
          },
          "metadata": {},
          "execution_count": 56
        }
      ]
    },
    {
      "cell_type": "markdown",
      "metadata": {
        "id": "1OVzZo20W8D3"
      },
      "source": [
        "As you can see, regular expressions are a bit quirky. The need to know when to escape certain characters and additional quirks, like the greediness setting of a given regex engine, adds to confusion. More than a lot of things in coding, regular expressions take a fair amount of experimentation, patience, and practice before you start getting them right.\n",
        "\n",
        "In general, a few things to keep in mind:\n",
        "\n",
        " * Use \"raw\" strings to define your regular expressions (e.g. r'foo' not 'foo')\n",
        " * Everything inside [ ] is implicitly \"OR\"ed. Although some operators have a special function in this context. E.g. the - is a range operator that you will need to escape if matching explicitly.\n",
        " * `+` means 1 or more. `*` means zero or more. `{ }` can be used to indicate an exact number or range of repeated matches.\n",
        " * Python's regex engine is \"greedy\" if you have a runaway match, you may need to temper the greediness with a ? mark\n",
        " * Start simple and build up from there. E.g., `\\d{3}-\\d{4}` is a super simple 7-digit phone number match. Start there and work your way up to longer / more varied formats.\n"
      ]
    },
    {
      "cell_type": "markdown",
      "metadata": {
        "id": "w4AvWj5FW8D6"
      },
      "source": [
        "#### Greediness in regular expressions\n",
        "\n",
        "The greediness of a regular expression function refers to how it decides when to stop matching. Python's regular expressions are greedy, meaning that for any given match, it will match as much of the text possible. We can usually reign in the greediness, if needed, with the ? operator.\n",
        "\n",
        "For example, say we are trying to extract the HTML tags from an HTML document. A naive approach might use the pattern `<.*>`, but the greediness of the * will overmatch:\n",
        "\n",
        "```\n",
        ">>> markup = '<html><body></body></html>'\n",
        ">>> p = re.compile(r'<.*>')\n",
        ">>> p.findall(markup)\n",
        "['<html><body></body></html>']\n",
        "```\n",
        "\n",
        "Instead, we need to use the non-greedy version of .*, which is `.*?`:\n",
        "\n",
        "```\n",
        ">>> p = re.compile(r'<.*?>')\n",
        ">>> p.findall(markup)\n",
        "['<html>', '<body>', '</body>', '</html>']\n",
        "```"
      ]
    },
    {
      "cell_type": "markdown",
      "metadata": {
        "id": "7LrRy-E1W8D-"
      },
      "source": [
        "#### Capture groups\n",
        "\n",
        "Capture groups enable us to extract sub-expressions from a match. These are used with the `match`, `search`, and `finditer` functions, rather than with the `findall` approach.\n",
        "\n",
        "As an example, consider the HTML tag matcher above. Say we want to extract and list all the unique tag types without the HTML <,>,/ cruft. The above markup should give us ['html', 'body'] as the unique tag types. To do this, we define a capture group using ( ) as well as explicitly match the / closing operator to keep it out of our tag names:"
      ]
    },
    {
      "cell_type": "code",
      "metadata": {
        "id": "zRIQRXHYW8EA",
        "colab": {
          "base_uri": "https://localhost:8080/"
        },
        "outputId": "1e070d25-66b2-4cfd-f6a8-6df5e4360f63"
      },
      "source": [
        "markup = '<html><body></body></html>'\n",
        "p = re.compile(r'</?(.*?)>')\n",
        "set([m.group(1) for m in p.finditer(markup)])"
      ],
      "execution_count": null,
      "outputs": [
        {
          "output_type": "execute_result",
          "data": {
            "text/plain": [
              "{'body', 'html'}"
            ]
          },
          "metadata": {},
          "execution_count": 57
        }
      ]
    },
    {
      "cell_type": "markdown",
      "metadata": {
        "id": "cSVeo8bzW8EI"
      },
      "source": [
        "`group(1)` here refers to the first matching group, which means you could have multiple parenthetically denoted matching groups. `group(0)` is a special case which means the match of the whole expression."
      ]
    },
    {
      "cell_type": "markdown",
      "source": [
        "# Exception handling"
      ],
      "metadata": {
        "id": "M0QAWC5yzYFk"
      }
    },
    {
      "cell_type": "markdown",
      "metadata": {
        "id": "43yVke3rBrb_"
      },
      "source": [
        "## The Exception block\n",
        "\n",
        "The construct for an Exception block in Python is this:\n",
        "\n",
        "```\n",
        "try:\n",
        "    # some code that might throw an exception here\n",
        "except:\n",
        "    # code to handle the exception\n",
        "finally:\n",
        "    # code that is ultimately run no matter what\n",
        "```\n",
        "\n",
        "Here, we will focus on try-except -- finally is used for final cleanup of resources that needs to happen whether or not an exception was thrown. You won't need `finally` in this course.\n"
      ]
    },
    {
      "cell_type": "markdown",
      "metadata": {
        "id": "yOet7MxXEVEy"
      },
      "source": [
        "### What does a try block do?\n",
        "\n",
        "The general flow of a try block is this:\n",
        "\n",
        " * **try** to do something\n",
        " * **if** that thing fails (i.e. throws an Exception), then execute the **except** portion of the block\n",
        "\n"
      ]
    },
    {
      "cell_type": "markdown",
      "metadata": {
        "id": "DDmyicn1Ks8C"
      },
      "source": [
        "**Exception handling** is a kind of control flow that provides a mechanism for defining alternative flow paths under unpredictable conditions.\n",
        "\n",
        "### What kinds of things are unpredictable?\n",
        "\n",
        "**External resources:**\n",
        "\n",
        " * System / OS specific resources (like the colab example above)\n",
        " * Databases / database connections\n",
        " * Web sites and web APIs / internet connections\n",
        " * Web API authentication and rate-limit conditions\n",
        "\n",
        "**Internal things: things in your code or data:**\n",
        "\n",
        " * Missing or corrupt data\n",
        "   - possible divide by zero conditions\n",
        "   - possible None value\n",
        "   - missing dictionary keys"
      ]
    },
    {
      "cell_type": "markdown",
      "metadata": {
        "id": "C2yPOX77NAQM"
      },
      "source": [
        "### Exception handling for external resources\n",
        "\n",
        "For uncertain conditions with external resources, we almost always handle this with exception-based control flow, which is to say with a try-except block.\n",
        "\n",
        "The goal here is to **define an alternative workflow which will make your code more robust and/or more graceful in exceptional conditions.**\n",
        "\n",
        "Which can mean different things depending on the resource. What are some ways you might handle the following?\n",
        "\n",
        " * A web API throws an authentication error\n",
        " * A web API throws a rate limit error\n",
        " * A web request throws a connectivity error\n",
        " * An import statement throws a module not found error\n",
        " * A file open statement throws a file not found error"
      ]
    },
    {
      "cell_type": "markdown",
      "metadata": {
        "id": "_TdbQ3xyO8s7"
      },
      "source": [
        "---\n",
        "### Vocabulary: raising and throwing\n",
        "\n",
        "You will generally hear of exceptions being \"raised\" or \"thrown\". In Python, the sytax itself contains a `raise` statement which is part of the control flow of exception handling.\n",
        "\n",
        "Either **raise** or **throw** are acceptable terms in general. For our purposes, both simply mean \"an error occurs\".\n",
        "\n",
        "---"
      ]
    },
    {
      "cell_type": "markdown",
      "metadata": {
        "id": "InRLKc02Q1fx"
      },
      "source": [
        "### Example: handling unknown web resources\n",
        "\n",
        "You have been handed a list of URLs that need to be fetched. Seems easy enough:"
      ]
    },
    {
      "cell_type": "code",
      "metadata": {
        "id": "HBU2Ac7bRZdI"
      },
      "source": [
        "import requests"
      ],
      "execution_count": null,
      "outputs": []
    },
    {
      "cell_type": "code",
      "metadata": {
        "id": "vYrg85EUKm65",
        "outputId": "40ca31e2-623c-4940-d2f1-03f83e75d5f5",
        "colab": {
          "base_uri": "https://localhost:8080/"
        }
      },
      "source": [
        "urls = [\n",
        "    'http://google.com',\n",
        "    'http://microsoft.com'\n",
        "]\n",
        "\n",
        "for url in urls:\n",
        "    r = requests.get(url)\n",
        "    print(r.text[:20])"
      ],
      "execution_count": null,
      "outputs": [
        {
          "output_type": "stream",
          "name": "stdout",
          "text": [
            "<!doctype html><html\n",
            "\n",
            "\n",
            "\n",
            "<!DOCTYPE html\n"
          ]
        }
      ]
    },
    {
      "cell_type": "markdown",
      "metadata": {
        "id": "_yxslzTyRGE_"
      },
      "source": [
        "But you really don't know where the URLs came from. There could be some bad data here. Perhaps just simply expired websites:"
      ]
    },
    {
      "cell_type": "code",
      "metadata": {
        "id": "QKmx5dHdQTpx",
        "outputId": "87768815-b9a9-40c9-ca85-42f8e43ec3de",
        "colab": {
          "base_uri": "https://localhost:8080/",
          "height": 764
        }
      },
      "source": [
        "urls = [\n",
        "    'http://google.com',\n",
        "    'http://yyzzaabb99554.com',\n",
        "    'http://microsoft.com'\n",
        "]\n",
        "\n",
        "for url in urls:\n",
        "    r = requests.get(url)\n",
        "    print(r.text[:20])"
      ],
      "execution_count": null,
      "outputs": [
        {
          "output_type": "stream",
          "name": "stdout",
          "text": [
            "<!doctype html><html\n"
          ]
        },
        {
          "output_type": "error",
          "ename": "ConnectionError",
          "evalue": "ignored",
          "traceback": [
            "\u001b[0;31m---------------------------------------------------------------------------\u001b[0m",
            "\u001b[0;31mgaierror\u001b[0m                                  Traceback (most recent call last)",
            "\u001b[0;32m/usr/local/lib/python3.7/dist-packages/urllib3/connection.py\u001b[0m in \u001b[0;36m_new_conn\u001b[0;34m(self)\u001b[0m\n\u001b[1;32m    158\u001b[0m             conn = connection.create_connection(\n\u001b[0;32m--> 159\u001b[0;31m                 (self._dns_host, self.port), self.timeout, **extra_kw)\n\u001b[0m\u001b[1;32m    160\u001b[0m \u001b[0;34m\u001b[0m\u001b[0m\n",
            "\u001b[0;32m/usr/local/lib/python3.7/dist-packages/urllib3/util/connection.py\u001b[0m in \u001b[0;36mcreate_connection\u001b[0;34m(address, timeout, source_address, socket_options)\u001b[0m\n\u001b[1;32m     56\u001b[0m \u001b[0;34m\u001b[0m\u001b[0m\n\u001b[0;32m---> 57\u001b[0;31m     \u001b[0;32mfor\u001b[0m \u001b[0mres\u001b[0m \u001b[0;32min\u001b[0m \u001b[0msocket\u001b[0m\u001b[0;34m.\u001b[0m\u001b[0mgetaddrinfo\u001b[0m\u001b[0;34m(\u001b[0m\u001b[0mhost\u001b[0m\u001b[0;34m,\u001b[0m \u001b[0mport\u001b[0m\u001b[0;34m,\u001b[0m \u001b[0mfamily\u001b[0m\u001b[0;34m,\u001b[0m \u001b[0msocket\u001b[0m\u001b[0;34m.\u001b[0m\u001b[0mSOCK_STREAM\u001b[0m\u001b[0;34m)\u001b[0m\u001b[0;34m:\u001b[0m\u001b[0;34m\u001b[0m\u001b[0;34m\u001b[0m\u001b[0m\n\u001b[0m\u001b[1;32m     58\u001b[0m         \u001b[0maf\u001b[0m\u001b[0;34m,\u001b[0m \u001b[0msocktype\u001b[0m\u001b[0;34m,\u001b[0m \u001b[0mproto\u001b[0m\u001b[0;34m,\u001b[0m \u001b[0mcanonname\u001b[0m\u001b[0;34m,\u001b[0m \u001b[0msa\u001b[0m \u001b[0;34m=\u001b[0m \u001b[0mres\u001b[0m\u001b[0;34m\u001b[0m\u001b[0;34m\u001b[0m\u001b[0m\n",
            "\u001b[0;32m/usr/lib/python3.7/socket.py\u001b[0m in \u001b[0;36mgetaddrinfo\u001b[0;34m(host, port, family, type, proto, flags)\u001b[0m\n\u001b[1;32m    751\u001b[0m     \u001b[0maddrlist\u001b[0m \u001b[0;34m=\u001b[0m \u001b[0;34m[\u001b[0m\u001b[0;34m]\u001b[0m\u001b[0;34m\u001b[0m\u001b[0;34m\u001b[0m\u001b[0m\n\u001b[0;32m--> 752\u001b[0;31m     \u001b[0;32mfor\u001b[0m \u001b[0mres\u001b[0m \u001b[0;32min\u001b[0m \u001b[0m_socket\u001b[0m\u001b[0;34m.\u001b[0m\u001b[0mgetaddrinfo\u001b[0m\u001b[0;34m(\u001b[0m\u001b[0mhost\u001b[0m\u001b[0;34m,\u001b[0m \u001b[0mport\u001b[0m\u001b[0;34m,\u001b[0m \u001b[0mfamily\u001b[0m\u001b[0;34m,\u001b[0m \u001b[0mtype\u001b[0m\u001b[0;34m,\u001b[0m \u001b[0mproto\u001b[0m\u001b[0;34m,\u001b[0m \u001b[0mflags\u001b[0m\u001b[0;34m)\u001b[0m\u001b[0;34m:\u001b[0m\u001b[0;34m\u001b[0m\u001b[0;34m\u001b[0m\u001b[0m\n\u001b[0m\u001b[1;32m    753\u001b[0m         \u001b[0maf\u001b[0m\u001b[0;34m,\u001b[0m \u001b[0msocktype\u001b[0m\u001b[0;34m,\u001b[0m \u001b[0mproto\u001b[0m\u001b[0;34m,\u001b[0m \u001b[0mcanonname\u001b[0m\u001b[0;34m,\u001b[0m \u001b[0msa\u001b[0m \u001b[0;34m=\u001b[0m \u001b[0mres\u001b[0m\u001b[0;34m\u001b[0m\u001b[0;34m\u001b[0m\u001b[0m\n",
            "\u001b[0;31mgaierror\u001b[0m: [Errno -2] Name or service not known",
            "\nDuring handling of the above exception, another exception occurred:\n",
            "\u001b[0;31mNewConnectionError\u001b[0m                        Traceback (most recent call last)",
            "\u001b[0;32m/usr/local/lib/python3.7/dist-packages/urllib3/connectionpool.py\u001b[0m in \u001b[0;36murlopen\u001b[0;34m(self, method, url, body, headers, retries, redirect, assert_same_host, timeout, pool_timeout, release_conn, chunked, body_pos, **response_kw)\u001b[0m\n\u001b[1;32m    599\u001b[0m                                                   \u001b[0mbody\u001b[0m\u001b[0;34m=\u001b[0m\u001b[0mbody\u001b[0m\u001b[0;34m,\u001b[0m \u001b[0mheaders\u001b[0m\u001b[0;34m=\u001b[0m\u001b[0mheaders\u001b[0m\u001b[0;34m,\u001b[0m\u001b[0;34m\u001b[0m\u001b[0;34m\u001b[0m\u001b[0m\n\u001b[0;32m--> 600\u001b[0;31m                                                   chunked=chunked)\n\u001b[0m\u001b[1;32m    601\u001b[0m \u001b[0;34m\u001b[0m\u001b[0m\n",
            "\u001b[0;32m/usr/local/lib/python3.7/dist-packages/urllib3/connectionpool.py\u001b[0m in \u001b[0;36m_make_request\u001b[0;34m(self, conn, method, url, timeout, chunked, **httplib_request_kw)\u001b[0m\n\u001b[1;32m    353\u001b[0m         \u001b[0;32melse\u001b[0m\u001b[0;34m:\u001b[0m\u001b[0;34m\u001b[0m\u001b[0;34m\u001b[0m\u001b[0m\n\u001b[0;32m--> 354\u001b[0;31m             \u001b[0mconn\u001b[0m\u001b[0;34m.\u001b[0m\u001b[0mrequest\u001b[0m\u001b[0;34m(\u001b[0m\u001b[0mmethod\u001b[0m\u001b[0;34m,\u001b[0m \u001b[0murl\u001b[0m\u001b[0;34m,\u001b[0m \u001b[0;34m**\u001b[0m\u001b[0mhttplib_request_kw\u001b[0m\u001b[0;34m)\u001b[0m\u001b[0;34m\u001b[0m\u001b[0;34m\u001b[0m\u001b[0m\n\u001b[0m\u001b[1;32m    355\u001b[0m \u001b[0;34m\u001b[0m\u001b[0m\n",
            "\u001b[0;32m/usr/lib/python3.7/http/client.py\u001b[0m in \u001b[0;36mrequest\u001b[0;34m(self, method, url, body, headers, encode_chunked)\u001b[0m\n\u001b[1;32m   1280\u001b[0m         \u001b[0;34m\"\"\"Send a complete request to the server.\"\"\"\u001b[0m\u001b[0;34m\u001b[0m\u001b[0;34m\u001b[0m\u001b[0m\n\u001b[0;32m-> 1281\u001b[0;31m         \u001b[0mself\u001b[0m\u001b[0;34m.\u001b[0m\u001b[0m_send_request\u001b[0m\u001b[0;34m(\u001b[0m\u001b[0mmethod\u001b[0m\u001b[0;34m,\u001b[0m \u001b[0murl\u001b[0m\u001b[0;34m,\u001b[0m \u001b[0mbody\u001b[0m\u001b[0;34m,\u001b[0m \u001b[0mheaders\u001b[0m\u001b[0;34m,\u001b[0m \u001b[0mencode_chunked\u001b[0m\u001b[0;34m)\u001b[0m\u001b[0;34m\u001b[0m\u001b[0;34m\u001b[0m\u001b[0m\n\u001b[0m\u001b[1;32m   1282\u001b[0m \u001b[0;34m\u001b[0m\u001b[0m\n",
            "\u001b[0;32m/usr/lib/python3.7/http/client.py\u001b[0m in \u001b[0;36m_send_request\u001b[0;34m(self, method, url, body, headers, encode_chunked)\u001b[0m\n\u001b[1;32m   1326\u001b[0m             \u001b[0mbody\u001b[0m \u001b[0;34m=\u001b[0m \u001b[0m_encode\u001b[0m\u001b[0;34m(\u001b[0m\u001b[0mbody\u001b[0m\u001b[0;34m,\u001b[0m \u001b[0;34m'body'\u001b[0m\u001b[0;34m)\u001b[0m\u001b[0;34m\u001b[0m\u001b[0;34m\u001b[0m\u001b[0m\n\u001b[0;32m-> 1327\u001b[0;31m         \u001b[0mself\u001b[0m\u001b[0;34m.\u001b[0m\u001b[0mendheaders\u001b[0m\u001b[0;34m(\u001b[0m\u001b[0mbody\u001b[0m\u001b[0;34m,\u001b[0m \u001b[0mencode_chunked\u001b[0m\u001b[0;34m=\u001b[0m\u001b[0mencode_chunked\u001b[0m\u001b[0;34m)\u001b[0m\u001b[0;34m\u001b[0m\u001b[0;34m\u001b[0m\u001b[0m\n\u001b[0m\u001b[1;32m   1328\u001b[0m \u001b[0;34m\u001b[0m\u001b[0m\n",
            "\u001b[0;32m/usr/lib/python3.7/http/client.py\u001b[0m in \u001b[0;36mendheaders\u001b[0;34m(self, message_body, encode_chunked)\u001b[0m\n\u001b[1;32m   1275\u001b[0m             \u001b[0;32mraise\u001b[0m \u001b[0mCannotSendHeader\u001b[0m\u001b[0;34m(\u001b[0m\u001b[0;34m)\u001b[0m\u001b[0;34m\u001b[0m\u001b[0;34m\u001b[0m\u001b[0m\n\u001b[0;32m-> 1276\u001b[0;31m         \u001b[0mself\u001b[0m\u001b[0;34m.\u001b[0m\u001b[0m_send_output\u001b[0m\u001b[0;34m(\u001b[0m\u001b[0mmessage_body\u001b[0m\u001b[0;34m,\u001b[0m \u001b[0mencode_chunked\u001b[0m\u001b[0;34m=\u001b[0m\u001b[0mencode_chunked\u001b[0m\u001b[0;34m)\u001b[0m\u001b[0;34m\u001b[0m\u001b[0;34m\u001b[0m\u001b[0m\n\u001b[0m\u001b[1;32m   1277\u001b[0m \u001b[0;34m\u001b[0m\u001b[0m\n",
            "\u001b[0;32m/usr/lib/python3.7/http/client.py\u001b[0m in \u001b[0;36m_send_output\u001b[0;34m(self, message_body, encode_chunked)\u001b[0m\n\u001b[1;32m   1035\u001b[0m         \u001b[0;32mdel\u001b[0m \u001b[0mself\u001b[0m\u001b[0;34m.\u001b[0m\u001b[0m_buffer\u001b[0m\u001b[0;34m[\u001b[0m\u001b[0;34m:\u001b[0m\u001b[0;34m]\u001b[0m\u001b[0;34m\u001b[0m\u001b[0;34m\u001b[0m\u001b[0m\n\u001b[0;32m-> 1036\u001b[0;31m         \u001b[0mself\u001b[0m\u001b[0;34m.\u001b[0m\u001b[0msend\u001b[0m\u001b[0;34m(\u001b[0m\u001b[0mmsg\u001b[0m\u001b[0;34m)\u001b[0m\u001b[0;34m\u001b[0m\u001b[0;34m\u001b[0m\u001b[0m\n\u001b[0m\u001b[1;32m   1037\u001b[0m \u001b[0;34m\u001b[0m\u001b[0m\n",
            "\u001b[0;32m/usr/lib/python3.7/http/client.py\u001b[0m in \u001b[0;36msend\u001b[0;34m(self, data)\u001b[0m\n\u001b[1;32m    975\u001b[0m             \u001b[0;32mif\u001b[0m \u001b[0mself\u001b[0m\u001b[0;34m.\u001b[0m\u001b[0mauto_open\u001b[0m\u001b[0;34m:\u001b[0m\u001b[0;34m\u001b[0m\u001b[0;34m\u001b[0m\u001b[0m\n\u001b[0;32m--> 976\u001b[0;31m                 \u001b[0mself\u001b[0m\u001b[0;34m.\u001b[0m\u001b[0mconnect\u001b[0m\u001b[0;34m(\u001b[0m\u001b[0;34m)\u001b[0m\u001b[0;34m\u001b[0m\u001b[0;34m\u001b[0m\u001b[0m\n\u001b[0m\u001b[1;32m    977\u001b[0m             \u001b[0;32melse\u001b[0m\u001b[0;34m:\u001b[0m\u001b[0;34m\u001b[0m\u001b[0;34m\u001b[0m\u001b[0m\n",
            "\u001b[0;32m/usr/local/lib/python3.7/dist-packages/urllib3/connection.py\u001b[0m in \u001b[0;36mconnect\u001b[0;34m(self)\u001b[0m\n\u001b[1;32m    180\u001b[0m     \u001b[0;32mdef\u001b[0m \u001b[0mconnect\u001b[0m\u001b[0;34m(\u001b[0m\u001b[0mself\u001b[0m\u001b[0;34m)\u001b[0m\u001b[0;34m:\u001b[0m\u001b[0;34m\u001b[0m\u001b[0;34m\u001b[0m\u001b[0m\n\u001b[0;32m--> 181\u001b[0;31m         \u001b[0mconn\u001b[0m \u001b[0;34m=\u001b[0m \u001b[0mself\u001b[0m\u001b[0;34m.\u001b[0m\u001b[0m_new_conn\u001b[0m\u001b[0;34m(\u001b[0m\u001b[0;34m)\u001b[0m\u001b[0;34m\u001b[0m\u001b[0;34m\u001b[0m\u001b[0m\n\u001b[0m\u001b[1;32m    182\u001b[0m         \u001b[0mself\u001b[0m\u001b[0;34m.\u001b[0m\u001b[0m_prepare_conn\u001b[0m\u001b[0;34m(\u001b[0m\u001b[0mconn\u001b[0m\u001b[0;34m)\u001b[0m\u001b[0;34m\u001b[0m\u001b[0;34m\u001b[0m\u001b[0m\n",
            "\u001b[0;32m/usr/local/lib/python3.7/dist-packages/urllib3/connection.py\u001b[0m in \u001b[0;36m_new_conn\u001b[0;34m(self)\u001b[0m\n\u001b[1;32m    167\u001b[0m             raise NewConnectionError(\n\u001b[0;32m--> 168\u001b[0;31m                 self, \"Failed to establish a new connection: %s\" % e)\n\u001b[0m\u001b[1;32m    169\u001b[0m \u001b[0;34m\u001b[0m\u001b[0m\n",
            "\u001b[0;31mNewConnectionError\u001b[0m: <urllib3.connection.HTTPConnection object at 0x7fcfb1f4e810>: Failed to establish a new connection: [Errno -2] Name or service not known",
            "\nDuring handling of the above exception, another exception occurred:\n",
            "\u001b[0;31mMaxRetryError\u001b[0m                             Traceback (most recent call last)",
            "\u001b[0;32m/usr/local/lib/python3.7/dist-packages/requests/adapters.py\u001b[0m in \u001b[0;36msend\u001b[0;34m(self, request, stream, timeout, verify, cert, proxies)\u001b[0m\n\u001b[1;32m    448\u001b[0m                     \u001b[0mretries\u001b[0m\u001b[0;34m=\u001b[0m\u001b[0mself\u001b[0m\u001b[0;34m.\u001b[0m\u001b[0mmax_retries\u001b[0m\u001b[0;34m,\u001b[0m\u001b[0;34m\u001b[0m\u001b[0;34m\u001b[0m\u001b[0m\n\u001b[0;32m--> 449\u001b[0;31m                     \u001b[0mtimeout\u001b[0m\u001b[0;34m=\u001b[0m\u001b[0mtimeout\u001b[0m\u001b[0;34m\u001b[0m\u001b[0;34m\u001b[0m\u001b[0m\n\u001b[0m\u001b[1;32m    450\u001b[0m                 )\n",
            "\u001b[0;32m/usr/local/lib/python3.7/dist-packages/urllib3/connectionpool.py\u001b[0m in \u001b[0;36murlopen\u001b[0;34m(self, method, url, body, headers, retries, redirect, assert_same_host, timeout, pool_timeout, release_conn, chunked, body_pos, **response_kw)\u001b[0m\n\u001b[1;32m    637\u001b[0m             retries = retries.increment(method, url, error=e, _pool=self,\n\u001b[0;32m--> 638\u001b[0;31m                                         _stacktrace=sys.exc_info()[2])\n\u001b[0m\u001b[1;32m    639\u001b[0m             \u001b[0mretries\u001b[0m\u001b[0;34m.\u001b[0m\u001b[0msleep\u001b[0m\u001b[0;34m(\u001b[0m\u001b[0;34m)\u001b[0m\u001b[0;34m\u001b[0m\u001b[0;34m\u001b[0m\u001b[0m\n",
            "\u001b[0;32m/usr/local/lib/python3.7/dist-packages/urllib3/util/retry.py\u001b[0m in \u001b[0;36mincrement\u001b[0;34m(self, method, url, response, error, _pool, _stacktrace)\u001b[0m\n\u001b[1;32m    398\u001b[0m         \u001b[0;32mif\u001b[0m \u001b[0mnew_retry\u001b[0m\u001b[0;34m.\u001b[0m\u001b[0mis_exhausted\u001b[0m\u001b[0;34m(\u001b[0m\u001b[0;34m)\u001b[0m\u001b[0;34m:\u001b[0m\u001b[0;34m\u001b[0m\u001b[0;34m\u001b[0m\u001b[0m\n\u001b[0;32m--> 399\u001b[0;31m             \u001b[0;32mraise\u001b[0m \u001b[0mMaxRetryError\u001b[0m\u001b[0;34m(\u001b[0m\u001b[0m_pool\u001b[0m\u001b[0;34m,\u001b[0m \u001b[0murl\u001b[0m\u001b[0;34m,\u001b[0m \u001b[0merror\u001b[0m \u001b[0;32mor\u001b[0m \u001b[0mResponseError\u001b[0m\u001b[0;34m(\u001b[0m\u001b[0mcause\u001b[0m\u001b[0;34m)\u001b[0m\u001b[0;34m)\u001b[0m\u001b[0;34m\u001b[0m\u001b[0;34m\u001b[0m\u001b[0m\n\u001b[0m\u001b[1;32m    400\u001b[0m \u001b[0;34m\u001b[0m\u001b[0m\n",
            "\u001b[0;31mMaxRetryError\u001b[0m: HTTPConnectionPool(host='yyzzaabb99554.com', port=80): Max retries exceeded with url: / (Caused by NewConnectionError('<urllib3.connection.HTTPConnection object at 0x7fcfb1f4e810>: Failed to establish a new connection: [Errno -2] Name or service not known'))",
            "\nDuring handling of the above exception, another exception occurred:\n",
            "\u001b[0;31mConnectionError\u001b[0m                           Traceback (most recent call last)",
            "\u001b[0;32m<ipython-input-62-58003b554582>\u001b[0m in \u001b[0;36m<module>\u001b[0;34m()\u001b[0m\n\u001b[1;32m      6\u001b[0m \u001b[0;34m\u001b[0m\u001b[0m\n\u001b[1;32m      7\u001b[0m \u001b[0;32mfor\u001b[0m \u001b[0murl\u001b[0m \u001b[0;32min\u001b[0m \u001b[0murls\u001b[0m\u001b[0;34m:\u001b[0m\u001b[0;34m\u001b[0m\u001b[0;34m\u001b[0m\u001b[0m\n\u001b[0;32m----> 8\u001b[0;31m     \u001b[0mr\u001b[0m \u001b[0;34m=\u001b[0m \u001b[0mrequests\u001b[0m\u001b[0;34m.\u001b[0m\u001b[0mget\u001b[0m\u001b[0;34m(\u001b[0m\u001b[0murl\u001b[0m\u001b[0;34m)\u001b[0m\u001b[0;34m\u001b[0m\u001b[0;34m\u001b[0m\u001b[0m\n\u001b[0m\u001b[1;32m      9\u001b[0m     \u001b[0mprint\u001b[0m\u001b[0;34m(\u001b[0m\u001b[0mr\u001b[0m\u001b[0;34m.\u001b[0m\u001b[0mtext\u001b[0m\u001b[0;34m[\u001b[0m\u001b[0;34m:\u001b[0m\u001b[0;36m20\u001b[0m\u001b[0;34m]\u001b[0m\u001b[0;34m)\u001b[0m\u001b[0;34m\u001b[0m\u001b[0;34m\u001b[0m\u001b[0m\n",
            "\u001b[0;32m/usr/local/lib/python3.7/dist-packages/requests/api.py\u001b[0m in \u001b[0;36mget\u001b[0;34m(url, params, **kwargs)\u001b[0m\n\u001b[1;32m     74\u001b[0m \u001b[0;34m\u001b[0m\u001b[0m\n\u001b[1;32m     75\u001b[0m     \u001b[0mkwargs\u001b[0m\u001b[0;34m.\u001b[0m\u001b[0msetdefault\u001b[0m\u001b[0;34m(\u001b[0m\u001b[0;34m'allow_redirects'\u001b[0m\u001b[0;34m,\u001b[0m \u001b[0;32mTrue\u001b[0m\u001b[0;34m)\u001b[0m\u001b[0;34m\u001b[0m\u001b[0;34m\u001b[0m\u001b[0m\n\u001b[0;32m---> 76\u001b[0;31m     \u001b[0;32mreturn\u001b[0m \u001b[0mrequest\u001b[0m\u001b[0;34m(\u001b[0m\u001b[0;34m'get'\u001b[0m\u001b[0;34m,\u001b[0m \u001b[0murl\u001b[0m\u001b[0;34m,\u001b[0m \u001b[0mparams\u001b[0m\u001b[0;34m=\u001b[0m\u001b[0mparams\u001b[0m\u001b[0;34m,\u001b[0m \u001b[0;34m**\u001b[0m\u001b[0mkwargs\u001b[0m\u001b[0;34m)\u001b[0m\u001b[0;34m\u001b[0m\u001b[0;34m\u001b[0m\u001b[0m\n\u001b[0m\u001b[1;32m     77\u001b[0m \u001b[0;34m\u001b[0m\u001b[0m\n\u001b[1;32m     78\u001b[0m \u001b[0;34m\u001b[0m\u001b[0m\n",
            "\u001b[0;32m/usr/local/lib/python3.7/dist-packages/requests/api.py\u001b[0m in \u001b[0;36mrequest\u001b[0;34m(method, url, **kwargs)\u001b[0m\n\u001b[1;32m     59\u001b[0m     \u001b[0;31m# cases, and look like a memory leak in others.\u001b[0m\u001b[0;34m\u001b[0m\u001b[0;34m\u001b[0m\u001b[0;34m\u001b[0m\u001b[0m\n\u001b[1;32m     60\u001b[0m     \u001b[0;32mwith\u001b[0m \u001b[0msessions\u001b[0m\u001b[0;34m.\u001b[0m\u001b[0mSession\u001b[0m\u001b[0;34m(\u001b[0m\u001b[0;34m)\u001b[0m \u001b[0;32mas\u001b[0m \u001b[0msession\u001b[0m\u001b[0;34m:\u001b[0m\u001b[0;34m\u001b[0m\u001b[0;34m\u001b[0m\u001b[0m\n\u001b[0;32m---> 61\u001b[0;31m         \u001b[0;32mreturn\u001b[0m \u001b[0msession\u001b[0m\u001b[0;34m.\u001b[0m\u001b[0mrequest\u001b[0m\u001b[0;34m(\u001b[0m\u001b[0mmethod\u001b[0m\u001b[0;34m=\u001b[0m\u001b[0mmethod\u001b[0m\u001b[0;34m,\u001b[0m \u001b[0murl\u001b[0m\u001b[0;34m=\u001b[0m\u001b[0murl\u001b[0m\u001b[0;34m,\u001b[0m \u001b[0;34m**\u001b[0m\u001b[0mkwargs\u001b[0m\u001b[0;34m)\u001b[0m\u001b[0;34m\u001b[0m\u001b[0;34m\u001b[0m\u001b[0m\n\u001b[0m\u001b[1;32m     62\u001b[0m \u001b[0;34m\u001b[0m\u001b[0m\n\u001b[1;32m     63\u001b[0m \u001b[0;34m\u001b[0m\u001b[0m\n",
            "\u001b[0;32m/usr/local/lib/python3.7/dist-packages/requests/sessions.py\u001b[0m in \u001b[0;36mrequest\u001b[0;34m(self, method, url, params, data, headers, cookies, files, auth, timeout, allow_redirects, proxies, hooks, stream, verify, cert, json)\u001b[0m\n\u001b[1;32m    528\u001b[0m         }\n\u001b[1;32m    529\u001b[0m         \u001b[0msend_kwargs\u001b[0m\u001b[0;34m.\u001b[0m\u001b[0mupdate\u001b[0m\u001b[0;34m(\u001b[0m\u001b[0msettings\u001b[0m\u001b[0;34m)\u001b[0m\u001b[0;34m\u001b[0m\u001b[0;34m\u001b[0m\u001b[0m\n\u001b[0;32m--> 530\u001b[0;31m         \u001b[0mresp\u001b[0m \u001b[0;34m=\u001b[0m \u001b[0mself\u001b[0m\u001b[0;34m.\u001b[0m\u001b[0msend\u001b[0m\u001b[0;34m(\u001b[0m\u001b[0mprep\u001b[0m\u001b[0;34m,\u001b[0m \u001b[0;34m**\u001b[0m\u001b[0msend_kwargs\u001b[0m\u001b[0;34m)\u001b[0m\u001b[0;34m\u001b[0m\u001b[0;34m\u001b[0m\u001b[0m\n\u001b[0m\u001b[1;32m    531\u001b[0m \u001b[0;34m\u001b[0m\u001b[0m\n\u001b[1;32m    532\u001b[0m         \u001b[0;32mreturn\u001b[0m \u001b[0mresp\u001b[0m\u001b[0;34m\u001b[0m\u001b[0;34m\u001b[0m\u001b[0m\n",
            "\u001b[0;32m/usr/local/lib/python3.7/dist-packages/requests/sessions.py\u001b[0m in \u001b[0;36msend\u001b[0;34m(self, request, **kwargs)\u001b[0m\n\u001b[1;32m    641\u001b[0m \u001b[0;34m\u001b[0m\u001b[0m\n\u001b[1;32m    642\u001b[0m         \u001b[0;31m# Send the request\u001b[0m\u001b[0;34m\u001b[0m\u001b[0;34m\u001b[0m\u001b[0;34m\u001b[0m\u001b[0m\n\u001b[0;32m--> 643\u001b[0;31m         \u001b[0mr\u001b[0m \u001b[0;34m=\u001b[0m \u001b[0madapter\u001b[0m\u001b[0;34m.\u001b[0m\u001b[0msend\u001b[0m\u001b[0;34m(\u001b[0m\u001b[0mrequest\u001b[0m\u001b[0;34m,\u001b[0m \u001b[0;34m**\u001b[0m\u001b[0mkwargs\u001b[0m\u001b[0;34m)\u001b[0m\u001b[0;34m\u001b[0m\u001b[0;34m\u001b[0m\u001b[0m\n\u001b[0m\u001b[1;32m    644\u001b[0m \u001b[0;34m\u001b[0m\u001b[0m\n\u001b[1;32m    645\u001b[0m         \u001b[0;31m# Total elapsed time of the request (approximately)\u001b[0m\u001b[0;34m\u001b[0m\u001b[0;34m\u001b[0m\u001b[0;34m\u001b[0m\u001b[0m\n",
            "\u001b[0;32m/usr/local/lib/python3.7/dist-packages/requests/adapters.py\u001b[0m in \u001b[0;36msend\u001b[0;34m(self, request, stream, timeout, verify, cert, proxies)\u001b[0m\n\u001b[1;32m    514\u001b[0m                 \u001b[0;32mraise\u001b[0m \u001b[0mSSLError\u001b[0m\u001b[0;34m(\u001b[0m\u001b[0me\u001b[0m\u001b[0;34m,\u001b[0m \u001b[0mrequest\u001b[0m\u001b[0;34m=\u001b[0m\u001b[0mrequest\u001b[0m\u001b[0;34m)\u001b[0m\u001b[0;34m\u001b[0m\u001b[0;34m\u001b[0m\u001b[0m\n\u001b[1;32m    515\u001b[0m \u001b[0;34m\u001b[0m\u001b[0m\n\u001b[0;32m--> 516\u001b[0;31m             \u001b[0;32mraise\u001b[0m \u001b[0mConnectionError\u001b[0m\u001b[0;34m(\u001b[0m\u001b[0me\u001b[0m\u001b[0;34m,\u001b[0m \u001b[0mrequest\u001b[0m\u001b[0;34m=\u001b[0m\u001b[0mrequest\u001b[0m\u001b[0;34m)\u001b[0m\u001b[0;34m\u001b[0m\u001b[0;34m\u001b[0m\u001b[0m\n\u001b[0m\u001b[1;32m    517\u001b[0m \u001b[0;34m\u001b[0m\u001b[0m\n\u001b[1;32m    518\u001b[0m         \u001b[0;32mexcept\u001b[0m \u001b[0mClosedPoolError\u001b[0m \u001b[0;32mas\u001b[0m \u001b[0me\u001b[0m\u001b[0;34m:\u001b[0m\u001b[0;34m\u001b[0m\u001b[0;34m\u001b[0m\u001b[0m\n",
            "\u001b[0;31mConnectionError\u001b[0m: HTTPConnectionPool(host='yyzzaabb99554.com', port=80): Max retries exceeded with url: / (Caused by NewConnectionError('<urllib3.connection.HTTPConnection object at 0x7fcfb1f4e810>: Failed to establish a new connection: [Errno -2] Name or service not known'))"
          ]
        }
      ]
    },
    {
      "cell_type": "markdown",
      "metadata": {
        "id": "R7PSojZmRkOl"
      },
      "source": [
        "**How will you handle this?**\n",
        "\n",
        " * Inspect the error. Look through the whole stack trace for clues\n",
        " * Avoid hitting the Stack Overflow convenience search button for now. First, try to understand what is going on.\n",
        " * This stack trace looks daunting. It is giving you a lot of information (that you probably don't need) about what is going on under the hood. But even at a glance, the exception sequence stands out:\n",
        "   - NewConnectionError\n",
        "   - MaxRetryError\n",
        "   - ConnectionError\n",
        "\n",
        "Although we have not actually defined our request to execute retries, a lot of that underlying code is still part of the logic of fetching urls. We can ignore those errors for our purposes. We will handle this by catching the ConnectionError, which seems fairly intuitive:"
      ]
    },
    {
      "cell_type": "code",
      "metadata": {
        "id": "5-2KsP05Rd44",
        "outputId": "10e02e1c-a199-4fd0-a7c9-82776601df0e",
        "colab": {
          "base_uri": "https://localhost:8080/"
        }
      },
      "source": [
        "urls = [\n",
        "    'http://google.com',\n",
        "    'http://yyzzaabb99554.com',\n",
        "    'http://microsoft.com'\n",
        "]\n",
        "\n",
        "for url in urls:\n",
        "    try:\n",
        "        r = requests.get(url)\n",
        "        print(r.text[:20])\n",
        "    except requests.ConnectionError:\n",
        "        print('Skipping URL:', url)"
      ],
      "execution_count": null,
      "outputs": [
        {
          "output_type": "stream",
          "name": "stdout",
          "text": [
            "<!doctype html><html\n",
            "Skipping URL: http://yyzzaabb99554.com\n",
            "\n",
            "\n",
            "\n",
            "<!DOCTYPE html\n"
          ]
        }
      ]
    },
    {
      "cell_type": "markdown",
      "metadata": {
        "id": "ioyJAuaUVgJU"
      },
      "source": [
        "Some questions you should be able to answer at this point:\n",
        "\n",
        " * Why is the `print(r.text)` **inside** the try block? We are not catching a print-related exception, so why does this need to be here, and not outside the try block?\n",
        " * What are some other things we might have done other than simply print 'Skipping'?\n",
        " * Is this the end-all be-all handler for URL fetching? What else could go wrong?"
      ]
    },
    {
      "cell_type": "markdown",
      "metadata": {
        "id": "lMMmkh-2WNJu"
      },
      "source": [
        "### Why not just catch everything?\n",
        "\n",
        "This is certainly possible:\n",
        "\n",
        "```\n",
        "try:\n",
        "    r = requests.get(url)\n",
        "except:\n",
        "    print('Skipping:', url)\n",
        "```\n",
        "\n",
        "Which is effectively the same thing as:\n",
        "\n",
        "```\n",
        "try:\n",
        "    r = requests.get(url)\n",
        "except Exception:\n",
        "    print('Skipping:', url)\n",
        "```\n",
        "\n",
        "because `Exception` is base exception class, the one Exception to rule them all.\n",
        "\n",
        "**However** You will generally want to be as specific as possible (or at least as is practical) when handling exceptions. Exceptions are a kind of hierarchy, and you can choose to handle a more general exception than a more specific one, but this can cause problems down the line. Consider this:\n",
        "\n",
        " * You discover a specific exception, but decide to handle a broader exception to save yourself from dealing with this again.\n",
        " * Sometime in the distant future, your code is failing. You are sure it is not due to said specific exception, but you cannot see why. The reason is, that you have buried your exception and it being handled in an unexpected way. E.g. consider this exception hierarchy:\n",
        "\n",
        "\n"
      ]
    },
    {
      "cell_type": "markdown",
      "metadata": {
        "id": "y7EjSAhVYNzl"
      },
      "source": [
        "### Burying the exception. Don't do this\n",
        "\n",
        "Here is an extreme form of burying exceptions. Don't do this!\n",
        "\n",
        "```\n",
        "try:\n",
        "    r = requests.get(url)\n",
        "except:\n",
        "    pass\n",
        "```\n",
        "\n",
        "🦁🦁🦁 and 🐯🐯🐯 and 🐻🐻🐻 oh my!"
      ]
    },
    {
      "cell_type": "markdown",
      "metadata": {
        "id": "FeeE8fDVY4OF"
      },
      "source": [
        "This is unmaintainable code that will cause you many headaches. When handling your exceptions:\n",
        "\n",
        " * Be as specific as is reasonable\n",
        " * Be sure to provide the alternate logic. Don't just bury an exception to squash it."
      ]
    },
    {
      "cell_type": "markdown",
      "metadata": {
        "id": "CDQ4eLQFn_Lg"
      },
      "source": [
        "**How to handle this?**\n",
        "\n",
        "It depends on what you want to do. It depends on overall program goals. One option might be to create the file if it doesn't exist:"
      ]
    },
    {
      "cell_type": "markdown",
      "metadata": {
        "id": "h-7-gAl_937O"
      },
      "source": [
        "### When to use exceptions vs other logic\n",
        "\n",
        "It is not always clear. Generally speaking you want to reserve exceptions for resource handling and use more standard logic for other things. In Python, exceptions are considered to be more \"lightweight\" than in other languages, and so you tend to see them used more often. On some level it comes down to coding style.\n",
        "\n",
        "Here are some ways you could use exceptions, but might be better off with other approaches:"
      ]
    },
    {
      "cell_type": "code",
      "metadata": {
        "id": "pzZWWeiYos-c",
        "outputId": "34ee3492-7f99-42d5-cdac-21637d3d1f02",
        "colab": {
          "base_uri": "https://localhost:8080/",
          "height": 34
        }
      },
      "source": [
        "items = [ ('grass', 'green'), ('sky', 'blue'), ('money', 'green'), ('ocean', 'blue')]\n",
        "items_by_color = {}\n",
        "\n",
        "for item, color in items:\n",
        "    try:\n",
        "        items_by_color[color].append(item)\n",
        "    except KeyError:\n",
        "        items_by_color[color] = [item]\n",
        "items_by_color"
      ],
      "execution_count": null,
      "outputs": [
        {
          "output_type": "execute_result",
          "data": {
            "text/plain": [
              "{'blue': ['sky', 'ocean'], 'green': ['grass', 'money']}"
            ]
          },
          "metadata": {
            "tags": []
          },
          "execution_count": 38
        }
      ]
    },
    {
      "cell_type": "markdown",
      "metadata": {
        "id": "4QnQeE_w_NU6"
      },
      "source": [
        "There is nothing wrong with that code, and there are certainly times where KeyError becomes necessary to handle. Although in this case, it is probably a bit more idiomatic to do something like we have already seen:"
      ]
    },
    {
      "cell_type": "code",
      "metadata": {
        "id": "6fjZdo-2qAWf",
        "outputId": "d86a642b-ae50-42b0-ee20-071556f093ac",
        "colab": {
          "base_uri": "https://localhost:8080/",
          "height": 34
        }
      },
      "source": [
        "items_by_color = {}\n",
        "for item, color in items:\n",
        "    if color not in items_by_color:\n",
        "        items_by_color[color] = []\n",
        "    items_by_color[color].append(item)\n",
        "items_by_color"
      ],
      "execution_count": null,
      "outputs": [
        {
          "output_type": "execute_result",
          "data": {
            "text/plain": [
              "{'blue': ['sky', 'ocean'], 'green': ['grass', 'money']}"
            ]
          },
          "metadata": {
            "tags": []
          },
          "execution_count": 40
        }
      ]
    },
    {
      "cell_type": "markdown",
      "metadata": {
        "id": "wkifhFLyAIyV"
      },
      "source": [
        "### Exceptions you should never handle\n",
        "\n",
        " * NameError\n",
        " * SyntaxError\n",
        " * IndentationError\n",
        "\n",
        " .. and the like. Anything that screams **hey this is just bad code and will never work no matter what**\n",
        "\n",
        "\n",
        " In fact, Python won't even let you handle SyntaxError and IndentationError as these are spotted and thrown by the interpreter before runtime even begins.\n",
        "\n",
        " But, NameError falls generally into the concept of things that fail at runtime, but will never be correct under any conditions. Don't do this:"
      ]
    },
    {
      "cell_type": "code",
      "metadata": {
        "id": "z4cF8VKJ_kq-",
        "outputId": "d2dfa74c-8bd1-4b15-8f41-3fcc534e1b11",
        "colab": {
          "base_uri": "https://localhost:8080/"
        }
      },
      "source": [
        "# don't do this\n",
        "try:\n",
        "    for item in nonexistingthing:\n",
        "        print(item)\n",
        "except NameError:\n",
        "    print('Everything is fine.')"
      ],
      "execution_count": null,
      "outputs": [
        {
          "output_type": "stream",
          "name": "stdout",
          "text": [
            "Everything is fine.\n"
          ]
        }
      ]
    },
    {
      "cell_type": "markdown",
      "metadata": {
        "id": "lCyYmzqfB-fu"
      },
      "source": [
        "There are some pretty advanced use cases where I could imagine you would do such a thing, but you will not likely run into them. In short: **don't try to \"fix\" things with exception handling** ... rather think of exception handling as a form of control flow and a way to choose alternate paths, based on current state and conditions.\n",
        "\n",
        "This example also underscores why we specify the most practically specific Exception class. Consider the following code:"
      ]
    },
    {
      "cell_type": "code",
      "metadata": {
        "id": "7V0A8gUQA5PK",
        "outputId": "c29a2506-1306-41d9-8f7e-7ed9cac67518",
        "colab": {
          "base_uri": "https://localhost:8080/",
          "height": 34
        }
      },
      "source": [
        "# don't do this\n",
        "try:\n",
        "    result = requests.get('http://some-non-existing-api').json()\n",
        "    for item in my_result:\n",
        "        print(item)\n",
        "except Exception: # This is all exceptions possible!!!\n",
        "    print('Nothing to see here.')"
      ],
      "execution_count": null,
      "outputs": [
        {
          "output_type": "stream",
          "text": [
            "Nothing to see here.\n"
          ],
          "name": "stdout"
        }
      ]
    },
    {
      "cell_type": "markdown",
      "metadata": {
        "id": "dboi3RHrC-i9"
      },
      "source": [
        "What is the real error here? There are at least 3, but you wouldn't know it by using the catch-all Exception class!"
      ]
    },
    {
      "cell_type": "markdown",
      "metadata": {
        "id": "dT_mTnkpD35S"
      },
      "source": [
        "### Some advanced usage\n",
        "\n",
        "\n",
        "### Naming the exception for further handling\n",
        "\n",
        "Sometimes you want to do something with the error you receive. You can give the exception a variable for further handling in the except block:"
      ]
    },
    {
      "cell_type": "code",
      "metadata": {
        "id": "CEhQL3d-C9Tr",
        "outputId": "8c2d282c-ad58-41b4-c78f-2055eb9f82f9",
        "colab": {
          "base_uri": "https://localhost:8080/",
          "height": 34
        }
      },
      "source": [
        "try:\n",
        "    open('some-non-existing-file')\n",
        "except FileNotFoundError as e: # e is an arbitrary variable name\n",
        "    # The actual available properties will depend on the exception class\n",
        "    # You can print(dir(e)) to see available properties\n",
        "    print('NOT FOUND:', e.filename)"
      ],
      "execution_count": null,
      "outputs": [
        {
          "output_type": "stream",
          "text": [
            "NOT FOUND: some-non-existing-file\n"
          ],
          "name": "stdout"
        }
      ]
    },
    {
      "cell_type": "markdown",
      "metadata": {
        "id": "IJ-HSFozGaTU"
      },
      "source": [
        "### Handling multiple exceptions specifically\n",
        "\n",
        "Sometimes you might want to group the handling of multiple exceptions. In this case, you can catch the multiple exceptions together in the except clause:"
      ]
    },
    {
      "cell_type": "code",
      "metadata": {
        "id": "_fFN3gPnEqto",
        "outputId": "b54bb09c-7145-4848-f50e-ed74b5ce3065",
        "colab": {
          "base_uri": "https://localhost:8080/"
        }
      },
      "source": [
        "from json.decoder import JSONDecodeError\n",
        "\n",
        "urls = [ 'https://google.com', 'http://u-cant-touch-this-url.com']\n",
        "\n",
        "for url in urls:\n",
        "    try:\n",
        "        r = requests.get(url).json()\n",
        "    except (JSONDecodeError, requests.ConnectionError):\n",
        "        print('Bad URL:', url)"
      ],
      "execution_count": null,
      "outputs": [
        {
          "output_type": "stream",
          "name": "stdout",
          "text": [
            "Bad URL: https://google.com\n",
            "Bad URL: http://u-cant-touch-this-url.com\n"
          ]
        }
      ]
    },
    {
      "cell_type": "code",
      "metadata": {
        "id": "aUnWqrnsRBGM",
        "colab": {
          "base_uri": "https://localhost:8080/"
        },
        "outputId": "a5118d71-2b53-46a5-f12e-d67e82fa1a95"
      },
      "source": [
        "from json.decoder import JSONDecodeError\n",
        "\n",
        "urls = [ 'https://google.com', 'http://u-cant-touch-this-url.com']\n",
        "\n",
        "for url in urls:\n",
        "    try:\n",
        "        r = requests.get(url).json()\n",
        "    except JSONDecodeError:\n",
        "        pass\n",
        "    except requests.ConnectionError:\n",
        "        print('Bad URL:', url)"
      ],
      "execution_count": null,
      "outputs": [
        {
          "output_type": "stream",
          "name": "stdout",
          "text": [
            "Bad URL: http://u-cant-touch-this-url.com\n"
          ]
        }
      ]
    },
    {
      "cell_type": "code",
      "metadata": {
        "id": "Vrn1GUfcIoOf"
      },
      "source": [],
      "execution_count": null,
      "outputs": []
    }
  ]
}