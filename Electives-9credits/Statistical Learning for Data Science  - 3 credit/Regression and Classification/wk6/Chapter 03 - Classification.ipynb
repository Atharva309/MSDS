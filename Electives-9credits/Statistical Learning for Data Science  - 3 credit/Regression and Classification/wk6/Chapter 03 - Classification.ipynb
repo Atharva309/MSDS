{
 "cells": [
  {
   "cell_type": "markdown",
   "metadata": {
    "deletable": false,
    "editable": false,
    "nbgrader": {
     "cell_type": "markdown",
     "checksum": "18a80270d2f76c0157f6cc016b7e5f3b",
     "grade": false,
     "grade_id": "cell-9bf85c8835bf6150",
     "locked": true,
     "schema_version": 3,
     "solution": false,
     "task": false
    }
   },
   "source": [
    "# Classification\n",
    "\n",
    "In this lab we would be going through:\n",
    "- Logistic Regression\n",
    "- Linear Discriminant Analysis\n",
    "- Quadratic Discriminant Analysis\n",
    "\n",
    "For this lab, we would examining the `Smarket` data set that contains a number of numeric variables plus a variable called `Direction` which has the two labels `Up` and `Down`. \n",
    "\n",
    "Our goal is to predict `Direction` using the other features"
   ]
  },
  {
   "cell_type": "code",
   "execution_count": null,
   "metadata": {
    "deletable": false,
    "editable": false,
    "nbgrader": {
     "cell_type": "code",
     "checksum": "f4b45be1334405dc3e8eae41deed6d07",
     "grade": false,
     "grade_id": "cell-a640873db4eb33bc",
     "locked": true,
     "schema_version": 3,
     "solution": false,
     "task": false
    }
   },
   "outputs": [],
   "source": [
    "library(ISLR2)\n",
    "\n",
    "#understanding Smarket data set\n",
    "names(Smarket) #columns of the data set\n",
    "dim(Smarket) #dimension of the data set\n",
    "summary(Smarket) \n",
    "\n",
    "# attach the data set to use the columns directly\n",
    "attach(Smarket)"
   ]
  },
  {
   "cell_type": "markdown",
   "metadata": {
    "deletable": false,
    "editable": false,
    "nbgrader": {
     "cell_type": "markdown",
     "checksum": "5ebc7a7e9ffbd0c84d210e63dad48bf6",
     "grade": false,
     "grade_id": "cell-5c68f2fa9bde08e8",
     "locked": true,
     "schema_version": 3,
     "solution": false,
     "task": false
    }
   },
   "source": [
    "## Logistic Regression\n",
    "\n",
    "We are using the `glm()` function (it can be used to fit many types of generalized liner models) to fit a logistic regression model in order to predict `Direction` using `Lag1` - `Lag5` and `Volume`.\n",
    "\n",
    "We need to pass in the argument `family = binomial` to `glm()` in order run logistic regression model rather than some other type of generalized linear model."
   ]
  },
  {
   "cell_type": "code",
   "execution_count": null,
   "metadata": {
    "deletable": false,
    "editable": false,
    "nbgrader": {
     "cell_type": "code",
     "checksum": "4c239ab23d5cc525295b62f42ad0bdd8",
     "grade": false,
     "grade_id": "cell-3dcea74d230c4682",
     "locked": true,
     "schema_version": 3,
     "solution": false,
     "task": false
    }
   },
   "outputs": [],
   "source": [
    "glm.fits = glm(\n",
    "Direction ~ Lag1 + Lag2 + Lag3 + Lag4 + Lag5 + Volume, data = Smarket, family = binomial)\n",
    "\n",
    "summary(glm.fits)"
   ]
  },
  {
   "cell_type": "markdown",
   "metadata": {
    "deletable": false,
    "editable": false,
    "nbgrader": {
     "cell_type": "markdown",
     "checksum": "946f7e0083e8817c75a4722b75652af9",
     "grade": false,
     "grade_id": "cell-5603ae6159a856b3",
     "locked": true,
     "schema_version": 3,
     "solution": false,
     "task": false
    }
   },
   "source": [
    "The smallest p-value here is associated with `Lag1`( `0.15` although a relatively large) and the negative coefficient suggests that if the market had a positive return yesterday, then it is less likely to go up today.\n",
    "\n",
    "The `predict()` function can be used to predict the probability that the market will go up, given values of the predictors. The `type = \"response\"` option tells `R` to output probabilities of the form `P(Y = 1|X)`, as opposed to other information such as the logit.\n",
    "\n",
    "If no data set is supplied to the `predict()` function, then the probabilities are computed for the training data that was used to fit the logistic regression model."
   ]
  },
  {
   "cell_type": "code",
   "execution_count": null,
   "metadata": {
    "deletable": false,
    "editable": false,
    "nbgrader": {
     "cell_type": "code",
     "checksum": "0e2974a31b66f6d4b4f8656b44d2e33f",
     "grade": false,
     "grade_id": "cell-32b1f2043cff552e",
     "locked": true,
     "schema_version": 3,
     "solution": false,
     "task": false
    }
   },
   "outputs": [],
   "source": [
    "glm.probs <- predict(glm.fits, type = \"response\")\n",
    "glm.probs[1:10]\n",
    "contrasts(Direction)"
   ]
  },
  {
   "cell_type": "markdown",
   "metadata": {
    "deletable": false,
    "editable": false,
    "nbgrader": {
     "cell_type": "markdown",
     "checksum": "0908cf0fa382ae87ffdd7c66d96a6c4d",
     "grade": false,
     "grade_id": "cell-99578ed42ff8e583",
     "locked": true,
     "schema_version": 3,
     "solution": false,
     "task": false
    }
   },
   "source": [
    "In order to make a prediction as to whether the market will go up or down on a particular day, we must convert these predicted probabilities into class labels, `Up` or `Down`.\n",
    "\n",
    "The following two commands create a vector of class predictions based on whether the predicted probability of a market increase is greater than or less than `0.5`"
   ]
  },
  {
   "cell_type": "code",
   "execution_count": null,
   "metadata": {
    "deletable": false,
    "editable": false,
    "nbgrader": {
     "cell_type": "code",
     "checksum": "f1440ce88aa8ae2b4b59353911749e00",
     "grade": false,
     "grade_id": "cell-22feb08c6eba1fce",
     "locked": true,
     "schema_version": 3,
     "solution": false,
     "task": false
    }
   },
   "outputs": [],
   "source": [
    "glm.pred <- rep(\"Down\", 1250)\n",
    "glm.pred[glm.probs > .5] = \"Up\"\n",
    "\n",
    "table(glm.pred, Direction)"
   ]
  },
  {
   "cell_type": "code",
   "execution_count": null,
   "metadata": {
    "deletable": false,
    "editable": false,
    "nbgrader": {
     "cell_type": "code",
     "checksum": "45e70d0cbc02f9e6026a8a55859911bd",
     "grade": false,
     "grade_id": "cell-24db9580989cca45",
     "locked": true,
     "schema_version": 3,
     "solution": false,
     "task": false
    }
   },
   "outputs": [],
   "source": [
    "mean(glm.pred == Direction)"
   ]
  },
  {
   "cell_type": "markdown",
   "metadata": {
    "deletable": false,
    "editable": false,
    "nbgrader": {
     "cell_type": "markdown",
     "checksum": "627d653e2166f78cb816385e183a2805",
     "grade": false,
     "grade_id": "cell-4e4a1b6d94da65a6",
     "locked": true,
     "schema_version": 3,
     "solution": false,
     "task": false
    }
   },
   "source": [
    "The `mean()` function can be used to compute the fraction of days for which the prediction was correct. In this case, logistic regression correctly predicted the movement of the market `52.2 %` of the time.\n",
    "\n",
    "As we have seen previously, the training error rate is often overly optimistic—it tends to underestimate the test error rate. In order to better assess the accuracy of the logistic regression model in this setting, we can fit the model using part of the data, and then examine how well it predicts the held out data."
   ]
  },
  {
   "cell_type": "code",
   "execution_count": null,
   "metadata": {
    "deletable": false,
    "editable": false,
    "nbgrader": {
     "cell_type": "code",
     "checksum": "bc4b93de472e500138ed7c329efec12d",
     "grade": false,
     "grade_id": "cell-ad2f84fd79997a4b",
     "locked": true,
     "schema_version": 3,
     "solution": false,
     "task": false
    }
   },
   "outputs": [],
   "source": [
    "train <- (Year < 2005)\n",
    "\n",
    "# Test data\n",
    "Smarket.test <- Smarket[!train, ]\n",
    "dim(Smarket.test)\n",
    "\n",
    "#Train data\n",
    "Smarket.train = Smarket[train, ]\n",
    "dim(Smarket.train)\n",
    "\n",
    "Direction.2005 = Direction[!train]"
   ]
  },
  {
   "cell_type": "markdown",
   "metadata": {
    "deletable": false,
    "editable": false,
    "nbgrader": {
     "cell_type": "markdown",
     "checksum": "dd984f682bca6d9eb69cd1502ba8ae3e",
     "grade": false,
     "grade_id": "cell-1d07b6212ee4bc7c",
     "locked": true,
     "schema_version": 3,
     "solution": false,
     "task": false
    }
   },
   "source": [
    "To fit the model using only the subset of the observations we can pass the `subset` argument to the `glm()` function along side other arguments  "
   ]
  },
  {
   "cell_type": "code",
   "execution_count": null,
   "metadata": {
    "deletable": false,
    "nbgrader": {
     "cell_type": "code",
     "checksum": "1faf4e5c07448d9bb1e8108c37450659",
     "grade": false,
     "grade_id": "cell-e5cc63ce54b0fb4a",
     "locked": false,
     "schema_version": 3,
     "solution": true,
     "task": false
    }
   },
   "outputs": [],
   "source": [
    "#Return a logistic regression model over the training subset of data\n",
    "#Response: Direction; Predictors: Lag1, Lag2\n",
    "Smarket.train.fit = function(){\n",
    "    # your code here\n",
    "    \n",
    "}\n",
    "\n",
    "#Return the predicted probabilities object based on training fit over test data set \n",
    "Smarket.test.predict = function(){\n",
    "    # your code here\n",
    "    \n",
    "}"
   ]
  },
  {
   "cell_type": "code",
   "execution_count": null,
   "metadata": {
    "deletable": false,
    "editable": false,
    "nbgrader": {
     "cell_type": "code",
     "checksum": "311cf351b8e74c151ab448b97a2fb088",
     "grade": true,
     "grade_id": "cell-dbac2b11b5ffc771",
     "locked": true,
     "points": 10,
     "schema_version": 3,
     "solution": false,
     "task": false
    }
   },
   "outputs": [],
   "source": [
    "fit = Smarket.train.fit()\n",
    "coefficients = coef(fit)\n",
    "\n",
    "#Test intercepts of the fit\n",
    "stopifnot(round(coefficients['(Intercept)'],2)== 0.03)\n",
    "stopifnot(round(coefficients['Lag1'],2)== -0.06)\n",
    "stopifnot(round(coefficients['Lag2'],2)== -0.04)"
   ]
  },
  {
   "cell_type": "code",
   "execution_count": null,
   "metadata": {
    "deletable": false,
    "editable": false,
    "nbgrader": {
     "cell_type": "code",
     "checksum": "695dc9b3c4c4b1df30e28b3dd87739b3",
     "grade": true,
     "grade_id": "cell-13af8e0f8db33cfc",
     "locked": true,
     "points": 10,
     "schema_version": 3,
     "solution": false,
     "task": false
    }
   },
   "outputs": [],
   "source": [
    "predict = Smarket.test.predict()\n",
    "\n",
    "glm.pred = rep('Down', 252)\n",
    "glm.pred[predict > .5] = 'Up'\n",
    "\n",
    "#Test mean of prediction\n",
    "stopifnot(round(mean(glm.pred == Direction.2005), 2) == 0.56)\n",
    "stopifnot(round(mean(glm.pred != Direction.2005), 2) == 0.44)"
   ]
  },
  {
   "cell_type": "markdown",
   "metadata": {
    "deletable": false,
    "editable": false,
    "nbgrader": {
     "cell_type": "markdown",
     "checksum": "6972b8748e34ff1fd2b8e1708b850dad",
     "grade": false,
     "grade_id": "cell-77aee1e64d7b468b",
     "locked": true,
     "schema_version": 3,
     "solution": false,
     "task": false
    }
   },
   "source": [
    "## Linear Discriminant Analysis\n",
    "\n",
    "For this, we would be using `lda()` function which is a part of `MASS` library."
   ]
  },
  {
   "cell_type": "code",
   "execution_count": null,
   "metadata": {
    "deletable": false,
    "editable": false,
    "nbgrader": {
     "cell_type": "code",
     "checksum": "033e8edb662dfff66a1818828b2ad4c1",
     "grade": false,
     "grade_id": "cell-f917eb2d7b989685",
     "locked": true,
     "schema_version": 3,
     "solution": false,
     "task": false
    }
   },
   "outputs": [],
   "source": [
    "library(MASS)"
   ]
  },
  {
   "cell_type": "code",
   "execution_count": null,
   "metadata": {
    "deletable": false,
    "editable": false,
    "nbgrader": {
     "cell_type": "code",
     "checksum": "10d1102232f400466f904d721506b5be",
     "grade": false,
     "grade_id": "cell-ee685fd8c2c2fc91",
     "locked": true,
     "schema_version": 3,
     "solution": false,
     "task": false
    }
   },
   "outputs": [],
   "source": [
    "lda.fit = lda(Direction ~ Lag1 + Lag2, data = Smarket, subset = train)\n",
    "lda.fit\n",
    "\n",
    "plot(lda.fit)"
   ]
  },
  {
   "cell_type": "markdown",
   "metadata": {
    "deletable": false,
    "editable": false,
    "nbgrader": {
     "cell_type": "markdown",
     "checksum": "2a0c3795cee450a4792fc2e6113d402b",
     "grade": false,
     "grade_id": "cell-b92fd39b823a51f2",
     "locked": true,
     "schema_version": 3,
     "solution": false,
     "task": false
    }
   },
   "source": [
    "The `plot()` function produces plots of the linear discriminants, obtained by computing −0.642 × `Lag1` − 0.514 × `Lag2` for each of the training obser- vations. The `Up` and `Down` observations are displayed separately"
   ]
  },
  {
   "cell_type": "code",
   "execution_count": null,
   "metadata": {
    "deletable": false,
    "editable": false,
    "nbgrader": {
     "cell_type": "code",
     "checksum": "e748a6d4235a26df02e9701399a8457a",
     "grade": false,
     "grade_id": "cell-37704c17a886d3ac",
     "locked": true,
     "schema_version": 3,
     "solution": false,
     "task": false
    }
   },
   "outputs": [],
   "source": [
    "#predict Direction based on the test data\n",
    "lda.pred = predict(lda.fit, Smarket.test)\n",
    "names(lda.pred)"
   ]
  },
  {
   "cell_type": "markdown",
   "metadata": {
    "deletable": false,
    "editable": false,
    "nbgrader": {
     "cell_type": "markdown",
     "checksum": "8a00d2546a4c69d22c121f8ed781de3a",
     "grade": false,
     "grade_id": "cell-b73f3a4506fc1daa",
     "locked": true,
     "schema_version": 3,
     "solution": false,
     "task": false
    }
   },
   "source": [
    "`predict()` function returns a list with three elements. \n",
    "- The first element, `class`, contains LDA’s predictions about the movement of the market.\n",
    "- The second element, `posterior`, is a matrix whose `kth` column contains the posterior probability that the corresponding observation belongs to the `kth` class\n",
    "- Finally, `x` contains the linear discriminants, described earlier."
   ]
  },
  {
   "cell_type": "code",
   "execution_count": null,
   "metadata": {
    "deletable": false,
    "editable": false,
    "nbgrader": {
     "cell_type": "code",
     "checksum": "66218246011dd5948cd9bebb151f7c33",
     "grade": false,
     "grade_id": "cell-c9a01ff0fd04a6fd",
     "locked": true,
     "schema_version": 3,
     "solution": false,
     "task": false
    }
   },
   "outputs": [],
   "source": [
    "lda.class = lda.pred$class\n",
    "table(lda.class, Direction.2005)\n",
    "mean(lda.class == Direction.2005)"
   ]
  },
  {
   "cell_type": "markdown",
   "metadata": {
    "deletable": false,
    "editable": false,
    "nbgrader": {
     "cell_type": "markdown",
     "checksum": "a5a9a74e203e7c3deb0da4d607dcc3db",
     "grade": false,
     "grade_id": "cell-0daddc8f3ae6101c",
     "locked": true,
     "schema_version": 3,
     "solution": false,
     "task": false
    }
   },
   "source": [
    "Applying a 50 % threshold to the posterior probabilities allows us to recre- ate the predictions contained in `lda.pred$class`."
   ]
  },
  {
   "cell_type": "markdown",
   "metadata": {
    "deletable": false,
    "editable": false,
    "nbgrader": {
     "cell_type": "markdown",
     "checksum": "7030aced6744178a92fe0e35663b36ce",
     "grade": false,
     "grade_id": "cell-9b616474409a66f7",
     "locked": true,
     "schema_version": 3,
     "solution": false,
     "task": false
    }
   },
   "source": [
    "## Quadratic Discriminant Analysis\n",
    "\n",
    "The syntax of `qda()` is identical to that of an `lda()`\n",
    "The `predict()` function also works in the same fashion as for `lda()`"
   ]
  },
  {
   "cell_type": "code",
   "execution_count": null,
   "metadata": {
    "deletable": false,
    "nbgrader": {
     "cell_type": "code",
     "checksum": "30875c43e00a6e32a5984646fb87d276",
     "grade": false,
     "grade_id": "cell-665d4ea312a68112",
     "locked": false,
     "schema_version": 3,
     "solution": true,
     "task": false
    }
   },
   "outputs": [],
   "source": [
    "#Return the fit using the training subset of data \n",
    "#Response: Direction; Predictors: Lag1, Lag2\n",
    "qda.fit = function(){\n",
    "    # your code here\n",
    "    \n",
    "}\n",
    "names(qda.fit()) #variables of the object "
   ]
  },
  {
   "cell_type": "code",
   "execution_count": null,
   "metadata": {
    "deletable": false,
    "editable": false,
    "nbgrader": {
     "cell_type": "code",
     "checksum": "63336c6dcf203037740dae076a2a1e73",
     "grade": true,
     "grade_id": "cell-7151855c34e14ce2",
     "locked": true,
     "points": 10,
     "schema_version": 3,
     "solution": false,
     "task": false
    }
   },
   "outputs": [],
   "source": [
    "#Test - Count of predictions\n",
    "stopifnot(qda.fit()$counts['Down'] == 491)\n",
    "stopifnot(qda.fit()$counts['Up'] == 507)\n",
    "\n",
    "#to understand more about qda() and output values \n",
    "#?qda()"
   ]
  },
  {
   "cell_type": "code",
   "execution_count": null,
   "metadata": {
    "deletable": false,
    "nbgrader": {
     "cell_type": "code",
     "checksum": "8c8d1afb0a3136a72389ce903503e780",
     "grade": false,
     "grade_id": "cell-243656753e258070",
     "locked": false,
     "schema_version": 3,
     "solution": true,
     "task": false
    }
   },
   "outputs": [],
   "source": [
    "#Return the predicted class by fitting the data over Smarket.test\n",
    "qda.predict.class = function(){\n",
    "    # your code here\n",
    "    \n",
    "}\n",
    "table(qda.predict.class(), Direction.2005)"
   ]
  },
  {
   "cell_type": "code",
   "execution_count": null,
   "metadata": {
    "deletable": false,
    "editable": false,
    "nbgrader": {
     "cell_type": "code",
     "checksum": "c2df96a428ef960e47fb6a5d1faa439f",
     "grade": true,
     "grade_id": "cell-9c2b97b33619d4c7",
     "locked": true,
     "points": 5,
     "schema_version": 3,
     "solution": false,
     "task": false
    }
   },
   "outputs": [],
   "source": [
    "#Test the mean value of right predictions\n",
    "stopifnot(round(mean(qda.predict.class() == Direction.2005),2) == 0.60)"
   ]
  },
  {
   "cell_type": "code",
   "execution_count": null,
   "metadata": {},
   "outputs": [],
   "source": []
  }
 ],
 "metadata": {
  "kernelspec": {
   "display_name": "R",
   "language": "R",
   "name": "ir"
  },
  "language_info": {
   "codemirror_mode": "r",
   "file_extension": ".r",
   "mimetype": "text/x-r-source",
   "name": "R",
   "pygments_lexer": "r",
   "version": "3.6.3"
  }
 },
 "nbformat": 4,
 "nbformat_minor": 4
}
