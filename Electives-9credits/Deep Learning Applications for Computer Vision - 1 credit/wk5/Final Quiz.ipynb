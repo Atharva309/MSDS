{
 "cells": [
  {
   "cell_type": "markdown",
   "id": "28990453",
   "metadata": {},
   "source": [
    "1. A model that has been trained on a set of testing data and then tested on a separate set of data is exhibiting both a high training error and a high testing error. We say that the model underfitting the data."
   ]
  },
  {
   "cell_type": "markdown",
   "id": "a6ee545c",
   "metadata": {},
   "source": [
    "- True"
   ]
  },
  {
   "cell_type": "markdown",
   "id": "cc54f3a8",
   "metadata": {},
   "source": [
    "2. A model aims to classify images of dogs, cats and fish. In the Output Layer of the neural network, how many neurons does the model need to have? "
   ]
  },
  {
   "cell_type": "markdown",
   "id": "a70d9681",
   "metadata": {},
   "source": [
    "- 3"
   ]
  },
  {
   "cell_type": "markdown",
   "id": "4d01ef6d",
   "metadata": {},
   "source": [
    "3. Given the size of the input image is 28 by 28 pixels (grayscale). We want to apply a convolution with a kernel size of 7 by 7, a stride of 1 and no padding.  What will be the size of the resulting convoluted matrix?"
   ]
  },
  {
   "cell_type": "markdown",
   "id": "fee4e619",
   "metadata": {},
   "source": [
    "- 22 by 22"
   ]
  },
  {
   "cell_type": "markdown",
   "id": "c11504f1",
   "metadata": {},
   "source": [
    "4. The Output Layer of a neural network aims to classify images from 20 distinct categories. You are trying to figure out whether to use ReLU (Rectified Linear Unit) as an activation function in the Output Layer. You need a function which can result in 20 distinct values. Is it true that ReLU's output is always one of 20 distinct values, which would make it suitable to be used as the activation function for this Output Layer?\n",
    "\n",
    "Resource: Rectifier (neural networks) Wikipedia page\n",
    "https://en.wikipedia.org/wiki/Rectifier_(neural_networks)"
   ]
  },
  {
   "cell_type": "markdown",
   "id": "e70ac57f",
   "metadata": {},
   "source": [
    "- No"
   ]
  },
  {
   "cell_type": "markdown",
   "id": "aa27488b",
   "metadata": {},
   "source": [
    "5. A model that is overfitting the data will have both a low training error and a low testing error."
   ]
  },
  {
   "cell_type": "markdown",
   "id": "ad405d44",
   "metadata": {},
   "source": [
    "- False"
   ]
  },
  {
   "cell_type": "markdown",
   "id": "bbf2a881",
   "metadata": {},
   "source": [
    "6. In Convolutional Neural Networks, having pooling layers aims to reduce the number of training parameters to learn, by applying. In order to achieve this reduction, what is the minimum value for the hyperparameter n, the size of the pooling filter size?"
   ]
  },
  {
   "cell_type": "markdown",
   "id": "2599ea58",
   "metadata": {},
   "source": [
    "- "
   ]
  },
  {
   "cell_type": "markdown",
   "id": "3abec052",
   "metadata": {},
   "source": [
    "7. A pooling layer does not contain any weights that need to be learned during the training of the neural network model."
   ]
  },
  {
   "cell_type": "markdown",
   "id": "5b576ebb",
   "metadata": {},
   "source": [
    "- True"
   ]
  },
  {
   "cell_type": "markdown",
   "id": "3b1e25b9",
   "metadata": {},
   "source": [
    "8. The hyperparameters of a pooling layer are:"
   ]
  },
  {
   "cell_type": "markdown",
   "id": "7e2a2d16",
   "metadata": {},
   "source": [
    "- size\n",
    "- Stride"
   ]
  },
  {
   "cell_type": "markdown",
   "id": "7476e381",
   "metadata": {},
   "source": [
    "9. Let's assume we are trying to build a model that solves a binary classification problem. In this case, is it true that the output layer can use either one neuron or two neurons?"
   ]
  },
  {
   "cell_type": "markdown",
   "id": "4d922c5e",
   "metadata": {},
   "source": [
    "- Yes"
   ]
  },
  {
   "cell_type": "markdown",
   "id": "b7621b1c",
   "metadata": {},
   "source": [
    "10. A convolutional layer has 50 filters of size 11 by 11 by 3. We need to compute how many parameters will have to be learned in this layer. The components of the calculation are as follows:"
   ]
  },
  {
   "cell_type": "markdown",
   "id": "15b1f333",
   "metadata": {},
   "source": [
    "- We have 50 filters, so the total number of learnable parameters will be 18200\n",
    "- There will be 363 weights and 1 bias value for each filter."
   ]
  },
  {
   "cell_type": "code",
   "execution_count": null,
   "id": "974cea1d",
   "metadata": {},
   "outputs": [],
   "source": []
  }
 ],
 "metadata": {
  "kernelspec": {
   "display_name": "Python 3 (ipykernel)",
   "language": "python",
   "name": "python3"
  },
  "language_info": {
   "codemirror_mode": {
    "name": "ipython",
    "version": 3
   },
   "file_extension": ".py",
   "mimetype": "text/x-python",
   "name": "python",
   "nbconvert_exporter": "python",
   "pygments_lexer": "ipython3",
   "version": "3.9.12"
  }
 },
 "nbformat": 4,
 "nbformat_minor": 5
}
