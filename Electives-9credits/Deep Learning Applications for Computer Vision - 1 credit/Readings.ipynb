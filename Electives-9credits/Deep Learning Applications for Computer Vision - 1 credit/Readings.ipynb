{
 "cells": [
  {
   "cell_type": "markdown",
   "id": "219d01fe-9957-4a57-84a4-65af08fd3e8f",
   "metadata": {},
   "source": [
    "## Readings:\n",
    "\n",
    "### Computer Vision: A Modern Approach\n",
    "\n",
    "-  Lecture 6: Linear Filters. Convolution, Chapter 4 Linear Filters (4.1, 4.2 pages 105-118)\n",
    "-  Lecture 7: Gradients and Linear Filters, Chapter 5 Local Image Features (5.1, 5.2 pages 141-148)\n",
    "-  Lecture 8: An Algorithm for Edge Detection , Chapter 4.5 (pages 131-132)\n",
    "-  Lecture 9: Texture, Chapter 6 Texture (6.1-6.3, pages 164-183)\n",
    "-  Lecture 10: From Object Recognition to Image Classification , Chapters 16, 17, 18 (pages 482-556)\n",
    "\n",
    "### Deep Learning\n",
    "\n",
    "- Lecture 15: Convolutional Neural Networks , Chapter 9 (pages 326-366)\n",
    "- Lecture 16: More Hyperparameters and Pooling Layers , Chapter 9 (pages 326-366)\n",
    "  "
   ]
  }
 ],
 "metadata": {
  "kernelspec": {
   "display_name": "Python 3 (ipykernel)",
   "language": "python",
   "name": "python3"
  },
  "language_info": {
   "codemirror_mode": {
    "name": "ipython",
    "version": 3
   },
   "file_extension": ".py",
   "mimetype": "text/x-python",
   "name": "python",
   "nbconvert_exporter": "python",
   "pygments_lexer": "ipython3",
   "version": "3.8.18"
  }
 },
 "nbformat": 4,
 "nbformat_minor": 5
}
