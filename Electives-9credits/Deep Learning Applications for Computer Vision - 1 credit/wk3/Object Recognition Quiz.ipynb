{
 "cells": [
  {
   "cell_type": "markdown",
   "id": "bba0d5b0",
   "metadata": {},
   "source": [
    "1. In computer vision algorithms, which of the following conditions present challenges for object recognition?"
   ]
  },
  {
   "cell_type": "markdown",
   "id": "b983a891",
   "metadata": {},
   "source": [
    "- The object is partially occluded.\n",
    "\n",
    "- Variations in shape due to changes in pose.\n",
    "\n",
    "- Variations in color and/or perceived appearance due to changes in illumination.\n",
    "\n",
    "- Variations in shape due to changes in scale."
   ]
  },
  {
   "cell_type": "markdown",
   "id": "b4547bbc",
   "metadata": {},
   "source": [
    "2. When detecting objects in images, the Sliding Window method uses a similar approach to the Non-Maximum Suppression in the Canny edge detection algorithm; if the object appears in more than one overlapping windows, it will select only one window with the strongest response."
   ]
  },
  {
   "cell_type": "markdown",
   "id": "fa4a9aab",
   "metadata": {},
   "source": [
    "- True"
   ]
  },
  {
   "cell_type": "markdown",
   "id": "d2f26753",
   "metadata": {},
   "source": [
    "3. In the Face Detection algorithm by Viola and Jones, the same combination of weak linear classifiers (Haar features) can be used to detect a human face from the frontal view, as well as the profile view."
   ]
  },
  {
   "cell_type": "markdown",
   "id": "3b025bd6",
   "metadata": {},
   "source": [
    "- False"
   ]
  },
  {
   "cell_type": "markdown",
   "id": "6260a349",
   "metadata": {},
   "source": [
    "4. When extracting image features, the SIFT method has been proven useful because the feature descriptors that very similar in the following situations:"
   ]
  },
  {
   "cell_type": "markdown",
   "id": "f96ace1d",
   "metadata": {},
   "source": [
    "- Changes in image rotation and translation\n",
    "- Changes in image scale\n",
    "- Changes in image illumination"
   ]
  },
  {
   "cell_type": "markdown",
   "id": "f3315f9f",
   "metadata": {},
   "source": [
    "5. In feature extraction with the SIFT algorithm, the features and their descriptors are invariant to changes in illumination because of the following reason"
   ]
  },
  {
   "cell_type": "markdown",
   "id": "7c8ec94d",
   "metadata": {},
   "source": [
    "- If we add a brightness constant to all pixels this will not influence the algorithm which is based on differences between pixels (gradients)"
   ]
  },
  {
   "cell_type": "markdown",
   "id": "d417da6d",
   "metadata": {},
   "source": [
    "6. In object detection and recognition using the part-based model, which of the following are correct:"
   ]
  },
  {
   "cell_type": "markdown",
   "id": "8f07ef06",
   "metadata": {},
   "source": [
    "- In order to account for occlusions, we have the option to establish a minimum number of parts that must be present in order to detect the object; not all parts of the model need to be present.\n",
    "- All the parts of the model that are present in the image need to be in a correct geometric configuration"
   ]
  },
  {
   "cell_type": "markdown",
   "id": "fecaf752",
   "metadata": {},
   "source": [
    "7. Which of the following are applications of Face Recognition?"
   ]
  },
  {
   "cell_type": "markdown",
   "id": "9be210ac",
   "metadata": {},
   "source": [
    "- Law enforcement\n",
    "\n",
    "- Automated Banking\n",
    "\n",
    "- Surveillance\n",
    "\n",
    "- Immigration"
   ]
  },
  {
   "cell_type": "code",
   "execution_count": null,
   "id": "09f3b74f",
   "metadata": {},
   "outputs": [],
   "source": []
  }
 ],
 "metadata": {
  "kernelspec": {
   "display_name": "Python 3 (ipykernel)",
   "language": "python",
   "name": "python3"
  },
  "language_info": {
   "codemirror_mode": {
    "name": "ipython",
    "version": 3
   },
   "file_extension": ".py",
   "mimetype": "text/x-python",
   "name": "python",
   "nbconvert_exporter": "python",
   "pygments_lexer": "ipython3",
   "version": "3.9.12"
  }
 },
 "nbformat": 4,
 "nbformat_minor": 5
}
