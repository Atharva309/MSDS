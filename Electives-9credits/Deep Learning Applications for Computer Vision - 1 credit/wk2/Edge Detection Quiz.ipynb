{
 "cells": [
  {
   "cell_type": "markdown",
   "id": "8df563f8",
   "metadata": {},
   "source": [
    "1. When detecting the edges of a striped pajama in an image, what kind of intensity edge profile would we need to detect?"
   ]
  },
  {
   "cell_type": "markdown",
   "id": "61022acb",
   "metadata": {},
   "source": [
    "Answer: Ridge edge"
   ]
  },
  {
   "cell_type": "markdown",
   "id": "f0043cd8",
   "metadata": {},
   "source": [
    "2. Suppose you want to blur an image by convolving it with an average filter. What is true about the filter?"
   ]
  },
  {
   "cell_type": "markdown",
   "id": "ddb1fd76",
   "metadata": {},
   "source": [
    "- The weights for an average filter kernel are identical, and they are equal with 1/ the size of the kernel \n",
    "- It is also known as the mean filter\n",
    "- The filter has a smoothing effect of the image"
   ]
  },
  {
   "cell_type": "markdown",
   "id": "9a47281c",
   "metadata": {},
   "source": [
    "3. True or False: In edge detection algorithms, after gradient is computed at every pixel in the image, locations where the gradient value is high will become good candidates for possible edge pixels"
   ]
  },
  {
   "cell_type": "markdown",
   "id": "a4f389fc",
   "metadata": {},
   "source": [
    "Answer: True"
   ]
  },
  {
   "cell_type": "markdown",
   "id": "b8e78fe6",
   "metadata": {},
   "source": [
    "4. True or False: In edge detection algorithms, a first step is often a smoothing of the image, to reduce the effects of noise"
   ]
  },
  {
   "cell_type": "markdown",
   "id": "07f79119",
   "metadata": {},
   "source": [
    "Answer: True"
   ]
  },
  {
   "cell_type": "markdown",
   "id": "e724ed48",
   "metadata": {},
   "source": [
    "5. In the Canny Edge Detection algorithms, what is the role of the non-maximum suppression?"
   ]
  },
  {
   "cell_type": "markdown",
   "id": "c937d268",
   "metadata": {},
   "source": [
    "- The resulting edges appear sharper\n",
    "- Thins the edges to one pixel"
   ]
  },
  {
   "cell_type": "code",
   "execution_count": null,
   "id": "f85f665c",
   "metadata": {},
   "outputs": [],
   "source": []
  }
 ],
 "metadata": {
  "kernelspec": {
   "display_name": "Python 3 (ipykernel)",
   "language": "python",
   "name": "python3"
  },
  "language_info": {
   "codemirror_mode": {
    "name": "ipython",
    "version": 3
   },
   "file_extension": ".py",
   "mimetype": "text/x-python",
   "name": "python",
   "nbconvert_exporter": "python",
   "pygments_lexer": "ipython3",
   "version": "3.9.12"
  }
 },
 "nbformat": 4,
 "nbformat_minor": 5
}
