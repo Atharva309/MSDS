{
 "cells": [
  {
   "cell_type": "markdown",
   "metadata": {
    "deletable": false,
    "editable": false,
    "nbgrader": {
     "cell_type": "markdown",
     "checksum": "8d9c505babc286a4ba1bc0ebd34598df",
     "grade": false,
     "grade_id": "cell-9179b5f13c0f5ec7",
     "locked": true,
     "schema_version": 3,
     "solution": false,
     "task": false
    }
   },
   "source": [
    "# Quiz 01 - Statisitical Learning\n",
    "\n",
    "In this assessment we would using the `College` data set which can be found in the file `College.csv` on the book website. It contains a number of variables for 777 different universities and colleges in the US.\n",
    "\n",
    "The variables are \n",
    "* `Private` : Public/Private indicator\n",
    "* `Apps` : Number of applications received\n",
    "* `Accept` : Number of applicants accepted\n",
    "* `Enroll` : Number of new students enrolled\n",
    "* `Top10perc` : New students from top 10 % of high school class \n",
    "* `Top25perc` : New students from top 25 % of high school class \n",
    "* `F.Undergrad` : Number of full-time undergraduates\n",
    "* `P.Undergrad` : Number of part-time undergraduates\n",
    "* `Outstate` : Out-of-state tuition\n",
    "* `Room.Board` : Room and board costs\n",
    "* `Books` : Estimated book costs\n",
    "* `Personal` : Estimated personal spending\n",
    "* `PhD` : Percent of faculty with Ph.D.’s\n",
    "* `Terminal` : Percent of faculty with terminal degree \n",
    "* `S.F.Ratio` : Student/faculty ratio\n",
    "* `perc.alumni` : Percent of alumni who donate\n",
    "* `Expend` : Instructional expenditure per student\n",
    "* `Grad.Rate` : Graduation rate"
   ]
  },
  {
   "cell_type": "markdown",
   "metadata": {
    "deletable": false,
    "editable": false,
    "nbgrader": {
     "cell_type": "markdown",
     "checksum": "ca22f0a00c6b59336e6004e94f437115",
     "grade": false,
     "grade_id": "cell-7f58c0f192a6c99f",
     "locked": true,
     "schema_version": 3,
     "solution": false,
     "task": false
    }
   },
   "source": [
    "(a) Use the `read.csv()` function to read the data into `R`. Call the loaded data college. Make sure that you have the directory set to the correct location for the data"
   ]
  },
  {
   "cell_type": "code",
   "execution_count": 8,
   "metadata": {
    "deletable": false,
    "nbgrader": {
     "cell_type": "code",
     "checksum": "1345a62e54a7bbbca51ff37a04e49f3d",
     "grade": false,
     "grade_id": "cell-67a179cffb4f39a8",
     "locked": false,
     "schema_version": 3,
     "solution": true,
     "task": false
    }
   },
   "outputs": [
    {
     "data": {
      "text/html": [
       "<table>\n",
       "<caption>A data.frame: 6 × 19</caption>\n",
       "<thead>\n",
       "\t<tr><th></th><th scope=col>X</th><th scope=col>Private</th><th scope=col>Apps</th><th scope=col>Accept</th><th scope=col>Enroll</th><th scope=col>Top10perc</th><th scope=col>Top25perc</th><th scope=col>F.Undergrad</th><th scope=col>P.Undergrad</th><th scope=col>Outstate</th><th scope=col>Room.Board</th><th scope=col>Books</th><th scope=col>Personal</th><th scope=col>PhD</th><th scope=col>Terminal</th><th scope=col>S.F.Ratio</th><th scope=col>perc.alumni</th><th scope=col>Expend</th><th scope=col>Grad.Rate</th></tr>\n",
       "\t<tr><th></th><th scope=col>&lt;fct&gt;</th><th scope=col>&lt;fct&gt;</th><th scope=col>&lt;int&gt;</th><th scope=col>&lt;int&gt;</th><th scope=col>&lt;int&gt;</th><th scope=col>&lt;int&gt;</th><th scope=col>&lt;int&gt;</th><th scope=col>&lt;int&gt;</th><th scope=col>&lt;int&gt;</th><th scope=col>&lt;int&gt;</th><th scope=col>&lt;int&gt;</th><th scope=col>&lt;int&gt;</th><th scope=col>&lt;int&gt;</th><th scope=col>&lt;int&gt;</th><th scope=col>&lt;int&gt;</th><th scope=col>&lt;dbl&gt;</th><th scope=col>&lt;int&gt;</th><th scope=col>&lt;int&gt;</th><th scope=col>&lt;int&gt;</th></tr>\n",
       "</thead>\n",
       "<tbody>\n",
       "\t<tr><th scope=row>1</th><td>Abilene Christian University</td><td>Yes</td><td>1660</td><td>1232</td><td>721</td><td>23</td><td>52</td><td>2885</td><td> 537</td><td> 7440</td><td>3300</td><td>450</td><td>2200</td><td>70</td><td>78</td><td>18.1</td><td>12</td><td> 7041</td><td>60</td></tr>\n",
       "\t<tr><th scope=row>2</th><td>Adelphi University          </td><td>Yes</td><td>2186</td><td>1924</td><td>512</td><td>16</td><td>29</td><td>2683</td><td>1227</td><td>12280</td><td>6450</td><td>750</td><td>1500</td><td>29</td><td>30</td><td>12.2</td><td>16</td><td>10527</td><td>56</td></tr>\n",
       "\t<tr><th scope=row>3</th><td>Adrian College              </td><td>Yes</td><td>1428</td><td>1097</td><td>336</td><td>22</td><td>50</td><td>1036</td><td>  99</td><td>11250</td><td>3750</td><td>400</td><td>1165</td><td>53</td><td>66</td><td>12.9</td><td>30</td><td> 8735</td><td>54</td></tr>\n",
       "\t<tr><th scope=row>4</th><td>Agnes Scott College         </td><td>Yes</td><td> 417</td><td> 349</td><td>137</td><td>60</td><td>89</td><td> 510</td><td>  63</td><td>12960</td><td>5450</td><td>450</td><td> 875</td><td>92</td><td>97</td><td> 7.7</td><td>37</td><td>19016</td><td>59</td></tr>\n",
       "\t<tr><th scope=row>5</th><td>Alaska Pacific University   </td><td>Yes</td><td> 193</td><td> 146</td><td> 55</td><td>16</td><td>44</td><td> 249</td><td> 869</td><td> 7560</td><td>4120</td><td>800</td><td>1500</td><td>76</td><td>72</td><td>11.9</td><td> 2</td><td>10922</td><td>15</td></tr>\n",
       "\t<tr><th scope=row>6</th><td>Albertson College           </td><td>Yes</td><td> 587</td><td> 479</td><td>158</td><td>38</td><td>62</td><td> 678</td><td>  41</td><td>13500</td><td>3335</td><td>500</td><td> 675</td><td>67</td><td>73</td><td> 9.4</td><td>11</td><td> 9727</td><td>55</td></tr>\n",
       "</tbody>\n",
       "</table>\n"
      ],
      "text/latex": [
       "A data.frame: 6 × 19\n",
       "\\begin{tabular}{r|lllllllllllllllllll}\n",
       "  & X & Private & Apps & Accept & Enroll & Top10perc & Top25perc & F.Undergrad & P.Undergrad & Outstate & Room.Board & Books & Personal & PhD & Terminal & S.F.Ratio & perc.alumni & Expend & Grad.Rate\\\\\n",
       "  & <fct> & <fct> & <int> & <int> & <int> & <int> & <int> & <int> & <int> & <int> & <int> & <int> & <int> & <int> & <int> & <dbl> & <int> & <int> & <int>\\\\\n",
       "\\hline\n",
       "\t1 & Abilene Christian University & Yes & 1660 & 1232 & 721 & 23 & 52 & 2885 &  537 &  7440 & 3300 & 450 & 2200 & 70 & 78 & 18.1 & 12 &  7041 & 60\\\\\n",
       "\t2 & Adelphi University           & Yes & 2186 & 1924 & 512 & 16 & 29 & 2683 & 1227 & 12280 & 6450 & 750 & 1500 & 29 & 30 & 12.2 & 16 & 10527 & 56\\\\\n",
       "\t3 & Adrian College               & Yes & 1428 & 1097 & 336 & 22 & 50 & 1036 &   99 & 11250 & 3750 & 400 & 1165 & 53 & 66 & 12.9 & 30 &  8735 & 54\\\\\n",
       "\t4 & Agnes Scott College          & Yes &  417 &  349 & 137 & 60 & 89 &  510 &   63 & 12960 & 5450 & 450 &  875 & 92 & 97 &  7.7 & 37 & 19016 & 59\\\\\n",
       "\t5 & Alaska Pacific University    & Yes &  193 &  146 &  55 & 16 & 44 &  249 &  869 &  7560 & 4120 & 800 & 1500 & 76 & 72 & 11.9 &  2 & 10922 & 15\\\\\n",
       "\t6 & Albertson College            & Yes &  587 &  479 & 158 & 38 & 62 &  678 &   41 & 13500 & 3335 & 500 &  675 & 67 & 73 &  9.4 & 11 &  9727 & 55\\\\\n",
       "\\end{tabular}\n"
      ],
      "text/markdown": [
       "\n",
       "A data.frame: 6 × 19\n",
       "\n",
       "| <!--/--> | X &lt;fct&gt; | Private &lt;fct&gt; | Apps &lt;int&gt; | Accept &lt;int&gt; | Enroll &lt;int&gt; | Top10perc &lt;int&gt; | Top25perc &lt;int&gt; | F.Undergrad &lt;int&gt; | P.Undergrad &lt;int&gt; | Outstate &lt;int&gt; | Room.Board &lt;int&gt; | Books &lt;int&gt; | Personal &lt;int&gt; | PhD &lt;int&gt; | Terminal &lt;int&gt; | S.F.Ratio &lt;dbl&gt; | perc.alumni &lt;int&gt; | Expend &lt;int&gt; | Grad.Rate &lt;int&gt; |\n",
       "|---|---|---|---|---|---|---|---|---|---|---|---|---|---|---|---|---|---|---|---|\n",
       "| 1 | Abilene Christian University | Yes | 1660 | 1232 | 721 | 23 | 52 | 2885 |  537 |  7440 | 3300 | 450 | 2200 | 70 | 78 | 18.1 | 12 |  7041 | 60 |\n",
       "| 2 | Adelphi University           | Yes | 2186 | 1924 | 512 | 16 | 29 | 2683 | 1227 | 12280 | 6450 | 750 | 1500 | 29 | 30 | 12.2 | 16 | 10527 | 56 |\n",
       "| 3 | Adrian College               | Yes | 1428 | 1097 | 336 | 22 | 50 | 1036 |   99 | 11250 | 3750 | 400 | 1165 | 53 | 66 | 12.9 | 30 |  8735 | 54 |\n",
       "| 4 | Agnes Scott College          | Yes |  417 |  349 | 137 | 60 | 89 |  510 |   63 | 12960 | 5450 | 450 |  875 | 92 | 97 |  7.7 | 37 | 19016 | 59 |\n",
       "| 5 | Alaska Pacific University    | Yes |  193 |  146 |  55 | 16 | 44 |  249 |  869 |  7560 | 4120 | 800 | 1500 | 76 | 72 | 11.9 |  2 | 10922 | 15 |\n",
       "| 6 | Albertson College            | Yes |  587 |  479 | 158 | 38 | 62 |  678 |   41 | 13500 | 3335 | 500 |  675 | 67 | 73 |  9.4 | 11 |  9727 | 55 |\n",
       "\n"
      ],
      "text/plain": [
       "  X                            Private Apps Accept Enroll Top10perc Top25perc\n",
       "1 Abilene Christian University Yes     1660 1232   721    23        52       \n",
       "2 Adelphi University           Yes     2186 1924   512    16        29       \n",
       "3 Adrian College               Yes     1428 1097   336    22        50       \n",
       "4 Agnes Scott College          Yes      417  349   137    60        89       \n",
       "5 Alaska Pacific University    Yes      193  146    55    16        44       \n",
       "6 Albertson College            Yes      587  479   158    38        62       \n",
       "  F.Undergrad P.Undergrad Outstate Room.Board Books Personal PhD Terminal\n",
       "1 2885         537         7440    3300       450   2200     70  78      \n",
       "2 2683        1227        12280    6450       750   1500     29  30      \n",
       "3 1036          99        11250    3750       400   1165     53  66      \n",
       "4  510          63        12960    5450       450    875     92  97      \n",
       "5  249         869         7560    4120       800   1500     76  72      \n",
       "6  678          41        13500    3335       500    675     67  73      \n",
       "  S.F.Ratio perc.alumni Expend Grad.Rate\n",
       "1 18.1      12           7041  60       \n",
       "2 12.2      16          10527  56       \n",
       "3 12.9      30           8735  54       \n",
       "4  7.7      37          19016  59       \n",
       "5 11.9       2          10922  15       \n",
       "6  9.4      11           9727  55       "
      ]
     },
     "metadata": {},
     "output_type": "display_data"
    }
   ],
   "source": [
    "# your code here\n",
    "college = read.csv(\"College.csv\")\n",
    "head(college)"
   ]
  },
  {
   "cell_type": "code",
   "execution_count": 9,
   "metadata": {
    "deletable": false,
    "editable": false,
    "nbgrader": {
     "cell_type": "code",
     "checksum": "f05ccf2d397232e17be224e5a5226fe1",
     "grade": true,
     "grade_id": "cell-0cf71290cf0fc81a",
     "locked": true,
     "points": 5,
     "schema_version": 3,
     "solution": false,
     "task": false
    }
   },
   "outputs": [],
   "source": [
    "# hidden test case\n"
   ]
  },
  {
   "cell_type": "markdown",
   "metadata": {
    "deletable": false,
    "editable": false,
    "nbgrader": {
     "cell_type": "markdown",
     "checksum": "cc8004381e738e19d9bb2aeda606f789",
     "grade": false,
     "grade_id": "cell-38b0536fd303940c",
     "locked": true,
     "schema_version": 3,
     "solution": false,
     "task": false
    }
   },
   "source": [
    "(b) Use the `dim()` function to produce the dimensions of the data set."
   ]
  },
  {
   "cell_type": "code",
   "execution_count": 19,
   "metadata": {
    "deletable": false,
    "nbgrader": {
     "cell_type": "code",
     "checksum": "3d4080f9c046aa2b67e2b3e1f807789f",
     "grade": false,
     "grade_id": "cell-a6d5d45ea6cae30a",
     "locked": false,
     "schema_version": 3,
     "solution": true,
     "task": false
    }
   },
   "outputs": [
    {
     "data": {
      "text/html": [
       "<style>\n",
       ".list-inline {list-style: none; margin:0; padding: 0}\n",
       ".list-inline>li {display: inline-block}\n",
       ".list-inline>li:not(:last-child)::after {content: \"\\00b7\"; padding: 0 .5ex}\n",
       "</style>\n",
       "<ol class=list-inline><li>777</li><li>19</li></ol>\n"
      ],
      "text/latex": [
       "\\begin{enumerate*}\n",
       "\\item 777\n",
       "\\item 19\n",
       "\\end{enumerate*}\n"
      ],
      "text/markdown": [
       "1. 777\n",
       "2. 19\n",
       "\n",
       "\n"
      ],
      "text/plain": [
       "[1] 777  19"
      ]
     },
     "metadata": {},
     "output_type": "display_data"
    }
   ],
   "source": [
    "#dims = ?\n",
    "# your code here\n",
    "\n",
    "dims <- dim(college)\n",
    "dims"
   ]
  },
  {
   "cell_type": "code",
   "execution_count": 18,
   "metadata": {
    "deletable": false,
    "editable": false,
    "nbgrader": {
     "cell_type": "code",
     "checksum": "f07850dca03d02c595003c96f67b7c49",
     "grade": true,
     "grade_id": "cell-8d2df4e4012020c4",
     "locked": true,
     "points": 5,
     "schema_version": 3,
     "solution": false,
     "task": false
    }
   },
   "outputs": [],
   "source": [
    "#hidden tests\n"
   ]
  },
  {
   "cell_type": "markdown",
   "metadata": {
    "deletable": false,
    "editable": false,
    "nbgrader": {
     "cell_type": "markdown",
     "checksum": "acc9801c1966c37418972e9d379422e9",
     "grade": false,
     "grade_id": "cell-3d81d0415499a557",
     "locked": true,
     "schema_version": 3,
     "solution": false,
     "task": false
    }
   },
   "source": [
    "(c) Use the `pairs()` function to produce a scatterplot matrix of the first ten columns or variables of the data. Recall that you can reference the first ten columns of a `matrix A` using `A[,1:10]`"
   ]
  },
  {
   "cell_type": "code",
   "execution_count": null,
   "metadata": {
    "deletable": false,
    "nbgrader": {
     "cell_type": "code",
     "checksum": "b31f80d2f8aca5a5a1777550082542db",
     "grade": false,
     "grade_id": "cell-a7e309fd0e041044",
     "locked": false,
     "schema_version": 3,
     "solution": true,
     "task": false
    }
   },
   "outputs": [
    {
     "data": {
      "text/plain": [
       "NULL"
      ]
     },
     "metadata": {},
     "output_type": "display_data"
    }
   ],
   "source": [
    "#pairs = ?\n",
    "# your code here\n",
    "pairs <- pairs(college[,1:10])\n",
    "pairs"
   ]
  },
  {
   "cell_type": "code",
   "execution_count": 16,
   "metadata": {
    "deletable": false,
    "editable": false,
    "nbgrader": {
     "cell_type": "code",
     "checksum": "1dbaae37ae4cc127af78d487fc778a48",
     "grade": true,
     "grade_id": "cell-f3bbad2edc099757",
     "locked": true,
     "points": 5,
     "schema_version": 3,
     "solution": false,
     "task": false
    }
   },
   "outputs": [],
   "source": [
    "#hidden test cases\n"
   ]
  },
  {
   "cell_type": "markdown",
   "metadata": {
    "deletable": false,
    "editable": false,
    "nbgrader": {
     "cell_type": "markdown",
     "checksum": "b4b352b2cee2a77367736fd1d92d0aa8",
     "grade": false,
     "grade_id": "cell-34f0a624c937f7c5",
     "locked": true,
     "schema_version": 3,
     "solution": false,
     "task": false
    }
   },
   "source": [
    "(d) Use the `plot()` function to produce side-by-side boxplots of Outstate versus Private"
   ]
  },
  {
   "cell_type": "code",
   "execution_count": null,
   "metadata": {
    "deletable": false,
    "nbgrader": {
     "cell_type": "code",
     "checksum": "1fab023890bd5d6ca833ef37f19e5125",
     "grade": false,
     "grade_id": "cell-9f4366b093324d1a",
     "locked": false,
     "schema_version": 3,
     "solution": true,
     "task": false
    }
   },
   "outputs": [],
   "source": [
    "# your code here\n",
    "boxplot(college$Outstate ~ college$Private, col = c(\"blue\", \"green\"), main = \"Outstate versus Private\", \n",
    "    xlab = \"Private\", ylab = \"Outstate\")\n"
   ]
  },
  {
   "cell_type": "markdown",
   "metadata": {
    "deletable": false,
    "editable": false,
    "nbgrader": {
     "cell_type": "markdown",
     "checksum": "321fe9f2756ef7eaf80c3a903c4dddff",
     "grade": false,
     "grade_id": "cell-1e9ecfd7e95906a4",
     "locked": true,
     "schema_version": 3,
     "solution": false,
     "task": false
    }
   },
   "source": [
    "(e) Create a new qualitative variable, called `Elite`, by binning the `Top10perc` variable.\n",
    "Divide universities into two groups based on whether or not the proportion of students coming from the top `10%` of their high school classes exceeds `50 %`. \n",
    "\n",
    "`Elite` should contain `Yes` or `No` based on the above condition"
   ]
  },
  {
   "cell_type": "code",
   "execution_count": null,
   "metadata": {
    "deletable": false,
    "nbgrader": {
     "cell_type": "code",
     "checksum": "29be4fbf8d12efe22483de7530ce9542",
     "grade": false,
     "grade_id": "cell-0b11c6b7959ebcf1",
     "locked": false,
     "schema_version": 3,
     "solution": true,
     "task": false
    }
   },
   "outputs": [],
   "source": [
    "#Elite = ?\n",
    "# your code here\n",
    "\n",
    "Elite = rep(\"No\", nrow(college))\n",
    "Elite[college$Top10perc > 50] = \"Yes\"\n",
    "Elite = as.factor(Elite)\n",
    "college = data.frame(college, Elite)\n",
    "fix(college)\n",
    "summary(college$Elite)"
   ]
  },
  {
   "cell_type": "code",
   "execution_count": null,
   "metadata": {
    "deletable": false,
    "editable": false,
    "nbgrader": {
     "cell_type": "code",
     "checksum": "38c24fa2ac709a0df0ded956b46a13ee",
     "grade": true,
     "grade_id": "cell-284bea63b9703765",
     "locked": true,
     "points": 5,
     "schema_version": 3,
     "solution": false,
     "task": false
    }
   },
   "outputs": [],
   "source": [
    "#hidden test cases\n"
   ]
  },
  {
   "cell_type": "code",
   "execution_count": null,
   "metadata": {
    "deletable": false,
    "editable": false,
    "nbgrader": {
     "cell_type": "code",
     "checksum": "c9cb4ac8fb4d6378f31e206de50e781f",
     "grade": false,
     "grade_id": "cell-b2b149927c8cd7ce",
     "locked": true,
     "schema_version": 3,
     "solution": false,
     "task": false
    }
   },
   "outputs": [],
   "source": [
    "Elite <- as.factor(Elite)\n",
    "college <- data.frame(college, Elite)"
   ]
  },
  {
   "cell_type": "markdown",
   "metadata": {
    "deletable": false,
    "editable": false,
    "nbgrader": {
     "cell_type": "markdown",
     "checksum": "1a6665870b5e7b2de8f3cc325a7a4584",
     "grade": false,
     "grade_id": "cell-03789780eb5ec336",
     "locked": true,
     "schema_version": 3,
     "solution": false,
     "task": false
    }
   },
   "source": [
    "(d) use the `plot()` function to produce side-by-side boxplots of Outstate versus Elite."
   ]
  },
  {
   "cell_type": "code",
   "execution_count": null,
   "metadata": {
    "deletable": false,
    "nbgrader": {
     "cell_type": "code",
     "checksum": "dd4efc8542d482ed300dc039e403fd6f",
     "grade": false,
     "grade_id": "cell-2ebc27afc33270dd",
     "locked": false,
     "schema_version": 3,
     "solution": true,
     "task": false
    }
   },
   "outputs": [],
   "source": [
    "# your code here\n",
    "boxplot(college$Outstate ~ college$Elite, col = c(\"blue\", \"green\"), main = \"Outstate versus Elite\", \n",
    "    xlab = \"Elite\", ylab = \"Outstate\")\n"
   ]
  },
  {
   "cell_type": "code",
   "execution_count": null,
   "metadata": {},
   "outputs": [],
   "source": []
  }
 ],
 "metadata": {
  "kernelspec": {
   "display_name": "R",
   "language": "R",
   "name": "ir"
  },
  "language_info": {
   "codemirror_mode": "r",
   "file_extension": ".r",
   "mimetype": "text/x-r-source",
   "name": "R",
   "pygments_lexer": "r",
   "version": "3.6.3"
  }
 },
 "nbformat": 4,
 "nbformat_minor": 4
}
