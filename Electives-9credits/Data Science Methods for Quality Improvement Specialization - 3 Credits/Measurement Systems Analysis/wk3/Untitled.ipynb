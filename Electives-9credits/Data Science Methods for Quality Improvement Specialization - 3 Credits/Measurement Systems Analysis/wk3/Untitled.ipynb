{
 "cells": [
  {
   "cell_type": "code",
   "execution_count": 4,
   "id": "a534157f-6f4a-40e4-baf1-aff61ac7d342",
   "metadata": {},
   "outputs": [
    {
     "name": "stdout",
     "output_type": "stream",
     "text": [
      "   Part  Operator  Repetition    Value\n",
      "0     1         1           1  488.418\n",
      "1     2         1           1  484.798\n",
      "2     3         1           1  489.445\n",
      "3     4         1           1  485.758\n",
      "4     5         1           1  489.043\n",
      "                       df      sum_sq    mean_sq           F        PR(>F)\n",
      "C(Part)               9.0  276.387954  30.709773  117.041911  2.599400e-15\n",
      "C(Operator)           1.0    5.511578   5.511578   21.005873  1.802444e-04\n",
      "C(Part):C(Operator)   9.0    3.058264   0.339807    1.295082  2.992650e-01\n",
      "Residual             20.0    5.247654   0.262383         NaN           NaN\n",
      "Degrees of freedom for Part: 9.0\n",
      "Degrees of freedom for Operator: 1.0\n",
      "Degrees of freedom for Part:Operator interaction: 9.0\n",
      "Statistically significant factors: ['C(Part)', 'C(Operator)']\n",
      "Variance due to repeatability (Mean Square Within): 0.26238269999999475\n",
      "Largest component of variance: Part-to-Part\n",
      "Smallest component of variance: Repeatability\n",
      "Higher percent contribution: Reproducibility\n"
     ]
    }
   ],
   "source": [
    "import pandas as pd\n",
    "import statsmodels.api as sm\n",
    "from statsmodels.formula.api import ols\n",
    "from statsmodels.stats.anova import anova_lm\n",
    "\n",
    "# Load the dataset (assuming it's in tab-separated format)\n",
    "file_path = 'height.dat'  # Update with your file path\n",
    "data = pd.read_csv(file_path, sep='\\t')\n",
    "\n",
    "# Print the data to verify\n",
    "print(data.head())\n",
    "\n",
    "# Perform the ANOVA\n",
    "model = ols('Value ~ C(Part) + C(Operator) + C(Part):C(Operator)', data=data).fit()\n",
    "anova_results = anova_lm(model)\n",
    "\n",
    "# Print ANOVA table\n",
    "print(anova_results)\n",
    "\n",
    "# Question 6: Degrees of freedom for the factor Part\n",
    "df_part = anova_results.loc['C(Part)', 'df']\n",
    "print(f\"Degrees of freedom for Part: {df_part}\")\n",
    "\n",
    "# Question 7: Degrees of freedom for the factor Operator\n",
    "df_operator = anova_results.loc['C(Operator)', 'df']\n",
    "print(f\"Degrees of freedom for Operator: {df_operator}\")\n",
    "\n",
    "# Question 8: Degrees of freedom for the factor Part:Operator interaction\n",
    "df_part_operator = anova_results.loc['C(Part):C(Operator)', 'df']\n",
    "print(f\"Degrees of freedom for Part:Operator interaction: {df_part_operator}\")\n",
    "\n",
    "# Question 9: Statistically significant factors\n",
    "significant_factors = anova_results[anova_results['PR(>F)'] < 0.05].index.tolist()\n",
    "print(f\"Statistically significant factors: {significant_factors}\")\n",
    "\n",
    "# Question 10: Variance due to repeatability (Mean Square Within)\n",
    "mean_square_within = anova_results.loc['Residual', 'mean_sq']\n",
    "print(f\"Variance due to repeatability (Mean Square Within): {mean_square_within}\")\n",
    "\n",
    "# Question 11: Largest component of variance\n",
    "variance_components = {\n",
    "    'Repeatability': mean_square_within,\n",
    "    'Reproducibility': anova_results.loc['C(Operator)', 'mean_sq'],\n",
    "    'Part-to-Part': anova_results.loc['C(Part)', 'mean_sq']\n",
    "}\n",
    "largest_component = max(variance_components, key=variance_components.get)\n",
    "print(f\"Largest component of variance: {largest_component}\")\n",
    "\n",
    "# Question 12: Smallest component of variance\n",
    "smallest_component = min(variance_components, key=variance_components.get)\n",
    "print(f\"Smallest component of variance: {smallest_component}\")\n",
    "\n",
    "# Question 13: Higher percent contribution, Repeatability or Reproducibility?\n",
    "total_variance = sum(variance_components.values())\n",
    "percent_repeatability = (variance_components['Repeatability'] / total_variance) * 100\n",
    "percent_reproducibility = (variance_components['Reproducibility'] / total_variance) * 100\n",
    "\n",
    "higher_contribution = 'Repeatability' if percent_repeatability > percent_reproducibility else 'Reproducibility'\n",
    "print(f\"Higher percent contribution: {higher_contribution}\")\n",
    "\n",
    "# Additional calculations for other questions can follow similar steps.\n"
   ]
  },
  {
   "cell_type": "code",
   "execution_count": null,
   "id": "4cd49348-6e67-4f4a-b8c4-914cc50b6222",
   "metadata": {},
   "outputs": [],
   "source": []
  }
 ],
 "metadata": {
  "kernelspec": {
   "display_name": "Python 3 (ipykernel)",
   "language": "python",
   "name": "python3"
  },
  "language_info": {
   "codemirror_mode": {
    "name": "ipython",
    "version": 3
   },
   "file_extension": ".py",
   "mimetype": "text/x-python",
   "name": "python",
   "nbconvert_exporter": "python",
   "pygments_lexer": "ipython3",
   "version": "3.8.18"
  }
 },
 "nbformat": 4,
 "nbformat_minor": 5
}
