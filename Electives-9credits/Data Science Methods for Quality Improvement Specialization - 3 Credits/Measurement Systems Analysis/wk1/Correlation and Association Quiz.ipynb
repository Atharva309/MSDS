{
 "cells": [
  {
   "cell_type": "code",
   "execution_count": 4,
   "id": "5f27bd0f",
   "metadata": {},
   "outputs": [
    {
     "name": "stdout",
     "output_type": "stream",
     "text": [
      "Correlation coefficient (r): -0.0540\n",
      "P-value: 0.8211\n",
      "Fail to Reject the Null Hypothesis\n"
     ]
    }
   ],
   "source": [
    "import pandas as pd\n",
    "from scipy.stats import pearsonr\n",
    "import numpy as np\n",
    "\n",
    "# Load the data\n",
    "cap_pull_data = pd.read_csv('Corr-and-Assoc/CapPull.dat', sep='\\t')\n",
    "\n",
    "# Extract the necessary columns\n",
    "fid = cap_pull_data['fid']\n",
    "cpf = cap_pull_data['cpf']\n",
    "\n",
    "# Calculate the Pearson correlation coefficient and the p-value\n",
    "correlation_coefficient, p_value = pearsonr(fid, cpf)\n",
    "\n",
    "# Print the correlation coefficient (sample statistic) and p-value\n",
    "print(f\"Correlation coefficient (r): {correlation_coefficient:.4f}\")\n",
    "print(f\"P-value: {p_value:.4f}\")\n",
    "\n",
    "# Test the hypothesis\n",
    "alpha = 0.10\n",
    "if p_value < alpha:\n",
    "    print(\"Reject the Null Hypothesis\")\n",
    "else:\n",
    "    print(\"Fail to Reject the Null Hypothesis\")\n"
   ]
  },
  {
   "cell_type": "code",
   "execution_count": 5,
   "id": "8a7504e5",
   "metadata": {},
   "outputs": [
    {
     "name": "stdout",
     "output_type": "stream",
     "text": [
      "Z statistic: 2.4815\n",
      "P-value: 0.0131\n",
      "Reject the Null Hypothesis\n"
     ]
    }
   ],
   "source": [
    "import scipy.stats as stats\n",
    "\n",
    "# Given correlation values and sample size\n",
    "old_correlation = 0.73\n",
    "new_correlation = 0.84\n",
    "n = 75\n",
    "\n",
    "# Fisher's Z transformation\n",
    "z_old = 0.5 * np.log((1 + old_correlation) / (1 - old_correlation))\n",
    "z_new = 0.5 * np.log((1 + new_correlation) / (1 - new_correlation))\n",
    "\n",
    "# Standard error\n",
    "se = np.sqrt(1/(n - 3))\n",
    "\n",
    "# Z-test statistic\n",
    "z_stat = (z_new - z_old) / se\n",
    "p_value = 2 * (1 - stats.norm.cdf(abs(z_stat)))\n",
    "\n",
    "# Print the results\n",
    "print(f\"Z statistic: {z_stat:.4f}\")\n",
    "print(f\"P-value: {p_value:.4f}\")\n",
    "\n",
    "# Test the hypothesis\n",
    "alpha = 0.05\n",
    "if p_value < alpha:\n",
    "    print(\"Reject the Null Hypothesis\")\n",
    "else:\n",
    "    print(\"Fail to Reject the Null Hypothesis\")\n"
   ]
  },
  {
   "cell_type": "code",
   "execution_count": 7,
   "id": "5a3e3c80-a000-4d5f-8c7b-0bda6099332f",
   "metadata": {},
   "outputs": [],
   "source": [
    "lawn_chr_data = pd.read_csv('Corr-and-Assoc/LawnChr.dat', sep='\\t')\n"
   ]
  },
  {
   "cell_type": "code",
   "execution_count": 8,
   "id": "2993d40a-3edd-4852-8f66-3fe316196af6",
   "metadata": {},
   "outputs": [
    {
     "data": {
      "text/html": [
       "<div>\n",
       "<style scoped>\n",
       "    .dataframe tbody tr th:only-of-type {\n",
       "        vertical-align: middle;\n",
       "    }\n",
       "\n",
       "    .dataframe tbody tr th {\n",
       "        vertical-align: top;\n",
       "    }\n",
       "\n",
       "    .dataframe thead th {\n",
       "        text-align: right;\n",
       "    }\n",
       "</style>\n",
       "<table border=\"1\" class=\"dataframe\">\n",
       "  <thead>\n",
       "    <tr style=\"text-align: right;\">\n",
       "      <th></th>\n",
       "      <th>Surface_Quality</th>\n",
       "      <th>Speed_FPM</th>\n",
       "    </tr>\n",
       "  </thead>\n",
       "  <tbody>\n",
       "    <tr>\n",
       "      <th>0</th>\n",
       "      <td>5</td>\n",
       "      <td>1200</td>\n",
       "    </tr>\n",
       "    <tr>\n",
       "      <th>1</th>\n",
       "      <td>4</td>\n",
       "      <td>1300</td>\n",
       "    </tr>\n",
       "    <tr>\n",
       "      <th>2</th>\n",
       "      <td>7</td>\n",
       "      <td>1100</td>\n",
       "    </tr>\n",
       "    <tr>\n",
       "      <th>3</th>\n",
       "      <td>3</td>\n",
       "      <td>1000</td>\n",
       "    </tr>\n",
       "    <tr>\n",
       "      <th>4</th>\n",
       "      <td>5</td>\n",
       "      <td>1200</td>\n",
       "    </tr>\n",
       "  </tbody>\n",
       "</table>\n",
       "</div>"
      ],
      "text/plain": [
       "   Surface_Quality  Speed_FPM\n",
       "0                5       1200\n",
       "1                4       1300\n",
       "2                7       1100\n",
       "3                3       1000\n",
       "4                5       1200"
      ]
     },
     "execution_count": 8,
     "metadata": {},
     "output_type": "execute_result"
    }
   ],
   "source": [
    "lawn_chr_data.head()"
   ]
  },
  {
   "cell_type": "code",
   "execution_count": 9,
   "id": "5bc16dee",
   "metadata": {},
   "outputs": [
    {
     "name": "stdout",
     "output_type": "stream",
     "text": [
      "Correlation coefficient (r): -0.0712\n",
      "P-value: 0.7655\n",
      "Fail to Reject the Null Hypothesis\n"
     ]
    }
   ],
   "source": [
    "import pandas as pd\n",
    "from scipy.stats import pearsonr\n",
    "\n",
    "# Load the data\n",
    "lawn_chr_data = pd.read_csv('Corr-and-Assoc/LawnChr.dat', sep='\\t')\n",
    "\n",
    "# Extract the necessary columns with the correct names\n",
    "speed = lawn_chr_data['Speed_FPM']\n",
    "surface_quality = lawn_chr_data['Surface_Quality']\n",
    "\n",
    "# Calculate the Pearson correlation coefficient and the p-value\n",
    "correlation_coefficient, p_value = pearsonr(speed, surface_quality)\n",
    "\n",
    "# Print the correlation coefficient (sample statistic) and p-value\n",
    "print(f\"Correlation coefficient (r): {correlation_coefficient:.4f}\")\n",
    "print(f\"P-value: {p_value:.4f}\")\n",
    "\n",
    "# Test the hypothesis\n",
    "alpha = 0.05\n",
    "if p_value < alpha:\n",
    "    print(\"Reject the Null Hypothesis\")\n",
    "else:\n",
    "    print(\"Fail to Reject the Null Hypothesis\")\n"
   ]
  },
  {
   "cell_type": "code",
   "execution_count": 12,
   "id": "1b5f107f-1f21-414b-b995-a379eddf5854",
   "metadata": {},
   "outputs": [],
   "source": [
    "beverage_data = pd.read_csv('Corr-and-Assoc/Beverage.dat', sep='\\t')\n"
   ]
  },
  {
   "cell_type": "code",
   "execution_count": 13,
   "id": "22d44ebe-2a2d-4ade-969b-bd84138ffd9a",
   "metadata": {},
   "outputs": [
    {
     "data": {
      "text/html": [
       "<div>\n",
       "<style scoped>\n",
       "    .dataframe tbody tr th:only-of-type {\n",
       "        vertical-align: middle;\n",
       "    }\n",
       "\n",
       "    .dataframe tbody tr th {\n",
       "        vertical-align: top;\n",
       "    }\n",
       "\n",
       "    .dataframe thead th {\n",
       "        text-align: right;\n",
       "    }\n",
       "</style>\n",
       "<table border=\"1\" class=\"dataframe\">\n",
       "  <thead>\n",
       "    <tr style=\"text-align: right;\">\n",
       "      <th></th>\n",
       "      <th>ct</th>\n",
       "      <th>region</th>\n",
       "      <th>count</th>\n",
       "    </tr>\n",
       "  </thead>\n",
       "  <tbody>\n",
       "    <tr>\n",
       "      <th>0</th>\n",
       "      <td>1</td>\n",
       "      <td>1</td>\n",
       "      <td>165</td>\n",
       "    </tr>\n",
       "    <tr>\n",
       "      <th>1</th>\n",
       "      <td>1</td>\n",
       "      <td>2</td>\n",
       "      <td>77</td>\n",
       "    </tr>\n",
       "    <tr>\n",
       "      <th>2</th>\n",
       "      <td>1</td>\n",
       "      <td>3</td>\n",
       "      <td>58</td>\n",
       "    </tr>\n",
       "    <tr>\n",
       "      <th>3</th>\n",
       "      <td>1</td>\n",
       "      <td>4</td>\n",
       "      <td>99</td>\n",
       "    </tr>\n",
       "    <tr>\n",
       "      <th>4</th>\n",
       "      <td>2</td>\n",
       "      <td>1</td>\n",
       "      <td>73</td>\n",
       "    </tr>\n",
       "  </tbody>\n",
       "</table>\n",
       "</div>"
      ],
      "text/plain": [
       "   ct  region  count\n",
       "0   1       1    165\n",
       "1   1       2     77\n",
       "2   1       3     58\n",
       "3   1       4     99\n",
       "4   2       1     73"
      ]
     },
     "execution_count": 13,
     "metadata": {},
     "output_type": "execute_result"
    }
   ],
   "source": [
    "beverage_data.head()"
   ]
  },
  {
   "cell_type": "code",
   "execution_count": 14,
   "id": "9281a60d",
   "metadata": {},
   "outputs": [
    {
     "name": "stdout",
     "output_type": "stream",
     "text": [
      "Chi-square statistic: 106.0855\n",
      "P-value: 0.0000\n",
      "Reject the Null Hypothesis\n"
     ]
    }
   ],
   "source": [
    "import pandas as pd\n",
    "import scipy.stats as stats\n",
    "\n",
    "# Load the data\n",
    "beverage_data = pd.read_csv('Corr-and-Assoc/Beverage.dat', sep='\\t')\n",
    "\n",
    "# Create a contingency table using 'ct' and 'region' with 'count' as values\n",
    "contingency_table = beverage_data.pivot_table(index='region', columns='ct', values='count', aggfunc='sum')\n",
    "\n",
    "# Perform chi-square test\n",
    "chi2_stat, p_value, dof, expected = stats.chi2_contingency(contingency_table)\n",
    "\n",
    "# Print the results\n",
    "print(f\"Chi-square statistic: {chi2_stat:.4f}\")\n",
    "print(f\"P-value: {p_value:.4f}\")\n",
    "\n",
    "# Test the hypothesis\n",
    "alpha = 0.05\n",
    "if p_value < alpha:\n",
    "    print(\"Reject the Null Hypothesis\")\n",
    "else:\n",
    "    print(\"Fail to Reject the Null Hypothesis\")\n"
   ]
  },
  {
   "cell_type": "code",
   "execution_count": 15,
   "id": "11e9f838-8665-49db-878f-be33ef9c6c18",
   "metadata": {},
   "outputs": [
    {
     "name": "stdout",
     "output_type": "stream",
     "text": [
      "Chi-square statistic: 106.0855\n",
      "P-value: 0.0000\n",
      "Cramer's V: 0.2102\n",
      "Conclusion: Reject the Null Hypothesis\n"
     ]
    }
   ],
   "source": [
    "import pandas as pd\n",
    "import scipy.stats as stats\n",
    "\n",
    "# Load the data from Beverage.dat\n",
    "beverage_data = pd.read_csv('Corr-and-Assoc/Beverage.dat', sep='\\t')\n",
    "\n",
    "# Create a contingency table using 'region' and 'ct' with 'count' as values\n",
    "contingency_table = beverage_data.pivot_table(index='region', columns='ct', values='count', aggfunc='sum')\n",
    "\n",
    "# Perform chi-square test\n",
    "chi2_stat, p_value, dof, expected = stats.chi2_contingency(contingency_table)\n",
    "\n",
    "# Calculate Cramer's V for effect size\n",
    "n = contingency_table.sum().sum()\n",
    "cramers_v = (chi2_stat / (n * (min(contingency_table.shape) - 1))) ** 0.5\n",
    "\n",
    "# Print the results\n",
    "print(f\"Chi-square statistic: {chi2_stat:.4f}\")\n",
    "print(f\"P-value: {p_value:.4f}\")\n",
    "print(f\"Cramer's V: {cramers_v:.4f}\")\n",
    "\n",
    "# Test the hypothesis\n",
    "alpha = 0.05\n",
    "if p_value < alpha:\n",
    "    conclusion = \"Reject the Null Hypothesis\"\n",
    "else:\n",
    "    conclusion = \"Fail to Reject the Null Hypothesis\"\n",
    "\n",
    "print(f\"Conclusion: {conclusion}\")\n"
   ]
  },
  {
   "cell_type": "code",
   "execution_count": 18,
   "id": "97e8add4-3c72-4617-818d-85191368f34c",
   "metadata": {},
   "outputs": [],
   "source": [
    "sales_data = pd.read_csv('Corr-and-Assoc/Sales.dat', sep='\\t')\n"
   ]
  },
  {
   "cell_type": "code",
   "execution_count": 19,
   "id": "c31b03b1-58f2-4d96-9eca-1dd23825e824",
   "metadata": {},
   "outputs": [
    {
     "data": {
      "text/html": [
       "<div>\n",
       "<style scoped>\n",
       "    .dataframe tbody tr th:only-of-type {\n",
       "        vertical-align: middle;\n",
       "    }\n",
       "\n",
       "    .dataframe tbody tr th {\n",
       "        vertical-align: top;\n",
       "    }\n",
       "\n",
       "    .dataframe thead th {\n",
       "        text-align: right;\n",
       "    }\n",
       "</style>\n",
       "<table border=\"1\" class=\"dataframe\">\n",
       "  <thead>\n",
       "    <tr style=\"text-align: right;\">\n",
       "      <th></th>\n",
       "      <th>clerk</th>\n",
       "      <th>time</th>\n",
       "    </tr>\n",
       "  </thead>\n",
       "  <tbody>\n",
       "    <tr>\n",
       "      <th>0</th>\n",
       "      <td>1</td>\n",
       "      <td>473</td>\n",
       "    </tr>\n",
       "    <tr>\n",
       "      <th>1</th>\n",
       "      <td>1</td>\n",
       "      <td>189</td>\n",
       "    </tr>\n",
       "    <tr>\n",
       "      <th>2</th>\n",
       "      <td>1</td>\n",
       "      <td>140</td>\n",
       "    </tr>\n",
       "    <tr>\n",
       "      <th>3</th>\n",
       "      <td>1</td>\n",
       "      <td>125</td>\n",
       "    </tr>\n",
       "    <tr>\n",
       "      <th>4</th>\n",
       "      <td>1</td>\n",
       "      <td>46</td>\n",
       "    </tr>\n",
       "  </tbody>\n",
       "</table>\n",
       "</div>"
      ],
      "text/plain": [
       "   clerk  time\n",
       "0      1   473\n",
       "1      1   189\n",
       "2      1   140\n",
       "3      1   125\n",
       "4      1    46"
      ]
     },
     "execution_count": 19,
     "metadata": {},
     "output_type": "execute_result"
    }
   ],
   "source": [
    "sales_data.head()"
   ]
  },
  {
   "cell_type": "code",
   "execution_count": 20,
   "id": "3752da87-b55c-4955-ae2d-e81dd33b5ed7",
   "metadata": {},
   "outputs": [
    {
     "name": "stdout",
     "output_type": "stream",
     "text": [
      "   clerk  time\n",
      "0      1   473\n",
      "1      1   189\n",
      "2      1   140\n",
      "3      1   125\n",
      "4      1    46\n",
      "F-statistic: 9.440\n",
      "P-value: 0.005\n",
      "Eta Squared: 0.252\n",
      "Conclusion: Reject the Null Hypothesis\n"
     ]
    }
   ],
   "source": [
    "import pandas as pd\n",
    "import scipy.stats as stats\n",
    "\n",
    "# Load the data from Sales.dat\n",
    "sales_data = pd.read_csv('Corr-and-Assoc/Sales.dat', sep='\\t')\n",
    "\n",
    "# Display first few rows to verify\n",
    "print(sales_data.head())\n",
    "\n",
    "# List of unique clerks\n",
    "clerks = sales_data['clerk'].unique()\n",
    "\n",
    "# Prepare data for ANOVA\n",
    "groups = [sales_data[sales_data['clerk'] == clerk]['time'] for clerk in clerks]\n",
    "\n",
    "# Perform One-Way ANOVA\n",
    "f_statistic, p_value = stats.f_oneway(*groups)\n",
    "\n",
    "# Calculate Eta Squared for effect size\n",
    "ss_between = sum(len(group) * (group.mean() - sales_data['time'].mean())**2 for group in groups)\n",
    "ss_total = sum((sales_data['time'] - sales_data['time'].mean())**2)\n",
    "eta_squared = ss_between / ss_total\n",
    "\n",
    "# Print results\n",
    "print(f\"F-statistic: {f_statistic:.3f}\")\n",
    "print(f\"P-value: {p_value:.3f}\")\n",
    "print(f\"Eta Squared: {eta_squared:.3f}\")\n",
    "\n",
    "# Determine conclusion\n",
    "alpha = 0.05\n",
    "if p_value < alpha:\n",
    "    conclusion = \"Reject the Null Hypothesis\"\n",
    "else:\n",
    "    conclusion = \"Fail to Reject the Null Hypothesis\"\n",
    "\n",
    "print(f\"Conclusion: {conclusion}\")\n"
   ]
  },
  {
   "cell_type": "code",
   "execution_count": null,
   "id": "f61cfffa-b1a7-4b1a-9e49-5a31efa809a4",
   "metadata": {},
   "outputs": [],
   "source": []
  }
 ],
 "metadata": {
  "kernelspec": {
   "display_name": "Python 3 (ipykernel)",
   "language": "python",
   "name": "python3"
  },
  "language_info": {
   "codemirror_mode": {
    "name": "ipython",
    "version": 3
   },
   "file_extension": ".py",
   "mimetype": "text/x-python",
   "name": "python",
   "nbconvert_exporter": "python",
   "pygments_lexer": "ipython3",
   "version": "3.8.18"
  }
 },
 "nbformat": 4,
 "nbformat_minor": 5
}
