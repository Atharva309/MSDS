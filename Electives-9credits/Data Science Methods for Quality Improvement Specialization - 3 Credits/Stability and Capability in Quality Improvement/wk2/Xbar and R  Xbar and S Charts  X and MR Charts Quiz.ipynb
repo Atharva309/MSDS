{
 "cells": [
  {
   "cell_type": "code",
   "execution_count": 2,
   "id": "8a5ba61e",
   "metadata": {},
   "outputs": [],
   "source": [
    "Furnace_Temperature = [\n",
    "1.26,\n",
    "1.27,\n",
    "1.24,\n",
    "1.27,\n",
    "1.29,\n",
    "1.30,\n",
    "1.28,\n",
    "1.25,\n",
    "1.27,\n",
    "1.31,\n",
    "1.29,\n",
    "1.28,\n",
    "1.26,\n",
    "1.27,\n",
    "1.27,\n",
    "1.30,\n",
    "1.29,\n",
    "1.28,\n",
    "1.26,\n",
    "1.27,\n",
    "1.26,\n",
    "1.28,\n",
    "1.26,\n",
    "1.27,1.28]\n"
   ]
  },
  {
   "cell_type": "code",
   "execution_count": 8,
   "id": "88504f22",
   "metadata": {},
   "outputs": [],
   "source": [
    "import pandas as pd\n",
    "import numpy as np\n"
   ]
  },
  {
   "cell_type": "code",
   "execution_count": 55,
   "id": "267a11f1",
   "metadata": {},
   "outputs": [
    {
     "data": {
      "text/plain": [
       "b'Week\\tBag_Weight\\r\\n1\\t109.16\\r\\n1\\t111.36\\r\\n1\\t108.54\\r\\n1\\t111.56\\r\\n1\\t109.94\\r\\n2\\t110.07\\r\\n2\\t109.73\\r\\n2\\t109.54\\r\\n2\\t109.94\\r\\n2\\t109.97\\r\\n3\\t109.82\\r\\n3\\t108.65\\r\\n3\\t109.90\\r\\n3\\t110.64\\r\\n3\\t111.23\\r\\n4\\t109.92\\r\\n4\\t109.78\\r\\n4\\t109.83\\r\\n4\\t111.10\\r\\n4\\t109.99\\r\\n5\\t109.55\\r\\n5\\t110.07\\r\\n5\\t110.12\\r\\n5\\t108.80\\r\\n5\\t109.41\\r\\n6\\t108.37\\r\\n6\\t110.95\\r\\n6\\t111.03\\r\\n6\\t109.86\\r\\n6\\t110.18\\r\\n7\\t108.69\\r\\n7\\t111.13\\r\\n7\\t109.14\\r\\n7\\t109.70\\r\\n7\\t110.12\\r\\n8\\t111.35\\r\\n8\\t109.30\\r\\n8\\t110.53\\r\\n8\\t110.38\\r\\n8\\t110.58\\r\\n9\\t109.39\\r\\n9\\t109.87\\r\\n9\\t108.79\\r\\n9\\t110.28\\r\\n9\\t110.83\\r\\n10\\t109.90\\r\\n10\\t108.39\\r\\n10\\t110.55\\r\\n10\\t112.04\\r\\n10\\t110.26\\r\\n11\\t109.62\\r\\n11\\t111.46\\r\\n11\\t109.85\\r\\n11\\t110.36\\r\\n11\\t110.55\\r\\n12\\t109.57\\r\\n12\\t109.65\\r\\n12\\t109.71\\r\\n12\\t109.97\\r\\n12\\t109.86\\r\\n13\\t108.93\\r\\n13\\t110.19\\r\\n13\\t108.93\\r\\n13\\t109.55\\r\\n13\\t109.31\\r\\n14\\t109.64\\r\\n14\\t110.51\\r\\n14\\t111.41\\r\\n14\\t109.27\\r\\n14\\t109.27\\r\\n15\\t108.84\\r\\n15\\t109.58\\r\\n15\\t110.60\\r\\n15\\t109.99\\r\\n15\\t109.94\\r\\n16\\t111.00\\r\\n16\\t110.32\\r\\n16\\t111.47\\r\\n16\\t109.41\\r\\n16\\t108.93\\r\\n17\\t109.39\\r\\n17\\t110.53\\r\\n17\\t110.14\\r\\n17\\t110.15\\r\\n17\\t110.12\\r\\n18\\t110.69\\r\\n18\\t109.47\\r\\n18\\t110.01\\r\\n18\\t109.28\\r\\n18\\t109.67\\r\\n19\\t109.43\\r\\n19\\t110.89\\r\\n19\\t110.76\\r\\n19\\t108.62\\r\\n19\\t110.21\\r\\n20\\t110.11\\r\\n20\\t110.58\\r\\n20\\t110.29\\r\\n20\\t109.68\\r\\n20\\t110.53\\r\\n21\\t109.69\\r\\n21\\t107.60\\r\\n21\\t110.77\\r\\n21\\t110.55\\r\\n21\\t109.65\\r\\n22\\t109.37\\r\\n22\\t110.10\\r\\n22\\t110.87\\r\\n22\\t110.12\\r\\n22\\t109.71\\r\\n23\\t109.37\\r\\n23\\t109.22\\r\\n23\\t108.81\\r\\n23\\t109.39\\r\\n23\\t110.57\\r\\n24\\t110.33\\r\\n24\\t109.59\\r\\n24\\t110.67\\r\\n24\\t110.58\\r\\n24\\t110.57\\r\\n25\\t109.85\\r\\n25\\t108.54\\r\\n25\\t111.53\\r\\n25\\t109.08\\r\\n25\\t109.55\\r\\n26\\t110.51\\r\\n26\\t108.95\\r\\n26\\t109.86\\r\\n26\\t110.92\\r\\n26\\t112.18\\r\\n27\\t110.65\\r\\n27\\t109.15\\r\\n27\\t109.05\\r\\n27\\t111.70\\r\\n27\\t109.61\\r\\n28\\t111.37\\r\\n28\\t109.99\\r\\n28\\t110.04\\r\\n28\\t109.93\\r\\n28\\t109.46\\r\\n29\\t108.45\\r\\n29\\t111.87\\r\\n29\\t109.75\\r\\n29\\t108.59\\r\\n29\\t110.92\\r\\n30\\t109.40\\r\\n30\\t110.06\\r\\n30\\t108.20\\r\\n30\\t110.48\\r\\n30\\t111.08\\r\\n'"
      ]
     },
     "execution_count": 55,
     "metadata": {},
     "output_type": "execute_result"
    }
   ],
   "source": [
    "# import requests\n",
    "\n",
    "x = requests.get(\"https://d3c33hcgiwev3.cloudfront.net/ku2884mOSzStvPOJjts06Q_df6cbcf474464584b2c39eaa1c03cef1_BagWeight.dat?Expires=1685145600&Signature=iitOb13ra8qt0LoQ7GYNWDczlUCTSCjeKUXkRjpD4hBp7cu3I1XvRcEwsne2xxhsecypwMqdeHJhKHcK9oHbxcDfDzhqygJQdSMqeT6btgxMIFiVtq47Bc1H~iG~J87RP39~X1j20W6onxA6Ou8FMndRndSLIxM6gvsTru~ptpM_&Key-Pair-Id=APKAJLTNE6QMUY6HBC5A\").content\n",
    "x\n",
    "\n",
    "\n"
   ]
  },
  {
   "cell_type": "code",
   "execution_count": 36,
   "id": "f7b346e4",
   "metadata": {},
   "outputs": [
    {
     "data": {
      "text/html": [
       "<div>\n",
       "<style scoped>\n",
       "    .dataframe tbody tr th:only-of-type {\n",
       "        vertical-align: middle;\n",
       "    }\n",
       "\n",
       "    .dataframe tbody tr th {\n",
       "        vertical-align: top;\n",
       "    }\n",
       "\n",
       "    .dataframe thead th {\n",
       "        text-align: right;\n",
       "    }\n",
       "</style>\n",
       "<table border=\"1\" class=\"dataframe\">\n",
       "  <thead>\n",
       "    <tr style=\"text-align: right;\">\n",
       "      <th></th>\n",
       "      <th>Week\\tBag_Weight</th>\n",
       "    </tr>\n",
       "  </thead>\n",
       "  <tbody>\n",
       "    <tr>\n",
       "      <th>0</th>\n",
       "      <td>1\\t109.16</td>\n",
       "    </tr>\n",
       "    <tr>\n",
       "      <th>1</th>\n",
       "      <td>1\\t111.36</td>\n",
       "    </tr>\n",
       "    <tr>\n",
       "      <th>2</th>\n",
       "      <td>1\\t108.54</td>\n",
       "    </tr>\n",
       "    <tr>\n",
       "      <th>3</th>\n",
       "      <td>1\\t111.56</td>\n",
       "    </tr>\n",
       "    <tr>\n",
       "      <th>4</th>\n",
       "      <td>1\\t109.94</td>\n",
       "    </tr>\n",
       "    <tr>\n",
       "      <th>...</th>\n",
       "      <td>...</td>\n",
       "    </tr>\n",
       "    <tr>\n",
       "      <th>145</th>\n",
       "      <td>30\\t109.40</td>\n",
       "    </tr>\n",
       "    <tr>\n",
       "      <th>146</th>\n",
       "      <td>30\\t110.06</td>\n",
       "    </tr>\n",
       "    <tr>\n",
       "      <th>147</th>\n",
       "      <td>30\\t108.20</td>\n",
       "    </tr>\n",
       "    <tr>\n",
       "      <th>148</th>\n",
       "      <td>30\\t110.48</td>\n",
       "    </tr>\n",
       "    <tr>\n",
       "      <th>149</th>\n",
       "      <td>30\\t111.08</td>\n",
       "    </tr>\n",
       "  </tbody>\n",
       "</table>\n",
       "<p>150 rows × 1 columns</p>\n",
       "</div>"
      ],
      "text/plain": [
       "    Week\\tBag_Weight\n",
       "0          1\\t109.16\n",
       "1          1\\t111.36\n",
       "2          1\\t108.54\n",
       "3          1\\t111.56\n",
       "4          1\\t109.94\n",
       "..               ...\n",
       "145       30\\t109.40\n",
       "146       30\\t110.06\n",
       "147       30\\t108.20\n",
       "148       30\\t110.48\n",
       "149       30\\t111.08\n",
       "\n",
       "[150 rows x 1 columns]"
      ]
     },
     "execution_count": 36,
     "metadata": {},
     "output_type": "execute_result"
    }
   ],
   "source": [
    "import pandas as pd\n",
    "import io\n",
    "import requests\n",
    "url=\"https://d3c33hcgiwev3.cloudfront.net/ku2884mOSzStvPOJjts06Q_df6cbcf474464584b2c39eaa1c03cef1_BagWeight.dat?Expires=1685145600&Signature=iitOb13ra8qt0LoQ7GYNWDczlUCTSCjeKUXkRjpD4hBp7cu3I1XvRcEwsne2xxhsecypwMqdeHJhKHcK9oHbxcDfDzhqygJQdSMqeT6btgxMIFiVtq47Bc1H~iG~J87RP39~X1j20W6onxA6Ou8FMndRndSLIxM6gvsTru~ptpM_&Key-Pair-Id=APKAJLTNE6QMUY6HBC5A\"\n",
    "s=requests.get(url).content\n",
    "bag=pd.read_csv(io.StringIO(s.decode('utf-8')))\n",
    "bag"
   ]
  },
  {
   "cell_type": "code",
   "execution_count": 37,
   "id": "b06877ab",
   "metadata": {},
   "outputs": [
    {
     "data": {
      "text/html": [
       "<div>\n",
       "<style scoped>\n",
       "    .dataframe tbody tr th:only-of-type {\n",
       "        vertical-align: middle;\n",
       "    }\n",
       "\n",
       "    .dataframe tbody tr th {\n",
       "        vertical-align: top;\n",
       "    }\n",
       "\n",
       "    .dataframe thead th {\n",
       "        text-align: right;\n",
       "    }\n",
       "</style>\n",
       "<table border=\"1\" class=\"dataframe\">\n",
       "  <thead>\n",
       "    <tr style=\"text-align: right;\">\n",
       "      <th></th>\n",
       "      <th>Subgroup\\tWidth_Deviation</th>\n",
       "    </tr>\n",
       "  </thead>\n",
       "  <tbody>\n",
       "    <tr>\n",
       "      <th>0</th>\n",
       "      <td>1\\t0.39</td>\n",
       "    </tr>\n",
       "    <tr>\n",
       "      <th>1</th>\n",
       "      <td>1\\t3.39</td>\n",
       "    </tr>\n",
       "    <tr>\n",
       "      <th>2</th>\n",
       "      <td>1\\t1.89</td>\n",
       "    </tr>\n",
       "    <tr>\n",
       "      <th>3</th>\n",
       "      <td>1\\t0.95</td>\n",
       "    </tr>\n",
       "    <tr>\n",
       "      <th>4</th>\n",
       "      <td>1\\t0.81</td>\n",
       "    </tr>\n",
       "    <tr>\n",
       "      <th>...</th>\n",
       "      <td>...</td>\n",
       "    </tr>\n",
       "    <tr>\n",
       "      <th>243</th>\n",
       "      <td>31\\t0.38</td>\n",
       "    </tr>\n",
       "    <tr>\n",
       "      <th>244</th>\n",
       "      <td>31\\t0.96</td>\n",
       "    </tr>\n",
       "    <tr>\n",
       "      <th>245</th>\n",
       "      <td>31\\t1.50</td>\n",
       "    </tr>\n",
       "    <tr>\n",
       "      <th>246</th>\n",
       "      <td>31\\t1.28</td>\n",
       "    </tr>\n",
       "    <tr>\n",
       "      <th>247</th>\n",
       "      <td>31\\t1.12</td>\n",
       "    </tr>\n",
       "  </tbody>\n",
       "</table>\n",
       "<p>248 rows × 1 columns</p>\n",
       "</div>"
      ],
      "text/plain": [
       "    Subgroup\\tWidth_Deviation\n",
       "0                     1\\t0.39\n",
       "1                     1\\t3.39\n",
       "2                     1\\t1.89\n",
       "3                     1\\t0.95\n",
       "4                     1\\t0.81\n",
       "..                        ...\n",
       "243                  31\\t0.38\n",
       "244                  31\\t0.96\n",
       "245                  31\\t1.50\n",
       "246                  31\\t1.28\n",
       "247                  31\\t1.12\n",
       "\n",
       "[248 rows x 1 columns]"
      ]
     },
     "execution_count": 37,
     "metadata": {},
     "output_type": "execute_result"
    }
   ],
   "source": [
    "url1=\"https://d3c33hcgiwev3.cloudfront.net/NKgE2MCPS52oBNjAjyudNA_7ccee294a9334085af6a58bf5e4d16f1_ShearedSheet.dat?Expires=1685145600&Signature=GloMbVTIczR7XCGucKL3czGttiZtr6yWzVbdhrUvn9sgfg9yQHnuoKD1tZWdmJ0Ih4BF086ir5x5uk6nxb1fnWJ6XGxuhsLC4jZuuhQwNnjQ4u9~E2tLFfteSl2VpixF6tSgByP5Zw7pBCKXt~C23z3IILJNJVSSrXgzuQGofKU_&Key-Pair-Id=APKAJLTNE6QMUY6HBC5A\"\n",
    "ss=requests.get(url1).content\n",
    "sheared=pd.read_csv(io.StringIO(ss.decode('utf-8')))\n",
    "sheared"
   ]
  },
  {
   "cell_type": "markdown",
   "id": "f7555923",
   "metadata": {},
   "source": [
    "---"
   ]
  },
  {
   "cell_type": "markdown",
   "id": "7d1cf9bd",
   "metadata": {},
   "source": [
    "## 1. Question 1\n",
    "\n",
    "A craft brewer of beer purchases incoming raw material for certain materials which arrives in bags. The first critical characteristic that purchasing is concerned with is that the Bag Weight is in a state of statistical control, so that they can be assured of the stability of the product they are receiving. You have been provided with a data file titled BagWeight.dat, which contains the Bag Weight data for a particular supplier shipping a raw material to one of the craft breweries. Each time a shipment arrives (roughly each week), a random sample of 5 bags is pulled off the pallet and weighed. The file contains the results for 30 consecutive shipments.\n",
    "\n",
    "What is the centerline for the Xbar chart? Record your answer to 4 places after the decimal point (X.XXXX)."
   ]
  },
  {
   "cell_type": "code",
   "execution_count": 44,
   "id": "bc7159bc",
   "metadata": {},
   "outputs": [
    {
     "ename": "KeyError",
     "evalue": "'Bag_Weight'",
     "output_type": "error",
     "traceback": [
      "\u001b[0;31m---------------------------------------------------------------------------\u001b[0m",
      "\u001b[0;31mKeyError\u001b[0m                                  Traceback (most recent call last)",
      "\u001b[0;32m~/opt/anaconda3/envs/tf2/lib/python3.9/site-packages/pandas/core/indexes/base.py\u001b[0m in \u001b[0;36mget_loc\u001b[0;34m(self, key, method, tolerance)\u001b[0m\n\u001b[1;32m   3628\u001b[0m             \u001b[0;32mtry\u001b[0m\u001b[0;34m:\u001b[0m\u001b[0;34m\u001b[0m\u001b[0;34m\u001b[0m\u001b[0m\n\u001b[0;32m-> 3629\u001b[0;31m                 \u001b[0;32mreturn\u001b[0m \u001b[0mself\u001b[0m\u001b[0;34m.\u001b[0m\u001b[0m_engine\u001b[0m\u001b[0;34m.\u001b[0m\u001b[0mget_loc\u001b[0m\u001b[0;34m(\u001b[0m\u001b[0mcasted_key\u001b[0m\u001b[0;34m)\u001b[0m\u001b[0;34m\u001b[0m\u001b[0;34m\u001b[0m\u001b[0m\n\u001b[0m\u001b[1;32m   3630\u001b[0m             \u001b[0;32mexcept\u001b[0m \u001b[0mKeyError\u001b[0m \u001b[0;32mas\u001b[0m \u001b[0merr\u001b[0m\u001b[0;34m:\u001b[0m\u001b[0;34m\u001b[0m\u001b[0;34m\u001b[0m\u001b[0m\n",
      "\u001b[0;32m~/opt/anaconda3/envs/tf2/lib/python3.9/site-packages/pandas/_libs/index.pyx\u001b[0m in \u001b[0;36mpandas._libs.index.IndexEngine.get_loc\u001b[0;34m()\u001b[0m\n",
      "\u001b[0;32m~/opt/anaconda3/envs/tf2/lib/python3.9/site-packages/pandas/_libs/index.pyx\u001b[0m in \u001b[0;36mpandas._libs.index.IndexEngine.get_loc\u001b[0;34m()\u001b[0m\n",
      "\u001b[0;32mpandas/_libs/hashtable_class_helper.pxi\u001b[0m in \u001b[0;36mpandas._libs.hashtable.PyObjectHashTable.get_item\u001b[0;34m()\u001b[0m\n",
      "\u001b[0;32mpandas/_libs/hashtable_class_helper.pxi\u001b[0m in \u001b[0;36mpandas._libs.hashtable.PyObjectHashTable.get_item\u001b[0;34m()\u001b[0m\n",
      "\u001b[0;31mKeyError\u001b[0m: 'Bag_Weight'",
      "\nThe above exception was the direct cause of the following exception:\n",
      "\u001b[0;31mKeyError\u001b[0m                                  Traceback (most recent call last)",
      "\u001b[0;32m/var/folders/j_/555m2zps099832fjh_m8jjnc0000gn/T/ipykernel_74687/22111209.py\u001b[0m in \u001b[0;36m<cell line: 1>\u001b[0;34m()\u001b[0m\n\u001b[0;32m----> 1\u001b[0;31m \u001b[0mbag\u001b[0m\u001b[0;34m[\u001b[0m\u001b[0;34m'Bag_Weight'\u001b[0m\u001b[0;34m]\u001b[0m\u001b[0;34m\u001b[0m\u001b[0;34m\u001b[0m\u001b[0m\n\u001b[0m",
      "\u001b[0;32m~/opt/anaconda3/envs/tf2/lib/python3.9/site-packages/pandas/core/frame.py\u001b[0m in \u001b[0;36m__getitem__\u001b[0;34m(self, key)\u001b[0m\n\u001b[1;32m   3503\u001b[0m             \u001b[0;32mif\u001b[0m \u001b[0mself\u001b[0m\u001b[0;34m.\u001b[0m\u001b[0mcolumns\u001b[0m\u001b[0;34m.\u001b[0m\u001b[0mnlevels\u001b[0m \u001b[0;34m>\u001b[0m \u001b[0;36m1\u001b[0m\u001b[0;34m:\u001b[0m\u001b[0;34m\u001b[0m\u001b[0;34m\u001b[0m\u001b[0m\n\u001b[1;32m   3504\u001b[0m                 \u001b[0;32mreturn\u001b[0m \u001b[0mself\u001b[0m\u001b[0;34m.\u001b[0m\u001b[0m_getitem_multilevel\u001b[0m\u001b[0;34m(\u001b[0m\u001b[0mkey\u001b[0m\u001b[0;34m)\u001b[0m\u001b[0;34m\u001b[0m\u001b[0;34m\u001b[0m\u001b[0m\n\u001b[0;32m-> 3505\u001b[0;31m             \u001b[0mindexer\u001b[0m \u001b[0;34m=\u001b[0m \u001b[0mself\u001b[0m\u001b[0;34m.\u001b[0m\u001b[0mcolumns\u001b[0m\u001b[0;34m.\u001b[0m\u001b[0mget_loc\u001b[0m\u001b[0;34m(\u001b[0m\u001b[0mkey\u001b[0m\u001b[0;34m)\u001b[0m\u001b[0;34m\u001b[0m\u001b[0;34m\u001b[0m\u001b[0m\n\u001b[0m\u001b[1;32m   3506\u001b[0m             \u001b[0;32mif\u001b[0m \u001b[0mis_integer\u001b[0m\u001b[0;34m(\u001b[0m\u001b[0mindexer\u001b[0m\u001b[0;34m)\u001b[0m\u001b[0;34m:\u001b[0m\u001b[0;34m\u001b[0m\u001b[0;34m\u001b[0m\u001b[0m\n\u001b[1;32m   3507\u001b[0m                 \u001b[0mindexer\u001b[0m \u001b[0;34m=\u001b[0m \u001b[0;34m[\u001b[0m\u001b[0mindexer\u001b[0m\u001b[0;34m]\u001b[0m\u001b[0;34m\u001b[0m\u001b[0;34m\u001b[0m\u001b[0m\n",
      "\u001b[0;32m~/opt/anaconda3/envs/tf2/lib/python3.9/site-packages/pandas/core/indexes/base.py\u001b[0m in \u001b[0;36mget_loc\u001b[0;34m(self, key, method, tolerance)\u001b[0m\n\u001b[1;32m   3629\u001b[0m                 \u001b[0;32mreturn\u001b[0m \u001b[0mself\u001b[0m\u001b[0;34m.\u001b[0m\u001b[0m_engine\u001b[0m\u001b[0;34m.\u001b[0m\u001b[0mget_loc\u001b[0m\u001b[0;34m(\u001b[0m\u001b[0mcasted_key\u001b[0m\u001b[0;34m)\u001b[0m\u001b[0;34m\u001b[0m\u001b[0;34m\u001b[0m\u001b[0m\n\u001b[1;32m   3630\u001b[0m             \u001b[0;32mexcept\u001b[0m \u001b[0mKeyError\u001b[0m \u001b[0;32mas\u001b[0m \u001b[0merr\u001b[0m\u001b[0;34m:\u001b[0m\u001b[0;34m\u001b[0m\u001b[0;34m\u001b[0m\u001b[0m\n\u001b[0;32m-> 3631\u001b[0;31m                 \u001b[0;32mraise\u001b[0m \u001b[0mKeyError\u001b[0m\u001b[0;34m(\u001b[0m\u001b[0mkey\u001b[0m\u001b[0;34m)\u001b[0m \u001b[0;32mfrom\u001b[0m \u001b[0merr\u001b[0m\u001b[0;34m\u001b[0m\u001b[0;34m\u001b[0m\u001b[0m\n\u001b[0m\u001b[1;32m   3632\u001b[0m             \u001b[0;32mexcept\u001b[0m \u001b[0mTypeError\u001b[0m\u001b[0;34m:\u001b[0m\u001b[0;34m\u001b[0m\u001b[0;34m\u001b[0m\u001b[0m\n\u001b[1;32m   3633\u001b[0m                 \u001b[0;31m# If we have a listlike key, _check_indexing_error will raise\u001b[0m\u001b[0;34m\u001b[0m\u001b[0;34m\u001b[0m\u001b[0m\n",
      "\u001b[0;31mKeyError\u001b[0m: 'Bag_Weight'"
     ]
    }
   ],
   "source": [
    "bag['']"
   ]
  },
  {
   "cell_type": "code",
   "execution_count": null,
   "id": "2d662e05",
   "metadata": {},
   "outputs": [],
   "source": []
  }
 ],
 "metadata": {
  "kernelspec": {
   "display_name": "Python 3 (ipykernel)",
   "language": "python",
   "name": "python3"
  },
  "language_info": {
   "codemirror_mode": {
    "name": "ipython",
    "version": 3
   },
   "file_extension": ".py",
   "mimetype": "text/x-python",
   "name": "python",
   "nbconvert_exporter": "python",
   "pygments_lexer": "ipython3",
   "version": "3.9.12"
  }
 },
 "nbformat": 4,
 "nbformat_minor": 5
}
