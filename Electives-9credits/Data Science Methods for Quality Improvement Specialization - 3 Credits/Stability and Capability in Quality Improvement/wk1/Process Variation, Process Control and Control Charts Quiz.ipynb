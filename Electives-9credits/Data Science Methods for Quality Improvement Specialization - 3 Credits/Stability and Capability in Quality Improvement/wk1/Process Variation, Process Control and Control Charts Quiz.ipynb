{
 "cells": [
  {
   "cell_type": "markdown",
   "id": "738814be",
   "metadata": {},
   "source": [
    "1. Which of the following can be considered a process? Select all that apply. "
   ]
  },
  {
   "cell_type": "markdown",
   "id": "e5edfb7e",
   "metadata": {},
   "source": [
    "- Applying top coat to a finished product\n",
    "- Invoicing a customer\n",
    "- Performing preventive maintenance\n",
    "- Measuring output"
   ]
  },
  {
   "cell_type": "markdown",
   "id": "e538a45f",
   "metadata": {},
   "source": [
    "2. Consecutive items sampled from the same (conceptual) output distribution can be referred to as:"
   ]
  },
  {
   "cell_type": "markdown",
   "id": "3d58b928",
   "metadata": {},
   "source": [
    "Answer: A rational subgroup"
   ]
  },
  {
   "cell_type": "markdown",
   "id": "50bcf694",
   "metadata": {},
   "source": [
    "3. Those influencing factors which when present in the process lead to an assessment that the process is “out of control” are said to be"
   ]
  },
  {
   "cell_type": "markdown",
   "id": "3cb6a5e7",
   "metadata": {},
   "source": [
    "Answer: Special cause variability"
   ]
  },
  {
   "cell_type": "markdown",
   "id": "e0e786d7",
   "metadata": {},
   "source": [
    "4. The primary purpose of a control chart is to:"
   ]
  },
  {
   "cell_type": "markdown",
   "id": "1d8ae082",
   "metadata": {},
   "source": [
    "Answer: "
   ]
  },
  {
   "cell_type": "markdown",
   "id": "5adc4749",
   "metadata": {},
   "source": [
    "5. The modern definition of quality involves:"
   ]
  },
  {
   "cell_type": "markdown",
   "id": "ba5881a8",
   "metadata": {},
   "source": [
    "Answer: "
   ]
  },
  {
   "cell_type": "markdown",
   "id": "03ae938c",
   "metadata": {},
   "source": [
    "6. A method that described as assuring “Quality as Shipped” through inspection:"
   ]
  },
  {
   "cell_type": "markdown",
   "id": "b0c75f23",
   "metadata": {},
   "source": [
    "Answer: "
   ]
  },
  {
   "cell_type": "markdown",
   "id": "395dd758",
   "metadata": {},
   "source": [
    "7. A process that exhibits variation mostly due to tooling manufacture, life and repair would likely have what source of process dominance?"
   ]
  },
  {
   "cell_type": "markdown",
   "id": "a2ee55f8",
   "metadata": {},
   "source": [
    "Answer: Tooling"
   ]
  },
  {
   "cell_type": "markdown",
   "id": "78353f8a",
   "metadata": {},
   "source": [
    "8. True or False: Random variation of the plotted statistics on a control chart, within prescribed limits, will indicate that the process is stable."
   ]
  },
  {
   "cell_type": "markdown",
   "id": "5c3d5404",
   "metadata": {},
   "source": [
    "Answer: True"
   ]
  },
  {
   "cell_type": "markdown",
   "id": "5bbe3938",
   "metadata": {},
   "source": [
    "9. When should we react to a control chart? Select all that apply."
   ]
  },
  {
   "cell_type": "markdown",
   "id": "aa95129d",
   "metadata": {},
   "source": [
    "Answer: \n",
    "- When the process has special cause and common cause variation\n",
    "- When nonrandom or excessive variation indicate that a change might have occurred"
   ]
  },
  {
   "cell_type": "markdown",
   "id": "23cc16d9",
   "metadata": {},
   "source": [
    "10. True or False: Control charts have upper and lower limits referred to as specification limits that reflect the range of expected variation of the statistic being plotted."
   ]
  },
  {
   "cell_type": "markdown",
   "id": "26044f1c",
   "metadata": {},
   "source": [
    "Answer: False"
   ]
  },
  {
   "cell_type": "markdown",
   "id": "404297f7",
   "metadata": {},
   "source": [
    "11. True or False: A sample size must be calculated and selected prior to creating a control chart."
   ]
  },
  {
   "cell_type": "markdown",
   "id": "a5b20722",
   "metadata": {},
   "source": [
    "Answer: True"
   ]
  },
  {
   "cell_type": "markdown",
   "id": "73ee2268",
   "metadata": {},
   "source": [
    "12. True or False: An X-bar and R chart uses a single chart to measure both location and dispersion through time."
   ]
  },
  {
   "cell_type": "markdown",
   "id": "b40fe43f",
   "metadata": {},
   "source": [
    "Answer: False"
   ]
  },
  {
   "cell_type": "markdown",
   "id": "22abdfe9",
   "metadata": {},
   "source": [
    "13. Which of the following functions in lolcat can be used to transpose the data from dependent to independent format?"
   ]
  },
  {
   "cell_type": "markdown",
   "id": "095e8867",
   "metadata": {},
   "source": [
    "Answer: "
   ]
  }
 ],
 "metadata": {
  "kernelspec": {
   "display_name": "Python 3 (ipykernel)",
   "language": "python",
   "name": "python3"
  },
  "language_info": {
   "codemirror_mode": {
    "name": "ipython",
    "version": 3
   },
   "file_extension": ".py",
   "mimetype": "text/x-python",
   "name": "python",
   "nbconvert_exporter": "python",
   "pygments_lexer": "ipython3",
   "version": "3.9.12"
  }
 },
 "nbformat": 4,
 "nbformat_minor": 5
}
