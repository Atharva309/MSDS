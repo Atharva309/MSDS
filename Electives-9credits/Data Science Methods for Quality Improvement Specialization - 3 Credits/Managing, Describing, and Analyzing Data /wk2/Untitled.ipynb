{
 "cells": [
  {
   "cell_type": "code",
   "execution_count": 1,
   "id": "0a666c4e-166d-466e-9759-1a03fed57668",
   "metadata": {},
   "outputs": [
    {
     "data": {
      "text/plain": [
       "0.988"
      ]
     },
     "execution_count": 1,
     "metadata": {},
     "output_type": "execute_result"
    }
   ],
   "source": [
    "import numpy as np\n",
    "\n",
    "# Data arrays for height and weight\n",
    "heights = [\n",
    "    177.83, 176.29, 181.30, 180.22, 176.49, 175.17, 180.57, 178.89, 174.30, 167.27,\n",
    "    180.96, 172.04, 174.43, 174.23, 177.50, 164.99, 176.94, 177.55, 174.22, 171.12,\n",
    "    184.63, 171.14, 185.75, 170.22, 170.86, 176.19, 177.71, 171.31, 176.59, 181.00,\n",
    "    175.00, 175.44, 183.24, 175.70, 181.90, 175.76, 174.61, 179.37, 183.63, 167.25,\n",
    "    174.52, 177.28, 185.09, 174.65, 171.08, 168.27, 168.71, 166.40, 170.87, 166.25\n",
    "]\n",
    "weights = [\n",
    "    88.37, 88.04, 90.91, 90.01, 88.38, 87.64, 91.07, 88.87, 86.70, 83.58,\n",
    "    90.11, 86.17, 86.48, 86.76, 89.20, 81.94, 88.43, 88.87, 86.96, 85.38,\n",
    "    91.89, 85.89, 93.10, 85.07, 85.19, 87.89, 88.98, 85.48, 88.51, 90.95,\n",
    "    87.79, 88.20, 91.51, 87.63, 90.27, 87.42, 87.29, 89.45, 91.80, 84.16,\n",
    "    88.11, 89.07, 93.04, 87.88, 84.57, 83.73, 83.86, 83.80, 85.56, 82.90\n",
    "]\n",
    "\n",
    "# Calculate Pearson correlation coefficient\n",
    "correlation_coefficient = np.corrcoef(heights, weights)[0, 1]\n",
    "\n",
    "# Print the rounded correlation coefficient\n",
    "round(correlation_coefficient, 3)\n"
   ]
  },
  {
   "cell_type": "code",
   "execution_count": null,
   "id": "43489791-e9dd-417f-86eb-1933a9d64084",
   "metadata": {},
   "outputs": [],
   "source": []
  }
 ],
 "metadata": {
  "kernelspec": {
   "display_name": "Python 3 (ipykernel)",
   "language": "python",
   "name": "python3"
  },
  "language_info": {
   "codemirror_mode": {
    "name": "ipython",
    "version": 3
   },
   "file_extension": ".py",
   "mimetype": "text/x-python",
   "name": "python",
   "nbconvert_exporter": "python",
   "pygments_lexer": "ipython3",
   "version": "3.8.18"
  }
 },
 "nbformat": 4,
 "nbformat_minor": 5
}
