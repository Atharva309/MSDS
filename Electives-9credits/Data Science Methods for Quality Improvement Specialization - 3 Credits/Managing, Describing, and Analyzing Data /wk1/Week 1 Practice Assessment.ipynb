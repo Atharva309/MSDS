{
 "cells": [
  {
   "cell_type": "markdown",
   "id": "df30cddf",
   "metadata": {},
   "source": [
    "1. Question 1\n",
    "\n",
    "You are a Senior Statistical Consultant for the Consumer Protection Agency. One of the areas that the Agency is currently most concerned about is Commercial Airline Service to the public, particularly considering the recent mergers throughout the sector. Recently, a popular airline went into bankruptcy protection, and Tesla is attempting to buy the troubled airline.\n",
    "\n",
    "At this point, it looks like this purchase is likely, although your agency and the associated airline unions oppose the sale to Tesla. While you cannot stop the sale, your Agency management Lead Team would like to be able to provide ‘Before- and-After’ data in the future to show the results of the sale (good or bad). You have advised them that to do so, you need to gather data now, before the sale takes place, to establish the airline’s ‘baseline’ performance. They have agreed to let you do so, but only if you don’t spend a lot of time and money acquiring the information.\n",
    "\n",
    "The result of this provision is that you have decided to select random samples of performance-related data to assess the airline’s performance over the last 5 years. As a result, the tens of thousands of flights, hundreds of days, and millions of passenger experiences which make up the performance population may be considered to be relatively infinite. Your sample data represent random samples of measures from this population.\n",
    "\n",
    "You have determined that there are four key measures of performance that you need to evaluate to assess the airline’s performance:\n",
    "\n",
    "    Ticket Prices Between Major Hubs Flown.\n",
    "\n",
    "    Number of Cancelled Flights per 500 Flights on Selected (Main) Routes per Day.\n",
    "\n",
    "    Randomly Sampled Baggage Delivery Time (at the Luggage Carousel) at 5 Main Hubs. This value is calculated as the number of minutes it takes for a randomly selected passenger to get their first bag, starting from 15 minutes after they arrive at the carousel. A ‘20’, therefore, represents a 35 minute total waiting time at the Carousel.\n",
    "\n",
    "    Number of Lost Bags per group of 100 Passengers\n",
    "\n",
    "You have been provided with a data file in named airline.dat that contains data for these four measures in four columns:\n",
    "\n",
    "    Price (for a random sample of n = 5400 tickets)\n",
    "\n",
    "    Number_Cancelled_per_Day_per_500 (for a random sample of n = 450 days)\n",
    "\n",
    "    Bag_Delivery_Time (for a random sample of n = 75 passengers)\n",
    "\n",
    "    #_Lost_Bags (for n = 50 groups of 100 passengers each) which match the description of the data provided above.\n",
    "\n",
    "Using RStudio, answer the following questions.\n",
    "\n",
    "For the data associated with Ticket Price: As specifically as possible, what kind of data does this variable represent? Choose your answer from the list below."
   ]
  },
  {
   "cell_type": "markdown",
   "id": "fa68a7c9",
   "metadata": {},
   "source": []
  },
  {
   "cell_type": "markdown",
   "id": "3ce97816",
   "metadata": {},
   "source": [
    "2. Question 2\n",
    "\n",
    "You are a Senior Statistical Consultant for the Consumer Protection Agency. One of the areas that the Agency is currently most concerned about is Commercial Airline Service to the public, particularly considering the recent mergers throughout the sector. Recently, a popular airline went into bankruptcy protection, and Tesla is attempting to buy the troubled airline.\n",
    "\n",
    "At this point, it looks like this purchase is likely, although your agency and the associated airline unions oppose the sale to Tesla. While you cannot stop the sale, your Agency management Lead Team would like to be able to provide ‘Before- and-After’ data in the future to show the results of the sale (good or bad). You have advised them that to do so, you need to gather data now, before the sale takes place, to establish the airline’s ‘baseline’ performance. They have agreed to let you do so, but only if you don’t spend a lot of time and money acquiring the information.\n",
    "\n",
    "The result of this provision is that you have decided to select random samples of performance-related data to assess the airline’s performance over the last 5 years. As a result, the tens of thousands of flights, hundreds of days, and millions of passenger experiences which make up the performance population may be considered to be relatively infinite. Your sample data represent random samples of measures from this population.\n",
    "\n",
    "You have determined that there are four key measures of performance that you need to evaluate to assess the airline’s performance:\n",
    "\n",
    "    Ticket Prices Between Major Hubs Flown.\n",
    "\n",
    "    Number of Cancelled Flights per 500 Flights on Selected (Main) Routes per Day.\n",
    "\n",
    "    Randomly Sampled Baggage Delivery Time (at the Luggage Carousel) at 5 Main Hubs. This value is calculated as the number of minutes it takes for a randomly selected passenger to get their first bag, starting from 15 minutes after they arrive at the carousel. A ‘20’, therefore, represents a 35 minute total waiting time at the Carousel.\n",
    "\n",
    "    Number of Lost Bags per group of 100 Passengers\n",
    "\n",
    "You have been provided with a data file in named airline.dat that contains data for these four measures in four columns:\n",
    "\n",
    "    Price (for a random sample of n = 5400 tickets)\n",
    "\n",
    "    Number_Cancelled_per_Day_per_500 (for a random sample of n = 450 days)\n",
    "\n",
    "    Bag_Delivery_Time (for a random sample of n = 75 passengers)\n",
    "\n",
    "    #_Lost_Bags (for n = 50 groups of 100 passengers each) which match the description of the data provided above.\n",
    "\n",
    "Using RStudio, answer the following questions.\n",
    "\n",
    "For the data associated with Number of Cancelled Flights per Day per 500: As specifically as possible, what kind of data does this variable represent? Choose your answer from the list below."
   ]
  },
  {
   "cell_type": "markdown",
   "id": "15aa21c0",
   "metadata": {},
   "source": [
    "## Answer: Discrete – Ordinal – Count (Absolute)"
   ]
  },
  {
   "cell_type": "markdown",
   "id": "fa24c145",
   "metadata": {},
   "source": [
    "3. Question 3\n",
    "\n",
    "You are a Senior Statistical Consultant for the Consumer Protection Agency. One of the areas that the Agency is currently most concerned about is Commercial Airline Service to the public, particularly considering the recent mergers throughout the sector. Recently, a popular airline went into bankruptcy protection, and Tesla is attempting to buy the troubled airline.\n",
    "\n",
    "At this point, it looks like this purchase is likely, although your agency and the associated airline unions oppose the sale to Tesla. While you cannot stop the sale, your Agency management Lead Team would like to be able to provide ‘Before- and-After’ data in the future to show the results of the sale (good or bad). You have advised them that to do so, you need to gather data now, before the sale takes place, to establish the airline’s ‘baseline’ performance. They have agreed to let you do so, but only if you don’t spend a lot of time and money acquiring the information.\n",
    "\n",
    "The result of this provision is that you have decided to select random samples of performance-related data to assess the airline’s performance over the last 5 years. As a result, the tens of thousands of flights, hundreds of days, and millions of passenger experiences which make up the performance population may be considered to be relatively infinite. Your sample data represent random samples of measures from this population.\n",
    "\n",
    "You have determined that there are four key measures of performance that you need to evaluate to assess the airline’s performance:\n",
    "\n",
    "    Ticket Prices Between Major Hubs Flown.\n",
    "\n",
    "    Number of Cancelled Flights per 500 Flights on Selected (Main) Routes per Day.\n",
    "\n",
    "    Randomly Sampled Baggage Delivery Time (at the Luggage Carousel) at 5 Main Hubs. This value is calculated as the number of minutes it takes for a randomly selected passenger to get their first bag, starting from 15 minutes after they arrive at the carousel. A ‘20’, therefore, represents a 35 minute total waiting time at the Carousel.\n",
    "\n",
    "    Number of Lost Bags per group of 100 Passengers\n",
    "\n",
    "You have been provided with a data file in named airline.dat that contains data for these four measures in four columns:\n",
    "\n",
    "    Price (for a random sample of n = 5400 tickets)\n",
    "\n",
    "    Number_Cancelled_per_Day_per_500 (for a random sample of n = 450 days)\n",
    "\n",
    "    Bag_Delivery_Time (for a random sample of n = 75 passengers)\n",
    "\n",
    "    #_Lost_Bags (for n = 50 groups of 100 passengers each) which match the description of the data provided above.\n",
    "\n",
    "Using RStudio, answer the following questions.\n",
    "\n",
    "For the data associated with Baggage Delivery Time at the Carousel: As specifically as possible, what kind of data does this variable represent? Choose your answer from the list below."
   ]
  },
  {
   "cell_type": "markdown",
   "id": "fa8f6e42",
   "metadata": {},
   "source": [
    "### Answer:  Continuous – Ratio"
   ]
  },
  {
   "cell_type": "markdown",
   "id": "cd8d5004",
   "metadata": {},
   "source": [
    "4. Question 4\n",
    "\n",
    "You are a Senior Statistical Consultant for the Consumer Protection Agency. One of the areas that the Agency is currently most concerned about is Commercial Airline Service to the public, particularly considering the recent mergers throughout the sector. Recently, a popular airline went into bankruptcy protection, and Tesla is attempting to buy the troubled airline.\n",
    "\n",
    "At this point, it looks like this purchase is likely, although your agency and the associated airline unions oppose the sale to Tesla. While you cannot stop the sale, your Agency management Lead Team would like to be able to provide ‘Before- and-After’ data in the future to show the results of the sale (good or bad). You have advised them that to do so, you need to gather data now, before the sale takes place, to establish the airline’s ‘baseline’ performance. They have agreed to let you do so, but only if you don’t spend a lot of time and money acquiring the information.\n",
    "\n",
    "The result of this provision is that you have decided to select random samples of performance-related data to assess the airline’s performance over the last 5 years. As a result, the tens of thousands of flights, hundreds of days, and millions of passenger experiences which make up the performance population may be considered to be relatively infinite. Your sample data represent random samples of measures from this population.\n",
    "\n",
    "You have determined that there are four key measures of performance that you need to evaluate to assess the airline’s performance:\n",
    "\n",
    "    Ticket Prices Between Major Hubs Flown.\n",
    "\n",
    "    Number of Cancelled Flights per 500 Flights on Selected (Main) Routes per Day.\n",
    "\n",
    "    Randomly Sampled Baggage Delivery Time (at the Luggage Carousel) at 5 Main Hubs. This value is calculated as the number of minutes it takes for a randomly selected passenger to get their first bag, starting from 15 minutes after they arrive at the carousel. A ‘20’, therefore, represents a 35 minute total waiting time at the Carousel.\n",
    "\n",
    "    Number of Lost Bags per group of 100 Passengers\n",
    "\n",
    "You have been provided with a data file in named airline.dat that contains data for these four measures in four columns:\n",
    "\n",
    "    Price (for a random sample of n = 5400 tickets)\n",
    "\n",
    "    Number_Cancelled_per_Day_per_500 (for a random sample of n = 450 days)\n",
    "\n",
    "    Bag_Delivery_Time (for a random sample of n = 75 passengers)\n",
    "\n",
    "    #_Lost_Bags (for n = 50 groups of 100 passengers each) which match the description of the data provided above.\n",
    "\n",
    "Using RStudio, answer the following questions.\n",
    "\n",
    "For the data associated with Number Lost Bags per 100 Passengers: As specifically as possible, what kind of data does this variable represent? Choose your answer from the list below."
   ]
  },
  {
   "cell_type": "markdown",
   "id": "fb6cc6e5",
   "metadata": {},
   "source": []
  }
 ],
 "metadata": {
  "kernelspec": {
   "display_name": "Python 3 (ipykernel)",
   "language": "python",
   "name": "python3"
  },
  "language_info": {
   "codemirror_mode": {
    "name": "ipython",
    "version": 3
   },
   "file_extension": ".py",
   "mimetype": "text/x-python",
   "name": "python",
   "nbconvert_exporter": "python",
   "pygments_lexer": "ipython3",
   "version": "3.9.12"
  }
 },
 "nbformat": 4,
 "nbformat_minor": 5
}
