{
 "cells": [
  {
   "cell_type": "markdown",
   "id": "d038e5d9",
   "metadata": {},
   "source": [
    "1. Measurement and data are the same."
   ]
  },
  {
   "cell_type": "markdown",
   "id": "3a6f2dac",
   "metadata": {},
   "source": [
    "Answer: False"
   ]
  },
  {
   "cell_type": "markdown",
   "id": "cdbefb25",
   "metadata": {},
   "source": [
    "2. Qualitative data typically refers to items or units we count."
   ]
  },
  {
   "cell_type": "markdown",
   "id": "5ee7e5f5",
   "metadata": {},
   "source": [
    "Answer: False"
   ]
  },
  {
   "cell_type": "markdown",
   "id": "e6a40f68",
   "metadata": {},
   "source": [
    "3. With ordinal data, the magnitude of ordered values always represent uniform differences."
   ]
  },
  {
   "cell_type": "markdown",
   "id": "e8d914be",
   "metadata": {},
   "source": [
    "Answer: False"
   ]
  },
  {
   "cell_type": "markdown",
   "id": "776ae005",
   "metadata": {},
   "source": [
    "4. With ratio data, a value of zero represents the absence of the measured characteristic."
   ]
  },
  {
   "cell_type": "markdown",
   "id": "1acfcb3b",
   "metadata": {},
   "source": [
    "Answer: True"
   ]
  },
  {
   "cell_type": "markdown",
   "id": "8d109e3a",
   "metadata": {},
   "source": [
    "5. For the underlying property and associated measurement given, select the appropriate measurement scale.\n",
    "\n",
    "- Underlying property: Switch position\n",
    "\n",
    "- Associated Measurement: On / Off\n",
    "\n",
    "- Measurement Scale?"
   ]
  },
  {
   "cell_type": "markdown",
   "id": "7b0c7f2e",
   "metadata": {},
   "source": [
    "Answer: Nominal"
   ]
  },
  {
   "cell_type": "markdown",
   "id": "e7a05aa0",
   "metadata": {},
   "source": [
    "6. For the underlying property and associated measurement given, select the appropriate measurement scale.\n",
    "\n",
    "- Underlying property: Body temperature\n",
    "\n",
    "- Associated Measurement: Degrees Centigrade\n",
    "\n",
    "- Measurement Scale?"
   ]
  },
  {
   "cell_type": "markdown",
   "id": "347dcef8",
   "metadata": {},
   "source": [
    "Answer: Interval"
   ]
  },
  {
   "cell_type": "markdown",
   "id": "1af1cb18",
   "metadata": {},
   "source": [
    "7. For the underlying property and associated measurement given, select the appropriate measurement scale.\n",
    "\n",
    "- Underlying property: Number of rainy days\n",
    "\n",
    "- Associated Measurement: Annual number of rainy days\n",
    "\n",
    "- Measurement Scale?"
   ]
  },
  {
   "cell_type": "markdown",
   "id": "8f8a7496",
   "metadata": {},
   "source": [
    "Answer:"
   ]
  },
  {
   "cell_type": "markdown",
   "id": "d1e3357c",
   "metadata": {},
   "source": [
    "8. For the underlying property and associated measurement given, select the appropriate measurement scale. \n",
    "\n",
    "- Underlying property: Customer satisfaction\n",
    "\n",
    "- Associated Measurement: Rating Scale (very dissatisfied,  dissatisfied, neither satisfied nor dissatisfied, satisfied, very satisfied)\n",
    "\n",
    "- Measurement Scale?"
   ]
  },
  {
   "cell_type": "markdown",
   "id": "bedeadc8",
   "metadata": {},
   "source": [
    "Answer:"
   ]
  },
  {
   "cell_type": "markdown",
   "id": "19ce7637",
   "metadata": {},
   "source": [
    "9. For the underlying property and associated measurement given, select the appropriate measurement scale. \n",
    "\n",
    "- Underlying property: Can strength\n",
    "\n",
    "- Associated Measurement: Axial load (in psi)\n",
    "\n",
    "- Measurement Scale?"
   ]
  },
  {
   "cell_type": "markdown",
   "id": "4cf136a9",
   "metadata": {},
   "source": [
    "Answer:"
   ]
  },
  {
   "cell_type": "markdown",
   "id": "1a6774f8",
   "metadata": {},
   "source": [
    "10. Which of the following symbols is the assignment operator in R?"
   ]
  },
  {
   "cell_type": "markdown",
   "id": "52ecd015",
   "metadata": {},
   "source": [
    "Answer: <-"
   ]
  }
 ],
 "metadata": {
  "kernelspec": {
   "display_name": "Python 3 (ipykernel)",
   "language": "python",
   "name": "python3"
  },
  "language_info": {
   "codemirror_mode": {
    "name": "ipython",
    "version": 3
   },
   "file_extension": ".py",
   "mimetype": "text/x-python",
   "name": "python",
   "nbconvert_exporter": "python",
   "pygments_lexer": "ipython3",
   "version": "3.9.12"
  }
 },
 "nbformat": 4,
 "nbformat_minor": 5
}
