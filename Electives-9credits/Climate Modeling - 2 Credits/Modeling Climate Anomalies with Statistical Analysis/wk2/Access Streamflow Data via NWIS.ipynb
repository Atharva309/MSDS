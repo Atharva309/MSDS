{
 "cells": [
  {
   "cell_type": "markdown",
   "id": "87cd46f7-d87e-4404-951e-1f1c3625b593",
   "metadata": {},
   "source": [
    "1. What was your calculated mean of streamflow data for March 2024?\n",
    "\n",
    "- Answer: 213"
   ]
  },
  {
   "cell_type": "code",
   "execution_count": null,
   "id": "7dcaaa7c-6e9b-4c68-a4dd-c9449b3653f4",
   "metadata": {},
   "outputs": [],
   "source": []
  }
 ],
 "metadata": {
  "kernelspec": {
   "display_name": "Python 3 (ipykernel)",
   "language": "python",
   "name": "python3"
  },
  "language_info": {
   "codemirror_mode": {
    "name": "ipython",
    "version": 3
   },
   "file_extension": ".py",
   "mimetype": "text/x-python",
   "name": "python",
   "nbconvert_exporter": "python",
   "pygments_lexer": "ipython3",
   "version": "3.8.18"
  }
 },
 "nbformat": 4,
 "nbformat_minor": 5
}
