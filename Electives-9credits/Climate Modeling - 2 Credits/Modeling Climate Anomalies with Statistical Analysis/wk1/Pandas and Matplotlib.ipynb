{
 "cells": [
  {
   "cell_type": "markdown",
   "id": "7fed49ab-5e21-419e-9aec-5dbb09e1f4d0",
   "metadata": {},
   "source": [
    "1. \n",
    "**Question:** What is the primary data structure used in Pandas for handling tabular data?  \n",
    "**Answer:** DataFrame\n",
    "\n",
    "2. \n",
    "**Question:** How do you read a CSV file into a Pandas DataFrame?  \n",
    "**Answer:** pd.read_csv('file.csv')\n",
    "\n",
    "3. \n",
    "**Question:** Which function in Pandas is used to compute the mean of a column?  \n",
    "**Answer:** mean()\n",
    "\n",
    "4. \n",
    "**Question:** How do you create a bar plot using Matplotlib?  \n",
    "**Answer:** plt.bar()\n",
    "\n",
    "5. \n",
    "**Question:** Which of the following is used to add a title to a Matplotlib plot?  \n",
    "**Answer:** plt.title()\n",
    "\n",
    "6. \n",
    "**Question:** In Pandas, how do you select rows based on a condition?  \n",
    "**Answer:** df.loc[df['column'] > value]\n",
    "\n",
    "7. \n",
    "**Question:** What function is used in Matplotlib to display a plot?  \n",
    "**Answer:** plt.show()\n",
    "\n",
    "8. \n",
    "**Question:** How can you group data by a specific column in Pandas?  \n",
    "**Answer:** df.groupby('column')\n",
    "\n",
    "9. \n",
    "**Question:** Which method is used to save a DataFrame to a CSV file in Pandas?  \n",
    "**Answer:** df.to_csv('file.csv')\n",
    "\n",
    "10. \n",
    "**Question:** What function in Matplotlib is used to create a histogram?  \n",
    "**Answer:** plt.hist()\n",
    "\n",
    "11. \n",
    "**Question:** How do you check for missing values in a Pandas DataFrame?  \n",
    "**Answer:** Both A and B (df.isna() and df.isnull())\n",
    "\n",
    "12. \n",
    "**Question:** What function is used to merge two DataFrames in Pandas?  \n",
    "**Answer:** pd.merge()\n",
    "\n",
    "13. \n",
    "**Question:** Which method is used to create a scatter plot in Matplotlib?  \n",
    "**Answer:** plt.scatter()\n",
    "\n",
    "14. \n",
    "**Question:** How do you change the index of a DataFrame to a specific column?  \n",
    "**Answer:** df.set_index('column')\n",
    "\n",
    "15. \n",
    "**Question:** Which method in Pandas is used to calculate the standard deviation of a DataFrame column?  \n",
    "**Answer:** df.std()\n"
   ]
  },
  {
   "cell_type": "code",
   "execution_count": null,
   "id": "4ff8b733-9e50-4127-975c-35128be81c8b",
   "metadata": {},
   "outputs": [],
   "source": []
  }
 ],
 "metadata": {
  "kernelspec": {
   "display_name": "Python 3 (ipykernel)",
   "language": "python",
   "name": "python3"
  },
  "language_info": {
   "codemirror_mode": {
    "name": "ipython",
    "version": 3
   },
   "file_extension": ".py",
   "mimetype": "text/x-python",
   "name": "python",
   "nbconvert_exporter": "python",
   "pygments_lexer": "ipython3",
   "version": "3.8.18"
  }
 },
 "nbformat": 4,
 "nbformat_minor": 5
}
