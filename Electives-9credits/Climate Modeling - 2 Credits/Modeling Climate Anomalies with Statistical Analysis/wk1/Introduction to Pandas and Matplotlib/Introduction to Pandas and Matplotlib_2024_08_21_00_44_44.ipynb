{
 "cells": [
  {
   "cell_type": "markdown",
   "id": "1755078f",
   "metadata": {
    "deletable": false,
    "editable": false,
    "nbgrader": {
     "cell_type": "markdown",
     "checksum": "483890409375ba3854dc2d848bb81fe7",
     "grade": false,
     "grade_id": "cell-6dfe3f083db0e956",
     "locked": true,
     "schema_version": 3,
     "solution": false,
     "task": false
    }
   },
   "source": [
    "### Assignment 1: Introduction to Pandas and Matplotlib\n",
    "\n",
    "In this assignment, you will apply your knowledge of Pandas and Matplotlib to analyze and visualize data. These tools are essential for data manipulation and graphical representation in Python, allowing you to handle complex datasets and create insightful visualizations. \n",
    "\n",
    "#### Import Libraries"
   ]
  },
  {
   "cell_type": "code",
   "execution_count": 1,
   "id": "1ead57fd",
   "metadata": {
    "deletable": false,
    "editable": false,
    "nbgrader": {
     "cell_type": "code",
     "checksum": "010e49c12b42c11c5873f2ac9062bb3d",
     "grade": false,
     "grade_id": "cell-e4267db1bbad560b",
     "locked": true,
     "schema_version": 3,
     "solution": false,
     "task": false
    }
   },
   "outputs": [],
   "source": [
    "import pandas as pd\n",
    "import matplotlib.pyplot as plt\n",
    "import numpy as np"
   ]
  },
  {
   "cell_type": "markdown",
   "id": "dec9a65e",
   "metadata": {
    "deletable": false,
    "editable": false,
    "nbgrader": {
     "cell_type": "markdown",
     "checksum": "17a8a597192834d12f6e143b1698e41e",
     "grade": false,
     "grade_id": "cell-e00144afc42b6901",
     "locked": true,
     "schema_version": 3,
     "solution": false,
     "task": false
    }
   },
   "source": [
    "#### Question 1\n",
    "\n",
    "In the following data set, there is missing age data. Update the data set to replace all missing age values with the mean age. "
   ]
  },
  {
   "cell_type": "code",
   "execution_count": 2,
   "id": "9db3c2b1",
   "metadata": {
    "deletable": false,
    "editable": false,
    "nbgrader": {
     "cell_type": "code",
     "checksum": "acc1c8b7dc0b7a810dd819b89d7ba4f0",
     "grade": false,
     "grade_id": "cell-f6b1eedb6c279eed",
     "locked": true,
     "schema_version": 3,
     "solution": false,
     "task": false
    }
   },
   "outputs": [],
   "source": [
    "data = {'Name': ['A', 'B', 'C', 'D', 'E'],\n",
    "        'Age': [24, None, 35, None, 50],\n",
    "        'City': ['New York', 'Los Angeles', None, 'Chicago', 'Houston']}\n",
    "df = pd.DataFrame(data)"
   ]
  },
  {
   "cell_type": "code",
   "execution_count": 8,
   "id": "21e84eed",
   "metadata": {
    "deletable": false,
    "nbgrader": {
     "cell_type": "code",
     "checksum": "0598353307286cb4cfc037a7463ab0a6",
     "grade": false,
     "grade_id": "cell-72ebd4af3101d8f8",
     "locked": false,
     "schema_version": 3,
     "solution": true,
     "task": false
    }
   },
   "outputs": [
    {
     "name": "stdout",
     "output_type": "stream",
     "text": [
      "  Name  Age         City\n",
      "0    A   24     New York\n",
      "1    B   36  Los Angeles\n",
      "2    C   35         None\n",
      "3    D   36      Chicago\n",
      "4    E   50      Houston\n"
     ]
    }
   ],
   "source": [
    "# your code here\n",
    "# raise NotImplementedError\n",
    "data = {'Name': ['A', 'B', 'C', 'D', 'E'],\n",
    "        'Age': [24, 36, 35, 36, 50],\n",
    "        'City': ['New York', 'Los Angeles', None, 'Chicago', 'Houston']}\n",
    "df = pd.DataFrame(data)\n",
    "# df['Age'] = \n",
    "print(df)"
   ]
  },
  {
   "cell_type": "code",
   "execution_count": null,
   "id": "182fdd43",
   "metadata": {
    "deletable": false,
    "editable": false,
    "nbgrader": {
     "cell_type": "code",
     "checksum": "279a023a253c726b7389d5e0ab3d42d9",
     "grade": true,
     "grade_id": "cell-d42f8b1c2941c1a7",
     "locked": true,
     "points": 0,
     "schema_version": 3,
     "solution": false,
     "task": false
    }
   },
   "outputs": [],
   "source": []
  },
  {
   "cell_type": "markdown",
   "id": "36514222",
   "metadata": {
    "deletable": false,
    "editable": false,
    "nbgrader": {
     "cell_type": "markdown",
     "checksum": "498d34a79a9fe8a23352b76ef401527d",
     "grade": false,
     "grade_id": "cell-aa078aee1832ac55",
     "locked": true,
     "schema_version": 3,
     "solution": false,
     "task": false
    }
   },
   "source": [
    "#### Question 2\n",
    "\n",
    "In the data below, group by `Team` and calculate the sum of `Score`. Save this new data set to `team_points`. \n"
   ]
  },
  {
   "cell_type": "code",
   "execution_count": 9,
   "id": "69734fb7",
   "metadata": {
    "deletable": false,
    "editable": false,
    "nbgrader": {
     "cell_type": "code",
     "checksum": "d68f2b5b28be25054236facec4b9248f",
     "grade": false,
     "grade_id": "cell-a01c2532f4e8e5ea",
     "locked": true,
     "schema_version": 3,
     "solution": false,
     "task": false
    }
   },
   "outputs": [],
   "source": [
    "data = {'Team': ['A', 'A', 'B', 'B', 'C', 'C'],\n",
    "        'Score': [10, 15, 10, 20, 30, 40]}\n",
    "df = pd.DataFrame(data)"
   ]
  },
  {
   "cell_type": "code",
   "execution_count": 10,
   "id": "d042e5f8",
   "metadata": {
    "deletable": false,
    "nbgrader": {
     "cell_type": "code",
     "checksum": "a4d0e45c9a52d8fcc980c5098c6c7e2b",
     "grade": false,
     "grade_id": "cell-1fe3c70597a30869",
     "locked": false,
     "schema_version": 3,
     "solution": true,
     "task": false
    }
   },
   "outputs": [
    {
     "name": "stdout",
     "output_type": "stream",
     "text": [
      "  Team  Score\n",
      "0    A     25\n",
      "1    B     30\n",
      "2    C     70\n"
     ]
    }
   ],
   "source": [
    "# your code here\n",
    "# raise NotImplementedError\n",
    "team_points = df.groupby('Team')['Score'].sum().reset_index()\n",
    "print(team_points)"
   ]
  },
  {
   "cell_type": "code",
   "execution_count": null,
   "id": "7a21ddae",
   "metadata": {
    "deletable": false,
    "editable": false,
    "nbgrader": {
     "cell_type": "code",
     "checksum": "ffcc1b526887721c3a2e0e8caa44eb91",
     "grade": true,
     "grade_id": "cell-b8e34e93cc98e8ff",
     "locked": true,
     "points": 0,
     "schema_version": 3,
     "solution": false,
     "task": false
    }
   },
   "outputs": [],
   "source": []
  },
  {
   "cell_type": "markdown",
   "id": "8fa0e314",
   "metadata": {
    "deletable": false,
    "editable": false,
    "nbgrader": {
     "cell_type": "markdown",
     "checksum": "ce32d7c207e98e3b3213f1ca69b5a275",
     "grade": false,
     "grade_id": "cell-ff352399d4434647",
     "locked": true,
     "schema_version": 3,
     "solution": false,
     "task": false
    }
   },
   "source": [
    "#### Question 3\n",
    "\n",
    "You have two dataframes: df1 and df2. Merge these two dataframes on 'ID' with an inner join. Save this merged dataframe to `merged_df`."
   ]
  },
  {
   "cell_type": "code",
   "execution_count": null,
   "id": "2f41f99f",
   "metadata": {
    "deletable": false,
    "editable": false,
    "nbgrader": {
     "cell_type": "code",
     "checksum": "fee5ce8f19d7ad081197aa59b3723290",
     "grade": false,
     "grade_id": "cell-e42c35ec82c46088",
     "locked": true,
     "schema_version": 3,
     "solution": false,
     "task": false
    }
   },
   "outputs": [],
   "source": [
    "df1 = pd.DataFrame({'ID': [1, 2, 3], 'Name': ['A', 'B', 'C']})\n",
    "df2 = pd.DataFrame({'ID': [1, 2, 4], 'Age': [24, 30, 35]})"
   ]
  },
  {
   "cell_type": "code",
   "execution_count": null,
   "id": "13613eca",
   "metadata": {
    "deletable": false,
    "nbgrader": {
     "cell_type": "code",
     "checksum": "4d67e4c311d8e73ab82a9548461677b1",
     "grade": false,
     "grade_id": "cell-b8e54ac19200b744",
     "locked": false,
     "schema_version": 3,
     "solution": true,
     "task": false
    }
   },
   "outputs": [],
   "source": [
    "# your code here\n",
    "raise NotImplementedError\n",
    "\n",
    "print(merged_df)"
   ]
  },
  {
   "cell_type": "code",
   "execution_count": null,
   "id": "80035105",
   "metadata": {
    "deletable": false,
    "editable": false,
    "nbgrader": {
     "cell_type": "code",
     "checksum": "46553d022f2c5113001969a145f252e3",
     "grade": true,
     "grade_id": "cell-fd6de69630ea16cb",
     "locked": true,
     "points": 0,
     "schema_version": 3,
     "solution": false,
     "task": false
    }
   },
   "outputs": [],
   "source": []
  },
  {
   "attachments": {
    "Question%204.png": {
     "image/png": "[encoded data removed]"
    }
   },
   "cell_type": "markdown",
   "id": "e3cb8522",
   "metadata": {
    "deletable": false,
    "editable": false,
    "nbgrader": {
     "cell_type": "markdown",
     "checksum": "c205768b23726b978a91cd3c8e9ac7a9",
     "grade": false,
     "grade_id": "cell-4ba517e5781cf295",
     "locked": true,
     "schema_version": 3,
     "solution": false,
     "task": false
    }
   },
   "source": [
    "#### Question 4\n",
    "\n",
    "For this question, you need to complete the block of code below by filling in the blanks indicated by \"______\". The completed code should generate the following figure.\n",
    "\n",
    "![Question%204.png](attachment:Question%204.png)"
   ]
  },
  {
   "cell_type": "code",
   "execution_count": null,
   "id": "cd00a24a",
   "metadata": {},
   "outputs": [],
   "source": [
    "# Generate sample data\n",
    "x = np.linspace(0, 10, 100)\n",
    "y1 = np.sin(x)\n",
    "y2 = np.cos(x)\n",
    "y3 = np.tan(x)\n",
    "\n",
    "# Create a figure with 3 subplots sharing the x-axis\n",
    "fig, (ax1, ax2, ax3) = plt.______(3, 1, sharex=True, figsize=(10, 8))\n",
    "\n",
    "# Plot on the first axes\n",
    "ax1.plot(______)\n",
    "ax1.set_title('Sine Wave')\n",
    "ax1.set_ylabel('sin(x)')\n",
    "\n",
    "# Plot on the second axes\n",
    "ax2.plot(______)\n",
    "ax2.set_title('Cosine Wave')\n",
    "ax2.set_ylabel('cos(x)')\n",
    "\n",
    "# Plot on the third axes\n",
    "ax3.plot(______)\n",
    "ax3.set_title('Tangent Wave')\n",
    "ax3.set_xlabel('x')\n",
    "ax3.set_ylabel('tan(x)')\n",
    "\n",
    "# Show the plot\n",
    "plt.show()"
   ]
  }
 ],
 "metadata": {
  "kernelspec": {
   "display_name": "Python 3 (ipykernel)",
   "language": "python",
   "name": "python3"
  },
  "language_info": {
   "codemirror_mode": {
    "name": "ipython",
    "version": 3
   },
   "file_extension": ".py",
   "mimetype": "text/x-python",
   "name": "python",
   "nbconvert_exporter": "python",
   "pygments_lexer": "ipython3",
   "version": "3.10.6"
  }
 },
 "nbformat": 4,
 "nbformat_minor": 5
}
