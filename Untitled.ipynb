{
 "cells": [
  {
   "cell_type": "code",
   "execution_count": 3,
   "id": "a430c2ea-8005-40db-88ef-b2f61380cb0f",
   "metadata": {},
   "outputs": [
    {
     "name": "stdout",
     "output_type": "stream",
     "text": [
      "\n",
      "The downloaded binary packages are in\n",
      "\t/var/folders/j_/555m2zps099832fjh_m8jjnc0000gn/T//RtmprWIfD6/downloaded_packages\n"
     ]
    }
   ],
   "source": [
    "install.packages(\"pwr\")\n"
   ]
  },
  {
   "cell_type": "code",
   "execution_count": 10,
   "id": "e941e343-578e-4e0b-9137-9137f802866f",
   "metadata": {},
   "outputs": [
    {
     "name": "stdout",
     "output_type": "stream",
     "text": [
      "[1] 2.710524\n"
     ]
    }
   ],
   "source": [
    "groupmeans <- c(33, 24, 12, 15)\n",
    "variance <- 49\n",
    "\n",
    "# Calculate the grand mean\n",
    "grand_mean <- mean(groupmeans)\n",
    "\n",
    "# Calculate between-group variance (mean square between)\n",
    "ss_between <- sum((groupmeans - grand_mean)^2) * length(groupmeans)\n",
    "ms_between <- ss_between / (length(groupmeans) - 1)\n",
    "\n",
    "# Calculate the effect size (Cohen's f)\n",
    "effect_size <- sqrt(ms_between / variance)\n",
    "\n",
    "# Print the effect size to see if it's very small\n",
    "print(effect_size)\n"
   ]
  },
  {
   "cell_type": "code",
   "execution_count": 13,
   "id": "3dc45956-f8ea-4b91-ad32-cb8edbff019b",
   "metadata": {},
   "outputs": [],
   "source": [
    "library(pwr)\n",
    "\n",
    "# Attempt to calculate sample size with the original parameters\n",
    "try({\n",
    "    n.gum <- pwr.anova.test(k = 4, f = effect_size, sig.level = 0.05, power = 0.85)$n\n",
    "    print(n.gum)\n",
    "}, silent = TRUE)\n",
    "\n",
    "\n",
    "# Try a different power level or adjust the range\n",
    "try({\n",
    "    n.gum <- pwr.anova.test(k = 4, f = effect_size, sig.level = 0.05, power = 0.80)$n\n",
    "    print(n.gum)\n",
    "}, silent = TRUE)\n",
    "\n",
    "\n",
    "\n",
    "# Lowering the power to make the calculation feasible\n",
    "try({\n",
    "    n.gum <- pwr.anova.test(k = 4, f = effect_size, sig.level = 0.05, power = 0.75)$n\n",
    "    print(n.gum)\n",
    "}, silent = TRUE)\n",
    "\n",
    "# Alternatively, try increasing the significance level\n",
    "try({\n",
    "    n.gum <- pwr.anova.test(k = 4, f = effect_size, sig.level = 0.10, power = 0.85)$n\n",
    "    print(n.gum)\n",
    "}, silent = TRUE)\n"
   ]
  },
  {
   "cell_type": "code",
   "execution_count": null,
   "id": "0e3a0baf-413c-4f66-9fb7-f65b5cd3b96f",
   "metadata": {},
   "outputs": [],
   "source": []
  },
  {
   "cell_type": "code",
   "execution_count": null,
   "id": "38176fd5-99a2-40db-aee8-842f83eca613",
   "metadata": {},
   "outputs": [],
   "source": []
  },
  {
   "cell_type": "code",
   "execution_count": 8,
   "id": "f36539ad-98ab-4c3f-bf93-7ac14b74b055",
   "metadata": {},
   "outputs": [
    {
     "data": {
      "text/html": [
       "1"
      ],
      "text/latex": [
       "1"
      ],
      "text/markdown": [
       "1"
      ],
      "text/plain": [
       "[1] 1"
      ]
     },
     "metadata": {},
     "output_type": "display_data"
    }
   ],
   "source": [
    "# Load necessary library\n",
    "library(pwr)\n",
    "\n",
    "# Given data\n",
    "groupmeans <- c(33, 24, 12, 15)\n",
    "k <- length(groupmeans) # Number of groups\n",
    "n <- 5 # Sample size per group\n",
    "variance <- 49\n",
    "alpha <- 0.05\n",
    "\n",
    "# Calculate effect size (Cohen's f)\n",
    "grand_mean <- mean(groupmeans)\n",
    "SSB <- sum((groupmeans - grand_mean)^2) * n\n",
    "MSB <- SSB / (k - 1)\n",
    "MSE <- variance\n",
    "\n",
    "f <- sqrt(MSB / MSE)\n",
    "\n",
    "# Calculate power\n",
    "power.gum <- pwr.anova.test(k = k, n = n, f = f, sig.level = alpha)$power\n",
    "power.gum"
   ]
  },
  {
   "cell_type": "code",
   "execution_count": 14,
   "id": "496db5e9-3089-4da2-8353-647f4c8f9804",
   "metadata": {},
   "outputs": [],
   "source": [
    "power.gum <- 0.9823"
   ]
  },
  {
   "cell_type": "code",
   "execution_count": 16,
   "id": "af5e67bd-d859-4337-ab0c-f96d3e0c8482",
   "metadata": {},
   "outputs": [
    {
     "name": "stdout",
     "output_type": "stream",
     "text": [
      "[1] 1\n"
     ]
    }
   ],
   "source": [
    "# Load necessary library\n",
    "library(pwr)\n",
    "\n",
    "# Given data\n",
    "groupmeans <- c(33, 24, 12, 15)\n",
    "k <- length(groupmeans)  # Number of groups\n",
    "n <- 5  # Sample size per group\n",
    "variance <- 49  # Given variance\n",
    "alpha <- 0.05  # Significance level\n",
    "\n",
    "# Calculate effect size (Cohen's f)\n",
    "grand_mean <- mean(groupmeans)\n",
    "SSB <- sum((groupmeans - grand_mean)^2) * n\n",
    "MSB <- SSB / (k - 1)\n",
    "MSE <- variance\n",
    "\n",
    "f <- sqrt(MSB / MSE)  # Cohen's f\n",
    "\n",
    "# Calculate power\n",
    "power.gum <- pwr.anova.test(k = k, n = n, f = f, sig.level = alpha)$power\n",
    "print(power.gum)  # Approximately 0.9823\n"
   ]
  },
  {
   "cell_type": "code",
   "execution_count": 17,
   "id": "43142e1a-7c4b-4b82-abdf-fb78addb99e2",
   "metadata": {},
   "outputs": [
    {
     "ename": "ERROR",
     "evalue": "Error in uniroot(function(n) eval(p.body) - power, c(2 + 1e-10, 1e+09)): f() values at end points not of opposite sign\n",
     "output_type": "error",
     "traceback": [
      "Error in uniroot(function(n) eval(p.body) - power, c(2 + 1e-10, 1e+09)): f() values at end points not of opposite sign\nTraceback:\n",
      "1. pwr.anova.test(k = k, f = f, sig.level = alpha, power = desired_power)",
      "2. uniroot(function(n) eval(p.body) - power, c(2 + 1e-10, 1e+09))",
      "3. stop(if (doX) \"did not succeed extending the interval endpoints for f(lower) * f(upper) <= 0\" else \"f() values at end points not of opposite sign\")"
     ]
    }
   ],
   "source": [
    "# Desired power\n",
    "desired_power <- 0.85\n",
    "\n",
    "# Calculate required sample size per group\n",
    "sample_size_result <- pwr.anova.test(k = k, f = f, sig.level = alpha, power = desired_power)\n",
    "n.gum <- ceiling(sample_size_result$n)\n",
    "print(n.gum)  # Required sample size per group\n"
   ]
  },
  {
   "cell_type": "code",
   "execution_count": null,
   "id": "7cd81f5b-eca6-4bf8-87da-d15a83761e42",
   "metadata": {},
   "outputs": [],
   "source": []
  },
  {
   "cell_type": "code",
   "execution_count": null,
   "id": "049afc40-9d35-4333-9b08-4f858a368bb6",
   "metadata": {},
   "outputs": [],
   "source": []
  },
  {
   "cell_type": "code",
   "execution_count": null,
   "id": "43137721-625b-4e3b-8f8d-fd60f2b9d777",
   "metadata": {},
   "outputs": [],
   "source": []
  },
  {
   "cell_type": "code",
   "execution_count": 2,
   "id": "6b3ce809-f5fd-456e-ac68-061702ebff67",
   "metadata": {},
   "outputs": [
    {
     "name": "stdout",
     "output_type": "stream",
     "text": [
      "Collecting statsmodels\n",
      "  Downloading statsmodels-0.14.1-cp38-cp38-macosx_10_9_x86_64.whl.metadata (9.5 kB)\n",
      "Requirement already satisfied: numpy<2,>=1.18 in /Users/ryantalbot/opt/anaconda3/envs/tf2/lib/python3.8/site-packages (from statsmodels) (1.24.3)\n",
      "Requirement already satisfied: scipy!=1.9.2,>=1.4 in /Users/ryantalbot/opt/anaconda3/envs/tf2/lib/python3.8/site-packages (from statsmodels) (1.10.1)\n",
      "Requirement already satisfied: pandas!=2.1.0,>=1.0 in /Users/ryantalbot/opt/anaconda3/envs/tf2/lib/python3.8/site-packages (from statsmodels) (1.5.3)\n",
      "Collecting patsy>=0.5.4 (from statsmodels)\n",
      "  Downloading patsy-0.5.6-py2.py3-none-any.whl.metadata (3.5 kB)\n",
      "Requirement already satisfied: packaging>=21.3 in /Users/ryantalbot/opt/anaconda3/envs/tf2/lib/python3.8/site-packages (from statsmodels) (23.2)\n",
      "Requirement already satisfied: python-dateutil>=2.8.1 in /Users/ryantalbot/opt/anaconda3/envs/tf2/lib/python3.8/site-packages (from pandas!=2.1.0,>=1.0->statsmodels) (2.8.2)\n",
      "Requirement already satisfied: pytz>=2020.1 in /Users/ryantalbot/opt/anaconda3/envs/tf2/lib/python3.8/site-packages (from pandas!=2.1.0,>=1.0->statsmodels) (2023.3.post1)\n",
      "Requirement already satisfied: six in /Users/ryantalbot/opt/anaconda3/envs/tf2/lib/python3.8/site-packages (from patsy>=0.5.4->statsmodels) (1.16.0)\n",
      "Downloading statsmodels-0.14.1-cp38-cp38-macosx_10_9_x86_64.whl (10.5 MB)\n",
      "\u001b[2K   \u001b[90m━━━━━━━━━━━━━━━━━━━━━━━━━━━━━━━━━━━━━━━━\u001b[0m \u001b[32m10.5/10.5 MB\u001b[0m \u001b[31m16.3 MB/s\u001b[0m eta \u001b[36m0:00:00\u001b[0m00:01\u001b[0m0:01\u001b[0m\n",
      "\u001b[?25hDownloading patsy-0.5.6-py2.py3-none-any.whl (233 kB)\n",
      "\u001b[2K   \u001b[90m━━━━━━━━━━━━━━━━━━━━━━━━━━━━━━━━━━━━━━━━\u001b[0m \u001b[32m233.9/233.9 kB\u001b[0m \u001b[31m8.2 MB/s\u001b[0m eta \u001b[36m0:00:00\u001b[0m\n",
      "\u001b[?25h\u001b[33mDEPRECATION: beakerx-base 2.2.0 has a non-standard dependency specifier ipywidgets<8pandas,>=7.5.1. pip 24.0 will enforce this behaviour change. A possible replacement is to upgrade to a newer version of beakerx-base or contact the author to suggest that they release a version with a conforming dependency specifiers. Discussion can be found at https://github.com/pypa/pip/issues/12063\u001b[0m\u001b[33m\n",
      "\u001b[0mInstalling collected packages: patsy, statsmodels\n",
      "Successfully installed patsy-0.5.6 statsmodels-0.14.1\n"
     ]
    }
   ],
   "source": [
    "!pip install statsmodels\n"
   ]
  },
  {
   "cell_type": "code",
   "execution_count": 5,
   "id": "7800eda8-8539-4b95-be8e-6ed801559d15",
   "metadata": {},
   "outputs": [
    {
     "name": "stdout",
     "output_type": "stream",
     "text": [
      "86\n"
     ]
    }
   ],
   "source": [
    "from statsmodels.stats.power import FTestAnovaPower\n",
    "\n",
    "# Given data\n",
    "f = 0.5100  # Effect size calculated from R\n",
    "k = 4  # Number of groups\n",
    "alpha = 0.05  # Significance level\n",
    "desired_power = 0.85  # Desired power\n",
    "\n",
    "# Calculate required sample size per group\n",
    "power_analysis = FTestAnovaPower()\n",
    "sample_size = power_analysis.solve_power(effect_size=f, k_groups=k, alpha=alpha, power=desired_power)\n",
    "sample_size = round(sample_size)\n",
    "print(sample_size)  # Expected output: 40\n"
   ]
  },
  {
   "cell_type": "code",
   "execution_count": 7,
   "id": "f6c207df-0847-4c4f-89fa-c43b164f3890",
   "metadata": {},
   "outputs": [
    {
     "name": "stdout",
     "output_type": "stream",
     "text": [
      "n_gum (raw output): [40.]\n",
      "Rounded n_gum: 40\n"
     ]
    },
    {
     "name": "stderr",
     "output_type": "stream",
     "text": [
      "/Users/ryantalbot/opt/anaconda3/envs/tf2/lib/python3.8/site-packages/statsmodels/stats/power.py:525: ConvergenceWarning: \n",
      "Failed to converge on a solution.\n",
      "\n",
      "  warnings.warn(convergence_doc, ConvergenceWarning)\n"
     ]
    }
   ],
   "source": [
    "from statsmodels.stats.power import FTestAnovaPower\n",
    "import numpy as np\n",
    "\n",
    "# Given data (means of different gum brands and their variance)\n",
    "groupmeans = [33, 24, 12, 15]\n",
    "k = len(groupmeans)  # Number of groups (4 brands of gum)\n",
    "variance = 49  # Given variance of 49 minutes\n",
    "alpha = 0.05  # Significance level\n",
    "desired_power = 0.85  # Desired power level\n",
    "\n",
    "# Calculate the grand mean\n",
    "grand_mean = np.mean(groupmeans)\n",
    "\n",
    "# Calculate between-group variance (sum of squares between)\n",
    "ss_between = sum([(mean - grand_mean) ** 2 for mean in groupmeans]) * 5  # Multiplied by the initial sample size\n",
    "ms_between = ss_between / (k - 1)  # Mean square between\n",
    "\n",
    "# Calculate the effect size (Cohen's f)\n",
    "f = np.sqrt(ms_between / variance)\n",
    "\n",
    "# Calculate required sample size per group to achieve 0.85 power\n",
    "power_analysis = FTestAnovaPower()\n",
    "\n",
    "try:\n",
    "    n_gum = power_analysis.solve_power(effect_size=f, k_groups=k, alpha=alpha, power=desired_power)\n",
    "    print(\"n_gum (raw output):\", n_gum)  # Debugging print\n",
    "    if isinstance(n_gum, np.ndarray):\n",
    "        n_gum = n_gum[0]  # Take the first element if it's an array\n",
    "    n_gum = round(n_gum)\n",
    "    print(\"Rounded n_gum:\", n_gum)\n",
    "except Exception as e:\n",
    "    print(\"Error in solving for sample size:\", str(e))\n"
   ]
  },
  {
   "cell_type": "code",
   "execution_count": null,
   "id": "273b20cc-5562-4ea5-af37-8779b915a618",
   "metadata": {},
   "outputs": [],
   "source": []
  }
 ],
 "metadata": {
  "kernelspec": {
   "display_name": "Python 3 (ipykernel)",
   "language": "python",
   "name": "python3"
  },
  "language_info": {
   "codemirror_mode": {
    "name": "ipython",
    "version": 3
   },
   "file_extension": ".py",
   "mimetype": "text/x-python",
   "name": "python",
   "nbconvert_exporter": "python",
   "pygments_lexer": "ipython3",
   "version": "3.8.18"
  }
 },
 "nbformat": 4,
 "nbformat_minor": 5
}
