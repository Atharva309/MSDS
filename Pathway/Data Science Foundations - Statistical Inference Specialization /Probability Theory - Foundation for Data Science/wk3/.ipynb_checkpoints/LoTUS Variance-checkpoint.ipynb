{
 "cells": [
  {
   "cell_type": "code",
   "execution_count": 1,
   "id": "e23da7bf",
   "metadata": {},
   "outputs": [
    {
     "data": {
      "text/html": [
       "2.40308208208208"
      ],
      "text/latex": [
       "2.40308208208208"
      ],
      "text/markdown": [
       "2.40308208208208"
      ],
      "text/plain": [
       "[1] 2.403082"
      ]
     },
     "metadata": {},
     "output_type": "display_data"
    },
    {
     "data": {
      "text/html": [
       "2.400679"
      ],
      "text/latex": [
       "2.400679"
      ],
      "text/markdown": [
       "2.400679"
      ],
      "text/plain": [
       "[1] 2.400679"
      ]
     },
     "metadata": {},
     "output_type": "display_data"
    }
   ],
   "source": [
    "set.seed(110)\n",
    "\n",
    "#generate the random variable; X ~ Bin(10, 1/2)\n",
    "X = rbinom(1000, 10, 1/2)\n",
    "\n",
    "#compare; should get 10*1/2*1/2 = 2.5\n",
    "var(X); mean(X^2) - mean(X)^2"
   ]
  },
  {
   "cell_type": "code",
   "execution_count": null,
   "id": "963f4905",
   "metadata": {},
   "outputs": [],
   "source": []
  }
 ],
 "metadata": {
  "kernelspec": {
   "display_name": "R",
   "language": "R",
   "name": "ir"
  },
  "language_info": {
   "codemirror_mode": "r",
   "file_extension": ".r",
   "mimetype": "text/x-r-source",
   "name": "R",
   "pygments_lexer": "r",
   "version": "4.2.1"
  }
 },
 "nbformat": 4,
 "nbformat_minor": 5
}
