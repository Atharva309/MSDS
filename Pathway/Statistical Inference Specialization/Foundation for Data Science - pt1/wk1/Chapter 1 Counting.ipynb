{
 "cells": [
  {
   "cell_type": "code",
   "execution_count": 1,
   "id": "0039b637",
   "metadata": {},
   "outputs": [
    {
     "ename": "SyntaxError",
     "evalue": "invalid syntax (1969567052.py, line 10)",
     "output_type": "error",
     "traceback": [
      "\u001b[0;36m  File \u001b[0;32m\"/var/folders/j_/555m2zps099832fjh_m8jjnc0000gn/T/ipykernel_15783/1969567052.py\"\u001b[0;36m, line \u001b[0;32m10\u001b[0m\n\u001b[0;31m    for(i in 1:length(size)){\u001b[0m\n\u001b[0m              ^\u001b[0m\n\u001b[0;31mSyntaxError\u001b[0m\u001b[0;31m:\u001b[0m invalid syntax\n"
     ]
    }
   ],
   "source": [
    "#define the vectors for size, topping and order\n",
    "size = c(\"S\", \"M\", \"L\")\n",
    "topping = c(\"pepperoni\", \"sausage\", \"meatball\", \"extra cheese\")\n",
    "order = c(\"deliver\", \"pick-up\")\n",
    "\n",
    "#keep track of the pizzas\n",
    "pizzas = character(0)\n",
    "\n",
    "#iterate over each value for each variable\n",
    "for(i in 1:length(size)){\n",
    "  for(j in 1:length(topping)){\n",
    "    for(k in 1:length(order)){\n",
    "      \n",
    "      #create a pizza\n",
    "      pizzas = rbind(pizzas, c(size[i], topping[j], order[k]))\n",
    "    }\n",
    "  }\n",
    "}\n",
    "\n",
    "#print out the pizzas; should have 24\n",
    "pizzas"
   ]
  },
  {
   "cell_type": "code",
   "execution_count": null,
   "id": "ac293e97",
   "metadata": {},
   "outputs": [],
   "source": []
  }
 ],
 "metadata": {
  "kernelspec": {
   "display_name": "Python 3 (ipykernel)",
   "language": "python",
   "name": "python3"
  },
  "language_info": {
   "codemirror_mode": {
    "name": "ipython",
    "version": 3
   },
   "file_extension": ".py",
   "mimetype": "text/x-python",
   "name": "python",
   "nbconvert_exporter": "python",
   "pygments_lexer": "ipython3",
   "version": "3.9.12"
  }
 },
 "nbformat": 4,
 "nbformat_minor": 5
}
