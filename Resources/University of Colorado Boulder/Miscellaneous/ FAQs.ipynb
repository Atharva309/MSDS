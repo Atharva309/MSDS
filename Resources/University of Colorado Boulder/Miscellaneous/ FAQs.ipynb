{
 "cells": [
  {
   "cell_type": "markdown",
   "id": "8665cbca",
   "metadata": {},
   "source": [
    "- [Getting Started](https://www.colorado.edu/program/data-science/coursera/current-students)"
   ]
  },
  {
   "cell_type": "markdown",
   "id": "e50b3eee",
   "metadata": {},
   "source": [
    "- [FAQ](https://www.colorado.edu/program/data-science/coursera/faqs)\n",
    "- [CU Boulder MS-DS on Coursera Enrollment](https://boulder3.apply.colorado.edu/register/MSDS-New?utm_Source=Coursera&utm_Medium=web&utm_Campaign=xddp&utm_Content=faq)"
   ]
  },
  {
   "cell_type": "markdown",
   "id": "6901b0e5",
   "metadata": {},
   "source": [
    "### For-Credit Courses\n",
    "\n",
    "- Start directly in a for-credit course or enroll in the non-credit version first to preview course content. You may upgrade from non-credit to for-credit at any time during the enrollment window. See the calendar for exact dates. \n",
    "\n",
    "- Our for-credit courses offer a different experience than our non-credit courses, including:\n",
    "\n",
    "    - Set dates:  For-credit courses have session start and end dates. Each session is 8 weeks long. See the calendar for exact dates. All for-credit coursework must be submitted by the last day of the 8-week session, and tuition cannot be carried over to future terms.\n",
    "    - CU tuition: For-credit tuition is paid to the University of Colorado Boulder and Includes access to additional CU services. (e.g. online library and alumni/career services, CU on Coursera membership, and an @colorado.edu email address).\n",
    "    - Academic support: For-credit courses are supported by course facilitators through weekly office hours, discussion forums, and email.\n",
    "    - CU credit: Students receive academic credit for their for-credit courses on a transcript from the University of Colorado Boulder.\n",
    "    - Mandatory onboarding: Prior to accessing for-credit content for the first time, you must pass a short (4–5 hours) non-credit onboarding course. You only need to complete this course once. \n",
    "    - Additional materials: Additional material and assessments must be completed to earn credit; these materials are only available to students who pay tuition. \n",
    "    - Saving work off-platform: Due to their interactive nature, discussion board posts and peer-graded assignments may not transfer from session to session if you drop/withdraw and later re-enroll in a particular class. Be sure to save your work outside of the Coursera platform.\n",
    "    - Recommended course load: We recommend new student take 1 course in their first session. And we encourage continuing students to take no more than 3 courses per session, which is equivalent to a full-time graduate-level course load. For every one credit hour, you will spend approximately 5–8 hours total each week. This includes videos, discussions, readings and assignments. Students who take 3 courses per session complete the degree in about 2 years. You must complete all courses within 8 years.\n"
   ]
  },
  {
   "cell_type": "markdown",
   "id": "51b1d835",
   "metadata": {},
   "source": [
    "### Are there exams?\n",
    "\n",
    "- Courses may include project-based assessments and/or online proctored exams that use ProctorU, an online proctoring service that ensures exam integrity and accountability. ProctorU requires a computer, Internet connection, and webcam and monitors students in three ways:\n",
    "\n",
    "- By using secure identity verification to ensure that the person taking the test is the correct student.\n",
    "\n",
    "- By employing a human proctor to monitor the test taker through a webcam. You will be connected to a real person to guide you through the process.\n",
    "\n",
    "- A proctor watches the test-taker’s screen in real-time and can see everything the student is doing.  \n",
    "\n",
    "- ProctorU is available 24/7; however, you must test your equipment and schedule your proctoring session at least 72 hours in advance of your desired session. To test your equipment, take the ProctorU System Test. For more information, see the ProctorU Test-Taker Resource Center.\n",
    "\n"
   ]
  },
  {
   "cell_type": "markdown",
   "id": "c7a45b4d",
   "metadata": {},
   "source": [
    "### What happens if my pathway GPA is lower than 3.0 or I fail a pathway course?\n",
    "\n",
    "- If you do not complete each pathway course with at least a C grade or do not earn at least a 3.0 GPA average for the pathway, you can pursue another pathway. If you successfully complete this second pathway, you will be admitted to the degree program.\n",
    "\n",
    "- To successfully complete a pathway and earn admission to the program, you must:\n",
    "\n",
    "    - Earn at least a grade of C in each pathway course \n",
    "    - Maintain a 3.0 average GPA (or higher) for your pathway courses\n",
    "    - Maintain a 3.0 cumulative GPA (or higher) for all for-credit courses taken to date\n",
    "    - Declare your intent to pursue the degree when you enroll for classes\n",
    "\n",
    "- You can also preview the second pathway option as a non-credit learner, and then upgrade to for-credit when you are ready to pay tuition and complete the final exams.\n",
    "\n",
    "- After admission to the degree, your cumulative GPA will include all attempted for-credit coursework. This includes any courses you failed before gaining admission to the degree. However, you are allowed to retake your original pathway courses and try to improve your grade. See the MS-DS Student Handbook for details about course repetition and grade replacement.\n"
   ]
  },
  {
   "cell_type": "markdown",
   "id": "3edecbaf",
   "metadata": {},
   "source": [
    "### What should I do if I'm worried about my grade in a particular class?\n",
    "\n",
    "- Students who are worried about succeeding in a particular class have multiple options to consider, depending on the exact circumstances. Options include:\n",
    "\n",
    "    - Previewing a non-credit version of the course beforehand to get a head start\n",
    "        Attend weekly office hours with the course facilitator (for-credit courses only)\n",
    "        Connect with peers in Slack for support (for-credit courses only) \n",
    "        Connect with peers in discussion forums for support \n",
    "        Dropping or withdrawing from the course\n",
    "        Course repetition \n",
    "        Grade replacement (admitted degree students only)\n",
    "        Pursuing a different pathway (before degree admission)\n",
    "\n",
    "- Please see Options for MS-DS Students Worried About Course Grades for an outline of the above options. The MS-DS Student Handbook has more details.\n"
   ]
  },
  {
   "cell_type": "markdown",
   "id": "cef26a27",
   "metadata": {},
   "source": [
    "### How do I upgrade from non-credit to for-credit?\n",
    "\n",
    "- You may upgrade from non-credit to for-credit at any time during the enrollment window. Each enrollment period starts 2 weeks before the first day of class and ends 2 weeks before all coursework is due. \n",
    "\n",
    "    - All for-credit coursework is due by the last day of the session. \n",
    "    - Previously completed assignments will be automatically applied to your for-credit experience. \n",
    "    - Prior to accessing for-credit content for the first time, you must pass a short (4–5 hours) non-credit onboarding course. You only need to complete this course once. \n",
    "\n",
    "- Please note that if you start a non-credit course within the same month that you upgrade to the for-credit version, you will not receive a refund for the monthly subscription associated with the non-credit course. The monthly subscription fee is paid to Coursera, not to the University of Colorado Boulder.\n"
   ]
  },
  {
   "cell_type": "markdown",
   "id": "ee134dd7",
   "metadata": {},
   "source": [
    "### Does work I complete in the non-credit version transfer to the for-credit version when I upgrade?\n",
    "\n",
    "- Yes, the work you complete in the non-credit version of a course transfers over to the for-credit version when you upgrade and pay tuition. Due to their interactive nature, discussion board posts and peer-graded assignments may not transfer from session to session if you drop/withdraw and later re-enroll in a particular class. Be sure to save your work outside of the Coursera platform.\n",
    "\n",
    "- After you upgrade, you will complete a final project or exam to earn credit for the course.\n",
    "\n",
    "- You can upgrade from non-credit to for-credit at any time during your learning journey. You have up to 8 years to complete the full program.\n"
   ]
  },
  {
   "cell_type": "markdown",
   "id": "71a91538",
   "metadata": {},
   "source": [
    "### How do I communicate with faculty to ask questions?\n",
    "\n",
    "- Course facilitators hold weekly office hours so you can connect with them and ask questions about the material being covered in the program.\n"
   ]
  },
  {
   "cell_type": "markdown",
   "id": "8df652f6",
   "metadata": {},
   "source": [
    "### Are career resources available for MS-DS on Coursera students?\n",
    "\n",
    "- Students who have been admitted into the degree program will have lifelong access to Handshake through CU Boulder Career Services. Handshake is an online employment platform where employers post jobs and hold virtual events. Alumni can also use Handshake as a networking tool to connect with other alumni.\n",
    "\n",
    "- Admitted students also get access to VMock online resume-review. This tool leverages data-science, machine learning, and natural language processing to provide personalized feedback on your resume based on criteria gathered from employers and global best practices.\n",
    "\n",
    "- As a University of Colorado Boulder graduate, you will join the alumni association, Forever Buffs. \n"
   ]
  },
  {
   "cell_type": "markdown",
   "id": "28092485",
   "metadata": {},
   "source": [
    "[Please review our refund, drop and withdrawal policies opens in new window ](https://www.colorado.edu/registrar/students/special-programs)"
   ]
  },
  {
   "cell_type": "code",
   "execution_count": null,
   "id": "00d9de12",
   "metadata": {},
   "outputs": [],
   "source": []
  }
 ],
 "metadata": {
  "kernelspec": {
   "display_name": "Python 3 (ipykernel)",
   "language": "python",
   "name": "python3"
  },
  "language_info": {
   "codemirror_mode": {
    "name": "ipython",
    "version": 3
   },
   "file_extension": ".py",
   "mimetype": "text/x-python",
   "name": "python",
   "nbconvert_exporter": "python",
   "pygments_lexer": "ipython3",
   "version": "3.9.12"
  }
 },
 "nbformat": 4,
 "nbformat_minor": 5
}
