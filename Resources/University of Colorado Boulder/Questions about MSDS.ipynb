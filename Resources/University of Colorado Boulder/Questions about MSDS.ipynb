{
 "cells": [
  {
   "cell_type": "markdown",
   "id": "327a16b2",
   "metadata": {},
   "source": [
    "1. What percent of the total grade is the final exam?\n",
    "2. what is the format of the finals for the core courses?\n",
    "3. If I have already taken the course for credit I don't need to take it again, Is it possible to take it again if my first grade isn't what I want.\n",
    "\n"
   ]
  },
  {
   "cell_type": "markdown",
   "id": "b736de15",
   "metadata": {},
   "source": []
  }
 ],
 "metadata": {
  "kernelspec": {
   "display_name": "Python 3 (ipykernel)",
   "language": "python",
   "name": "python3"
  },
  "language_info": {
   "codemirror_mode": {
    "name": "ipython",
    "version": 3
   },
   "file_extension": ".py",
   "mimetype": "text/x-python",
   "name": "python",
   "nbconvert_exporter": "python",
   "pygments_lexer": "ipython3",
   "version": "3.9.12"
  }
 },
 "nbformat": 4,
 "nbformat_minor": 5
}
