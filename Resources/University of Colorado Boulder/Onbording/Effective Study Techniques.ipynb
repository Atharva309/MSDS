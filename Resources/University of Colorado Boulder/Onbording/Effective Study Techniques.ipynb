{
 "cells": [
  {
   "cell_type": "markdown",
   "id": "1ce776a6",
   "metadata": {},
   "source": [
    "## Effective Study Techniques\n",
    "\n",
    "#### How do I retain material beyond the course being completed? How can I apply the knowledge I learn?\n",
    "\n",
    "1. Use recall. After you read a page, or watch a video, look away and recall the main ideas. Each week, have a list of take-aways from different courses and think about actions you can change right now. Every day, try recalling main ideas when you are walking or in a different room from where you originally learned it. The ability to generate ideas from inside yourself is one of the key indicators of good learning.\n",
    "\n",
    "2. Write in discussion forums. Whenever you have a question or thought you'd like to share, write in the discussion forum. Your peers are highly intelligent and motivated; we're sure you'll find great value from the forums.\n",
    "\n",
    "3. Be critical. When you apply the theories and concepts in your working environment, carefully evaluate what works and doesn't work. Reflect on that and bring it back to the class as needed. This is a constructive learning experience—you are building knowledge together with other learners and instructors.\n",
    "\n",
    "4. Use new angle to think about your life. The knowledge you learn is not only helpful for your education or career, it may also bring you a new perspective to observe life. For example, after taking a marketing course, think about what branding strategy that the coffee shop around the street corner is using; after taking a machine learning course, ask yourself what part of cooking could be replaced by artificial intelligence (AI).\n",
    "\n",
    "#### I've never studied online! What are more strategies I could use?\n",
    "\n",
    "1. Ask for support. Find people who support you. For example, if your husband understands your new study routine, maybe he could cook dinner so you have extra study time.\n",
    "\n",
    "2. Space your repetition. Spread out your learning in any subject a little every day, just like an athlete. Your brain is like a muscle—it can handle only a limited amount of exercise on one subject at a time. (1)\n",
    "\n",
    "3. Focus. Turn off all interrupting beeps and alarms on your phone and computer, and then turn on a timer for 25 minutes. Focus intently for those twenty-five minutes and try to work as diligently as you can. After the timer goes off, give yourself a small, fun reward. A few of these sessions in a day can really move your studies forward. Try to set up times and places where studying—not glancing at your computer or phone—is just something you naturally do. (1)\n",
    "\n",
    "4. Sequence Intentionally. Do the hardest thing earliest in the day, when you are fresh. (1)\n",
    "\n",
    "5. Use explanatory questioning and simple analogies. Whenever you are struggling with a concept, think to yourself: \"How can I explain this so that a ten-year-old could understand it?\" Using an analogy really helps, like saying that the flow of electricity is like the flow of water. Don’t just think your explanation—say it out loud or put it in writing. The additional effort of speaking and writing allows you to more deeply encode (that is, convert into neural memory structures) what you are learning. (1)\n",
    "\n",
    "#### What study strategies should I avoid?\n",
    "\n",
    "Excerpted from A Mind for Numbers: How to Excel in Math and Science (Even if You Flunked Algebra), by Barbara Oakley, Penguin, July, 2014\n",
    "\n",
    "Avoid these techniques—they can waste your time even while they fool you into thinking you’re learning!\n",
    "\n",
    "    Passive rereading—sitting passively and running your eyes back over a page. Unless you can prove that the material is moving into your brain by recalling the main ideas without looking at the page, rereading is a waste of time.\n",
    "\n",
    "    Letting highlights overwhelm you. Highlighting your text can fool your mind into thinking you are putting something in your brain, when all you’re really doing is moving your hand. A little highlighting here and there is okay—sometimes it can be helpful in flagging important points. But if you are using highlighting as a memory tool, make sure that what you mark is also going into your brain.\n",
    "\n",
    "    Merely glancing at a problem’s solution and thinking you know how to do it. This is one of the worst errors students make while studying. You need to be able to solve a problem step-by-step, without looking at the solution.\n",
    "\n",
    "    Waiting until the last minute to study. Would you cram at the last minute if you were practicing for a track meet? Your brain is like a muscle—it can handle only a limited amount of exercise on one subject at a time.\n",
    "\n",
    "    Repeatedly solving problems of the same type that you already know how to solve. If you just sit around solving similar problems during your practice, you’re not actually preparing for a test—it’s like preparing for a big basketball game by just practicing your dribbling.\n",
    "\n",
    "    Letting study sessions with friends turn into chat sessions. Checking your problem solving with friends, and quizzing one another on what you know, can make learning more enjoyable, expose flaws in your thinking, and deepen your learning. But if your joint study sessions turn to fun before the work is done, you’re wasting your time and should find another study group.\n",
    "\n",
    "    Neglecting to read the textbook before you start working problems. Would you dive into a pool before you knew how to swim? The textbook is your swimming instructor—it guides you toward the answers. You will flounder and waste your time if you don’t bother to read it. Before you begin to read, however, take a quick glance over the chapter or section to get a sense of what it’s about.\n",
    "\n",
    "    Not checking with your instructors or classmates to clear up points of confusion. Professors are used to lost students coming in for guidance—it’s our job to help you. The students we worry about are the ones who don’t come in. Don’t be one of those students.\n",
    "\n",
    "    Thinking you can learn deeply when you are being constantly distracted. Every tiny pull toward an instant message or conversation means you have less brain power to devote to learning. Every tug of interrupted attention pulls out tiny neural roots before they can grow.\n",
    "\n",
    "    Not getting enough sleep. Your brain pieces together problem-solving techniques when you sleep, and it also practices and repeats whatever you put in mind before you go to sleep. Prolonged fatigue allows toxins to build up in the brain that disrupt the neural connections you need to think quickly and well. If you don’t get a good sleep before a test, NOTHING ELSE YOU HAVE DONE WILL MATTER.\n",
    "    \n",
    "    "
   ]
  },
  {
   "cell_type": "markdown",
   "id": "c150e91d",
   "metadata": {},
   "source": []
  }
 ],
 "metadata": {
  "kernelspec": {
   "display_name": "Python 3 (ipykernel)",
   "language": "python",
   "name": "python3"
  },
  "language_info": {
   "codemirror_mode": {
    "name": "ipython",
    "version": 3
   },
   "file_extension": ".py",
   "mimetype": "text/x-python",
   "name": "python",
   "nbconvert_exporter": "python",
   "pygments_lexer": "ipython3",
   "version": "3.9.12"
  }
 },
 "nbformat": 4,
 "nbformat_minor": 5
}
