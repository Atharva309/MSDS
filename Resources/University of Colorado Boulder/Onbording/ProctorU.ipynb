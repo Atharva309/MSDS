{
 "cells": [
  {
   "cell_type": "markdown",
   "id": "41ba1605",
   "metadata": {},
   "source": [
    "## ProctorU Information\n",
    "\n",
    "### How MS-DS Uses Virtual/Remote Proctoring\n",
    "\n",
    "Some for-credit MS-DS courses feature a proctored experience at the end of the course. This is generally an exam, but may also be a project-based experience. The University of Colorado Boulder takes academic integrity seriously, and is committed to ensuring that your MS-DS degree accurately represents your competency and retains its value in the marketplace. Protecting the integrity of the course exams is part of this process.\n",
    "\n",
    "The stakes of the proctored experiences in MS-DS courses are high. When you gain access to these protected items on the Coursera platform, you are no longer eligible for a tuition refund if you decide to drop the course, and you are no longer eligible for a course withdrawal. Accessing the protected examination means that you will only be eligible for an earned grade based on performance.\n",
    "\n",
    "### What is ProctorU?\n",
    "\n",
    "ProctorU is a platform that is partnered with your institution to help you take an exam online while ensuring academic integrity is upheld. Using this platform allows you the convenience of testing from home 24/7, 365 days a year.  \n",
    "\n",
    "#### How it Works\n",
    "\n",
    "- Create a ProctorU account before your exam appointment. \n",
    "\n",
    "- Download the Guardian Secure Browser\n",
    "\n",
    "- You must make your appointment at least 3 days in advance and you can schedule when it’s convenient for you. \n",
    "\n",
    "- You will need:\n",
    "\n",
    "    - A webcam\n",
    "\n",
    "    - A microphone\n",
    "\n",
    "    - Computer with internet connection \n",
    "\n",
    "    - One form of photo ID\n",
    "\n",
    "    - A reflective surface handy \n",
    "\n",
    "\n",
    "\n",
    "\n",
    " \n"
   ]
  },
  {
   "cell_type": "code",
   "execution_count": null,
   "id": "ccb4a064",
   "metadata": {},
   "outputs": [],
   "source": []
  }
 ],
 "metadata": {
  "kernelspec": {
   "display_name": "Python 3 (ipykernel)",
   "language": "python",
   "name": "python3"
  },
  "language_info": {
   "codemirror_mode": {
    "name": "ipython",
    "version": 3
   },
   "file_extension": ".py",
   "mimetype": "text/x-python",
   "name": "python",
   "nbconvert_exporter": "python",
   "pygments_lexer": "ipython3",
   "version": "3.9.12"
  }
 },
 "nbformat": 4,
 "nbformat_minor": 5
}
