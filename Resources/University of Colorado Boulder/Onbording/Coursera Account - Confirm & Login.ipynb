{
 "cells": [
  {
   "cell_type": "markdown",
   "id": "37e79a26",
   "metadata": {},
   "source": [
    "# Coursera Account: Confirm & Login\n",
    "\n",
    "### ID Verification\n",
    "\n",
    "As a degree student on the Coursera platform, you must complete the Coursera ID verification before starting your courses. It is required to complete your profile verification so any course completion progress will count towards your final grade.\n",
    "\n",
    "#### To set up your ID verification:\n",
    "\n",
    "1. Log in to your Coursera account.\n",
    "\n",
    "2. Click the drop-down menu next to your name in the top right and choose \"Settings\". Or, go directly to your Coursera account settings page.\n",
    "\n",
    "3. Scroll to the \"ID Verification\" section, where you will see either:\n",
    "\n",
    "    a. \"Your name is verified. This is the name that will appear on your certificates.\": This indicates your account is already verified and no further action is needed to complete the process.\n",
    "\n",
    "    b. \"Verify My ID\": Your account has not been verified. Click to complete the on screen prompts to complete ID verification for your Coursera account.\n",
    "\n",
    "If you have questions about the procedure or need assistance with your ID verification, please read the Coursera Learner Help article on ID Verification.\n",
    "\n",
    "#### One Coursera Account\n",
    "\n",
    "As per Coursera's Honor Code, you are only allowed to have one Coursera account.\n",
    "\n",
    "- If you accidentally created two Coursera accounts linked to different email addresses, please keep one active Coursera account and delete the inactive one*.\n",
    "\n",
    "- If you would like to update the email address associated with your active Coursera account, you can change the email address linked to your account by following the instructions here.\n",
    "\n",
    "*If you purchased and made progress in any courses on your inactive account to be deleted, please first contact Coursera's 24/7 Technical Support Chat on the Coursera Learner Help Center and request that your progress be migrated over to your active account. We are happy to migrate over any course progress BEFORE you delete your duplicate account. Then, feel free to delete your duplicate account by following the instructions here.\n",
    "\n",
    "#### Degree Homepage\n",
    "\n",
    "Upon logging in, please navigate to the MS-DS Degree Homepage(www.coursera.org/degrees/master-of-science-data-science-boulder). You can toggle between your Coursera Dashboard and the MS-DS Home Page by clicking the dropdown button in the top left corner.\n",
    "\n",
    "Your registered for-credit courses will be added to your MS-DS Homepage on Coursera on the first day of the term upon completion of this onboarding course, and within 24 business hours of registration for future terms. \n",
    "\n",
    "Please keep in mind that it may take 24-48 hours for any course registrations or drops to be reflected on Coursera. If it’s on or after the launch date and you don’t see your registered course on Coursera, please wait 24-48 hours from when you registered for the course before contacting support. \n",
    "\n",
    "If you would like to access this content prior to the for-credit course launch, then you are welcome to enroll yourself in the open courses. Please refer to the MS-DS Degree Homepage for links to the available open courses. "
   ]
  },
  {
   "cell_type": "code",
   "execution_count": null,
   "id": "8d56c909",
   "metadata": {},
   "outputs": [],
   "source": []
  }
 ],
 "metadata": {
  "kernelspec": {
   "display_name": "Python 3 (ipykernel)",
   "language": "python",
   "name": "python3"
  },
  "language_info": {
   "codemirror_mode": {
    "name": "ipython",
    "version": 3
   },
   "file_extension": ".py",
   "mimetype": "text/x-python",
   "name": "python",
   "nbconvert_exporter": "python",
   "pygments_lexer": "ipython3",
   "version": "3.9.12"
  }
 },
 "nbformat": 4,
 "nbformat_minor": 5
}
