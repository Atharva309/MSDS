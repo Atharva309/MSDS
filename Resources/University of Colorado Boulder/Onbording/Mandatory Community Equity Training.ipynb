{
 "cells": [
  {
   "cell_type": "markdown",
   "id": "bcdb5162",
   "metadata": {},
   "source": [
    "All CU Boulder students must complete the mandatory Community Equity training online in Canvas. This non-credit online course covers university policy and resources addressing discrimination, harassment, and sexual misconduct. Students will also learn skills for helping as a bystander and for supporting friends. This will be done after you are admitted to the MS-DS program - you do not need to worry about this step until then. \n",
    "\n",
    "#### Mandatory Community Equity Training\n",
    "\n",
    "- Log into Canvas: canvas.colorado.edu\n",
    "\n",
    "- Access the Community Equity training from your Canvas dashboard. If you don’t see it listed there, select “Courses” on the left, then “All Courses.” Please contact OIEC if you are having trouble accessing the course.\n",
    "\n",
    "- Complete the course.\n",
    "\n",
    "#### Bystander Intervention Holds\n",
    "\n",
    "- Students who do not complete this course before the deadline may have a bystander intervention hold placed on their account. \n",
    "\n",
    "- If you have a bystander intervention hold on your account that is preventing you from registering for classes, please contact OIEC for assistance. After your hold is removed, note that you may need to wait up to 1 business day before you are able to enroll.\n",
    "\n",
    "See more information on the University's Community Equity page."
   ]
  },
  {
   "cell_type": "code",
   "execution_count": null,
   "id": "bd249915",
   "metadata": {},
   "outputs": [],
   "source": []
  }
 ],
 "metadata": {
  "kernelspec": {
   "display_name": "Python 3 (ipykernel)",
   "language": "python",
   "name": "python3"
  },
  "language_info": {
   "codemirror_mode": {
    "name": "ipython",
    "version": 3
   },
   "file_extension": ".py",
   "mimetype": "text/x-python",
   "name": "python",
   "nbconvert_exporter": "python",
   "pygments_lexer": "ipython3",
   "version": "3.9.12"
  }
 },
 "nbformat": 4,
 "nbformat_minor": 5
}
