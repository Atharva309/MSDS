{
 "cells": [
  {
   "cell_type": "markdown",
   "id": "d0df0cf9",
   "metadata": {},
   "source": [
    "to speed up code use the following (still needs to be researched)\n",
    "\n",
    "```\n",
    "import time\n",
    "%load_ext Cython\n",
    "```\n"
   ]
  },
  {
   "cell_type": "markdown",
   "id": "d6b0ddd7",
   "metadata": {},
   "source": [
    "- https://towardsdatascience.com/speed-up-your-python-code-with-cython-8879105f2b6f\n",
    "- https://ipython-books.github.io/55-accelerating-python-code-with-cython/"
   ]
  },
  {
   "cell_type": "markdown",
   "id": "930fde0a",
   "metadata": {},
   "source": [
    "- Use %%time and %%timeit Magic Commands\n",
    "    - In Jupyter, ‘magic commands’ are special commands that start with a %. The ‘%%time’ and ‘%%timeit’ commands are really useful for figuring out what parts of your code are slow. ‘%%time’ tells you how long a single cell takes to run, and ‘%%timeit’ runs a cell several times and gives you the average time. You can use these commands to figure out what parts of your code you need to speed up.\n",
    "\n",
    "\n",
    "- Limit Output Logging\n",
    "\n",
    "    - By default, Jupyter Notebooks display the output of each executed cell, including log messages. This logging can be resource-intensive, especially if a cell generates a large amount of output. To improve performance, you can reduce the amount of output logged or disable logging altogether.\n",
    "\n",
    "    - Placing %%capture at the beginning of a cell captures the output, preventing it from being displayed. This is useful when you don’t need to see the output but still want to execute the cell.\n",
    "\n",
    "    - Additionally, you can use the semicolons to suppress output. Appending a semicolon (;) at the end of a line in a code cell suppresses the output of that line. This is helpful when you want to avoid displaying the output of a specific line without capturing all output.\n",
    "\n",
    "    - Last, you can disable logging in specific cells. By disabling logging for specific cells using the logging module. Set the logging level to a higher value or disable it altogether using logging.disable() to prevent log messages from being generated and displayed.\n"
   ]
  },
  {
   "cell_type": "code",
   "execution_count": null,
   "id": "d6f6f9d0",
   "metadata": {},
   "outputs": [],
   "source": []
  }
 ],
 "metadata": {
  "kernelspec": {
   "display_name": "Python 3 (ipykernel)",
   "language": "python",
   "name": "python3"
  },
  "language_info": {
   "codemirror_mode": {
    "name": "ipython",
    "version": 3
   },
   "file_extension": ".py",
   "mimetype": "text/x-python",
   "name": "python",
   "nbconvert_exporter": "python",
   "pygments_lexer": "ipython3",
   "version": "3.9.12"
  }
 },
 "nbformat": 4,
 "nbformat_minor": 5
}
