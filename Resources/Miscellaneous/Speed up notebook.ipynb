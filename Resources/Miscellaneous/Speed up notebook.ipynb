{
 "cells": [
  {
   "cell_type": "markdown",
   "id": "d0df0cf9",
   "metadata": {},
   "source": [
    "to speed up code use the following (still needs to be researched)\n",
    "\n",
    "```\n",
    "import time\n",
    "%load_ext Cython\n",
    "```\n"
   ]
  },
  {
   "cell_type": "markdown",
   "id": "d6b0ddd7",
   "metadata": {},
   "source": [
    "- https://towardsdatascience.com/speed-up-your-python-code-with-cython-8879105f2b6f\n",
    "- https://ipython-books.github.io/55-accelerating-python-code-with-cython/"
   ]
  },
  {
   "cell_type": "code",
   "execution_count": null,
   "id": "6c7ecc18",
   "metadata": {},
   "outputs": [],
   "source": []
  }
 ],
 "metadata": {
  "kernelspec": {
   "display_name": "Python 3 (ipykernel)",
   "language": "python",
   "name": "python3"
  },
  "language_info": {
   "codemirror_mode": {
    "name": "ipython",
    "version": 3
   },
   "file_extension": ".py",
   "mimetype": "text/x-python",
   "name": "python",
   "nbconvert_exporter": "python",
   "pygments_lexer": "ipython3",
   "version": "3.9.12"
  }
 },
 "nbformat": 4,
 "nbformat_minor": 5
}
