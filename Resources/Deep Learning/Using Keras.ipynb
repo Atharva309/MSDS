{
 "cells": [
  {
   "cell_type": "markdown",
   "id": "8c394757-531f-47d8-8dfc-11ffa640c90d",
   "metadata": {},
   "source": [
    "https://keras.io/getting_started/"
   ]
  },
  {
   "cell_type": "markdown",
   "id": "0156a54a-3cf2-4a40-91ae-1f95982a0f2d",
   "metadata": {},
   "source": [
    "# The Keras ecosystem\n",
    "\n",
    "https://keras.io/getting_started/ecosystem/\n",
    "\n",
    "\n",
    "KerasTuner\n",
    "\n",
    "KerasTuner Documentation - KerasTuner GitHub repository\n",
    "\n",
    "KerasTuner is an easy-to-use, scalable hyperparameter optimization framework that solves the pain points of hyperparameter search. Easily configure your search space with a define-by-run syntax, then leverage one of the available search algorithms to find the best hyperparameter values for your models. KerasTuner comes with Bayesian Optimization, Hyperband, and Random Search algorithms built-in, and is also designed to be easy for researchers to extend in order to experiment with new search algorithms.\n",
    "KerasNLP\n",
    "\n",
    "KerasNLP Documentation - KerasNLP GitHub repository\n",
    "\n",
    "KerasNLP is a natural language processing library that supports users through their entire development cycle. Our workflows are built from modular components that have state-of-the-art preset weights and architectures when used out-of-the-box and are easily customizable when more control is needed.\n",
    "KerasCV\n",
    "\n",
    "KerasCV Documentation - KerasCV GitHub repository\n",
    "\n",
    "KerasCV is a repository of modular building blocks (layers, metrics, losses, data-augmentation) that applied computer vision engineers can leverage to quickly assemble production-grade, state-of-the-art training and inference pipelines for common use cases such as image classification, object detection, image segmentation, image data augmentation, etc.\n",
    "\n",
    "KerasCV can be understood as a horizontal extension of the Keras API: the components are new first-party Keras objects (layers, metrics, etc) that are too specialized to be added to core Keras, but that receive the same level of polish and backwards compatibility guarantees as the rest of the Keras API.\n",
    "AutoKeras\n",
    "\n",
    "AutoKeras Documentation - AutoKeras GitHub repository\n",
    "\n",
    "AutoKeras is an AutoML system based on Keras. It is developed by DATA Lab at Texas A&M University. The goal of AutoKeras is to make machine learning accessible for everyone. It provides high-level end-to-end APIs such as ImageClassifier or TextClassifier to solve machine learning problems in a few lines, as well as flexible building blocks to perform architecture search"
   ]
  },
  {
   "cell_type": "code",
   "execution_count": null,
   "id": "82635bc1-d175-4cd7-b858-e406abf7589a",
   "metadata": {},
   "outputs": [],
   "source": []
  }
 ],
 "metadata": {
  "kernelspec": {
   "display_name": "Python 3 (ipykernel)",
   "language": "python",
   "name": "python3"
  },
  "language_info": {
   "codemirror_mode": {
    "name": "ipython",
    "version": 3
   },
   "file_extension": ".py",
   "mimetype": "text/x-python",
   "name": "python",
   "nbconvert_exporter": "python",
   "pygments_lexer": "ipython3",
   "version": "3.8.18"
  }
 },
 "nbformat": 4,
 "nbformat_minor": 5
}
