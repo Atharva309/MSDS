{
 "cells": [
  {
   "cell_type": "markdown",
   "id": "6078322e",
   "metadata": {},
   "source": [
    "- [git-lfs](https://git-lfs.com/)\n",
    "- [medium article](https://tengel403.medium.com/git-large-file-storage-4fc157506b00)"
   ]
  },
  {
   "cell_type": "markdown",
   "id": "589d74cd",
   "metadata": {},
   "source": [
    "Getting Started\n",
    "\n",
    "    Download and install the Git command line extension. Once downloaded and installed, set up Git LFS for your user account by running:\n",
    "\n",
    "    git lfs install\n",
    "\n",
    "    You only need to run this once per user account.\n",
    "\n",
    "    In each Git repository where you want to use Git LFS, select the file types you'd like Git LFS to manage (or directly edit your .gitattributes). You can configure additional file extensions at anytime.\n",
    "\n",
    "    git lfs track \"*.psd\"\n",
    "\n",
    "    Now make sure .gitattributes is tracked:\n",
    "\n",
    "    git add .gitattributes\n",
    "\n",
    "    Note that defining the file types Git LFS should track will not, by itself, convert any pre-existing files to Git LFS, such as files on other branches or in your prior commit history. To do that, use the git lfs migrate(1) command, which has a range of options designed to suit various potential use cases.\n",
    "\n",
    "    There is no step three. Just commit and push to GitHub as you normally would; for instance, if your current branch is named main:\n",
    "\n",
    "    git add file.psd\n",
    "    git commit -m \"Add design file\"\n",
    "    git push origin main\n",
    "\n",
    "    Check out our wiki, discussion forum, and documentation for help with any questions you might have!\n",
    "\n"
   ]
  },
  {
   "cell_type": "code",
   "execution_count": null,
   "id": "2787616a",
   "metadata": {},
   "outputs": [],
   "source": []
  }
 ],
 "metadata": {
  "kernelspec": {
   "display_name": "Python 3 (ipykernel)",
   "language": "python",
   "name": "python3"
  },
  "language_info": {
   "codemirror_mode": {
    "name": "ipython",
    "version": 3
   },
   "file_extension": ".py",
   "mimetype": "text/x-python",
   "name": "python",
   "nbconvert_exporter": "python",
   "pygments_lexer": "ipython3",
   "version": "3.9.12"
  }
 },
 "nbformat": 4,
 "nbformat_minor": 5
}
