{
 "cells": [
  {
   "cell_type": "markdown",
   "id": "a9db4b76",
   "metadata": {},
   "source": [
    "## Conference Information\n",
    "\n",
    "https://ww2.amstat.org/meetings/csp/2024/conferenceinfo.cfm\n",
    "\n",
    "\n",
    "The Conference on Statistical Practice aims to bring together hundreds of statistical practitioners—including data analysts, researchers, and scientists—who engage in the application of statistics to solve real-world problems on a daily basis.\n",
    "\n",
    "The goal of the conference is to provide participants with opportunities to learn new statistical methodologies and best practices in statistical analysis, design, consulting, and statistical programming. The conference also provides opportunities for attendees to further their career development and strengthen relationships in the statistics community. Presentations will feature information relevant to a broad range of applied statisticians working in diverse settings. "
   ]
  },
  {
   "cell_type": "markdown",
   "id": "62511314",
   "metadata": {},
   "source": [
    "## CSP is based on the following four themes:\n",
    "\n",
    "### Career, Professional, and Leadership Development\n",
    "\n",
    "The objective of this theme is to support skill development and perspectives that increase potential for organizational impact as managers, leaders, mentors, practitioners, and strategists. Presentations will enable participants to return to their jobs with new ideas, techniques, and strategies for improving their ability to assume leadership roles, develop and advance their careers, and assist others in doing the same. Potential topics include the following:\n",
    "\n",
    "    - Organizational impact and influence\n",
    "    - Building infrastructure\n",
    "    - Team building, culture, and strategy\n",
    "    - Diversity, equity, accessibility, justice, and inclusion\n",
    "    - Leadership and management\n",
    "    - Mentoring\n",
    "    - Career development and advancement\n",
    "    - Ethics in statistical practice\n",
    "\n",
    "### Study Design and Data Management\n",
    "\n",
    "The objective of this theme is to provide attendees with practical knowledge about initiation of new projects, impact of study design and sampling, importance of data collection and data management, data engineering, and related challenges for structured and unstructured data. Presentations will feature information relevant to a broad range of applied statisticians working in diverse settings. Potential topics include the following:\n",
    "\n",
    "    - Study design (e.g., experimental, clinical trial, survey research, etc.)\n",
    "    - Sampling methodology\n",
    "    - Statistical analysis plans and case report forms\n",
    "    - Data management\n",
    "    - Data engineering\n",
    "    - Educating others about study design and data\n",
    "\n",
    "### Implementation and Analysis\n",
    "\n",
    "The objective of this theme is to provide attendees with practical knowledge about modeling and analyzing data of various forms through the application of state-of-the-art statistical or machine learning methods. Presentations should use illustrative data analysis examples and may focus on a variety of data types from varied applied settings. Potential topics include the following:\n",
    "\n",
    "    - Modeling\n",
    "    - Inferential statistics (e.g., hypothesis testing)\n",
    "    - Estimation\n",
    "    - Predictive analytics\n",
    "    - Data visualizations\n",
    "    - New software packages or procedures\n",
    "    - Implementing reproducible methods\n",
    "    - Analytics, big data, and unstructured data analytic methods\n",
    "    - Machine learning\n",
    "    - Evidence-guided statistical practice\n",
    "\n",
    "### Effective Communication\n",
    "\n",
    "The objective of this theme is to support skill development that will improve participants' written and verbal communication of both scientific and nonscientific information, thus enabling them to increase their impact as strategic, consultative, and collaborative statisticians. Potential topics include the following:\n",
    "\n",
    "    - Foundations of listening and communication skills across the statistical consultation project\n",
    "    - Understanding your audience\n",
    "    - Communicating with the media\n",
    "    - Communicating with nonstatisticians on an interdisciplinary project\n",
    "    - Communication for consulting and collaboration\n",
    "    - Graphical presentation strategies\n",
    "    - Writing and reviewing manuscripts, reports, grants, white papers, etc.\n",
    "    - Educational efforts in communication\n",
    "\n",
    "\n"
   ]
  },
  {
   "cell_type": "markdown",
   "id": "9cbfbfd8",
   "metadata": {},
   "source": [
    "The 2024 Conference on Statistical Practice will be held at the Ritz-Carlton New Orleans. A limited number of rooms are available at a negotiated group rate, if booked by February 5, 2024, at 5:00 p.m. EST. Please check back for details.\n",
    "\n",
    "- Single/Double Rate: $259\n",
    "- Government: Limited quantity available at prevailing government per diem\n",
    "\n",
    "Housing will open October 5"
   ]
  },
  {
   "cell_type": "markdown",
   "id": "040afe95",
   "metadata": {},
   "source": [
    "### Registration\n",
    "\n",
    "Thank you for your interest in the 2024 Conference on Statistical Practice. Registration will open October 5, 2023.\n",
    "\n",
    "The speaker registration deadline is November 22, 2023. "
   ]
  },
  {
   "cell_type": "code",
   "execution_count": null,
   "id": "607962d7",
   "metadata": {},
   "outputs": [],
   "source": []
  }
 ],
 "metadata": {
  "kernelspec": {
   "display_name": "Python 3 (ipykernel)",
   "language": "python",
   "name": "python3"
  },
  "language_info": {
   "codemirror_mode": {
    "name": "ipython",
    "version": 3
   },
   "file_extension": ".py",
   "mimetype": "text/x-python",
   "name": "python",
   "nbconvert_exporter": "python",
   "pygments_lexer": "ipython3",
   "version": "3.9.12"
  }
 },
 "nbformat": 4,
 "nbformat_minor": 5
}
